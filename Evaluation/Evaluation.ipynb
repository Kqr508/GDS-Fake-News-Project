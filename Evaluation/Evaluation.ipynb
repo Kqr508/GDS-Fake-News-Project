{
 "cells": [
  {
   "cell_type": "markdown",
   "metadata": {},
   "source": [
    "# Model Evaluation"
   ]
  },
  {
   "cell_type": "markdown",
   "metadata": {},
   "source": [
    "## Evaluation on the Testing dataset"
   ]
  },
  {
   "cell_type": "markdown",
   "metadata": {},
   "source": [
    "Jeg indlæser først testing datasættet, som findes i mappen ``Data``, sammen med alle andre datasæt. Desuden ændre jeg kolonnernes navne til hhv. *X* og *Y*, for lættere brug."
   ]
  },
  {
   "cell_type": "code",
   "execution_count": 2,
   "metadata": {},
   "outputs": [
    {
     "data": {
      "application/vnd.microsoft.datawrangler.viewer.v0+json": {
       "columns": [
        {
         "name": "index",
         "rawType": "int64",
         "type": "integer"
        },
        {
         "name": "X",
         "rawType": "object",
         "type": "string"
        },
        {
         "name": "Y",
         "rawType": "object",
         "type": "string"
        }
       ],
       "conversionMethod": "pd.DataFrame",
       "ref": "d0a6cb63-9610-4196-b6b9-494fc26c66d4",
       "rows": [
        [
         "0",
         "['casav', 'pipe', 'organ', 'instal', 'saint', 'john', 'high', 'school', 'tribut', 'former', 'student', 'die', 'second', 'world', 'war', 'need', 'major', 'repair', 'alumni', 'saint', 'john', 'vocat', 'school', 'harbour', 'view', 'high', 'school', 'commiss', 'organ', 'legendari', 'quebec', 'base', 'organ', 'builder', 'casav', 'frère', 'fall', '<DATE>', 'instal', 'dedic', 'ceremoni', '<DATE>', 'honour', 'student', 'alreadi', 'enlist', 'die', 'war', 'cours', 'second', 'world', 'war', '<NUM>', 'student', 'enlist', 'includ', '<NUM>', 'young', 'women', 'fifti', 'three', 'die', 'simon', 'coutur', 'vice', 'presid', 'casav', 'frère', 'say', 'organ', 'cost', '<CUR>', '<NUM>', '<DATE>', 'good', 'deal', 'time', 'organ', 'new', 'actual', 'repurpos', 'instrument', 'instal', 'first', '<DATE>', 'privat', 'home', 'north', 'montreal', 'take', 'organ', 'back', 'year', 'client', 'make', 'payment', 'knowledg', 'uniqu', 'case', 'histori', 'direct', 'link', 'organ', 'compani', 'school', 'joseph', 'ledoux', 'one', 'casav', 'longest', 'serv', 'employe', 'compani', 'repres', 'maritim', '<NUM>', 'year', 'live', 'dougla', 'avenu', 'step', 'away', 'school', 'son', 'paul', 'student', 'enlist', 'canadian', 'forc', 'rather', 'sad', 'stori', 'letter', '<DATE>', 'say', 'coutur', 'say', 'son', 'die', 'war', 'essen', 'germani', 'januari', 'buri', 'mussey', 'franc', '<DATE>', 'total', 'possibl', 'joseph', 'want', 'put', 'organ', 'school', 'close', 'live', 'children', 'went', 'organ', 'like', 'today', 'intric', 'woodwork', 'valu', '<CUR>', '<NUM>', '<CUR>', '<NUM>', '<NUM>', 'year', 'old', 'organ', 'need', 'consider', 'work', 'bring', 'back', 'top', 'condit', 'specif', 'instrument', 'need', 'complet', 'leather', 'said', 'mike', 'molloy', 'former', 'music', 'teacher', 'organ', 'player', 'harbour', 'view', 'high', 'school', 'organ', 'leather', 'suppl', 'soft', 'right', 'almost', 'like', 'brittl', 'cardboard', 'could', 'give', 'time', 'molloy', 'also', 'notic', 'addit', 'issu', 'key', 'consol', 'stick', 'lot', 'wire', 'insid', 'instrument', 'need', 'updat', 'would', 'fairli', 'substanti', 'job', 'pipework', 'would', 'clean', 'coutur', 'estim', 'repair', 'organ', 'could', 'cost', 'much', '<CUR>', '<NUM>', 'mike', 'butler', 'princip', 'harbour', 'view', 'high', 'school', 'say', 'school', 'look', 'way', 'make', 'sure', 'organ', 'gener', 'come', 'discuss', 'fall', 'undertak', 'project', 'first', 'find', 'need', 'done', 'much', 'go', 'cost', 'kind', 'financ', 'could', 'find', 'school', 'contribut', 'commun', 'group', 'might', 'interest', 'poem', 'video', 'mysteri', 'left', 'school', 'secretari', 'desk', 'near', 'date', 'organ', 'dedic', '<DATE>']",
         "reliable"
        ],
        [
         "1",
         "['mike', 'barrett', '<URL>', '<DATE>', 'despit', 'numer', 'research', 'point', 'toxic', 'harm', 'natur', 'fluorid', 'continu', 'ad', 'water', 'suppli', 'tout', 'propos', 'benefit', 'reduc', 'tooth', 'decay', 'caviti', 'develop', 'fluorid', 'ad', 'water', 'suppli', 'signific', 'number', 'citi', 'town', 'alik', 'interestingli', 'research', 'show', 'suppos', 'benefit', 'realli', 'appear', 'fluorid', 'actual', 'posit', 'effect', 'reduc', 'tooth', 'decay', 'caviti', 'develop', 'west', 'virginia', 'univers', 'rural', 'health', 'research', 'center', 'report', 'urban', 'u', 'children', 'exposur', 'fluorid', 'water', 'dental', 'care', 'mani', 'caviti', 'less', 'fluorid', 'expos', 'rural', 'children', 'children', 'dental', 'health', 'measur', 'found', 'fluorid', 'rate', 'significantli', 'relat', 'measur', 'either', 'cari', 'overal', 'condit', 'teeth', 'urban', 'rural', 'area', 'research', 'write', 'sinc', '<DATE>', 'fluorid', 'ad', 'water', 'suppli', 'claim', 'method', 'prevent', 'tooth', 'decay', 'believ', 'still', 'believ', 'primari', 'benefit', 'teeth', 'result', 'fluorid', 'ingest', 'tooth', 'form', 'year', 'howev', 'thought', 'scientist', 'dentist', 'research', 'fluorid', 'primari', 'benefit', 'come', 'topic', 'treatment', 'ingest', 'fluorid', 'also', 'shown', 'ineffect', 'prevent', 'tooth', 'decay', 'pit', 'fissur', 'teeth', 'decay', 'occur', 'research', 'conduct', 'cochran', 'oral', 'health', 'group', 'show', 'ingest', 'fluorid', 'ineffect', 'reduc', 'tooth', 'decay', 'primari', 'teeth', 'research', 'show', 'fluorid', 'supplement', 'ineffect', 'health', 'risk', 'fluorid', 'supplement', 'even', 'studi', 'enough', 'supplement', 'push', 'first', 'place', 'found', 'fluorid', 'supplement', 'heavili', 'endors', 'cdc', 'provid', 'benefit', 'topic', 'treatment', 'safer', 'due', 'minim', 'fluorid', 'ingest', 'ad', 'downfal', 'fluorid', 'use', 'water', 'suppli', 'ineffect', 'tooth', 'protect', 'natur', 'fluorid', 'accompani', 'seriou', 'health', 'relat', 'downfal', '<DATE>', 'shown', 'water', 'fluorid', 'caus', '<NUM>', 'cancer', 'death', 'epidemiolog', 'studi', 'dr', 'dean', 'burk', 'former', 'head', 'cytochemistri', 'section', 'nation', 'cancer', 'institut', 'yiamouyianni', 'anoth', 'research', 'paper', 'document', 'fluorid', 'ingest', 'caus', 'tumor', 'growth', 'rate', 'increas', '<NUM>', '<NUM>', 'ppm', 'part', 'per', 'million', 'also', 'produc', 'melanot', 'tumor', 'increas', 'carcinogenesi', 'chemic', 'base', 'research', 'hand', 'safe', 'say', 'fluorid', 'ingest', 'avoid', 'possibl', 'invest', 'revers', 'osmosi', 'water', 'filtrat', 'unit', 'one', 'solut', 'reduc', 'fluorid', 'ingest', 'drink', 'distil', 'water', '<NUM>', '<NUM>', 'month', 'may', 'also', 'reduc', 'soft', 'tissu', 'fluorid', 'level', 'post', 'first', 'appear', 'natur', 'societi', 'articl', 'post', 'monday', '<DATE>', '<NUM>', '<NUM>', 'print', 'page', '<URL>', 'video', 'comment', 'articl']",
         "fake"
        ],
        [
         "2",
         "['financi', '|', 'thu', '<DATE>', '|', '<NUM>', '<NUM>', 'edt', 'brief', 'aureliu', 'plastipak', 'acquir', 'aureliu', 'unit', 'evolv', 'polym', '<DATE>', 'aureliu', 'equiti', 'opportun', 'se', 'co', 'kgaa', 'plastipak', 'packag', 'inc', 'acquir', 'aureliu', 'subsidiari', 'evolv', 'polym', 'two', 'parti', 'agre', 'reveal', 'financi', 'detail', 'transact', 'british', 'firm', 'sold', 'strateg', 'us', 'acquir', 'plastipak', 'sourc', 'text', 'eikon', 'compani', 'coverag', 'gdynia', 'newsroom', 'next', 'financi']",
         "reliable"
        ],
        [
         "3",
         "['miami', 'dolphin', 'time', 'worri', 'dion', 'jordan', 'headlin', 'bitcoin', 'blockchain', 'search', 'exceed', 'trump', 'blockchain', 'stock', 'next', 'dolphin', 'rooki', 'defens', 'end', 'dion', 'jordan', 'impress', 'start', 'train', 'camp', 'abus', 'left', 'tackl', 'jonathan', 'martin', 'two', 'would', 'sack', 'team', 'intrasquad', 'scrimmag', 'look', 'part', 'high', 'impact', 'rusher', 'cowboy', 'canton', 'took', 'seven', 'snap', 'jacksonvil', 'preseason', 'game', 'number', 'two', 'held', 'team', 'first', 'two', 'practic', 'week', 'sinc', 'obvious', 'taken', 'precaut', 'move', 'forward', 'dion', 'want', 'overload', 'dolphin', 'defens', 'coordin', 'said', 'monday', 'afternoon', 'plan', 'place', 'get', 'readi', 'particip', 'level', 'feel', 'best', 'begin', 'season', 'coyl', 'continu', 'like', 'see', 'much', 'go', 'real', 'care', 'proceed', 'coyl', 'coy', 'jordan', 'prospect', 'crack', 'start', 'lineup', 'either', 'hint', 'rooki', 'compet', 'start', 'role', 'time', 'third', 'round', 'pick', '<DATE>', 'olivi', 'vernon', 'appear', 'entrench', 'starter', 'defens', 'end', 'opposit', 'cameron', 'wake', 'jordan', 'rooki', 'train', 'camp', 'disappoint', 'third', 'overal', 'select', 'april', 'draft', 'would', 'think', 'anyth', 'short', 'earn', 'start', 'spot', 'would', 'disappoint', 'jordan', 'sidelin', 'week', 'practic', 'shoulder', 'oper', 'offseason', 'look', 'act', 'alreadi', 'flash', 'elit', 'athletic', 'made', 'top', 'defens', 'player', 'draft', 'jordan', 'rooki', 'camp', 'rooki', 'season', 'first', 'chapter', 'hope', 'think', 'thorough', 'read', 'dolphin', 'go', 'around', 'quit', 'time', 'expect', 'becom', 'domin', 'pass', 'rusher', 'versatil', 'chess', 'piec', 'year', 'forese', 'futur', 'risk', 'long', 'term', 'health', 'rush', 'action', 'year', 'team', 'would', 'beyond', 'heedless', 'dolphin', 'play', 'safe', 'first', 'round', 'pick', 'logic', 'move', 'make', 'deal', 'player', 'invest', 'much', 'jordan', 'oregon', 'product', 'like', 'need', 'rep', 'practic', 'exhibit', 'game', 'earn', 'start', 'spot', 'miami', 'base', 'defens', 'readi', 'differ', 'maker', 'third', 'down', 'even', 'get', 'anoth', 'snap', 'open', 'cleveland', 'jordan', 'still', 'need', 'work', 'set', 'edg', 'earli', 'run', 'defend', 'pass', 'rush', 'specialist', 'player', 'dolphin', 'move', 'field', 'eleph', 'still', 'readi', 'make', 'kevin', 'coyl', 'defens', 'danger', 'unit', '<DATE>', 'explos', 'athlet', 'latest', 'hiccup', 'jordan', 'develop', 'unfortun', 'like', 'limit', 'soon', 'abl', 'emerg', 'everi', 'player', 'starter', 'dolphin', 'plan', 'give', 'jordan', 'role', 'third', 'down', 'exclus', 'season', 'anyway', 'team', 'beat', 'writer', 'suggest', 'still', 'right', 'schedul', 'provid', 'rooki', 'visit', 'dolphin', 'gab', 'miami', 'dolphin', 'news', 'also', 'follow', 'us', 'twitter', 'facebook', 'sourc', '<URL>']",
         "fake"
        ],
        [
         "4",
         "['<NUM>', 'thing', 'need', 'know', 'european', 'market', 'open', '<NUM>', 'hour', '<NUM>', 'minut', 'ago', 'thousand', 'demonstr', 'took', 'street', 'sever', 'us', 'citi', 'second', 'night', 'nationwid', 'protest', 'stun', 'elect', 'donald', 'trump', 'presid', 'germani', 'want', 'get', 'closer', 'turkey', 'german', 'foreign', 'minist', 'frank', 'walter', 'telegraph', '<NUM>', 'hour', '<NUM>', 'minut', 'ago', 'questor', 'incom', 'portfolio', 'donald', 'trump', 'win', 'threaten', 'incom', 'investor', 'tip', 'growth', 'russia', 'start', 'bring', 'world', 'tech', 'giant', 'heel', 'linkedin', 'first', 'quartz', '<NUM>', 'hour', 'ago', '<DATE>', 'law', 'warn', 'shot', 'kremlin', 'threaten', 'block', 'compani', 'store', 'russian', 'citizen', 'person', 'data', 'non', 'russian', 'server', 'today', 'linkedin', 'becom', 'first', 'big', 'name', 'fall', 'russian', 'court', 'upheld', 'rule', 'ban', 'trump', 'polici', 'base', 'econom', 'growth', 'typic', 'seen', 'wartim', 'quartz', '<NUM>', 'hour', 'ago', 'donald', 'trump', 'presidenti', 'elect', 'famous', 'pledg', 'make', 'america', 'great', 'key', 'measur', 'great', 'econom', 'growth', 'victori', 'speech', 'trump', 'said', 'great', 'econom', 'plan', 'doubl', 'growth', 'donald', 'trump', 'plan', 'make', 'get', 'green', 'card', 'difficult', 'quartz', '<NUM>', 'hour', 'ago', 'world', 'leader', 'seek', 'clariti', 'presid', 'elect', 'donald', 'trump', 'number', 'press', 'issu', 'includ', 'trade', 'relat', 'nato', 'lot', 'guesswork', 'trump', 'polici', 'one', 'thing', 'rest', 'world', 'prepar', 'trump', 'action', 'h', '<NUM>', 'b', 'visa', 'still', 'unclear', 'good', 'indian', 'firm', 'student', 'quartz', '<NUM>', 'hour', 'ago', 'one', 'main', 'agenda', 'donald', 'trump', 'vision', 'statement', 'lead', 'presidenti', 'elect', 'creat', 'secur', 'job', 'american', 'also', 'promis', 'bring', 'back', 'skill', 'job', 'american', 'worker', 'end', 'forev', 'use', 'europ', 'trump', 'ralli', 'evapor', '<NUM>', 'hour', 'ago', 'volatil', 'king', 'stock', 'market', 'right', 'european', 'market', 'open', 'big', 'gain', 'thursday', 'morn', '<NUM>', 'market', 'comment', 'put', 'rise', 'expect', 'infrastructur', 'spend', 'spree', 'presid', 'trump', 'snapchat', 'spectacl', 'buy', 'vend', 'machin', 'quartz', '<NUM>', 'hour', 'ago', 'last', 'time', 'bought', 'anyth', 'bigger', 'soda', 'sandwich', 'vend', 'machin', 'chanc', 'unless', 'realli', 'desper', 'airport', 'best', 'buy', 'electron', 'vend', 'machin', 'probabl', 'bought', 'piec', 'rare', 'harri', 'potter', 'first', 'edit', 'complet', 'typo', 'sell', 'world', 'record', '<CUR>', '<NUM>', 'yahoo', 'financ', 'uk', '<NUM>', 'hour', 'ago', 'rare', 'first', 'edit', 'harri', 'potter', 'philosoph', 'stone', 'sold', 'auction', 'world', 'record', '<CUR>', '<NUM>', 'first', 'edit', 'sold', 'bonham', 'london', 'unnam', 'businessman', 'paid', 'well', '<CUR>', '<NUM>', 'estim', 'simon', 'robert', 'donald', 'trump', 'begin', 'presid', 'five', 'outstand', 'foreign', 'polici', 'challeng', 'quartz', '<NUM>', 'hour', 'ago', 'elect', 'final', 'result', 'stun', 'polit', 'upset', 'modern', 'era', 'realli', 'end', 'begin', 'countri', 'requir', 'larg', 'amount', 'heal', 'elector', 'express', 'record', 'high', 'second', 'ever', 'ferrari', '<NUM>', 'gto', 'produc', 'sale', '<CUR>', '<NUM>', 'million', '<NUM>', 'ford', 'fiesta', '<NUM>', 'hour', 'ago', 'one', 'world', 'rare', 'supercar', 'set', 'becom', 'expens', 'ever', 'sold', 'open', 'market', 'list', '<CUR>', '<NUM>', 'million', 'stun', 'ferrari', '<NUM>', 'gto', 'second', '<NUM>', 'roll', 'maranello', 'product', 'line', '<DATE>', 'presid', 'trump', 'mean', 'healthcar', 'stock', 'morningstar', 'uk', '<NUM>', 'hour', 'ago', 'trump', 'republican', 'clear', 'desir', 'repeal', 'afford', 'care', 'act', 'also', 'known', 'obamacar', 'less', 'clariti', 'healthcar', 'polici', 'except', 'focu', 'reduc', 'regul', '<NUM>', 'credit', 'score', 'myth', 'expos', 'much', 'know', 'credit', 'system', 'yahoo', 'financ', 'uk', '<NUM>', 'hour', 'ago', 'number', 'tv', 'advert', 'press', 'case', 'consum', 'check', 'credit', 'score', 'could', 'forgiven', 'think', 'everyon', 'awar', 'exactli', 'similar', 'proport', 'said', 'never', 'check', 'one', 'ten', 'tata', 'group', 'final', 'explain', 'boot', 'cyru', 'mistri', 'quartz', '<NUM>', 'hour', 'ago', 'two', 'week', 'cyru', 'mistri', 'unceremoni', 'oust', 'tata', 'group', 'chairman', '<CUR>', '<NUM>', 'billion', 'group', 'final', 'state', 'reason', 'move', 'letter', 'media', 'pdf', '<NUM>', 'year', 'old', 'tata', 'group', 'list', 'numer', 'capit', 'punish', 'london', 'poorest', 'worker', 'countri', 'yahoo', 'financ', 'uk', '<NUM>', 'hour', 'ago', 'eye', 'water', 'price', 'properti', 'capit', 'coupl', 'high', 'cost', 'live', 'gener', 'mean', 'london', 'poorest', 'worker', 'countri', 'newspap', 'around', 'world', 'attempt', 'make', 'sens', 'donald', 'trump', 'presid', 'quartz', '<NUM>', 'hour', 'ago', 'yesterday', '<DATE>', 'world', 'press', 'react', 'shock', 'donald', 'trump', 'becom', '<NUM>', 'presid', 'unit', 'state', 'today', 'stun', 'reaction', 'turn', 'contempl', 'world', 'tri', 'make', 'sens', 'histor', 'event', 'telegraph', '<NUM>', 'hour', 'ago', '<CUR>', '<NUM>', 'premium', 'bond', 'five', 'properti', 'retir', '<CUR>', '<NUM>', 'year', 'silicon', 'valley', 'product', 'help', 'shape', 'us', 'elect', 'ceo', 'littl', 'say', 'result', 'quartz', '<NUM>', 'hour', 'ago', 'facebook', 'twitter', 'silicon', 'valley', 'ilk', 'among', 'biggest', 'distributor', 'onlin', 'news', 'us', 'make', 'major', 'player', 'recent', 'conclud', 'presidenti', 'elect', 'yet', 'ceo', 'either', 'issu', 'bland', 'statement', 'stay', 'time', 'money', 'earn', 'burn', 'new', 'fit', 'app', 'reward', 'workout', 'cash', 'yahoo', 'financ', 'uk', '<NUM>', 'hour', 'ago', 'get', 'motiv', 'hit', 'street', 'dreari', 'damp', 'chilli', 'even', 'jog', 'tough', 'ask', 'go', 'extra', 'mile', 'row', 'machin', 'one', 'mani', 'night', 'often', 'step', 'far', 'money', 'time', 'reward', 'kind', '<NUM>', 'european', 'stock', 'dividend', 'growth', 'morningstar', 'uk', '<NUM>', 'hour', 'ago', 'top', 'rate', 'fidel', 'european', 'valu', 'fund', 'manag', 'sam', 'mors', 'pick', 'three', 'stock', 'incom', 'growth', 'includ', 'compani', '<NUM>', 'year', 'posit', 'track', 'record']",
         "reliable"
        ],
        [
         "5",
         "['©', 'ap', 'photo', 'cliff', 'owen', 'chomski', 'call', 'israel', 'aggress', 'violent', 'ahead', 'netanyahu', 'speech', 'unit', 'nation', 'sputnik', 'small', 'fraction', '<CUR>', '<NUM>', 'billion', 'pledg', 'intern', 'donor', 'reconstruct', 'gaza', 'actual', 'reach', 'war', 'torn', 'region', 'outgo', 'unit', 'nation', 'special', 'coordin', 'middl', 'east', 'peac', 'process', 'robert', 'serri', 'said', 'situat', 'non', 'refuge', 'even', 'wors', 'small', 'percentag', '<CUR>', '<NUM>', 'billion', 'pledg', 'cairo', 'reconstruct', 'confer', 'actual', 'disburs', 'frankli', 'unaccept', 'serri', 'said', 'monday', 'final', 'visit', 'gaza', 'un', 'special', 'coordin', 'last', 'octob', 'intern', 'donor', 'pledg', '<CUR>', '<NUM>', 'billion', 'rebuild', 'gaza', 'major', 'donor', 'state', 'qatar', 'unit', 'arab', 'emir', 'turkey', 'promis', '<CUR>', '<NUM>', 'billion', 'cairo', 'confer', '©', 'flickr', 'alkan', 'boudewijn', 'de', 'beaumont', 'chaglar', 'palestin', 'file', 'war', 'crime', 'case', 'israel', 'icc', 'conflict', 'gaza', 'began', 'last', 'juli', 'israel', 'launch', 'oper', 'protect', 'edg', 'hama', 'forc', 'area', 'accord', 'unit', 'nation', '<NUM>', 'palestinian', '<NUM>', 'isra', 'kill', 'oper', 'side', 'agre', 'open', 'end', 'ceasefir', '<DATE>', 'palestinian', 'author', 'estim', '<NUM>', 'residenti', 'build', '<NUM>', 'busi', 'commerci', 'establish', 'damag', 'destroy', 'conflict', 'un', 'relief', 'agenc', 'palestinian', 'refuge', 'forc', 'suspend', 'aid', 'program', 'repair', 'due', 'lack', 'fund', 'agenc', 'said', 'januari']",
         "fake"
        ],
        [
         "6",
         "['peggi', 'bonapac', 'richard', 'lewi', 'gelfond', 'marri', 'friday', 'judg', 'nichola', 'g', 'garaufi', 'chamber', 'feder', 'district', 'court', 'brooklyn', 'photo', 'mr', 'bonapac', 'gelfond', '<NUM>', 'last', 'year', 'print', 'model', 'manhattan', 'graduat', 'state', 'univers', 'new', 'york', 'stoni', 'brook', 'daughter', 'rudolph', 'bonapac', 'deer', 'park', 'n', 'late', 'emma', 'pia', 'polla', 'bonapac', 'bridegroom', '<NUM>', 'chief', 'execut', 'manhattan', 'imax', 'entertain', 'technolog', 'compani', 'base', 'toronto', 'also', 'chairman', 'stoni', 'brook', 'foundat', 'board', 'brookhaven', 'scienc', 'associ', 'manag', 'brookhaven', 'nation', 'laboratori', 'long', 'island', 'new', 'york', 'histor', 'societi', 'also', 'graduat', 'stoni', 'brook', 'receiv', 'law', 'degre', 'northwestern', 'son', 'sara', 'gelfond', 'plainview', 'n', 'late', 'leo', 'gelfond', 'bride', 'previou', 'marriag', 'end', 'divorc', 'bridegroom']",
         "reliable"
        ],
        [
         "7",
         "['honeymoon', 'even', 'sure', 'marriag', 'counsel', 'save', 'one', 'seem', 'mainstream', 'media', 'presid', 'obama', 'break', 'ap', 'liz', 'sidoti', 'goe', 'presid', 'hammer', 'tong', 'barack', 'obama', 'optimist', 'campaign', 'rhetor', 'crash', 'headlong', 'stark', 'realiti', 'govern', 'offic', 'two', 'month', 'backped', 'array', 'issu', 'gingerli', 'shift', 'posit', 'circumst', 'dictat', 'duck', 'polit', 'cover', 'avoid', 'undercut', 'credibl', 'author', 'happen', 'iraq', 'troop', 'withdraw', 'timelin', 'lobbyist', 'administr', 'money', 'lawmak', 'pet', 'project', 'least', 'obama', 'deviat', 'serv', 'invit', 'occasion', 'cri', 'hypocrisi', 'republican', 'infrequ', 'grumbl', 'disappoint', 'democrat', 'popular', 'side', 'seem', 'peopl', 'mostli', 'chalk', 'move', 'much', 'need', 'flexibl', 'difficult', 'time', 'shift', 'could', 'take', 'toll', 'time', 'becom', 'persist', 'pattern', 'public', 'grow', 'weari', 'overal', 'job', 'perform', 'mark', 'could', 'suffer', 'jeopard', 'like', 'elect', 'campaign', '<DATE>', 'peopl', 'could', 'perceiv', 'say', 'one', 'thing', 'anoth', 'politician', 'democrat', 'control', 'congress', 'could', 'see', 'weak', 'chief', 'execut', 'nbc', 'chuck', 'todd', 'say', 'presid', 'credibl', 'problem', 'budget', 'number', 'white', 'hous', 'press', 'corp', 'rough', 'hapless', 'robert', 'gibb', 'virtual', 'everi', 'day', 'aig', 'bonu', 'debacl', 'new', 'york', 'time', 'paul', 'krugman', 'inde', 'gray', 'ladi', 'liber', 'columnist', 'conting', 'huff', 'steve', 'kroft', '<NUM>', 'minut', 'even', 'went', 'far', 'question', 'presid', 'jocular', 'ask', 'impertin', 'presid', 'punch', 'drunk', 'someth', 'obama', 'said', 'snub', 'gridiron', 'dinner', 'even', 'gov', 'arnold', 'schwarzenegg', 'joke', 'assembl', 'press', 'corp', 'certainli', 'come', 'long', 'way', 'sinc', 'giddi', 'day', 'campaign', 'trail', 'nari', 'critic', 'word', 'press', 'corp', 'spoken', 'one', 'lovestruck', 'coupl', 'drift', 'apart']",
         "reliable"
        ],
        [
         "8",
         "['victoria', 'derbyshir', 'leav', 'five', 'live', 'one', 'less', 'woman', 'present', 'bbc', 'half', 'centuri', 'radio', 'broadcast', 'behind', 'safe', 'say', 'one', 'thing', 'broadli', 'speak', 'radio', 'boss', 'prefer', 'men', 'present', 'popular', 'peak', 'time', 'programm', 'sinc', 'alway', 'freelanc', 'broadcast', 'member', 'bbc', 'staff', 'never', 'present', 'meet', 'thing', 'decid', 'howev', 'even', 'briefest', 'look', 'list', 'radio', 'present', 'confirm', 'think', 'media', 'attent', 'moment', 'firmli', 'focus', 'radio', 'five', 'live', 'precis', 'reason', 'despit', 'bbc', 'director', 'gener', 'lord', 'hall', 'declar', 'aim', 'increas', 'number', 'women', 'senior', 'broadcast', 'role', 'radio', 'five', 'live', 'lose', 'two', 'high', 'profil', 'women', 'present', 'despit', 'bbc', 'director', 'gener', 'lord', 'hall', 'declar', 'aim', 'increas', 'number', 'women', 'senior', 'broadcast', 'role', 'radio', 'five', 'live', 'lose', 'two', 'high', 'profil', 'women', 'present', 'jimmi', 'young', 'victoria', 'derbyshir', '<NUM>', 'shelagh', 'fogarti', '<NUM>', 'leav', 'autumn', 'five', 'live', 'left', 'one', 'weekli', 'programm', 'present', 'woman', 'schedul', 'one', 'hour', 'friday', 'afternoon', 'show', 'present', 'eleanor', 'oldroyd', 'sad', 'victoria', 'shelagh', 'go', 'one', 'would', 'think', 'least', 'lord', 'hall', 'would', 'seiz', 'opportun', 'replac', 'two', 'women', 'howev', 'seem', 'opportun', 'miss', 'autumn', 'miss', 'derbyshir', 'replac', 'adrian', 'chile', 'man', 'recent', 'known', 'sport', 'broadcast', 'two', 'day', 'week', 'current', 'drive', 'time', 'present', 'peter', 'allen', 'three', 'octob', 'miss', 'fogarti', 'replac', 'dan', 'walker', 'host', 'bbc', '<NUM>', 'footbal', 'focu', 'sarah', 'brett', 'bbc', 'northern', 'ireland', 'sure', 'repres', 'overal', 'decreas', 'number', 'women', 'present', 'increas', 'number', 'men', 'present', 'station']",
         "fake"
        ],
        [
         "9",
         "['garonzik', 'fredric', 'b', '<NUM>', '<DATE>', 'belov', 'husband', 'ann', 'father', 'david', 'sam', 'brother', 'neal', 'rick', 'mani', 'love', 'cousin', 'nephew', 'born', 'gloversvil', 'new', 'york', 'late', 'ruth', 'harold', 'attend', 'gloversvil', 'public', 'school', 'matricul', 'deerfield', 'academi', 'graduat', '<DATE>', 'receiv', 'b', 'degre', 'polit', 'scienc', 'brown', 'univers', '<DATE>', 'receiv', 'degre', 'work', 'year', 'superb', 'glove', 'compani', 'johnstown', 'new', 'york', 'attend', 'wharton', 'school', 'receiv', 'b', '<DATE>', 'work', 'grey', 'advertis', 'account', 'execut', 'move', 'financi', 'servic', 'industri', 'join', 'goldman', 'sach', 'co', '<DATE>', 'long', 'distinguish', 'career', 'new', 'york', 'london', 'made', 'gener', 'partner', 'goldman', 'sach', '<DATE>', 'retir', '<DATE>', 'co', 'head', 'fix', 'incom', 'currenc', 'commod', 'divis', 'rick', 'truste', 'brown', 'univers', 'head', 'invest', 'committe', 'year', 'serv', 'board', 'union', 'settlement', 'associ', 'american', 'feder', 'age', 'research', 'buckley', 'school', 'rick', 'enjoy', 'outdoor', 'sport', 'kind', 'particularli', 'golf', 'greatest', 'obviou', 'pleasur', 'howev', 'enjoy', 'time', 'famili', 'miss', 'alway', 'famili', 'receiv', 'friend', 'coloni', 'club', '<NUM>', 'park', 'ave', '<NUM>', 'st', 'wednesday', '<DATE>', '<NUM>', '<NUM>', 'pm', 'memori', 'servic', 'held', 'thursday', '<DATE>', '<NUM>', 'unitarian', 'church', 'soul', '<NUM>', 'lexington', 'avenu', '<NUM>', 'street', 'new', 'york', 'new', 'york', 'lieu', 'flower', 'donat', 'may', 'made', 'fredric', 'b', 'garonzik', 'memori', 'fund', 'brown', 'univers', 'box', '<NUM>', 'provid', 'rhode', 'island', '<NUM>', '<NUM>', 'garonzik', 'fredric', 'b', 'board', 'governor', 'member', 'staff', 'deepdal', 'golf', 'club', 'deepli', 'regret', 'untim', 'pass', 'esteem', 'member', 'friend', 'fredric', 'garonzik', 'deepest', 'sympathi', 'extend', 'famili', 'love', 'one', 'dixon', 'boardman', 'presid']",
         "reliable"
        ],
        [
         "10",
         "['live', 'chicago', 'west', 'side', 'dazzl', 'downtown', 'skylin', 'alway', 'seem', 'shimmer', 'view', 'reach', 'mean', 'morn', 'like', 'grow', 'strang', 'normal', 'blue', 'light', 'yellow', 'tape', 'next', 'day', 'quiet', 'move', 'photo', 'memori', 'day', 'weekend', 'new', 'york', 'time', 'track', 'everi', 'shoot', 'citi', 'largest', 'concentr', 'happen', 'six', 'squar', 'mile', 'make', 'chicago', '<NUM>', 'polic', 'district', '<NUM>', 'peopl', 'shot', 'weekend', '<NUM>', 'district', 'three', 'peopl', 'shot', 'stretch', 'walnut', 'street', 'time', 'return', 'block', '<NUM>', 'district', 'memori', 'day', 'weekend', 'shoot', 'occur', 'tri', 'better', 'understand', 'chicago', 'crisi', 'violenc', 'resid', 'along', 'walnut', 'street', 'crime', 'scene', 'told', 'fractur', 'commun', 'isol', 'citi', 'entrench', 'segreg', 'hollow', 'jobless', 'poverti', 'batter', 'resign', 'indiffer', 'grayston', 'home', 'brick', 'cottag', 'line', 'eleg', 'boulevard', 'wide', 'grassi', 'median', 'garfield', 'park', 'known', 'chicago', 'central', 'park', 'sit', '<NUM>', 'middl', 'walnut', 'street', 'one', 'vacant', 'lot', 'long', 'walk', 'path', 'worn', 'young', 'men', 'gather', 'section', 'street', 'neighbor', 'say', 'hear', 'call', 'pill', 'flat', 'slang', 'drug', 'middl', 'day', 'place', 'like', 'cycl', 'reinforc', 'poverti', 'jobless', 'breed', 'underground', 'economi', 'lead', 'jail', 'make', 'harder', 'get', 'job', 'struggl', 'empti', 'school', 'result', 'close', 'institut', 'hold', 'commun', 'togeth', 'segreg', 'throw', 'obstacl', 'econom', 'invest', 'peopl', 'program', 'good', 'intent', 'come', 'go', 'thwart', 'hope', 'reinforc', 'frustrat', 'never', 'quit', 'address', 'underli', 'problem', 'anyway', 'advertis', 'continu', 'read', 'main', 'stori', 'come', 'lethal', 'mix', 'readili', 'avail', 'gun', 'grow', 'number', 'splinter', 'gang', 'group', 'sens', 'among', 'punish', 'carri', 'weapon', 'street', 'never', 'larger', 'risk', 'carri', 'one', 'desper', 'decad', 'depress', 'rage', 'rev', 'marshal', 'e', 'hatch', 'sr', 'given', 'eulog', 'least', '<NUM>', 'victim', 'violenc', 'year', 'say', 'district', 'home', 'new', 'mount', 'pilgrim', 'missionari', 'baptist', 'church', 'concentr', 'one', 'place', 'homicid', 'citywid', '<NUM>', 'percent', 'compar', 'last', 'year', 'shoot', '<NUM>', 'percent', 'five', 'chicago', '<NUM>', 'polic', 'district', 'drive', 'bulk', 'chicago', 'rise', 'south', 'west', 'side', '<NUM>', 'shoot', '<NUM>', 'percent', 'compar', 'year', 'ago', 'homicid', '<NUM>', 'percent', 'far', '<DATE>', '<NUM>', 'peopl', 'kill', 'district', '<NUM>', 'peopl', 'live', 'homicid', 'last', 'year', 'entir', 'citi', 'seattl', 'popul', '<NUM>', 'omaha', '<NUM>', 'buffalo', '<NUM>', 'earli', 'morn', '<DATE>', 'gray', 'car', 'pull', 'walnut', 'street', 'sever', 'teenag', 'wit', 'told', 'time', 'report', 'men', 'big', 'gun', 'got', 'start', 'fire', 'young', 'men', 'porch', 'shell', 'case', 'litter', 'street', 'polic', 'say', 'wit', 'uncoop', 'one', 'arrest', 'within', 'week', 'shoot', 'hazi', 'memori', 'one', 'ask', 'woman', 'live', 'directli', 'across', 'street', 'soon', 'neighbor', 'say', 'larg', 'homemad', 'sign', 'gun', 'condemn', 'slash', 'appear', 'besid', 'vacant', 'lot', 'peopl', 'unsur', 'put', 'sign', 'follow', 'one', 'beneath', 'clatter', 'l', 'train', 'track', 'downtown', 'anoth', 'across', 'children', 'playground', 'novemb', 'someon', 'split', 'walnut', 'street', 'anti', 'violenc', 'sign', 'two', 'curs', 'word', 'scrawl', 'part', 'crumpl', 'remain', 'advertis', 'continu', 'read', 'main', 'stori', 'mostli', 'camouflag', 'ms', 'harri', 'said', 'mean', 'realli', 'chang', 'peopl', 'get', 'shot', 'dead', 'right', 'next', 'sign']",
         "reliable"
        ],
        [
         "11",
         "['eddi', 'redmayn', 'colin', 'farrel', 'fantast', 'beast', 'bromanc', 'pretti', 'fantast', 'present', 'share', 'email', 'find', 'friend', 'easier', 'find', 'beast', 'set', 'fantast', 'beast', 'find', 'eddi', 'redmayn', 'colin', 'farrel', 'forg', 'bromanc', 'earli', 'redmayn', 'play', 'newt', 'scamand', 'oddbal', 'wizard', 'work', 'british', 'ministri', 'magic', 'farrel', 'star', 'perciv', 'grave', 'high', 'rank', 'auror', 'director', 'magic', 'secur', 'macusa', 'warner', 'bro', 'film', 'promo', 'tour', 'kick', 'juli', 'san', 'diego', 'comic', 'con', 'first', 'time', 'redmayn', 'realiz', 'massiv', 'harri', 'potter', 'fanbas', 'actual', 'wand', 'hand', 'guid', 'everyon', 'spell', 'farrel', 'told', 'e', 'news', 'new', 'york', 'citi', 'weekend', 'redmayn', '<NUM>', 'look', 'like', 'go', 'farrel', 'explain', 'least', 'could', 'lay', 'littl', 'deep', 'tissu', 'went', 'watch', 'farrel', 'also', 'whisper', 'someth', 'redmayn', 'ear', 'actor', '<NUM>', 'ask', 'flirt', 'later', 'ask', 'bromanc', 'redmayn', 'gush', 'love', 'man', 'without', 'farrel', 'redmayn', 'might', 'surviv', 'comic', 'con', 'hall', 'h', 'thing', 'hear', 'massiv', 'room', 'fill', 'eight', 'gazillion', 'peopl', 'meant', 'go', 'sort', 'tri', 'buzz', 'peopl', 'excit', 'bit', 'terrifi', 'collin', 'done', 'sort', 'thing', 'saw', 'stand', 'stage', 'sort', 'nervou', 'gentli', 'felt', 'deep', 'tissu', 'massag', 'got', 'therapi', 'tip', 'ear', 'said', 'realli', 'calm', 'magic', 'spell', 'requir', 'fantast', 'beast', 'find', 'theater', '<DATE>', 'tag', 'eddi', 'redmayn', 'colin', 'farrel', 'fantast', 'beast', 'find', 'harri', 'potter', 'movi', 'exclus', 'celebr', 'top', 'stori', 'addit']",
         "reliable"
        ],
        [
         "12",
         "['<NUM>', 'reason', 'need', 'visit', 'kauai', 'lifetim', 'heaven', 'place', 'earth', '😍', '<DATE>', '<NUM>', '<NUM>', 'et', 'landess', 'kearn', 'senior', 'editor', 'huffpost', 'hawaii', 'follow', 'travel', 'blog', 'instagram', 'account', 'almost', 'guarante', 'featur', 'hawaiian', 'island', 'kauai', 'time', 'two', 'blame', 'kauai', 'ultim', 'destin', 'hawaii', 'garden', 'isl', 'check', 'everi', 'essenti', 'travel', 'bucket', 'list', 'beach', 'hike', 'resort', 'mention', 'one', 'natur', 'beauti', 'place', 'earth', 'swiet', 'product', 'via', 'getti', 'imag', 'jaw', 'floor', '😮', '<NUM>', 'reason', 'visit', 'garden', 'island', 'least', 'trust', 'us', 'one', 'magic', 'trip', 'life', '<NUM>', 'bliss', 'beach', 'one', '<NUM>', 'percent', 'obviou', 'said', 'kauai', 'beach', 'everyth', 'ever', 'want', 'stretch', 'sea', 'sand', 'sunbath', 'powder', 'shore', 'wade', 'warm', 'uncloud', 'water', 'enjoy', 'abund', 'coral', 'wildlif', 'find', 'kauai', 'surround', 'water', 'home', 'tunnel', 'beach', 'polihal', 'state', 'park', 'poipu', 'beach', 'tri', 'true', 'classic', 'head', 'particular', 'beach', 'howev', 'sure', 'check', 'weather', 'forecast', 'well', 'ocean', 'condit', 'hawaii', 'shore', 'highli', 'danger', 'number', 'tourist', 'drown', 'state', 'everi', 'year', 'swiet', 'product', 'via', 'getti', 'imag', '<NUM>', 'hike', 'lifetim', 'kalalau', 'trail', 'one', 'toughest', 'albeit', 'worthwhil', 'hike', 'aloha', 'state', 'prepar', 'work', 'hard', 'sweat', 'storm', 'entir', '<NUM>', 'mile', 'roundtrip', 'rest', 'assur', 'hard', 'work', 'come', 'major', 'reward', 'dramat', 'cliff', 'breathtak', 'vista', 'solitari', 'beach', 'worth', 'make', 'gruel', 'two', 'day', 'hike', 'want', 'includ', 'kalalau', 'vacat', 'plan', 'howev', 'need', 'permit', 'train', 'accordingli', 'come', 'prepar', 'wing', 'one', 'scotthanft', 'via', 'getti', 'imag', 'kalalau', 'beach', 'end', 'trail', '<NUM>', 'heavenli', 'hanalei', 'bay', 'cradl', 'tall', 'green', 'cliff', 'popular', 'bay', 'perfect', 'beach', 'kid', 'summertim', 'gentl', 'wave', 'incred', 'sceneri', 'make', 'dead', 'ringer', 'paradis', 'forget', 'bring', 'surfboard', 'sunset', 'center', 'bay', 'absolut', 'seren', 'michel', 'falzon', 'via', 'getti', 'imag', 'ye', 'realli', 'look', 'like', '<NUM>', 'undeni', 'charm', 'one', 'best', 'part', 'kauai', 'small', 'town', 'charm', 'popul', '<NUM>', 'island', 'manag', 'maintain', 'sleepi', 'town', 'feel', 'still', 'cater', 'larg', 'number', 'tourist', 'year', 'waimea', 'town', 'hanapep', 'town', 'great', 'spot', 'grab', 'meal', 'littl', 'shop', 'explor', 'peter', 'french', 'via', 'getti', 'imag', 'hanapep', 'locat', 'south', 'shore', 'kauai', '<NUM>', 'histor', 'hawaii', 'main', 'hawaiian', 'island', 'kauai', 'oldest', 'geolog', 'prove', 'explor', 'kauai', 'rich', 'natur', 'histori', 'pay', 'visit', 'makauwahi', 'cave', 'larg', 'sinkhol', 'teem', 'fossil', 'artifact', 'within', 'cave', 'excav', 'found', 'variou', 'anim', 'bone', 'pollen', 'extinct', 'plant', 'geolog', 'evid', 'past', 'flood', 'hurrican', 'massiv', 'tsunami', 'littl', 'known', 'makauwahi', 'cave', 'one', 'kauai', 'coolest', 'activ', 'photo', 'post', 'lindsay', 'conway', 'lindszbinz', '<DATE>', '<NUM>', '<NUM>', 'pm', 'pdt', '<NUM>', 'grand', 'canyon', 'pacif', 'waimea', 'canyon', 'natur', 'marvel', 'complet', 'live', 'extravag', 'nicknam', 'grand', 'canyon', 'pacif', 'color', 'dip', 'peak', 'home', 'lush', 'veget', 'tower', 'waterfal', 'best', 'view', 'make', 'trip', 'canyon', 'lookout', 'point', 'prepar', 'blown', 'away', 'joshua', 'mccullough', 'phytophoto', 'via', 'getti', 'imag', '<NUM>', 'na', 'pali', 'coast', 'dramat', 'coastlin', 'perhap', 'kauai', 'famou', 'attract', 'vivid', 'color', 'sheer', 'cliff', 'unmatch', 'view', 'ocean', 'make', 'coastlin', 'absolut', 'must', 'see', 'kauai', 'hike', 'kayak', 'along', 'coast', 'take', 'helicopt', 'tour', 'realli', 'go', 'wrong', 'whichev', 'way', 'choos', 'see', 'na', 'pali', 'coast', 'mint', 'imag', 'fran', 'lant', 'via', 'getti', 'imag', '<NUM>', 'littl', 'known', 'coffe', 'kona', 'coffe', 'hawaii', 'big', 'island', 'might', 'name', 'recognit', 'go', 'mean', 'skip', 'coffe', 'island', 'visit', 'kauai', 'coffe', 'compani', 'learn', 'coffe', 'grow', 'process', 'tour', 'ground', 'cours', 'sampl', 'joe', '<DATE>', '<NUM>', '<NUM>', 'pm', 'pdt', '<NUM>', 'luxuri', 'dig', 'though', 'kauai', 'natur', 'beauti', 'major', 'draw', 'island', 'visitor', 'someth', 'said', 'throw', 'bit', 'manmad', 'luxuri', 'mix', 'resort', 'like', 'st', 'regi', 'princevil', 'grand', 'hyatt', 'kauai', 'provid', 'incred', 'pool', 'upscal', 'restaur', 'level', 'relax', 'extravag', 'find', 'elsewher', 'photo', 'post', 'st', 'regi', 'princevil', 'stregiskauai', '<DATE>', '<NUM>', '<NUM>', 'pm', 'pst', '<NUM>', 'wild', 'waterfal', 'hawaiian', 'island', 'known', 'rage', 'waterfal', 'kauai', 'home', 'one', 'wettest', 'place', 'earth', 'mount', 'waialeal', 'dozen', 'fall', 'pour', 'deep', 'canyon', 'access', 'via', 'hike', 'similarli', 'wailua', 'fall', 'famou', 'appear', 'open', 'credit', 'fantasi', 'island', 'essenti', 'easi', 'reach', 'kauai', 'sight', 'waipoo', 'fall', 'locat', 'waimea', 'canyon', 'seen', 'cascad', '<NUM>', 'feet', 'variou', 'lookout', 'point', 'danita', 'delimont', 'via', 'getti', 'imag', 'rainbow', 'rariti', 'wailua', 'fall', '<NUM>', 'contagi', 'relax', 'kauai', 'come', 'plenti', 'excit', 'desper', 'seek', 'peac', 'quiet', 'sleepi', 'island', 'perfect', 'place', 'well', 'set', 'beach', 'chair', 'empti', 'stretch', 'sand', 'plan', 'spend', 'day', 'two', 'loung', 'pool', 'unplug', 'outsid', 'world', 'better', 'way', 'recharg', 'unwind', 'spend', 'qualiti', 'time', 'island', 'middl', 'pacif', 'pfleeger', 'via', 'getti', 'imag', '<NUM>', 'beauti', 'viewpoint', 'hawaii', '<NUM>', 'beauti', 'viewpoint', 'hawaii', '<NUM>', '<NUM>', 'starri', 'sky', 'mauna', 'kea', 'observatori', 'perch', '<NUM>', 'feet', 'sea', 'level', 'night', 'milki', 'way', 'look', 'bright', 'stun', 'practic', 'swim', 'star', 'big', 'island', 'share', 'slide', 'michael', 'orso', 'via', 'getti', 'imag']",
         "reliable"
        ],
        [
         "13",
         "['amin', 'alemi', 'press', 'tv', 'kabul', 'afghanistan', 'ask', 'qatar', 'help', 'shut', 'taliban', 'offic', 'arab', 'state', 'kabul', 'made', 'demand', 'amid', 'surg', 'violenc', 'taliban', 'recent', 'month', 'report', 'amin', 'alemi', 'press', 'tv', 'correspond', 'kabul', 'tri', 'examin', 'hurdl', 'afghanistan', 'peac', 'process']",
         "fake"
        ],
        [
         "14",
         "['say', 'goe', 'want', 'nail', 'kingdom', 'lost', 'ye', 'democrat', 'terri', 'mcauliff', 'friend', 'huge', 'outspent', 'republican', 'ken', 'cuccinelli', 'inde', 'mani', 'usual', 'gop', 'fund', 'sourc', 'virginia', 'awol', 'notic', 'tepid', 'support', 'gop', 'gubernatori', 'nomine', 'terri', 'mani', 'extra', 'million', 'would', 'matter', 'mr', 'cuccinelli', 'refrain', 'make', 'simpl', '<CUR>', '<NUM>', 'mistak', 'time', 'chri', 'lacivita', 'cuccinelli', 'chief', 'strategi', 'guy', 'man', 'stop', 'play', 'victim', 'doubl', 'cross', 'rino', 'moder', 'egotist', 'conserv', 'republican', 'establish', 'sometim', 'good', 'campaign', 'strategi', 'lose', 'big', 'sometim', 'realli', 'bad', 'campaign', 'lose', 'close', 'latter', 'equat', 'happen', 'cuccinelli', 'key', 'cuccinelli', 'loss', 'thu', 'other', 'fail', 'rather', 'cuccinelli', 'campaign', 'fail', 'one', 'simpl', 'issu', 'first', 'poll', 'put', 'washington', 'post', 'earli', 'year', 'found', 'cuccinelli', 'solid', 'favor', 'imag', 'manag', 'hold', 'onto', 'even', 'margin', 'unpopular', 'imag', 'gop', 'nomine', 'base', 'elect', 'result', 'come', 'winner', 'loser', 'fail', 'came', 'stubborn', 'baffl', 'refus', 'part', '<CUR>', '<NUM>', 'ye', 'candid', 'would', 'technic', 'pay', 'person', 'could', 'come', 'legal', 'even', 'untrac', 'campaign', 'end', '<CUR>', '<NUM>', 'amount', 'kind', 'contribut', 'dinner', 'plane', 'ride', 'guest', 'vacat', 'provid', 'jonni', 'william', 'founder', 'virginia', 'base', 'star', 'scientif', 'inc', '<NUM>', 'year', 'old', 'businessman', 'heart', 'feder', 'investig', 'outgo', 'republican', 'governor', 'robert', 'mcdonnel', '<CUR>', '<NUM>', 'contribut', 'legal', 'inde', 'rule', 'valid', 'democrat', 'prosecutor', 'look', 'matter', 'found', 'noth', 'wrong', 'cuccinelli', 'stubbornli', 'refus', 'give', 'money', 'back', 'month', 'say', 'cash', 'gift', 'loan', 'given', 'william', 'mcdonnel', 'differ', 'mcdonnel', 'conced', 'accept', 'william', 'largess', 'paid', 'busi', 'execut', 'back', 'meant', 'cuccinelli', 'matter', 'basic', 'polit', 'campaign', 'refus', 'open', 'door', 'imag', 'alter', 'barrag', 'neg', 'televis', 'ad', 'mcauliff', 'campaign', 'redefin', 'cuccinelli', 'uneth', 'destroy', 'previous', 'clean', 'imag', 'cuccinelli', 'got', 'undermin', '<CUR>', '<NUM>', 'race', 'chang', 'perman', 'key', 'often', 'subtl', 'way', 'everyon', 'side', 'aisl', 'felt', 'evidenc', 'fact', 'cuccinelli', 'month', 'refus', 'eventu', 'paid', 'money', 'say', 'issu', 'becom', 'distract']",
         "reliable"
        ],
        [
         "15",
         "['new', 'york', 'transit', 'museum', 'electr', 'power', 'new', 'york', 'rail', 'continu', 'histor', 'display', 'item', 'museum', 'collect', 'includ', 'switch', 'circuit', 'breaker', 'illustr', 'electr', 'power', 'subway', 'system', 'tuesday', 'friday', '<NUM>', '<NUM>', 'p', 'saturday', 'sunday', '<NUM>', '<NUM>', 'p', 'boerum', 'place', 'schermerhorn', 'street', '<NUM>', '<NUM>', '<NUM>', '<URL>', '<CUR>', '<NUM>', '<CUR>', '<NUM>', 'age', '<NUM>', '<NUM>', '<NUM>', '+', 'free', 'member', 'snug', 'harbor', 'cultur', 'center', 'could', 'see', 'alic', 'austen', 'stori', 'friday', 'sunday', 'music', 'life', 'photograph', 'feminist', 'perform', 'sundog', 'theater', 'direct', 'cynthia', 'cahil', 'book', 'lyric', 'jeffrey', 'harper', 'music', 'loui', 'tucci', 'friday', 'saturday', '<NUM>', 'p', 'sunday', '<NUM>', 'p', '<NUM>', 'richmond', 'terrac', 'livingston', 'staten', 'island', '<NUM>', '<NUM>', '<NUM>', 'ext', '<NUM>', 'snug', '<URL>', '<URL>', '<CUR>', '<NUM>', '<CUR>', '<NUM>', 'student', 'event', 'battl', 'fort', 'washington', 'commemor', 'sunday', 'annual', 'celebr', 'revolutionari', 'war', 'battl', 'fought', 'ultim', 'lost', 'patriot', 'novemb', '<NUM>', 'area', 'upper', 'manhattan', 'refer', 'american', 'gibraltar', 'featur', 'continent', 'encamp', 'craft', 'workshop', 'lectur', 'noon', '<NUM>', 'p', 'cafe', 'lawn', 'fort', 'tryon', 'park', 'reachabl', 'margaret', 'corbin', 'circl', 'fort', 'washington', 'avenu', 'near', 'west', '<NUM>', 'street', 'event', 'sponsor', 'citi', 'depart', 'park', 'recreat', '<NUM>', '<NUM>', '<NUM>', 'ext', '<NUM>', '<URL>', 'free', 'canstruct', '<DATE>', 'tuna', 'tuna', 'becom', 'part', 'annual', 'art', 'instal', 'draw', 'attent', 'plight', 'needi', 'new', 'yorker', '<NUM>', 'team', 'architect', 'engin', 'design', 'creat', 'art', 'piec', 'can', 'food', 'includ', 'model', 'brooklyn', 'bridg', 'convers', 'sneaker', 'traffic', 'sign', 'instal', 'also', 'competit', 'close', 'can', 'donat', 'citi', 'harvest', 'distribut', 'around', 'citi', 'view', 'hour', 'daili', '<NUM>', '<NUM>', 'p', 'till', '<NUM>', 'p', '<DATE>', 'world', 'financi', 'center', '<NUM>', 'vesey', 'street', 'lower', 'manhattan', '<NUM>', '<NUM>', '<NUM>', '<URL>', 'admiss', 'free', 'visitor', 'encourag', 'donat', 'can', 'good', 'clown', 'full', 'tilt', 'muse', 'aesthet', 'friday', 'sunday', 'thursday', '<DATE>', 'clown', 'clown', 'clown', 'regardless', 'gender', 'might', 'question', 'laugh', 'perform', 'femal', 'clown', 'troup', 'clown', 'ex', 'machina', 'group', 'form', 'five', 'year', 'ago', 'kendal', 'cornel', 'leader', 'perform', 'thursday', 'saturday', '<NUM>', '<NUM>', 'p', 'sunday', '<NUM>', '<NUM>', 'p', 'la', 'mama', '<NUM>', 'east', 'fourth', 'street', 'east', 'villag', '<NUM>', '<NUM>', '<NUM>', '<URL>', '<CUR>', '<NUM>', '<CUR>', '<NUM>', 'student', '<CUR>', '<NUM>', '<NUM>', 'younger', 'friend', 'dag', 'hammarskjold', 'plaza', 'street', 'fair', 'saturday', '<NUM>', '<NUM>', 'p', 'lexington', 'avenu', '<NUM>', '<NUM>', 'street', 'grand', 'central', 'termin', 'holiday', 'fair', 'monday', '<DATE>', 'annual', 'holiday', 'fair', 'featur', 'craftspeopl', 'item', 'around', 'world', 'set', 'vanderbilt', 'hall', 'hour', 'monday', 'saturday', '<NUM>', '<NUM>', 'p', 'sunday', '<NUM>', '<NUM>', 'p', 'close', 'thanksgiv', 'day', 'till', '<NUM>', 'p', 'christma', 'eve', 'vanderbilt', 'avenu', '<NUM>', 'street', 'free', 'advertis', 'continu', 'read', 'main', 'stori', 'great', 'third', 'avenu', 'fair', 'sunday', '<NUM>', '<NUM>', 'p', '<NUM>', '<NUM>', 'street', 'sponsor', 'ladi', 'scapular', 'st', 'stephen', 'church', 'new', 'york', 'comedi', 'festiv', 'sunday', 'laugh', 'continu', 'note', 'funni', 'peopl', 'appear', 'around', 'town', 'weekend', 'perform', 'includ', 'traci', 'morgan', 'friday', '<NUM>', 'p', 'beacon', 'theater', 'saturday', 'lineup', 'includ', 'kathi', 'griffin', 'carnegi', 'hall', '<NUM>', 'p', 'bill', 'maher', 'beacon', 'theater', '<NUM>', '<NUM>', 'p', 'sarah', 'silverman', 'friend', 'brooklyn', 'academi', 'music', '<NUM>', 'p', 'full', 'schedul', 'locat', '<URL>', 'beacon', 'theater', '<NUM>', 'broadway', '<NUM>', 'street', '<NUM>', '<NUM>', '<NUM>', '<URL>', '<CUR>', '<NUM>', '<CUR>', '<NUM>', 'town', 'hall', '<NUM>', 'west', '<NUM>', 'street', 'manhattan', '<NUM>', '<NUM>', '<NUM>', 'townhal', '<URL>', '<CUR>', '<NUM>', '<CUR>', '<NUM>', 'carnegi', 'hall', '<NUM>', '<NUM>', '<NUM>', '<URL>', '<CUR>', '<NUM>', '<CUR>', '<NUM>', 'harvey', 'theater', 'brooklyn', 'academi', 'music', '<NUM>', 'fulton', 'street', 'fort', 'green', 'brooklyn', '<NUM>', '<NUM>', '<NUM>', '<URL>', '<CUR>', '<NUM>', '<CUR>', '<NUM>', 'perform', 'tour', 'high', 'line', 'friday', 'saturday', 'monday', 'elev', 'west', 'side', 'promenad', 'star', 'set', 'two', 'event', 'weekend', 'friday', 'walk', 'along', 'weather', 'permit', 'includ', 'tour', 'neighbor', 'chelsea', 'led', 'big', 'onion', 'walk', 'tour', 'meet', '<NUM>', 'p', 'front', 'chelsea', 'hotel', '<NUM>', 'west', '<NUM>', 'street', '<CUR>', '<NUM>', '<CUR>', '<NUM>', 'student', '<NUM>', '+', '<NUM>', '<NUM>', '<NUM>', '<URL>', 'saturday', 'noon', 'rain', 'date', 'sunday', 'monday', '<NUM>', '<NUM>', 'p', 'rain', 'shine', 'high', 'line', 'set', 'free', 'travel', 'perform', 'piec', 'incorpor', 'danc', 'music', 'aerob', 'perform', 'tyler', 'ashley', 'sarah', 'present', 'performa', '<NUM>', 'friend', 'high', 'line', 'audienc', 'member', 'invit', 'join', 'begin', 'high', 'line', 'west', '<NUM>', 'street', 'travel', 'south', 'littl', 'west', '<NUM>', 'street', '<URL>', 'veteran', 'day', 'block', 'parti', 'friday', '<NUM>', '<NUM>', 'p', '<NUM>', 'street', 'madison', 'avenu', 'avenu', 'america', 'veteran', 'day', 'festiv', 'friday', '<NUM>', '<NUM>', 'p', 'broadway', 'cedar', 'street', 'batteri', 'place', 'whitehal', 'street', 'stone', 'water', 'street', 'newslett', 'sign', 'continu', 'read', 'main', 'stori', 'pleas', 'verifi', 'robot', 'click', 'box', 'invalid', 'email', 'address', 'pleas', 'enter', 'must', 'select', 'newslett', 'subscrib', 'sign', 'agre', 'receiv', 'occasion', 'updat', 'special', 'offer', 'new', 'york', 'time', 'product', 'servic', 'thank', 'subscrib', 'error', 'occur', 'pleas', 'tri', 'later', 'view', 'new', 'york', 'time', 'newslett', 'veteran', 'day', 'parad', 'friday', 'annual', 'tribut', 'arm', 'forc', 'sponsor', 'unit', 'war', 'veteran', 'council', 'featur', 'thousand', 'particip', 'includ', 'activ', 'servic', 'veteran', 'recipi', 'congression', 'medal', 'honor', 'among', 'well', 'public', 'offici', 'actor', 'like', 'cuba', 'good', 'jr', 'tom', 'selleck', 'year', 'dedic', '<NUM>', 'anniversari', '<DATE>', 'begin', '<NUM>', '<NUM>', 'fifth', 'avenu', '<NUM>', 'street', 'travel', 'north', '<NUM>', 'street', 'ceremoni', '<NUM>', 'nearbi', 'madison', 'squar', 'park', 'preced', 'parad', 'westbeth', 'artist', 'hous', 'recess', 'proof', 'sale', 'friday', 'sunday', 'proce', 'sale', 'cloth', 'home', 'good', 'toy', 'sponsor', 'westbeth', 'beautif', 'committe', 'benefit', 'commun', 'project', 'program', 'well', 'charit', 'organ', 'like', 'red', 'cross', 'doctor', 'without', 'border', 'friday', 'saturday', '<NUM>', '<NUM>', 'p', 'sunday', '<NUM>', '<NUM>', 'p', 'westbeth', 'artist', 'hous', 'underground', '<NUM>', 'bethun', 'street', '<NUM>', '<NUM>', '<NUM>', '<URL>', 'free', 'spoken', 'word', 'beyond', 'amaz', 'creativ', 'innov', 'world', 'magic', 'thursday', 'four', 'magician', 'make', 'busi', 'let', 'see', 'sleev', 'talk', 'demonstr', 'art', 'magic', '<NUM>', 'centuri', 'take', 'part', 'event', '<NUM>', 'p', 'steve', 'cohen', 'joshua', 'jay', 'eric', 'jone', 'todd', 'robbin', 'herb', 'scher', 'writer', 'photograph', 'moder', 'new', 'york', 'public', 'librari', 'perform', 'art', '<NUM>', 'lincoln', 'center', 'plaza', '<NUM>', '<NUM>', '<NUM>', '<URL>', 'free', 'convers', 'dr', 'izzeldin', 'abuelaish', 'sunday', 'dr', 'abuelaish', 'palestinian', 'doctor', 'work', 'isra', 'hospit', 'author', 'shall', 'hate', 'gaza', 'doctor', 'journey', 'road', 'peac', 'human', 'digniti', 'discuss', 'life', 'work', 'mark', 'rosenblum', 'histori', 'professor', 'director', 'center', 'jewish', 'studi', 'queen', 'colleg', 'reserv', 'necessari', 'made', 'call', '<NUM>', '<NUM>', '<NUM>', 'extens', '<NUM>', 'e', 'mail', 'pkurtz', '<URL>', '<NUM>', 'p', 'forest', 'hill', 'jewish', 'center', '<NUM>', '<NUM>', 'queen', 'boulevard', '<URL>', '<CUR>', '<NUM>', '<CUR>', '<NUM>', 'advanc', 'advertis', 'continu', 'read', 'main', 'stori', 'staten', 'island', 'outloud', 'poetic', 'work', 'tagor', 'sunday', 'poetri', 'indian', 'writer', 'rabindranath', 'tagor', 'receiv', 'nobel', 'prize', 'literatur', '<DATE>', 'center', 'stage', 'read', 'group', 'staten', 'island', 'outloud', '<NUM>', 'p', 'written', 'bengali', 'tagor', 'piec', 'accompani', 'translat', 'english', 'hindi', 'staten', 'island', 'hindu', 'templ', '<NUM>', 'victori', 'boulevard', '<NUM>', '<NUM>', '<NUM>', '<URL>', 'free', 'uptown', 'showdown', 'cat', 'vs', 'dog', 'monday', 'think', 'colleg', 'debat', 'team', 'frat', 'boy', 'anim', 'hous', 'one', 'find', 'comedi', 'debat', 'seri', 'featur', 'comedian', 'writer', 'comedi', 'show', 'includ', 'mile', 'late', 'night', 'jimmi', 'fallon', 'andrea', 'rosen', 'upright', 'citizen', 'brigad', 'michael', 'showalt', 'author', 'mr', 'funni', 'pant', 'grand', 'central', 'publish', '<DATE>', 'debat', 'topic', 'run', 'gamut', 'lose', 'team', 'mayb', 'earn', 'pie', 'face', 'symphoni', 'space', '<NUM>', 'broadway', '<NUM>', 'street', '<NUM>', '<NUM>', '<NUM>', '<URL>', '<CUR>', '<NUM>', 'wolcott', 'gibb', 'discuss', 'monday', 'discuss', 'devot', 'life', 'work', 'note', 'writer', 'new', 'yorker', 'die', '<DATE>', 'featur', 'writer', 'mark', 'singer', 'kurt', 'anderson', 'thoma', 'vinciguerra', 'editor', 'antholog', 'backward', 'ran', 'sentenc', 'best', 'wolcott', 'gibb', 'new', 'yorker', '<NUM>', 'p', 'new', 'school', 'theresa', 'lang', 'commun', 'student', 'center', '<NUM>', 'west', '<NUM>', 'street', 'greenwich', 'villag', '<URL>', 'free', 'walk', 'tour', 'food', 'lower', 'east', 'side', 'friday', 'saturday', 'immigr', 'histori', 'lower', 'east', 'side', 'observ', 'tast', 'tour', 'area', 'includ', 'stop', 'food', 'sampl', 'sponsor', 'lower', 'east', 'side', 'tenement', 'museum', 'tour', 'meet', '<NUM>', 'p', 'visitor', 'center', '<NUM>', 'orchard', 'street', 'cost', '<CUR>', '<NUM>', '<CUR>', '<NUM>', 'children', 'student', '<NUM>', '+', '<CUR>', '<NUM>', 'member', 'museum', '<NUM>', 'orchard', 'street', '<NUM>', '<NUM>', '<NUM>', '<URL>', 'garment', 'center', 'walk', 'tour', 'friday', 'futur', 'garment', 'district', 'one', 'topic', 'address', 'tour', 'led', 'mike', 'kaback', 'meet', '<NUM>', '<NUM>', 'broadway', 'southwest', 'corner', 'broadway', '<NUM>', 'street', '<NUM>', '<NUM>', '<NUM>', '<URL>', '<CUR>', '<NUM>', 'grand', 'central', 'termin', 'walk', 'tour', 'wednesday', 'histor', 'termin', 'date', '<DATE>', 'subject', 'weekli', 'tour', 'wednesday', '<NUM>', '<NUM>', 'p', 'led', 'municip', 'art', 'societi', 'meet', 'inform', 'booth', 'main', 'concours', 'photo', 'id', 'requir', '<NUM>', '<NUM>', '<DATE>', '<URL>', '<CUR>', '<NUM>', 'depth', 'walk', 'tour', 'new', 'york', 'oldest', 'narrowest', 'crookedest', 'street', 'saturday', 'sunday', 'thought', 'citi', 'street', 'strictli', 'grid', 'tour', 'meet', '<NUM>', 'front', 'triniti', 'church', 'broadway', 'wall', 'street', '<NUM>', '<NUM>', '<NUM>', '<URL>', '<CUR>', '<NUM>', '<CUR>', '<NUM>', '<NUM>', '+', 'joyc', 'gold', 'histori', 'tour', 'new', 'york', 'irish', 'hell', 'kitchen', 'saturday', 'new', 'resid', 'clinton', 'may', 'know', 'resid', 'former', 'hardscrabbl', 'neighborhood', 'long', 'known', 'hell', 'kitchen', 'histori', 'area', 'predominantli', 'irish', 'immigr', 'call', 'home', 'cover', 'tour', 'meet', '<NUM>', 'p', 'southeast', 'corner', 'ninth', 'avenu', '<NUM>', 'street', '<NUM>', '<NUM>', '<NUM>', '<URL>', '<CUR>', '<NUM>', '<CUR>', '<NUM>', '<NUM>', '+', 'advertis', 'continu', 'read', 'main', 'stori', 'noshwalk', 'woodsid', 'saturday', 'littl', 'bit', 'everyth', 'sampl', 'tour', 'queen', 'includ', 'stop', 'place', 'offer', 'irish', 'filipino', 'mexican', 'french', 'chines', 'cuban', 'food', 'meet', '<NUM>', 'p', 'vincent', 'daniel', 'squar', '<NUM>', 'street', 'roosevelt', 'avenu', '<CUR>', '<NUM>', '<CUR>', '<NUM>', 'subscrib', '<CUR>', '<NUM>', 'children', '<NUM>', '<NUM>', '<URL>', 'union', 'squar', 'crossroad', 'new', 'york', 'saturday', 'tour', 'focus', 'area', 'polit', 'histori', 'meet', '<NUM>', 'p', 'statu', 'lincoln', 'union', 'squar', 'park', 'near', '<NUM>', 'street', 'transvers', 'sponsor', 'union', 'squar', 'partnership', '<NUM>', '<NUM>', '<NUM>', '<URL>', 'free', 'ann', 'mancuso']",
         "reliable"
        ],
        [
         "16",
         "['young', 'wizard', 'fan', 'break', 'tear', 'watch', 'team', 'lose', '<NUM>', 'er', 'young', 'wizard', 'fan', 'break', 'tear', 'watch', 'team', 'lose', '<NUM>', 'er', 'thursday', '<DATE>', '<NUM>', '<NUM>', 'tough', 'wizard', 'fan', 'small', 'fan', 'sum', 'sentiment', 'wednesday', 'night', 'camera', 'pick', 'young', 'boy', 'break', 'tear', 'watch', 'favorit', 'team', 'fall', 'lowli', '<NUM>', 'er', '<NUM>', '<NUM>', 'clip', 'made', 'way', 'around', 'internet', 'sure', 'becom', 'next', 'meme', 'blame', 'kid', 'worri', 'kid', 'still', 'got', 'john', 'wall', 'wizard', '<NUM>', '<NUM>', 'shot', '<NUM>', 'field', 'let', 'philadelphia', 'team', 'one', 'win', 'head', 'game', 'beat', 'without', 'joel', 'embiid', 'posit', 'note', 'john', 'wall', 'drop', '<NUM>', 'point', 'wizard', 'still', 'go', 'join', 'convers']",
         "reliable"
        ],
        [
         "17",
         "['unit', 'state', 'european', 'union', 'pledg', 'nearli', '<CUR>', '<NUM>', 'million', 'confer', 'brussel', 'shore', 'overmatch', 'nearli', 'broke', 'african', 'union', 'forc', 'darfur', 'region', 'sudan', 'money', 'short', 'term', 'fix', 'intend', 'allow', '<NUM>', 'member', 'african', 'forc', 'keep', 'oper', 'end', 'year', 'african', 'union', 'said', 'recent', 'summit', 'meet', 'gambia', 'could', 'continu', 'oper', 'darfur', 'peacekeep', 'mission', 'want', 'hand', 'unit', 'nation', 'unit', 'nation', 'want', 'take', 'mission', 'far', 'sudanes', 'govern', 'firmli', 'refus', 'allow', 'unit', 'nation', 'troop', 'deploy', 'darfur', 'region', 'grown', 'even', 'violent', 'recent', 'month', 'disput', 'unit', 'nation', 'forc', 'drag']",
         "reliable"
        ],
        [
         "18",
         "['ga', 'price', 'climb', 'ga', 'price', 'surg', 'drag', 'consum', 'budget', 'leav', 'less', 'money', 'spend', 'elsewher', 'converg', 'fall', 'home', 'price', 'acceler', 'inflat', 'put', 'feder', 'reserv', 'offici', 'quandari', 'interest', 'rate', 'increas', 'c', '<NUM>', 'white', 'hous', 'said', 'oppos', 'bill', 'would', 'give', 'bargain', 'power', 'homeown', 'face', 'foreclosur', 'c', '<NUM>', 'test', 'pilot', 'age', 'mismatch', 'pilot', 'delta', 'air', 'line', 'northwest', 'airlin', 'slow', 'talk', 'combin', 'union', 'senior', 'list', 'could', 'scuttl', 'merger', 'c', '<NUM>', 'googl', 'stumbl', 'googl', 'share', 'drop', '<NUM>', 'percent', 'report', 'said', 'click', 'googl', 'ad', 'flat', 'januari', 'compar', 'year', 'earlier', 'c', '<NUM>', 'chase', 'jay', 'lenonearli', 'two', 'year', 'offici', 'court', 'host', 'tonight', 'show', 'suitor', 'begin', 'make', 'discreet', 'overtur', '<NUM>', 'scrutin', 'tax', 'record', 'follow', 'exampl', 'author', 'germani', 'unit', 'state', 'investig', 'tax', 'evas', 'liechtenstein', 'c', '<NUM>', 'anemia', 'drug', 'risk', 'studi', 'clinic', 'trial', 'show', 'signific', 'increas', 'risk', 'death', 'among', 'cancer', 'patient', 'given', 'anemia', 'drug', 'sold', 'amgen', 'johnson', 'johnson', 'c', '<NUM>', 'bank', 'pressur', 'small', 'midsiz', 'bank', 'begin', 'feel', 'strain', 'credit', 'crisi', 'squeez', 'local', 'busi', 'depend', 'lender', 'financ', 'c', '<NUM>', 'refin', 'art', 'coffe', 'starbuck', 'close', '<NUM>', 'american', 'store', 'three', 'hour', 'retrain', 'session', 'barista', 'effort', 'improv', 'experi', 'custom', 'regain', 'howard', 'schultz', 'compani', 'chief', 'execut', 'call', 'soul', 'past', 'c', '<NUM>', 'confid', 'gmacdespit', 'loss', 'gmac', 'chief', 'financi', 'offic', 'gener', 'motor', 'said', 'automak', 'expect', 'unit', 'profit', 'c', '<NUM>', 'protest', 'propos', 'pay', 'cut', 'call', 'unfair', 'labor', 'practic', 'unit', 'automobil', 'worker', 'union', 'struck', 'part', 'manufactur', 'c', '<NUM>', 'prepar', 'merger', 'day', 'electron', 'art', 'submit', 'buyout', 'offer', 'take', 'two', 'interact', 'board', 'vote', 'increas', 'manag', 'compens', 'case', 'merger', 'c', '<NUM>', 'internet', 'campaign', 'maker', 'pacifico', 'import', 'beer', 'use', 'web', 'site', 'reach', 'consum', 'video', 'evok', 'trip', 'mexico', 'advertis', 'stuart', 'elliott', 'c', '<NUM>', 'photo']",
         "reliable"
        ],
        [
         "19",
         "['democrat', 'long', 'seen', 'immigr', 'best', 'exampl', 'mr', 'romney', 'move', 'right', 'bitterli', 'contest', 'republican', 'primari', 'could', 'complic', 'abil', 'creat', 'broad', 'gener', 'elect', 'coalit', 'primari', 'season', 'mr', 'romney', 'oppos', 'dream', 'act', 'propos', 'legisl', 'would', 'allow', 'mani', 'young', 'illeg', 'immigr', 'remain', 'countri', 'would', 'given', 'path', 'citizenship', 'move', 'gener', 'elect', 'confront', 'need', 'compet', 'latino', 'voter', 'campaign', 'tri', 'finess', 'issu', 'say', 'focu', 'outreach', 'hispan', 'would', 'job', 'economi', 'initi', 'respons', 'mr', 'obama', 'decis', 'friday', 'focu', 'less', 'substanc', 'unilater', 'natur', 'speak', 'event', 'milford', 'n', 'h', 'friday', 'mr', 'romney', 'critic', 'presid', 'execut', 'order', 'make', 'difficult', 'reach', 'long', 'term', 'solut', 'deal', 'fate', 'young', 'peopl', 'unit', 'state', 'illeg', 'fault', 'mr', 'romney', 'respond', 'question', 'whether', 'would', 'repeal', 'mr', 'obama', 'order', 'elect', 'substanc', 'tone', 'remark', 'soften', 'postur', 'struck', 'republican', 'primari', 'fight', 'said', 'would', 'veto', 'bill', 'allow', 'children', 'brought', 'countri', 'illeg', 'immigr', 'becom', 'perman', 'resid', 'video', 'return', 'home', 'appli', 'get', 'line', 'everyon', 'els', 'mr', 'romney', 'said', 'debat', 'januari', 'posit', 'appar', 'shift', 'influenc', 'senat', 'marco', 'rubio', 'florida', 'prepar', 'republican', 'version', 'dream', 'act', 'similar', 'presid', 'order', 'friday', 'congression', 'republican', 'point', 'critic', 'care', 'oppos', 'kind', 'solut', 'problem', 'young', 'peopl', 'countri', 'illeg', 'product', 'otherwis', 'law', 'abid', 'resid', 'senat', 'lindsey', 'graham', 'republican', 'south', 'carolina', 'denounc', 'possibl', 'illeg', 'essenti', 'bypass', 'lawmak', 'mr', 'rubio', 'said', 'announc', 'would', 'welcom', 'news', 'mani', 'kid', 'desper', 'answer', 'go', 'around', 'congress', 'presid', 'made', 'harder', 'find', 'balanc', 'respons', 'long', 'term', 'solut', 'newslett', 'sign', 'continu', 'read', 'main', 'stori', 'pleas', 'verifi', 'robot', 'click', 'box', 'invalid', 'email', 'address', 'pleas', 'enter', 'must', 'select', 'newslett', 'subscrib', 'sign', 'agre', 'receiv', 'occasion', 'updat', 'special', 'offer', 'new', 'york', 'time', 'product', 'servic', 'thank', 'subscrib', 'error', 'occur', 'pleas', 'tri', 'later', 'view', 'new', 'york', 'time', 'newslett', 'caution', 'reflect', 'concern', 'within', 'republican', 'parti', 'risk', 'give', 'chanc', 'win', 'polit', 'allegi', 'hispan', 'elect', 'year', 'come', 'though', 'dream', 'act', 'origin', 'co', 'sponsor', 'conserv', 'republican', 'senat', 'orrin', 'g', 'hatch', 'utah', 'recent', 'year', 'conserv', 'work', 'block', 'chang', 'immigr', 'polici', 'would', 'provid', 'path', 'citizenship', 'illeg', 'immigr', 'mani', 'conserv', 'back', 'measur', 'limit', 'right', 'illeg', 'immigr', 'alreadi', 'unit', 'state', 'jeb', 'bush', 'former', 'florida', 'governor', 'call', 'week', 'parti', 'connect', 'hispan', 'voter', 'mr', 'obama', 'announc', 'former', 'gov', 'haley', 'barbour', 'mississippi', 'told', 'report', 'washington', 'friday', 'republican', 'polit', 'busi', 'reason', 'support', 'plan', 'let', 'worker', 'citizen', 'stay', 'countri', 'advertis', 'continu', 'read', 'main', 'stori', 'believ', 'america', 'global', 'battl', 'capit', 'mr', 'barbour', 'said', 'worker', 'length', 'time', 'path', 'citizenship', 'secur', 'knowledg', 'abl', 'work', 'mani', 'hispan', 'leader', 'critic', 'presid', 'address', 'immigr', 'friday', 'said', 'welcom', 'move', 'whatev', 'motiv', 'know', 'polit', 'like', 'polit', 'said', 'robert', 'meza', 'democrat', 'state', 'senat', 'phoenix', 'peopl', 'smart', 'enough', 'know', 'cours', 'polit', 'agenda', 'move', 'forward', 'happi', 'mr', 'romney', 'warn', 'republican', 'find', 'better', 'way', 'appeal', 'hispan', 'voter', 'spell', 'doom', 'us', 'campaign', 'conclud', 'far', 'outreach', 'econom', 'messag', 'modul', 'anti', 'illeg', 'immigr', 'stanc', 'mr', 'romney', 'took', 'primari', 'advis', 'observ', 'poll', 'show', 'hispan', 'voter', 'rank', 'job', 'economi', 'press', 'issu', 'follow', 'educ', 'advis', 'argu', 'mr', 'romney', 'lose', 'expos', 'charg', 'shift', 'posit', 'illeg', 'immigr', 'gain', 'appeal', 'slice', 'latino', 'constitu', 'rank', 'immigr', 'top', 'concern', 'voter', 'alreadi', 'support', 'mr', 'obama']",
         "reliable"
        ],
        [
         "20",
         "['lawless', 'societi', 'news', 'lawless', 'societi', 'depress', 'place', 'live', 'place', 'complet', 'without', 'law', 'go', 'lawless', 'might', 'appeal', 'talk', 'end', 'law', 'requir', 'wear', 'bicycl', 'helmet', 'drink', 'small', 'soda', 'even', 'law', 'order', 'pay', 'recycl', 'pay', 'tax', 'join', 'war', 'law', 'also', 'ordin', 'command', 'compuls', 'realli', 'differ', 'parent', 'tell', 'wash', 'behind', 'ear', 'mugger', 'order', 'give', 'money', 'might', 'right', 'wrong', 'law', 'law', 'exist', 'apart', 'group', 'peopl', 'given', 'time', 'want', 'age', 'natur', 'unit', 'state', 'constitut', 'strength', 'farther', 'away', 'travel', '<NUM>', 'less', 'foibl', 'frailti', 'framer', 'affect', 'us', 'transitori', 'human', 'thing', 'fall', 'away', 'leav', 'essenc', 'law', 'bill', 'right', 'draft', 'today', 'would', 'look', 'differ', 'back', 'would', 'second', 'amend', 'other', 'would', 'read', 'dramat', 'differ', 'would', 'sever', 'restrict', 'govern', 'power', 'would', 'unlimit', 'freedom', 'speech', 'entir', 'thing', 'would', 'run', 'thousand', 'page', 'would', 'fill', 'sort', 'escap', 'claus', 'ad', 'togeth', 'would', 'render', 'whole', 'thing', 'meaningless', 'take', 'exampl', 'eu', 'charter', 'fundament', 'right', 'includ', 'dozen', 'new', 'right', 'right', 'asylum', 'right', 'environment', 'protect', 'consum', 'protect', 'right', 'social', 'secur', 'addit', 'basic', 'right', 'familiar', 'american', 'come', 'simpl', 'addendum', 'limit', 'exercis', 'right', 'freedom', 'recognis', 'charter', 'must', 'provid', 'law', 'respect', 'essenc', 'right', 'freedom', 'subject', 'principl', 'proportion', 'limit', 'may', 'made', 'necessari', 'genuin', 'meet', 'object', 'gener', 'interest', 'recognis', 'union', 'need', 'protect', 'right', 'freedom', 'other', 'say', 'freedom', 'speech', 'compel', 'argument', 'made', 'ban', 'someon', 'freedom', 'speech', 'help', 'protect', 'gener', 'interest', 'european', 'union', 'right', 'other', 'environment', 'protect', 'social', 'secur', 'essenc', 'lawless', 'societi', 'say', 'oodl', 'oodl', 'law', 'mere', 'complic', 'way', 'power', 'enforc', 'other', 'want', 'forc', 'peopl', 'someth', 'need', 'studi', 'enough', 'claus', 'lay', 'reason', 'done', 'law', 'sens', 'mugger', 'put', 'gun', 'head', 'law', 'gun', 'make', 'law', 'law', 'appli', 'appli', 'larger', 'univers', 'fashion', 'mugger', 'choos', 'suspend', 'law', 'whim', 'gun', 'unit', 'state', 'drift', 'lawless', 'law', 'gun', 'govern', 'want', 'forc', 'everyon', 'buy', 'health', 'insur', 'pass', 'law', 'ignor', 'question', 'legal', 'legal', 'matter', 'peopl', 'come', 'protest', 'send', 'seiu', 'thug', 'beat', 'lose', 'senat', 'major', 'use', 'reconcili', 'pass', 'suprem', 'court', 'threaten', 'investig', 'constitution', 'law', 'threaten', 'court', 'thing', 'separ', 'tactic', 'like', 'mugger', 'corner', 'public', 'interest', 'say', 'govern', 'play', 'robin', 'hood', 'mug', 'like', 'smell', 'money', 'want', 'help', 'less', 'fortun', 'robin', 'hood', 'rebel', 'illeg', 'author', 'sheriff', 'nottingham', 'govern', 'rebel', 'author', 'peopl', 'law', 'govern', 'outlaw', 'like', 'must', 'resist', 'power', 'interest', 'power', 'middl', 'class', 'revolut', 'becom', 'perman', 'red', 'power', 'constantli', 'rebel', 'bourgeoi', 'capitalist', 'rais', 'tax', 'outlaw', 'soda', 'everi', 'year', 'outlaw', 'swing', 'tree', 'rob', 'merchant', 'ride', 'back', 'washington', 'c', 'gloriou', 'feast', 'stolen', 'good', 'may', 'small', 'way', 'share', 'peasant', 'secur', 'support', 'farc', 'take', 'place', 'guis', 'law', 'repres', 'lawless', 'societi', 'law', 'limit', 'power', 'limit', 'power', 'individu', 'institut', 'govern', 'lawless', 'societi', 'limit', 'power', 'appli', 'power', 'appli', 'sake', 'higher', 'ideal', 'societi', 'said', 'repres', 'higher', 'ideal', 'involv', 'help', 'poor', 'everi', 'institut', 'act', 'like', 'robin', 'hood', 'perfectli', 'legal', 'law', 'lawless', 'societi', 'law', 'function', 'emot', 'one', 'scream', 'loudest', 'get', 'way', 'influenc', 'enough', 'peopl', 'believ', 'case', 'law', 'get', 'made', 'sens', 'right', 'entir', 'function', 'emot', 'everyon', 'oper', 'egotist', 'feel', 'mode', 'share', 'feel', 'mutual', 'pain', 'pass', 'law', 'outlaw', 'anyon', 'hurt', 'anyon', 'els', 'unless', 'interest', 'prevent', 'pain', 'right', 'becom', 'entir', 'posit', 'empathi', 'base', 'neg', 'right', 'becom', 'associ', 'selfish', 'everyon', 'right', 'thousand', 'benefit', 'one', 'right', 'opt', 'everyon', 'free', 'speak', 'mind', 'long', 'express', 'need', 'rather', 'demand', 'left', 'alon', 'empathi', 'make', 'bad', 'law', 'law', 'subject', 'respons', 'suffer', 'other', 'often', 'excel', 'market', 'suffer', 'suffer', 'genuin', 'suffer', 'remain', 'silent', 'empathi', 'base', 'law', 'commodifi', 'pain', 'empti', 'justic', 'lawless', 'societi', 'one', 'manipul', 'empathi', 'gain', 'power', 'temporari', 'outrag', 'substitut', 'polici', 'video', 'stir', 'anger', 'goe', 'viral', 'matter', 'law', 'everyon', 'muckrak', 'everyth', 'muck', 'compet', 'narr', 'everyon', 'victim', 'everyon', 'dirti', 'time', 'law', 'everi', 'case', 'everi', 'incid', 'polit', 'law', 'made', 'ad', 'hoc', 'basi', 'one', 'side', 'project', 'grief', 'side', 'charg', 'cynic', 'side', 'manipul', 'emot', 'crowd', 'deftli', 'win', 'everi', 'politician', 'actor', 'everi', 'debat', 'perform', 'everi', 'victori', 'chanc', 'gather', 'spoil', 'idea', 'one', 'law', 'rather', 'one', 'law', 'suffer', 'anoth', 'suffer', 'alien', 'societi', 'empathi', 'trump', 'law', 'rather', 'make', 'easier', 'rich', 'poor', 'compet', 'rich', 'hobbl', 'middl', 'class', 'benefit', 'poor', 'rather', 'outlaw', 'racial', 'discrimin', 'revers', 'favor', 'discrimin', 'rather', 'right', 'thing', 'left', 'robin', 'hood', 'thing', 'leap', 'tree', 'loot', 'societi', 'write', 'song', 'dash', 'courag', 'govern', 'media', 'complex', 'act', 'empathi', 'narr', 'report', 'noth', 'fact', 'everyth', 'emot', 'law', 'bad', 'protect', 'privileg', 'opposit', 'good', 'protect', 'privileg', 'power', 'senat', 'execut', 'suprem', 'court', 'good', 'serv', 'end', 'bad', 'serv', 'end', 'enemi', 'blame', 'alway', 'goe', 'one', 'side', 'side', 'block', 'agenda', 'societi', 'live', 'law', 'law', 'mean', 'someth', 'lawless', 'societi', 'law', 'matter', 'long', 'serv', 'purpos', 'power', 'ignor', 'toss', 'asid', 'last', 'week', 'wit', 'obama', 'play', 'robin', 'hood', 'cast', 'asid', 'immigr', 'law', 'transpar', 'jubil', 'cheer', 'media', 'whose', 'fondest', 'wish', 'politician', 'play', 'robin', 'hood', 'cut', 'gordian', 'knot', 'carri', 'agenda', 'without', 'regard', 'law', 'want', 'got', 'lawless', 'societi', 'cut', 'way', 'take', 'system', 'protect', 'law', 'law', 'imparti', 'state', 'absolut', 'principl', 'appli', 'regardless', 'faction', 'posit', 'lawless', 'societi', 'law', 'power', 'left', 'usher', 'lawless', 'societi', 'live', 'consequ', 'read', 'sultan', 'knish', 'sourc']",
         "fake"
        ],
        [
         "21",
         "['go', 'san', 'francisco', 'sure', 'check', 'tram', 'airport', 'done', 'psychedel', 'color', 'gate', 'pictur', 'taken', 'mock', 'old', 'vw', 'bu', 'like', 'hippi', 'use', 'drive', 'also', 'decor', 'psychedel', 'wear', 'flower', 'hair', 'strictli', 'option', 'get', 'citi', 'proper', 'pass', 'sever', 'psychedel', 'billboard', 'find', 'jump', 'event', 'celebr', '<NUM>', 'anniversari', 'summer', 'love', 'come', 'end', 'half', 'centuri', 'ago', 'summer', 'love', 'one', 'event', 'san', 'francisco', 'never', 'quit', 'got', 'like', 'gold', 'rush', 'two', 'earthquak', 'summer', '<DATE>', 'consid', 'peopl', 'like', 'consid', 'thing', 'high', 'water', 'mark', 'hippi', 'climax', 'countercultur', 'camelot', 'moment', 'love', 'innoc', 'sixti', 'blossom', 'fleetingli', 'potenti', 'actual', 'locu', 'summer', 'love', 'haight', 'ashburi', 'neighborhood', 'summer', 'old', 'vw', 'buse', 'real', 'one', 'antiqu', 'also', 'paint', 'psychedel', 'cruis', 'street', 'carri', 'tourist', 'past', 'histor', 'site', 'eccentr', 'dress', 'guid', 'explain', 'look', 'afterward', 'could', 'stop', 'summer', 'love', 'happi', 'hour', 'love', 'cloth', 'store', 'corner', 'haight', 'ashburi', 'street', 'enjoy', 'hippi', 'lunch', 'combo', '<CUR>', '<NUM>', 'restaur', 'block', 'block', 'past', 'histor', 'hippi', 'hill', 'golden', 'gate', 'park', 'come', 'upon', 'de', 'young', 'museum', 'one', 'fine', 'art', 'museum', 'san', 'francisco', 'de', 'young', 'show', 'popular', 'exhibit', 'year', 'summer', 'love', 'experi', 'art', 'fashion', 'rock', 'roll', 'museum', 'restaur', 'invent', 'pair', 'drink', 'occas', 'acid', 'trip', 'margarita', 'midori', 'flower', 'child', 'blue', 'curaçao', 'vodka', 'lemonad', '<CUR>', '<NUM>', 'de', 'young', 'show', 'town', 'exhibit', 'call', 'road', 'summer', 'love', 'california', 'histor', 'societi', 'downtown', 'stone', 'throw', 'away', 'san', 'francisco', 'central', 'librari', 'addit', 'four', 'summer', 'love', 'exhibit', 'seminar', 'held', 'titl', 'like', 'hippi', 'food', 'jefferson', 'airplan', 'deep', 'dive', 'walk', 'citi', 'hall', 'exhibit', 'photo', 'jani', 'joplin', 'jimi', 'hendrix', 'back', 'haight', 'district', 'branch', 'librari', 'offer', 'tie', 'dye', 'class', '<DATE>', 'fashion', 'show', 'hill', 'castro', 'district', 'glbt', 'histori', 'museum', 'celebr', 'lavend', 'tint', 'glass', 'exhibit', 'highlight', 'role', 'four', 'queer', 'make', 'summer', 'love', 'probabl', 'miss', 'big', 'summer', 'love', 'concert', 'light', 'show', 'park', 'talk', 'anoth', 'one', 'come', 'also', 'sol', 'stuff', 'across', 'bay', 'berkeley', 'bandwagon', 'berkeley', 'suffer', 'notori', 'case', 'san', 'francisco', 'envi', 'de', 'young', 'show', 'far', 'ambiti', 'summer', 'love', 'commemor', 'fill', 'largest', 'exhibit', 'space', 'relic', 'evok', 'scent', 'beflow', 'season', 'origin', 'handmad', 'cloth', 'poster', 'art', 'photograph', 'simul', 'light', 'show', 'score', 'lapel', 'button', 'even', 'though', 'hippi', 'seldom', 'wore', 'cloth', 'lapel', 'also', 'jani', 'joplin', 'showi', 'handbag', 'famou', 'captain', 'trip', 'top', 'hat', 'own', 'jerri', 'garcia', 'grate', 'dead', 'lead', 'guitarist', 'sinc', 'martyrdom', 'decad', 'heroin', 'addict', '<DATE>', 'patron', 'saint', 'hippi', 'garcia', 'wore', 'hat', 'two', 'year', 'gave', 'neighbor', 'sold', '<CUR>', '<NUM>', '<DATE>', 'visitor', 'doubt', 'signific', 'materi', 'sol', 'need', 'consid', 'larg', 'display', 'street', 'sign', 'erect', 'greet', 'enter', 'museum', 'central', 'one', 'simul', 'intersect', 'haight', 'ashburi', 'street', 'other', 'fanci', 'one', 'mark', 'intersect', 'free', 'love', 'marriag', 'equal', 'anoth', 'pair', 'sign', 'join', 'civil', 'right', 'black', 'live', 'matter', 'anoth', 'hippi', 'intersect', 'hipster', 'whole', 'earth', 'catalog', 'meet', 'world', 'wide', 'web', 'messag', 'museumgo', 'clear', 'summer', 'love', 'took', 'place', '<NUM>', 'long', 'year', 'ago', 'well', 'born', '<NUM>', 'percent', 'countri', 'born', 'nobodi', 'get', 'idea', 'someth', 'irrelev', 'dim', 'event', 'antiqu', 'like', 'war', 'rose', 'annex', 'guam', 'street', 'sign', 'trace', 'genealog', 'without', 'hippi', 'belief', 'free', 'love', 'gay', 'marriag', 'whole', 'earth', 'catalog', 'foreshadow', 'internet', 'civil', 'right', 'movement', '<DATE>', 'would', 'mean', 'blacklivesmatt', 'today', 'mani', 'thing', 'thrill', 'millenni', 'heart', 'sprout', 'summer', 'love', 'hippi', 'hipster', 'think', 'exhibit', 'quit', 'didact', 'devot', 'aesthet', 'summer', 'love', 'sure', 'movement', 'appeal', 'aspect', 'hippi', 'much', 'better', 'art', 'idea', 'exhibit', 'featur', 'cloth', 'poster', 'photograph', 'speaker', 'boom', 'suppos', 'san', 'francisco', 'sound', 'school', 'rock', 'discov', '<DATE>', 'left', 'undefin', 'ever', 'sinc', 'nearli', 'everi', 'item', 'display', 'catch', 'eye', 'exhibit', 'take', 'advantag', 'one', 'histori', 'littl', 'joke', 'though', 'famou', 'sexual', 'liber', 'babi', 'boomer', 'last', 'gener', 'nearli', 'everi', 'girl', 'expect', 'learn', 'sew', 'consequ', 'mundan', 'item', 'cloth', 'could', 'made', 'singular', 'beauti', 'fifti', 'year', 'ago', 'denim', 'textil', 'lower', 'class', 'infra', 'dig', 'farmer', 'men', 'work', 'hand', 'hippi', 'claim', 'imagin', 'summer', 'love', 'dressmak', 'lowliest', 'pair', 'blue', 'jean', 'could', 'becom', 'glorious', 'exot', 'stud', 'stitch', 'higgledi', 'piggledi', 'patchwork', 'still', 'brighter', 'color', 'print', 'dress', 'whip', 'togeth', 'gaudi', 'swirl', 'might', 'becom', 'cliché', 'seem', 'exuber', 'witti', 'marque', 'piec', 'fashion', 'display', 'crochet', 'wed', 'dress', 'complet', 'train', 'sever', 'feet', 'long', 'mild', 'combin', 'pastel', 'curat', 'swear', 'actual', 'worn', 'wed', 'cloth', 'men', 'least', 'dandi', 'repres', 'hodgepodg', 'found', 'style', 'american', 'indian', 'victorian', 'old', 'west', 'affect', 'scrambl', 'togeth', 'nostalg', 'even', 'reactionari', 'element', 'hippi', 'aesthet', 'retrograd', 'progress', 'claim', 'rebel', 'soulless', 'uniform', 'mass', 'product', 'tri', 'reviv', 'artisan', 'way', 'provid', 'necess', 'forgo', 'polyest', 'natur', 'fiber', 'favor', 'hand', 'stitch', 'machin', 'made', 'almost', 'everi', 'piec', 'cloth', 'one', 'kind', 'mass', 'produc', 'item', 'microdress', 'stamp', 'peac', 'sign', 'come', 'earli', '<DATE>', 'lot', 'thing', 'gone', 'wrong', 'art', 'poster', 'usual', 'advertis', 'local', 'rock', 'concert', 'old', 'timey', 'feel', 'first', 'rock', 'advertis', 'appear', 'haight', 'look', 'like', 'fight', 'card', 'box', 'match', 'crude', 'block', 'letter', 'red', 'black', 'white', 'background', 'solitari', 'pictur', 'perform', 'later', 'element', 'incorpor', 'wild', 'west', 'want', 'poster', 'familiar', 'gener', 'rear', 'tv', 'show', 'like', 'gun', 'travel', 'gunsmok', 'poster', 'artist', 'formal', 'train', 'discov', 'offset', 'print', 'quickli', 'push', 'rang', 'possibl', 'unthought', 'juxtaposit', 'amoeba', 'like', 'blob', 'lurid', 'color', 'canari', 'yellow', 'letter', 'whorehous', 'red', 'background', 'creat', 'vibrat', 'effect', 'poster', 'famou', 'letter', 'typefac', 'previous', 'seen', 'planet', 'letter', 'take', 'get', 'use', 'word', 'illeg', 'era', 'visual', 'advertis', 'custom', 'cannot', 'read', 'would', 'consid', 'great', 'idea', 'yet', 'hippi', 'promot', 'pay', 'hippi', 'artist', 'public', 'hippi', 'show', 'gave', 'artist', 'cart', 'blanch', 'say', 'colleen', 'terri', 'one', 'de', 'young', 'curat', 'poster', 'understood', 'advertis', 'mere', 'upcom', 'individu', 'concert', 'subvers', 'adventur', 'concertgo', 'kind', 'romantic', 'endors', 'haight', 'experi', 'could', 'good', 'busi', 'doubt', 'demand', 'sooner', 'would', 'poster', 'go', 'snatch', 'away', 'passersbi', 'reappear', 'wall', 'hang', 'tumbledown', 'walk', 'up', 'badli', 'need', 'decor', 'de', 'young', 'began', 'collect', 'rock', 'poster', 'earli', '<DATE>', 'besid', 'obscurant', 'deliber', 'creat', 'kind', 'freemasonri', 'hippi', 'could', 'allegedli', 'decrypt', 'especi', 'stone', 'rest', 'us', 'essay', 'show', 'companion', 'book', 'terri', 'quot', 'one', 'celebr', 'poster', 'artist', 'victor', 'moscoso', 'goal', 'poster', 'ideal', 'somebodi', 'across', 'street', 'see', 'vibrat', 'color', 'say', 'cross', 'street', 'spend', 'half', 'hour', 'week', 'tri', 'read', 'prowl', 'poster', 'display', 'sober', 'judg', 'report', 'obscurant', 'part', 'endur', 'charm', 'mistak', 'invent', 'went', 'design', 'execut', 'retain', 'power', 'lighten', 'lift', 'spirit', 'humor', 'origin', 'unpretenti', 'wildli', 'allus', 'popular', 'art', 'heighten', 'kind', 'utterli', 'mislead', 'trip', 'haight', 'photo', 'credit', 'getti', 'christma', 'summer', 'love', 'one', 'visit', 'summer', 'love', 'experi', 'fell', 'elderli', 'woman', 'susan', 'real', 'name', 'lifelong', 'san', 'franciscan', 'steer', 'exhibit', 'wheelchair', 'push', 'middl', 'age', 'daughter', 'susan', 'dress', 'experi', 'fade', 'jean', 'jacket', 'cover', 'button', 'seem', 'sixti', 'vintag', 'abl', 'read', 'ban', 'bomb', 'love', 'bug', 'elabor', 'color', 'scarv', 'drape', 'loos', 'shoulder', 'around', 'neck', 'blue', 'jean', 'also', 'fade', 'perfect', 'stylishli', 'torn', 'expos', 'tini', 'knee', 'wore', 'expens', 'boot', 'complic', 'stitch', 'lap', 'kept', 'floppi', 'wide', 'brim', 'hat', 'seem', 'enjoy', 'stroll', 'roll', 'memori', 'lane', 'immens', 'daughter', 'read', 'wall', 'plaqu', 'susan', 'strain', 'hear', 'would', 'nod', 'roll', 'room', 'design', 'simul', 'poster', 'shop', 'haight', 'cover', 'floor', 'ceil', 'psychedelia', 'chuckl', 'oh', 'ye', 'said', 'think', 'rememb', 'photo', 'grate', 'dead', 'perform', 'haight', 'street', 'said', 'someth', 'indistinct', 'jerri', 'came', 'photo', 'theatric', 'troup', 'transvestit', 'briefli', 'toast', 'san', 'francisco', 'ask', 'daughter', 'stop', 'identifi', 'pictur', 'daughter', 'look', 'wall', 'plaqu', 'said', 'cockett', 'mom', 'said', 'susan', 'lean', 'forward', 'chair', 'cockett', 'susan', 'sat', 'back', 'oh', 'ye', 'wonder', 'said', 'saw', 'perform', 'front', 'grace', 'cathedr', 'christma', 'eve', 'christma', 'eve', 'said', 'daughter', 'cockett', 'oh', 'ye', 'marvel', 'mom', 'susan', 'wave', 'boni', 'hand', 'oh', 'said', 'forev', 'ago', 'georg', 'harrison', 'brief', 'sojourn', 'summer', 'love', 'photo', 'credit', 'getti', 'begin', 'end', 'investig', 'summer', 'love', 'instantli', 'run', 'problem', 'chronolog', 'take', 'poster', 'era', 'exampl', '<DATE>', 'life', 'magazin', 'ran', 'cover', 'stori', 'announc', 'onset', 'big', 'poster', 'hang', 'million', 'print', 'sold', 'everi', 'week', 'four', 'month', 'later', 'premier', 'poster', 'shop', 'haight', 'close', 'san', 'francisco', 'chronicl', 'announc', 'death', 'great', 'poster', 'trip', 'four', 'month', 'era', 'summer', 'love', 'poster', 'era', 'mere', 'phase', 'excel', 'exhibit', 'san', 'francisco', 'museum', 'histor', 'societi', 'trace', 'root', 'sol', 'back', 'beatnik', '<DATE>', 'true', 'beat', 'especi', 'poet', 'allen', 'ginsberg', 'gari', 'snyder', 'made', 'transit', 'bongo', 'play', 'beatnik', 'bong', 'play', 'hippi', 'without', 'miss', 'beat', 'pleas', 'forgiv', 'men', 'help', 'sponsor', 'human', '<NUM>', 'strong', 'assemblag', 'young', 'peopl', 'held', 'golden', 'gate', 'park', '<DATE>', 'often', 'identifi', 'kick', 'summer', 'love', 'hippi', 'era', 'author', 'say', 'summer', 'love', 'commenc', 'mid', 'june', 'monterey', 'pop', 'festiv', 'brought', 'san', 'francisco', 'band', 'like', 'jefferson', 'airplan', 'attent', 'nation', 'audienc', 'part', 'historian', 'william', 'schnabel', 'summer', 'love', 'haight', 'say', 'januari', 'begin', 'peak', 'hippi', 'era', 'time', 'summer', 'roll', 'around', 'less', 'kaput', 'would', 'mean', 'summer', 'love', 'began', 'mayb', 'hippi', 'realli', 'discov', 'altern', 'realiti', 'energet', 'historian', 'sol', 'denni', 'mcnalli', 'declar', 'authorit', 'true', 'summer', 'love', 'public', 'affair', '<DATE>', 'privat', 'social', 'experi', 'took', 'place', 'larg', 'haight', 'ashburi', '<DATE>', 'includ', 'raucou', 'parti', 'grate', 'dead', 'place', 'interest', 'amateur', 'wish', 'guy', 'would', 'get', 'page', 'confus', 'suggest', 'summer', 'love', 'come', 'know', 'confect', 'market', 'media', 'particularli', 'trendsniff', 'newsweekli', 'power', 'cultur', 'arbit', 'day', 'set', 'agenda', 'even', 'tv', 'network', 'descend', 'haight', 'flare', 'went', 'time', 'newsweek', 'look', 'lead', 'magazin', 'summer', 'love', 'catchi', 'phrase', 'though', 'work', 'shorthand', 'origin', 'call', 'countercultur', 'mani', 'deep', 'surviv', 'particular', 'cultur', 'digger', 'hand', 'free', 'food', 'golden', 'gate', 'park', 'photo', 'credit', 'ted', 'streshinski', 'corbi', 'getti', 'grab', 'whenev', 'sol', 'began', 'whenev', 'end', 'basic', 'storylin', 'alway', 'dream', 'utopia', 'eden', 'innoc', 'fall', 'dream', 'recur', 'dream', 'antinomian', 'belief', 'tradit', 'arrang', 'moral', 'famili', 'commerc', 'religion', 'discard', 'arrang', 'one', 'devis', 'put', 'place', 'western', 'civil', 'grab', 'said', 'one', 'hippi', 'leader', 'new', 'mode', 'born', 'mcnalli', 'historian', 'say', 'movement', 'took', 'aim', 'assum', 'heart', 'american', 'cultur', 'hippi', 'write', 'challeng', 'nuclear', 'famili', 'materi', 'violenc', 'vietnam', 'war', 'bulk', 'idea', 'rais', 'well', 'two', 'five', 'bad', 'vietnam', 'war', 'nuclear', 'famili', 'finish', 'materi', 'violenc', 'live', 'howev', 'stroll', 'haight', 'summer', 'confirm', 'case', 'hard', 'argu', 'hippi', 'good', 'reason', 'seek', 'altern', 'american', 'life', 'mid', '<DATE>', 'lot', 'peopl', 'begin', 'wonder', 'whether', 'avail', 'channel', 'popular', 'cultur', 'music', 'food', 'cloth', 'movi', 'tv', 'would', 'ever', 'produc', 'anyth', 'distinct', 'even', 'intellig', 'interest', 'ever', 'wonder', 'sixti', 'cultur', 'revolut', 'necessari', 'listen', 'hit', 'album', 'ray', 'conniff', 'singer', 'watch', 'bob', 'hope', 'varieti', 'special', 'nbc', 'tri', 'pair', 'sansabelt', 'polyest', 'slack', 'choke', 'wonder', 'bread', 'sandwich', 'made', 'welch', 'grape', 'jelli', 'skippi', 'creami', 'peanut', 'butter', 'spread', 'hippi', 'point', 'never', 'seem', 'doubt', 'antinomian', 'surest', 'way', 'cul', 'de', 'sac', 'puritan', 'streak', 'children', 'middl', 'upper', 'middl', 'class', 'spawn', 'greatest', 'gener', 'went', 'san', 'francisco', 'start', 'parti', 'parti', 'stand', 'someth', 'self', 'indulg', 'high', 'mind', 'justif', 'want', 'plenti', 'braini', 'public', 'mind', 'shaman', 'around', 'harvard', 'professor', 'lsd', 'evangelist', 'timothi', 'leari', 'pantheist', 'philosoph', 'alan', 'watt', 'provid', 'lsd', 'enjoy', 'riski', 'intoxic', 'gateway', 'new', 'realiti', 'realli', 'lucki', 'god', 'sex', 'matter', 'overwork', 'mean', 'achiev', 'person', 'authent', 'throw', 'bourgeoi', 'shackl', 'avoid', 'work', 'nobl', 'attempt', 'end', 'run', 'soul', 'deaden', 'mechan', 'capit', 'creat', 'new', 'economi', 'without', 'money', 'toy', 'half', 'bake', 'american', 'version', 'eastern', 'mystic', 'way', 'transcend', 'limit', 'impos', 'judaism', 'christian', 'lead', 'new', 'realm', 'spirit', 'historian', 'sol', 'keep', 'tradit', 'aliv', 'evangelist', 'rather', 'historian', 'fact', 'read', 'hippi', 'experi', 'sexual', 'liber', 'though', 'dress', 'lab', 'coat', 'like', 'master', 'johnson', 'realli', 'mean', 'lot', 'sex', 'read', 'hippi', 'explor', 'frontier', 'conscious', 'know', 'get', 'high', 'experiment', 'colleg', 'like', 'one', 'haight', 'mean', 'colleg', 'nobodi', 'studi', 'take', 'test', 'altern', 'commerc', 'barter', 'mani', 'instanc', 'thieveri', 'experi', 'requir', 'laboratori', 'cours', 'haight', 'ashburi', 'present', 'heel', 'central', 'locat', 'neighborhood', 'far', 'downtown', 'adjac', 'golden', 'gate', 'park', 'mid', 'sixti', 'haight', 'downward', 'trend', 'urban', 'lifecycl', 'earlier', 'popul', 'italian', 'irish', 'tradesmen', 'move', 'famili', 'suburb', 'mani', 'grand', 'victorian', 'queen', 'ann', 'style', 'townhous', 'split', 'apart', 'war', 'propos', 'freeway', 'threaten', 'slice', 'neighborhood', 'half', 'drive', 'hous', 'price', 'turn', 'drew', 'artist', 'bohemian', 'flee', 'pricier', 'north', 'beach', 'plan', 'explor', 'conscious', 'haight', 'good', 'place', 'sol', 'approach', 'neighborhood', 'contain', 'thousand', 'hippi', 'freak', 'tag', 'mani', 'prefer', 'hippi', 'sound', 'cute', 'moment', 'experi', 'flower', 'children', 'came', 'use', 'bit', 'later', 'life', 'rigidli', 'non', 'hierarch', 'even', 'concert', 'band', 'play', 'right', 'danc', 'floor', 'among', 'frug', 'crowd', 'sinc', 'climb', 'stage', 'suggest', 'form', 'domin', 'leader', 'follow', 'arrang', 'like', 'kind', 'everyon', 'tri', 'escap', 'properti', 'cours', 'theoret', 'commun', 'lock', 'door', 'sign', 'mistrust', 'use', 'alcohol', 'discourag', 'use', 'weed', 'mandatori', 'parent', 'drank', 'alcohol', 'bizarr', 'ultim', 'tragic', 'chapter', 'american', 'utopian', 'strode', 'digger', 'thousand', 'camp', 'local', 'commun', 'colleg', 'footbal', 'field', 'monterey', 'pop', 'festiv', 'photo', 'credit', 'ap', 'voic', 'wilder', 'familiar', 'voic', 'narrat', 'audio', 'tour', 'de', 'young', 'museum', 'peter', 'coyot', 'obviou', 'choic', 'gig', 'coyot', 'chose', 'name', 'saw', 'coyot', 'track', 'snow', 'high', 'time', 'promin', 'surviv', 'figur', 'summer', 'love', 'countercultur', 'encapsul', 'help', 'found', 'digger', 'swashbuckl', 'group', 'crypto', 'anarchist', 'move', 'among', 'hippi', 'tri', 'anchor', 'behavior', 'larger', 'revolutionari', 'theori', 'last', '<NUM>', 'year', 'coyot', 'work', 'actor', 'small', 'european', 'film', 'american', 'tv', 'got', 'sever', 'episod', 'law', 'order', 'belt', 'hear', 'distinct', 'bariton', 'narrat', 'ken', 'burn', 'documentari', 'includ', 'upcom', 'vietnam', 'seri', 'also', 'car', 'commerci', 'still', 'polit', 'activist', 'becom', 'face', '<NUM>', 'anniversari', 'turn', 'radio', 'appear', 'documentari', 'bbc', 'pb', 'sit', 'chin', 'wag', 'variou', 'venu', 'enough', 'turn', 'request', 'interview', 'articl', 'summer', 'said', 'coyot', 'also', 'writer', 'memoir', 'sleep', 'fall', 'publish', '<DATE>', 'reissu', 'long', 'ago', 'one', 'book', 'distinct', 'sixti', 'countercultur', 'produc', 'full', 'throat', 'particip', 'richli', 'atmospher', 'stylishli', 'written', 'show', 'time', 'gift', 'genuin', 'psycholog', 'penetr', 'memoirist', 'appeal', 'man', 'heedless', 'amor', 'censori', 'suit', 'given', 'flight', 'sanctimoni', 'alway', 'quick', 'let', 'hook', 'coyot', 'honesti', 'feel', 'like', 'kind', 'fake', 'realli', 'sleep', 'fall', 'indispens', 'anyon', 'want', 'tri', 'understand', 'summer', 'love', 'insid', 'coyot', 'project', 'hippi', 'project', 'pursuit', 'absolut', 'freedom', 'live', 'without', 'limit', 'law', 'convent', 'everi', 'assumpt', 'normal', 'american', 'life', 'reexamin', 'inde', 'countercultur', 'word', 'normal', 'requir', 'air', 'quot', 'real', 'work', 'tell', 'us', 'creat', 'free', 'life', 'amid', 'desert', 'industri', 'capit', 'grew', 'desert', 'specif', 'englewood', 'new', 'jersey', 'father', 'wealthi', 'businessman', 'mother', 'homemak', 'knew', 'first', 'hand', 'person', 'cost', 'inauthent', 'parent', 'inauthent', 'unearn', 'privileg', 'suffer', 'wealth', 'word', 'everybodi', 'els', 'turn', 'coyot', 'sens', 'alien', 'wide', 'share', 'essenti', 'rise', 'hippi', 'fled', 'san', 'francisco', 'write', 'introduc', 'analyt', 'perspect', 'explain', 'money', 'creat', 'privileg', 'protect', 'polit', 'process', 'idea', 'form', 'digger', 'emerg', 'analysi', 'mani', 'retel', 'summer', 'love', 'current', 'offer', 'digger', 'invari', 'play', 'role', 'hero', 'write', 'say', 'left', 'wing', 'journalist', 'david', 'talbot', 'interest', 'histori', 'season', 'witch', 'among', 'earliest', 'passion', 'express', 'would', 'later', 'call', 'san', 'francisco', 'valu', 'membership', 'loos', 'defin', 'one', 'time', 'number', 'hundr', 'group', 'equal', 'part', 'perform', 'art', 'troup', 'countercultur', 'salvat', 'armi', 'crimin', 'enterpris', 'digger', 'set', 'creat', 'haight', 'free', 'economi', 'commun', 'would', 'function', 'without', 'money', 'money', 'digger', 'believ', 'ultim', 'instrument', 'bourgeoi', 'manipul', 'new', 'econom', 'model', 'meant', 'spread', 'nationwid', 'industri', 'desert', 'bloom', 'would', 'offer', 'free', 'meal', 'anyon', 'want', 'one', 'especi', 'grow', 'assembl', 'street', 'peopl', 'begin', 'crowd', 'neighborhood', 'scroung', 'groceri', 'store', 'dumpster', 'cajol', 'produc', 'seller', 'fail', 'simpli', 'stole', 'whatev', 'need', 'everi', 'day', 'huge', 'vat', 'turkey', 'stew', 'homemad', 'bread', 'dish', 'neighborhood', 'park', 'set', 'free', 'store', 'abandon', 'storefront', 'store', 'said', 'digger', 'design', 'encourag', 'reflect', 'relationship', 'among', 'good', 'role', 'owner', 'employe', 'custom', 'impli', 'store', 'merchandis', 'donat', 'solicit', 'stolen', 'often', 'store', 'left', 'unattend', 'idea', 'whoever', 'wander', 'could', 'becom', 'manag', 'long', 'want', 'old', 'toaster', 'cloth', 'music', 'instrument', 'kind', 'urban', 'detritu', 'walk', 'right', 'door', 'even', 'briefli', 'free', 'bank', 'though', 'without', 'money', 'bank', 'puzzl', 'oper', 'mayb', 'failur', 'bank', 'long', 'coyot', 'digger', 'encount', 'pain', 'truth', 'go', 'live', 'free', 'need', 'money', 'inde', 'food', 'merchandis', 'give', 'away', 'drawn', 'surplu', 'creat', 'money', 'driven', 'capitalist', 'economi', 'money', 'capit', 'capit', 'surplu', 'surplu', 'free', 'stuff', 'digger', 'admiss', 'ideolog', 'reason', 'get', 'straight', 'job', 'last', 'resort', 'consid', 'option', 'exhaust', 'fundrais', 'trip', 'rich', 'peopl', 'appeal', 'digger', 'dispatch', 'new', 'york', 'lo', 'angel', 'milk', 'plump', 'credul', 'cow', 'like', 'peter', 'fonda', 'paul', 'simon', 'high', 'mind', 'ever', 'coyot', 'explain', 'fundrais', 'effort', 'engag', 'donor', 'new', 'social', 'arrang', 'much', 'opportun', 'get', 'fund', 'work', 'actor', 'jame', 'coburn', 'got', 'glimps', 'new', 'social', 'arrang', 'declin', 'donat', 'digger', 'tri', 'set', 'hous', 'fire', 'peter', 'tork', 'monke', 'volunt', 'put', 'band', 'digger', 'came', 'l', 'left', 'one', 'digger', 'recal', 'boy', 'rip', 'everyth', 'liftabl', 'star', 'show', 'biz', 'coyot', 'say', 'group', 'develop', 'thrive', 'traffic', 'stolen', 'telephon', 'credit', 'card', 'wide', 'use', 'time', 'ditto', 'gasolin', 'bank', 'credit', 'card', 'write', 'without', 'appar', 'remors', 'often', 'underwrot', 'long', 'journey', 'deliveri', 'suppli', 'grow', 'number', 'digger', 'famili', 'hous', 'given', 'tactic', 'littl', 'wonder', 'group', 'eventu', 'made', 'common', 'caus', 'gang', 'murder', 'thug', 'like', 'hell', 'angel', 'black', 'panther', 'petti', 'crimin', 'way', 'life', 'summer', 'love', 'cite', 'last', 'instanc', 'grate', 'dead', 'close', 'monterey', 'pop', 'festiv', 'last', 'night', 'stole', 'sound', 'equip', 'promot', 'rent', 'weekend', 'drove', 'back', 'hous', 'san', 'francisco', 'top', 'line', 'sound', 'equip', 'dead', 'need', 'sound', 'equip', 'theft', 'enter', 'band', 'legend', 'one', 'charm', 'tale', 'magic', 'time', 'great', 'journalist', 'nichola', 'von', 'hoffman', 'wrote', 'sol', 'sympathet', 'gimlet', 'eye', 'said', 'summer', 'love', 'greatest', 'crime', 'stori', 'sinc', 'prohibit', 'media', 'abet', 'romantic', 'photo', 'credit', 'time', 'free', 'store', 'free', 'love', 'meanwhil', 'thank', 'newli', 'discov', 'birth', 'control', 'pill', 'hippi', 'haight', 'manag', 'achiev', 'level', 'sexual', 'incontin', 'simpli', 'stagger', 'old', 'utopian', 'phrase', 'free', 'love', 'enter', 'nation', 'vocabulari', 'one', 'current', 'exhibit', 'san', 'francisco', 'public', 'librari', 'display', 'haight', 'ashburi', 'song', 'book', 'writer', 'name', 'ashleigh', 'brilliant', 'book', 'open', 'intercours', 'song', 'god', 'rest', 'girl', 'gentlemen', 'let', 'noth', 'dismay', 'scienc', 'answer', 'need', 'pray', 'like', 'sexual', 'intercours', 'consequ', 'pay', 'tide', 'comfort', 'joy', 'conclud', 'chanc', 'circumst', 'miss', 'pill', 'three', 'contract', 'worst', 'diseas', 'one', 'call', 'pregnanc', 'side', 'provid', 'abort', 'legal', 'oh', 'tide', 'comfort', 'joy', 'digger', 'part', 'caus', 'free', 'love', 'coyot', 'admiss', 'pitch', 'enthusiast', 'point', 'even', 'wilt', 'chamberlain', 'might', 'wonder', 'man', 'overdo', 'though', 'help', 'put', 'human', '<DATE>', 'digger', 'detect', 'sign', 'bourgeoi', 'timid', 'bliss', 'rel', 'chast', 'daylong', 'romp', 'park', 'follow', 'month', 'propos', 'happen', 'would', 'last', 'entir', 'weekend', 'explor', 'still', 'revolutionari', 'mode', 'live', 'call', 'invis', 'circu', 'persuad', 'board', 'glide', 'memori', 'church', 'middl', 'class', 'black', 'congreg', 'countercultur', 'sympathi', 'lend', 'build', 'church', 'board', 'thought', 'would', 'polit', 'event', 'dazzl', 'street', 'poster', 'spread', 'word', 'around', 'neighborhood', 'door', 'open', 'friday', 'night', 'crowd', 'larg', 'admiss', 'control', 'thing', 'transpir', 'control', 'coyot', 'touch', 'briefli', 'invis', 'circu', 'memoir', 'laid', 'someon', 'apart', 'flu', 'one', 'colleagu', 'emmett', 'grogan', 'describ', 'do', 'samizdat', 'memoir', 'ringolevio', 'publish', '<DATE>', 'year', 'death', 'overdos', 'heroin', 'parti', 'planner', 'grogan', 'explain', 'turn', 'church', 'kitchen', 'recreat', 'room', 'centerpiec', 'punch', 'bowl', 'fill', 'tang', 'spike', 'salutari', 'dose', 'acid', 'church', 'offic', 'upstair', 'subdivid', 'hung', 'sheet', 'outfit', 'mattress', 'lubric', 'label', 'love', 'make', 'salon', 'makeshift', 'room', 'quickli', 'occupi', 'queue', 'form', 'nod', 'origin', 'cover', 'stori', 'group', 'straight', 'lawyer', 'clergyman', 'cop', 'commun', 'relat', 'invit', 'join', 'panel', 'discuss', 'mean', 'obscen', 'made', 'present', 'digger', 'crept', 'glass', 'case', 'behind', 'plan', 'display', 'genit', 'clown', 'audienc', 'grogan', 'wrote', 'went', 'wild', 'delight', 'clueless', 'straight', 'drone', 'discuss', 'wound', 'mattress', 'brought', 'carri', 'nake', 'man', 'woman', 'mattress', 'laid', 'tabl', 'front', 'panelist', 'coupl', 'sex', 'discuss', 'end', 'back', 'sanctuari', 'vast', 'cathedr', 'like', 'space', 'larg', 'altar', 'cover', 'copul', 'coupl', 'along', 'nake', 'weight', 'lifter', 'stand', 'top', 'sort', 'tabernacl', 'beam', 'light', 'masturb', 'pant', 'tranc', 'group', 'teeni', 'bopper', 'watch', 'circl', 'drag', 'queen', 'fellat', 'one', 'anoth', 'girl', 'giggl', 'report', 'grogan', 'frisco', 'hell', 'angel', 'back', 'pew', 'grogan', 'continu', 'entertain', 'beauti', 'woman', 'carmelit', 'nun', 'habit', 'kept', 'shout', 'give', 'crazi', 'kid', 'final', '<NUM>', 'hour', 'church', 'board', 'member', 'tumbl', 'love', 'gener', 'cop', 'fire', 'marshal', 'call', 'invis', 'circu', 'drew', 'prematur', 'close', 'even', 'though', 'coyot', 'miss', 'circu', 'cours', 'heard', 'sleep', 'render', 'summari', 'judgment', 'digger', 'parti', 'conson', 'emerg', 'spirit', 'time', 'intent', 'stretch', 'envelop', 'cultur', 'possibl', 'permiss', 'rule', 'one', 'hurt', 'wound', 'shun', 'scorn', 'wonder', 'check', 'woman', 'nun', 'habit', 'inscrut', 'bay', 'area', 'concert', 'poster', 'destin', 'icon', 'statu', 'photo', 'credit', 'fine', 'art', 'museum', 'san', 'francisco', 'surviv', 'school', 'look', 'mom', 'said', 'susan', 'daughter', 'back', 'de', 'young', 'stop', 'flyer', 'distribut', 'digger', 'haight', 'hippi', 'popul', 'swell', 'digger', 'said', 'know', 'digger', 'oh', 'ye', 'susan', 'said', 'famou', 'peter', 'coyot', 'daughter', 'read', 'aloud', 'surviv', 'school', 'stay', 'aliv', 'haight', 'street', 'paus', 'chuckl', 'susan', 'join', 'someth', 'said', 'seri', 'three', 'class', 'daughter', 'continu', 'design', 'save', 'becom', 'psychedel', 'casualti', 'oh', 'said', 'susan', 'laugh', 'roll', 'next', 'exhibit', 'susan', 'look', 'daughter', 'cours', 'easi', 'us', 'laugh', 'back', 'crochet', '<DATE>', 'dress', 'featur', 'de', 'young', 'museum', 'exhibit', 'photo', 'credit', 'fine', 'art', 'museum', 'san', 'francisco', 'lone', 'heart', 'georg', 'harrison', 'wife', 'visit', 'san', 'francisco', 'height', 'summer', 'love', 'want', 'see', 'haight', 'ashburi', 'walk', 'street', 'quickli', 'drew', 'crowd', 'flower', 'children', 'sgt', 'pepper', 'lone', 'heart', 'club', 'band', 'releas', 'week', 'said', 'blown', 'mind', 'world', 'one', 'creator', 'come', 'bestow', 'beatl', 'bless', 'countercultur', 'haight', 'perfect', 'align', 'man', 'moment', 'prophet', 'place', 'photo', 'taken', 'day', 'write', 'rock', 'music', 'historian', 'joel', 'selvin', 'becam', 'singl', 'endur', 'imag', 'citi', 'summer', 'love', 'behind', 'harrison', 'famou', 'heart', 'shape', 'sunglass', 'howev', 'thing', 'look', 'differ', 'read', 'press', 'went', 'expect', 'brilliant', 'place', 'harrison', 'said', 'year', 'later', 'groovi', 'gypsi', 'peopl', 'make', 'work', 'art', 'paint', 'carv', 'littl', 'workshop', 'full', 'horribl', 'spotti', 'drop', 'kid', 'drug', 'could', 'describ', 'like', 'boweri', 'lot', 'bum', 'drop', 'out', 'mani', 'young', 'kid', 'drop', 'acid', 'come', 'america', 'mecca', 'lsd', 'certainli', 'show', 'realli', 'happen', 'drug', 'cultur', 'thought', 'spiritu', 'awaken', 'artist', 'like', 'alcohol', 'like', 'addict', 'harrison', 'wander', 'toward', 'park', 'crowd', 'grew', 'press', 'harrison', 'declin', 'joint', 'one', 'hippi', 'sens', 'rise', 'air', 'menac', 'put', 'man', 'said', 'offend', 'flower', 'child', 'harrison', 'limo', 'appear', 'parti', 'duck', 'head', 'airport', 'fli', 'l', 'turn', 'point', 'harrison', 'said', 'went', 'right', 'whole', 'drug', 'cult', 'citi', 'becom', 'momentari', 'focu', 'worldwid', 'spiritu', 'awaken', 'wrote', 'columnist', 'haight', 'newspap', 'mainstream', 'press', 'alway', 'market', 'thing', 'wrote', 'way', 'one', 'sure', 'method', 'kill', 'spiritu', 'awaken', 'public', 'celebr', 'summer', 'love', 'often', 'blame', 'media', 'follow', 'unfair', 'main', 'daili', 'newspap', 'san', 'francisco', 'chronicl', 'particularli', 'taken', 'young', 'pioneer', 'flock', 'citi', 'talbot', 'write', 'season', 'witch', 'paper', 'adopt', 'affection', 'even', 'solicit', 'tone', 'toward', 'hippi', 'press', 'report', 'elsewher', 'often', 'current', 'celebr', 'realli', 'regret', 'power', '<DATE>', 'press', 'make', 'freak', 'famou', 'mass', 'media', 'everi', 'american', 'anywher', 'could', 'hear', 'thing', 'moment', 'begin', 'take', 'hold', 'enchant', 'photo', 'flower', 'laden', 'half', 'dress', 'young', 'women', 'danc', 'meadow', 'san', 'franciscan', 'hippi', 'becam', 'irresist', 'featur', 'fodder', 'word', 'went', 'forth', 'haight', 'liber', 'turf', 'countercultur', 'becam', 'self', 'parodi', 'becam', 'tragedi', 'news', 'featur', 'led', 'caricatur', 'made', 'freak', 'seem', 'tame', 'enough', 'american', 'commerc', 'celebr', 'diner', 'around', 'countri', 'offer', 'love', 'dog', 'love', 'burger', 'bonwit', 'teller', 'sold', 'hippi', 'wig', 'mani', 'dazzl', 'cloth', 'exhibit', 'de', 'young', 'becam', 'templat', 'knock', 'off', 'fill', 'rack', 'discount', 'store', 'publish', 'compani', 'produc', 'potboil', 'hippi', 'paper', 'hippi', 'file', 'hippi', 'cookbook', 'hippi', 'handbook', 'cover', 'featur', 'photo', 'long', 'hair', 'young', 'women', 'vari', 'state', 'undress', 'one', 'enterpris', 'san', 'franciscan', 'began', 'busi', 'call', 'hire', 'hippi', 'allow', 'wealthi', 'peopl', 'introduc', 'real', 'hippi', 'friend', 'cocktail', 'parti', 'nob', 'hill', 'buss', 'load', 'tourist', 'roll', 'haight', 'street', 'tourist', 'would', 'debark', 'coyot', 'recal', 'flower', 'children', 'would', 'spray', 'paint', 'camera', 'lens', 'travel', 'time', 'neolog', 'catchphras', 'cliché', 'never', 'quicker', 'sooner', 'hippi', 'phrase', 'enter', 'gener', 'vocabulari', 'becam', 'punch', 'line', 'brief', 'moment', 'satur', 'nobodi', 'serious', 'said', 'groovi', 'far', 'ever', 'help', 'mani', 'promin', 'adult', 'eager', 'grovel', 'parodi', 'youth', 'one', 'look', 'age', 'b', 'list', 'actor', 'peter', 'lawford', 'drape', 'love', 'bead', 'sprout', 'salt', 'pepper', 'mutton', 'chop', 'design', 'beach', 'hous', 'pad', 'declar', 'jefferson', 'airplan', 'groovi', 'enough', 'captur', 'true', 'horror', 'thing', 'mani', 'like', 'everi', 'corner', 'straight', 'world', 'chronicl', 'summer', 'love', 'like', 'belabor', 'brutal', 'oppress', 'hippi', 'civil', 'author', 'inde', 'drug', 'raid', 'neighborhood', 'sweep', 'round', 'runaway', 'occasion', 'enforc', 'vagranc', 'law', 'opposit', 'nearer', 'truth', 'domin', 'cultur', 'cave', 'astonish', 'speed', 'jingl', 'main', 'effect', 'hippi', 'sudden', 'fame', 'draw', 'unwant', 'wannab', 'haight', 'unwant', 'hippi', 'alreadi', 'spring', '<NUM>', 'kid', 'trickl', 'june', 'school', 'across', 'countri', 'let', 'trickl', 'grew', 'flood', 'john', 'phillip', 'mama', 'papa', 'wrote', 'pie', 'piper', 'tune', 'san', 'francisco', 'unfortun', 'deathless', 'line', 'go', 'san', 'francisco', 'sure', 'wear', 'flower', 'hair', 'gonna', 'meet', 'gentl', 'peopl', 'kid', 'heartland', 'believ', 'record', 'friend', 'phillip', 'song', 'reach', 'number', 'four', 'nation', 'chart', 'refus', 'go', 'away', 'rest', 'summer', 'phillip', 'wrote', 'song', 'advertis', 'jingl', 'monterey', 'pop', 'festiv', 'co', 'produc', 'live', 'l', 'head', 'count', 'new', 'arriv', 'rang', '<NUM>', '<NUM>', 'veteran', 'haight', 'resid', 'squat', 'sinc', '<DATE>', 'exampl', 'migrat', '<DATE>', 'signal', 'end', 'experi', 'number', 'older', 'hand', 'realiz', 'area', 'pois', 'becom', 'unliv', 'coyot', 'write', 'mani', 'decid', 'roll', 'futon', 'move', 'pristin', 'marin', 'counti', 'one', 'much', 'less', 'like', 'step', 'use', 'syring', 'discard', 'condom', 'sol', 'literatur', 'fill', 'complaint', 'veteran', 'hippi', 'mani', 'newbi', 'peac', 'love', 'erad', 'money', 'even', 'crimin', 'presum', 'kind', 'stole', 'thing', 'reason', 'less', 'wholesom', 'digger', 'reason', 'steal', 'thing', 'fall', 'older', 'hippi', 'held', 'mock', 'funer', 'last', 'hippi', 'way', 'declar', 'end', 'era', 'carri', 'casket', 'haight', 'street', 'burn', 'hippi', 'hill', 'kid', 'arriv', 'cincinnati', 'philadelphia', 'must', 'wonder', 'hell', 'travel', 'way', 'hippi', 'cruel', 'bait', 'switch', 'escap', 'digger', 'dead', 'freak', 'less', 'crowd', 'pleasant', 'environ', 'sour', 'flavor', 'goe', 'neighborhood', 'hippi', 'version', 'white', 'flight', 'one', 'unremark', 'detail', 'hippi', 'movement', 'promin', 'member', 'tend', 'come', 'famili', 'mean', 'lover', 'coyot', 'identifi', 'seem', 'daughter', 'upper', 'class', 'even', 'heiress', 'parker', 'pen', 'fortun', 'great', 'unwash', 'immigr', 'sweep', 'uninvit', 'haight', 'hand', 'divers', 'hippi', 'revuls', 'mass', 'product', 'prefer', 'handmad', 'homespun', 'class', 'marker', 'old', 'money', 'distast', 'parvenu', 'probabl', 'inevit', 'mill', 'valley', 'bourgeoi', 'habit', 'hard', 'shake', 'crowd', 'doorway', 'point', 'undeni', 'qualiti', 'life', 'haight', 'never', 'high', 'begin', 'quickli', 'fell', 'simpl', 'squalor', 'abandon', 'monkey', 'hous', 'crime', 'soar', 'heroin', 'everywher', 'number', 'homeless', 'soar', 'runaway', 'young', '<NUM>', 'left', 'sleep', 'doorway', 'even', 'romant', 'summer', 'love', 'celebr', 'acknowledg', 'declin', 'exhibit', 'summer', 'shi', 'horror', 'follow', 'sol', 'chill', 'photo', 'wait', 'room', 'haight', 'ashburi', 'free', 'clinic', 'volunt', 'doctor', 'found', 'provid', 'routin', 'medic', 'care', 'hippi', 'overwhelm', 'case', 'mental', 'ill', 'heroin', 'methedrin', 'addict', 'read', 'tale', 'runaway', 'lost', 'dope', 'prostitut', 'predat', 'one', 'exhibit', 'librari', 'show', 'contact', 'section', 'local', 'newslett', 'entri', 'written', 'parent', 'desper', 'find', 'children', 'pleas', 'write', 'mom', 'pleas', 'come', 'home', 'pleas', 'write', 'tell', 'us', 'okay', 'mom', 'dad', 'miss', 'much', 'famili', 'comment', 'book', 'exit', 'main', 'exhibit', 'librari', 'day', 'visitor', 'written', 'nostalg', '<NUM>', 'shadow', 'happen', 'everyon', 'agre', 'experi', 'haight', 'end', 'hobbesian', 'tar', 'pit', 'crime', 'miseri', 'caus', 'failur', 'peopl', 'celebr', 'summer', 'love', 'prefer', 'find', 'caus', 'beyond', 'countercultur', 'peter', 'lewi', 'surviv', 'member', '<DATE>', 'san', 'francisco', 'band', 'mobi', 'grape', 'find', 'caus', 'geopolit', 'alway', 'lurk', 'sol', 'seeth', 'hatr', 'fear', 'vietnam', 'cold', 'war', 'founder', 'haight', 'clinic', 'blame', 'conserv', 'element', 'american', 'cultur', 'distort', 'effect', 'media', 'superfici', 'coverag', 'haight', 'experi', 'haight', 'ashburi', 'decim', 'hard', 'drug', 'essenti', 'speed', 'heroin', 'write', 'william', 'schnabel', 'summer', 'love', 'haight', 'question', 'introduc', 'drug', 'neighborhood', 'mean', 'produc', 'tent', 'answer', 'cia', 'distribut', 'network', 'arrang', 'mafia', 'david', 'talbot', 'agre', 'season', 'witch', 'acknowledg', 'alway', 'dark', 'shadow', 'around', 'san', 'francisco', 'rainbow', 'begin', 'violenc', 'desper', 'fear', 'stalk', 'street', 'haight', 'side', 'side', 'euphoria', 'stalker', 'govern', 'talbot', 'cite', 'less', 'author', 'tom', 'hayden', 'sixti', 'activist', 'cia', 'spread', 'harm', 'drug', 'haight', 'akin', 'militari', 'distribut', 'alcohol', 'american', 'indian', '<NUM>', 'centuri', 'talbot', 'goe', 'still', 'san', 'francisco', 'revolut', 'spread', 'bring', 'word', 'heartland', 'altern', 'commerc', 'free', 'cultur', 'sexual', 'liber', 'ecolog', 'conscious', 'poison', 'america', 'soul', 'also', 'billow', 'bound', 'blow', 'westward', 'haight', 'collaps', 'poison', 'rest', 'countri', 'pass', 'like', 'pestil', 'celebr', 'summer', 'love', 'look', 'vain', 'hint', 'remors', 'self', 'blame', 'oop', 'yike', 'think', 'went', 'littl', 'overboard', 'time', 'boy', 'like', '<DATE>', 'babi', 'boomer', 'especi', 'ex', 'hippi', 'divis', 'avers', 'second', 'guess', 'nowher', 'literatur', 'found', 'hint', 'one', 'explan', 'far', 'obviou', 'plausibl', 'other', 'seed', 'destruct', 'haight', 'experi', 'could', 'found', 'antinomian', 'origin', 'inspir', 'mayb', 'wholesal', 'reject', 'time', 'honor', 'time', 'test', 'valu', 'monogami', 'moder', 'good', 'manner', 'self', 'denial', 'self', 'control', 'sanctiti', 'privat', 'properti', 'person', 'account', 'higher', 'author', 'materi', 'spiritu', 'lead', 'squalor', 'miseri', 'mayb', 'project', 'celebr', 'san', 'francisco', 'summer', 'doom', 'start', 'pictur', 'case', '<CUR>', '<NUM>', 'haight', 'buy', 'map', 'show', 'charl', 'manson', 'live', 'storefront', 'hous', 'san', 'francisco', 'first', 'poster', 'shop', 'site', 'jefferson', 'airplan', 'mansion', 'hippi', 'hill', 'glade', 'golden', 'gate', 'park', 'haight', 'street', 'end', 'youth', 'use', 'gather', 'last', 'hippi', 'set', 'ablaz', 'kid', 'gather', 'still', 'although', 'given', 'slightli', 'menac', 'aggress', 'air', 'flower', 'child', 'would', 'misnom', 'sidewalk', 'choke', 'tourist', 'bum', 'one', 'neighborhood', 'fixtur', 'wave', 'sign', 'pass', 'car', 'smile', 'masturb', 'occasion', 'mother', 'yoga', 'pant', 'push', 'cluster', 'street', 'peopl', 'use', 'babi', 'carriag', 'batter', 'ram', 'ignor', 'leer', 'mutter', 'day', 'long', 'past', 'cop', 'walk', 'beat', 'hope', 'dispers', 'group', 'block', 'right', 'way', 'decid', 'spring', 'walk', 'tour', 'come', 'hard', 'resist', 'brochur', 'said', 'tour', 'would', 'poetic', 'symbol', 'act', 'retrac', 'footstep', 'mani', 'return', 'greater', 'understand', 'heighten', 'conscious', 'exagger', 'learn', 'guid', 'ronald', 'reagan', 'california', 'governor', 'caus', 'homeless', 'kind', 'reveng', 'summer', 'love', 'jim', 'jone', 'one', 'time', 'san', 'francisco', 'celebr', 'preacher', 'goad', 'cia', 'encourag', '<NUM>', 'follow', 'commit', 'suicid', 'jonestown', 'jungl', 'guyana', 'saw', 'landmark', 'outsid', 'old', 'victorian', 'mansion', 'grate', 'dead', 'live', 'everi', 'kind', 'tourist', 'gather', 'frat', 'bro', 'matron', 'fourth', 'gener', 'hippi', 'born', 'late', 'pose', 'pictur', 'carv', 'initi', 'good', 'wish', 'forgiv', 'bark', 'tree', 'front', 'eye', 'street', 'peopl', 'one', 'tourist', 'group', 'ask', 'crime', 'guid', 'old', 'hippi', 'avid', 'civic', 'booster', 'evas', 'number', 'easi', 'find', 'haight', 'district', 'one', 'highest', 'crime', 'rate', 'citi', 'crime', 'rate', 'citi', 'larg', '<NUM>', 'percent', 'higher', 'nation', 'averag', 'tour', 'walk', 'back', 'downtown', 'librari', 'take', 'last', 'look', 'exhibit', 'saw', 'someth', 'miss', 'first', 'walk', 'anoth', 'thing', 'absent', 'celebr', 'neglect', 'peopl', 'live', 'haight', 'summer', 'love', 'freak', 'arriv', 'world', 'chang', 'basement', 'librari', 'end', 'exhibit', 'singl', 'display', 'case', 'label', 'rest', 'us', 'remind', 'everi', 'san', 'franciscan', 'particip', 'summer', 'love', 'photo', 'mid', 'sixti', 'one', 'show', 'beauti', 'shop', 'beehiv', 'women', 'line', 'weekli', 'rins', 'anoth', 'famili', 'pictur', 'wed', 'parti', 'fade', 'wash', 'color', 'find', 'sixti', 'polaroid', 'anoth', 'line', 'middl', 'school', 'cheerlead', 'smile', 'brightli', 'men', 'suit', 'tie', 'look', 'odd', 'odder', 'eye', 'surround', 'pictur', 'danc', 'hippi', 'simpli', 'antiqu', 'half', 'centuri', 'old', 'look', 'odd', 'smile', 'attitud', 'self', 'assur', 'content', 'look', 'clueless', 'know', 'someth', 'know', 'know', 'hit', 'andrew', 'ferguson', 'senior', 'editor', 'weekli', 'standard', 'correct', '<DATE>', 'articl', 'origin', 'state', 'jerri', 'garcia', 'die', 'heroin', 'overdos', '<DATE>', 'garcia', 'die', 'rehab', 'heart', 'attack', 'brought', 'decad', 'heroin', 'use']",
         "reliable"
        ],
        [
         "22",
         "['gisel', 'look', 'better', 'ever', 'latest', 'model', 'campaign', 'colcchi', 'wear', 'stylish', 'cloth', 'brazilian', 'fashion', 'hous', 'colcci', 'gisel', 'flash', 'lean', 'slim', 'frame', 'chic', 'design', '<NUM>', 'year', 'old', 'beauti', 'embrac', 'inner', 'rock', 'chick', 'pose', 'structur', 'leather', 'jacket', 'show', 'fabul', 'tone', 'leg', 'team', 'biker', 'jacket', 'pair', 'dare', 'short', 'model', 'stun', 'structur', 'leather', 'jacket', 'pair', 'dare', 'short', 'colcchi', 'gisel', 'model', 'design', 'fashion', 'hous', 'nativ', 'brazil', 'colcchi', 'brazil', 'born', 'model', 'also', 'ambassador', 'panten', 'pro', 'v', 'flick', 'long', 'tousl', 'lock', 'one', 'shoulder', 'pout', 'camera', 'happi', 'anniversari', 'love', 'te', 'amo', 'wed', 'gisel', 'bundchen', 'anoth', 'snap', 'see', 'highli', 'paid', 'clotheshors', 'reclin', 'crush', 'velvet', 'sofa', 'flaunt', 'enviabl', 'figur', 'peplum', 'dress', 'exagger', 'sleev', 'mum', 'two', 'prove', 'even', 'rock', 'doubl', 'denim', 'look', 'anoth', 'snap', 'colcci', 'spring', 'summer', 'look', 'book', 'expos', 'uber', 'tone', 'torso', 'distress', 'denim', 'jacket', 'match', 'rip', 'jean', 'gisel', 'flash', 'camera', 'seduct', 'glanc', 'gisel', 'prove', 'even', 'make', 'doubl', 'denim', 'look', 'cool', 'colcchi', 'would', 'appear', 'motherhood', 'marriag', 'suit', 'ms', 'bundchen', 'celebr', 'fifth', 'wed', 'anniversari', 'american', 'footbal', 'ace', 'tom', 'bradi', 'last', 'week', 'share', 'intim', 'snap', 'wed', 'offici', 'instagram', 'profil', 'supermodel', 'wrote', 'happi', 'anniversari', 'love', 'te', 'amo', 'wed']",
         "fake"
        ],
        [
         "23",
         "['geez', 'thank', 'plan', 'presid', 'obama', 'creat', 'unisex', 'look', 'corp', 'offici', 'verg', 'swap', 'marin', 'icon', 'cap', 'known', 'cover', 'new', 'version', 'derid', 'girli', 'would', 'make', 'french', 'blush', 'even', 'enough', 'fund', 'buy', 'bullet', 'dod', 'push', 'spend', '<CUR>', '<NUM>', 'million', 'cover', 'look', 'like', 'women', 'hat', 'one', 'senior', 'marin', 'sourc', 'fume', 'post', 'marin', 'deserv', 'better', 'make', 'look', 'ridicul', 'thin', 'new', 'cover', 'feminin', 'line', 'offici', 'think', 'would', 'make', 'look', 'good', 'femal', 'marin', 'male', 'keep', 'obama', 'direct', 'marin', 'corp', 'encourag', 'dod', 'standard', 'unisex', 'univers', 'dress', 'servic', 'cap', 'marin', 'brass', 'note', 'intern', 'memo', 'obtain', 'post', 'mandatori', 'chang', 'dictat', 'man', 'never', 'even', 'thought', 'serv', 'militari', 'come', 'time', 'nation', 'defens', 'supposedli', 'weaken', 'due', 'sequestr', 'cut', 'wast', 'money', 'make', 'warrior', 'look', 'like', 'ladylik', 'among', 'idiot', 'idea', 'imagin', 'file', 'stupidest', 'govern', 'histori', 'western', 'civil', 'barack', 'obama', 'proud', 'champion', 'good', 'news', 'obama', 'foolish', 'still', 'stop', 'mayb', 'marin', 'friday', 'cast', 'vote', 'whether', 'adopt', 'keep', 'old', 'hat', 'modif', 'marin', 'corp', 'head', 'gen', 'jame', 'amo', 'make', 'final', 'decis', 'gen', 'amo', 'polit', 'appointe', 'serv', 'atop', 'usmc', 'pleasur', 'presid', 'marin', 'may', 'vote', 'french', 'ladi', 'hat', 'jam', 'onto', 'head', 'anyway']",
         "reliable"
        ],
        [
         "24",
         "['trip', 'cardiologist', 'rare', 'routin', 'usual', 'precipit', 'episod', 'prior', 'procedur', 'prompt', 'appoint', 'eager', 'receiv', 'reassur', 'assess', 'know', 'condit', 'heart', 'determin', 'health', 'listen', 'rapt', 'attent', 'learn', 'realli', 'past', 'winter', 'teach', 'concept', 'abbey', 'viral', 'infect', 'mimick', 'sort', 'heart', 'troubl', 'taken', 'infirmari', 'male', 'monasteri', 'excit', 'concern', 'monk', 'patient', 'alik', 'got', 'see', 'part', 'monasteri', 'limit', 'women', 'duti', 'close', 'eye', 'well', 'time', 'thank', 'check', 'well', 'trip', 'region', 'hospit', 'follow', 'cardiologist', 'truli', 'gain', 'new', 'appreci', 'heart', 'bibl', 'speak', 'heart', 'frequent', 'make', 'common', 'anthropolog', 'term', 'scriptur', 'vital', 'center', 'person', 'suppli', 'nourish', 'life', 'give', 'time', 'think', 'brain', 'center', 'human', 'activ', 'direct', 'rhythm', 'individu', 'bodi', 'ancient', 'viewpoint', 'heart', 'central', 'organ', 'move', 'rest', 'bodi', 'scriptur', 'also', 'speak', 'heart', 'sourc', 'emot', 'intellectu', 'moral', 'activ', 'thu', 'play', 'signific', 'role', 'spiritu', 'health', 'heart', 'gather', 'one', 'whole', 'locu', 'faith', 'orient', 'person', 'life', 'wari', 'give', 'heart', 'god', 'martin', 'luther', 'said', 'belief', 'upon', 'lean', 'heart', 'gospel', 'read', 'come', 'sunday', 'includ', 'parabl', 'sower', 'jesu', 'speak', 'vari', 'respons', 'word', 'come', 'reign', 'god', 'warn', 'hard', 'faith', 'care', 'world', 'lure', 'wealth', 'choke', 'word', 'yield', 'noth', 'matthew', '<NUM>', '<NUM>', 'word', 'intend', 'rehabilit', 'human', 'heart', 'harden', 'wick', 'godless', 'biblic', 'parlanc', 'one', 'broadcast', 'seed', 'rather', 'care', 'space', 'plant', 'seed', 'end', 'vari', 'context', 'good', 'soil', 'encourag', 'growth', 'rocki', 'soil', 'thorni', 'patch', 'trodden', 'path', 'make', 'hard', 'seed', 'bear', 'plenti', 'yield', 'vari', 'element', 'conspir', 'keep', 'seed', 'word', 'accomplish', 'true', 'intent', 'renew', 'heart', 'grace', 'respond', 'word', 'god', 'easi', 'thing', 'put', 'us', 'odd', 'domin', 'cultur', 'world', 'acquisit', 'comfort', 'person', 'secur', 'jesu', 'warn', 'claim', 'word', 'difficult', 'anyon', 'hear', 'word', 'basileia', 'reign', 'god', 'understand', 'evil', 'one', 'come', 'snatch', 'away', 'sown', 'heart', 'v', '<NUM>', 'consumerist', 'christian', 'perform', 'conveni', 'work', 'around', 'eas', 'burden', 'jesu', 'claim', 'releg', 'warn', 'statu', 'interim', 'ethic', 'jesu', 'could', 'expect', 'follow', 'radic', 'fidel', 'world', 'would', 'soon', 'end', 'would', 'return', 'rescu', 'challeng', 'live', 'world', 'compet', 'claim', 'sure', 'could', 'meant', 'peopl', 'live', 'econom', 'grace', 'long', 'term', 'wallac', 'hartsfield', 'ii', 'suggest', 'preach', 'student', 'seminari', 'one', 'proclaim', 'must', 'find', 'origin', 'claim', 'text', 'hearer', 'claim', 'hearer', 'today', 'claim', 'upon', 'preacher', 'parabl', 'would', 'make', 'sens', 'agricultur', 'set', 'howev', 'pungent', 'insight', 'remain', 'call', 'hearer', 'word', 'examin', 'respons', 'think', 'issu', 'forth', 'heart', 'well', 'chief', 'long', 'recent', 'opportun', 'write', 'blurb', 'import', 'book', 'author', 'elizabeth', 'hinson', 'hasti', 'forthcom', 'text', 'problem', 'wealth', 'challeng', 'assumpt', 'peopl', 'poverti', 'call', 'new', 'vision', 'commun', 'requir', 'econom', 'justic', 'delin', 'problem', 'theolog', 'econom', 'integr', 'relat', 'echo', 'teach', 'parabl', 'wealth', 'problem', 'contend', 'trampl', 'compass', 'econom', 'matter', 'heart', 'word', 'god', 'take', 'lodg', 'heart', 'beckon', 'toward', 'gener', 'live', 'littl', 'satisfi', 'world', 'good', 'heart', 'locat', 'fruit', 'bear', 'make', 'differ', 'treasur', 'god', 'emerg', 'reign']",
         "reliable"
        ],
        [
         "25",
         "['talk', 'back', 'someon', 'corner', 'presid', 'obama', 'held', 'press', 'confer', 'conven', 'live', 'stream', 'meet', 'econom', 'recoveri', 'advisori', 'board', 'wham', 'right', 'across', 'jaw', 'senat', 'think', 'oppos', 'water', 'financi', 'reform', 'given', 'presidenti', 'memorandum', 'notic', 'diplomat', 'cours', 'presid', 'obama', 'come', 'week', 'everi', 'member', 'congress', 'go', 'make', 'decis', 'go', 'side', 'special', 'interest', 'statu', 'quo', 'go', 'side', 'american', 'peopl', 'anyon', 'oppos', 'reform', 'go', 'leav', 'taxpay', 'hook', 'crisi', 'like', 'one', 'seen', 'ever', 'happen', 'consid', 'unaccept', 'happi', 'presid', 'obama', 'learn', 'putt', 'bring', 'presidenti', 'hammer', 'get', 'thing', 'done', 'uh', 'oh', 'beauti', 'enough', 'gonna', 'freak', 'love', 'money', 'green', 'quot', 'industri', 'happi', 'prospect', 'reform', 'seen', 'usual', 'armi', 'lobbyist', 'dispatch', 'capitol', 'hill', 'found', 'will', 'alli', 'side', 'aisl', 'congress', 'tri', 'carv', 'lot', 'except', 'special', 'loophol', 'folk', 'wall', 'street', 'keep', 'make', 'riski', 'bet', 'without', 'oversight', 'zing', 'mr', 'presid', 'call', 'cock', 'roach', 'progress', 'bitch', 'whine', 'presid', 'attempt', 'bipartisanship', 'know', 'presid', 'unit', 'blue', 'state', 'ought', 'make', 'tickl', 'pink', 'orang', 'hope', 'pass', 'bipartisan', 'bill', 'bipartisanship', 'cannot', 'mean', 'simpli', 'allow', 'lobbyist', 'driven', 'loophol', 'put', 'american', 'taxpay', 'risk', 'would', 'real', 'reform', 'axe', 'say', 'made', 'mistak', 'think', 'republican', 'would', 'put', 'asid', 'partisanship', 'work', 'administr', 'solv', 'biggest', 'crisi', 'seen', 'score', 'year', 'decad', 'report', 'decid', 'video', 'press', 'confer', 'courtesi', '<URL>']",
         "reliable"
        ],
        [
         "26",
         "['<URL>', 'ted', 'snider', 'moment', 'unit', 'state', 'remov', 'nuclear', 'sanction', 'iran', 'slap', 'new', 'sanction', 'iran', 'claim', 'two', 'iranian', 'test', 'ballist', 'missil', 'capabl', 'deliv', 'nuclear', 'warhead', 'violat', 'secur', 'council', 'resolut', 'iranian', 'sooner', 'learn', 'nuclear', 'sanction', 'remov', 'follow', 'intern', 'atom', 'energi', 'associ', 'iaea', 'announc', 'verifi', 'iran', 'complianc', 'oblig', 'p', '<NUM>', '+', '<NUM>', 'joint', 'comprehens', 'plan', 'action', 'jcpoa', 'agreement', 'learn', 'new', 'sanction', 'impos', 'jcpoa', 'commit', 'iran', 'undertak', 'activ', 'relat', 'ballist', 'missil', 'design', 'capabl', 'deliv', 'nuclear', 'weapon', 'defin', 'period', 'time', 'iran', 'insist', 'complianc', 'requir', 'say', 'missil', 'design', 'carri', 'convent', 'payload', 'deni', 'missil', 'capabl', 'nuclear', 'arm', 'iran', 'expert', 'gareth', 'porter', 'argu', 'inclus', 'ballist', 'missil', 'claus', 'victori', 'iran', 'first', 'place', 'precis', 'provis', 'end', 'meaningless', 'ban', 'ballist', 'missil', 'design', 'nuclear', 'weapon', 'p', '<NUM>', '+', '<NUM>', 'nation', 'seem', 'agre', 'p', '<NUM>', '+', '<NUM>', 'nation', 'join', 'american', 'iranian', 'elect', 'come', 'fast', 'upon', 'lift', 'sanction', 'new', 'sanction', 'like', 'seriou', 'harm', 'presid', 'hassan', 'rouhani', 'lift', 'sanction', 'dwarf', 'new', 'sanction', 'easili', 'claim', 'remov', 'sanction', 'return', 'iranian', 'oil', 'market', 'free', '<CUR>', '<NUM>', 'billion', 'frozen', 'iranian', 'money', 'provid', 'huge', 'infus', 'iranian', 'economi', 'improv', 'live', 'iranian', 'even', 'minu', 'much', 'smaller', 'new', 'sanction', 'new', 'sanction', 'crippl', 'iran', 'economi', 'even', 'touch', 'iranian', 'affect', 'compani', 'peopl', 'ship', 'relev', 'technolog', 'iran', 'new', 'american', 'sanction', 'add', 'volum', 'hardlin', 'argument', 'tehran', 'though', 'shouldnt', 'effect', 'rouhani', 'stand', 'peopl', 'may', 'increas', 'intern', 'challeng', 'face', 'obama', 'new', 'sanction', 'like', 'meant', 'assuag', 'hardlin', 'oppos', 'domest', 'like', 'opposit', 'effect', 'hardlin', 'oppos', 'rouhani', 'rouhani', 'hardlin', 'opposit', 'perceiv', 'new', 'sanction', 'sort', 'american', 'decept', 'trickeri', 'wait', 'reveal', 'proof', 'rouhani', 'na', 'vet', 'trust', 'american', 'negoti', 'iranian', 'hardlin', 'oppos', 'rouhani', 'long', 'argu', 'na', 'trust', 'given', 'american', 'everyth', 'promis', 'give', 'give', 'everyth', 'promis', 'give', 'hardlin', 'histori', 'side', 'seen', 'happen', 'mani', 'time', 'feel', 'reassur', 'obama', 'wait', 'rouhani', 'complet', 'play', 'hand', 'compli', 'iran', 'nuclear', 'commit', 'agre', 'prison', 'exchang', 'slap', 'sanction', 'next', 'day', 'look', 'much', 'like', 'happen', 'hashemi', 'rafsanjani', 'presid', 'iran', 'tri', 'improv', 'relat', 'u', 'exert', 'iran', 'region', 'influenc', 'interven', 'behalf', 'unit', 'state', 'help', 'win', 'releas', 'american', 'hostag', 'held', 'lebanon', 'presid', 'h', 'w', 'bush', 'promis', 'iran', 'help', 'would', 'long', 'rememb', 'goodwil', 'beget', 'goodwil', 'wasnt', 'didnt', 'iran', 'promis', 'america', 'wait', 'done', 'promis', 'instead', 'bush', 'betray', 'rafsanjani', 'noth', 'return', 'american', 'sent', 'word', 'rafsanjani', 'expect', 'american', 'reciproc', 'later', 'rafsanjani', 'would', 'keep', 'iran', 'offici', 'neutral', 'iraq', 'invad', 'kuwait', 'neutral', 'realli', 'pro', 'american', 'stanc', 'iran', 'reject', 'iraqi', 'plea', 'help', 'ground', 'neutral', 'allow', 'us', 'use', 'iranian', 'airspac', 'though', 'us', 'fail', 'return', 'good', 'good', 'though', 'rafsanjani', 'hope', 'end', 'iran', 'intern', 'isol', 'help', 'american', 'us', 'conven', 'isra', 'palestinian', 'madrid', 'confer', 'invit', 'nearli', 'everi', 'affect', 'nation', 'snub', 'iran', 'close', 'door', 'face', 'continu', 'intern', 'isol', 'next', 'iranian', 'presid', 'seyi', 'mohammad', 'khatami', 'also', 'will', 'hope', 'america', 'would', 'iran', 'want', 'iran', 'consist', 'america', 'want', 'respons', '<NUM>', '<NUM>', 'iran', 'back', 'us', 'cooper', 'al', 'qaeda', 'taliban', 'northern', 'allianc', 'provid', 'mani', 'anti', 'taliban', 'fighter', 'america', 'alli', 'invad', 'afghanistan', 'least', 'part', 'put', 'togeth', 'iran', 'place', 'hand', 'american', 'iran', 'offer', 'air', 'base', 'us', 'permit', 'us', 'carri', 'search', 'rescu', 'mission', 'down', 'us', 'plane', 'iranian', 'suppli', 'us', 'intellig', 'taliban', 'al', 'qaeda', 'target', 'iran', 'also', 'crucial', 'set', 'afghanistan', 'post', 'taliban', 'govern', 'offer', 'help', 'rebuild', 'afghanistan', 'armi', 'presid', 'georg', 'w', 'bush', 'offer', 'iran', 'noth', 'return', 'exchang', 'iran', 'goodwil', 'crucial', 'assist', '<DATE>', 'presid', 'bush', 'includ', 'iran', 'axi', 'evil', 'speech', 'khatami', 'stun', 'hardlin', 'oppos', 'effort', 'use', 'georg', 'bush', 'speech', 'evid', 'never', 'negoti', 'deal', 'unit', 'state', 'iranian', 'hardlin', 'like', 'see', 'histor', 'pattern', 'repeat', 'sanction', 'betray', 'seen', 'pattern', 'betray', 'also', 'seen', 'treacher', 'use', 'ballist', 'missil', 'argument', 'us', 'argu', 'ballist', 'missil', 'iran', 'twice', 'test', 'capabl', 'deliv', 'nuclear', 'weapon', 'iranian', 'say', 'theyr', 'rest', 'p', '<NUM>', '+', '<NUM>', 'commun', 'seem', 'agre', 'histori', 'us', 'play', 'ballist', 'missil', 'card', 'maintain', 'intens', 'pressur', 'iran', 'nuclear', 'program', '<DATE>', 'nation', 'intellig', 'estim', 'nie', 'clearli', 'state', 'conclus', 'american', 'intellig', 'commun', 'countri', 'major', 'declar', 'nuclear', 'power', 'develop', 'otherwis', 'acquir', 'ballist', 'missil', 'next', '<NUM>', 'year', 'could', 'threaten', 'contigu', '<NUM>', 'state', 'canada', 'intellig', 'commun', 'pressur', 'consciou', 'polit', 'strategi', 'revis', 'nie', 'us', 'use', 'fals', 'politic', 'claim', 'iran', 'ballist', 'missil', 'program', 'one', 'principl', 'element', 'laptop', 'document', 'deliv', 'us', 'intellig', '<DATE>', 'purport', 'studi', 'redesign', 'reentri', 'vehicl', 'shahab', '<NUM>', 'ballist', 'missil', 'allow', 'arm', 'nuclear', 'weapon', 'asid', 'seriou', 'problem', 'like', 'laptop', 'document', 'came', 'mujahadeen', 'e', 'khalp', 'mek', 'terrorist', 'organ', 'oppos', 'iranian', 'regim', 'notori', 'unreli', 'sourc', 'inform', 'iran', 'nuclear', 'program', 'studi', 'seriou', 'technic', 'flaw', 'gareth', 'porter', 'clearli', 'explain', 'flaw', 'book', 'manufactur', 'crisi', 'porter', 'explain', 'us', 'govern', 'fund', 'nuclear', 'laboratori', 'conclud', 'none', 'draw', 'ballist', 'missil', 'studi', 'would', 'work', 'damningli', 'porter', 'report', 'analyst', 'realiz', 'reentri', 'vehicl', 'drawn', 'schemat', 'laptop', 'document', 'didnt', 'match', 'reentri', 'vehicl', 'missil', 'iran', 'current', 'use', 'author', 'forger', 'document', 'didnt', 'know', 'iran', 'current', 'missil', 'despit', 'manifest', 'unreli', 'document', 'iran', 'ballist', 'missil', 'program', 'use', 'put', 'enorm', 'pressur', 'iran', 'nuclear', 'negoti', 'process', 'russian', 'would', 'also', 'point', 'inaccuraci', 'us', 'claim', 'iran', 'ballist', 'missil', 'program', '<DATE>', 'cabl', 'reveal', 'wikileak', '<NUM>', 'moscow', '<NUM>', 'came', 'us', 'embassi', 'russia', 'admit', 'russian', 'disput', 'disagre', 'us', 'assumpt', 'decis', 'regard', 'threat', 'pose', 'iranian', 'icbm', 'develop', 'us', 'forecast', '<DATE>', 'rumsfield', 'commiss', '<DATE>', 'nation', 'intellig', 'estim', 'proven', 'incorrect', 'later', 'wikileak', 'cabl', '<NUM>', 'ate', '<NUM>', 'come', 'state', 'depart', 'reveal', 'american', 'media', 'report', 'late', '<DATE>', 'us', 'intellig', 'possess', 'evid', 'iran', 'missil', 'could', 'reach', 'europ', 'serious', 'mislead', 'cabl', 'actual', 'say', 'evid', 'russian', 'expert', 'iranian', 'nuclear', 'program', 'particip', 'joint', 'threat', 'assess', 'us', 'reject', 'evid', 'american', 'couldnt', 'support', 'claim', 'comment', 'wikileak', 'cabl', 'gareth', 'porter', 'say', 'us', 'claim', 'iran', 'north', 'korean', 'bm', '<NUM>', 'missil', 'forc', 'admit', 'photograph', 'hard', 'evid', 'cabl', 'show', 'obama', 'administr', 'bluff', 'keep', 'pressur', 'iran', 'play', 'nuclear', 'capabl', 'ballist', 'missil', 'card', 'call', 'russian', 'insist', 'iran', 'ballist', 'missil', 'capabl', 'carri', 'nuclear', 'weapon', 'time', 'though', 'sanction', 'sleight', 'hand', 'like', 'effect', 'rouhani', 'abil', 'show', 'fulfil', 'elect', 'promis', 'bring', 'sanction', 'relief', 'benefit', 'iranian', 'play', 'hand', 'hardlin', 'could', 'use', 'challeng', 'intern', 'hardlin', 'disappear', 'reappear', 'sanction', 'seen', 'evid', 'rouhani', 'na', 'trust', 'anyth', 'would', 'differ', 'obama', 'histori', 'show', 'american', 'cannot', 'trust', 'deliv', 'promis', 'iran', 'first', 'deliv', 'play', 'nuclear', 'capabl', 'ballist', 'missil', 'card', 'also', 'seen', 'fit', 'long', 'histor', 'pattern', 'use', 'card', 'maintain', 'pressur', 'iran', 'nuclear', 'issu', 'ted', 'snider', 'graduat', 'degre', 'philosophi', 'write', 'analyz', 'pattern', 'us', 'foreign', 'polici', 'histori']",
         "fake"
        ],
        [
         "27",
         "['rivalri', 'make', 'good', 'sport', 'box', 'last', 'remnant', 'old', 'fashion', 'cold', 'war', 'like', 'battl', 'will', 'cuban', 'nation', 'box', 'team', 'still', 'shroud', 'mysteri', 'secreci', 'surround', 'train', 'fear', 'respect', 'year', 'american', 'team', 'could', 'strongest', 'sinc', 'charismat', 'crew', 'led', 'sugar', 'ray', 'leonard', '<DATE>', 'year', 'ago', 'american', 'three', 'reign', 'world', 'champion', 'cuban', 'felix', 'savon', 'six', 'time', 'world', 'titlist', 'two', 'world', 'champion', 'clash', 'two', 'power', 'experienc', 'team', 'highlight', 'competit', 'sydney', 'exhibit', 'center', 'box', 'alway', 'surpris', 'enigmat', 'judg', 'decis', 'enough', 'twist', 'turn', 'tom', 'clanci', 'novel', 'setup', 'one', 'major', 'chang', 'game', 'four', 'two', 'minut', 'round', 'separ', 'one', 'minut', 'rest', 'period', 'instead', 'three', 'three', 'minut', 'round', 'one', 'minut', 'unchang', 'howev', 'computer', 'score', 'system', 'punch', 'bunch', 'matter', 'heavi', 'power', 'shot', 'good', 'jab', 'deliv', 'way', 'five', 'judg', 'see', 'effect', 'weapon', 'sneaki', 'crunch', 'left', 'hook', 'bodi', 'might', 'difficult', 'detect', 'judg', 'score', 'extrem', 'subject', 'would', 'say', 'prejud', 'comput', 'institut', 'standard', 'system', 'judg', 'creat', 'input', 'comput', 'wide', 'discrep', 'bout', 'score', 'five', 'judg', 'comput', 'score', 'pad', 'button', 'judg', 'suppos', 'hit', 'button', 'like', 'player', 'video', 'game', 'everi', 'time', 'see', 'punch', 'close', 'fist', 'hit', 'oppon', 'three', 'five', 'judg', 'hit', 'button', 'within', 'one', 'second', 'punch', 'tabul', 'point', 'boxer', 'boxer', 'point', 'end', 'four', 'round', 'win', 'fight', 'stop', 'boxer', 'cannot', 'continu', 'knock', 'disqualifi', 'computer', 'score', 'remain', 'hub', 'judg', 'controversi', 'sinc', 'button', 'test', 'judg', 'reflex', 'judg', 'differ', 'part', 'world', 'put', 'differ', 'valu', 'differ', 'punch', 'style', 'european', 'judg', 'exampl', 'said', 'favor', 'head', 'blow', 'give', 'less', 'credenc', 'bodi', 'shot', 'name', 'talent', 'veteran', 'field', 'return', '<NUM>', 'medalist', 'atlanta', 'game', 'compet', 'brian', 'viloria', 'american', 'entri', '<NUM>', 'pound', 'hawaii', 'best', 'obviou', 'nicknam', 'hawaiian', 'punch', 'viloria', 'joke', 'though', 'world', 'champ', 'weight', 'american', 'ricardo', 'juarez', 'anoth', 'world', 'champion', '<NUM>', 'pound', 'featur', 'matchup', 'figur', 'savon', 'american', 'heavyweight', 'michael', 'bennett', '<NUM>', 'year', 'old', 'chicago', 'began', 'amateur', 'box', 'less', 'two', 'year', 'ago', 'bennett', 'took', 'box', 'serv', 'seven', 'year', 'prison', 'arm', 'robberi', 'bennett', 'also', 'reign', 'world', 'champion', 'savon', 'declin', 'get', 'ring', 'fight', 'savon', 'protest', 'els', 'controversi', 'judg', 'decis', 'involv', 'anoth', 'cuban', 'boxer', 'cuban', 'sever', 'talent', 'fighter', 'includ', 'mario', 'kindelan', '<NUM>', 'pound', 'juan', 'hernandez', 'silver', 'medalist', '<NUM>', 'pound', '<DATE>', 'bill', 'pennington']",
         "reliable"
        ],
        [
         "28",
         "['need', 'work', 'csi', 'identifi', 'guilti', 'parti', 'death', 'washington', 'even', 'barack', 'obama', 'took', 'oath', 'offic', 'republican', 'leader', 'conserv', 'think', 'tank', 'right', 'wing', 'pundit', 'call', 'total', 'obstruct', 'new', 'presid', 'agenda', 'bill', 'kristol', 'help', 'block', 'bill', 'clinton', 'health', 'care', 'reform', 'attempt', '<DATE>', 'call', 'histori', 'repeat', 'obama', 'stimulu', 'everyth', 'els', 'point', 'pride', 'clinton', 'econom', 'program', 'receiv', 'exactli', 'zero', 'gop', 'vote', 'either', 'hous', 'kristol', '<DATE>', 'advis', 'made', 'made', 'much', 'easier', 'defeat', 'health', 'care', 'initi', 'import', 'republican', 'think', 'go', 'fight', 'later', 'health', 'care', 'fight', 'later', 'mayb', 'bank', 'bailout', 'legisl', 'fight', 'later', 'kind', 'issu', 'chart', 'reveal', 'came', 'pass', 'time', 'time', 'presid', 'obama', 'could', 'count', 'vote', 'receiv', 'congression', 'republican', 'finger', 'usual', 'middl', 'one', 'one', 'hand', 'expans', 'state', 'children', 'health', 'insur', 'program', 'chip', 'four', 'million', 'american', 'kid', 'earn', 'back', 'whop', 'eight', 'gop', 'senat', 'one', 'arlen', 'specter', 'later', 'becam', 'democrat', 'badli', 'need', 'wall', 'street', 'reform', 'eventu', 'overcam', 'gop', 'filibust', 'pass', 'support', 'three', 'republican', 'hous', 'senat', 'respect', 'last', 'summer', 'took', '<NUM>', 'day', 'presid', 'obama', 'get', 'past', 'republican', 'filibust', 'extend', 'unemploy', 'benefit', 'small', 'busi', 'job', 'act', 'disclos', 'act', 'legisl', 'design', 'limit', 'torrent', 'secret', 'campaign', 'cash', 'unleash', 'suprem', 'court', 'citizen', 'unit', 'rule', 'septemb', 'republican', 'senat', 'prevent', 'ever', 'come', 'vote', 'one', 'way', 'street', 'bipartisanship', 'washington', 'clearli', 'display', 'parti', 'attempt', 'pass', 'tax', 'cut', 'econom', 'stimulu', 'turncoat', 'democrat', 'like', 'debt', 'super', 'committe', 'member', 'max', 'baucu', 'help', 'reagan', 'bush', 'sell', 'suppli', 'side', 'snake', 'oil', 'republican', 'determin', 'torpedo', 'new', 'democrat', 'presid', 'consid', '<DATE>', 'american', 'recoveri', 'reinvest', 'act', 'credit', 'save', 'three', 'million', 'job', 'prevent', 'mccain', 'econom', 'advis', 'mark', 'zandi', 'call', 'depress', '<NUM>', 'obama', 'margin', 'passag', 'final', '<CUR>', '<NUM>', 'billion', 'confer', 'bill', 'almost', 'unchang', 'earlier', 'version', 'produc', 'hous', 'senat', 'despit', 'minor', 'whip', 'eric', 'cantor', 'earlier', 'claim', 'obama', 'bipartisan', 'outreach', 'effici', 'process', 'presid', 'shut', 'republican', 'hous', 'senat', 'stimulu', 'actual', 'lost', 'ground', 'ted', 'kennedi', 'absenc', 'vote', 'abort', 'commerc', 'secretari', 'judd', 'gregg', 'made', 'final', 'talli', '<NUM>', '<NUM>', 'much', 'minor', 'leader', 'mitch', 'mcconnel', '<DATE>', 'statement', 'obama', 'stimulu', 'propos', 'could', 'well', 'broad', 'republican', 'appeal', 'republican', 'obstruction', 'sound', 'familiar', 'clinton', '<DATE>', 'econom', 'program', 'scrape', 'without', 'captur', 'support', 'even', 'one', 'gop', 'lawmak', 'new', 'york', 'time', 'remark', 'historian', 'believ', 'import', 'legisl', 'least', 'sinc', 'world', 'war', 'ii', 'enact', 'without', 'least', 'one', 'vote', 'either', 'hous', 'major', 'parti', 'barack', 'obama', 'legisl', 'agenda', 'ran', 'endless', 'republican', 'obstacl', 'congress', 'judici', 'nomine', 'hit', 'brick', 'wall', 'republican', 'decri', 'judici', 'filibust', 'demand', 'vote', 'presid', 'bush', 'select', 'feder', 'bench', 'stymi', 'obama', 'choic', 'record', 'rate', 'cite', 'research', 'allianc', 'justic', '<DATE>', 'thinkprogress', 'report', 'senat', 'confirm', 'fewer', 'obama', 'district', 'circuit', 'nomine', 'everi', 'presid', 'back', 'jimmi', 'carter', 'lowest', 'percentag', 'nomine', '<NUM>', 'presid', 'american', 'histori', 'point', 'presid', 'first', 'term', 'comparison', 'presid', 'georg', 'w', 'bush', 'clinton', 'georg', 'h', 'w', 'bush', 'reagan', 'carter', '<NUM>', '<NUM>', '<NUM>', '<NUM>', '<NUM>', 'nomine', 'confirm', 'two', 'year', 'respect', 'senat', 'republican', 'mass', 'obstruct', 'obama', 'judg', 'stand', 'stark', 'contrast', 'treatment', 'afford', 'past', 'presid', 'inde', 'senat', 'confirm', 'fewer', 'judg', 'obama', 'first', 'two', 'year', 'offic', 'period', 'carter', 'administr', 'even', 'though', 'judiciari', '<NUM>', 'percent', 'smaller', 'carter', 'offic', 'dismal', 'record', 'actual', 'improv', 'year', 'earlier', '<NUM>', 'presid', 'obama', 'judici', 'appoint', 'confirm', 'content', 'feder', 'judg', 'retir', 'twice', 'rate', 'replac', 'confirm', 'congression', 'republican', 'head', 'five', 'week', 'august', 'recess', 'without', 'take', 'action', '<NUM>', 'obama', 'judici', 'nomine', '<NUM>', 'approv', 'unanim', 'judiciari', 'committe', 'thinkprogress', 'also', 'note', 'rapidli', 'grow', 'caseload', 'size', 'feder', 'judiciari', 'mean', 'even', 'judici', 'vacanc', 'fill', 'still', 'need', 'judg', 'wonder', 'chief', 'justic', 'john', 'robert', 'certainli', 'friend', 'barack', 'obama', 'democraci', 'parti', 'urg', 'action', 'last', 'year', 'address', 'persist', 'problem', 'judici', 'vacanc', 'republican', 'obstruction', 'mere', 'destroy', 'nomin', 'judici', 'standout', 'like', 'goodwin', 'liu', 'later', 'assum', 'posit', 'suprem', 'court', 'california', 'high', 'profil', 'obama', 'administr', 'nomine', 'like', 'dawn', 'johnson', 'peter', 'diamond', 'latter', 'nobel', 'prize', 'win', 'economist', 'never', 'saw', 'light', 'day', 'senat', 'alreadi', 'dissuad', 'presid', 'obama', 'choos', 'senat', 'candid', 'elizabeth', 'warren', 'head', 'new', 'consum', 'financi', 'protect', 'bureau', 'creat', 'congress', 'last', 'year', 'minor', 'leader', 'mitch', 'mcconnel', 'announc', 'gop', 'would', 'block', 'comer', 'put', 'forward', 'white', 'hous', 'sexist', 'elizabeth', 'warren', 'specif', 'mcconnel', 'spokesman', 'donald', 'stewart', 'said', 'nomine', 'presid', 'obama', 'use', 'recess', 'appoint', 'put', 'richard', 'cordray', 'charg', 'cfpb', 'mcconnel', 'senat', 'republican', 'file', 'suit', 'ian', 'millhis', 'report', '<DATE>', 'republican', 'block', 'score', 'obama', 'nomine', 'matter', 'larg', 'small', 'often', 'small', 'follow', 'footstep', 'sen', 'richard', 'shelbi', 'r', 'al', 'place', 'hold', '<NUM>', 'presid', 'obama', 'nomine', 'last', 'year', 'order', 'extort', 'ten', 'billion', 'dollar', 'worth', 'pork', 'state', 'sen', 'lindsey', 'graham', 'r', 'sc', 'threw', 'similar', 'tantrum', 'yesterday', 'mere', '<CUR>', '<NUM>', 'graham', 'r', 'sc', 'promis', 'shut', 'execut', 'branch', 'judici', 'confirm', 'senat', 'get', '<CUR>', '<NUM>', 'conduct', 'studi', 'deepen', 'port', 'charleston', 'sinc', 'hous', 'republican', 'assum', 'new', 'hous', 'major', '<DATE>', 'presid', 'obama', 'agenda', 'effect', 'shut', 'even', 'success', 'hostag', 'take', 'feder', 'budget', 'u', 'debt', 'ceil', 'senat', 'republican', 'year', 'shatter', 'filibust', 'record', 'stop', 'democrat', 'legisl', 'dead', 'track', 'turn', 'roadblock', 'republican', 'start', 'work', 'democrat', 'recaptur', 'senat', '<DATE>', 'redoubl', 'effort', 'barack', 'obama', 'walk', 'oval', 'offic', '<DATE>', 'back', '<DATE>', 'former', 'senat', 'minor', 'whip', 'trent', 'lott', 'explain', 'success', 'republican', 'strategi', 'derail', 'new', 'democrat', 'major', 'hous', 'senat', 'strategi', 'obstructionist', 'work', 'fail', 'far', 'work', 'us', 'republican', '<NUM>', 'congress', 'get', 'warm', 'senat', 'gop', 'mere', 'shatter', 'previou', 'record', 'filibust', 'mcclatchi', 'report', '<DATE>', 'republican', '<NUM>', 'congress', 'vow', 'block', 'virtual', 'everyth', 'count', 'voter', 'blame', 'democrat', 'gop', 'roadblock', 'mcclatchi', 'explain', 'updat', 'analysi', 'tuesday', 'thank', 'republican', 'record', 'break', 'use', 'filibust', 'congress', 'stuck', 'partisan', 'ideolog', 'gridlock', 'broken', 'even', 'robert', 'samuelson', 'friend', 'democrat', 'acknowledg', '<DATE>', '<DATE>', 'republican', 'control', 'senat', 'file', 'clotur', '<NUM>', 'time', 'break', 'democrat', 'filibust', 'sinc', '<DATE>', 'democrat', 'took', 'charg', 'file', '<NUM>', 'clotur', 'motion', 'republican', 'mere', 'eviscer', 'old', 'mark', 'clotur', 'motion', 'filibust', 'descent', 'minor', '<DATE>', 'paul', 'krugman', 'detail', 'late', '<DATE>', 'gop', 'obstruction', 'fundament', 'alter', 'senat', 'accur', 'busi', 'polit', 'scientist', 'barbara', 'sinclair', 'done', 'math', '<DATE>', 'find', 'extend', 'debat', 'relat', 'problem', 'threaten', 'actual', 'filibust', 'affect', '<NUM>', 'percent', 'major', 'legisl', '<DATE>', 'risen', '<NUM>', 'percent', 'democrat', 'retook', 'control', 'congress', '<DATE>', 'republican', 'found', 'minor', 'soar', '<NUM>', 'percent', 'washington', 'post', 'highlight', 'last', 'week', 'total', 'obstruction', 'new', 'normal', 'republican', 'mean', 'shock', 'pictur', 'clear', 'post', 'ezra', 'klein', 'sum', 'observ', 'agre', 'basic', 'point', 'correct', 'see', 'mani', 'filibust', 'today', 'ever', 'actual', 'think', 'wrong', 'way', 'think', 'issu', 'today', 'see', '<NUM>', '<NUM>', '<NUM>', 'filibust', 'filibust', 'constant', 'use', 'rariti', 'inde', 'even', 'call', 'filibust', 'noth', 'talk', 'hold', 'floor', 'call', '<NUM>', 'vote', 'requir', 'appli', 'everyth', 'even', 'minor', 'specif', 'choos', 'invok', 'longer', 'knowledg', 'categori', 'bill', 'get', 'filibust', 'thing', 'simpli', 'done', 'though', 'bill', 'minor', 'choos', 'invok', '<NUM>', 'vote', 'option', 'harri', 'reid', 'say', 'thing', 'like', '<NUM>', 'vote', 'requir', 'everyth', 'though', 'small', 'number', 'bill', 'major', 'use', 'budget', 'reconcili', 'process', 'short', 'circuit', '<NUM>', 'vote', 'requir', 'jame', 'fallow', 'lament', 'follow', 'headlin', 'hill', 'repres', 'conserv', 'coup', 'détat', 'conserv', 'coup', 'inde', 'studi', 'polit', 'scienc', 'professor', 'keith', 'pool', 'howard', 'rosenth', 'show', 'republican', 'respons', 'hyper', 'polar', 'congress', 'gop', 'move', 'far', 'right', 'hous', 'conserv', 'last', '<NUM>', 'year', 'even', 'wors', 'look', 'co', 'author', 'norm', 'ornstein', 'conclud', 'look', 'data', 'includ', 'vote', 'record', 'democrat', 'move', 'left', 'probabl', '<NUM>', 'yard', 'line', 'presid', 'obama', 'probabl', 'around', '<NUM>', 'republican', 'move', 'behind', 'goal', 'post', 'result', 'dana', 'milbank', 'mock', 'almost', 'noth', 'congress', 'institut', 'wildli', 'unpopular', 'approv', 'rate', 'consist', '<NUM>', 'percent', 'despit', 'gop', 'strangl', 'capitol', 'hill', 'voter', 'still', 'give', 'gop', 'narrow', 'edg', 'gener', 'congression', 'ballot', 'media', 'stand', 'still', 'warm', 'bodi', 'congress', 'democrat', 'republican', 'must', 'complicit', 'incredul', 'greg', 'sargent', 'put', 'one', 'parti', 'blame', 'tell', 'sunday', 'show', 'part', 'ornstein', 'conclud', 'republican', 'crime', 'gone', 'unpunish', 'correctli', 'note', 'price', 'pay', 'obstruct', 'obstruct', 'sake', 'put', 'anoth', 'way', 'republican', 'parti', 'promis', 'kill', 'washington', 'three', 'year', 'later', 'still', 'get', 'away', 'murder', 'crosspost', 'perrspect']",
         "reliable"
        ],
        [
         "29",
         "['agent', 'ron', 'artest', 'said', 'yesterday', 'hope', 'indiana', 'pacer', 'would', 'find', 'heart', 'forgiv', 'artest', 'keep', 'team', 'ron', 'feel', 'express', 'thing', 'frustrat', 'said', 'agent', 'mark', 'steven', 'refer', 'artest', 'trade', 'request', 'first', 'publish', 'indianapoli', 'star', 'interview', 'publish', 'yesterday', 'star', 'artest', 'said', 'want', 'stay', 'pacer', 'steven', 'said', 'telephon', 'convers', 'yesterday', 'donni', 'walsh', 'indiana', 'chief', 'execut', 'told', 'team', 'move', 'forward', 'tri', 'trade', 'artest', 'holiday', 'season', 'forgiv', 'time', 'year', 'steven', 'said', 'indiana', 'pacer', 'find', 'heart', 'forgiv', 'would', 'like', 'stay', 'indiana', 'stuck', 'ron', 'rough', 'time', 'howev', 'mean', 'ron', 'mean', 'situat', 'escal', 'way', 'jermain', 'neal', 'team', 'captain', 'said', 'last', 'week', 'boston', 'relationship', 'artest', 'pacer', 'front', 'offic', 'cannot', 'ask', 'us', 'mend', 'relationship', 'neal', 'said', 'person', 'accept', 'ask', 'anoth', 'issu', 'pacer', 'took', 'posit', 'last', 'week', 'artest', 'trade', 'request', 'last', 'straw', 'artest', 'deactiv', 'indiana', 'famili', 'walsh', 'avail', 'comment', 'last', 'night', 'piston', 'win', 'doubl', 'overtim', 'chauncey', 'billup', 'hit', '<NUM>', 'footer', 'three', 'tenth', 'second', 'left', 'second', 'overtim', 'last', 'night', 'finish', '<NUM>', 'point', 'detroit', '<NUM>', '<NUM>', 'victori', 'host', 'memphi', 'grizzli', 'detroit', 'four', 'row', 'grizzli', 'tie', 'score', '<NUM>', '<NUM>', 'damon', 'stoudamir', 'made', '<NUM>', 'pointer', 'top', 'key', '<NUM>', 'second', 'left', 'stoudamir', '<NUM>', 'point', 'second', 'overtim', 'pau', 'gasol', 'led', 'grizzli', '<NUM>', 'point', '<NUM>', 'rebound', 'score', 'final', 'second', 'regul', 'first', 'overtim', 'forc', 'extra', 'period', 'regul', 'end', '<NUM>', '<NUM>', 'piston', 'three', 'field', 'goal', 'fourth', 'quarter', 'ap', 'charlott', 'hold', 'overtim', 'primoz', 'brezec', 'score', '<NUM>', '<NUM>', 'point', 'overtim', 'help', 'host', 'bobcat', 'beat', 'sacramento', '<NUM>', '<NUM>', 'bobcat', 'built', '<NUM>', 'point', 'lead', 'overtim', 'went', 'scoreless', 'final', '<NUM>', 'minut', '<NUM>', 'second', 'bobcat', 'forward', 'emeka', 'okafor', 'guard', 'kareem', 'rush', 'injur', 'game', 'okafor', 'left', 'appear', 'serious', 'sprain', 'right', 'ankl', 'third', 'quarter', 'rush', 'play', 'seven', 'minut', 'leav', 'strain', 'left', 'index', 'finger', 'ap', 'peterson', '<NUM>', 'spark', 'raptor', 'morri', 'peterson', 'score', '<NUM>', 'point', 'includ', 'clinch', '<NUM>', 'pointer', 'eight', 'second', 'left', 'toronto', 'beat', 'host', 'orlando', 'magic', '<NUM>', '<NUM>', 'snap', 'three', 'game', 'lose', 'streak', 'raptor', 'made', 'nine', '<NUM>', 'pointer', 'includ', 'one', 'mike', 'jame', 'gave', 'lead', 'good', 'ap', 'yao', 'surgeri', 'houston', 'center', 'yao', 'ming', 'expect', 'miss', 'sever', 'week', 'surgeri', 'yesterday', 'clean', 'infect', 'left', 'big', 'toe', 'rocket', 'spokesman', 'nelson', 'lui', 'said', 'oper', 'success', 'yao', 'would', 'requir', 'antibiot', 'rest', 'sever', 'week', 'timet', 'yao', 'return', 'ap', 'wizard', 'hay', 'reinjur', 'knee', 'washington', 'guard', 'jarvi', 'hay', 'fractur', 'right', 'kneecap', 'indefinit', 'team', 'doctor', 'diagnos', 'injuri', 'yesterday', 'hay', 'felt', 'discomfort', 'first', 'quarter', 'friday', 'loss', 'laker', 'lo', 'angel', 'sustain', 'similar', 'injuri', '<DATE>', 'miss', 'rest', 'last', 'season', 'ap', 'photo', 'ricki', 'davi', 'drive', 'past', 'warrior', 'center', 'adon', 'foyl', '<NUM>', 'point', '<NUM>', 'assist', 'lead', 'celtic', '<NUM>', '<NUM>', 'victori', 'last', 'night', 'boston', 'photo', 'c', 'j', 'gunther', 'european', 'pressphoto', 'agenc']",
         "reliable"
        ],
        [
         "30",
         "['daniel', 'osbourn', 'play', 'rob', 'mallard', 'start', 'snoop', 'around', 'builder', 'tri', 'find', 'shock', 'news', 'stori', 'local', 'paper', 'grow', 'tire', 'cover', 'local', 'event', 'jump', 'chanc', 'interview', 'phelan', 'conor', 'mcintyr', 'hear', 'yasmeen', 'nazir', 'shelley', 'king', 'talk', 'abut', 'properti', 'scam', 'friend', 'vinni', 'ashford', 'ian', 'kelsey', 'first', 'phelan', 'happi', 'speak', 'daniel', 'believ', 'write', 'piec', 'student', 'newspap', 'realis', 'wannab', 'report', 'dig', 'deeper', 'person', 'life', 'follow', 'nurs', 'home', 'begin', 'panic']",
         "fake"
        ],
        [
         "31",
         "['health', 'hospit', 'big', 'effect', 'health', 'state', 'whole', 'accord', 'american', 'hospit', 'associ', 'hospit', 'industri', 'fifth', 'largest', 'new', 'jersey', 'provid', '<NUM>', 'job', '<CUR>', '<NUM>', 'billion', 'annual', 'salari', 'benefit', 'contribut', '<CUR>', '<NUM>', 'billion', 'state', 'economi', 'gov', 'jon', 'corzin', 'commiss', 'ration', 'new', 'jersey', 'health', 'care', 'resourc', 'form', 'late', 'last', 'year', 'look', 'promis', 'mandat', 'ensur', 'right', 'servic', 'right', 'place', 'best', 'approach', 'distribut', 'health', 'care', 'effici', 'throughout', 'state', 'newslett', 'sign', 'continu', 'read', 'main', 'stori', 'pleas', 'verifi', 'robot', 'click', 'box', 'invalid', 'email', 'address', 'pleas', 'enter', 'must', 'select', 'newslett', 'subscrib', 'sign', 'agre', 'receiv', 'occasion', 'updat', 'special', 'offer', 'new', 'york', 'time', 'product', 'servic', 'thank', 'subscrib', 'error', 'occur', 'pleas', 'tri', 'later', 'view', 'new', 'york', 'time', 'newslett', 'perhap', 'new', 'feder', 'prioriti', 'produc', 'better', 'reimburs', 'rate', 'thu', 'healthier', 'hospit', 'perhap', 'washington', 'take', 'account', 'factor', 'especi', 'disadvantag', 'new', 'jersey', 'current', 'formula', 'correct', 'mani', 'thing', 'state', 'commiss', 'member', 'begin', 'decid', 'hospit', 'surviv', 'distribut', 'scarc', 'state', 'money', 'must', 'take', 'account', 'factor', 'vari', 'wide', 'among', 'hospit', 'exampl', 'jersey', 'citi', 'medic', 'center', '<NUM>', 'percent', 'peopl', 'treat', 'emerg', 'room', 'either', 'medicaid', 'chariti', 'patient', 'colleagu', 'affluent', 'area', 'mix', 'patient', 'pay', 'care', 'sure', 'hospit', 'mani', 'bed', 'antiqu', 'build', 'keep', 'open', 'would', 'mere', 'throw', 'money', 'away', 'part', 'state', 'hospit', 'major', 'econom', 'engin', 'close', 'could', 'disastr', 'commun', 'mani', 'hospit', 'also', 'provid', 'import', 'servic', 'like', 'ambul', 'home', 'health', 'program', 'short', 'suppli', 'busi', 'run', 'hospit', 'specif', 'suggest', 'commiss', 'consid', 'first', 'commiss', 'must', 'ensur', 'everi', 'hospit', 'state', 'best', 'mean', 'strict', 'continu', 'audit', 'everyth', 'fiscal', 'practic', 'patient', 'length', 'stay', 'kind', 'servic', 'offer', 'tax', 'money', 'must', 'spent', 'wise', 'state', 'need', 'medic', 'account', 'profession', 'make', 'sure', 'second', 'reimburs', 'must', 'distribut', 'fairli', 'without', 'regard', 'polit', 'well', 'run', 'institut', 'patient', 'popul', 'includ', 'larg', 'number', 'old', 'poor', 'chronic', 'ill', 'underserv', 'hospit', 'cannot', 'profit', 'lose', 'money', 'patient', 'treat', 'mani', 'hospit', 'get', 'aid', 'need', 'elect', 'repres', 'want', 'share', 'pot', 'need', 'stop', 'sick', 'peopl', 'deserv', 'care', 'matter', 'live', 'much', 'money', 'medic', 'care', 'public', 'respons', 'unless', 'univers', 'health', 'care', 'unit', 'state', 'hospit', 'surviv', 'depend', 'compass', 'cannot', 'pay', 'combin', 'flinti', 'eye', 'attent', 'send', 'money', 'take', 'care']",
         "reliable"
        ],
        [
         "32",
         "['editor', 'princip', 'author', 'compos', 'pump', 'boy', 'dinett', 'countri', 'rock', 'music', 'nomin', 'toni', 'drama', 'desk', 'award', 'best', 'music', '<DATE>', 'read', 'keen', 'interest', 'stephen', 'holden', 'countri', 'bumpi', 'road', 'broadway', 'pump', 'boy', 'also', 'earn', 'olivi', 'nomin', 'best', 'music', 'london', 'canada', 'dora', 'award', 'best', 'music', 'becam', 'longest', 'run', 'music', 'chicago', 'histori', 'ran', 'six', 'season', 'branson', 'mo', 'broadway', 'music', 'achiev', 'crossov', 'countri', 'statu', 'perhap', 'current', 'crop', 'broadway', 'produc', 'bear', 'remind', 'writer', 'countri', 'root', 'put', 'root', 'new', 'york', 'time', 'ago', 'commit', 'music', 'develop', 'process', 'written', 'theater', 'first', 'foremost', 'even', 'new', 'show', 'work', 'could', 'earn', 'produc', 'buck', 'imagin', 'thing', 'jim', 'wann', 'manhattan']",
         "reliable"
        ],
        [
         "33",
         "['sd', '<NUM>', '<NUM>', 'p', 'edt', 'arm', 'servic', 'hold', 'hear', 'examin', 'situat', 'iraq', 'focus', 'progress', 'made', 'govern', 'iraq', 'meet', 'benchmark', 'foreign', 'relat', 'hold', 'hear', 'examin', 'iraq', 'focus', 'crocker', 'petraeu', 'report', 'diari', 'liveblog', 'hear', '<NUM>', 'liveblog', '<NUM>', 'tracker', '<NUM>', 'oreo', '<NUM>', 'ellicatt', '<NUM>', 'donnamari', 'new', 'mothership', 'pleas', 'rec', 'one', 'one', 'read', '<NUM>', 'mkintn', '<NUM>', 'shayera', '<NUM>', 'anothermassachusettsliber', '<NUM>', 'truthofangel', 'call', '<NUM>', 'miss', 'blue', '<NUM>', 'rememb', 'jello', '<NUM>', 'list', 'admonit', 'mothership', 'slip', 'rec', 'list', 'pleas', 'rec', '<NUM>', 'see', 'linki', 'un', 'rec', 'previou', 'still', 'updat', 'mothership', 'link', 'main', 'liveblog', 'mothership', 'note', 'slip', 'rec', 'list', 'pictur', 'one', 'ye', 'includ', 'pleas', 'repli', 'first', 'comment', 'transcript', 'new', 'diari', 'usual', 'pop', 'comment', 'get', 'around', '<NUM>']",
         "reliable"
        ],
        [
         "34",
         "['classifi', 'report', 'say', 'russia', 'want', 'trump', 'exactli', 'tri', 'deliv', 'report', 'circul', 'trump', 'much', 'attent', 'go', 'gener', 'report', 'focu', 'disgust', 'natur', 'kompromat', 'russian', 'gener', 'trump', 'realli', 'shock', 'item', 'russian', '<NUM>', 'rec', 'wake', 'fellow', 'white', 'peopl', 'time', 'get', 'work', 'anoth', 'morn', 'anoth', 'young', 'black', 'man', 'murder', 'polic', 'crime', 'born', 'black', 'us', 'anoth', 'day', 'white', 'peopl', 'countri', 'shake', 'head', 'avoid', 'watch', 'video', 'read', 'horrif', 'detail', '<NUM>', 'rec', 'berni', 'support', 'trump', 'get', '<NUM>', 'coverag', 'let', 'put', 'card', 'tabl', 'donald', 'j', 'trump', 'chanc', 'elect', 'presid', 'everyon', 'know', 'rnc', 'know', 'msm', 'know', 'everyon', 'basic', 'math', 'know', '<NUM>', 'rec', 'racist', 'south', 'rule', 'nation', 'begin', 'start', 'constitut', 'allow', 'slaveri', 'continu', 'unmolest', 'southern', 'state', 'limit', 'import', 'addit', 'slave', '<NUM>', 'addit', 'requir', '<NUM>', 'rec', 'cartoon', 'donald', 'trump', 'mysteri', 'follow', 'rubenbol', 'twitter', 'facebook', '<NUM>', 'rec', 'democrat', 'behav', 'badli', 'peopl', 'call', 'daili', 'ko', 'activ', 'team', 'ask', 'sign', 'petit', 'e', 'mail', 'member', 'congress', 'everi', 'day', 'democrat', 'keep', 'vote', 'wrong', 'way', 'must', 'amp', 'pressur', '<NUM>', 'rec', 'sen', 'mitch', 'mcconnel', 'say', 'economi', 'improv', 'republican', 'charg', 'turtl', 'understand', 'aka', 'sen', '<NUM>', 'rec', 'sign', 'pledg', 'buy', 'koch', 'product', 'sign', 'pledg', 'buy', 'koch', 'product', 'embed', 'contentkoch', 'industri', 'subsidiari', 'expans', 'hold', 'includ', 'everyth', 'ga', 'station', 'pipelin', 'paper', 'product', 'everyday', 'use', 'greet', 'card', 'chemic', 'use', 'make', '<NUM>', 'rec', 'polic', 'kill', 'anoth', 'black', 'man', 'custodi', 'got', 'rawstori', 'famili', 'gentleman', 'su', 'well', 'die', 'polic', 'custodi', '<NUM>', 'rec']",
         "reliable"
        ],
        [
         "35",
         "['week', 'charg', 'crime', 'ignor', 'judg', 'order', 'stop', 'immigr', 'patrol', 'sheriff', 'joe', 'arpaio', 'battl', 'seventh', 'term', 'tuesday', 'sheriff', 'metro', 'phoenix', 'face', 'toughest', 'bid', 'elect', 'two', 'decad', 'career', 'strong', 'challeng', 'retir', 'polic', 'sgt', 'paul', 'penzon', '<NUM>', 'year', 'old', 'sheriff', 'experienc', 'worst', 'legal', 'defeat', 'last', 'four', 'year', 'includ', 'judg', 'rule', 'offic', 'racial', 'profil', 'latino', 'arpaio', 'repres', 'last', 'vestig', 'decad', 'old', 'polit', 'movement', 'arizona', 'call', 'local', 'polic', 'crack', 'illeg', 'immigr', 'movement', 'lost', 'steam', 'immigr', 'smuggl', 'traffic', 'arizona', 'declin', 'sever', 'state', 'immigr', 'law', 'thrown', 'court', 'autoplay', 'autoplay', 'copi', 'code', 'websit', 'blog', 'anti', 'immigr', 'rhetor', 'donald', 'trump', 'energ', 'state', 'conserv', 'base', 'given', 'republican', 'sheriff', 'alli', 'arpaio', 'introduc', 'gop', 'nomine', 'ralli', 'gave', 'speech', 'republican', 'nation', 'convent', 'sheriff', 'earn', 'high', 'mark', 'voter', 'earli', 'tenur', 'jail', 'prison', 'tent', 'desert', 'heat', 'dress', 'pink', 'underwear', 'popular', 'wane', 'past', 'elect', 'devot', 'base', 'support', 'impress', 'campaign', 'fundrais', 'help', 'pull', 'win', 'relat', 'arizona', 'sheriff', 'joe', 'arpaio', 'offici', 'charg', 'crimin', 'contempt', 'court', 'last', 'four', 'year', 'court', 'strip', 'arpaio', 'power', 'conduct', 'immigr', 'crackdown', 'offic', 'found', 'profil', 'latino', 'traffic', 'patrol', 'target', 'immigr', 'arpaio', 'charg', 'crimin', 'contempt', 'court', 'prolong', 'patrol', 'order', 'stop', 'sheriff', 'acknowledg', 'contempt', 'violat', 'insist', 'unintent', 'plead', 'guilti', 'charg', 'convict', 'would', 'face', 'six', 'month', 'jail', 'would', 'bar', 'hold', 'offic', 'plan', 'attack', 'penzon', 'lost', 'sheriff', '<DATE>', 'consist', 'mostli', 'tv', 'ad', 'claim', 'penzon', 'assault', 'wife', '<DATE>', 'disput', 'democrat', 'deni', 'claim', 'su', 'arpaio', 'alleg', 'defam', 'arpaio', 'face', 'heavi', 'critic', 'cost', 'profil', 'case', 'far', 'taxpay', 'shell', '<CUR>', '<NUM>', 'million', 'legal', 'fee', 'cost', 'expect', 'rise', '<CUR>', '<NUM>', 'million', 'next', 'summer', 'larg', 'arpaio', 'contempt', 'violat', 'relat', 'fed', 'pursu', 'contempt', 'charg', 'sheriff', 'joe', 'arpaio', 'karen', 'cooney', 'retire', 'phoenix', 'describ', 'conserv', 'lean', 'democrat', 'said', 'vote', 'penzon', 'said', 'dislik', 'sign', 'arpaio', 'post', 'sheriff', 'vehicl', 'ask', 'peopl', 'report', 'immigr', 'author', 'sheriff', 'race', 'brainer', 'short', 'year', 'agre', 'arpaio', 'mean', 'method', 'cooney', 'said', 'crystal', 'burg', 'homemak', 'phoenix', 'said', 'vote', 'arpaio', 'tough', 'jail', 'polici', 'includ', 'complex', 'jail', 'tent', 'realli', 'like', 'philosophi', 'outdoor', 'jail', 'burg', 'said', 'arpaio', 'still', 'hold', 'strong', 'fundrais', 'advantag', 'penzon', 'sheriff', 'rais', '<CUR>', '<NUM>', 'million', 'peopl', 'live', 'state', 'support', 'past', 'immigr', 'crackdown', 'penzon', 'rais', '<CUR>', '<NUM>', 'million', 'gotten', 'boost', '<CUR>', '<NUM>', 'million', 'campaign', 'mailer', 'commerci', 'anti', 'arpaio', 'group', 'fund', 'larg', 'liber', 'hedg', 'fund', 'tycoon', 'georg', 'soro', 'like', 'penzon', 'soro', 'fund', 'group', 'attack', 'arpaio', 'botch', 'investig', 'hundr', 'sex', 'crime', 'case']",
         "reliable"
        ],
        [
         "36",
         "['archdioces', 'kingston', 'ontario', 'canada', 'roman', 'cathol', 'priest', 'made', 'video', 'mani', 'believ', 'prove', 'pope', 'franci', 'rais', 'fulli', 'control', 'illuminati', 'one', 'mani', 'shock', 'alleg', 'made', 'video', 'b', '<NUM>', 'priest', 'proof', 'illuminati', 'one', 'pope', 'franci', 'write', 'speech', 'one', 'choos', 'import', 'date', 'everi', 'time', 'franci', 'make', 'headlin', 'news', 'archbishop', 'kingston', 'ontario', 'brien', 'seen', 'offici', 'photo', 'look', 'like', 'brien', 'alreadi', 'heat', 'littl', 'bit', 'get', 'readi', 'blow', 'pointi', 'littl', 'top', 'like', 'space', 'ship', 'take', 'cape', 'canaver', 'difficult', 'choic', 'make', 'kingston', 'first', 'archdioces', 'break', 'away', 'rome', 'damag', 'evid', 'made', 'public', 'probabl', 'sinc', 'second', 'vatican', 'council', 'illuminati', 'branch', 'freemason', 'gradual', 'infiltr', 'roman', 'cathol', 'hierarch', 'institut', 'illuminati', 'ongo', 'occult', 'human', 'sacrific', 'sacrific', 'take', 'place', 'secretli', 'within', 'wall', 'roman', 'institut', 'especi', 'vatican', 'citi', 'provid', 'enough', 'satan', 'power', 'win', 'allegi', 'almost', 'individu', 'littl', 'littl', 'win', 'allegi', 'signific', 'player', 'within', 'roman', 'hierarchi', 'final', 'revel', 'illuminati', 'control', 'even', 'highest', 'repres', 'roman', 'institut', 'seriou', 'implic', 'seriou', 'culpabl', 'implic', 'reson', 'within', 'everi', 'member', 'brien', 'role', 'toler', 'illuminati', 'agenda', 'within', 'archdioces', 'kingston', 'brien', 'neglect', 'illuminati', 'infiltr', 'within', 'archdioces', 'forc', 'priest', 'go', 'public', 'hard', 'evid', 'continu', 'reveal', 'brien', 'love', 'truth', 'go', 'love', 'video', 'video', 'expos', 'one', 'peopl', 'call', 'pope', 'franci', 'truli', 'evid', 'present', 'simpli', 'irrefut', 'video', 'part', 'two', 'see', 'part', 'one', 'video', 'close', 'caption', 'content', 'easili', 'understood', '<NUM>', 'languag', 'simpli', 'click', 'cc', 'button', 'appear', 'bottom', 'youtub', 'video', 'screen', 'sure', 'watch', 'epic', 'showdown', 'take', 'back', '<NUM>', 'year', 'time', 'pharise', 'took', 'jesu', 'christ', 'high', 'true', 'god', 'backup', 'video', 'link', '<URL>', '<URL>']",
         "reliable"
        ],
        [
         "37",
         "['medic', 'relat', 'incontin', 'news', 'n', 'mani', 'ill', 'condit', 'caus', 'person', 'suffer', 'incontin', 'vari', 'sever', 'mild', 'case', 'howev', 'also', 'medic', 'relat', 'incontin', 'certain', 'medic', 'caus', 'difficulti', 'well', 'medic', 'act', 'way', 'affect', 'bodi', 'produc', 'elimin', 'urin', 'turn', 'mani', 'vital', 'compon', 'regain', 'maintain', 'health', 'natur', 'therapi', 'crucial', 'part', 'heal', 'journey', 'learn', 'help', 'other', 'achiev', 'whole', 'bodi', 'well', 'holist', 'heal', 'would', 'like', 'learn', 'reflexolog', 'color', 'therapi', 'reiki', 'holist', 'beauti', 'therapi', 'anatomi', 'physiolog', 'crystal', 'therapi', 'crystal', 'reflexolog', 'aromatherapi', 'pace', 'home', 'check', 'altern', 'heal', 'academi', 'home', 'studi', 'cours', 'offer', 'wide', 'rang', 'comprehens', 'holist', 'health', 'cours', 'afford', 'price', 'even', 'offer', 'payment', 'plan', '<URL>', 'sourc']",
         "fake"
        ],
        [
         "38",
         "['shootout', 'simul', 'held', 'mexico', 'school', 'reader', 'think', 'stori', 'fact', 'add', 'two', 'cent', 'headlin', 'bitcoin', 'blockchain', 'search', 'exceed', 'trump', 'blockchain', 'stock', 'next', 'thousand', 'student', 'teacher', 'particip', 'gangland', 'gun', 'battl', 'simul', 'school', 'ciudad', 'juarez', 'mexico', 'offici', 'said', 'dozen', 'individu', 'role', 'cartel', 'hit', 'men', 'stage', 'fake', 'shootout', 'thursday', 'cbti', '<NUM>', 'high', 'school', 'teacher', 'student', 'follow', 'safeti', 'protocol', 'institut', 'last', 'week', 'citi', 'municip', 'polic', 'forc', 'took', 'cover', 'desk', 'tabl', 'insid', 'classroom', 'goal', 'exercis', 'reinforc', 'instruct', 'impart', 'last', 'week', 'polic', 'safeti', 'seminar', 'session', 'offer', 'juarez', 'polic', 'forc', 'group', '<NUM>', 'respons', 'establish', 'safeti', 'protocol', 'school', 'throughout', 'chihuahua', 'state', 'level', 'kindergarten', 'high', 'school', 'polic', 'spokesman', 'adrian', 'sanchez', 'told', 'efe', 'safeti', 'instruct', 'respons', 'gun', 'battl', 'pit', 'drug', 'cartel', 'hit', 'men', 'one', 'anoth', 'member', 'secur', 'forc', 'taken', 'place', 'near', 'school', 'premis', 'class', 'hour', '<DATE>', 'assail', 'fire', 'gunshot', 'group', 'parent', 'wait', 'pick', 'children', 'outsid', 'elementari', 'school', 'ciudad', 'juarez', 'kill', 'one', 'person', 'wound', 'four', 'women', 'ciudad', 'juarez', 'locat', 'across', 'rio', 'grand', 'el', 'paso', 'texa', 'plagu', 'wave', 'drug', 'relat', 'violenc', 'recent', 'year', 'blame', 'war', 'control', 'smuggl', 'rout', 'unit', 'state', 'wage', 'juarez', 'sinaloa', 'cartel', 'back', 'hit', 'men', 'local', 'street', 'gang', 'nearli', '<NUM>', 'peopl', 'murder', 'border', 'citi', 'sinc', '<DATE>', 'ciudad', 'juarez', '<NUM>', 'homicid', 'per', '<NUM>', 'resid', 'violent', 'citi', 'world', '<DATE>', 'regist', 'higher', 'murder', 'rate', 'san', 'pedro', 'sula', 'san', 'salvador', 'caraca', 'guatemala', 'citi', 'two', 'mexican', 'non', 'government', 'organ', 'said', 'report', 'releas', 'last', 'year', 'expert', 'say', 'murder', 'rate', 'metropoli', 'significantli', '<DATE>', 'nationwid', 'nearli', '<NUM>', 'peopl', 'kill', 'turf', 'battl', 'among', 'rival', 'drug', 'mob', 'clash', 'cartel', 'gunmen', 'member', 'secur', 'forc', 'sinc', 'presid', 'felip', 'calderon', 'took', 'offic', 'nearli', 'five', 'year', 'ago', 'publish', 'notita', 'de', 'noticia', 'read', 'hispan', 'speak', 'news', 'sourc']",
         "fake"
        ],
        [
         "39",
         "['pictur', 'sent', 'mutual', 'ufo', 'network', 'mufon', 'show', 'strang', 'circular', 'shape', 'two', 'bright', 'orb', 'either', 'side', 'sky', 'mount', 'shasta', 'potenti', 'activ', 'volcano', 'cascad', 'rang', 'siskiy', 'counti', 'california', 'pictur', 'sent', 'us', 'base', 'mufon', 'unnam', 'photograph', 'say', 'see', 'strang', 'shape', 'time', 'snap', 'april', 'sent', 'report', 'mufon', 'world', 'biggest', 'organis', 'dedic', 'ufo', 'research', 'wrote', 'drive', 'washington', 'state', 'california', 'took', 'four', 'pictur', 'mount', 'shasta', 'car']",
         "fake"
        ],
        [
         "40",
         "['hour', 'sinc', 'trove', 'email', 'democrat', 'nation', 'committe', 'leak', 'wikileak', 'evid', 'mount', 'julian', 'assang', 'friend', 'obtain', 'hack', 'group', 'russia', 'payrol', 'defens', 'one', 'sister', 'public', 'atlant', 'report', 'consider', 'circumstanti', 'evid', 'suggest', 'leak', 'part', 'data']",
         "reliable"
        ],
        [
         "41",
         "['fun', 'home', 'base', 'ms', 'bechdel', 'memoir', 'call', 'courag', 'embrac', 'life', 'love', 'warn', 'danger', 'live', 'fear', 'denial', 'agenda', 'compass', '<DATE>', 'sunday', 'massacr', 'nightclub', 'show', 'alway', 'felt', 'meaning', 'signific', 'suddenli', 'felt', 'essenti', 'difficult', 'perform', 'end', 'made', 'brief', 'impromptu', 'curtain', 'speech', 'ask', 'audienc', 'alreadi', 'awar', 'gasp', 'news', 'join', 'us', 'moment', 'silenc', 'day', 'follow', 'sens', 'share', 'vulner', 'chang', 'way', 'play', 'felt', 'perform', 'word', 'play', 'felt', 'entir', 'differ', 'line', 'like', 'bruce', 'know', 'bar', 'kind', 'hidden', 'away', 'felt', 'unnerv', 'sing', 'audienc', 'seem', 'heavier', 'lost', 'backstag', 'talk', 'feel', 'helpless', 'need', 'someth', 'simpl', 'suggest', 'bring', 'show', 'orlando', 'taken', 'produc', 'compani', 'becam', 'realiti', 'dizzi', 'speed', 'rehears', 'simpler', 'version', 'complet', 'show', 'perform', 'bare', 'stage', 'stationari', 'microphon', 'rehears', 'simplic', 'surprisingli', 'rivet', 'deepli', 'move', 'unadorn', 'stori', 'seem', 'even', 'vital', 'sat', 'onstag', 'whole', 'show', 'exit', 'entranc', 'audienc', 'one', 'anoth', 'arriv', 'florida', 'memori', 'enorm', 'loss', 'remain', 'everywher', 'fell', 'mute', 'bu', 'airport', 'pass', 'shroud', 'club', 'makeshift', 'memori', 'front', 'newslett', 'sign', 'continu', 'read', 'main', 'stori', 'pleas', 'verifi', 'robot', 'click', 'box', 'invalid', 'email', 'address', 'pleas', 'enter', 'must', 'select', 'newslett', 'subscrib', 'sign', 'agre', 'receiv', 'occasion', 'updat', 'special', 'offer', 'new', 'york', 'time', 'product', 'servic', 'thank', 'subscrib', 'error', 'occur', 'pleas', 'tri', 'later', 'view', 'new', 'york', 'time', 'newslett', '<NUM>', 'seat', 'proscenium', 'stage', 'phillip', 'center', 'walt', 'disney', 'theater', 'beauti', 'strang', 'intim', 'size', 'vastli', 'differ', 'broadway', 'theater', 'round', 'seat', '<NUM>', 'circl', 'audienc', '<NUM>', 'row', 'back', 'orlando', 'three', 'balconi', 'top', 'seem', 'footbal', 'field', 'away', 'magic', 'perform', 'alter', 'seem', 'immut', 'like', 'time', 'distanc', 'magic', 'take', 'work', 'director', 'sam', 'gold', 'row', 'ad', 'bring', 'seat', 'near', 'lip', 'stage', 'possibl', 'brought', 'mike', 'closer', 'meet', 'found', 'slightli', 'slow', 'tempo', 'song', 'pace', 'scene', 'circl', 'play', 'exist', 'nimbl', 'subtl', 'human', 'scale', 'smallest', 'nuanc', 'regist', 'immedi', 'huge', 'hall', 'take', 'audienc', 'longer', 'hear', 'respond', 'compani', 'instinct', 'adjust', 'perform', 'sound', 'depart', 'made', 'sure', 'everi', 'nuanc', 'cast', 'band', 'heard', 'made', 'night', 'unforgett', 'technic', 'achiev', 'offstag', 'bond', 'form', 'audienc', 'compani', 'writer', 'lisa', 'kron', 'introduc', 'us', 'say', 'first', 'thing', 'would', 'like', 'say', 'behalf', 'us', 'sorri', 'silenc', 'voic', 'call', 'darken', 'seat', 'thank', 'thank', 'moment', 'back', 'intim', 'fun', 'home', 'closer', 'ever', 'heart', 'audienc', 'comic', 'moment', 'play', 'joy', 'ever', 'scene', 'funer', 'home', 'place', 'mani', 'commun', 'recent', 'prematur', 'visit', 'becam', 'chanc', 'find', 'moment', 'share', 'relief', 'gentl', 'laughter', 'neighbor', 'pain', 'absurd', 'life', 'advertis', 'continu', 'read', 'main', 'stori', 'latter', 'scene', 'father', 'daughter', 'last', 'car', 'ride', 'togeth', 'wife', 'lament', 'man', 'anguish', 'sudden', 'end', 'never', 'forget', 'met', 'deafen', 'silenc', 'audienc', 'hold', 'breath', 'beth', 'malon', 'alison', 'deliv', 'line', 'brace', 'puls', 'truck', 'rush', 'past', 'forgotten', 'line', 'come', 'innocu', 'simpl', 'descript', 'word', 'night', 'context', 'rang', 'like', 'shot', 'sat', 'motionless', 'onstag', 'weep', 'happen', 'commun', 'brought', 'heart', 'tonight', 'came', 'ovat', 'roar', 'catharsi', 'celebr', 'love', 'life', 'bow', 'stand', 'ovat', 'everi', 'perform', 'never', 'one', 'cherish', 'audienc', 'member', 'new', 'york', 'describ', 'play', 'provid', 'place', 'bring', 'grief', 'certainli', 'hope', 'offer', 'peopl', 'orlando', 'hope', 'pick', 'burden', 'would', 'lighter', 'carri', 'back', 'dark', 'night', 'murki', 'frighten', 'time', 'like', 'essenti', 'thing', 'theater', 'offer', 'audienc', 'brief', 'commun', 'connect', 'us', 'one', 'anoth', 'larger', 'last', 'way', 'stori', 'say', 'differ', 'thing', 'us', 'depend', 'time', 'need', 'hear', 'way', 'make', 'dark', 'outsid', 'circl', 'seem', 'penetr', 'everi', 'audienc', 'matter', 'differ']",
         "reliable"
        ],
        [
         "42",
         "['carri', 'nation', 'repres', 'put', 'embassi', 'januari', 'protest', 'jonathan', 'hoo', 'big', 'plan', 'abandon', 'storefront', 'second', 'avenu', 'east', '<NUM>', 'street', 'site', 'former', 'hsin', 'yu', 'restaur', 'present', 'empti', 'singl', 'stori', 'structur', 'sit', 'corner', 'white', 'window', 'strip', 'skelet', 'awn', 'inform', 'sign', 'like', 'close', 'order', 'commission', 'health', 'mental', 'hygen', 'hoo', 'envis', 'upscal', 'restaur', 'loung', 'serv', 'american', 'continent', 'cuisin', 'cours', 'liquor', 'plu', 'post', 'dinnertim', 'dj', 'danc', 'til', '<NUM>', 'weekend', 'nod', 'neighbor', 'unit', 'nation', 'workforc', 'hoo', 'plan', 'call', 'place', 'embassi', 'lot', 'hoo', 'neighbor', 'would', 'rather', 'keep', 'exist', 'eyesor', 'least', 'quiet', 'nois', 'big', 'deal', 'resid', 'turtl', 'bay', 'area', 'bar', 'restaur', 'invari', 'hung', 'hush', 'signag', 'courtesi', 'turtl', 'bay', 'associ', 'real', 'one', 'time', 'neighbor', 'ask', 'kindli', 'keep', 'nois', 'minimum', 'enjoy', 'establish', 'one', 'want', 'anoth', 'fubar', 'place', 'nearbi', '<NUM>', 'street', 'menu', 'consist', 'popcorn', 'addit', 'signag', 'requir', 'remind', 'boister', 'sidewalk', 'congreg', 'come', 'indoor', 'everi', 'smoke', 'pleas', 'social', 'insid', 'bar', 'cite', 'worri', 'increas', 'clamor', 'well', 'public', 'urin', 'vomit', 'bush', 'accord', 'court', 'paper', 'group', 'nearli', '<NUM>', 'resid', 'seven', 'hsin', 'yu', 'area', 'build', 'call', 'ban', 'bar', 'coalit', 'petit', 'manhattan', 'suprem', 'court', 'judg', 'march', 'overturn', 'state', 'liquor', 'author', 'approv', 'hoo', 'licens', 'sell', 'alcohol', 'liquor', 'board', 'ok', 'hoo', 'applic', 'last', 'decemb', 'despit', 'state', 'opposit', 'turtl', 'bay', 'associ', 'commun', 'board', '<NUM>', 'well', 'politico', 'includ', 'state', 'senat', 'liz', 'krueger', 'assemblymemb', 'jonathan', 'bing', 'councilmemb', 'eva', 'moskowitz', 'also', 'despit', 'state', 'law', 'restrict', 'new', 'bar', 'within', '<NUM>', 'feet', 'three', 'licens', 'establish', 'oppon', 'point', '<NUM>', 'water', 'hole', 'oper', 'within', '<NUM>', 'yard', 'radiu', 'includ', 'accord', 'court', 'paper', 'notori', 'nightspot', 'veitia', 'restaur', 'friar', 'coffe', 'shop', 'sla', 'nonetheless', 'determin', 'hoo', 'plan', 'fit', 'law', 'public', 'interest', 'exempt', 'well', 'good', 'eateri', 'surviv', 'food', 'alon', 'premis', 'liquor', 'licens', 'simpli', 'necessari', 'requir', 'success', 'restaur', 'panel', 'rule', 'well', 'sure', 'earli', 'august', 'howev', 'judg', 'eileen', 'bransten', 'quietli', 'side', 'clamor', 'fewer', 'clamor', 'annul', 'sla', 'decis', 'arbitrari', 'caprici', 'order', 'liquor', 'board', 'reconsid', 'evid', '<DATE>', 'ban', 'bar', 'declar', 'victori', 'web', 'site', 'win', 'court', 'pick', 'legal', 'fee', 'sla', 'spokeswoman', 'say', 'board', 'review', 'hoo', 'applic', 'soon', 'plan', 'schedul', 'repeat', 'last', 'fall', '<NUM>', 'foot', 'hear', 'examin', 'issu', 'updat', 'hear', 'schedul', '<DATE>', 'hoo', 'attorney', 'bruno', 'gioffr', 'one', 'hardli', 'wait', 'thing', 'heard', '<NUM>', 'foot', 'hear', 'resid', 'compar', 'propos', 'venu', 'hurrican', 'katrina', '<NUM>', '<NUM>', 'said', 'ridicul', 'gioffr', 'said', 'client', 'might', 'appeal', 'court', 'decis', 'said', 'hoo', 'alreadi', 'nix', 'plan', 'rooftop', 'patio', 'pledg', 'instal', 'tripl', 'pane', 'window', 'attempt', 'pacifi', 'silenc', 'obsess', 'neighbor', 'reason', 'lawyer', 'said', 'gioffr', 'embassi', 'oppon', 'point', 'relat', 'sla', 'deputi', 'commission', 'licens', 'fred', 'gioffr', 'said', 'hoo', 'remain', 'commit', 'restaubar', 'plan', 'cite', 'entrepreneur', 'exist', '<NUM>', 'year', 'leas', 'properti', 'said', 'gonna', 'come', 'time', 'want', 'decid', 'order', 'move', 'forward', 'chri', 'shott']",
         "reliable"
        ],
        [
         "43",
         "['origin', 'post', 'exquisitexampl', 'origin', 'post', 'blain', '<NUM>', 'final', 'object', 'pivot', 'center', 'axi', 'top', 'center', 'object', 'mean', 'hang', 'line', 'attach', 'someth', 'travel', 'power', 'think', 'refer', 'pendulum', 'effect', 'similar', 'criss', 'angel', 'use', 'levit', 'illus', 'mistaken', 'case', 'think', 'object', 'would', 'exhibit', 'wobbl', 'would', 'remain', 'rel', 'center', 'relat', 'point', 'tether', 'edit', 'observ', '<NUM>', 'sent', 'u', '<NUM>', 'u', 'jritzmann', 'request', 'analysi', 'vid', 'edit', '<DATE>', 'exquisitexampl', 'sorri', 'clear', 'suspend', 'object', 'suspend', 'object', 'alway', 'pivot', 'point', 'connect', 'last', 'object', 'film', 'obviou', 'notic', 'cg', 'work', 'qualifi', 'say', 'tire', 'last', 'night', 'look', 'took', 'apart', 'today', 'blow', 'one', 'object', 'show', 'devic', 'suspend', 'keep', 'spin', 'freeli', 'go', 'frame', 'frame', 'see', 'part', 'rotat', 'slightli', 'faster', 'speed', 'suspend', 'notic', 'flutter', 'edg', '<URL>', 'guess', 'vacat', 'film', 'kind', 'tandem', 'setup', 'probabl', 'para', 'sail', 'sort', 'kite', 'seen', 'tandem', 'kite', 'setup', 'park', 'kite', 'look', 'like', '<NUM>', '<NUM>', 'foot', 'wing', '<URL>', 'rig', 'top', 'probabl', 'keep', 'line', 'foul', 'look', 'like', 'devic', 'rigger', 'use', 'stabil', 'load', 'lift', 'crane', 'keep', 'spin', 'recogn', 'shape', 'younger', 'construct', 'worker', '<URL>', 'see', 'tell']",
         "fake"
        ],
        [
         "44",
         "['hail', 'conquer', 'hero', 'scott', 'walker', 'speak', 'cpac', 'reader', 'think', 'stori', 'fact', 'add', 'two', 'cent', 'news', 'hail', 'conquer', 'hero', 'scott', 'walker', 'return', 'cpac', 'today', 'first', 'time', 'sinc', 'win', 'recal', 'elect', 'last', 'june', 'pundit', 'believ', 'walker', 'appear', 'begin', '<DATE>', 'presidenti', 'campaign', 'intend', 'great', 'start', 'walker', 'one', 'worst', 'speak', 'slot', 'confer', 'earli', 'saturday', 'morn', 'two', 'day', 'speech', 'meet', 'two', 'night', 'network', 'parti', 'audienc', 'usual', 'dead', 'bill', 'cut', 'tax', 'legislatur', 'control', 'progress', 'today', 'differ', 'wisconsin', 'governor', 'began', 'speak', 'tire', 'crowd', 'ralli', 'biggest', 'crescendo', 'applaus', 'ballroom', 'sinc', 'confer', 'start', 'thursday', 'morn', 'walker', 'began', 'quot', 'ronald', 'reagan', 'remind', 'crowd', 'feder', 'govern', 'creat', 'state', 'state', 'creat', 'feder', 'govern', 'real', 'reform', 'happen', 'nation', 'capit', 'happen', 'state', 'capit', 'use', 'reagan', 'exampl', 'walker', 'explain', 'tax', 'reform', 'implement', 'california', 'governor', 'reagan', 'implement', 'feder', 'govern', 'presid', 'reagan', 'conserv', 'admonish', 'walker', 'need', 'make', 'argument', 'relev', 'peopl', 'care', 'word', 'like', 'fiscal', 'cliff', 'sequest', 'care', 'whether', 'unemploy', 'neighbor', 'block', 'find', 'job', 'continu', 'say', 'true', 'freedom', 'prosper', 'mean', 'job', 'independ', 'second', 'best', 'applaus', 'line', 'america', 'take', '<DATE>', '<DATE>', 'brought', 'peopl', 'feet', 'follow', 'end', 'america', 'believ', 'peopl', 'govern', 'video', 'full', 'speech', 'governor', 'scott', 'walker', 'wisconsin', 'becam', 'nation', 'hero', 'protect', 'state', 'bottom', 'oppress', 'union', 'budget', 'bust', 'union', 'contract', 'propos', 'save', 'wisconsin', 'citizen', 'money', 'reduc', 'abil', 'govern', 'employe', 'union', 'engag', 'collect', 'bargain', 'except', 'wage', 'propos', 'also', 'call', 'union', 'member', 'make', 'minimum', 'contribut', 'medic', 'insur', 'retir', 'save', 'account', 'effort', 'union', 'led', 'petit', 'effort', 'forc', 'recal', 'elect', '<DATE>', 'walker', 'recal', 'elect', 'oppon', 'beat', '<DATE>', 'tom', 'barrett', 'even', 'larger', 'margin', 'last', 'time', 'pleas', 'email', 'yidwithlid', '<URL>', 'put', 'onto', 'mail', 'list', 'feel', 'free', 'reproduc', 'articl', 'pleas', 'link', 'back', '<URL>', 'sourc']",
         "fake"
        ],
        [
         "45",
         "['obvious', 'bush', 'administr', 'market', 'bill', 'correctli', 'peopl', 'initi', 'reaction', 'unjustifi', 'payout', 'wall', 'st', 'folk', 'got', 'us', 'mess', 'begin', 'us', 'could', 'use', 'help', 'truth', 'us', 'financi', 'struggl', 'struggl', 'get', 'much', 'wors', 'bill', 'pass', 'import', 'understand', 'bailout', 'bill', 'intend', 'line', 'pocket', 'wall', 'st', 'exec', 'rather', 'point', 'bill', 'address', 'credit', 'crisi', 'stop', 'get', 'wors', 'alreadi', 'begun', 'see', 'tighten', 'credit', 'auto', 'sale', 'drop', '<NUM>', 'quarter', 'consum', 'harder', 'time', 'get', 'car', 'loan', 'address', 'problem', 'immedi', 'credit', 'crisi', 'spread', 'would', 'credit', 'crisi', 'effect', 'mention', 'peopl', 'alreadi', 'harder', 'time', 'get', 'car', 'loan', 'spread', 'student', 'loan', 'mortgag', 'far', 'behind', 'also', 'expect', 'interest', 'rate', 'credit', 'card', 'skyrocket', 'addit', 'small', 'busi', 'reli', 'revolv', 'line', 'credit', 'order', 'inventori', 'meet', 'payrol', 'credit', 'line', 'dri', 'cash', 'strap', 'busi', 'lay', 'employe', 'mani', 'close', 'shop', 'complet', 'doomsday', 'scenario', 'realiti', 'folk', 'also', 'realiti', 'wall', 'st', 'hot', 'shot', 'peopl', 'affect', 'dow', 'drop', '<NUM>', 'point', 'peopl', 'reli', '<NUM>', 'k', 'ira', 'seen', 'life', 'save', 'drop', '<NUM>', 'last', 'month', 'republican', 'claim', 'need', 'bill', 'simpl', 'chang', 'account', 'rule', 'like', 'mark', 'market', 'rule', 'allevi', 'problem', 'yesterday', 'sec', 'oblig', 'account', 'game', 'increas', 'sale', 'decreas', 'bill', 'account', 'rule', 'tell', 'slice', 'pizza', '<NUM>', 'slice', 'instead', 'eight', 'still', 'one', 'pizza', 'simpli', 'window', 'dress', 'deal', 'underli', 'problem', 'other', 'said', 'free', 'market', 'let', 'bank', 'make', 'unwis', 'decis', 'fail', 'gener', 'true', 'simpli', 'sit', 'back', 'let', 'entir', 'system', 'fail', 'other', 'point', 'fall', 'dow', 'today', 'senat', 'pass', 'bill', 'last', 'night', 'proof', 'bill', 'address', 'problem', 'miss', 'point', 'trader', 'market', 'fear', 'unknown', 'confid', 'hous', 'pass', 'senat', 'bill', 'mark', 'word', 'hous', 'approv', 'bill', 'market', 'skyrocket', 'said', 'bill', 'temporari', 'relief', 'measur', 'stop', 'credit', 'market', 'complet', 'freez', 'economi', 'spiral', 'control', 'first', 'step', 'admittedli', 'solv', 'underli', 'problem', 'crisi', 'need', 'address', 'assum', 'congress', 'pass', 'bill', 'move', 'problem', 'led', 'mess', 'end', 'take', 'follow', 'step', 'investig', 'bring', 'justic', 'anyon', 'ran', 'firm', 'knowingli', 'fail', 'disclos', 'risk', 'associ', 'subprim', 'invest', 'turn', 'back', 'gramm', 'leach', 'bile', 'law', 'led', 'deregul', 'mess', 'specif', 'need', 'adopt', 'strict', 'asset', 'debt', 'ratio', 'limit', 'invest', 'bank', 'firm', 'need', 'limit', 'leverag', 'minim', 'risk', 'pose', 'sharehold', 'broader', 'market', 'inspector', 'gener', 'releas', 'report', 'critic', 'sec', 'fail', 'properli', 'scrutin', 'firm', 'firm', 'report', 'voluntari', 'inconsist', 'basi', 'report', 'enforc', 'requir', 'must', 'made', 'mandatori', 'sec', 'pass', 'respons', 'anoth', 'agenc', 'bring', 'back', 'uptick', 'rule', 'sec', 'abolish', 'free', 'market', 'theori', 'uptick', 'rule', 'slow', 'short', 'seller', 'take', 'stock', 'downward', 'mani', 'comment', 'note', 'bad', 'idea', 'get', 'rid', 'rule', 'requir', 'compani', 'locat', 'stock', 'short', 'therebi', 'elimin', 'nake', 'short', 'confus', 'short', 'sell', 'actual', 'add', 'liquid', 'price', 'transpar', 'market', 'two', 'cent', 'use', 'nickel', 'enjoy', 'debat']",
         "reliable"
        ],
        [
         "46",
         "['mercuri', 'move', 'back', 'sign', 'ari', 'continu', 'retro', 'phase', 'continu', 'push', 'forward', 'enter', 'tauru', 'mid', 'may', 'howev', 'rewind', 'phase', 'offer', 'opportun', 'revis', 'plan', 'project', 'might', 'find', 'hidden', 'gem', 'sparkl', 'promis', 'free', 'daili', 'horoscop', '<DATE>', '<DATE>', 'pleas', 'see', 'horoscop', '<DATE>', '<DATE>', 'ari', '<NUM>', 'march', '<NUM>', 'april', 'switch', 'today', 'mercuri', 'planet', 'interact', 'head', 'back', 'sign', 'revers', 'mode', 'sun', 'eas', 'sensual', 'tauru', 'come', 'four', 'week', 'bring', 'opportun', 'slow', 'enjoy', 'life', 'relish', 'moment', 'may', 'help', 'relax', 'mind', 'howev', 'pluto', 'rewind', 'today', 'person', 'ambit', 'could', 'intensifi', 'tauru', '<NUM>', 'april', '<NUM>', 'may', 'may', 'find', 'truli', 'element', 'come', 'four', 'week', 'solar', 'orb', 'move', 'deeper', 'sign', 'perhap', 'reaffirm', 'love', 'natur', 'outdoor', 'come', 'day', 'though', 'may', 'need', 'rework', 'plan', 'research', 'idea', 'want', 'make', 'good', 'progress', 'anyth', 'begin', 'mild', 'interest', 'could', 'possibl', 'becom', 'much', 'gemini', '<NUM>', 'may', '<NUM>', 'june', 'come', 'week', 'opportun', 'step', 'back', 'life', 'possibl', 'consid', 'might', 'make', 'chang', 'could', 'impact', 'significantli', 'sun', 'subtl', 'sector', 'chart', 'option', 'let', 'go', 'situat', 'even', 'relationship', 'longer', 'serv', 'best', 'interest', 'inde', 'could', 'give', 'new', 'leas', 'life', 'cancer', '<NUM>', 'june', '<NUM>', 'juli', 'pluto', 'planet', 'transform', 'turn', 'retrograd', 'today', 'sector', 'relat', 'may', 'find', 'feel', 'concern', 'person', 'relationship', 'amp', 'encourag', 'look', 'beneath', 'surfac', 'time', 'focu', 'social', 'sector', 'suggest', 'one', 'friend', 'support', 'prove', 'stabil', 'sooth', 'influenc', 'need', 'advic', 'leo', '<NUM>', 'juli', '<NUM>', 'august', 'come', 'week', 'see', 'readi', 'take', 'stock', 'present', 'goal', 'ambit', 'perhap', 'concentr', 'one', 'two', 'truli', 'grip', 'even', 'might', 'need', 'go', 'basic', 'regard', 'knowledg', 'may', 'need', 'accomplish', 'want', 'although', 'may', 'seem', 'time', 'consum', 'could', 'enabl', 'confid', 'stride', 'ahead', 'virgo', '<NUM>', 'august', '<NUM>', 'septemb', 'mercuri', 'guid', 'revers', 'back', 'sector', 'transform', 'resourc', 'may', 'keen', 'look', 'issu', 'might', 'resolv', 'satisfact', 'could', 'certain', 'buri', 'feel', 'prevent', 'complet', 'let', 'go', 'inner', 'calm', 'may', 'return', 'reflect', 'may', 'best', 'embrac', 'libra', '<NUM>', 'septemb', '<NUM>', 'octob', 'memori', 'happi', 'time', 'friend', 'involv', 'hobbi', 'enjoy', 'could', 'send', 'search', 'repeat', 'experi', 'perhap', 'want', 'someth', 'help', 'relax', 'unwind', 'especi', 'middl', 'busi', 'week', 'call', 'old', 'friend', 'coffe', 'chat', 'may', 'one', 'way', 'feel', 'better', 'libra', 'spend', 'time', 'creativ', 'project', 'anoth', 'scorpio', '<NUM>', 'octob', '<NUM>', 'novemb', 'come', 'four', 'week', 'put', 'emphasi', 'improv', 'relationship', 'special', 'place', 'heart', 'might', 'mean', 'discuss', 'unspoken', 'rule', 'address', 'matter', 'might', 'need', 'brought', 'open', 'howev', 'also', 'opportun', 'link', 'other', 'anoth', 'accomplish', 'someth', 'togeth', 'would', 'trickier', 'alon', 'sagittariu', '<NUM>', 'novemb', '<NUM>', 'decemb', 'even', 'though', 'venu', 'push', 'forward', 'still', 'clash', 'saturn', 'sign', 'differ', 'though', 'begin', 'feel', 'lot', 'hope', 'situat', 'may', 'seem', 'realli', 'difficult', 'resolv', 'like', 'connect', 'close', 'emot', 'tie', 'may', 'involv', 'could', 'experienc', 'chang', 'heart', 'archer', 'c', '<DATE>', 'decemb', '<NUM>', 'januari', 'pluto', 'planet', 'passion', 'rewind', 'sign', 'today', 'may', 'soon', 'find', 'insight', 'world', 'around', 'seem', 'profound', 'might', 'mean', 'take', 'plan', 'relationship', 'serious', 'despit', 'could', 'find', 'easi', 'go', 'leisur', 'option', 'help', 'take', 'pressur', 'gift', 'lighter', 'perspect', 'aquariu', '<NUM>', 'januari', '<NUM>', 'februari', 'sun', 'cross', 'path', 'mercuri', 'eas', 'home', 'zone', 'planet', 'interact', 'move', 'back', 'sector', 'commun', 'come', 'four', 'week', 'offer', 'opportun', 'nurtur', 'enjoy', 'littl', 'self', 'care', 'aquariu', 'even', 'mind', 'may', 'overdr', 'time', 'even', 'reason', 'might', 'benefit', 'occasion', 'time', 'pisc', '<NUM>', 'februari', '<NUM>', 'march', 'subtl', 'shift', 'sector', 'social', 'could', 'ring', 'chang', 'come', 'month', 'pluto', 'planet', 'intens', 'retrac', 'step', 'today', 'could', 'find', 'certain', 'friend', 'even', 'group', 'appear', 'littl', 'control', 'counteract', 'pisc', 'horoscop', 'suggest', 'may', 'need', 'firm', 'will', 'much', 'time', 'realli', 'spare', 'astrolog', 'patrick', 'arundel', 'profession', 'astrolog', 'sinc', '<DATE>', 'patrick', 'real', 'passion', 'astrolog', 'see', 'tool', 'help', 'person', 'gain', 'greater', 'person', 'awar', 'better', 'guid', 'life', 'move', 'patrick', 'member', 'astrolog', 'associ', 'great', 'britain', 'work', 'appear', 'websit', 'magazin', 'newspap', 'global', 'enjoy', 'patrick', 'forecast', 'everi', 'week', 'cln', 'learn', 'astrolog', 'tarot', 'psychic', 'servic', 'pleas', 'visit', 'websit', '<URL>', 'get', 'free', 'person', 'horoscop', '<URL>']",
         "fake"
        ],
        [
         "47",
         "['forget', 'obamacar', 'ryancar', 'futur', 'reformcar', 'healthcar', 'system', 'complet', 'broken', 'time', 'start', 'plan', 'current', 'healthcar', 'system', 'implod', 'charl', 'hugh', 'smith', 'mani', 'complex']",
         "fake"
        ],
        [
         "48",
         "['taurasi', 'ankl', 'back', 'problem', 'season', 'brush', 'uconn', '<NUM>', 'seed', 'almost', 'unbroken', 'decad', '<NUM>', 'never', 'dictat', 'go', 'play', 'tournament', 'seed', 'said', 'worri', 'definit', 'disappoint', 'end', 'big', 'east', 'play', 'march', 'kind', 'get', 'anoth', 'chanc', 'anoth', 'season', 'get', 'keep', 'go', 'ivi', 'leagu', 'champion', 'penn', 'earn', 'automat', 'berth', 'n', 'c', 'tournament', 'quaker', 'differ', 'leagu', 'uconn', 'way', 'one', 'newslett', 'sign', 'continu', 'read', 'main', 'stori', 'pleas', 'verifi', 'robot', 'click', 'box', 'invalid', 'email', 'address', 'pleas', 'enter', 'must', 'select', 'newslett', 'subscrib', 'sign', 'agre', 'receiv', 'occasion', 'updat', 'special', 'offer', 'new', 'york', 'time', 'product', 'servic', 'thank', 'subscrib', 'error', 'occur', 'pleas', 'tri', 'later', 'view', 'new', 'york', 'time', 'newslett', 'height', 'exampl', 'uconn', 'starter', '<NUM>', 'foot', '<NUM>', '<NUM>', '<NUM>', '<NUM>', '<NUM>', '<NUM>', '<NUM>', '<NUM>', '<NUM>', 'penn', '<NUM>', '<NUM>', '<NUM>', '<NUM>', '<NUM>', '<NUM>', '<NUM>', '<NUM>', '<NUM>', '<NUM>', 'still', 'coach', 'kelli', 'greenberg', 'said', 'look', 'forward', 'game', 'lot', 'continu', 'opportun', 'happen', 'everi', 'day', 'expect', 'girl', 'overwhelm', 'first', 'almost', 'awe', 'crowd', 'loud', 'think', 'calm', 'first', 'minut', 'thing', 'control', 'uconn', 'bigger', 'better', 'athlet', 'control', 'thing', 'like', 'energi', 'level', 'tough', 'matter', 'happen', 'feel', 'right', 'realli', 'think', 'player', 'feel', 'way', 'get', 'know', 'chang', 'uconn', 'errat', 'finish', 'regular', 'season', 'four', '<NUM>', 'seed', 'went', 'tennesse', 'duke', 'penn', 'state', 'texa', 'east', 'region', 'afternoon', 'blacksburg', 'va', 'penn', 'state', '<NUM>', '<NUM>', 'big', 'ten', 'tournament', 'runner', 'play', 'hampton', '<NUM>', '<NUM>', 'mid', 'eastern', 'athlet', 'confer', 'champion', 'form', 'hold', 'penn', 'state', 'face', 'uconn', 'region', 'final', 'week', 'tomorrow', 'hampton', 'like', 'penn', 'expect', 'fodder', 'penn', 'state', 'like', 'uconn', 'come', 'loss', 'case', '<NUM>', 'point', 'defeat', 'purdu', 'big', 'ten', 'tournament', 'final', 'gave', 'team', 'week', 'coach', 'rene', 'portland', 'penn', 'state', 'said', 'never', 'got', 'chanc', 'digest', 'happen', 'big', 'ten', 'tournament', 'expect', 'happen', 'next', 'time', 'lose', 'collect', 'uniform', 'get', 'get', 'judg', 'next', 'three', 'week']",
         "reliable"
        ],
        [
         "49",
         "['plu', 'one', 'articl', 'googl', 'plu', 'reader', 'cosmic', 'unfair', 'note', 'today', 'column', 'mr', 'derbyshir', 'alway', 'like', 'apt', 'descript', 'unfair', 'advantag', 'men', 'women', 'come', 'age', 'man', 'age', 'start', 'look', 'like', 'sean', 'conneri', 'woman', 'age', 'start', 'look', 'like', 'well', 'sean', 'conneri']",
         "reliable"
        ]
       ],
       "shape": {
        "columns": 2,
        "rows": 71631
       }
      },
      "text/html": [
       "<div>\n",
       "<style scoped>\n",
       "    .dataframe tbody tr th:only-of-type {\n",
       "        vertical-align: middle;\n",
       "    }\n",
       "\n",
       "    .dataframe tbody tr th {\n",
       "        vertical-align: top;\n",
       "    }\n",
       "\n",
       "    .dataframe thead th {\n",
       "        text-align: right;\n",
       "    }\n",
       "</style>\n",
       "<table border=\"1\" class=\"dataframe\">\n",
       "  <thead>\n",
       "    <tr style=\"text-align: right;\">\n",
       "      <th></th>\n",
       "      <th>X</th>\n",
       "      <th>Y</th>\n",
       "    </tr>\n",
       "  </thead>\n",
       "  <tbody>\n",
       "    <tr>\n",
       "      <th>0</th>\n",
       "      <td>['casav', 'pipe', 'organ', 'instal', 'saint', ...</td>\n",
       "      <td>reliable</td>\n",
       "    </tr>\n",
       "    <tr>\n",
       "      <th>1</th>\n",
       "      <td>['mike', 'barrett', '&lt;URL&gt;', '&lt;DATE&gt;', 'despit...</td>\n",
       "      <td>fake</td>\n",
       "    </tr>\n",
       "    <tr>\n",
       "      <th>2</th>\n",
       "      <td>['financi', '|', 'thu', '&lt;DATE&gt;', '|', '&lt;NUM&gt;'...</td>\n",
       "      <td>reliable</td>\n",
       "    </tr>\n",
       "    <tr>\n",
       "      <th>3</th>\n",
       "      <td>['miami', 'dolphin', 'time', 'worri', 'dion', ...</td>\n",
       "      <td>fake</td>\n",
       "    </tr>\n",
       "    <tr>\n",
       "      <th>4</th>\n",
       "      <td>['&lt;NUM&gt;', 'thing', 'need', 'know', 'european',...</td>\n",
       "      <td>reliable</td>\n",
       "    </tr>\n",
       "    <tr>\n",
       "      <th>...</th>\n",
       "      <td>...</td>\n",
       "      <td>...</td>\n",
       "    </tr>\n",
       "    <tr>\n",
       "      <th>71626</th>\n",
       "      <td>['apparel', 'accessori', '|', 'mon', '&lt;DATE&gt;',...</td>\n",
       "      <td>reliable</td>\n",
       "    </tr>\n",
       "    <tr>\n",
       "      <th>71627</th>\n",
       "      <td>['return', 'yellow', 'peril', 'kevin', 'willia...</td>\n",
       "      <td>reliable</td>\n",
       "    </tr>\n",
       "    <tr>\n",
       "      <th>71628</th>\n",
       "      <td>['cnn', 'anchor', 'kate', 'bolduan', 'left', '...</td>\n",
       "      <td>fake</td>\n",
       "    </tr>\n",
       "    <tr>\n",
       "      <th>71629</th>\n",
       "      <td>['report', 'use', 'forc', 'necessari', 'congre...</td>\n",
       "      <td>fake</td>\n",
       "    </tr>\n",
       "    <tr>\n",
       "      <th>71630</th>\n",
       "      <td>['canadian', 'govern', 'file', 'offici', 'comp...</td>\n",
       "      <td>reliable</td>\n",
       "    </tr>\n",
       "  </tbody>\n",
       "</table>\n",
       "<p>71631 rows × 2 columns</p>\n",
       "</div>"
      ],
      "text/plain": [
       "                                                       X         Y\n",
       "0      ['casav', 'pipe', 'organ', 'instal', 'saint', ...  reliable\n",
       "1      ['mike', 'barrett', '<URL>', '<DATE>', 'despit...      fake\n",
       "2      ['financi', '|', 'thu', '<DATE>', '|', '<NUM>'...  reliable\n",
       "3      ['miami', 'dolphin', 'time', 'worri', 'dion', ...      fake\n",
       "4      ['<NUM>', 'thing', 'need', 'know', 'european',...  reliable\n",
       "...                                                  ...       ...\n",
       "71626  ['apparel', 'accessori', '|', 'mon', '<DATE>',...  reliable\n",
       "71627  ['return', 'yellow', 'peril', 'kevin', 'willia...  reliable\n",
       "71628  ['cnn', 'anchor', 'kate', 'bolduan', 'left', '...      fake\n",
       "71629  ['report', 'use', 'forc', 'necessari', 'congre...      fake\n",
       "71630  ['canadian', 'govern', 'file', 'offici', 'comp...  reliable\n",
       "\n",
       "[71631 rows x 2 columns]"
      ]
     },
     "execution_count": 2,
     "metadata": {},
     "output_type": "execute_result"
    }
   ],
   "source": [
    "import pandas as pd\n",
    "\n",
    "Test_Data = pd.read_csv('../Data/Testing_dataset.csv', usecols=['type', 'cleaned content'])\n",
    "\n",
    "Test_Data = pd.DataFrame({'X':Test_Data['cleaned content'], 'Y':Test_Data['type']})\n",
    "\n",
    "Test_Data"
   ]
  },
  {
   "cell_type": "markdown",
   "metadata": {},
   "source": [
    "### Loading the models"
   ]
  },
  {
   "cell_type": "markdown",
   "metadata": {},
   "source": [
    "Her bruger jeg koden fra ``Advanced Model development.ipynb`` til at indlæse den simple logistiske regressionsmodel fra *Part 2* og den avancerede model fra *Part 3*. Dette bliver gjort med ``joblib`` biblioteket.\n",
    "\n",
    "Først indlæser jeg den simple model."
   ]
  },
  {
   "cell_type": "code",
   "execution_count": 5,
   "metadata": {},
   "outputs": [],
   "source": [
    "import joblib\n",
    "\n",
    "# reading the vectorizer and model\n",
    "Simple_vectorizer  = joblib.load('../Advanced model/Simple_vectorizer.pkl')\n",
    "Simple_model       = joblib.load('../Advanced model/Simple_model.pkl')"
   ]
  },
  {
   "cell_type": "markdown",
   "metadata": {},
   "source": [
    "Herefter indlæser jeg den avancerede model."
   ]
  },
  {
   "cell_type": "code",
   "execution_count": 6,
   "metadata": {},
   "outputs": [],
   "source": [
    "import joblib\n",
    "\n",
    "# reading the vectorizer, feature selector and model\n",
    "Advanced_vectorizer  = joblib.load('../Advanced model/Advanced_vectorizer.pkl')\n",
    "Advanced_selector    = joblib.load('../Advanced model/Advanced_selector.pkl')\n",
    "Advanced_model       = joblib.load('../Advanced model/Advanced_model.pkl')"
   ]
  },
  {
   "cell_type": "markdown",
   "metadata": {},
   "source": [
    "### Model evaluation"
   ]
  },
  {
   "cell_type": "markdown",
   "metadata": {},
   "source": [
    "Nedenfor tester jeg først den simple model på testing sættet, hvorefter jeg printer F1-score for modellens evne til at klassificere Fake og Reliable klasserne. Til at udregne F1-score bruger jeg ``sklearn`` biblioteket.\n",
    "\n",
    "Nedenfor ses F1-score for den simple model."
   ]
  },
  {
   "cell_type": "code",
   "execution_count": 34,
   "metadata": {},
   "outputs": [
    {
     "name": "stdout",
     "output_type": "stream",
     "text": [
      "Fake     : 0.8448543860163651\n",
      "Reliable : 0.8590611179197527\n"
     ]
    }
   ],
   "source": [
    "from sklearn.metrics import classification_report\n",
    "\n",
    "# Testing the model\n",
    "predictions = Simple_model.predict(Simple_vectorizer.transform(Test_Data['X']))\n",
    "result = classification_report(Test_Data['Y'], predictions, output_dict=True)\n",
    "print(f'Fake     : {result['fake']['f1-score']}')\n",
    "print(f'Reliable : {result['reliable']['f1-score']}')"
   ]
  },
  {
   "cell_type": "code",
   "execution_count": null,
   "metadata": {},
   "outputs": [
    {
     "data": {
      "image/png": "[encoded data removed]",
      "text/plain": [
       "<Figure size 640x480 with 2 Axes>"
      ]
     },
     "metadata": {},
     "output_type": "display_data"
    }
   ],
   "source": [
    "from sklearn.metrics import confusion_matrix\n",
    "from sklearn.metrics import ConfusionMatrixDisplay\n",
    "import matplotlib.pyplot as plot\n",
    "\n",
    "# calculation confusion values\n",
    "cm = confusion_matrix(Test_Data['Y'], predictions)\n",
    "\n",
    "# Visualiser confusion matrix\n",
    "disp = ConfusionMatrixDisplay(confusion_matrix=cm, display_labels=['Fake', 'Reliable'])\n",
    "disp.plot() \n",
    "plot.title(\"Confusion Matrix - Simple model\")\n",
    "plot.show()"
   ]
  },
  {
   "cell_type": "markdown",
   "metadata": {},
   "source": [
    "Nedenfor ses F1-score for den avancerede model."
   ]
  },
  {
   "cell_type": "code",
   "execution_count": 36,
   "metadata": {},
   "outputs": [
    {
     "name": "stdout",
     "output_type": "stream",
     "text": [
      "Fake     : 0.8942449295014799\n",
      "Reliable : 0.9028776496739378\n"
     ]
    }
   ],
   "source": [
    "from sklearn.metrics import classification_report\n",
    "\n",
    "# Testing the model\n",
    "predictions = Advanced_model.predict(Advanced_selector.transform(Advanced_vectorizer.transform(Test_Data['X'])))\n",
    "result = classification_report(Test_Data['Y'], predictions, output_dict=True)\n",
    "print(f'Fake     : {result['fake']['f1-score']}')\n",
    "print(f'Reliable : {result['reliable']['f1-score']}')"
   ]
  },
  {
   "cell_type": "code",
   "execution_count": 68,
   "metadata": {},
   "outputs": [
    {
     "data": {
      "image/png": "[encoded data removed]",
      "text/plain": [
       "<Figure size 640x480 with 2 Axes>"
      ]
     },
     "metadata": {},
     "output_type": "display_data"
    }
   ],
   "source": [
    "from sklearn.metrics import confusion_matrix\n",
    "from sklearn.metrics import ConfusionMatrixDisplay\n",
    "import matplotlib.pyplot as plot\n",
    "\n",
    "# calculation confusion values\n",
    "cm = confusion_matrix(Test_Data['Y'], predictions)\n",
    "\n",
    "# Visualiser confusion matrix\n",
    "disp = ConfusionMatrixDisplay(confusion_matrix=cm, display_labels=['Fake', 'Reliable'])\n",
    "disp.plot() \n",
    "plot.title(\"Confusion Matrix - Simple model\")\n",
    "plot.show()"
   ]
  },
  {
   "cell_type": "markdown",
   "metadata": {},
   "source": [
    "## Evaluation on the LIAR dataset"
   ]
  },
  {
   "cell_type": "markdown",
   "metadata": {},
   "source": [
    "### Reading the dataset"
   ]
  },
  {
   "cell_type": "markdown",
   "metadata": {},
   "source": [
    "Først indlæser jeg datasættet for at få overblik over datasættet og eventuelle problemmer der kunne forekomme i arbejdet med det.\n",
    "\n",
    "Da det ikke er meningen at vi skal træne modeller på LIAR datasættet har jeg valgt at bruge ``train.tsv`` istedet for ``test.tsv``, da denne indeholder mange flere entries og vil derfor være mere repræsentativt for hele LIAR datasættet. Ideelt ville de 3 datasæt kombineres, men dette burde også være fint."
   ]
  },
  {
   "cell_type": "code",
   "execution_count": 87,
   "metadata": {},
   "outputs": [
    {
     "data": {
      "application/vnd.microsoft.datawrangler.viewer.v0+json": {
       "columns": [
        {
         "name": "index",
         "rawType": "int64",
         "type": "integer"
        },
        {
         "name": "0",
         "rawType": "object",
         "type": "string"
        },
        {
         "name": "1",
         "rawType": "object",
         "type": "string"
        },
        {
         "name": "2",
         "rawType": "object",
         "type": "string"
        },
        {
         "name": "3",
         "rawType": "object",
         "type": "unknown"
        },
        {
         "name": "4",
         "rawType": "object",
         "type": "unknown"
        },
        {
         "name": "5",
         "rawType": "object",
         "type": "unknown"
        },
        {
         "name": "6",
         "rawType": "object",
         "type": "unknown"
        },
        {
         "name": "7",
         "rawType": "object",
         "type": "unknown"
        },
        {
         "name": "8",
         "rawType": "float64",
         "type": "float"
        },
        {
         "name": "9",
         "rawType": "float64",
         "type": "float"
        },
        {
         "name": "10",
         "rawType": "float64",
         "type": "float"
        },
        {
         "name": "11",
         "rawType": "float64",
         "type": "float"
        },
        {
         "name": "12",
         "rawType": "float64",
         "type": "float"
        },
        {
         "name": "13",
         "rawType": "object",
         "type": "unknown"
        }
       ],
       "conversionMethod": "pd.DataFrame",
       "ref": "0d9cf336-4297-4a39-b252-67357e5be34b",
       "rows": [
        [
         "0",
         "2635.json",
         "false",
         "Says the Annies List political group supports third-trimester abortions on demand.",
         "abortion",
         "dwayne-bohac",
         "State representative",
         "Texas",
         "republican",
         "0.0",
         "1.0",
         "0.0",
         "0.0",
         "0.0",
         "a mailer"
        ],
        [
         "1",
         "10540.json",
         "half-true",
         "When did the decline of coal start? It started when natural gas took off that started to begin in (President George W.) Bushs administration.",
         "energy,history,job-accomplishments",
         "scott-surovell",
         "State delegate",
         "Virginia",
         "democrat",
         "0.0",
         "0.0",
         "1.0",
         "1.0",
         "0.0",
         "a floor speech."
        ],
        [
         "2",
         "324.json",
         "mostly-true",
         "Hillary Clinton agrees with John McCain \"by voting to give George Bush the benefit of the doubt on Iran.\"",
         "foreign-policy",
         "barack-obama",
         "President",
         "Illinois",
         "democrat",
         "70.0",
         "71.0",
         "160.0",
         "163.0",
         "9.0",
         "Denver"
        ],
        [
         "3",
         "1123.json",
         "false",
         "Health care reform legislation is likely to mandate free sex change surgeries.",
         "health-care",
         "blog-posting",
         null,
         null,
         "none",
         "7.0",
         "19.0",
         "3.0",
         "5.0",
         "44.0",
         "a news release"
        ],
        [
         "4",
         "9028.json",
         "half-true",
         "The economic turnaround started at the end of my term.",
         "economy,jobs",
         "charlie-crist",
         null,
         "Florida",
         "democrat",
         "15.0",
         "9.0",
         "20.0",
         "19.0",
         "2.0",
         "an interview on CNN"
        ],
        [
         "5",
         "12465.json",
         "true",
         "The Chicago Bears have had more starting quarterbacks in the last 10 years than the total number of tenured (UW) faculty fired during the last two decades.",
         "education",
         "robin-vos",
         "Wisconsin Assembly speaker",
         "Wisconsin",
         "republican",
         "0.0",
         "3.0",
         "2.0",
         "5.0",
         "1.0",
         "a an online opinion-piece"
        ],
        [
         "6",
         "2342.json",
         "barely-true",
         "Jim Dunnam has not lived in the district he represents for years now.",
         "candidates-biography",
         "republican-party-texas",
         null,
         "Texas",
         "republican",
         "3.0",
         "1.0",
         "1.0",
         "3.0",
         "1.0",
         "a press release."
        ],
        [
         "7",
         "153.json",
         "half-true",
         "I'm the only person on this stage who has worked actively just last year passing, along with Russ Feingold, some of the toughest ethics reform since Watergate.",
         "ethics",
         "barack-obama",
         "President",
         "Illinois",
         "democrat",
         "70.0",
         "71.0",
         "160.0",
         "163.0",
         "9.0",
         "a Democratic debate in Philadelphia, Pa."
        ],
        [
         "8",
         "5602.json",
         "half-true",
         "However, it took $19.5 million in Oregon Lottery funds for the Port of Newport to eventually land the new NOAA Marine Operations Center-Pacific.",
         "jobs",
         "oregon-lottery",
         null,
         null,
         "organization",
         "0.0",
         "0.0",
         "1.0",
         "0.0",
         "1.0",
         "a website "
        ],
        [
         "9",
         "9741.json",
         "mostly-true",
         "Says GOP primary opponents Glenn Grothman and Joe Leibham cast a compromise vote that cost $788 million in higher electricity costs.",
         "energy,message-machine-2014,voting-record",
         "duey-stroebel",
         "State representative",
         "Wisconsin",
         "republican",
         "0.0",
         "0.0",
         "0.0",
         "1.0",
         "0.0",
         "an online video"
        ],
        [
         "10",
         "7115.json",
         "mostly-true",
         "For the first time in history, the share of the national popular vote margin is smaller than the Latino vote margin.",
         "elections",
         "robert-menendez",
         "U.S. Senator",
         "New Jersey",
         "democrat",
         "1.0",
         "3.0",
         "1.0",
         "3.0",
         "0.0",
         "a speech"
        ],
        [
         "11",
         "4148.json",
         "half-true",
         "Since 2000, nearly 12 million Americans have slipped out of the middle class and into poverty.",
         "economy,jobs,new-hampshire-2012,poverty",
         "bernie-s",
         "U.S. Senator",
         "Vermont",
         "independent",
         "18.0",
         "12.0",
         "22.0",
         "41.0",
         "0.0",
         "a tweet"
        ],
        [
         "12",
         "5947.json",
         "false",
         "When Mitt Romney was governor of Massachusetts, we didnt just slow the rate of growth of our government, we actually cut it.",
         "history,state-budget",
         "mitt-romney",
         "Former governor",
         "Massachusetts",
         "republican",
         "34.0",
         "32.0",
         "58.0",
         "33.0",
         "19.0",
         "an interview with CBN News"
        ],
        [
         "13",
         "8616.json",
         "mostly-true",
         "The economy bled $24 billion due to the government shutdown.",
         "economy,federal-budget,health-care",
         "doonesbury",
         null,
         null,
         "none",
         "0.0",
         "0.0",
         "2.0",
         "4.0",
         "0.0",
         "a Doonesbury strip in the Sunday comics"
        ],
        [
         "14",
         "8705.json",
         "barely-true",
         "Most of the (Affordable Care Act) has already in some sense been waived or otherwise suspended.",
         "health-care",
         "george-will",
         "Columnist",
         "Maryland",
         "columnist",
         "7.0",
         "6.0",
         "3.0",
         "5.0",
         "1.0",
         "comments on \"Fox News Sunday\""
        ],
        [
         "15",
         "10683.json",
         "half-true",
         "In this last election in November, ... 63 percent of the American people chose not to vote, ... 80 percent of young people, (and) 75 percent of low-income workers chose not to vote.",
         "elections",
         "bernie-s",
         "U.S. Senator",
         "Vermont",
         "independent",
         "18.0",
         "12.0",
         "22.0",
         "41.0",
         "0.0",
         "a town hall in Austin, Texas"
        ],
        [
         "16",
         "620.json",
         "true",
         "McCain opposed a requirement that the government buy American-made motorcycles. And he said all buy-American provisions were quote 'disgraceful.' ",
         "federal-budget",
         "barack-obama",
         "President",
         "Illinois",
         "democrat",
         "70.0",
         "71.0",
         "160.0",
         "163.0",
         "9.0",
         "a radio ad"
        ],
        [
         "17",
         "3863.json",
         "barely-true",
         "U.S. Rep. Ron Kind, D-Wis., and his fellow Democrats went on a spending spree and now their credit card is maxed out",
         "federal-budget",
         "national-republican-congressional-committee",
         null,
         null,
         "republican",
         "18.0",
         "9.0",
         "8.0",
         "5.0",
         "8.0",
         "a news release"
        ],
        [
         "18",
         "12372.json",
         "half-true",
         "Water rates in Manila, Philippines, were raised up to 845 percent when a subsidiary of the World Bank became a partial owner.",
         "financial-regulation,foreign-policy,water",
         "gwen-moore",
         "U.S. House member -- 4th District",
         "Wisconsin",
         "democrat",
         "3.0",
         "4.0",
         "4.0",
         "3.0",
         "1.0",
         "a congressional hearing"
        ],
        [
         "19",
         "12385.json",
         "mostly-true",
         "Almost 100,000 people left Puerto Rico last year.",
         "bankruptcy,economy,population",
         "jack-lew",
         "Treasury secretary ",
         "Washington, D.C. ",
         "democrat",
         "0.0",
         "1.0",
         "0.0",
         "1.0",
         "0.0",
         "an interview with Bloomberg News"
        ],
        [
         "20",
         "10173.json",
         "false",
         "Women and men both are making less when you adjust for inflation than when John Kitzhaber was first elected governor.",
         "economy,income",
         "dennis-richardson",
         "state representative",
         "Oregon",
         "republican",
         "0.0",
         "4.0",
         "1.0",
         "2.0",
         "0.0",
         "a campaign debate"
        ],
        [
         "21",
         "9867.json",
         "mostly-true",
         "The United States has the highest corporate tax rate in the free world.",
         "corporations,taxes",
         "eric-bolling",
         "Co-host on Fox News Channel's \"The Five\"",
         null,
         "none",
         "2.0",
         "1.0",
         "1.0",
         "1.0",
         "0.0",
         "a discussion on Fox News' \"The Five\""
        ],
        [
         "22",
         "12408.json",
         "mostly-true",
         "We just had the best year for the auto industry in America in history.",
         "economy",
         "hillary-clinton",
         "Presidential candidate",
         "New York",
         "democrat",
         "40.0",
         "29.0",
         "69.0",
         "76.0",
         "7.0",
         "remarks at a Kentucky rally"
        ],
        [
         "23",
         "2673.json",
         "half-true",
         "Says Scott Walker favors cutting up to 350,000 families and children off health care.",
         "health-care,message-machine",
         "greater-wisconsin-political-fund",
         null,
         "Wisconsin",
         "none",
         "3.0",
         "3.0",
         "3.0",
         "1.0",
         "1.0",
         "a campaign TV ad"
        ],
        [
         "24",
         "7057.json",
         "barely-true",
         "Says Mitt Romney wants to get rid of Planned Parenthood.",
         "abortion,federal-budget,health-care",
         "planned-parenthood-action-fund",
         "Advocacy group",
         "Washington, D.C.",
         "none",
         "1.0",
         "0.0",
         "0.0",
         "0.0",
         "0.0",
         "a radio ad"
        ],
        [
         "25",
         "10215.json",
         "false",
         "I dont know who (Jonathan Gruber) is.",
         "health-care",
         "nancy-pelosi",
         "House Minority Leader",
         "California",
         "democrat",
         "3.0",
         "7.0",
         "11.0",
         "2.0",
         "3.0",
         "a news conference"
        ],
        [
         "26",
         "12517.json",
         "mostly-true",
         "Hate crimes against American Muslims and mosques have tripled after Paris and San Bernardino.",
         "crime,diversity,homeland-security,terrorism",
         "hillary-clinton",
         "Presidential candidate",
         "New York",
         "democrat",
         "40.0",
         "29.0",
         "69.0",
         "76.0",
         "7.0",
         "a speech after a terrorist attack in Orlando"
        ],
        [
         "27",
         "3910.json",
         "half-true",
         "Rick Perry has never lost an election and remains the only person to have won the Texas governorship three times in landslide elections.",
         "candidates-biography",
         "ted-nugent",
         "musician",
         "Texas",
         "republican",
         "0.0",
         "0.0",
         "2.0",
         "0.0",
         "2.0",
         "an oped column."
        ],
        [
         "28",
         "11092.json",
         "false",
         "ISIS supporter tweeted at 10:34 a.m. Shooting began at 10:45 a.m. in Chattanooga, Tenn.",
         "technology,terrorism",
         "pamela-geller",
         "President of American Freedom Defense Intitiative",
         "New York",
         "activist",
         "0.0",
         "1.0",
         "1.0",
         "0.0",
         "0.0",
         "a tweet "
        ],
        [
         "29",
         "12163.json",
         "mostly-true",
         "Youth unemployment in minority communities is about 40 to 45 percent.",
         "diversity,economy,jobs",
         "peter-kinder",
         "Lieutenant governor",
         "Missouri",
         "republican",
         "0.0",
         "0.0",
         "0.0",
         "1.0",
         "1.0",
         "a gubernatorial debate"
        ],
        [
         "30",
         "13237.json",
         "true",
         "Says Paul Ryan is still endorsing Trump.",
         "candidates-biography,elections,campaign-advertising",
         "hillary-clinton",
         "Presidential candidate",
         "New York",
         "democrat",
         "40.0",
         "29.0",
         "69.0",
         "76.0",
         "7.0",
         "a tweet"
        ],
        [
         "31",
         "5383.json",
         "barely-true",
         "If you look at states that are right to work, they constantly do not have budget deficits and they have very good business climates.",
         "economy,labor,states,unions,workers",
         "nicholas-kettle",
         "State senator",
         "Rhode Island",
         "republican",
         "1.0",
         "0.0",
         "0.0",
         "0.0",
         "0.0",
         "a radio talk show"
        ],
        [
         "32",
         "9727.json",
         "false",
         "What (the Obama administration is) going to come out with in the next several months is youre not even going to be able to burn coal very limitedly in the existing plants.",
         "climate-change,energy,environment,government-regulation",
         "shelley-moore-capito",
         "U.S. House of Representative",
         "West Virginia",
         "republican",
         "1.0",
         "1.0",
         "0.0",
         "0.0",
         "0.0",
         "a campaign ad"
        ],
        [
         "33",
         "8239.json",
         "mostly-true",
         "We cut business taxes so today 70 percent of our businesses dont pay a business tax.",
         "small-business,taxes",
         "rick-scott",
         "Governor",
         "Florida",
         "republican",
         "28.0",
         "23.0",
         "38.0",
         "34.0",
         "7.0",
         "a speech at an Americans for Prosperity Foundation conference"
        ],
        [
         "34",
         "10121.json",
         "mostly-true",
         "Says Mark Pryor votes with Obama 93 percent of the time.",
         "bipartisanship,voting-record",
         "tom-cotton",
         "U.S. House of Representatives",
         "Arkansas",
         "republican",
         "3.0",
         "4.0",
         "2.0",
         "3.0",
         "1.0",
         "a debate"
        ],
        [
         "35",
         "7550.json",
         "true",
         "We have a federal government that thinks they have the authority to regulate our toilet seats.",
         "consumer-safety,corrections-and-updates,government-regulation,market-regulation,states,supreme-court,workers",
         "ted-cruz",
         "Senator",
         "Texas",
         "republican",
         "36.0",
         "33.0",
         "15.0",
         "19.0",
         "8.0",
         "a speech at CPAC"
        ],
        [
         "36",
         "9018.json",
         "true",
         "Austin is a city that has basically doubled in size every 25 years or so since it was founded.",
         "city-government,population",
         "lee-leffingwell",
         "Austin mayor",
         "Texas",
         "democrat",
         "1.0",
         "0.0",
         "4.0",
         "1.0",
         "0.0",
         "his \"State of the City\" address"
        ],
        [
         "37",
         "1038.json",
         "true",
         "The nuclear test conducted in our nation this time is the Earth's 2,054th nuclear test. The five permanent members of the U.N. Security Council have conducted 99.99 percent of the total nuclear tests.",
         "military",
         "north-korea",
         null,
         null,
         "none",
         "0.0",
         "0.0",
         "0.0",
         "0.0",
         "0.0",
         "a released statement"
        ],
        [
         "38",
         "2940.json",
         "pants-fire",
         "In the case of a catastrophic event, the Atlanta-area offices of the Centers for Disease Control and Prevention will self-destruct.",
         "health-care,pop-culture",
         "walking-dead",
         null,
         null,
         "none",
         "0.0",
         "0.0",
         "0.0",
         "0.0",
         "1.0",
         "the TV show's season finale"
        ],
        [
         "39",
         "8492.json",
         "true",
         "Under President George W. Bush, we added $4.9 trillion to the debt. Under President Obama weve added $6.5 trillion to the debt.",
         "debt",
         "kelly-ayotte",
         "U.S. Senator",
         "New Hampshire",
         "republican",
         "2.0",
         "1.0",
         "1.0",
         "4.0",
         "0.0",
         "a town hall meeting in Hudson, N.H."
        ],
        [
         "40",
         "5352.json",
         "false",
         "Says a U.S. Supreme Court justice suggested that some U.S. cases will be decided based on South African law.",
         "legal-issues,supreme-court",
         "marco-rubio",
         "U.S. Senator",
         "Florida",
         "republican",
         "33.0",
         "24.0",
         "32.0",
         "35.0",
         "5.0",
         "a speech at the CPAC conference"
        ],
        [
         "41",
         "12027.json",
         "half-true",
         "Says Marco Rubio skipped 18 defense votes including one to arm the Kurds to fight ISIS.",
         "military,voting-record",
         "keep-promise-1-pac",
         null,
         null,
         "republican",
         "0.0",
         "1.0",
         "1.0",
         "0.0",
         "0.0",
         "a TV ad"
        ],
        [
         "42",
         "5210.json",
         "pants-fire",
         "Rep. David Cicilline is responsible for the federal loan guarantee to Solyndra, the failed solar company",
         "energy,stimulus",
         "national-republican-congressional-committee",
         null,
         null,
         "republican",
         "18.0",
         "9.0",
         "8.0",
         "5.0",
         "8.0",
         "a news release"
        ],
        [
         "43",
         "7993.json",
         "pants-fire",
         "Says Ohio budget item later signed into law by Gov. John Kasich requires women seeking an abortion to undergo a mandatory vaginal probe.",
         "abortion,pundits,women",
         "rachel-maddow",
         "MSNBC host",
         null,
         "none",
         "6.0",
         "6.0",
         "4.0",
         "6.0",
         "1.0",
         "On “The Rachel Maddow Show,” broadcast on MSNBC"
        ],
        [
         "44",
         "1926.json",
         "false",
         "We have a director of homeland security who cannot use and will not use the term 'terrorist attack' but instead substitutes 'man-made disaster.' ",
         "homeland-security,terrorism",
         "jerry-patterson",
         "state land commissioner",
         "Texas",
         "republican",
         "1.0",
         "1.0",
         "1.0",
         "3.0",
         "0.0",
         "a speech at the Texas Republican Party Convention"
        ],
        [
         "45",
         "11418.json",
         "half-true",
         "African-American youth unemployment is 51 percent. Hispanic youth unemployment is 36 percent.",
         "diversity,economy,jobs",
         "bernie-s",
         "U.S. Senator",
         "Vermont",
         "independent",
         "18.0",
         "12.0",
         "22.0",
         "41.0",
         "0.0",
         "a Democratic presidential debate in Las Vegas"
        ],
        [
         "46",
         "7990.json",
         "pants-fire",
         "Obamacare will provide insurance to all non-U.S. residents, even if they are here illegally.",
         "health-care,immigration",
         "chain-email",
         null,
         null,
         "none",
         "11.0",
         "43.0",
         "8.0",
         "5.0",
         "105.0",
         "a long-running chain email"
        ],
        [
         "47",
         "3652.json",
         "false",
         "President Barack Obama took exactly none of his own deficit reduction commissions ideas. Not one.",
         "deficit,federal-budget",
         "john-boehner",
         "Speaker of the House of Representatives",
         "Ohio",
         "republican",
         "13.0",
         "22.0",
         "11.0",
         "4.0",
         "2.0",
         "an interview with ABC news"
        ],
        [
         "48",
         "12848.json",
         "pants-fire",
         "It was under Barack Obama and Hillary Clinton that changed the rules of engagement that probably cost (Capt. Humayun Khans) life.",
         "iraq,military",
         "katrina-pierson",
         null,
         null,
         "republican",
         "0.0",
         "0.0",
         "0.0",
         "0.0",
         "1.0",
         "an interview on CNN."
        ],
        [
         "49",
         "13503.json",
         "true",
         "Hillary Clinton in 2005 co-sponsored legislation that would jail flag burners.",
         "patriotism",
         "blog-posting",
         null,
         null,
         "none",
         "7.0",
         "19.0",
         "3.0",
         "5.0",
         "44.0",
         "Townhall.com "
        ]
       ],
       "shape": {
        "columns": 14,
        "rows": 10240
       }
      },
      "text/html": [
       "<div>\n",
       "<style scoped>\n",
       "    .dataframe tbody tr th:only-of-type {\n",
       "        vertical-align: middle;\n",
       "    }\n",
       "\n",
       "    .dataframe tbody tr th {\n",
       "        vertical-align: top;\n",
       "    }\n",
       "\n",
       "    .dataframe thead th {\n",
       "        text-align: right;\n",
       "    }\n",
       "</style>\n",
       "<table border=\"1\" class=\"dataframe\">\n",
       "  <thead>\n",
       "    <tr style=\"text-align: right;\">\n",
       "      <th></th>\n",
       "      <th>0</th>\n",
       "      <th>1</th>\n",
       "      <th>2</th>\n",
       "      <th>3</th>\n",
       "      <th>4</th>\n",
       "      <th>5</th>\n",
       "      <th>6</th>\n",
       "      <th>7</th>\n",
       "      <th>8</th>\n",
       "      <th>9</th>\n",
       "      <th>10</th>\n",
       "      <th>11</th>\n",
       "      <th>12</th>\n",
       "      <th>13</th>\n",
       "    </tr>\n",
       "  </thead>\n",
       "  <tbody>\n",
       "    <tr>\n",
       "      <th>0</th>\n",
       "      <td>2635.json</td>\n",
       "      <td>false</td>\n",
       "      <td>Says the Annies List political group supports ...</td>\n",
       "      <td>abortion</td>\n",
       "      <td>dwayne-bohac</td>\n",
       "      <td>State representative</td>\n",
       "      <td>Texas</td>\n",
       "      <td>republican</td>\n",
       "      <td>0.0</td>\n",
       "      <td>1.0</td>\n",
       "      <td>0.0</td>\n",
       "      <td>0.0</td>\n",
       "      <td>0.0</td>\n",
       "      <td>a mailer</td>\n",
       "    </tr>\n",
       "    <tr>\n",
       "      <th>1</th>\n",
       "      <td>10540.json</td>\n",
       "      <td>half-true</td>\n",
       "      <td>When did the decline of coal start? It started...</td>\n",
       "      <td>energy,history,job-accomplishments</td>\n",
       "      <td>scott-surovell</td>\n",
       "      <td>State delegate</td>\n",
       "      <td>Virginia</td>\n",
       "      <td>democrat</td>\n",
       "      <td>0.0</td>\n",
       "      <td>0.0</td>\n",
       "      <td>1.0</td>\n",
       "      <td>1.0</td>\n",
       "      <td>0.0</td>\n",
       "      <td>a floor speech.</td>\n",
       "    </tr>\n",
       "    <tr>\n",
       "      <th>2</th>\n",
       "      <td>324.json</td>\n",
       "      <td>mostly-true</td>\n",
       "      <td>Hillary Clinton agrees with John McCain \"by vo...</td>\n",
       "      <td>foreign-policy</td>\n",
       "      <td>barack-obama</td>\n",
       "      <td>President</td>\n",
       "      <td>Illinois</td>\n",
       "      <td>democrat</td>\n",
       "      <td>70.0</td>\n",
       "      <td>71.0</td>\n",
       "      <td>160.0</td>\n",
       "      <td>163.0</td>\n",
       "      <td>9.0</td>\n",
       "      <td>Denver</td>\n",
       "    </tr>\n",
       "    <tr>\n",
       "      <th>3</th>\n",
       "      <td>1123.json</td>\n",
       "      <td>false</td>\n",
       "      <td>Health care reform legislation is likely to ma...</td>\n",
       "      <td>health-care</td>\n",
       "      <td>blog-posting</td>\n",
       "      <td>NaN</td>\n",
       "      <td>NaN</td>\n",
       "      <td>none</td>\n",
       "      <td>7.0</td>\n",
       "      <td>19.0</td>\n",
       "      <td>3.0</td>\n",
       "      <td>5.0</td>\n",
       "      <td>44.0</td>\n",
       "      <td>a news release</td>\n",
       "    </tr>\n",
       "    <tr>\n",
       "      <th>4</th>\n",
       "      <td>9028.json</td>\n",
       "      <td>half-true</td>\n",
       "      <td>The economic turnaround started at the end of ...</td>\n",
       "      <td>economy,jobs</td>\n",
       "      <td>charlie-crist</td>\n",
       "      <td>NaN</td>\n",
       "      <td>Florida</td>\n",
       "      <td>democrat</td>\n",
       "      <td>15.0</td>\n",
       "      <td>9.0</td>\n",
       "      <td>20.0</td>\n",
       "      <td>19.0</td>\n",
       "      <td>2.0</td>\n",
       "      <td>an interview on CNN</td>\n",
       "    </tr>\n",
       "    <tr>\n",
       "      <th>...</th>\n",
       "      <td>...</td>\n",
       "      <td>...</td>\n",
       "      <td>...</td>\n",
       "      <td>...</td>\n",
       "      <td>...</td>\n",
       "      <td>...</td>\n",
       "      <td>...</td>\n",
       "      <td>...</td>\n",
       "      <td>...</td>\n",
       "      <td>...</td>\n",
       "      <td>...</td>\n",
       "      <td>...</td>\n",
       "      <td>...</td>\n",
       "      <td>...</td>\n",
       "    </tr>\n",
       "    <tr>\n",
       "      <th>10235</th>\n",
       "      <td>5473.json</td>\n",
       "      <td>mostly-true</td>\n",
       "      <td>There are a larger number of shark attacks in ...</td>\n",
       "      <td>animals,elections</td>\n",
       "      <td>aclu-florida</td>\n",
       "      <td>NaN</td>\n",
       "      <td>Florida</td>\n",
       "      <td>none</td>\n",
       "      <td>0.0</td>\n",
       "      <td>1.0</td>\n",
       "      <td>1.0</td>\n",
       "      <td>1.0</td>\n",
       "      <td>0.0</td>\n",
       "      <td>interview on \"The Colbert Report\"</td>\n",
       "    </tr>\n",
       "    <tr>\n",
       "      <th>10236</th>\n",
       "      <td>3408.json</td>\n",
       "      <td>mostly-true</td>\n",
       "      <td>Democrats have now become the party of the [At...</td>\n",
       "      <td>elections</td>\n",
       "      <td>alan-powell</td>\n",
       "      <td>NaN</td>\n",
       "      <td>Georgia</td>\n",
       "      <td>republican</td>\n",
       "      <td>0.0</td>\n",
       "      <td>0.0</td>\n",
       "      <td>0.0</td>\n",
       "      <td>1.0</td>\n",
       "      <td>0.0</td>\n",
       "      <td>an interview</td>\n",
       "    </tr>\n",
       "    <tr>\n",
       "      <th>10237</th>\n",
       "      <td>3959.json</td>\n",
       "      <td>half-true</td>\n",
       "      <td>Says an alternative to Social Security that op...</td>\n",
       "      <td>retirement,social-security</td>\n",
       "      <td>herman-cain</td>\n",
       "      <td>NaN</td>\n",
       "      <td>Georgia</td>\n",
       "      <td>republican</td>\n",
       "      <td>4.0</td>\n",
       "      <td>11.0</td>\n",
       "      <td>5.0</td>\n",
       "      <td>3.0</td>\n",
       "      <td>3.0</td>\n",
       "      <td>a Republican presidential debate</td>\n",
       "    </tr>\n",
       "    <tr>\n",
       "      <th>10238</th>\n",
       "      <td>2253.json</td>\n",
       "      <td>false</td>\n",
       "      <td>On lifting the U.S. Cuban embargo and allowing...</td>\n",
       "      <td>florida,foreign-policy</td>\n",
       "      <td>jeff-greene</td>\n",
       "      <td>NaN</td>\n",
       "      <td>Florida</td>\n",
       "      <td>democrat</td>\n",
       "      <td>3.0</td>\n",
       "      <td>1.0</td>\n",
       "      <td>3.0</td>\n",
       "      <td>0.0</td>\n",
       "      <td>0.0</td>\n",
       "      <td>a televised debate on Miami's WPLG-10 against ...</td>\n",
       "    </tr>\n",
       "    <tr>\n",
       "      <th>10239</th>\n",
       "      <td>1155.json</td>\n",
       "      <td>pants-fire</td>\n",
       "      <td>The Department of Veterans Affairs has a manua...</td>\n",
       "      <td>health-care,veterans</td>\n",
       "      <td>michael-steele</td>\n",
       "      <td>chairman of the Republican National Committee</td>\n",
       "      <td>Maryland</td>\n",
       "      <td>republican</td>\n",
       "      <td>0.0</td>\n",
       "      <td>1.0</td>\n",
       "      <td>1.0</td>\n",
       "      <td>0.0</td>\n",
       "      <td>2.0</td>\n",
       "      <td>a Fox News interview</td>\n",
       "    </tr>\n",
       "  </tbody>\n",
       "</table>\n",
       "<p>10240 rows × 14 columns</p>\n",
       "</div>"
      ],
      "text/plain": [
       "               0            1   \\\n",
       "0       2635.json        false   \n",
       "1      10540.json    half-true   \n",
       "2        324.json  mostly-true   \n",
       "3       1123.json        false   \n",
       "4       9028.json    half-true   \n",
       "...           ...          ...   \n",
       "10235   5473.json  mostly-true   \n",
       "10236   3408.json  mostly-true   \n",
       "10237   3959.json    half-true   \n",
       "10238   2253.json        false   \n",
       "10239   1155.json   pants-fire   \n",
       "\n",
       "                                                      2   \\\n",
       "0      Says the Annies List political group supports ...   \n",
       "1      When did the decline of coal start? It started...   \n",
       "2      Hillary Clinton agrees with John McCain \"by vo...   \n",
       "3      Health care reform legislation is likely to ma...   \n",
       "4      The economic turnaround started at the end of ...   \n",
       "...                                                  ...   \n",
       "10235  There are a larger number of shark attacks in ...   \n",
       "10236  Democrats have now become the party of the [At...   \n",
       "10237  Says an alternative to Social Security that op...   \n",
       "10238  On lifting the U.S. Cuban embargo and allowing...   \n",
       "10239  The Department of Veterans Affairs has a manua...   \n",
       "\n",
       "                                       3               4   \\\n",
       "0                                abortion    dwayne-bohac   \n",
       "1      energy,history,job-accomplishments  scott-surovell   \n",
       "2                          foreign-policy    barack-obama   \n",
       "3                             health-care    blog-posting   \n",
       "4                            economy,jobs   charlie-crist   \n",
       "...                                   ...             ...   \n",
       "10235                   animals,elections    aclu-florida   \n",
       "10236                           elections     alan-powell   \n",
       "10237          retirement,social-security     herman-cain   \n",
       "10238              florida,foreign-policy     jeff-greene   \n",
       "10239                health-care,veterans  michael-steele   \n",
       "\n",
       "                                                  5         6           7   \\\n",
       "0                               State representative     Texas  republican   \n",
       "1                                     State delegate  Virginia    democrat   \n",
       "2                                          President  Illinois    democrat   \n",
       "3                                                NaN       NaN        none   \n",
       "4                                                NaN   Florida    democrat   \n",
       "...                                              ...       ...         ...   \n",
       "10235                                            NaN   Florida        none   \n",
       "10236                                            NaN   Georgia  republican   \n",
       "10237                                            NaN   Georgia  republican   \n",
       "10238                                            NaN   Florida    democrat   \n",
       "10239  chairman of the Republican National Committee  Maryland  republican   \n",
       "\n",
       "         8     9      10     11    12  \\\n",
       "0       0.0   1.0    0.0    0.0   0.0   \n",
       "1       0.0   0.0    1.0    1.0   0.0   \n",
       "2      70.0  71.0  160.0  163.0   9.0   \n",
       "3       7.0  19.0    3.0    5.0  44.0   \n",
       "4      15.0   9.0   20.0   19.0   2.0   \n",
       "...     ...   ...    ...    ...   ...   \n",
       "10235   0.0   1.0    1.0    1.0   0.0   \n",
       "10236   0.0   0.0    0.0    1.0   0.0   \n",
       "10237   4.0  11.0    5.0    3.0   3.0   \n",
       "10238   3.0   1.0    3.0    0.0   0.0   \n",
       "10239   0.0   1.0    1.0    0.0   2.0   \n",
       "\n",
       "                                                      13  \n",
       "0                                               a mailer  \n",
       "1                                        a floor speech.  \n",
       "2                                                 Denver  \n",
       "3                                         a news release  \n",
       "4                                    an interview on CNN  \n",
       "...                                                  ...  \n",
       "10235                  interview on \"The Colbert Report\"  \n",
       "10236                                       an interview  \n",
       "10237                   a Republican presidential debate  \n",
       "10238  a televised debate on Miami's WPLG-10 against ...  \n",
       "10239                               a Fox News interview  \n",
       "\n",
       "[10240 rows x 14 columns]"
      ]
     },
     "execution_count": 87,
     "metadata": {},
     "output_type": "execute_result"
    }
   ],
   "source": [
    "import pandas as pd\n",
    "\n",
    "filePath = '../Data/LIAR dataset/train.tsv'\n",
    "\n",
    "LIAR_Data = pd.read_csv(filePath, sep='\\t',header=None)\n",
    "\n",
    "LIAR_Data"
   ]
  },
  {
   "cell_type": "markdown",
   "metadata": {},
   "source": [
    "### Cleaning the dataset"
   ]
  },
  {
   "cell_type": "markdown",
   "metadata": {},
   "source": [
    "Her bruger jeg en modificeret version af koden fra ``Pre-Processing Program.py``, til at cleane LIAR datasættet på samme måde som ``995,000_rows.csv`` blev cleanet."
   ]
  },
  {
   "cell_type": "code",
   "execution_count": 88,
   "metadata": {},
   "outputs": [
    {
     "name": "stdout",
     "output_type": "stream",
     "text": [
      "Compiling cleaning functions...\n",
      "Reading '../Data/LIAR dataset/train.tsv'...\n",
      "Preparing parallization...\n"
     ]
    },
    {
     "name": "stderr",
     "output_type": "stream",
     "text": [
      "2025-03-22 16:59:40,436\tINFO worker.py:1841 -- Started a local Ray instance.\n",
      "C:\\Users\\andyk\\AppData\\Roaming\\Python\\Python312\\site-packages\\numpy\\_core\\fromnumeric.py:57: FutureWarning: 'DataFrame.swapaxes' is deprecated and will be removed in a future version. Please use 'DataFrame.transpose' instead.\n",
      "  return bound(*args, **kwds)\n"
     ]
    },
    {
     "name": "stdout",
     "output_type": "stream",
     "text": [
      "Cleaning in progress...\n"
     ]
    },
    {
     "name": "stderr",
     "output_type": "stream",
     "text": [
      "\u001b[36m(pid=29496)\u001b[0m Since the GPL-licensed package `unidecode` is not installed, using Python's `unicodedata` package which yields worse results.\n"
     ]
    },
    {
     "name": "stdout",
     "output_type": "stream",
     "text": [
      "\u001b[36m(apply_parallel pid=29496)\u001b[0m Finished cleaning +1/24...\n",
      "Combining results...\n",
      "Writing to file...\n",
      "Done!\n"
     ]
    }
   ],
   "source": [
    "# For parallization\n",
    "import ray\n",
    "# For data handling\n",
    "import pandas as pd\n",
    "from pandas import DataFrame\n",
    "import numpy as np\n",
    "# For text cleaning\n",
    "import cleantext as clean\n",
    "import re\n",
    "from nltk.stem.porter import PorterStemmer\n",
    "from nltk.corpus import stopwords\n",
    "\n",
    "try:\n",
    "    english_stopwords = set(stopwords.words('english'))\n",
    "except:\n",
    "    import nltk\n",
    "    nltk.download('stopwords')\n",
    "    english_stopwords = set(stopwords.words('english'))\n",
    "\n",
    "\n",
    "################# PROGRAM SPECIFICATIONS #################\n",
    "\n",
    "UNCLEANED_DATASET_PATH = filePath # Has to be a .csv\n",
    "'''The relative (to the program) or absolute filepath to the csv to be cleaned.'''\n",
    "\n",
    "COLUMNS_TO_BE_CLEANED = [2]\n",
    "'''A list of (text) columns in the csv that will be cleaned.'''\n",
    "\n",
    "DROP_NAN_VALUES = [2]\n",
    "'''A list of the columns were rows with NaN in these columns, will be removed.'''\n",
    "\n",
    "CLEANED_FILE_DESTINATION = '../Data/'\n",
    "\n",
    "################# USER INITIALIZATION #################\n",
    "\n",
    "MODE = 'f'\n",
    "\n",
    "################# DEFINING CLEANING FUNCTIONS #################\n",
    "print('Compiling cleaning functions...')\n",
    "\n",
    "# Converting to lowercase\n",
    "def lowercase(text:str):\n",
    "    return text.lower()\n",
    "\n",
    "url_regex = re.compile(r'(?:http[s]?://)?(?:www\\.)?[\\w]+\\.[a-z]{2,}[\\w#-_]*')\n",
    "# Replacing URLs\n",
    "def sub_URL(text:str):\n",
    "    return url_regex.sub(' <URL> ', text)\n",
    "\n",
    "email_regex = re.compile(r'[\\w._-]+@[\\w._-]+\\.[a-z]{2,}')\n",
    "# Replacing Emails\n",
    "def sub_EMAIL(text:str):\n",
    "    return email_regex.sub(' <EMAIL> ', text)\n",
    "\n",
    "date1_regex = re.compile(r'(?:\\b\\d{1,4}[-/\\.]\\d{1,2}[-/\\.]\\d{1,4}\\b)') # matcher 20-02-2025 og 20/02/2025 og 20.02.2025 og 2-20-2025 og 2/20/2025 og 2025-02-20 og 20/2/25 2/20/25\n",
    "date2_regex = re.compile(r'(?:(?:(?:the )?(?:[123]\\d|\\d)(?:st|nd|rd|th)? (?:of )?)?(?:jan|feb|mar|apr|may|jun|jul|aug|sep|oct|nov|sep|dec|mon|tue|wed|thu|fri|sat|sun)[a-z]*\\.?(?: (?:the )?\\d{1,4}(?:st|nd|rd|th)?,?))(?: (?:20|19)[\\d]{2}s?\\b)?')\n",
    "date3_regex = re.compile(r'(?:(?:(?:the )?(?:[123]\\d|\\d)(?:st|nd|rd|th)? of )(?:jan|feb|mar|apr|may|jun|jul|aug|sep|oct|nov|sep|dec|mon|tue|wed|thu|fri|sat|sun)[a-z]*)')\n",
    "date4_regex = re.compile(r'(?:20|19)[\\d]{2}s?\\b')\n",
    "# Replacing Dates\n",
    "def sub_DATE(text:str):\n",
    "    return date4_regex.sub(' <DATE> ', date3_regex.sub(' <DATE> ', date2_regex.sub(' <DATE> ', date1_regex.sub(' <DATE> ', text))))\n",
    "\n",
    "num_regex = re.compile(r'\\d(?:\\d|\\.|\\,|st|nd|rd|th)*')\n",
    "# Replacing Numbers\n",
    "def sub_NUM(text:str):\n",
    "    return num_regex.sub(' <NUM> ', text)\n",
    "\n",
    "punct_regex = re.compile(r'[^\\w\\s](?=[a-z])')\n",
    "# Replacing Punctuation in words\n",
    "def sub_punct(text:str):\n",
    "    return punct_regex.sub(' ', text)\n",
    "\n",
    "# rep URL, rep Email, rep tlf.nr., rep Numbers, del punct, rep Valuta\n",
    "def cleaning_module(text:str):\n",
    "    return clean.normalize_whitespace(clean.remove_punct(clean.replace_currency_symbols(text)))\n",
    "\n",
    "# Cleaning function containing the above functions.\n",
    "def CleanText(text:str) -> str :\n",
    "    \"\"\"Returns a cleaned string.\n",
    "    \n",
    "    Args:\n",
    "        text (str) : A (raw) uncleaned text (document).\n",
    "    Returns:\n",
    "        str : The same text, but cleaned.\"\"\"\n",
    "\n",
    "    return cleaning_module(\n",
    "        sub_punct(\n",
    "            sub_NUM(\n",
    "                sub_DATE(\n",
    "                    sub_EMAIL(\n",
    "                        sub_URL(\n",
    "                            lowercase(\n",
    "                                text\n",
    "                            )\n",
    "                        )\n",
    "                    )\n",
    "                )\n",
    "            )\n",
    "        )\n",
    "    )\n",
    "\n",
    "################# READING FILE #################\n",
    "\n",
    "# Reading file\n",
    "print(f\"Reading '{UNCLEANED_DATASET_PATH}'...\")\n",
    "if MODE == 'm':\n",
    "    raise RuntimeError\n",
    "else:\n",
    "    news_corpus_FULL = pd.read_csv(UNCLEANED_DATASET_PATH, sep='\\t',header=None).dropna(subset=DROP_NAN_VALUES)\n",
    "    news_corpus = news_corpus_FULL[[0]+COLUMNS_TO_BE_CLEANED]\n",
    "\n",
    "################# PREPARING PARALLIZATION #################\n",
    "\n",
    "print('Preparing parallization...')\n",
    "ray.shutdown()\n",
    "ray.init()\n",
    "\n",
    "# initializes a stemmer and defines pipeline\n",
    "stemmer = PorterStemmer()\n",
    "def preprocessing_pipeline(text:str):\n",
    "    return [stemmer.stem(word, to_lowercase=0) for word in CleanText(text).split() if word not in english_stopwords]\n",
    "\n",
    "@ray.remote\n",
    "def apply_parallel(df_chunk:DataFrame):\n",
    "    for column in COLUMNS_TO_BE_CLEANED:\n",
    "        df_chunk['cleaned '+str(column)] = df_chunk[column].apply(preprocessing_pipeline)\n",
    "    print(f'Finished cleaning +1/{num_of_chunks}...')\n",
    "    return df_chunk\n",
    "\n",
    "# splitting the dataset for parallization.\n",
    "num_of_chunks = 24\n",
    "csv_parts = np.array_split(news_corpus, num_of_chunks)\n",
    "\n",
    "################# PARALLEL CLEANING #################\n",
    "\n",
    "print('Cleaning in progress...')\n",
    "results = ray.get([apply_parallel.remote(split) for split in csv_parts])\n",
    "\n",
    "################# POST PROCESSING AND FINISH #################\n",
    "\n",
    "# combining the result\n",
    "print('Combining results...')\n",
    "news_corpus = pd.concat(results, ignore_index=True).drop(columns=COLUMNS_TO_BE_CLEANED)\n",
    "\n",
    "print('Writing to file...')\n",
    "if MODE == 'm':\n",
    "    raise RuntimeError\n",
    "else:\n",
    "    news_corpus_FULL = news_corpus_FULL.merge(news_corpus, on=0)\n",
    "    news_corpus_FULL.to_csv(CLEANED_FILE_DESTINATION+'cleaned_LIAR.csv', index=False)\n",
    "\n",
    "print('Done!')"
   ]
  },
  {
   "cell_type": "markdown",
   "metadata": {},
   "source": [
    "### Preparing the dataset"
   ]
  },
  {
   "cell_type": "markdown",
   "metadata": {},
   "source": [
    "Her indlæser jeg det cleanede dataset. Det ses at klasserne stadig mangler at blive katagoriseret ind i *Fake* og *Reliable*, hvilket jeg derfor også vil gøre."
   ]
  },
  {
   "cell_type": "code",
   "execution_count": 27,
   "metadata": {},
   "outputs": [
    {
     "data": {
      "application/vnd.microsoft.datawrangler.viewer.v0+json": {
       "columns": [
        {
         "name": "index",
         "rawType": "int64",
         "type": "integer"
        },
        {
         "name": "X",
         "rawType": "object",
         "type": "string"
        },
        {
         "name": "Y",
         "rawType": "object",
         "type": "string"
        }
       ],
       "conversionMethod": "pd.DataFrame",
       "ref": "4e0cd677-3425-4a1f-b430-d49e58e59572",
       "rows": [
        [
         "0",
         "['say', 'anni', 'list', 'polit', 'group', 'support', 'third', 'trimest', 'abort', 'demand']",
         "false"
        ],
        [
         "1",
         "['declin', 'coal', 'start', 'start', 'natur', 'ga', 'took', 'start', 'begin', 'presid', 'georg', 'w', 'bush', 'administr']",
         "half-true"
        ],
        [
         "2",
         "['hillari', 'clinton', 'agre', 'john', 'mccain', 'vote', 'give', 'georg', 'bush', 'benefit', 'doubt', 'iran']",
         "mostly-true"
        ],
        [
         "3",
         "['health', 'care', 'reform', 'legisl', 'like', 'mandat', 'free', 'sex', 'chang', 'surgeri']",
         "false"
        ],
        [
         "4",
         "['econom', 'turnaround', 'start', 'end', 'term']",
         "half-true"
        ],
        [
         "5",
         "['chicago', 'bear', 'start', 'quarterback', 'last', '<NUM>', 'year', 'total', 'number', 'tenur', 'uw', 'faculti', 'fire', 'last', 'two', 'decad']",
         "true"
        ],
        [
         "6",
         "['jim', 'dunnam', 'live', 'district', 'repres', 'year']",
         "barely-true"
        ],
        [
         "7",
         "['person', 'stage', 'work', 'activ', 'last', 'year', 'pass', 'along', 'russ', 'feingold', 'toughest', 'ethic', 'reform', 'sinc', 'waterg']",
         "half-true"
        ],
        [
         "8",
         "['howev', 'took', '<CUR>', '<NUM>', 'million', 'oregon', 'lotteri', 'fund', 'port', 'newport', 'eventu', 'land', 'new', 'noaa', 'marin', 'oper', 'center', 'pacif']",
         "half-true"
        ],
        [
         "9",
         "['say', 'gop', 'primari', 'oppon', 'glenn', 'grothman', 'joe', 'leibham', 'cast', 'compromis', 'vote', 'cost', '<CUR>', '<NUM>', 'million', 'higher', 'electr', 'cost']",
         "mostly-true"
        ],
        [
         "10",
         "['first', 'time', 'histori', 'share', 'nation', 'popular', 'vote', 'margin', 'smaller', 'latino', 'vote', 'margin']",
         "mostly-true"
        ],
        [
         "11",
         "['sinc', '<DATE>', 'nearli', '<NUM>', 'million', 'american', 'slip', 'middl', 'class', 'poverti']",
         "half-true"
        ],
        [
         "12",
         "['mitt', 'romney', 'governor', 'massachusett', 'didnt', 'slow', 'rate', 'growth', 'govern', 'actual', 'cut']",
         "false"
        ],
        [
         "13",
         "['economi', 'bled', '<CUR>', '<NUM>', 'billion', 'due', 'govern', 'shutdown']",
         "mostly-true"
        ],
        [
         "14",
         "['afford', 'care', 'act', 'alreadi', 'sens', 'waiv', 'otherwis', 'suspend']",
         "barely-true"
        ],
        [
         "15",
         "['last', 'elect', 'novemb', '<NUM>', 'percent', 'american', 'peopl', 'chose', 'vote', '<NUM>', 'percent', 'young', 'peopl', '<NUM>', 'percent', 'low', 'incom', 'worker', 'chose', 'vote']",
         "half-true"
        ],
        [
         "16",
         "['mccain', 'oppos', 'requir', 'govern', 'buy', 'american', 'made', 'motorcycl', 'said', 'buy', 'american', 'provis', 'quot', 'disgrac']",
         "true"
        ],
        [
         "17",
         "['u', 'rep', 'ron', 'kind', 'wi', 'fellow', 'democrat', 'went', 'spend', 'spree', 'credit', 'card', 'max']",
         "barely-true"
        ],
        [
         "18",
         "['water', 'rate', 'manila', 'philippin', 'rais', '<NUM>', 'percent', 'subsidiari', 'world', 'bank', 'becam', 'partial', 'owner']",
         "half-true"
        ],
        [
         "19",
         "['almost', '<NUM>', 'peopl', 'left', 'puerto', 'rico', 'last', 'year']",
         "mostly-true"
        ],
        [
         "20",
         "['women', 'men', 'make', 'less', 'adjust', 'inflat', 'john', 'kitzhab', 'first', 'elect', 'governor']",
         "false"
        ],
        [
         "21",
         "['unit', 'state', 'highest', 'corpor', 'tax', 'rate', 'free', 'world']",
         "mostly-true"
        ],
        [
         "22",
         "['best', 'year', 'auto', 'industri', 'america', 'histori']",
         "mostly-true"
        ],
        [
         "23",
         "['say', 'scott', 'walker', 'favor', 'cut', '<NUM>', 'famili', 'children', 'health', 'care']",
         "half-true"
        ],
        [
         "24",
         "['say', 'mitt', 'romney', 'want', 'get', 'rid', 'plan', 'parenthood']",
         "barely-true"
        ],
        [
         "25",
         "['dont', 'know', 'jonathan', 'gruber']",
         "false"
        ],
        [
         "26",
         "['hate', 'crime', 'american', 'muslim', 'mosqu', 'tripl', 'pari', 'san', 'bernardino']",
         "mostly-true"
        ],
        [
         "27",
         "['rick', 'perri', 'never', 'lost', 'elect', 'remain', 'person', 'texa', 'governorship', 'three', 'time', 'landslid', 'elect']",
         "half-true"
        ],
        [
         "28",
         "['isi', 'support', 'tweet', '<NUM>', '<NUM>', 'shoot', 'began', '<NUM>', '<NUM>', 'chattanooga', 'tenn']",
         "false"
        ],
        [
         "29",
         "['youth', 'unemploy', 'minor', 'commun', '<NUM>', '<NUM>', 'percent']",
         "mostly-true"
        ],
        [
         "30",
         "['say', 'paul', 'ryan', 'still', 'endors', 'trump']",
         "true"
        ],
        [
         "31",
         "['look', 'state', 'right', 'work', 'constantli', 'budget', 'deficit', 'good', 'busi', 'climat']",
         "barely-true"
        ],
        [
         "32",
         "['obama', 'administr', 'go', 'come', 'next', 'sever', 'month', 'your', 'even', 'go', 'abl', 'burn', 'coal', 'limitedli', 'exist', 'plant']",
         "false"
        ],
        [
         "33",
         "['cut', 'busi', 'tax', 'today', '<NUM>', 'percent', 'busi', 'dont', 'pay', 'busi', 'tax']",
         "mostly-true"
        ],
        [
         "34",
         "['say', 'mark', 'pryor', 'vote', 'obama', '<NUM>', 'percent', 'time']",
         "mostly-true"
        ],
        [
         "35",
         "['feder', 'govern', 'think', 'author', 'regul', 'toilet', 'seat']",
         "true"
        ],
        [
         "36",
         "['austin', 'citi', 'basic', 'doubl', 'size', 'everi', '<NUM>', 'year', 'sinc', 'found']",
         "true"
        ],
        [
         "37",
         "['nuclear', 'test', 'conduct', 'nation', 'time', 'earth', '<NUM>', 'nuclear', 'test', 'five', 'perman', 'member', 'u', 'n', 'secur', 'council', 'conduct', '<NUM>', 'percent', 'total', 'nuclear', 'test']",
         "true"
        ],
        [
         "38",
         "['case', 'catastroph', 'event', 'atlanta', 'area', 'offic', 'center', 'diseas', 'control', 'prevent', 'self', 'destruct']",
         "pants-fire"
        ],
        [
         "39",
         "['presid', 'georg', 'w', 'bush', 'ad', '<CUR>', '<NUM>', 'trillion', 'debt', 'presid', 'obama', 'weve', 'ad', '<CUR>', '<NUM>', 'trillion', 'debt']",
         "true"
        ],
        [
         "40",
         "['say', 'u', 'suprem', 'court', 'justic', 'suggest', 'u', 'case', 'decid', 'base', 'south', 'african', 'law']",
         "false"
        ],
        [
         "41",
         "['say', 'marco', 'rubio', 'skip', '<NUM>', 'defens', 'vote', 'includ', 'one', 'arm', 'kurd', 'fight', 'isi']",
         "half-true"
        ],
        [
         "42",
         "['rep', 'david', 'cicillin', 'respons', 'feder', 'loan', 'guarante', 'solyndra', 'fail', 'solar', 'compani']",
         "pants-fire"
        ],
        [
         "43",
         "['say', 'ohio', 'budget', 'item', 'later', 'sign', 'law', 'gov', 'john', 'kasich', 'requir', 'women', 'seek', 'abort', 'undergo', 'mandatori', 'vagin', 'probe']",
         "pants-fire"
        ],
        [
         "44",
         "['director', 'homeland', 'secur', 'cannot', 'use', 'use', 'term', 'terrorist', 'attack', 'instead', 'substitut', 'man', 'made', 'disast']",
         "false"
        ],
        [
         "45",
         "['african', 'american', 'youth', 'unemploy', '<NUM>', 'percent', 'hispan', 'youth', 'unemploy', '<NUM>', 'percent']",
         "half-true"
        ],
        [
         "46",
         "['obamacar', 'provid', 'insur', 'non', 'u', 'resid', 'even', 'illeg']",
         "pants-fire"
        ],
        [
         "47",
         "['presid', 'barack', 'obama', 'took', 'exactli', 'none', 'deficit', 'reduct', 'commiss', 'idea', 'one']",
         "false"
        ],
        [
         "48",
         "['barack', 'obama', 'hillari', 'clinton', 'chang', 'rule', 'engag', 'probabl', 'cost', 'capt', 'humayun', 'khan', 'life']",
         "pants-fire"
        ],
        [
         "49",
         "['hillari', 'clinton', '<DATE>', 'co', 'sponsor', 'legisl', 'would', 'jail', 'flag', 'burner']",
         "true"
        ]
       ],
       "shape": {
        "columns": 2,
        "rows": 10240
       }
      },
      "text/html": [
       "<div>\n",
       "<style scoped>\n",
       "    .dataframe tbody tr th:only-of-type {\n",
       "        vertical-align: middle;\n",
       "    }\n",
       "\n",
       "    .dataframe tbody tr th {\n",
       "        vertical-align: top;\n",
       "    }\n",
       "\n",
       "    .dataframe thead th {\n",
       "        text-align: right;\n",
       "    }\n",
       "</style>\n",
       "<table border=\"1\" class=\"dataframe\">\n",
       "  <thead>\n",
       "    <tr style=\"text-align: right;\">\n",
       "      <th></th>\n",
       "      <th>X</th>\n",
       "      <th>Y</th>\n",
       "    </tr>\n",
       "  </thead>\n",
       "  <tbody>\n",
       "    <tr>\n",
       "      <th>0</th>\n",
       "      <td>['say', 'anni', 'list', 'polit', 'group', 'sup...</td>\n",
       "      <td>false</td>\n",
       "    </tr>\n",
       "    <tr>\n",
       "      <th>1</th>\n",
       "      <td>['declin', 'coal', 'start', 'start', 'natur', ...</td>\n",
       "      <td>half-true</td>\n",
       "    </tr>\n",
       "    <tr>\n",
       "      <th>2</th>\n",
       "      <td>['hillari', 'clinton', 'agre', 'john', 'mccain...</td>\n",
       "      <td>mostly-true</td>\n",
       "    </tr>\n",
       "    <tr>\n",
       "      <th>3</th>\n",
       "      <td>['health', 'care', 'reform', 'legisl', 'like',...</td>\n",
       "      <td>false</td>\n",
       "    </tr>\n",
       "    <tr>\n",
       "      <th>4</th>\n",
       "      <td>['econom', 'turnaround', 'start', 'end', 'term']</td>\n",
       "      <td>half-true</td>\n",
       "    </tr>\n",
       "    <tr>\n",
       "      <th>...</th>\n",
       "      <td>...</td>\n",
       "      <td>...</td>\n",
       "    </tr>\n",
       "    <tr>\n",
       "      <th>10235</th>\n",
       "      <td>['larger', 'number', 'shark', 'attack', 'flori...</td>\n",
       "      <td>mostly-true</td>\n",
       "    </tr>\n",
       "    <tr>\n",
       "      <th>10236</th>\n",
       "      <td>['democrat', 'becom', 'parti', 'atlanta', 'met...</td>\n",
       "      <td>mostly-true</td>\n",
       "    </tr>\n",
       "    <tr>\n",
       "      <th>10237</th>\n",
       "      <td>['say', 'altern', 'social', 'secur', 'oper', '...</td>\n",
       "      <td>half-true</td>\n",
       "    </tr>\n",
       "    <tr>\n",
       "      <th>10238</th>\n",
       "      <td>['lift', 'u', 'cuban', 'embargo', 'allow', 'tr...</td>\n",
       "      <td>false</td>\n",
       "    </tr>\n",
       "    <tr>\n",
       "      <th>10239</th>\n",
       "      <td>['depart', 'veteran', 'affair', 'manual', 'tel...</td>\n",
       "      <td>pants-fire</td>\n",
       "    </tr>\n",
       "  </tbody>\n",
       "</table>\n",
       "<p>10240 rows × 2 columns</p>\n",
       "</div>"
      ],
      "text/plain": [
       "                                                       X            Y\n",
       "0      ['say', 'anni', 'list', 'polit', 'group', 'sup...        false\n",
       "1      ['declin', 'coal', 'start', 'start', 'natur', ...    half-true\n",
       "2      ['hillari', 'clinton', 'agre', 'john', 'mccain...  mostly-true\n",
       "3      ['health', 'care', 'reform', 'legisl', 'like',...        false\n",
       "4       ['econom', 'turnaround', 'start', 'end', 'term']    half-true\n",
       "...                                                  ...          ...\n",
       "10235  ['larger', 'number', 'shark', 'attack', 'flori...  mostly-true\n",
       "10236  ['democrat', 'becom', 'parti', 'atlanta', 'met...  mostly-true\n",
       "10237  ['say', 'altern', 'social', 'secur', 'oper', '...    half-true\n",
       "10238  ['lift', 'u', 'cuban', 'embargo', 'allow', 'tr...        false\n",
       "10239  ['depart', 'veteran', 'affair', 'manual', 'tel...   pants-fire\n",
       "\n",
       "[10240 rows x 2 columns]"
      ]
     },
     "execution_count": 27,
     "metadata": {},
     "output_type": "execute_result"
    }
   ],
   "source": [
    "import pandas as pd\n",
    "\n",
    "LIAR_Data = pd.read_csv('../Data/cleaned_LIAR.csv', usecols=['1', 'cleaned 2'])\n",
    "\n",
    "LIAR_Data = pd.DataFrame({'X':LIAR_Data['cleaned 2'], 'Y':LIAR_Data['1']})\n",
    "\n",
    "LIAR_Data"
   ]
  },
  {
   "cell_type": "markdown",
   "metadata": {},
   "source": [
    "Nedenfor ses hvilke typer der forekommer i LIAR datasættet, og jeg har også rangeret dem i rækkefølge fra mest reliable (venstre) til mest fake (højre). Da vores modeller kun er trænet til at klassificere 2 klasser, *fake* og *reliable* skal disse typer klassificeres under disse 2 klasser.\n",
    "\n",
    "| true | mostly-true | half-true | barely-true | false | pants-fire |\n",
    "|-|-|-|-|-|-|\n",
    "\n",
    "De typer som jeg vurdere til uden tvivl at tilhøre ***Fake***, er *barely-true*, *false* og *pants-fire*. Typerne *false* og *pants-fire* er selvforklarende i hvorfor de tilhøre denne klassen, men *barely-true* har jeg valgt da dette tyder på en betydelig/stærk fordrejning af sandheden.\n",
    "\n",
    "De typer som jeg vurdere til uden tvivl at tilhøre ***Reliable***, er *true* og *mostly-true*, hvor typen *true* er selvforklarende til at tilhøre denne klasse, men jeg har valgt at *mostly-true* skal tilhøre denne klasse, fordi at dette tyder på et der er meget få eller ubetydelige fejl i fakta, og tæt nok på sandheden.\n",
    "\n",
    "Derudover har jeg også valgt at *half-true* skal tilhøre ***Reliable***, og det har jeg delvist valgt fordi at det føltes naturligt at splitte typerne på midten, men også fordi at denne ligger i gråzonen mellem sand og falsk. Da jeg mangler en mere dybdegående defination af hvad de forskellige typer betyder og inkludere er det svært at sige om denne tilhøre den ene eller den anden eller om egentlig burde fjernes, men jeg har valgt at denne skal klassificeres som *reliable* da en halv sandhed på være overvejende sand.\n",
    "\n",
    "Dermed fås grupperne:\n",
    "- **Fake**:\n",
    "    - pants-fire\n",
    "    - false\n",
    "    - barely-true\n",
    "- **Reliable**:\n",
    "    - true\n",
    "    - mostly-true\n",
    "    - half-true\n",
    "\n",
    "Nedenfor omdanner jeg ovenstående typer til de 2 klasser."
   ]
  },
  {
   "cell_type": "code",
   "execution_count": null,
   "metadata": {},
   "outputs": [
    {
     "data": {
      "application/vnd.microsoft.datawrangler.viewer.v0+json": {
       "columns": [
        {
         "name": "index",
         "rawType": "int64",
         "type": "integer"
        },
        {
         "name": "X",
         "rawType": "object",
         "type": "string"
        },
        {
         "name": "Y",
         "rawType": "object",
         "type": "string"
        }
       ],
       "conversionMethod": "pd.DataFrame",
       "ref": "c0f1d884-05d4-45bf-a100-63370c06b1f2",
       "rows": [
        [
         "0",
         "['say', 'anni', 'list', 'polit', 'group', 'support', 'third', 'trimest', 'abort', 'demand']",
         "fake"
        ],
        [
         "1",
         "['declin', 'coal', 'start', 'start', 'natur', 'ga', 'took', 'start', 'begin', 'presid', 'georg', 'w', 'bush', 'administr']",
         "reliable"
        ],
        [
         "2",
         "['hillari', 'clinton', 'agre', 'john', 'mccain', 'vote', 'give', 'georg', 'bush', 'benefit', 'doubt', 'iran']",
         "reliable"
        ],
        [
         "3",
         "['health', 'care', 'reform', 'legisl', 'like', 'mandat', 'free', 'sex', 'chang', 'surgeri']",
         "fake"
        ],
        [
         "4",
         "['econom', 'turnaround', 'start', 'end', 'term']",
         "reliable"
        ],
        [
         "5",
         "['chicago', 'bear', 'start', 'quarterback', 'last', '<NUM>', 'year', 'total', 'number', 'tenur', 'uw', 'faculti', 'fire', 'last', 'two', 'decad']",
         "reliable"
        ],
        [
         "6",
         "['jim', 'dunnam', 'live', 'district', 'repres', 'year']",
         "fake"
        ],
        [
         "7",
         "['person', 'stage', 'work', 'activ', 'last', 'year', 'pass', 'along', 'russ', 'feingold', 'toughest', 'ethic', 'reform', 'sinc', 'waterg']",
         "reliable"
        ],
        [
         "8",
         "['howev', 'took', '<CUR>', '<NUM>', 'million', 'oregon', 'lotteri', 'fund', 'port', 'newport', 'eventu', 'land', 'new', 'noaa', 'marin', 'oper', 'center', 'pacif']",
         "reliable"
        ],
        [
         "9",
         "['say', 'gop', 'primari', 'oppon', 'glenn', 'grothman', 'joe', 'leibham', 'cast', 'compromis', 'vote', 'cost', '<CUR>', '<NUM>', 'million', 'higher', 'electr', 'cost']",
         "reliable"
        ],
        [
         "10",
         "['first', 'time', 'histori', 'share', 'nation', 'popular', 'vote', 'margin', 'smaller', 'latino', 'vote', 'margin']",
         "reliable"
        ],
        [
         "11",
         "['sinc', '<DATE>', 'nearli', '<NUM>', 'million', 'american', 'slip', 'middl', 'class', 'poverti']",
         "reliable"
        ],
        [
         "12",
         "['mitt', 'romney', 'governor', 'massachusett', 'didnt', 'slow', 'rate', 'growth', 'govern', 'actual', 'cut']",
         "fake"
        ],
        [
         "13",
         "['economi', 'bled', '<CUR>', '<NUM>', 'billion', 'due', 'govern', 'shutdown']",
         "reliable"
        ],
        [
         "14",
         "['afford', 'care', 'act', 'alreadi', 'sens', 'waiv', 'otherwis', 'suspend']",
         "fake"
        ],
        [
         "15",
         "['last', 'elect', 'novemb', '<NUM>', 'percent', 'american', 'peopl', 'chose', 'vote', '<NUM>', 'percent', 'young', 'peopl', '<NUM>', 'percent', 'low', 'incom', 'worker', 'chose', 'vote']",
         "reliable"
        ],
        [
         "16",
         "['mccain', 'oppos', 'requir', 'govern', 'buy', 'american', 'made', 'motorcycl', 'said', 'buy', 'american', 'provis', 'quot', 'disgrac']",
         "reliable"
        ],
        [
         "17",
         "['u', 'rep', 'ron', 'kind', 'wi', 'fellow', 'democrat', 'went', 'spend', 'spree', 'credit', 'card', 'max']",
         "fake"
        ],
        [
         "18",
         "['water', 'rate', 'manila', 'philippin', 'rais', '<NUM>', 'percent', 'subsidiari', 'world', 'bank', 'becam', 'partial', 'owner']",
         "reliable"
        ],
        [
         "19",
         "['almost', '<NUM>', 'peopl', 'left', 'puerto', 'rico', 'last', 'year']",
         "reliable"
        ],
        [
         "20",
         "['women', 'men', 'make', 'less', 'adjust', 'inflat', 'john', 'kitzhab', 'first', 'elect', 'governor']",
         "fake"
        ],
        [
         "21",
         "['unit', 'state', 'highest', 'corpor', 'tax', 'rate', 'free', 'world']",
         "reliable"
        ],
        [
         "22",
         "['best', 'year', 'auto', 'industri', 'america', 'histori']",
         "reliable"
        ],
        [
         "23",
         "['say', 'scott', 'walker', 'favor', 'cut', '<NUM>', 'famili', 'children', 'health', 'care']",
         "reliable"
        ],
        [
         "24",
         "['say', 'mitt', 'romney', 'want', 'get', 'rid', 'plan', 'parenthood']",
         "fake"
        ],
        [
         "25",
         "['dont', 'know', 'jonathan', 'gruber']",
         "fake"
        ],
        [
         "26",
         "['hate', 'crime', 'american', 'muslim', 'mosqu', 'tripl', 'pari', 'san', 'bernardino']",
         "reliable"
        ],
        [
         "27",
         "['rick', 'perri', 'never', 'lost', 'elect', 'remain', 'person', 'texa', 'governorship', 'three', 'time', 'landslid', 'elect']",
         "reliable"
        ],
        [
         "28",
         "['isi', 'support', 'tweet', '<NUM>', '<NUM>', 'shoot', 'began', '<NUM>', '<NUM>', 'chattanooga', 'tenn']",
         "fake"
        ],
        [
         "29",
         "['youth', 'unemploy', 'minor', 'commun', '<NUM>', '<NUM>', 'percent']",
         "reliable"
        ],
        [
         "30",
         "['say', 'paul', 'ryan', 'still', 'endors', 'trump']",
         "reliable"
        ],
        [
         "31",
         "['look', 'state', 'right', 'work', 'constantli', 'budget', 'deficit', 'good', 'busi', 'climat']",
         "fake"
        ],
        [
         "32",
         "['obama', 'administr', 'go', 'come', 'next', 'sever', 'month', 'your', 'even', 'go', 'abl', 'burn', 'coal', 'limitedli', 'exist', 'plant']",
         "fake"
        ],
        [
         "33",
         "['cut', 'busi', 'tax', 'today', '<NUM>', 'percent', 'busi', 'dont', 'pay', 'busi', 'tax']",
         "reliable"
        ],
        [
         "34",
         "['say', 'mark', 'pryor', 'vote', 'obama', '<NUM>', 'percent', 'time']",
         "reliable"
        ],
        [
         "35",
         "['feder', 'govern', 'think', 'author', 'regul', 'toilet', 'seat']",
         "reliable"
        ],
        [
         "36",
         "['austin', 'citi', 'basic', 'doubl', 'size', 'everi', '<NUM>', 'year', 'sinc', 'found']",
         "reliable"
        ],
        [
         "37",
         "['nuclear', 'test', 'conduct', 'nation', 'time', 'earth', '<NUM>', 'nuclear', 'test', 'five', 'perman', 'member', 'u', 'n', 'secur', 'council', 'conduct', '<NUM>', 'percent', 'total', 'nuclear', 'test']",
         "reliable"
        ],
        [
         "38",
         "['case', 'catastroph', 'event', 'atlanta', 'area', 'offic', 'center', 'diseas', 'control', 'prevent', 'self', 'destruct']",
         "fake"
        ],
        [
         "39",
         "['presid', 'georg', 'w', 'bush', 'ad', '<CUR>', '<NUM>', 'trillion', 'debt', 'presid', 'obama', 'weve', 'ad', '<CUR>', '<NUM>', 'trillion', 'debt']",
         "reliable"
        ],
        [
         "40",
         "['say', 'u', 'suprem', 'court', 'justic', 'suggest', 'u', 'case', 'decid', 'base', 'south', 'african', 'law']",
         "fake"
        ],
        [
         "41",
         "['say', 'marco', 'rubio', 'skip', '<NUM>', 'defens', 'vote', 'includ', 'one', 'arm', 'kurd', 'fight', 'isi']",
         "reliable"
        ],
        [
         "42",
         "['rep', 'david', 'cicillin', 'respons', 'feder', 'loan', 'guarante', 'solyndra', 'fail', 'solar', 'compani']",
         "fake"
        ],
        [
         "43",
         "['say', 'ohio', 'budget', 'item', 'later', 'sign', 'law', 'gov', 'john', 'kasich', 'requir', 'women', 'seek', 'abort', 'undergo', 'mandatori', 'vagin', 'probe']",
         "fake"
        ],
        [
         "44",
         "['director', 'homeland', 'secur', 'cannot', 'use', 'use', 'term', 'terrorist', 'attack', 'instead', 'substitut', 'man', 'made', 'disast']",
         "fake"
        ],
        [
         "45",
         "['african', 'american', 'youth', 'unemploy', '<NUM>', 'percent', 'hispan', 'youth', 'unemploy', '<NUM>', 'percent']",
         "reliable"
        ],
        [
         "46",
         "['obamacar', 'provid', 'insur', 'non', 'u', 'resid', 'even', 'illeg']",
         "fake"
        ],
        [
         "47",
         "['presid', 'barack', 'obama', 'took', 'exactli', 'none', 'deficit', 'reduct', 'commiss', 'idea', 'one']",
         "fake"
        ],
        [
         "48",
         "['barack', 'obama', 'hillari', 'clinton', 'chang', 'rule', 'engag', 'probabl', 'cost', 'capt', 'humayun', 'khan', 'life']",
         "fake"
        ],
        [
         "49",
         "['hillari', 'clinton', '<DATE>', 'co', 'sponsor', 'legisl', 'would', 'jail', 'flag', 'burner']",
         "reliable"
        ]
       ],
       "shape": {
        "columns": 2,
        "rows": 10240
       }
      },
      "text/html": [
       "<div>\n",
       "<style scoped>\n",
       "    .dataframe tbody tr th:only-of-type {\n",
       "        vertical-align: middle;\n",
       "    }\n",
       "\n",
       "    .dataframe tbody tr th {\n",
       "        vertical-align: top;\n",
       "    }\n",
       "\n",
       "    .dataframe thead th {\n",
       "        text-align: right;\n",
       "    }\n",
       "</style>\n",
       "<table border=\"1\" class=\"dataframe\">\n",
       "  <thead>\n",
       "    <tr style=\"text-align: right;\">\n",
       "      <th></th>\n",
       "      <th>X</th>\n",
       "      <th>Y</th>\n",
       "    </tr>\n",
       "  </thead>\n",
       "  <tbody>\n",
       "    <tr>\n",
       "      <th>0</th>\n",
       "      <td>['say', 'anni', 'list', 'polit', 'group', 'sup...</td>\n",
       "      <td>fake</td>\n",
       "    </tr>\n",
       "    <tr>\n",
       "      <th>1</th>\n",
       "      <td>['declin', 'coal', 'start', 'start', 'natur', ...</td>\n",
       "      <td>reliable</td>\n",
       "    </tr>\n",
       "    <tr>\n",
       "      <th>2</th>\n",
       "      <td>['hillari', 'clinton', 'agre', 'john', 'mccain...</td>\n",
       "      <td>reliable</td>\n",
       "    </tr>\n",
       "    <tr>\n",
       "      <th>3</th>\n",
       "      <td>['health', 'care', 'reform', 'legisl', 'like',...</td>\n",
       "      <td>fake</td>\n",
       "    </tr>\n",
       "    <tr>\n",
       "      <th>4</th>\n",
       "      <td>['econom', 'turnaround', 'start', 'end', 'term']</td>\n",
       "      <td>reliable</td>\n",
       "    </tr>\n",
       "    <tr>\n",
       "      <th>...</th>\n",
       "      <td>...</td>\n",
       "      <td>...</td>\n",
       "    </tr>\n",
       "    <tr>\n",
       "      <th>10235</th>\n",
       "      <td>['larger', 'number', 'shark', 'attack', 'flori...</td>\n",
       "      <td>reliable</td>\n",
       "    </tr>\n",
       "    <tr>\n",
       "      <th>10236</th>\n",
       "      <td>['democrat', 'becom', 'parti', 'atlanta', 'met...</td>\n",
       "      <td>reliable</td>\n",
       "    </tr>\n",
       "    <tr>\n",
       "      <th>10237</th>\n",
       "      <td>['say', 'altern', 'social', 'secur', 'oper', '...</td>\n",
       "      <td>reliable</td>\n",
       "    </tr>\n",
       "    <tr>\n",
       "      <th>10238</th>\n",
       "      <td>['lift', 'u', 'cuban', 'embargo', 'allow', 'tr...</td>\n",
       "      <td>fake</td>\n",
       "    </tr>\n",
       "    <tr>\n",
       "      <th>10239</th>\n",
       "      <td>['depart', 'veteran', 'affair', 'manual', 'tel...</td>\n",
       "      <td>fake</td>\n",
       "    </tr>\n",
       "  </tbody>\n",
       "</table>\n",
       "<p>10240 rows × 2 columns</p>\n",
       "</div>"
      ],
      "text/plain": [
       "                                                       X         Y\n",
       "0      ['say', 'anni', 'list', 'polit', 'group', 'sup...      fake\n",
       "1      ['declin', 'coal', 'start', 'start', 'natur', ...  reliable\n",
       "2      ['hillari', 'clinton', 'agre', 'john', 'mccain...  reliable\n",
       "3      ['health', 'care', 'reform', 'legisl', 'like',...      fake\n",
       "4       ['econom', 'turnaround', 'start', 'end', 'term']  reliable\n",
       "...                                                  ...       ...\n",
       "10235  ['larger', 'number', 'shark', 'attack', 'flori...  reliable\n",
       "10236  ['democrat', 'becom', 'parti', 'atlanta', 'met...  reliable\n",
       "10237  ['say', 'altern', 'social', 'secur', 'oper', '...  reliable\n",
       "10238  ['lift', 'u', 'cuban', 'embargo', 'allow', 'tr...      fake\n",
       "10239  ['depart', 'veteran', 'affair', 'manual', 'tel...      fake\n",
       "\n",
       "[10240 rows x 2 columns]"
      ]
     },
     "execution_count": 28,
     "metadata": {},
     "output_type": "execute_result"
    }
   ],
   "source": [
    "# creating classes\n",
    "LIAR_Data['Y'] = LIAR_Data['Y'].replace({'pants-fire':'fake', 'false':'fake', 'barely-true':'fake'})\n",
    "LIAR_Data['Y'] = LIAR_Data['Y'].replace({'true':'reliable', 'mostly-true':'reliable', 'half-true':'reliable'})\n",
    "\n",
    "LIAR_Data"
   ]
  },
  {
   "cell_type": "markdown",
   "metadata": {},
   "source": [
    "### Model evaluation"
   ]
  },
  {
   "cell_type": "code",
   "execution_count": 30,
   "metadata": {},
   "outputs": [
    {
     "name": "stdout",
     "output_type": "stream",
     "text": [
      "Fake     : 0.4448445564758132\n",
      "Reliable : 0.6193102312947568\n"
     ]
    }
   ],
   "source": [
    "from sklearn.metrics import classification_report\n",
    "\n",
    "# Testing the model\n",
    "predictions = Simple_model.predict(Simple_vectorizer.transform(LIAR_Data['X']))\n",
    "result = classification_report(LIAR_Data['Y'], predictions, output_dict=True)\n",
    "print(f'Fake     : {result['fake']['f1-score']}')\n",
    "print(f'Reliable : {result['reliable']['f1-score']}')"
   ]
  },
  {
   "cell_type": "code",
   "execution_count": 31,
   "metadata": {},
   "outputs": [
    {
     "data": {
      "image/png": "[encoded data removed]",
      "text/plain": [
       "<Figure size 640x480 with 2 Axes>"
      ]
     },
     "metadata": {},
     "output_type": "display_data"
    }
   ],
   "source": [
    "from sklearn.metrics import confusion_matrix\n",
    "from sklearn.metrics import ConfusionMatrixDisplay\n",
    "import matplotlib.pyplot as plot\n",
    "\n",
    "# calculation confusion values\n",
    "cm = confusion_matrix(LIAR_Data['Y'], predictions)\n",
    "\n",
    "# Visualiser confusion matrix\n",
    "disp = ConfusionMatrixDisplay(confusion_matrix=cm, display_labels=['Fake', 'Reliable'])\n",
    "disp.plot() \n",
    "plot.title(\"Confusion Matrix - Simple model\")\n",
    "plot.show()"
   ]
  },
  {
   "cell_type": "markdown",
   "metadata": {},
   "source": [
    "Nedenfor ses F1-score for den avancerede model."
   ]
  },
  {
   "cell_type": "code",
   "execution_count": 33,
   "metadata": {},
   "outputs": [
    {
     "name": "stdout",
     "output_type": "stream",
     "text": [
      "Fake     : 0.47027565592826304\n",
      "Reliable : 0.5819865466934568\n"
     ]
    }
   ],
   "source": [
    "from sklearn.metrics import classification_report\n",
    "\n",
    "# Testing the model\n",
    "predictions = Advanced_model.predict(Advanced_selector.transform(Advanced_vectorizer.transform(LIAR_Data['X'])))\n",
    "result = classification_report(LIAR_Data['Y'], predictions, output_dict=True)\n",
    "print(f'Fake     : {result['fake']['f1-score']}')\n",
    "print(f'Reliable : {result['reliable']['f1-score']}')"
   ]
  },
  {
   "cell_type": "code",
   "execution_count": 34,
   "metadata": {},
   "outputs": [
    {
     "data": {
      "image/png": "[encoded data removed]",
      "text/plain": [
       "<Figure size 640x480 with 2 Axes>"
      ]
     },
     "metadata": {},
     "output_type": "display_data"
    }
   ],
   "source": [
    "from sklearn.metrics import confusion_matrix\n",
    "from sklearn.metrics import ConfusionMatrixDisplay\n",
    "import matplotlib.pyplot as plot\n",
    "\n",
    "# calculation confusion values\n",
    "cm = confusion_matrix(LIAR_Data['Y'], predictions)\n",
    "\n",
    "# Visualiser confusion matrix\n",
    "disp = ConfusionMatrixDisplay(confusion_matrix=cm, display_labels=['Fake', 'Reliable'])\n",
    "disp.plot() \n",
    "plot.title(\"Confusion Matrix - Simple model\")\n",
    "plot.show()"
   ]
  },
  {
   "cell_type": "markdown",
   "metadata": {},
   "source": [
    "## Comparison"
   ]
  },
  {
   "cell_type": "markdown",
   "metadata": {},
   "source": [
    "Nedenfor ses en tabel med den Simple- og Advanced models F1-score for *fake* klassen. Altså vises modellernes evne til at klassificere Fake-news. Tabellen viser modellernes F1-score for FakeNews datasettet, altså det datasæt som modellerne blev trænet på, og LIAR datasettet, som modellerne ikke er blevet trænet på og forinden denne vurdering, aldrig var blevet testet på.\n",
    "\n",
    "| Model      | FakeNews dataset | LIAR dataset |\n",
    "|------------|:-------------:|:---------------:|\n",
    "| Simple model   | 84,485 | 44,484 |\n",
    "| Advanced model | 89,424 | 47,028 |\n",
    "\n",
    "I tabellen og i confusion matrixerne ses det at begge modeller er betydeligt værre til at vurdere hvad der er fake-news og hvad der ikke er. Dog ses stadig at den avancerede model er en smule bedre end den simple, hvilket kunne tyde på at den avancerede model ikke er bedre end den simple fordi den er overfitted til FakeNews datasettet, men det er svært at sige ved så lave F1-scores.\n",
    "Ud fra confusion matrixerne for FakeNews datasettet ser det ud til at både den simple og avancerede model laver lige mange False-positives som False-negatives, altså har begge modeller fundet en separation boundary således at de laver lige mange fejl i begge klasser. \n",
    "\n",
    "Ud fra confusion matrixerne i LIAR datasættet, ser det derimod ud til at for den simple model så er den mest villig til at klassificere datapunkter som *reliable* end fake, da den laver betydelig flere False-negatives og True-negatives end modsat. For den avancerede model, ser den konsekvent mere forvirret ud, idet at den klassificere cirka lige mange False-positives som False-negatives, som begge klassificeres i betydeligt højere grad end True-positives. Dog ses ligeledes her at modellen er bedst til True-negatives."
   ]
  }
 ],
 "metadata": {
  "kernelspec": {
   "display_name": "Python 3",
   "language": "python",
   "name": "python3"
  },
  "language_info": {
   "codemirror_mode": {
    "name": "ipython",
    "version": 3
   },
   "file_extension": ".py",
   "mimetype": "text/x-python",
   "name": "python",
   "nbconvert_exporter": "python",
   "pygments_lexer": "ipython3",
   "version": "3.12.4"
  }
 },
 "nbformat": 4,
 "nbformat_minor": 2
}

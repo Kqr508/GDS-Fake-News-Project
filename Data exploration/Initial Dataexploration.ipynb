{
 "cells": [
  {
   "cell_type": "markdown",
   "metadata": {},
   "source": [
    "# Inital Dataexploration\n",
    "Her forsøget at besvare spørgsmålet (Part 1, Task 3), om at udføre *mindst* 3 *\"non-trivial discoveries\"*. Fokusset her er at finde noget der har reel værdi, og kunne have betydning for fake-news detection. Og selvfølgelig tager disse opdagelser udgangspunkt i det store [995K datasæt](https://absalon.ku.dk/courses/80486/files/9275000/download?download_frd=1).\n",
    "\n",
    "Desuden vil følgende spørgsmål også forsøges besvaret:\n",
    "1. Describe how you ended up representing the FakeNewsCorpus dataset (for instance with a Pandas dataframe). Argue for why you chose this design.\n",
    "2. Did you discover any inherent problems with the data while working with it?\n",
    "3. Report key properties of the data set - for instance through statistics or visualization.\n",
    "\n",
    "Besvarelsen nedenfor vil være struktureret følgende:\n",
    "1) ***Data discoveries*** : Besvarelse af *\"non-trivial discoveries\"*.\n",
    "2) ***Data repreprentation*** : Besvarelse af hvordan vi har valgt at repræsentere dataen.\n",
    "3) ***Dataset problems & inconsistencies*** : Besvarelse af eventuelle problemmer under bearbejdningen af dataen (datasættet).\n",
    "4) ***Data properties & statistics*** : Besvarelse af *key properties* af dataen.\n"
   ]
  },
  {
   "cell_type": "markdown",
   "metadata": {},
   "source": [
    "## Data discoveries\n",
    "### Brainstorm\n",
    "Nedenfor ses en brainstorm over hvad man kunne finde på at undersøge ved datasættet, som kunne lede til en opdagelse.\n",
    "\n",
    "- Similarities of the fake news in their word frequency and noting which words are most prevalent.\n",
    "- Charachter length of the fake news.\n",
    "- POS (Parts of Speech). Frequency of nouns, verbs, etc.\n",
    "- Frequency of  names (i.e. frequency of 'Trump' or 'Hillary').\n",
    "- Frequency of links (``<URL>``).\n",
    "- Frequency of quotes (citater). \n",
    "- Frequency of dates (``<DATE>``).\n",
    "- The positivity/negativity.\n",
    "- Averge length of words used in titles. (i.e. supercalifragilistic or alert)\n",
    "- Use of capital letters in titles. (BREAKING NEWS! or Breaking News!)\n",
    "- Readability index (lixtal).\n",
    "- Use of complex words.\n",
    "- Use of emotional words\n",
    "- Frequency of numbers (``<NUM>``, and word numbers like *million*)\n",
    "- Length of numbers\n",
    "- Frequency of Author names (As in Author names were scraped together with the article)\n",
    "- Use of exclamation/question mark."
   ]
  },
  {
   "cell_type": "markdown",
   "metadata": {},
   "source": [
    "## Data repreprentation"
   ]
  },
  {
   "cell_type": "markdown",
   "metadata": {},
   "source": [
    "## Dataset problems & inconsistencies"
   ]
  },
  {
   "cell_type": "markdown",
   "metadata": {},
   "source": [
    "## Data properties & statistics"
   ]
  }
 ],
 "metadata": {
  "language_info": {
   "name": "python"
  }
 },
 "nbformat": 4,
 "nbformat_minor": 2
}

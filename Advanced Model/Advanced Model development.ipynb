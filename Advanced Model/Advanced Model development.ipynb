{
 "cells": [
  {
   "cell_type": "markdown",
   "metadata": {},
   "source": [
    "# Advanced Fake News Detection Model"
   ]
  },
  {
   "cell_type": "markdown",
   "metadata": {},
   "source": [
    "## Indlæser datasættet\n",
    "Indlæser og *Training_dataset.csv* og *Validation_dataset.csv* (dette er dog versionerne, hvor klasserne er grupperet under *fake* og *reliable*). Jeg indlæser dog kun ``type`` og ``cleaned content`` kolonnerne, da disse er de eneste der er tilladte at bruge i Part 3."
   ]
  },
  {
   "cell_type": "code",
   "execution_count": 1,
   "metadata": {},
   "outputs": [
    {
     "data": {
      "application/vnd.microsoft.datawrangler.viewer.v0+json": {
       "columns": [
        {
         "name": "index",
         "rawType": "int64",
         "type": "integer"
        },
        {
         "name": "type",
         "rawType": "object",
         "type": "string"
        },
        {
         "name": "cleaned content",
         "rawType": "object",
         "type": "string"
        }
       ],
       "conversionMethod": "pd.DataFrame",
       "ref": "6db9068b-b5c2-40a4-9135-296816c4aef6",
       "rows": [
        [
         "0",
         "reliable",
         "['publish', '<DATE>', '<URL>', 'trump', 'organ', 'execut', 'vice', 'presid', 'eric', 'trump', 'said', 'wednesday', 'night', 'idea', 'presidenti', 'candid', 'fbi', 'investig', 'unthink', 'mani', 'problem', 'nation', 'last', 'thing', 'need', 'distract', 'trump', 'told', 'fox', 'news', 'sean', 'hanniti', 'hanniti', 'eric', 'trump', 'second', 'son', 'republican', 'presidenti', 'candid', 'donald', 'trump', 'ad', 'releas', 'hack', 'email', 'wikileak', 'expos', 'corrupt', 'govern', 'truli', 'see', 'game', 'go', 'see', 'donna', 'brazil', 'give', 'hillari', 'clinton', 'debat', 'question', 'see', 'peopl', 'behind', 'scene', 'make', 'fun', 'christian', 'evangel', 'trump', 'said', 'see', 'presid', 'email', 'back', 'forth', 'privat', 'server', 'hillari', 'cover', 'up', 'realli', 'see', 'corrupt', 'clinton', 'campaign', 'trump', 'also', 'said', 'hack', 'email', 'expos', 'lack', 'attent', 'cybersecur', 'u', 'govern', 'cybersecur', 'someth', 'plagu', 'everi', 'singl', 'major', 'compani', 'see', 'hit', 'home', 'depot', 'see', 'hit', 'target', 'trump', 'said', 'first', 'time', 'presid', 'ever', 'talk', 'cyber', 'secur', 'dnc', 'hack', 'find', 'deplor']"
        ],
        [
         "1",
         "reliable",
         "['bear', 'still', 'forc', 'worri', 'consum', 'trade', 'deficit', 'sharp', 'improv', 'econom', 'pictur', 'home', 'around', 'globe', 'caus', 'global', 'recess', 'domest', 'downturn', 'clear', 'ever', 'strengthen', 'dollar', 'deflat', 'high', 'real', 'interest', 'rate', 'opec', 'control', 'oil', 'price', 'record', 'tax', 'burden', 'drain', 'net', '<CUR>', '<NUM>', 'billion', '<NUM>', 'gdp', 'u', 'privat', 'sector', '<DATE>', 'form', 'fiscal', 'surplu', 'none', 'contractionari', 'forc', 'present', 'particular', 'oil', 'price', 'still', 'high', '<CUR>', '<NUM>', 'fall', 'fast', 'longer', 'appear', 'opec', 'control', 'meanwhil', 'real', 'interest', 'rate', 'neg', 'first', 'time', 'sinc', '<DATE>', 'much', 'pessim', 'today', 'backward', 'look', 'compar', 'economi', 'current', 'condit', 'bubbl', 'year', 'reach', 'grim', 'conclus', 'ye', '<NUM>', 'unemploy', 'rate', '<DATE>', 'radar', 'screen', '<NUM>', 'repeat', 'quarter', '<NUM>', 'growth', 'enjoy', '<DATE>', '<NUM>', 'period', 'nasdaq', '<NUM>', '<DATE>', 'dollar', 'price', 'euro', '<CUR>', '<NUM>', '<DATE>', 'sturdi', 'platform', 'econom', 'growth', 'dollar', 'pro', 'growth', 'level', 'interest', 'rate', 'low', 'inventori', 'level', 'employ', 'high', 'histor', 'standard', 'suffici', 'allow', 'continu', 'growth', 'consum', 'spend', 'corpor', 'profit', 'rise', 'keep', 'hear', 'neg', 'thing', 'bad', 'closer', 'analysi', 'recent', 'data', 'show', '<NUM>', 'job', 'lost', 'march', 'ye', 'current', 'level', 'u', 'employ', 'million', 'half', 'higher', '<DATE>', 'averag', 'financi', 'sector', 'employ', 'hit', 'record', '<NUM>', 'million', 'march', '<NUM>', '<NUM>', 'million', 'begin', 'recess', '<DATE>', 'consum', 'debt', 'reach', 'record', 'level', '<CUR>', '<NUM>', 'trillion', 'ye', 'person', 'incom', 'hit', 'new', 'record', 'februari', '<CUR>', '<NUM>', 'trillion', 'argu', 'consum', 'resili', 'consum', 'asset', 'hold', '<CUR>', '<NUM>', 'trillion', 'u', 'current', 'account', 'deficit', '<NUM>', 'gdp', 'record', 'territori', 'ye', 'u', 'econom', 'growth', 'well', 'trade', 'partner', 'invest', 'come', 'u', 'dwarf', 'invest', 'countri', 'u', 'fiscal', 'deficit', 'may', 'top', '<CUR>', '<NUM>', 'billion', 'fiscal', 'year', '<DATE>', 'end', 'septemb', 'ye', '<NUM>', 'gdp', 'well', '<DATE>', 'peak', '<NUM>', 'gdp', 'debt', 'gdp', 'ratio', '<NUM>', 'well', '<NUM>', 'record', '<DATE>', 'given', 'low', 'interest', 'rate', 'cost', 'servic', 'u', 'govern', 'debt', 'also', 'steadi', 'rel', 'budget', 'gdp', 'today', 'econom', 'outlook', 'modest', 'histor', 'standard', 'yet', 'well', 'prevail', 'pessim', 'american', 'expect', 'gradual', 'increas', 'u', 'growth', 'rate', '<NUM>', 'year', 'year', 'fourth', 'quarter', '<DATE>', '<NUM>', 'second', 'half', '<DATE>', 'job', 'growth', 'late', '<DATE>', 'push', 'u', 'employ', 'new', 'record', '<DATE>', 'corpor', 'earn', 'rise', 'well', 'u', 'nomin', 'growth', 'rate', 'though', 'nowher', 'close', 'bubbl', 'year', 'real', 'short', 'term', 'interest', 'rate', 'deepli', 'neg', 'arguabl', 'next', 'feder', 'reserv', 'rate', 'chang', 'increas', 'cut', 'posit', 'sign', 'econom', 'direct', 'time', 'set', 'bearish', 'worri', 'asid', 'focu', 'today', 'posit', 'appropri', 'econom', 'theme', 'u', 'economi', 'fragil', 'iraq', 'remain', 'key', 'variabl', 'repric', 'market', 'econom', 'outlook', 'dollar', 'level', 'stop', 'deflat', 'start', 'reflat', 'growth', 'acceler', 'tax', 'cut', 'move', 'center', 'stage', 'washington', 'last', 'point', 'risk', 'much', 'stimulu', 'today', 'presid', 'growth', 'packag', 'offer', 'countri', 'econom', 'insur', 'need', 'mr', 'malpass', 'chief', 'global', 'economist', 'bear', 'stearn']"
        ],
        [
         "2",
         "fake",
         "['exit', 'poll', 'german', 'region', 'elect', 'show', 'signific', 'success', 'right', 'wing', 'afd', 'parti', 'receiv', 'enough', 'vote', 'get', 'three', 'state', 'legislatur', 'merkel', 'conserv', 'cdu', 'parti', 'suffer', 'loss', 'two', 'three', 'state', 'elect', 'read', '<URL>', 'rt', 'live', '<URL>', 'subscrib', 'rt', '<URL>', 'like', 'us', 'facebook', '<URL>', 'follow', 'us', 'twitter', '<URL>', 'follow', 'us', 'instagram', '<URL>', 'follow', 'us', 'google+', '<URL>', 'listen', 'us', 'soundcloud', '<URL>', 'rt', 'russia', 'today', 'global', 'news', 'network', 'broadcast', 'moscow', 'washington', 'studio', 'rt', 'first', 'news', 'channel', 'break', '<NUM>', 'billion', 'youtub', 'view', 'benchmark']"
        ],
        [
         "3",
         "reliable",
         "['photo', 'noah', 'feldman', 'highli', 'person', 'essay', 'rais', 'mani', 'issu', 'american', 'modern', 'orthodox', 'jewish', 'commun', 'grappl', 'seek', 'faith', 'ancient', 'tradit', 'engag', 'modern', 'world', '<DATE>', 'difficulti', 'challeng', 'make', 'person', 'choic', 'critic', 'mani', 'feldman', 'choic', 'disagre', 'feldman', 'choic', 'send', 'clear', 'signal', 'could', 'marriag', 'reject', 'fundament', 'principl', 'commun', 'express', 'surpris', 'reaction', 'commun', 'institut', 'includ', 'alma', 'mater', 'taught', 'principl', 'strain', 'credul', 'challeng', 'balanc', 'ancient', 'tradit', 'modern', 'time', 'demand', 'anyth', 'els', 'proper', 'perspect', 'compet', 'valu', 'feldman', 'refer', 'murder', 'goldstein', 'amir', 'point', 'happen', 'worst', 'case', 'one', 'lose', 'balanc', 'view', 'jewish', 'life', 'feldman', 'life', 'seem', 'testament', 'happen', 'one', 'lose', 'balanc', 'engag', 'modern', 'cultur', 'core', 'commit', 'orthodox', 'tradit', 'continu', 'mani', 'other', 'continu', 'maintain', 'digniti', 'much', 'fulfil', 'rabbi', 'dr', 'tzvi', 'hersh', 'weinreb', 'execut', 'vice', 'presid', 'orthodox', 'union', 'new', 'york', 'understand', 'passiv', 'aggress', 'behavior', 'demonstr', 'feldman', 'high', 'school', 'someth', 'said', 'event', 'instead', 'take', 'girlfriend', 'pictur', 'later', 'perhap', 'question', 'ethicist', 'certainli', 'seem', 'like', 'good', 'manner', 'advertis', 'continu', 'read', 'main', 'stori', 'arthur', 'goldgab', 'millburn', 'n', 'j', 'feldman', 'experi', 'class', 'reunion', 'modern', 'orthodox', 'yeshiva', 'might', 'unsettl', 'surpris', 'anyon', 'familiar', 'judaism', 'posit', 'intermarriag', 'fair', 'note', 'convers', 'judaism', 'option', 'coupl', 'one', 'jewish', 'offici', 'polici', 'modern', 'orthodox', 'commun', 'exclud', 'intermarri', 'coupl', 'photograph', 'cours', 'likelihood', 'repres', 'somewhat', 'zealou', 'approach', 'probabl', 'member', 'school', 'administr', 'believ', 'protect', 'yeshiva', 'reput', 'would', 'encourag', 'feldman', 'former', 'classmat', 'friend', 'mani', 'remain', 'modern', 'orthodox', 'might', 'endors', 'delet', 'wife', 'school', 'public', 'protest', 'polici', 'shun', 'graduat', 'wish', 'remain', 'somehow', 'connect', 'root']"
        ],
        [
         "4",
         "fake",
         "['refocu', 'note', 'read', 'stori', 'may', 'wonder', 'end', 'exactli', 'central', 'tenet', 'stori', 'keyston', 'happen', 'one', 'thing', 'articl', 'deliber', 'avoid', 'fact']"
        ],
        [
         "5",
         "reliable",
         "['freder', 'j', 'brown', '|', 'afp', '|', 'getti', 'imag', 'peopl', 'get', 'earli', 'start', 'black', 'friday', 'shop', 'deal', 'walmart', 'superstor', '<DATE>', 'rosemead', 'california', 'commentari', 'origin', 'ran', 'medium', 'time', 'year', 'known', 'blitz', 'shop', 'news', 'deal', 'trend', 'analysi', 'week', 'black', 'friday', 'foursquar', 'insight', 'expect', 'foot', 'traffic', 'store', 'visit', 'like', 'technolog', 'compani', 'understand', 'consum', 'physic', 'journey', 'uniqu', 'groundbreak', 'way', 'although', 'store', 'shop', 'declin', 'e', 'commerc', 'grow', 'wildli', 'nineti', 'percent', 'commerc', 'still', 'happen', 'real', 'world', 'locat', 'intellig', 'compani', 'deliv', 'best', 'class', 'consum', 'experi', 'foursquar', 'keep', 'million', 'phone', 'visit', 'mall', 'boutiqu', 'shop', 'big', 'box', 'chain', 'like', 'data', 'extrem', 'tight', 'correl', 'busi', 'result', 'proven', 'new', 'holiday', 'analysi', 'review', 'data', 'past', 'gift', 'season', 'understand', 'see', '<DATE>', 'headlin', 'overal', '<DATE>', 'black', 'friday', 'foot', 'traffic', '<NUM>', 'compar', 'last', 'year', 'dip', 'far', 'less', 'sever', 'year', 'year', 'drop', '<DATE>', '<DATE>', 'understand', 'area', 'soft', 'success', 'foursquar', 'data', 'scientist', 'look', 'specif', 'brand', 'categori', 'fare', 'cours', 'mani', 'factor', 'like', 'onlin', 'store', 'promot', 'unseason', 'warm', 'weather', 'elect', 'year', 'may', 'impact', 'perform', 'believ', 'analysi', 'strong', 'benchmark', 'retail', 'make', 'key', 'holiday', 'season', 'decis', 'ever', 'import', 'retail', 'understand', 'expect', 'optim', 'holiday', 'season', 'let', 'start', 'begin', 'lead', 'holiday', 'fade', 'black', 'friday', 'look', 'back', 'understand', 'black', 'friday', 'shop', 'perform', 'time', 'found', 'long', 'known', 'biggest', 'shop', 'day', 'year', 'well', '<DATE>', 'black', 'friday', 'saw', 'signific', 'decreas', 'foot', 'traffic', 'compar', 'year', 'instead', 'wildli', 'peak', 'black', 'friday', 'shop', 'season', 'flatten', 'bit', 'day', 'later', 'season', 'like', 'super', 'saturday', 'rise', 'popular', '<DATE>', 'black', 'friday', 'third', 'popular', 'shop', 'day', 'year', '<DATE>', 'rank', 'fifth', 'look', 'activ', 'lead', 'black', 'friday', 'particularli', '<DATE>', '<DATE>', 'assess', 'holiday', 'season', 'might', 'look', 'like', '<DATE>', '<DATE>', 'trendlin', 'reveal', 'year', 'retail', 'suffer', 'loss', 'lead', 'holiday', 'foot', 'traffic', 'septemb', '<DATE>', 'close', 'mirror', '<DATE>', 'although', 'slightli', 'foursquar', 'predict', 'hold', 'black', '<DATE>', 'whole', 'u', 'retail', 'expect', '<NUM>', 'drop', 'foot', 'traffic', 'last', 'year', 'factor', 'like', 'rise', 'wage', 'contribut', 'brighter', 'pictur', 'knew', 'certain', 'retail', 'categori', 'impact', 'differ', 'specif', 'uniqu', 'way', 'big', 'box', 'dollar', 'store', 'win', '<DATE>', 'big', 'box', 'store', 'experienc', 'rel', 'minor', 'year', 'year', 'dip', 'foot', 'traffic', 'compar', 'retail', 'overal', 'year', 'categori', 'see', 'foot', 'traffic', 'increas', 'look', 'ahead', 'black', 'friday', 'expect', 'categori', 'continu', 'outpac', 'retail', 'gener', 'see', 'increas', 'foot', 'traffic', '<NUM>', 'year', 'year', 'anoth', 'win', 'categori', 'discount', 'store', 'dollar', 'store', 'gain', 'foot', 'traffic', 'compar', 'last', 'year', 'histor', 'discount', 'store', 'seen', 'huge', 'black', 'friday', 'boost', 'gain', 'momentum', 'later', 'season', 'predict', 'fastest', 'grow', 'chain', 'categori', 'look', 'year', 'year', 'foot', 'traffic', 'perform', 'black', 'friday', 'big', 'lot', 'see', 'largest', 'spike', 'big', 'box', 'categori', 'black', '<DATE>', 'dollar', 'tree', 'leader', 'discount', 'categori', 'gain', 'even', 'pronounc', 'closer', 'christma', 'depart', 'store', 'put', 'glitz', 'fall', '<DATE>', 'countri', 'top', 'depart', 'store', 'chain', 'tough', 'season', 'show', 'even', 'bigger', 'loss', 'retail', 'industri', 'gener', 'black', 'friday', 'close', 'gap', 'signal', 'start', 'upward', 'trend', 'black', 'friday', 'christma', '<DATE>', 'depart', 'store', 'chain', 'regain', 'lost', 'ground', 'gap', 'narrow', 'black', 'friday', '<DATE>', 'basic', 'recoveri', 'holiday', 'blitz', 'look', 'year', 'see', 'septemb', 'octob', 'foot', 'traffic', 'depart', 'store', '<NUM>', 'doubl', 'drop', 'retail', 'gener', 'less', 'precipit', 'drop', 'saw', 'categori', '<DATE>', 'predict', 'black', '<DATE>', 'less', 'success', 'depart', 'store', 'rest', 'retail', 'industri', 'depart', 'store', 'make', 'signific', 'gain', 'later', 'season', 'perhap', 'even', 'pull', 'ahead', '<DATE>', 'foot', 'traffic', 'number', 'depart', 'store', 'chain', 'go', 'win', 'black', 'friday', 'largest', 'year', 'year', 'lift', 'foot', 'traffic', 'marshal', 'dillard', 'maci', 'amongst', 'luxuri', 'depart', 'store', 'lord', 'taylor', 'sak', 'fifth', 'avenu', 'neiman', 'marcu', 'six', 'brand', 'seen', 'stronger', 'foot', 'traffic', 'pattern', 'competitor', 'past', 'two', 'month', 'anticip', 'strong', 'year', 'year', 'perform', 'commentari', 'jeff', 'glueck', 'ceo', 'foursquar', 'former', 'ceo', 'skyfir', 'former', 'cmo', 'traveloc', 'co', 'founder', '<URL>', 'follow', 'twitter', 'jeffglueck', 'want', 'learn', 'foursquar', 'help', 'busi', 'visit', '<URL>', 'insight', 'cnbc', 'contributor', 'follow', 'cnbcopinion', 'twitter', 'methodolog', 'foursquar', 'analyz', 'foot', 'traffic', 'trail', '<NUM>', 'million', 'monthli', 'global', 'user', 'foursquar', 'citi', 'guid', 'foursquar', 'swarm', 'app', 'websit', 'peopl', 'use', 'explor', 'world', 'check', 'locat', 'base', 'app', 'help', 'us', 'understand', 'trend', 'notabl', 'shift', 'alway', 'anonym', 'aggreg', 'studi', 'analyz', 'statist', 'repres', 'portion', 'u', 'user', 'foursquar', 'normal', 'data', 'u', 'censu', 'data', 'ensur', 'panel', 'million', 'accur', 'match', 'u', 'popul', 'remov', 'age', 'gender', 'geograph', 'bia', 'foursquar', 'proprietari', 'understand', 'place', 'shape', 'abil', 'detect', 'mobil', 'phone', 'enter', 'exit', '<NUM>', 'million', 'busi', 'place', 'around', 'world', 'foundat', 'place', 'insight', 'product', 'analyst', 'market', 'analysi', 'foursquar', 'data', 'scientist', 'look', 'visit', 'includ', 'explicit', 'check', 'in', 'foursquar', 'swarm', 'passiv', 'visit', 'app', 'retail', 'store', 'u', 'well', 'specif', 'store', 'categori', 'includ', 'depart', 'store', 'big', 'box', 'store', 'discount', 'store', 'within', 'top', '<NUM>', 'u', 'chain', 'septemb', '<DATE>', '<DATE>', 'use', 'roll', '<NUM>', 'day', 'averag', 'elimin', 'daili', 'spike', 'identifi', 'clear', 'trend']"
        ],
        [
         "6",
         "fake",
         "['militari', 'forc', 'unit', 'state', 'jordan', 'held', 'war', 'game', 'desert', 'area', 'near', 'syrian', 'border', 'persian', 'gulf', 'countri', 'jordan', 'one', 'arab', 'nation', 'support', 'syrian', 'opposit', 'group', 'press', 'tv', 'conduct', 'interview', 'naseer', 'al', 'omari', 'writer', 'polit', 'comment', 'new', 'york', 'provoc', 'us', 'jordan', 'war', 'game', 'near', 'border', 'syria', 'deliv', 'daili', 'sheepl', 'encourag', 'share', 'republish', 'report', 'analys', 'break', 'news', 'video', 'click', 'detail', 'contribut', 'trench', 'world', 'report', '<URL>', 'trench', 'world', 'report', 'intent', 'uncov', 'document', 'fact', 'bring', 'light', 'common', 'man', 'woman', 'meant', 'see', 'war', 'noth', 'less', 'right', 'individu', 'thought', 'report', 'war', 'trench']"
        ],
        [
         "7",
         "fake",
         "['want', 'peopl', 'understand', 'point', 'sinc', 'read', 'thread', 'calendar', 'wrong', 'real', 'end', 'calendar', 'x', 'day', 'x', 'month', 'mayan', 'start', 'calendar', 'wrong', 'day', 'peopl', 'fail', 'realiz', 'mayan', 'gregorian', 'calendar', 'like', 'use', 'made', 'calendar', 'use', 'astrolog', 'use', 'star', 'end', '<DATE>', 'mess', 'calendar', 'use', 'today', 'wrong', 'opinion', 'current', 'calendar', 'flaw', 'leap', 'year', 'correct', 'reason', 'believ', '<NUM>', 'correct', 'day', '<NUM>', 'hour', 'long', 'actual', '<NUM>', 'hour', '<NUM>', 'minut', 'rememb', 'correctli', 'astonish', 'calendar', 'modern', 'calcul', 'second', 'anoth', 'thing', 'interest', 'think', 'univers', 'expand', 'calendar', 'made', 'use', 'star', 'long', 'count', 'calendar', '<NUM>', '+', 'year']"
        ],
        [
         "8",
         "fake",
         "['worst', 'vehicl', 'first', 'car', 'eamonn', 'jame', 'clark']"
        ],
        [
         "9",
         "fake",
         "['greet', 'camp', 'news', '<NUM>', 'home', 'mani', 'probabl', 'awar', 'anoth', 'devast', 'windstorm', 'yesterday', 'christma', 'storm', 'caus', 'signific', 'damag', 'ga', 'tent', 'owner', 'ga', 'tent', 'expect', 'repair', 'shortli', 'howev', 'pole', 'damag', 'tent', 'wrap', 'around', 'tree', 'could', 'take', 'coupl', 'day', 'big', 'tent', 'taken', 'damag', 'done', 'howev', 'remain', 'wednesday', 'signific', 'wind', 'forecast', 'nation', 'weather', 'servic', 'tonight', 'tomorrow', 'activ', 'weather', 'western', 'washington', 'week', 'seri', 'vigor', 'frontal', 'system', 'move', 'western', 'washington', 'upcom', 'week', 'first', 'system', 'move', 'tonight', 'bring', 'breezi', 'local', 'windi', 'condit', 'coast', 'northwest', 'interior', 'also', 'bring', 'snow', 'mountain', 'mainli', '<NUM>', 'feet', 'second', 'wetter', 'system', 'move', 'onshor', 'tuesday', 'night', 'bring', 'anoth', 'round', 'windi', 'condit', 'coast', 'northwest', 'interior', 'snow', 'level', 'rise', 'pass', 'level', 'system', 'although', 'signific', 'snow', 'accumul', 'could', 'occur', 'volcano', 'otter', 'gener', 'offer', 'us', 'use', 'great', 'teepe', 'ga', 'compar', 'size', 'ga', 'tent', 'suffici', 'need', 'would', 'like', 'suggest', 'rebuild', 'camp', 'peopl', 'mind', 'prior', 'ga', 'meet', 'imag', 'structur', 'made', 'two', 'four', 'lumber', 'place', 'olympia', 'occupi', 'olympia', 'rule', 'similar', 'adher', 'regard', 'perman', 'non', 'destruct', 'exist', 'landscap', 'feel', 'better', 'alreadi', 'commun', 'lost', 'never', 'abl', 'get', 'ground', 'first', 'place', 'function', 'horizont', 'integr', 'camp', 'alreadi', 'place', 'gather', 'exchang', 'idea', 'fellowship', 'among', 'individu', 'divers', 'ethnic', 'sexual', 'orient', 'socio', 'econom', 'background', 'camp', 'also', 'serv', 'place', 'visitor', 'occupi', 'locat', 'stay', 'busi', 'otherwis', 'long', 'make', 'issu', 'drink', 'drug', 'steal', 'fight', 'stay', 'mani', 'us', 'activ', 'gener', 'assembl', 'polit', 'occupi', 'movement', 'difficult', 'struggl', 'get', 'ask', 'peopl', 'wrong', 'reason', 'leav', 'except', 'storm', 'aftermath', 'place', 'usual', 'look', 'good', 'good', 'rapport', 'bellingham', 'polic', 'place', 'peopl', 'commun', 'stop', 'find', 'us', 'assist', 'us', 'storefront', 'take', 'moment', 'consid', 'rebuild', 'addit', 'better', 'stephen', 'g', 'share', 'enjoy', 'facebook', 'twitter', 'delici', 'digg', 'googl', 'buzz', 'stumbleupon', 'add', 'favorit', 'email', 'rss', 'read', 'occupi', 'bellingham', 'sourc']"
        ],
        [
         "10",
         "reliable",
         "['boehner', 'unreason', 'attack', 'cruz', 'editor', '<DATE>', 'get', 'john', 'boehner', 'like', 'ted', 'cruz', 'witless', 'cheap', 'shot', 'boehner', 'call', 'lucif', 'flesh', 'event', 'stanford', 'univers', 'boehner', 'attitud', 'widespread', 'among', 'republican', 'insid', 'foolishli', 'allow', 'person', 'ill', 'cloud', 'reason', 'judgment', 'among', 'candid', 'left', 'gop', 'race', 'best', 'repres', 'conserv', 'principl', 'polici', 'would', 'best', 'candid', 'upcom', 'gener', 'elect', 'count', 'cruz', 'obviou', 'choic', 'ted', 'cruz', 'constitut', 'conserv', 'dedic', 'reduc', 'outsiz', 'feder', 'govern', 'proper', 'size', 'function', 'restor', 'state', 'peopl', 'much', 'freedom', 'possibl', 'core', 'messag', 'throughout', 'career', 'throughout', 'campaign', 'cruz', 'outspoken', 'oppon', 'abort', 'dedic', 'defend', 'constitut', 'right', 'religi', 'liberti', 'staunch', 'advoc', 'right', 'keep', 'bear', 'arm', 'posit', 'consid', 'care', 'defend', 'articul', 'assembl', 'thought', 'capabl', 'team', 'advis', 'guid', 'presid', 'would', 'good', 'shot', 'get', 'stronger', 'economi', 'suprem', 'court', 'less', 'grandios', 'concept', 'role', 'less', 'central', 'health', 'care', 'system', 'sensibl', 'foreign', 'polici', 'disciplin', 'candid', 'built', 'impress', 'campaign', 'oper', 'head', 'head', 'poll', 'show', 'run', 'within', 'margin', 'error', 'hillari', 'clinton', 'comparison', 'poll', 'suggest', 'trump', 'would', 'run', 'wors', 'two', 'republican', 'rival', 'current', 'trail', 'clinton', '<NUM>', 'point', 'averag', 'current', 'toxic', 'imag', 'among', 'key', 'group', 'broader', 'public', 'substanc', 'trump', 'constitutionalist', 'suggest', 'presid', 'would', 'open', 'libel', 'law', 'prosecut', 'journalist', 'order', 'american', 'soldier', 'commit', 'war', 'crime', 'taken', 'liber', 'stanc', 'varieti', 'issu', 'abort', 'transgender', 'israel', 'c', 'revers', 'pollut', 'sound', 'posit', 'like', 'immigr', 'hawkish', 'boob', 'bait', 'bubba', 'demagogueri', 'foreign', 'polici', 'larg', 'incoher', 'occasion', 'appal', 'e', 'g', 'high', 'regard', 'vladimir', 'putin', 'promin', 'conserv', 'might', 'count', 'among', 'cruz', 'friend', 'lindsey', 'graham', 'jeb', 'bush', 'come', 'mind', 'urg', 'parti', 'ralli', 'around', 'cruz', 'reliabl', 'conserv', 'left', 'race', 'right', 'give', 'petti', 'grudg', 'hold', 'john', 'boehner', '<DATE>', 'cruz', 'engin', 'ill', 'fate', 'govern', 'shutdown', 'republican', 'critic', 'includ', 'us', 'warn', 'interpret', 'tactic', 'disagr', 'evid', 'disagr', 'object', 'encourag', 'conserv', 'indulg', 'knee', 'jerk', 'respons', 'though', 'cathart', 'would', 'ultim', 'set', 'back', 'common', 'goal', 'argument', 'work', 'direct', 'whatev', 'person', 'feel', 'boehner', 'agre', 'cruz', 'question', 'principl', 'polici', 'shame', 'act', 'accordingli', 'critic', 'contest', 'indiana', 'day', 'away', 'ted', 'cruz', 'need', 'support', 'conserv', 'commit', 'smaller', 'state', 'greater', 'individu', 'liberti']"
        ],
        [
         "11",
         "fake",
         "['stock', 'market', 'time', 'what', 'next', 'histor', 'event', 'come', 'soon', 'reader', 'think', 'stori', 'fact', 'add', 'two', 'cent', 'news', 'knowledg', 'power', 'jay', '<NUM>', 'grade', 'histori', 'teacher', 'word', 'blackboard', 'big', 'bold', 'color', 'calligraphi', 'littl', 'know', 'would', 'mean', '<NUM>', 'year', 'later', 'event', 'mean', 'stock', 'market', 'time', 'sourc', '<URL>']"
        ],
        [
         "12",
         "reliable",
         "['friday', 'christma', 'new', 'year', 'holiday', 'gov', 'bob', 'mcdonnel', 'r', 'va', 'quietli', 'approv', 'new', 'stringent', 'regul', 'intend', 'target', 'abort', 'clinic', 'virginia', 'board', 'health', 'adopt', 'new', 'anti', 'abort', 'rule', 'septemb', 'governor', 'certif', 'next', 'step', 'toward', 'make', 'regul', 'perman', 'potenti', 'forc', 'mani', 'state', '<NUM>', 'abort', 'clinic', 'close', 'door', 'spokesperson', 'mcdonnel', 'explain', 'governor', 'advanc', 'anti', 'abort', 'rule', 'believ', 'common', 'sens', 'regul', 'help', 'ensur', 'medic', 'procedur', 'take', 'place', 'facil', 'modern', 'safe', 'well', 'regul', 'order', 'help', 'ensur', 'safeti', 'well', 'patient', 'women', 'health', 'advoc', 'design', 'type', 'legisl', 'target', 'regul', 'abort', 'provid', 'trap', 'rather', 'anyth', 'ensur', 'women', 'safeti', 'actual', 'regul', 'abort', 'provid', 'indirect', 'method', 'restrict', 'women', 'reproduct', 'right', 'trap', 'law', 'forc', 'mani', 'abort', 'clinic', 'close', 'find', 'unabl', 'compli', 'complic', 'expens', 'standard', 'even', 'though', 'virginia', 'board', 'health', 'intend', 'oper', 'nonpartisan', 'medic', 'bodi', 'fight', 'enact', 'new', 'clinic', 'regul', 'becom', 'intens', 'polit', 'grow', 'trend', 'among', 'state', 'level', 'board', 'anti', 'abort', 'advoc', 'increasingli', 'use', 'advanc', 'anti', 'choic', 'agenda', 'board', 'consid', 'new', 'rule', 'final', 'vote', 'protest', 'women', 'health', 'advoc', 'bar', 'speak', 'hear', 'limit', 'number', 'peopl', 'even', 'permit', 'enter', 'room', 'turn', 'state', 'attorney', 'gener', 'ken', 'cuccinelli', 'r', 'essenti', 'threaten', 'virginia', 'board', 'end', 'approv', 'trap', 'law', '<NUM>', '<NUM>', 'vote', 'warn', 'member', 'could', 'deni', 'state', 'fund', 'legal', 'servic', 'vote', 'relax', 'clinic', 'regul', 'octob', 'virginia', 'health', 'commission', 'dr', 'karen', 'remley', 'resign', 'posit', 'board', 'protest', 'regul', 'cite', 'disapprov', 'propos', 'trap', 'law', 'primari', 'reason', 'could', 'longer', 'serv', 'good', 'faith', 'mcdonnel', 'approv', 'regul', 'sent', 'back', 'process', 'review', 'board', 'health', 'follow', '<NUM>', 'day', 'public', 'comment', 'period', 'accord', 'richmond', 'time', 'dispatch', 'perman', 'regul', 'expect', 'adopt', 'summer']"
        ],
        [
         "13",
         "fake",
         "['found', 'father', 'would', 'lose', 'mind', 'black', 'man', 'presid', 'argument', 'obama', 'done', 'anyth', 'poof', 'presid', 'awesom', 'exampl', 'hypocrisi', 'soooooo', 'mani', 'peopl', 'at', 'display', 'pick', '<NUM>', 'mani', 'trust', 'anyon', 'polit', '<NUM>', 'politician', 'must', 'sold', 'someon', 'someon', 'back', 'pocket', '<NUM>', 'kicker', 'peopl', 'say', 'also', 'argu', 'side', 'mouth', 'guy', 'done', 'noth', 'show', 'birth', 'certif', 'palin', 'qualifi', 'hell', 'peopl', 'want', 'see', 'presid', 'realiz', 'greatest', 'civic', 'mind', 'capabl', 'peopl', 'u', 'would', 'never', 'ever', 'run', 'presid', 'want', 'run', 'media', 'guantlet', 'modern', 'day', 'polit', 'presid', 'histori', 'would', 'surviv', 'lincoln', 'hardli', 'anyon', 'long', 'histori', 'polit', 'day', 'probabl', 'surviv', 'thing', 'cater', 'peopl', 'regret', 'mayb', 'think', 'good', 'bad', 'end', 'justifi', 'mean', 'type', 'think', 'cough', 'obama', 'move', 'quickli', 'allow', 'special', 'interest', 'other', 'sink', 'claw', 'probabl', 'ask', 'happen', 'get', 'elect', 'argu', 'know', 'think', 'good', 'thing', 'move', 'ask', 'question', 'ok', 'guy', 'brain', 'head', 'rhetor', 'philosophi', 'come', 'mouth', 'get', 'answer', 'move', 'ask', 'ok', 'done', 'anyth', 'back', 'rhetor', 'done', 'anyth', 'fli', 'face', 'rhetor', 'point', 'join', 'rest', 'us', 'want', 'believ', 'believ', 'countri', 'preserv', 'dare', 'dream', 'better', 'rememb', 'kid', 'rare', 'man', 'offic', 'right', 'right', 'time', 'ye', 'even', 'patroit', 'lose', 'footbal', 'game', 'team', 'want', 'hitch', 'wagon', 'detroit', 'lion', 'new', 'england', 'patriot', 'give', 'man', 'chanc', 'least', 'true', 'american', 'even', 'made', 'attempt', 'hide', 'ignor', 'wait', 'someth', 'could', 'shout', 'ah', 'ha', 'see', 'told', 'sheepl', 'guy', 'jump', 'moment', 'robert', 'screw', 'oath', 'even', 'duh', 'hand', 'bibl', '<NUM>', 'time', 'duh', 'mean', 'evil', 'guarente', 'go', 'make', 'sweeeeet', 'mistak', 'fox', 'jump', 'least', 'wait', 'point', 'shown', 'noth', 'true', 'color', 'imaginit', 'color', 'select']"
        ],
        [
         "14",
         "fake",
         "['identifi', 'dragon', 'judg', 'nation', 'review', 'male', 'femal', 'transgend', 'woman', 'prefer', 'pronoun', 'say', 'believ', 'born', 'wrong', 'sex', 'also', 'wrong', 'speci', 'undergo', 'human', 'dragon', 'transit', 'procedur', 'fix', 'problem', '<NUM>', 'year', 'old', 'born', 'richard', 'hernandez', 'goe', 'eva', 'tiamat', 'baphomet', 'medusa', 'alreadi', 'whole', 'slew', 'transform', 'work', 'done', 'tooth', 'extract', 'eye', 'color', 'horn', 'implant', 'ear', 'remov', 'nose', 'modif', 'procedur', 'give', 'fork', 'tongu', 'also', 'gotten', 'tattoo', 'scarif', 'face', 'chest', 'make', 'look', 'like', 'scale', 'instead', 'human', 'skin', 'accord', 'articl', 'daili', 'mail', 'eva', 'tiamat', 'baphomet', 'medusa', 'tiamat', 'short', 'refer', 'mythic', 'beast', 'dragon', 'ladi', 'pre', 'op', '<NUM>', 'f', 'male', 'femal', 'transgend', 'process', 'morph', 'human', 'dragon', 'becom', 'reptoid', 'shed', 'human', 'skin', 'physic', 'appear', 'life', 'whole', 'leav', 'human', 'behind', 'embrac', 'natur', 'self', 'awar', 'mythic', 'beast', 'tiamat', 'explain', 'websit', 'tiamat', 'websit', 'also', 'contain', 'blog', 'write', 'life', 'dragon', 'liar', 'know', 'need', 'know', 'truth', 'post', 'monday', 'state', 'human', 'intrins', 'lie', 'continu', 'dragon', 'sic', 'lie', 'dcg', 'advertis']"
        ],
        [
         "15",
         "fake",
         "['press', 'news', '©', 'peopl', 'power', 'news', '®', '<URL>', 'constant', 'spi', 'free', 'american', 'refus', 'add', 'anyth', 'data', 'mine', 'govern', 'call', 'free', 'american', 'terrorist']"
        ],
        [
         "16",
         "reliable",
         "['hertzfeld', 'franc', 'nee', 'segal', '<DATE>', 'philadelphia', 'wife', 'late', 'joseph', 'b', 'mother', 'nanci', 'hertzfeld', 'new', 'york', 'jeffrey', 'geneviev', 'hertzfeld', 'pari', 'also', 'surviv', 'three', 'grandchildren', 'helen', 'elisabeth', 'emili', 'two', 'greatgrandchildren']"
        ],
        [
         "17",
         "reliable",
         "['florenc', 'itali', 'italian', 'civil', 'protect', 'agenc', 'said', 'tuesday', 'deterior', 'safeti', 'condit', 'forc', 'diver', 'suspend', 'underwat', 'search', 'miss', 'peopl', 'wreck', 'cruis', 'ship', 'island', 'giglio', 'ship', 'costa', 'concordia', 'struck', 'reef', '<DATE>', 'heel', 'founder', 'offshor', 'loss', 'least', '<NUM>', 'live', 'formal', 'decis', 'call', 'search', 'like', 'wednesday', 'rescu', 'offici', 'said', 'sixteen', 'peopl', 'still', 'list', 'miss', 'among', 'ship', 'complement', '<NUM>', 'passeng', 'crew', 'agenc', 'said', 'condit', 'submerg', 'part', 'vessel', 'lie', 'steep', 'angl', 'rock', 'rel', 'shallow', 'water', 'outsid', 'giglio', 'tini', 'port', 'danger', 'rescuer', 'continu', 'work', 'howev', 'agenc', 'said', 'statement', 'rescuer', 'would', 'continu', 'search', 'part', 'wreck', 'remain', 'water', 'diver', 'also', 'investig', 'whether', 'object', 'sea', 'surround', 'wreck', 'human', 'remain', 'last', 'week', 'italian', 'navi', 'diver', 'identifi', '<NUM>', 'object', 'water', 'surround', 'half', 'sunken', 'ship', 'clear', 'whether', 'bodi', 'object', 'ship', 'advertis', 'continu', 'read', 'main', 'stori', 'civil', 'protect', 'agenc', 'said', 'technic', 'studi', 'shown', 'deform', 'ship', 'hull', 'creat', 'safeti', 'concern', 'made', 'continu', 'search', 'imposs', 'go', 'detail', 'hazard', 'statement', 'said', 'famili', 'still', 'miss', 'diplomat', 'repres', 'countri', 'origin', 'inform', 'decis', 'interrupt', 'search']"
        ],
        [
         "18",
         "fake",
         "['someth', 'human', 'seen', 'andrew', 'vanderburg', 'graduat', 'student', 'harvard', 'smithsonian', 'center', 'astrophys', 'lead', 'author', 'new', 'studi', 'said', 'watch', 'solar', 'system', 'get', 'destroy']"
        ],
        [
         "19",
         "reliable",
         "['women', 'singl', 'luger', 'best', 'adjust', 'abbrevi', 'cours', 'entranc', 'curv', 'experienc', 'difficulti', 'bob', 'curv', 'though', 'turbul', 'water', 'other', 'master', 'among', 'leader', 'day', 'two', 'run', 'event', 'conclud', 'two', 'run', 'tuesday', 'germani', 'tatjana', 'huefner', 'lead', 'enter', 'medal', 'round', 'two', 'run', 'time', '<NUM>', '<NUM>', 'follow', 'austrian', 'slider', 'nina', 'reithmay', '<NUM>', '<NUM>', 'fellow', 'german', 'natali', 'geisenberg', '<NUM>', '<NUM>', 'offici', 'move', 'begin', 'race', 'junior', 'start', 'georgian', 'luger', 'nodar', 'kumaritashvili', 'kill', 'train', 'accid', 'last', 'week', 'whistler', 'slide', 'centr', 'modif', 'move', 'race', 'start', 'fifth', 'sixth', 'curv', 'cours', 'racer', 'enter', 'nearli', '<NUM>', 'degre', 'angl', 'time', 'pick', 'much', 'speed', 'honestli', 'sent', '<NUM>', 'year', 'old', 'girl', 'start', 'canada', 'alex', 'gough', 'said', 'like', 'run', 'brick', 'wall', 'erin', 'hamlin', 'reign', 'world', 'champion', '<NUM>', 'top', 'american', 'two', 'run', 'time', '<NUM>', '<NUM>', 'tri', 'copi', 'first', 'run', 'good', 'said', 'tri', 'go', 'start', 'curv', 'sure', 'come', 'jonathan', 'abram']"
        ],
        [
         "20",
         "reliable",
         "['moscow', 'spokesman', 'mikhail', 'gorbachev', 'say', '<NUM>', 'year', 'old', 'former', 'soviet', 'leader', 'hospit', 'schedul', 'oper', 'vladimir', 'polyakov', 'told', 'associ', 'press', 'gorbachev', 'taken', 'hospit', 'moscow', 'wednesday', 'plan', 'insignific', 'surgic', 'intervent', 'declin', 'give', 'detail', 'said', 'gorbachev', 'eat', 'normal', 'expect', 'discharg', 'soon', 'russian', 'media', 'report', 'gorbachev', 'fit', 'pacemak', 'oper', 'gorbachev', 'suffer', 'repeat', 'health', 'scare', 'recent', 'year', 'septemb', 'cancel', 'foreign', 'trip', 'advic', 'doctor', 'sinc', '<DATE>', 'collaps', 'soviet', 'union', 'former', 'presid', 'run', 'foundat', 'polit', 'social', 'econom', 'studi', 'copyright', '<DATE>', 'associ', 'press', 'right', 'reserv', 'materi', 'may', 'publish', 'broadcast', 'rewritten', 'redistribut']"
        ],
        [
         "21",
         "fake",
         "['getti', 'cma', 'want', 'gig', 'goer', 'awar', 'resal', 'restrict', 'spotlight', 'ticket', 'market', 'competit', 'market', 'author', 'cma', 'enforc', 'investig', 'look', 'seller', 'inform', 'connect', 'seller', 'event', 'organis', 'whether', 'restrict', 'use', 'resold', 'ticket', 'could', 'result', 'person', 'deni', 'access', 'andrea', 'coscelli', 'cma', 'act', 'chief', 'execut', 'said', 'essenti', 'consum', 'buy', 'ticket', 'secondari', 'market', 'made', 'awar', 'risk', 'turn', 'away', 'door', 'probe', 'also', 'take', 'account', 'seat', 'locat', 'venu', 'consid', 'busi', 'sell', 'ticket', 'secondari', 'ticket', 'platform', 'advertis', 'fail', 'provid', 'full', 'inform', 'find', 'breach', 'consum', 'law', 'take', 'enforc', 'action', 'cma', 'warn', 'earlier', 'year', 'cma', 'carri', 'initi', 'review', 'four', 'main', 'secondari', 'ticket', 'websit', 'get', 'seatwav', 'stubhub', 'viagogo', 'ensur', 'improv', 'inform', 'ticket', 'advertis', 'site', 'getti', 'cma', 'ensur', 'ticket', 'websit', 'improv', 'inform', 'ticket', 'advertis', 'site', 'icg', 'snap', 'park', 'holiday', 'privat', 'equiti', 'firm', 'caledonia', 'invest', 'sold', 'caravan', 'park', 'oper', 'park', 'holiday', 'intermedi', 'capit', 'group', 'icg', '<CUR>', '<NUM>', 'million', 'park', 'holiday', 'britain', 'fourth', 'largest', 'caravan', 'oper', 'set', 'see', 'earn', '<CUR>', '<NUM>', 'million', 'year', 'price', 'tag', 'repres', 'signific', 'rise', '<CUR>', '<NUM>', 'million', 'caledonia', 'paid', 'firm', '<DATE>', 'sale', 'put', 'ice', 'follow', 'eu', 'referendum', 'rise', 'staycat', 'follow', 'collaps', 'pound', 'mean', 'caravan', 'oper', 'becom', 'highli', 'sought', 'asset', 'weekend', 'countri', 'biggest', 'oper', 'parkdean', 'resort', 'sold', 'epiri', 'toronto', 'base', 'onex', 'corpor', '<CUR>', '<NUM>', 'billion', 'icg', 'retain', 'park', 'holiday', 'current', 'manag', 'team', 'includ', 'chief', 'execut', 'jeff', 'sill', 'job', 'boost', 'highland', '<NUM>', 'job', 'could', 'creat', 'highland', '<CUR>', '<NUM>', 'million', 'deal', 'sign', 'safeguard', 'last', 'remain', 'aluminium', 'smelter', 'uk', 'liberti', 'hous', 'complet', 'deal', 'british', 'australian', 'mine', 'firm', 'rio', 'tinto', 'buy', 'smelter', 'lochab', 'hydro', 'power', 'plant', 'fort', 'william', 'kinlochleven', 'getti', '<NUM>', 'job', 'could', 'creat', 'highland', '<CUR>', '<NUM>', 'million', 'deal']"
        ],
        [
         "22",
         "reliable",
         "['photo', 'report', 'often', 'arriv', 'red', 'carpet', 'arm', 'question', 'peg', 'whatev', 'controversi', 'talk', 'award', 'season', 'alway', 'least', 'one', 'previou', 'year', 'journalist', 'respond', 'heat', 'hollywood', 'ask', 'celebr', 'askhermor', 'initi', 'queri', 'actress', 'substant', 'thing', 'outfit', 'oscarssowhit', 'highlight', 'dearth', 'divers', 'nomine', 'recent', 'presid', 'donald', 'j', 'trump', 'year', 'celebr', 'particular', 'women', 'defin', 'agenda', 'women', 'attend', 'globe', 'ask', 'wear', 'black', 'gown', 'show', 'solidar', 'victim', 'sexual', 'misconduct', 'plan', 'initi', 'dismiss', 'toothless', 'gimmick', 'one', 'would', 'littl', 'advanc', 'metoo', 'movement', 'call', 'wear', 'black', 'gown', 'turn', 'part', 'sweep', 'ambiti', 'initi', 'call', 'time', 'creat', '<NUM>', 'promin', 'actress', 'femal', 'agent', 'writer', 'director', 'entertain', 'execut', 'fight', 'sexual', 'misconduct', 'across', 'countri', 'time', 'boast', '<CUR>', '<NUM>', 'million', 'legal', 'defens', 'fund', 'less', 'privileg', 'victim', 'alreadi', 'secur', 'pledg', 'talent', 'agenc', 'achiev', 'gender', 'pariti', 'corner', 'offic', '<DATE>', 'black', 'gown', 'meant', 'call', 'attent', 'problem', 'mourn', 'industri', 'old', 'guard', 'point', 'solut', 'moment', 'shine', 'light', 'peopl', 'said', 'rees', 'witherspoon', 'work', 'close', 'time', 'time', 'quiet']"
        ],
        [
         "23",
         "reliable",
         "['photo', '<DATE>', 'brother', 'pat', 'walk', 'away', 'cnn', 'threw', 'hat', 'ring', 'republican', 'nomin', 'presid', 'georg', 'h', 'w', 'bush', '<NUM>', 'week', 'campaign', '<NUM>', 'percent', 'vote', 'new', 'hampshir', 'soon', 'overwhelm', 'presid', 'huge', 'campaign', 'oper', 'end', 'race', 'pat', 'clout', 'promis', 'support', 'would', 'go', 'way', 'convent', 'intend', 'honor', 'commit', 'will', 'make', 'strong', 'case', 'mr', 'bush', 'bill', 'clinton', 'want', 'prime', 'time', 'spot', 'convent', 'return', 'sit', 'tight', 'pat', 'told', 'call', 'charli', 'black', 'jim', 'lake', 'friend', 'ronald', 'reagan', 'presidenti', 'campaign', 'arrang', 'meet', 'month', 'convent', 'want', 'pat', 'endors', 'told', 'condit', 'follow', 'call', 'offer', 'half', 'hour', 'right', 'keynot', 'address', 'tuesday', 'night', 'would', 'put', 'us', '<NUM>', 'minut', 'prime', 'time', 'good', 'enough', 'week', 'heard', 'noth', 'up', 'ant', 'put', 'word', 'plan', 'speech', 'outsid', 'convent', 'hall', 'call', 'hotel', 'nearbi', 'know', 'would', 'contract', 'convent', 'would', 'like', 'pass', 'inquiri', 'bush', 'campaign', 'advertis', 'continu', 'read', 'main', 'stori', 'final', 'call', 'came', 'pat', 'ask', 'endors', 'presid', 'bush', 'prime', 'time', 'spot', 'monday', 'night', 'would', 'preced', 'presid', 'reagan', 'pat', 'would', 'get', 'prime', 'time', 'also', 'would', 'get', 'share', 'hour', 'hero', 'newslett', 'sign', 'continu', 'read', 'main', 'stori', 'pleas', 'verifi', 'robot', 'click', 'box', 'invalid', 'email', 'address', 'pleas', 'enter', 'must', 'select', 'newslett', 'subscrib', 'sign', 'agre', 'receiv', 'occasion', 'updat', 'special', 'offer', 'new', 'york', 'time', 'product', 'servic', 'thank', 'subscrib', 'error', 'occur', 'pleas', 'tri', 'later', 'view', 'new', 'york', 'time', 'newslett', 'offic', 'washington', 'drove', 'pat', 'home', 'mclean', 'va', 'speed', 'way', 'limit', 'give', 'news', 'wait', 'tell', 'person', 'call', 'scream', 'excit', 'togeth', 'laugh', 'hyster', 'play', 'high', 'stake', 'game', 'poker', 'pat', 'went', 'deliv', 'famou', 'cultur', 'war', 'speech', 'often', 'blame', 'mr', 'bush', 'defeat', 'pat', 'accus', 'hijack', 'convent', 'final', 'version', 'sent', 'white', 'hous', 'approv', 'receiv', 'high', 'prais', 'news', 'media', 'bush', 'famili', 'oh', 'one', 'detail', 'poll', 'conclud', 'night', 'pat', 'spoke', 'gave', 'presid', 'bush', '<NUM>', 'point', 'bump', 'number', 'voter', 'strongli', 'support']"
        ],
        [
         "24",
         "reliable",
         "['seventi', 'year', 'later', 'guettel', 'perfect', 'mean', 'escap', 'emot', 'technolog', 'aesthet', 'call', 'method', 'compos', 'mean', 'burrow', 'deepli', 'charact', 'live', 'among', 'delay', 'tactic', 'store', 'ream', 'earnest', 'note', 'palm', 'tungsten', 'w', 'love', 'would', 'harbing', 'truer', 'next', 'self', 'read', 'one', 'look', 'forward', 'love', 'fat', 'line', 'cocain', 'like', 'sentenc', 'two', 'work', 'reput', 'far', 'hang', 'seem', 'almost', 'will', 'obscur', 'would', 'hard', 'imagin', 'either', 'ever', 'play', 'broadway', 'guettel', 'want', 'floyd', 'collin', 'critic', 'success', 'playwright', 'horizon', '<DATE>', 'base', 'true', 'stori', 'man', 'trap', 'kentucki', 'cave', '<DATE>', 'myth', 'hymn', 'cycl', 'art', 'song', 'music', 'inspir', 'greek', 'mytholog', '<NUM>', 'presbyterian', 'hymnal', 'neither', 'piec', 'reflect', 'obviou', 'way', 'life', 'know', 'rais', 'almost', 'chokingli', 'sophist', 'precinct', 'upper', 'west', 'side', 'cultur', 'brahmin', 'nonpract', 'jew', 'ask', 'last', 'name', 'pronounc', 'say', 'rhyme', 'shtetl', 'despit', 'unlikeli', 'work', 'extraordinari', 'authent', 'creation', 'everi', 'youngish', 'theater', 'compos', 'guettel', '<NUM>', 'must', 'nod', 'sondheim', 'mani', 'genuflect', 'deepli', 'spine', 'turn', 'guettel', 'acknowledg', 'master', 'privileg', 'unslavish', 'way', 'befit', 'lifelong', 'famili', 'friend', 'rhythmic', 'invent', 'restless', 'harmoni', 'duli', 'salut', 'suppl', 'long', 'line', 'gorgeou', 'melodi', 'rodger', 'hear', 'top', 'surprisingli', 'oscar', 'hammerstein', 'hear', 'word', 'ever', 'squar', 'pedagog', 'guettel', 'lyric', 'grudgingli', 'sometim', 'incomplet', 'transform', 'english', 'litani', 'place', 'fill', 'ah', 'la', 'dicka', 'dicka', 'dum', 'like', 'hammerstein', 'openheart', 'direct', 'relentlessli', 'subjug', 'clever', 'craft', 'rhyme', 'kept', 'simpl', 'wordplay', 'subtl', 'went', 'lookin', 'fer', 'fortun', 'ground', 'sure', 'enough', 'fortun', 'found', 'floyd', 'collin', 'sound', 'like', 'kentucki', 'turtl', 'bay', 'care', 'constraint', 'result', 'song', 'cours', 'raw', 'even', 'threaten', 'feel', 'often', 'two', 'three', 'time', 'longer', 'standard', 'guettel', 'circl', 'beauti', 'bale', 'pounc', 'feast', 'wring', 'last', 'life', 'seem', 'know', 'confid', 'kind', 'lordli', 'even', 'turn', 'crucial', 'address', 'listen', 'pleasur', 'least', 'consist', 'new', 'music', 'theater', 'contemporari', 'maintain', 'level', 'adventur', 'would', 'impress', 'elder', 'hesit', 'put', 'best', 'say', 'arthur', 'laurent', 'guettel', 'godfath', 'would', 'let', 'stop', 'opportun', 'critic', 'aros', 'emot', 'free', 'lyric', 'music', 'certainli', 'steve', 'sondheim', 'list', 'riddl', 'song', 'floyd', 'collin', 'almost', 'nine', 'minut', 'unimped', 'joy', 'among', 'wish', 'written', 'floyd', 'collin', 'john', 'simon', 'put', 'origin', 'dare', 'music', 'day', 'joy', 'project', 'guettel', 'choos', 'agon', 'think', 'bleed', 'like', 'finger', 'offer', 'kind', 'prove', 'ground', 'deton', 'devast', 'fear', 'case', 'fear', 'work', 'howev', 'good', 'would', 'come', 'noth', 'trap', 'underground', 'song', 'echo', 'around', 'otherwis', 'empti', 'chamber', 'subtext', 'connect', 'rodger', 'someth', 'talk', 'much', 'public', 'even', 'ask', 'intiman', 'theater', 'premier', 'product', 'piazza', 'play', '<DATE>', 'mention', 'rodger', 'press', 'releas', 'nevertheless', 'tell', 'let', 'trap', 'caver', 'find', 'peac', 'end', 'floyd', 'collin', 'unconsci', 'shift', 'weight', 'legaci', 'bear', 'better', 'fail', 'pursuit', 'someth', 'nobl', 'say', 'good', 'day', 'nobl', 'turn', 'though', 'legaci', 'easili', 'shift', 'may', 'track', 'guettel', 'work', 'sinc', 'success', 'floyd', 'collin', 'terrain', 'remain', 'rocki', 'myth', 'hymn', 'kind', 'music', '<NUM>', 'step', 'program', 'question', 'possibl', 'redempt', 'sin', 'god', 'peopl', 'one', 'soul', 'one', 'semiautobiograph', 'song', 'man', 'abandon', 'pregnant', 'girlfriend', 'abort', 'produc', 'theatric', 'saturn', 'return', 'seal', 'compos', 'reput', 'make', 'reput', 'harder', 'read', 'next', 'mr', 'guettel', 'ask', 'stephen', 'holden', '<DATE>', 'time', 'review', 'anoth', 'folk', 'music', 'opera', 'either', 'possibl', 'talent', 'major', 'look', 'question', 'might', 'never', 'answer', 'guettel', 'struggl', 'variou', 'demon', 'variou', 'writer', 'includ', 'laurent', 'alfr', 'uhri', 'final', 'craig', 'luca', 'put', 'piazza', 'togeth', 'longer', 'took', 'anticip', 'point', 'show', 'began', 'seem', 'like', 'myth', 'piazza', 'even', 'imperfect', 'first', 'incarn', 'turn', 'real', 'ravish', 'work', 'romant', 'chamber', 'music', 'whose', 'subject', 'love', 'set', 'itali', 'provid', 'guettel', 'entir', 'new', 'palett', 'color', 'blend', 'albeit', 'characterist', 'bravura', 'style', 'instantli', 'recogniz', 'everywher', 'dark', 'encroach', 'bright', 'surfac', 'piazza', 'mottl', 'chiaroscuro', 'artwork', 'admir', 'protagonist', 'resourc', 'american', 'matron', 'vacat', 'strang', 'childlik', '<NUM>', 'year', 'old', 'daughter', 'though', 'luca', 'also', 'direct', 'seattl', 'product', 'main', 'stori', 'mother', 'unexpect', 'triumph', 'secur', 'daughter', 'happi', 'guettel', 'someth', 'sad', 'hardli', 'squar', 'debonair', 'man', 'tell', 'version', 'child', 'enorm', 'privileg', 'damag', 'profound', 'secret', 'way', 'wonder', 'damag', 'great', 'forev', 'preclud', 'possibl', 'love', 'advertis', 'continu', 'read', 'main', 'stori', 'fascin', 'drink', 'drug', 'young', 'rememb', 'guettel', 'say', 'includ', 'pretend', 'get', 'hangov', 'smoke', 'leav', 'tree', 'snif', 'mimeograph', 'test', 'first', 'got', 'high', '<NUM>', 'memori', 'share', 'joint', 'raccoon', 'intens', 'happiest', 'moment', 'life', 'smile', 'brilliantli', 'let', 'smile', 'wilt', 'still', 'guettel', 'walk', 'queen', 'ann', 'hill', 'seattl', 'toward', 'prospect', 'assur', 'worth', 'gasp', 'part', 'climb', 'histori', 'drug', 'disturb', 'marijuana', '<NUM>', 'one', 'thing', 'cocain', '<NUM>', 'anoth', 'dismiss', 'rich', 'kid', 'insuffer', 'debaucheri', 'even', 'though', 'stori', 'pain', 'liter', 'iter', 'theme', 'abus', 'good', 'fortun', 'fli', 'back', 'exet', 'new', 'york', 'gone', 'sign', 'paper', 'regard', 'grandfath', 'scalp', 'eastern', 'shuttl', 'coupon', 'drug', 'money', 'beaten', 'bloodi', 'process', 'scare', 'clean', 'two', 'year', 'gradual', 'yale', 'felt', 'isol', 'unhappi', 'slip', 'back', 'pot', 'mushroom', 'pill', 'alcohol', 'graduat', 'live', 'brooklyn', 'start', 'drink', 'regularli', 'night', 'smoke', 'pot', 'cocain', 'happen', 'mid', '<NUM>', 'time', '<NUM>', 'recoveri', 'authent', 'new', 'york', 'product', 'floyd', 'happen', 'sober', 'car', 'accid', 'herniat', 'two', 'disc', 'given', 'percocet', 'soon', 'take', '<NUM>', '<NUM>', 'day', 'abject', 'drug', 'addl', 'wretch', 'shade', 'drawn', 'eat', 'watch', 'tv', 'day', 'within', 'six', 'week', 'rehab', 'came', 'almost', 'four', 'year', 'sobrieti', 'finish', 'myth', 'hymn', 'put', 'public', 'theater', 'documentari', 'score', 'also', 'wrote', 'first', 'three', 'four', 'song', 'piazza', 'someon', 'offer', 'vicodin', 'last', 'three', 'year', 'rehab', 'twice', 'basic', 'pretti', 'rough', 'ride', 'right', '<NUM>', 'day', 'clean', 'keep', 'go', 'meet', 'regularli', 'know', 'drug', 'play', 'russian', 'roulett', 'know', 'would', 'happen', 'someon', 'offer', 'kind', 'alcohol', 'drug', 'parti', 'matrix', 'drug', 'sex', 'trail', 'sigh', 'mani', 'way', 'legaci', 'turn', 'burden', 'richard', 'rodger', 'legaci', 'heir', 'succeed', 'gap', 'secret', 'realiti', 'beauti', 'world', 'public', 'art', 'almost', 'swallow', 'everyon', 'stand', 'nearbi', 'possibl', 'reaction', 'daughter', 'mari', 'rodger', 'guettel', 'develop', 'person', 'style', 'might', 'call', 'knee', 'jerk', 'transpar', 'except', 'need', 'even', 'tini', 'rubber', 'mallet', 'get', 'good', 'arriv', 'upper', 'west', 'side', 'apart', 'alreadi', 'prepar', 'dossier', 'adam', 'memorabilia', 'prep', 'school', 'report', 'card', 'earli', 'composit', 'joke', 'photograph', 'kind', 'usual', 'burn', 'letter', 'filial', 'love', 'apolog', 'husband', 'henri', 'guettel', 'help', 'provid', 'larg', 'manila', 'envelop', 'transport', 'trove', 'trove', 'larg', 'enough', 'though', 'document', 'sheer', 'much', 'famili', 'much', 'talent', 'much', 'pain', 'final', 'theatric', 'famili', 'live', 'room', 'featur', 'jo', 'mielzin', 'watercolor', 'set', 'pal', 'joey', 'pipe', 'dream', 'guettel', 'live', 'seem', 'part', 'master', 'ironist', 'dramat', 'design', 'master', 'melodist', 'rodger', 'dead', 'almost', 'quarter', 'centuri', 'still', 'rake', 'million', 'dollar', 'year', 'heir', 'magnet', 'complet', 'monument', 'achiev', 'even', 'turn', 'away', 'despit', 'achiev', 'cell', 'continu', 'align', 'noth', 'adam', 'guettel', 'therefor', 'seen', 'isol', 'famili', 'even', 'piazza', 'mother', 'suggest', 'music', 'stori', 'suggest', 'thing', 'back', '<NUM>', 'father', 'daddi', 'told', 'love', 'say', 'rodger', 'soon', 'went', 'write', 'sondheim', 'laurent', 'american', 'itali', 'love', 'stori', 'underr', 'hear', 'waltz', 'mari', 'rodger', 'profession', 'known', 'compos', 'piazza', 'written', 'fine', 'music', 'upon', 'mattress', 'among', 'show', 'pleasant', 'talent', 'incred', 'talent', 'say', 'without', 'self', 'piti', 'father', 'son', 'abandon', 'kind', 'thing', 'somewher', 'along', 'way', 'let', 'theatric', 'career', 'slip', 'away', 'favor', 'young', 'adult', 'fiction', 'freaki', 'friday', 'seri', 'chairmanship', 'juilliard', 'school', 'mention', 'motherhood', 'first', 'marriag', 'three', 'children', 'second', 'guettel', 'lifelong', 'man', 'theater', 'anoth', 'three', 'boy', 'adam', 'middl', 'matthew', 'alexand', 'pain', 'thing', 'dispens', 'freeli', 'smart', 'neat', 'proport', 'might', 'well', 'martini', 'mari', 'say', 'adam', 'seem', 'come', 'first', 'time', 'brother', 'matthew', 'sickli', 'nearli', 'four', 'year', 'die', 'asthma', 'adam', 'quiet', 'picki', 'moros', 'desper', 'get', 'eat', 'reduc', 'let', 'graze', 'littl', 'bowl', 'cut', 'food', 'set', 'kitchen', 'floor', 'see', 'brother', 'taken', 'away', 'someth', 'chang', 'came', 'downstair', 'doctor', 'denton', 'even', 'mari', 'recal', 'start', 'clown', 'around', 'poke', 'peopl', 'face', 'sudden', 'person', 'chang', 'knew', 'mean', 'happen', 'peopl', 'would', 'notic', 'give', 'chanc', 'also', 'right', 'matthew', 'die', 'adam', 'one', 'day', 'start', 'sing', '<NUM>', 'street', 'bridg', 'song', 'note', 'perfect', 'yet', '<NUM>', 'newslett', 'sign', 'continu', 'read', 'main', 'stori', 'pleas', 'verifi', 'robot', 'click', 'box', 'invalid', 'email', 'address', 'pleas', 'enter', 'must', 'select', 'newslett', 'subscrib', 'sign', 'agre', 'receiv', 'occasion', 'updat', 'special', 'offer', 'new', 'york', 'time', 'product', 'servic', 'thank', 'subscrib', 'error', 'occur', 'pleas', 'tri', 'later', 'view', 'new', 'york', 'time', 'newslett', 'guettel', 'publish', 'work', 'corpor', 'name', 'matthew', 'music', 'death', 'begin', 'voic', 'vice', 'far', 'behind', 'precoci', 'age', '<NUM>', 'could', 'sing', '<NUM>', 'peopl', 'met', 'style', 'love', 'french', 'impecc', 'start', 'smoke', 'chesterfield', 'age', '<NUM>', 'push', 'pull', 'matur', 'recur', 'motif', '<NUM>', 'star', 'met', 'radio', 'broadcast', 'pelléa', 'televis', 'movi', 'amahl', 'night', 'visitor', 'voic', 'despit', 'year', 'superstiti', 'habit', 'final', 'broke', 'kind', 'fake', 'voic', 'chang', 'say', 'probabl', 'could', 'sung', 'role', 'want', 'handl', 'pressur', 'reson', 'begin', 'adult', 'life', 'advertis', 'continu', 'read', 'main', 'stori', 'botch', 'opportun', 'also', 'boon', 'divert', 'music', 'impuls', 'toward', 'compos', 'wrote', 'first', 'piec', 'around', 'age', '<NUM>', 'work', 'one', 'ask', 'rodger', 'play', 'louder', 'though', 'old', 'man', 'said', 'like', 'guettel', 'discount', 'compliment', 'liter', 'deathb', 'side', 'live', 'room', 'wall', 'still', 'baton', 'pass', 'boy', 'took', 'fast', 'first', 'year', 'wrote', 'could', 'advis', 'mother', 'recal', 'tell', 'thing', 'like', 'ear', 'like', 'know', 'harmon', 'home', 'tri', 'get', 'back', 'far', 'beyond', 'anyth', 'could', 'ever', 'dream', 'back', 'time', 'return', 'new', 'york', 'colleg', '<DATE>', 'grit', 'teeth', 'theori', 'composit', 'guettel', 'promis', 'young', 'compos', '<NUM>', 'minut', 'concerto', 'jazz', 'quartet', 'symphoni', 'orchestra', 'alreadi', 'credit', 'also', 'addict', 'though', 'drug', 'use', 'whisper', 'theater', 'circl', 'guettel', 'reput', 'lothario', 'bruit', 'almost', 'proudli', 'even', 'father', 'told', 'exactli', 'censori', 'dozen', 'love', 'spurn', 'ladi', 'spread', 'pavement', 'manhattan', 'one', 'supposedli', 'wrote', 'music', 'featur', 'number', 'embitt', 'ex', 'girlfriend', 'mother', 'sharpen', 'point', 'mean', 'let', 'face', 'sexual', 'procliv', 'satyr', 'grandfath', 'seem', 'even', 'worst', 'trait', 'guettel', 'alway', 'compar', 'richard', 'rodger', 'bed', 'choru', 'girl', 'could', 'get', 'hand', 'know', 'hurt', 'lot', 'women', 'feel', 'terribl', 'guettel', 'say', 'easi', 'get', 'away', 'thing', 'money', 'peopl', 'think', 'attract', 'also', 'verbal', 'readi', 'access', 'silken', 'prose', 'sometim', 'reflect', 'realli', 'think', 'hope', 'phase', 'point', 'unhappi', 'long', 'becom', 'irrevoc', 'unkind', 'like', 'grandfath', 'like', 'happi', 'abl', 'kind', 'seem', 'happi', 'enough', 'say', 'still', 'seen', 'perform', 'song', 'concert', 'know', 'work', 'audienc', 'charm', 'goe', 'long', 'way', 'like', 'money', 'often', 'misspent', 'guettel', 'admit', 'much', 'compet', 'say', 'real', 'antidot', 'feel', 'time', 'sunni', 'day', 'seattl', 'queen', 'ann', 'prospect', 'reach', 'spectacular', 'mayb', 'local', 'instead', 'express', 'say', 'refer', 'love', 'also', 'hope', 'straighten', 'good', 'take', 'long', 'time', 'admit', 'problem', 'termin', 'ill', 'risk', 'life', 'mani', 'time', 'car', 'bare', 'see', 'cocain', 'drink', 'drive', 'stick', 'shift', 'tacon', 'never', 'diseas', 'know', 'much', 'could', 'kept', 'togeth', 'courag', 'stamina', 'willpow', 'wish', 'could', 'fun', 'relax', 'respons', 'potenti', 'kind', 'great', 'man', 'famili', 'good', 'fail', 'good', 'fail', 'three', 'realli', 'good', 'thing', 'fail', 'thing', 'failur', 'great', 'shut', 'eye', 'tire', 'come', 'edelweiss', 'never', 'walk', 'alon', 'joy', 'solac', 'admittedli', 'gift', 'hammerstein', 'word', 'pass', 'like', 'giant', 'rock', 'carri', 'ev', 'ry', 'damn', 'mountain', 'grandfath', 'trust', 'allow', 'guettel', 'make', 'art', 'care', 'work', 'project', 'year', 'without', 'write', 'jingl', 'wait', 'tabl', 'pay', 'rent', 'also', 'financ', 'death', 'defi', 'addict', 'everi', 'day', 'threaten', 'crack', 'voic', 'forev', 'ask', 'tot', 'loss', 'oh', 'lost', 'job', 'sigh', 'lost', 'good', '<NUM>', 'percent', 'sing', 'abil', 'fri', 'voic', 'alcohol', 'cigarett', 'pot', 'big', 'thing', 'lost', 'time', 'think', 'conserv', '<NUM>', 'year', 'write', '<NUM>', 'year', 'sinc', 'got', 'school', 'gain', 'employ', 'six', 'actual', 'make', 'fairli', 'quick', 'writer', 'contrari', 'imag', 'advertis', 'continu', 'read', 'main', 'stori', 'true', 'enough', 'descend', 'hill', 'tri', 'tumbl', 'guettel', 'get', 'back', 'work', 'miss', 'song', 'far', 'exist', 'jumbl', 'music', 'motif', 'fragmentari', 'lyric', 'comput', 'file', 'apt', 'temporari', 'titl', 'fall', 'song', 'readi', 'first', 'night', 'preview', 'saw', '<DATE>', 'went', 'show', '<NUM>', 'day', 'later', 'assum', 'hear', 'piazza', 'come', 'new', 'york', 'product', 'winter', 'goodman', 'theater', 'chicago', 'come', 'new', 'york', 'econom', 'seriou', 'chamber', 'music', 'broadway', 'easi', 'squar', 'first', 'ask', 'guettel', 'possibl', 'bring', 'call', 'tender', 'littl', 'experi', 'said', 'care', 'got', 'trust', 'fund', 'part', 'defens', 'care', 'also', 'recogn', 'new', 'york', 'may', 'viabl', 'option', 'everi', 'project', 'risk', 'someon', 'els', '<CUR>', '<NUM>', 'million', 'even', 'seattl', 'intiman', 'bet', 'farm', 'livestock', 'say', 'laura', 'penn', 'theater', 'manag', 'director', 'product', '<CUR>', '<NUM>', 'million', 'three', 'time', 'expens', 'typic', 'show', 'guettel', 'realli', 'want', 'work', 'good', 'futur', 'deni', 'new', 'york', 'product', 'would', 'help', 'goal', 'new', 'york', 'collabor', 'tina', 'landau', 'polish', 'floyd', 'collin', 'high', 'gloss', 'receiv', 'kind', 'acclaim', 'translat', 'heavi', 'listen', 'licens', 'rodger', 'hammerstein', 'theater', 'librari', 'unsurprisingli', 'handl', 'product', 'right', 'guettel', 'work', 'licens', '<NUM>', 'north', 'american', 'product', 'floyd', 'collin', 'four', 'year', 'make', 'accord', 'theodor', 'chapin', 'presid', 'r', 'h', 'organ', 'oklahoma', 'new', 'music', 'theater', 'set', 'show', 'seek', 'futur', 'realli', 'need', 'record', 'score', 'publish', 'seem', 'certain', 'happen', 'piazza', 'unclear', 'whether', 'anyon', 'superior', 'singer', 'actor', 'luca', 'guettel', 'assembl', 'ever', 'abl', 'perform', 'anyon', 'whistl', 'happi', 'tune', 'take', 'look', 'score', 'piazza', 'creat', 'highli', 'chromat', 'yearn', 'atmospher', 'guettel', 'call', 'faux', 'lisztian', 'harpist', 'kept', 'busi', 'chang', 'pedal', 'basic', 'clog', 'danc', 'instrument', 'piano', 'violin', 'cello', 'bass', 'spare', 'either', 'vocal', 'line', 'compuls', 'notat', 'last', 'crotchet', 'specifi', 'kind', 'inflect', 'back', 'phrase', 'compos', 'would', 'leav', 'singer', 'sens', 'style', 'pedantri', 'guettel', 'hear', 'sens', 'tri', 'stabil', 'damag', 'world', 'love', 'romant', 'climax', 'score', 'less', 'heart', 'melt', 'set', 'mostli', 'compound', 'time', 'signatur', '<NUM>', '<NUM>', '+', '<NUM>', '<NUM>', 'thank', 'strang', 'limp', 'extra', 'eighth', 'note', 'seem', 'argu', 'imperfect', 'anoth', 'kind', 'beauti', 'tri', 'learn', 'without', 'guettel', 'longtim', 'music', 'director', 'ted', 'sperl', 'hammer', 'beat', 'learn', 'love', 'help', 'guettel', 'say', 'final', 'admit', 'confidenti', 'promin', 'theater', 'compos', 'like', 'promin', 'manuscript', 'illumin', 'let', 'ask', 'peopl', 'think', 'art', 'form', 'want', 'seem', 'shame', 'enough', 'tinker', 'piazza', 'could', 'classic', 'main', 'strength', 'novella', 'retain', 'mani', 'place', 'enhanc', 'luca', 'comed', 'gift', 'beyond', 'stori', 'pull', 'guettel', 'half', 'dozen', 'convinc', 'beauti', 'new', 'theater', 'song', 'heard', 'long', 'time', 'surpris', 'time', 'love', 'may', 'abstrus', 'meter', 'beneath', 'skin', 'genet', 'program', 'convent', 'b', 'bone', 'good', 'melodi', 'guettel', 'phrase', 'dens', 'packet', 'inform', 'unfold', 'time', 'someth', 'put', 'pocket', 'carri', 'lightli', 'open', 'need', 'piazza', 'pocket', 'nexu', 'three', 'thing', 'make', 'song', 'reach', 'world', 'guettel', 'say', 'writer', 'craft', 'one', 'soul', 'anoth', 'third', 'thing', 'one', 'control', 'time', 'grandpa', 'right', 'place', 'right', 'time', 'thought', 'right', 'thing', 'even', 'enlighten', 'person', 'person', 'perfect', 'control', 'techniqu', 'simpl', 'song', 'like', 'rememb', 'name', 'mean', 'mi', 'sound', 'music', 'never', 'forgotten', 'believ', 'possibl', 'write', 'song', 'today', 'univers', 'comprehens', 'time', 'song', 'anoth', 'inherit', 'burden', 'yet', 'last', 'day', 'seattl', 'guettel', 'relat', 'dream', 'grandfath', 'walk', 'elev', 'ask', 'good', 'said', 'rather', 'kindli', 'voic', 'elev', 'door', 'close', 'take', 'guettel', 'tell', 'mean', 'despit', 'profound', 'ambival', 'famili', 'busi', 'resolv', 'carri', 'forward', 'way', 'next', 'project', 'shockingli', 'ambiti', 'concert', 'piec', 'audra', 'mcdonald', 'make', 'previou', 'risk', 'seem', 'like', 'well', 'mi', 'though', 'day', 'piazza', 'play', 'first', 'preview', '<NUM>', 'day', 'recoveri', 'guettel', 'make', 'plan', 'get', '<NUM>', 'beyond', 'seem', 'good', 'sign', 'stop', 'hide', 'pain', 'truth', 'life', 'pain', 'hope', 'also', 'take', 'omen', 'piazza', 'happi', 'end', 'albeit', 'guettel', 'insist', 'axi', 'one', 'child', 'never', 'learn', 'damag', 'get', 'marri', 'italian', 'suitor', 'music', 'end', 'less', 'ambival', 'mother', 'farewel', 'song', 'turbul', '<NUM>', 'measur', 'resolv', 'delic', 'transpar', 'figur', 'peac', 'c', 'sharp', 'major', 'last', 'bar', 'sound', 'help', 'think', 'like', 'golden', 'sky', 'end', 'storm', 'suggest', 'hope', 'howev', 'hammersteinian', 'ear', 'find', 'way', 'home', 'time', 'though', 'curtain', 'fall', 'brilliant', 'stage', 'pictur', 'parent', 'child', 'add', 'find', 'way', 'home', 'sometim', 'mean', 'leav', 'good']"
        ],
        [
         "25",
         "reliable",
         "['photo', 'william', 'nichola', 'nowacki', 'joshua', 'ryan', 'langdon', 'marri', '<DATE>', 'scott', 'e', 'knox', 'lawyer', 'ordain', 'univers', 'life', 'church', 'event', 'offici', 'wild', 'dune', 'resort', 'isl', 'palm', 'c', 'mr', 'nowacki', 'left', '<NUM>', 'goe', 'nick', 'take', 'mr', 'langdon', 'name', 'asset', 'manag', 'peak', 'campu', 'atlanta', 'base', 'student', 'hous', 'manag', 'compani', 'overse', 'properti', 'manag', 'midwest', 'region', 'graduat', 'receiv', 'master', 'exercis', 'physiolog', 'mississippi', 'state', 'univers', 'starkvil', 'son', 'carol', 'nowacki', 'robert', 'nowacki', 'sturgi', 'miss', 'mr', 'nowacki', 'mother', 'nurs', 'winston', 'medic', 'center', 'nurs', 'home', 'louisvil', 'miss', 'father', 'mainten', 'supervisor', 'mississippi', 'state', 'mr', 'langdon', '<NUM>', 'lawyer', 'wood', 'lamp', 'cincinnati', 'focus', 'lesbian', 'gay', 'transgend', 'queer', 'right', 'graduat', 'colleg', 'charleston', 'receiv', 'law', 'degre', 'univers', 'cincinnati', 'son', 'lisa', 'r', 'hooser', 'ronald', 'h', 'hooser', 'huntington', '<URL>', 'mr', 'langdon', 'father', 'owner', 'vice', 'presid', 'r', 'h', 'adkin', 'oil', 'ga', 'compani', 'hamlin', '<URL>', 'coupl', 'met', 'speed', 'date', 'event', 'cincinnati', '<DATE>', 'other', 'last', 'match']"
        ],
        [
         "26",
         "reliable",
         "['twitchi', 'told', 'earlier', 'roy', 'moor', 'mount', 'trusti', 'hors', 'sassi', 'rode', 'poll', 'place', 'vote', 'asid', 'sort', 'tradit', 'might', 'figur', 'would', 'help', 'boost', 'home', 'rug', 'masculin', 'cred', 'laura', 'ingraham', 'one', 'buy', 'moor', 'sell', 'least', 'far', 'sassi', 'concern', 'ride', 'poll', 'hors', 'realli', 'stupid', 'laura', 'ingraham', 'ingrahamangl', '<DATE>', 'everyon', 'agre', 'assess', 'hilari', 'come', 'laura', 'get', 'sens', 'humor', 'peachywitchi', 'peachywitchi', '<DATE>', 'thought', 'cool', 'brenda', 'hinchman', 'brendahinchman', '<DATE>', 'thought', 'cool', 'brenda', 'pendleton', 'txgirl', '<NUM>', '<DATE>', 'think', 'fun', 'susan', 'momwifegrammi', '<DATE>', 'freak', 'think', 'awesom', '🇺', 'g', 'can👠', 'gcando', '<NUM>', '<DATE>', 'unnecessarili', 'bitchi', 'comment', 'joe', 'dan', 'gorman', 'joedanmedia', '<DATE>', 'event', 'guess', 'find', 'soon', 'enough', 'sassi', 'brought', 'luck', 'saddl', 'sore']"
        ],
        [
         "27",
         "fake",
         "['getti', 'nick', 'kyrgio', 'downbeat', 'defeat', 'andi', 'murray', 'kyrgio', 'went', 'toe', 'toe', 'world', '<NUM>', 'murray', 'first', 'set', 'centr', 'court', 'thereaft', 'fell', 'apart', 'lose', '<NUM>', '<NUM>', '<NUM>', '<NUM>', '<NUM>', '<NUM>', '<NUM>', 'year', 'old', 'heavili', 'criticis', 'perform', 'particularli', 'american', 'legend', 'john', 'mcenro', 'kyrgio', 'visibl', 'downbeat', 'post', 'match', 'press', 'confer', 'lose', 'one', 'hour', '<NUM>', 'minut', 'murray', 'q', 'assess', 'perform', 'nk', 'good', 'first', 'set', 'rest', 'match', 'pretti', 'pathet', 'q', 'feel', 'though', 'lost', 'focu', 'earli', 'second', 'set', 'troubl', 'get', 'back', 'nk', 'yeah', 'mean', 'realli', 'comfort', 'first', 'set', 'thought', 'play', 'realli', 'good', 'tenni', 'believ', 'could', 'win', 'match', 'soon', 'lost', 'first', 'set', 'lost', 'belief', 'obvious', 'felt', 'like', 'mountain', 'climb', 'lose', 'first', 'play', 'pretti', 'well', 'well', 'think', 'miss', 'mani', 'ball', 'either', 'wag', 'wimbledon', '<DATE>', 'wed', '<DATE>', 'celebr', 'wimbledon', '<DATE>', 'take', 'look', 'beauti', 'wag', 'player', 'compet', 'world', 'famou', 'tenni', 'match', 'play', 'slideshow', 'getti', '<NUM>', '<NUM>', 'andi', 'kim', 'murray', 'q', 'andi', 'obvious', 'qualiti', 'oppon', 'lesson', 'take', 'play', 'grand', 'slam', 'nk', 'littl', 'soft', 'still', 'think', 'thing', 'get', 'tough', 'littl', 'bit', 'soft', 'mean', 'got', 'experi', 'ultim', 'come', 'lay', 'compet', 'long', 'time', 'today', 'q', 'bbc', 'say', 'might', 'need', 'take', 'thing', 'serious', 'match', 'like', 'feel', 'like', 'nk', 'know', 'said', 'get', 'q', 'much', 'feel', 'first', 'week', 'took', 'toll', 'mental', 'physic', 'factor', 'today', 'nk', 'think', 'yeah', 'mean', 'actual', 'feel', 'littl', 'tire', 'mean', 'lot', 'player', 'posit', 'q', 'said', 'lost', 'belief', 'lost', 'first', 'set', 'switch', 'flick', 'thought', 'gone', 'nk', 'kind', 'guess', 'yeah', 'getti', 'kyrgio', 'hope', 'murray', 'goe', 'win', 'second', 'wimbledon', 'titl', 'q', 'think', 'andi', 'win', 'tournament', 'nk', 'hope', 'hope', 'definit', 'think', 'definit', 'got', 'great', 'chanc', 'q', 'john', 'mcenro', 'say', 'thought', 'abil', 'win', 'multipl', 'grand', 'slam', 'feel', 'crossroad', 'get', 'coach', 'reaction', 'nk', 'know', 'q', 'obvious', 'fantast', 'talent', 'greatli', 'entertain', 'think', 'appli', 'gut', 'heart', 'becom', 'best', 'pro', 'nk', 'q', 'someth', 'want', 'address', 'chang', 'nk', 'know', 'wimbledon', '<DATE>', 'sun', '<DATE>', 'world', 'famou', 'wimbledon', 'championship', '<DATE>', 'play', 'slideshow', 'getti', '<NUM>', '<NUM>', 'andi', 'murray', 'kiss', 'championship', 'trophi', 'follow', 'win', 'milo', 'raonic', 'canada', 'men', 'singl', 'final', 'wimbledon', 'championship', 'q', 'enjoy', 'sport', 'someth', 'realli', 'love', 'enjoy', 'find', 'frustrat', 'enjoy', 'nk', 'yeah', 'mean', 'time', 'like', 'previous', 'said', 'love', 'sport', 'know', 'realli', 'know', 'els', 'without', 'obvious', 'like', 'play', 'game', 'massiv', 'part', 'life', 'yeah', 'know', 'whether', 'realli', 'know', 'q', 'think', 'prepar', 'spend', 'lot', 'time', 'court', '<NUM>', 'watch', 'lleyton', 'think', 'someth', 'els', 'nk', 'whether', 'locker', 'room', 'sit', 'sit', 'next', 'court', 'think', 'realli', 'made', 'differ', 'q', 'feel', 'like', 'crossroad', 'today', 'go', 'go', 'one', 'way', 'career', 'nk', 'mean', 'q', 'either', 'go', 'learn', 'becom', 'better', 'player', 'said', 'love', 'game', 'might', 'walk', 'away', 'sort', 'level', 'nk', 'walk', 'away', 'q', 'tenni', 'career', 'nk', 'lost', 'fourth', 'round', 'lose', 'qualifi', 'feel', 'like', 'right', 'laughter', 'diabol', 'question', 'twitter', 'kyrgio', 'warm', 'clash', 'murray', 'watch', 'compatriot', 'lleyton', 'hewitt', 'q', 'time', 'andi', 'earli', 'career', 'cramp', 'difficulti', 'game', 'enjoy', 'time', 'worth', 'time', 'speak', 'make', 'fun', 'tough', 'journey', 'seem', 'like', 'enjoy', 'nk', 'yeah', 'could', 'talk', 'probabl', 'next', 'coupl', 'day', 'though', 'q', 'day', 'say', 'us', 'basic', 'give', 'break', 'believ', 'go', 'make', 'kind', 'effect', 'help', 'difficult', 'moment', 'sound', 'like', 'pretti', 'much', 'corner', 'nk', 'mean', 'realli', 'understand', 'question', 'ask', 'q', 'hear', 'someon', 'like', 'andi', 'say', 'corner', 'abl', 'make', 'help', 'nk', 'help', 'sure', 'one', 'greatest', 'player', 'play', 'game', 'mean', 'know', 'talent', 'good', 'thing', 'yeah', 'q', 'said', 'ask', 'put', 'everyth', 'thing', 'might', 'chang', 'piqu', 'interest', 'give', 'bigger', 'drive', 'nk', 'know', 'honest', 'woke', 'morn', 'play', 'comput', 'game', 'greatest', 'prepar', 'know', 'fun', 'q', 'said', 'see', 'life', 'len', 'nba', 'golden', 'state', 'warrior', 'pick', 'kevin', 'durant', 'nk', 'disgrac', 'joke', 'watch', 'nba', 'q', 'andi', 'spent', 'longer', 'end', 'match', 'normal', 'say', 'nk', 'said', 'sorri', 'said', 'okay', 'win', 'tournament', 'pleas', 'hug', 'q', 'see', 'guy', 'like', 'milo', 'raonic', 'go', 'mcenro', 'marin', 'cilic', 'go', 'goran', 'ivanisev', 'say', 'want', 'coach', 'nk', 'know', 'like', 'one', 'week', 'pretti', 'motiv', 'train', 'play', 'realli', 'look', 'forward', 'get', 'one', 'week', 'anyth', 'realli', 'know', 'coach', 'would', 'pretti', 'one', 'q', 'bad', 'loss', 'seem', 'pretti', 'wonder', 'disappoint', 'come', 'nk', 'bad', 'loss', 'know', 'record', '<NUM>', '<NUM>', 'think', 'everi', 'time', 'come', 'lose', 'good', 'player', 'disappoint', 'know', 'want', 'better', 'getti', 'kyrgio', 'beat', 'dustin', 'brown', 'feliciano', 'lopez', 'reach', 'murray']"
        ],
        [
         "28",
         "fake",
         "['<NUM>', 'year', 'old', 'discuss', 'michael', 'phelp', 'partak', 'shark', 'race', 'challeng', 'accident', 'muddl', 'word', 'began', 'world', 'decor', 'swinger', 'mean', 'swimmer', 'sorri', 'everyon', 'meant', 'happen', 'know', 'noth', 'meant', 'say', 'swimmer', 'charlott', 'blush', 'co', 'present', 'kate', 'garraway', 'ranvir', 'singh', 'hold', 'back', 'laughter', 'incred', 'unfortun', 'gaff', 'latter', 'joke', 'think', 'need', 'swim', 'fast', 'one']"
        ],
        [
         "29",
         "reliable",
         "['<NUM>', 'k', 'share', 'share', 'stori', 'presid', 'trump', 'long', 'hard', 'first', 'week', 'sign', 'multipl', 'execut', 'order', 'everi', 'day', 'bout', 'watch', 'fox', 'news', 'casual', 'threaten', 'impos', 'martial', 'law', 'citi', 'chicago', 'quit', 'busi', 'trampl', 'valu', 'found', 'nation', 'liberti', 'make', 'us', 'stress', 'new', 'presid', 'decid', 'take', 'vacat', 'time', 'per', 'newsweek', 'kurt', 'eichenwald', 'new', 'york', 'time', 'maggi', 'haberman', 'trump', 'schedul', 'vacat', 'time', 'weekend', 'palm', 'beach', 'fine', 'conserv', 'start', 'scream', 'work', 'kurt', 'eichenwald', 'kurteichenwald', '<DATE>', 'sure', 'recal', 'conserv', 'threw', 'verit', 'tantrum', 'time', 'presid', 'obama', 'ever', 'took', 'time', 'play', 'round', 'golf', 'let', 'alon', 'go', 'vacat', 'trump', 'campaign', 'trail', 'complain', 'fox', 'greta', 'van', 'sustern', 'much', 'vacat', 'time', 'presid', 'obama', 'took', 'well', 'fact', 'take', 'vacat', 'human', 'ever', 'seen', 'use', 'complain', 'georg', 'bush', 'understand', 'alreadi', 'exceed', 'georg', 'bush', 'even', 'year', 'like', 'vacat', 'well', 'mean', 'send', 'bad', 'messag', 'countri', 'realli', 'go', 'hell', 'handbasket', 'let', 'kid', 'happen', 'countri', 'horribl', 'world', 'talk', 'presid', 'constantli', 'whether', 'martha', 'vineyard', 'someplac', 'els', 'constantli', 'vacat', 'mean', 'time', 'vacat', 'think', 'send', 'bad', 'messag', 'work', 'countri', 'bring', 'back', 'nation', 'actual', 'go', 'hell', 'handbasket', 'thank', 'trump', 'unquest', 'willing', 'sign', 'anyth', 'neo', 'nazi', 'stephen', 'bannon', 'put', 'hand', 'trump', 'decid', 'enough', 'presid', 'thing', 'would', 'rather', 'jet', 'mansion', 'away', 'hater', 'loser', 'play', 'golf', 'trump', 'held', 'us', 'would', 'consid', 'real', 'job', 'fifteen', 'year', 'extrem', 'unlik', 'ever', 'work', 'hard', 'anyth', 'place', 'demand', 'job', 'world', 'alreadi', 'prove', 'unfit', 'offic', 'download', 'new', 'occupi', 'democrat', 'app', 'iphon', 'click', 'android', 'click', 'add', 'name', 'million', 'demand', 'congress', 'take', 'action', 'presid', 'crime', 'impeach', 'donald', 'trump']"
        ],
        [
         "30",
         "reliable",
         "['photo', 'david', 'hay', 'set', 'bar', 'high', 'mann', 'orchestra', 'monday', 'even', 'led', 'student', 'ensembl', 'pair', 'hefti', 'concentr', 'differ', 'sacr', 'work', 'carnegi', 'hall', 'messiaen', 'ascens', 'quatr', 'méditat', 'symphoniqu', 'mendelssohn', 'lobgesang', 'op', '<NUM>', 'took', 'player', 'moment', 'settl', 'piec', 'produc', 'robust', 'unifi', 'sound', 'reflect', 'almost', 'ecstat', 'devot', 'messiaen', 'mendelssohn', 'embrac', 'score', 'composit', 'deserv', 'heard', 'often', 'would', 'probabl', 'still', 'wait', 'list', 'messiaen', 'centenari', 'year', 'mendelssohn', 'bicentenni', 'next', 'year', 'movement', 'messiaen', 'exquisit', 'mystic', 'work', 'prayer', 'speak', 'accent', 'timbr', 'open', 'majesté', 'du', 'christ', 'demand', 'sa', 'gloir', 'à', 'son', 'père', 'exampl', 'brass', 'choral', 'couch', 'mild', 'disson', 'make', 'sound', 'otherworldli', 'acerb', 'contrast', 'strikingli', 'exot', 'modal', 'theme', 'birdcal', 'woodwind', 'domin', 'second', 'movement', 'alléluia', 'serein', 'une', 'âme', 'qui', 'désire', 'le', 'ciel', 'balanc', 'shift', 'partway', 'back', 'brass', 'third', 'movement', 'toward', 'string', 'write', 'begin', 'allur', 'misti', 'build', 'toward', 'irresist', 'intens', 'final', 'page', 'advertis', 'continu', 'read', 'main', 'stori', 'arriv', 'work', 'spirit', 'intact', 'requir', 'taut', 'conduct', 'alert', 'focus', 'play', 'mr', 'hay', 'musician', 'deliv', 'mendelssohn', 'need', 'quit', 'differ', 'full', 'throttl', 'romant', 'choral', 'symphoni', 'debt', 'beethoven', 'ninth', 'symphoni', 'obviou', 'move', 'differ', 'direct', 'well', 'starter', 'beethoven', 'creat', 'larg', 'secular', 'universalist', 'encomium', 'mendelssohn', 'lobgesang', 'hymn', 'prais', 'draw', 'mostli', 'biblic', 'text', 'essenti', 'vast', 'psalm', 'long', 'lush', 'orchestr', 'prefac']"
        ],
        [
         "31",
         "fake",
         "['marc', 'faber', 'us', 'economi', 'polit', 'near', 'collaps', 'reader', 'think', 'stori', 'fact', 'add', 'two', 'cent', 'news', 'marc', 'faber', 'us', 'economi', 'politica', 'near', 'collaps', 'dollar', 'currenc', 'presid', 'usa', 'money', 'marc', 'faber', 'intern', 'investor', 'known', 'uncanni', 'predict', 'stock', 'market', 'futur', 'market', 'around', '<URL>', 'doom', 'also', 'trade', 'currenc', 'commod', 'content', 'summari', 'pleas', 'visit', '<URL>', 'marc', 'faber', 'blog', 'http', 'faber', '<URL>', 'full', 'stori', '>>>>', 'sourc', '<URL>']"
        ],
        [
         "32",
         "reliable",
         "['ze', 'ev', 'begin', 'son', 'menachem', 'begin', 'nice', 'human', 'imposs', 'like', 'well', 'brought', 'polit', 'modest', 'kind', 'person', 'one', 'would', 'like', 'friend', 'unfortun', 'polit', 'view', 'far', 'less', 'likabl', 'much', 'extrem', 'even', 'act', 'father', 'father', 'lead', 'irgun', 'sat', 'made', 'peac', 'anwar', 'al', 'sadat', 'egypt', 'ze', 'ev', 'closer', 'golda', 'ir', 'ignor', 'sadat', 'peac', 'overtur', 'led', 'us', 'disastr', 'yom', 'kippur', 'war', 'begin', 'jr', 'strict', 'follow', 'revisionist', 'zionist', 'creed', 'found', 'vladimir', 'ze', 'ev', 'jabotinski', 'one', 'characterist', 'movement', 'alway', 'import', 'gave', 'written', 'text', 'declar', 'labor', 'movement', 'head', 'david', 'ben', 'gurion', 'give', 'damn', 'word', 'declar', 'respect', 'fact', 'ground', 'last', 'week', 'ze', 'ev', 'begin', 'wrote', 'one', 'rare', 'articl', 'main', 'purpos', 'prove', 'peac', 'palestinian', 'imposs', 'pipe', 'dream', 'isra', 'peac', 'lover', 'haaretz', '<NUM>', 'quot', 'numer', 'palestinian', 'text', 'speech', 'even', 'schoolbook', 'begin', 'show', 'palestinian', 'never', 'never', 'never', 'give', 'right', 'return', 'sinc', 'return', 'would', 'entail', 'end', 'jewish', 'state', 'begin', 'assert', 'peac', 'pipe', 'dream', 'never', 'peac', 'end', 'stori', 'similar', 'point', 'made', 'anoth', 'profound', 'thinker', 'alexand', 'jakobson', 'anoth', 'import', 'articl', 'haaretz', '<NUM>', 'direct', 'person', 'headlin', 'assert', 'true', 'israel', 'truth', 'accus', 'toler', 'toward', 'bd', 'movement', 'put', 'end', 'israel', 'know', 'simpl', 'bd', 'confirm', 'palestinian', 'right', 'return', 'everybodi', 'know', 'mean', 'destruct', 'jewish', 'state', 'well', 'actual', 'object', 'bd', 'sever', 'reason', 'movement', 'belong', 'gush', 'shalom', 'first', '<DATE>', 'declar', 'boycott', 'settlement', 'aim', 'separ', 'isra', 'peopl', 'settlement', 'bd', 'boycott', 'divest', 'sanction', 'movement', 'boycot', 'israel', 'achiev', 'opposit', 'effect', 'push', 'isra', 'peopl', 'arm', 'settler', 'also', 'like', 'call', 'peopl', 'boycott', 'point', 'bd', 'platform', 'one', 'bother', 'least', 'demand', 'state', 'israel', 'recogn', 'palestinian', 'right', 'return', 'simpli', 'ridicul', 'thousand', 'year', 'bd', 'compel', 'israel', 'bother', 'let', 'us', 'first', 'throw', 'light', 'issu', 'british', 'withdrew', 'palestin', '<DATE>', 'countri', 'mediterranean', 'jordan', '<NUM>', 'million', 'arab', '<NUM>', 'jew', 'end', 'war', 'ensu', '<NUM>', 'arab', 'fled', 'driven', 'war', 'later', 'call', 'ethnic', 'cleans', 'arab', 'left', 'territori', 'conquer', 'jewish', 'arm', 'rememb', 'jew', 'left', 'territori', 'conquer', 'arab', 'arm', 'fortun', 'side', 'arab', 'succeed', 'occupi', 'small', 'slice', 'land', 'inhabit', 'jew', 'etzion', 'bloc', 'east', 'jerusalem', 'et', 'al', 'side', 'conquer', 'larg', 'inhabit', 'territori', 'combat', 'soldier', 'saw', 'eye', 'arab', 'refuge', 'multipli', 'natur', 'increas', 'today', 'number', '<NUM>', 'million', '<NUM>', 'million', 'live', 'occupi', 'west', 'bank', 'million', 'gaza', 'strip', 'rest', 'dispers', 'jordan', 'lebanon', 'syria', 'world', 'would', 'come', 'back', 'given', 'opportun', 'let', 'us', 'consid', 'year', 'ago', 'uniqu', 'experi', 'invit', 'give', 'lectur', 'new', 'york', 'pleasant', 'surpris', 'front', 'row', 'saw', 'good', 'friend', 'mine', 'young', 'arab', 'poet', 'rashid', 'hussein', 'rashid', 'born', 'villag', 'near', 'nazareth', 'beg', 'come', 'visit', 'new', 'jersey', 'apart', 'arriv', 'flabbergast', 'small', 'apart', 'crowd', 'peopl', 'palestinian', 'refuge', 'kind', 'young', 'old', 'men', 'women', 'long', 'extrem', 'emot', 'discuss', 'refuge', 'issu', 'drove', 'home', 'told', 'wife', 'know', 'felt', 'realli', 'care', 'return', 'readi', 'die', 'right', 'return', 'rachel', 'keen', 'observ', 'repli', 'impress', 'today', 'dozen', 'year', 'later', 'convinc', 'basic', 'truth', 'still', 'valid', 'huge', 'differ', 'principl', 'implement', 'principl', 'cannot', 'deni', 'belong', 'individu', 'refuge', 'safeguard', 'intern', 'law', 'sacr', 'futur', 'peac', 'treati', 'state', 'israel', 'state', 'palestin', 'includ', 'paragraph', 'say', 'israel', 'affirm', 'principl', 'right', 'return', 'palestinian', 'refuge', 'descend', 'palestinian', 'leader', 'could', 'possibl', 'sign', 'treati', 'includ', 'claus', 'obstacl', 'remov', 'tabl', 'real', 'discuss', 'solut', 'start', 'imagin', 'scene', 'agreement', 'reach', 'peac', 'confer', 'chairperson', 'take', 'deep', 'breath', 'say', 'friend', 'let', 'get', 'real', 'issu', 'shall', 'solv', 'refuge', 'problem', 'practic', 'six', 'million', 'palestinian', 'refuge', 'constitut', 'six', 'million', 'individu', 'situat', 'mani', 'categori', 'refuge', 'singl', 'solut', 'appli', 'mani', 'refuge', 'perhap', 'last', '<NUM>', 'year', 'built', 'new', 'life', 'anoth', 'countri', 'right', 'return', 'well', 'principl', 'would', 'dream', 'go', 'back', 'ancestr', 'villag', 'even', 'still', 'well', 'rich', 'rich', 'one', 'richest', 'friend', 'may', 'call', 'salman', 'abu', 'sitta', 'start', 'life', 'barefoot', 'boy', 'negev', 'fled', '<DATE>', 'famili', 'gaza', 'later', 'becam', 'immens', 'success', 'contractor', 'britain', 'gulf', 'met', 'peac', 'confer', 'long', 'emot', 'privat', 'dinner', 'afterward', 'agre', 'abu', 'sitta', 'insist', 'refuge', 'must', 'allow', 'return', 'israel', 'even', 'settl', 'negev', 'desert', 'see', 'practic', 'logic', 'hundr', 'discuss', 'solut', 'palestinian', 'yasser', 'arafat', 'peopl', 'refuge', 'camp', 'great', 'major', 'nowaday', 'would', 'sign', 'formula', 'seek', 'agre', 'solut', 'refuge', 'problem', 'agre', 'includ', 'israel', 'formula', 'appear', 'arab', 'peac', 'plan', 'devis', 'saudi', 'arabia', 'offici', 'accept', 'entir', 'muslim', 'world', 'would', 'look', 'practic', 'mean', 'everi', 'refuge', 'famili', 'would', 'offer', 'choic', 'actual', 'return', 'adequ', 'compens', 'return', 'extraordinari', 'instanc', 'origin', 'villag', 'still', 'stand', 'empti', 'imagin', 'symbol', 'reconstruct', 'villag', 'say', 'two', 'three', 'former', 'inhabit', 'agre', 'number', 'must', 'allow', 'return', 'territori', 'israel', 'especi', 'rel', 'help', 'strike', 'root', 'hard', 'thing', 'isra', 'swallow', 'hard', 'israel', 'alreadi', '<NUM>', 'million', 'arab', 'citizen', '<NUM>', 'popul', 'anoth', 'say', 'quarter', 'million', 'would', 'make', 'real', 'differ', 'other', 'would', 'paid', 'gener', 'compens', 'could', 'use', 'consolid', 'live', 'emigr', 'place', 'like', 'australia', 'canada', 'would', 'gladli', 'receiv', 'money', '<NUM>', 'million', 'refuge', 'live', 'west', 'bank', 'gaza', 'anoth', 'larg', 'number', 'live', 'jordan', 'jordanian', 'citizen', 'still', 'live', 'refuge', 'camp', 'compens', 'would', 'welcom', 'money', 'come', 'israel', 'must', 'pay', 'share', 'time', 'reduc', 'huge', 'militari', 'budget', 'world', 'organ', 'contribut', 'larg', 'part', 'feasibl', 'ye', 'dare', 'say', 'atmospher', 'right', 'even', 'probabl', 'contrari', 'begin', 'belief', 'text', 'written', 'today', 'demagogu', 'serv', 'today', 'purpos', 'process', 'start', 'roll', 'solut', 'like', 'less', 'almost', 'unavoid', 'let', 'forget', 'moment', 'refuge', 'human', 'be', 'top', 'photo', '|', 'palestinian', 'refuge', 'mahmoud', 'al', 'amer', '<NUM>', 'walk', 'past', 'mural', 'west', 'bank', 'refuge', 'camp', 'jenin', 'monday', '<DATE>', 'arab', 'mural', 'read', 'must', 'never', 'forget', 'return', 'sacr', 'right', 'ap', 'moham', 'balla', 'uri', 'avneri', 'peac', 'activist', 'journalist', 'writer', 'former', 'member', 'isra', 'knesset', 'read', 'articl', 'uri', 'visit', 'uri', 'websit', '©', '<URL>']"
        ],
        [
         "33",
         "reliable",
         "['kid', 'right', 'presid', 'donald', 'trump', 'poll', 'releas', 'tuesday', 'institut', 'polit', 'harvard', 'univers', 'kennedi', 'school', 'found', '<NUM>', 'percent', 'american', 'age', '<NUM>', '<NUM>', 'said', 'approv']"
        ],
        [
         "34",
         "fake",
         "['make', 'fun', 'hillari', 'reader', 'think', 'stori', 'fact', 'add', 'two', 'cent', 'news', 'jeff', 'dunham', 'know', 'comedian', 'make', 'fun', 'shrillari', 'wise', 'tell', 'us', 'friend', 'tri', 'tell', 'us', 'instead', 'tip', 'conserv', 'seattl', 'sourc', '<URL>']"
        ],
        [
         "35",
         "reliable",
         "['yesterday', 'feder', 'judg', 'michigan', 'issu', 'sweep', 'rebuk', 'secret', 'domest', 'surveil', 'effort', 'white', 'hous', 'author', 'follow', 'terrorist', 'attack', '<DATE>', 'rule', 'signific', 'blow', 'bush', 'attempt', 'expand', 'presidenti', 'power', 'know', 'watch', 'last', 'even', 'network', 'newscast', 'three', 'major', 'tv', 'network', 'led', 'even', 'news', 'stori', 'jonbenet', 'ramsey', 'death', 'comment', 'made', 'arrest', 'teacher', 'john', 'mark', 'karr', 'network', 'offer', 'multipl', 'segment', 'numer', 'expert', 'analys', 'provid', 'depth', 'coverag', 'legal', 'case', 'nsa', 'decis', 'receiv', 'pass', 'mention', 'two', 'newscast', 'abc', 'devot', 'full', 'segment', 'still', 'abc', 'devot', 'twice', 'much', 'time', 'ramsey', 'nsa', 'stori', 'egregi', 'cb', 'offer', 'seven', 'time', 'much', 'airtim', 'ramsey', 'nsa', 'stori', 'nbc', 'devot', '<NUM>', 'time', 'airtim', 'comparison', 'alloc', 'time', 'made', 'network', 'networkramsey', 'segmentnsa', 'segmentnbc', '<NUM>', '<NUM>', '<NUM>', 'cb', '<NUM>', '<NUM>', '<NUM>', 'abc', '<NUM>', '<NUM>', '<NUM>', 'cb', 'host', 'bob', 'schieffer', 'wrap', 'ramsey', 'segment', 'reassur', 'audienc', 'stay', 'case', 'sure', 'updat', 'jeff', 'cohen', 'offer', 'explan', 'tv', 'newscast', 'focus', 'ramsey', 'case']"
        ],
        [
         "36",
         "fake",
         "['louisiana', 'show', 'trademark', 'joie', 'de', 'vivr', 'news', 'img', 'src=', '<URL>', 'width=', '<NUM>', 'style=', 'float', 'left', 'margin', 'right', '<NUM>', 'px', '>', 'despit', 'slow', 'motion', 'disast', 'oil', 'spill', 'gulf', 'mexico', 'peopl', 'louisiana', 'took', 'moment', 'celebr', 'life', 'weekend', 'call', 'earli', 'father', 'day', 'present', 'br', '>', 'br', 'execut', 'chef', 'matt', 'murphi', 'ritz', 'carlton', 'ill', 'coma', 'last', 'june', 'recipi', 'fundrais', 'held', '<NUM>', 'fellow', 'chef', 'year', 'repay', 'organ', 'chef', 'give', 'big', 'parti', 'peopl', 'grand', 'isl', 'br', '>', 'br', 'mayor', 'grand', 'isl', 'david', 'camardel', 'spoke', 'last', 'week', 'congression', 'hear', 'spill', 'br', '>', 'br', 'said', 'go', 'continu', 'feed', 'peopl', 'need', 'help', 'like', 'war', 'frontlin', 'chef', 'intend', 'help', 'meant', 'first', 'mani', 'event', 'give', 'respit', 'peopl', 'gulf', 'coast', 'br', '>', 'br', 'nola', 'chef', 'fishermen', 'famili', 'gave', 'free', 'food', 'island', 'town', 'papa', 'tom', 'bonnecaz', 'serv', 'jambalaya', 'susan', 'cowsil', 'play', 'music', 'peopl', 'age', 'danc', 'br', '>', 'br', 'irvin', 'mayfield', 'playhous', 'review', 'mark', 'adam', 'miller', 'donat', 'music', 'br', '>', 'br', 'snobal', 'babi', 'donat', 'signatur', 'local', 'treat', 'ice', 'cone', 'drizzl', 'flavor', 'br', '>', 'br', 'region', 'famou', 'food', 'music', 'enjoy', 'life', 'accord', 'chef', 'want', 'bring', 'peopl', 'commun', 'togeth', 'day', 'rest', 'free', 'food', 'group', 'motto', 'live', 'eat', 'accord', 'press', 'releas', 'read', 'origin', 'stori', 'epoch', 'time']"
        ],
        [
         "37",
         "fake",
         "['getti', 'number', 'crop', 'eat', 'diamondback', 'moth', 'could', 'explod', 'summer', 'expert', 'warn', 'potenti', 'explos', 'number', 'insect', 'except', 'high', 'number', 'moth', 'arriv', 'uk', 'diamondback', 'moth', 'plutella', 'xylostella', 'blown', 'long', 'distanc', 'wind', 'consid', 'super', 'pest', 'resist', 'insecticid', 'centimetr', 'long', 'caterpillar', 'caus', 'loss', 'grower', 'research', 'say', 'weather', 'warm', 'suitabl', 'breed', 'could', 'explos', 'number', 'end', 'season', 'summer', 'weather', 'warm', 'favour', 'reproduct', 'moth', 'could', 'see', 'explos', 'number', 'end', 'season', 'chri', 'shortal', 'say', 'know', 'exactli', 'moth', 'come', 'could', 'eastern', 'europ', 'russia', 'chri', 'shortal', 'research', 'scientist', 'co', 'ordin', 'rothamst', 'light', 'trap', 'network', 'hertfordshir', 'said', 'seen', 'higher', 'usual', 'number', 'moth', 'trap', 'research', 'centr', 'onlin', 'report', 'high', 'incid', 'diamondback', 'said', 'normal', 'gather', 'data', 'end', 'year', 'volunt', 'run', 'light', 'trap', 'around', 'countri', 'basi', 'report', 'contact', 'ask', 'provid', 'data', 'far', 'report', 'much', 'higher', 'number', 'usual', 'light', 'trap', 'rothamst', 'seen', 'two', 'night', 'number', 'diamondback', 'moth', 'usual', 'record', 'year', 'reflect', 'elsewher', 'network', 'concern', 'cabbag', 'cauliflow', 'grower', 'want', 'inform', 'relev', 'organis', 'grower', 'earli', 'possibl', 'summer', 'weather', 'warm', 'favour', 'reproduct', 'moth', 'could', 'see', 'explos', 'number', 'end', 'season', 'accord', 'long', 'stand', 'annual', 'record', 'rothamst', 'insect', 'survey', 'number', 'report', 'far', 'except', 'high', 'similar', 'level', 'seen', '<DATE>', 'pa', 'diamondback', 'moth', 'consid', 'super', 'pest', 'getti', 'expert', 'hope', 'record', 'number', 'diamondback', 'moth', 'caterpillar', 'hatch', 'site', 'eastern', 'england', 'channel', 'island', 'report', 'around', '<NUM>', 'time', 'normal', 'yearli', 'total', 'period', 'night', '<NUM>', 'report', 'three', 'even', 'trap', 'berkshir', '<NUM>', 'one', 'night', 'guernsey', 'diamondback', 'moth', 'also', 'found', 'larg', 'number', 'trap', 'sampl', 'cabbag', 'field', 'kirton', 'lincolnshir', 'wellesbourn', 'warwickshir', 'expert', 'said', 'scientist', 'examin', 'moth', 'see', 'resist', 'pesticid', 'find', 'way', 'tackl', 'dr', 'steve', 'foster', 'senior', 'scientist', 'rothamst', 'research', 'said', 'aim', 'studi', 'moth', 'immigr', 'current', 'uk', 'identifi', 'whether', 'resist', 'avail', 'insecticid', 'look', 'potenti', 'manag', 'method', 'pa', 'research', 'scientist', 'chri', 'shortal', 'said', 'seen', 'higher', 'number', 'usual', 'could', 'take', 'week', 'urg', 'grower', 'speak', 'authoris', 'advis', 'spray', 'crop', 'said', 'expert', 'would', 'provid', 'scientif', 'inform', 'becam', 'avail', 'mark', 'parson', 'head', 'moth', 'conserv', 'butterfli', 'conserv', 'said', 'recent', 'migrat', 'diamondback', 'moth', 'like', 'due', 'follow', 'wind', 'breed', 'ground', 'unusu', 'larg', 'number', 'complet', 'unexpect', 'uk', 'said', 'occasion', 'minor', 'pest', 'countri', 'brassica', 'possibl', 'given', 'number', 'year', 'may', 'prove', 'bit', 'nuisanc', 'know', 'week', 'caterpillar', 'hatch', 'creatur', 'great', 'small', 'tue', '<DATE>', 'macro', 'look', 'world', 'interest', 'beauti', 'insect', 'play', 'slideshow', 'cater', 'news', 'agenc', '<NUM>', '<NUM>', 'photograph', 'colour', 'peacock', 'spider']"
        ],
        [
         "38",
         "fake",
         "['info', 'giant', 'hole', 'open', 'yamal', '<NUM>', 'share', 'share', 'tweet', 'google+', 'mail', 'reddit', 'buffer', 'pocket', 'pinterest', 'delici', 'tumblr', 'skype', 'print', 'rt', 'mysteri', 'giant', 'crater', 'discov', 'remot', 'part', 'siberia', 'dub', 'local', 'end', 'world', 'puzzl', 'scientist', 'urgent', 'expedit', 'sent', 'far', 'northern', 'peninsula', 'tri', 'solv', 'mysteri', 'team', 'arriv', 'wednesday', 'survey', 'seemingli', 'bottomless', 'pit', 'locat', 'one', 'russia', 'northernmost', 'point', 'latitud', 'closer', 'greenland', 'canada', 'hole', '<NUM>', 'meter', 'wide', 'appar', 'extrem', 'thermal', 'event', 'contribut', 'format', 'accord', 'scarc', 'detail', 'glean', 'video', 'footag', 'rossiyskaya', 'gazeta', 'report', 'footag', 'start', 'make', 'round', 'media', 'scientif', 'commun', 'woke', 'possibl', 'survey', 'origin', 'crater', 'believ', 'form', 'two', 'year', 'ago', 'one', 'know', 'serious', 'find', 'evidenc', 'russia', 'emerg', 'ministri', 'present', 'among', 'expedit', 'russian', 'academi', 'scienc', 'also', 'board', 'plan', 'take', 'sampl', 'soil', 'air', 'water', 'area', 'big', 'enough', 'fit', 'sever', 'mi', '<NUM>', 'helicopt', 'yamal', 'peninsula', 'spooki', 'hole', 'locat', 'far', 'northern', 'russian', 'stepp', 'precis', 'locat', 'crater', '<NUM>', 'km', 'ga', 'field', 'bovanenkovo', 'whole', 'area', 'within', 'russia', 'key', 'strateg', 'oil', 'ga', 'region', 'yamalo', 'nenet', 'autonom', 'okrug', '<NUM>', 'km', 'area', 'huge', 'stretch', 'ancient', 'permafrost', 'otherwis', 'known', 'varieti', 'anim', 'speci', 'renown', 'archaeolog', 'goldmin', 'wooli', 'mammoth', 'skeleton', 'discov', 'absurd', 'theori', 'hole', 'origin', 'readili', 'dismiss', 'chief', 'among', 'caus', 'ufo', 'other', 'see', 'potenti', 'relationship', 'global', 'warm', 'believ', 'salt', 'ga', 'mix', 'underground', 'caus', 'subterranean', 'explos', 'one', 'thing', 'everyon', 'agre', 'soil', 'found', 'around', 'crater', 'thrown', 'ask', 'possibl', 'hole', 'caus', 'meteorit', 'spokesman', 'yamal', 'branch', 'emerg', 'ministri', 'said', 'definit', 'say', 'meteorit', 'detail', 'yet', 'theori', 'ignit', 'underground', 'ga', 'posit', 'ice', 'sand', 'help', 'ga', 'accumul', 'time', 'mix', 'salt', 'explos', 'took', 'place', 'reason', 'theori', 'sometim', 'around', 'last', 'ice', 'age', '<NUM>', 'year', 'ago', 'area', 'still', 'sea', 'accord', 'sub', 'arctic', 'scientif', 'research', 'center', 'anna', 'kurchatova', 'global', 'warm', 'happen', 'permafrost', 'begin', 'melt', 'larg', 'deposit', 'natur', 'ga', 'releas', 'may', 'led', 'effect', 'similar', 'pop', 'open', 'bottl', 'much', 'remain', 'hidden', 'mysteri', 'crater', 'research', 'come', 'back', 'answer', 'someth', 'take', 'away', 'mysteri', 'slightli', 'might', 'natur', 'occur', 'quit', 'bore', 'phenomenon', 'occurr', 'like', 'noth', 'new', 'yamal', 'spokesman', 'governor', 'offic', 'told', 'interfax', 'ural', 'happen', 'last', 'year', 'well', 'two', 'year', 'ago', 'earth', 'ice', 'behav', 'unpredict', 'underwat', 'river', 'might', 'move', 'soil', 'ad', 'explain', 'process', 'repeat', 'time', 'surfac', 'melt', 'freez', 'emerg', 'speak', 'spokesman', 'flat', 'reject', 'meteor', 'theori', 'said', 'investig', 'area', 'yield', 'inform', 'sourc', 'rt', 'relat']"
        ],
        [
         "39",
         "fake",
         "['ukrainian', 'troop', 'resum', 'shell', 'eastern', 'ukrainian', 'citi', 'slaviansk', 'local', 'citizen', 'told', 'ria', 'novosti', 'friday', 'donetsk', '<DATE>', 'ria', 'novosti', 'ukrainian', 'troop', 'resum', 'shell', 'eastern', 'ukrainian', 'citi', 'slaviansk', 'local', 'citizen', 'told', 'ria', 'novosti', 'friday', 'shell', 'resid', 'say', 'especi', 'sever', 'friday', 'target', 'citi', 'center', 'main', 'self', 'defens', 'forc', 'base', 'attack', 'come', 'day', 'helicopt', 'carri', '<NUM>', 'ukrainian', 'servicemen', 'shot', 'slaviansk', 'unconfirm', 'report', 'said', 'second', 'helicopt', 'down', 'area', 'thursday', 'escap', 'violenc', '<NUM>', 'children', 'troubl', 'slaviansk', 'donetsk', 'region', 'sent', 'late', 'thursday', 'artek', 'intern', 'children', 'center', 'crimean', 'peninsula', 'local', 'author', 'said', 'children', 'expect', 'spend', 'least', '<NUM>', 'day', 'camp', 'parent', 'remain', 'citi', 'maintain', 'contact', 'leader', 'group', 'trip', 'financ', 'russian', 'sponsor', 'crimean', 'author', 'anoth', 'group', 'around', '<NUM>', 'children', 'due', 'evacu', 'neighbor', 'sviatohirsk', 'situat', 'calm', 'also', 'citi', 'donetsk', 'odessa', 'region', 'arm', 'clash', 'slaviansk', 'home', 'total', '<NUM>', 'pre', 'school', 'children', 'children', 'age', '<NUM>', '<NUM>', 'year', 'accord', 'citi', 'depart', 'famili', 'youth', 'affair', 'mid', 'april', 'ukrain', 'interim', 'govern', 'launch', 'special', 'oper', 'crack', 'federalist', 'fail', 'gain', 'control', 'self', 'proclaim', 'independ', 'republ', 'eastern', 'part', 'countri', 'oper', 'led', 'violent', 'clash', 'dozen', 'casualti', 'slaviansk', 'kramatorsk', 'mariupol', '<NUM>', 'peopl', 'kill', '<NUM>', 'injur', 'odessa', 'local', 'lawmak', 'say', 'total', '<NUM>', 'could', 'die', 'tragedi', 'moscow', 'describ', 'oper', 'punit', 'act']"
        ],
        [
         "40",
         "reliable",
         "['marc', 'jacob', 'celebr', 'impend', 'nuptial', 'lorenzo', 'marton', 'public', 'juergen', 'teller', 'marc', 'jacob', 'advertis', '<DATE>', '<DATE>', '<CUR>', '<NUM>', 'steidl', 'mark', 'one', 'longest', 'stand', 'creativ', 'union', 'fashion', '<NUM>', 'year', 'mr', 'teller', 'mr', 'jacob', 'collabor', 'advertis', 'design', 'namesak', 'collect', 'usual', 'dazzlingli', 'subvers', 'effect', 'mr', 'teller', 'nake', 'bed', 'charlott', 'rampl', 'tween', 'age', 'dakota', 'fan', 'strike', 'disturbingli', 'adult', 'pose', 'winona', 'ryder', 'shop', 'bag', 'teller', 'photo', 'met', 'opprobrium', 'featur', 'makeup', 'maestro', 'dick', 'page', 'lover', 'jame', 'gibb', 'men', 'vogu', 'even', 'refus', 'publish', 'mr', 'teller', 'recal', 'want', 'ad', 'like', 'romant', 'tender', 'sweet', 'certainli', 'want', 'anyth', 'provoc', 'controversi', 'come', 'mind', 'ad', 'cloth', 'cindi', 'sherman', 'grab', 'breast', 'caus', 'stir', 'go', 'figur', 'horacio', 'silva', 'right', 'kristen', 'mcmenami', 'photograph', '<DATE>', 'marc', 'jacob', 'ad', 'campaign', 'photo', 'photograph', 'juergen', 'teller']"
        ],
        [
         "41",
         "reliable",
         "['conserv', 'complaint', 'concern', 'start', 'treati', 'verif', 'measur', 'similar', 'afghanistan', 'ignor', 'issu', 'last', 'decad', 'conserv', 'suddenli', 'gung', 'ho', 'heritag', 'confer', 'tuesday', 'start', 'panelist', 'panelist', 'warn', 'danger', 'happen', 'treati', 'expir', '<DATE>', 'key', 'concern', 'panelist', 'facil', 'votkinsk', 'accord', 'washington', 'time', 'stori', 'vacat', 'us', 'monitor', 'saturday', 'leav', 'key', 'nuclear', 'facil', 'unobserv', 'timothi', 'morrison', 'sen', 'jon', 'kyl', 'r', 'az', 'foreign', 'polici', 'aid', 'sound', 'alarm', 'present', 'heritag', 'head', '<DATE>', 'real', 'idea', 'world', 'look', 'like', '<DATE>', 'yet', 'jeffrey', 'lewi', 'arm', 'control', 'wonk', 'assess', 'washington', 'time', 'piec', 'note', 'stori', 'actual', 'contain', 'nugget', 'implic', 'bush', 'administr', 'close', 'votkinsk', 'facil', 'paula', 'desutt', 'assist', 'secretari', 'state', 'verif', 'complianc', 'implement', 'bush', 'administr', 'quot', 'stori', 'say', 'need', 'entir', 'verif', 'regim', 'start', 'lewi', 'note', 'stori', 'confirm', 'rumor', 'bush', 'administr', 'end', 'monitor', 'key', 'graf', 'confirm', 'rumor', 'bush', 'administr', 'made', 'concess', 'russia', 'end', 'monitor', 'votkinsk', '<DATE>', 'accord', 'lewi', 'tri', 'place', 'blame', 'obama', 'administr', 'desutt', 'suggest', 'obama', 'administr', 'could', 'ad', 'monitor', 'back', 'want', 'lewi', 'note', 'ridicul', 'mere', 'ad', 'floor', 'intern', 'negoti', 'take', 'place', 'countri', 'start', 'talk', 'bush', 'russia', 'obama', 'russia', 'unit', 'state', 'russia', 'bush', 'agre', 'bind', 'us', 'posit', 'obama', 'administr', 'simpli', 'undu', 'agre', 'word', 'washington', 'time', 'stori', 'confirm', 'reason', 'monitor', 'end', 'votkinsk', 'bush', 'administr', 'lock', 'obama', 'administr', 'give', 'russian', 'demand', 'obama', 'administr', 'care', 'verif', 'bungl', 'negoti', 'conserv', 'suggest', 'obama', 'administr', 'like', 'almost', 'everi', 'issu', 'inherit', 'bum', 'hand', 'bush', 'administr', 'start']"
        ],
        [
         "42",
         "fake",
         "['turkish', 'mp', 'samil', 'tayyar', 'said', 'want', 'anoth', 'russian', 'jet', 'samil', 'tayyar', 'made', 'offens', 'remark', 'refer', 'ankara', 'shoot', 'russian', 'warplan', 'syria', 'spark', 'furiou', 'intern', 'stand', 'two', 'countri', 'russian', 'jet', 'pilot', 'marin', 'sent', 'part', 'helicopt', 'rescu', 'crew', 'locat', 'wreckag', 'kill', 'incid', 'took', 'place', 'novemb', 'last', 'year', 'advertis', 'mp', 'tweet', 'messag', 'may', 'intend', 'sick', 'joke', 'moscow', 'base', 'basketbal', 'team', 'cska', 'beat', 'side', 'fenerbahc', 'tight', 'encount', 'russian', 'beat', 'turkish', 'rival', '<NUM>', '<NUM>', 'extra', 'time', 'sunday', 'scoop', 'seventh', 'crown', 'biggest', 'game', 'european', 'basketbal', 'getti', 'turkey', 'shot', 'russian', 'jet', 'last', 'novemb', 'getti', 'incid', 'spark', 'major', 'war', 'word', 'russia', 'turkey', 'advertis', 'mr', 'tayyar', 'infuri', 'result', 'match', 'part', 'pan', 'european', 'friendli', 'competit', 'propos', 'militari', 'respons', 'retali', 'write', 'turkish', 'post', 'want', 'shoot', 'one', 'russian', 'jet', 'turkey', 'russia', 'involv', 'war', 'word', 'ever', 'sinc', 'ankara', 'down', 'su', '<NUM>', 'combat', 'jet', 'syria', '<DATE>', 'last', 'year', 'moscow', 'say', 'jet', 'carri', 'anti', 'terrorist', 'oper', 'target', 'turkish', 'f', '<NUM>', '<NUM>', 'mile', 'south', 'countri', 'southern', 'border']"
        ],
        [
         "43",
         "reliable",
         "['well', 'accord', 'one', 'side', 'stori', 'yesterday', 'brought', 'stori', 'woman', 'tweet', 'run', 'driver', 'car', 'servic', 'uber', 'woman', 'claim', 'driver', 'grab', 'throat', 'kiss', 'white', 'husband', 'woman', 'tweet', 'protect', 'today', 'twitchi', 'receiv', 'email', 'uber', 'repres', 'offer', 'driver', 'side', 'stori', 'letter', 'thought', 'might', 'interest', 'partner', 'driver', 'account', 'saturday', 'event', 'well', 'pick', 'uber', 'user', 'bridget', 'along', 'two', 'rider', 'man', 'woman', '<NUM>', 'u', 'street', 'nw', 'user', 'highli', 'intox', 'start', 'trip', 'throw', 'empti', 'beer', 'vehicl', 'got', 'insid', 'purs', 'said', 'beer', 'leak', 'purs', 'explain', 'could', 'get', 'citat', 'alcohol', 'vehicl', 'state', 'worri', 'would', 'pay', 'also', 'express', 'concern', 'beer', 'leak', 'vehicl', 'make', 'mess', 'trip', 'continu', 'user', 'convers', 'two', 'peopl', 'vehicl', 'woman', 'remark', 'drunk', 'bridget', 'drop', 'one', 'person', 'woman', 'continu', 'user', 'began', 'make', 'male', 'friend', 'bother', 'except', 'shoe', 'dug', 'seat', 'ask', 'nice', 'could', 'take', 'shoe', 'seat', 'compli', 'two', 'minut', 'later', 'feet', 'seat', 'turn', 'complet', 'backward', 'lap', 'straddl', 'face', 'forward', 'said', 'ask', 'place', 'feet', 'seat', 'pleas', 'take', 'feet', 'seat', 'user', 'began', 'curs', 'said', 'work', 'among', 'thing', 'ask', 'stop', 'vehicl', 'could', 'get', 'said', 'gladli', 'pull', 'got', 'use', 'hand', 'slam', 'car', 'door', 'great', 'forc', 'exit', 'vehicl', 'assess', 'damag', 'door', 'seat', 'continu', 'curs', 'rant', 'rage', 'toward', 'threaten', 'manner', 'hit', 'tri', 'one', 'point', 'knock', 'drive', 'hat', 'push', 'away', 'continu', 'come', 'forward', 'curs', 'friend', 'tri', 'hold', 'back', 'hard', 'time', 'point', 'polic', 'woman', 'came', 'user', 'calm', 'offic', 'spoke', 'parti', 'report', 'made', 'damag', 'notic', 'bridget', 'man', 'walk', 'destin', 'side', 'stori']"
        ],
        [
         "44",
         "reliable",
         "['shia', 'labeouf', 'might', 'thought', 'life', 'hit', 'rock', 'bottom', 'wore', 'paper', 'bag', 'head', 'red', 'carpet', 'time', 'chase', 'homeless', 'guy', 'street', 'new', 'york', 'also', 'could', 'time', 'spit', 'cop', 'arrest', 'shia', 'labeouf', 'rest', 'easi', 'know', 'truli', 'hit', 'rock', 'bottom', '<NUM>', 'year', 'old', 'littl', 'girl', 'go', 'around', 'tell', 'peopl', 'smell', 'bad', 'like', 'realli', 'realli', 'bad', 'maddi', 'ziegler', '<NUM>', 'year', 'old', 'danc', 'mom', 'recent', 'shot', 'music', 'video', 'sia', 'elast', 'heart', 'labeouf', 'recent', 'interview', 'abl', 'talk', 'bad', 'smell', 'like', 'sorri', 'kind', 'dirti', 'ziegler', 'told', 'entertain', 'tonight', 'realli', 'bite', 'shia', 'gross', 'dirti', 'bite', 'dirti', 'hand', 'ziegler', 'said', 'kept', 'wipe', 'kept', 'hand', 'wipe', 'shia', 'like', 'need', 'wipe', 'like', 'ye', 'brought', 'perfum', 'everyth', 'want', 'smell', 'like', 'oh', 'total', 'fine', 'care', 'howev', 'final', 'listen', 'littl', 'kid', 'wash', 'damn', 'hand', 'go', 'preteen', 'scold', 'shia', 'relat', 'shia', 'labeouf', 'arrest', 'stori', 'insan', 'watch', 'follow', 'kaitlan', 'twitter']"
        ],
        [
         "45",
         "reliable",
         "['epstein', 'charlott', 'belov', 'wife', 'max', 'epstein', 'love', 'mother', 'dr', 'stephen', 'epstein', 'ellen', 'mark', 'ador', 'grandmoth', 'deborah', 'andrew', 'gigi', 'carri', 'rebecca', 'devot', 'greatgrandmoth', 'sophi', 'sasha', 'adam', 'gabriel', 'robin', 'rachel', 'fiona', 'isabella', 'noah', 'servic', 'riversid', 'memori', 'chapel', '<NUM>', '<NUM>', 'sunday', '<DATE>', '<NUM>', 'st', 'amsterdam', 'avenu', 'lieu', 'flower', 'contribut', 'may', 'made', 'alzheim', 'foundat']"
        ],
        [
         "46",
         "reliable",
         "['unfortun', 'ceo', 'detroit', 'automak', 'spreadsheet', 'engin', 'unabl', 'imagin', 'much', 'anyth', 'beyond', 'compens', 'packag', 'certainli', 'lightweight', 'chassi', 'better', 'engin', 'diesel', 'ceo', 'recent', 'request', 'held', '<NUM>', 'mpg', 'increas', '<DATE>', 'show', 'will', 'ignor', 'progress', 'engin', 'real', 'engin', 'discuss', 'hypercar', 'engin', 'regard', 'recept', 'detroit', 'often', 'refer', 'idea', 'automak', 'incap', 'consist', 'innov', 'profession', 'view', 'person', 'experi', 'design', 'yf', '<NUM>', 'notabl', 'project', 'creat', 'hypercar', 'concept', 'detroit', 'busi', 'model', 'reli', 'engin', 'tie', 'account', 'vision', 'automak', 'rather', 'undertak', 'wild', 'flight', 'fanci', 'regular', 'basi', 'past', 'invest', 'dictat', 'engin', 'creat', 'spreadsheet', 'car', 'spreadsheet', 'vehicl', 'design', 'pick', 'part', 'number', 'alreadi', 'produc', 'compon', 'tier', '<NUM>', 'supplier', 'wrap', 'sheet', 'metal', 'wonder', 'vehicl', 'look', 'hypercar', 'real', 'engin', 'detroit', 'repackag', 'compon', 'creat', 'vehicl', 'like', 'ford', 'expedit', 'engin', 'bring', 'success', 'european', 'diesel', 'engin', 'design', 'instead', 'told', 'account', 'dividend', 'paid', 'invest', 'could', 'take', 'place', 'cannot', 'let', 'bailout', 'becom', 'greatest', 'success', 'detroit', 'spreadsheet', 'compani', 'must', 'healthi', 'oper', 'need', 'use', 'public', 'fund', 'mere', 'strengthen', 'balanc', 'sheet', 'ultim', 'good', 'invest', 'make', 'compani', 'benefit', 'privat', 'sharehold', 'public', 'equal', 'regard', 'assuag', 'immedi', 'concern', 'bailout', 'program', 'must', 'simpli', 'offer', 'band', 'aid', 'rather', 'establish', 'confid', 'american', 'industri', 'balanc', 'nation', 'energi', 'futur', 'mind', 'propos', 'follow', 'must', 'repeat', 'mistak', 'last', '<NUM>', 'year', 'automak', 'must', 'held', 'clearli', 'defin', 'goal', 'audit', 'research', 'invest', 'govern', 'attempt', 'secur', 'public', 'stake', 'compani', 'via', 'sharehold', 'rather', 'ensur', 'public', 'benefit', 'energi', 'effici', 'vehicl', 'road', '<NUM>', 'mpg', 'requir', 'must', 'move', '<DATE>', 'greater', 'emphasi', 'place', 'zev', 'ulev', 'design', 'adopt', 'california', 'regul', 'nation', 'level', 'within', '<NUM>', 'year', 'research', 'develop', 'r', 'cooper', 'compani', 'lead', 'public', 'standard', 'element', 'hydrogen', 'tank', 'design', 'compon', 'new', 'technolog', 'allow', 'economi', 'scale', 'design', 'product', 'invest', 'decis', 'made', 'board', 'compos', '<NUM>', '<NUM>', 'engin', 'profession', 'qualif', 'involv', 'automot', 'compani', 'pledg', 'match', 'research', 'fund', 'govern', 'shall', 'repres', 'agenc', 'repres', 'e', 'g', 'epa', 'public', 'univers', 'post', 'graduat', 'program', 'public', 'fund', 'use', 'underwrit', 'research', 'effort', 'must', 'dictat', 'progress', 'public', 'domain', 'avail', 'american', 'corpor', 'size', 'term', 'patent', 'royalti', 'shall', 'paid', 'public', 'bodi', 'repay', 'taxpay', 'invest', 'european', 'diesel', 'design', 'shall', 'grant', 'epa', 'emiss', 'waiver', 'period', '<NUM>', 'year', 'import', 'foreign', 'brand', 'shall', 'limit', '<NUM>', '<NUM>', 'ratio', 'domest', 'brand', 'ansari', 'x', 'prize', 'program', 'sort', 'propos', 'sen', 'john', 'mccain', 'creat', 'howev', 'rather', 'grand', 'prize', 'cash', 'reward', 'prize', 'ought', 'product', 'win', 'vehicl', 'technolog', 'concept', 'inclus', 'larger', 'bailout', 'program', 'thought', 'begin', 'program', 'emphas', 'account', 'even', 'real', 'engin', 'risk', 'taken', 'public', 'invest', 'dollar', 'demand', 'revolutionari', 'progress', 'dicat', 'convent', 'think', 'toss', 'th', 'window', 'close', 'would', 'appreci', 'receiv', 'repli', 'would', 'even', 'delight', 'real', 'program', 'ensur', 'america', 'energi', 'futur', 'much', 'detroit', 'auto', 'industri', 'updat', 'record', 'vw', '<NUM>', 'l', '<NUM>', 'mpg', 'enter', 'product', '<DATE>', 'look', 'domest', 'car', 'convent', 'design', 'see', '<NUM>', 'mpg', 'ev', 'aptera', 'cynic', 'want', 'laugh', 'popular', 'mechan', 'hypermil', 'mad', 'other', 'buy', 'vw', 'jetta', 'diesel', '<NUM>', '+', 'mpg', 'w', '<NUM>', 'hp', '<NUM>', 'ft', 'lb', 'torqu', 'btw', 'lift', 'car', 'door', 'frame', '<NUM>', 'finger', 'admir', 'sleek', 'line', 'full', 'size', 'frame', 'mockup', 'hypercar', 'real', '<DATE>', 'unfortun', 'hypercar', 'would', 'devalu', 'mani', 'car', 'compani', 'invest', 'sheet', 'metal', 'iron', 'block', '<NUM>', 'speed', 'tranni', 'live', 'non', 'hypercar', 'histori', 'think', 'live']"
        ],
        [
         "47",
         "reliable",
         "['one', 'worst', 'argument', 'heard', 'use', 'argu', 'support', 'person', 'time', 'first', 'woman', 'presid', 'ration', 'argument', 'peopl', 'hear', 'argu', 'purpos', 'equal', 'represent', 'other', 'say', 'would', 'anoth', 'step', 'toward', 'move', 'away', 'sexism', 'exist', 'cultur', 'long', 'tire', 'men', 'charg', 'leav', 'time', 'ration', 'abl', 'justifi', 'time', 'argument', 'would', 'ration', 'work', 'hillari', 'drop', 'race', 'today', 'woman', 'left', 'fill', 'time', 'argument', 'fiorina', 'would', 'argument', 'ration', 'use', 'support', 'bachmann', '<DATE>', 'palin', 'vp', '<DATE>', 'would', 'certainli', 'hope', 'women', 'inde', 'women', 'definit', 'hold', 'mani', 'woman', 'friendli', 'posit', 'point', 'gender', 'higher', 'prioriti', 'presidenti', 'candid', 'polici', 'even', 'equal', 'problem', 'among', 'peopl', 'make', 'argument', 'vote', 'anti', 'feminist', 'woman', 'person', 'make', 'argument', 'idea', 'elect', 'anti', 'feminist', 'woman', 'bother', 'ask', 'make', 'argument', 'anymor', 'clearli', 'put', 'valu', 'polici', 'gender', 'argument', 'put', 'forth', 'idea', 'priorit', 'gender', 'polici', 'make', 'argument', 'gender', 'consid', 'look', 'potenti', 'nomine', 'lead', 'nation', 'even', 'though', 'person', 'buy', 'idea', 'gender', 'make', 'us', 'differ', 'simpli', 'say', 'primari', 'consider', 'possibl', 'even', 'secondari', 'one', 'mind', 'polit', 'past', 'domest', 'polici', 'matter', 'first', 'foremost', 'foreign', 'polici', 'secondari', 'thing', 'like', 'religion', 'gender', 'sexual', 'orient', 'hair', 'eye', 'color', 'etc', 'tertiari', 'concern', 'end', 'rant']"
        ],
        [
         "48",
         "fake",
         "['gunner', 'age', 'old', 'problem', 'defenc', 'midfield', 'expos', 'lost', '<NUM>', '<NUM>', 'home', 'manchest', 'unit', 'saturday', 'arsen', 'wenger', 'expect', 'hand', '<CUR>', '<NUM>', 'transfer', 'kitti', 'januari', 'cri', 'new', 'centr', 'back', 'hold', 'midfield', 'though', 'jack', 'wilsher', 'call', 'play', 'deep', 'lie', 'role', 'carragh', 'believ', 'calum', 'chamber', 'best', 'equip', 'fill', 'posit', 'carragh', 'also', 'accus', 'gunner', 'naiv', 'back', 'arsen', 'clash', 'unit', 'serv', 'qualiti', 'hope', 'still', 'intrigu', 'game', 'carragh', 'told', 'daili', 'mail', 'arsen', 'feel', 'perform', 'deserv', 'better', 'mani', 'time', 'go', 'lose', 'goal', 'attack', 'posit']"
        ],
        [
         "49",
         "reliable",
         "['time', 'cnn', 'poll', 'surpris', 'one', 'bit', 'noth', 'popular', 'contest', 'popular', 'republican', 'unpopular', 'democrat', 'despit', 'bushbot', 'viagra', 'swiller', 'make', 'good', 'news', 'republican', 'absolut', 'noth', 'real', 'mood', 'nation', 'end', 'make', 'dime', 'worth', 'differ', 'anyway', 'hillari', 'definit', 'go', 'democrat', 'nomine', 'rudi', 'probabl', 'go', 'republican', 'nomine', 'mark', 'south', 'carolina', 'goe', 'go', 'nomin', 'hillari', 'come', 'third', 'fourth', 'iowa', 'new', 'hampshir', 'obama', 'edward', 'other', 'richardson', 'gore', 'clark', 'finish', 'south', 'carolina', 'bob', 'jone', 'crowd', 'run', 'guliani', 'town', 'rail', 'like', 'rovian', 'mccain', '<DATE>', 'go', 'ahead', 'msm', 'keep', 'poll', 'pontif', 'huf', 'puf', 'whatev', 'els', 'make', 'feel', 'import', 'would', 'bet', 'farm', 'one', 'get', 'right']"
        ]
       ],
       "shape": {
        "columns": 2,
        "rows": 573040
       }
      },
      "text/html": [
       "<div>\n",
       "<style scoped>\n",
       "    .dataframe tbody tr th:only-of-type {\n",
       "        vertical-align: middle;\n",
       "    }\n",
       "\n",
       "    .dataframe tbody tr th {\n",
       "        vertical-align: top;\n",
       "    }\n",
       "\n",
       "    .dataframe thead th {\n",
       "        text-align: right;\n",
       "    }\n",
       "</style>\n",
       "<table border=\"1\" class=\"dataframe\">\n",
       "  <thead>\n",
       "    <tr style=\"text-align: right;\">\n",
       "      <th></th>\n",
       "      <th>type</th>\n",
       "      <th>cleaned content</th>\n",
       "    </tr>\n",
       "  </thead>\n",
       "  <tbody>\n",
       "    <tr>\n",
       "      <th>0</th>\n",
       "      <td>reliable</td>\n",
       "      <td>['publish', '&lt;DATE&gt;', '&lt;URL&gt;', 'trump', 'organ...</td>\n",
       "    </tr>\n",
       "    <tr>\n",
       "      <th>1</th>\n",
       "      <td>reliable</td>\n",
       "      <td>['bear', 'still', 'forc', 'worri', 'consum', '...</td>\n",
       "    </tr>\n",
       "    <tr>\n",
       "      <th>2</th>\n",
       "      <td>fake</td>\n",
       "      <td>['exit', 'poll', 'german', 'region', 'elect', ...</td>\n",
       "    </tr>\n",
       "    <tr>\n",
       "      <th>3</th>\n",
       "      <td>reliable</td>\n",
       "      <td>['photo', 'noah', 'feldman', 'highli', 'person...</td>\n",
       "    </tr>\n",
       "    <tr>\n",
       "      <th>4</th>\n",
       "      <td>fake</td>\n",
       "      <td>['refocu', 'note', 'read', 'stori', 'may', 'wo...</td>\n",
       "    </tr>\n",
       "    <tr>\n",
       "      <th>...</th>\n",
       "      <td>...</td>\n",
       "      <td>...</td>\n",
       "    </tr>\n",
       "    <tr>\n",
       "      <th>573035</th>\n",
       "      <td>reliable</td>\n",
       "      <td>['editor', 'dr', 'paulina', 'kernberg', 'state...</td>\n",
       "    </tr>\n",
       "    <tr>\n",
       "      <th>573036</th>\n",
       "      <td>reliable</td>\n",
       "      <td>['suggest', '&lt;NUM&gt;', 'tri', 'funni', 'pointer'...</td>\n",
       "    </tr>\n",
       "    <tr>\n",
       "      <th>573037</th>\n",
       "      <td>fake</td>\n",
       "      <td>['nation', 'id', 'resist', 'timothi', 'n', 'ba...</td>\n",
       "    </tr>\n",
       "    <tr>\n",
       "      <th>573038</th>\n",
       "      <td>fake</td>\n",
       "      <td>['reader', 'suggest', 'berni', 'madoff', 'must...</td>\n",
       "    </tr>\n",
       "    <tr>\n",
       "      <th>573039</th>\n",
       "      <td>reliable</td>\n",
       "      <td>['close', 'imag', '&lt;NUM&gt;', '&lt;NUM&gt;', 'indian', ...</td>\n",
       "    </tr>\n",
       "  </tbody>\n",
       "</table>\n",
       "<p>573040 rows × 2 columns</p>\n",
       "</div>"
      ],
      "text/plain": [
       "            type                                    cleaned content\n",
       "0       reliable  ['publish', '<DATE>', '<URL>', 'trump', 'organ...\n",
       "1       reliable  ['bear', 'still', 'forc', 'worri', 'consum', '...\n",
       "2           fake  ['exit', 'poll', 'german', 'region', 'elect', ...\n",
       "3       reliable  ['photo', 'noah', 'feldman', 'highli', 'person...\n",
       "4           fake  ['refocu', 'note', 'read', 'stori', 'may', 'wo...\n",
       "...          ...                                                ...\n",
       "573035  reliable  ['editor', 'dr', 'paulina', 'kernberg', 'state...\n",
       "573036  reliable  ['suggest', '<NUM>', 'tri', 'funni', 'pointer'...\n",
       "573037      fake  ['nation', 'id', 'resist', 'timothi', 'n', 'ba...\n",
       "573038      fake  ['reader', 'suggest', 'berni', 'madoff', 'must...\n",
       "573039  reliable  ['close', 'imag', '<NUM>', '<NUM>', 'indian', ...\n",
       "\n",
       "[573040 rows x 2 columns]"
      ]
     },
     "execution_count": 1,
     "metadata": {},
     "output_type": "execute_result"
    }
   ],
   "source": [
    "import pandas as pd\n",
    "\n",
    "Training_Data = pd.read_csv('../Data/Training_dataset.csv', usecols=['type', 'cleaned content'])\n",
    "Test_Data = pd.read_csv('../Data/Validation_dataset.csv', usecols=['type', 'cleaned content']) # her menes validation men skrives test ¯\\_(ツ)_/¯\n",
    "\n",
    "Training_Data"
   ]
  },
  {
   "cell_type": "markdown",
   "metadata": {},
   "source": [
    "Det fås at ud fra denne klasse fordeling, er datasættet praktisk talt balanceret (48% vs 52%).\n",
    "\n",
    "Nu omskriver jeg de indlæste datasæt til variablerne jeg vil bruge (altså en anden form):"
   ]
  },
  {
   "cell_type": "code",
   "execution_count": 2,
   "metadata": {},
   "outputs": [
    {
     "data": {
      "application/vnd.microsoft.datawrangler.viewer.v0+json": {
       "columns": [
        {
         "name": "index",
         "rawType": "int64",
         "type": "integer"
        },
        {
         "name": "X",
         "rawType": "object",
         "type": "string"
        },
        {
         "name": "Y",
         "rawType": "object",
         "type": "string"
        }
       ],
       "conversionMethod": "pd.DataFrame",
       "ref": "5ec38a4d-9332-4820-8f34-985a8a89c460",
       "rows": [
        [
         "0",
         "['publish', '<DATE>', '<URL>', 'trump', 'organ', 'execut', 'vice', 'presid', 'eric', 'trump', 'said', 'wednesday', 'night', 'idea', 'presidenti', 'candid', 'fbi', 'investig', 'unthink', 'mani', 'problem', 'nation', 'last', 'thing', 'need', 'distract', 'trump', 'told', 'fox', 'news', 'sean', 'hanniti', 'hanniti', 'eric', 'trump', 'second', 'son', 'republican', 'presidenti', 'candid', 'donald', 'trump', 'ad', 'releas', 'hack', 'email', 'wikileak', 'expos', 'corrupt', 'govern', 'truli', 'see', 'game', 'go', 'see', 'donna', 'brazil', 'give', 'hillari', 'clinton', 'debat', 'question', 'see', 'peopl', 'behind', 'scene', 'make', 'fun', 'christian', 'evangel', 'trump', 'said', 'see', 'presid', 'email', 'back', 'forth', 'privat', 'server', 'hillari', 'cover', 'up', 'realli', 'see', 'corrupt', 'clinton', 'campaign', 'trump', 'also', 'said', 'hack', 'email', 'expos', 'lack', 'attent', 'cybersecur', 'u', 'govern', 'cybersecur', 'someth', 'plagu', 'everi', 'singl', 'major', 'compani', 'see', 'hit', 'home', 'depot', 'see', 'hit', 'target', 'trump', 'said', 'first', 'time', 'presid', 'ever', 'talk', 'cyber', 'secur', 'dnc', 'hack', 'find', 'deplor']",
         "reliable"
        ],
        [
         "1",
         "['bear', 'still', 'forc', 'worri', 'consum', 'trade', 'deficit', 'sharp', 'improv', 'econom', 'pictur', 'home', 'around', 'globe', 'caus', 'global', 'recess', 'domest', 'downturn', 'clear', 'ever', 'strengthen', 'dollar', 'deflat', 'high', 'real', 'interest', 'rate', 'opec', 'control', 'oil', 'price', 'record', 'tax', 'burden', 'drain', 'net', '<CUR>', '<NUM>', 'billion', '<NUM>', 'gdp', 'u', 'privat', 'sector', '<DATE>', 'form', 'fiscal', 'surplu', 'none', 'contractionari', 'forc', 'present', 'particular', 'oil', 'price', 'still', 'high', '<CUR>', '<NUM>', 'fall', 'fast', 'longer', 'appear', 'opec', 'control', 'meanwhil', 'real', 'interest', 'rate', 'neg', 'first', 'time', 'sinc', '<DATE>', 'much', 'pessim', 'today', 'backward', 'look', 'compar', 'economi', 'current', 'condit', 'bubbl', 'year', 'reach', 'grim', 'conclus', 'ye', '<NUM>', 'unemploy', 'rate', '<DATE>', 'radar', 'screen', '<NUM>', 'repeat', 'quarter', '<NUM>', 'growth', 'enjoy', '<DATE>', '<NUM>', 'period', 'nasdaq', '<NUM>', '<DATE>', 'dollar', 'price', 'euro', '<CUR>', '<NUM>', '<DATE>', 'sturdi', 'platform', 'econom', 'growth', 'dollar', 'pro', 'growth', 'level', 'interest', 'rate', 'low', 'inventori', 'level', 'employ', 'high', 'histor', 'standard', 'suffici', 'allow', 'continu', 'growth', 'consum', 'spend', 'corpor', 'profit', 'rise', 'keep', 'hear', 'neg', 'thing', 'bad', 'closer', 'analysi', 'recent', 'data', 'show', '<NUM>', 'job', 'lost', 'march', 'ye', 'current', 'level', 'u', 'employ', 'million', 'half', 'higher', '<DATE>', 'averag', 'financi', 'sector', 'employ', 'hit', 'record', '<NUM>', 'million', 'march', '<NUM>', '<NUM>', 'million', 'begin', 'recess', '<DATE>', 'consum', 'debt', 'reach', 'record', 'level', '<CUR>', '<NUM>', 'trillion', 'ye', 'person', 'incom', 'hit', 'new', 'record', 'februari', '<CUR>', '<NUM>', 'trillion', 'argu', 'consum', 'resili', 'consum', 'asset', 'hold', '<CUR>', '<NUM>', 'trillion', 'u', 'current', 'account', 'deficit', '<NUM>', 'gdp', 'record', 'territori', 'ye', 'u', 'econom', 'growth', 'well', 'trade', 'partner', 'invest', 'come', 'u', 'dwarf', 'invest', 'countri', 'u', 'fiscal', 'deficit', 'may', 'top', '<CUR>', '<NUM>', 'billion', 'fiscal', 'year', '<DATE>', 'end', 'septemb', 'ye', '<NUM>', 'gdp', 'well', '<DATE>', 'peak', '<NUM>', 'gdp', 'debt', 'gdp', 'ratio', '<NUM>', 'well', '<NUM>', 'record', '<DATE>', 'given', 'low', 'interest', 'rate', 'cost', 'servic', 'u', 'govern', 'debt', 'also', 'steadi', 'rel', 'budget', 'gdp', 'today', 'econom', 'outlook', 'modest', 'histor', 'standard', 'yet', 'well', 'prevail', 'pessim', 'american', 'expect', 'gradual', 'increas', 'u', 'growth', 'rate', '<NUM>', 'year', 'year', 'fourth', 'quarter', '<DATE>', '<NUM>', 'second', 'half', '<DATE>', 'job', 'growth', 'late', '<DATE>', 'push', 'u', 'employ', 'new', 'record', '<DATE>', 'corpor', 'earn', 'rise', 'well', 'u', 'nomin', 'growth', 'rate', 'though', 'nowher', 'close', 'bubbl', 'year', 'real', 'short', 'term', 'interest', 'rate', 'deepli', 'neg', 'arguabl', 'next', 'feder', 'reserv', 'rate', 'chang', 'increas', 'cut', 'posit', 'sign', 'econom', 'direct', 'time', 'set', 'bearish', 'worri', 'asid', 'focu', 'today', 'posit', 'appropri', 'econom', 'theme', 'u', 'economi', 'fragil', 'iraq', 'remain', 'key', 'variabl', 'repric', 'market', 'econom', 'outlook', 'dollar', 'level', 'stop', 'deflat', 'start', 'reflat', 'growth', 'acceler', 'tax', 'cut', 'move', 'center', 'stage', 'washington', 'last', 'point', 'risk', 'much', 'stimulu', 'today', 'presid', 'growth', 'packag', 'offer', 'countri', 'econom', 'insur', 'need', 'mr', 'malpass', 'chief', 'global', 'economist', 'bear', 'stearn']",
         "reliable"
        ],
        [
         "2",
         "['exit', 'poll', 'german', 'region', 'elect', 'show', 'signific', 'success', 'right', 'wing', 'afd', 'parti', 'receiv', 'enough', 'vote', 'get', 'three', 'state', 'legislatur', 'merkel', 'conserv', 'cdu', 'parti', 'suffer', 'loss', 'two', 'three', 'state', 'elect', 'read', '<URL>', 'rt', 'live', '<URL>', 'subscrib', 'rt', '<URL>', 'like', 'us', 'facebook', '<URL>', 'follow', 'us', 'twitter', '<URL>', 'follow', 'us', 'instagram', '<URL>', 'follow', 'us', 'google+', '<URL>', 'listen', 'us', 'soundcloud', '<URL>', 'rt', 'russia', 'today', 'global', 'news', 'network', 'broadcast', 'moscow', 'washington', 'studio', 'rt', 'first', 'news', 'channel', 'break', '<NUM>', 'billion', 'youtub', 'view', 'benchmark']",
         "fake"
        ],
        [
         "3",
         "['photo', 'noah', 'feldman', 'highli', 'person', 'essay', 'rais', 'mani', 'issu', 'american', 'modern', 'orthodox', 'jewish', 'commun', 'grappl', 'seek', 'faith', 'ancient', 'tradit', 'engag', 'modern', 'world', '<DATE>', 'difficulti', 'challeng', 'make', 'person', 'choic', 'critic', 'mani', 'feldman', 'choic', 'disagre', 'feldman', 'choic', 'send', 'clear', 'signal', 'could', 'marriag', 'reject', 'fundament', 'principl', 'commun', 'express', 'surpris', 'reaction', 'commun', 'institut', 'includ', 'alma', 'mater', 'taught', 'principl', 'strain', 'credul', 'challeng', 'balanc', 'ancient', 'tradit', 'modern', 'time', 'demand', 'anyth', 'els', 'proper', 'perspect', 'compet', 'valu', 'feldman', 'refer', 'murder', 'goldstein', 'amir', 'point', 'happen', 'worst', 'case', 'one', 'lose', 'balanc', 'view', 'jewish', 'life', 'feldman', 'life', 'seem', 'testament', 'happen', 'one', 'lose', 'balanc', 'engag', 'modern', 'cultur', 'core', 'commit', 'orthodox', 'tradit', 'continu', 'mani', 'other', 'continu', 'maintain', 'digniti', 'much', 'fulfil', 'rabbi', 'dr', 'tzvi', 'hersh', 'weinreb', 'execut', 'vice', 'presid', 'orthodox', 'union', 'new', 'york', 'understand', 'passiv', 'aggress', 'behavior', 'demonstr', 'feldman', 'high', 'school', 'someth', 'said', 'event', 'instead', 'take', 'girlfriend', 'pictur', 'later', 'perhap', 'question', 'ethicist', 'certainli', 'seem', 'like', 'good', 'manner', 'advertis', 'continu', 'read', 'main', 'stori', 'arthur', 'goldgab', 'millburn', 'n', 'j', 'feldman', 'experi', 'class', 'reunion', 'modern', 'orthodox', 'yeshiva', 'might', 'unsettl', 'surpris', 'anyon', 'familiar', 'judaism', 'posit', 'intermarriag', 'fair', 'note', 'convers', 'judaism', 'option', 'coupl', 'one', 'jewish', 'offici', 'polici', 'modern', 'orthodox', 'commun', 'exclud', 'intermarri', 'coupl', 'photograph', 'cours', 'likelihood', 'repres', 'somewhat', 'zealou', 'approach', 'probabl', 'member', 'school', 'administr', 'believ', 'protect', 'yeshiva', 'reput', 'would', 'encourag', 'feldman', 'former', 'classmat', 'friend', 'mani', 'remain', 'modern', 'orthodox', 'might', 'endors', 'delet', 'wife', 'school', 'public', 'protest', 'polici', 'shun', 'graduat', 'wish', 'remain', 'somehow', 'connect', 'root']",
         "reliable"
        ],
        [
         "4",
         "['refocu', 'note', 'read', 'stori', 'may', 'wonder', 'end', 'exactli', 'central', 'tenet', 'stori', 'keyston', 'happen', 'one', 'thing', 'articl', 'deliber', 'avoid', 'fact']",
         "fake"
        ],
        [
         "5",
         "['freder', 'j', 'brown', '|', 'afp', '|', 'getti', 'imag', 'peopl', 'get', 'earli', 'start', 'black', 'friday', 'shop', 'deal', 'walmart', 'superstor', '<DATE>', 'rosemead', 'california', 'commentari', 'origin', 'ran', 'medium', 'time', 'year', 'known', 'blitz', 'shop', 'news', 'deal', 'trend', 'analysi', 'week', 'black', 'friday', 'foursquar', 'insight', 'expect', 'foot', 'traffic', 'store', 'visit', 'like', 'technolog', 'compani', 'understand', 'consum', 'physic', 'journey', 'uniqu', 'groundbreak', 'way', 'although', 'store', 'shop', 'declin', 'e', 'commerc', 'grow', 'wildli', 'nineti', 'percent', 'commerc', 'still', 'happen', 'real', 'world', 'locat', 'intellig', 'compani', 'deliv', 'best', 'class', 'consum', 'experi', 'foursquar', 'keep', 'million', 'phone', 'visit', 'mall', 'boutiqu', 'shop', 'big', 'box', 'chain', 'like', 'data', 'extrem', 'tight', 'correl', 'busi', 'result', 'proven', 'new', 'holiday', 'analysi', 'review', 'data', 'past', 'gift', 'season', 'understand', 'see', '<DATE>', 'headlin', 'overal', '<DATE>', 'black', 'friday', 'foot', 'traffic', '<NUM>', 'compar', 'last', 'year', 'dip', 'far', 'less', 'sever', 'year', 'year', 'drop', '<DATE>', '<DATE>', 'understand', 'area', 'soft', 'success', 'foursquar', 'data', 'scientist', 'look', 'specif', 'brand', 'categori', 'fare', 'cours', 'mani', 'factor', 'like', 'onlin', 'store', 'promot', 'unseason', 'warm', 'weather', 'elect', 'year', 'may', 'impact', 'perform', 'believ', 'analysi', 'strong', 'benchmark', 'retail', 'make', 'key', 'holiday', 'season', 'decis', 'ever', 'import', 'retail', 'understand', 'expect', 'optim', 'holiday', 'season', 'let', 'start', 'begin', 'lead', 'holiday', 'fade', 'black', 'friday', 'look', 'back', 'understand', 'black', 'friday', 'shop', 'perform', 'time', 'found', 'long', 'known', 'biggest', 'shop', 'day', 'year', 'well', '<DATE>', 'black', 'friday', 'saw', 'signific', 'decreas', 'foot', 'traffic', 'compar', 'year', 'instead', 'wildli', 'peak', 'black', 'friday', 'shop', 'season', 'flatten', 'bit', 'day', 'later', 'season', 'like', 'super', 'saturday', 'rise', 'popular', '<DATE>', 'black', 'friday', 'third', 'popular', 'shop', 'day', 'year', '<DATE>', 'rank', 'fifth', 'look', 'activ', 'lead', 'black', 'friday', 'particularli', '<DATE>', '<DATE>', 'assess', 'holiday', 'season', 'might', 'look', 'like', '<DATE>', '<DATE>', 'trendlin', 'reveal', 'year', 'retail', 'suffer', 'loss', 'lead', 'holiday', 'foot', 'traffic', 'septemb', '<DATE>', 'close', 'mirror', '<DATE>', 'although', 'slightli', 'foursquar', 'predict', 'hold', 'black', '<DATE>', 'whole', 'u', 'retail', 'expect', '<NUM>', 'drop', 'foot', 'traffic', 'last', 'year', 'factor', 'like', 'rise', 'wage', 'contribut', 'brighter', 'pictur', 'knew', 'certain', 'retail', 'categori', 'impact', 'differ', 'specif', 'uniqu', 'way', 'big', 'box', 'dollar', 'store', 'win', '<DATE>', 'big', 'box', 'store', 'experienc', 'rel', 'minor', 'year', 'year', 'dip', 'foot', 'traffic', 'compar', 'retail', 'overal', 'year', 'categori', 'see', 'foot', 'traffic', 'increas', 'look', 'ahead', 'black', 'friday', 'expect', 'categori', 'continu', 'outpac', 'retail', 'gener', 'see', 'increas', 'foot', 'traffic', '<NUM>', 'year', 'year', 'anoth', 'win', 'categori', 'discount', 'store', 'dollar', 'store', 'gain', 'foot', 'traffic', 'compar', 'last', 'year', 'histor', 'discount', 'store', 'seen', 'huge', 'black', 'friday', 'boost', 'gain', 'momentum', 'later', 'season', 'predict', 'fastest', 'grow', 'chain', 'categori', 'look', 'year', 'year', 'foot', 'traffic', 'perform', 'black', 'friday', 'big', 'lot', 'see', 'largest', 'spike', 'big', 'box', 'categori', 'black', '<DATE>', 'dollar', 'tree', 'leader', 'discount', 'categori', 'gain', 'even', 'pronounc', 'closer', 'christma', 'depart', 'store', 'put', 'glitz', 'fall', '<DATE>', 'countri', 'top', 'depart', 'store', 'chain', 'tough', 'season', 'show', 'even', 'bigger', 'loss', 'retail', 'industri', 'gener', 'black', 'friday', 'close', 'gap', 'signal', 'start', 'upward', 'trend', 'black', 'friday', 'christma', '<DATE>', 'depart', 'store', 'chain', 'regain', 'lost', 'ground', 'gap', 'narrow', 'black', 'friday', '<DATE>', 'basic', 'recoveri', 'holiday', 'blitz', 'look', 'year', 'see', 'septemb', 'octob', 'foot', 'traffic', 'depart', 'store', '<NUM>', 'doubl', 'drop', 'retail', 'gener', 'less', 'precipit', 'drop', 'saw', 'categori', '<DATE>', 'predict', 'black', '<DATE>', 'less', 'success', 'depart', 'store', 'rest', 'retail', 'industri', 'depart', 'store', 'make', 'signific', 'gain', 'later', 'season', 'perhap', 'even', 'pull', 'ahead', '<DATE>', 'foot', 'traffic', 'number', 'depart', 'store', 'chain', 'go', 'win', 'black', 'friday', 'largest', 'year', 'year', 'lift', 'foot', 'traffic', 'marshal', 'dillard', 'maci', 'amongst', 'luxuri', 'depart', 'store', 'lord', 'taylor', 'sak', 'fifth', 'avenu', 'neiman', 'marcu', 'six', 'brand', 'seen', 'stronger', 'foot', 'traffic', 'pattern', 'competitor', 'past', 'two', 'month', 'anticip', 'strong', 'year', 'year', 'perform', 'commentari', 'jeff', 'glueck', 'ceo', 'foursquar', 'former', 'ceo', 'skyfir', 'former', 'cmo', 'traveloc', 'co', 'founder', '<URL>', 'follow', 'twitter', 'jeffglueck', 'want', 'learn', 'foursquar', 'help', 'busi', 'visit', '<URL>', 'insight', 'cnbc', 'contributor', 'follow', 'cnbcopinion', 'twitter', 'methodolog', 'foursquar', 'analyz', 'foot', 'traffic', 'trail', '<NUM>', 'million', 'monthli', 'global', 'user', 'foursquar', 'citi', 'guid', 'foursquar', 'swarm', 'app', 'websit', 'peopl', 'use', 'explor', 'world', 'check', 'locat', 'base', 'app', 'help', 'us', 'understand', 'trend', 'notabl', 'shift', 'alway', 'anonym', 'aggreg', 'studi', 'analyz', 'statist', 'repres', 'portion', 'u', 'user', 'foursquar', 'normal', 'data', 'u', 'censu', 'data', 'ensur', 'panel', 'million', 'accur', 'match', 'u', 'popul', 'remov', 'age', 'gender', 'geograph', 'bia', 'foursquar', 'proprietari', 'understand', 'place', 'shape', 'abil', 'detect', 'mobil', 'phone', 'enter', 'exit', '<NUM>', 'million', 'busi', 'place', 'around', 'world', 'foundat', 'place', 'insight', 'product', 'analyst', 'market', 'analysi', 'foursquar', 'data', 'scientist', 'look', 'visit', 'includ', 'explicit', 'check', 'in', 'foursquar', 'swarm', 'passiv', 'visit', 'app', 'retail', 'store', 'u', 'well', 'specif', 'store', 'categori', 'includ', 'depart', 'store', 'big', 'box', 'store', 'discount', 'store', 'within', 'top', '<NUM>', 'u', 'chain', 'septemb', '<DATE>', '<DATE>', 'use', 'roll', '<NUM>', 'day', 'averag', 'elimin', 'daili', 'spike', 'identifi', 'clear', 'trend']",
         "reliable"
        ],
        [
         "6",
         "['militari', 'forc', 'unit', 'state', 'jordan', 'held', 'war', 'game', 'desert', 'area', 'near', 'syrian', 'border', 'persian', 'gulf', 'countri', 'jordan', 'one', 'arab', 'nation', 'support', 'syrian', 'opposit', 'group', 'press', 'tv', 'conduct', 'interview', 'naseer', 'al', 'omari', 'writer', 'polit', 'comment', 'new', 'york', 'provoc', 'us', 'jordan', 'war', 'game', 'near', 'border', 'syria', 'deliv', 'daili', 'sheepl', 'encourag', 'share', 'republish', 'report', 'analys', 'break', 'news', 'video', 'click', 'detail', 'contribut', 'trench', 'world', 'report', '<URL>', 'trench', 'world', 'report', 'intent', 'uncov', 'document', 'fact', 'bring', 'light', 'common', 'man', 'woman', 'meant', 'see', 'war', 'noth', 'less', 'right', 'individu', 'thought', 'report', 'war', 'trench']",
         "fake"
        ],
        [
         "7",
         "['want', 'peopl', 'understand', 'point', 'sinc', 'read', 'thread', 'calendar', 'wrong', 'real', 'end', 'calendar', 'x', 'day', 'x', 'month', 'mayan', 'start', 'calendar', 'wrong', 'day', 'peopl', 'fail', 'realiz', 'mayan', 'gregorian', 'calendar', 'like', 'use', 'made', 'calendar', 'use', 'astrolog', 'use', 'star', 'end', '<DATE>', 'mess', 'calendar', 'use', 'today', 'wrong', 'opinion', 'current', 'calendar', 'flaw', 'leap', 'year', 'correct', 'reason', 'believ', '<NUM>', 'correct', 'day', '<NUM>', 'hour', 'long', 'actual', '<NUM>', 'hour', '<NUM>', 'minut', 'rememb', 'correctli', 'astonish', 'calendar', 'modern', 'calcul', 'second', 'anoth', 'thing', 'interest', 'think', 'univers', 'expand', 'calendar', 'made', 'use', 'star', 'long', 'count', 'calendar', '<NUM>', '+', 'year']",
         "fake"
        ],
        [
         "8",
         "['worst', 'vehicl', 'first', 'car', 'eamonn', 'jame', 'clark']",
         "fake"
        ],
        [
         "9",
         "['greet', 'camp', 'news', '<NUM>', 'home', 'mani', 'probabl', 'awar', 'anoth', 'devast', 'windstorm', 'yesterday', 'christma', 'storm', 'caus', 'signific', 'damag', 'ga', 'tent', 'owner', 'ga', 'tent', 'expect', 'repair', 'shortli', 'howev', 'pole', 'damag', 'tent', 'wrap', 'around', 'tree', 'could', 'take', 'coupl', 'day', 'big', 'tent', 'taken', 'damag', 'done', 'howev', 'remain', 'wednesday', 'signific', 'wind', 'forecast', 'nation', 'weather', 'servic', 'tonight', 'tomorrow', 'activ', 'weather', 'western', 'washington', 'week', 'seri', 'vigor', 'frontal', 'system', 'move', 'western', 'washington', 'upcom', 'week', 'first', 'system', 'move', 'tonight', 'bring', 'breezi', 'local', 'windi', 'condit', 'coast', 'northwest', 'interior', 'also', 'bring', 'snow', 'mountain', 'mainli', '<NUM>', 'feet', 'second', 'wetter', 'system', 'move', 'onshor', 'tuesday', 'night', 'bring', 'anoth', 'round', 'windi', 'condit', 'coast', 'northwest', 'interior', 'snow', 'level', 'rise', 'pass', 'level', 'system', 'although', 'signific', 'snow', 'accumul', 'could', 'occur', 'volcano', 'otter', 'gener', 'offer', 'us', 'use', 'great', 'teepe', 'ga', 'compar', 'size', 'ga', 'tent', 'suffici', 'need', 'would', 'like', 'suggest', 'rebuild', 'camp', 'peopl', 'mind', 'prior', 'ga', 'meet', 'imag', 'structur', 'made', 'two', 'four', 'lumber', 'place', 'olympia', 'occupi', 'olympia', 'rule', 'similar', 'adher', 'regard', 'perman', 'non', 'destruct', 'exist', 'landscap', 'feel', 'better', 'alreadi', 'commun', 'lost', 'never', 'abl', 'get', 'ground', 'first', 'place', 'function', 'horizont', 'integr', 'camp', 'alreadi', 'place', 'gather', 'exchang', 'idea', 'fellowship', 'among', 'individu', 'divers', 'ethnic', 'sexual', 'orient', 'socio', 'econom', 'background', 'camp', 'also', 'serv', 'place', 'visitor', 'occupi', 'locat', 'stay', 'busi', 'otherwis', 'long', 'make', 'issu', 'drink', 'drug', 'steal', 'fight', 'stay', 'mani', 'us', 'activ', 'gener', 'assembl', 'polit', 'occupi', 'movement', 'difficult', 'struggl', 'get', 'ask', 'peopl', 'wrong', 'reason', 'leav', 'except', 'storm', 'aftermath', 'place', 'usual', 'look', 'good', 'good', 'rapport', 'bellingham', 'polic', 'place', 'peopl', 'commun', 'stop', 'find', 'us', 'assist', 'us', 'storefront', 'take', 'moment', 'consid', 'rebuild', 'addit', 'better', 'stephen', 'g', 'share', 'enjoy', 'facebook', 'twitter', 'delici', 'digg', 'googl', 'buzz', 'stumbleupon', 'add', 'favorit', 'email', 'rss', 'read', 'occupi', 'bellingham', 'sourc']",
         "fake"
        ],
        [
         "10",
         "['boehner', 'unreason', 'attack', 'cruz', 'editor', '<DATE>', 'get', 'john', 'boehner', 'like', 'ted', 'cruz', 'witless', 'cheap', 'shot', 'boehner', 'call', 'lucif', 'flesh', 'event', 'stanford', 'univers', 'boehner', 'attitud', 'widespread', 'among', 'republican', 'insid', 'foolishli', 'allow', 'person', 'ill', 'cloud', 'reason', 'judgment', 'among', 'candid', 'left', 'gop', 'race', 'best', 'repres', 'conserv', 'principl', 'polici', 'would', 'best', 'candid', 'upcom', 'gener', 'elect', 'count', 'cruz', 'obviou', 'choic', 'ted', 'cruz', 'constitut', 'conserv', 'dedic', 'reduc', 'outsiz', 'feder', 'govern', 'proper', 'size', 'function', 'restor', 'state', 'peopl', 'much', 'freedom', 'possibl', 'core', 'messag', 'throughout', 'career', 'throughout', 'campaign', 'cruz', 'outspoken', 'oppon', 'abort', 'dedic', 'defend', 'constitut', 'right', 'religi', 'liberti', 'staunch', 'advoc', 'right', 'keep', 'bear', 'arm', 'posit', 'consid', 'care', 'defend', 'articul', 'assembl', 'thought', 'capabl', 'team', 'advis', 'guid', 'presid', 'would', 'good', 'shot', 'get', 'stronger', 'economi', 'suprem', 'court', 'less', 'grandios', 'concept', 'role', 'less', 'central', 'health', 'care', 'system', 'sensibl', 'foreign', 'polici', 'disciplin', 'candid', 'built', 'impress', 'campaign', 'oper', 'head', 'head', 'poll', 'show', 'run', 'within', 'margin', 'error', 'hillari', 'clinton', 'comparison', 'poll', 'suggest', 'trump', 'would', 'run', 'wors', 'two', 'republican', 'rival', 'current', 'trail', 'clinton', '<NUM>', 'point', 'averag', 'current', 'toxic', 'imag', 'among', 'key', 'group', 'broader', 'public', 'substanc', 'trump', 'constitutionalist', 'suggest', 'presid', 'would', 'open', 'libel', 'law', 'prosecut', 'journalist', 'order', 'american', 'soldier', 'commit', 'war', 'crime', 'taken', 'liber', 'stanc', 'varieti', 'issu', 'abort', 'transgender', 'israel', 'c', 'revers', 'pollut', 'sound', 'posit', 'like', 'immigr', 'hawkish', 'boob', 'bait', 'bubba', 'demagogueri', 'foreign', 'polici', 'larg', 'incoher', 'occasion', 'appal', 'e', 'g', 'high', 'regard', 'vladimir', 'putin', 'promin', 'conserv', 'might', 'count', 'among', 'cruz', 'friend', 'lindsey', 'graham', 'jeb', 'bush', 'come', 'mind', 'urg', 'parti', 'ralli', 'around', 'cruz', 'reliabl', 'conserv', 'left', 'race', 'right', 'give', 'petti', 'grudg', 'hold', 'john', 'boehner', '<DATE>', 'cruz', 'engin', 'ill', 'fate', 'govern', 'shutdown', 'republican', 'critic', 'includ', 'us', 'warn', 'interpret', 'tactic', 'disagr', 'evid', 'disagr', 'object', 'encourag', 'conserv', 'indulg', 'knee', 'jerk', 'respons', 'though', 'cathart', 'would', 'ultim', 'set', 'back', 'common', 'goal', 'argument', 'work', 'direct', 'whatev', 'person', 'feel', 'boehner', 'agre', 'cruz', 'question', 'principl', 'polici', 'shame', 'act', 'accordingli', 'critic', 'contest', 'indiana', 'day', 'away', 'ted', 'cruz', 'need', 'support', 'conserv', 'commit', 'smaller', 'state', 'greater', 'individu', 'liberti']",
         "reliable"
        ],
        [
         "11",
         "['stock', 'market', 'time', 'what', 'next', 'histor', 'event', 'come', 'soon', 'reader', 'think', 'stori', 'fact', 'add', 'two', 'cent', 'news', 'knowledg', 'power', 'jay', '<NUM>', 'grade', 'histori', 'teacher', 'word', 'blackboard', 'big', 'bold', 'color', 'calligraphi', 'littl', 'know', 'would', 'mean', '<NUM>', 'year', 'later', 'event', 'mean', 'stock', 'market', 'time', 'sourc', '<URL>']",
         "fake"
        ],
        [
         "12",
         "['friday', 'christma', 'new', 'year', 'holiday', 'gov', 'bob', 'mcdonnel', 'r', 'va', 'quietli', 'approv', 'new', 'stringent', 'regul', 'intend', 'target', 'abort', 'clinic', 'virginia', 'board', 'health', 'adopt', 'new', 'anti', 'abort', 'rule', 'septemb', 'governor', 'certif', 'next', 'step', 'toward', 'make', 'regul', 'perman', 'potenti', 'forc', 'mani', 'state', '<NUM>', 'abort', 'clinic', 'close', 'door', 'spokesperson', 'mcdonnel', 'explain', 'governor', 'advanc', 'anti', 'abort', 'rule', 'believ', 'common', 'sens', 'regul', 'help', 'ensur', 'medic', 'procedur', 'take', 'place', 'facil', 'modern', 'safe', 'well', 'regul', 'order', 'help', 'ensur', 'safeti', 'well', 'patient', 'women', 'health', 'advoc', 'design', 'type', 'legisl', 'target', 'regul', 'abort', 'provid', 'trap', 'rather', 'anyth', 'ensur', 'women', 'safeti', 'actual', 'regul', 'abort', 'provid', 'indirect', 'method', 'restrict', 'women', 'reproduct', 'right', 'trap', 'law', 'forc', 'mani', 'abort', 'clinic', 'close', 'find', 'unabl', 'compli', 'complic', 'expens', 'standard', 'even', 'though', 'virginia', 'board', 'health', 'intend', 'oper', 'nonpartisan', 'medic', 'bodi', 'fight', 'enact', 'new', 'clinic', 'regul', 'becom', 'intens', 'polit', 'grow', 'trend', 'among', 'state', 'level', 'board', 'anti', 'abort', 'advoc', 'increasingli', 'use', 'advanc', 'anti', 'choic', 'agenda', 'board', 'consid', 'new', 'rule', 'final', 'vote', 'protest', 'women', 'health', 'advoc', 'bar', 'speak', 'hear', 'limit', 'number', 'peopl', 'even', 'permit', 'enter', 'room', 'turn', 'state', 'attorney', 'gener', 'ken', 'cuccinelli', 'r', 'essenti', 'threaten', 'virginia', 'board', 'end', 'approv', 'trap', 'law', '<NUM>', '<NUM>', 'vote', 'warn', 'member', 'could', 'deni', 'state', 'fund', 'legal', 'servic', 'vote', 'relax', 'clinic', 'regul', 'octob', 'virginia', 'health', 'commission', 'dr', 'karen', 'remley', 'resign', 'posit', 'board', 'protest', 'regul', 'cite', 'disapprov', 'propos', 'trap', 'law', 'primari', 'reason', 'could', 'longer', 'serv', 'good', 'faith', 'mcdonnel', 'approv', 'regul', 'sent', 'back', 'process', 'review', 'board', 'health', 'follow', '<NUM>', 'day', 'public', 'comment', 'period', 'accord', 'richmond', 'time', 'dispatch', 'perman', 'regul', 'expect', 'adopt', 'summer']",
         "reliable"
        ],
        [
         "13",
         "['found', 'father', 'would', 'lose', 'mind', 'black', 'man', 'presid', 'argument', 'obama', 'done', 'anyth', 'poof', 'presid', 'awesom', 'exampl', 'hypocrisi', 'soooooo', 'mani', 'peopl', 'at', 'display', 'pick', '<NUM>', 'mani', 'trust', 'anyon', 'polit', '<NUM>', 'politician', 'must', 'sold', 'someon', 'someon', 'back', 'pocket', '<NUM>', 'kicker', 'peopl', 'say', 'also', 'argu', 'side', 'mouth', 'guy', 'done', 'noth', 'show', 'birth', 'certif', 'palin', 'qualifi', 'hell', 'peopl', 'want', 'see', 'presid', 'realiz', 'greatest', 'civic', 'mind', 'capabl', 'peopl', 'u', 'would', 'never', 'ever', 'run', 'presid', 'want', 'run', 'media', 'guantlet', 'modern', 'day', 'polit', 'presid', 'histori', 'would', 'surviv', 'lincoln', 'hardli', 'anyon', 'long', 'histori', 'polit', 'day', 'probabl', 'surviv', 'thing', 'cater', 'peopl', 'regret', 'mayb', 'think', 'good', 'bad', 'end', 'justifi', 'mean', 'type', 'think', 'cough', 'obama', 'move', 'quickli', 'allow', 'special', 'interest', 'other', 'sink', 'claw', 'probabl', 'ask', 'happen', 'get', 'elect', 'argu', 'know', 'think', 'good', 'thing', 'move', 'ask', 'question', 'ok', 'guy', 'brain', 'head', 'rhetor', 'philosophi', 'come', 'mouth', 'get', 'answer', 'move', 'ask', 'ok', 'done', 'anyth', 'back', 'rhetor', 'done', 'anyth', 'fli', 'face', 'rhetor', 'point', 'join', 'rest', 'us', 'want', 'believ', 'believ', 'countri', 'preserv', 'dare', 'dream', 'better', 'rememb', 'kid', 'rare', 'man', 'offic', 'right', 'right', 'time', 'ye', 'even', 'patroit', 'lose', 'footbal', 'game', 'team', 'want', 'hitch', 'wagon', 'detroit', 'lion', 'new', 'england', 'patriot', 'give', 'man', 'chanc', 'least', 'true', 'american', 'even', 'made', 'attempt', 'hide', 'ignor', 'wait', 'someth', 'could', 'shout', 'ah', 'ha', 'see', 'told', 'sheepl', 'guy', 'jump', 'moment', 'robert', 'screw', 'oath', 'even', 'duh', 'hand', 'bibl', '<NUM>', 'time', 'duh', 'mean', 'evil', 'guarente', 'go', 'make', 'sweeeeet', 'mistak', 'fox', 'jump', 'least', 'wait', 'point', 'shown', 'noth', 'true', 'color', 'imaginit', 'color', 'select']",
         "fake"
        ],
        [
         "14",
         "['identifi', 'dragon', 'judg', 'nation', 'review', 'male', 'femal', 'transgend', 'woman', 'prefer', 'pronoun', 'say', 'believ', 'born', 'wrong', 'sex', 'also', 'wrong', 'speci', 'undergo', 'human', 'dragon', 'transit', 'procedur', 'fix', 'problem', '<NUM>', 'year', 'old', 'born', 'richard', 'hernandez', 'goe', 'eva', 'tiamat', 'baphomet', 'medusa', 'alreadi', 'whole', 'slew', 'transform', 'work', 'done', 'tooth', 'extract', 'eye', 'color', 'horn', 'implant', 'ear', 'remov', 'nose', 'modif', 'procedur', 'give', 'fork', 'tongu', 'also', 'gotten', 'tattoo', 'scarif', 'face', 'chest', 'make', 'look', 'like', 'scale', 'instead', 'human', 'skin', 'accord', 'articl', 'daili', 'mail', 'eva', 'tiamat', 'baphomet', 'medusa', 'tiamat', 'short', 'refer', 'mythic', 'beast', 'dragon', 'ladi', 'pre', 'op', '<NUM>', 'f', 'male', 'femal', 'transgend', 'process', 'morph', 'human', 'dragon', 'becom', 'reptoid', 'shed', 'human', 'skin', 'physic', 'appear', 'life', 'whole', 'leav', 'human', 'behind', 'embrac', 'natur', 'self', 'awar', 'mythic', 'beast', 'tiamat', 'explain', 'websit', 'tiamat', 'websit', 'also', 'contain', 'blog', 'write', 'life', 'dragon', 'liar', 'know', 'need', 'know', 'truth', 'post', 'monday', 'state', 'human', 'intrins', 'lie', 'continu', 'dragon', 'sic', 'lie', 'dcg', 'advertis']",
         "fake"
        ],
        [
         "15",
         "['press', 'news', '©', 'peopl', 'power', 'news', '®', '<URL>', 'constant', 'spi', 'free', 'american', 'refus', 'add', 'anyth', 'data', 'mine', 'govern', 'call', 'free', 'american', 'terrorist']",
         "fake"
        ],
        [
         "16",
         "['hertzfeld', 'franc', 'nee', 'segal', '<DATE>', 'philadelphia', 'wife', 'late', 'joseph', 'b', 'mother', 'nanci', 'hertzfeld', 'new', 'york', 'jeffrey', 'geneviev', 'hertzfeld', 'pari', 'also', 'surviv', 'three', 'grandchildren', 'helen', 'elisabeth', 'emili', 'two', 'greatgrandchildren']",
         "reliable"
        ],
        [
         "17",
         "['florenc', 'itali', 'italian', 'civil', 'protect', 'agenc', 'said', 'tuesday', 'deterior', 'safeti', 'condit', 'forc', 'diver', 'suspend', 'underwat', 'search', 'miss', 'peopl', 'wreck', 'cruis', 'ship', 'island', 'giglio', 'ship', 'costa', 'concordia', 'struck', 'reef', '<DATE>', 'heel', 'founder', 'offshor', 'loss', 'least', '<NUM>', 'live', 'formal', 'decis', 'call', 'search', 'like', 'wednesday', 'rescu', 'offici', 'said', 'sixteen', 'peopl', 'still', 'list', 'miss', 'among', 'ship', 'complement', '<NUM>', 'passeng', 'crew', 'agenc', 'said', 'condit', 'submerg', 'part', 'vessel', 'lie', 'steep', 'angl', 'rock', 'rel', 'shallow', 'water', 'outsid', 'giglio', 'tini', 'port', 'danger', 'rescuer', 'continu', 'work', 'howev', 'agenc', 'said', 'statement', 'rescuer', 'would', 'continu', 'search', 'part', 'wreck', 'remain', 'water', 'diver', 'also', 'investig', 'whether', 'object', 'sea', 'surround', 'wreck', 'human', 'remain', 'last', 'week', 'italian', 'navi', 'diver', 'identifi', '<NUM>', 'object', 'water', 'surround', 'half', 'sunken', 'ship', 'clear', 'whether', 'bodi', 'object', 'ship', 'advertis', 'continu', 'read', 'main', 'stori', 'civil', 'protect', 'agenc', 'said', 'technic', 'studi', 'shown', 'deform', 'ship', 'hull', 'creat', 'safeti', 'concern', 'made', 'continu', 'search', 'imposs', 'go', 'detail', 'hazard', 'statement', 'said', 'famili', 'still', 'miss', 'diplomat', 'repres', 'countri', 'origin', 'inform', 'decis', 'interrupt', 'search']",
         "reliable"
        ],
        [
         "18",
         "['someth', 'human', 'seen', 'andrew', 'vanderburg', 'graduat', 'student', 'harvard', 'smithsonian', 'center', 'astrophys', 'lead', 'author', 'new', 'studi', 'said', 'watch', 'solar', 'system', 'get', 'destroy']",
         "fake"
        ],
        [
         "19",
         "['women', 'singl', 'luger', 'best', 'adjust', 'abbrevi', 'cours', 'entranc', 'curv', 'experienc', 'difficulti', 'bob', 'curv', 'though', 'turbul', 'water', 'other', 'master', 'among', 'leader', 'day', 'two', 'run', 'event', 'conclud', 'two', 'run', 'tuesday', 'germani', 'tatjana', 'huefner', 'lead', 'enter', 'medal', 'round', 'two', 'run', 'time', '<NUM>', '<NUM>', 'follow', 'austrian', 'slider', 'nina', 'reithmay', '<NUM>', '<NUM>', 'fellow', 'german', 'natali', 'geisenberg', '<NUM>', '<NUM>', 'offici', 'move', 'begin', 'race', 'junior', 'start', 'georgian', 'luger', 'nodar', 'kumaritashvili', 'kill', 'train', 'accid', 'last', 'week', 'whistler', 'slide', 'centr', 'modif', 'move', 'race', 'start', 'fifth', 'sixth', 'curv', 'cours', 'racer', 'enter', 'nearli', '<NUM>', 'degre', 'angl', 'time', 'pick', 'much', 'speed', 'honestli', 'sent', '<NUM>', 'year', 'old', 'girl', 'start', 'canada', 'alex', 'gough', 'said', 'like', 'run', 'brick', 'wall', 'erin', 'hamlin', 'reign', 'world', 'champion', '<NUM>', 'top', 'american', 'two', 'run', 'time', '<NUM>', '<NUM>', 'tri', 'copi', 'first', 'run', 'good', 'said', 'tri', 'go', 'start', 'curv', 'sure', 'come', 'jonathan', 'abram']",
         "reliable"
        ],
        [
         "20",
         "['moscow', 'spokesman', 'mikhail', 'gorbachev', 'say', '<NUM>', 'year', 'old', 'former', 'soviet', 'leader', 'hospit', 'schedul', 'oper', 'vladimir', 'polyakov', 'told', 'associ', 'press', 'gorbachev', 'taken', 'hospit', 'moscow', 'wednesday', 'plan', 'insignific', 'surgic', 'intervent', 'declin', 'give', 'detail', 'said', 'gorbachev', 'eat', 'normal', 'expect', 'discharg', 'soon', 'russian', 'media', 'report', 'gorbachev', 'fit', 'pacemak', 'oper', 'gorbachev', 'suffer', 'repeat', 'health', 'scare', 'recent', 'year', 'septemb', 'cancel', 'foreign', 'trip', 'advic', 'doctor', 'sinc', '<DATE>', 'collaps', 'soviet', 'union', 'former', 'presid', 'run', 'foundat', 'polit', 'social', 'econom', 'studi', 'copyright', '<DATE>', 'associ', 'press', 'right', 'reserv', 'materi', 'may', 'publish', 'broadcast', 'rewritten', 'redistribut']",
         "reliable"
        ],
        [
         "21",
         "['getti', 'cma', 'want', 'gig', 'goer', 'awar', 'resal', 'restrict', 'spotlight', 'ticket', 'market', 'competit', 'market', 'author', 'cma', 'enforc', 'investig', 'look', 'seller', 'inform', 'connect', 'seller', 'event', 'organis', 'whether', 'restrict', 'use', 'resold', 'ticket', 'could', 'result', 'person', 'deni', 'access', 'andrea', 'coscelli', 'cma', 'act', 'chief', 'execut', 'said', 'essenti', 'consum', 'buy', 'ticket', 'secondari', 'market', 'made', 'awar', 'risk', 'turn', 'away', 'door', 'probe', 'also', 'take', 'account', 'seat', 'locat', 'venu', 'consid', 'busi', 'sell', 'ticket', 'secondari', 'ticket', 'platform', 'advertis', 'fail', 'provid', 'full', 'inform', 'find', 'breach', 'consum', 'law', 'take', 'enforc', 'action', 'cma', 'warn', 'earlier', 'year', 'cma', 'carri', 'initi', 'review', 'four', 'main', 'secondari', 'ticket', 'websit', 'get', 'seatwav', 'stubhub', 'viagogo', 'ensur', 'improv', 'inform', 'ticket', 'advertis', 'site', 'getti', 'cma', 'ensur', 'ticket', 'websit', 'improv', 'inform', 'ticket', 'advertis', 'site', 'icg', 'snap', 'park', 'holiday', 'privat', 'equiti', 'firm', 'caledonia', 'invest', 'sold', 'caravan', 'park', 'oper', 'park', 'holiday', 'intermedi', 'capit', 'group', 'icg', '<CUR>', '<NUM>', 'million', 'park', 'holiday', 'britain', 'fourth', 'largest', 'caravan', 'oper', 'set', 'see', 'earn', '<CUR>', '<NUM>', 'million', 'year', 'price', 'tag', 'repres', 'signific', 'rise', '<CUR>', '<NUM>', 'million', 'caledonia', 'paid', 'firm', '<DATE>', 'sale', 'put', 'ice', 'follow', 'eu', 'referendum', 'rise', 'staycat', 'follow', 'collaps', 'pound', 'mean', 'caravan', 'oper', 'becom', 'highli', 'sought', 'asset', 'weekend', 'countri', 'biggest', 'oper', 'parkdean', 'resort', 'sold', 'epiri', 'toronto', 'base', 'onex', 'corpor', '<CUR>', '<NUM>', 'billion', 'icg', 'retain', 'park', 'holiday', 'current', 'manag', 'team', 'includ', 'chief', 'execut', 'jeff', 'sill', 'job', 'boost', 'highland', '<NUM>', 'job', 'could', 'creat', 'highland', '<CUR>', '<NUM>', 'million', 'deal', 'sign', 'safeguard', 'last', 'remain', 'aluminium', 'smelter', 'uk', 'liberti', 'hous', 'complet', 'deal', 'british', 'australian', 'mine', 'firm', 'rio', 'tinto', 'buy', 'smelter', 'lochab', 'hydro', 'power', 'plant', 'fort', 'william', 'kinlochleven', 'getti', '<NUM>', 'job', 'could', 'creat', 'highland', '<CUR>', '<NUM>', 'million', 'deal']",
         "fake"
        ],
        [
         "22",
         "['photo', 'report', 'often', 'arriv', 'red', 'carpet', 'arm', 'question', 'peg', 'whatev', 'controversi', 'talk', 'award', 'season', 'alway', 'least', 'one', 'previou', 'year', 'journalist', 'respond', 'heat', 'hollywood', 'ask', 'celebr', 'askhermor', 'initi', 'queri', 'actress', 'substant', 'thing', 'outfit', 'oscarssowhit', 'highlight', 'dearth', 'divers', 'nomine', 'recent', 'presid', 'donald', 'j', 'trump', 'year', 'celebr', 'particular', 'women', 'defin', 'agenda', 'women', 'attend', 'globe', 'ask', 'wear', 'black', 'gown', 'show', 'solidar', 'victim', 'sexual', 'misconduct', 'plan', 'initi', 'dismiss', 'toothless', 'gimmick', 'one', 'would', 'littl', 'advanc', 'metoo', 'movement', 'call', 'wear', 'black', 'gown', 'turn', 'part', 'sweep', 'ambiti', 'initi', 'call', 'time', 'creat', '<NUM>', 'promin', 'actress', 'femal', 'agent', 'writer', 'director', 'entertain', 'execut', 'fight', 'sexual', 'misconduct', 'across', 'countri', 'time', 'boast', '<CUR>', '<NUM>', 'million', 'legal', 'defens', 'fund', 'less', 'privileg', 'victim', 'alreadi', 'secur', 'pledg', 'talent', 'agenc', 'achiev', 'gender', 'pariti', 'corner', 'offic', '<DATE>', 'black', 'gown', 'meant', 'call', 'attent', 'problem', 'mourn', 'industri', 'old', 'guard', 'point', 'solut', 'moment', 'shine', 'light', 'peopl', 'said', 'rees', 'witherspoon', 'work', 'close', 'time', 'time', 'quiet']",
         "reliable"
        ],
        [
         "23",
         "['photo', '<DATE>', 'brother', 'pat', 'walk', 'away', 'cnn', 'threw', 'hat', 'ring', 'republican', 'nomin', 'presid', 'georg', 'h', 'w', 'bush', '<NUM>', 'week', 'campaign', '<NUM>', 'percent', 'vote', 'new', 'hampshir', 'soon', 'overwhelm', 'presid', 'huge', 'campaign', 'oper', 'end', 'race', 'pat', 'clout', 'promis', 'support', 'would', 'go', 'way', 'convent', 'intend', 'honor', 'commit', 'will', 'make', 'strong', 'case', 'mr', 'bush', 'bill', 'clinton', 'want', 'prime', 'time', 'spot', 'convent', 'return', 'sit', 'tight', 'pat', 'told', 'call', 'charli', 'black', 'jim', 'lake', 'friend', 'ronald', 'reagan', 'presidenti', 'campaign', 'arrang', 'meet', 'month', 'convent', 'want', 'pat', 'endors', 'told', 'condit', 'follow', 'call', 'offer', 'half', 'hour', 'right', 'keynot', 'address', 'tuesday', 'night', 'would', 'put', 'us', '<NUM>', 'minut', 'prime', 'time', 'good', 'enough', 'week', 'heard', 'noth', 'up', 'ant', 'put', 'word', 'plan', 'speech', 'outsid', 'convent', 'hall', 'call', 'hotel', 'nearbi', 'know', 'would', 'contract', 'convent', 'would', 'like', 'pass', 'inquiri', 'bush', 'campaign', 'advertis', 'continu', 'read', 'main', 'stori', 'final', 'call', 'came', 'pat', 'ask', 'endors', 'presid', 'bush', 'prime', 'time', 'spot', 'monday', 'night', 'would', 'preced', 'presid', 'reagan', 'pat', 'would', 'get', 'prime', 'time', 'also', 'would', 'get', 'share', 'hour', 'hero', 'newslett', 'sign', 'continu', 'read', 'main', 'stori', 'pleas', 'verifi', 'robot', 'click', 'box', 'invalid', 'email', 'address', 'pleas', 'enter', 'must', 'select', 'newslett', 'subscrib', 'sign', 'agre', 'receiv', 'occasion', 'updat', 'special', 'offer', 'new', 'york', 'time', 'product', 'servic', 'thank', 'subscrib', 'error', 'occur', 'pleas', 'tri', 'later', 'view', 'new', 'york', 'time', 'newslett', 'offic', 'washington', 'drove', 'pat', 'home', 'mclean', 'va', 'speed', 'way', 'limit', 'give', 'news', 'wait', 'tell', 'person', 'call', 'scream', 'excit', 'togeth', 'laugh', 'hyster', 'play', 'high', 'stake', 'game', 'poker', 'pat', 'went', 'deliv', 'famou', 'cultur', 'war', 'speech', 'often', 'blame', 'mr', 'bush', 'defeat', 'pat', 'accus', 'hijack', 'convent', 'final', 'version', 'sent', 'white', 'hous', 'approv', 'receiv', 'high', 'prais', 'news', 'media', 'bush', 'famili', 'oh', 'one', 'detail', 'poll', 'conclud', 'night', 'pat', 'spoke', 'gave', 'presid', 'bush', '<NUM>', 'point', 'bump', 'number', 'voter', 'strongli', 'support']",
         "reliable"
        ],
        [
         "24",
         "['seventi', 'year', 'later', 'guettel', 'perfect', 'mean', 'escap', 'emot', 'technolog', 'aesthet', 'call', 'method', 'compos', 'mean', 'burrow', 'deepli', 'charact', 'live', 'among', 'delay', 'tactic', 'store', 'ream', 'earnest', 'note', 'palm', 'tungsten', 'w', 'love', 'would', 'harbing', 'truer', 'next', 'self', 'read', 'one', 'look', 'forward', 'love', 'fat', 'line', 'cocain', 'like', 'sentenc', 'two', 'work', 'reput', 'far', 'hang', 'seem', 'almost', 'will', 'obscur', 'would', 'hard', 'imagin', 'either', 'ever', 'play', 'broadway', 'guettel', 'want', 'floyd', 'collin', 'critic', 'success', 'playwright', 'horizon', '<DATE>', 'base', 'true', 'stori', 'man', 'trap', 'kentucki', 'cave', '<DATE>', 'myth', 'hymn', 'cycl', 'art', 'song', 'music', 'inspir', 'greek', 'mytholog', '<NUM>', 'presbyterian', 'hymnal', 'neither', 'piec', 'reflect', 'obviou', 'way', 'life', 'know', 'rais', 'almost', 'chokingli', 'sophist', 'precinct', 'upper', 'west', 'side', 'cultur', 'brahmin', 'nonpract', 'jew', 'ask', 'last', 'name', 'pronounc', 'say', 'rhyme', 'shtetl', 'despit', 'unlikeli', 'work', 'extraordinari', 'authent', 'creation', 'everi', 'youngish', 'theater', 'compos', 'guettel', '<NUM>', 'must', 'nod', 'sondheim', 'mani', 'genuflect', 'deepli', 'spine', 'turn', 'guettel', 'acknowledg', 'master', 'privileg', 'unslavish', 'way', 'befit', 'lifelong', 'famili', 'friend', 'rhythmic', 'invent', 'restless', 'harmoni', 'duli', 'salut', 'suppl', 'long', 'line', 'gorgeou', 'melodi', 'rodger', 'hear', 'top', 'surprisingli', 'oscar', 'hammerstein', 'hear', 'word', 'ever', 'squar', 'pedagog', 'guettel', 'lyric', 'grudgingli', 'sometim', 'incomplet', 'transform', 'english', 'litani', 'place', 'fill', 'ah', 'la', 'dicka', 'dicka', 'dum', 'like', 'hammerstein', 'openheart', 'direct', 'relentlessli', 'subjug', 'clever', 'craft', 'rhyme', 'kept', 'simpl', 'wordplay', 'subtl', 'went', 'lookin', 'fer', 'fortun', 'ground', 'sure', 'enough', 'fortun', 'found', 'floyd', 'collin', 'sound', 'like', 'kentucki', 'turtl', 'bay', 'care', 'constraint', 'result', 'song', 'cours', 'raw', 'even', 'threaten', 'feel', 'often', 'two', 'three', 'time', 'longer', 'standard', 'guettel', 'circl', 'beauti', 'bale', 'pounc', 'feast', 'wring', 'last', 'life', 'seem', 'know', 'confid', 'kind', 'lordli', 'even', 'turn', 'crucial', 'address', 'listen', 'pleasur', 'least', 'consist', 'new', 'music', 'theater', 'contemporari', 'maintain', 'level', 'adventur', 'would', 'impress', 'elder', 'hesit', 'put', 'best', 'say', 'arthur', 'laurent', 'guettel', 'godfath', 'would', 'let', 'stop', 'opportun', 'critic', 'aros', 'emot', 'free', 'lyric', 'music', 'certainli', 'steve', 'sondheim', 'list', 'riddl', 'song', 'floyd', 'collin', 'almost', 'nine', 'minut', 'unimped', 'joy', 'among', 'wish', 'written', 'floyd', 'collin', 'john', 'simon', 'put', 'origin', 'dare', 'music', 'day', 'joy', 'project', 'guettel', 'choos', 'agon', 'think', 'bleed', 'like', 'finger', 'offer', 'kind', 'prove', 'ground', 'deton', 'devast', 'fear', 'case', 'fear', 'work', 'howev', 'good', 'would', 'come', 'noth', 'trap', 'underground', 'song', 'echo', 'around', 'otherwis', 'empti', 'chamber', 'subtext', 'connect', 'rodger', 'someth', 'talk', 'much', 'public', 'even', 'ask', 'intiman', 'theater', 'premier', 'product', 'piazza', 'play', '<DATE>', 'mention', 'rodger', 'press', 'releas', 'nevertheless', 'tell', 'let', 'trap', 'caver', 'find', 'peac', 'end', 'floyd', 'collin', 'unconsci', 'shift', 'weight', 'legaci', 'bear', 'better', 'fail', 'pursuit', 'someth', 'nobl', 'say', 'good', 'day', 'nobl', 'turn', 'though', 'legaci', 'easili', 'shift', 'may', 'track', 'guettel', 'work', 'sinc', 'success', 'floyd', 'collin', 'terrain', 'remain', 'rocki', 'myth', 'hymn', 'kind', 'music', '<NUM>', 'step', 'program', 'question', 'possibl', 'redempt', 'sin', 'god', 'peopl', 'one', 'soul', 'one', 'semiautobiograph', 'song', 'man', 'abandon', 'pregnant', 'girlfriend', 'abort', 'produc', 'theatric', 'saturn', 'return', 'seal', 'compos', 'reput', 'make', 'reput', 'harder', 'read', 'next', 'mr', 'guettel', 'ask', 'stephen', 'holden', '<DATE>', 'time', 'review', 'anoth', 'folk', 'music', 'opera', 'either', 'possibl', 'talent', 'major', 'look', 'question', 'might', 'never', 'answer', 'guettel', 'struggl', 'variou', 'demon', 'variou', 'writer', 'includ', 'laurent', 'alfr', 'uhri', 'final', 'craig', 'luca', 'put', 'piazza', 'togeth', 'longer', 'took', 'anticip', 'point', 'show', 'began', 'seem', 'like', 'myth', 'piazza', 'even', 'imperfect', 'first', 'incarn', 'turn', 'real', 'ravish', 'work', 'romant', 'chamber', 'music', 'whose', 'subject', 'love', 'set', 'itali', 'provid', 'guettel', 'entir', 'new', 'palett', 'color', 'blend', 'albeit', 'characterist', 'bravura', 'style', 'instantli', 'recogniz', 'everywher', 'dark', 'encroach', 'bright', 'surfac', 'piazza', 'mottl', 'chiaroscuro', 'artwork', 'admir', 'protagonist', 'resourc', 'american', 'matron', 'vacat', 'strang', 'childlik', '<NUM>', 'year', 'old', 'daughter', 'though', 'luca', 'also', 'direct', 'seattl', 'product', 'main', 'stori', 'mother', 'unexpect', 'triumph', 'secur', 'daughter', 'happi', 'guettel', 'someth', 'sad', 'hardli', 'squar', 'debonair', 'man', 'tell', 'version', 'child', 'enorm', 'privileg', 'damag', 'profound', 'secret', 'way', 'wonder', 'damag', 'great', 'forev', 'preclud', 'possibl', 'love', 'advertis', 'continu', 'read', 'main', 'stori', 'fascin', 'drink', 'drug', 'young', 'rememb', 'guettel', 'say', 'includ', 'pretend', 'get', 'hangov', 'smoke', 'leav', 'tree', 'snif', 'mimeograph', 'test', 'first', 'got', 'high', '<NUM>', 'memori', 'share', 'joint', 'raccoon', 'intens', 'happiest', 'moment', 'life', 'smile', 'brilliantli', 'let', 'smile', 'wilt', 'still', 'guettel', 'walk', 'queen', 'ann', 'hill', 'seattl', 'toward', 'prospect', 'assur', 'worth', 'gasp', 'part', 'climb', 'histori', 'drug', 'disturb', 'marijuana', '<NUM>', 'one', 'thing', 'cocain', '<NUM>', 'anoth', 'dismiss', 'rich', 'kid', 'insuffer', 'debaucheri', 'even', 'though', 'stori', 'pain', 'liter', 'iter', 'theme', 'abus', 'good', 'fortun', 'fli', 'back', 'exet', 'new', 'york', 'gone', 'sign', 'paper', 'regard', 'grandfath', 'scalp', 'eastern', 'shuttl', 'coupon', 'drug', 'money', 'beaten', 'bloodi', 'process', 'scare', 'clean', 'two', 'year', 'gradual', 'yale', 'felt', 'isol', 'unhappi', 'slip', 'back', 'pot', 'mushroom', 'pill', 'alcohol', 'graduat', 'live', 'brooklyn', 'start', 'drink', 'regularli', 'night', 'smoke', 'pot', 'cocain', 'happen', 'mid', '<NUM>', 'time', '<NUM>', 'recoveri', 'authent', 'new', 'york', 'product', 'floyd', 'happen', 'sober', 'car', 'accid', 'herniat', 'two', 'disc', 'given', 'percocet', 'soon', 'take', '<NUM>', '<NUM>', 'day', 'abject', 'drug', 'addl', 'wretch', 'shade', 'drawn', 'eat', 'watch', 'tv', 'day', 'within', 'six', 'week', 'rehab', 'came', 'almost', 'four', 'year', 'sobrieti', 'finish', 'myth', 'hymn', 'put', 'public', 'theater', 'documentari', 'score', 'also', 'wrote', 'first', 'three', 'four', 'song', 'piazza', 'someon', 'offer', 'vicodin', 'last', 'three', 'year', 'rehab', 'twice', 'basic', 'pretti', 'rough', 'ride', 'right', '<NUM>', 'day', 'clean', 'keep', 'go', 'meet', 'regularli', 'know', 'drug', 'play', 'russian', 'roulett', 'know', 'would', 'happen', 'someon', 'offer', 'kind', 'alcohol', 'drug', 'parti', 'matrix', 'drug', 'sex', 'trail', 'sigh', 'mani', 'way', 'legaci', 'turn', 'burden', 'richard', 'rodger', 'legaci', 'heir', 'succeed', 'gap', 'secret', 'realiti', 'beauti', 'world', 'public', 'art', 'almost', 'swallow', 'everyon', 'stand', 'nearbi', 'possibl', 'reaction', 'daughter', 'mari', 'rodger', 'guettel', 'develop', 'person', 'style', 'might', 'call', 'knee', 'jerk', 'transpar', 'except', 'need', 'even', 'tini', 'rubber', 'mallet', 'get', 'good', 'arriv', 'upper', 'west', 'side', 'apart', 'alreadi', 'prepar', 'dossier', 'adam', 'memorabilia', 'prep', 'school', 'report', 'card', 'earli', 'composit', 'joke', 'photograph', 'kind', 'usual', 'burn', 'letter', 'filial', 'love', 'apolog', 'husband', 'henri', 'guettel', 'help', 'provid', 'larg', 'manila', 'envelop', 'transport', 'trove', 'trove', 'larg', 'enough', 'though', 'document', 'sheer', 'much', 'famili', 'much', 'talent', 'much', 'pain', 'final', 'theatric', 'famili', 'live', 'room', 'featur', 'jo', 'mielzin', 'watercolor', 'set', 'pal', 'joey', 'pipe', 'dream', 'guettel', 'live', 'seem', 'part', 'master', 'ironist', 'dramat', 'design', 'master', 'melodist', 'rodger', 'dead', 'almost', 'quarter', 'centuri', 'still', 'rake', 'million', 'dollar', 'year', 'heir', 'magnet', 'complet', 'monument', 'achiev', 'even', 'turn', 'away', 'despit', 'achiev', 'cell', 'continu', 'align', 'noth', 'adam', 'guettel', 'therefor', 'seen', 'isol', 'famili', 'even', 'piazza', 'mother', 'suggest', 'music', 'stori', 'suggest', 'thing', 'back', '<NUM>', 'father', 'daddi', 'told', 'love', 'say', 'rodger', 'soon', 'went', 'write', 'sondheim', 'laurent', 'american', 'itali', 'love', 'stori', 'underr', 'hear', 'waltz', 'mari', 'rodger', 'profession', 'known', 'compos', 'piazza', 'written', 'fine', 'music', 'upon', 'mattress', 'among', 'show', 'pleasant', 'talent', 'incred', 'talent', 'say', 'without', 'self', 'piti', 'father', 'son', 'abandon', 'kind', 'thing', 'somewher', 'along', 'way', 'let', 'theatric', 'career', 'slip', 'away', 'favor', 'young', 'adult', 'fiction', 'freaki', 'friday', 'seri', 'chairmanship', 'juilliard', 'school', 'mention', 'motherhood', 'first', 'marriag', 'three', 'children', 'second', 'guettel', 'lifelong', 'man', 'theater', 'anoth', 'three', 'boy', 'adam', 'middl', 'matthew', 'alexand', 'pain', 'thing', 'dispens', 'freeli', 'smart', 'neat', 'proport', 'might', 'well', 'martini', 'mari', 'say', 'adam', 'seem', 'come', 'first', 'time', 'brother', 'matthew', 'sickli', 'nearli', 'four', 'year', 'die', 'asthma', 'adam', 'quiet', 'picki', 'moros', 'desper', 'get', 'eat', 'reduc', 'let', 'graze', 'littl', 'bowl', 'cut', 'food', 'set', 'kitchen', 'floor', 'see', 'brother', 'taken', 'away', 'someth', 'chang', 'came', 'downstair', 'doctor', 'denton', 'even', 'mari', 'recal', 'start', 'clown', 'around', 'poke', 'peopl', 'face', 'sudden', 'person', 'chang', 'knew', 'mean', 'happen', 'peopl', 'would', 'notic', 'give', 'chanc', 'also', 'right', 'matthew', 'die', 'adam', 'one', 'day', 'start', 'sing', '<NUM>', 'street', 'bridg', 'song', 'note', 'perfect', 'yet', '<NUM>', 'newslett', 'sign', 'continu', 'read', 'main', 'stori', 'pleas', 'verifi', 'robot', 'click', 'box', 'invalid', 'email', 'address', 'pleas', 'enter', 'must', 'select', 'newslett', 'subscrib', 'sign', 'agre', 'receiv', 'occasion', 'updat', 'special', 'offer', 'new', 'york', 'time', 'product', 'servic', 'thank', 'subscrib', 'error', 'occur', 'pleas', 'tri', 'later', 'view', 'new', 'york', 'time', 'newslett', 'guettel', 'publish', 'work', 'corpor', 'name', 'matthew', 'music', 'death', 'begin', 'voic', 'vice', 'far', 'behind', 'precoci', 'age', '<NUM>', 'could', 'sing', '<NUM>', 'peopl', 'met', 'style', 'love', 'french', 'impecc', 'start', 'smoke', 'chesterfield', 'age', '<NUM>', 'push', 'pull', 'matur', 'recur', 'motif', '<NUM>', 'star', 'met', 'radio', 'broadcast', 'pelléa', 'televis', 'movi', 'amahl', 'night', 'visitor', 'voic', 'despit', 'year', 'superstiti', 'habit', 'final', 'broke', 'kind', 'fake', 'voic', 'chang', 'say', 'probabl', 'could', 'sung', 'role', 'want', 'handl', 'pressur', 'reson', 'begin', 'adult', 'life', 'advertis', 'continu', 'read', 'main', 'stori', 'botch', 'opportun', 'also', 'boon', 'divert', 'music', 'impuls', 'toward', 'compos', 'wrote', 'first', 'piec', 'around', 'age', '<NUM>', 'work', 'one', 'ask', 'rodger', 'play', 'louder', 'though', 'old', 'man', 'said', 'like', 'guettel', 'discount', 'compliment', 'liter', 'deathb', 'side', 'live', 'room', 'wall', 'still', 'baton', 'pass', 'boy', 'took', 'fast', 'first', 'year', 'wrote', 'could', 'advis', 'mother', 'recal', 'tell', 'thing', 'like', 'ear', 'like', 'know', 'harmon', 'home', 'tri', 'get', 'back', 'far', 'beyond', 'anyth', 'could', 'ever', 'dream', 'back', 'time', 'return', 'new', 'york', 'colleg', '<DATE>', 'grit', 'teeth', 'theori', 'composit', 'guettel', 'promis', 'young', 'compos', '<NUM>', 'minut', 'concerto', 'jazz', 'quartet', 'symphoni', 'orchestra', 'alreadi', 'credit', 'also', 'addict', 'though', 'drug', 'use', 'whisper', 'theater', 'circl', 'guettel', 'reput', 'lothario', 'bruit', 'almost', 'proudli', 'even', 'father', 'told', 'exactli', 'censori', 'dozen', 'love', 'spurn', 'ladi', 'spread', 'pavement', 'manhattan', 'one', 'supposedli', 'wrote', 'music', 'featur', 'number', 'embitt', 'ex', 'girlfriend', 'mother', 'sharpen', 'point', 'mean', 'let', 'face', 'sexual', 'procliv', 'satyr', 'grandfath', 'seem', 'even', 'worst', 'trait', 'guettel', 'alway', 'compar', 'richard', 'rodger', 'bed', 'choru', 'girl', 'could', 'get', 'hand', 'know', 'hurt', 'lot', 'women', 'feel', 'terribl', 'guettel', 'say', 'easi', 'get', 'away', 'thing', 'money', 'peopl', 'think', 'attract', 'also', 'verbal', 'readi', 'access', 'silken', 'prose', 'sometim', 'reflect', 'realli', 'think', 'hope', 'phase', 'point', 'unhappi', 'long', 'becom', 'irrevoc', 'unkind', 'like', 'grandfath', 'like', 'happi', 'abl', 'kind', 'seem', 'happi', 'enough', 'say', 'still', 'seen', 'perform', 'song', 'concert', 'know', 'work', 'audienc', 'charm', 'goe', 'long', 'way', 'like', 'money', 'often', 'misspent', 'guettel', 'admit', 'much', 'compet', 'say', 'real', 'antidot', 'feel', 'time', 'sunni', 'day', 'seattl', 'queen', 'ann', 'prospect', 'reach', 'spectacular', 'mayb', 'local', 'instead', 'express', 'say', 'refer', 'love', 'also', 'hope', 'straighten', 'good', 'take', 'long', 'time', 'admit', 'problem', 'termin', 'ill', 'risk', 'life', 'mani', 'time', 'car', 'bare', 'see', 'cocain', 'drink', 'drive', 'stick', 'shift', 'tacon', 'never', 'diseas', 'know', 'much', 'could', 'kept', 'togeth', 'courag', 'stamina', 'willpow', 'wish', 'could', 'fun', 'relax', 'respons', 'potenti', 'kind', 'great', 'man', 'famili', 'good', 'fail', 'good', 'fail', 'three', 'realli', 'good', 'thing', 'fail', 'thing', 'failur', 'great', 'shut', 'eye', 'tire', 'come', 'edelweiss', 'never', 'walk', 'alon', 'joy', 'solac', 'admittedli', 'gift', 'hammerstein', 'word', 'pass', 'like', 'giant', 'rock', 'carri', 'ev', 'ry', 'damn', 'mountain', 'grandfath', 'trust', 'allow', 'guettel', 'make', 'art', 'care', 'work', 'project', 'year', 'without', 'write', 'jingl', 'wait', 'tabl', 'pay', 'rent', 'also', 'financ', 'death', 'defi', 'addict', 'everi', 'day', 'threaten', 'crack', 'voic', 'forev', 'ask', 'tot', 'loss', 'oh', 'lost', 'job', 'sigh', 'lost', 'good', '<NUM>', 'percent', 'sing', 'abil', 'fri', 'voic', 'alcohol', 'cigarett', 'pot', 'big', 'thing', 'lost', 'time', 'think', 'conserv', '<NUM>', 'year', 'write', '<NUM>', 'year', 'sinc', 'got', 'school', 'gain', 'employ', 'six', 'actual', 'make', 'fairli', 'quick', 'writer', 'contrari', 'imag', 'advertis', 'continu', 'read', 'main', 'stori', 'true', 'enough', 'descend', 'hill', 'tri', 'tumbl', 'guettel', 'get', 'back', 'work', 'miss', 'song', 'far', 'exist', 'jumbl', 'music', 'motif', 'fragmentari', 'lyric', 'comput', 'file', 'apt', 'temporari', 'titl', 'fall', 'song', 'readi', 'first', 'night', 'preview', 'saw', '<DATE>', 'went', 'show', '<NUM>', 'day', 'later', 'assum', 'hear', 'piazza', 'come', 'new', 'york', 'product', 'winter', 'goodman', 'theater', 'chicago', 'come', 'new', 'york', 'econom', 'seriou', 'chamber', 'music', 'broadway', 'easi', 'squar', 'first', 'ask', 'guettel', 'possibl', 'bring', 'call', 'tender', 'littl', 'experi', 'said', 'care', 'got', 'trust', 'fund', 'part', 'defens', 'care', 'also', 'recogn', 'new', 'york', 'may', 'viabl', 'option', 'everi', 'project', 'risk', 'someon', 'els', '<CUR>', '<NUM>', 'million', 'even', 'seattl', 'intiman', 'bet', 'farm', 'livestock', 'say', 'laura', 'penn', 'theater', 'manag', 'director', 'product', '<CUR>', '<NUM>', 'million', 'three', 'time', 'expens', 'typic', 'show', 'guettel', 'realli', 'want', 'work', 'good', 'futur', 'deni', 'new', 'york', 'product', 'would', 'help', 'goal', 'new', 'york', 'collabor', 'tina', 'landau', 'polish', 'floyd', 'collin', 'high', 'gloss', 'receiv', 'kind', 'acclaim', 'translat', 'heavi', 'listen', 'licens', 'rodger', 'hammerstein', 'theater', 'librari', 'unsurprisingli', 'handl', 'product', 'right', 'guettel', 'work', 'licens', '<NUM>', 'north', 'american', 'product', 'floyd', 'collin', 'four', 'year', 'make', 'accord', 'theodor', 'chapin', 'presid', 'r', 'h', 'organ', 'oklahoma', 'new', 'music', 'theater', 'set', 'show', 'seek', 'futur', 'realli', 'need', 'record', 'score', 'publish', 'seem', 'certain', 'happen', 'piazza', 'unclear', 'whether', 'anyon', 'superior', 'singer', 'actor', 'luca', 'guettel', 'assembl', 'ever', 'abl', 'perform', 'anyon', 'whistl', 'happi', 'tune', 'take', 'look', 'score', 'piazza', 'creat', 'highli', 'chromat', 'yearn', 'atmospher', 'guettel', 'call', 'faux', 'lisztian', 'harpist', 'kept', 'busi', 'chang', 'pedal', 'basic', 'clog', 'danc', 'instrument', 'piano', 'violin', 'cello', 'bass', 'spare', 'either', 'vocal', 'line', 'compuls', 'notat', 'last', 'crotchet', 'specifi', 'kind', 'inflect', 'back', 'phrase', 'compos', 'would', 'leav', 'singer', 'sens', 'style', 'pedantri', 'guettel', 'hear', 'sens', 'tri', 'stabil', 'damag', 'world', 'love', 'romant', 'climax', 'score', 'less', 'heart', 'melt', 'set', 'mostli', 'compound', 'time', 'signatur', '<NUM>', '<NUM>', '+', '<NUM>', '<NUM>', 'thank', 'strang', 'limp', 'extra', 'eighth', 'note', 'seem', 'argu', 'imperfect', 'anoth', 'kind', 'beauti', 'tri', 'learn', 'without', 'guettel', 'longtim', 'music', 'director', 'ted', 'sperl', 'hammer', 'beat', 'learn', 'love', 'help', 'guettel', 'say', 'final', 'admit', 'confidenti', 'promin', 'theater', 'compos', 'like', 'promin', 'manuscript', 'illumin', 'let', 'ask', 'peopl', 'think', 'art', 'form', 'want', 'seem', 'shame', 'enough', 'tinker', 'piazza', 'could', 'classic', 'main', 'strength', 'novella', 'retain', 'mani', 'place', 'enhanc', 'luca', 'comed', 'gift', 'beyond', 'stori', 'pull', 'guettel', 'half', 'dozen', 'convinc', 'beauti', 'new', 'theater', 'song', 'heard', 'long', 'time', 'surpris', 'time', 'love', 'may', 'abstrus', 'meter', 'beneath', 'skin', 'genet', 'program', 'convent', 'b', 'bone', 'good', 'melodi', 'guettel', 'phrase', 'dens', 'packet', 'inform', 'unfold', 'time', 'someth', 'put', 'pocket', 'carri', 'lightli', 'open', 'need', 'piazza', 'pocket', 'nexu', 'three', 'thing', 'make', 'song', 'reach', 'world', 'guettel', 'say', 'writer', 'craft', 'one', 'soul', 'anoth', 'third', 'thing', 'one', 'control', 'time', 'grandpa', 'right', 'place', 'right', 'time', 'thought', 'right', 'thing', 'even', 'enlighten', 'person', 'person', 'perfect', 'control', 'techniqu', 'simpl', 'song', 'like', 'rememb', 'name', 'mean', 'mi', 'sound', 'music', 'never', 'forgotten', 'believ', 'possibl', 'write', 'song', 'today', 'univers', 'comprehens', 'time', 'song', 'anoth', 'inherit', 'burden', 'yet', 'last', 'day', 'seattl', 'guettel', 'relat', 'dream', 'grandfath', 'walk', 'elev', 'ask', 'good', 'said', 'rather', 'kindli', 'voic', 'elev', 'door', 'close', 'take', 'guettel', 'tell', 'mean', 'despit', 'profound', 'ambival', 'famili', 'busi', 'resolv', 'carri', 'forward', 'way', 'next', 'project', 'shockingli', 'ambiti', 'concert', 'piec', 'audra', 'mcdonald', 'make', 'previou', 'risk', 'seem', 'like', 'well', 'mi', 'though', 'day', 'piazza', 'play', 'first', 'preview', '<NUM>', 'day', 'recoveri', 'guettel', 'make', 'plan', 'get', '<NUM>', 'beyond', 'seem', 'good', 'sign', 'stop', 'hide', 'pain', 'truth', 'life', 'pain', 'hope', 'also', 'take', 'omen', 'piazza', 'happi', 'end', 'albeit', 'guettel', 'insist', 'axi', 'one', 'child', 'never', 'learn', 'damag', 'get', 'marri', 'italian', 'suitor', 'music', 'end', 'less', 'ambival', 'mother', 'farewel', 'song', 'turbul', '<NUM>', 'measur', 'resolv', 'delic', 'transpar', 'figur', 'peac', 'c', 'sharp', 'major', 'last', 'bar', 'sound', 'help', 'think', 'like', 'golden', 'sky', 'end', 'storm', 'suggest', 'hope', 'howev', 'hammersteinian', 'ear', 'find', 'way', 'home', 'time', 'though', 'curtain', 'fall', 'brilliant', 'stage', 'pictur', 'parent', 'child', 'add', 'find', 'way', 'home', 'sometim', 'mean', 'leav', 'good']",
         "reliable"
        ],
        [
         "25",
         "['photo', 'william', 'nichola', 'nowacki', 'joshua', 'ryan', 'langdon', 'marri', '<DATE>', 'scott', 'e', 'knox', 'lawyer', 'ordain', 'univers', 'life', 'church', 'event', 'offici', 'wild', 'dune', 'resort', 'isl', 'palm', 'c', 'mr', 'nowacki', 'left', '<NUM>', 'goe', 'nick', 'take', 'mr', 'langdon', 'name', 'asset', 'manag', 'peak', 'campu', 'atlanta', 'base', 'student', 'hous', 'manag', 'compani', 'overse', 'properti', 'manag', 'midwest', 'region', 'graduat', 'receiv', 'master', 'exercis', 'physiolog', 'mississippi', 'state', 'univers', 'starkvil', 'son', 'carol', 'nowacki', 'robert', 'nowacki', 'sturgi', 'miss', 'mr', 'nowacki', 'mother', 'nurs', 'winston', 'medic', 'center', 'nurs', 'home', 'louisvil', 'miss', 'father', 'mainten', 'supervisor', 'mississippi', 'state', 'mr', 'langdon', '<NUM>', 'lawyer', 'wood', 'lamp', 'cincinnati', 'focus', 'lesbian', 'gay', 'transgend', 'queer', 'right', 'graduat', 'colleg', 'charleston', 'receiv', 'law', 'degre', 'univers', 'cincinnati', 'son', 'lisa', 'r', 'hooser', 'ronald', 'h', 'hooser', 'huntington', '<URL>', 'mr', 'langdon', 'father', 'owner', 'vice', 'presid', 'r', 'h', 'adkin', 'oil', 'ga', 'compani', 'hamlin', '<URL>', 'coupl', 'met', 'speed', 'date', 'event', 'cincinnati', '<DATE>', 'other', 'last', 'match']",
         "reliable"
        ],
        [
         "26",
         "['twitchi', 'told', 'earlier', 'roy', 'moor', 'mount', 'trusti', 'hors', 'sassi', 'rode', 'poll', 'place', 'vote', 'asid', 'sort', 'tradit', 'might', 'figur', 'would', 'help', 'boost', 'home', 'rug', 'masculin', 'cred', 'laura', 'ingraham', 'one', 'buy', 'moor', 'sell', 'least', 'far', 'sassi', 'concern', 'ride', 'poll', 'hors', 'realli', 'stupid', 'laura', 'ingraham', 'ingrahamangl', '<DATE>', 'everyon', 'agre', 'assess', 'hilari', 'come', 'laura', 'get', 'sens', 'humor', 'peachywitchi', 'peachywitchi', '<DATE>', 'thought', 'cool', 'brenda', 'hinchman', 'brendahinchman', '<DATE>', 'thought', 'cool', 'brenda', 'pendleton', 'txgirl', '<NUM>', '<DATE>', 'think', 'fun', 'susan', 'momwifegrammi', '<DATE>', 'freak', 'think', 'awesom', '🇺', 'g', 'can👠', 'gcando', '<NUM>', '<DATE>', 'unnecessarili', 'bitchi', 'comment', 'joe', 'dan', 'gorman', 'joedanmedia', '<DATE>', 'event', 'guess', 'find', 'soon', 'enough', 'sassi', 'brought', 'luck', 'saddl', 'sore']",
         "reliable"
        ],
        [
         "27",
         "['getti', 'nick', 'kyrgio', 'downbeat', 'defeat', 'andi', 'murray', 'kyrgio', 'went', 'toe', 'toe', 'world', '<NUM>', 'murray', 'first', 'set', 'centr', 'court', 'thereaft', 'fell', 'apart', 'lose', '<NUM>', '<NUM>', '<NUM>', '<NUM>', '<NUM>', '<NUM>', '<NUM>', 'year', 'old', 'heavili', 'criticis', 'perform', 'particularli', 'american', 'legend', 'john', 'mcenro', 'kyrgio', 'visibl', 'downbeat', 'post', 'match', 'press', 'confer', 'lose', 'one', 'hour', '<NUM>', 'minut', 'murray', 'q', 'assess', 'perform', 'nk', 'good', 'first', 'set', 'rest', 'match', 'pretti', 'pathet', 'q', 'feel', 'though', 'lost', 'focu', 'earli', 'second', 'set', 'troubl', 'get', 'back', 'nk', 'yeah', 'mean', 'realli', 'comfort', 'first', 'set', 'thought', 'play', 'realli', 'good', 'tenni', 'believ', 'could', 'win', 'match', 'soon', 'lost', 'first', 'set', 'lost', 'belief', 'obvious', 'felt', 'like', 'mountain', 'climb', 'lose', 'first', 'play', 'pretti', 'well', 'well', 'think', 'miss', 'mani', 'ball', 'either', 'wag', 'wimbledon', '<DATE>', 'wed', '<DATE>', 'celebr', 'wimbledon', '<DATE>', 'take', 'look', 'beauti', 'wag', 'player', 'compet', 'world', 'famou', 'tenni', 'match', 'play', 'slideshow', 'getti', '<NUM>', '<NUM>', 'andi', 'kim', 'murray', 'q', 'andi', 'obvious', 'qualiti', 'oppon', 'lesson', 'take', 'play', 'grand', 'slam', 'nk', 'littl', 'soft', 'still', 'think', 'thing', 'get', 'tough', 'littl', 'bit', 'soft', 'mean', 'got', 'experi', 'ultim', 'come', 'lay', 'compet', 'long', 'time', 'today', 'q', 'bbc', 'say', 'might', 'need', 'take', 'thing', 'serious', 'match', 'like', 'feel', 'like', 'nk', 'know', 'said', 'get', 'q', 'much', 'feel', 'first', 'week', 'took', 'toll', 'mental', 'physic', 'factor', 'today', 'nk', 'think', 'yeah', 'mean', 'actual', 'feel', 'littl', 'tire', 'mean', 'lot', 'player', 'posit', 'q', 'said', 'lost', 'belief', 'lost', 'first', 'set', 'switch', 'flick', 'thought', 'gone', 'nk', 'kind', 'guess', 'yeah', 'getti', 'kyrgio', 'hope', 'murray', 'goe', 'win', 'second', 'wimbledon', 'titl', 'q', 'think', 'andi', 'win', 'tournament', 'nk', 'hope', 'hope', 'definit', 'think', 'definit', 'got', 'great', 'chanc', 'q', 'john', 'mcenro', 'say', 'thought', 'abil', 'win', 'multipl', 'grand', 'slam', 'feel', 'crossroad', 'get', 'coach', 'reaction', 'nk', 'know', 'q', 'obvious', 'fantast', 'talent', 'greatli', 'entertain', 'think', 'appli', 'gut', 'heart', 'becom', 'best', 'pro', 'nk', 'q', 'someth', 'want', 'address', 'chang', 'nk', 'know', 'wimbledon', '<DATE>', 'sun', '<DATE>', 'world', 'famou', 'wimbledon', 'championship', '<DATE>', 'play', 'slideshow', 'getti', '<NUM>', '<NUM>', 'andi', 'murray', 'kiss', 'championship', 'trophi', 'follow', 'win', 'milo', 'raonic', 'canada', 'men', 'singl', 'final', 'wimbledon', 'championship', 'q', 'enjoy', 'sport', 'someth', 'realli', 'love', 'enjoy', 'find', 'frustrat', 'enjoy', 'nk', 'yeah', 'mean', 'time', 'like', 'previous', 'said', 'love', 'sport', 'know', 'realli', 'know', 'els', 'without', 'obvious', 'like', 'play', 'game', 'massiv', 'part', 'life', 'yeah', 'know', 'whether', 'realli', 'know', 'q', 'think', 'prepar', 'spend', 'lot', 'time', 'court', '<NUM>', 'watch', 'lleyton', 'think', 'someth', 'els', 'nk', 'whether', 'locker', 'room', 'sit', 'sit', 'next', 'court', 'think', 'realli', 'made', 'differ', 'q', 'feel', 'like', 'crossroad', 'today', 'go', 'go', 'one', 'way', 'career', 'nk', 'mean', 'q', 'either', 'go', 'learn', 'becom', 'better', 'player', 'said', 'love', 'game', 'might', 'walk', 'away', 'sort', 'level', 'nk', 'walk', 'away', 'q', 'tenni', 'career', 'nk', 'lost', 'fourth', 'round', 'lose', 'qualifi', 'feel', 'like', 'right', 'laughter', 'diabol', 'question', 'twitter', 'kyrgio', 'warm', 'clash', 'murray', 'watch', 'compatriot', 'lleyton', 'hewitt', 'q', 'time', 'andi', 'earli', 'career', 'cramp', 'difficulti', 'game', 'enjoy', 'time', 'worth', 'time', 'speak', 'make', 'fun', 'tough', 'journey', 'seem', 'like', 'enjoy', 'nk', 'yeah', 'could', 'talk', 'probabl', 'next', 'coupl', 'day', 'though', 'q', 'day', 'say', 'us', 'basic', 'give', 'break', 'believ', 'go', 'make', 'kind', 'effect', 'help', 'difficult', 'moment', 'sound', 'like', 'pretti', 'much', 'corner', 'nk', 'mean', 'realli', 'understand', 'question', 'ask', 'q', 'hear', 'someon', 'like', 'andi', 'say', 'corner', 'abl', 'make', 'help', 'nk', 'help', 'sure', 'one', 'greatest', 'player', 'play', 'game', 'mean', 'know', 'talent', 'good', 'thing', 'yeah', 'q', 'said', 'ask', 'put', 'everyth', 'thing', 'might', 'chang', 'piqu', 'interest', 'give', 'bigger', 'drive', 'nk', 'know', 'honest', 'woke', 'morn', 'play', 'comput', 'game', 'greatest', 'prepar', 'know', 'fun', 'q', 'said', 'see', 'life', 'len', 'nba', 'golden', 'state', 'warrior', 'pick', 'kevin', 'durant', 'nk', 'disgrac', 'joke', 'watch', 'nba', 'q', 'andi', 'spent', 'longer', 'end', 'match', 'normal', 'say', 'nk', 'said', 'sorri', 'said', 'okay', 'win', 'tournament', 'pleas', 'hug', 'q', 'see', 'guy', 'like', 'milo', 'raonic', 'go', 'mcenro', 'marin', 'cilic', 'go', 'goran', 'ivanisev', 'say', 'want', 'coach', 'nk', 'know', 'like', 'one', 'week', 'pretti', 'motiv', 'train', 'play', 'realli', 'look', 'forward', 'get', 'one', 'week', 'anyth', 'realli', 'know', 'coach', 'would', 'pretti', 'one', 'q', 'bad', 'loss', 'seem', 'pretti', 'wonder', 'disappoint', 'come', 'nk', 'bad', 'loss', 'know', 'record', '<NUM>', '<NUM>', 'think', 'everi', 'time', 'come', 'lose', 'good', 'player', 'disappoint', 'know', 'want', 'better', 'getti', 'kyrgio', 'beat', 'dustin', 'brown', 'feliciano', 'lopez', 'reach', 'murray']",
         "fake"
        ],
        [
         "28",
         "['<NUM>', 'year', 'old', 'discuss', 'michael', 'phelp', 'partak', 'shark', 'race', 'challeng', 'accident', 'muddl', 'word', 'began', 'world', 'decor', 'swinger', 'mean', 'swimmer', 'sorri', 'everyon', 'meant', 'happen', 'know', 'noth', 'meant', 'say', 'swimmer', 'charlott', 'blush', 'co', 'present', 'kate', 'garraway', 'ranvir', 'singh', 'hold', 'back', 'laughter', 'incred', 'unfortun', 'gaff', 'latter', 'joke', 'think', 'need', 'swim', 'fast', 'one']",
         "fake"
        ],
        [
         "29",
         "['<NUM>', 'k', 'share', 'share', 'stori', 'presid', 'trump', 'long', 'hard', 'first', 'week', 'sign', 'multipl', 'execut', 'order', 'everi', 'day', 'bout', 'watch', 'fox', 'news', 'casual', 'threaten', 'impos', 'martial', 'law', 'citi', 'chicago', 'quit', 'busi', 'trampl', 'valu', 'found', 'nation', 'liberti', 'make', 'us', 'stress', 'new', 'presid', 'decid', 'take', 'vacat', 'time', 'per', 'newsweek', 'kurt', 'eichenwald', 'new', 'york', 'time', 'maggi', 'haberman', 'trump', 'schedul', 'vacat', 'time', 'weekend', 'palm', 'beach', 'fine', 'conserv', 'start', 'scream', 'work', 'kurt', 'eichenwald', 'kurteichenwald', '<DATE>', 'sure', 'recal', 'conserv', 'threw', 'verit', 'tantrum', 'time', 'presid', 'obama', 'ever', 'took', 'time', 'play', 'round', 'golf', 'let', 'alon', 'go', 'vacat', 'trump', 'campaign', 'trail', 'complain', 'fox', 'greta', 'van', 'sustern', 'much', 'vacat', 'time', 'presid', 'obama', 'took', 'well', 'fact', 'take', 'vacat', 'human', 'ever', 'seen', 'use', 'complain', 'georg', 'bush', 'understand', 'alreadi', 'exceed', 'georg', 'bush', 'even', 'year', 'like', 'vacat', 'well', 'mean', 'send', 'bad', 'messag', 'countri', 'realli', 'go', 'hell', 'handbasket', 'let', 'kid', 'happen', 'countri', 'horribl', 'world', 'talk', 'presid', 'constantli', 'whether', 'martha', 'vineyard', 'someplac', 'els', 'constantli', 'vacat', 'mean', 'time', 'vacat', 'think', 'send', 'bad', 'messag', 'work', 'countri', 'bring', 'back', 'nation', 'actual', 'go', 'hell', 'handbasket', 'thank', 'trump', 'unquest', 'willing', 'sign', 'anyth', 'neo', 'nazi', 'stephen', 'bannon', 'put', 'hand', 'trump', 'decid', 'enough', 'presid', 'thing', 'would', 'rather', 'jet', 'mansion', 'away', 'hater', 'loser', 'play', 'golf', 'trump', 'held', 'us', 'would', 'consid', 'real', 'job', 'fifteen', 'year', 'extrem', 'unlik', 'ever', 'work', 'hard', 'anyth', 'place', 'demand', 'job', 'world', 'alreadi', 'prove', 'unfit', 'offic', 'download', 'new', 'occupi', 'democrat', 'app', 'iphon', 'click', 'android', 'click', 'add', 'name', 'million', 'demand', 'congress', 'take', 'action', 'presid', 'crime', 'impeach', 'donald', 'trump']",
         "reliable"
        ],
        [
         "30",
         "['photo', 'david', 'hay', 'set', 'bar', 'high', 'mann', 'orchestra', 'monday', 'even', 'led', 'student', 'ensembl', 'pair', 'hefti', 'concentr', 'differ', 'sacr', 'work', 'carnegi', 'hall', 'messiaen', 'ascens', 'quatr', 'méditat', 'symphoniqu', 'mendelssohn', 'lobgesang', 'op', '<NUM>', 'took', 'player', 'moment', 'settl', 'piec', 'produc', 'robust', 'unifi', 'sound', 'reflect', 'almost', 'ecstat', 'devot', 'messiaen', 'mendelssohn', 'embrac', 'score', 'composit', 'deserv', 'heard', 'often', 'would', 'probabl', 'still', 'wait', 'list', 'messiaen', 'centenari', 'year', 'mendelssohn', 'bicentenni', 'next', 'year', 'movement', 'messiaen', 'exquisit', 'mystic', 'work', 'prayer', 'speak', 'accent', 'timbr', 'open', 'majesté', 'du', 'christ', 'demand', 'sa', 'gloir', 'à', 'son', 'père', 'exampl', 'brass', 'choral', 'couch', 'mild', 'disson', 'make', 'sound', 'otherworldli', 'acerb', 'contrast', 'strikingli', 'exot', 'modal', 'theme', 'birdcal', 'woodwind', 'domin', 'second', 'movement', 'alléluia', 'serein', 'une', 'âme', 'qui', 'désire', 'le', 'ciel', 'balanc', 'shift', 'partway', 'back', 'brass', 'third', 'movement', 'toward', 'string', 'write', 'begin', 'allur', 'misti', 'build', 'toward', 'irresist', 'intens', 'final', 'page', 'advertis', 'continu', 'read', 'main', 'stori', 'arriv', 'work', 'spirit', 'intact', 'requir', 'taut', 'conduct', 'alert', 'focus', 'play', 'mr', 'hay', 'musician', 'deliv', 'mendelssohn', 'need', 'quit', 'differ', 'full', 'throttl', 'romant', 'choral', 'symphoni', 'debt', 'beethoven', 'ninth', 'symphoni', 'obviou', 'move', 'differ', 'direct', 'well', 'starter', 'beethoven', 'creat', 'larg', 'secular', 'universalist', 'encomium', 'mendelssohn', 'lobgesang', 'hymn', 'prais', 'draw', 'mostli', 'biblic', 'text', 'essenti', 'vast', 'psalm', 'long', 'lush', 'orchestr', 'prefac']",
         "reliable"
        ],
        [
         "31",
         "['marc', 'faber', 'us', 'economi', 'polit', 'near', 'collaps', 'reader', 'think', 'stori', 'fact', 'add', 'two', 'cent', 'news', 'marc', 'faber', 'us', 'economi', 'politica', 'near', 'collaps', 'dollar', 'currenc', 'presid', 'usa', 'money', 'marc', 'faber', 'intern', 'investor', 'known', 'uncanni', 'predict', 'stock', 'market', 'futur', 'market', 'around', '<URL>', 'doom', 'also', 'trade', 'currenc', 'commod', 'content', 'summari', 'pleas', 'visit', '<URL>', 'marc', 'faber', 'blog', 'http', 'faber', '<URL>', 'full', 'stori', '>>>>', 'sourc', '<URL>']",
         "fake"
        ],
        [
         "32",
         "['ze', 'ev', 'begin', 'son', 'menachem', 'begin', 'nice', 'human', 'imposs', 'like', 'well', 'brought', 'polit', 'modest', 'kind', 'person', 'one', 'would', 'like', 'friend', 'unfortun', 'polit', 'view', 'far', 'less', 'likabl', 'much', 'extrem', 'even', 'act', 'father', 'father', 'lead', 'irgun', 'sat', 'made', 'peac', 'anwar', 'al', 'sadat', 'egypt', 'ze', 'ev', 'closer', 'golda', 'ir', 'ignor', 'sadat', 'peac', 'overtur', 'led', 'us', 'disastr', 'yom', 'kippur', 'war', 'begin', 'jr', 'strict', 'follow', 'revisionist', 'zionist', 'creed', 'found', 'vladimir', 'ze', 'ev', 'jabotinski', 'one', 'characterist', 'movement', 'alway', 'import', 'gave', 'written', 'text', 'declar', 'labor', 'movement', 'head', 'david', 'ben', 'gurion', 'give', 'damn', 'word', 'declar', 'respect', 'fact', 'ground', 'last', 'week', 'ze', 'ev', 'begin', 'wrote', 'one', 'rare', 'articl', 'main', 'purpos', 'prove', 'peac', 'palestinian', 'imposs', 'pipe', 'dream', 'isra', 'peac', 'lover', 'haaretz', '<NUM>', 'quot', 'numer', 'palestinian', 'text', 'speech', 'even', 'schoolbook', 'begin', 'show', 'palestinian', 'never', 'never', 'never', 'give', 'right', 'return', 'sinc', 'return', 'would', 'entail', 'end', 'jewish', 'state', 'begin', 'assert', 'peac', 'pipe', 'dream', 'never', 'peac', 'end', 'stori', 'similar', 'point', 'made', 'anoth', 'profound', 'thinker', 'alexand', 'jakobson', 'anoth', 'import', 'articl', 'haaretz', '<NUM>', 'direct', 'person', 'headlin', 'assert', 'true', 'israel', 'truth', 'accus', 'toler', 'toward', 'bd', 'movement', 'put', 'end', 'israel', 'know', 'simpl', 'bd', 'confirm', 'palestinian', 'right', 'return', 'everybodi', 'know', 'mean', 'destruct', 'jewish', 'state', 'well', 'actual', 'object', 'bd', 'sever', 'reason', 'movement', 'belong', 'gush', 'shalom', 'first', '<DATE>', 'declar', 'boycott', 'settlement', 'aim', 'separ', 'isra', 'peopl', 'settlement', 'bd', 'boycott', 'divest', 'sanction', 'movement', 'boycot', 'israel', 'achiev', 'opposit', 'effect', 'push', 'isra', 'peopl', 'arm', 'settler', 'also', 'like', 'call', 'peopl', 'boycott', 'point', 'bd', 'platform', 'one', 'bother', 'least', 'demand', 'state', 'israel', 'recogn', 'palestinian', 'right', 'return', 'simpli', 'ridicul', 'thousand', 'year', 'bd', 'compel', 'israel', 'bother', 'let', 'us', 'first', 'throw', 'light', 'issu', 'british', 'withdrew', 'palestin', '<DATE>', 'countri', 'mediterranean', 'jordan', '<NUM>', 'million', 'arab', '<NUM>', 'jew', 'end', 'war', 'ensu', '<NUM>', 'arab', 'fled', 'driven', 'war', 'later', 'call', 'ethnic', 'cleans', 'arab', 'left', 'territori', 'conquer', 'jewish', 'arm', 'rememb', 'jew', 'left', 'territori', 'conquer', 'arab', 'arm', 'fortun', 'side', 'arab', 'succeed', 'occupi', 'small', 'slice', 'land', 'inhabit', 'jew', 'etzion', 'bloc', 'east', 'jerusalem', 'et', 'al', 'side', 'conquer', 'larg', 'inhabit', 'territori', 'combat', 'soldier', 'saw', 'eye', 'arab', 'refuge', 'multipli', 'natur', 'increas', 'today', 'number', '<NUM>', 'million', '<NUM>', 'million', 'live', 'occupi', 'west', 'bank', 'million', 'gaza', 'strip', 'rest', 'dispers', 'jordan', 'lebanon', 'syria', 'world', 'would', 'come', 'back', 'given', 'opportun', 'let', 'us', 'consid', 'year', 'ago', 'uniqu', 'experi', 'invit', 'give', 'lectur', 'new', 'york', 'pleasant', 'surpris', 'front', 'row', 'saw', 'good', 'friend', 'mine', 'young', 'arab', 'poet', 'rashid', 'hussein', 'rashid', 'born', 'villag', 'near', 'nazareth', 'beg', 'come', 'visit', 'new', 'jersey', 'apart', 'arriv', 'flabbergast', 'small', 'apart', 'crowd', 'peopl', 'palestinian', 'refuge', 'kind', 'young', 'old', 'men', 'women', 'long', 'extrem', 'emot', 'discuss', 'refuge', 'issu', 'drove', 'home', 'told', 'wife', 'know', 'felt', 'realli', 'care', 'return', 'readi', 'die', 'right', 'return', 'rachel', 'keen', 'observ', 'repli', 'impress', 'today', 'dozen', 'year', 'later', 'convinc', 'basic', 'truth', 'still', 'valid', 'huge', 'differ', 'principl', 'implement', 'principl', 'cannot', 'deni', 'belong', 'individu', 'refuge', 'safeguard', 'intern', 'law', 'sacr', 'futur', 'peac', 'treati', 'state', 'israel', 'state', 'palestin', 'includ', 'paragraph', 'say', 'israel', 'affirm', 'principl', 'right', 'return', 'palestinian', 'refuge', 'descend', 'palestinian', 'leader', 'could', 'possibl', 'sign', 'treati', 'includ', 'claus', 'obstacl', 'remov', 'tabl', 'real', 'discuss', 'solut', 'start', 'imagin', 'scene', 'agreement', 'reach', 'peac', 'confer', 'chairperson', 'take', 'deep', 'breath', 'say', 'friend', 'let', 'get', 'real', 'issu', 'shall', 'solv', 'refuge', 'problem', 'practic', 'six', 'million', 'palestinian', 'refuge', 'constitut', 'six', 'million', 'individu', 'situat', 'mani', 'categori', 'refuge', 'singl', 'solut', 'appli', 'mani', 'refuge', 'perhap', 'last', '<NUM>', 'year', 'built', 'new', 'life', 'anoth', 'countri', 'right', 'return', 'well', 'principl', 'would', 'dream', 'go', 'back', 'ancestr', 'villag', 'even', 'still', 'well', 'rich', 'rich', 'one', 'richest', 'friend', 'may', 'call', 'salman', 'abu', 'sitta', 'start', 'life', 'barefoot', 'boy', 'negev', 'fled', '<DATE>', 'famili', 'gaza', 'later', 'becam', 'immens', 'success', 'contractor', 'britain', 'gulf', 'met', 'peac', 'confer', 'long', 'emot', 'privat', 'dinner', 'afterward', 'agre', 'abu', 'sitta', 'insist', 'refuge', 'must', 'allow', 'return', 'israel', 'even', 'settl', 'negev', 'desert', 'see', 'practic', 'logic', 'hundr', 'discuss', 'solut', 'palestinian', 'yasser', 'arafat', 'peopl', 'refuge', 'camp', 'great', 'major', 'nowaday', 'would', 'sign', 'formula', 'seek', 'agre', 'solut', 'refuge', 'problem', 'agre', 'includ', 'israel', 'formula', 'appear', 'arab', 'peac', 'plan', 'devis', 'saudi', 'arabia', 'offici', 'accept', 'entir', 'muslim', 'world', 'would', 'look', 'practic', 'mean', 'everi', 'refuge', 'famili', 'would', 'offer', 'choic', 'actual', 'return', 'adequ', 'compens', 'return', 'extraordinari', 'instanc', 'origin', 'villag', 'still', 'stand', 'empti', 'imagin', 'symbol', 'reconstruct', 'villag', 'say', 'two', 'three', 'former', 'inhabit', 'agre', 'number', 'must', 'allow', 'return', 'territori', 'israel', 'especi', 'rel', 'help', 'strike', 'root', 'hard', 'thing', 'isra', 'swallow', 'hard', 'israel', 'alreadi', '<NUM>', 'million', 'arab', 'citizen', '<NUM>', 'popul', 'anoth', 'say', 'quarter', 'million', 'would', 'make', 'real', 'differ', 'other', 'would', 'paid', 'gener', 'compens', 'could', 'use', 'consolid', 'live', 'emigr', 'place', 'like', 'australia', 'canada', 'would', 'gladli', 'receiv', 'money', '<NUM>', 'million', 'refuge', 'live', 'west', 'bank', 'gaza', 'anoth', 'larg', 'number', 'live', 'jordan', 'jordanian', 'citizen', 'still', 'live', 'refuge', 'camp', 'compens', 'would', 'welcom', 'money', 'come', 'israel', 'must', 'pay', 'share', 'time', 'reduc', 'huge', 'militari', 'budget', 'world', 'organ', 'contribut', 'larg', 'part', 'feasibl', 'ye', 'dare', 'say', 'atmospher', 'right', 'even', 'probabl', 'contrari', 'begin', 'belief', 'text', 'written', 'today', 'demagogu', 'serv', 'today', 'purpos', 'process', 'start', 'roll', 'solut', 'like', 'less', 'almost', 'unavoid', 'let', 'forget', 'moment', 'refuge', 'human', 'be', 'top', 'photo', '|', 'palestinian', 'refuge', 'mahmoud', 'al', 'amer', '<NUM>', 'walk', 'past', 'mural', 'west', 'bank', 'refuge', 'camp', 'jenin', 'monday', '<DATE>', 'arab', 'mural', 'read', 'must', 'never', 'forget', 'return', 'sacr', 'right', 'ap', 'moham', 'balla', 'uri', 'avneri', 'peac', 'activist', 'journalist', 'writer', 'former', 'member', 'isra', 'knesset', 'read', 'articl', 'uri', 'visit', 'uri', 'websit', '©', '<URL>']",
         "reliable"
        ],
        [
         "33",
         "['kid', 'right', 'presid', 'donald', 'trump', 'poll', 'releas', 'tuesday', 'institut', 'polit', 'harvard', 'univers', 'kennedi', 'school', 'found', '<NUM>', 'percent', 'american', 'age', '<NUM>', '<NUM>', 'said', 'approv']",
         "reliable"
        ],
        [
         "34",
         "['make', 'fun', 'hillari', 'reader', 'think', 'stori', 'fact', 'add', 'two', 'cent', 'news', 'jeff', 'dunham', 'know', 'comedian', 'make', 'fun', 'shrillari', 'wise', 'tell', 'us', 'friend', 'tri', 'tell', 'us', 'instead', 'tip', 'conserv', 'seattl', 'sourc', '<URL>']",
         "fake"
        ],
        [
         "35",
         "['yesterday', 'feder', 'judg', 'michigan', 'issu', 'sweep', 'rebuk', 'secret', 'domest', 'surveil', 'effort', 'white', 'hous', 'author', 'follow', 'terrorist', 'attack', '<DATE>', 'rule', 'signific', 'blow', 'bush', 'attempt', 'expand', 'presidenti', 'power', 'know', 'watch', 'last', 'even', 'network', 'newscast', 'three', 'major', 'tv', 'network', 'led', 'even', 'news', 'stori', 'jonbenet', 'ramsey', 'death', 'comment', 'made', 'arrest', 'teacher', 'john', 'mark', 'karr', 'network', 'offer', 'multipl', 'segment', 'numer', 'expert', 'analys', 'provid', 'depth', 'coverag', 'legal', 'case', 'nsa', 'decis', 'receiv', 'pass', 'mention', 'two', 'newscast', 'abc', 'devot', 'full', 'segment', 'still', 'abc', 'devot', 'twice', 'much', 'time', 'ramsey', 'nsa', 'stori', 'egregi', 'cb', 'offer', 'seven', 'time', 'much', 'airtim', 'ramsey', 'nsa', 'stori', 'nbc', 'devot', '<NUM>', 'time', 'airtim', 'comparison', 'alloc', 'time', 'made', 'network', 'networkramsey', 'segmentnsa', 'segmentnbc', '<NUM>', '<NUM>', '<NUM>', 'cb', '<NUM>', '<NUM>', '<NUM>', 'abc', '<NUM>', '<NUM>', '<NUM>', 'cb', 'host', 'bob', 'schieffer', 'wrap', 'ramsey', 'segment', 'reassur', 'audienc', 'stay', 'case', 'sure', 'updat', 'jeff', 'cohen', 'offer', 'explan', 'tv', 'newscast', 'focus', 'ramsey', 'case']",
         "reliable"
        ],
        [
         "36",
         "['louisiana', 'show', 'trademark', 'joie', 'de', 'vivr', 'news', 'img', 'src=', '<URL>', 'width=', '<NUM>', 'style=', 'float', 'left', 'margin', 'right', '<NUM>', 'px', '>', 'despit', 'slow', 'motion', 'disast', 'oil', 'spill', 'gulf', 'mexico', 'peopl', 'louisiana', 'took', 'moment', 'celebr', 'life', 'weekend', 'call', 'earli', 'father', 'day', 'present', 'br', '>', 'br', 'execut', 'chef', 'matt', 'murphi', 'ritz', 'carlton', 'ill', 'coma', 'last', 'june', 'recipi', 'fundrais', 'held', '<NUM>', 'fellow', 'chef', 'year', 'repay', 'organ', 'chef', 'give', 'big', 'parti', 'peopl', 'grand', 'isl', 'br', '>', 'br', 'mayor', 'grand', 'isl', 'david', 'camardel', 'spoke', 'last', 'week', 'congression', 'hear', 'spill', 'br', '>', 'br', 'said', 'go', 'continu', 'feed', 'peopl', 'need', 'help', 'like', 'war', 'frontlin', 'chef', 'intend', 'help', 'meant', 'first', 'mani', 'event', 'give', 'respit', 'peopl', 'gulf', 'coast', 'br', '>', 'br', 'nola', 'chef', 'fishermen', 'famili', 'gave', 'free', 'food', 'island', 'town', 'papa', 'tom', 'bonnecaz', 'serv', 'jambalaya', 'susan', 'cowsil', 'play', 'music', 'peopl', 'age', 'danc', 'br', '>', 'br', 'irvin', 'mayfield', 'playhous', 'review', 'mark', 'adam', 'miller', 'donat', 'music', 'br', '>', 'br', 'snobal', 'babi', 'donat', 'signatur', 'local', 'treat', 'ice', 'cone', 'drizzl', 'flavor', 'br', '>', 'br', 'region', 'famou', 'food', 'music', 'enjoy', 'life', 'accord', 'chef', 'want', 'bring', 'peopl', 'commun', 'togeth', 'day', 'rest', 'free', 'food', 'group', 'motto', 'live', 'eat', 'accord', 'press', 'releas', 'read', 'origin', 'stori', 'epoch', 'time']",
         "fake"
        ],
        [
         "37",
         "['getti', 'number', 'crop', 'eat', 'diamondback', 'moth', 'could', 'explod', 'summer', 'expert', 'warn', 'potenti', 'explos', 'number', 'insect', 'except', 'high', 'number', 'moth', 'arriv', 'uk', 'diamondback', 'moth', 'plutella', 'xylostella', 'blown', 'long', 'distanc', 'wind', 'consid', 'super', 'pest', 'resist', 'insecticid', 'centimetr', 'long', 'caterpillar', 'caus', 'loss', 'grower', 'research', 'say', 'weather', 'warm', 'suitabl', 'breed', 'could', 'explos', 'number', 'end', 'season', 'summer', 'weather', 'warm', 'favour', 'reproduct', 'moth', 'could', 'see', 'explos', 'number', 'end', 'season', 'chri', 'shortal', 'say', 'know', 'exactli', 'moth', 'come', 'could', 'eastern', 'europ', 'russia', 'chri', 'shortal', 'research', 'scientist', 'co', 'ordin', 'rothamst', 'light', 'trap', 'network', 'hertfordshir', 'said', 'seen', 'higher', 'usual', 'number', 'moth', 'trap', 'research', 'centr', 'onlin', 'report', 'high', 'incid', 'diamondback', 'said', 'normal', 'gather', 'data', 'end', 'year', 'volunt', 'run', 'light', 'trap', 'around', 'countri', 'basi', 'report', 'contact', 'ask', 'provid', 'data', 'far', 'report', 'much', 'higher', 'number', 'usual', 'light', 'trap', 'rothamst', 'seen', 'two', 'night', 'number', 'diamondback', 'moth', 'usual', 'record', 'year', 'reflect', 'elsewher', 'network', 'concern', 'cabbag', 'cauliflow', 'grower', 'want', 'inform', 'relev', 'organis', 'grower', 'earli', 'possibl', 'summer', 'weather', 'warm', 'favour', 'reproduct', 'moth', 'could', 'see', 'explos', 'number', 'end', 'season', 'accord', 'long', 'stand', 'annual', 'record', 'rothamst', 'insect', 'survey', 'number', 'report', 'far', 'except', 'high', 'similar', 'level', 'seen', '<DATE>', 'pa', 'diamondback', 'moth', 'consid', 'super', 'pest', 'getti', 'expert', 'hope', 'record', 'number', 'diamondback', 'moth', 'caterpillar', 'hatch', 'site', 'eastern', 'england', 'channel', 'island', 'report', 'around', '<NUM>', 'time', 'normal', 'yearli', 'total', 'period', 'night', '<NUM>', 'report', 'three', 'even', 'trap', 'berkshir', '<NUM>', 'one', 'night', 'guernsey', 'diamondback', 'moth', 'also', 'found', 'larg', 'number', 'trap', 'sampl', 'cabbag', 'field', 'kirton', 'lincolnshir', 'wellesbourn', 'warwickshir', 'expert', 'said', 'scientist', 'examin', 'moth', 'see', 'resist', 'pesticid', 'find', 'way', 'tackl', 'dr', 'steve', 'foster', 'senior', 'scientist', 'rothamst', 'research', 'said', 'aim', 'studi', 'moth', 'immigr', 'current', 'uk', 'identifi', 'whether', 'resist', 'avail', 'insecticid', 'look', 'potenti', 'manag', 'method', 'pa', 'research', 'scientist', 'chri', 'shortal', 'said', 'seen', 'higher', 'number', 'usual', 'could', 'take', 'week', 'urg', 'grower', 'speak', 'authoris', 'advis', 'spray', 'crop', 'said', 'expert', 'would', 'provid', 'scientif', 'inform', 'becam', 'avail', 'mark', 'parson', 'head', 'moth', 'conserv', 'butterfli', 'conserv', 'said', 'recent', 'migrat', 'diamondback', 'moth', 'like', 'due', 'follow', 'wind', 'breed', 'ground', 'unusu', 'larg', 'number', 'complet', 'unexpect', 'uk', 'said', 'occasion', 'minor', 'pest', 'countri', 'brassica', 'possibl', 'given', 'number', 'year', 'may', 'prove', 'bit', 'nuisanc', 'know', 'week', 'caterpillar', 'hatch', 'creatur', 'great', 'small', 'tue', '<DATE>', 'macro', 'look', 'world', 'interest', 'beauti', 'insect', 'play', 'slideshow', 'cater', 'news', 'agenc', '<NUM>', '<NUM>', 'photograph', 'colour', 'peacock', 'spider']",
         "fake"
        ],
        [
         "38",
         "['info', 'giant', 'hole', 'open', 'yamal', '<NUM>', 'share', 'share', 'tweet', 'google+', 'mail', 'reddit', 'buffer', 'pocket', 'pinterest', 'delici', 'tumblr', 'skype', 'print', 'rt', 'mysteri', 'giant', 'crater', 'discov', 'remot', 'part', 'siberia', 'dub', 'local', 'end', 'world', 'puzzl', 'scientist', 'urgent', 'expedit', 'sent', 'far', 'northern', 'peninsula', 'tri', 'solv', 'mysteri', 'team', 'arriv', 'wednesday', 'survey', 'seemingli', 'bottomless', 'pit', 'locat', 'one', 'russia', 'northernmost', 'point', 'latitud', 'closer', 'greenland', 'canada', 'hole', '<NUM>', 'meter', 'wide', 'appar', 'extrem', 'thermal', 'event', 'contribut', 'format', 'accord', 'scarc', 'detail', 'glean', 'video', 'footag', 'rossiyskaya', 'gazeta', 'report', 'footag', 'start', 'make', 'round', 'media', 'scientif', 'commun', 'woke', 'possibl', 'survey', 'origin', 'crater', 'believ', 'form', 'two', 'year', 'ago', 'one', 'know', 'serious', 'find', 'evidenc', 'russia', 'emerg', 'ministri', 'present', 'among', 'expedit', 'russian', 'academi', 'scienc', 'also', 'board', 'plan', 'take', 'sampl', 'soil', 'air', 'water', 'area', 'big', 'enough', 'fit', 'sever', 'mi', '<NUM>', 'helicopt', 'yamal', 'peninsula', 'spooki', 'hole', 'locat', 'far', 'northern', 'russian', 'stepp', 'precis', 'locat', 'crater', '<NUM>', 'km', 'ga', 'field', 'bovanenkovo', 'whole', 'area', 'within', 'russia', 'key', 'strateg', 'oil', 'ga', 'region', 'yamalo', 'nenet', 'autonom', 'okrug', '<NUM>', 'km', 'area', 'huge', 'stretch', 'ancient', 'permafrost', 'otherwis', 'known', 'varieti', 'anim', 'speci', 'renown', 'archaeolog', 'goldmin', 'wooli', 'mammoth', 'skeleton', 'discov', 'absurd', 'theori', 'hole', 'origin', 'readili', 'dismiss', 'chief', 'among', 'caus', 'ufo', 'other', 'see', 'potenti', 'relationship', 'global', 'warm', 'believ', 'salt', 'ga', 'mix', 'underground', 'caus', 'subterranean', 'explos', 'one', 'thing', 'everyon', 'agre', 'soil', 'found', 'around', 'crater', 'thrown', 'ask', 'possibl', 'hole', 'caus', 'meteorit', 'spokesman', 'yamal', 'branch', 'emerg', 'ministri', 'said', 'definit', 'say', 'meteorit', 'detail', 'yet', 'theori', 'ignit', 'underground', 'ga', 'posit', 'ice', 'sand', 'help', 'ga', 'accumul', 'time', 'mix', 'salt', 'explos', 'took', 'place', 'reason', 'theori', 'sometim', 'around', 'last', 'ice', 'age', '<NUM>', 'year', 'ago', 'area', 'still', 'sea', 'accord', 'sub', 'arctic', 'scientif', 'research', 'center', 'anna', 'kurchatova', 'global', 'warm', 'happen', 'permafrost', 'begin', 'melt', 'larg', 'deposit', 'natur', 'ga', 'releas', 'may', 'led', 'effect', 'similar', 'pop', 'open', 'bottl', 'much', 'remain', 'hidden', 'mysteri', 'crater', 'research', 'come', 'back', 'answer', 'someth', 'take', 'away', 'mysteri', 'slightli', 'might', 'natur', 'occur', 'quit', 'bore', 'phenomenon', 'occurr', 'like', 'noth', 'new', 'yamal', 'spokesman', 'governor', 'offic', 'told', 'interfax', 'ural', 'happen', 'last', 'year', 'well', 'two', 'year', 'ago', 'earth', 'ice', 'behav', 'unpredict', 'underwat', 'river', 'might', 'move', 'soil', 'ad', 'explain', 'process', 'repeat', 'time', 'surfac', 'melt', 'freez', 'emerg', 'speak', 'spokesman', 'flat', 'reject', 'meteor', 'theori', 'said', 'investig', 'area', 'yield', 'inform', 'sourc', 'rt', 'relat']",
         "fake"
        ],
        [
         "39",
         "['ukrainian', 'troop', 'resum', 'shell', 'eastern', 'ukrainian', 'citi', 'slaviansk', 'local', 'citizen', 'told', 'ria', 'novosti', 'friday', 'donetsk', '<DATE>', 'ria', 'novosti', 'ukrainian', 'troop', 'resum', 'shell', 'eastern', 'ukrainian', 'citi', 'slaviansk', 'local', 'citizen', 'told', 'ria', 'novosti', 'friday', 'shell', 'resid', 'say', 'especi', 'sever', 'friday', 'target', 'citi', 'center', 'main', 'self', 'defens', 'forc', 'base', 'attack', 'come', 'day', 'helicopt', 'carri', '<NUM>', 'ukrainian', 'servicemen', 'shot', 'slaviansk', 'unconfirm', 'report', 'said', 'second', 'helicopt', 'down', 'area', 'thursday', 'escap', 'violenc', '<NUM>', 'children', 'troubl', 'slaviansk', 'donetsk', 'region', 'sent', 'late', 'thursday', 'artek', 'intern', 'children', 'center', 'crimean', 'peninsula', 'local', 'author', 'said', 'children', 'expect', 'spend', 'least', '<NUM>', 'day', 'camp', 'parent', 'remain', 'citi', 'maintain', 'contact', 'leader', 'group', 'trip', 'financ', 'russian', 'sponsor', 'crimean', 'author', 'anoth', 'group', 'around', '<NUM>', 'children', 'due', 'evacu', 'neighbor', 'sviatohirsk', 'situat', 'calm', 'also', 'citi', 'donetsk', 'odessa', 'region', 'arm', 'clash', 'slaviansk', 'home', 'total', '<NUM>', 'pre', 'school', 'children', 'children', 'age', '<NUM>', '<NUM>', 'year', 'accord', 'citi', 'depart', 'famili', 'youth', 'affair', 'mid', 'april', 'ukrain', 'interim', 'govern', 'launch', 'special', 'oper', 'crack', 'federalist', 'fail', 'gain', 'control', 'self', 'proclaim', 'independ', 'republ', 'eastern', 'part', 'countri', 'oper', 'led', 'violent', 'clash', 'dozen', 'casualti', 'slaviansk', 'kramatorsk', 'mariupol', '<NUM>', 'peopl', 'kill', '<NUM>', 'injur', 'odessa', 'local', 'lawmak', 'say', 'total', '<NUM>', 'could', 'die', 'tragedi', 'moscow', 'describ', 'oper', 'punit', 'act']",
         "fake"
        ],
        [
         "40",
         "['marc', 'jacob', 'celebr', 'impend', 'nuptial', 'lorenzo', 'marton', 'public', 'juergen', 'teller', 'marc', 'jacob', 'advertis', '<DATE>', '<DATE>', '<CUR>', '<NUM>', 'steidl', 'mark', 'one', 'longest', 'stand', 'creativ', 'union', 'fashion', '<NUM>', 'year', 'mr', 'teller', 'mr', 'jacob', 'collabor', 'advertis', 'design', 'namesak', 'collect', 'usual', 'dazzlingli', 'subvers', 'effect', 'mr', 'teller', 'nake', 'bed', 'charlott', 'rampl', 'tween', 'age', 'dakota', 'fan', 'strike', 'disturbingli', 'adult', 'pose', 'winona', 'ryder', 'shop', 'bag', 'teller', 'photo', 'met', 'opprobrium', 'featur', 'makeup', 'maestro', 'dick', 'page', 'lover', 'jame', 'gibb', 'men', 'vogu', 'even', 'refus', 'publish', 'mr', 'teller', 'recal', 'want', 'ad', 'like', 'romant', 'tender', 'sweet', 'certainli', 'want', 'anyth', 'provoc', 'controversi', 'come', 'mind', 'ad', 'cloth', 'cindi', 'sherman', 'grab', 'breast', 'caus', 'stir', 'go', 'figur', 'horacio', 'silva', 'right', 'kristen', 'mcmenami', 'photograph', '<DATE>', 'marc', 'jacob', 'ad', 'campaign', 'photo', 'photograph', 'juergen', 'teller']",
         "reliable"
        ],
        [
         "41",
         "['conserv', 'complaint', 'concern', 'start', 'treati', 'verif', 'measur', 'similar', 'afghanistan', 'ignor', 'issu', 'last', 'decad', 'conserv', 'suddenli', 'gung', 'ho', 'heritag', 'confer', 'tuesday', 'start', 'panelist', 'panelist', 'warn', 'danger', 'happen', 'treati', 'expir', '<DATE>', 'key', 'concern', 'panelist', 'facil', 'votkinsk', 'accord', 'washington', 'time', 'stori', 'vacat', 'us', 'monitor', 'saturday', 'leav', 'key', 'nuclear', 'facil', 'unobserv', 'timothi', 'morrison', 'sen', 'jon', 'kyl', 'r', 'az', 'foreign', 'polici', 'aid', 'sound', 'alarm', 'present', 'heritag', 'head', '<DATE>', 'real', 'idea', 'world', 'look', 'like', '<DATE>', 'yet', 'jeffrey', 'lewi', 'arm', 'control', 'wonk', 'assess', 'washington', 'time', 'piec', 'note', 'stori', 'actual', 'contain', 'nugget', 'implic', 'bush', 'administr', 'close', 'votkinsk', 'facil', 'paula', 'desutt', 'assist', 'secretari', 'state', 'verif', 'complianc', 'implement', 'bush', 'administr', 'quot', 'stori', 'say', 'need', 'entir', 'verif', 'regim', 'start', 'lewi', 'note', 'stori', 'confirm', 'rumor', 'bush', 'administr', 'end', 'monitor', 'key', 'graf', 'confirm', 'rumor', 'bush', 'administr', 'made', 'concess', 'russia', 'end', 'monitor', 'votkinsk', '<DATE>', 'accord', 'lewi', 'tri', 'place', 'blame', 'obama', 'administr', 'desutt', 'suggest', 'obama', 'administr', 'could', 'ad', 'monitor', 'back', 'want', 'lewi', 'note', 'ridicul', 'mere', 'ad', 'floor', 'intern', 'negoti', 'take', 'place', 'countri', 'start', 'talk', 'bush', 'russia', 'obama', 'russia', 'unit', 'state', 'russia', 'bush', 'agre', 'bind', 'us', 'posit', 'obama', 'administr', 'simpli', 'undu', 'agre', 'word', 'washington', 'time', 'stori', 'confirm', 'reason', 'monitor', 'end', 'votkinsk', 'bush', 'administr', 'lock', 'obama', 'administr', 'give', 'russian', 'demand', 'obama', 'administr', 'care', 'verif', 'bungl', 'negoti', 'conserv', 'suggest', 'obama', 'administr', 'like', 'almost', 'everi', 'issu', 'inherit', 'bum', 'hand', 'bush', 'administr', 'start']",
         "reliable"
        ],
        [
         "42",
         "['turkish', 'mp', 'samil', 'tayyar', 'said', 'want', 'anoth', 'russian', 'jet', 'samil', 'tayyar', 'made', 'offens', 'remark', 'refer', 'ankara', 'shoot', 'russian', 'warplan', 'syria', 'spark', 'furiou', 'intern', 'stand', 'two', 'countri', 'russian', 'jet', 'pilot', 'marin', 'sent', 'part', 'helicopt', 'rescu', 'crew', 'locat', 'wreckag', 'kill', 'incid', 'took', 'place', 'novemb', 'last', 'year', 'advertis', 'mp', 'tweet', 'messag', 'may', 'intend', 'sick', 'joke', 'moscow', 'base', 'basketbal', 'team', 'cska', 'beat', 'side', 'fenerbahc', 'tight', 'encount', 'russian', 'beat', 'turkish', 'rival', '<NUM>', '<NUM>', 'extra', 'time', 'sunday', 'scoop', 'seventh', 'crown', 'biggest', 'game', 'european', 'basketbal', 'getti', 'turkey', 'shot', 'russian', 'jet', 'last', 'novemb', 'getti', 'incid', 'spark', 'major', 'war', 'word', 'russia', 'turkey', 'advertis', 'mr', 'tayyar', 'infuri', 'result', 'match', 'part', 'pan', 'european', 'friendli', 'competit', 'propos', 'militari', 'respons', 'retali', 'write', 'turkish', 'post', 'want', 'shoot', 'one', 'russian', 'jet', 'turkey', 'russia', 'involv', 'war', 'word', 'ever', 'sinc', 'ankara', 'down', 'su', '<NUM>', 'combat', 'jet', 'syria', '<DATE>', 'last', 'year', 'moscow', 'say', 'jet', 'carri', 'anti', 'terrorist', 'oper', 'target', 'turkish', 'f', '<NUM>', '<NUM>', 'mile', 'south', 'countri', 'southern', 'border']",
         "fake"
        ],
        [
         "43",
         "['well', 'accord', 'one', 'side', 'stori', 'yesterday', 'brought', 'stori', 'woman', 'tweet', 'run', 'driver', 'car', 'servic', 'uber', 'woman', 'claim', 'driver', 'grab', 'throat', 'kiss', 'white', 'husband', 'woman', 'tweet', 'protect', 'today', 'twitchi', 'receiv', 'email', 'uber', 'repres', 'offer', 'driver', 'side', 'stori', 'letter', 'thought', 'might', 'interest', 'partner', 'driver', 'account', 'saturday', 'event', 'well', 'pick', 'uber', 'user', 'bridget', 'along', 'two', 'rider', 'man', 'woman', '<NUM>', 'u', 'street', 'nw', 'user', 'highli', 'intox', 'start', 'trip', 'throw', 'empti', 'beer', 'vehicl', 'got', 'insid', 'purs', 'said', 'beer', 'leak', 'purs', 'explain', 'could', 'get', 'citat', 'alcohol', 'vehicl', 'state', 'worri', 'would', 'pay', 'also', 'express', 'concern', 'beer', 'leak', 'vehicl', 'make', 'mess', 'trip', 'continu', 'user', 'convers', 'two', 'peopl', 'vehicl', 'woman', 'remark', 'drunk', 'bridget', 'drop', 'one', 'person', 'woman', 'continu', 'user', 'began', 'make', 'male', 'friend', 'bother', 'except', 'shoe', 'dug', 'seat', 'ask', 'nice', 'could', 'take', 'shoe', 'seat', 'compli', 'two', 'minut', 'later', 'feet', 'seat', 'turn', 'complet', 'backward', 'lap', 'straddl', 'face', 'forward', 'said', 'ask', 'place', 'feet', 'seat', 'pleas', 'take', 'feet', 'seat', 'user', 'began', 'curs', 'said', 'work', 'among', 'thing', 'ask', 'stop', 'vehicl', 'could', 'get', 'said', 'gladli', 'pull', 'got', 'use', 'hand', 'slam', 'car', 'door', 'great', 'forc', 'exit', 'vehicl', 'assess', 'damag', 'door', 'seat', 'continu', 'curs', 'rant', 'rage', 'toward', 'threaten', 'manner', 'hit', 'tri', 'one', 'point', 'knock', 'drive', 'hat', 'push', 'away', 'continu', 'come', 'forward', 'curs', 'friend', 'tri', 'hold', 'back', 'hard', 'time', 'point', 'polic', 'woman', 'came', 'user', 'calm', 'offic', 'spoke', 'parti', 'report', 'made', 'damag', 'notic', 'bridget', 'man', 'walk', 'destin', 'side', 'stori']",
         "reliable"
        ],
        [
         "44",
         "['shia', 'labeouf', 'might', 'thought', 'life', 'hit', 'rock', 'bottom', 'wore', 'paper', 'bag', 'head', 'red', 'carpet', 'time', 'chase', 'homeless', 'guy', 'street', 'new', 'york', 'also', 'could', 'time', 'spit', 'cop', 'arrest', 'shia', 'labeouf', 'rest', 'easi', 'know', 'truli', 'hit', 'rock', 'bottom', '<NUM>', 'year', 'old', 'littl', 'girl', 'go', 'around', 'tell', 'peopl', 'smell', 'bad', 'like', 'realli', 'realli', 'bad', 'maddi', 'ziegler', '<NUM>', 'year', 'old', 'danc', 'mom', 'recent', 'shot', 'music', 'video', 'sia', 'elast', 'heart', 'labeouf', 'recent', 'interview', 'abl', 'talk', 'bad', 'smell', 'like', 'sorri', 'kind', 'dirti', 'ziegler', 'told', 'entertain', 'tonight', 'realli', 'bite', 'shia', 'gross', 'dirti', 'bite', 'dirti', 'hand', 'ziegler', 'said', 'kept', 'wipe', 'kept', 'hand', 'wipe', 'shia', 'like', 'need', 'wipe', 'like', 'ye', 'brought', 'perfum', 'everyth', 'want', 'smell', 'like', 'oh', 'total', 'fine', 'care', 'howev', 'final', 'listen', 'littl', 'kid', 'wash', 'damn', 'hand', 'go', 'preteen', 'scold', 'shia', 'relat', 'shia', 'labeouf', 'arrest', 'stori', 'insan', 'watch', 'follow', 'kaitlan', 'twitter']",
         "reliable"
        ],
        [
         "45",
         "['epstein', 'charlott', 'belov', 'wife', 'max', 'epstein', 'love', 'mother', 'dr', 'stephen', 'epstein', 'ellen', 'mark', 'ador', 'grandmoth', 'deborah', 'andrew', 'gigi', 'carri', 'rebecca', 'devot', 'greatgrandmoth', 'sophi', 'sasha', 'adam', 'gabriel', 'robin', 'rachel', 'fiona', 'isabella', 'noah', 'servic', 'riversid', 'memori', 'chapel', '<NUM>', '<NUM>', 'sunday', '<DATE>', '<NUM>', 'st', 'amsterdam', 'avenu', 'lieu', 'flower', 'contribut', 'may', 'made', 'alzheim', 'foundat']",
         "reliable"
        ],
        [
         "46",
         "['unfortun', 'ceo', 'detroit', 'automak', 'spreadsheet', 'engin', 'unabl', 'imagin', 'much', 'anyth', 'beyond', 'compens', 'packag', 'certainli', 'lightweight', 'chassi', 'better', 'engin', 'diesel', 'ceo', 'recent', 'request', 'held', '<NUM>', 'mpg', 'increas', '<DATE>', 'show', 'will', 'ignor', 'progress', 'engin', 'real', 'engin', 'discuss', 'hypercar', 'engin', 'regard', 'recept', 'detroit', 'often', 'refer', 'idea', 'automak', 'incap', 'consist', 'innov', 'profession', 'view', 'person', 'experi', 'design', 'yf', '<NUM>', 'notabl', 'project', 'creat', 'hypercar', 'concept', 'detroit', 'busi', 'model', 'reli', 'engin', 'tie', 'account', 'vision', 'automak', 'rather', 'undertak', 'wild', 'flight', 'fanci', 'regular', 'basi', 'past', 'invest', 'dictat', 'engin', 'creat', 'spreadsheet', 'car', 'spreadsheet', 'vehicl', 'design', 'pick', 'part', 'number', 'alreadi', 'produc', 'compon', 'tier', '<NUM>', 'supplier', 'wrap', 'sheet', 'metal', 'wonder', 'vehicl', 'look', 'hypercar', 'real', 'engin', 'detroit', 'repackag', 'compon', 'creat', 'vehicl', 'like', 'ford', 'expedit', 'engin', 'bring', 'success', 'european', 'diesel', 'engin', 'design', 'instead', 'told', 'account', 'dividend', 'paid', 'invest', 'could', 'take', 'place', 'cannot', 'let', 'bailout', 'becom', 'greatest', 'success', 'detroit', 'spreadsheet', 'compani', 'must', 'healthi', 'oper', 'need', 'use', 'public', 'fund', 'mere', 'strengthen', 'balanc', 'sheet', 'ultim', 'good', 'invest', 'make', 'compani', 'benefit', 'privat', 'sharehold', 'public', 'equal', 'regard', 'assuag', 'immedi', 'concern', 'bailout', 'program', 'must', 'simpli', 'offer', 'band', 'aid', 'rather', 'establish', 'confid', 'american', 'industri', 'balanc', 'nation', 'energi', 'futur', 'mind', 'propos', 'follow', 'must', 'repeat', 'mistak', 'last', '<NUM>', 'year', 'automak', 'must', 'held', 'clearli', 'defin', 'goal', 'audit', 'research', 'invest', 'govern', 'attempt', 'secur', 'public', 'stake', 'compani', 'via', 'sharehold', 'rather', 'ensur', 'public', 'benefit', 'energi', 'effici', 'vehicl', 'road', '<NUM>', 'mpg', 'requir', 'must', 'move', '<DATE>', 'greater', 'emphasi', 'place', 'zev', 'ulev', 'design', 'adopt', 'california', 'regul', 'nation', 'level', 'within', '<NUM>', 'year', 'research', 'develop', 'r', 'cooper', 'compani', 'lead', 'public', 'standard', 'element', 'hydrogen', 'tank', 'design', 'compon', 'new', 'technolog', 'allow', 'economi', 'scale', 'design', 'product', 'invest', 'decis', 'made', 'board', 'compos', '<NUM>', '<NUM>', 'engin', 'profession', 'qualif', 'involv', 'automot', 'compani', 'pledg', 'match', 'research', 'fund', 'govern', 'shall', 'repres', 'agenc', 'repres', 'e', 'g', 'epa', 'public', 'univers', 'post', 'graduat', 'program', 'public', 'fund', 'use', 'underwrit', 'research', 'effort', 'must', 'dictat', 'progress', 'public', 'domain', 'avail', 'american', 'corpor', 'size', 'term', 'patent', 'royalti', 'shall', 'paid', 'public', 'bodi', 'repay', 'taxpay', 'invest', 'european', 'diesel', 'design', 'shall', 'grant', 'epa', 'emiss', 'waiver', 'period', '<NUM>', 'year', 'import', 'foreign', 'brand', 'shall', 'limit', '<NUM>', '<NUM>', 'ratio', 'domest', 'brand', 'ansari', 'x', 'prize', 'program', 'sort', 'propos', 'sen', 'john', 'mccain', 'creat', 'howev', 'rather', 'grand', 'prize', 'cash', 'reward', 'prize', 'ought', 'product', 'win', 'vehicl', 'technolog', 'concept', 'inclus', 'larger', 'bailout', 'program', 'thought', 'begin', 'program', 'emphas', 'account', 'even', 'real', 'engin', 'risk', 'taken', 'public', 'invest', 'dollar', 'demand', 'revolutionari', 'progress', 'dicat', 'convent', 'think', 'toss', 'th', 'window', 'close', 'would', 'appreci', 'receiv', 'repli', 'would', 'even', 'delight', 'real', 'program', 'ensur', 'america', 'energi', 'futur', 'much', 'detroit', 'auto', 'industri', 'updat', 'record', 'vw', '<NUM>', 'l', '<NUM>', 'mpg', 'enter', 'product', '<DATE>', 'look', 'domest', 'car', 'convent', 'design', 'see', '<NUM>', 'mpg', 'ev', 'aptera', 'cynic', 'want', 'laugh', 'popular', 'mechan', 'hypermil', 'mad', 'other', 'buy', 'vw', 'jetta', 'diesel', '<NUM>', '+', 'mpg', 'w', '<NUM>', 'hp', '<NUM>', 'ft', 'lb', 'torqu', 'btw', 'lift', 'car', 'door', 'frame', '<NUM>', 'finger', 'admir', 'sleek', 'line', 'full', 'size', 'frame', 'mockup', 'hypercar', 'real', '<DATE>', 'unfortun', 'hypercar', 'would', 'devalu', 'mani', 'car', 'compani', 'invest', 'sheet', 'metal', 'iron', 'block', '<NUM>', 'speed', 'tranni', 'live', 'non', 'hypercar', 'histori', 'think', 'live']",
         "reliable"
        ],
        [
         "47",
         "['one', 'worst', 'argument', 'heard', 'use', 'argu', 'support', 'person', 'time', 'first', 'woman', 'presid', 'ration', 'argument', 'peopl', 'hear', 'argu', 'purpos', 'equal', 'represent', 'other', 'say', 'would', 'anoth', 'step', 'toward', 'move', 'away', 'sexism', 'exist', 'cultur', 'long', 'tire', 'men', 'charg', 'leav', 'time', 'ration', 'abl', 'justifi', 'time', 'argument', 'would', 'ration', 'work', 'hillari', 'drop', 'race', 'today', 'woman', 'left', 'fill', 'time', 'argument', 'fiorina', 'would', 'argument', 'ration', 'use', 'support', 'bachmann', '<DATE>', 'palin', 'vp', '<DATE>', 'would', 'certainli', 'hope', 'women', 'inde', 'women', 'definit', 'hold', 'mani', 'woman', 'friendli', 'posit', 'point', 'gender', 'higher', 'prioriti', 'presidenti', 'candid', 'polici', 'even', 'equal', 'problem', 'among', 'peopl', 'make', 'argument', 'vote', 'anti', 'feminist', 'woman', 'person', 'make', 'argument', 'idea', 'elect', 'anti', 'feminist', 'woman', 'bother', 'ask', 'make', 'argument', 'anymor', 'clearli', 'put', 'valu', 'polici', 'gender', 'argument', 'put', 'forth', 'idea', 'priorit', 'gender', 'polici', 'make', 'argument', 'gender', 'consid', 'look', 'potenti', 'nomine', 'lead', 'nation', 'even', 'though', 'person', 'buy', 'idea', 'gender', 'make', 'us', 'differ', 'simpli', 'say', 'primari', 'consider', 'possibl', 'even', 'secondari', 'one', 'mind', 'polit', 'past', 'domest', 'polici', 'matter', 'first', 'foremost', 'foreign', 'polici', 'secondari', 'thing', 'like', 'religion', 'gender', 'sexual', 'orient', 'hair', 'eye', 'color', 'etc', 'tertiari', 'concern', 'end', 'rant']",
         "reliable"
        ],
        [
         "48",
         "['gunner', 'age', 'old', 'problem', 'defenc', 'midfield', 'expos', 'lost', '<NUM>', '<NUM>', 'home', 'manchest', 'unit', 'saturday', 'arsen', 'wenger', 'expect', 'hand', '<CUR>', '<NUM>', 'transfer', 'kitti', 'januari', 'cri', 'new', 'centr', 'back', 'hold', 'midfield', 'though', 'jack', 'wilsher', 'call', 'play', 'deep', 'lie', 'role', 'carragh', 'believ', 'calum', 'chamber', 'best', 'equip', 'fill', 'posit', 'carragh', 'also', 'accus', 'gunner', 'naiv', 'back', 'arsen', 'clash', 'unit', 'serv', 'qualiti', 'hope', 'still', 'intrigu', 'game', 'carragh', 'told', 'daili', 'mail', 'arsen', 'feel', 'perform', 'deserv', 'better', 'mani', 'time', 'go', 'lose', 'goal', 'attack', 'posit']",
         "fake"
        ],
        [
         "49",
         "['time', 'cnn', 'poll', 'surpris', 'one', 'bit', 'noth', 'popular', 'contest', 'popular', 'republican', 'unpopular', 'democrat', 'despit', 'bushbot', 'viagra', 'swiller', 'make', 'good', 'news', 'republican', 'absolut', 'noth', 'real', 'mood', 'nation', 'end', 'make', 'dime', 'worth', 'differ', 'anyway', 'hillari', 'definit', 'go', 'democrat', 'nomine', 'rudi', 'probabl', 'go', 'republican', 'nomine', 'mark', 'south', 'carolina', 'goe', 'go', 'nomin', 'hillari', 'come', 'third', 'fourth', 'iowa', 'new', 'hampshir', 'obama', 'edward', 'other', 'richardson', 'gore', 'clark', 'finish', 'south', 'carolina', 'bob', 'jone', 'crowd', 'run', 'guliani', 'town', 'rail', 'like', 'rovian', 'mccain', '<DATE>', 'go', 'ahead', 'msm', 'keep', 'poll', 'pontif', 'huf', 'puf', 'whatev', 'els', 'make', 'feel', 'import', 'would', 'bet', 'farm', 'one', 'get', 'right']",
         "reliable"
        ]
       ],
       "shape": {
        "columns": 2,
        "rows": 573040
       }
      },
      "text/html": [
       "<div>\n",
       "<style scoped>\n",
       "    .dataframe tbody tr th:only-of-type {\n",
       "        vertical-align: middle;\n",
       "    }\n",
       "\n",
       "    .dataframe tbody tr th {\n",
       "        vertical-align: top;\n",
       "    }\n",
       "\n",
       "    .dataframe thead th {\n",
       "        text-align: right;\n",
       "    }\n",
       "</style>\n",
       "<table border=\"1\" class=\"dataframe\">\n",
       "  <thead>\n",
       "    <tr style=\"text-align: right;\">\n",
       "      <th></th>\n",
       "      <th>X</th>\n",
       "      <th>Y</th>\n",
       "    </tr>\n",
       "  </thead>\n",
       "  <tbody>\n",
       "    <tr>\n",
       "      <th>0</th>\n",
       "      <td>['publish', '&lt;DATE&gt;', '&lt;URL&gt;', 'trump', 'organ...</td>\n",
       "      <td>reliable</td>\n",
       "    </tr>\n",
       "    <tr>\n",
       "      <th>1</th>\n",
       "      <td>['bear', 'still', 'forc', 'worri', 'consum', '...</td>\n",
       "      <td>reliable</td>\n",
       "    </tr>\n",
       "    <tr>\n",
       "      <th>2</th>\n",
       "      <td>['exit', 'poll', 'german', 'region', 'elect', ...</td>\n",
       "      <td>fake</td>\n",
       "    </tr>\n",
       "    <tr>\n",
       "      <th>3</th>\n",
       "      <td>['photo', 'noah', 'feldman', 'highli', 'person...</td>\n",
       "      <td>reliable</td>\n",
       "    </tr>\n",
       "    <tr>\n",
       "      <th>4</th>\n",
       "      <td>['refocu', 'note', 'read', 'stori', 'may', 'wo...</td>\n",
       "      <td>fake</td>\n",
       "    </tr>\n",
       "    <tr>\n",
       "      <th>...</th>\n",
       "      <td>...</td>\n",
       "      <td>...</td>\n",
       "    </tr>\n",
       "    <tr>\n",
       "      <th>573035</th>\n",
       "      <td>['editor', 'dr', 'paulina', 'kernberg', 'state...</td>\n",
       "      <td>reliable</td>\n",
       "    </tr>\n",
       "    <tr>\n",
       "      <th>573036</th>\n",
       "      <td>['suggest', '&lt;NUM&gt;', 'tri', 'funni', 'pointer'...</td>\n",
       "      <td>reliable</td>\n",
       "    </tr>\n",
       "    <tr>\n",
       "      <th>573037</th>\n",
       "      <td>['nation', 'id', 'resist', 'timothi', 'n', 'ba...</td>\n",
       "      <td>fake</td>\n",
       "    </tr>\n",
       "    <tr>\n",
       "      <th>573038</th>\n",
       "      <td>['reader', 'suggest', 'berni', 'madoff', 'must...</td>\n",
       "      <td>fake</td>\n",
       "    </tr>\n",
       "    <tr>\n",
       "      <th>573039</th>\n",
       "      <td>['close', 'imag', '&lt;NUM&gt;', '&lt;NUM&gt;', 'indian', ...</td>\n",
       "      <td>reliable</td>\n",
       "    </tr>\n",
       "  </tbody>\n",
       "</table>\n",
       "<p>573040 rows × 2 columns</p>\n",
       "</div>"
      ],
      "text/plain": [
       "                                                        X         Y\n",
       "0       ['publish', '<DATE>', '<URL>', 'trump', 'organ...  reliable\n",
       "1       ['bear', 'still', 'forc', 'worri', 'consum', '...  reliable\n",
       "2       ['exit', 'poll', 'german', 'region', 'elect', ...      fake\n",
       "3       ['photo', 'noah', 'feldman', 'highli', 'person...  reliable\n",
       "4       ['refocu', 'note', 'read', 'stori', 'may', 'wo...      fake\n",
       "...                                                   ...       ...\n",
       "573035  ['editor', 'dr', 'paulina', 'kernberg', 'state...  reliable\n",
       "573036  ['suggest', '<NUM>', 'tri', 'funni', 'pointer'...  reliable\n",
       "573037  ['nation', 'id', 'resist', 'timothi', 'n', 'ba...      fake\n",
       "573038  ['reader', 'suggest', 'berni', 'madoff', 'must...      fake\n",
       "573039  ['close', 'imag', '<NUM>', '<NUM>', 'indian', ...  reliable\n",
       "\n",
       "[573040 rows x 2 columns]"
      ]
     },
     "execution_count": 2,
     "metadata": {},
     "output_type": "execute_result"
    }
   ],
   "source": [
    "Training_Data = pd.DataFrame({'X':Training_Data['cleaned content'], 'Y':Training_Data['type']})\n",
    "Test_Data = pd.DataFrame({'X':Test_Data['cleaned content'], 'Y':Test_Data['type']})\n",
    "\n",
    "Training_Data"
   ]
  },
  {
   "cell_type": "markdown",
   "metadata": {},
   "source": [
    "## Input Repræsentationer"
   ]
  },
  {
   "cell_type": "markdown",
   "metadata": {},
   "source": [
    "Importere ``CountVectorizer``, til at omdanne tokens til numerisk data, som kan trænes på."
   ]
  },
  {
   "cell_type": "code",
   "execution_count": 3,
   "metadata": {},
   "outputs": [],
   "source": [
    "from sklearn.feature_extraction.text import CountVectorizer"
   ]
  },
  {
   "cell_type": "markdown",
   "metadata": {},
   "source": [
    "### Count Vector"
   ]
  },
  {
   "cell_type": "code",
   "execution_count": 4,
   "metadata": {},
   "outputs": [],
   "source": [
    "CountVector = CountVectorizer(\n",
    "    binary=True, \n",
    "    max_features=None).fit(Training_Data['X'])\n",
    "\n",
    "CountVector_matrix = CountVector.transform(Training_Data['X'])"
   ]
  },
  {
   "cell_type": "code",
   "execution_count": 5,
   "metadata": {},
   "outputs": [],
   "source": [
    "Bigram_CountVector = CountVectorizer(\n",
    "    binary=True,\n",
    "    ngram_range=(2, 2), \n",
    "    max_features=None).fit(Training_Data['X'])\n",
    "\n",
    "Bigram_CountVector_matrix = Bigram_CountVector.transform(Training_Data['X'])"
   ]
  },
  {
   "cell_type": "code",
   "execution_count": 6,
   "metadata": {},
   "outputs": [],
   "source": [
    "Multigram_CountVector = CountVectorizer(\n",
    "    binary=True, \n",
    "    ngram_range=(1, 2), \n",
    "    max_features=None).fit(Training_Data['X'])\n",
    "\n",
    "Multigram_CountVector_matrix = Multigram_CountVector.transform(Training_Data['X'])"
   ]
  },
  {
   "cell_type": "markdown",
   "metadata": {},
   "source": [
    "### Bag Of Words"
   ]
  },
  {
   "cell_type": "code",
   "execution_count": 85,
   "metadata": {},
   "outputs": [],
   "source": [
    "BagOfWords = CountVectorizer(\n",
    "    binary=False, \n",
    "    max_features=None).fit(Training_Data['X'])\n",
    "\n",
    "BagOfWords_matrix = BagOfWords.transform(Training_Data['X'])"
   ]
  },
  {
   "cell_type": "code",
   "execution_count": 86,
   "metadata": {},
   "outputs": [],
   "source": [
    "Bigram_BagOfWords = CountVectorizer(\n",
    "    binary=False, \n",
    "    ngram_range=(2, 2), \n",
    "    max_features=None).fit(Training_Data['X'])\n",
    "\n",
    "Bigram_BagOfWords_matrix = Bigram_BagOfWords.transform(Training_Data['X'])"
   ]
  },
  {
   "cell_type": "code",
   "execution_count": 87,
   "metadata": {},
   "outputs": [],
   "source": [
    "Multigram_BagOfWords = CountVectorizer(\n",
    "    binary=False, \n",
    "    ngram_range=(1, 2), \n",
    "    max_features=None).fit(Training_Data['X'])\n",
    "\n",
    "Multigram_BagOfWords_matrix = Multigram_BagOfWords.transform(Training_Data['X'])"
   ]
  },
  {
   "cell_type": "markdown",
   "metadata": {},
   "source": [
    "### TF-IDF transformation"
   ]
  },
  {
   "cell_type": "code",
   "execution_count": 7,
   "metadata": {},
   "outputs": [],
   "source": [
    "from sklearn.feature_extraction.text import TfidfTransformer"
   ]
  },
  {
   "cell_type": "code",
   "execution_count": 8,
   "metadata": {},
   "outputs": [],
   "source": [
    "TFIDF_CountVector = TfidfTransformer().fit(CountVector_matrix)\n",
    "\n",
    "TFIDF_Bigram_CountVector = TfidfTransformer().fit(Bigram_CountVector_matrix)\n",
    "\n",
    "TFIDF_Multigram_CountVector = TfidfTransformer().fit(Multigram_CountVector_matrix)"
   ]
  },
  {
   "cell_type": "code",
   "execution_count": 88,
   "metadata": {},
   "outputs": [],
   "source": [
    "TFIDF_BagOfWords = TfidfTransformer().fit(BagOfWords_matrix)\n",
    "\n",
    "TFIDF_Bigram_BagOfWords = TfidfTransformer().fit(Bigram_BagOfWords_matrix)\n",
    "\n",
    "TFIDF_Multigram_BagOfWords = TfidfTransformer().fit(Multigram_BagOfWords_matrix)"
   ]
  },
  {
   "cell_type": "markdown",
   "metadata": {},
   "source": [
    "### Chi feature selection"
   ]
  },
  {
   "cell_type": "code",
   "execution_count": 9,
   "metadata": {},
   "outputs": [],
   "source": [
    "from sklearn.feature_selection import SelectFpr, chi2"
   ]
  },
  {
   "cell_type": "code",
   "execution_count": 10,
   "metadata": {},
   "outputs": [],
   "source": [
    "Chi_CountVector = SelectFpr(chi2, alpha=0.50).fit(CountVector_matrix, Training_Data['Y'])\n",
    "\n",
    "Chi_Bigram_CountVector = SelectFpr(chi2, alpha=0.42).fit(Bigram_CountVector_matrix, Training_Data['Y'])\n",
    "\n",
    "Chi_Multigram_CountVector = SelectFpr(chi2, alpha=0.35).fit(Multigram_CountVector_matrix, Training_Data['Y'])"
   ]
  },
  {
   "cell_type": "code",
   "execution_count": 89,
   "metadata": {},
   "outputs": [],
   "source": [
    "Chi_BagOfWords = SelectFpr(chi2, alpha=0.50).fit(BagOfWords_matrix, Training_Data['Y'])\n",
    "\n",
    "Chi_Bigram_BagOfWords = SelectFpr(chi2, alpha=0.42).fit(Bigram_BagOfWords_matrix, Training_Data['Y'])\n",
    "\n",
    "Chi_Multigram_BagOfWords = SelectFpr(chi2, alpha=0.35).fit(Multigram_BagOfWords_matrix, Training_Data['Y'])"
   ]
  },
  {
   "cell_type": "markdown",
   "metadata": {},
   "source": [
    "#### Selection α (CountVector)"
   ]
  },
  {
   "cell_type": "code",
   "execution_count": null,
   "metadata": {},
   "outputs": [],
   "source": [
    "from sklearn.linear_model import LogisticRegression\n",
    "from sklearn.metrics import classification_report\n",
    "\n",
    "Unigram_alpha_outputs = {\n",
    "    'alpha':[0.1, 0.25, 0.4, 0.5, 0.6, 0.75],\n",
    "    'fake':list(),\n",
    "    'reliable':list()\n",
    "    }\n",
    "\n",
    "for i in Unigram_alpha_outputs['alpha']:\n",
    "    selector = SelectFpr(chi2, alpha=i).fit(CountVector_matrix, Training_Data['Y'])\n",
    "\n",
    "    # Initializing and training the model\n",
    "    LogReg_model = LogisticRegression(max_iter=10000)\n",
    "    LogReg_model.fit(selector.transform(CountVector_matrix), Training_Data['Y'])\n",
    "\n",
    "    # Testing the model\n",
    "    predictions = LogReg_model.predict(selector.transform(CountVector.transform(Test_Data['X'])))\n",
    "    result = classification_report(Test_Data['Y'], predictions, digits=5, output_dict=True)\n",
    "\n",
    "    # saving the data\n",
    "    Unigram_alpha_outputs['fake'].append(result['fake']['f1-score'])\n",
    "    Unigram_alpha_outputs['reliable'].append(result['reliable']['f1-score'])"
   ]
  },
  {
   "cell_type": "code",
   "execution_count": 72,
   "metadata": {},
   "outputs": [
    {
     "data": {
      "text/plain": [
       "{'alpha': [0.1, 0.25, 0.4, 0.5, 0.6, 0.75],\n",
       " 'fake': [0.8605272428370127,\n",
       "  0.8619633250758564,\n",
       "  0.8621028400510241,\n",
       "  0.8621048771543821,\n",
       "  0.8619642254471819,\n",
       "  0.8617008797653959],\n",
       " 'reliable': [0.8735292551775542,\n",
       "  0.8745052572662215,\n",
       "  0.8746952316239658,\n",
       "  0.8747952320703203,\n",
       "  0.8747586904714356,\n",
       "  0.8743405275779377]}"
      ]
     },
     "execution_count": 72,
     "metadata": {},
     "output_type": "execute_result"
    }
   ],
   "source": [
    "Unigram_alpha_outputs"
   ]
  },
  {
   "cell_type": "code",
   "execution_count": 71,
   "metadata": {},
   "outputs": [
    {
     "data": {
      "image/png": "[encoded data removed]",
      "text/plain": [
       "<Figure size 1000x600 with 1 Axes>"
      ]
     },
     "metadata": {},
     "output_type": "display_data"
    }
   ],
   "source": [
    "import numpy as np\n",
    "import matplotlib.pyplot as plt\n",
    "\n",
    "# Konverter data til NumPy arrays\n",
    "alpha = np.array(Unigram_alpha_outputs['alpha'])\n",
    "fake = np.array(Unigram_alpha_outputs['fake'])\n",
    "reliable = np.array(Unigram_alpha_outputs['reliable'])\n",
    "\n",
    "# Beregn procentvis vækst i forhold til første værdi\n",
    "fake_growth = ((fake - fake[0]) / fake[0]) * 100\n",
    "reliable_growth = ((reliable - reliable[0]) / reliable[0]) * 100\n",
    "\n",
    "# Plot vækst\n",
    "plt.figure(figsize=(10, 6))\n",
    "plt.plot(alpha, fake_growth, label='Fake Vækst', marker='o', color='blue')\n",
    "plt.plot(alpha, reliable_growth, label='Reliable Vækst', marker='s', color='green')\n",
    "\n",
    "# Tilføj labels og layout\n",
    "plt.axhline(0, color='gray', linestyle='--', linewidth=1)  # Nul-linje for reference\n",
    "plt.xlabel('Alpha')\n",
    "plt.ylabel('Procentvis Vækst')\n",
    "plt.title('Procentvis Vækst for Chi selected Unigrams')\n",
    "plt.legend()\n",
    "plt.grid()\n",
    "plt.tight_layout()\n",
    "plt.show()\n"
   ]
  },
  {
   "cell_type": "code",
   "execution_count": null,
   "metadata": {},
   "outputs": [],
   "source": [
    "from sklearn.linear_model import LogisticRegression\n",
    "from sklearn.metrics import classification_report\n",
    "\n",
    "Multigram_alpha_outputs = {\n",
    "    'alpha':[0.1, 0.25, 0.30, 0.35, 0.4, 0.5, 0.6, 0.75],\n",
    "    'fake':list(),\n",
    "    'reliable':list()\n",
    "    }\n",
    "\n",
    "for i in Multigram_alpha_outputs['alpha']:\n",
    "    selector = SelectFpr(chi2, alpha=i).fit(Multigram_CountVector_matrix, Training_Data['Y'])\n",
    "\n",
    "    # Initializing and training the model\n",
    "    LogReg_model = LogisticRegression(max_iter=10000)\n",
    "    LogReg_model.fit(selector.transform(Multigram_CountVector_matrix), Training_Data['Y'])\n",
    "\n",
    "    # Testing the model\n",
    "    predictions = LogReg_model.predict(selector.transform(Multigram_CountVector.transform(Test_Data['X'])))\n",
    "    result = classification_report(Test_Data['Y'], predictions, digits=5, output_dict=True)\n",
    "\n",
    "    # saving the data\n",
    "    Multigram_alpha_outputs['fake'].append(result['fake']['f1-score'])\n",
    "    Multigram_alpha_outputs['reliable'].append(result['reliable']['f1-score'])"
   ]
  },
  {
   "cell_type": "code",
   "execution_count": 74,
   "metadata": {},
   "outputs": [
    {
     "data": {
      "text/plain": [
       "{'alpha': [0.1, 0.25, 0.3, 0.35, 0.4, 0.5, 0.6, 0.75],\n",
       " 'fake': [0.8932480289141175,\n",
       "  0.8934165621445032,\n",
       "  0.8929994980660781,\n",
       "  0.8952583879394638,\n",
       "  0.8948074679113186,\n",
       "  0.8945594607607126,\n",
       "  0.8940141976570944,\n",
       "  0.894508733783764],\n",
       " 'reliable': [0.9018662165239875,\n",
       "  0.9021608161298096,\n",
       "  0.9040279653610869,\n",
       "  0.9039724909351209,\n",
       "  0.9034538152610442,\n",
       "  0.9032776134584243,\n",
       "  0.9029920586111928,\n",
       "  0.9032689708696292]}"
      ]
     },
     "execution_count": 74,
     "metadata": {},
     "output_type": "execute_result"
    }
   ],
   "source": [
    "Multigram_alpha_outputs"
   ]
  },
  {
   "cell_type": "code",
   "execution_count": null,
   "metadata": {},
   "outputs": [
    {
     "data": {
      "image/png": "[encoded data removed]",
      "text/plain": [
       "<Figure size 1000x600 with 1 Axes>"
      ]
     },
     "metadata": {},
     "output_type": "display_data"
    }
   ],
   "source": [
    "import numpy as np\n",
    "import matplotlib.pyplot as plt\n",
    "\n",
    "# Konverter data til NumPy arrays\n",
    "alpha = np.array(Multigram_alpha_outputs['alpha'])\n",
    "fake = np.array(Multigram_alpha_outputs['fake'])\n",
    "reliable = np.array(Multigram_alpha_outputs['reliable'])\n",
    "\n",
    "# Beregn procentvis vækst i forhold til første værdi\n",
    "fake_growth = ((fake - fake[0]) / fake[0]) * 100\n",
    "reliable_growth = ((reliable - reliable[0]) / reliable[0]) * 100\n",
    "\n",
    "# Plot vækst\n",
    "plt.figure(figsize=(10, 6))\n",
    "plt.plot(alpha, fake_growth, label='Fake Vækst', marker='o', color='blue')\n",
    "plt.plot(alpha, reliable_growth, label='Reliable Vækst', marker='s', color='green')\n",
    "\n",
    "# Tilføj labels og layout\n",
    "plt.axhline(0, color='gray', linestyle='--', linewidth=1)  # Nul-linje for reference\n",
    "plt.xlabel('Alpha')\n",
    "plt.ylabel('Procentvis Vækst')\n",
    "plt.title('Procentvis Vækst for Chi selected Multigrams')\n",
    "plt.legend()\n",
    "plt.grid()\n",
    "plt.tight_layout()\n",
    "plt.show()\n"
   ]
  },
  {
   "cell_type": "markdown",
   "metadata": {},
   "source": [
    "## Base Model"
   ]
  },
  {
   "cell_type": "markdown",
   "metadata": {},
   "source": [
    "Base model, svare til den model vi ville ende op med i Part 2 af opgaven. Da det i opgavespecifikationen ikke er blevet tydeliggjort hvordan teksten skal repræsenteres for modellen, andet at det skal være simpelt, er 2 måder givet: en Count Vector og en Bag Of Words.\n",
    "\n",
    "Denne model opfylder at den trænes på de 10.000 mest hyppige unigrams, altså ord, som forekommer i trænings sættet."
   ]
  },
  {
   "cell_type": "markdown",
   "metadata": {},
   "source": [
    "### Count Vector"
   ]
  },
  {
   "cell_type": "code",
   "execution_count": 11,
   "metadata": {},
   "outputs": [
    {
     "name": "stdout",
     "output_type": "stream",
     "text": [
      "Fake     : 0.8445050834030192\n",
      "Reliable : 0.8588625377844654\n"
     ]
    }
   ],
   "source": [
    "from sklearn.linear_model import LogisticRegression\n",
    "from sklearn.metrics import classification_report\n",
    "\n",
    "Base_CountVector = CountVectorizer(\n",
    "    binary=True, \n",
    "    max_features=10000).fit(Training_Data['X'])\n",
    "\n",
    "# Initializing and training the model\n",
    "Base_model = LogisticRegression(max_iter=10000)\n",
    "Base_model.fit(Base_CountVector.transform(Training_Data['X']), Training_Data['Y'])\n",
    "\n",
    "# Testing the model\n",
    "predictions = Base_model.predict(Base_CountVector.transform(Test_Data['X']))\n",
    "result = classification_report(Test_Data['Y'], predictions, output_dict=True)\n",
    "print(f'Fake     : {result['fake']['f1-score']}')\n",
    "print(f'Reliable : {result['reliable']['f1-score']}')"
   ]
  },
  {
   "cell_type": "markdown",
   "metadata": {},
   "source": [
    "### Bag Of Words"
   ]
  },
  {
   "cell_type": "code",
   "execution_count": 79,
   "metadata": {},
   "outputs": [
    {
     "name": "stdout",
     "output_type": "stream",
     "text": [
      "Fake     : 0.8289200224944375\n",
      "Reliable : 0.8471258256924163\n"
     ]
    }
   ],
   "source": [
    "from sklearn.linear_model import LogisticRegression\n",
    "from sklearn.metrics import classification_report\n",
    "\n",
    "Base_BagOfWords = CountVectorizer(\n",
    "    binary=False, \n",
    "    max_features=10000).fit(Training_Data['X'])\n",
    "\n",
    "# Initializing and training the model\n",
    "Base_model = LogisticRegression(max_iter=10000)\n",
    "Base_model.fit(Base_BagOfWords.transform(Training_Data['X']), Training_Data['Y'])\n",
    "\n",
    "# Testing the model\n",
    "predictions = Base_model.predict(Base_BagOfWords.transform(Test_Data['X']))\n",
    "result = classification_report(Test_Data['Y'], predictions, output_dict=True)\n",
    "print(f'Fake     : {result['fake']['f1-score']}')\n",
    "print(f'Reliable : {result['reliable']['f1-score']}')"
   ]
  },
  {
   "cell_type": "markdown",
   "metadata": {},
   "source": [
    "## Logistisk Regression"
   ]
  },
  {
   "cell_type": "markdown",
   "metadata": {},
   "source": [
    "Initialisere bibliotekerne brugt til den logistiske regression"
   ]
  },
  {
   "cell_type": "code",
   "execution_count": 22,
   "metadata": {},
   "outputs": [],
   "source": [
    "from sklearn.linear_model import LogisticRegression\n",
    "from sklearn.metrics import classification_report"
   ]
  },
  {
   "cell_type": "markdown",
   "metadata": {},
   "source": [
    "### Count Vector"
   ]
  },
  {
   "cell_type": "markdown",
   "metadata": {},
   "source": [
    "#### Raw vector"
   ]
  },
  {
   "cell_type": "code",
   "execution_count": 13,
   "metadata": {},
   "outputs": [
    {
     "name": "stdout",
     "output_type": "stream",
     "text": [
      "Fake     : 0.8622965244170699\n",
      "Reliable : 0.8749167443719196\n"
     ]
    }
   ],
   "source": [
    "# Initializing and training the model\n",
    "LogReg_model = LogisticRegression(max_iter=10000)\n",
    "LogReg_model.fit(CountVector_matrix, Training_Data['Y'])\n",
    "\n",
    "# Testing the model\n",
    "predictions = LogReg_model.predict(CountVector.transform(Test_Data['X']))\n",
    "result = classification_report(Test_Data['Y'], predictions, digits=5, output_dict=True)\n",
    "print(f'Fake     : {result['fake']['f1-score']}')\n",
    "print(f'Reliable : {result['reliable']['f1-score']}')"
   ]
  },
  {
   "cell_type": "code",
   "execution_count": 14,
   "metadata": {},
   "outputs": [
    {
     "name": "stdout",
     "output_type": "stream",
     "text": [
      "Fake     : 0.881616771683266\n",
      "Reliable : 0.8903767040413003\n"
     ]
    }
   ],
   "source": [
    "# Initializing and training the model\n",
    "LogReg_model = LogisticRegression(max_iter=10000)\n",
    "LogReg_model.fit(Bigram_CountVector_matrix, Training_Data['Y'])\n",
    "\n",
    "# Testing the model\n",
    "predictions = LogReg_model.predict(Bigram_CountVector.transform(Test_Data['X']))\n",
    "result = classification_report(Test_Data['Y'], predictions, digits=5, output_dict=True)\n",
    "print(f'Fake     : {result['fake']['f1-score']}')\n",
    "print(f'Reliable : {result['reliable']['f1-score']}')"
   ]
  },
  {
   "cell_type": "code",
   "execution_count": 15,
   "metadata": {},
   "outputs": [
    {
     "name": "stdout",
     "output_type": "stream",
     "text": [
      "Fake     : 0.8950048885840618\n",
      "Reliable : 0.9037239238355211\n"
     ]
    }
   ],
   "source": [
    "# Initializing and training the model\n",
    "LogReg_model = LogisticRegression(max_iter=10000)\n",
    "LogReg_model.fit(Multigram_CountVector_matrix, Training_Data['Y'])\n",
    "\n",
    "# Testing the model\n",
    "predictions = LogReg_model.predict(Multigram_CountVector.transform(Test_Data['X']))\n",
    "result = classification_report(Test_Data['Y'], predictions, digits=5, output_dict=True)\n",
    "print(f'Fake     : {result['fake']['f1-score']}')\n",
    "print(f'Reliable : {result['reliable']['f1-score']}')"
   ]
  },
  {
   "cell_type": "markdown",
   "metadata": {},
   "source": [
    "#### TF-IDF transformation"
   ]
  },
  {
   "cell_type": "code",
   "execution_count": 16,
   "metadata": {},
   "outputs": [
    {
     "name": "stdout",
     "output_type": "stream",
     "text": [
      "Fake     : 0.8627491267721389\n",
      "Reliable : 0.875509171747291\n"
     ]
    }
   ],
   "source": [
    "# Initializing and training the model\n",
    "LogReg_model = LogisticRegression(max_iter=10000)\n",
    "LogReg_model.fit(TFIDF_CountVector.transform(CountVector_matrix), Training_Data['Y'])\n",
    "\n",
    "# Testing the model\n",
    "predictions = LogReg_model.predict(TFIDF_CountVector.transform(CountVector.transform(Test_Data['X'])))\n",
    "result = classification_report(Test_Data['Y'], predictions, digits=5, output_dict=True)\n",
    "print(f'Fake     : {result['fake']['f1-score']}')\n",
    "print(f'Reliable : {result['reliable']['f1-score']}')"
   ]
  },
  {
   "cell_type": "code",
   "execution_count": 17,
   "metadata": {},
   "outputs": [
    {
     "name": "stdout",
     "output_type": "stream",
     "text": [
      "Fake     : 0.8719086041116477\n",
      "Reliable : 0.8825127470792126\n"
     ]
    }
   ],
   "source": [
    "# Initializing and training the model\n",
    "LogReg_model = LogisticRegression(max_iter=10000)\n",
    "LogReg_model.fit(TFIDF_Bigram_CountVector.transform(Bigram_CountVector_matrix), Training_Data['Y'])\n",
    "\n",
    "# Testing the model\n",
    "predictions = LogReg_model.predict(TFIDF_Bigram_CountVector.transform(Bigram_CountVector.transform(Test_Data['X'])))\n",
    "result = classification_report(Test_Data['Y'], predictions, digits=5, output_dict=True)\n",
    "print(f'Fake     : {result['fake']['f1-score']}')\n",
    "print(f'Reliable : {result['reliable']['f1-score']}')"
   ]
  },
  {
   "cell_type": "code",
   "execution_count": 18,
   "metadata": {},
   "outputs": [
    {
     "name": "stdout",
     "output_type": "stream",
     "text": [
      "Fake     : 0.8819726445105771\n",
      "Reliable : 0.8927205617812838\n"
     ]
    }
   ],
   "source": [
    "# Initializing and training the model\n",
    "LogReg_model = LogisticRegression(max_iter=10000)\n",
    "LogReg_model.fit(TFIDF_Multigram_CountVector.transform(Multigram_CountVector_matrix), Training_Data['Y'])\n",
    "\n",
    "# Testing the model\n",
    "predictions = LogReg_model.predict(TFIDF_Multigram_CountVector.transform(Multigram_CountVector.transform(Test_Data['X'])))\n",
    "result = classification_report(Test_Data['Y'], predictions, digits=5, output_dict=True)\n",
    "print(f'Fake     : {result['fake']['f1-score']}')\n",
    "print(f'Reliable : {result['reliable']['f1-score']}')"
   ]
  },
  {
   "cell_type": "markdown",
   "metadata": {},
   "source": [
    "#### Chi feature selection"
   ]
  },
  {
   "cell_type": "code",
   "execution_count": 67,
   "metadata": {},
   "outputs": [
    {
     "name": "stdout",
     "output_type": "stream",
     "text": [
      "Fake     : 0.8621048771543821\n",
      "Reliable : 0.8747952320703203\n"
     ]
    }
   ],
   "source": [
    "# Initializing and training the model\n",
    "LogReg_model = LogisticRegression(max_iter=10000)\n",
    "LogReg_model.fit(Chi_CountVector.transform(CountVector_matrix), Training_Data['Y'])\n",
    "\n",
    "# Testing the model\n",
    "predictions = LogReg_model.predict(Chi_CountVector.transform(CountVector.transform(Test_Data['X'])))\n",
    "result = classification_report(Test_Data['Y'], predictions, digits=5, output_dict=True)\n",
    "print(f'Fake     : {result['fake']['f1-score']}')\n",
    "print(f'Reliable : {result['reliable']['f1-score']}')"
   ]
  },
  {
   "cell_type": "code",
   "execution_count": 20,
   "metadata": {},
   "outputs": [
    {
     "name": "stdout",
     "output_type": "stream",
     "text": [
      "Fake     : 0.882010482149857\n",
      "Reliable : 0.8907382261599064\n"
     ]
    }
   ],
   "source": [
    "# Initializing and training the model\n",
    "LogReg_model = LogisticRegression(max_iter=10000)\n",
    "LogReg_model.fit(Chi_Bigram_CountVector.transform(Bigram_CountVector_matrix), Training_Data['Y'])\n",
    "\n",
    "# Testing the model\n",
    "predictions = LogReg_model.predict(Chi_Bigram_CountVector.transform(Bigram_CountVector.transform(Test_Data['X'])))\n",
    "result = classification_report(Test_Data['Y'], predictions, digits=5, output_dict=True)\n",
    "print(f'Fake     : {result['fake']['f1-score']}')\n",
    "print(f'Reliable : {result['reliable']['f1-score']}')"
   ]
  },
  {
   "cell_type": "code",
   "execution_count": 68,
   "metadata": {},
   "outputs": [
    {
     "name": "stdout",
     "output_type": "stream",
     "text": [
      "Fake     : 0.8952583879394638\n",
      "Reliable : 0.9039724909351209\n"
     ]
    }
   ],
   "source": [
    "# Initializing and training the model\n",
    "LogReg_model = LogisticRegression(max_iter=10000)\n",
    "LogReg_model.fit(Chi_Multigram_CountVector.transform(Multigram_CountVector_matrix), Training_Data['Y'])\n",
    "\n",
    "# Testing the model\n",
    "predictions = LogReg_model.predict(Chi_Multigram_CountVector.transform(Multigram_CountVector.transform(Test_Data['X'])))\n",
    "result = classification_report(Test_Data['Y'], predictions, digits=5, output_dict=True)\n",
    "print(f'Fake     : {result['fake']['f1-score']}')\n",
    "print(f'Reliable : {result['reliable']['f1-score']}')"
   ]
  },
  {
   "cell_type": "markdown",
   "metadata": {},
   "source": [
    "#### Hyper-parameters"
   ]
  },
  {
   "cell_type": "code",
   "execution_count": null,
   "metadata": {},
   "outputs": [],
   "source": [
    "from sklearn.linear_model import LogisticRegression\n",
    "from sklearn.metrics import classification_report\n",
    "\n",
    "Multigram_C_outputs = {\n",
    "    'C':[0.01, 0.1, 0.5, 1, 1.5, 2, 10],\n",
    "    'fake':list(),\n",
    "    'reliable':list()\n",
    "    }\n",
    "\n",
    "for i in Multigram_C_outputs['C']:\n",
    "    # Initializing and training the model\n",
    "    LogReg_model = LogisticRegression(max_iter=10000, C=i)\n",
    "    LogReg_model.fit(Chi_Multigram_CountVector.transform(Multigram_CountVector_matrix), Training_Data['Y'])\n",
    "\n",
    "    # Testing the model\n",
    "    predictions = LogReg_model.predict(Chi_Multigram_CountVector.transform(Multigram_CountVector.transform(Test_Data['X'])))\n",
    "    result = classification_report(Test_Data['Y'], predictions, digits=5, output_dict=True)\n",
    "\n",
    "    # saving the data\n",
    "    Multigram_C_outputs['fake'].append(result['fake']['f1-score'])\n",
    "    Multigram_C_outputs['reliable'].append(result['reliable']['f1-score'])"
   ]
  },
  {
   "cell_type": "code",
   "execution_count": 83,
   "metadata": {},
   "outputs": [
    {
     "data": {
      "text/plain": [
       "{'C': [0.01, 0.05, 0.1, 0.5, 1, 1.5, 2, 10],\n",
       " 'fake': [0.8892850879756825,\n",
       "  0.896659509516089,\n",
       "  0.8967954897321299,\n",
       "  0.8959637982629005,\n",
       "  0.8941928702811597,\n",
       "  0.8949310772372547,\n",
       "  0.8942778814745683,\n",
       "  0.8955114913997021],\n",
       " 'reliable': [0.8987598888176181,\n",
       "  0.9054106448119577,\n",
       "  0.9055271813247052,\n",
       "  0.9046618955253829,\n",
       "  0.9030471655207469,\n",
       "  0.9035807509537515,\n",
       "  0.9029243211397354,\n",
       "  0.9042982855003076]}"
      ]
     },
     "execution_count": 83,
     "metadata": {},
     "output_type": "execute_result"
    }
   ],
   "source": [
    "Multigram_C_outputs"
   ]
  },
  {
   "cell_type": "code",
   "execution_count": 84,
   "metadata": {},
   "outputs": [
    {
     "data": {
      "image/png": "[encoded data removed]",
      "text/plain": [
       "<Figure size 1000x600 with 1 Axes>"
      ]
     },
     "metadata": {},
     "output_type": "display_data"
    }
   ],
   "source": [
    "import numpy as np\n",
    "import matplotlib.pyplot as plt\n",
    "\n",
    "# Konverter data til NumPy arrays\n",
    "C = np.array(Multigram_C_outputs['C'])\n",
    "fake = np.array(Multigram_C_outputs['fake'])\n",
    "reliable = np.array(Multigram_C_outputs['reliable'])\n",
    "\n",
    "# Beregn procentvis vækst i forhold til første værdi\n",
    "fake_growth = ((fake - fake[0]) / fake[0]) * 100\n",
    "reliable_growth = ((reliable - reliable[0]) / reliable[0]) * 100\n",
    "\n",
    "# Plot vækst\n",
    "plt.figure(figsize=(10, 6))\n",
    "plt.plot(C, fake_growth, label='Fake Vækst', marker='o', color='blue')\n",
    "plt.plot(C, reliable_growth, label='Reliable Vækst', marker='s', color='green')\n",
    "\n",
    "plt.xscale('log')\n",
    "\n",
    "# Tilføj labels og layout\n",
    "plt.axhline(0, color='gray', linestyle='--', linewidth=1)  # Nul-linje for reference\n",
    "plt.xlabel('C')\n",
    "plt.ylabel('Procentvis Vækst')\n",
    "plt.title('Procentvis Vækst for Fake og Reliable Data')\n",
    "plt.legend()\n",
    "plt.grid()\n",
    "plt.tight_layout()\n",
    "plt.show()\n"
   ]
  },
  {
   "cell_type": "code",
   "execution_count": 69,
   "metadata": {},
   "outputs": [
    {
     "name": "stdout",
     "output_type": "stream",
     "text": [
      "Fake     : 0.8970360636589283\n",
      "Reliable : 0.9056840979002274\n"
     ]
    }
   ],
   "source": [
    "# Initializing and training the model\n",
    "LogReg_model = LogisticRegression(max_iter=10000, C=0.1)\n",
    "LogReg_model.fit(Chi_Multigram_CountVector.transform(Multigram_CountVector_matrix), Training_Data['Y'])\n",
    "\n",
    "# Testing the model\n",
    "predictions = LogReg_model.predict(Chi_Multigram_CountVector.transform(Multigram_CountVector.transform(Test_Data['X'])))\n",
    "result = classification_report(Test_Data['Y'], predictions, digits=5, output_dict=True)\n",
    "print(f'Fake     : {result['fake']['f1-score']}')\n",
    "print(f'Reliable : {result['reliable']['f1-score']}')"
   ]
  },
  {
   "cell_type": "markdown",
   "metadata": {},
   "source": [
    "### Bag Of Words Vector"
   ]
  },
  {
   "cell_type": "markdown",
   "metadata": {},
   "source": [
    "#### Raw vector"
   ]
  },
  {
   "cell_type": "code",
   "execution_count": 90,
   "metadata": {},
   "outputs": [
    {
     "name": "stdout",
     "output_type": "stream",
     "text": [
      "Fake     : 0.8435748467065693\n",
      "Reliable : 0.8573411453815046\n"
     ]
    }
   ],
   "source": [
    "# Initializing and training the model\n",
    "LogReg_model = LogisticRegression(max_iter=10000)\n",
    "LogReg_model.fit(BagOfWords_matrix, Training_Data['Y'])\n",
    "\n",
    "# Testing the model\n",
    "predictions = LogReg_model.predict(BagOfWords.transform(Test_Data['X']))\n",
    "result = classification_report(Test_Data['Y'], predictions, digits=5, output_dict=True)\n",
    "print(f'Fake     : {result['fake']['f1-score']}')\n",
    "print(f'Reliable : {result['reliable']['f1-score']}')"
   ]
  },
  {
   "cell_type": "code",
   "execution_count": 91,
   "metadata": {},
   "outputs": [
    {
     "name": "stdout",
     "output_type": "stream",
     "text": [
      "Fake     : 0.8776025053644957\n",
      "Reliable : 0.8863611888864958\n"
     ]
    }
   ],
   "source": [
    "# Initializing and training the model\n",
    "LogReg_model = LogisticRegression(max_iter=10000)\n",
    "LogReg_model.fit(Bigram_BagOfWords_matrix, Training_Data['Y'])\n",
    "\n",
    "# Testing the model\n",
    "predictions = LogReg_model.predict(Bigram_BagOfWords.transform(Test_Data['X']))\n",
    "result = classification_report(Test_Data['Y'], predictions, digits=5, output_dict=True)\n",
    "print(f'Fake     : {result['fake']['f1-score']}')\n",
    "print(f'Reliable : {result['reliable']['f1-score']}')"
   ]
  },
  {
   "cell_type": "code",
   "execution_count": 92,
   "metadata": {},
   "outputs": [
    {
     "name": "stdout",
     "output_type": "stream",
     "text": [
      "Fake     : 0.888316376286334\n",
      "Reliable : 0.8970854513996003\n"
     ]
    }
   ],
   "source": [
    "# Initializing and training the model\n",
    "LogReg_model = LogisticRegression(max_iter=10000)\n",
    "LogReg_model.fit(Multigram_BagOfWords_matrix, Training_Data['Y'])\n",
    "\n",
    "# Testing the model\n",
    "predictions = LogReg_model.predict(Multigram_BagOfWords.transform(Test_Data['X']))\n",
    "result = classification_report(Test_Data['Y'], predictions, digits=5, output_dict=True)\n",
    "print(f'Fake     : {result['fake']['f1-score']}')\n",
    "print(f'Reliable : {result['reliable']['f1-score']}')"
   ]
  },
  {
   "cell_type": "markdown",
   "metadata": {},
   "source": [
    "#### TF-IDF transformation"
   ]
  },
  {
   "cell_type": "code",
   "execution_count": 93,
   "metadata": {},
   "outputs": [
    {
     "name": "stdout",
     "output_type": "stream",
     "text": [
      "Fake     : 0.8506330599609747\n",
      "Reliable : 0.8644322827201427\n"
     ]
    }
   ],
   "source": [
    "# Initializing and training the model\n",
    "LogReg_model = LogisticRegression(max_iter=10000)\n",
    "LogReg_model.fit(TFIDF_BagOfWords.transform(BagOfWords_matrix), Training_Data['Y'])\n",
    "\n",
    "# Testing the model\n",
    "predictions = LogReg_model.predict(TFIDF_BagOfWords.transform(BagOfWords.transform(Test_Data['X'])))\n",
    "result = classification_report(Test_Data['Y'], predictions, digits=5, output_dict=True)\n",
    "print(f'Fake     : {result['fake']['f1-score']}')\n",
    "print(f'Reliable : {result['reliable']['f1-score']}')"
   ]
  },
  {
   "cell_type": "code",
   "execution_count": 94,
   "metadata": {},
   "outputs": [
    {
     "name": "stdout",
     "output_type": "stream",
     "text": [
      "Fake     : 0.8713412860052371\n",
      "Reliable : 0.8813204508856682\n"
     ]
    }
   ],
   "source": [
    "# Initializing and training the model\n",
    "LogReg_model = LogisticRegression(max_iter=10000)\n",
    "LogReg_model.fit(TFIDF_Bigram_BagOfWords.transform(Bigram_BagOfWords_matrix), Training_Data['Y'])\n",
    "\n",
    "# Testing the model\n",
    "predictions = LogReg_model.predict(TFIDF_Bigram_BagOfWords.transform(Bigram_BagOfWords.transform(Test_Data['X'])))\n",
    "result = classification_report(Test_Data['Y'], predictions, digits=5, output_dict=True)\n",
    "print(f'Fake     : {result['fake']['f1-score']}')\n",
    "print(f'Reliable : {result['reliable']['f1-score']}')"
   ]
  },
  {
   "cell_type": "code",
   "execution_count": 95,
   "metadata": {},
   "outputs": [
    {
     "name": "stdout",
     "output_type": "stream",
     "text": [
      "Fake     : 0.877323528980943\n",
      "Reliable : 0.8883199317251403\n"
     ]
    }
   ],
   "source": [
    "# Initializing and training the model\n",
    "LogReg_model = LogisticRegression(max_iter=10000)\n",
    "LogReg_model.fit(TFIDF_Multigram_BagOfWords.transform(Multigram_BagOfWords_matrix), Training_Data['Y'])\n",
    "\n",
    "# Testing the model\n",
    "predictions = LogReg_model.predict(TFIDF_Multigram_BagOfWords.transform(Multigram_BagOfWords.transform(Test_Data['X'])))\n",
    "result = classification_report(Test_Data['Y'], predictions, digits=5, output_dict=True)\n",
    "print(f'Fake     : {result['fake']['f1-score']}')\n",
    "print(f'Reliable : {result['reliable']['f1-score']}')"
   ]
  },
  {
   "cell_type": "markdown",
   "metadata": {},
   "source": [
    "#### Chi feature selection"
   ]
  },
  {
   "cell_type": "code",
   "execution_count": 96,
   "metadata": {},
   "outputs": [
    {
     "name": "stdout",
     "output_type": "stream",
     "text": [
      "Fake     : 0.8441081334250545\n",
      "Reliable : 0.857867275177816\n"
     ]
    }
   ],
   "source": [
    "# Initializing and training the model\n",
    "LogReg_model = LogisticRegression(max_iter=10000)\n",
    "LogReg_model.fit(Chi_BagOfWords.transform(BagOfWords_matrix), Training_Data['Y'])\n",
    "\n",
    "# Testing the model\n",
    "predictions = LogReg_model.predict(Chi_BagOfWords.transform(BagOfWords.transform(Test_Data['X'])))\n",
    "result = classification_report(Test_Data['Y'], predictions, digits=5, output_dict=True)\n",
    "print(f'Fake     : {result['fake']['f1-score']}')\n",
    "print(f'Reliable : {result['reliable']['f1-score']}')"
   ]
  },
  {
   "cell_type": "code",
   "execution_count": null,
   "metadata": {},
   "outputs": [],
   "source": [
    "# Initializing and training the model\n",
    "LogReg_model = LogisticRegression(max_iter=10000)\n",
    "LogReg_model.fit(Chi_Bigram_BagOfWords.transform(Bigram_BagOfWords_matrix), Training_Data['Y'])\n",
    "\n",
    "# Testing the model\n",
    "predictions = LogReg_model.predict(Chi_Bigram_BagOfWords.transform(Bigram_BagOfWords.transform(Test_Data['X'])))\n",
    "result = classification_report(Test_Data['Y'], predictions, digits=5, output_dict=True)\n",
    "print(f'Fake     : {result['fake']['f1-score']}')\n",
    "print(f'Reliable : {result['reliable']['f1-score']}')"
   ]
  },
  {
   "cell_type": "code",
   "execution_count": null,
   "metadata": {},
   "outputs": [],
   "source": [
    "# Initializing and training the model\n",
    "LogReg_model = LogisticRegression(max_iter=10000)\n",
    "LogReg_model.fit(Chi_Multigram_BagOfWords.transform(Multigram_BagOfWords_matrix), Training_Data['Y'])\n",
    "\n",
    "# Testing the model\n",
    "predictions = LogReg_model.predict(Chi_Multigram_BagOfWords.transform(Multigram_BagOfWords.transform(Test_Data['X'])))\n",
    "result = classification_report(Test_Data['Y'], predictions, digits=5, output_dict=True)\n",
    "print(f'Fake     : {result['fake']['f1-score']}')\n",
    "print(f'Reliable : {result['reliable']['f1-score']}')"
   ]
  },
  {
   "cell_type": "markdown",
   "metadata": {},
   "source": [
    "## Best Model"
   ]
  },
  {
   "cell_type": "code",
   "execution_count": null,
   "metadata": {},
   "outputs": [],
   "source": [
    "from sklearn.feature_extraction.text import CountVectorizer\n",
    "\n",
    "Multigram_CountVector = CountVectorizer(\n",
    "    binary=True, \n",
    "    ngram_range=(1, 2), \n",
    "    max_features=None).fit(Training_Data['X'])\n",
    "\n",
    "Multigram_CountVector_matrix = Multigram_CountVector.transform(Training_Data['X'])"
   ]
  },
  {
   "cell_type": "code",
   "execution_count": 4,
   "metadata": {},
   "outputs": [],
   "source": [
    "from sklearn.feature_selection import SelectFpr, chi2\n",
    "\n",
    "Chi_Multigram_CountVector = SelectFpr(chi2, alpha=0.35).fit(Multigram_CountVector_matrix, Training_Data['Y'])"
   ]
  },
  {
   "cell_type": "code",
   "execution_count": 11,
   "metadata": {},
   "outputs": [
    {
     "name": "stdout",
     "output_type": "stream",
     "text": [
      "Fake     : 0.8970360636589283\n",
      "Reliable : 0.9056840979002274\n"
     ]
    }
   ],
   "source": [
    "from sklearn.linear_model import LogisticRegression\n",
    "from sklearn.metrics import classification_report\n",
    "\n",
    "# Initializing and training the model\n",
    "LogReg_model = LogisticRegression(max_iter=10000, C=0.1)\n",
    "LogReg_model.fit(Chi_Multigram_CountVector.transform(Multigram_CountVector_matrix), Training_Data['Y'])\n",
    "\n",
    "# Testing the model\n",
    "predictions = LogReg_model.predict(Chi_Multigram_CountVector.transform(Multigram_CountVector.transform(Test_Data['X'])))\n",
    "result = classification_report(Test_Data['Y'], predictions, digits=5, output_dict=True)\n",
    "print(f'Fake     : {result['fake']['f1-score']}')\n",
    "print(f'Reliable : {result['reliable']['f1-score']}')"
   ]
  },
  {
   "cell_type": "markdown",
   "metadata": {},
   "source": [
    "### Saving the Model"
   ]
  },
  {
   "cell_type": "code",
   "execution_count": null,
   "metadata": {},
   "outputs": [
    {
     "data": {
      "text/plain": [
       "['Advanced_model.pkl']"
      ]
     },
     "execution_count": 13,
     "metadata": {},
     "output_type": "execute_result"
    }
   ],
   "source": [
    "import joblib\n",
    "\n",
    "# getting the things to be saved\n",
    "vectorizer  = Multigram_CountVector\n",
    "selector    = Chi_Multigram_CountVector\n",
    "model       = LogReg_model\n",
    "\n",
    "# saving the vectorizer, feature selector and model to disk\n",
    "joblib.dump(vectorizer, 'Advanced_vectorizer.pkl')\n",
    "joblib.dump(selector, 'Advanced_selector.pkl')\n",
    "joblib.dump(model, 'Advanced_model.pkl')"
   ]
  },
  {
   "cell_type": "markdown",
   "metadata": {},
   "source": [
    "### Reading the Model"
   ]
  },
  {
   "cell_type": "code",
   "execution_count": 14,
   "metadata": {},
   "outputs": [],
   "source": [
    "# reading the vectorizer, feature selector and model\n",
    "vectorizer  = joblib.load('Advanced_vectorizer.pkl')\n",
    "selector    = joblib.load('Advanced_selector.pkl')\n",
    "model       = joblib.load('Advanced_model.pkl')"
   ]
  },
  {
   "cell_type": "markdown",
   "metadata": {},
   "source": [
    "## Testing different models"
   ]
  },
  {
   "cell_type": "code",
   "execution_count": 17,
   "metadata": {},
   "outputs": [],
   "source": [
    "from sklearn.feature_extraction.text import CountVectorizer\n",
    "\n",
    "vectorizer = CountVectorizer(\n",
    "    binary=True, \n",
    "    max_features=10_000).fit(Training_Data['X'][:5_000])"
   ]
  },
  {
   "cell_type": "markdown",
   "metadata": {},
   "source": [
    "### Logisitc regression"
   ]
  },
  {
   "cell_type": "code",
   "execution_count": null,
   "metadata": {},
   "outputs": [
    {
     "name": "stdout",
     "output_type": "stream",
     "text": [
      "              precision    recall  f1-score   support\n",
      "\n",
      "        fake       0.76      0.77      0.76      2415\n",
      "    reliable       0.78      0.77      0.78      2585\n",
      "\n",
      "    accuracy                           0.77      5000\n",
      "   macro avg       0.77      0.77      0.77      5000\n",
      "weighted avg       0.77      0.77      0.77      5000\n",
      "\n"
     ]
    }
   ],
   "source": [
    "from sklearn.linear_model import LogisticRegression\n",
    "from sklearn.metrics import classification_report\n",
    "\n",
    "# training the model\n",
    "model = LogisticRegression()\n",
    "model.fit(\n",
    "    vectorizer.transform(Training_Data['X'][:5_000]), \n",
    "    Training_Data['Y'][:5_000])\n",
    "\n",
    "# testing the model\n",
    "y_pred = model.predict(vectorizer.transform(Test_Data['X'][:5_000]))\n",
    "print(classification_report(Test_Data['Y'][:5_000], y_pred))"
   ]
  },
  {
   "cell_type": "code",
   "execution_count": null,
   "metadata": {},
   "outputs": [
    {
     "name": "stdout",
     "output_type": "stream",
     "text": [
      "              precision    recall  f1-score   support\n",
      "\n",
      "        fake       0.77      0.78      0.78      2415\n",
      "    reliable       0.79      0.78      0.79      2585\n",
      "\n",
      "    accuracy                           0.78      5000\n",
      "   macro avg       0.78      0.78      0.78      5000\n",
      "weighted avg       0.78      0.78      0.78      5000\n",
      "\n"
     ]
    }
   ],
   "source": [
    "from sklearn.linear_model import LogisticRegression\n",
    "from sklearn.metrics import classification_report\n",
    "\n",
    "# training the model\n",
    "model = LogisticRegression()\n",
    "model.fit(\n",
    "    vectorizer.transform(Training_Data['X'][:10_000]), \n",
    "    Training_Data['Y'][:10_000])\n",
    "\n",
    "# testing the model\n",
    "y_pred = model.predict(vectorizer.transform(Test_Data['X'][:5_000]))\n",
    "print(classification_report(Test_Data['Y'][:5_000], y_pred))"
   ]
  },
  {
   "cell_type": "markdown",
   "metadata": {},
   "source": [
    "### SVM"
   ]
  },
  {
   "cell_type": "code",
   "execution_count": null,
   "metadata": {},
   "outputs": [
    {
     "name": "stdout",
     "output_type": "stream",
     "text": [
      "              precision    recall  f1-score   support\n",
      "\n",
      "        fake       0.76      0.79      0.78      2415\n",
      "    reliable       0.80      0.77      0.78      2585\n",
      "\n",
      "    accuracy                           0.78      5000\n",
      "   macro avg       0.78      0.78      0.78      5000\n",
      "weighted avg       0.78      0.78      0.78      5000\n",
      "\n"
     ]
    }
   ],
   "source": [
    "from sklearn.svm import SVC\n",
    "from sklearn.metrics import classification_report\n",
    "\n",
    "# training the model\n",
    "model = SVC()\n",
    "model.fit(\n",
    "    vectorizer.transform(Training_Data['X'][:5_000]), \n",
    "    Training_Data['Y'][:5_000])\n",
    "\n",
    "# testing the model\n",
    "y_pred = model.predict(vectorizer.transform(Test_Data['X'][:5_000]))\n",
    "print(classification_report(Test_Data['Y'][:5_000], y_pred))"
   ]
  },
  {
   "cell_type": "code",
   "execution_count": null,
   "metadata": {},
   "outputs": [
    {
     "name": "stdout",
     "output_type": "stream",
     "text": [
      "              precision    recall  f1-score   support\n",
      "\n",
      "        fake       0.78      0.80      0.79      2415\n",
      "    reliable       0.81      0.79      0.80      2585\n",
      "\n",
      "    accuracy                           0.79      5000\n",
      "   macro avg       0.79      0.79      0.79      5000\n",
      "weighted avg       0.79      0.79      0.79      5000\n",
      "\n"
     ]
    }
   ],
   "source": [
    "from sklearn.svm import SVC\n",
    "from sklearn.metrics import classification_report\n",
    "\n",
    "# training the model\n",
    "model = SVC()\n",
    "model.fit(\n",
    "    vectorizer.transform(Training_Data['X'][:10_000]), \n",
    "    Training_Data['Y'][:10_000])\n",
    "\n",
    "# testing the model\n",
    "y_pred = model.predict(vectorizer.transform(Test_Data['X'][:5_000]))\n",
    "print(classification_report(Test_Data['Y'][:5_000], y_pred))"
   ]
  },
  {
   "cell_type": "markdown",
   "metadata": {},
   "source": [
    "### Naive Bayers"
   ]
  },
  {
   "cell_type": "code",
   "execution_count": 26,
   "metadata": {},
   "outputs": [
    {
     "name": "stdout",
     "output_type": "stream",
     "text": [
      "              precision    recall  f1-score   support\n",
      "\n",
      "        fake       0.75      0.77      0.76      2415\n",
      "    reliable       0.78      0.76      0.77      2585\n",
      "\n",
      "    accuracy                           0.77      5000\n",
      "   macro avg       0.77      0.77      0.77      5000\n",
      "weighted avg       0.77      0.77      0.77      5000\n",
      "\n"
     ]
    }
   ],
   "source": [
    "from sklearn.naive_bayes import MultinomialNB\n",
    "from sklearn.metrics import classification_report\n",
    "\n",
    "# training the model\n",
    "model = MultinomialNB()\n",
    "model.fit(\n",
    "    vectorizer.transform(Training_Data['X'][:5_000]), \n",
    "    Training_Data['Y'][:5_000])\n",
    "\n",
    "# testing the model\n",
    "y_pred = model.predict(vectorizer.transform(Test_Data['X'][:5_000]))\n",
    "print(classification_report(Test_Data['Y'][:5_000], y_pred))"
   ]
  },
  {
   "cell_type": "code",
   "execution_count": 27,
   "metadata": {},
   "outputs": [
    {
     "name": "stdout",
     "output_type": "stream",
     "text": [
      "              precision    recall  f1-score   support\n",
      "\n",
      "        fake       0.75      0.78      0.77      2415\n",
      "    reliable       0.79      0.76      0.77      2585\n",
      "\n",
      "    accuracy                           0.77      5000\n",
      "   macro avg       0.77      0.77      0.77      5000\n",
      "weighted avg       0.77      0.77      0.77      5000\n",
      "\n"
     ]
    }
   ],
   "source": [
    "from sklearn.naive_bayes import MultinomialNB\n",
    "from sklearn.metrics import classification_report\n",
    "\n",
    "# training the model\n",
    "model = MultinomialNB()\n",
    "model.fit(\n",
    "    vectorizer.transform(Training_Data['X'][:10_000]), \n",
    "    Training_Data['Y'][:10_000])\n",
    "\n",
    "# testing the model\n",
    "y_pred = model.predict(vectorizer.transform(Test_Data['X'][:5_000]))\n",
    "print(classification_report(Test_Data['Y'][:5_000], y_pred))"
   ]
  },
  {
   "cell_type": "markdown",
   "metadata": {},
   "source": [
    "### Neural network"
   ]
  },
  {
   "cell_type": "code",
   "execution_count": 36,
   "metadata": {},
   "outputs": [
    {
     "name": "stdout",
     "output_type": "stream",
     "text": [
      "              precision    recall  f1-score   support\n",
      "\n",
      "        fake       0.68      0.91      0.78      2415\n",
      "    reliable       0.88      0.60      0.71      2585\n",
      "\n",
      "    accuracy                           0.75      5000\n",
      "   macro avg       0.78      0.76      0.75      5000\n",
      "weighted avg       0.78      0.75      0.75      5000\n",
      "\n"
     ]
    }
   ],
   "source": [
    "from sklearn.neural_network import MLPClassifier\n",
    "from sklearn.metrics import classification_report\n",
    "\n",
    "# training the model\n",
    "model = MLPClassifier(hidden_layer_sizes=(128, 64, 32, 16, 8, 4, 2), max_iter=1000)\n",
    "model.fit(\n",
    "    vectorizer.transform(Training_Data['X'][:5_000]), \n",
    "    Training_Data['Y'][:5_000])\n",
    "\n",
    "# testing the model\n",
    "y_pred = model.predict(vectorizer.transform(Test_Data['X'][:5_000]))\n",
    "print(classification_report(Test_Data['Y'][:5_000], y_pred))"
   ]
  },
  {
   "cell_type": "code",
   "execution_count": 37,
   "metadata": {},
   "outputs": [
    {
     "name": "stdout",
     "output_type": "stream",
     "text": [
      "              precision    recall  f1-score   support\n",
      "\n",
      "        fake       0.76      0.83      0.79      2415\n",
      "    reliable       0.82      0.75      0.79      2585\n",
      "\n",
      "    accuracy                           0.79      5000\n",
      "   macro avg       0.79      0.79      0.79      5000\n",
      "weighted avg       0.79      0.79      0.79      5000\n",
      "\n"
     ]
    }
   ],
   "source": [
    "from sklearn.neural_network import MLPClassifier\n",
    "from sklearn.metrics import classification_report\n",
    "\n",
    "# training the model\n",
    "model = MLPClassifier(hidden_layer_sizes=(128, 64, 32, 16, 8, 4, 2), max_iter=1000)\n",
    "model.fit(\n",
    "    vectorizer.transform(Training_Data['X'][:10_000]), \n",
    "    Training_Data['Y'][:10_000])\n",
    "\n",
    "# testing the model\n",
    "y_pred = model.predict(vectorizer.transform(Test_Data['X'][:5_000]))\n",
    "print(classification_report(Test_Data['Y'][:5_000], y_pred))"
   ]
  },
  {
   "cell_type": "markdown",
   "metadata": {},
   "source": [
    "### Gradient boosted clasification"
   ]
  },
  {
   "cell_type": "code",
   "execution_count": null,
   "metadata": {},
   "outputs": [
    {
     "name": "stdout",
     "output_type": "stream",
     "text": [
      "              precision    recall  f1-score   support\n",
      "\n",
      "        fake       0.75      0.79      0.77      2415\n",
      "    reliable       0.79      0.76      0.77      2585\n",
      "\n",
      "    accuracy                           0.77      5000\n",
      "   macro avg       0.77      0.77      0.77      5000\n",
      "weighted avg       0.77      0.77      0.77      5000\n",
      "\n"
     ]
    }
   ],
   "source": [
    "from sklearn.ensemble import GradientBoostingClassifier\n",
    "from sklearn.metrics import classification_report\n",
    "\n",
    "# training the model\n",
    "model = GradientBoostingClassifier()\n",
    "model.fit(\n",
    "    vectorizer.transform(Training_Data['X'][:5_000]), \n",
    "    Training_Data['Y'][:5_000])\n",
    "\n",
    "# testing the model\n",
    "y_pred = model.predict(vectorizer.transform(Test_Data['X'][:5_000]))\n",
    "print(classification_report(Test_Data['Y'][:5_000], y_pred))"
   ]
  },
  {
   "cell_type": "code",
   "execution_count": null,
   "metadata": {},
   "outputs": [
    {
     "name": "stdout",
     "output_type": "stream",
     "text": [
      "              precision    recall  f1-score   support\n",
      "\n",
      "        fake       0.76      0.78      0.77      2415\n",
      "    reliable       0.79      0.77      0.78      2585\n",
      "\n",
      "    accuracy                           0.77      5000\n",
      "   macro avg       0.77      0.77      0.77      5000\n",
      "weighted avg       0.77      0.77      0.77      5000\n",
      "\n"
     ]
    }
   ],
   "source": [
    "from sklearn.ensemble import GradientBoostingClassifier\n",
    "from sklearn.metrics import classification_report\n",
    "\n",
    "# training the model\n",
    "model = GradientBoostingClassifier()\n",
    "model.fit(\n",
    "    vectorizer.transform(Training_Data['X'][:10_000]), \n",
    "    Training_Data['Y'][:10_000])\n",
    "\n",
    "# testing the model\n",
    "y_pred = model.predict(vectorizer.transform(Test_Data['X'][:5_000]))\n",
    "print(classification_report(Test_Data['Y'][:5_000], y_pred))"
   ]
  },
  {
   "cell_type": "markdown",
   "metadata": {},
   "source": [
    "## Evaluating the most promessing models"
   ]
  },
  {
   "cell_type": "code",
   "execution_count": null,
   "metadata": {},
   "outputs": [
    {
     "name": "stdout",
     "output_type": "stream",
     "text": [
      "              precision    recall  f1-score   support\n",
      "\n",
      "        fake       0.85      0.84      0.84     34298\n",
      "    reliable       0.85      0.86      0.86     37332\n",
      "\n",
      "    accuracy                           0.85     71630\n",
      "   macro avg       0.85      0.85      0.85     71630\n",
      "weighted avg       0.85      0.85      0.85     71630\n",
      "\n"
     ]
    }
   ],
   "source": [
    "from sklearn.linear_model import LogisticRegression\n",
    "from sklearn.metrics import classification_report\n",
    "\n",
    "# training the model\n",
    "model = LogisticRegression(max_iter=1000)\n",
    "model.fit(\n",
    "    vectorizer.transform(Training_Data['X']), \n",
    "    Training_Data['Y'])\n",
    "\n",
    "# testing the model\n",
    "y_pred = model.predict(vectorizer.transform(Test_Data['X']))\n",
    "print(classification_report(Test_Data['Y'], y_pred))"
   ]
  },
  {
   "cell_type": "code",
   "execution_count": 29,
   "metadata": {},
   "outputs": [
    {
     "name": "stdout",
     "output_type": "stream",
     "text": [
      "              precision    recall  f1-score   support\n",
      "\n",
      "        fake       0.77      0.79      0.78     34298\n",
      "    reliable       0.80      0.78      0.79     37332\n",
      "\n",
      "    accuracy                           0.79     71630\n",
      "   macro avg       0.79      0.79      0.79     71630\n",
      "weighted avg       0.79      0.79      0.79     71630\n",
      "\n"
     ]
    }
   ],
   "source": [
    "from sklearn.naive_bayes import MultinomialNB\n",
    "from sklearn.metrics import classification_report\n",
    "\n",
    "# training the model\n",
    "model = MultinomialNB()\n",
    "model.fit(\n",
    "    vectorizer.transform(Training_Data['X']), \n",
    "    Training_Data['Y'])\n",
    "\n",
    "# testing the model\n",
    "y_pred = model.predict(vectorizer.transform(Test_Data['X']))\n",
    "print(classification_report(Test_Data['Y'], y_pred))"
   ]
  },
  {
   "cell_type": "markdown",
   "metadata": {},
   "source": [
    "## Initial model experimentation"
   ]
  },
  {
   "cell_type": "markdown",
   "metadata": {},
   "source": []
  },
  {
   "cell_type": "markdown",
   "metadata": {},
   "source": []
  },
  {
   "cell_type": "markdown",
   "metadata": {},
   "source": []
  },
  {
   "cell_type": "code",
   "execution_count": 46,
   "metadata": {},
   "outputs": [
    {
     "name": "stdout",
     "output_type": "stream",
     "text": [
      "              precision    recall  f1-score   support\n",
      "\n",
      "        fake       0.86      0.86      0.86     62165\n",
      "    reliable       0.87      0.88      0.87     67838\n",
      "\n",
      "    accuracy                           0.87    130003\n",
      "   macro avg       0.87      0.87      0.87    130003\n",
      "weighted avg       0.87      0.87      0.87    130003\n",
      "\n"
     ]
    }
   ],
   "source": [
    "# Opret og træn modellen\n",
    "log_reg_model = LogisticRegression(max_iter=10000)\n",
    "log_reg_model.fit(CountVector_matrix, Training_Data['Y'])\n",
    "\n",
    "# Evaluer modellen\n",
    "y_pred = log_reg_model.predict(CountVector.transform(Test_Data['X']))\n",
    "print(classification_report(Test_Data['Y'], y_pred))"
   ]
  },
  {
   "cell_type": "code",
   "execution_count": null,
   "metadata": {},
   "outputs": [
    {
     "name": "stdout",
     "output_type": "stream",
     "text": [
      "              precision    recall  f1-score   support\n",
      "\n",
      "        fake       0.84      0.84      0.84     62165\n",
      "    reliable       0.85      0.86      0.86     67838\n",
      "\n",
      "    accuracy                           0.85    130003\n",
      "   macro avg       0.85      0.85      0.85    130003\n",
      "weighted avg       0.85      0.85      0.85    130003\n",
      "\n"
     ]
    }
   ],
   "source": [
    "# Opret og træn modellen\n",
    "log_reg_model = LogisticRegression(max_iter=10000)\n",
    "log_reg_model.fit(BagOfWords_matrix, Training_Data['Y'])\n",
    "\n",
    "# Evaluer modellen\n",
    "y_pred = log_reg_model.predict(BagOfWords.transform(Test_Data['X']))\n",
    "print(classification_report(Test_Data['Y'], y_pred))"
   ]
  },
  {
   "cell_type": "code",
   "execution_count": null,
   "metadata": {},
   "outputs": [
    {
     "name": "stdout",
     "output_type": "stream",
     "text": [
      "              precision    recall  f1-score   support\n",
      "\n",
      "        fake       0.86      0.85      0.86     62165\n",
      "    reliable       0.87      0.87      0.87     67838\n",
      "\n",
      "    accuracy                           0.86    130003\n",
      "   macro avg       0.86      0.86      0.86    130003\n",
      "weighted avg       0.86      0.86      0.86    130003\n",
      "\n"
     ]
    }
   ],
   "source": [
    "# Opret og træn modellen\n",
    "log_reg_model = LogisticRegression(max_iter=10000)\n",
    "log_reg_model.fit(TFIDF_CountVector.transform(CountVector_matrix), Training_Data['Y'])\n",
    "\n",
    "# Evaluer modellen\n",
    "y_pred = log_reg_model.predict(TFIDF_CountVector.transform(CountVector.transform(Test_Data['X'])))\n",
    "print(classification_report(Test_Data['Y'], y_pred))"
   ]
  },
  {
   "cell_type": "code",
   "execution_count": null,
   "metadata": {},
   "outputs": [
    {
     "name": "stdout",
     "output_type": "stream",
     "text": [
      "              precision    recall  f1-score   support\n",
      "\n",
      "        fake       0.85      0.85      0.85     62165\n",
      "    reliable       0.86      0.86      0.86     67838\n",
      "\n",
      "    accuracy                           0.86    130003\n",
      "   macro avg       0.86      0.86      0.86    130003\n",
      "weighted avg       0.86      0.86      0.86    130003\n",
      "\n"
     ]
    }
   ],
   "source": [
    "# Opret og træn modellen\n",
    "log_reg_model = LogisticRegression(max_iter=10000)\n",
    "log_reg_model.fit(TFIDF_BagOfWords.transform(BagOfWords_matrix), Training_Data['Y'])\n",
    "\n",
    "# Evaluer modellen\n",
    "y_pred = log_reg_model.predict(TFIDF_BagOfWords.transform(BagOfWords.transform(Test_Data['X'])))\n",
    "print(classification_report(Test_Data['Y'], y_pred))"
   ]
  },
  {
   "cell_type": "code",
   "execution_count": null,
   "metadata": {},
   "outputs": [
    {
     "name": "stdout",
     "output_type": "stream",
     "text": [
      "              precision    recall  f1-score   support\n",
      "\n",
      "        fake       0.85      0.84      0.85     62165\n",
      "    reliable       0.85      0.87      0.86     67838\n",
      "\n",
      "    accuracy                           0.85    130003\n",
      "   macro avg       0.85      0.85      0.85    130003\n",
      "weighted avg       0.85      0.85      0.85    130003\n",
      "\n"
     ]
    }
   ],
   "source": [
    "# Opret og træn modellen\n",
    "log_reg_model = LogisticRegression(max_iter=10000)\n",
    "log_reg_model.fit(Chi_CountVector.transform(CountVector_matrix), Training_Data['Y'])\n",
    "\n",
    "# Evaluer modellen\n",
    "y_pred = log_reg_model.predict(Chi_CountVector.transform(CountVector.transform(Test_Data['X'])))\n",
    "print(classification_report(Test_Data['Y'], y_pred))"
   ]
  },
  {
   "cell_type": "code",
   "execution_count": null,
   "metadata": {},
   "outputs": [
    {
     "name": "stdout",
     "output_type": "stream",
     "text": [
      "              precision    recall  f1-score   support\n",
      "\n",
      "        fake       0.86      0.87      0.87     62165\n",
      "    reliable       0.88      0.88      0.88     67838\n",
      "\n",
      "    accuracy                           0.87    130003\n",
      "   macro avg       0.87      0.87      0.87    130003\n",
      "weighted avg       0.87      0.87      0.87    130003\n",
      "\n"
     ]
    }
   ],
   "source": [
    "# Opret og træn modellen\n",
    "log_reg_model = LogisticRegression(max_iter=10000)\n",
    "log_reg_model.fit(TFIDF_Bigram_CountVector.transform(Bigram_CountVector_matrix), Training_Data['Y'])\n",
    "\n",
    "# Evaluer modellen\n",
    "y_pred = log_reg_model.predict(TFIDF_Bigram_CountVector.transform(Bigram_CountVector.transform(Test_Data['X'])))\n",
    "print(classification_report(Test_Data['Y'], y_pred))"
   ]
  },
  {
   "cell_type": "markdown",
   "metadata": {},
   "source": [
    "## Other"
   ]
  },
  {
   "cell_type": "code",
   "execution_count": 35,
   "metadata": {},
   "outputs": [
    {
     "data": {
      "text/html": [
       "<style>#sk-container-id-5 {\n",
       "  /* Definition of color scheme common for light and dark mode */\n",
       "  --sklearn-color-text: #000;\n",
       "  --sklearn-color-text-muted: #666;\n",
       "  --sklearn-color-line: gray;\n",
       "  /* Definition of color scheme for unfitted estimators */\n",
       "  --sklearn-color-unfitted-level-0: #fff5e6;\n",
       "  --sklearn-color-unfitted-level-1: #f6e4d2;\n",
       "  --sklearn-color-unfitted-level-2: #ffe0b3;\n",
       "  --sklearn-color-unfitted-level-3: chocolate;\n",
       "  /* Definition of color scheme for fitted estimators */\n",
       "  --sklearn-color-fitted-level-0: #f0f8ff;\n",
       "  --sklearn-color-fitted-level-1: #d4ebff;\n",
       "  --sklearn-color-fitted-level-2: #b3dbfd;\n",
       "  --sklearn-color-fitted-level-3: cornflowerblue;\n",
       "\n",
       "  /* Specific color for light theme */\n",
       "  --sklearn-color-text-on-default-background: var(--sg-text-color, var(--theme-code-foreground, var(--jp-content-font-color1, black)));\n",
       "  --sklearn-color-background: var(--sg-background-color, var(--theme-background, var(--jp-layout-color0, white)));\n",
       "  --sklearn-color-border-box: var(--sg-text-color, var(--theme-code-foreground, var(--jp-content-font-color1, black)));\n",
       "  --sklearn-color-icon: #696969;\n",
       "\n",
       "  @media (prefers-color-scheme: dark) {\n",
       "    /* Redefinition of color scheme for dark theme */\n",
       "    --sklearn-color-text-on-default-background: var(--sg-text-color, var(--theme-code-foreground, var(--jp-content-font-color1, white)));\n",
       "    --sklearn-color-background: var(--sg-background-color, var(--theme-background, var(--jp-layout-color0, #111)));\n",
       "    --sklearn-color-border-box: var(--sg-text-color, var(--theme-code-foreground, var(--jp-content-font-color1, white)));\n",
       "    --sklearn-color-icon: #878787;\n",
       "  }\n",
       "}\n",
       "\n",
       "#sk-container-id-5 {\n",
       "  color: var(--sklearn-color-text);\n",
       "}\n",
       "\n",
       "#sk-container-id-5 pre {\n",
       "  padding: 0;\n",
       "}\n",
       "\n",
       "#sk-container-id-5 input.sk-hidden--visually {\n",
       "  border: 0;\n",
       "  clip: rect(1px 1px 1px 1px);\n",
       "  clip: rect(1px, 1px, 1px, 1px);\n",
       "  height: 1px;\n",
       "  margin: -1px;\n",
       "  overflow: hidden;\n",
       "  padding: 0;\n",
       "  position: absolute;\n",
       "  width: 1px;\n",
       "}\n",
       "\n",
       "#sk-container-id-5 div.sk-dashed-wrapped {\n",
       "  border: 1px dashed var(--sklearn-color-line);\n",
       "  margin: 0 0.4em 0.5em 0.4em;\n",
       "  box-sizing: border-box;\n",
       "  padding-bottom: 0.4em;\n",
       "  background-color: var(--sklearn-color-background);\n",
       "}\n",
       "\n",
       "#sk-container-id-5 div.sk-container {\n",
       "  /* jupyter's `normalize.less` sets `[hidden] { display: none; }`\n",
       "     but bootstrap.min.css set `[hidden] { display: none !important; }`\n",
       "     so we also need the `!important` here to be able to override the\n",
       "     default hidden behavior on the sphinx rendered scikit-learn.org.\n",
       "     See: https://github.com/scikit-learn/scikit-learn/issues/21755 */\n",
       "  display: inline-block !important;\n",
       "  position: relative;\n",
       "}\n",
       "\n",
       "#sk-container-id-5 div.sk-text-repr-fallback {\n",
       "  display: none;\n",
       "}\n",
       "\n",
       "div.sk-parallel-item,\n",
       "div.sk-serial,\n",
       "div.sk-item {\n",
       "  /* draw centered vertical line to link estimators */\n",
       "  background-image: linear-gradient(var(--sklearn-color-text-on-default-background), var(--sklearn-color-text-on-default-background));\n",
       "  background-size: 2px 100%;\n",
       "  background-repeat: no-repeat;\n",
       "  background-position: center center;\n",
       "}\n",
       "\n",
       "/* Parallel-specific style estimator block */\n",
       "\n",
       "#sk-container-id-5 div.sk-parallel-item::after {\n",
       "  content: \"\";\n",
       "  width: 100%;\n",
       "  border-bottom: 2px solid var(--sklearn-color-text-on-default-background);\n",
       "  flex-grow: 1;\n",
       "}\n",
       "\n",
       "#sk-container-id-5 div.sk-parallel {\n",
       "  display: flex;\n",
       "  align-items: stretch;\n",
       "  justify-content: center;\n",
       "  background-color: var(--sklearn-color-background);\n",
       "  position: relative;\n",
       "}\n",
       "\n",
       "#sk-container-id-5 div.sk-parallel-item {\n",
       "  display: flex;\n",
       "  flex-direction: column;\n",
       "}\n",
       "\n",
       "#sk-container-id-5 div.sk-parallel-item:first-child::after {\n",
       "  align-self: flex-end;\n",
       "  width: 50%;\n",
       "}\n",
       "\n",
       "#sk-container-id-5 div.sk-parallel-item:last-child::after {\n",
       "  align-self: flex-start;\n",
       "  width: 50%;\n",
       "}\n",
       "\n",
       "#sk-container-id-5 div.sk-parallel-item:only-child::after {\n",
       "  width: 0;\n",
       "}\n",
       "\n",
       "/* Serial-specific style estimator block */\n",
       "\n",
       "#sk-container-id-5 div.sk-serial {\n",
       "  display: flex;\n",
       "  flex-direction: column;\n",
       "  align-items: center;\n",
       "  background-color: var(--sklearn-color-background);\n",
       "  padding-right: 1em;\n",
       "  padding-left: 1em;\n",
       "}\n",
       "\n",
       "\n",
       "/* Toggleable style: style used for estimator/Pipeline/ColumnTransformer box that is\n",
       "clickable and can be expanded/collapsed.\n",
       "- Pipeline and ColumnTransformer use this feature and define the default style\n",
       "- Estimators will overwrite some part of the style using the `sk-estimator` class\n",
       "*/\n",
       "\n",
       "/* Pipeline and ColumnTransformer style (default) */\n",
       "\n",
       "#sk-container-id-5 div.sk-toggleable {\n",
       "  /* Default theme specific background. It is overwritten whether we have a\n",
       "  specific estimator or a Pipeline/ColumnTransformer */\n",
       "  background-color: var(--sklearn-color-background);\n",
       "}\n",
       "\n",
       "/* Toggleable label */\n",
       "#sk-container-id-5 label.sk-toggleable__label {\n",
       "  cursor: pointer;\n",
       "  display: flex;\n",
       "  width: 100%;\n",
       "  margin-bottom: 0;\n",
       "  padding: 0.5em;\n",
       "  box-sizing: border-box;\n",
       "  text-align: center;\n",
       "  align-items: start;\n",
       "  justify-content: space-between;\n",
       "  gap: 0.5em;\n",
       "}\n",
       "\n",
       "#sk-container-id-5 label.sk-toggleable__label .caption {\n",
       "  font-size: 0.6rem;\n",
       "  font-weight: lighter;\n",
       "  color: var(--sklearn-color-text-muted);\n",
       "}\n",
       "\n",
       "#sk-container-id-5 label.sk-toggleable__label-arrow:before {\n",
       "  /* Arrow on the left of the label */\n",
       "  content: \"▸\";\n",
       "  float: left;\n",
       "  margin-right: 0.25em;\n",
       "  color: var(--sklearn-color-icon);\n",
       "}\n",
       "\n",
       "#sk-container-id-5 label.sk-toggleable__label-arrow:hover:before {\n",
       "  color: var(--sklearn-color-text);\n",
       "}\n",
       "\n",
       "/* Toggleable content - dropdown */\n",
       "\n",
       "#sk-container-id-5 div.sk-toggleable__content {\n",
       "  max-height: 0;\n",
       "  max-width: 0;\n",
       "  overflow: hidden;\n",
       "  text-align: left;\n",
       "  /* unfitted */\n",
       "  background-color: var(--sklearn-color-unfitted-level-0);\n",
       "}\n",
       "\n",
       "#sk-container-id-5 div.sk-toggleable__content.fitted {\n",
       "  /* fitted */\n",
       "  background-color: var(--sklearn-color-fitted-level-0);\n",
       "}\n",
       "\n",
       "#sk-container-id-5 div.sk-toggleable__content pre {\n",
       "  margin: 0.2em;\n",
       "  border-radius: 0.25em;\n",
       "  color: var(--sklearn-color-text);\n",
       "  /* unfitted */\n",
       "  background-color: var(--sklearn-color-unfitted-level-0);\n",
       "}\n",
       "\n",
       "#sk-container-id-5 div.sk-toggleable__content.fitted pre {\n",
       "  /* unfitted */\n",
       "  background-color: var(--sklearn-color-fitted-level-0);\n",
       "}\n",
       "\n",
       "#sk-container-id-5 input.sk-toggleable__control:checked~div.sk-toggleable__content {\n",
       "  /* Expand drop-down */\n",
       "  max-height: 200px;\n",
       "  max-width: 100%;\n",
       "  overflow: auto;\n",
       "}\n",
       "\n",
       "#sk-container-id-5 input.sk-toggleable__control:checked~label.sk-toggleable__label-arrow:before {\n",
       "  content: \"▾\";\n",
       "}\n",
       "\n",
       "/* Pipeline/ColumnTransformer-specific style */\n",
       "\n",
       "#sk-container-id-5 div.sk-label input.sk-toggleable__control:checked~label.sk-toggleable__label {\n",
       "  color: var(--sklearn-color-text);\n",
       "  background-color: var(--sklearn-color-unfitted-level-2);\n",
       "}\n",
       "\n",
       "#sk-container-id-5 div.sk-label.fitted input.sk-toggleable__control:checked~label.sk-toggleable__label {\n",
       "  background-color: var(--sklearn-color-fitted-level-2);\n",
       "}\n",
       "\n",
       "/* Estimator-specific style */\n",
       "\n",
       "/* Colorize estimator box */\n",
       "#sk-container-id-5 div.sk-estimator input.sk-toggleable__control:checked~label.sk-toggleable__label {\n",
       "  /* unfitted */\n",
       "  background-color: var(--sklearn-color-unfitted-level-2);\n",
       "}\n",
       "\n",
       "#sk-container-id-5 div.sk-estimator.fitted input.sk-toggleable__control:checked~label.sk-toggleable__label {\n",
       "  /* fitted */\n",
       "  background-color: var(--sklearn-color-fitted-level-2);\n",
       "}\n",
       "\n",
       "#sk-container-id-5 div.sk-label label.sk-toggleable__label,\n",
       "#sk-container-id-5 div.sk-label label {\n",
       "  /* The background is the default theme color */\n",
       "  color: var(--sklearn-color-text-on-default-background);\n",
       "}\n",
       "\n",
       "/* On hover, darken the color of the background */\n",
       "#sk-container-id-5 div.sk-label:hover label.sk-toggleable__label {\n",
       "  color: var(--sklearn-color-text);\n",
       "  background-color: var(--sklearn-color-unfitted-level-2);\n",
       "}\n",
       "\n",
       "/* Label box, darken color on hover, fitted */\n",
       "#sk-container-id-5 div.sk-label.fitted:hover label.sk-toggleable__label.fitted {\n",
       "  color: var(--sklearn-color-text);\n",
       "  background-color: var(--sklearn-color-fitted-level-2);\n",
       "}\n",
       "\n",
       "/* Estimator label */\n",
       "\n",
       "#sk-container-id-5 div.sk-label label {\n",
       "  font-family: monospace;\n",
       "  font-weight: bold;\n",
       "  display: inline-block;\n",
       "  line-height: 1.2em;\n",
       "}\n",
       "\n",
       "#sk-container-id-5 div.sk-label-container {\n",
       "  text-align: center;\n",
       "}\n",
       "\n",
       "/* Estimator-specific */\n",
       "#sk-container-id-5 div.sk-estimator {\n",
       "  font-family: monospace;\n",
       "  border: 1px dotted var(--sklearn-color-border-box);\n",
       "  border-radius: 0.25em;\n",
       "  box-sizing: border-box;\n",
       "  margin-bottom: 0.5em;\n",
       "  /* unfitted */\n",
       "  background-color: var(--sklearn-color-unfitted-level-0);\n",
       "}\n",
       "\n",
       "#sk-container-id-5 div.sk-estimator.fitted {\n",
       "  /* fitted */\n",
       "  background-color: var(--sklearn-color-fitted-level-0);\n",
       "}\n",
       "\n",
       "/* on hover */\n",
       "#sk-container-id-5 div.sk-estimator:hover {\n",
       "  /* unfitted */\n",
       "  background-color: var(--sklearn-color-unfitted-level-2);\n",
       "}\n",
       "\n",
       "#sk-container-id-5 div.sk-estimator.fitted:hover {\n",
       "  /* fitted */\n",
       "  background-color: var(--sklearn-color-fitted-level-2);\n",
       "}\n",
       "\n",
       "/* Specification for estimator info (e.g. \"i\" and \"?\") */\n",
       "\n",
       "/* Common style for \"i\" and \"?\" */\n",
       "\n",
       ".sk-estimator-doc-link,\n",
       "a:link.sk-estimator-doc-link,\n",
       "a:visited.sk-estimator-doc-link {\n",
       "  float: right;\n",
       "  font-size: smaller;\n",
       "  line-height: 1em;\n",
       "  font-family: monospace;\n",
       "  background-color: var(--sklearn-color-background);\n",
       "  border-radius: 1em;\n",
       "  height: 1em;\n",
       "  width: 1em;\n",
       "  text-decoration: none !important;\n",
       "  margin-left: 0.5em;\n",
       "  text-align: center;\n",
       "  /* unfitted */\n",
       "  border: var(--sklearn-color-unfitted-level-1) 1pt solid;\n",
       "  color: var(--sklearn-color-unfitted-level-1);\n",
       "}\n",
       "\n",
       ".sk-estimator-doc-link.fitted,\n",
       "a:link.sk-estimator-doc-link.fitted,\n",
       "a:visited.sk-estimator-doc-link.fitted {\n",
       "  /* fitted */\n",
       "  border: var(--sklearn-color-fitted-level-1) 1pt solid;\n",
       "  color: var(--sklearn-color-fitted-level-1);\n",
       "}\n",
       "\n",
       "/* On hover */\n",
       "div.sk-estimator:hover .sk-estimator-doc-link:hover,\n",
       ".sk-estimator-doc-link:hover,\n",
       "div.sk-label-container:hover .sk-estimator-doc-link:hover,\n",
       ".sk-estimator-doc-link:hover {\n",
       "  /* unfitted */\n",
       "  background-color: var(--sklearn-color-unfitted-level-3);\n",
       "  color: var(--sklearn-color-background);\n",
       "  text-decoration: none;\n",
       "}\n",
       "\n",
       "div.sk-estimator.fitted:hover .sk-estimator-doc-link.fitted:hover,\n",
       ".sk-estimator-doc-link.fitted:hover,\n",
       "div.sk-label-container:hover .sk-estimator-doc-link.fitted:hover,\n",
       ".sk-estimator-doc-link.fitted:hover {\n",
       "  /* fitted */\n",
       "  background-color: var(--sklearn-color-fitted-level-3);\n",
       "  color: var(--sklearn-color-background);\n",
       "  text-decoration: none;\n",
       "}\n",
       "\n",
       "/* Span, style for the box shown on hovering the info icon */\n",
       ".sk-estimator-doc-link span {\n",
       "  display: none;\n",
       "  z-index: 9999;\n",
       "  position: relative;\n",
       "  font-weight: normal;\n",
       "  right: .2ex;\n",
       "  padding: .5ex;\n",
       "  margin: .5ex;\n",
       "  width: min-content;\n",
       "  min-width: 20ex;\n",
       "  max-width: 50ex;\n",
       "  color: var(--sklearn-color-text);\n",
       "  box-shadow: 2pt 2pt 4pt #999;\n",
       "  /* unfitted */\n",
       "  background: var(--sklearn-color-unfitted-level-0);\n",
       "  border: .5pt solid var(--sklearn-color-unfitted-level-3);\n",
       "}\n",
       "\n",
       ".sk-estimator-doc-link.fitted span {\n",
       "  /* fitted */\n",
       "  background: var(--sklearn-color-fitted-level-0);\n",
       "  border: var(--sklearn-color-fitted-level-3);\n",
       "}\n",
       "\n",
       ".sk-estimator-doc-link:hover span {\n",
       "  display: block;\n",
       "}\n",
       "\n",
       "/* \"?\"-specific style due to the `<a>` HTML tag */\n",
       "\n",
       "#sk-container-id-5 a.estimator_doc_link {\n",
       "  float: right;\n",
       "  font-size: 1rem;\n",
       "  line-height: 1em;\n",
       "  font-family: monospace;\n",
       "  background-color: var(--sklearn-color-background);\n",
       "  border-radius: 1rem;\n",
       "  height: 1rem;\n",
       "  width: 1rem;\n",
       "  text-decoration: none;\n",
       "  /* unfitted */\n",
       "  color: var(--sklearn-color-unfitted-level-1);\n",
       "  border: var(--sklearn-color-unfitted-level-1) 1pt solid;\n",
       "}\n",
       "\n",
       "#sk-container-id-5 a.estimator_doc_link.fitted {\n",
       "  /* fitted */\n",
       "  border: var(--sklearn-color-fitted-level-1) 1pt solid;\n",
       "  color: var(--sklearn-color-fitted-level-1);\n",
       "}\n",
       "\n",
       "/* On hover */\n",
       "#sk-container-id-5 a.estimator_doc_link:hover {\n",
       "  /* unfitted */\n",
       "  background-color: var(--sklearn-color-unfitted-level-3);\n",
       "  color: var(--sklearn-color-background);\n",
       "  text-decoration: none;\n",
       "}\n",
       "\n",
       "#sk-container-id-5 a.estimator_doc_link.fitted:hover {\n",
       "  /* fitted */\n",
       "  background-color: var(--sklearn-color-fitted-level-3);\n",
       "}\n",
       "</style><div id=\"sk-container-id-5\" class=\"sk-top-container\"><div class=\"sk-text-repr-fallback\"><pre>GradientBoostingClassifier(n_estimators=600, random_state=50)</pre><b>In a Jupyter environment, please rerun this cell to show the HTML representation or trust the notebook. <br />On GitHub, the HTML representation is unable to render, please try loading this page with nbviewer.org.</b></div><div class=\"sk-container\" hidden><div class=\"sk-item\"><div class=\"sk-estimator fitted sk-toggleable\"><input class=\"sk-toggleable__control sk-hidden--visually\" id=\"sk-estimator-id-5\" type=\"checkbox\" checked><label for=\"sk-estimator-id-5\" class=\"sk-toggleable__label fitted sk-toggleable__label-arrow\"><div><div>GradientBoostingClassifier</div></div><div><a class=\"sk-estimator-doc-link fitted\" rel=\"noreferrer\" target=\"_blank\" href=\"https://scikit-learn.org/1.6/modules/generated/sklearn.ensemble.GradientBoostingClassifier.html\">?<span>Documentation for GradientBoostingClassifier</span></a><span class=\"sk-estimator-doc-link fitted\">i<span>Fitted</span></span></div></label><div class=\"sk-toggleable__content fitted\"><pre>GradientBoostingClassifier(n_estimators=600, random_state=50)</pre></div> </div></div></div></div>"
      ],
      "text/plain": [
       "GradientBoostingClassifier(n_estimators=600, random_state=50)"
      ]
     },
     "execution_count": 35,
     "metadata": {},
     "output_type": "execute_result"
    }
   ],
   "source": [
    "from sklearn.ensemble import GradientBoostingClassifier\n",
    "from sklearn.metrics import classification_report\n",
    "\n",
    "# Træn modellen direkte\n",
    "model = GradientBoostingClassifier(n_estimators=600,random_state=50)\n",
    "model.fit(CountVector.transform(Training_Data['X'][:10000]), Training_Data['Y'][:10000])"
   ]
  },
  {
   "cell_type": "code",
   "execution_count": 39,
   "metadata": {},
   "outputs": [
    {
     "name": "stdout",
     "output_type": "stream",
     "text": [
      "              precision    recall  f1-score   support\n",
      "\n",
      "        fake       0.80      0.83      0.81     62165\n",
      "    reliable       0.84      0.81      0.82     67838\n",
      "\n",
      "    accuracy                           0.82    130003\n",
      "   macro avg       0.82      0.82      0.82    130003\n",
      "weighted avg       0.82      0.82      0.82    130003\n",
      "\n"
     ]
    }
   ],
   "source": [
    "# Forudsig og evaluer\n",
    "y_pred = model.predict(CountVector.transform(Test_Data['X']))\n",
    "print(classification_report(Test_Data['Y'], y_pred))"
   ]
  },
  {
   "cell_type": "code",
   "execution_count": 20,
   "metadata": {},
   "outputs": [
    {
     "name": "stdout",
     "output_type": "stream",
     "text": [
      "              precision    recall  f1-score   support\n",
      "\n",
      "        fake       0.78      0.80      0.79      1962\n",
      "    reliable       0.81      0.78      0.79      2038\n",
      "\n",
      "    accuracy                           0.79      4000\n",
      "   macro avg       0.79      0.79      0.79      4000\n",
      "weighted avg       0.79      0.79      0.79      4000\n",
      "\n"
     ]
    }
   ],
   "source": [
    "# Split data i træning og test\n",
    "X_train, X_test, y_train, y_test = train_test_split(CountVector.transform(Training_Data['X'][:20000]), Training_Data['Y'][:20000], test_size=0.2, random_state=42)\n",
    "\n",
    "# Træn Gradient Boosting-model\n",
    "model = GradientBoostingClassifier(random_state=42)\n",
    "model.fit(X_train, y_train)\n",
    "\n",
    "# Forudsig og evaluer på testdata\n",
    "y_pred = model.predict(X_test)\n",
    "print(classification_report(y_test, y_pred))"
   ]
  },
  {
   "cell_type": "code",
   "execution_count": null,
   "metadata": {},
   "outputs": [
    {
     "name": "stdout",
     "output_type": "stream",
     "text": [
      "Antal udvalgte features: 283\n",
      "Antal udvalgte features: 283\n"
     ]
    }
   ],
   "source": [
    "from sklearn.ensemble import GradientBoostingClassifier\n",
    "from sklearn.feature_selection import SelectFromModel\n",
    "from sklearn.model_selection import train_test_split\n",
    "\n",
    "# Træn en Gradient Boosting model\n",
    "gb_model = GradientBoostingClassifier(random_state=42)\n",
    "gb_model.fit(CountVector.transform(Training_Data['X'][:10000]), Training_Data['Y'][:10000])\n",
    "\n",
    "# Brug SelectFromModel til at vælge features baseret på importance\n",
    "selector = SelectFromModel(gb_model, prefit=True, threshold=\"mean\")\n",
    "X_train_selected = selector.transform(X_train)\n",
    "X_test_selected = selector.transform(X_test)\n",
    "\n",
    "print(f\"Antal udvalgte features: {X_train_selected.shape[1]}\")\n",
    "print(f\"Antal udvalgte features: {X_test_selected.shape[1]}\")"
   ]
  },
  {
   "cell_type": "code",
   "execution_count": null,
   "metadata": {},
   "outputs": [
    {
     "name": "stdout",
     "output_type": "stream",
     "text": [
      "Antal udvalgte features: 287\n",
      "Antal udvalgte features: 287\n"
     ]
    }
   ],
   "source": [
    "from sklearn.ensemble import GradientBoostingClassifier\n",
    "from sklearn.feature_selection import SelectFromModel\n",
    "from sklearn.model_selection import train_test_split\n",
    "\n",
    "# Eksempeldata\n",
    "X_train, X_test, y_train, y_test = train_test_split(CountVector.transform(Training_Data['X'][:10000]), Training_Data['Y'][:10000], test_size=0.2, random_state=42)\n",
    "\n",
    "# Træn en Gradient Boosting model\n",
    "gb_model = GradientBoostingClassifier(random_state=42)\n",
    "gb_model.fit(X_train, y_train)\n",
    "\n",
    "# Brug SelectFromModel til at vælge features baseret på importance\n",
    "selector = SelectFromModel(gb_model, prefit=True, threshold=\"mean\")\n",
    "X_train_selected = selector.transform(X_train)\n",
    "X_test_selected = selector.transform(X_test)\n",
    "\n",
    "print(f\"Antal udvalgte features: {X_train_selected.shape[1]}\")\n",
    "print(f\"Antal udvalgte features: {X_test_selected.shape[1]}\")\n"
   ]
  },
  {
   "cell_type": "code",
   "execution_count": 9,
   "metadata": {},
   "outputs": [
    {
     "ename": "ValueError",
     "evalue": "could not convert string to float: \"['us', 'reward', 'inform', 'daesh', 'leader', 'ibrahim', 'ali', 'abu', 'bakr', 'al', 'baghdadi', 'increas', '<CUR>', '<NUM>', 'million', '<CUR>', '<NUM>', 'million', 'depart', 'state', 'said', 'releas', 'friday', 'washington', 'sputnik', 'releas', 'note', 'daesh', 'terrorist', 'group', 'name', 'al', 'baghdadi', 'caliph', 'declar', 'call', 'islam', 'caliph', '<DATE>', 'take', 'part', 'iraq', 'syria', 'today', 'u', 'depart', 'state', 'reward', 'justic', 'program', 'increas', '<CUR>', '<NUM>', 'million', 'reward', 'offer', 'inform', 'lead', 'locat', 'arrest', 'convict', 'islam', 'state', 'iraq', 'levant', 'isil', 'daesh', 'leader', 'abu', 'bakr', 'al', 'baghdadi', 'also', 'known', 'ibrahim', 'awwad', 'ibrahim', 'ali', 'al', 'badri', 'also', 'known', 'abu', 'du', 'releas', 'state', 'al', 'baghdadi', 'daesh', 'respons', 'thousand', 'civilian', 'death', 'middl', 'east', 'includ', 'death', 'civilian', 'hostag', 'unit', 'state', 'unit', 'kingdom', 'japan', 'releas', 'ad']\"",
     "output_type": "error",
     "traceback": [
      "\u001b[1;31m---------------------------------------------------------------------------\u001b[0m",
      "\u001b[1;31mValueError\u001b[0m                                Traceback (most recent call last)",
      "Cell \u001b[1;32mIn[9], line 6\u001b[0m\n\u001b[0;32m      4\u001b[0m \u001b[38;5;66;03m# Træn en Gradient Boosting model\u001b[39;00m\n\u001b[0;32m      5\u001b[0m gb_model \u001b[38;5;241m=\u001b[39m GradientBoostingClassifier(random_state\u001b[38;5;241m=\u001b[39m\u001b[38;5;241m50\u001b[39m)\n\u001b[1;32m----> 6\u001b[0m \u001b[43mgb_model\u001b[49m\u001b[38;5;241;43m.\u001b[39;49m\u001b[43mfit\u001b[49m\u001b[43m(\u001b[49m\u001b[43mTraining_Data\u001b[49m\u001b[43m[\u001b[49m\u001b[38;5;124;43m'\u001b[39;49m\u001b[38;5;124;43mX\u001b[39;49m\u001b[38;5;124;43m'\u001b[39;49m\u001b[43m]\u001b[49m\u001b[43m[\u001b[49m\u001b[43m:\u001b[49m\u001b[38;5;241;43m1000\u001b[39;49m\u001b[43m]\u001b[49m\u001b[43m,\u001b[49m\u001b[43m \u001b[49m\u001b[43mTraining_Data\u001b[49m\u001b[43m[\u001b[49m\u001b[38;5;124;43m'\u001b[39;49m\u001b[38;5;124;43mY\u001b[39;49m\u001b[38;5;124;43m'\u001b[39;49m\u001b[43m]\u001b[49m\u001b[43m[\u001b[49m\u001b[43m:\u001b[49m\u001b[38;5;241;43m1000\u001b[39;49m\u001b[43m]\u001b[49m\u001b[43m)\u001b[49m\n\u001b[0;32m      8\u001b[0m \u001b[38;5;66;03m# Brug SelectFromModel til at vælge features baseret på importance\u001b[39;00m\n\u001b[0;32m      9\u001b[0m selector \u001b[38;5;241m=\u001b[39m SelectFromModel(gb_model, prefit\u001b[38;5;241m=\u001b[39m\u001b[38;5;28;01mTrue\u001b[39;00m, threshold\u001b[38;5;241m=\u001b[39m\u001b[38;5;124m\"\u001b[39m\u001b[38;5;124mmean\u001b[39m\u001b[38;5;124m\"\u001b[39m)\n",
      "File \u001b[1;32m~\\AppData\\Roaming\\Python\\Python312\\site-packages\\sklearn\\base.py:1389\u001b[0m, in \u001b[0;36m_fit_context.<locals>.decorator.<locals>.wrapper\u001b[1;34m(estimator, *args, **kwargs)\u001b[0m\n\u001b[0;32m   1382\u001b[0m     estimator\u001b[38;5;241m.\u001b[39m_validate_params()\n\u001b[0;32m   1384\u001b[0m \u001b[38;5;28;01mwith\u001b[39;00m config_context(\n\u001b[0;32m   1385\u001b[0m     skip_parameter_validation\u001b[38;5;241m=\u001b[39m(\n\u001b[0;32m   1386\u001b[0m         prefer_skip_nested_validation \u001b[38;5;129;01mor\u001b[39;00m global_skip_validation\n\u001b[0;32m   1387\u001b[0m     )\n\u001b[0;32m   1388\u001b[0m ):\n\u001b[1;32m-> 1389\u001b[0m     \u001b[38;5;28;01mreturn\u001b[39;00m \u001b[43mfit_method\u001b[49m\u001b[43m(\u001b[49m\u001b[43mestimator\u001b[49m\u001b[43m,\u001b[49m\u001b[43m \u001b[49m\u001b[38;5;241;43m*\u001b[39;49m\u001b[43margs\u001b[49m\u001b[43m,\u001b[49m\u001b[43m \u001b[49m\u001b[38;5;241;43m*\u001b[39;49m\u001b[38;5;241;43m*\u001b[39;49m\u001b[43mkwargs\u001b[49m\u001b[43m)\u001b[49m\n",
      "File \u001b[1;32m~\\AppData\\Roaming\\Python\\Python312\\site-packages\\sklearn\\ensemble\\_gb.py:658\u001b[0m, in \u001b[0;36mBaseGradientBoosting.fit\u001b[1;34m(self, X, y, sample_weight, monitor)\u001b[0m\n\u001b[0;32m    652\u001b[0m     \u001b[38;5;28mself\u001b[39m\u001b[38;5;241m.\u001b[39m_clear_state()\n\u001b[0;32m    654\u001b[0m \u001b[38;5;66;03m# Check input\u001b[39;00m\n\u001b[0;32m    655\u001b[0m \u001b[38;5;66;03m# Since check_array converts both X and y to the same dtype, but the\u001b[39;00m\n\u001b[0;32m    656\u001b[0m \u001b[38;5;66;03m# trees use different types for X and y, checking them separately.\u001b[39;00m\n\u001b[1;32m--> 658\u001b[0m X, y \u001b[38;5;241m=\u001b[39m \u001b[43mvalidate_data\u001b[49m\u001b[43m(\u001b[49m\n\u001b[0;32m    659\u001b[0m \u001b[43m    \u001b[49m\u001b[38;5;28;43mself\u001b[39;49m\u001b[43m,\u001b[49m\n\u001b[0;32m    660\u001b[0m \u001b[43m    \u001b[49m\u001b[43mX\u001b[49m\u001b[43m,\u001b[49m\n\u001b[0;32m    661\u001b[0m \u001b[43m    \u001b[49m\u001b[43my\u001b[49m\u001b[43m,\u001b[49m\n\u001b[0;32m    662\u001b[0m \u001b[43m    \u001b[49m\u001b[43maccept_sparse\u001b[49m\u001b[38;5;241;43m=\u001b[39;49m\u001b[43m[\u001b[49m\u001b[38;5;124;43m\"\u001b[39;49m\u001b[38;5;124;43mcsr\u001b[39;49m\u001b[38;5;124;43m\"\u001b[39;49m\u001b[43m,\u001b[49m\u001b[43m \u001b[49m\u001b[38;5;124;43m\"\u001b[39;49m\u001b[38;5;124;43mcsc\u001b[39;49m\u001b[38;5;124;43m\"\u001b[39;49m\u001b[43m,\u001b[49m\u001b[43m \u001b[49m\u001b[38;5;124;43m\"\u001b[39;49m\u001b[38;5;124;43mcoo\u001b[39;49m\u001b[38;5;124;43m\"\u001b[39;49m\u001b[43m]\u001b[49m\u001b[43m,\u001b[49m\n\u001b[0;32m    663\u001b[0m \u001b[43m    \u001b[49m\u001b[43mdtype\u001b[49m\u001b[38;5;241;43m=\u001b[39;49m\u001b[43mDTYPE\u001b[49m\u001b[43m,\u001b[49m\n\u001b[0;32m    664\u001b[0m \u001b[43m    \u001b[49m\u001b[43mmulti_output\u001b[49m\u001b[38;5;241;43m=\u001b[39;49m\u001b[38;5;28;43;01mTrue\u001b[39;49;00m\u001b[43m,\u001b[49m\n\u001b[0;32m    665\u001b[0m \u001b[43m\u001b[49m\u001b[43m)\u001b[49m\n\u001b[0;32m    666\u001b[0m sample_weight_is_none \u001b[38;5;241m=\u001b[39m sample_weight \u001b[38;5;129;01mis\u001b[39;00m \u001b[38;5;28;01mNone\u001b[39;00m\n\u001b[0;32m    667\u001b[0m sample_weight \u001b[38;5;241m=\u001b[39m _check_sample_weight(sample_weight, X)\n",
      "File \u001b[1;32m~\\AppData\\Roaming\\Python\\Python312\\site-packages\\sklearn\\utils\\validation.py:2961\u001b[0m, in \u001b[0;36mvalidate_data\u001b[1;34m(_estimator, X, y, reset, validate_separately, skip_check_array, **check_params)\u001b[0m\n\u001b[0;32m   2959\u001b[0m         y \u001b[38;5;241m=\u001b[39m check_array(y, input_name\u001b[38;5;241m=\u001b[39m\u001b[38;5;124m\"\u001b[39m\u001b[38;5;124my\u001b[39m\u001b[38;5;124m\"\u001b[39m, \u001b[38;5;241m*\u001b[39m\u001b[38;5;241m*\u001b[39mcheck_y_params)\n\u001b[0;32m   2960\u001b[0m     \u001b[38;5;28;01melse\u001b[39;00m:\n\u001b[1;32m-> 2961\u001b[0m         X, y \u001b[38;5;241m=\u001b[39m \u001b[43mcheck_X_y\u001b[49m\u001b[43m(\u001b[49m\u001b[43mX\u001b[49m\u001b[43m,\u001b[49m\u001b[43m \u001b[49m\u001b[43my\u001b[49m\u001b[43m,\u001b[49m\u001b[43m \u001b[49m\u001b[38;5;241;43m*\u001b[39;49m\u001b[38;5;241;43m*\u001b[39;49m\u001b[43mcheck_params\u001b[49m\u001b[43m)\u001b[49m\n\u001b[0;32m   2962\u001b[0m     out \u001b[38;5;241m=\u001b[39m X, y\n\u001b[0;32m   2964\u001b[0m \u001b[38;5;28;01mif\u001b[39;00m \u001b[38;5;129;01mnot\u001b[39;00m no_val_X \u001b[38;5;129;01mand\u001b[39;00m check_params\u001b[38;5;241m.\u001b[39mget(\u001b[38;5;124m\"\u001b[39m\u001b[38;5;124mensure_2d\u001b[39m\u001b[38;5;124m\"\u001b[39m, \u001b[38;5;28;01mTrue\u001b[39;00m):\n",
      "File \u001b[1;32m~\\AppData\\Roaming\\Python\\Python312\\site-packages\\sklearn\\utils\\validation.py:1370\u001b[0m, in \u001b[0;36mcheck_X_y\u001b[1;34m(X, y, accept_sparse, accept_large_sparse, dtype, order, copy, force_writeable, force_all_finite, ensure_all_finite, ensure_2d, allow_nd, multi_output, ensure_min_samples, ensure_min_features, y_numeric, estimator)\u001b[0m\n\u001b[0;32m   1364\u001b[0m     \u001b[38;5;28;01mraise\u001b[39;00m \u001b[38;5;167;01mValueError\u001b[39;00m(\n\u001b[0;32m   1365\u001b[0m         \u001b[38;5;124mf\u001b[39m\u001b[38;5;124m\"\u001b[39m\u001b[38;5;132;01m{\u001b[39;00mestimator_name\u001b[38;5;132;01m}\u001b[39;00m\u001b[38;5;124m requires y to be passed, but the target y is None\u001b[39m\u001b[38;5;124m\"\u001b[39m\n\u001b[0;32m   1366\u001b[0m     )\n\u001b[0;32m   1368\u001b[0m ensure_all_finite \u001b[38;5;241m=\u001b[39m _deprecate_force_all_finite(force_all_finite, ensure_all_finite)\n\u001b[1;32m-> 1370\u001b[0m X \u001b[38;5;241m=\u001b[39m \u001b[43mcheck_array\u001b[49m\u001b[43m(\u001b[49m\n\u001b[0;32m   1371\u001b[0m \u001b[43m    \u001b[49m\u001b[43mX\u001b[49m\u001b[43m,\u001b[49m\n\u001b[0;32m   1372\u001b[0m \u001b[43m    \u001b[49m\u001b[43maccept_sparse\u001b[49m\u001b[38;5;241;43m=\u001b[39;49m\u001b[43maccept_sparse\u001b[49m\u001b[43m,\u001b[49m\n\u001b[0;32m   1373\u001b[0m \u001b[43m    \u001b[49m\u001b[43maccept_large_sparse\u001b[49m\u001b[38;5;241;43m=\u001b[39;49m\u001b[43maccept_large_sparse\u001b[49m\u001b[43m,\u001b[49m\n\u001b[0;32m   1374\u001b[0m \u001b[43m    \u001b[49m\u001b[43mdtype\u001b[49m\u001b[38;5;241;43m=\u001b[39;49m\u001b[43mdtype\u001b[49m\u001b[43m,\u001b[49m\n\u001b[0;32m   1375\u001b[0m \u001b[43m    \u001b[49m\u001b[43morder\u001b[49m\u001b[38;5;241;43m=\u001b[39;49m\u001b[43morder\u001b[49m\u001b[43m,\u001b[49m\n\u001b[0;32m   1376\u001b[0m \u001b[43m    \u001b[49m\u001b[43mcopy\u001b[49m\u001b[38;5;241;43m=\u001b[39;49m\u001b[43mcopy\u001b[49m\u001b[43m,\u001b[49m\n\u001b[0;32m   1377\u001b[0m \u001b[43m    \u001b[49m\u001b[43mforce_writeable\u001b[49m\u001b[38;5;241;43m=\u001b[39;49m\u001b[43mforce_writeable\u001b[49m\u001b[43m,\u001b[49m\n\u001b[0;32m   1378\u001b[0m \u001b[43m    \u001b[49m\u001b[43mensure_all_finite\u001b[49m\u001b[38;5;241;43m=\u001b[39;49m\u001b[43mensure_all_finite\u001b[49m\u001b[43m,\u001b[49m\n\u001b[0;32m   1379\u001b[0m \u001b[43m    \u001b[49m\u001b[43mensure_2d\u001b[49m\u001b[38;5;241;43m=\u001b[39;49m\u001b[43mensure_2d\u001b[49m\u001b[43m,\u001b[49m\n\u001b[0;32m   1380\u001b[0m \u001b[43m    \u001b[49m\u001b[43mallow_nd\u001b[49m\u001b[38;5;241;43m=\u001b[39;49m\u001b[43mallow_nd\u001b[49m\u001b[43m,\u001b[49m\n\u001b[0;32m   1381\u001b[0m \u001b[43m    \u001b[49m\u001b[43mensure_min_samples\u001b[49m\u001b[38;5;241;43m=\u001b[39;49m\u001b[43mensure_min_samples\u001b[49m\u001b[43m,\u001b[49m\n\u001b[0;32m   1382\u001b[0m \u001b[43m    \u001b[49m\u001b[43mensure_min_features\u001b[49m\u001b[38;5;241;43m=\u001b[39;49m\u001b[43mensure_min_features\u001b[49m\u001b[43m,\u001b[49m\n\u001b[0;32m   1383\u001b[0m \u001b[43m    \u001b[49m\u001b[43mestimator\u001b[49m\u001b[38;5;241;43m=\u001b[39;49m\u001b[43mestimator\u001b[49m\u001b[43m,\u001b[49m\n\u001b[0;32m   1384\u001b[0m \u001b[43m    \u001b[49m\u001b[43minput_name\u001b[49m\u001b[38;5;241;43m=\u001b[39;49m\u001b[38;5;124;43m\"\u001b[39;49m\u001b[38;5;124;43mX\u001b[39;49m\u001b[38;5;124;43m\"\u001b[39;49m\u001b[43m,\u001b[49m\n\u001b[0;32m   1385\u001b[0m \u001b[43m\u001b[49m\u001b[43m)\u001b[49m\n\u001b[0;32m   1387\u001b[0m y \u001b[38;5;241m=\u001b[39m _check_y(y, multi_output\u001b[38;5;241m=\u001b[39mmulti_output, y_numeric\u001b[38;5;241m=\u001b[39my_numeric, estimator\u001b[38;5;241m=\u001b[39mestimator)\n\u001b[0;32m   1389\u001b[0m check_consistent_length(X, y)\n",
      "File \u001b[1;32m~\\AppData\\Roaming\\Python\\Python312\\site-packages\\sklearn\\utils\\validation.py:1055\u001b[0m, in \u001b[0;36mcheck_array\u001b[1;34m(array, accept_sparse, accept_large_sparse, dtype, order, copy, force_writeable, force_all_finite, ensure_all_finite, ensure_non_negative, ensure_2d, allow_nd, ensure_min_samples, ensure_min_features, estimator, input_name)\u001b[0m\n\u001b[0;32m   1053\u001b[0m         array \u001b[38;5;241m=\u001b[39m xp\u001b[38;5;241m.\u001b[39mastype(array, dtype, copy\u001b[38;5;241m=\u001b[39m\u001b[38;5;28;01mFalse\u001b[39;00m)\n\u001b[0;32m   1054\u001b[0m     \u001b[38;5;28;01melse\u001b[39;00m:\n\u001b[1;32m-> 1055\u001b[0m         array \u001b[38;5;241m=\u001b[39m \u001b[43m_asarray_with_order\u001b[49m\u001b[43m(\u001b[49m\u001b[43marray\u001b[49m\u001b[43m,\u001b[49m\u001b[43m \u001b[49m\u001b[43morder\u001b[49m\u001b[38;5;241;43m=\u001b[39;49m\u001b[43morder\u001b[49m\u001b[43m,\u001b[49m\u001b[43m \u001b[49m\u001b[43mdtype\u001b[49m\u001b[38;5;241;43m=\u001b[39;49m\u001b[43mdtype\u001b[49m\u001b[43m,\u001b[49m\u001b[43m \u001b[49m\u001b[43mxp\u001b[49m\u001b[38;5;241;43m=\u001b[39;49m\u001b[43mxp\u001b[49m\u001b[43m)\u001b[49m\n\u001b[0;32m   1056\u001b[0m \u001b[38;5;28;01mexcept\u001b[39;00m ComplexWarning \u001b[38;5;28;01mas\u001b[39;00m complex_warning:\n\u001b[0;32m   1057\u001b[0m     \u001b[38;5;28;01mraise\u001b[39;00m \u001b[38;5;167;01mValueError\u001b[39;00m(\n\u001b[0;32m   1058\u001b[0m         \u001b[38;5;124m\"\u001b[39m\u001b[38;5;124mComplex data not supported\u001b[39m\u001b[38;5;130;01m\\n\u001b[39;00m\u001b[38;5;132;01m{}\u001b[39;00m\u001b[38;5;130;01m\\n\u001b[39;00m\u001b[38;5;124m\"\u001b[39m\u001b[38;5;241m.\u001b[39mformat(array)\n\u001b[0;32m   1059\u001b[0m     ) \u001b[38;5;28;01mfrom\u001b[39;00m\u001b[38;5;250m \u001b[39m\u001b[38;5;21;01mcomplex_warning\u001b[39;00m\n",
      "File \u001b[1;32m~\\AppData\\Roaming\\Python\\Python312\\site-packages\\sklearn\\utils\\_array_api.py:839\u001b[0m, in \u001b[0;36m_asarray_with_order\u001b[1;34m(array, dtype, order, copy, xp, device)\u001b[0m\n\u001b[0;32m    837\u001b[0m     array \u001b[38;5;241m=\u001b[39m numpy\u001b[38;5;241m.\u001b[39marray(array, order\u001b[38;5;241m=\u001b[39morder, dtype\u001b[38;5;241m=\u001b[39mdtype)\n\u001b[0;32m    838\u001b[0m \u001b[38;5;28;01melse\u001b[39;00m:\n\u001b[1;32m--> 839\u001b[0m     array \u001b[38;5;241m=\u001b[39m \u001b[43mnumpy\u001b[49m\u001b[38;5;241;43m.\u001b[39;49m\u001b[43masarray\u001b[49m\u001b[43m(\u001b[49m\u001b[43marray\u001b[49m\u001b[43m,\u001b[49m\u001b[43m \u001b[49m\u001b[43morder\u001b[49m\u001b[38;5;241;43m=\u001b[39;49m\u001b[43morder\u001b[49m\u001b[43m,\u001b[49m\u001b[43m \u001b[49m\u001b[43mdtype\u001b[49m\u001b[38;5;241;43m=\u001b[39;49m\u001b[43mdtype\u001b[49m\u001b[43m)\u001b[49m\n\u001b[0;32m    841\u001b[0m \u001b[38;5;66;03m# At this point array is a NumPy ndarray. We convert it to an array\u001b[39;00m\n\u001b[0;32m    842\u001b[0m \u001b[38;5;66;03m# container that is consistent with the input's namespace.\u001b[39;00m\n\u001b[0;32m    843\u001b[0m \u001b[38;5;28;01mreturn\u001b[39;00m xp\u001b[38;5;241m.\u001b[39masarray(array)\n",
      "File \u001b[1;32m~\\AppData\\Roaming\\Python\\Python312\\site-packages\\pandas\\core\\series.py:1031\u001b[0m, in \u001b[0;36mSeries.__array__\u001b[1;34m(self, dtype, copy)\u001b[0m\n\u001b[0;32m    981\u001b[0m \u001b[38;5;250m\u001b[39m\u001b[38;5;124;03m\"\"\"\u001b[39;00m\n\u001b[0;32m    982\u001b[0m \u001b[38;5;124;03mReturn the values as a NumPy array.\u001b[39;00m\n\u001b[0;32m    983\u001b[0m \n\u001b[1;32m   (...)\u001b[0m\n\u001b[0;32m   1028\u001b[0m \u001b[38;5;124;03m      dtype='datetime64[ns]')\u001b[39;00m\n\u001b[0;32m   1029\u001b[0m \u001b[38;5;124;03m\"\"\"\u001b[39;00m\n\u001b[0;32m   1030\u001b[0m values \u001b[38;5;241m=\u001b[39m \u001b[38;5;28mself\u001b[39m\u001b[38;5;241m.\u001b[39m_values\n\u001b[1;32m-> 1031\u001b[0m arr \u001b[38;5;241m=\u001b[39m \u001b[43mnp\u001b[49m\u001b[38;5;241;43m.\u001b[39;49m\u001b[43masarray\u001b[49m\u001b[43m(\u001b[49m\u001b[43mvalues\u001b[49m\u001b[43m,\u001b[49m\u001b[43m \u001b[49m\u001b[43mdtype\u001b[49m\u001b[38;5;241;43m=\u001b[39;49m\u001b[43mdtype\u001b[49m\u001b[43m)\u001b[49m\n\u001b[0;32m   1032\u001b[0m \u001b[38;5;28;01mif\u001b[39;00m using_copy_on_write() \u001b[38;5;129;01mand\u001b[39;00m astype_is_view(values\u001b[38;5;241m.\u001b[39mdtype, arr\u001b[38;5;241m.\u001b[39mdtype):\n\u001b[0;32m   1033\u001b[0m     arr \u001b[38;5;241m=\u001b[39m arr\u001b[38;5;241m.\u001b[39mview()\n",
      "\u001b[1;31mValueError\u001b[0m: could not convert string to float: \"['us', 'reward', 'inform', 'daesh', 'leader', 'ibrahim', 'ali', 'abu', 'bakr', 'al', 'baghdadi', 'increas', '<CUR>', '<NUM>', 'million', '<CUR>', '<NUM>', 'million', 'depart', 'state', 'said', 'releas', 'friday', 'washington', 'sputnik', 'releas', 'note', 'daesh', 'terrorist', 'group', 'name', 'al', 'baghdadi', 'caliph', 'declar', 'call', 'islam', 'caliph', '<DATE>', 'take', 'part', 'iraq', 'syria', 'today', 'u', 'depart', 'state', 'reward', 'justic', 'program', 'increas', '<CUR>', '<NUM>', 'million', 'reward', 'offer', 'inform', 'lead', 'locat', 'arrest', 'convict', 'islam', 'state', 'iraq', 'levant', 'isil', 'daesh', 'leader', 'abu', 'bakr', 'al', 'baghdadi', 'also', 'known', 'ibrahim', 'awwad', 'ibrahim', 'ali', 'al', 'badri', 'also', 'known', 'abu', 'du', 'releas', 'state', 'al', 'baghdadi', 'daesh', 'respons', 'thousand', 'civilian', 'death', 'middl', 'east', 'includ', 'death', 'civilian', 'hostag', 'unit', 'state', 'unit', 'kingdom', 'japan', 'releas', 'ad']\""
     ]
    }
   ],
   "source": [
    "from sklearn.ensemble import GradientBoostingClassifier\n",
    "from sklearn.feature_selection import SelectFromModel\n",
    "\n",
    "# Træn en Gradient Boosting model\n",
    "gb_model = GradientBoostingClassifier(random_state=50)\n",
    "gb_model.fit(Training_Data['X'][:1000], Training_Data['Y'][:1000])\n",
    "\n",
    "# Brug SelectFromModel til at vælge features baseret på importance\n",
    "selector = SelectFromModel(gb_model, prefit=True, threshold=\"mean\")\n",
    "X_train_selected = selector.transform(Training_Data['X'][:1000])\n",
    "X_test_selected = selector.transform(Test_Data['X'][:1000])\n",
    "\n",
    "print(f\"Antal udvalgte features: {X_train_selected.shape[1]}\")\n"
   ]
  },
  {
   "cell_type": "markdown",
   "metadata": {},
   "source": [
    "## SVM Model"
   ]
  },
  {
   "cell_type": "code",
   "execution_count": 49,
   "metadata": {},
   "outputs": [],
   "source": [
    "vectorizer = CountVectorizer(\n",
    "    analyzer='word', \n",
    "    ngram_range=(1, 1), \n",
    "    binary=True, \n",
    "    max_features=10_000).fit(Training_Data['X'])"
   ]
  },
  {
   "cell_type": "code",
   "execution_count": 86,
   "metadata": {},
   "outputs": [
    {
     "name": "stdout",
     "output_type": "stream",
     "text": [
      "              precision    recall  f1-score   support\n",
      "\n",
      "        fake       0.76      0.78      0.77      2277\n",
      "    reliable       0.82      0.80      0.81      2723\n",
      "\n",
      "    accuracy                           0.79      5000\n",
      "   macro avg       0.79      0.79      0.79      5000\n",
      "weighted avg       0.79      0.79      0.79      5000\n",
      "\n"
     ]
    }
   ],
   "source": [
    "from sklearn.svm import SVC\n",
    "from sklearn.metrics import classification_report\n",
    "\n",
    "# Opret og træn SVM-modellen\n",
    "svm_model = SVC(kernel='linear')  # 'linear' eller 'rbf' afhængigt af dine data\n",
    "svm_model.fit(\n",
    "    vectorizer.transform(Training_Data['X'][:5000]), \n",
    "    Training_Data['Y'][:5000])\n",
    "\n",
    "# Evaluer modellen\n",
    "y_pred = svm_model.predict(vectorizer.transform(Test_Data['X'][:5000]))\n",
    "print(classification_report(Test_Data['Y'][:5000], y_pred))"
   ]
  },
  {
   "cell_type": "code",
   "execution_count": 88,
   "metadata": {},
   "outputs": [
    {
     "ename": "",
     "evalue": "",
     "output_type": "error",
     "traceback": [
      "\u001b[1;31mCannot execute code, session has been disposed. Please try restarting the Kernel."
     ]
    },
    {
     "ename": "",
     "evalue": "",
     "output_type": "error",
     "traceback": [
      "\u001b[1;31mCannot execute code, session has been disposed. Please try restarting the Kernel. \n",
      "\u001b[1;31mView Jupyter <a href='command:jupyter.viewOutput'>log</a> for further details."
     ]
    }
   ],
   "source": [
    "from sklearn.svm import SVC\n",
    "from sklearn.metrics import classification_report\n",
    "\n",
    "# Opret og træn SVM-modellen\n",
    "svm_model = SVC(kernel='linear')  # 'linear' eller 'rbf' afhængigt af dine data\n",
    "svm_model.fit(\n",
    "    vectorizer.transform(Training_Data['X']), \n",
    "    Training_Data['Y'])\n",
    "\n",
    "# Evaluer modellen\n",
    "y_pred = svm_model.predict(vectorizer.transform(Test_Data['X']))\n",
    "print(classification_report(Test_Data['Y'], y_pred))"
   ]
  },
  {
   "cell_type": "code",
   "execution_count": 66,
   "metadata": {},
   "outputs": [
    {
     "name": "stdout",
     "output_type": "stream",
     "text": [
      "              precision    recall  f1-score   support\n",
      "\n",
      "        fake       0.75      0.77      0.76      2277\n",
      "    reliable       0.81      0.79      0.80      2723\n",
      "\n",
      "    accuracy                           0.78      5000\n",
      "   macro avg       0.78      0.78      0.78      5000\n",
      "weighted avg       0.78      0.78      0.78      5000\n",
      "\n"
     ]
    }
   ],
   "source": [
    "from sklearn.svm import SVC\n",
    "from sklearn.metrics import classification_report\n",
    "\n",
    "# Opret og træn SVM-modellen\n",
    "svm_model = SVC(kernel='rbf',C=2)  # 'linear' eller 'rbf' afhængigt af dine data\n",
    "svm_model.fit(\n",
    "    vectorizer.transform(Training_Data['X'][:5000]), \n",
    "    Training_Data['Y'][:5000])\n",
    "\n",
    "# Evaluer modellen\n",
    "y_pred = svm_model.predict(vectorizer.transform(Test_Data['X'][:5000]))\n",
    "print(classification_report(Test_Data['Y'][:5000], y_pred))"
   ]
  },
  {
   "cell_type": "code",
   "execution_count": null,
   "metadata": {},
   "outputs": [],
   "source": [
    "from sklearn.svm import SVC\n",
    "from sklearn.metrics import classification_report\n",
    "\n",
    "# Opret og træn SVM-modellen\n",
    "svm_model = SVC(kernel='rbf',C=2)  # 'linear' eller 'rbf' afhængigt af dine data\n",
    "svm_model.fit(\n",
    "    vectorizer.transform(Training_Data['X']), \n",
    "    Training_Data['Y'])\n",
    "\n",
    "# Evaluer modellen\n",
    "y_pred = svm_model.predict(vectorizer.transform(Test_Data['X']))\n",
    "print(classification_report(Test_Data['Y'], y_pred))"
   ]
  },
  {
   "cell_type": "code",
   "execution_count": 79,
   "metadata": {},
   "outputs": [
    {
     "name": "stdout",
     "output_type": "stream",
     "text": [
      "              precision    recall  f1-score   support\n",
      "\n",
      "        fake       0.77      0.79      0.78      2277\n",
      "    reliable       0.82      0.81      0.81      2723\n",
      "\n",
      "    accuracy                           0.80      5000\n",
      "   macro avg       0.80      0.80      0.80      5000\n",
      "weighted avg       0.80      0.80      0.80      5000\n",
      "\n"
     ]
    }
   ],
   "source": [
    "vectorizer = TfidfVectorizer(\n",
    "    analyzer='word', \n",
    "    ngram_range=(1, 1), \n",
    "    binary=True, \n",
    "    max_features=10000).fit(Training_Data['X'])\n",
    "\n",
    "# Opret og træn SVM-modellen\n",
    "svm_model = SVC(kernel='rbf',C=2)  # 'linear' eller 'rbf' afhængigt af dine data\n",
    "svm_model.fit(\n",
    "    vectorizer.transform(Training_Data['X'][:5000]), \n",
    "    Training_Data['Y'][:5000])\n",
    "\n",
    "# Evaluer modellen\n",
    "y_pred = svm_model.predict(vectorizer.transform(Test_Data['X'][:5000]))\n",
    "print(classification_report(Test_Data['Y'][:5000], y_pred))"
   ]
  },
  {
   "cell_type": "code",
   "execution_count": null,
   "metadata": {},
   "outputs": [],
   "source": [
    "vectorizer = TfidfVectorizer(\n",
    "    analyzer='word', \n",
    "    ngram_range=(1, 1), \n",
    "    binary=True, \n",
    "    max_features=10000).fit(Training_Data['X'])\n",
    "\n",
    "# Opret og træn SVM-modellen\n",
    "svm_model = SVC(kernel='rbf',C=2)  # 'linear' eller 'rbf' afhængigt af dine data\n",
    "svm_model.fit(\n",
    "    vectorizer.transform(Training_Data['X']), \n",
    "    Training_Data['Y'])\n",
    "\n",
    "# Evaluer modellen\n",
    "y_pred = svm_model.predict(vectorizer.transform(Test_Data['X']))\n",
    "print(classification_report(Test_Data['Y'], y_pred))"
   ]
  },
  {
   "cell_type": "markdown",
   "metadata": {},
   "source": [
    "## Logistisk Regressions Model"
   ]
  },
  {
   "cell_type": "code",
   "execution_count": 28,
   "metadata": {},
   "outputs": [
    {
     "name": "stdout",
     "output_type": "stream",
     "text": [
      "[[-0.00332602  0.0097078  -0.06030206 ... -0.01712788 -0.03528295\n",
      "  -0.03188948]]\n",
      "              precision    recall  f1-score   support\n",
      "\n",
      "        fake       0.75      0.78      0.77      4736\n",
      "    reliable       0.80      0.77      0.78      5264\n",
      "\n",
      "    accuracy                           0.78     10000\n",
      "   macro avg       0.78      0.78      0.78     10000\n",
      "weighted avg       0.78      0.78      0.78     10000\n",
      "\n"
     ]
    }
   ],
   "source": [
    "from sklearn.linear_model import LogisticRegression\n",
    "\n",
    "model = LogisticRegression()\n",
    "model.fit(vectorizer.transform(Training_Data['X'][:5000]), Training_Data['Y'][:5000])\n",
    "feature_importances = model.coef_\n",
    "print(feature_importances)\n",
    "\n",
    "# Evaluer modellen\n",
    "y_pred = model.predict(vectorizer.transform(Test_Data['X'][:10000]))\n",
    "print(classification_report(Test_Data['Y'][:10000], y_pred))"
   ]
  },
  {
   "cell_type": "code",
   "execution_count": 31,
   "metadata": {},
   "outputs": [
    {
     "name": "stdout",
     "output_type": "stream",
     "text": [
      "              precision    recall  f1-score   support\n",
      "\n",
      "        fake       0.76      0.79      0.77      4736\n",
      "    reliable       0.80      0.77      0.79      5264\n",
      "\n",
      "    accuracy                           0.78     10000\n",
      "   macro avg       0.78      0.78      0.78     10000\n",
      "weighted avg       0.78      0.78      0.78     10000\n",
      "\n"
     ]
    }
   ],
   "source": [
    "from sklearn.linear_model import LogisticRegression\n",
    "\n",
    "# Opret og træn modellen\n",
    "log_reg_model = LogisticRegression(max_iter=10000)\n",
    "log_reg_model.fit(vectorizer.transform(Training_Data['X'][:5000]), Training_Data['Y'][:5000])\n",
    "\n",
    "# Evaluer modellen\n",
    "y_pred = log_reg_model.predict(vectorizer.transform(Test_Data['X'][:10000]))\n",
    "print(classification_report(Test_Data['Y'][:10000], y_pred))"
   ]
  },
  {
   "cell_type": "code",
   "execution_count": 71,
   "metadata": {},
   "outputs": [
    {
     "name": "stdout",
     "output_type": "stream",
     "text": [
      "              precision    recall  f1-score   support\n",
      "\n",
      "        fake       0.85      0.84      0.84      4728\n",
      "    reliable       0.85      0.86      0.86      5272\n",
      "\n",
      "    accuracy                           0.85     10000\n",
      "   macro avg       0.85      0.85      0.85     10000\n",
      "weighted avg       0.85      0.85      0.85     10000\n",
      "\n"
     ]
    }
   ],
   "source": [
    "from sklearn.linear_model import LogisticRegression\n",
    "\n",
    "# Opret og træn modellen\n",
    "log_reg_model = LogisticRegression(max_iter=10000)\n",
    "log_reg_model.fit(vectorizer.transform(Training_Data['X']), Training_Data['Y'])\n",
    "\n",
    "# Evaluer modellen\n",
    "y_pred = log_reg_model.predict(vectorizer.transform(Test_Data['X'][:10000]))\n",
    "print(classification_report(Test_Data['Y'][:10000], y_pred))"
   ]
  },
  {
   "cell_type": "code",
   "execution_count": 73,
   "metadata": {},
   "outputs": [
    {
     "name": "stdout",
     "output_type": "stream",
     "text": [
      "              precision    recall  f1-score   support\n",
      "\n",
      "        fake       0.84      0.84      0.84      4728\n",
      "    reliable       0.85      0.86      0.86      5272\n",
      "\n",
      "    accuracy                           0.85     10000\n",
      "   macro avg       0.85      0.85      0.85     10000\n",
      "weighted avg       0.85      0.85      0.85     10000\n",
      "\n"
     ]
    }
   ],
   "source": [
    "from sklearn.feature_extraction.text import TfidfVectorizer\n",
    "\n",
    "vectorizer = TfidfVectorizer(\n",
    "    analyzer='word', \n",
    "    ngram_range=(1, 1), \n",
    "    binary=True, \n",
    "    max_features=10000).fit(Training_Data['X'])\n",
    "\n",
    "\n",
    "# Opret og træn modellen\n",
    "log_reg_model = LogisticRegression(max_iter=10000)\n",
    "log_reg_model.fit(vectorizer.transform(Training_Data['X']), Training_Data['Y'])\n",
    "\n",
    "# Evaluer modellen\n",
    "y_pred = log_reg_model.predict(vectorizer.transform(Test_Data['X'][:10000]))\n",
    "print(classification_report(Test_Data['Y'][:10000], y_pred))"
   ]
  },
  {
   "cell_type": "code",
   "execution_count": 23,
   "metadata": {},
   "outputs": [
    {
     "data": {
      "text/plain": [
       "array(['aa', 'aaa', 'aap', ..., 'эту', 'является', 'яндекса'],\n",
       "      shape=(10000,), dtype=object)"
      ]
     },
     "execution_count": 23,
     "metadata": {},
     "output_type": "execute_result"
    }
   ],
   "source": [
    "from sklearn.feature_extraction.text import CountVectorizer\n",
    "from sklearn.model_selection import train_test_split\n",
    "\n",
    "# Eksempeldata\n",
    "tokens = dataset['cleaned content'][:5000]\n",
    "labels = dataset['type'][:5000]\n",
    "\n",
    "# Konverter tokens til numeriske features\n",
    "vectorizer = CountVectorizer(analyzer='word', ngram_range=(1, 1), binary=True, max_features=10000)\n",
    "X = vectorizer.fit_transform(tokens)\n",
    "\n",
    "# Opdel i trænings- og testdatasæt\n",
    "X_train, X_test, y_train, y_test = train_test_split(X, labels, test_size=0.2, random_state=50, stratify=labels)\n",
    "\n",
    "vectorizer.get_feature_names_out()"
   ]
  },
  {
   "cell_type": "code",
   "execution_count": null,
   "metadata": {},
   "outputs": [
    {
     "name": "stdout",
     "output_type": "stream",
     "text": [
      "              precision    recall  f1-score   support\n",
      "\n",
      "        fake       0.78      0.90      0.84      1045\n",
      "    reliable       0.87      0.73      0.79       955\n",
      "\n",
      "    accuracy                           0.82      2000\n",
      "   macro avg       0.83      0.81      0.81      2000\n",
      "weighted avg       0.82      0.82      0.82      2000\n",
      "\n"
     ]
    }
   ],
   "source": [
    "from sklearn.svm import SVC\n",
    "from sklearn.metrics import classification_report\n",
    "\n",
    "# Opret og træn SVM-modellen\n",
    "svm_model = SVC(kernel='rbf',C=2)  # 'linear' eller 'rbf' afhængigt af dine data\n",
    "svm_model.fit(X_train, y_train)\n",
    "\n",
    "# Evaluer modellen\n",
    "y_pred = svm_model.predict(X_test)\n",
    "print(classification_report(y_test, y_pred))\n"
   ]
  },
  {
   "cell_type": "code",
   "execution_count": 316,
   "metadata": {},
   "outputs": [
    {
     "name": "stdout",
     "output_type": "stream",
     "text": [
      "              precision    recall  f1-score   support\n",
      "\n",
      "        fake       0.79      0.85      0.82      1049\n",
      "    reliable       0.82      0.74      0.78       951\n",
      "\n",
      "    accuracy                           0.80      2000\n",
      "   macro avg       0.80      0.80      0.80      2000\n",
      "weighted avg       0.80      0.80      0.80      2000\n",
      "\n"
     ]
    }
   ],
   "source": [
    "from sklearn.neural_network import MLPClassifier\n",
    "mlp_model = MLPClassifier(hidden_layer_sizes=(500,100,50,50,50,50,50,50,50,50), max_iter=100)\n",
    "mlp_model.fit(X_train, y_train)\n",
    "\n",
    "# Evaluer modelens performance\n",
    "y_pred = mlp_model.predict(X_test)\n",
    "print(classification_report(y_test, y_pred))"
   ]
  },
  {
   "cell_type": "code",
   "execution_count": 317,
   "metadata": {},
   "outputs": [
    {
     "name": "stdout",
     "output_type": "stream",
     "text": [
      "              precision    recall  f1-score   support\n",
      "\n",
      "        fake       0.72      0.74      0.73      1049\n",
      "    reliable       0.71      0.68      0.70       951\n",
      "\n",
      "    accuracy                           0.72      2000\n",
      "   macro avg       0.71      0.71      0.71      2000\n",
      "weighted avg       0.72      0.72      0.72      2000\n",
      "\n"
     ]
    }
   ],
   "source": [
    "# Opret og træn SVM-modellen\n",
    "svm_model = SVC(kernel='sigmoid',C=0.5)  # 'linear' eller 'rbf' afhængigt af dine data\n",
    "svm_model.fit(X_train, y_train)\n",
    "\n",
    "# Evaluer modellen\n",
    "y_pred = svm_model.predict(X_test)\n",
    "print(classification_report(y_test, y_pred))\n"
   ]
  },
  {
   "cell_type": "code",
   "execution_count": 318,
   "metadata": {},
   "outputs": [
    {
     "name": "stdout",
     "output_type": "stream",
     "text": [
      "              precision    recall  f1-score   support\n",
      "\n",
      "        fake       0.76      0.88      0.82      1049\n",
      "    reliable       0.84      0.69      0.76       951\n",
      "\n",
      "    accuracy                           0.79      2000\n",
      "   macro avg       0.80      0.79      0.79      2000\n",
      "weighted avg       0.80      0.79      0.79      2000\n",
      "\n"
     ]
    }
   ],
   "source": [
    "# Opret og træn SVM-modellen\n",
    "svm_model = SVC(kernel='linear',C=0.01)  # 'linear' eller 'rbf' afhængigt af dine data\n",
    "svm_model.fit(X_train, y_train)\n",
    "\n",
    "# Evaluer modellen\n",
    "y_pred = svm_model.predict(X_test)\n",
    "print(classification_report(y_test, y_pred))"
   ]
  },
  {
   "cell_type": "code",
   "execution_count": 320,
   "metadata": {},
   "outputs": [
    {
     "name": "stdout",
     "output_type": "stream",
     "text": [
      "              precision    recall  f1-score   support\n",
      "\n",
      "        fake       0.76      0.80      0.78      1049\n",
      "    reliable       0.77      0.72      0.74       951\n",
      "\n",
      "    accuracy                           0.76      2000\n",
      "   macro avg       0.76      0.76      0.76      2000\n",
      "weighted avg       0.76      0.76      0.76      2000\n",
      "\n"
     ]
    }
   ],
   "source": [
    "from sklearn.linear_model import LogisticRegression\n",
    "\n",
    "# Opret og træn modellen\n",
    "log_reg_model = LogisticRegression(max_iter=1000)\n",
    "log_reg_model.fit(X_train, y_train)\n",
    "\n",
    "# Evaluer modellen\n",
    "y_pred = log_reg_model.predict(X_test)\n",
    "print(classification_report(y_test, y_pred))"
   ]
  },
  {
   "cell_type": "code",
   "execution_count": 321,
   "metadata": {},
   "outputs": [
    {
     "name": "stdout",
     "output_type": "stream",
     "text": [
      "              precision    recall  f1-score   support\n",
      "\n",
      "        fake       0.76      0.83      0.79      1049\n",
      "    reliable       0.79      0.71      0.75       951\n",
      "\n",
      "    accuracy                           0.77      2000\n",
      "   macro avg       0.78      0.77      0.77      2000\n",
      "weighted avg       0.78      0.77      0.77      2000\n",
      "\n"
     ]
    }
   ],
   "source": [
    "from sklearn.naive_bayes import MultinomialNB\n",
    "\n",
    "# 3. Opret og træn en MultinomialNB-model\n",
    "model = MultinomialNB()\n",
    "model.fit(X_train, y_train)\n",
    "\n",
    "# 4. Lav forudsigelser på testdatasættet\n",
    "y_pred = model.predict(X_test)\n",
    "\n",
    "# 5. Evaluer modelens performance\n",
    "print(classification_report(y_test, y_pred))"
   ]
  },
  {
   "cell_type": "code",
   "execution_count": 131,
   "metadata": {},
   "outputs": [
    {
     "name": "stdout",
     "output_type": "stream",
     "text": [
      "{'C': 0.01, 'kernel': 'linear'}\n"
     ]
    }
   ],
   "source": [
    "from sklearn.model_selection import GridSearchCV\n",
    "\n",
    "param_grid = {\n",
    "    'C': [0.1,0.01,0.001],\n",
    "    'kernel': ['linear']\n",
    "}\n",
    "grid = GridSearchCV(SVC(), param_grid, refit=True)\n",
    "grid.fit(X_train, y_train)\n",
    "print(grid.best_params_)\n"
   ]
  },
  {
   "cell_type": "code",
   "execution_count": 17,
   "metadata": {},
   "outputs": [
    {
     "data": {
      "text/plain": [
       "array(['aa', 'aaa', 'aap', ..., 'эту', 'является', 'яндекса'],\n",
       "      shape=(10000,), dtype=object)"
      ]
     },
     "execution_count": 17,
     "metadata": {},
     "output_type": "execute_result"
    }
   ],
   "source": [
    "from sklearn.feature_extraction.text import TfidfVectorizer\n",
    "from sklearn.model_selection import train_test_split\n",
    "\n",
    "# Eksempeldata\n",
    "tokens = dataset['cleaned content'][:5000]\n",
    "labels = dataset['type'][:5000]\n",
    "\n",
    "# Konverter tokens til numeriske features\n",
    "vectorizer = TfidfVectorizer(analyzer='word', ngram_range=(1, 1), binary=True, max_features=10000)\n",
    "X = vectorizer.fit_transform(tokens)\n",
    "\n",
    "# Opdel i trænings- og testdatasæt\n",
    "X_train, X_test, y_train, y_test = train_test_split(X, labels, test_size=0.2, random_state=42)\n",
    "\n",
    "vectorizer.get_feature_names_out()"
   ]
  },
  {
   "cell_type": "code",
   "execution_count": 18,
   "metadata": {},
   "outputs": [
    {
     "name": "stdout",
     "output_type": "stream",
     "text": [
      "              precision    recall  f1-score   support\n",
      "\n",
      "        fake       0.82      0.84      0.83       536\n",
      "    reliable       0.81      0.79      0.80       464\n",
      "\n",
      "    accuracy                           0.82      1000\n",
      "   macro avg       0.82      0.81      0.82      1000\n",
      "weighted avg       0.82      0.82      0.82      1000\n",
      "\n"
     ]
    }
   ],
   "source": [
    "from sklearn.svm import SVC\n",
    "from sklearn.metrics import classification_report\n",
    "\n",
    "# Opret og træn SVM-modellen\n",
    "svm_model = SVC(kernel='rbf',C=2)  # 'linear' eller 'rbf' afhængigt af dine data\n",
    "svm_model.fit(X_train, y_train)\n",
    "\n",
    "# Evaluer modellen\n",
    "y_pred = svm_model.predict(X_test)\n",
    "print(classification_report(y_test, y_pred))\n"
   ]
  },
  {
   "cell_type": "code",
   "execution_count": 261,
   "metadata": {},
   "outputs": [
    {
     "name": "stdout",
     "output_type": "stream",
     "text": [
      "[ 0.0033901 -0.34614    0.28144    0.48382    0.59469    0.012965\n",
      "  0.53982    0.48233    0.21463   -1.0249    -0.34788   -0.79001\n",
      " -0.15084    0.61374    0.042811   0.19323    0.25462    0.32528\n",
      "  0.05698    0.063253  -0.49439    0.47337   -0.16761    0.045594\n",
      "  0.30451   -0.35416   -0.34583   -0.20118    0.25511    0.091111\n",
      "  0.014651  -0.017541  -0.23854    0.48215   -0.9145    -0.36235\n",
      "  0.34736    0.028639  -0.027065  -0.036481  -0.067391  -0.23452\n",
      " -0.13772    0.33951    0.13415   -0.1342     0.47856   -0.1842\n",
      "  0.10705   -0.45834   -0.36085   -0.22595    0.32881   -0.13643\n",
      "  0.23128    0.34269    0.42344    0.47057    0.479      0.074639\n",
      "  0.3344     0.10714   -0.13289    0.58734    0.38616   -0.52238\n",
      " -0.22028   -0.072322   0.32269    0.44226   -0.037382   0.18324\n",
      "  0.058082   0.26938    0.36202    0.13983    0.016815  -0.34426\n",
      "  0.4827     0.2108     0.75618   -0.13092   -0.025741   0.43391\n",
      "  0.33893   -0.16438    0.26817    0.68774    0.311     -0.2509\n",
      "  0.0027749 -0.39809   -0.43399    0.049531  -0.42686   -0.094679\n",
      "  0.56925    0.28742   -0.015721  -0.059162   0.1912    -0.59814\n",
      "  0.65486   -0.31363    0.16881    0.10862    0.075316   0.34093\n",
      " -0.14706    0.8359     0.39697    0.52358   -0.0096367 -0.14406\n",
      "  0.37783   -0.596     -0.063192  -0.85297   -0.3098    -1.0587\n",
      " -1.025      0.4508    -0.73324   -1.2461    -0.028488   0.20299\n",
      "  0.00259    0.31995    0.35744    0.28533    0.228      0.50956\n",
      " -0.35942    0.32683    0.046264  -0.86896   -0.2707    -0.15454\n",
      " -0.32152    0.31121    0.44134    0.85189    0.21065   -0.13741\n",
      " -0.15359   -0.059722   0.027375   0.23724   -0.39197   -0.66065\n",
      "  0.23587    0.032384  -0.64043    0.55004    0.29597    0.14989\n",
      "  0.46079   -0.26561   -0.1607    -0.36328    1.0782     0.31375\n",
      "  0.1149     0.20248    0.032748   0.41082   -0.082536   0.36606\n",
      "  0.18771    0.75415    0.079648   0.24181   -0.60319   -0.37296\n",
      " -0.047767   0.45008   -0.21135    0.022251  -0.084325   0.18644\n",
      " -0.14682    0.56571   -0.30995    0.17423   -0.41122   -0.84772\n",
      " -0.71114    0.69895   -0.13008   -0.34195   -0.30501   -0.12646\n",
      "  0.29957   -0.43488    0.31935    0.2817    -0.20631   -0.48877\n",
      "  0.34477    0.03907    1.6198    -0.6352    -0.0037675 -0.41271\n",
      "  0.30704   -0.50486    0.036385  -0.046386  -0.12004    0.010029\n",
      " -0.49116    0.041486   0.002979  -0.57694   -0.42088   -0.063218\n",
      "  0.0034244 -0.25093   -0.39689   -0.36984    0.32689    0.01385\n",
      "  0.23634   -0.055199  -0.58453    0.13211    0.50943    0.25198\n",
      " -0.0088309 -0.21273   -0.48423    0.5234    -0.32832   -0.013821\n",
      "  0.15812    0.46696    0.036822  -0.090878   0.18854    0.20794\n",
      " -0.42682    0.59705    0.53109    0.19185   -0.16392    0.064956\n",
      " -0.36009   -0.59882   -0.28134    0.1017     0.02601    0.44298\n",
      " -0.31922   -0.22432    0.7828     0.041307   0.1742     0.27777\n",
      "  0.43792   -0.84324    0.27012   -0.21547    0.52408   -0.19426\n",
      " -0.21878   -0.20713    0.092994  -0.15804    0.28716   -0.11911\n",
      " -0.20688   -0.36482    0.68548   -0.10394   -0.49974   -0.47038\n",
      " -1.2953    -0.46236    0.44467    0.13337    0.88762   -0.26494\n",
      "  0.080676  -0.20625   -0.51232    0.31112    0.062035   0.30302\n",
      " -0.33344   -0.20924   -0.17348   -0.43434   -0.45743   -0.077803\n",
      " -0.33248   -0.078633   0.82182    0.082088  -0.68795    0.30266  ]\n"
     ]
    }
   ],
   "source": [
    "import numpy as np\n",
    "\n",
    "# Indlæs GloVe-filen\n",
    "def load_glove_embeddings(file_path):\n",
    "    embeddings_index = {}\n",
    "    with open(file_path, 'r', encoding='utf-8') as f:\n",
    "        for line in f:\n",
    "            values = line.split()\n",
    "            word = values[0]  # Ordet (token)\n",
    "            vector = np.asarray(values[1:], dtype='float32')  # Vektorens værdier\n",
    "            embeddings_index[word] = vector\n",
    "    return embeddings_index\n",
    "\n",
    "# Brug en sti til den hentede fil (f.eks. \"glove.6B.100d.txt\")\n",
    "file_path = \"glove.6B.300d.txt\"  # Udskift med din sti\n",
    "embeddings_index = load_glove_embeddings(file_path)\n",
    "\n",
    "# Eksempel: Hent vektoren for et ord\n",
    "print(embeddings_index.get(\"king\"))  # Giver f.eks. en vektor for ordet \"king\"\n"
   ]
  },
  {
   "cell_type": "code",
   "execution_count": 268,
   "metadata": {},
   "outputs": [
    {
     "name": "stdout",
     "output_type": "stream",
     "text": [
      "(10000, 300)\n"
     ]
    }
   ],
   "source": [
    "# Opret en matrix til sætningernes embeddings\n",
    "def create_embedding_matrix(tokens, embeddings_index, embedding_dim):\n",
    "    embedding_matrix = []\n",
    "    for sentence in tokens:\n",
    "        sentence_embedding = []\n",
    "        for word in sentence:\n",
    "            if word in embeddings_index:\n",
    "                sentence_embedding.append(embeddings_index[word])\n",
    "            else:\n",
    "                sentence_embedding.append(np.zeros(embedding_dim))  # Nulvektor til ukendte ord\n",
    "        embedding_matrix.append(np.mean(sentence_embedding, axis=0))  # Gennemsnit af embeddings i sætningen\n",
    "    return np.array(embedding_matrix)\n",
    "\n",
    "tokens = dataset['cleaned content'][:10000]\n",
    "labels = dataset['type'][:10000]\n",
    "\n",
    "embedding_dim = 300  # Dimensionen på den GloVe-fil, du bruger (f.eks. 100d)\n",
    "X = create_embedding_matrix(tokens, embeddings_index, embedding_dim)\n",
    "print(X.shape)  # Antallet af sætninger og dimensionen af embeddings\n"
   ]
  },
  {
   "cell_type": "code",
   "execution_count": 269,
   "metadata": {},
   "outputs": [
    {
     "name": "stdout",
     "output_type": "stream",
     "text": [
      "              precision    recall  f1-score   support\n",
      "\n",
      "        fake       0.59      0.62      0.60      1049\n",
      "    reliable       0.56      0.53      0.54       951\n",
      "\n",
      "    accuracy                           0.58      2000\n",
      "   macro avg       0.57      0.57      0.57      2000\n",
      "weighted avg       0.58      0.58      0.58      2000\n",
      "\n"
     ]
    }
   ],
   "source": [
    "# Opdel i trænings- og testdatasæt\n",
    "X_train, X_test, y_train, y_test = train_test_split(X, labels, test_size=0.2, random_state=42)\n",
    "\n",
    "# Opret og træn en logistisk regressionsmodel\n",
    "model = LogisticRegression(C=5)\n",
    "model.fit(X_train, y_train)\n",
    "\n",
    "# Evaluer modelens performance\n",
    "y_pred = model.predict(X_test)\n",
    "print(classification_report(y_test, y_pred))\n"
   ]
  },
  {
   "cell_type": "code",
   "execution_count": 273,
   "metadata": {},
   "outputs": [
    {
     "name": "stdout",
     "output_type": "stream",
     "text": [
      "              precision    recall  f1-score   support\n",
      "\n",
      "        fake       0.63      0.48      0.55      1049\n",
      "    reliable       0.55      0.68      0.61       951\n",
      "\n",
      "    accuracy                           0.58      2000\n",
      "   macro avg       0.59      0.58      0.58      2000\n",
      "weighted avg       0.59      0.58      0.57      2000\n",
      "\n"
     ]
    }
   ],
   "source": [
    "from sklearn.neural_network import MLPClassifier\n",
    "mlp_model = MLPClassifier(hidden_layer_sizes=(512,256,128,64,32,16,8,4,2), max_iter=10000)\n",
    "mlp_model.fit(X_train, y_train)\n",
    "\n",
    "# Evaluer modelens performance\n",
    "y_pred = mlp_model.predict(X_test)\n",
    "print(classification_report(y_test, y_pred))"
   ]
  },
  {
   "cell_type": "code",
   "execution_count": null,
   "metadata": {},
   "outputs": [],
   "source": []
  }
 ],
 "metadata": {
  "kernelspec": {
   "display_name": "Python 3",
   "language": "python",
   "name": "python3"
  },
  "language_info": {
   "codemirror_mode": {
    "name": "ipython",
    "version": 3
   },
   "file_extension": ".py",
   "mimetype": "text/x-python",
   "name": "python",
   "nbconvert_exporter": "python",
   "pygments_lexer": "ipython3",
   "version": "3.12.4"
  }
 },
 "nbformat": 4,
 "nbformat_minor": 2
}

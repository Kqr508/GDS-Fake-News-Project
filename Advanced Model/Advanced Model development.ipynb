{
 "cells": [
  {
   "cell_type": "markdown",
   "metadata": {},
   "source": [
    "# Advanced Fake News Detection Model"
   ]
  },
  {
   "cell_type": "markdown",
   "metadata": {},
   "source": [
    "## Klagøre datasættet\n",
    "Indlæser og klargøre datasættet.\n",
    "\n",
    "Først indlæser jeg hele FULL datasættet, men kun kolonnerne ``type`` og ``cleaned content``, da vi ikke må bruge meta-data.\n",
    "\n",
    "Herefter inddeler jeg typerne under 2 klasser ``fake`` og ``reliable``, og sletter de klasser som ikke kan bruges."
   ]
  },
  {
   "cell_type": "code",
   "execution_count": 1,
   "metadata": {},
   "outputs": [
    {
     "data": {
      "application/vnd.microsoft.datawrangler.viewer.v0+json": {
       "columns": [
        {
         "name": "index",
         "rawType": "int64",
         "type": "integer"
        },
        {
         "name": "type",
         "rawType": "object",
         "type": "string"
        },
        {
         "name": "cleaned content",
         "rawType": "object",
         "type": "string"
        }
       ],
       "conversionMethod": "pd.DataFrame",
       "ref": "1a3786af-f72c-43ce-9c8b-bcb14cb1df77",
       "rows": [
        [
         "0",
         "reliable",
         "['plu', 'one', 'articl', 'googl', 'plu', 'thank', 'ali', 'alfoneh', 'assist', 'compil', 'polit', 'nuclear', 'issu', 'suprem', 'leader', 'tell', 'islam', 'student', 'associ', 'foreign', 'univers', 'conspiraci', 'machin', 'enemi', 'includ', 'scientif', 'apartheid', 'tri', 'subject', 'nation', 'strengthen', 'uniti', 'peopl', 'head', 'iran', 'nuclear', 'energi', 'agenc', 'condit', 'right', 'implement', 'addit', 'protocol', 'reactor', 'come', 'onlin', 'militari', 'admir', 'habib', 'allah', 'sayyari', 'chief', 'islam', 'republ', 'iran', 'navi', 'closur', 'hormuz', 'strait', 'consider', 'upcom', 'war', 'game', 'ad', 'iranian', 'made', 'submarin', 'soon', 'leav', 'dock', 'southern', 'iran', 'seyi', 'yahya', 'rahim', 'safavi', 'former', 'irgc', 'head', 'current', 'advisor', 'suprem', 'leader', 'risk', 'attack', 'iran', 'minim', 'iran', 'defens', 'doctrin', 'entail', 'nuclear', 'weapon', 'societi', 'cultur', 'iranian', 'psychologist', 'davar', 'sheikhavandi', 'window', 'shop', 'bring', 'girl', 'boy', 'togeth', 'social', 'danger', 'environ', 'shop', 'mall', 'prelud', 'decad', 'islam', 'republ', 'minist', 'interior', 'inform', 'public', 'chang', 'pre', 'islam', 'nowruz', 'new', 'year', 'holiday', 'iran', 'public', 'health', 'minist', 'health', 'iranian', 'produc', 'aid', 'medicin', 'regist', 'intern', 'background', 'see', '<DATE>', 'iran', 'news', 'round', 'diplomaci', 'return', 'baku', 'speaker', 'iranian', 'parliament', 'gholam', 'ali', 'haddad', 'adel', 'inform', 'expans', 'iranian', 'azeri', 'cultur', 'exchang', 'aftab', 'e', 'yazd', 'claim', 'iranian', 'pilgrim', 'iraq', 'obtain', 'visa', 'iraqi', 'embassi', 'tehran', 'turn', 'back', 'iran', 'iraq', 'border', 'theater', 'annapoli', 'fiasco', 'even', 'conven', 'write', 'mouthpiec', 'iranian', 'suprem', 'leader', 'ayatollah', 'ali', 'khamnei', 'kayhan', 'ahmadinejad', 'warn', 'state', 'attend', 'seneg', 'support', 'iran', 'nuclear', 'program', 'ivori', 'coast', 'foreign', 'minist', 'come', 'tehran', 'press', 'jamal', 'rahimiyan', 'univers', 'jihad', 'organ', 'appoint', 'chief', 'editor', 'iranian', 'student', 'news', 'agenc', 'isna', 'economi', 'trade', 'photo', 'day']"
        ],
        [
         "1",
         "fake",
         "['cost', 'best', 'senat', 'bank', 'committe', 'jp', 'morgan', 'buy', '<CUR>', '<NUM>', 'bribe', 'news', 'zero', 'hedg', 'hour', 'time', 'jami', 'dimon', 'sit', 'senat', 'bank', 'committe', 'prove', 'smarter', 'call', 'shot', 'great', 'wall', 'street', 'c', 'soap', 'opera', 'come', 'purchas', 'room', 'full', 'senat', 'mention', 'script', 'today', 'hear', 'jp', 'morgan', 'alway', 'top', 'follow', 'tabl', 'compil', 'use', 'opensecret', 'data', 'cost', 'jp', 'morgan', '<CUR>', '<NUM>', 'million', '<CUR>', '<NUM>', 'precis', 'lifetim', 'campaign', 'contribut', 'buy', 'precis', 'one', 'senat', 'bank', 'committe', 'get', 'realli', 'fun', 'chairman', 'tim', 'johnson', 'sd', 'rank', 'member', 'richard', 'shelbi', 'r', 'al', 'jp', 'morgan', 'top', 'second', 'biggest', 'campaign', 'contributor', 'respect', 'continu', 'read', '<URL>', 'read', 'financi', 'surviv', 'network', 'sourc']"
        ],
        [
         "2",
         "fake",
         "['man', 'awoken', '<NUM>', 'year', 'coma', 'commit', 'suicid', 'learn', 'donald', 'trump', 'lead', 'presidenti', 'race', 'fatal', 'error', 'call', 'undefin', 'function', 'thesubhead', 'home', '<NUM>', 'dailycu', 'publichtml', 'wp', 'content', 'theme', 'themefithybrid', 'themefit', 'hybrid', 'inc', '<URL>', 'line', '<NUM>']"
        ],
        [
         "3",
         "reliable",
         "['julia', 'geist', 'ask', 'draw', 'pictur', 'comput', 'scientist', 'last', 'year', '<NUM>', 'year', 'old', 'sketch', 'businessman', 'wear', 'glass', 'tie', 'look', 'around', 'classmat', 'draw', 'saw', 'similar', 'depict', 'men', 'ms', 'geist', 'said', 'see', 'comput', 'scientist', 'could', 'anyon', 'includ', 'new', 'perspect', 'victori', 'girl', 'code', 'part', 'eight', 'week', 'program', 'manhattan', 'base', 'nonprofit', 'group', 'ms', 'geist', '<NUM>', 'high', 'school', 'girl', 'learn', 'softwar', 'program', 'public', 'speak', 'product', 'develop', 'skill', 'prepar', 'job', 'technolog', 'industri', 'girl', 'code', 'among', 'recent', 'crop', 'program', 'intend', 'close', 'gender', 'gap', 'tech', 'interven', 'earli', 'young', 'women', 'decid', 'want', 'studi', 'name', 'like', 'hackbright', 'academi', 'girl', 'develop', 'black', 'girl', 'code', 'girl', 'teach', 'girl', 'code', 'group', 'tri', 'present', 'excit', 'imag', 'comput', 'scienc', 'pauciti', 'women', 'tech', 'industri', 'well', 'document', 'even', 'though', 'women', 'repres', 'half', 'overal', 'work', 'forc', 'hold', 'less', 'quarter', 'comput', 'technic', 'job', 'accord', 'nation', 'center', 'women', 'inform', 'technolog', 'base', 'univers', 'colorado', 'boulder', 'execut', 'founder', 'level', 'women', 'even', 'scarcer', 'varieti', 'advocaci', 'network', 'group', 'tri', 'address', 'problem', 'coach', 'women', 'build', 'start', 'up', 'rais', 'ventur', 'capit', 'climb', 'manag', 'rank', 'big', 'compani', 'recent', 'sheryl', 'sandberg', 'chief', 'oper', 'offic', 'facebook', 'publish', 'best', 'sell', 'book', 'lean', 'call', 'arm', 'women', 'pursu', 'ambit', 'workplac', 'even', 'number', 'women', 'enter', 'technolog', 'declin', 'women', 'earn', '<NUM>', 'percent', 'comput', 'scienc', 'degre', '<NUM>', 'percent', '<DATE>', 'tech', 'execut', 'recruit', 'financi', 'say', 'women', 'simpli', 'walk', 'door', 'seek', 'work', 'activ', 'recruit', 'women', 'mani', 'women', 'want', 'kind', 'work', 'equip', 'work', 'educ', 'said', 'adam', 'messing', 'chief', 'technolog', 'offic', 'twitter', 'board', 'girl', 'code', 'industri', 'tri', 'new', 'approach', 'tackl', 'problem', 'long', 'women', 'start', 'career', 'teach', 'girl', 'basic', 'skill', 'write', 'code', 'get', 'women', 'right', 'side', 'comput', 'said', 'margit', 'wennmach', 'partner', 'andreessen', 'horowitz', 'ventur', 'capit', 'firm', 'silicon', 'valley', 'know', 'program', 'languag', 'becom', 'essenti', 'engin', 'ad', 'also', 'women', 'want', 'tech', 'execut', 'deal', 'maker', 'pursu', 'career', 'medicin', 'fashion', 'divid', 'line', 'learn', 'code', 'ms', 'wennmach', 'said', 'either', 'tell', 'comput', 'got', 'lot', 'great', 'career', 'option', 'comput', 'tell', 'end', 'work', 'shoe', 'store', 'group', 'like', 'girl', 'code', 'part', 'nation', 'movement', 'recruit', 'young', 'peopl', 'softwar', 'develop', 'remain', 'competit', 'economi', 'new', 'group', '<URL>', 'exampl', 'peopl', 'like', 'mark', 'zuckerberg', 'facebook', 'bill', 'gate', 'microsoft', 'push', 'school', 'teach', 'children', 'code', 'need', 'urgent', 'girl', 'said', 'reshma', 'saujani', 'found', 'girl', 'code', 'last', 'year', 'roughli', '<NUM>', 'percent', 'girl', 'middl', 'school', 'express', 'interest', 'engin', 'scienc', 'math', 'said', 'time', 'get', 'colleg', '<NUM>', 'percent', 'choos', 'comput', 'scienc', 'major', 'ms', 'saujani', 'daughter', 'two', 'engin', 'refuge', 'uganda', 'develop', 'idea', 'run', 'congress', 'race', 'lost', 'travel', 'school', 'school', 'campaign', 'trail', 'said', 'saw', 'thing', 'comput', 'scienc', 'classroom', 'without', 'singl', 'girl', 'saw', 'abil', 'technolog', 'either', 'enhanc', 'poverti', 'reduc', 'saw', 'girl', 'get', 'opportun', 'boy', 'said', 'ms', 'saujani', 'campaign', 'public', 'advoc', 'new', 'york', 'citi', 'back', '<NUM>', 'gender', 'pariti', 'law', 'medicin', 'someth', 'happen', 'women', 'start', 'opt', 'profess', 'comput', 'scienc', 'research', 'say', 'mani', 'factor', 'contribut', 'girl', 'reluct', 'pursu', 'comput', 'earli', 'elementari', 'school', 'includ', 'discourag', 'parent', 'inadequ', 'resourc', 'teacher', 'lack', 'exposur', 'studi', 'shown', 'girl', 'imagin', 'comput', 'scientist', 'men', 'work', 'alon', 'basement', 'relat', 'signific', 'disconnect', 'given', 'women', 'embrac', 'technolog', 'femal', 'consum', 'make', 'major', 'user', 'mani', 'tech', 'product', 'technolog', 'compani', 'women', 'also', 'offer', 'divers', 'perspect', 'help', 'bolster', 'bottom', 'line']"
        ],
        [
         "4",
         "fake",
         "['<NUM>', 'compil', 'studi', 'vaccin', 'danger', 'activist', 'post', '<DATE>', 'shortag', 'research', 'regard', 'neg', 'effect', 'wide', 'varieti', 'vaccin', 'gardasil', 'season', 'flu', 'shot', 'studi', 'proven', 'extrem', 'risk', 'associ', 'vaccin', 'oftentim', 'outweigh', 'minor', 'benefit', 'fraction', 'research', '<NUM>', 'studi', 'tie', 'vaccin', 'host', 'health', 'condit', 'broken', 'categori', 'vaccin', 'immun', 'refer', 'research', 'citat', 'vaccin', 'link', 'leukemia', 'lymphoma', 'bichel', 'post', 'vaccini', 'lymphaden', 'develop', 'hodgkin', 'diseas', 'acta', 'med', 'scand', '<DATE>', 'vol', '<NUM>', 'p', '<NUM>', '<NUM>', 'stewart', 'et', 'al', 'aetiolog', 'childhood', 'leukaemia', 'lancet', '<NUM>', 'oct', '<DATE>', '<NUM>', '<NUM>', '<NUM>', 'list', 'vaccin', 'advers', 'reaction', 'glath', 'h', 'et', 'al', 'evid', 'tumorigen', 'activ', 'candid', 'cell', 'substrat', 'vaccin', 'product', 'use', 'anti', 'lymphocyt', 'serum', 'develop', 'biol', 'std', '<DATE>', '<NUM>', '<NUM>', '<NUM>', 'bolognesi', 'dp', 'potenti', 'leukemia', 'viru', 'subunit', 'vaccin', 'discuss', 'research', '<DATE>', '<NUM>', '<NUM>', 'pt', '<NUM>', '<NUM>', '<NUM>', 'colon', 'vf', 'et', 'al', 'vaccinia', 'necrosum', 'clue', 'lymphat', 'lymphoma', 'geriatr', '<DATE>', '<NUM>', '<NUM>', '<NUM>', 'park', 'dincsoy', 'h', 'et', 'al', 'lymphoid', 'deplet', 'case', 'vaccinia', 'gangrenosa', 'laval', 'med', '<DATE>', '<NUM>', '<NUM>', '<NUM>', 'hugoson', 'g', 'et', 'al', 'occurr', 'bovin', 'leukosi', 'follow', 'introduct', 'babesiosi', 'vaccin', 'bibl', 'haemat', '<DATE>', '<NUM>', '<NUM>', '<NUM>', 'hartstock', 'post', 'vaccini', 'lymphaden', 'hyperplasia', 'lymphoid', 'tissu', 'simul', 'malign', 'lymphoma', '<DATE>', 'cancer', '<NUM>', '<NUM>', '<NUM>', '<NUM>', 'allerberg', 'f', 'outbreak', 'suppur', 'lymphaden', 'connect', 'bcg', 'vaccin', 'austria', '<DATE>', '<DATE>', 'rev', 'respir', 'disord', '<DATE>', '<NUM>', '<NUM>', '<NUM>', 'omokoku', 'b', 'castel', 'post', 'dpt', 'inocul', 'cervic', 'lymphaden', 'children', 'n', 'state', 'j', 'med', '<DATE>', 'oct', '<NUM>', '<NUM>', '<NUM>', '<NUM>', 'vaccin', 'chromosom', 'chang', 'lead', 'mutat', 'knuutila', 'et', 'al', 'increas', 'frequenc', 'chromosom', 'chang', 'sce', 'cultur', 'lymphocyt', '<NUM>', 'subject', 'vaccin', 'smallpox', 'hum', 'genet', '<NUM>', '<DATE>', '<NUM>', '<NUM>', '<NUM>', '<NUM>', 'cherkeziia', 'se', 'et', 'al', 'disord', 'murin', 'chromosom', 'apparatu', 'induc', 'immun', 'complex', 'anti', 'viral', 'vaccin', 'vopr', 'virusol', '<DATE>', 'sept', 'oct', '<NUM>', '<NUM>', '<NUM>', 'note', 'sce', 'mean', 'sister', 'chromatid', 'exchang', 'indic', 'genet', 'mutat', 'occur', 'could', 'possibl', 'lead', 'cancer', 'caus', 'mutat', 'vaccin', 'auto', 'immun', 'citat', 'romanov', 'v', 'et', 'al', 'role', 'auto', 'immun', 'process', 'pathogenesi', 'post', 'vaccin', 'lesion', 'nervou', 'system', '<DATE>', 'zh', 'mikrobiol', 'epidemiol', 'immunobiol', '<NUM>', '<NUM>', '<NUM>', 'grachev', 'v', 'p', 'et', 'al', 'format', 'auto', 'antibodi', 'laboratori', 'anim', 'inocul', 'virus', 'differ', 'virul', 'result', 'studi', '<DATE>', 'acta', 'virol', 'praha', '<NUM>', '<NUM>', '<NUM>', 'movsesi', 'aa', 'et', 'al', 'experiment', 'studi', 'abil', 'differ', 'strain', 'vaccinia', 'viru', 'induc', 'auto', 'antibodi', 'format', 'vopr', 'virusol', 'may', '<DATE>', '<NUM>', '<NUM>', '<NUM>', 'negina', 'iup', 'compar', 'studi', 'auto', 'antibodi', 'format', 'follow', 'immun', 'differ', 'type', 'typhoid', 'vaccin', 'zh', 'mikrobiol', 'epidemiol', 'immunobiol', '<DATE>', '<NUM>', '<NUM>', '<NUM>', 'vaccin', 'diabet', 'citat', 'sinanioti', 'et', 'al', 'diabet', 'mellitu', 'mump', 'vaccin', 'arc', 'di', 'child', '<DATE>', '<NUM>', '<NUM>', 'polster', 'h', 'diabet', 'insipidu', 'smallpox', 'vaccin', 'z', 'aerztl', 'fortbild', 'jena', '<DATE>', '<NUM>', '<NUM>', '<NUM>', 'patan', 'postvaccin', 'sever', 'diabet', 'mellitu', 'ter', 'arkh', '<DATE>', '<NUM>', '<NUM>', '<NUM>', 'classen', 'jb', 'md', 'time', 'immun', 'affect', 'develop', 'diabet', 'rodent', 'autoimmun', '<DATE>', '<NUM>', '<NUM>', '<NUM>', 'classen', 'jb', 'diabet', 'epidem', 'hepat', 'b', 'vaccin', 'n', 'z', 'med', 'j', '<NUM>', '<NUM>', '<NUM>', '<NUM>', '<DATE>', 'letter', 'classen', 'jb', 'childhood', 'immunis', 'diabet', 'mellitu', 'n', 'z', 'med', 'j', '<NUM>', '<NUM>', '<NUM>', '<NUM>', '<DATE>', 'letter', 'poutasi', 'k', 'immunis', 'diabet', 'n', 'z', 'med', 'j', '<NUM>', '<DATE>', '<NUM>', '<NUM>', '<NUM>', 'letter', 'comment', 'articl', 'link', 'diabet', 'vaccin', 'dokheel', 'epidem', 'childhood', 'diabet', 'unit', 'state', 'evid', 'diabet', 'care', '<DATE>', '<NUM>', '<NUM>', '<NUM>', 'parent', 'et', 'al', 'bacil', 'calmett', 'guerin', 'vaccin', 'incid', 'iddm', 'montreal', 'canada', 'diabet', 'care', '<DATE>', 'may', '<NUM>', '<NUM>', '<NUM>', '<NUM>', 'hous', 'dv', 'winter', 'autoimmun', 'diabet', 'role', 'auto', 'antibodi', 'marker', 'predict', 'prevent', 'insulin', 'depend', 'diabet', 'mellitu', 'clin', 'lab', 'med', '<DATE>', 'sep', '<NUM>', '<NUM>', '<NUM>', '<NUM>', 'zeigler', 'et', 'al', 'autoantibodi', 'type', '<NUM>', 'diabet', 'mellitu', 'z', 'arztl', 'fortbild', 'jena', '<DATE>', 'aug', '<NUM>', '<NUM>', '<NUM>', '<NUM>', '<NUM>', 'vaccin', 'nervou', 'system', 'chang', 'bondarev', 'vn', 'et', 'al', 'chang', 'nervou', 'system', 'children', 'vaccin', 'pediatria', '<DATE>', '<NUM>', '<NUM>', '<NUM>', 'ehrengut', 'w', 'central', 'nervou', 'sequela', 'vaccin', 'lancet', '<NUM>', '<DATE>', '<NUM>', '<NUM>', '<NUM>', '<NUM>', 'provvidenza', 'g', 'et', 'al', 'case', 'benign', 'acut', 'cerebellar', 'ataxia', 'childhood', 'arch', 'ital', 'sci', 'med', 'trop', '<NUM>', '<NUM>', '<NUM>', '<DATE>', 'katsilambro', 'l', 'phenomenom', 'apathi', 'man', 'anim', 'inject', 'virus', 'high', 'dose', 'clinic', 'data', 'rev', 'med', 'moyen', 'orient', '<NUM>', '<NUM>', '<NUM>', 'nov', '<DATE>', 'vaccin', 'autism', 'citat', 'egger', 'c', 'autist', 'syndrom', 'kanner', 'vaccin', 'smallpox', 'klin', 'paediatr', '<DATE>', '<NUM>', '<NUM>', '<NUM>', '<NUM>', 'kiln', 'mr', 'autism', 'inflammatori', 'bowel', 'diseas', 'mmr', 'vaccin', 'lancet', '<NUM>', '<DATE>', '<NUM>', '<NUM>', '<NUM>', 'selway', 'mmr', 'vaccin', 'autism', '<DATE>', 'medic', 'practition', 'need', 'give', 'reassur', 'bmj', '<NUM>', '<DATE>', '<NUM>', '<NUM>', '<NUM>', 'nicol', 'elliman', 'ross', 'e', 'mmr', 'vaccin', 'autism', '<DATE>', 'mj', '<NUM>', '<DATE>', '<NUM>', '<NUM>', '<NUM>', '<NUM>', 'lindley', 'k', 'j', 'milla', 'pj', 'autism', 'inflammatori', 'bowel', 'diseas', 'mmr', 'vaccin', 'lancet', '<NUM>', '<DATE>', '<NUM>', '<NUM>', '<NUM>', '<NUM>', 'bedford', 'h', 'et', 'al', 'autism', 'inflammatori', 'bowel', 'diseas', 'mmr', 'vaccin', 'lancet', '<NUM>', '<DATE>', '<NUM>', '<NUM>', '<NUM>', 'vijendra', 'k', 'singh', 'sheren', 'x', 'lin', 'victor', 'c', 'yang', 'serolog', 'associ', 'measl', 'viru', 'human', 'herpesviru', '<NUM>', 'brain', 'autoantibodi', 'autism', 'clinic', 'immunolog', 'immunopatholog', '<DATE>', 'vol', '<NUM>', '<NUM>', 'p', '<NUM>', '<NUM>', 'none', 'autist', 'children', 'studi', 'measl', 'past', 'mmr', 'state', 'david', 'whalgren', 'vaccin', 'demyelin', 'citat', 'herroelen', 'l', 'et', 'al', 'central', 'nervou', 'system', 'demyelin', 'immun', 'recombin', 'hepat', 'b', 'vaccin', 'lancet', '<DATE>', '<NUM>', '<NUM>', '<NUM>', '<NUM>', 'kaplanski', 'g', 'retornaz', 'f', 'durand', 'j', 'soubeyrand', 'j', 'central', 'nervou', 'system', 'demyelin', 'vaccin', 'hepat', 'b', 'hla', 'haplotyp', 'j', 'neurol', 'neurosurg', 'psychiatri', '<DATE>', 'jun', '<NUM>', '<NUM>', '<NUM>', '<NUM>', 'matyszak', 'mk', 'perri', 'vh', 'demyelin', 'central', 'nervou', 'system', 'follow', 'delay', 'type', 'hypersensit', 'respons', 'bacillu', 'calmett', 'guerin', 'neurosci', '<DATE>', 'feb', '<NUM>', '<NUM>', '<NUM>', '<NUM>', 'tornator', 'cs', 'richert', 'jr', 'cn', 'demyelin', 'associ', 'diploid', 'cell', 'rabi', 'vaccin', 'lancet', '<NUM>', '<DATE>', '<NUM>', '<NUM>', '<NUM>', '<NUM>', 'adam', 'jm', 'et', 'al', 'neuromyel', 'optica', 'sever', 'demyelin', 'occur', 'year', 'primari', 'smallpox', 'vaccin', 'rev', 'roum', 'neurol', '<DATE>', '<NUM>', '<NUM>', '<NUM>', '<DATE>', 'dietrich', 'use', 'mri', 'show', 'development', 'delay', 'children', 'alter', 'myelin', 'coulter', 'describ', 'central', 'nervou', 'system', 'damag', 'exhibit', 'abnorm', 'behavior', 'child', '<DATE>', 'thoma', 'river', 'experiment', 'allerg', 'enceph', 'eae', 'result', 'viral', 'bacteri', 'infect', 'nervou', 'system', 'fact', 'matter', 'matter', 'record', 'known', 'vaccin', 'produc', 'enceph', 'sinc', '<DATE>', 'author', 'state', 'region', 'organ', 'vaccin', 'popul', 'gener', 'paralysi', 'rare', 'imposs', 'deni', 'connect', 'vaccin', 'enceph', 'brain', 'damag', 'follow', 'vaccin', 'link', 'seizur', 'convuls', 'epilepsi', 'vaccin', 'seizur', 'hirtz', 'dg', 'nelson', 'kb', 'ellenberg', 'j', 'h', 'seizur', 'follow', 'childhood', 'immun', 'pediatr', '<DATE>', 'jan', '<NUM>', '<NUM>', '<NUM>', '<NUM>', 'cherri', 'jd', 'holtzman', 'ae', 'shield', 'wd', 'buch', 'nielsen', 'pertussi', 'immun', 'characterist', 'relat', 'first', 'seizur', 'infant', 'children', 'j', 'pediatr', '<DATE>', 'jun', '<NUM>', '<NUM>', '<NUM>', '<NUM>', 'coplan', 'j', 'seizur', 'follow', 'immun', 'j', 'pediatr', '<DATE>', 'sep', '<NUM>', '<NUM>', '<NUM>', 'barkin', 'rm', 'jabhour', 'jt', 'samuelson', 'j', 'immun', 'seizur', 'subsequ', 'evalu', 'jama', '<NUM>', '<DATE>', '<NUM>', '<NUM>', '<NUM>', 'griffin', 'mr', 'et', 'al', 'risk', 'seizur', 'measl', 'mump', 'rubella', 'immun', 'pediatr', '<DATE>', 'nov', '<NUM>', '<NUM>', '<NUM>', '<NUM>', 'griffin', 'mr', 'et', 'al', 'risk', 'seizur', 'encephalopathi', 'immun', 'diphtheria', 'tetanu', 'pertussi', 'vaccin', 'jama', '<NUM>', '<DATE>', '<NUM>', '<NUM>', '<NUM>', '<NUM>', '<NUM>', 'cizewska', 'huber', 'z', 'sluzewski', 'w', 'prophylact', 'inocul', 'seizur', 'activ', 'eeg', 'neurol', 'neurochir', 'pol', '<DATE>', 'sep', 'dec', '<NUM>', '<NUM>', '<NUM>', '<NUM>', '<NUM>', 'articl', 'polish', 'huttenloch', 'pr', 'hapk', 'rj', 'follow', 'studi', 'intract', 'seizur', 'childhood', 'ann', 'neurol', '<DATE>', 'nov', '<NUM>', '<NUM>', '<NUM>', '<NUM>', 'blumberg', 'da', 'sever', 'reaction', 'associ', 'diphtheria', 'tetanu', 'pertussi', 'vaccin', 'detail', 'studi', 'children', 'seizur', 'hypoton', 'hypo', 'respons', 'episod', 'high', 'fever', 'persist', 'cri', 'pediatr', '<DATE>', 'jun', '<NUM>', '<NUM>', '<NUM>', '<NUM>', 'vaccin', 'convuls', 'citat', 'prenski', 'al', 'et', 'al', 'histori', 'convuls', 'use', 'pertussi', 'vaccin', 'j', 'pediatr', '<DATE>', 'aug', '<NUM>', '<NUM>', '<NUM>', '<NUM>', 'baraff', 'lj', 'infant', 'children', 'convuls', 'hypoton', 'hypo', 'respons', 'episod', 'follow', 'diphtheria', 'tetanu', 'pertussi', 'immun', 'follow', 'evalu', 'pediatr', '<DATE>', 'jun', '<NUM>', '<NUM>', '<NUM>', '<NUM>', 'jacobson', 'v', 'relationship', 'pertussi', 'immun', 'onset', 'epilepsi', 'febril', 'convuls', 'central', 'nervou', 'system', 'infect', 'retrospect', 'epidemiolog', 'studi', 'tokai', 'j', 'exp', 'clin', 'med', '<DATE>', '<NUM>', 'suppl', '<NUM>', '<NUM>', 'cupic', 'v', 'et', 'al', 'role', 'dtp', 'vaccin', 'convuls', 'syndrom', 'children', 'lijec', 'vjesn', '<DATE>', 'jun', '<NUM>', '<NUM>', '<NUM>', '<NUM>', 'articl', 'serbo', 'croatian', 'roman', 'pokrovskaia', 'nia', 'convuls', 'syndrom', 'dpt', 'vaccin', 'clinico', 'experiment', 'studi', 'pediatriia', '<DATE>', 'may', '<NUM>', '<NUM>', '<NUM>', 'articl', 'russian', 'vaccin', 'epilepsi', 'citat', 'ballerini', 'ricci', 'b', 'et', 'al', 'neurolog', 'complic', 'vaccin', 'special', 'refer', 'epilept', 'syndrom', 'riv', 'neurol', 'jul', '<DATE>', '<NUM>', '<NUM>', '<NUM>', 'wolf', 'sm', 'forsyth', 'epilepsi', 'mental', 'retard', 'follow', 'febril', 'seizur', 'childhood', 'acta', 'paediatr', 'scand', '<DATE>', 'mar', '<NUM>', '<NUM>', '<NUM>', '<NUM>', 'vaccin', 'brain', 'swell', 'iwasa', 'et', 'al', 'swell', 'brain', 'mice', 'caus', 'pertussi', 'quantit', 'determin', 'respons', 'vaccin', 'jpn', 'j', 'med', 'sci', 'biol', '<DATE>', '<NUM>', '<NUM>', '<NUM>', '<NUM>', 'mathur', 'r', 'kumari', 'bulg', 'fontanel', 'follow', 'tripl', 'vaccin', 'indian', 'pediatr', '<DATE>', 'jun', '<NUM>', '<NUM>', '<NUM>', '<NUM>', 'barri', 'w', 'lenney', 'w', 'hatcher', 'g', 'bulg', 'fontanel', 'infant', 'without', 'mening', 'arch', 'di', 'child', '<DATE>', 'apr', '<NUM>', '<NUM>', '<NUM>', '<NUM>', 'shendurnikar', 'n', 'bulg', 'fontanel', 'follow', 'dpt', 'indian', 'pediatr', '<DATE>', 'nov', '<NUM>', '<NUM>', '<NUM>', 'gross', 'tp', 'milstien', 'jb', 'kuritski', 'jn', 'bulg', 'fontanel', 'immun', 'diphtheria', 'tetanu', 'pertussi', 'vaccin', 'diphtheria', 'tetanu', 'vaccin', 'j', 'pediatr', '<DATE>', 'mar', '<NUM>', '<NUM>', '<NUM>', '<NUM>', 'jacob', 'j', 'mannino', 'f', 'increas', 'intracrani', 'pressur', 'diphtheria', 'tetanu', 'pertussi', 'immun', 'j', 'di', 'child', '<DATE>', 'feb', '<NUM>', '<NUM>', '<NUM>', '<NUM>', 'dugmor', 'wn', 'bilater', 'oedema', 'posterior', 'pole', 'hypersensit', 'reaction', 'alavac', 'p', 'inject', 'br', 'j', 'ophthalmol', '<DATE>', '<NUM>', '<NUM>', '<NUM>', 'vaccin', 'neurolog', 'damag', 'nedar', 'p', 'r', 'warren', 'r', 'j', 'report', 'neurolog', 'disord', 'follow', 'live', 'measl', 'vaccin', '<DATE>', 'ped', '<NUM>', '<NUM>', '<NUM>', 'paradiso', 'g', 'et', 'al', 'multifoc', 'demyelin', 'neuropathi', 'tetanu', 'vaccin', 'medicina', 'b', 'air', '<DATE>', '<NUM>', '<NUM>', '<NUM>', '<NUM>', 'landrigan', 'pj', 'whitt', 'j', 'neurolog', 'disord', 'follow', 'live', 'measl', 'viru', 'vaccin', 'jama', '<DATE>', 'v', '<NUM>', '<NUM>', '<NUM>', '<NUM>', 'turnbul', 'h', 'encephalomyel', 'follow', 'vaccin', 'brit', 'jour', 'exper', 'path', '<NUM>', '<NUM>', '<DATE>', 'kulenkampff', 'et', 'al', 'neurolog', 'complic', 'pertussi', 'inocul', 'arch', 'di', 'child', '<DATE>', '<NUM>', '<NUM>', 'strom', 'j', 'experi', 'reaction', 'especi', 'cerebr', 'natur', 'conjunct', 'tripl', 'vaccin', 'brit', 'med', 'jour', '<DATE>', '<NUM>', '<NUM>', '<NUM>', 'berg', 'j', 'neurolog', 'complic', 'pertussi', 'immun', 'brit', 'med', 'jour', '<DATE>', '<DATE>', 'p', '<NUM>', 'bondarev', 'vn', 'et', 'al', 'chang', 'nervou', 'system', 'children', 'vaccin', 'pediatria', '<DATE>', '<NUM>', '<NUM>', '<NUM>', 'badalian', 'lo', 'vaccin', 'lesion', 'nervou', 'system', 'children', 'vop', 'okhr', 'materin', 'det', '<DATE>', '<NUM>', '<NUM>', '<NUM>', 'lorentz', 'et', 'al', 'post', 'vaccin', 'sensori', 'polyneuropathi', 'myoclonu', 'proc', 'aust', 'ass', 'neurol', '<DATE>', '<NUM>', '<NUM>', '<NUM>', 'trump', 'r', 'c', 'white', 'r', 'cerebellar', 'ataxia', 'presum', 'due', 'live', 'attenu', 'measl', 'viru', 'vaccin', 'jama', '<DATE>', '<NUM>', '<NUM>', '<NUM>', 'allerdist', 'h', 'neurolog', 'complic', 'follow', 'measl', 'vaccin', 'inter', 'symp', 'brussel', '<DATE>', 'develop', 'biol', 'std', 'vol', '<NUM>', '<NUM>', '<NUM>', 'finley', 'k', 'h', 'pathogenesi', 'enceph', 'occur', 'vaccin', 'variola', 'measl', 'arch', 'neur', 'psychologist', '<DATE>', '<NUM>', '<NUM>', '<NUM>', 'froissart', 'et', 'al', 'acut', 'meningoenceph', 'immedi', 'influenza', 'vaccin', 'lill', 'med', '<DATE>', '<NUM>', '<NUM>', '<NUM>', '<NUM>', 'pokrovskaia', 'nia', 'et', 'al', 'neurolog', 'complic', 'children', 'smallpox', 'vaccin', 'pediatriia', '<DATE>', '<NUM>', '<NUM>', '<NUM>', 'allerdist', 'h', 'neurolog', 'complic', 'follow', 'measl', 'viru', 'vaccin', 'evalu', 'case', 'seen', '<DATE>', '<DATE>', 'monatsschr', 'kinderheilkd', '<DATE>', '<NUM>', '<NUM>', '<NUM>', '<NUM>', 'ehrengut', 'w', 'et', 'al', 'convuls', 'reaction', 'follow', 'oral', 'vaccin', 'polio', 'klin', 'paediatr', '<DATE>', '<NUM>', '<NUM>', '<NUM>', '<NUM>', 'naumova', 'r', 'p', 'et', 'al', 'enceph', 'develop', 'vaccin', 'without', 'local', 'skin', 'reaction', 'vrach', 'delo', '<DATE>', '<NUM>', '<NUM>', '<NUM>', 'goswami', 'bm', 'neurolog', 'complic', 'smallpox', 'vaccin', 'j', 'ass', 'phi', 'india', '<DATE>', '<NUM>', '<NUM>', '<NUM>', 'schchelkunov', 'sn', 'et', 'al', 'role', 'virus', 'induct', 'allerg', 'encephalomyel', 'dokl', 'akad', 'nauk', 'sssr', '<DATE>', '<NUM>', '<NUM>', '<NUM>', '<NUM>', 'vaccin', 'contain', 'virus', 'walker', 'neurolog', 'event', 'follow', 'diphtheria', 'tetanu', 'pertussi', 'immun', 'pediatr', '<DATE>', 'mar', '<NUM>', '<NUM>', '<NUM>', '<NUM>', 'shield', 'wd', 'et', 'al', 'relationship', 'pertussi', 'immun', 'onset', 'neurolog', 'disord', 'retrospect', 'epidemiolog', 'studi', 'j', 'pediatr', '<DATE>', 'nov', '<NUM>', '<NUM>', '<NUM>', '<NUM>', 'wilson', 'j', 'proceed', 'neurolog', 'complic', 'dpt', 'inocul', 'infanc', 'arch', 'di', 'child', '<DATE>', 'oct', '<NUM>', '<NUM>', '<NUM>', '<NUM>', 'iakunin', 'iua', 'nervou', 'system', 'complic', 'children', 'prevent', 'vaccin', 'pediatriia', '<DATE>', 'nov', '<NUM>', '<NUM>', '<NUM>', '<NUM>', 'articl', 'russian', 'greco', 'et', 'al', 'case', 'control', 'studi', 'encephalopathi', 'associ', 'diphtheria', 'tetanu', 'immun', 'campania', 'itali', 'bull', 'world', 'health', 'organ', '<DATE>', '<NUM>', '<NUM>', '<NUM>', '<NUM>', 'ehrengut', 'w', 'institut', 'vaccinolog', 'virolog', 'hamburg', 'germani', 'state', 'bia', 'evalu', 'cn', 'complic', 'follow', 'pertussi', 'immun', 'follow', '<NUM>', 'notif', 'post', 'immun', 'advers', 'event', '<NUM>', 'public', 'vaccin', 'produc', 'frequenc', 'advers', 'reaction', '<NUM>', 'comparison', 'perman', 'brain', 'damag', 'dpt', 'dt', 'immun', '<NUM>', 'pro', 'immun', '<NUM>', 'immun', 'associ', 'viral', 'enceph', '<NUM>', 'accuraci', 'statist', '<NUM>', 'person', 'review', 'point', 'indic', 'underestim', 'cn', 'complic', 'pertussi', 'immun', 'refer', 'ehrengut', 'w', 'bia', 'evalu', 'cn', 'complic', 'follow', 'pertussi', 'immun', 'acta', 'paediatr', 'jpn', '<DATE>', 'aug', '<NUM>', '<NUM>', '<NUM>', '<NUM>', 'vaccin', 'unexplain', 'diseas', 'hiner', 'e', 'e', 'frasch', 'c', 'e', 'spectrum', 'diseas', 'due', 'haemophilu', 'influenza', 'type', 'b', 'occur', 'vaccin', 'children', 'j', 'infect', 'disord', '<DATE>', 'aug', '<NUM>', '<NUM>', '<NUM>', '<NUM>', 'olin', 'p', 'romanu', 'v', 'storsaet', 'j', 'invas', 'bacteri', 'infect', 'efficiaci', 'trial', 'acellular', 'pertussi', 'vaccin', 'implic', 'futur', 'surveil', 'pertussi', 'vaccin', 'programm', 'tokai', 'j', 'exp', 'clin', 'med', '<DATE>', '<NUM>', 'suppl', '<NUM>', '<NUM>', 'storsaet', 'j', 'et', 'al', 'mortal', 'morbid', 'invas', 'bacteri', 'infect', 'clinic', 'trial', 'acellular', 'pertussi', 'vaccin', 'sweden', 'pediatr', 'infect', 'disord', 'j', '<DATE>', 'sept', '<NUM>', '<NUM>', '<NUM>', '<NUM>', 'vadheim', 'cm', 'et', 'al', 'effect', 'safeti', 'haemophilu', 'influenza', 'type', 'b', 'conjug', 'vaccin', 'prp', 'young', 'infant', 'kaiser', 'ucla', 'vaccin', 'studi', 'group', 'pediart', '<DATE>', 'aug', '<NUM>', '<NUM>', '<NUM>', '<NUM>', 'vaccin', 'caus', 'fever', 'irrit', 'cri', 'seizur', 'declar', 'safe', 'effect', 'stickl', 'h', 'estim', 'vaccin', 'damag', 'med', 'welt', '<DATE>', '<NUM>', '<NUM>', '<NUM>', 'water', 'vv', 'et', 'al', 'risk', 'factor', 'measl', 'vaccin', 'popul', 'jama', '<DATE>', '<NUM>', '<NUM>', '<NUM>', 'stickl', 'h', 'iatrogen', 'immuno', 'suppress', 'result', 'vaccin', 'fortschr', 'med', '<DATE>', '<NUM>', '<NUM>', '<NUM>', '<NUM>', 'vaccin', 'citat', 'link', 'vaccin', 'prevent', 'diseas', 'nkowan', 'et', 'al', 'vaccin', 'associ', 'paralyt', 'poliomyel', 'us', '<DATE>', '<DATE>', 'jama', '<DATE>', 'vol', '<NUM>', '<NUM>', '<NUM>', 'quast', 'et', 'al', 'vaccin', 'induc', 'mump', 'like', 'diseas', 'nd', 'int', 'symp', 'immun', 'develop', 'bio', 'stand', 'vol', '<NUM>', 'p', '<NUM>', '<NUM>', 'green', 'c', 'et', 'al', 'case', 'hepat', 'relat', 'etretin', 'therapi', 'hepat', 'b', 'vaccin', 'dermatologica', '<DATE>', '<NUM>', '<NUM>', '<NUM>', '<NUM>', 'shasbi', 'dm', 'et', 'al', 'epidem', 'measl', 'highli', 'vaccin', 'popul', 'nejm', '<DATE>', '<NUM>', '<NUM>', '<NUM>', '<NUM>', 'tesov', 'g', 'et', 'al', 'asept', 'mening', 'measl', 'mump', 'rubella', 'vaccin', 'lancet', '<DATE>', '<NUM>', '<NUM>', '<NUM>', 'johnson', 'rh', 'et', 'al', 'nosocomi', 'vaccinia', 'infect', 'west', 'j', 'med', '<DATE>', '<NUM>', '<NUM>', '<NUM>', '<NUM>', 'malengreau', 'reappear', 'post', 'vaccin', 'infect', 'measl', 'rubella', 'mump', 'adolesc', 'vaccin', 'pedaitr', '<DATE>', '<NUM>', '<NUM>', '<NUM>', '<NUM>', '<NUM>', 'ref', 'basa', 'sn', 'paralyt', 'poliomyel', 'follow', 'inocul', 'combin', 'dtp', 'prophylact', 'review', 'sixteen', 'case', 'special', 'refer', 'immun', 'schedul', 'infanc', 'j', 'indian', 'med', 'assoc', '<DATE>', '<NUM>', '<NUM>', '<NUM>', 'landrigan', 'pj', 'et', 'al', 'measl', 'previous', 'vaccin', 'children', 'illinoi', 'ill', 'med', 'j', 'arp', '<DATE>', '<NUM>', '<NUM>', '<NUM>', 'na', 'vaccin', 'associ', 'poliomyel', 'med', 'j', 'aust', '<DATE>', '<NUM>', '<NUM>', '<NUM>', 'vaccin', 'failur', 'citat', 'hardi', 'ge', 'jr', 'et', 'al', 'failur', 'school', 'immun', 'campaign', 'termin', 'urban', 'epidem', 'measl', 'amer', 'j', 'epidem', '<DATE>', '<NUM>', '<NUM>', '<NUM>', 'cherri', 'jd', 'et', 'al', 'clinic', 'serolog', 'studi', '<NUM>', 'children', 'measl', 'vaccin', 'failur', 'j', 'pediatr', '<DATE>', '<NUM>', '<NUM>', '<NUM>', 'jilg', 'w', 'et', 'al', 'inocul', 'failur', 'follow', 'hepat', 'b', 'vaccin', 'dtsch', 'med', 'wochenschr', '<NUM>', '<DATE>', '<NUM>', '<NUM>', '<NUM>', '<NUM>', 'plotkin', 'sa', 'failur', 'protect', 'measl', 'vaccin', 'j', 'pediatr', '<DATE>', '<NUM>', '<NUM>', '<NUM>', 'bolotovskii', 'v', 'et', 'al', 'measl', 'incid', 'among', 'children', 'properli', 'vaccin', 'infect', 'zh', 'mikrobiol', 'epidemiol', 'immunobiol', '<DATE>', '<NUM>', '<NUM>', '<NUM>', '<NUM>', 'landrigan', 'pj', 'et', 'al', 'measl', 'previous', 'vaccin', 'children', 'illinoi', 'ill', 'med', 'j', '<DATE>', '<NUM>', '<NUM>', '<NUM>', 'strebel', 'p', 'et', 'al', 'outbreak', 'whoop', 'cough', 'highli', 'vaccin', 'urban', 'commun', 'j', 'trop', 'pediatr', '<DATE>', '<NUM>', '<NUM>', '<NUM>', '<NUM>', 'forrest', 'jm', 'et', 'al', 'failur', 'rubella', 'vaccin', 'prevent', 'congenit', 'rubella', 'med', 'j', 'aust', '<NUM>', '<DATE>', '<NUM>', '<NUM>', '<NUM>', 'jilg', 'w', 'unsuccess', 'vaccin', 'hepat', 'b', 'dtsch', 'med', 'wochenschr', '<DATE>', '<NUM>', '<NUM>', '<NUM>', 'cole', 'fb', 'et', 'al', 'outbreak', 'influenza', 'h', '<NUM>', 'n', '<NUM>', 'well', 'immun', 'nurs', 'home', 'popul', 'j', 'ger', 'sociologist', '<DATE>', '<NUM>', '<NUM>', '<NUM>', '<NUM>', 'jilg', 'w', 'et', 'al', 'inocul', 'failur', 'follow', 'hepat', 'b', 'vaccin', 'dtsch', 'med', 'wochenschr', '<DATE>', '<NUM>', '<NUM>', '<NUM>', '<NUM>', 'hartmann', 'g', 'et', 'al', 'unsuccess', 'inocul', 'hepat', 'b', 'dtsch', 'med', 'wochenschr', '<DATE>', '<NUM>', '<NUM>', '<NUM>', 'buddl', 'bm', 'et', 'al', 'contagi', 'ecthyma', 'viru', 'vaccin', 'failur', 'j', 'vet', 'research', '<DATE>', '<NUM>', '<NUM>', '<NUM>', '<NUM>', 'mathia', 'r', 'g', 'whoop', 'cough', 'spite', 'immun', 'j', 'pub', 'health', '<DATE>', 'mar', 'apr', '<NUM>', '<NUM>', '<NUM>', '<NUM>', 'osterholm', 'mt', 'et', 'al', 'lack', 'efficaci', 'haemophilu', 'b', 'polysacharid', 'vaccin', 'minnesota', 'jama', '<NUM>', '<DATE>', '<NUM>', '<NUM>', '<NUM>', '<NUM>', 'johnson', 'rh', 'et', 'al', 'nosocomi', 'vaccinia', 'infect', 'west', 'j', 'med', '<DATE>', '<NUM>', '<NUM>', '<NUM>', '<NUM>', 'vaccin', 'caus', 'anoth', 'vaccin', 'diseas', 'basa', 'sn', 'paralyt', 'poliomyel', 'follow', 'inocul', 'combin', 'dtp', 'prophylact', 'review', 'sixteen', 'case', 'special', 'refer', 'immun', 'schedul', 'infanc', 'j', 'indian', 'med', 'assoc', '<DATE>', '<NUM>', '<NUM>', '<NUM>', 'pathel', 'jc', 'et', 'al', 'tetanu', 'follow', 'vaccin', 'small', 'pox', 'j', 'pediatr', '<DATE>', '<NUM>', '<NUM>', '<NUM>', 'favez', 'g', 'tubercul', 'superinfect', 'follow', 'smallpox', 'vaccin', 'praxi', '<DATE>', '<NUM>', '<NUM>', '<NUM>', 'quast', 'ute', 'hennessen', 'vaccin', 'induc', 'mump', 'like', 'diseas', 'intern', 'symp', 'immun', 'develop', 'bio', 'stand', 'vol', '<NUM>', 'p', '<NUM>', '<NUM>', 'forrest', 'j', 'et', 'al', 'clinic', 'rubella', 'eleven', 'month', 'vaccin', 'lancet', '<DATE>', '<NUM>', '<NUM>', '<NUM>', 'dittman', 'atyp', 'measl', 'vaccin', 'beitr', 'hyg', 'epidemiol', '<NUM>', '<NUM>', '<NUM>', '<NUM>', '<NUM>', 'ref', 'sen', 'et', 'al', 'poliomyel', 'vaccin', 'children', 'indian', 'pediatr', '<DATE>', '<NUM>', '<NUM>', '<NUM>', '<NUM>', 'arya', 'sc', 'put', 'failur', 'recombin', 'dna', 'hepat', 'b', 'vaccin', 'vaccin', '<DATE>', '<NUM>', '<NUM>', '<NUM>', '<NUM>', 'lawrenc', 'r', 'et', 'al', 'risk', 'zoster', 'varicella', 'vaccin', 'children', 'leukemia', 'nejm', '<DATE>', '<NUM>', '<NUM>', '<NUM>', '<NUM>', 'vaccin', 'citat', 'death', 'na', 'dpt', 'vaccin', 'sudden', 'infant', 'death', 'tennesse', 'us', 'dept', 'hew', 'mmwr', 'report', '<DATE>', 'vol', '<NUM>', '<NUM>', '<NUM>', 'arevalo', 'vaccinia', 'necrosum', 'report', 'fatal', 'case', 'bol', 'ofoc', 'sanit', 'panam', '<DATE>', '<NUM>', '<NUM>', '<URL>', 'j', 'h', 'dick', 'g', 'w', 'field', 'cm', 'case', 'fatal', 'progress', 'vaccinia', 'brit', 'med', 'jour', '<DATE>', '<NUM>', '<NUM>', '<NUM>', 'aragona', 'f', 'fatal', 'acut', 'adren', 'insuffici', 'caus', 'bilater', 'apoplexi', 'adren', 'gland', 'wf', 'follow', 'anti', 'poliomyel', 'vaccin', 'minerva', 'medicolegal', '<DATE>', '<NUM>', '<NUM>', '<NUM>', 'moblu', 'g', 'et', 'al', 'patholog', 'anatom', 'find', 'case', 'death', 'follow', 'poliomyel', 'dpt', 'vaccin', 'dtsch', 'gesundheitsw', '<DATE>', '<NUM>', '<NUM>', '<NUM>', 'na', 'immun', 'cot', 'death', 'lancet', '<DATE>', 'np', 'goetzel', 'fatal', 'enceph', 'poliomyel', 'vaccin', '<DATE>', 'muenchen', 'med', 'wschr', '<NUM>', '<NUM>', '<NUM>', 'fulgin', 'v', 'sudden', 'infant', 'death', 'syndrom', 'diphtheria', 'tetanu', 'toxoid', 'pertussi', 'vaccin', 'visit', 'doctor', 'chanc', 'associ', 'caus', 'effect', 'pediatr', 'infect', 'disord', 'jan', '<DATE>', '<NUM>', '<NUM>', '<NUM>', '<NUM>', 'baraff', 'lj', 'et', 'al', 'possibl', 'tempor', 'associ', 'diphtheria', 'tetanu', 'toxoid', 'pertussi', 'vaccin', 'sudden', 'infant', 'death', 'syndrom', 'pediatr', 'infect', 'disord', 'jan', '<DATE>', '<NUM>', '<NUM>', '<NUM>', '<NUM>', 'reynold', 'e', 'fatal', 'outcom', 'case', 'eczema', 'vaccinatum', 'lancet', '<DATE>', '<NUM>', '<NUM>', '<NUM>', 'apostolov', 'et', 'al', 'death', 'infant', 'hyperthermia', 'vaccin', 'j', 'clin', 'path', '<DATE>', '<NUM>', '<NUM>', '<NUM>', 'bouvier', 'coll', 'mh', 'sex', 'specif', 'differ', 'mortal', 'high', 'titr', 'measl', 'vaccin', 'rev', 'epidemiol', 'sant', 'publiqu', '<DATE>', '<NUM>', '<NUM>', '<NUM>', 'stewart', 'gt', 'death', 'infant', 'tripl', 'vaccin', 'lancet', '<NUM>', '<DATE>', '<NUM>', '<NUM>', '<NUM>', '<NUM>', 'flahault', 'sudden', 'infant', 'death', 'syndrom', 'diphtheria', 'tetanu', 'toxoid', 'pertussi', 'poliomyel', 'immunis', 'lancet', '<NUM>', '<DATE>', '<NUM>', '<NUM>', '<NUM>', '<NUM>', 'larbr', 'f', 'et', 'al', 'fatal', 'acut', 'myocard', 'smallpox', 'vaccin', 'pediatri', 'apr', '<DATE>', '<NUM>', '<NUM>', '<NUM>', 'mortim', 'ea', 'jr', 'dtp', 'sid', 'data', 'differ', 'j', 'public', 'health', '<DATE>', 'aug', '<NUM>', '<NUM>', '<NUM>', '<NUM>', 'vaccin', 'metabol', 'citat', 'deutsch', 'j', 'temperatur', 'chang', 'tripl', 'immun', 'infant', 'age', 'padiatr', 'grenzgeb', '<DATE>', '<NUM>', '<NUM>', '<NUM>', '<NUM>', 'articl', 'german', 'na', 'temperatur', 'chang', 'tripl', 'immun', 'childhood', 'padiatr', 'grenzgeb', '<DATE>', '<NUM>', '<NUM>', '<NUM>', '<NUM>', 'articl', 'german', 'consid', 'thyroid', 'control', 'basal', 'metabol', 'would', 'appear', 'vaccin', 'alter', 'depress', 'thyroid', 'activ', 'vaccin', 'alter', 'resist', 'diseas', 'burmistrova', 'al', 'chang', 'non', 'specif', 'resist', 'bodi', 'influenza', 'acut', 'respiratori', 'diseas', 'follow', 'immun', 'diphtheria', 'tetanu', 'vaccin', 'zh', 'mikrobiol', 'epidemiol', 'immunobiol', '<DATE>', '<NUM>', '<NUM>', '<NUM>', 'articl', 'russian', 'vaccin', 'deaf', 'citat', 'background', 'check', 'see', 'scientif', 'evid', 'link', 'vaccin', 'deaf', 'hear', 'loss', 'articl', 'found', 'kaga', 'unilater', 'total', 'loss', 'auditori', 'vestibular', 'function', 'complic', 'mump', 'vaccin', 'int', 'j', 'ped', 'oto', '<DATE>', '<NUM>', '<NUM>', '<NUM>', '<NUM>', 'nabe', 'nielsen', 'walter', 'unilater', 'total', 'deaf', 'complic', 'measl', 'mump', 'rubella', 'vaccin', 'scan', 'audio', 'suppl', '<DATE>', '<NUM>', '<NUM>', '<NUM>', 'hulbert', 'et', 'al', 'bilater', 'hear', 'loss', 'measl', 'rubella', 'vaccin', 'adult', 'nejm', '<DATE>', 'juli', '<NUM>', '<NUM>', '<NUM>', '<NUM>', 'heali', 'mump', 'vaccin', 'nerv', 'deaf', 'j', 'disord', 'child', '<DATE>', 'jun', '<NUM>', '<NUM>', '<NUM>', 'jayarajan', 'sedler', 'hear', 'loss', 'follow', 'measl', 'vaccin', 'j', 'infect', '<DATE>', 'mar', '<NUM>', '<NUM>', '<NUM>', '<NUM>', 'pialoux', 'p', 'et', 'al', 'vaccin', 'deaf', 'ann', 'otolaryng', 'pari', '<DATE>', '<NUM>', '<NUM>', '<NUM>', 'angerstein', 'w', 'et', 'al', 'solitari', 'hear', 'equilibrium', 'damag', 'vaccin', 'gesundheitswesen', '<DATE>', '<NUM>', '<NUM>', '<NUM>', '<NUM>', 'brodski', 'stanievich', 'sensorineur', 'hear', 'loss', 'follow', 'live', 'measl', 'viru', 'vaccin', 'int', 'j', 'ped', 'oto', '<DATE>', 'nov', '<NUM>', '<NUM>', '<NUM>', '<NUM>', 'koga', 'et', 'al', 'bilater', 'acut', 'profound', 'deaf', 'mmr', 'vaccin', 'report', 'case', 'nippon', 'jibiin', 'gakkai', 'kai', '<DATE>', 'aug', '<NUM>', '<NUM>', '<NUM>', '<NUM>', 'seiferth', 'lb', 'deaf', 'oral', 'poliomyel', 'vaccin', 'case', 'report', 'review', 'hno', '<DATE>', 'aug', '<NUM>', '<NUM>', '<NUM>', '<NUM>', 'pantazopoulo', 'pe', 'percept', 'deaf', 'follow', 'prophylact', 'use', 'tetanu', 'anittoxin', 'laryngoscop', '<DATE>', '<NUM>', '<NUM>', '<NUM>', 'zimmerman', 'w', 'observ', 'case', 'acut', 'bilater', 'hear', 'impair', 'follow', 'prevent', 'poliomyel', 'vaccin', 'type', '<NUM>', 'arch', 'ohr', 'na', 'kehlkopfheilk', '<DATE>', '<NUM>', '<NUM>', '<NUM>', 'vaccin', 'kidney', 'disord', 'citat', 'jacquot', 'c', 'et', 'al', 'renal', 'risk', 'vaccin', 'nouv', 'press', 'med', '<DATE>', '<NUM>', '<NUM>', '<NUM>', '<NUM>', 'giudicelli', 'et', 'al', 'renal', 'risk', 'vaccin', 'press', 'med', '<DATE>', '<NUM>', '<NUM>', '<NUM>', '<NUM>', 'tan', 'sy', 'et', 'al', 'vaccin', 'relat', 'glomerulonephr', 'bmj', '<DATE>', '<NUM>', '<NUM>', '<NUM>', 'pillai', 'jj', 'et', 'al', 'renal', 'involv', 'associ', 'post', 'vaccin', 'varicella', 'clin', 'infect', 'disord', '<DATE>', '<NUM>', '<NUM>', '<NUM>', '<NUM>', 'eising', 'aj', 'et', 'al', 'acut', 'renal', 'failur', 'tab', 'cholera', 'vaccin', 'b', 'med', 'j', '<DATE>', '<NUM>', '<NUM>', '<NUM>', '<NUM>', 'silina', 'zm', 'et', 'al', 'caus', 'postvaccin', 'complic', 'kidney', 'young', 'infant', 'pediatria', '<DATE>', '<NUM>', '<NUM>', '<NUM>', 'na', 'albuminuria', 'concour', 'med', '<DATE>', '<NUM>', '<NUM>', '<NUM>', 'vaccin', 'advers', 'reaction', 'oyrl', 'et', 'al', 'vaccin', 'harm', 'kidney', 'clin', 'nephrol', '<DATE>', '<NUM>', '<NUM>', '<NUM>', '<NUM>', 'mel', 'man', 'nia', 'renal', 'lesion', 'use', 'vaccin', 'sera', 'vrach', 'delo', '<DATE>', 'oct', '<NUM>', '<NUM>', '<NUM>', 'articl', 'russian', 'silina', 'zm', 'galaktionova', 'tia', 'shabunina', 'nr', 'caus', 'postvaccin', 'complic', 'kidney', 'young', 'infant', 'pediatriia', '<DATE>', 'dec', '<NUM>', '<NUM>', '<NUM>', 'articl', 'russian', 'silina', 'em', 'et', 'al', 'diseas', 'kidney', 'children', '<NUM>', 'year', 'life', 'follow', 'primari', 'smallpox', 'vaccin', 'administr', 'pertusi', 'diphtheria', 'tetanu', 'vaccin', 'vopr', 'okhr', 'materin', 'det', '<DATE>', 'mar', '<NUM>', '<NUM>', '<NUM>', '<NUM>', 'articl', 'russian', 'vaccin', 'skin', 'disord', 'citat', 'illingsworth', 'r', 'skin', 'rash', 'tripl', 'vaccin', 'arch', 'di', 'child', '<DATE>', 'sep', '<NUM>', '<NUM>', '<NUM>', 'lupton', 'gp', 'discoid', 'lupu', 'erythematosu', 'occur', 'smallpox', 'vaccin', 'scar', 'j', 'acad', 'dermatol', '<DATE>', 'oct', '<NUM>', '<NUM>', '<NUM>', '<NUM>', 'kompier', 'j', 'skin', 'diseas', 'caus', 'vaccinia', 'viru', 'smallpox', 'ned', 'milt', 'geneesk', '<NUM>', '<NUM>', '<NUM>', '<DATE>', 'weber', 'g', 'et', 'al', 'skin', 'lesion', 'follow', 'vaccin', 'deutsch', 'med', 'wschr', '<NUM>', '<NUM>', '<NUM>', '<DATE>', 'copeman', 'p', 'w', 'skin', 'complic', 'smallpox', 'vaccin', 'practition', '<NUM>', '<NUM>', '<NUM>', '<DATE>', 'den', 'dw', 'et', 'al', 'skin', 'rash', 'tripl', 'vaccin', 'arch', 'disord', 'child', '<DATE>', '<NUM>', '<NUM>', '<NUM>', '<NUM>', 'vaccin', 'abcess', 'sterler', 'hc', 'et', 'al', 'outbreak', 'group', 'steptococc', 'abcess', 'follow', 'dtp', 'vaccin', 'pediatr', '<DATE>', '<NUM>', '<NUM>', '<NUM>', '<NUM>', 'dipiramo', 'et', 'al', 'abcess', 'format', 'site', 'inocul', 'calmett', 'guerin', 'bacillu', 'bcg', 'riv', 'med', 'aeronaut', 'spaz', 'jul', '<DATE>', '<NUM>', '<NUM>', '<NUM>', '<NUM>', '<NUM>', 'vaccin', 'shock', 'caileba', 'et', 'al', 'shock', 'associ', 'dissemin', 'intravascular', 'coagul', 'syndrom', 'follow', 'inject', '<URL>', 'vaccin', 'prese', 'med', '<DATE>', '<NUM>', '<NUM>', '<DATE>', 'vaccin', 'weird', 'wild', 'hilari', 'citat', 'sometim', 'articl', 'publish', 'strangest', 'fact', 'relat', 'vaccin', 'defi', 'imagin', 'abil', 'understand', 'written', 'serious', 'well', 'mean', 'scientif', 'person', 'titl', 'seen', 'differ', 'funni', 'sad', 'pure', 'scientif', 'folli', 'see', 'figur', 'pathel', 'jc', 'et', 'al', 'tetanu', 'follow', 'vaccin', 'small', 'pox', 'j', 'pediatr', '<DATE>', '<NUM>', '<NUM>', '<NUM>', 'need', 'tetanu', 'vaccin', 'favez', 'g', 'tubercul', 'superinfect', 'follow', 'smallpox', 'vaccin', 'praxi', '<DATE>', '<NUM>', '<NUM>', '<NUM>', 'super', 'mean', 'larg', 'big', 'great', 'bonifacio', 'et', 'al', 'traffic', 'accid', 'express', 'iatrogen', 'damag', 'minerva', 'med', '<DATE>', '<NUM>', '<NUM>', '<NUM>', 'offic', 'vaccin', 'baker', 'j', 'et', 'al', 'accident', 'vaccinia', 'primari', 'inocul', 'scrotum', 'clin', 'pediatr', 'phila', '<DATE>', '<NUM>', '<NUM>', '<NUM>', 'ooop', 'needl', 'slip', 'edward', 'k', 'danger', 'sunburn', 'follow', 'vaccin', 'papua', 'new', 'guinea', 'med', 'j', '<DATE>', '<NUM>', '<NUM>', '<NUM>', 'vaccin', 'phototox', 'stroder', 'j', 'incorrect', 'therapi', 'children', 'folia', 'clin', 'int', 'barc', '<DATE>', '<NUM>', '<NUM>', '<NUM>', 'agre', 'wehrl', 'pf', 'injuri', 'associ', 'use', 'vaccin', 'clin', 'ther', '<DATE>', '<NUM>', '<NUM>', '<NUM>', '<NUM>', 'dah', 'albert', 'stop', 'iowa', 'med', '<DATE>', 'sep', '<NUM>', '<NUM>', '<NUM>', 'breiman', 'rf', 'zanca', 'ja', 'floor', 'ceil', 'defin', 'assur', 'commun', 'vaccin', 'safeti', 'j', 'public', 'health', '<DATE>', 'dec', '<NUM>', '<NUM>', '<DATE>', '<DATE>', 'floor', 'ceil', 'stewart', 'et', 'al', 'aetiolog', 'childhood', 'leukaemia', 'lancet', '<NUM>', 'oct', '<DATE>', '<NUM>', '<NUM>', '<NUM>', 'nelson', 'st', 'john', 'hutchinson', 'vaccin', 'syphili', 'hutchinson', 'j', 'arch', 'derm', 'chic', '<DATE>', '<NUM>', '<NUM>', '<NUM>', 'vaccin', 'std', 'mather', 'c', 'cotton', 'mather', 'anguish', 'consequ', 'son', 'inocul', 'smallpox', 'pediatr', '<DATE>', '<NUM>', '<NUM>', 'thoman', 'toxic', 'shot', 'syndrom', 'vet', 'hum', 'toxicol', '<DATE>', '<NUM>', '<NUM>', '<NUM>', '<NUM>', 'anim', 'exempt', 'vaccin', 'damag', 'either', 'johnson', 'rh', 'et', 'al', 'nosocomi', 'vaccinia', 'infect', 'west', 'j', 'med', '<DATE>', '<NUM>', '<NUM>', '<NUM>', '<NUM>', 'nosocomi', 'mean', 'diseas', 'acquir', 'doctor', 'offic', 'hospit', 'heed', 'jr', 'human', 'immun', 'rabi', 'vaccin', 'suckl', 'mice', 'brain', 'salud', 'publica', 'may', '<DATE>', '<NUM>', '<NUM>', '<NUM>', '<NUM>', 'suckl', 'mice', 'brain', 'today', 'tesov', 'g', 'et', 'al', 'asept', 'mening', 'measl', 'mump', 'rubella', 'vaccin', 'lancet', '<DATE>', '<NUM>', '<NUM>', '<NUM>', 'symptom', 'poliomyel', 'buddl', 'bm', 'et', 'al', 'contagi', 'ecthyma', 'viru', 'vaccin', 'failur', 'j', 'vet', 'research', '<DATE>', '<NUM>', '<NUM>', '<NUM>', '<NUM>', 'freter', 'r', 'et', 'al', 'oral', 'immun', 'product', 'coproantibodi', 'human', 'volunt', 'j', 'immunol', '<DATE>', '<NUM>', '<NUM>', '<NUM>', 'guess', 'copro', 'mean', 'fece', 'na', 'vaccin', '<DATE>', 'belg', 'geneesk', '<NUM>', '<NUM>', '<NUM>', 'sahadevan', 'mg', 'et', 'al', 'post', 'vaccin', 'myeliti', 'j', 'indian', 'med', 'ass', '<DATE>', '<NUM>', '<NUM>', '<NUM>', 'mention', 'myeliti', 'castan', 'p', 'et', 'al', 'coma', 'reveal', 'acut', 'leukosi', 'child', '<NUM>', 'day', 'oral', 'anti', 'poliomyel', 'vaccin', 'acta', 'neurol', 'bekg', '<DATE>', '<NUM>', '<NUM>', '<NUM>', 'coma', 'vaccin', 'stickl', 'h', 'et', 'al', 'purul', 'pu', 'meningitid', 'follow', 'smallpox', 'vaccin', 'problem', 'post', 'vaccin', 'decreas', 'resist', 'deutsch', 'med', 'wschr', '<DATE>', '<NUM>', '<NUM>', '<NUM>', 'vaccin', 'inject', 'virus', 'cultur', 'pu']"
        ],
        [
         "5",
         "reliable",
         "['spend', 'major', 'wake', 'hour', 'stare', 'contentedli', 'comput', 'smartphon', 'may', 'will', 'ignor', 'ocular', 'havoc', 'blue', 'light', 'electron', 'devic', 'caus', 'eyestrain', 'dryness', 'irrit', 'symptom', 'estim', '<NUM>', 'american', 'suffer', 'accord', 'optic', 'trade', 'group', 'vision', 'council', 'unabash', 'geek', 'happili', 'wraparound', 'game', 'glass', 'bright', 'yellow', 'lens']"
        ],
        [
         "6",
         "reliable",
         "['disclaim', 'gener', 'inform', 'law', 'topic', 'noth', 'diari', 'constitut', 'legal', 'advic', 'act', 'upon', 'legal', 'advic', 'need', 'advic', 'get', 'skill', 'profession', 'john', 'drake', 'carri', 'cash', 'part', 'atm', 'servic', 'busi', 'would', 'also', 'like', 'carri', 'handgun', 'finley', 'fenton', 'reserv', 'sheriff', 'deputi', 'want', 'carri', 'gun', 'self', 'protect', 'duti', 'individu', 'plaintiff', 'applic', 'also', 'deni', 'permit', 'two', 'gun', 'advocaci', 'group', 'also', 'name', 'plaintiff', 'associ', 'new', 'jersey', 'rifl', 'pistol', 'club', 'second', 'amend', 'foundat', 'defend', 'new', 'jersey', 'offici', 'refus', 'permit', 'applic', 'two', 'superior', 'court', 'judg', 'upheld', 'decis', 'seven', 'gun', 'advocaci', 'group', 'routin', 'file', 'recent', 'carri', 'case', 'file', 'amicu', 'friend', 'court', 'brief', 'support', 'plaintiff', 'new', 'jersey', 'law', 'new', 'jersey', 'may', 'issu', 'state', 'one', 'dozen', 'whose', 'offici', 'grant', 'deni', 'gun', 'carri', 'permit', 'broad', 'standard', 'show', 'need', 'good', 'caus', 'unlik', '<NUM>', 'state', 'new', 'jersey', 'constitut', 'version', 'second', 'amend', 'major', 'state', 'shall', 'issu', 'law', 'requir', 'offici', 'grant', 'carri', 'permit', 'certain', 'statutorili', 'specifi', 'condit', 'met', 'demonstr', 'safeti', 'awar', 'mayb', 'background', 'check', 'state', 'permit', 'requir', 'titl', '<NUM>', 'chapter', '<DATE>', 'criteria', 'issuanc', 'permit', 'carri', 'handgun', 'applic', 'permit', 'carri', 'handgun', 'shall', 'approv', 'polic', 'chief', 'municip', 'superintend', 'superior', 'court', 'unless', 'applic', '<NUM>', 'person', 'good', 'charact', 'subject', 'disabl', 'provid', 'chapter', '<NUM>', 'demonstr', 'time', 'applic', 'permit', 'thoroughli', 'familiar', 'safe', 'handl', 'use', 'handgun', '<NUM>', 'demonstr', 'justifi', 'need', 'carri', 'handgun', 'ital', 'ad', 'plaintiff', 'applic', 'say', 'case', 'present', 'two', 'second', 'amend', 'issu', '<NUM>', 'constitut', 'right', 'carri', 'handgun', 'outsid', 'one', 'home', 'self', 'defens', '<NUM>', 'state', 'new', 'jersey', 'requir', 'seek', 'permit', 'carri', 'handgun', 'prove', 'justifi', 'need', 'plaintiff', 'argu', 'new', 'jersey', 'carri', 'permit', 'must', 'renew', 'everi', 'two', 'year', 'offici', 'grant', '<NUM>', 'carri', 'permit', 'two', 'year', 'period', 'law', 'tantamount', 'public', 'carri', 'right', 'plaintiff', 'lawyer', 'alan', 'gura', 'well', 'known', 'second', 'amend', 'specialist', 'success', 'argu', 'heller', 'mcdonald', 'case', 'suprem', 'court', 'gura', 'quot', 'new', 'jersey', 'herald', 'say', 'drake', 'state', 'thumb', 'nose', 'suprem', 'court', 'decis', 'said', 'second', 'amend', 'carri', 'case', 'confront', 'ad', 'suprem', 'court', 'enforc', 'alreadi', 'pronounc', 'respect', 'mr', 'gura', 'argument', 'courtroom', 'statement', 'report', 'hyperbol', 'heller', 'mcdonald', 'case', 'suprem', 'court', 'explicitli', 'limit', 'rule', 'handgun', 'self', 'defens', 'one', 'home', 'settl', 'law', 'almost', 'six', 'year', 'new', 'jersey', 'judg', 'public', 'offici', 'shown', 'disrespect', 'us', 'suprem', 'court', 'rule', 'drake', 'applic', 'issu', 'argument', 'defend', 'new', 'jersey', 'allow', 'public', 'carri', 'albeit', 'sever', 'restrict', 'contend', 'second', 'question', 'court', 'justifi', 'need', 'aspect', 'question', 'settl', 'new', 'jersey', 'long', 'stand', 'polici', 'restrict', 'public', 'safeti', 'reason', 'public', 'carri', 'firearm', 'civilian', 'hand', 'third', 'circuit', 'court', 'appeal', 'state', 'new', 'jersey', 'judgment', 'individu', 'carri', 'handgun', 'public', 'defens', 'necessarili', 'expos', 'member', 'commun', 'somewhat', 'heighten', 'risk', 'injur', 'handgun', 'new', 'jersey', 'decid', 'somewhat', 'heighten', 'risk', 'public', 'may', 'outweigh', 'potenti', 'safeti', 'benefit', 'individu', 'justifi', 'need', 'carri', 'handgun', 'furthermor', 'new', 'jersey', 'decid', 'best', 'determin', 'individu', 'benefit', 'outweigh', 'increas', 'risk', 'commun', 'care', 'case', 'case', 'scrutini', 'applic', 'polic', 'court', 'opinion', 'district', 'court', 'court', 'appeal', 'found', 'appendic', 'drake', 'petit', 'certiorari', 'nra', 'view', 'amicu', 'file', 'nra', 'claim', 'first', 'question', 'total', 'resolv', 'case', 'carri', 'constitut', 'right', 'state', 'requir', 'show', 'need', 'absolutist', 'view', 'would', 'go', 'farther', 'even', 'heller', 'case', 'suprem', 'court', 'allow', 'room', 'host', 'presumpt', 'law', 'regulatori', 'measur', 'drake', 'petit', 'certiorari', 'request', 'bring', 'record', 'court', 'scotu', 'cert', 'grant', 'four', 'nine', 'suprem', 'court', 'justic', 'vote', 'confer', 'grant', 'brief', 'would', 'file', 'merit', 'next', 'sever', 'month', 'oral', 'argument', 'would', 'schedul', 'next', 'fall', '<NUM>', 'cert', 'request', 'made', 'nine', 'month', 'term', 'court', 'grant', 'argument', '<NUM>', 'case', 'rarest', 'except', 'justic', 'publicli', 'discuss', 'court', 'choos', 'hear', 'case', 'consider', 'bear', 'grant', 'cert', 'typic', 'compel', 'lower', 'feder', 'court', 'perhap', 'state', 'court', 'divid', 'certainli', 'carri', 'issu', 'nevertheless', 'scotu', 'declin', 'take', 'three', 'case', 'public', 'carri', 'within', 'last', 'year', '<NUM>', 'kachalski', 'v', 'cacac', 'challeng', 'new', 'york', 'proper', 'caus', 'standard', '<NUM>', 'woollard', 'v', 'gallagh', 'challeng', 'maryland', 'permit', 'law', 'requir', 'good', 'substanti', 'reason', '<NUM>', 'nra', 'v', 'mccraw', 'texa', 'also', 'rais', 'issu', 'whether', 'state', 'could', 'properli', 'bar', '<NUM>', '<NUM>', 'year', 'old', 'buy', 'gun', 'argument', 'may', 'issu', 'kachalski', 'woollard', 'drake', 'strict', 'administr', 'requir', 'caus', 'equival', 'grant', 'virtual', 'permit', 'issu', 'well', 'demand', 'standard', 'judg', 'may', 'issu', 'law', 'exampl', 'threshold', 'question', 'whether', 'second', 'amend', 'right', 'carri', 'first', 'place', 'case', 'come', 'scotu', 'past', 'pattern', 'accept', 'carri', 'case', 'necessarili', 'prologu', 'carri', 'case', 'come', 'feder', 'court', 'pipelin', 'possibl', 'bear', 'suprem', 'court', 'act', 'drake', 'next', 'come', 'review', 'like', 'peruta', 'v', 'counti', 'san', 'diego', 'california', 'law', 'allow', 'citi', 'counti', 'interpret', 'state', 'good', 'caus', 'standard', 'issu', 'conceal', 'carri', 'permit', 'choos', 'san', 'diego', 'counti', 'took', 'restrict', 'approach', 'requir', 'elabor', 'document', 'show', 'set', 'circumst', 'distinguish', 'applic', 'mainstream', 'caus', 'place', 'harm', 'way', 'edward', 'peruta', 'live', 'california', 'part', 'year', 'sever', 'applic', 'could', 'show', 'specif', 'threat', 'counti', 'sheriff', 'conclud', 'qualifi', 'carri', 'permit', 'feder', 'district', 'court', 'held', 'peruta', 'heller', 'stand', 'broad', 'proposit', 'conceal', 'weapon', 'ban', 'presumpt', 'constitut', 'next', 'question', 'case', 'constitution', 'statut', 'issu', 'level', 'scrutini', 'appli', 'strict', 'standard', 'court', 'use', 'decid', 'statut', 'compli', 'constitut', 'scotu', 'explicitli', 'left', 'undecid', 'heller', 'district', 'court', 'appli', 'intermedi', 'scrutini', 'find', 'counti', 'polici', 'favor', 'public', 'safeti', 'reduc', 'rate', 'gun', 'use', 'crime', 'reason', 'relat', 'signific', 'substanti', 'import', 'government', 'interest', 'moreov', 'govern', 'also', 'import', 'interest', 'reduc', 'number', 'conceal', 'handgun', 'public', 'disproportion', 'involv', 'life', 'threaten', 'crime', 'violenc', 'particularli', 'street', 'public', 'place', 'ninth', 'circuit', 'revers', 'hold', '<NUM>', '<NUM>', 'bear', 'arm', 'meant', 'carri', 'scotu', 'heller', 'decis', 'point', 'favor', 'allow', 'carri', 'purpos', 'confront', 'self', 'defens', 'court', 'declar', 'constitut', 'right', 'carri', 'conceal', 'weapon', 'public', 'strong', 'counti', 'applic', 'good', 'caus', 'restrict', 'matter', 'level', 'scrutini', 'appli', 'decis', 'three', 'panel', 'case', 'almost', 'feder', 'appel', 'court', 'decis', 'howev', 'lose', 'parti', 'ask', 'full', 'court', 'hear', 'case', 'en', 'banc', 'ninth', 'circuit', 'court', 'appeal', '<NUM>', 'judg', '<NUM>', 'senior', 'statu', 'reduc', 'workload', '<NUM>', 'avail', 'understand', 'practic', 'ninth', 'circuit', '<NUM>', 'judg', 'would', 'hear', 'en', 'banc', 'reargument', 'although', 'rare', 'grant', 'one', 'matter', 'got', 'complic', 'san', 'diego', 'counti', 'announc', 'would', 'appeal', 'plan', 'start', 'issu', 'carri', 'permit', 'decis', 'becam', 'final', 'prompt', 'california', 'attorney', 'gener', 'kamala', 'harri', 'petit', 'en', 'banc', 'review', 'state', 'california', 'parti', 'case', 'ask', 'interven', 'bradi', 'campaign', 'prevent', 'gun', 'violenc', 'jointli', 'california', 'polic', 'chief', 'associ', 'california', 'peac', 'offic', 'associ', '<DATE>', 'request', 'interven', 'en', 'banc', 'reconsider', 'remain', 'pend', 'took', 'three', 'year', 'peruta', 'case', 'get', 'us', 'district', 'court', 'decis', 'three', 'judg', 'ninth', 'circuit', 'decis', 'particular', 'reason', 'think', 'ninth', 'circuit', 'act', 'swiftli', 'observ', 'interest', 'facet', 'drake', 'case', 'unlik', 'state', 'new', 'jersey', 'statut', 'seem', 'distinguish', 'carri', 'firearm', 'openli', 'conceal', 'attorney', 'gura', 'argu', 'make', 'case', 'better', 'one', 'scotu', 'decid', 'involv', 'difficult', 'question', 'time', 'place', 'manner', 'restrict', 'carri', 'handgun', 'new', 'jersey', 'law', 'oper', 'without', 'distinct', 'conceal', 'open', 'carri', 'handgun', 'confus', 'question', 'manner', 'petition', 'might', 'exercis', 'right', 'avoid', 'whether', 'drake', 'purer', 'less', 'confus', 'case', 'debat', 'nj', 'court', 'discret', 'impos', 'type', 'condit', 'applic', 'argu', 'present', 'case', 'john', 'drake', 'case', 'wait', 'specul', 'abound', 'relist', 'third', 'time', 'current', 'suprem', 'court', 'seem', 'quit', 'will', 'accept', 'controversi', 'issu', 'justic', 'deter', 'strong', 'presenc', 'divers', 'state', 'right', 'polici', 'firearm', 'matter', 'even', 'almost', 'six', 'year', 'sinc', 'heller', 'scotu', 'still', 'reluct', 'enter', 'next', 'second', 'amend', 'rule', 'justic', 'await', 'anoth', 'case', 'possibl', 'peruta', 'one', 'major', 'justic', 'heller', 'waffl', 'make', 'other', 'worri', 'outcom', 'next', 'gun', 'right', 'case', 'cours', 'complet', 'specul', 'continu', 'begin', 'firearm', 'law', 'polici', 'newswir', 'servic', 'cover', 'gun', 'law', 'polici', 'news', 'countri', 'report', 'brief', 'sentenc', 'larg', 'full', 'diari', 'may', 'includ', 'home', 'state', 'perspect', 'simpli', 'report', 'current', 'news', 'shall', 'overcom', 'manag', 'editor', 'welcom', 'input', 'pleas', 'feel', 'free', 'post', 'link', 'comment', 'send', 'messag', 'firearm', 'law', 'polici', 'daili', 'ko', 'firearm', 'law', 'polici', 'group', 'studi', 'action', 'reduc', 'firearm', 'death', 'injuri', 'manner', 'consist', 'current', 'suprem', 'court', 'interpret', 'second', 'amend', 'would', 'like', 'write', 'firearm', 'law', 'pleas', 'send', 'us', 'kosmail', 'see', 'list', 'origin', 'republish', 'diari', 'go', 'firearm', 'law', 'polici', 'diari', 'list', 'click', '♥', 'word', 'follow', 'next', 'group', 'name', 'add', 'post', 'stream', 'use', 'link', 'next', 'heart', 'send', 'messag', 'group', 'question', 'would', 'like', 'join', 'break', 'news', 'morn', 'moment', 'ago', 'scotu', 'announc', 'deni', 'cert', 'drake', 'v', 'jerejian', 'pro', 'carri', 'folk', 'bum', 'next', 'case', 'probabl', 'peruta', 'ninth', 'circuit', 'california', 'come', 'consider']"
        ],
        [
         "7",
         "reliable",
         "['new', 'report', 'identifi', '<NUM>', 'epicent', 'worldwid', 'chang', 'climat', 'could', 'spark', 'conflict', 'nation', 'secur', 'establish', 'need', 'prepar', 'seri', 'global', 'crise', 'spark', 'climat', 'chang', 'group', 'expert', 'wrote', 'report', 'releas', 'today', 'analysi', 'center', 'climat', 'secur', 'identifi', '<NUM>', 'epicent', 'climat', 'chang', 'could', 'stress', 'global', 'secur', 'possibl', 'ignit', 'conflict', 'around', 'world', 'american', 'diplomat', 'militari', 'planner', 'alreadi', 'start', 'grappl', 'problem', 'link', 'get', 'enough', 'attent', 'expert', 'said', 'open', 'question', 'whether', 'trump', 'administr', 'confront', 'challeng', 'tri', 'ignor', 'think', 'know', 'answer', 'last', 'question', '<NUM>', 'epicent', '<NUM>', 'erod', 'sovereignti', 'climat', 'chang', 'make', 'harder', 'govern', 'provid', 'basic', 'necess', 'increas', 'likelihood', 'unrest', '<NUM>', 'water', 'tower', 'billion', 'peopl', 'depend', 'water', 'tower', 'mountain', 'cover', 'snow', 'ice', 'melt', 'feed', 'stream', 'river', 'water', 'grow', 'scarc', 'tension', 'rise', '<NUM>', 'atlanti', '<NUM>', 'low', 'lie', 'island', 'like', 'maldiv', 'may', 'disappear', 'altogeth', 'creat', 'refuge', 'crisi', '<NUM>', 'dire', 'strait', 'maritim', 'trade', 'rout', 'stress', 'chang', 'pattern', 'trade', 'climat', 'chang', 'creat', 'well', 'directli', 'panama', 'canal', 'exampl', 'use', 'fresh', 'water', 'move', 'ship', 'lock', '<NUM>', 'million', 'gallon', 'ship', '<NUM>', 'nuclear', 'climat', 'climat', 'chang', 'increas', 'nuclear', 'risk', '<NUM>', 'health', 'secur', 'climat', 'chang', 'may', 'increas', 'global', 'pandem', '<NUM>', 'coastal', 'megac', 'rapidli', 'grow', 'coastal', 'citi', 'world', 'may', 'flood', 'rise', 'sea', 'level', 'destabil', 'nation', '<NUM>', 'water', 'weapon', 'terrorist', 'alreadi', 'use', 'water', 'weapon', 'climat', 'chang', 'like', 'make', 'wors', '<NUM>', 'melt', 'arctic', 'vanish', 'ice', 'make', 'arctic', 'access', 'increas', 'likelihood', 'conflict', 'resourc', '<NUM>', 'fish', 'conflict', 'warm', 'ocean', 'increas', 'conflict', 'fish', 'stock', '<NUM>', 'coffe', 'conflict', 'global', 'trade', 'network', 'million', 'peopl', 'depend', 'disrupt', '<NUM>', 'migrat', 'displac', 'climat', 'chang', 'signific', 'grow', 'driver', 'migrat', 'displac', 'humanitarian', 'effect', 'climat', 'chang', 'massiv', 'said', 'say', 'humanitarian', 'consequ', 'like', 'spill', 'broader', 'secur', 'problem', 'speak', 'heart', 'world', 'organ', 'report', 'epicent', 'climat', 'secur', 'new', 'geostrateg', 'landscap', 'anthropocen', '<NUM>', 'page', 'pdf', 'introductori', 'video']"
        ],
        [
         "9",
         "fake",
         "['dear', 'reader', 'excit', 'announc', 'voic', 'russia', 'chang', 'name', 'move', 'new', 'websit', 'known', 'sputnik', 'news', 'agenc', 'radio', 'find', 'latest', 'stori', 'updat', '<URL>', 'pleas', 'updat', 'bookmark', 'stay', 'us']"
        ],
        [
         "11",
         "reliable",
         "['say', 'republican', 'want', 'privat', 'medicar', 'say', 'go', 'tri', 'make', 'day', 'sen', 'chuck', 'schumer', 'said', '|', 'getti', 'schumer', 'accus', 'gop', 'war', 'senior', 'share', 'facebook', 'share', 'twitter', 'futur', 'senat', 'democrat', 'leader', 'chuck', 'schumer', 'trot', 'new', 'messag', 'attack', 'donald', 'trump', 'congression', 'republican', 'tuesday', 'accus', 'gop', 'plot', 'war', 'senior', 'plan', 'repeal', 'obamacar', 'potenti', 'privat', 'medicar', 'face', 'swallow', 'rep', 'tom', 'price', 'r', 'ga', 'nomin', 'trump', 'secretari', 'health', 'human', 'servic', 'schumer', 'hope', 'unifi', 'democrat', 'opposit', 'privat', 'health', 'care', 'plan', 'senior', 'ralli', 'point', 'well', 'polit', 'shield', 'save', 'endang', 'democrat', 'senat', 'senat', 'democrat', 'defend', 'five', 'senat', 'seat', 'deepli', 'conserv', 'state', '<DATE>', 'schumer', 'vow', 'entir', 'caucu', 'oppos', 'effort', 'chang', 'current', 'singl', 'payer', 'medicar', 'system', 'senior', 'stori', 'continu', 'nomin', 'avow', 'medicar', 'oppon', 'republican', 'threaten', 'privat', 'medicar', 'clear', 'washington', 'republican', 'plot', 'war', 'senior', 'next', 'year', 'everi', 'senior', 'everi', 'american', 'hear', 'loudli', 'clearli', 'democrat', 'let', 'win', 'fight', 'schumer', 'said', 'democrat', 'blue', 'state', 'purpl', 'state', 'red', 'state', 'go', 'link', 'arm', 'arm', 'protect', 'medicar', 'senior', 'ensur', 'republican', 'succeed', 'put', 'senior', 'healthcar', 'risk', 'bid', 'make', 'chang', 'entitl', 'program', 'like', 'start', 'hous', 'hous', 'speaker', 'paul', 'ryan', 'r', 'wi', 'suggest', 'repeal', 'obamacar', 'pair', 'chang', 'program', 'like', 'medicar', 'price', 'likewis', 'list', 'medicar', 'reform', 'key', 'prioriti', 'republican', 'senat', 'major', 'leader', 'mitch', 'mcconnel', 'r', 'ky', 'declin', 'address', 'matter', 'tuesday', 'trump', 'voic', 'support', 'chang', 'medicar', 'privat', 'insur', 'program', 'given', 'lack', 'gop', 'uniti', 'issu', 'along', 'vote', 'strength', 'senior', 'medicar', 'offer', 'schumer', 'opportun', 'go', 'offens', 'democrat', 'crush', 'elect', 'day', 'democrat', 'retain', 'power', 'filibust', 'legisl', 'senat', 'republican', 'could', 'conceiv', 'forc', 'entitl', 'reform', 'via', 'budget', 'reconcili', 'allow', 'passag', 'legisl', 'simpl', 'major', 'would', 'far', 'difficult', 'schumer', 'congression', 'democrat', 'abl', 'mount', 'sustain', 'campaign', 'gop', 'war', 'senior', 'strategi', 'reminisc', 'war', 'women', 'messag', 'past', 'elect', 'cycl', 'well', 'parti', 'opposit', 'presid', 'georg', 'w', 'bush', 'effort', 'privat', 'social', 'secur', 'effort', 'fail', 'fail', 'say', 'republican', 'want', 'privat', 'medicar', 'say', 'go', 'tri', 'make', 'day', 'schumer', 'said']"
        ],
        [
         "12",
         "fake",
         "['look', 'like', 'use', 'ad', 'blocker', 'pleas', 'white', 'list', 'disabl', '<URL>', 'ad', 'block', 'tool', 'thank']"
        ],
        [
         "13",
         "fake",
         "['oppos', 'plan', 'parent', 'hood', 'follow', 'reprint', 'stopp', 'essay', 'oppos', 'plan', 'parenthood', 'plan', 'parenthood', 'benevol', 'organ', 'tri', 'strengthen', 'women', 'right', 'cold', 'calcul', 'group', 'intent', 'spread', 'humanist', 'religion', 'lure', 'children', 'web', 'premarit', 'sex', 'unlimit', 'abort', 'reduc', 'popul', 'minor', 'particula', 'fill', 'coffer', 'profit', 'sale', 'birth', 'control', 'devic', 'pp', 'come', 'parent', 'children', 'plan', 'parenthood', 'push', 'call', 'confidenti', 'servic', 'minor', 'mean', 'pp', 'provid', 'type', 'reproduct', 'servic', 'young', 'girl', 'includ', 'potenti', 'danger', 'prescript', 'medic', 'invas', 'surgeri', 'without', 'parent', 'knowledg', '<DATE>', '<DATE>', 'annual', 'report', 'pp', 'brag', 'unswerv', 'commit', 'confidenti', 'state', 'pp', 'assign', 'teen', 'code', 'name', 'pp', 'call', 'girl', 'home', 'pretend', 'girlfriend', 'recent', 'code', 'name', 'springfield', 'il', 'chicago', 'il', 'kingston', 'ny', 'heather', 'nanci', 'luci', 'respect', 'long', 'ago', '<DATE>', 'sunday', 'independ', 'newspap', 'wilk', 'barr', 'pa', 'report', 'plan', 'parenthood', 'transport', 'high', 'school', 'girl', 'town', 'school', 'hour', 'get', 'abort', 'without', 'parent', 'notifi', 'plan', 'parenthood', 'give', 'minor', 'girl', 'norplant', 'depo', 'provera', 'shot', 'even', 'abort', 'without', 'parent', 'knowledg', 'pp', 'oppos', 'teenag', 'sex', 'plan', 'parenthood', 'view', 'teenag', 'sex', 'wrong', 'pp', 'upset', 'sex', 'result', 'unwant', 'birth', 'plan', 'parenthood', 'sex', 'educ', 'program', 'tell', 'children', 'avoid', 'sex', 'rather', 'design', 'indoctrin', 'children', 'pp', 'call', 'respons', 'sexual', 'pp', 'mean', 'okay', 'kid', 'sex', 'long', 'avoid', 'pregnanc', 'get', 'pregnant', 'abort', 'former', 'pp', 'presid', 'fay', 'wattleton', 'confirm', 'lo', 'angel', 'time', '<DATE>', 'plan', 'parenthood', 'go', 'organ', 'promot', 'celibaci', 'chastiti', 'current', 'pp', 'presid', 'pamela', 'maraldo', 'articl', 'march', '<DATE>', 'issu', 'famili', 'plan', 'world', 'condemn', 'abstin', 'sex', 'ed', 'program', 'unaccept', 'endors', 'instead', 'posit', 'former', 'unit', 'state', 'surgeon', 'gener', 'joycelyn', 'elder', 'said', 'taught', 'children', 'driver', 'educ', 'front', 'seat', 'got', 'teach', 'back', 'seat', 'pp', 'spread', 'religion', 'human', 'plan', 'parenthood', 'dedic', 'spread', 'religi', 'doctrin', 'human', 'defin', 'humanist', 'manifesto', 'ii', 'pp', 'consist', 'refus', 'give', 'children', 'clear', 'messag', 'right', 'wrong', 'seek', 'educ', 'children', 'moral', 'valu', 'indoctrin', 'humanist', 'philosophi', 'proclaim', 'object', 'moral', 'code', 'right', 'wrong', 'decid', 'sole', 'individu', 'lo', 'angel', 'time', 'articl', 'quot', 'fay', 'wattleton', 'said', 'plan', 'parenthood', 'concern', 'convey', 'should', 'not', 'fear', 'moral', 'peopl', 'school', 'board', 'may', 'lead', 'school', 'teach', 'young', 'children', 'right', 'wrong', 'pamela', 'maraldo', 'said', 'articl', 'refer', 'must', 'bring', 'immedi', 'halt', 'aggress', 'infiltr', 'local', 'school', 'board', 'religi', 'right', 'school', 'program', 'endors', 'plan', 'parenthood', 'give', 'children', 'complet', 'inform', 'sex', 'children', 'given', 'moral', 'guidanc', 'pp', 'program', 'told', 'depend', 'feel', 'concept', 'absolut', 'right', 'wrong', 'may', 'embrac', 'peopl', 'world', 'reject', 'peopl', 'subscrib', 'religi', 'principl', 'recogn', 'suprem', 'author', 'life', 'set', 'divin', 'inspir', 'principl', 'behavior', 'must', 'condit', 'parent', 'support', 'stopp', 'among', 'latter', 'group', 'therefor', 'oppos', 'pp', 'program', 'teen', 'pp', 'pose', 'danger', 'women', 'plan', 'parenthood', 'run', 'busi', 'provid', 'birth', 'control', 'devic', 'custom', 'although', 'pp', 'offici', 'non', 'profit', 'organ', 'ir', 'regul', 'allow', 'make', 'profit', 'part', 'oper', 'pp', 'make', 'profit', 'sale', 'birth', 'control', 'devic', 'seem', 'oper', 'protect', 'incom', 'client', 'primari', 'exampl', 'provis', 'birth', 'control', 'pill', 'pill', 'long', 'major', 'incom', 'produc', 'pp', 'third', 'annual', 'aid', 'confer', 'washington', '<DATE>', 'dr', 'frank', 'plummer', 'kenya', 'medic', 'institut', 'report', 'oral', 'contracept', 'user', 'appear', 'less', 'resist', 'aid', 'non', 'user', 'still', 'pp', 'refus', 'get', 'teenag', 'girl', 'other', 'pill', 'famili', 'plan', 'perspect', 'vol', '<NUM>', '<NUM>', 'p', '<NUM>', 'report', 'women', 'seroposit', 'human', 'immunodefici', 'viru', 'hiv', 'use', 'pill', 'like', 'nonus', 'hiv', 'present', 'cervic', 'secret', 'may', 'like', 'infect', 'sexual', 'partner', 'agi', 'stori', 'goe', 'say', 'presenc', 'hiv', 'cervic', 'secret', 'nearli', '<NUM>', 'time', 'like', 'among', 'pill', 'user', 'among', 'non', 'user', 'still', 'pp', 'refus', 'tell', 'custom', 'get', 'pill', 'reduc', 'risk', 'aid', 'pp', 'realli', 'concern', 'women', 'would', 'stop', 'sell', 'pill', 'howev', 'would', 'mean', '<CUR>', '<NUM>', 'decreas', 'pp', 'incom', 'disregard', 'women', 'also', 'seen', 'plan', 'parenthood', 'handl', 'norplant', 'problem', '<DATE>', '<DATE>', 'numer', 'lawsuit', 'file', 'norplant', 'user', 'side', 'effect', 'implant', 'difficulti', 'remov', 'yet', 'pp', 'continu', 'make', 'devic', 'avail', 'still', 'implant', 'minor', 'without', 'parent', 'knowledg', 'continu', 'page', '<NUM>']"
        ],
        [
         "14",
         "fake",
         "['getti', 'nobl', 'fals', 'widow', 'spider', 'distinct', 'white', 'mark', 'fals', 'widow', 'spider', 'fearsom', 'fals', 'widow', 'spider', 'often', 'mistaken', 'much', 'danger', 'distant', 'cousin', 'black', 'widow', 'nobl', 'fals', 'widow', 'venom', 'three', 'type', 'fals', 'widow', 'speci', 'found', 'around', 'british', 'home', 'spider', 'venom', 'caus', 'localis', 'pain', 'minor', 'swell', 'extrem', 'case', 'nausea', 'bite', 'becom', 'infect', 'lead', 'gangren', 'like', 'infect', 'believ', 'fals', 'widow', 'first', 'import', 'britain', 'bunch', 'banana', 'nativ', 'homeland', 'madeira', 'canari', 'island', 'first', 'sight', 'nobl', 'fals', 'widow', '<NUM>', 'torquay', 'speci', 'sinc', 'spread', 'across', 'southern', 'england', 'fals', 'widow', 'spider', 'start', 'spread', 'northward', 'probabl', 'due', 'global', 'warm', 'colchest', 'borough', 'council', 'nobl', 'fals', 'widow', 'spider', 'left', 'rabbit', 'hutch', 'spider', 'top', 'right', 'cupboard', 'spider', 'spot', 'fals', 'widow', 'spider', 'nobl', 'fals', 'widow', 'spider', 'brown', 'shini', 'abdomen', 'distribut', 'white', 'mark', 'peopl', 'compar', 'skull', 'femal', 'rang', 'size', '<NUM>', 'mm', '<NUM>', 'mm', 'long', 'male', '<NUM>', 'mm', '<NUM>', 'mm', 'long', 'accord', 'british', 'arachnolog', 'societi', 'fals', 'widow', 'speci', 'nicknam', 'cupboard', 'spider', 'rabbit', 'hutch', 'spider', 'smaller', 'size', 'much', 'harmless', 'look', 'nobl', 'fals', 'widow', 'spider', 'dark', 'corner', 'hous', 'window', 'frame', 'well', 'garden', 'shed', 'uk', 'spider', 'invas', 'wed', '<DATE>', 'spider', 'season', 'begun', 'take', 'look', 'leggi', 'visitor', 'seen', 'scuttl', 'around', 'home', 'recent', 'play', 'slideshow', 'salli', 'ann', 'bunch', '<NUM>', '<NUM>', 'salli', 'ann', 'bunch', 'found', '<NUM>']"
        ],
        [
         "15",
         "reliable",
         "['san', 'francisco', 'california', 'eff', '\\xad', 'electron', 'frontier', 'foundat', 'eff', 'aclu', 'foundat', 'southern', 'california', 'aclu', 'socal', 'urg', 'california', 'highest', 'court', 'rule', 'licens', 'plate', 'data', 'collect', 'indiscrimin', 'million', 'driver', 'polic', 'across', 'state', 'investig', 'record', 'made', 'avail', 'public', 'eff', 'aclu', 'socal', 'argu', 'brief', 'file', 'today', 'california', 'suprem', 'court', 'citizen', 'need', 'access', 'autom', 'licens', 'plate', 'reader', 'alpr', 'record', 'understand', 'exactli', 'intrus', 'technolog', 'use', 'alpr', 'high', 'speed', 'camera', 'mount', 'light', 'pole', 'polic', 'car', 'continu', 'scan', 'plate', 'everi', 'pass', 'car', 'collect', 'licens', 'plate', 'number', 'also', 'time', 'date', 'locat', 'plate', 'scan', 'along', 'photograph', 'vehicl', 'sometim', 'occup', 'lo', 'angel', 'polic', 'depart', 'lapd', 'lo', 'angel', 'counti', 'sheriff', 'depart', 'lasd', 'collect', 'averag', 'three', 'million', 'plate', 'scan', 'everi', 'week', 'amass', 'databas', 'half', 'billion', 'record', 'eff', 'file', 'public', 'record', 'request', 'week', 'worth', 'alpr', 'data', 'agenc', 'along', 'aclu', 'socal', 'su', 'refus', 'releas', 'record', 'eff', 'aclu', 'socal', 'ask', 'state', 'suprem', 'court', 'overturn', 'arul', 'case', 'lower', 'court', 'said', 'licens', 'plate', 'data', 'collect', 'indiscrimin', 'without', 'suspicion', 'vehicl', 'driver', 'involv', 'crime', 'could', 'withheld', 'disclosur', 'record', 'law', 'enforc', 'investig', 'argument', 'tantamount', 'say', 'driver', 'lo', 'angel', 'crimin', 'investig', 'time', 'said', 'eff', 'senior', 'staff', 'attorney', 'jennif', 'lynch', 'rule', 'set', 'troubl', 'standard', 'would', 'allow', 'agenc', 'keep', 'alpr', 'data', 'public', 'could', 'also', 'allow', 'polic', 'keep', 'data', 'footag', 'surveil', 'technolog', 'bodi', 'camera', 'drone', 'face', 'recognit', 'ever', 'scrutin', 'driver', 'would', 'surpris', 'learn', 'investig', 'everi', 'time', 'drive', 'public', 'said', 'peter', 'bibr', 'director', 'polic', 'practic', 'aclu', 'socal', 'fourth', 'amend', 'ad', 'u', 'constitut', 'exactli', 'prevent', 'law', 'enforc', 'conduct', 'mass', 'suspicionless', 'investig', 'gener', 'warrant', 'target', 'specif', 'person', 'place', 'never', 'expir']"
        ],
        [
         "16",
         "reliable",
         "['mainstream', 'corpor', 'media', 'visibl', 'die', 'unit', 'state', 'around', 'world', 'problem', 'get', 'wors', 'anti', 'media', 'roll', 'new', 'project', 'homepag', 'independ', 'media', 'anti', 'media', 'new', 'homepag', 'read', '→']"
        ],
        [
         "18",
         "fake",
         "['express', 'home', 'daili', 'sunday', 'express']"
        ],
        [
         "19",
         "fake",
         "['news', 'governor', 'palin', 'today', 'tweet', 'sarahpalinusa', 'pall', 'around', 'terrorist', 'underst', 'case', 'war', 'women', 'whose', 'side', 'presid', 'obama', '<URL>']"
        ],
        [
         "20",
         "reliable",
         "['print', 'u', 'presid', 'elect', 'donald', 'trump', 'look', 'wilbur', 'ross', 'depart', 'meet', 'trump', 'nation', 'golf', 'club', 'bedminst', 'new', 'jersey', 'u', '<DATE>', 'reuter', 'mike', 'segar', 'wilbur', 'ross', '<NUM>', 'year', 'old', 'american', 'investor', 'special', 'distress', 'asset', 'name', 'commerc', 'secretari', 'donald', 'trump', 'new', 'administr', 'ross', 'previous', 'part', 'trump', 'campaign', 'econom', 'team', 'senior', 'advisor', 'trade', 'contribut', 'trump', '<NUM>', 'day', 'action', 'plan', 'billionair', 'investor', 'one', 'trump', 'earli', 'support', 'known', 'presid', 'elect', 'decad', 'famous', 'help', 'trump', 'avoid', 'bankruptci', '<DATE>', 'support', 'trump', 'hostil', 'stanc', 'free', 'trade', 'agreement', 'like', 'nafta', 'welcom', 'propos', 'drastic', 'cut', 'tax', 'corpor', 'believ', 'help', 'stimul', 'american', 'economi', 'ross', 'famous', 'known', 'king', 'bankruptci', 'big', 'fan', 'deregul', 'accus', 'anti', 'worker', 'busi', 'deal', 'elect', 'day', 'claim', 'hillari', 'clinton', 'presid', 'would', 'essenti', 'third', 'term', 'obama', 'push', 'us', 'recess', 'w', 'ith', 'net', 'worth', '<CUR>', '<NUM>', 'billion', 'ross', 'current', 'rank', '<NUM>', '<DATE>', 'forb', '<NUM>', 'list', 'began', 'career', 'rothschild', 'spend', 'next', 'twenti', 'five', 'year', 'work', 'bankruptci', 'restructur', 'go', 'found', 'wl', 'ross', 'co', '<DATE>', 'hold', 'bachelor', 'degre', 'yale', 'univers', 'mba', 'harvard', 'univers']"
        ],
        [
         "22",
         "fake",
         "['announc', '<DATE>', 'u', 'economi', 'grew', 'four', 'percent', 'annual', 'rate', 'second', 'quarter', '<DATE>', 'financi', 'analyst', 'wonder', 'feder', 'reserv', 'bank', 'end', 'earlier', 'expect', 'quantit', 'eas', 'interest', 'rate', 'suppress', 'engag', 'sinc', '<DATE>', 'accord', 'u', 'bureau', 'econom', 'analysi', 'bea', 'real', 'gross', 'domest', 'product', 'output', 'good', 'servic', 'produc', 'labor', 'properti', 'locat', 'unit', 'state', 'increas', 'annual', 'rate', '<NUM>', 'percent', 'second', 'quarter', '<DATE>', 'first', 'quarter', 'real', 'gdp', '<DATE>', '<NUM>', 'percent', 'revis', 'number', 'first', 'quarter', 'better', 'previous', 'announc', 'revis', 'estim', 'replac', '<NUM>', 'percent', 'decreas', 'gdp', 'bea', 'note', 'much', 'growth', 'attribut', 'chang', 'busi', 'inventori', 'rather', 'actual', 'market', 'sale', 'chang', 'real', 'privat', 'inventori', 'ad', '<NUM>', 'percentag', 'point', 'second', 'quarter', 'chang', 'real', 'gdp', 'subtract', '<NUM>', 'percentag', 'point', 'first', 'quarter', 'chang', 'privat', 'busi', 'increas', 'inventori', '<CUR>', '<NUM>', 'billion', 'second', 'quarter', 'follow', 'increas', '<CUR>', '<NUM>', 'billion', 'first', 'quarter', '<CUR>', '<NUM>', 'billion', 'fourth', 'quarter', '<DATE>', 'howev', 'anoth', 'part', 'reason', 'econom', 'growth', 'increas', 'spend', 'govern', 'sector', 'includ', 'state', 'local', 'govern', '<NUM>', 'percent', 'increas', 'second', 'quarter', 'sever', 'year', 'budget', 'cut', 'bea', 'also', 'announc', 'multi', 'year', 'revis', 'econom', 'growth', 'project', 'claim', 'new', 'analysi', 'show', 'lower', 'announc', 'growth', 'occur', '<DATE>', '<DATE>', 'higher', 'announc', 'growth', 'occur', '<DATE>', 'reuter', 'report', 'govern', 'rais', '<DATE>', 'third', 'quarter', 'growth', '<NUM>', 'percent', 'annual', 'pace', 'previou', '<NUM>', 'percent', 'growth', 'fourth', 'quarter', 'last', 'year', 'lift', '<NUM>', 'percent', 'annual', 'rate', 'previous', 'report', '<NUM>', 'percent', 'growth', '<DATE>', 'rais', '<NUM>', 'percent', '<NUM>', 'percent', 'lacklust', 'recoveri', 'averag', 'two', 'percent', 'real', 'gdp', 'growth', 'sinc', '<DATE>', 'compar', 'four', 'percent', 'annual', 'seven', 'year', '<DATE>', '<NUM>', 'recess', 'larg', 'result', 'much', 'lower', 'nation', 'save', 'rate', 'half', '<DATE>', 'level', 'lesser', 'extent', 'higher', 'govern', 'debt', 'load', 'doubl', '<DATE>', 'level', 'economi', 'appar', 'heat', 'littl', 'wall', 'street', 'journal', 'report', '<DATE>', 'debat', 'fed', 'turn', 'start', 'rais', 'interest', 'rate', 'last', 'survey', 'june', 'fed', 'offici', 'said', 'expect', 'wait', '<DATE>', 'move', 'gradual', 'rate', 'increas', 'begin', 'feder', 'reserv', 'bank', 'open', 'market', 'committe', 'offici', 'suppress', 'interest', 'rate', 'zero', 'sinc', '<DATE>', 'creat', 'money', 'given', 'bank', 'label', 'quantit', 'eas', 'qe', 'sinc', '<DATE>', 'previous', 'announc', 'creat', 'progress', 'lower', 'quantiti', 'money', 'month', 'yet', 'announc', 'end', 'date', 'new', 'money', 'creation', 'purchas', 'bank', 'financi', 'asset', 'mortgag', 'student', 'loan', 'open', 'market', 'feder', 'reserv', 'bank', 'money', 'creat', 'thin', 'air', 'direct', 'transfer', 'wealth', 'financi', 'sector', 'economi', 'particular', 'largest', 'bank', 'brokerag', 'hous', 'wall', 'street', 'even', 'current', 'reduc', 'rate', '<CUR>', '<NUM>', 'billion', 'per', 'month', 'stood', '<CUR>', '<NUM>', 'billion', 'per', 'month', 'qe', 'quit', 'possibl', 'largest', 'govern', 'corpor', 'welfar', 'scheme', 'human', 'histori', 'part', 'open', 'market', 'committe', 'chairman', 'janet', 'yellen', 'indic', 'believ', 'economi', 'heat', 'four', 'percent', 'annual', 'gdp', 'growth', 'committe', 'expect', 'appropri', 'polici', 'accommod', 'yellen', 'said', '<DATE>', 'written', 'statement', 'feder', 'reserv', 'bank', 'websit', 'econom', 'activ', 'expand', 'moder', 'pace', 'labor', 'market', 'indic', 'inflat', 'move', 'toward', 'level', 'committe', 'judg', 'consist', 'dual', 'mandat', 'statement', 'sound', 'free', 'market', 'economist', 'eerili', 'like', 'past', 'econom', 'prognost', 'previou', 'fed', 'chairmen', 'yellen', 'predecessor', 'ben', 'bernank', 'told', 'media', 'late', '<DATE>', 'overal', 'u', 'economi', 'seem', 'like', 'expand', 'moder', 'pace', 'second', 'half', '<DATE>', 'growth', 'strengthen', 'bit', '<DATE>', 'rate', 'close', 'economi', 'underli', 'trend', 'cours', 'time', 'great', 'recess', 'alreadi', 'begun', 'mani', 'free', 'market', 'economist', 'view', 'current', 'economi', 'bubbl', 'similar', 'one', '<DATE>', '<NUM>', 'readi', 'pop', 'feder', 'reserv', 'stop', 'buy', 'mortgag', 'student', 'loan', 'open', 'market', 'qe', 'let', 'interest', 'rate', 'rise', 'europacif', 'capit', 'presid', 'peter', 'schiff', 'told', 'yahoo', 'financ', '<DATE>', 'high', 'growth', 'rate', 'second', 'quarter', 'balanc', 'contract', 'first', 'quarter', 'bad', 'news', 'downhil', 'think', 'obviou', 'stimulu', 'wear', 'euphor', 'effect', 'cheap', 'money', 'even', 'though', 'cheap', 'money', 'still', 'effect', 'wear', 'although', 'schiff', 'ad', 'think', 'clear', 'economi', 'roll', 'believ', 'feder', 'reserv', 'offici', 'would', 'right', 'thing', 'let', 'market', 'forc', 'take', 'establish', 'financi', 'analyst', 'less', 'certain', 'fear', 'new', 'recess', 'economi', 'feder', 'reserv', 'cut', 'econom', 'stimulu', 'london', 'base', 'financi', 'time', 'warn', '<DATE>', 'outflow', 'deposit', 'would', 'revers', 'five', 'year', 'trend', 'seen', 'signific', 'amount', 'extra', 'cash', 'pour', 'bank', 'thank', 'fed', 'flood', 'financi', 'system', 'liquid', 'deposit', 'act', 'cheaper', 'sourc', 'fund', 'help', 'bank', 'weather', 'aftermath', 'financi', 'crisi', 'worri', 'deposit', 'fund', 'may', 'prove', 'fleet', 'fed', 'retreat', 'bank', 'might', 'pay', 'higher', 'rate', 'deposit', 'retain', 'custom', 'potenti', 'hit', 'profit', 'spark', 'price', 'war', 'client', 'fund', 'feder', 'reserv', 'polici', 'suppress', 'interest', 'rate', 'devast', 'impact', 'u', 'nation', 'save', 'rate', 'largest', 'factor', 'sustain', 'econom', 'growth', 'punish', 'saver', 'interest', 'rate', 'often', 'even', 'equal', 'rate', 'inflat', 'despit', 'fear', 'corpor', 'welfar', 'gravi', 'train', 'end', 'part', 'wall', 'street', 'bank', 'fat', 'cat', 'feder', 'reserv', 'bank', 'yet', 'announc', 'taper', '<CUR>', '<NUM>', 'billion', 'per', 'month', 'transfer', 'money', 'purchas', 'power', 'consum', 'big', 'bank', 'photo', 'feder', 'reserv', 'headquart', 'washington', 'c']"
        ],
        [
         "23",
         "fake",
         "['glasgow', 'scotland', '<DATE>', 'cecil', 'afrika', 'carri', 'south', 'african', 'flag', 'open', 'ceremoni', '<NUM>', 'commonwealth', 'game', 'celtic', 'park', '<DATE>', 'glasgow', 'scotland', 'getti', 'imag']"
        ],
        [
         "24",
         "fake",
         "['obergefel', 'gay', 'marriag', 'activist', 'label', 'caus', 'hate', 'bigot', 'obstruct', 'way', 'life', 'abil', 'express', 'ident', 'legal', 'protect', 'manner', 'way', 'obergefel', 'decis', 'confirm', 'complaint', 'yet', 'light', 'wholli', 'abhorr', 'increasingli', 'ghoulish', 'seri', 'video', 'center', 'medic', 'progress', 'slowli', 'releas', 'undercov', 'work', 'plan', 'parenthood', 'cultur', 'debat', 'standard', 'controversi', 'issu', 'especi', 'among', 'conserv', 'reach', 'histor', 'low', 'mainstream', 'media', 'respons', 'dismiss', 'apathet', 'pro', 'lifer', 'take', 'caus', 'renew', 'argument', 'defens', 'cannot', 'yet', 'defend', 'becom', 'modern', 'abolit', 'movement', 'echo', 'william', 'wilberforc', 'campaign', 'end', 'slaveri', 'continu', 'read', '→']"
        ],
        [
         "25",
         "fake",
         "['south', 'african', 'farmer', 'cruel', 'treatment', 'black', 'farm', 'worker', 'reader', 'think', 'stori', 'fact', 'add', 'two', 'cent', 'news', 'mistreat', 'black', 'farm', 'worker', 'boer', 'farmer', 'much', 'south', 'africa', 'hear', '<NUM>', 'year', 'old', 'thrown', 'bakki', 'north', 'west', 'man', 'put', 'coffin', 'aliv', 'man', 'thrown', 'lion', 'mani', 'stori', 'work', 'farm', 'game', 'reserv', 'first', 'hand', 'experi', 'farmer', 'treat', 'worker', 'hand', 'condemn', 'farm', 'murder', 'crime', 'target', 'farmer', 'think', 'farm', 'murder', 'target', 'crime', 'farmer', 'god', 'judgement', 'farmer', 'cruelti', 'mistreat', 'black', 'worker', 'south', 'african', 'farm', 'least', 'treat', 'worker', 'human', 'beat', 'worker', 'deliber', 'withdraw', 'wage', 'randomli', 'shot', 'peopl', 'reason', 'human', 'justic', 'good', 'farmer', 'worker', 'also', 'steal', 'deliber', 'destroy', 'properti', 'solut', 'racism', 'defend', 'right', 'condemn', 'wrong', 'race', 'total', 'right', 'total', 'wrong', 'racial', 'discrimin', 'menac', 'societi', 'racism', 'white', 'evil', 'racism', 'black', 'evil', 'side', 'race', 'side', 'right', 'condemn', 'unjust', 'defend', 'peac', 'love', 'collen', 'makumbirofa', 'email', 'makumbirofa', '<URL>', '<URL>', '<URL>', 'evad', 'govern', 'spi', 'use', 'protonmail', 'email', 'servic', 'provid', 'protect', 'encrypt', 'email', 'inform', 'privaci', 'merci', 'wick', 'left', 'vulner', 'pri', 'eye']"
        ],
        [
         "26",
         "fake",
         "['danni', 'gold', 'liberti', 'writer', 'report', 'democrat', 'gonna', 'fume', 'see', 'massiv', 'secret', 'jame', 'comey', 'told', 'senat', 'chuck', 'grassley', 'right', 'leav', 'today', 'releas', 'statement', 'senat', 'websit', 'chang', 'everyth', 'comey', 'told', 'senat', 'grassley', 'presid', 'trump', 'subject', 'fbi', 'russia', 'investig', 'articl', 'continu', 'read', 'sourc', 'credit', 'fair', 'use', '<URL>', 'follow', 'iwb', 'facebook', 'twitter', 'follow', 'investwatchblog', '<NUM>', 'view']"
        ],
        [
         "28",
         "fake",
         "['syrian', 'govern', 'soldier', 'back', 'fighter', 'popular', 'defens', 'group', 'manag', 'liber', 'strateg', 'high', 'ground', 'citi', 'aleppo', 'clutch', 'foreign', 'sponsor', 'milit', 'amid', 'attempt', 'flush', 'extremist', 'strateg', 'northwestern', 'citi', 'militari', 'sourc', 'told', 'offici', 'news', 'agenc', 'sana', 'govern', 'troop', 'took', 'hilltop', 'bazo', 'southern', 'edg', 'aleppo', 'near', 'militari', 'base', 'monday', 'sourc', 'said', 'govern', 'forc', 'captur', 'bazo', 'shell', 'nearbi', 'milit', 'posit', 'video', 'footag', 'releas', 'syrian', 'armi', 'show', 'tank', 'cannon', 'pound', 'milit', 'posit', 'troubl', 'area', 'call', 'syrian', 'observatori', 'human', 'right', 'sohr', 'also', 'confirm', 'govern', 'troop', 'captur', 'strateg', 'high', 'ground', 'milit', 'held', 'part', 'aleppo', 'sana', 'meanwhil', 'said', 'milit', 'shell', 'area', 'govern', 'control', 'western', 'aleppo', 'shell', 'kill', 'least', 'one', 'person', 'wound', 'seven', 'other', 'clash', 'syrian', 'govern', 'forc', 'milit', 'erupt', 'divid', 'citi', 'aleppo', 'unilater', 'ceasefir', 'announc', 'russia', 'syrian', 'govern', 'came', 'end', 'ceasefir', 'expir', 'saturday', 'even', 'one', 'day', 'extens', 'friday', 'truce', 'aim', 'permit', 'civilian', 'foreign', 'sponsor', 'milit', 'leav', 'eastern', 'area', 'citi', 'smoke', 'rise', 'report', 'milit', 'fire', 'build', 'western', 'govern', 'control', 'neighborhood', 'northwestern', 'syrian', 'citi', 'aleppo', '<DATE>', 'photo', 'afp', 'sergei', 'ryabkov', 'russian', 'deputi', 'foreign', 'minist', 'said', 'russia', 'consid', 'extens', 'ceasefir', 'syria', 'northwestern', 'citi', 'aleppo', 'question', 'renew', 'humanitarian', 'paus', 'relev', 'ryabkov', 'told', 'interfax', 'news', 'agenc', 'ad', 'last', 'three', 'day', 'need', 'happen', 'order', 'resum', 'oppon', 'need', 'make', 'sure', 'anti', 'govern', 'group', 'behav', 'properli', 'russian', 'diplomat', 'said', 'aleppo', 'divid', 'govern', 'forc', 'west', 'takfiri', 'terrorist', 'east', 'past', 'year', 'syrian', 'armi', 'vow', 'press', 'ahead', 'counter', 'terror', 'oper', 'drive', 'terrorist', 'major', 'posit', 'takfiri', 'milit', 'oper', 'syria', 'suffer', 'major', 'setback', 'past', 'month', 'syrian', 'armi', 'manag', 'liber', 'area']"
        ],
        [
         "30",
         "reliable",
         "['watch', 'bannon', 'brexit', 'vote', 'countri', 'back', 'take', 'back']"
        ],
        [
         "31",
         "reliable",
         "['white', 'hous', 'troll', 'particip', 'obamacareinthreeword', 'hashtag', 'game', 'may', 'photo', 'presid', 'signatur', 'bill', 'three', 'word', 'law', 'america', 'sinc', 'learn', 'three', 'word', 'necessarili', 'appli', 'whole', 'obamacar', 'though', 'also', 'law', 'employ', 'mandat', 'take', 'effect', '<DATE>', 'push', 'back', 'year', 'cap', 'pocket', 'medic', 'cost', 'also', 'delay', 'also', 'without', 'congression', 'approv', 'fact', 'report', 'publish', 'forb', 'yesterday', 'show', 'white', 'hous', 'miss', 'half', 'deadlin', 'legal', 'requir', 'afford', 'care', 'act', 'sen', 'ted', 'cruz', 'suggest', 'congress', 'delay', 'forev', 'look', 'prophet', 'everi', 'day', 'obama', 'admin', 'miss', '<NUM>', '<NUM>', 'obamacar', 'legal', 'impos', 'implement', 'deadlin', 'read', 'blog', '<URL>', 'ken', 'cuccinelli', 'kencuccinelli', '<DATE>', 'though', 'mani', 'deadlin', 'writer', 'avik', 'roy', 'call', 'bureaucrat', 'busywork', 'note', 'quit', 'rule', 'would', 'safeguard', 'privaci', 'medic', 'record', 'either', 'yet', 'develop', 'meaning', 'tardi', 'arriv', 'obama', 'effect', 'delay', 'obamacar', 'congress', '<URL>', 'blain', 'gravitt', 'blainegravitt', '<DATE>', 'non', 'partisan', 'cr', 'memo', 'show', 'white', 'hous', 'miss', 'half', 'deadlin', 'legal', 'requir', 'obamacar', '<URL>', 'reinc', 'priebu', 'reinc', '<DATE>', 'besid', 'miss', 'mark', 'cost', 'effect', 'care', 'obamacar', 'miss', 'deadlin', 'see', 'avik', 'forb', '<URL>', 'steve', 'forb', 'steveforbesceo', '<DATE>', 'obey', 'law', 'littl', 'peopl', 'obama', 'blow', 'legal', 'requir', 'deadlin', '<URL>', 'rc', 'richardcarv', '<DATE>', 'cr', 'half', 'obamacar', 'statutori', 'deadlin', 'miss', 'train', 'wreck', 'like', '<NUM>', 'car', 'pileup', 'rush', 'hour', '<URL>', 'ray', 'r', 'rrothfeldt', '<DATE>', '<URL>', 'news', 'legal', 'mandat', 'border', 'fenc', 'come']"
        ],
        [
         "32",
         "fake",
         "['scientist', 'move', 'doomsday', 'clock', 'ahead', '<NUM>', 'second', 'closest', 'apocalyps', 'sinc', '<DATE>', 'today', 'two', 'minut', 'midnight', 'headlin', 'bitcoin', 'blockchain', 'search', 'exceed', 'trump', 'blockchain', 'stock', 'next', 'desdemona', 'despair', 'lindsey', 'bever', 'sarah', 'kaplan', 'abbi', 'ohlheis', '<DATE>', 'washington', 'post', 'alexa', 'time', 'apocalyps', 'ulp', 'bulletin', 'atom', 'scientist', 'advanc', 'symbol', 'doomsday', 'clock', 'notch', 'closer', 'end', 'human', 'thursday', 'move', 'ahead', '<NUM>', 'second', 'organ', 'call', 'grim', 'assess', 'state', 'geopolit', 'affair', 'today', 'bulletin', 'presid', 'rachel', 'bronson', 'told', 'report', 'two', 'minut', 'midnight', 'move', 'clock', '<NUM>', 'second', 'closer', 'hour', 'apocalyps', 'group', 'cite', 'failur', 'presid', 'trump', 'world', 'leader', 'deal', 'loom', 'threat', 'nuclear', 'war', 'climat', 'chang', 'organ', 'whose', 'board', 'includ', '<NUM>', 'nobel', 'laureat', 'believ', 'world', 'danger', 'year', 'ago', 'threaten', 'sinc', 'world', 'war', 'ii', 'bulletin', 'offici', 'lawrenc', 'krauss', 'robert', 'rosner', 'wrote', 'op', 'ed', 'publish', 'thursday', 'washington', 'post', 'fact', 'doomsday', 'clock', 'close', 'midnight', 'today', '<DATE>', 'cold', 'war', 'fear', 'perhap', 'reach', 'highest', 'level', 'krauss', 'theoret', 'physicist', 'rosner', 'astrophysicist', 'ad', 'call', 'world', 'nuclear', 'situat', 'dire', 'underst', 'danger', 'immediaci', 'north', 'korea', 'nuclear', 'weapon', 'program', 'appear', 'make', 'remark', 'progress', '<DATE>', 'increas', 'risk', 'countri', 'region', 'unit', 'state', 'clock', 'metaphor', 'measur', 'humankind', 'proxim', 'global', 'catastroph', 'also', 'advanc', '<NUM>', 'second', 'last', 'year', '<NUM>', '½', 'minut', 'midnight', 'closest', 'apocalypt', 'hour', 'sinc', '<DATE>', 'unit', 'state', 'test', 'first', 'thermonuclear', 'devic', 'follow', 'month', 'later', 'soviet', 'union', 'hydrogen', 'bomb', 'test', 'thursday', 'announc', 'expert', 'said', 'one', 'direct', 'clock', 'could', 'possibl', 'move', 'given', 'recent', 'event', 'includ', 'north', 'korea', 'intercontinent', 'ballist', 'missil', 'test', 'nuclear', 'button', 'bigger', 'war', 'word', 'trump', 'north', 'korean', 'leader', 'kim', 'jong', 'un', 'think', 'would', 'hard', 'clock', 'not\\u200b', 'move', 'forward', 'alex', 'wellerstein', 'special', 'histori', 'nuclear', 'weapon', 'steven', 'institut', 'technolog', 'said', 'email', 'lead', 'announc', 'member', 'congress', 'white', 'hous', 'advis', 'even', 'presid', 'impli', 'think', 'war', 'nuclear', 'state', 'like', 'potenti', 'desir', 'unusu', 'disturb', 'question', 'much', 'forward', 'go', 'anoth', '<NUM>', 'second', 'exact', 'doomsday', 'clock', 'move', '<NUM>', 'minut', 'midnight', 'symbol', 'hour', 'apocalyps', 'lawrenc', 'krauss', 'robert', 'rosner', '<DATE>', 'washington', 'post', 'day', 'donald', 'trump', 'took', 'oath', 'offic', 'bulletin', 'atom', 'scientist', 'reset', 'doomsday', 'clock', '<NUM>', '½', 'minut', 'midnight', 'part', 'destabil', 'comment', 'threat', 'america', 'new', 'command', 'chief', 'one', 'year', 'later', 'move', 'clock', 'forward', '<NUM>', 'second', 'due', 'failur', 'presid', 'trump', 'world', 'leader', 'deal', 'loom', 'threat', 'nuclear', 'war', 'climat', 'chang', 'scienc', 'secur', 'board', 'bulletin', 'atom', 'scientist', 'assess', 'world', 'danger', 'year', 'ago', 'threaten', 'sinc', 'world', 'war', 'ii', 'fact', 'doomsday', 'clock', 'close', 'midnight', 'today', '<DATE>', 'cold', 'war', 'fear', 'perhap', 'reach', 'highest', 'level', 'call', 'world', 'nuclear', 'situat', 'dire', 'underst', 'danger', 'immediaci', 'north', 'korea', 'nuclear', 'weapon', 'program', 'appear', 'make', 'remark', 'progress', '<DATE>', 'increas', 'risk', 'countri', 'region', 'unit', 'state', 'failur', '<DATE>', 'secur', 'temporari', 'freez', 'north', 'korea', 'nuclear', 'develop', 'unsurpris', 'observ', 'downward', 'spiral', 'nuclear', 'rhetor', 'trump', 'north', 'korean', 'leader', 'kim', 'jong', 'un', 'north', 'korea', 'develop', 'nuclear', 'program', 'reverber', 'asia', 'pacif', 'neighbor', 'countri', 'review', 'secur', 'option', 'wide', 'countri', 'consid', 'cost', 'benefit', 'intern', 'framework', 'nonprolifer', 'treati', 'agreement', 'global', 'nuclear', 'risk', 'compound', 'u', 'russia', 'relat', 'featur', 'conflict', 'cooper', 'unit', 'state', 'russia', 'remain', 'odd', 'continu', 'militari', 'exercis', 'along', 'border', 'north', 'atlant', 'treati', 'organ', 'undermin', 'intermedi', 'rang', 'nuclear', 'forc', 'treati', 'upgrad', 'nuclear', 'arsen', 'eschew', 'arm', 'control', 'negoti', 'tension', 'south', 'china', 'sea', 'increas', 'pakistan', 'india', 'continu', 'build', 'ever', 'larger', 'arsen', 'nuclear', 'weapon', 'middl', 'east', 'uncertainti', 'continu', 'u', 'support', 'landmark', 'iranian', 'nuclear', 'deal', 'add', 'bleak', 'overal', 'pictur', 'relat', 'danger', 'rise', 'cyberthreat', 'target', 'nation', 'infrastructur', 'includ', 'power', 'grid', 'water', 'suppli', 'militari', 'system', 'climat', 'chang', 'front', 'danger', 'may', 'seem', 'less', 'immedi', 'risk', 'nuclear', 'annihil', 'avoid', 'catastroph', 'temperatur', 'increas', 'long', 'run', 'requir', 'urgent', 'attent', 'global', 'carbon', 'dioxid', 'emiss', 'yet', 'shown', 'begin', 'sustain', 'declin', 'toward', 'zero', 'must', 'occur', 'avoid', 'ever', 'greater', 'warm', 'nation', 'world', 'significantli', 'decreas', 'greenhous', 'ga', 'emiss', 'manag', 'even', 'climat', 'risk', 'accept', 'pari', 'accord', 'far', 'global', 'respons', 'fallen', 'far', 'short', 'meet', 'challeng', 'trump', 'administr', 'decis', 'essenti', 'turn', 'blind', 'eye', 'climat', 'chang', 'transpir', 'backdrop', 'worsen', 'climat', 'includ', 'exceedingli', 'power', 'hurrican', 'caribbean', 'part', 'north', 'america', 'extrem', 'heat', 'wave', 'australia', 'south', 'america', 'asia', 'europ', 'california', 'arctic', 'ice', 'cap', 'achiev', 'smallest', 'ever', 'winter', 'maximum', '<DATE>', 'last', 'week', 'data', '<DATE>', 'demonstr', 'continu', 'trend', 'except', 'global', 'warmth', 'believ', 'peril', 'world', 'secur', 'situat', 'describ', 'would', 'justifi', 'move', 'minut', 'hand', 'doomsday', 'clock', 'closer', 'midnight', 'also', 'real', 'threat', 'pose', 'fundament', 'breakdown', 'intern', 'order', 'danger', 'exacerb', 'recent', 'u', 'action', '<DATE>', 'unit', 'state', 'back', 'away', 'long', 'stand', 'leadership', 'role', 'world', 'reduc', 'commit', 'seek', 'common', 'ground', 'undermin', 'overal', 'effort', 'toward', 'solv', 'press', 'global', 'govern', 'challeng', 'neither', 'alli', 'adversari', 'abl', 'reliabl', 'predict', 'u', 'action', 'discern', 'sincer', 'u', 'pronounc', 'mere', 'rhetor', 'u', 'alli', 'need', 'reassur', 'american', 'intent', 'ever', 'instead', 'forc', 'negoti', 'thicket', 'conflict', 'polici', 'statement', 'administr', 'weaken', 'cadr', 'foreign', 'polici', 'profession', 'suffer', 'turnov', 'senior', 'leadership', 'led', 'undisciplin', 'disrupt', 'presid', 'administr', 'fail', 'develop', 'coordin', 'clearli', 'commun', 'coher', 'nuclear', 'polici', 'inconsist', 'constitut', 'major', 'challeng', 'deterr', 'allianc', 'manag', 'global', 'stabil', 'hope', 'reset', 'clock', 'interpret', 'exactli', 'meant', 'urgent', 'warn', 'global', 'danger', 'time', 'world', 'leader', 'address', 'loom', 'nuclear', 'danger', 'continu', 'march', 'climat', 'chang', 'long', 'past', 'time', 'citizen', 'world', 'demand', 'action', 'time', 'rewind', 'doomsday', 'clock', 'close', 'doomsday', 'today', 'cold', 'war', 'washington', 'c', '<DATE>', 'bulletin', 'atom', 'scientist', 'cite', 'grow', 'nuclear', 'risk', 'uncheck', 'climat', 'danger', 'icon', 'doomsday', 'clock', '<NUM>', 'second', 'closer', 'midnight', 'closest', 'symbol', 'point', 'annihil', 'clock', 'sinc', '<DATE>', 'height', 'cold', 'war', 'decis', 'announc', 'today', 'move', 'doomsday', 'clock', 'two', 'minut', 'midnight', 'made', 'bulletin', 'atom', 'scientist', 'scienc', 'secur', 'board', 'consult', 'board', 'sponsor', 'includ', '<NUM>', 'nobel', 'laureat', 'full', 'text', 'doomsday', 'clock', 'statement', 'avail', '<URL>', 'includ', 'key', 'recommend', 'rewindthedoomsdayclock', 'video', 'doomsday', 'clock', 'announc', 'nation', 'press', 'club', 'washington', 'c', 'avail', '<URL>', 'bulletin', 'atom', 'scientist', 'facebook', 'page', '<URL>', 'statement', 'explain', 'reset', 'time', 'doomsday', 'clock', 'note', '<DATE>', 'world', 'leader', 'fail', 'respond', 'effect', 'loom', 'threat', 'nuclear', 'war', 'climat', 'chang', 'make', 'world', 'secur', 'situat', 'danger', 'year', 'ago', 'danger', 'sinc', 'world', 'war', 'ii', 'greatest', 'risk', 'last', 'year', 'aros', 'nuclear', 'realm', 'north', 'korea', 'nuclear', 'weapon', 'program', 'appear', 'make', 'remark', 'progress', '<DATE>', 'increas', 'risk', 'countri', 'region', 'unit', 'state', 'hyperbol', 'rhetor', 'provoc', 'action', 'side', 'increas', 'possibl', 'nuclear', 'war', 'accid', 'miscalcul', 'climat', 'chang', 'front', 'danger', 'may', 'seem', 'less', 'immedi', 'avoid', 'catastroph', 'temperatur', 'increas', 'long', 'run', 'requir', 'urgent', 'attent', 'nation', 'world', 'significantli', 'decreas', 'greenhous', 'ga', 'emiss', 'keep', 'climat', 'risk', 'manag', 'far', 'global', 'respons', 'fallen', 'far', 'short', 'meet', 'challeng', 'fuel', 'concern', 'potenti', 'nuclear', 'holocaust', 'rang', 'u', 'russian', 'militari', 'entangl', 'south', 'china', 'sea', 'tension', 'escal', 'rhetor', 'pakistan', 'india', 'uncertainti', 'continu', 'u', 'support', 'iran', 'nuclear', 'deal', 'contribut', 'risk', 'nuclear', 'non', 'nuclear', 'clash', 'around', 'globe', 'rise', 'nation', 'state', 'inform', 'technolog', 'internet', 'base', 'campaign', 'attack', 'infrastructur', 'free', 'elect', 'accord', 'statement', 'also', 'highlight', 'overarch', 'global', 'concern', 'declin', 'u', 'leadership', 'relat', 'demis', 'diplomaci', 'trump', 'administr', 'also', 'breakdown', 'intern', 'order', 'danger', 'exacerb', 'recent', 'u', 'action', '<DATE>', 'unit', 'state', 'back', 'away', 'longstand', 'leadership', 'role', 'world', 'reduc', 'commit', 'seek', 'common', 'ground', 'undermin', 'overal', 'effort', 'toward', 'solv', 'press', 'global', 'govern', 'challeng', 'neither', 'alli', 'adversari', 'abl', 'reliabl', 'predict', 'u', 'action', 'understand', 'u', 'pronounc', 'real', 'mere', 'rhetor', 'intern', 'diplomaci', 'reduc', 'name', 'call', 'give', 'surrealist', 'sens', 'unreal', 'make', 'world', 'secur', 'situat', 'ever', 'threaten', '<DATE>', 'doomsday', 'clock', 'minut', 'hand', 'edg', 'forward', '<NUM>', 'second', 'two', 'half', 'minut', 'midnight', 'first', 'time', 'doomsday', 'clock', 'influenc', 'statement', 'incom', 'u', 'presid', 'donald', 'trump', 'regard', 'prolifer', 'prospect', 'actual', 'use', 'nuclear', 'weapon', 'well', 'statement', 'made', 'opposit', 'u', 'commit', 'regard', 'climat', 'chang', 'rachel', 'bronson', 'presid', 'ceo', 'bulletin', 'atom', 'scientist', 'said', 'extraordinari', 'danger', 'current', 'moment', 'scienc', 'secur', 'board', 'today', 'move', 'minut', 'hand', 'doomsday', 'clock', '<NUM>', 'second', 'closer', 'catastroph', 'two', 'minut', 'midnight\\xad\\xad\\xad\\xad', 'closest', 'clock', 'ever', 'doomsday', 'close', '<DATE>', 'height', 'cold', 'war', 'lawrenc', 'krauss', 'director', 'origin', 'project', 'arizona', 'state', 'univers', 'foundat', 'professor', 'school', 'earth', 'space', 'explor', 'physic', 'depart', 'arizona', 'state', 'univers', 'chair', 'bulletin', 'atom', 'scientist', 'board', 'sponsor', 'said', 'current', 'extrem', 'danger', 'state', 'world', 'affair', 'need', 'perman', 'mean', 'manag', 'danger', 'technolog', 'reduc', 'global', 'scale', 'risk', 'exist', 'inde', 'mani', 'well', 'known', 'within', 'societi', 'reach', 'leader', 'pay', 'reason', 'attent', 'preserv', 'long', 'term', 'prospect', 'human', 'citizen', 'demand', 'danger', 'time', 'danger', 'make', 'humankind', 'invent', 'implement', 'apocalyps', 'invent', 'method', 'control', 'eventu', 'elimin', 'year', 'leader', 'citizen', 'world', 'move', 'doomsday', 'clock', 'world', 'away', 'metaphor', 'midnight', 'global', 'catastroph', 'take', 'common', 'sens', 'action', 'robert', 'rosner', 'william', 'e', 'wrather', 'distinguish', 'servic', 'professor', 'depart', 'astronomi', 'astrophys', 'physic', 'univers', 'chicago', 'chair', 'bulletin', 'atom', 'scientist', 'scienc', 'secur', 'board', 'said', 'hope', 'reset', 'clock', 'interpret', 'exactli', 'meant', 'urgent', 'warn', 'global', 'danger', 'time', 'world', 'leader', 'address', 'loom', 'nuclear', 'danger', 'continu', 'march', 'climat', 'chang', 'long', 'past', 'time', 'citizen', 'world', 'demand', 'action', 'rewindthedoomsdayclock', 'sharon', 'squassoni', 'research', 'professor', 'practic', 'institut', 'intern', 'scienc', 'technolog', 'polici', 'elliott', 'school', 'intern', 'affair', 'georg', 'washington', 'univers', 'bulletin', 'atom', 'scientist', 'scienc', 'secur', 'board', 'said', 'past', 'year', 'u', 'alli', 'need', 'reassur', 'american', 'intent', 'ever', 'instead', 'forc', 'negoti', 'thicket', 'conflict', 'polici', 'statement', 'u', 'administr', 'weaken', 'cadr', 'foreign', 'polici', 'profession', 'suffer', 'turnov', 'senior', 'leadership', 'led', 'undisciplin', 'disrupt', 'presid', 'unabl', 'develop', 'coordin', 'clearli', 'commun', 'coher', 'nuclear', 'polici', 'inconsist', 'constitut', 'major', 'challeng', 'deterr', 'allianc', 'manag', 'global', 'stabil', 'made', 'exist', 'nuclear', 'risk', 'greater', 'necessari', 'ad', 'complex', 'sivan', 'kartha', 'senior', 'scientist', 'stockholm', 'environment', 'institut', 'co', 'leader', 'sei', 'gender', 'social', 'equiti', 'program', 'bulletin', 'atom', 'scientist', 'scienc', 'secur', 'board', 'said', '<DATE>', 'clock', 'hottest', 'year', 'record', 'boost', 'el', 'nino', 'match', 'wit', 'ground', 'caribbean', 'suffer', 'season', 'histor', 'damag', 'exceedingli', 'power', 'hurrican', 'extrem', 'heat', 'wave', 'struck', 'across', 'globe', 'arctic', 'ice', 'cap', 'hit', 'lowest', 'winter', 'peak', 'record', 'u', 'suffer', 'devast', 'wildfir', 'happen', 'trump', 'administr', 'duti', 'carri', 'campaign', 'promis', 'derail', 'u', 'climat', 'polici', 'put', 'avow', 'climat', 'denialist', 'top', 'cabinet', 'posit', 'announc', 'plan', 'withdraw', 'pari', 'climat', 'agreement', 'thank', 'caus', 'global', 'cooper', 'unravel', 'countri', 'reaffirm', 'commit', 'take', 'action', 'climat', 'chang', 'rewindthedoomsdayclock', 'major', 'messag', '<DATE>', 'statement', 'follow', 'action', 'step', 'among', 'recommend', 'u', 'presid', 'donald', 'trump', 'refrain', 'provoc', 'rhetor', 'regard', 'north', 'korea', 'recogn', 'imposs', 'predict', 'north', 'korean', 'reaction', 'u', 'north', 'korean', 'govern', 'open', 'multipl', 'channel', 'commun', 'world', 'commun', 'pursu', 'short', 'term', 'goal', 'cessat', 'north', 'korea', 'nuclear', 'weapon', 'ballist', 'missil', 'test', 'north', 'korea', 'countri', 'violat', 'norm', 'nuclear', 'test', '<NUM>', 'year', 'trump', 'administr', 'abid', 'term', 'joint', 'comprehens', 'plan', 'action', 'iran', 'nuclear', 'program', 'unless', 'credibl', 'evid', 'emerg', 'iran', 'compli', 'agreement', 'iran', 'agre', 'altern', 'approach', 'meet', 'u', 'nation', 'secur', 'need', 'unit', 'state', 'russia', 'discuss', 'adopt', 'measur', 'prevent', 'peacetim', 'militari', 'incid', 'along', 'border', 'nato', 'u', 'russian', 'leader', 'return', 'negoti', 'tabl', 'resolv', 'differ', 'inf', 'treati', 'seek', 'reduct', 'nuclear', 'arm', 'discuss', 'lower', 'alert', 'statu', 'nuclear', 'arsen', 'countri', 'limit', 'nuclear', 'modern', 'program', 'threaten', 'creat', 'new', 'nuclear', 'arm', 'race', 'ensur', 'new', 'tactic', 'low', 'yield', 'nuclear', 'weapon', 'built', 'exist', 'tactic', 'weapon', 'never', 'use', 'battlefield', 'u', 'citizen', 'demand', 'legal', 'way', 'climat', 'action', 'govern', 'climat', 'chang', 'real', 'seriou', 'threat', 'human', 'govern', 'around', 'world', 'redoubl', 'effort', 'reduc', 'greenhous', 'ga', 'emiss', 'go', 'well', 'beyond', 'initi', 'inadequ', 'pledg', 'pari', 'agreement', 'intern', 'commun', 'establish', 'new', 'protocol', 'discourag', 'penal', 'misus', 'inform', 'technolog', 'undermin', 'public', 'trust', 'polit', 'institut', 'media', 'scienc', 'exist', 'object', 'realiti', 'contact', 'patrick', 'mitchel', '<NUM>', '<NUM>', '<NUM>', 'pmitchel', '<URL>', 'alex', 'frank', '<NUM>', '<NUM>', '<NUM>', 'andafrank', '<URL>', '<NUM>', 'minut', 'midnight', 'sourc', '<URL>']"
        ],
        [
         "34",
         "fake",
         "['poll', 'call', 'war', 'isra', 'palestinian', 'skyrocket', 'due', 'trump', 'jerusalem', 'deceler', 'reader', 'think', 'stori', 'fact', 'add', 'two', 'cent', 'headlin', 'bitcoin', 'blockchain', 'search', 'exceed', 'trump', 'blockchain', 'stock', 'next', 'isra', 'palestinian', 'alway', 'cusp', 'war', 'trump', 'declar', 'jerusalem', 'capit', 'israel', 'appear', 'side', 'readi', 'final', 'pull', 'trigger', 'figur', 'liter', 'time', 'israel', 'report', 'joint', 'poll', 'publish', 'tami', 'steinmetz', 'center', 'peac', 'research', 'tsc', 'tel', 'aviv', 'univers', 'palestinian', 'center', 'polici', 'survey', 'research', 'ramallah', 'show', 'palestinian', 'israel', 'favor', 'go', 'war', 'one', 'anoth', 'ever', 'consist', 'major', 'popul', 'accord', 'poll', 'support', 'war', 'almost', 'doubl', 'among', 'palestinian', 'militari', 'solut', 'among', 'isra', 'skyrocket', 'almost', '<NUM>', 'percent', 'time', 'israel', 'report', 'open', 'seek', 'peac', 'solut', 'dramat', 'ask', 'happen', 'next', '<NUM>', 'percent', 'palestinian', 'chose', 'option', 'peac', 'deal', 'stagger', 'declin', '<NUM>', 'last', 'june', 'thirti', 'eight', 'percent', 'support', 'arm', 'struggl', '<NUM>', 'previou', 'survey', 'similar', 'less', 'extrem', 'trend', 'seen', 'among', 'isra', 'jew', 'thirti', 'eight', 'percent', 'said', 'peac', 'deal', 'sought', '<NUM>', 'six', 'month', 'ago', 'percentag', 'support', 'decis', 'militari', 'offens', 'end', 'conflict', 'increas', '<NUM>', '<NUM>', 'expert', 'point', 'trump', 'jerusalem', 'declar', 'reason', 'call', 'violenc', 'risen', 'call', 'violenc', 'among', 'palestinian', 'group', 'noth', 'new', 'howev', 'terrorist', 'organ', 'call', 'violenc', 'sinc', 'trump', 'made', 'jerusalem', 'declar', 'includ', 'leader', 'hama', 'said', 'want', 'make', 'trump', 'regret', 'decis', 'post', 'poll', 'call', 'war', 'isra', 'palestinian', 'skyrocket', 'due', 'trump', 'jerusalem', 'deceler', 'appear', 'first', 'redstat', 'sourc', '<URL>']"
        ],
        [
         "35",
         "reliable",
         "['texa', 'lt', 'gov', 'dan', 'patrick', 'said', 'friday', 'state', 'would', 'give', 'feder', 'educ', 'fund', 'order', 'avoid', 'compli', 'gender', 'equiti', 'law', 'titl', 'ix', 'tran', 'student', 'treat', '<URL>', 'titl', 'ix', '<NUM>', 'titl', 'ix', 'landmark', 'feder', 'civil', 'right', 'prohibit', 'sex', 'discrimin', 'educ', 'titl', 'ix', 'sport', 'prohibit', 'sex', 'base', 'discrimin', 'educ', 'address', 'discrimin', 'pregnant', 'parent', 'student', 'women', 'stem', 'scienc', 'technolog', 'engin', 'math', 'program', 'also', 'address', 'sexual', 'harass', 'gender', 'base', 'discrimin', 'sexual', 'violenc', 'sexual', 'violenc', 'includ', 'attempt', 'complet', 'rape', 'sexual', 'assault', 'well', 'sexual', 'harass', 'stalk', 'voyeur', 'exhibition', 'verbal', 'physic', 'sexual', 'base', 'threat', 'abus', 'intim', 'partner', 'violenc', '<NUM>', 'titl', 'ix', 'appli', 'femal', 'student', 'titl', 'ix', 'protect', 'person', 'sex', 'base', 'discrimin', 'regardless', 'real', 'perceiv', 'sex', 'gender', 'ident', 'gender', 'express', 'femal', 'male', 'gender', 'non', 'conform', 'student', 'faculti', 'staff', 'protect', 'sex', 'base', 'discrimin', 'harass', 'violenc', '<NUM>', 'school', 'must', 'proactiv', 'ensur', 'campu', 'free', 'sex', 'discrimin', 'protect', 'titl', 'ix', 'even', 'experi', 'sex', 'discrimin', 'directli', 'school', 'must', 'take', 'immedi', 'step', 'address', 'sex', 'discrimin', 'sexual', 'harass', 'sexual', 'violenc', 'campu', 'prevent', 'affect', 'student', 'school', 'know', 'reason', 'know', 'discrimin', 'harass', 'violenc', 'creat', 'hostil', 'environ', 'student', 'must', 'act', 'elimin', 'remedi', 'harm', 'caus', 'prevent', 'recurr', '<URL>', 'texa', 'colleg', 'footbal', 'team', 'let', 'transgend', 'student', 'go', 'bathroom', 'choic', 'colleg', 'complianc', 'titl', 'ix', 'allow', 'home', 'footbal', 'game', 'non', 'titl', 'ix', 'compliant', 'texa', 'team', 'expect', 'keep', 'feder', 'fund', 'colleg', 'must', 'prevent', 'sex', 'discrimin', 'campu', 'even', 'team', 'footbal', 'team', 'given', 'popular', 'footbal', 'texa', 'imagin', 'mani', 'parent', 'angri', 'son', 'texa', 'colleg', 'footbal', 'scholarship', 'let', 'son', 'play', 'footbal', 'state', 'colleg', 'theirbi', 'drastic', 'effect', 'son', 'chanc', 'make', 'pro', 'footbal', 'team', 'next', 'imagin', 'mani', 'texa', 'footbal', 'coach', 'get', 'angri', 'best', 'player', 'suddenli', 'take', 'offer', 'play', 'footbal', 'state', 'colleg', 'want', 'better', 'odd', 'play', 'play', 'pro', 'ball', 'mani', 'colleg', 'make', 'money', 'colleg', 'footbal', 'team', 'mani', 'look', 'year', 'rebuild', 'championship', 'colleg', 'team', 'scratch', 'take', 'get', 'texa', 'compli', 'littl', 'pressur', 'appli', 'pressur', 'appli', 'help', 'dem', 'elect', 'show', 'strength', 'win', 'conserv', 'vote', 'idea', 'either', 'texa', 'back', 'elect', 'help', 'us', 'win', 'elect', 'fall', 'texa', 'footbal', 'season', 'disappoint', 'given', 'trump', 'expect', 'lose', 'matter', 'run', 'texa', 'parent', 'colleg', '<NUM>', 'year', 'chang', 'texa', 'blue', 'least', 'chang', 'texa', 'bathroom', 'polici', 'texa', 'gop', 'need', 'issu', 'go', 'away', 'quietli', 'elect', 'assum', 'white', 'hous', 'stone', 'go', 'forward', 'avoid', 'compromis']"
        ],
        [
         "36",
         "fake",
         "['gate', 'head', 'asia', 'shore', 'us', 'posit', 'us', 'defens', 'secretari', 'robert', 'gate', 'left', 'asia', 'week', 'attend', 'annual', 'secur', 'confer', 'singapor', 'held', 'friday', 'saturday', 'level', 'region', 'defens', 'minist', 'us', 'defens', 'secretari', 'robert', 'gate', 'left', 'asia', 'week', 'attend', 'annual', 'secur', 'confer', 'singapor', 'held', 'friday', 'saturday', 'level', 'region', 'defens', 'minist', 'annual', 'secur', 'confer', 'singapor', 'call', 'shangri', 'la', 'dialogu', 'get', 'name', 'shangri', 'la', 'hotel', 'citi', 'meet', 'held', 'bring', 'top', 'offici', 'expert', 'across', 'asia', 'pacif', 'region', 'past', 'year', 'event', 'domin', 'us', 'concern', 'china', 'perceiv', 'militari', 'buildup', 'year', 'death', 'toll', 'ten', 'thousand', 'peopl', 'earthquak', 'china', 'cyclon', 'myanmar', 'like', 'highlight', 'need', 'greater', 'region', 'cooper', 'us', 'doubt', 'china', 'intent', 'diminish', 'us', 'secretari', 'defens', 'larg', 'taken', 'congeni', 'approach', 'toward', 'beij', 'predecessor', 'donald', 'rumsfeld', 'view', 'region', 'hawk', 'gate', 'exampl', 'recent', 'caution', 'us', 'militari', 'call', 'next', 'war', 'argu', 'like', 'face', 'irregular', 'conflict', 'like', 'iraq', 'afghanistan', 'convent', 'war', 'near', 'peer', 'state', 'like', 'china', 'russia', 'time', 'pentagon', 'chief', 'encourag', 'us', 'militari', 'strengthen', 'defens', 'tie', 'region', 'power', 'like', 'india', 'indonesia', 'hedg', 'china', 'overal', 'us', 'administr', 'offici', 'need', 'intric', 'balanc', 'act', 'matter', 'need', 'clear', 'washington', 'consciou', 'perceiv', 'china', 'militari', 'threat', 'time', 'need', 'avoid', 'provok', 'confront', 'china', 'time', 'us', 'tie', 'iraq', 'afghanistan', 'china', 'tri', 'cope', 'aftermath', 'devast', 'earthquak', 'yet', 'senior', 'us', 'militari', 'offici', 'stress', 'repeatedli', 'past', 'year', 'china', 'done', 'enough', 'put', 'rest', 'us', 'concern', 'militari', 'modern', 'annual', 'pentagon', 'report', 'congress', 'said', 'china', 'develop', 'mean', 'project', 'militari', 'power', 'deni', 'us', 'militari', 'access', 'region', 'particularli', 'put', 'conflict', 'taiwan', 'accord', 'michael', 'green', 'serv', 'asian', 'affair', 'director', 'nation', 'secur', 'council', 'bush', 'administr', '<DATE>', 'overal', 'strateg', 'pictur', 'china', 'mix', 'lot', 'countri', 'enorm', 'econom', 'interdepend', 'level', 'strateg', 'mistrust', 'go', 'away', 'yet', 'posit', 'develop', 'region', 'well', 'chines', 'presid', 'hu', 'jintao', 'met', 'head', 'taiwan', 'rule', 'parti', 'beij', 'week', 'highest', 'level', 'contact', 'sinc', 'two', 'side', 'split', '<DATE>', 'histor', 'meet', 'repres', 'two', 'arch', 'enemi', 'wide', 'view', 'world', 'part', 'dramat', 'eas', 'tension', 'two', 'side', 'like', 'see', 'resum', 'formal', 'dialogu', 'suspend', 'decad']"
        ],
        [
         "37",
         "fake",
         "['russia', 'huge', 'impact', 'resolv', 'syrian', 'civil', 'war', 'syria', 'nation', 'coordin', 'committe', 'ncc', 'opposit', 'group', 'open', 'cooper', 'moscow', 'achiev', 'end', 'group', 'leader', 'told', 'sputnik', 'tuesday', 'moscow', 'sputnik', 'hassan', 'abdel', 'azim', 'chairman', 'bloc', '<NUM>', 'left', 'wing', 'opposit', 'polit', 'parti', 'said', 'moscow', 'month', 'ago', 'contact', 'russian', 'embassi', 'open', 'cooper', 'countri', 'play', 'role', 'syrian', 'issu', 'resolut', 'crisi', 'whether', 'countri', 'region', 'arab', 'world', 'west', 'abdel', 'azim', 'said', 'abdel', 'azim', 'also', 'underscor', 'russia', 'huge', 'impact', 'resolut', 'conflict', 'ncc', 'chairman', 'said', 'talk', 'vienna', 'unit', 'countri', 'stake', 'syrian', 'civil', 'war', 'gather', 'particip', 'opposit', 'faction', 'govern', 'author', '©', 'reuter', 'maxim', 'zmeyev', 'moscow', 'organ', 'third', 'meet', 'damascu', 'syrian', 'opposit', 'syria', 'state', 'civil', 'war', 'sinc', '<DATE>', 'forc', 'loyal', 'presid', 'bashar', 'assad', 'fight', 'multipl', 'opposit', 'group', 'well', 'radic', 'islamist', 'milit', 'organ', 'includ', 'nusra', 'front', 'islam', 'state', 'moscow', 'involv', 'intern', 'effort', 'resolv', 'ongo', 'civil', 'war', 'syria', 'host', 'two', 'round', 'negoti', 'talk', 'govern', 'opposit', '<DATE>', 'russia', 'also', 'conduct', 'anti', 'terrorist', 'aerial', 'campaign', 'syria', 'airstrik', 'extremist', 'posit', 'sinc', 'late', 'sepemb', 'assad', 'request', '<DATE>', 'top', 'diplomat', 'unit', 'state', 'russia', 'iran', 'china', 'saudi', 'arabia', 'turkey', 'egypt', 'qatar', 'lebanon', 'franc', 'well', 'un', 'special', 'envoy', 'syria', 'staffan', 'de', 'mistura', 'met', 'vienna', 'discuss', 'end', 'four', 'year', 'syrian', 'civil', 'war', 'particip', 'talk', 'vienna', 'syrian', 'peac', 'reach', 'mutual', 'understand', 'nation', 'uniti', 'need', 'erad', 'extremist', 'group', 'provid', 'assist', 'refuge', 'restat', 'syrian', 'peopl', 'must', 'decid', 'futur', 'state', 'principl', 'becam', 'basi', 'agreement', 'sign', 'follow', 'negoti']"
        ],
        [
         "38",
         "fake",
         "['<NUM>', 'year', 'old', 'centr', 'back', 'emerg', 'one', 'best', 'player', 'posit', 'sinc', 'arriv', 'celtic', '<DATE>', 'van', 'dijk', 'current', 'sidelin', 'ankl', 'problem', 'expect', 'scupper', 'potenti', 'transfer', 'nathaniel', 'clyne', 'throw', 'wild', 'birthday', 'parti', 'tue', '<DATE>', 'click', 'galleri', 'best', 'snap', 'nathaniel', 'clyne', 'birthday', 'bash', 'play', 'slideshow', 'twitter', 'djabelt', '<NUM>', '<NUM>', 'click', 'galleri', 'best', 'snap', 'nathaniel', 'clyne', 'birthday', 'bash', 'accord', 'daili', 'star', 'liverpool', 'boss', 'jurgen', 'klopp', 'view', 'netherland', 'ace', 'man', 'solv', 'defens', 'woe', 'liverpool', 'conced', '<NUM>', 'leagu', 'goal', 'club', 'top', 'seven', 'getti', 'virgil', 'van', 'dijk', 'injur', 'sinc', 'januari']"
        ],
        [
         "39",
         "reliable",
         "['valent', 'shirley', 'ann', 'nee', 'morrison', '<DATE>', 'belov', 'wife', 'franci', 'l', 'jr', 'devot', 'mother', 'franci', 'l', 'iii', 'barbara', 'ann', 'also', 'surviv', 'brother', 'duncan', 'c', 'morrison', 'friend', 'may', 'call', 'andrett', 'funer', 'home', '<NUM>', '<NUM>', 'avenu', '<NUM>', 'street', 'new', 'york', '<DATE>', '<NUM>', '<NUM>', '<NUM>', 'pm', 'chapel', 'servic', '<DATE>', 'funer', 'home', 'inter', 'follow', 'monmouth', 'memori', 'park', 'tinton', 'fall', 'nj', 'lieu', 'flower', 'donat', 'memori', 'aspca', 'appreci']"
        ],
        [
         "40",
         "reliable",
         "['week', 'liber', 'democrat', 'parti', 'rule', 'japan', 'nearli', 'entir', 'postwar', 'histori', 'swept', 'power', 'three', 'year', 'ago', 'landslid', 'victori', 'shinzo', 'abe', 'prime', 'minist', '<DATE>', '<DATE>', 'get', 'anoth', 'chanc', 'mr', 'abe', 'devot', 'decent', 'part', 'campaign', 'critic', 'bank', 'japan', 'countri', 'central', 'bank', 'want', 'bank', 'pursu', 'inflat', 'effect', 'print', 'money', 'get', 'one', 'point', 'campaign', 'spoke', '<NUM>', 'percent', 'inflat', 'target', 'although', 'seem', 'cut', 'back', '<NUM>', 'percent', 'either', 'goal', 'realiz', 'would', 'major', 'chang', 'countri', 'inflat', 'index', 'use', 'calcul', 'gross', 'domest', 'product', '<NUM>', 'percent', 'lower', 'end', '<DATE>', 'thursday', 'central', 'bank', 'took', 'rel', 'small', 'step', 'direct', 'favor', 'mr', 'abe', 'decid', 'step', 'asset', 'purchas', 'seem', 'leav', 'open', 'possibl', 'would', 'adopt', 'inflat', 'target', 'later', 'meet', 'mr', 'abe', 'prais', 'move', 'signific', 'extent', 'deflationari', 'expect', 'bake', 'japanes', 'economi', 'tini', 'govern', 'bond', 'yield', 'persist', 'mani', 'year', 'even', 'though', 'nomin', 'yield', 'small', 'real', 'inflat', 'yield', 'respect', 'deflat', 'inflat', 'competit', 'great', 'stock', 'market', 'fluctuat', 'remain', 'far', 'japanes', 'bubbl', 'began', 'deflat', 'earli', '<DATE>', 'real', 'estat', 'loss', 'bubbl', 'rememb', 'garden', 'imperi', 'palac', 'tokyo', 'suppos', 'worth', 'entir', 'state', 'california', 'still', 'impact', 'investor', 'psycholog', 'western', 'economist', 'mr', 'bernank', 'among', 'long', 'call', 'japan', 'target', 'inflat', 'late', 'chines', 'economist', 'offer', 'similar', 'lectur', 'littl', 'happen', 'central', 'bank', 'announc', 'goal', 'posit', 'inflat', '<NUM>', 'percent', 'wide', 'believ', 'certainli', 'happen', 'photo', 'limit', 'quantit', 'eas', 'effort', 'japanes', 'central', 'bank', 'view', 'temporari', 'realli', 'chang', 'anyth', 'whether', 'new', 'promis', 'someth', 'signific', 'credibl', 'remain', 'seen', 'advertis', 'continu', 'read', 'main', 'stori', 'point', 'move', '<NUM>', 'percent', 'target', 'would', 'giant', 'step', 'said', 'kenneth', 'rogoff', 'harvard', 'economist', 'suggest', 'inflat', 'target', 'unit', 'state', 'well', 'japan', 'pursu', 'vigor', 'inflat', 'expect', 'firmli', 'higher', 'one', 'know', 'much', 'would', 'accomplish', 'bank', 'japan', 'past', 'hesit', 'realli', 'tri', 'establish', 'credibl', 'least', 'two', 'reason', 'one', 'fear', 'japanes', 'govern', 'bond', 'market', 'would', 'disrupt', 'anoth', 'could', 'sever', 'damag', 'central', 'bank', 'balanc', 'sheet', 'own', 'lot', 'japanes', 'govern', 'bond', 'whose', 'market', 'valu', 'would', 'fall', 'conceiv', 'could', 'caus', 'bank', 'seek', 'recapit', 'govern', 'someth', 'would', 'embarrass', 'say', 'least', 'newslett', 'sign', 'continu', 'read', 'main', 'stori', 'pleas', 'verifi', 'robot', 'click', 'box', 'invalid', 'email', 'address', 'pleas', 'enter', 'must', 'select', 'newslett', 'subscrib', 'sign', 'agre', 'receiv', 'occasion', 'updat', 'special', 'offer', 'new', 'york', 'time', 'product', 'servic', 'thank', 'subscrib', 'error', 'occur', 'pleas', 'tri', 'later', 'view', 'new', 'york', 'time', 'newslett', 'establish', 'credibl', 'central', 'bank', 'would', 'show', 'readi', 'creat', 'credit', 'rapid', 'rate', 'would', 'probabl', 'also', 'need', 'take', 'step', 'hold', 'valu', 'yen', 'move', 'would', 'doubt', 'caus', 'concern', 'unit', 'state', 'howev', 'doabl', 'switzerland', 'shown', 'euro', 'zone', 'debt', 'crisi', 'worst', 'switzerland', 'becam', 'safe', 'european', 'investor', 'worri', 'euro', 'might', 'blow', 'drove', 'valu', 'swiss', 'franc', 'versu', 'euro', 'damag', 'switzerland', 'abil', 'compet', 'swiss', 'govern', 'respond', 'announc', 'euro', 'would', 'allow', 'fall', '<NUM>', 'swiss', 'franc', 'necessari', 'govern', 'would', 'simpli', 'sell', 'franc', 'meet', 'demand', 'necessari', 'swiss', 'accumul', 'huge', 'portfolio', 'foreign', 'currenc', 'could', 'japanes', 'chose', 'announc', 'dollar', 'would', 'henceforth', 'worth', 'least', '<NUM>', 'yen', 'level', 'seen', 'sinc', '<DATE>', 'would', 'instantli', 'restor', 'least', 'competit', 'japanes', 'industri', 'experienc', 'someth', 'would', 'seem', 'imposs', 'year', 'ago', 'japan', 'trade', 'deficit', 'bring', 'inflat', 'japan', 'could', 'make', 'countri', 'debt', 'load', 'higher', 'major', 'countri', 'appear', 'manag', 'one', 'unfortun', 'result', 'deflat', 'coupl', 'perenni', 'recess', 'countri', 'debt', 'g', 'p', 'ratio', 'rise', 'even', 'money', 'borrow', 'measur', 'yen', 'japanes', 'economi', 'larger', 'mr', 'abe', 'left', 'offic', '<DATE>', 'two', 'year', 'parti', 'lost', 'power', 'stronger', 'recoveri', 'unit', 'state', 'mention', 'avoid', 'new', 'europ', 'wide', 'downturn', 'would', 'make', 'easier', 'japan', 'begin', 'grow', 'even', 'happen', 'would', 'solv', 'japan', 'problem', 'countri', 'age', 'shrink', 'popul', 'need', 'worker', 'japanes', 'attitud', 'toward', 'immigr', 'make', 'arizona', 'look', 'liber', 'comparison', 'japan', 'economi', 'adrift', 'long', 'much', 'world', 'take', 'grant', 'cannot', 'least', 'ever', 'reform', 'cynic', 'basi', 'possibl', 'circumst', 'chang', 'japanes', 'seem', 'content', 'way', 'thing', 'clearli', 'want', 'someth', 'differ', 'even', 'sure', 'get', 'three', 'year', 'ago', 'democrat', 'parti', 'japan', 'landslid', 'elect', 'prove', 'stumbl', 'incoher', 'tri', 'govern', 'voter', 'turn', 'back', 'liber', 'democrat', 'whether', 'mr', 'abe', 'compet', 'whether', 'abl', 'effect', 'lead', 'parti', 'still', 'compet', 'faction', 'far', 'clear', 'advertis', 'continu', 'read', 'main', 'stori', 'still', 'investor', 'take', 'heart', 'japanes', 'stock', 'leapt', 'news', 'elect', 'result', 'yen', 'weaken', 'least', 'reason', 'hope', 'someth', 'import', 'chang', 'elect']"
        ],
        [
         "43",
         "fake",
         "['getti', 'worst', 'guest', 'reveal', 'popular', 'rental', 'site', 'airbnb', 'offer', 'host', 'great', 'way', 'pocket', 'extra', 'cash', 'rent', 'home', 'holidaymak', 'whilst', 'major', 'guest', 'leav', 'accommod', 'state', 'found', 'guest', 'prove', 'nightmar', 'host', 'reveal', 'worst', 'experi', 'guest', 'truli', 'shock', 'coupl', 'discov', 'stranger', 'sex', 'bed', 'london', 'christina', 'mcquillan', 'partner', 'henri', 'claim', 'putney', 'flat', 'trash', 'left', 'huge', '<CUR>', '<NUM>', 'repair', 'bill', 'pad', 'use', '<NUM>', 'birthday', 'christina', 'said', 'parti', 'goer', 'smoke', 'pot', 'home', 'stole', 'belong', 'rip', 'tv', 'bracket', 'coupl', 'even', 'sex', 'bed', 'whilst', 'anoth', 'man', 'watch', 'christina', 'say', 'even', 'punch', 'stomach', 'parti', 'shut', 'guest', 'struck', 'site', 'polic', 'launch', 'investig', 'christina', 'assault', 'beauti', 'properti', 'rent', 'airbnb', 'tue', '<DATE>', 'select', 'stun', 'properti', 'around', 'world', 'avail', 'stay', 'need', 'luxuri', 'getaway', 'play', 'slideshow', 'air', 'bnb', '<NUM>', '<NUM>', 'incred', 'pool', 'lead', 'onto', 'ocean', 'punta', 'de', 'mita', 'nayarit', 'mexico', 'drug', 'induc', 'orgi', 'caus', '<CUR>', '<NUM>', 'worth', 'damag', 'canadian', 'famili', 'home', 'trash', 'airbnb', 'guest', 'said', 'town', 'wed', 'string', 'call', 'concern', 'neighbour', 'mark', 'star', 'king', 'calgari', 'cut', 'holiday', 'short', 'head', 'home', 'found', 'destroy', 'furnitur', 'smash', 'glass', 'use', 'condom', 'underwear', 'floor', 'barbecu', 'sauc', 'wall', 'home', 'share', 'two', 'young', 'children', 'profession', 'cleaner', 'hire', 'remov', 'bodili', 'fluid', 'includ', 'vomit', 'semen', 'urin', 'neighbour', 'claim', 'craze', 'parti', 'around', '<NUM>', 'guest', 'rare', 'event', 'properti', 'damag', 'said', 'airbnb', 'employe', 'work', 'host', 'compani', '<CUR>', '<NUM>', 'million', 'host', 'guarante', 'reimburs', 'damag', 'everi', 'book', 'protect', 'guarante', 'addit', 'cost', 'getti', 'home', 'use', 'parti', 'trash', 'home', 'use', 'brothel', 'publicist', 'jessica', 'penzari', 'said', 'rent', 'apart', 'woman', 'said', 'armi', 'need', 'somewher', 'stay', 'deploy', 'oversea', 'polic', 'call', 'apart', 'follow', 'violent', 'alterc', 'woman', 'man', 'paid', 'massag', 'penzari', 'came', 'home', 'found', 'babi', 'wipe', 'condom', 'apart', 'airbnb', 'put', 'hotel', 'two', 'night', 'chang', 'lock', 'clean', 'apart', 'replac', 'bedsheet', 'blanket', 'pillow', 'getti', 'one', 'guest', 'pictur', 'refus', 'leav']"
        ],
        [
         "44",
         "fake",
         "['hate', 'fill', 'clown', 'like', 'reza', 'aslan', 'justin', 'raimondo', 'thousand', 'islam', 'supremacist', 'wrote', 'twitter', 'kill', 'apolog', 'tri', 'frame', 'pamela', 'geller', 'murder', 'let', 'say', 'hold', 'breath', 'goebbel', 'like', 'big', 'lie', 'manifest', 'dishonesti', 'howev', 'clear', 'world', 'see', 'sure', 'regist', 'jessica', 'mokdad', 'human', 'right', 'confer', 'honor', 'kill', '<DATE>', 'dearborn', 'michigan', 'regist', 'pamela', 'geller', 'ask', 'trenchantli', 'million', 'hijab', 'honor', 'kill', 'saw', 'shaima', 'use', 'demonstr', 'fiction', 'phenomenon', 'islamophobia', 'muslim', 'speak', 'realli', 'happen', 'record', 'hint', 'iraqi', 'woman', 'death', 'hate', 'crime', 'kristina', 'davi', 'san', 'diego', 'union', 'tribun', '<DATE>', 'thank', 'sent', 'el', 'cajon', 'search', 'warrant', 'record', 'obtain', 'wednesday', 'beat', 'death', 'iraqi', 'american', 'woman', 'show', 'famili', 'turmoil', 'cast', 'doubt', 'likelihood', 'slay', 'hate', 'crime', 'shaima', 'alawadi', '<NUM>', 'year', 'old', 'mother', 'five', 'appar', 'plan', 'divorc', 'husband', 'move', 'texa', 'kill', 'famili', 'member', 'told', 'investig', 'accord', 'court', 'document', 'record', 'obtain', 'el', 'cajon', 'superior', 'court', 'also', 'reveal', 'alawadi', '<NUM>', 'year', 'old', 'daughter', 'fatima', 'alhimidi', 'call', '<NUM>', 'report', 'attack', 'distraught', 'pend', 'arrang', 'marriag', 'cousin', 'search', 'fatima', 'cellphon', 'record', 'show', 'interview', 'investig', 'hour', 'attack', 'someon', 'sent', 'teen', 'text', 'messag', 'read', 'detect', 'find', 'tell', 'talk', 'affidavit', 'state', 'fatima', 'mother', 'one', 'el', 'cajon', 'home', 'skyview', 'street', 'attack', 'occur', '<NUM>', '<DATE>', 'alawadi', 'husband', 'kassim', 'alhimidi', 'reportedli', 'left', 'take', 'coupl', 'younger', 'children', 'school', 'although', 'polic', 'state', '<DATE>', 'affidavit', 'whereabout', 'yet', 'confirm', 'fatima', 'told', 'el', 'cajon', 'polic', 'heard', 'mother', 'squeal', '<NUM>', 'second', 'later', 'heard', 'sound', 'glass', 'break', 'affidavit', 'said', 'told', 'polic', 'thought', 'mother', 'drop', 'plate', 'ten', 'minut', 'later', 'daughter', 'discov', 'mother', 'lie', 'unconsci', 'ground', 'near', 'comput', 'call', '<NUM>', 'heard', 'mother', 'squeal', 'heard', 'slept', 'whole', 'thing', 'neighbor', 'report', 'see', 'skinni', 'dark', 'skin', 'male', 'run', 'west', 'area', 'alawadi', 'hous', 'describ', 'late', 'teen', 'earli', '<NUM>', '<NUM>', 'feet', '<NUM>', 'inch', 'tall', '<NUM>', 'pound', 'wear', 'dark', 'blue', 'black', 'hood', 'sweatshirt', 'carri', 'brown', 'doughnut', 'shape', 'cardboard', 'box', 'alawadi', 'die', 'hospit', 'three', 'day', 'later', 'autopsi', 'note', 'assault', 'extrem', 'violent', 'show', 'alawadi', 'least', 'six', 'hit', 'head', 'least', 'four', 'skull', 'fractur', 'injuri', 'possibl', 'caus', 'object', 'similar', 'tire', 'iron', 'strike', 'edg', 'narrow', 'made', 'hard', 'materi', 'accord', 'record', 'sheriff', 'crime', 'lab', 'determin', 'threaten', 'handwritten', 'note', 'found', 'near', 'victim', 'copi', 'origin', 'record', 'state', 'author', 'made', 'public', 'content', 'note', 'fatima', 'famili', 'member', 'told', 'report', 'order', 'famili', 'go', 'back', 'came', 'polic', 'said', 'note', 'indic', 'possibl', 'hate', 'crime', 'stress', 'explor', 'possibl', 'famili', 'told', 'polic', 'similar', 'note', 'left', 'home', 'week', 'attack', 'famili', 'keep', 'note', 'report', 'polic', 'time', 'possibl', 'hate', 'crime', 'reverber', 'around', 'world', 'especi', 'muslim', 'commun', 'prompt', 'support', 'hold', 'candlelight', 'vigil', 'demonstr', 'denounc', 'bigotri', 'apolog', 'await', 'neither', 'pamela', 'geller', 'ever', 'condon', 'advoc', 'violenc', 'anyth', 'legal', 'action', 'defens', 'human', 'right', 'islam', 'supremacist', 'group', 'leftist', 'alli', 'avid', 'destroy', 'reput', 'find', 'hate', 'crime', 'connect', 'us', 'silenc', 'truth', 'tell', 'search', 'home', 'coupl', 'vehicl', 'hour', 'attack', 'polic', 'found', 'court', 'paperwork', 'file', 'divorc', 'alawadi', 'ford', 'explor', 'packet', 'fill', 'form', 'request', 'court', 'fee', 'waiver', 'fill', 'handwrit', 'alawadi', 'name', 'address', 'phone', 'number', 'polic', 'also', 'search', 'comput', 'cellphon', 'devic', 'among', 'evid', 'search', 'ear', 'match', 'bloodi', 'one', 'found', 'near', 'alawadi', 'famili', 'told', 'investig', 'usual', 'wore', 'four', 'ear', 'accord', 'record', 'detect', 'also', 'seek', 'note', 'weapon', 'similar', 'tire', 'iron', 'forens', 'evid', 'investig', 'also', 'learn', 'previou', 'polic', 'contact', 'fatima', '<DATE>', 'polic', 'found', 'fatima', '<NUM>', 'year', 'old', 'man', 'respond', 'report', 'two', 'peopl', 'possibl', 'sex', 'car', 'document', 'state', 'offic', 'call', 'mother', 'came', 'locat', 'pick', 'girl', 'drive', 'away', 'fatima', 'said', 'love', 'mom', 'jump', 'vehicl', 'onto', 'mollison', 'avenu', '<NUM>', 'mph', 'taken', 'hospit', 'sever', 'injuri', 'includ', 'possibl', 'broken', 'arm', 'refus', 'talk', 'polic', 'hospit', 'reportedli', 'told', 'paramed', 'hospit', 'staff', 'forc', 'marri', 'cousin', 'want', 'rawnaq', 'yacub', 'man', 'incid', 'told', 'u', 'san', 'diego', 'wednesday', 'polic', 'interview', 'slay', 'cloth', 'taken', 'home', 'share', 'famili', 'said', 'connect', 'crime', 'describ', 'fatima', 'best', 'friend', 'said', 'romant', 'relationship', 'fatima', 'talk', 'car', 'polic', 'contact', 'five', 'month', 'ago', 'said', 'fatima', 'father', 'brother', 'flew', 'iraq', 'last', 'week', 'alawadi', 'funer', 'saturday', 'plan', 'stay', 'two', 'week', 'famili', 'friend', 'said', 'alawadi', 'father', 'shia', 'cleric', 'iraq', 'bet', 'return']"
        ],
        [
         "45",
         "reliable",
         "['discuss', 'grew', 'heat', 'subsequ', 'question', 'answer', 'session', 'vanessa', 'vine', 'campaign', 'cuadrilla', 'drill', 'balcomb', 'villag', 'south', 'london', 'said', 'shale', 'ga', 'industri', 'ecocid', 'shame', 'ms', 'vine', 'said', 'mr', 'brown', 'man', 'identifi', 'clive', 'humphri', 'call', 'mr', 'brown', 'crimin', 'storm', 'email', 'mr', 'brown', 'said', 'live', 'debat', 'show', 'compani', 'need', 'dispel', 'myth', 'hydraul', 'fractur', 'process', 'engag', 'deepli', 'local', 'commun', 'ad', 'never', 'seen', 'hydrocarbon', 'resourc', 'develop', 'without', 'sort', 'opposit', 'field', 'oper', 'encount', 'combin', 'protest', 'legal', 'maneuv', 'last', 'summer', 'protestor', 'balcomb', 'use', 'makeshift', 'camp', 'base', 'demonstr', 'cuadrilla', 'drill', 'local', 'resid', 'advis', 'larger', 'environment', 'group', 'creat', 'legal', 'regulatori', 'obstacl', 'compani', 'cuadrilla', 'permit', 'run', 'balcomb', 'activist', 'set', 'camp', 'complet', 'wind', 'turbin', 'electr', 'outsid', 'site', 'barton', 'near', 'manchest', 'anoth', 'compani', 'call', 'iga', 'energi', 'prepar', 'drill', 'sunday', 'protest', 'tri', 'dislodg', 'gate', 'site', 'compani', 'reinforc', 'earth', 'move', 'machin', 'said', 'rachel', 'thompson', 'local', 'resid', 'affili', 'protest', 'group', 'call', 'frack', 'go', 'grow', 'grow', 'everywher', 'take', 'rig', 'take', 'camp', 'said', 'advertis', 'continu', 'read', 'main', 'stori', 'oil', 'ga', 'execut', 'long', 'said', 'shale', 'ga', 'would', 'tough', 'sell', 'dens', 'popul', 'western', 'europ', 'industri', 'also', 'meet', 'resist', 'eastern', 'europ', 'compani', 'thought', 'go', 'would', 'easier', 'partli', 'desir', 'eas', 'depend', 'ga', 'russia', 'newslett', 'sign', 'continu', 'read', 'main', 'stori', 'pleas', 'verifi', 'robot', 'click', 'box', 'invalid', 'email', 'address', 'pleas', 'enter', 'must', 'select', 'newslett', 'subscrib', 'sign', 'agre', 'receiv', 'occasion', 'updat', 'special', 'offer', 'new', 'york', 'time', 'product', 'servic', 'thank', 'subscrib', 'error', 'occur', 'pleas', 'tri', 'later', 'view', 'new', 'york', 'time', 'newslett', 'begin', 'last', 'month', 'protest', 'farm', 'area', 'call', 'pungesti', 'northeastern', 'romania', 'delay', 'prepar', 'chevron', 'american', 'energi', 'compani', 'drill', '<DATE>', 'polic', 'offic', 'black', 'uniform', 'clear', 'away', 'protest', 'troubl', 'flare', 'saturday', 'video', 'provid', 'chevron', 'show', 'young', 'men', 'flatten', 'secur', 'fenc', 'toss', 'rock', 'onto', 'site', 'maria', 'olteanu', 'activist', 'bucharest', 'capit', 'act', 'liaison', 'peopl', 'pungesti', 'say', 'villag', 'fight', 'live', 'sure', 'water', 'soil', 'contamin', 'anim', 'die', 'result', 'frack', 'said', 'also', 'said', 'peopl', 'remot', 'area', 'knowledg', 'well', 'public', 'problem', 'like', 'water', 'pollut', 'oppon', 'say', 'frack', 'caus', 'unit', 'state', 'well', 'connect', 'european', 'network', 'intern', 'network', 'said', 'although', 'situat', 'vari', 'countri', 'countri', 'frack', 'oppon', 'score', 'success', 'countri', 'like', 'germani', 'franc', 'frack', 'forbidden', 'even', 'britain', 'nation', 'govern', 'favor', 'shale', 'ga', 'exploit', 'two', 'year', 'sinc', 'compani', 'frack', 'shale', 'ga', 'well', 'eastern', 'europ', 'nation', 'govern', 'like', 'romania', 'poland', 'ukrain', 'given', 'assent', 'peopl', 'local', 'commun', 'yet', 'even', 'resist', 'poland', 'although', 'poll', 'last', 'summer', 'show', 'strong', 'overal', 'support', 'shale', 'ga', 'product', 'villag', 'zurawlow', 'southeast', 'poland', 'near', 'ukrainian', 'border', 'farmer', 'block', 'access', 'chevron', 'test', 'site', 'farm', 'equip', 'sever', 'month', 'tomasz', 'szpryngier', 'investor', 'tourism', 'project', 'whose', 'famili', 'own', 'farmland', 'area', 'said', 'telephon', 'area', 'start', 'exploit', 'area', 'like', 'put', 'money', 'ditch', 'although', 'chevron', 'say', 'protest', 'signific', 'impact', 'oper', 'compani', 'file', 'civil', 'action', 'violat', 'chevron', 'right', 'access', 'properti', 'conduct', 'schedul', 'work', 'advertis', 'continu', 'read', 'main', 'stori', 'david', 'l', 'goldwyn', 'former', 'senior', 'energi', 'offici', 'u', 'depart', 'state', 'run', 'workshop', 'shale', 'ga', 'regul', 'lawmak', 'academ', 'eastern', 'europ', 'chevron', 'sponsorship', 'say', 'compani', 'find', 'difficult', 'situat', 'still', 'negoti', 'licens', 'ngo', 'spin', 'local', 'opposit', 'said', 'refer', 'nongovernment', 'organ', 'boot', 'ground', 'protest', 'underway', 'mr', 'goldwyn', 'think', 'shale', 'ga', 'exploit', 'win', 'accept', 'govern', 'go', 'littl', 'creativ', 'go', 'share', 'incom', 'unlik', 'unit', 'state', 'countri', 'state', 'own', 'miner', 'resourc', 'local', 'resid', 'often', 'see', 'drill', 'nuisanc', 'potenti', 'benefit']"
        ],
        [
         "46",
         "reliable",
         "['part', 'well', 'regul', 'ambigu', 'hard', 'understand', 'appar', 'even', 'suprem', 'court', 'judg', 'scalia', 'understand', 'word', 'well', 'regul', 'mean', 'spell', 'back', '<DATE>', 'district', 'columbia', 'v', 'heller', '<NUM>', '<NUM>', '<DATE>', '<URL>', '<NUM>', 'f', 'unit', 'state', 'v', 'miller', '<NUM>', 'u', '<NUM>', 'limit', 'right', 'keep', 'bear', 'arm', 'militia', 'purpos', 'rather', 'limit', 'type', 'weapon', 'right', 'appli', 'use', 'militia', 'e', 'common', 'use', 'law', 'purpos', 'pp', '<NUM>', '<NUM>', '<NUM>', 'like', 'right', 'second', 'amend', 'right', 'unlimit', 'right', 'keep', 'carri', 'weapon', 'whatsoev', 'manner', 'whatsoev', 'whatev', 'purpos', 'exampl', 'conceal', 'weapon', 'prohibit', 'upheld', 'amend', 'state', 'analogu', 'court', 'opinion', 'taken', 'cast', 'doubt', 'longstand', 'prohibit', 'possess', 'firearm', 'felon', 'mental', 'ill', 'law', 'forbid', 'carri', 'firearm', 'sensit', 'place', 'school', 'govern', 'build', 'law', 'impos', 'condit', 'qualif', 'commerci', 'sale', 'arm', '<NUM>', 'limit', 'type', 'weapon', '<NUM>', 'conceal', 'weapon', 'prohibit', '<NUM>', 'prohibit', 'possess', 'firearm', 'felon', 'mental', 'ill', '<NUM>', 'forbid', 'carri', 'firearm', 'sensit', 'place', 'school', 'govern', 'build', '<NUM>', 'law', 'impos', 'condit', 'qualif', 'commerci', 'sale', 'arm', 'two', 'scalia', 'author', 'paragraph', 'strict', 'constructionist', 'conserv', 'outlin', 'sever', 'legal', 'except', 'gun', 'ownership', 'shorter', 'bazooka', 'ban', 'licens', 'compet', 'local', 'gun', 'sale', 'registr', 'supplier', 'constraint', 'well', 'regul', 'mean', 'conserv', 'icon', 'antonin', 'scalia', 'right', 'grant', 'us', 'right', 'absolut', 'right', 'free', 'speech', 'end', 'nose', 'begin', 'right', 'weapon', 'war', 'end', 'safeti', 'public', 'begin', 'public', 'still', 'possess', 'inalien', 'right', 'life', 'liberti', 'pursuit', 'happi', 'right', 'weapon', 'war', 'end', 'public', 'right', 'life', 'liberti', 'pursuit', 'begin', 'victim', 'gun', 'violenc', 'find', 'kind', 'hard', 'pursu', 'way', 'right', 'mayb', 'un', 'infring', 'right', 'also', 'rule', 'well', 'regulat', 'ask', 'antonin', 'well', 'regul', 'mean', 'read', 'rule', 'limit', 'gun', 'right', 'case', 'make', 'un', 'infringablli', 'unambigu', 'clear']"
        ],
        [
         "47",
         "fake",
         "['appreci', 'help', 'click', 'donat', 'categori', 'categori', 'select', 'categori', '<NUM>', '<NUM>', 'censor', 'allen', 'west', 'cair', 'nazi', 'children', 'donald', 'trump', 'enemywithin', 'america', 'enemywithin', 'foreign', 'halal', 'slaughter', 'islam', 'jew', 'islam', 'america', 'islam', 'public', 'school', 'islam', 'islam', 'britain', 'islam', 'west', 'islamobama', 'islamomania', 'jihad', 'fact', 'laugh', 'islam', 'militari', 'stori', 'muslim', 'anim', 'abus', 'muslim', 'hate', 'hoax', 'muslim', 'invad', 'muslim', 'islam', 'muslim', 'vs', 'muslim', 'never', 'hire', 'muslim', 'persecut', 'christian', 'pro', 'america', 'muslim', 'religion', 'hate', 'say', 'uncategor', 'women']"
        ],
        [
         "48",
         "reliable",
         "['individualist', 'countri', 'tend', 'put', 'right', 'privaci', 'first', 'peopl', 'societi', 'tend', 'overvalu', 'skill', 'overestim', 'import', 'group', 'effort', 'peopl', 'collect', 'societi', 'tend', 'valu', 'harmoni', 'duti', 'tend', 'underestim', 'skill', 'self', 'effac', 'describ', 'contribut', 'group', 'effort', 'research', 'argu', 'certain', 'cultur', 'becom', 'individualist', 'other', 'say', 'western', 'cultur', 'draw', 'valu', 'ancient', 'greec', 'emphasi', 'individu', 'heroism', 'cultur', 'draw', 'tribal', 'philosophi', 'recent', 'scientist', 'theoriz', 'goe', 'back', 'microb', 'collectivist', 'societi', 'tend', 'pop', 'part', 'world', 'especi', 'around', 'equat', 'plenti', 'diseas', 'caus', 'microb', 'environ', 'want', 'shun', 'outsid', 'might', 'bring', 'strang', 'diseas', 'enforc', 'certain', 'conform', 'eat', 'ritual', 'social', 'behavior', 'photo', 'either', 'way', 'individualist', 'societi', 'tend', 'better', 'econom', 'west', 'narr', 'involv', 'develop', 'individu', 'reason', 'conscienc', 'renaiss', 'enlighten', 'subsequ', 'flourish', 'capit', 'accord', 'narr', 'societi', 'get', 'individualist', 'develop', 'happen', 'collectivist', 'societi', 'snap', 'econom', 'stagnat', 'happen', 'collectivist', 'societi', 'especi', 'asia', 'rise', 'econom', 'come', 'rival', 'west', 'new', 'sort', 'global', 'convers', 'develop', 'open', 'ceremoni', 'beij', 'statement', 'convers', 'part', 'china', 'assert', 'develop', 'come', 'western', 'liber', 'mean', 'also', 'eastern', 'collect', 'one', 'newslett', 'sign', 'continu', 'read', 'main', 'stori', 'pleas', 'verifi', 'robot', 'click', 'box', 'invalid', 'email', 'address', 'pleas', 'enter', 'must', 'select', 'newslett', 'subscrib', 'sign', 'agre', 'receiv', 'occasion', 'updat', 'special', 'offer', 'new', 'york', 'time', 'product', 'servic', 'thank', 'subscrib', 'error', 'occur', 'pleas', 'tri', 'later', 'view', 'new', 'york', 'time', 'newslett', 'ceremoni', 'drew', 'china', 'long', 'histori', 'sure', 'strike', 'featur', 'imag', 'thousand', 'chines', 'move', 'one', 'drum', 'one', 'danc', 'one', 'sprint', 'precis', 'format', 'without', 'ever', 'stumbl', 'collid', 'seen', 'display', 'mass', 'conform', 'collectiv', 'present', 'high', 'tech', 'vision', 'harmoni', 'societi', 'perform', 'context', 'china', 'miracul', 'growth', 'asia', 'success', 'reopen', 'debat', 'individu', 'collectiv', 'seem', 'close', 'cold', 'war', 'unlik', 'forc', 'individu', 'sweep', 'field', 'even', 'gain', 'edg', 'one', 'thing', 'rel', 'individualist', 'societi', 'earth', 'anoth', 'essenc', 'lot', 'latest', 'scientif', 'research', 'western', 'idea', 'individu', 'choic', 'illus', 'chines', 'right', 'put', 'first', 'emphasi', 'social', 'context', 'advertis', 'continu', 'read', 'main', 'stori', 'scientist', 'delight', 'show', 'call', 'ration', 'choic', 'shape', 'whole', 'rang', 'subconsci', 'influenc', 'like', 'emot', 'contagion', 'prime', 'effect', 'peopl', 'think', 'professor', 'take', 'test', 'better', 'peopl', 'think', 'crimin', 'meanwhil', 'human', 'brain', 'turn', 'extrem', 'permeabl', 'natur', 'mimic', 'neural', 'fire', 'peopl', 'around', 'relationship', 'key', 'happi', 'peopl', 'live', 'densest', 'social', 'network', 'tend', 'flourish', 'peopl', 'live', 'social', 'bond', 'much', 'prone', 'depress', 'suicid', 'rise', 'china', 'econom', 'event', 'cultur', 'one', 'ideal', 'harmoni', 'collect', 'may', 'turn', 'attract', 'ideal', 'american', 'dream', 'certainli', 'use', 'ideolog', 'aspir', 'autocrat']"
        ],
        [
         "49",
         "fake",
         "['polit', 'ideolog', 'parti', 'identif', 'polit', 'belief', 'valu', 'speak', 'noth', 'less', 'person', 'world', 'view', 'stand', 'reason', 'therefor', 'conserv', 'liber', 'must', 'differ', 'mani', 'way', 'includ', 'biolog', 'homo', 'sapien', 'biolog', 'anim', 'exampl', 'studi', 'found', 'peopl', 'attract', 'smell', 'whose', 'immun', 'system', 'compat', 'research', 'found', 'polit', 'attitud', 'root', 'person', 'basic', 'belief', 'also', 'biolog', 'compon', 'conserv', 'exampl', 'stronger', 'disgust', 'reaction', 'liber', 'earli', 'brain', 'scan', 'data', 'hint', 'two', 'group', 'process', 'risk', 'fear', 'differ', 'latest', 'discoveri', 'conserv', 'liber', 'actual', 'smell', 'differ', 'recent', 'experi', 'found', 'conserv', 'like', 'smell', 'conserv', 'liber', 'find', 'smell', 'conserv', 'repugn', 'stephani', 'pappa', 'report', 'live', 'scienc', '<DATE>', 'new', 'studi', 'find', 'peopl', 'prefer', 'scent', 'share', 'polit', 'attitud', 'small', 'subconsci', 'prefer', 'could', 'explain', 'peopl', 'gravit', 'toward', 'mate', 'whose', 'polit', 'mesh', 'perhap', 'compat', 'smell', 'advertis']"
        ],
        [
         "50",
         "reliable",
         "['law', 'made', 'long', 'governor', 'new', 'one', 'made', 'sinc', 'governor', 'fact', 'mr', 'christi', 'veto', 'gun', 'bill', 'august', 'support', 'judiciari', 'mani', 'law', 'enforc', 'offici', 'unanim', 'pass', 'hous', 'new', 'jersey', 'legislatur', 'would', 'add', 'extra', 'check', 'peopl', 'histori', 'mental', 'ill', 'seek', 'legal', 'permiss', 'buy', 'firearm', 'investig', 'new', 'york', 'time', '<DATE>', 'found', 'mani', 'state', 'open', 'new', 'avenu', 'peopl', 'signific', 'mental', 'health', 'problem', 'histori', 'expung', 'thu', 'acquir', 'gun', 'mr', 'christi', 'said', 'propos', 'law', 'would', 'confus', 'matter', 'alreadi', 'cumbersom', 'area', 'law', 'state', 'senat', 'vote', 'overrid', 'mr', 'christi', 'veto', 'bill', 'first', 'time', 'happen', 'veto', 'sinc', 'took', 'offic', '<DATE>', 'thursday', 'bill', 'sponsor', 'assembl', 'democrat', 'decid', 'postpon', 'vote', 'could', 'get', 'enough', 'republican', 'buck', 'governor', 'even', 'republican', 'co', 'sponsor', 'bill', 'unwil', 'stand', 'christi', 'veto', 'thought', 'prayer', 'veto', 'campaign', 'boast', 'block', 'new', 'law', 'newslett', 'sign', 'continu', 'read', 'main', 'stori', 'pleas', 'verifi', 'robot', 'click', 'box', 'invalid', 'email', 'address', 'pleas', 'enter', 'must', 'select', 'newslett', 'subscrib', 'sign', 'agre', 'receiv', 'occasion', 'updat', 'special', 'offer', 'new', 'york', 'time', 'product', 'servic', 'thank', 'subscrib', 'error', 'occur', 'pleas', 'tri', 'later', 'view', 'new', 'york', 'time', 'newslett', 'even', 'happen', 'around', 'mass', 'shoot', 'mr', 'christi', 'prayer', 'veto', 'compani', 'want', 'get', 'armor', 'school', 'harden', 'assault', 'complet', 'makeov', 'school', 'queen', 'st', 'elizabeth', 'cathol', 'academi', 'school', 'bulletproof', 'wall', 'doubl', 'deadbolt', 'lock', 'metal', 'frame', 'door', 'surveil', 'camera', 'everywher', 'anoth', 'busi', 'opportun', 'identifi', 'compani', 'oklahoma', 'market', 'bulletproof', 'blanket', 'school', 'children', 'could', 'huddl', 'activ', 'shoot', 'appar', 'would', 'work', 'long', 'assail', 'use', 'high', 'veloc', 'gun', 'cours', 'get', 'rid', 'confeder', 'battl', 'flag', 'respons', 'kill', 'nine', 'peopl', 'black', 'church', 'charleston', 'c', 'rememb', 'charleston', 'right', 'quit', 'six', 'month', 'ago', '<DATE>', 'statement', 'revuls', 'south', 'carolina', 'legislatur', 'order', 'remov', 'confeder', 'flag', 'state', 'capit', 'event', 'took', 'place', '<DATE>', 'advertis', 'continu', 'read', 'main', 'stori', '<NUM>', 'day', 'sinc', '<NUM>', 'mass', 'shoot', 'taken', 'place', 'across', 'countri', 'accord', 'data', '<URL>', 'land', 'free', 'brave', 'home', 'futil', 'gestur', 'pretti', 'sure', 'u', 'citizen', 'threw', 'reason', 'along', 'babi', 'bathwat', 'decid', 'protect', 'kid', 'bulletproof', 'gym', 'mat', 'solut', 'cordelia', 'newlin', 'de', 'roja', 'wrote', 'blog', 'bluntmom', 'social', 'media', 'mere', 'postur', 'wrote', 'comput', 'screen', 'effect', 'bulletproof', 'gym', 'mat', 'thought', 'prayer', 'may', 'necessari', 'demonstr', 'suffici', 'even', 'believ', 'new', 'york', 'actor', 'raconteur', 'malachi', 'mccourt', 'hear', 'yet', 'anoth', 'invoc', 'thought', 'prayer', 'inspir', 'acid', 'respons', 'mr', 'mccourt', 'wrote', 'facebook', 'prayer', 'bend', 'barrel', 'gun', 'point', 'assail', 'rather', 'intend', 'victim']"
        ],
        [
         "51",
         "reliable",
         "['last', 'juli', 'attorney', 'gener', 'eric', 'holder', 'jr', 'spoke', 'eloqu', 'import', 'constitut', 'protect', 'news', 'gather', 'process', 'essenti', 'role', 'free', 'press', 'come', 'govern', 'account', 'open', 'societi', 'need', 'better', 'protect', 'journalist', 'feder', 'leak', 'investig', 'time', 'describ', 'polici', 'revis', 'supposedli', 'would', 'achiev', 'goal', 'includ', 'enhanc', 'oversight', 'senior', 'justic', 'depart', 'offici', 'new', 'presumpt', 'news', 'organ', 'would', 'notifi', 'govern', 'sought', 'record', 'phone', 'compani', 'internet', 'provid', 'third', 'parti', 'six', 'month', 'later', 'mr', 'holder', 'say', 'polici', 'follow', 'yet', 'actual', 'issu', 'new', 'guidelin', 'immedi', 'yet', 'call', 'misguid', 'quest', 'prosecutor', 'compel', 'jame', 'risen', 'report', 'time', 'wrote', '<DATE>', 'book', 'central', 'intellig', 'agenc', 'reveal', 'confidenti', 'sourc', 'bare', 'week', 'mr', 'holder', 'deliv', 'report', 'white', 'hous', 'justic', 'depart', 'issu', 'statement', 'declar', 'agreement', 'chill', '<NUM>', '<NUM>', 'rule', 'unit', 'state', 'court', 'appeal', 'fourth', 'circuit', 'virginia', 'deni', 'exist', 'report', 'privileg', 'ground', 'first', 'amend', 'protect', 'confidenti', 'sourc', 'crimin', 'case', 'depart', 'posit', 'case', 'start', 'mr', 'risen', 'fail', 'appeal', 'januari', 'full', 'circuit', 'court', 'sharpli', 'odd', 'nearli', 'univers', 'consensu', 'among', 'state', 'report', 'common', 'law', 'privileg', 'protect', 'confidenti', 'sourc', 'also', 'run', 'counter', 'find', 'feder', 'district', 'judg', 'leoni', 'brinkema', 'dissent', 'appeal', 'judg', 'roger', 'gregori', 'govern', 'ampl', 'evid', 'proceed', 'prosecut', 'without', 'make', 'report', 'give', 'sourc', 'go', 'jail', 'much', 'mr', 'holder', 'talk', 'respect', 'constitut', 'protect', 'news', 'gather', 'threaten', 'journalist', 'jail', 'job', 'except', 'extraordinari', 'circumst', 'mr', 'risen', 'ask', 'suprem', 'court', 'review', 'case', 'best', 'resolut', 'would', 'mr', 'holder', 'reconsid', 'mr', 'risen', 'subpoena', 'keep', 'letter', 'spirit', 'new', 'guidelin', 'group', 'media', 'organ', 'includ', 'time', 'urg', 'late', 'eras', 'damag', 'stem', 'risen', 'case', 'egregi', 'attack', 'free', 'press', 'mr', 'holder', 'watch', 'reduc', 'stain', 'mr', 'holder', 'legaci', 'build', 'better', 'legaci', 'begin', 'drop', 'demand', 'mr', 'risen', 'testifi', 'sourc']"
        ],
        [
         "53",
         "reliable",
         "['q', 'window', '<NUM>', 'dvd', 'player', 'program', 'watch', 'movi', 'find', 'window', '<NUM>', 'includ', 'default', 'video', 'player', 'watch', 'movi', 'dvd', 'compani', 'blog', 'post', 'last', 'year', 'microsoft', 'repres', 'cite', 'declin', 'disc', 'sale', 'licens', 'fee', 'dvd', 'player', 'softwar', 'factor', 'decis', 'window', '<NUM>', 'abl', 'read', 'data', 'store', 'dvd', 'disc', 'check', 'hardwar', 'manufactur', 'troubleshoot', 'tip', 'lack', 'built', 'softwar', 'stop', 'play', 'dvd', 'movi', 'comput', 'window', '<NUM>', 'pro', 'download', 'add', 'window', 'media', 'center', 'pack', 'softwar', '<CUR>', '<NUM>', 'get', 'dvd', 'playback', 'capabl', 'window', '<NUM>', 'need', '<CUR>', '<NUM>', 'window', 'pro', 'pack', 'add', 'compat', 'version', 'window', 'media', 'center', 'system', 'microsoft', 'site', 'explain', 'buy', 'softwar', 'inform', 'play', 'dvd', 'variou', 'edit', 'window', 'find', 'dvd', 'player', 'app', 'window', 'store', 'may', 'go', 'far', 'spend', 'money', 'bought', 'new', 'comput', 'dvd', 'drive', 'window', '<NUM>', 'preinstal', 'see', 'manufactur', 'includ', 'program', 'handl', 'dvd', 'videolan', 'open', 'sourc', 'softwar', 'vlc', 'media', 'player', 'play', 'dvd', 'movi', 'program', 'download', 'free', 'develop', 'includ', 'link', 'make', 'small', 'donat', 'would', 'like', 'help', 'person', 'tech', 'invit', 'question', 'comput', 'base', 'technolog', 'qanda', '<URL>', 'column', 'answer', 'question', 'gener', 'interest', 'letter', 'cannot', 'answer', 'individu', 'complet', 'version', 'stori', 'one', 'appear', 'print']"
        ],
        [
         "54",
         "reliable",
         "['neve', 'dekalim', 'gaza', 'strip', '<DATE>', 'ten', 'thousand', 'isra', 'march', 'largest', 'settlement', 'bloc', 'gaza', 'strip', 'wednesday', 'protest', 'plan', 'evacu', 'gaza', 'settler', 'summer', 'prime', 'minist', 'ariel', 'sharon', 'israel', 'alreadi', 'cabinet', 'parliamentari', 'approv', 'withdraw', 'settler', 'gaza', 'four', 'small', 'west', 'bank', 'settlement', 'settler', 'support', 'say', 'press', 'ahead', 'protest', 'believ', 'mr', 'sharon', 'plan', 'could', 'still', 'collaps', 'prophet', 'son', 'prophet', 'know', 'anyth', 'could', 'still', 'happen', 'said', 'natan', 'fagan', '<NUM>', 'brought', 'wife', 'six', 'children', 'home', 'jerusalem', 'area', 'take', 'part', 'previou', 'big', 'ralli', 'organ', 'settler', 'larg', 'famili', 'affair', 'coupl', 'children', 'came', 'mani', 'part', 'israel', 'entir', 'famili', 'dress', 'orang', 'shirt', 'cap', 'orang', 'chosen', 'color', 'oppos', 'pullout', 'advertis', 'continu', 'read', 'main', 'stori', 'demonstr', 'includ', 'mani', 'push', 'babi', 'stroller', 'travel', 'along', 'coastal', 'road', 'mediterranean', 'beachfront', 'gather', 'speech', 'settler', 'leader', 'politician', 'oppos', 'withdraw', 'plan']"
        ],
        [
         "55",
         "reliable",
         "['man', 'sleep', 'shutterstock', 'sleep', 'depriv', 'rank', 'among', 'belov', 'tortur', 'method', 'dictat', 'religi', 'cult', 'inquisit', 'leader', 'garden', 'varieti', 'sadist', 'roughli', 'two', 'year', 'ago', 'senat', 'intellig', 'committe', 'releas', 'report', 'cia', 'enhanc', 'interrog', 'techniqu', 'genteel', 'express', 'tortur', 'reveal', 'along', 'waterboard', 'rectal', 'feed', 'agenc', 'soft', 'spot', 'sleep', 'depriv', 'us', 'experienc', 'astound', 'cruelti', 'state', 'sanction', 'tortur', 'knock', 'wood', 'familiar', 'far', 'less', 'horrif', 'experi', 'school', 'job', 'relat', 'lack', 'sleep', 'recent', 'studi', 'suggest', 'even', 'less', 'extrem', 'varieti', 'sleep', 'depriv', 'real', 'consequ', 'expert', 'say', 'cultur', 'schedul', 'day', 'wrong', 'among', 'voic', 'paul', 'kelley', 'neuroscientist', 'research', 'associ', 'oxford', 'univers', 'sleep', 'circadian', 'neurosci', 'institut', 'kelley', 'believ', 'work', 'school', 'day', 'gener', 'begin', 'earli', 'run', 'counter', 'natur', 'circadian', 'rhythm', 'adolesc', 'adult', 'age', '<NUM>', 'say', 'lost', 'sleep', 'caus', 'big', 'problem', 'ultim', 'pose', 'threat', 'health', 'mood', 'perform', 'mental', 'health', 'age', '<NUM>', 'get', 'go', 'school', 'fit', 'nine', 'five', 'lifestyl', 'kelley', 'told', 'attende', 'last', 'year', 'british', 'scienc', 'festiv', 'accord', 'guardian', '<NUM>', 'also', 'settl', 'pattern', 'chang', 'huge', 'amount', 'cultur', 'condit', 'suck', 'get', 'speak', 'good', 'doctor', 'say', 'simpli', 'overrid', 'million', 'year', 'evolut', 'sleep', 'concern', 'starter', 'liver', 'heart', 'differ', 'pattern', 'ask', 'shift', 'two', 'three', 'hour', 'accord', 'kelley', 'cannot', 'chang', '<NUM>', 'hour', 'rhythm', 'cannot', 'learn', 'get', 'certain', 'time', 'bodi', 'attun', 'sunlight', 'consciou', 'report', 'hypothalamu', 'sight', 'instead', 'suggest', 'work', 'day', 'start', 'around', 'three', 'hour', 'later', 'entir', 'natur', 'sound', 'like', 'solut', 'get', 'board', 'sacrific', 'will', 'make', 'sake', 'scienc', 'staff', 'start', '<NUM>', 'kelley', 'say', 'accord', 'buzzfe', 'news', 'get', 'back', 'natur', '<NUM>', 'schedul', 'start', 'point', '<NUM>', 'staff', 'usual', 'sleep', 'depriv', 'got', 'sleep', 'depriv', 'societi', 'huge', 'damag', 'bodi', 'system', 'affect', 'physic', 'emot', 'perform', 'system', 'bodi', 'appli', 'bigger', 'pictur', 'prison', 'hospit', 'kelley', 'add', 'wake', 'peopl', 'give', 'peopl', 'food', 'want', 'biddabl', 'total', 'sleep', 'depriv', 'tortur', 'kelley', 'also', 'think', 'school', 'hour', 'modifi', 'better', 'sync', 'intern', 'clock', 'student', 'say', 'adjust', 'allow', 'brain', 'follow', 'scientist', 'believ', 'optim', 'learn', '<NUM>', 'year', 'old', 'would', 'mean', 'school', 'day', 'begin', '<NUM>', '<NUM>', '<NUM>', 'year', 'old', 'day', 'would', 'start', '<NUM>', 'colleg', 'student', 'would', 'first', 'class', '<NUM>', 'former', 'head', 'teacher', 'middl', 'school', 'nativ', 'england', 'kelley', 'shift', 'day', 'begin', '<NUM>', '<NUM>', '<NUM>', 'say', 'top', 'grade', 'increas', '<NUM>', 'percent', 'posit', 'similar', 'time', 'shift', 'school', 'could', 'help', 'push', 'grade', '<NUM>', 'percent', 'test', 'idea', 'kelley', 'launch', 'project', 'call', 'teensleep', 'along', 'neuroscientist', 'oxford', 'univers', 'colleagu', 'russel', 'foster', 'harvard', 'medic', 'school', 'professor', 'steven', 'lockley', 'pilot', 'project', 'studi', 'compar', 'student', 'fare', 'school', 'tradit', 'earli', 'start', 'time', 'versu', 'begin', '<NUM>', 'kelley', 'one', 'call', 'school', 'get', 'thing', 'roll', 'later', 'atlant', 'note', 'stori', 'last', 'year', 'center', 'diseas', 'control', 'american', 'academi', 'pediatr', 'recommend', 'school', 'schedul', 'class', 'later', 'morn', 'student', 'get', 'necessari', 'sleep', 'need', 'make', 'learn', 'day', 'u', 'secretari', 'educ', 'arn', 'duncan', 'even', 'said', 'might', 'bad', 'idea', 'atlant', 'cite', 'studi', 'univers', 'minnesota', 'center', 'appli', 'research', 'educ', 'improv', 'seem', 'offer', 'yet', 'support', 'let', 'kid', 'get', 'sleep', 'research', 'analyz', 'data', '<NUM>', 'student', 'eight', 'high', 'school', 'minnesota', 'colorado', 'wyom', 'found', 'shift', 'school', 'day', 'later', 'morn', 'result', 'boost', 'attend', 'test', 'score', 'grade', 'math', 'english', 'scienc', 'social', 'studi', 'school', 'also', 'saw', 'decreas', 'tardi', 'substanc', 'abus', 'symptom', 'depress', 'even', 'dramat', 'drop', 'teen', 'car', 'crash', 'cdc', 'note', '<NUM>', 'state', 'report', 'public', 'school', 'begin', '<NUM>', '<NUM>', '<NUM>', 'percent', 'high', 'school', 'around', 'countri', 'actual', 'start', '<NUM>', 'school', 'day', 'begin', 'earli', 'might', 'allow', 'younger', 'student', 'get', 'sleep', 'need', 'studi', 'show', 'natur', 'shift', 'circadian', 'rhythm', 'result', 'older', 'kid', 'go', 'sleep', 'later', 'later', 'adolesc', 'teen', 'lazi', 'biolog', 'chang', 'lot', 'sleep', 'part', 'yet', 'remain', 'fairli', 'strong', 'resist', 'chang', 'school', 'hour', 'oppon', 'cite', 'multipl', 'reason', 'keep', 'thing', 'way', 'expert', 'suggest', 'refus', 'consid', 'benefit', 'anoth', 'symptom', 'cultur', 'overwork', 'get', 'tire', 'argument', 'kid', 'activ', 'commun', 'servic', 'therefor', 'start', 'school', 'later', 'kyla', 'wahlstrom', 'director', 'univers', 'minnesota', 'center', 'appli', 'research', 'educ', 'improv', 'told', 'scientif', 'american', 'issu', 'start', 'time', 'student', 'overli', 'busi', 'much', 'pressur', 'cram', 'good', 'resum', 'get', 'colleg', 'whether', 'believ', 'work', 'school', 'day', 'get', 'later', 'start', 'one', 'thing', 'debat', 'us', 'get', 'nearli', 'enough', 'sleep', 'fact', '<DATE>', 'gallup', 'survey', 'found', 'whop', '<NUM>', 'percent', 'american', 'adult', 'get', 'less', 'recommend', 'allow', 'seven', 'nine', 'hour', 'sleep', 'night', 'cdc', 'cite', 'insuffici', 'sleep', 'public', 'health', 'issu', 'uk', 'nation', 'health', 'servic', 'report', 'one', 'third', 'brit', 'get', 'sleep', 'need', 'kelley', 'put', 'huge', 'societi', 'problem', 'pervas', 'cultur', 'notion', 'hard', 'chang', 'intern', 'issu', 'kelley', 'lament', 'everybodi', 'suffer']"
        ],
        [
         "56",
         "reliable",
         "['reserv', 'bank', 'india', 'file', 'reserv', 'bank', 'friday', 'came', 'draft', 'guidelin', 'centralis', 'hedg', 'local', 'subsidiari', 'foreign', 'compani', 'oversea', 'parent', 'compani', 'central', 'treasuri', 'hedg', 'currenc', 'risk', 'aris', 'genuin', 'current', 'account', 'exposur', 'local', 'subsidiari', 'better', 'manag', 'latter', 'currenc', 'risk', 'rbi', 'said', 'notif', 'rbi', 'first', 'announc', 'move', 'octob', 'polici', 'review', 'invit', 'comment', 'draft', 'rule', '<DATE>', 'purpos', 'new', 'polici', 'provid', 'greater', 'flexibl', 'hedg', 'currenc', 'risk', 'aris', 'current', 'account', 'transact', 'domest', 'subsidiari', 'multin', 'parent', 'non', 'resid', 'group', 'entiti', 'central', 'bank', 'said', 'propos', 'compani', 'abl', 'hedg', 'foreign', 'currenc', 'rupe', 'deriv', 'avail', 'facil', 'foreign', 'entiti', 'incorpor', 'india', 'member', 'financi', 'action', 'task', 'forc', 'fatf', 'draft', 'guidelin', 'said', 'find', 'delhi', 'court', 'said', 'vijay', 'mallya', 'apollo', 'hospit', 'give', 'health', 'updat', 'tamil', 'nadu', 'cm', 'jayalalithaa', 'find', 'editor', 'guild', 'condemn', 'one', 'day', 'ban', 'ndtv', 'india', 'find', 'faceoff', 'escal', 'india', 'pakistan', 'find', 'happen', 'defenc', 'minist', 'manohar', 'parrikar', 'think', 'matter', 'concern', 'polic', 'heard', 'say', 'simi', 'activist', 'encount', 'bhopal', 'bigg', 'boss', '<DATE>', 'review', 'lopamudra', 'mona', 'lisa', 'take', 'dip', 'swim', 'pool', 'rng', 'award', 'express', 'group', 'chairman', 'viveck', 'goenka', 'open', 'address', 'union', 'minist', 'vk', 'singh', 'said', 'suicid', 'ex', 'serviceman', 'india', 'respons', 'pakistan', 'alleg', 'ceasefir', 'violat', 'indian', 'armi', 'shashi', 'tharoor', 'talk', 'british', 'coloni', 'india', 'new', 'book', 'era', 'dark', 'gst', 'council', 'fix', 'rate', 'find', 'vika', 'rath', 'yatra', 'shivpal', 'singh', 'wish', 'cm', 'akhilesh', 'win', 'upcom', 'elect', 'akhilesh', 'yadav', 'say', 'farmer', 'youth', 'everyon', 'support', 'sp', 'orop', 'suicid', 'pride', 'led', 'congress', 'also', 'take', 'bjp', 'say', 'arvind', 'kejriw', 'may', 'approach', 'regist', 'invest', 'bank', 'handl', 'forex', 'transact', 'subsidiari', 'hedg', 'currenc', 'risk', 'latter', 'behalf', 'rbi', 'said', 'ad', 'foreign', 'entiti', 'also', 'approach', 'bank', 'either', 'directli', 'banker', 'oversea']"
        ],
        [
         "57",
         "fake",
         "['everi', 'colleg', 'basketbal', 'fan', 'know', 'well', 'preval', 'upset', 'given', 'week', 'cantanker', 'infinit', 'enjoy', 'sport', 'week', 'rough', 'time', 'program', 'number', 'next', 'name', 'respect', 'academ', 'institut', 'four', 'top', '<NUM>', 'team', 'countri', 'lose', 'week', 'three', 'four', 'suppos', 'top', 'tier', 'program', 'lost', 'twice', 'simpli', 'put', 'last', 'week', 'bombshel', 'utter', 'chao', 'confus', 'mani', 'perenni', 'nation', 'titl', 'contend', 'sustain', 'question', 'loss', 'rebound', 'valiantli', 'hope', 'garner', 'favor', 'seed', 'come', 'march', 'mad', 'highli', 'anticip', 'tournament', 'still', 'roughli', 'two', 'month', 'away', 'time', 'truli', 'great', 'program', 'need', 'separ', 'overconfid', 'pretend', 'inevit', 'continu', 'drop', 'rank', 'dread', 'basement', 'irrelev', '<NUM>', 'villanova', 'wildcat', 'offens', 'score', '<NUM>', 'ppg', 'move', 'basketbal', 'effect', '<NUM>', 'apg', 'wildcat', 'rare', 'reliant', 'averag', 'defens', 'help', 'overcom', 'oppon', 'face', 'big', 'east', 'although', 'team', 'safe', 'top', 'rank', 'wildcat', 'merciless', 'come', 'score', 'oppon', 'earli', 'show', 'sign', 'slow', 'depart', '<NUM>', 'virginia', 'cavali', 'know', 'stori', 'cavali', 'fantast', 'defens', 'play', 'well', 'enough', 'offens', 'score', 'aggress', 'transit', 'underneath', 'basket', 'half', 'court', 'situat', 'cavali', 'take', 'highli', 'prolif', 'blue', 'devil', 'week', 'emphat', 'prove', 'top', 'rank', 'defens', 'enough', 'win', 'consist', 'potenti', 'go', 'far', 'ncaa', 'tournament', '<NUM>', 'purdu', 'boilermak', 'bad', 'thing', 'say', 'boilermak', 'play', 'rank', 'oppon', 'sinc', 'defeat', 'louisvil', 'earlier', 'season', '<DATE>', 'said', 'purdu', 'done', 'exactli', 'elit', 'program', 'suppos', 'almost', 'alway', 'handili', 'defeat', 'unrank', 'opposit', 'encount', 'michigan', 'come', 'town', 'reveng', 'contest', 'boilermak', 'get', 'anoth', 'opportun', 'prove', 'right', 'consid', 'one', 'best', 'program', 'countri', '<NUM>', 'duke', 'blue', 'devil', 'last', 'four', 'game', 'duke', 'blue', 'devil', 'play', 'well', 'fantast', 'defens', 'held', 'oppon', '<NUM>', 'point', 'less', 'four', 'game', 'win', 'streak', 'grant', 'impress', 'defens', 'show', 'came', 'pittsburgh', 'twice', 'wake', 'forest', 'miami', 'least', 'duke', 'final', 'realiz', 'least', 'averag', 'prevent', 'oppon', 'score', 'one', 'best', 'program', 'countri', 'stretch', 'regular', 'season', '<NUM>', 'xavier', 'musket', 'overcom', 'seton', 'hall', 'latest', 'victori', 'thank', 'impress', 'shoot', 'late', 'game', 'musket', 'vy', 'top', 'spot', 'big', 'east', 'although', 'would', 'wish', 'think', 'top', 'rank', 'wildcat', 'slip', 'anytim', 'soon', 'musket', 'chomp', 'bit', 'get', 'reveng', 'wildcat', 'face', '<DATE>', '<NUM>', 'kansa', 'jayhawk', 'although', 'close', 'call', 'win', 'baylor', 'home', 'reveal', 'linger', 'issu', 'program', 'inconsist', 'issu', 'score', 'basketbal', 'tenac', 'defens', 'end', 'save', 'grace', 'last', 'three', 'win', 'jayhawk', 'get', 'impress', 'win', 'oklahoma', 'week', 'could', 'creat', 'much', 'desir', 'separ', 'rest', 'big', '<NUM>', '<NUM>', 'michigan', 'state', 'spartan', 'although', 'bumpi', 'road', 'spartan', 'last', 'four', 'game', '<NUM>', '<NUM>', 'much', 'doubt', 'great', 'team', 'offens', 'defens', 'fire', 'cylind', '<NUM>', 'ppg', '<NUM>', 'papg', 'consid', 'face', 'rank', 'oppon', '<DATE>', 'purdu', 'spartan', 'abl', 'work', 'inconsist', 'issu', 'without', 'suffer', 'much', 'term', 'sustain', 'upset', 'defeat', '<NUM>', 'cincinnati', 'bearcat', 'although', 'offens', 'bearcat', 'anyth', 'product', 'part', 'actual', 'step', 'impress', 'three', 'last', 'four', 'game', 'score', '<NUM>', 'point', 'affair', 'defens', 'bearcat', 'noth', 'short', 'terrif', 'allow', 'oppon', 'score', '<NUM>', 'total', 'point', 'sinc', '<DATE>', 'cleveland', 'state', '<NUM>', 'north', 'carolina', 'tar', 'heel', 'hold', 'three', 'last', 'four', 'oppon', '<NUM>', 'total', 'point', 'tar', 'heel', 'begin', 'establish', 'someth', 'relentless', 'shoot', 'program', 'tar', 'heel', 'consist', 'stifl', 'oppon', 'defens', 'relentlessli', 'shoot', 'ball', 'high', 'rate', '<NUM>', 'ppg', 'could', 'quickli', 'becom', 'one', 'favorit', 'win', 'end', 'season', '<NUM>', 'west', 'virginia', 'mountain', 'despit', 'lose', 'two', 'last', 'three', 'game', 'mountain', 'remain', 'true', 'ident', 'play', 'domin', 'defens', 'howev', 'offens', 'come', 'short', 'two', 'recent', 'loss', 'kansa', 'texa', 'tech', 'someth', 'fix', 'fairli', 'easili', 'consid', 'four', 'five', 'starter', 'current', 'averag', 'doubl', 'digit', 'point', 'per', 'game', '<NUM>', 'arizona', 'wildcat', 'despit', 'look', 'wildli', 'inconsist', 'offens', 'defens', 'recent', 'scrappi', 'wildcat', 'abl', 'play', 'well', 'enough', 'either', 'side', 'court', 'win', 'tight', 'game', 'stretch', 'order', 'wildcat', 'continu', 'win', 'way', 'need', 'electr', 'offens', 'step', 'consist', 'hope', 'reach', 'potenti', 'consid', 'nation', 'titl', 'contend', '<NUM>', 'ppg', '<NUM>', 'gonzaga', 'bulldog', 'saint', 'mari', 'bulldog', 'grand', 'opportun', 'assert', 'legitim', 'competit', 'program', 'could', 'least', 'beat', 'one', 'competit', 'oppon', 'confer', 'unfortun', 'gonzaga', 'unabl', 'convert', 'enough', 'possess', 'beat', 'well', 'round', 'saint', 'mari', 'team', 'like', 'hold', 'onto', 'top', 'spot', 'west', 'coast', 'confer', 'two', 'program', 'face', 'mid', 'februari', '<NUM>', 'ohio', 'state', 'buckey', 'undef', 'big', '<NUM>', 'confer', 'play', '<NUM>', '<NUM>', 'surpris', 'highli', 'competit', 'buckey', 'ground', 'sever', 'impress', 'victori', 'thank', 'elit', 'defens', 'held', 'six', 'last', 'seven', 'oppon', '<NUM>', 'total', 'point', 'although', 'may', 'domin', 'athlet', 'like', 'perceiv', 'elit', 'program', 'colleg', 'basketbal', 'enough', 'reliabl', 'shooter', 'assist', 'defens', 'final', 'start', 'hit', 'stride', '<NUM>', 'auburn', 'tiger', 'asid', 'devast', 'loss', 'alabama', 'tiger', 'program', 'continu', 'persever', 'despit', 'hit', 'particularli', 'hard', 'fbi', 'probe', 'result', 'two', 'best', 'player', 'suspend', 'indefinit', 'continu', 'play', 'glass', 'effect', 'convert', 'extra', 'opportun', 'point', '<NUM>', 'ppg', '<NUM>', 'papg', 'could', 'win', 'sec', 'outright', 'end', 'regular', 'season', '<NUM>', 'arizona', 'state', 'sun', 'devil', 'sun', 'devil', 'clearli', 'trend', 'downward', 'fortun', 'beneficiari', 'immens', 'chao', 'win', 'enough', 'close', 'game', 'keep', 'relev', 'pac', '<NUM>', 'eventu', 'though', 'sun', 'devil', 'danger', 'drop', 'rank', 'gift', 'sharpshoot', 'continu', 'fail', 'come', 'carri', 'excit', 'albeit', 'one', 'dimension', 'offens', '<NUM>', 'oklahoma', 'sooner', 'even', 'superstar', 'trae', 'young', 'score', '<NUM>', 'point', 'game', 'see', 'loss', 'oklahoma', 'state', 'sooner', 'still', 'take', 'win', 'lesser', 'oppon', 'turn', 'ball', 'alarm', 'rate', '<NUM>', 'time', 'per', 'game', 'young', 'contribut', 'five', 'turnov', 'per', 'game', 'allow', '<NUM>', 'ppg', 'sooner', 'final', 'punish', 'play', 'loos', 'basketbal', 'come', 'realiz', 'need', 'electr', 'offens', 'win', 'sport', 'rife', 'pariti', 'worthi', 'competitor', '<NUM>', 'texa', 'tech', 'red', 'raider', 'without', 'question', 'tough', 'week', 'top', 'rank', 'team', 'big', '<NUM>', 'howev', 'red', 'raider', 'arguabl', 'suffer', 'lost', 'three', 'last', 'four', 'game', 'last', 'two', 'loss', 'come', 'oppon', 'current', 'basement', 'big', '<NUM>', 'stand', 'texa', 'iowa', 'state', 'defens', 'play', 'enough', 'progress', 'worsen', 'offens', 'done', 'tough', 'stretch', 'score', '<NUM>', 'last', 'five', 'game', '<NUM>', 'wichita', 'state', 'shocker', 'one', 'sever', 'top', 'rank', 'program', 'lose', 'twice', 'last', 'week', 'fearlessli', 'competit', 'shocker', 'drop', 'back', '<NUM>', 'back', 'game', 'unrank', 'oppon', 'first', 'time', 'sinc', '<DATE>', 'shocker', 'prolif', 'offens', 'bounc', 'back', 'lack', 'effort', 'defens', 'end', 'recent', 'rectifi', 'hope', 'reclaim', 'monik', 'one', 'top', 'program', 'colleg', 'basketbal', '<NUM>', 'saint', 'mari', 'gael', 'thrill', 'win', 'hate', 'rival', 'gonzaga', 'bulldog', 'road', 'gael', 'firmli', 'taken', 'hold', 'top', 'spot', 'west', 'coast', 'confer', 'like', 'hold', 'onto', 'covet', 'spot', 'remaind', 'season', 'effect', 'offens', 'defens', '<NUM>', 'ppg', '<NUM>', 'papg', 'gael', 'disciplin', 'personnel', 'becom', 'dark', 'hors', 'program', 'ncaa', 'tournament', 'commenc', '<NUM>', 'tennesse', 'volunt', '<NUM>', '<NUM>', 'record', 'sec', 'volunt', 'enough', 'keep', 'near', 'top', 'confer', 'stand', 'although', 'finicki', 'offens', 'seriou', 'concern', '<NUM>', 'ppg', 'volunt', 'abl', 'overcom', 'notic', 'defici', 'play', 'strong', 'defens', 'stretch', 'close', 'game', '<NUM>', 'clemson', 'tiger', 'unlik', 'success', 'stori', 'tiger', 'begun', 'becom', 'less', 'majest', 'intrigu', 'last', 'four', 'game', '<NUM>', '<NUM>', 'nevertheless', 'remain', 'commit', 'grind', 'tough', 'victori', 'opportunist', 'defens', 'pride', 'prevent', 'oppon', 'make', 'easi', 'shot', 'six', 'bpg', 'may', 'alway', 'pretti', 'tiger', 'establish', 'ident', 'proven', 'effect', 'often', '<NUM>', 'michigan', 'wolverin', 'although', 'michigan', 'anem', 'offens', 'look', 'particularli', 'dread', '<NUM>', '<NUM>', 'loss', 'nebraska', 'last', 'week', 'physic', 'impos', 'wolverin', 'abl', 'overcom', 'brutal', 'defeat', 'win', 'two', 'game', 'last', 'week', 'maryland', 'rutger', 'wolverin', 'establish', 'type', 'continu', 'shoot', 'team', 'hope', 'remain', 'convers', 'big', '<NUM>', 'titl', 'contend', '<NUM>', 'ppg', 'relentless', 'defens', 'abl', 'carri', 'establish', 'dynam', 'competit', 'presenc', 'offens', '<NUM>', 'papg', '<NUM>', 'kansa', 'state', 'wildcat', 'although', 'wildcat', 'particularli', 'domin', 'either', 'offens', 'defens', 'team', 'know', 'play', 'big', 'boy', 'confer', 'extrem', 'tough', 'two', 'last', 'three', 'game', 'contest', 'rank', 'oppon', 'team', 'continu', 'tenaci', 'come', 'forc', 'turnov', 'eight', 'spg', 'could', 'find', 'one', 'top', 'dog', 'incred', 'competit', 'deep', 'big', '<NUM>', 'confer', '<NUM>', 'creighton', 'blue', 'jay', 'consid', 'season', 'transpir', 'blue', 'jay', 'thu', 'far', 'program', 'place', 'reserv', 'spot', '<NUM>', '<NUM>', 'rank', 'everi', 'week', 'appear', 'blue', 'jay', 'go', 'cold', 'shoot', 'wise', 'lack', 'suffici', 'defens', 'competit', 'somehow', 'manag', 'ralli', 'pull', 'impress', 'win', 'confer', 'oppon', 'blue', 'jay', 'face', 'deadli', 'wildcat', 'coupl', 'week', 'becom', 'fair', 'wonder', 'team', 'potenti', 'becom', 'sleeper', 'contend', 'play', 'great', 'basketbal', 'consist', '<NUM>', 'rhode', 'island', 'ram', 'past', 'coupl', 'week', 'defens', 'scrappi', 'ram', 'flirt', 'spot', 'top', '<NUM>', 'sneak', 'way', 'rank', 'week', 'due', 'immens', 'amount', 'chao', 'current', 'ride', '<NUM>', 'game', 'win', 'streak', 'ram', 'may', 'enough', 'go', 'defens', 'remain', 'highli', 'competit', '<NUM>', 'confer', '<NUM>', 'papg', 'view', 'galleri']"
        ],
        [
         "58",
         "fake",
         "['easier', 'steal', 'mean', 'steal', 'reader', 'think', 'stori', 'fact', 'add', 'two', 'cent', 'news', 'back', 'musician', 'write', 'song', 'rather', 'thing', 'like', 'one', 'knew', 'steal', 'music', 'via', 'heist', 'websit', 'napster', 'live', 'austin', 'texa', 'live', 'music', 'capit', 'world', 'knew', 'lot', 'musician', 'napster', 'origin', 'found', 'pioneer', 'peer', 'peer', 'p', '<NUM>', 'p', 'file', 'share', 'internet', 'servic', 'emphas', 'share', 'audio', 'file', 'typic', 'music', 'encod', 'mp', '<NUM>', 'format', 'origin', 'compani', 'ran', 'legal', 'difficulti', 'copyright', 'infring', 'translat', 'peopl', 'download', 'music', 'never', 'paid', 'henc', 'legal', 'difficulti', 'copyright', 'infring', 'napster', 'monster', 'music', 'shop', 'mall', 'without', 'shop', 'argument', 'defens', 'theft', 'remain', 'patent', 'pun', 'intend', 'absurd', 'absurdest', 'musician', 'make', 'money', 'tour', 'steal', 'record', 'compani', 'microcosm', 'democrat', 'tax', 'evil', 'rich', 'pay', 'free', 'stuff', 'mantra', 'obnoxi', 'steal', 'anyon', 'steal', 'oh', 'cours', 'musician', 'get', 'paid', 'music', 'unless', 'music', 'stolen', 'steal', 'anyth', 'physic', 'like', 'take', 'compact', 'disc', 'anyth', 'behold', 'absolut', 'ridicul', 'intellectu', 'properti', 'properti', 'assert', 'even', 'mani', 'center', 'right', 'libertarian', 'peopl', 'outfit', 'statur', 'lame', 'put', 'forward', 'compact', 'disc', 'bereft', 'adel', 'drake', 'taylor', 'swift', 'noth', 'high', 'tech', 'plastic', 'steal', 'get', 'high', 'tech', 'plastic', 'want', 'encod', 'thereon', 'music', 'idea', 'beget', 'music', 'record', 'market', 'teenag', 'mad', 'matter', 'idea', 'intellectu', 'properti', 'thu', 'intellectu', 'properti', 'fact', 'import', 'physic', 'properti', 'less', 'alway', 'technolog', 'advanc', 'chang', 'new', 'platform', 'principl', 'steal', 'vinyl', 'record', 'wrong', 'steal', '<NUM>', 'track', 'tape', 'cassett', 'cd', 'steal', 'mp', '<NUM>', 'steal', 'napster', 'toe', 'water', 'begin', 'theft', 'digit', 'good', 'music', 'movi', 'comput', 'softwar', 'exponenti', 'grown', 'huge', 'global', 'problem', 'kim', 'dotcom', 'pun', 'see', 'also', 'china', 'cours', 'alway', 'constitu', 'free', 'stuff', 'see', 'democrat', 'parti', 'major', 'player', 'fact', 'made', 'key', 'compon', 'busi', 'model', 'hello', 'googl', 'intellectu', 'properti', 'thiev', 'lot', 'coin', 'rare', 'pay', 'anyth', 'dress', 'thieveri', 'quit', 'nice', 'hire', 'lot', 'lawyer', 'organ', 'pretend', 'opposit', 'thieveri', 'actual', 'opposit', 'technolog', 'advanc', 'cours', 'defund', 'undermin', 'futur', 'technolog', 'advanc', 'get', 'paid', 'last', 'advanc', 'earth', 'would', 'anyon', 'els', 'invest', 'next', 'thiev', 'hire', 'lot', 'lobbyist', 'law', 'written', 'legal', 'theft', 'wit', 'innov', 'patent', 'act', 'current', 'consider', 'congress', 'bill', 'would', 'make', 'much', 'easier', 'peopl', 'patent', 'thiev', 'like', 'napster', 'china', 'kim', 'dotcom', 'copyright', 'trademark', 'would', 'becom', 'dramat', 'difficult', 'intellectu', 'properti', 'holder', 'whose', 'properti', 'protect', 'devic', 'patent', 'stop', 'peopl', 'steal', 'idea', 'bill', 'anti', 'intellectu', 'properti', 'anti', 'properti', 'anti', 'technolog', 'advanc', 'anti', 'capit', 'pro', 'theft', 'make', 'lot', 'illeg', 'thieveri', 'lot', 'less', 'subject', 'law', 'enforc', 'understand', 'thiev', 'would', 'want', 'zero', 'idea', 'anyon', 'els', 'post', 'easier', 'steal', 'mean', 'steal', 'appear', 'first', 'redstat', 'sourc', '<URL>']"
        ],
        [
         "59",
         "fake",
         "['american', 'stun', 'discov', 'govern', 'shutdown', 'weekend', 'total', 'unawar', 'even', 'function', 'first', 'place', 'thing', 'govern', 'one', 'confus', 'american', 'said', 'hear', 'news', 'thought', 'tv', 'show', 'someth', 'other', 'said', 'shutdown', 'make', 'sens', 'sure', 'shutdown', 'someth', 'even', 'function', 'puzzl', 'voter', 'point', 'hang', 'go', 'start', 'govern', 'anoth', 'question', 'ask', 'mani', 'peopl', 'usual', 'work', 'white', 'hous', 'spokesperson', 'said', 'half', 'subscrib', 'shovel', 'follow', 'us', 'facebook', 'twitter', 'instagram']"
        ]
       ],
       "shape": {
        "columns": 2,
        "rows": 650012
       }
      },
      "text/html": [
       "<div>\n",
       "<style scoped>\n",
       "    .dataframe tbody tr th:only-of-type {\n",
       "        vertical-align: middle;\n",
       "    }\n",
       "\n",
       "    .dataframe tbody tr th {\n",
       "        vertical-align: top;\n",
       "    }\n",
       "\n",
       "    .dataframe thead th {\n",
       "        text-align: right;\n",
       "    }\n",
       "</style>\n",
       "<table border=\"1\" class=\"dataframe\">\n",
       "  <thead>\n",
       "    <tr style=\"text-align: right;\">\n",
       "      <th></th>\n",
       "      <th>type</th>\n",
       "      <th>cleaned content</th>\n",
       "    </tr>\n",
       "  </thead>\n",
       "  <tbody>\n",
       "    <tr>\n",
       "      <th>0</th>\n",
       "      <td>reliable</td>\n",
       "      <td>['plu', 'one', 'articl', 'googl', 'plu', 'than...</td>\n",
       "    </tr>\n",
       "    <tr>\n",
       "      <th>1</th>\n",
       "      <td>fake</td>\n",
       "      <td>['cost', 'best', 'senat', 'bank', 'committe', ...</td>\n",
       "    </tr>\n",
       "    <tr>\n",
       "      <th>2</th>\n",
       "      <td>fake</td>\n",
       "      <td>['man', 'awoken', '&lt;NUM&gt;', 'year', 'coma', 'co...</td>\n",
       "    </tr>\n",
       "    <tr>\n",
       "      <th>3</th>\n",
       "      <td>reliable</td>\n",
       "      <td>['julia', 'geist', 'ask', 'draw', 'pictur', 'c...</td>\n",
       "    </tr>\n",
       "    <tr>\n",
       "      <th>4</th>\n",
       "      <td>fake</td>\n",
       "      <td>['&lt;NUM&gt;', 'compil', 'studi', 'vaccin', 'danger...</td>\n",
       "    </tr>\n",
       "    <tr>\n",
       "      <th>...</th>\n",
       "      <td>...</td>\n",
       "      <td>...</td>\n",
       "    </tr>\n",
       "    <tr>\n",
       "      <th>895494</th>\n",
       "      <td>fake</td>\n",
       "      <td>['poll', 'focus', 'florida', 'ohio', 'pennsylv...</td>\n",
       "    </tr>\n",
       "    <tr>\n",
       "      <th>895495</th>\n",
       "      <td>reliable</td>\n",
       "      <td>['side', 'ukrainian', 'govern', 'offici', 'sup...</td>\n",
       "    </tr>\n",
       "    <tr>\n",
       "      <th>895496</th>\n",
       "      <td>reliable</td>\n",
       "      <td>['look', 'like', 'ufc', 'fighter', 'josh', 'ko...</td>\n",
       "    </tr>\n",
       "    <tr>\n",
       "      <th>895497</th>\n",
       "      <td>reliable</td>\n",
       "      <td>['market', 'news', '|', 'tue', '&lt;DATE&gt;', '|', ...</td>\n",
       "    </tr>\n",
       "    <tr>\n",
       "      <th>895499</th>\n",
       "      <td>reliable</td>\n",
       "      <td>['open', 'ceremoni', 'like', 'big', 'fashion',...</td>\n",
       "    </tr>\n",
       "  </tbody>\n",
       "</table>\n",
       "<p>650012 rows × 2 columns</p>\n",
       "</div>"
      ],
      "text/plain": [
       "            type                                    cleaned content\n",
       "0       reliable  ['plu', 'one', 'articl', 'googl', 'plu', 'than...\n",
       "1           fake  ['cost', 'best', 'senat', 'bank', 'committe', ...\n",
       "2           fake  ['man', 'awoken', '<NUM>', 'year', 'coma', 'co...\n",
       "3       reliable  ['julia', 'geist', 'ask', 'draw', 'pictur', 'c...\n",
       "4           fake  ['<NUM>', 'compil', 'studi', 'vaccin', 'danger...\n",
       "...          ...                                                ...\n",
       "895494      fake  ['poll', 'focus', 'florida', 'ohio', 'pennsylv...\n",
       "895495  reliable  ['side', 'ukrainian', 'govern', 'offici', 'sup...\n",
       "895496  reliable  ['look', 'like', 'ufc', 'fighter', 'josh', 'ko...\n",
       "895497  reliable  ['market', 'news', '|', 'tue', '<DATE>', '|', ...\n",
       "895499  reliable  ['open', 'ceremoni', 'like', 'big', 'fashion',...\n",
       "\n",
       "[650012 rows x 2 columns]"
      ]
     },
     "execution_count": 1,
     "metadata": {},
     "output_type": "execute_result"
    }
   ],
   "source": [
    "import pandas as pd\n",
    "\n",
    "# Reading the cleaned dataset\n",
    "dataset = pd.read_csv('../cleaned_dataset_FULL.csv', usecols=['type','cleaned content'], nrows=int(995000*0.9))\n",
    "\n",
    "# removing unwanted data\n",
    "dataset = dataset.dropna(subset=['cleaned content'])\n",
    "dataset = dataset[~dataset['type'].isin(['unknown', 'unreliable'])].dropna(subset=['type'])\n",
    "\n",
    "# removing dublicate data\n",
    "dataset = dataset.drop_duplicates(subset='cleaned content', keep='first')\n",
    "\n",
    "# creating classes\n",
    "dataset = dataset.replace({'conspiracy':'fake', 'junksci':'fake', 'satire':'fake', 'bias':'fake', 'state':'fake', 'hate':'fake', 'rumor':'fake'})\n",
    "dataset = dataset.replace({'clickbait':'reliable', 'political':'reliable'})\n",
    "\n",
    "dataset"
   ]
  },
  {
   "cell_type": "markdown",
   "metadata": {},
   "source": [
    "Det fås at ud fra denne klasse fordeling, er datasættet praktisk talt balanceret (48% vs 52%).\n",
    "\n",
    "Herefter opdeller jeg datasættet i træning og validation."
   ]
  },
  {
   "cell_type": "code",
   "execution_count": 2,
   "metadata": {},
   "outputs": [
    {
     "data": {
      "application/vnd.microsoft.datawrangler.viewer.v0+json": {
       "columns": [
        {
         "name": "index",
         "rawType": "int64",
         "type": "integer"
        },
        {
         "name": "X",
         "rawType": "object",
         "type": "string"
        },
        {
         "name": "Y",
         "rawType": "object",
         "type": "string"
        }
       ],
       "conversionMethod": "pd.DataFrame",
       "ref": "2738cce0-ecad-4f29-a291-885550aa1c80",
       "rows": [
        [
         "31836",
         "['us', 'reward', 'inform', 'daesh', 'leader', 'ibrahim', 'ali', 'abu', 'bakr', 'al', 'baghdadi', 'increas', '<CUR>', '<NUM>', 'million', '<CUR>', '<NUM>', 'million', 'depart', 'state', 'said', 'releas', 'friday', 'washington', 'sputnik', 'releas', 'note', 'daesh', 'terrorist', 'group', 'name', 'al', 'baghdadi', 'caliph', 'declar', 'call', 'islam', 'caliph', '<DATE>', 'take', 'part', 'iraq', 'syria', 'today', 'u', 'depart', 'state', 'reward', 'justic', 'program', 'increas', '<CUR>', '<NUM>', 'million', 'reward', 'offer', 'inform', 'lead', 'locat', 'arrest', 'convict', 'islam', 'state', 'iraq', 'levant', 'isil', 'daesh', 'leader', 'abu', 'bakr', 'al', 'baghdadi', 'also', 'known', 'ibrahim', 'awwad', 'ibrahim', 'ali', 'al', 'badri', 'also', 'known', 'abu', 'du', 'releas', 'state', 'al', 'baghdadi', 'daesh', 'respons', 'thousand', 'civilian', 'death', 'middl', 'east', 'includ', 'death', 'civilian', 'hostag', 'unit', 'state', 'unit', 'kingdom', 'japan', 'releas', 'ad']",
         "fake"
        ],
        [
         "300735",
         "['wrote', 'coupl', 'week', 'back', 'see', 'increasingli', 'draconian', 'punish', 'rel', 'minor', 'pure', 'statutori', 'e', 'involv', 'harm', 'other', 'traffic', 'offens', 'exampl', 'reckless', 'drive', 'cite', 'noth', 'travel', '<NUM>', 'mph', '<NUM>', 'mph', 'faster', 'thanani', 'speed', 'limit', 'give', 'driver', 'incent', 'flee', 'rather', 'pull', 'one', 'hand', 'sure', 'thing', 'huge', 'fine', 'like', 'mandatori', 'court', 'appear', 'possibl', 'jail', 'time', 'almost', 'certain', 'loss', 'licens', 'guarante', 'doubl', 'cost', 'state', 'mandat', 'extort', 'insur', 'next', '<NUM>', '<NUM>', 'year', 'hand', 'freedom', 'risk', 'doubl', 'recommend', 'understand', 'think', 'tri', 'bo', 'luke', 'ol', 'rosco', 'p', 'coltran', 'morph', 'pt', 'offic', '<NUM>', 'airborn', 'swap', 'never', 'fire', 'anger', 'six', 'shooter', 'hair', 'trigger', 'glock', '<NUM>', 'keep', 'mind', 'follow', 'get', 'away', 'catch', 'go', 'jail', 'may', 'stay', 'awhil', 'state', 'elud', 'attempt', 'elud', 'cop', 'least', 'major', 'misdemeanor', 'feloni', 'home', 'state', 'va', 'least', 'charg', 'class', '<NUM>', 'misdemeanor', 'carri', 'potenti', 'six', 'month', 'stay', 'hotel', 'graybar', 'may', 'also', 'charg', 'class', '<NUM>', 'feloni', 'seriou', 'bust', 'sever', 'immedi', 'ramif', 'less', '<NUM>', 'year', 'clink<CUR>', '<NUM>', 'fine', 'daunt', 'lifelong', 'repercuss', 'convict', 'felon', 'rest', 'life', 'de', 'bar', 'possess', 'firearm', 'among', 'thing', 'might', 'also', 'wreck', 'hurt', 'someon', 'els', 'someth', 'want', 'conscienc', 'also', 'know', 'respect', 'limit', 'sort', 'thing', 'requir', 'higher', 'averag', 'skill', 'set', 'wheelman', 'steadi', 'nerv', 'go', 'good', 'driver', 'calm', 'pressur', 'attempt', 'bottom', 'line', 'think', 'care', 'make', 'break', 'awar', 'prepar', 'consequ', 'someth', 'done', 'lightli', 'done', 'odd', 'stack', 'favor', 'instanc', 'got', 'drop', 'cop', 'classic', 'scenario', 'highway', 'run', '<NUM>', 'ish', 'along', 'everyon', 'els', 'even', 'though', 'speed', 'limit', '<NUM>', 'know', '<NUM>', 'run', 'statutori', 'reckless', 'drive', 'pass', 'cop', 'cut', 'obvious', 'run', 'radar', 'glanc', 'rearview', 'see', 'turn', 'light', 'clue', 'come', 'bad', 'news', 'good', 'news', 'alreadi', 'move', '<NUM>', 'plu', 'hardli', 'move', 'know', 'take', 'least', 'critic', 'minut', 'two', 'enter', 'highway', 'cut', 'get', 'speed', 'get', 'behind', 'lot', 'car', 'must', 'bob', 'weav', 'around', 'reach', 'got', 'drop', 'cop', 'odd', 'stack', 'favor', 'immedi', 'sight', 'preciou', 'moment', 'given', 'pass', '<NUM>', 'plu', 'hewa', 'stationari', 'extrem', 'unlik', 'abl', 'see', 'color', 'make', 'model', 'certainli', 'plate', 'number', 'read', 'rest', 'articl', 'best', 'eric', 'peter']",
         "fake"
        ],
        [
         "333657",
         "['decis', 'far', 'reach', 'effect', 'across', 'countri', 'suprem', 'court', 'monday', 'struck', 'two', 'provis', 'sweep', 'anti', 'abort', 'law', 'texa', 'issu', 'texa', 'case', 'two', 'abort', 'restrict', 'fit', 'larger', 'strategi', 'known', 'target', 'regul', 'abort', 'provid', 'trap', 'type', 'law', 'indirectli', 'restrict', 'access', 'abort', 'impos', 'burdensom', 'red', 'tape', 'clinic', 'provid', 'make', 'difficult', 'legal', 'offer', 'abort', 'mani', 'clinic', 'forc', 'close', 'high', 'court', 'revers', 'two', 'major', 'provis', 'texa', 'law', 'first', 'requir', 'abort', 'doctor', 'obtain', 'admit', 'privileg', 'local', 'hospit', 'second', 'requir', 'abort', 'clinic', 'bring', 'standard', 'line', 'ambulatori', 'surgic', 'center', 'side', 'plaintiff', 'argument', 'polici', 'noth', 'improv', 'patient', 'health', 'safeti', 'major', 'opinion', 'justic', 'stephen', 'breyer', 'wrote', 'unnecessari', 'health', 'regul', 'ultim', 'pose', 'undu', 'burden', 'women', 'right', 'abort', 'decis', 'reaffirm', 'standard', 'put', 'forth', 'plan', 'parenthood', 'v', 'casey', 'anoth', 'major', 'abort', 'case', 'suprem', 'court', 'took', '<DATE>', 'stipul', 'state', 'law', 'may', 'restrict', 'abort', 'point', 'present', 'undu', 'burden', 'right', 'choos', 'suggest', 'trap', 'law', 'may', 'go', 'far', 'violat', 'standard', 'signific', 'trap', 'law', 'mani', 'ident', 'texa', 'quickli', 'spread', 'across', 'countri', 'past', 'decad', 'led', 'american', 'unit', 'life', 'aul', 'sophist', 'anti', 'abort', 'group', 'draft', 'model', 'legisl', 'shop', 'around', 'state', 'lawmak', 'multipl', 'state', 'adopt', 'exact', 'type', 'admit', 'privileg', 'ambulatori', 'surgic', 'center', 'requir', 'highli', 'success', 'strategi', 'anti', 'abort', 'movement', 'refocus', 'debat', 'away', 'restrict', 'women', 'right', 'toward', 'supposedli', 'keep', 'women', 'safe', 'accord', 'guttmach', 'institut', 'track', 'state', 'level', 'abort', 'law', '<NUM>', 'state', 'requir', 'abort', 'provid', 'kind', 'partnership', 'local', 'hospit', 'five', 'state', 'specifi', 'must', 'form', 'admit', 'privileg', '<NUM>', 'state', 'requir', 'abort', 'clinic', 'must', 'follow', 'licens', 'standard', 'ambulatori', 'surgic', 'center', 'monday', 'decis', 'mean', 'state', 'law', 'automat', 'roll', 'back', 'argument', 'texa', 'trap', 'law', 'reli', 'lot', 'specif', 'data', 'women', 'state', 'suffer', 'sharpli', 'reduc', 'access', 'clinic', 'state', 'may', 'abl', 'mount', 'argument', 'trap', 'law', 'dire', 'effect', 'clear', 'trap', 'law', 'much', 'much', 'shakier', 'ground', 'high', 'court', 'wade', 'issu', 'u', 'court', 'appeal', '<NUM>', 'circuit', 'texa', 'situat', 'similar', 'admit', 'privileg', 'requir', 'louisiana', 'mississippi', 'current', 'hold', 'challeng', 'similar', 'lawsuit', 'monday', 'decis', 'like', 'immedi', 'impact', 'outcom', 'pend', 'litig', 'particularli', 'mississippi', 'trap', 'law', 'threaten', 'shutter', 'state', 'sole', 'abort', 'clinic', 'seem', 'incred', 'unlik', 'polici', 'ever', 'allow', 'take', 'effect', 'justic', 'ruth', 'bader', 'ginsburg', 'concurr', 'fact', 'suggest', 'trap', 'law', 'alway', 'fail', 'pass', 'constitut', 'muster', 'quit', 'reach', 'clear', 'legal', 'preced', 'would', 'wipe', 'trap', 'law', 'across', 'countri', 'monday', 'decis', 'first', 'step', 'toward', 'new', 'legisl', 'realiti', 'sign', 'american', 'unit', 'life', 'need', 'find', 'new', 'strategi']",
         "reliable"
        ],
        [
         "116099",
         "['via|', 'clinton', 'foundat', 'tie', 'extrem', 'troubl', 'thing', 'capit', 'haiti', 'earthquak', 'take', 'money', 'countri', 'like', 'saudi', 'arabia', 'imprison', 'gay', 'oppress', 'women', 'list', 'goe', 'learn', 'even', 'relationship', 'big', 'busi', 'clinton', 'foundat', 'check', 'latest', 'report', 'usa', 'today', 'usa', 'today', 'nexu', 'among', 'privat', 'compani', 'hillari', 'clinton', 'state', 'depart', 'clinton', 'famili', 'foundat', 'closer', 'complex', 'even', 'donald', 'trump', 'claim', 'far', 'wide', 'known', 'compani', 'foreign', 'govern', 'gave', 'money', 'foundat', 'perhap', 'effort', 'gain', 'favor', 'one', 'key', 'part', 'puzzl', 'report', 'least', 'dozen', 'compani', 'lobbi', 'state', 'depart', 'use', 'lobbyist', 'doubl', 'major', 'clinton', 'campaign', 'fundrais', 'compani', 'gave', 'much', '<CUR>', '<NUM>', 'million', 'clinton', 'chariti', 'least', 'four', 'lobbyist', 'hire', 'hillblaz', 'clinton', 'campaign', 'name', 'support', 'rais', '<CUR>', '<NUM>', 'current', 'white', 'hous', 'race', 'two', 'four', 'also', 'rais', 'fund', 'clinton', 'unsuccess', '<DATE>', 'presidenti', 'bid', 'usa', 'today', 'reach', 'conclus', 'obtain', 'feder', 'lobbi', 'data', 'nonpartisan', 'center', 'respons', 'polit', '<DATE>', '<DATE>', 'clinton', 'tenur', 'secretari', 'state', 'report', 'compar', 'data', 'donor', 'list', 'made', 'public', 'clinton', 'nonprofit', 'feder', 'campaign', 'financi', 'record', 'elect', 'clinton', 'would', 'first', 'u', 'presid', 'previou', 'involv', 'foundat', 'rais', 'million', 'dollar', 'tie', 'foreign', 'interest', 'donor', 'said', 'dougla', 'brinkley', 'histori', 'professor', 'yet', 'anoth', 'exampl', 'hillari', 'clinton', 'busi', 'presid', 'foundat', 'noth', 'way', 'make', 'money', 'gain', 'influenc', 'hillari', 'made', 'million', 'hold', 'offic', 'public', 'servant', 'make', 'sens']",
         "fake"
        ],
        [
         "474742",
         "['last', 'week', 'professor', 'michael', 'mcconnel', 'debat', 'proposit', 'intellig', 'squar', 'argu', 'obama', 'administr', 'other', 'violat', 'constitut', 'worthi', 'oppon', 'two', 'advoc', 'vast', 'presidenti', 'power', 'professor', 'adam', 'cox', 'eric', 'posner', 'find', 'video', 'transcript', 'debat', 'final', 'vote', 'talli', 'much']",
         "reliable"
        ],
        [
         "584235",
         "['busi', '<NUM>', '<NUM>', 'pm', 'gmt', 'bet', 'trump', 'loosen', 'purs', 'string', 'spark', 'global', 'reflat', 'trade', 'u', 'presid', 'elect', 'donald', 'trump', 'gestur', 'speak', 'elect', 'night', 'ralli', 'manhattan', 'new', 'york', 'u', '<DATE>', 'reuter', 'mike', 'segar', 'jami', 'mcgeever', '|', 'london', 'london', 'construct', 'compani', 'spain', 'copper', 'trader', 'london', 'financi', 'district', 'donald', 'trump', 'victori', 'u', 'presidenti', 'elect', 'felt', 'around', 'world', 'investor', 'bet', 'last', 'rise', 'global', 'inflat', 'trump', 'deliv', 'pledg', 'give', 'u', 'economi', 'growth', 'inflationari', 'shot', 'arm', 'multi', 'trillion', 'dollar', 'packag', 'tax', 'cut', 'infrastructur', 'spend', 'impact', 'like', 'felt', 'far', 'beyond', 'american', 'border', 'analyst', 'g', 'invest', 'week', 'went', 'far', 'ponder', 'whether', 'elect', 'victori', 'trigger', 'end', 'global', 'auster', 'inflat', 'slump', 'histor', 'low', 'sinc', 'financi', 'crisi', 'much', 'develop', 'world', 'battl', 'deflat', 'signific', 'rise', 'inflat', 'reflat', 'come', 'would', 'mark', 'sea', 'chang', 'market', 'u', 'economi', 'world', 'largest', 'inflationari', 'move', 'felt', 'elsewher', 'investor', 'also', 'bet', 'american', 'fiscal', 'stimulu', 'replic', 'vari', 'degre', 'europ', 'asia', 'therebi', 'magnifi', 'effect', 'tri', 'pick', 'biggest', 'winner', 'rise', 'price', 'across', 'geograph', 'region', 'asset', 'class', 'industri', 'much', 'focu', 'center', 'govern', 'bond', 'base', 'metal', 'like', 'copper', 'steel', 'compani', 'relat', 'resourc', 'construct', 'area', 'sensit', 'sharp', 'move', 'inflat', 'infrastructur', 'spend', 'core', 'mr', 'trump', 'offer', 'reflat', 'nomura', 'asset', 'alloc', 'foreign', 'exchang', 'strategi', 'team', 'said', 'thursday', 'ad', 'rise', 'price', 'market', 'interest', 'rate', 'unit', 'state', 'need', 'accompani', 'rise', 'real', 'econom', 'growth', 'price', 'discoveri', 'process', 'domest', 'reflat', 'take', 'long', 'time', 'determin', 'said', 'meantim', 'though', 'recommend', 'buy', 'dollar', 'euro', 'japanes', 'yen', 'canadian', 'dollar', 'anticip', 'inflationari', 'impuls', 'could', 'forc', 'u', 'feder', 'reserv', 'rais', 'interest', 'rate', 'next', 'year', 'faster', 'current', 'expect', 'dollar', 'bond', 'nomura', 'expect', 'dollar', 'rise', '<NUM>', 'yen', 'within', 'three', 'month', '<NUM>', 'current', 'climb', 'c<CUR>', '<NUM>', '<CUR>', '<NUM>', 'euro', 'fall', '<CUR>', '<NUM>', '<CUR>', '<NUM>', 'similar', 'view', 'held', 'michael', 'hasenstab', 'chief', 'invest', 'offic', 'templeton', 'global', 'macro', 'fund', 'made', 'name', 'bet', 'irish', 'hungarian', 'bond', 'among', 'other', 'continu', 'expect', 'rise', 'inflat', 'unit', 'state', 'rise', 'u', 'treasuri', 'yield', 'depreci', 'japanes', 'yen', 'euro', 'currenc', 'appreci', 'across', 'select', 'set', 'emerg', 'market', 'said', 'u', 'inflat', 'expect', 'measur', 'five', 'year', 'inflat', 'swap', 'contract', 'jump', 'wake', 'trump', 'victori', '<NUM>', 'percent', 'wednesday', 'highest', 'level', 'sinc', 'juli', 'last', 'year', '<NUM>', 'percent', 'day', 'long', 'date', 'treasuri', 'yield', 'leapt', 'anticip', 'tighter', 'monetari', 'polici', 'need', 'cool', 'inflationari', 'pressur', '<NUM>', '<NUM>', 'year', 'yield', 'hit', 'highest', 'level', 'sinc', 'januari', 'rise', '<NUM>', 'year', 'yield', 'particular', 'remark', '<NUM>', 'basi', 'point', 'week', 'cours', 'biggest', 'weekli', 'rise', 'sinc', '<DATE>', 'among', 'biggest', 'last', 'three', 'decad', 'led', 'call', 'steepen', 'yield', 'curv', 'gap', 'short', 'longer', 'date', 'yield', 'widen', 'flatten', 'curv', 'often', 'indic', 'weaker', 'outlook', 'growth', 'inflat', 'steeper', 'curv', 'suggest', 'opposit', 'seismic', 'move', 'exclus', 'u', 'bond', 'inflat', 'market', 'bond', 'across', 'develop', 'world', 'near', 'uninterrupt', 'bull', 'run', '<NUM>', 'year', 'analyst', 'say', 'year', 'turn', 'point', 'euro', 'zone', 'inflat', 'expect', 'measur', 'five', 'year', 'inflat', 'swap', 'rate', 'post', 'biggest', 'rise', 'sinc', 'august', 'last', 'year', 'thursday', '<NUM>', 'year', 'german', 'yield', 'surg', 'almost', '<NUM>', 'basi', 'point', 'construct', 'metal', 'shift', 'across', 'global', 'interest', 'rate', 'market', 'respons', 'chang', 'inflat', 'outlook', 'mirror', 'commod', 'equiti', 'market', 'bank', 'america', 'merril', 'lynch', 'thursday', 'reiter', 'overweight', 'posit', 'european', 'basic', 'resourc', 'oil', 'sector', 'area', 'investor', 'still', 'underweight', 'copper', 'surg', '<NUM>', 'percent', '<NUM>', 'month', 'high', '<CUR>', '<NUM>', 'tonn', 'thursday', 'nickel', 'also', 'hit', 'highest', 'sinc', '<DATE>', 'zinc', 'rose', '<DATE>', 'year', 'peak', 'alreadi', 'filter', 'relat', 'sector', 'compani', 'across', 'global', 'equiti', 'market', 'share', 'world', 'largest', 'steelmak', 'arcelormit', 'rose', '<NUM>', 'percent', 'thursday', 'steel', 'sector', 'pois', 'continu', 'vein', 'say', 'barclay', 'especi', 'china', 'respond', 'trump', 'u', 'focus', 'largess', 'fiscal', 'stimulu', 'lift', 'domest', 'economi', 'outcom', 'u', 'elect', 'posit', 'surpris', 'steel', 'equiti', 'mr', 'trump', 'aim', 'boost', 'infrastructur', 'spend', 'tighten', 'trade', 'protect', 'support', 'local', 'steel', 'sector', 'barclay', 'ad', 'europ', 'construct', 'materi', 'index', 'hit', 'nine', 'year', 'high', 'thursday', 'share', 'spanish', 'construct', 'conglomer', 'ac', 'busi', 'around', 'world', 'rose', '<NUM>', 'percent', 'wednesday', 'biggest', 'rise', 'sinc', 'februari', '<NUM>', 'percent', 'far', 'week', 'irish', 'construct', 'firm', 'crh', 'deriv', 'half', 'revenu', 'unit', 'state', 'hit', 'nine', 'year', 'high', 'thursday', '<NUM>', 'euro', 'within', 'whisker', 'time', 'peak', '<NUM>', 'euro', 'addit', 'report', 'alistair', 'smout', 'edit', 'pravin', 'char', 'next', 'busi', 'news']",
         "reliable"
        ],
        [
         "678315",
         "['well', 'third', 'quarter', 'fundrais', 'number', 'fec', 'websit', 'three', 'edit', 'none', 'senat', 'campaign', 'hous', 'except', 'jeff', 'seemann', 'check', 'campaign', 'statu', 'search', '<URL>', 'easi', 'way', 'compar', 'candid', 'gone', 'given', 'inform', 'dko', 'hous', 'candid', 'oppon', 'senat', 'inform', 'becom', 'avail', 'updat', 'inform', 'observ', 'loi', 'murphi', 'richard', 'romero', 'samara', 'barend', 'rais', 'oppon', 'barend', 'ahead', 'cash', 'hand', 'ralph', 'regula', 'still', 'less', '<NUM>', 'cash', 'hand', 'jeff', 'seemann', 'could', 'money', 'texa', '<NUM>', 'richard', 'morrison', 'q', '<NUM>', 'contribut', '<NUM>', 'cash', 'hand', '<NUM>', 'tom', 'delay', 'q', '<NUM>', 'contribut', '<NUM>', 'cash', 'hand', '<NUM>']",
         "reliable"
        ],
        [
         "662464",
         "['alexandr', 'lacazett', 'talk', 'cool', 'sinc', 'last', 'season', 'lyon', 'man', 'led', 'ligu', '<NUM>', 'goal', 'chart', 'still', 'liverpool', 'radar', 'getti', 'imag']",
         "fake"
        ],
        [
         "55557",
         "['getti', 'martin', 'lewi', 'turn', '<NUM>', 'p', '<CUR>', '<NUM>', 'long', 'ago', 'peopl', 'scan', 'bottom', 'new', 'five', 'pound', 'note', 'find', 'could', 'cash', 'hundr', 'money', 'save', 'expert', 'martin', 'lewi', 'urg', 'peopl', 'look', 'special', '<NUM>', 'p', 'coin', 'could', 'earn', 'least', '<CUR>', '<NUM>', 'rare', '<NUM>', 'ps', 'fetch', '<CUR>', '<NUM>', 'ebay', 'martin', 'say', '<CUR>', '<NUM>', '<CUR>', '<NUM>', 'like', 'lucki', 'got', 'seven', 'coin', 'knock', 'around', 'could', 'line', 'payout', 'martin', 'said', 'uncircul', 'coin', 'e', 'never', 'actual', 'sent', 'exchang', 'attract', 'highest', 'price', 'better', 'condit', 'go', 'getti', 'martin', 'lewi', 'rare', '<NUM>', 'ps', 'fetch', '<CUR>', '<NUM>', 'ebay', 'kew', 'garden', '<NUM>', 'p', '<DATE>', 'coin', 'commemor', '<NUM>', 'year', 'royal', 'botan', 'garden', 'kew', 'fetch', '<CUR>', '<NUM>', '<CUR>', '<NUM>', 'ebay', '<NUM>', 'produc', 'make', 'one', 'sought', '<NUM>', 'ps', 'london', 'olymp', 'aquat', '<NUM>', 'p', '<DATE>', 'royal', 'mint', 'releas', 'seri', '<NUM>', 'olymp', 'theme', '<NUM>', 'ps', 'attract', 'face', 'valu', 'though', 'offsid', 'rule', '<NUM>', 'p', 'could', 'net', 'fiver', 'martin', 'ad', 'howev', 'collector', 'frenzi', 'one', 'coin', 'origin', 'aquat', '<NUM>', 'p', 'show', 'water', 'pass', 'swimmer', 'face', 'mint', 'print', '<NUM>', 'resign', 'show', 'face', 'clearli', 'guarante', 'cours', 'seen', 'go', '<CUR>', '<NUM>', 'ebay', '<NUM>', 'time', 'monetari', 'valu', 'wwf', '<NUM>', 'p', 'releas', '<DATE>', 'special', 'edit', 'featur', '<NUM>', 'tini', 'anim', 'wwf', 'panda', 'heart', 'fetch', '<CUR>', '<NUM>', 'good', 'nick', 'though', 'mani', 'go', '<CUR>', '<NUM>', 'ish', '<NUM>', 'circul', 'pretti', 'common', 'martin', 'lewi', 'need', 'get', 'right', 'mon', '<DATE>', 'morn', 'money', 'save', 'expert', 'explain', 'need', 'protect', 'event', 'death', 'divorc', 'dementia', 'itv', 'show', 'today', 'play', 'slideshow', '<NUM>', '<NUM>', 'royal', 'mint', 'kew', 'garden', '<NUM>', 'p', 'coin', 'fetch', '<CUR>', '<NUM>', '<CUR>', '<NUM>', 'peter', 'rabbit', '<NUM>', 'p', 'year', 'veget', 'thiev', 'bunni', 'appear', '<NUM>', 'p', 'piec', '<DATE>', 'year', 'sinc', 'beatrix', 'potter', 'birth', 'lucki', 'might', 'get', '<CUR>', '<NUM>', 'one', 'charact', 'fetch', 'similar', 'price', 'includ', 'squirrel', 'nutkin', 'mr', 'tiggi', 'winkl', 'jemima', 'puddl', 'duck', 'royal', 'mint', 'still', 'sell', 'box', '<CUR>', '<NUM>', 'onlin', 'unlik', 'beat', 'martin', 'lewi', 'add', 'bear', 'mind', 'though', 'unlik', 'new', 'plastic', 'fiver', 'circul', 'less', 'like', 'wind', 'pocket', 'right', 'away', 'turn', '<NUM>', '<NUM>', 'p', 'even', '<NUM>', 'p', 'coin', 'worth', 'mint', 'commonwealth', 'game', '<CUR>', '<NUM>', 'produc', 'celebr', '<DATE>', 'manchest', 'commonwealth', 'game', 'chang', 'hand', '<CUR>', '<NUM>', 'ebay', 'coin', 'come', 'four', 'edit', 'repres', 'home', 'nation', 'northern', 'ireland', 'coin', 'rarest', '<NUM>', 'circul', 'spot', 'one', 'could', 'go', 'like', '<CUR>', '<NUM>', 'royal', 'mint', 'london', 'olymp', 'aquat', '<NUM>', 'p', 'gone', '<CUR>', '<NUM>', 'ebay']",
         "fake"
        ],
        [
         "329855",
         "['alex', 'jone', 'hd', 'commerci', 'free', 'special', 'saturday', 'show', '<DATE>', 'reader', 'think', 'stori', 'fact', 'add', 'two', 'cent', 'news', 'alex', 'jone', 'hd', 'commerci', 'free', 'special', 'saturday', 'show', '<DATE>', 'youtub', 'conspiracyscop', 'trump', 'call', 'news', 'media', 'enemi', 'american', 'peopl', 'alex', 'jone', 'break', 'latest', 'trump', 'news', 'strength', 'us', 'economi', 'msm', 'attack', '<URL>', '<URL>', '<URL>', '<URL>', '<URL>', '<URL>', '<URL>', 'follow', 'twitter', 'get', 'upload', '<URL>', 'sourc', '<URL>']",
         "fake"
        ],
        [
         "334039",
         "['sophist', 'defens', 'appar', 'includ', 'sandbag', 'flak', 'jacket', 'helmet', 'digress', 'realli', 'want', 'mention', 'use', 'de', 'facto', 'slave', 'labor', 'build', 'either', 'shoddi', 'construct', 'practic', 'undoubtedli', 'kill', 'us', 'personnel', 'year', 'come', 'inaugur', 'kabuki', 'theatr', 'satir', 'think', 'iraqi', 'side', 'jalal', 'talabani', 'grate', 'courag', 'decis', 'presid', 'bush', 'liber', 'iraq', 'al', 'jazeera', 'least', 'manag', 'quot', 'edward', 'peck', 'former', 'american', 'diplomat', 'iraq', 'said', '<DATE>', 'kind', 'embassi', 'everybodi', 'live', 'insid', 'blast', 'proof', 'peopl', 'run', 'around', 'helmet', 'crouch', 'behind', 'sandbag', 'importantli', 'everyday', 'life', 'iraq', 'moral', 'suppos', 'al', 'jazeera', 'report', 'charg', 'iraq', 'whether', 'us', 'troop', 'way', 'bound', 'rule', 'law', 'answer', 'ye', 'mayb', 'tri', 'enforc', 'whether', 'us', 'forc', 'conduct', 'oper', 'unilater', 'tri', 'enforc', 'anoth', 'suicid', 'bomber', 'manag', 'kill', 'least', '<NUM>', 'peopl', 'day', 'shia', 'shrine', '<NUM>', 'km', 'embassi', 'ap', 'say', 'us', 'left', 'saddam', 'republican', 'palac', 'occuppi', 'sinc', '<DATE>', 'interest', 'choic', 'word', 'suspect', 'quit', 'sore', 'point', 'iraqi', 'award', 'funniest', 'unattribut', 'quot', 'day', 'one', 'us', 'offici', 'said', 'cost', 'run', 'new', 'complex', 'expect', 'exorbit', 'us', 'forc', 'rent', 'part', 'space', 'al', 'jazeera', 'none', 'articl', 'mention', 'embassi', 'finish', 'well', 'far', 'tell', 'construct', 'crane', 'photo', 'assum', 'readili', 'defens', 'us', 'forc', 'suppos', 'reason', 'enough', 'make', 'move', 'articl', 'mere', 'state', 'us', 'rais', 'flag', 'john', 'negropont', 'also', 'attend', 'ceremoni', 'one', 'quot', 'suppos', 'someon', 'could', 'probabl', 'find', 'transcript', 'ny', 'time', 'say', 'b', 'oth', 'crocker', 'negropont', 'use', 'remark', 'opportun', 'reflect', 'last', 'six', 'year', 'one', 'specul', 'long', 'us', 'abl', 'maintain', 'bush', 'folli', 'bank', 'tigri']",
         "reliable"
        ],
        [
         "793822",
         "['editor', 'manhattan', 'littl', 'one', 'come', 'bigger', 'number', 'front', 'page', '<DATE>', 'rich', 'famili', 'babi', 'stay', 'manhattan', 'logist', 'product', 'fulfil', 'work', 'manhattan', 'rais', 'children', 'close', 'enjoy', 'reward', 'famili', 'life', 'fact', 'mother', 'work', 'manhattan', 'juggl', 'differ', 'role', 'respons', 'cannot', 'afford', 'time', 'extrem', 'day', 'commut', 'suburbia', 'claudia', 'plottel', 'new', 'york', '<DATE>']",
         "reliable"
        ],
        [
         "529187",
         "['five', 'way', 'small', 'busi', 'owner', 'increas', 'bottom', 'line', 'news', 'follow', 'guest', 'post', 'submit', 'caitlin', 'laura', 'experian', 'qa', 'caitlin', 'small', 'busi', 'owner', 'continu', 'look', 'way', 'save', 'money', 'effici', 'time', 'recess', 'small', 'busi', 'increas', 'bottom', 'line', 'need', 'focu', 'calcul', 'actual', 'cost', 'run', 'busi', 'boost', 'profit', 'import', 'cut', 'cost', 'compani', 'cut', 'hundr', 'dollar', 'month', 'add', 'thousand', 'dollar', 'year', 'huge', 'mani', 'small', 'busi', 'downfal', 'mani', 'compani', 'strictli', 'focu', 'profit', 'also', 'save', 'money', 'increas', 'bottom', 'line', 'let', 'look', '<NUM>', 'thing', 'busi', 'might', 'overlook', 'tri', 'improv', 'bottom', 'line', 'verifi', 'client', 'inform', 'busi', 'wast', 'thousand', 'dollar', 'year', 'return', 'mail', 'everi', 'year', 'busi', 'lot', 'market', 'though', 'direct', 'mail', 'address', 'verif', 'softwar', 'save', 'money', 'addit', 'increas', 'respons', 'rate', 'address', 'softwar', 'save', 'time', 'money', 'long', 'run', 'cost', 'compani', 'calcul', 'worth', 'fairli', 'easili', 'e', 'mail', 'verif', 'also', 'valuabl', 'tool', 'increas', 'reach', 'compani', 'lot', 'e', 'mail', 'market', 'negoti', 'long', 'term', 'b', '<NUM>', 'b', 'contract', 'stuck', 'long', 'term', 'contract', 'phone', 'dsl', 'internet', 'e', 'mail', 'servic', 'negoti', 'contract', 'reduc', 'cost', 'must', 'small', 'busi', 'bundl', 'packag', 'togeth', 'might', 'save', 'lot', 'money', 'might', 'also', 'phone', 'line', 'servic', 'cancel', 'togeth', 'shop', 'around', 'homework', 'find', 'best', 'rate', 'find', 'better', 'deal', 'present', 'current', 'servic', 'provid', 'would', 'rather', 'keep', 'busi', 'even', 'negoti', 'contract', 'lose', 'togeth', 'cross', 'sell', 'product', 'matter', 'type', 'busi', 'probabl', 'servic', 'provid', 'compliment', 'alreadi', 'exampl', 'small', 'market', 'compani', 'expand', 'servic', 'search', 'engin', 'optim', 'seo', 'pay', 'per', 'click', 'advertis', 'ppc', 'small', 'babysit', 'compani', 'could', 'offer', 'thing', 'like', 'tutor', 'soccer', 'train', 'massag', 'spa', 'also', 'sell', 'yoga', 'cloth', 'health', 'food', 'offer', 'manicur', 'pedicur', 'cross', 'sell', 'product', 'exist', 'client', 'base', 'spend', 'money', 'cross', 'channel', 'market', 'effort', 'social', 'media', 'print', 'advertis', 'mobil', 'market', 'seo', 'public', 'relat', 'come', 'togeth', 'unifi', 'front', 'materi', 'creat', 'press', 'releas', 'also', 'work', 'seo', 'optim', 'content', 'copi', 'creat', 'print', 'advertis', 'also', 'place', 'onlin', 'use', 'content', 'creat', 'multipl', 'purpos', 'help', 'save', 'small', 'busi', 'time', 'money', 'addit', 'help', 'brand', 'product', 'servic', 'across', 'channel', 'invest', 'employe', 'employe', 'show', 'accept', 'paycheck', 'worthless', 'small', 'busi', 'employe', 'invest', 'compani', 'futur', 'invest', 'first', 'invest', 'employe', 'thing', 'like', 'cross', 'train', 'show', 'fit', 'toward', 'make', 'compani', 'better', 'whole', 'get', 'know', 'employe', 'person', 'level', 'give', 'flexibl', 'like', 'work', 'home', 'need', 'reward', 'hard', 'work', 'way', 'besid', 'monetari', 'compens', 'mani', 'small', 'busi', 'also', 'flop', 'think', 'busi', 'profit', 'alway', 'case', 'manag', 'need', 'monthli', 'end', 'year', 'assess', 'actual', 'cost', 'small', 'busi', 'constantli', 'lookout', 'way', 'cut', 'cost', 'increas', 'profit', 'want', 'succeed', 'imag', 'credit', '<NUM>', 'k', '<DATE>', 'barcod', 'softwar', 'dynam', 'system', 'asset', 'track', 'softwar', 'give', 'tool', 'need', 'manag', 'compani', 'resourc', 'reduc', 'cost', 'shorten', 'cycl', 'time', 'increas', 'profit', 'return', 'sourc']",
         "fake"
        ],
        [
         "481592",
         "['painstak', 'fieldwork', 'campaign', 'donald', 'p', 'green', 'professor', 'columbia', 'said', 'mani', 'wrong', 'alan', 'gerber', 'green', 'wrote', 'get', 'vote', 'collect', 'evid', 'random', 'control', 'trial', 'get', 'candid', 'support', 'poll', 'strong', 'consensu', 'one', 'thing', 'actual', 'increas', 'turnout', 'contact', 'prefer', 'person', 'said', 'green', 'shoe', 'leather', 'realli', 'work', 'especi', 'neighbor', 'door', 'knock', 'voter', 'anger', 'anoth', 'turnout', 'boost', 'henc', 'domin', 'neg', 'ad', 'cours', 'increas', 'polar', 'dysfunct', 'among', 'democrat', 'year', 'seriou', 'peopl', 'alreadi', 'sign', 'run', '<DATE>', 'even', 'incumb', 'formerli', 'consid', 'safe', 'partli', 'presid', 'trump', 'initi', 'resist', 'extraordinari', 'wave', 'post', 'novemb', 'activ', 'also', 'suppli', 'door', 'knocker', 'voter', 'anger', 'like', 'voter', 'apoplexi', 'guarante', 'enthusiasm', 'last', 'increas', 'turnout', 'long', 'term', 'barack', 'obama', 'first', 'elect', '<DATE>', 'high', 'turnout', 'year', 'six', 'year', 'later', '<DATE>', 'turnout', 'lowest', 'sinc', '<DATE>', 'lot', 'american', 'voter', 'occupi', 'defend', 'democraci', 'way', 'even', '<DATE>', 'pro', 'turnout', 'factor', 'undercut', 'numer', 'structur', 'barrier', 'long', 'term', 'obstacl', 'intend', 'preserv', 'domin', 'rich', 'white', 'older', 'peopl', 'suppress', 'vote', 'poorer', 'younger', 'minor', 'nevertheless', 'last', 'year', 'mani', 'state', 'citi', 'begun', 'institut', 'reform', 'make', 'vote', 'easier', 'denver', 'leader', 'coloradan', 'long', 'among', 'nation', 'enthusiast', 'voter', 'last', 'novemb', 'denver', 'set', 'person', 'best', '<NUM>', 'percent', 'regist', 'vote', 'much', 'major', 'citi', 'percentag', '<NUM>', '<DATE>', '<NUM>', '<DATE>', 'us', 'custom', 'servic', 'issu', 'said', 'amber', 'mcreynold', 'denver', 'director', 'elect', 'whatev', 'better', 'serv', 'voter', 'go', 'advertis', 'continu', 'read', 'main', 'stori', 'denver', 'mail', 'ballot', 'everi', 'regist', 'voter', 'voter', 'could', 'fill', 'home', 'mail', 'bring', 'drop', 'box', 'mail', 'ballot', 'could', 'track', 'bar', 'code', 'vote', 'home', 'popular', '<NUM>', 'percent', 'voter', 'chose', 'go', 'poll', 'place', 'could', 'anywher', 'citi', 'near', 'home', 'near', 'work', 'modern', 'peopl', 'could', 'regist', 'vote', 'day', 'move', 'voter', 'registr', 'chang', 'automat', 'updat', 'driver', 'licens', 'mcreynold', 'host', '<NUM>', '<NUM>', 'elect', 'offici', 'elsewher', 'interest', 'denver', 'chang', 'said', 'mani', 'california', 'week', 'orang', 'counti', 'board', 'supervisor', 'decid', 'denver', 'style', 'reform', 'hear', 'lot', 'voter', 'suppress', 'true', 'mani', 'state', 'citi', 'republican', 'offici', 'make', 'harder', 'vote', 'place', 'obstacl', 'aim', 'especi', 'minor', 'rightli', 'drawn', 'attent', 'condemn', 'revers', 'court', 'newslett', 'sign', 'continu', 'read', 'main', 'stori', 'sign', 'opinion', 'today', 'newslett', 'everi', 'weekday', 'get', 'thought', 'provok', 'commentari', 'op', 'ed', 'columnist', 'time', 'editori', 'board', 'contribut', 'writer', 'around', 'world', 'pleas', 'verifi', 'robot', 'click', 'box', 'invalid', 'email', 'address', 'pleas', 'enter', 'must', 'select', 'newslett', 'subscrib', 'sign', 'agre', 'receiv', 'occasion', 'updat', 'special', 'offer', 'new', 'york', 'time', 'product', 'servic', 'thank', 'subscrib', 'error', 'occur', 'pleas', 'tri', 'later', 'view', 'new', 'york', 'time', 'newslett', 'counter', 'trend', 'grow', 'illinoi', 'legislatur', 'exampl', 'adopt', 'automat', 'registr', 'unanim', 'vote', 'hous', 'governor', 'sign', 'citizen', 'contact', 'state', 'agenc', 'includ', 'motor', 'vehicl', 'depart', 'automat', 'regist', 'unless', 'declin', 'oregon', 'first', 'state', 'institut', 'automat', 'registr', 'eight', 'well', 'washington', 'c', 'includ', 'red', 'state', 'alaska', 'georgia', 'west', 'virginia', 'momentum', 'grow', 'far', 'year', '<NUM>', 'state', 'introduc', 'propos', 'institut', 'expand', 'republican', 'approv', 'automat', 'registr', 'research', 'believ', 'truli', 'nonpartisan', 'new', 'one', 'test', 'case', 'oregon', 'year', 'state', 'saw', 'higher', 'turnout', 'among', 'peopl', 'young', 'poorer', 'less', 'urban', 'young', 'peopl', 'poor', 'minor', 'tend', 'skew', 'democrat', 'rural', 'peopl', 'poor', 'white', 'tend', 'vote', 'republican', 'advertis', 'continu', 'read', 'main', 'stori', 'also', 'right', 'thing', 'everybodi', 'tri', 'suppress', 'vote', 'said', 'wendi', 'weiser', 'director', 'democraci', 'program', 'brennan', 'center', 'justic', 'peopl', 'want', 'system', 'work', 'better', 'automat', 'registr', 'make', 'system', 'work', 'better', 'save', 'money', 'clean', 'voter', 'roll', 'reduc', 'chanc', 'error', 'fraud', 'without', 'increas', 'risk', 'hack', 'import', 'rais', 'turnout', 'probabl', 'concert', 'reform', 'mayb', 'one', 'reason', 'turnout', 'dismal', 'unit', 'state', 'one', 'democraci', 'place', 'burden', 'registr', 'voter', 'seem', 'normal', 'regist', 'vote', 'nearli', 'everi', 'advanc', 'democraci', 'citizen', 'automat', 'regist', 'nearli', 'everi', 'democraci', 'hold', 'elect', 'weekend', 'make', 'elect', 'day', 'holiday', 'countri', 'peopl', 'dress', 'go', 'vote', 'vote', 'workday', 'usual', 'burden', 'old', 'peopl', 'peopl', 'power', 'enough', 'set', 'hour', 'wage', 'worker', 'howev', 'daunt', 'hard', 'get', 'voter', 'attent', 'said', 'elain', 'kamarck', 'director', 'center', 'effect', 'public', 'manag', 'brook', 'institut', 'squeez', 'elect', 'day', 'middl', 'everyth', 'els', 'american', 'never', 'say', 'stop', 'think', 'countri', 'vote', 'decentr', 'american', 'elect', 'elect', 'everi', 'singl', 'week', 'said', 'seth', 'flaxman', 'run', 'nonprofit', 'organ', 'democraci', 'work', 'turbovot', 'app', 'text', 'email', 'peopl', 'vote', 'remind', 'instruct', 'form', 'given', 'inform', '<NUM>', 'race', 'far', 'year', 'vote', 'mail', 'deadlin', 'absente', 'ballot', 'deadlin', 'appropri', 'form', 'peopl', 'need', 'peopl', 'think', 'barrier', 'increas', 'turnout', 'insurmount', 'one', 'prime', 'articl', 'faith', 'made', 'vote', 'easier', 'would', 'vote', 'said', 'david', 'becker', 'direct', 'center', 'elect', 'innov', 'research', 'well', 'vote', 'easier', 'u', 'almost', 'everi', 'voter', 'time', 'american', 'histori', 'despit', 'turnout', 'everi', 'kind', 'elect', 'except', 'presidenti', 'elect', 'declin', 'presidenti', 'elect', 'turnout', 'stagnat', 'youth', 'voter', 'turnout', 'time', 'low', 'advertis', 'continu', 'read', 'main', 'stori', 'chang', 'elect', 'administr', 'reform', 'around', 'conveni', 'vote', 'literatur', 'pretti', 'conclus', 'none', 'signific', 'long', 'term', 'effect', 'everyon', 'agre', 'research', 'point', 'elect', 'day', 'registr', 'exampl', 'someth', 'work', 'fifteen', 'state', 'let', 'voter', 'regist', 'vote', 'make', 'sens', 'elect', 'day', 'registr', 'could', 'increas', 'turnout', 'state', 'registr', 'close', 'month', 'elect', 'day', 'final', 'readi', 'pay', 'attent', 'elect', 'late', '<DATE>', 'book', 'vote', 'jan', 'e', 'leighley', 'jonathan', 'nagler', 'found', 'state', 'elect', 'day', 'registr', 'would', 'rais', 'turnout', '<NUM>', 'percentag', 'point', 'becker', 'howev', 'think', 'evid', 'link', 'elect', 'day', 'registr', 'better', 'turnout', 'weak', 'automat', 'voter', 'registr', 'pioneer', 'oregon', 'largest', 'increas', 'turnout', 'state', '<DATE>', '<DATE>', 'accord', 'new', 'analysi', 'center', 'american', 'progress', '<NUM>', 'peopl', 'regist', 'would', 'unlik', '<NUM>', 'percent', 'vote', 'pretti', 'low', 'rate', 'still', '<NUM>', 'new', 'voter', 'strategi', 'could', 'focu', 'help', 'young', 'peopl', 'identifi', 'prospect', 'voter', 'make', 'vote', 'habit', 'elig', 'eric', 'marshal', 'director', 'liber', 'funder', 'committe', 'civic', 'particip', 'argu', 'expand', 'registr', 'drive', 'high', 'school', 'regist', 'high', 'schooler', 'reach', '<NUM>', 'birthday', 'scatter', 'elect', 'offici', 'could', 'tri', 'help', 'peopl', 'feel', 'compet', 'understand', 'issu', 'candid', 'peopl', 'enjoy', 'thing', 'bad', 'becker', 'suggest', 'chang', 'typic', 'small', 'type', 'voter', 'handout', 'candid', 'written', 'govern', 'ese', 'experi', 'appeal', 'messag', 'flaxman', 'goal', 'bring', 'vote', 'inform', 'inspir', 'channel', 'peopl', 'alreadi', 'use', 'organ', 'suppli', 'data', 'googl', 'facebook', 'answer', 'vote', 'question', 'peopl', 'ask', '<NUM>', 'million', 'time', 'last', 'year', 'colleg', 'offer', 'turbovot', 'app', 'alongsid', 'class', 'registr', 'starbuck', 'featur', 'turbovot', 'side', 'million', 'coffe', 'cup', 'thing', 'margin', 'impact', 'flaxman', 'said', 'differ', '<NUM>', '<NUM>', 'percent', 'increas', 'hope', 'add', '<NUM>', 'percent']",
         "reliable"
        ],
        [
         "220537",
         "['interview', 'voter', 'across', 'iowa', 'offer', 'window', 'presid', 'stand', 'level', 'especi', 'among', 'independ', 'republican', 'contribut', 'margin', 'victori', 'caucus', 'also', 'optim', 'among', 'support', 'elect', 'would', 'break', 'standard', 'issu', 'polit', 'democrat', 'immedi', 'peril', 'fail', 'hang', 'swing', 'voter', 'could', 'play', 'tuesday', 'governor', 'race', 'virginia', 'state', 'mr', 'obama', 'wrest', 'away', 'republican', 'last', 'year', 'democrat', 'candid', 'governor', 'struggl', 'recreat', 'mr', 'obama', 'enthusiast', 'coalit', 'photo', 'iowa', 'ms', 'mcareavi', 'fear', 'presid', 'health', 'care', 'plan', 'shortchang', 'medicar', 'benefit', 'mean', 'infrequ', 'mammogram', 'examin', 'worri', 'decis', 'afghanistan', 'mean', 'son', 'member', 'iowa', 'nation', 'guard', 'return', 'battlefield', 'believ', 'mani', 'mr', 'obama', 'action', 'root', 'democrat', 'polit', 'republican', 'friend', 'independ', 'sit', 'back', 'say', 'oh', 'ms', 'mcareavi', 'said', 'point', 'yet', 'lot', 'peopl', 'mr', 'obama', 'still', 'gener', 'strong', 'approv', 'rate', 'opportun', 'come', 'democrat', 'major', 'congress', 'public', 'opinion', 'remain', 'flux', 'particularli', 'head', 'endgam', 'push', 'overhaul', 'health', 'insur', 'system', 'near', 'decis', 'whether', 'expand', 'war', 'afghanistan', 'eros', 'support', 'independ', 'disapprov', 'republican', 'suggest', 'coalit', 'mr', 'obama', 'built', 'win', 'white', 'hous', 'fray', 'place', 'peopl', 'get', 'longer', 'closer', 'look', 'mr', 'obama', 'iowa', 'swing', 'state', 'home', 'deep', 'strain', 'conservat', 'liber', 'mr', 'obama', 'constant', 'presenc', 'form', 'month', 'candidaci', 'mani', 'voter', 'pictur', 'mantel', 'look', 'eye', 'took', 'measur', 'man', 'politician', 'give', 'crucial', 'victori', 'caucus', 'advertis', 'continu', 'read', 'main', 'stori', 'social', 'studi', 'teacher', 'saw', 'mr', 'obama', 'maiden', 'visit', 'wonder', 'whether', 'momentum', 'elect', 'gone', 'forev', 'retir', 'electr', 'engin', 'becam', 'democrat', 'support', 'mr', 'obama', 'believ', 'presid', 'often', 'blame', 'other', 'troubl', 'teacher', 'vote', 'mr', 'obama', 'fed', 'presid', 'georg', 'w', 'bush', 'trust', 'administr', 'previou', 'one', 'yet', 'laid', 'factori', 'worker', 'return', 'school', 'degre', 'said', 'mr', 'obama', 'support', 'new', 'economi', 'chang', 'think', 'public', 'relat', 'execut', 'chang', 'parti', 'support', 'mr', 'obama', 'say', 'save', 'nation', 'fiscal', 'collaps', 'nurs', 'believ', 'mr', 'obama', 'could', 'transform', 'presid', 'health', 'care', 'issu', 'worri', 'vitriol', 'could', 'endang', 'life', 'iowa', 'poll', 'publish', 'septemb', 'de', 'moin', 'regist', 'show', 'mr', 'obama', 'approv', 'rate', 'fallen', '<NUM>', 'percent', '<NUM>', 'percent', 'april', 'interview', 'around', 'state', 'economi', 'emerg', 'one', 'worrisom', 'undercurr', 'photo', 'scare', 'said', 'chri', 'bollhoef', '<NUM>', 'lost', 'job', 'two', 'year', 'ago', 'maytag', 'newton', 'competit', 'right', 'peopl', 'lost', 'job', 'highli', 'qualifi', 'realli', 'put', 'wall', 'tri', 'compet', 'mr', 'bollhoef', 'said', 'approv', 'job', 'mr', 'obama', 'inspir', 'tri', 'someth', 'differ', 'said', 'candid', 'mr', 'obama', 'soar', 'sever', 'peopl', 'said', 'interview', 'presid', 'often', 'come', 'across', 'cautiou', 'tent', 'prone', 'blame', 'troubl', 'other', 'newslett', 'sign', 'continu', 'read', 'main', 'stori', 'pleas', 'verifi', 'robot', 'click', 'box', 'invalid', 'email', 'address', 'pleas', 'enter', 'must', 'select', 'newslett', 'subscrib', 'sign', 'agre', 'receiv', 'occasion', 'updat', 'special', 'offer', 'new', 'york', 'time', 'product', 'servic', 'thank', 'subscrib', 'error', 'occur', 'pleas', 'tri', 'later', 'view', 'new', 'york', 'time', 'newslett', 'think', 'presidenti', 'run', 'offic', 'said', 'paul', 'johnson', '<NUM>', 'student', 'legal', 'servic', 'lawyer', 'iowa', 'state', 'univers', 'seem', 'subdu', 'probabl', 'result', 'actual', 'deal', 'issu', 'plate', 'oppos', 'ralli', 'troop', 'vote', 'mr', 'johnson', 'wife', 'kathi', 'loyal', 'democrat', 'mr', 'obama', 'first', 'second', 'third', 'choic', 'iowa', 'caucus', 'open', 'parti', 'primari', '<DATE>', 'time', 'johnson', 'favor', 'order', 'john', 'edward', 'joseph', 'r', 'biden', 'jr', 'hillari', 'rodham', 'clinton', 'mr', 'obama', 'nomin', 'howev', 'eagerli', 'support', 'say', 'believ', 'well', 'often', 'wonder', 'assert', 'enough', 'overdu', 'actual', 'take', 'charg', 'said', 'ms', 'johnson', '<NUM>', 'social', 'worker', 'town', 'nevada', 'advertis', 'continu', 'read', 'main', 'stori', 'one', 'thing', 'would', 'sour', 'mr', 'obama', 'said', 'would', 'steep', 'escal', 'war', 'afghanistan', 'even', 'complaint', 'mani', 'democrat', 'said', 'presid', 'singl', 'handedli', 'improv', 'unit', 'state', 'imag', 'world', 'said', 'alreadi', 'accomplish', 'great', 'deal', 'consid', 'raft', 'crise', 'greet', 'said', 'believ', 'abil', 'deliv', 'remak', 'nation', 'health', 'care', 'system', 'prioriti', 'photo', 'candi', 'schmieder', '<NUM>', 'said', 'trust', 'presid', 'elect', 'iowa', 'counti', 'live', 'end', 'tie', 'novemb', 'mr', 'obama', '<NUM>', 'vote', 'absente', 'ballot', 'tabul', 'elect', 'held', 'today', 'said', 'fear', 'outcom', 'might', 'differ', 'given', 'situat', 'deal', 'economi', 'war', 'think', 'go', 'take', 'work', 'said', 'ms', 'schmieder', 'never', 'involv', 'polit', 'said', 'drawn', 'mr', 'obama', 'book', 'mr', 'obama', 'approach', 'anniversari', 'elect', 'sens', 'possibl', 'dash', 'romanc', 'move', 'mani', 'voter', 'longer', 'appar', 'challeng', 'govern', 'eaten', 'away', 'optim', 'pace', 'govern', 'intervent', 'also', 'jar', 'mani', 'voter', 'john', 'sager', 'retir', 'electr', 'engin', 'said', 'impress', 'mr', 'obama', 'last', 'year', 'unit', 'auto', 'worker', 'hall', 'marshalltown', 'allow', 'name', 'promot', 'list', 'republican', 'support', 'mr', 'obama', 'iowa', 'caucus', 'gave', 'fairli', 'decent', 'present', 'turn', 'present', 'said', 'mr', 'sager', '<NUM>', 'think', 'keep', 'hide', 'behind', 'fact', 'inherit', 'problem', 'kathi', 'shaffer', '<NUM>', 'retir', 'school', 'teacher', 'tell', 'husband', 'larri', 'staunch', 'republican', 'vote', 'mr', 'obama', 'recent', 'said', 'frustrat', 'iraq', 'war', 'fed', 'bush', 'administr', 'eager', 'chang', 'advertis', 'continu', 'read', 'main', 'stori', 'ms', 'shaffer', 'said', 'regret', 'vote', 'larg', 'disapprov', 'govern', 'interven', 'help', 'fail', 'financi', 'institut', 'car', 'compani', 'also', 'fear', 'mr', 'obama', 'send', 'troop', 'afghanistan', 'want', 'republican', 'domest', 'probabl', 'democrat', 'foreign', 'polici', 'lose', 'lose', 'situat', 'ms', 'shaffer', 'said', 'ask', 'disappoint', 'would', 'keep', 'support', 'mr', 'obama', 'paus', 'moment', 'hate', 'vote', 'someon', 'said', 'want', 'vote', 'someon']",
         "reliable"
        ],
        [
         "616301",
         "['man', 'lure', 'drive', 'sexual', 'encount', 'woman', 'met', 'tinder', 'polic', 'arrest', 'breathalys', 'read', '<NUM>', 'mg', 'legal', 'limit', '<NUM>', 'mg', 'sat', 'nav', 'die', 'becam', 'hopelessli', 'lost', 'got', 'merced', 'stuck', 'bewild', 'coupl', 'front', 'lawn', 'andrew', 'paul', '<NUM>', 'alreadi', 'down', 'sever', 'pint', 'lager', 'got', 'messag', 'meet', 'stranger', 'onlin', 'date', 'site', 'andrew', 'paul', 'alreadi', 'drunk', 'sever', 'drink', 'drive', 'encount', 'tinder', 'singl', 'celebr', 'app', 'track', 'whether', 'paul', 'macclesfield', 'cheshir', 'admit', 'drink', 'drive', 'ban', 'road', 'two', 'year', 'also', 'order', '<NUM>', 'hour', 'unpaid', 'work', 'defend', 'recognis', 'foolish', 'mistak', 'sinc', 'acknowledg', 'foolish', 'mistak', 'macclesfield', 'magistr', 'court', 'heard', 'paul', 'night', '<DATE>', 'last', 'year', 'pick', 'tempt', 'tinder', 'messag', 'despit', 'sever', 'drink', 'alreadi', 'got', 'car', 'went', 'look', 'address', 'debbi', 'byrn', 'prosecut', 'said', '<NUM>', 'patricia', 'hurst', 'home', 'heard', 'car', 'engin', 'saw', 'car', 'drive', 'track', 'lead', 'anywher', 'revers', 'back', 'drove', 'lawn', 'got', 'stuck', 'driver', 'began', 'pace', 'around', 'car', 'made', 'sever', 'attempt', 'move', 'got', 'stuck', 'walk', 'lane', 'mr', 'byrn', 'ad', 'paul', 'told', 'polic', 'macclesfield', 'town', 'centr', 'consum', 'sever', 'pint', 'lager', 'got', 'text', 'go', 'meet', 'girl', 'put', 'postcod', 'sat', 'nav', 'die', 'got', 'lost', 'got', 'bog', 'grass', 'tri', 'push', 'car', 'lost', 'key', 'went', 'get', 'help', 'paul', 'probat', 'offic', 'mike', 'isherwood', 'said', 'defend', 'recognis', 'foolish', 'mistak']",
         "fake"
        ],
        [
         "135374",
         "['unfortun', 'gone', 'away', 'unfortun', 'gone', 'away', 'speaker', 'john', 'boehner', 'tap', 'mr', 'ryan', 'return', 'post', 'hous', 'budget', 'committe', 'chairman', 'unsuccess', 'run', 'vice', 'presid', 'help', 'strike', 'deal', 'avoid', 'big', 'tax', 'increas', 'spend', 'cut', 'end', 'year', 'bring', 'along', 'fellow', 'republican', 'help', 'us', 'toward', 'creat', 'product', 'said', 'senat', 'rob', 'portman', 'republican', 'ohio', 'help', 'sell', 'product', 'new', 'muscl', 'increas', 'respect', 'colleagu', 'mr', 'ryan', 'could', 'conceiv', 'scuttl', 'deal', 'loudli', 'oppos', 'solut', 'speaker', 'top', 'republican', 'leader', 'embrac', 'conserv', 'base', 'might', 'rebel', 'endors', 'deal', 'seen', 'award', 'much', 'mr', 'obama', 'democrat', 'particularli', 'tax', 'rate', 'republican', 'think', 'pitfal', 'danger', 'enough', 'mr', 'ryan', 'might', 'consid', 'leav', 'congress', 'altogeth', 'work', 'polici', 'agenda', 'without', 'inher', 'headach', 'hill', 'think', 'want', 'role', 'said', 'repres', 'tom', 'cole', 'oklahoma', 'go', 'run', '<DATE>', 'run', 'someth', 'els', 'wisconsin', 'play', 'bigger', 'role', 'hous', 'go', 'play', 'outsiz', 'role', 'nation', 'profil', 'hand', 'confer', 'quit', 'happi', 'act', 'independ', 'mr', 'wonki', 'mcnumber', 'wonk', 'guy', 'figur', 'analyz', 'poll', 'see', 'mitt', 'romney', 'lose', 'remain', 'fiscal', 'forc', 'least', 'theif', 'need', 'know', 'desper', 'republican', 'product', 'need', 'know', 'would', 'hitch', 'wagon', 'guy', 'whose', 'budget', 'plan', 'toxic', 'basic', 'allow', 'talk', 'campaign', 'also', 'guy', 'lost', 'oh', 'need', 'inform', 'determin', 'hous', 'speaker', 'john', 'boehner', 'posit', 'increas', 'revenu', 'pretti', 'much', 'bullshit', 'ryan', 'support', 'hyper', 'partisan', 'way', 'hell', 'compromis', 'twist', 'statement', 'spokesperson', 'speaker', 'boehner', 'outlin', 'bipartisan', 'way', 'forward', 'avoid', 'fiscal', 'cliff', 'get', 'economi', 'grow', 'common', 'sens', 'entitl', 'reform', 'coupl', 'pro', 'growth', 'tax', 'reform', 'find', 'common', 'ground', 'respons', 'spend', 'restraint', 'greater', 'revenu', 'econom', 'growth', 'yet', 'see', 'either', 'seriou', 'plan', 'leadership', 'presid', 'obama', 'ah', 'leadership', 'republican', 'style', 'cours', 'ryan', 'classifi', 'brainiac', 'republican', 'might', 'well', 'new', 'leader']",
         "reliable"
        ],
        [
         "804079",
         "['romney', 'campaign', 'accus', 'deliber', 'get', 'republican', 'presidenti', 'candid', 'boo', 'black', 'peopl', 'naacp', 'speech', 'attract', 'vote', 'certain', 'racist', 'precinct', 'msnbc', 'host', 'lawrenc', 'donnel', 'romney', 'boo', '<NUM>', 'second', 'nation', 'associ', 'advanc', 'colour', 'peopl', 'confer', 'houston', 'wednesday', 'state', 'would', 'elimin', 'unnecessari', 'programm', 'like', 'obamacar', 'health', 'reform', 'democrat', 'unit', 'say', 'romney', 'plan', 'get', 'boo', 'appeal', 'conserv', 'base', 'donnel', 'guest', 'went', 'step', 'say', 'romney', 'make', 'play', 'white', 'racist', 'nanci', 'pelosi', 'democrat', 'leader', 'hous', 'repres', 'told', 'bloomberg', 'televis', 'think', 'calcul', 'move', 'part', 'get', 'boo', 'naacp', 'convent', 'discuss', 'speech', 'last', 'word', 'show', 'goldi', 'taylor', 'liber', 'writer', 'comment', 'donnel', 'highlight', 'southern', 'strategi', 'republican', 'use', 'sinc', 'presid', 'richard', 'nixon', 'start', 'littl', 'bit', 'actual', 'almost', 'overt', 'sometim', 'appeal', 'racial', 'racist', 'vote', 'ask', 'tell', 'goldi', 'cynic', 'think', 'romney', 'campaign', 'actual', 'went', 'room', 'today', 'hope', 'get', 'boo', 'least', 'three', 'time', 'want', 'video', 'candid', 'boo', 'naacp', 'play', 'certain', 'racist', 'precinct', 'actual', 'help', 'taylor', 'respond', 'think', 'cynic', 'ad', 'romney', 'use', 'word', 'like', 'obamacar', 'deris', 'term', 'afford', 'care', 'act', 'donnel', 'brought', 'romney', 'mormon', 'faith', 'romney', 'told', 'naacp', 'american', 'told', '<DATE>', '<DATE>', 'black', 'citizen', 'would', 'serv', '<NUM>', 'unit', 'state', 'would', 'proud', 'mani', 'would', 'surpris', 'msnbc', 'host', 'note', 'mormon', 'church', 'allow', 'black', 'men', 'becom', 'persist', '<DATE>', 'would', 'even', 'shock', 'surpris', 'say', '<DATE>', 'black', 'citizen', 'might', 'becom', 'presid', 'mormon', 'church', 'even', 'far', 'fetch', 'comment', 'echo', 'writer', 'televis', 'host', 'tour', 'anoth', 'guest', 'ad', 'classic', 'republican', 'strategi', 'saw', 'today', 'use', 'black', 'peopl', 'score', 'point', 'white', 'peopl', 'said', 'alreadi', 'real', 'audienc', 'room', 'talk', 'white', 'peopl', 'tour', 'also', 'opin', 'want', 'get', 'boo', 'make', 'either', 'look', 'tough', 'strong', 'white', 'peopl', 'watch', 'make', 'look', 'sympathet', 'white', 'peopl', 'watch', 'romney', 'said', 'expect', 'neg', 'respons', 'naacp', 'confer', 'told', 'donor', 'montana', 'wednesday', 'even', 'give', 'differ', 'speech', 'differ', 'audienc', 'alright', 'gave', 'speech', 'mention', 'go', 'get', 'rid', 'obamacar', 'happi', 'get', 'respons', 'ok', 'want', 'peopl', 'know', 'stand', 'stand', 'want', 'go', 'vote', 'someon', 'els', 'fine', 'vice', 'presid', 'joe', 'biden', 'address', 'naacp', 'thursday', 'morn', 'amount', 'rebutt', 'romney', 'controversi', 'speech', 'presid', 'barack', 'obama', 'decid', 'last', 'minut', 'attend', 'cite', 'schedul', 'conflict', 'romney', 'knew', 'would', 'face', 'potenti', 'hostil', 'crowd', 'naacp', 'confer', '<NUM>', 'per', 'cent', 'black', 'vote', 'presid', 'barack', 'obama', 'four', 'year', 'ago', 'seem', 'briefli', 'stun', 'boo', 'catcal', 'audienc', 'depart', 'prepar', 'remark', 'argu', 'obama', 'healthcar', 'reform', 'would', 'caus', 'busi', 'shed', 'job', 'former', 'massachusett', 'governor', 'recept', 'initi', 'polit', 'even', 'warm', 'time', 'chang', 'said', 'go', 'elimin', 'everi', 'non', 'essenti', 'expens', 'programm', 'find', 'includ', 'obamacar', 'abandon', 'script', 'quell', 'boo', 'say', 'know', 'survey', 'chamber', 'commerc', 'carri', 'survey', 'member', '<NUM>', 'survey', 'ask', 'effect', 'obamacar', 'would', 'plan', 'three', 'quarter', 'said', 'would', 'make', 'less', 'like', 'hire', 'peopl', 'say', 'prioriti', 'job', 'prioriti', 'someth', 'chang', 'replac', 'someth', 'provid', 'peopl', 'someth', 'need', 'healthcar', 'lower', 'cost', 'good', 'qualiti', 'capac', 'deal', 'peopl', 'pre', 'exist', 'condit', 'put', 'place', 'donna', 'brazil', 'democrat', 'strategist', 'told', 'cnn', 'crowd', 'right', 'boo', 'obamacar', 'derogatori', 'terminolog', 'use', 'intoler', 'group', 'american', 'back', 'march', 'howev', 'obama', 'campaign', 'fulli', 'embrac', 'term', 'obamacar', 'formerli', 'mainli', 'preserv', 'conserv', 'critic', 'obama', 'afford', 'care', 'act', 'david', 'axelrod', 'obama', 'chief', 'strategist', 'sent', 'email', 'say', 'like', 'obamacar', 'proud', 'work', 'say', 'like', 'obamacar', 'origin', 'articl', 'share']",
         "fake"
        ],
        [
         "546553",
         "['polit', '|', 'thu', '<DATE>', '|', '<NUM>', '<NUM>', 'pm', 'est', 'sander', 'build', 'base', 'outsid', 'washington', 'new', 'democrat', 'post', 'left', 'right', 'u', 'senat', 'berni', 'sander', 'leav', 'attend', 'senat', 'democrat', 'parti', 'leadership', 'elect', 'u', 'capitol', 'washington', 'u', '<DATE>', 'reuter', 'carlo', 'barria', '<NUM>', '<NUM>', 'left', 'right', 'u', 'senat', 'berni', 'sander', 'stand', 'behind', 'u', 'senat', 'chuck', 'schumer', 'ny', 'talk', 'journalist', 'attend', 'senat', 'democrat', 'parti', 'leadership', 'elect', 'u', 'capitol', 'washington', 'dc', 'u', '<DATE>', 'reuter', 'carlo', 'barria', '<NUM>', '<NUM>', 'left', 'right', 'u', 'senat', 'berni', 'sander', 'vt', 'arriv', 'senat', 'democrat', 'parti', 'leadership', 'elect', 'u', 'capitol', 'washington', 'dc', 'u', '<DATE>', 'reuter', 'jonathan', 'ernst', '<NUM>', '<NUM>', 'valeri', 'volcovici', '|', 'washington', 'washington', 'senat', 'berni', 'sander', 'former', 'democrat', 'presidenti', 'candid', 'said', 'thursday', 'help', 'rebuild', 'parti', 'support', 'outsid', 'washington', 'craft', 'new', 'econom', 'messag', 'american', 'sander', 'becom', 'outreach', 'chair', 'senat', 'democrat', 'leadership', 'team', 'tri', 'engag', 'american', 'feel', 'disconnect', 'polit', 'process', 'sander', 'independ', 'vermont', 'tend', 'vote', 'democrat', 'real', 'action', 'transform', 'america', 'take', 'place', 'capitol', 'hill', 'grassroot', 'america', 'among', 'million', 'struggl', 'econom', 'young', 'peopl', 'sander', 'said', 'breakfast', 'host', 'christian', 'scienc', 'monitor', 'democrat', 'charl', 'schumer', 'new', 'york', 'elect', 'senat', 'new', 'minor', 'leader', 'wednesday', 'said', 'sander', 'join', '<NUM>', 'member', 'leadership', 'team', 'want', 'har', 'sander', 'popular', 'young', 'work', 'class', 'voter', 'hard', 'fought', 'primari', 'battl', 'democrat', 'nomine', 'hillari', 'clinton', 'democrat', 'regroup', 'upset', 'victori', 'republican', 'donald', 'trump', 'republican', 'gain', 'control', 'senat', 'hous', 'made', 'big', 'gain', 'control', 'state', 'legislatur', 'sander', 'also', 'becom', 'rank', 'democrat', 'senat', 'budget', 'committe', 'said', 'make', 'sure', 'panel', 'repres', 'need', 'work', 'famili', 'billionair', 'one', 'problem', 'democrat', 'make', 'point', 'economi', 'better', 'today', 'eight', 'year', 'ago', 'improv', 'middl', 'class', 'decad', 'said', 'democrat', 'think', 'often', 'ignor', 'last', 'forti', 'year', 'middl', 'class', 'countri', 'shrink', 'sander', 'told', 'breakfast', 'say', 'real', 'wage', 'gone', 'incom', 'inequ', 'risen', 'sander', 'said', 'support', 'fresh', 'leadership', 'democrat', 'nation', 'committe', 'parti', 'organ', 'endors', 'congressman', 'keith', 'ellison', 'minnesota', 'new', 'leader', 'parti', 'ellison', 'progress', 'muslim', 'reflect', 'divers', 'parti', 'sander', 'democrat', 'say', 'sander', 'also', 'said', 'hillari', 'clinton', 'play', 'key', 'role', 'defeat', 'last', 'week', 'sander', 'said', 'talk', 'directli', 'confer', 'call', 'end', 'get', 'vote', 'mr', 'trump', 'goe', 'without', 'say', 'import', 'role', 'play', 'futur', 'democrat', 'parti', 'said', 'edit', 'jeffrey', 'benko']",
         "reliable"
        ],
        [
         "405811",
         "['note', 'pleas', 'say', 'want', 'name', 'email', 'address', 'publish', 'send', 'vdare', 'email', '<DATE>', 'nevada', 'reader', 'profession', 'gambler', 'say', 'health', 'insur', 'obvious', 'small', 'peopl', 'charl', 'black', 'e', 'mail', 'last', 'seven', 'year', 'joe', 'guzzardi', 'made', 'compel', 'case', 'crack', 'sham', 'marriag', 'whether', 'origin', 'k', '<NUM>', 'visa', 'involv', 'desper', 'immigr', 'u', 'seek', 'green', 'card', 'citizenship', 'last', 'week', 'washington', 'c', 'pizzeria', 'owner', 'pakistani', 'shahabuddin', 'rana', 'murder', 'involv', 'brother', 'bogu', 'marriag', 'african', 'american', 'shanika', 'robinson', 'aaccord', 'stori', 'rana', 'agre', 'pay', 'robinson', '<CUR>', '<NUM>', 'week', 'marri', 'brother', 'appar', 'u', 'illeg', 'rana', 'learn', 'robinson', 'sexual', 'affair', 'cut', 'money', 'affidavit', 'report', 'washington', 'post', 'robinson', 'accompani', 'three', 'men', 'allegedli', 'confront', 'rana', 'alon', '<NUM>', 'hour', 'pizzeria', 'late', 'august', '<NUM>', 'earli', '<DATE>', 'polic', 'said', 'assail', 'slash', 'beat', 'rana', 'fractur', 'skull', 'sever', 'place', 'tri', 'burn', 'bodi', 'flee', '<CUR>', '<NUM>', 'cash', 'packag', 'newport', 'cigarett', 'dutch', 'master', 'black', 'mild', 'cigar', 'green', 'card', 'scam', 'tie', 'slay', 'pizzeria', 'paul', 'duggan', '<DATE>', 'certainli', 'enough', 'american', 'born', 'muslim', 'metropolitan', 'c', 'area', 'rana', 'brother', 'could', 'marri', 'without', 'resort', 'cross', 'cultur', 'bride', 'crimin', 'tendenc', 'violent', 'friend', 'price', 'everyon', 'involv', 'paid', 'suspect', 'jail', 'enabl', 'dead', 'famili', 'destroy', 'black', 'previou', 'letter', 'depart', 'homeland', 'secur', 'visa', 'waiver', 'program', 'barney', 'frank', 'immigr', 'advocaci', 'black', 'describ', 'democrat', '<NUM>', 'percent', 'side', 'immigr', 'debat']",
         "fake"
        ],
        [
         "190964",
         "['news', 'caregiv', 'healthcar', 'profession', 'great', 'inform', 'way', 'nurs', 'administr', 'social', 'worker', 'health', 'care', 'profession', 'get', 'dementia', 'caregiv', 'littl', 'book', 'hope', 'kindl', 'edit', 'univers', 'york', 'word', 'easier', 'harder', 'peopl', 'dementia', 'find', 'right', 'word', 'comprehend', 'complex', 'phrase', 'becom', 'difficult', 'help', 'research', 'give', 'clariti', 'word', 'type', 'work', 'best', 'scientist', 'say', 'better', 'understand', 'peopl', 'alzheim', 'struggl', 'recogn', 'understand', 'word', 'research', 'potenti', 'develop', 'test', 'could', 'help', 'clinician', 'make', 'earli', 'diagnosi', 'word', 'complaint', 'earli', 'stage', 'two', 'common', 'complaint', 'peopl', 'alzheim', 'diseas', 'difficulti', 'rememb', 'event', 'understand', 'produc', 'word', 'academ', 'univers', 'york', 'oviedo', 'spain', 'want', 'look', 'whether', 'patient', 'abil', 'recogn', 'word', 'impair', 'earli', 'stage', 'diseas', 'properti', 'word', 'make', 'easier', 'harder', 'patient', 'recogn', 'research', 'done', 'northern', 'spain', 'colleagu', 'hospit', 'cabueñ', 'gijón', 'publish', 'journal', 'neuropsycholog', 'word', 'diagnosi', 'test', 'word', 'recognit', 'base', 'find', 'could', 'contribut', 'diagnosi', 'professor', 'andrew', 'elli', 'depart', 'psycholog', 'york', 'said', 'ad', 'biggest', 'potenti', 'impact', 'diagnosi', 'might', 'use', 'addit', 'armori', 'clinician', 'tri', 'diagnosi', 'alzheim', 'diseas', 'easi', 'diagnos', 'earli', 'stage', 'form', 'dementia', 'rel', 'common', 'hard', 'distinguish', 'earli', 'stage', 'word', 'recognit', 'test', 'base', 'find', 'could', 'contribut', 'diagnosi', 'work', 'would', 'need', 'done', 'real', 'word', 'versu', 'invent', 'word', 'part', 'studi', 'particip', 'shown', 'real', 'word', 'comput', 'screen', 'mix', 'invent', 'word', 'trial', 'experi', 'one', 'real', 'word', 'screen', 'three', 'non', 'word', 'particip', 'task', 'simpli', 'point', 'real', 'word', 'screen', 'research', 'chose', 'task', 'primarili', 'assess', 'whether', 'word', 'look', 'familiar', 'requir', 'patient', 'explain', 'mean', 'word', 'someth', 'struggl', 'conduct', 'studi', 'spanish', 'exampl', 'english', 'would', 'point', 'word', 'eagl', 'appear', 'screen', 'slint', 'ompul', 'croom', 'research', 'chose', 'word', 'expect', 'healthi', 'older', 'peopl', 'abl', 'recogn', 'forti', 'peopl', 'mild', 'moder', 'alzheim', 'diseas', 'age', '<NUM>', '<NUM>', 'year', 'took', 'part', 'studi', '<NUM>', 'healthi', 'control', 'match', 'patient', 'age', 'gender', 'year', 'educ', 'healthi', 'control', 'pick', 'real', 'word', 'littl', 'difficulti', 'scientist', 'infer', 'patient', 'would', 'also', 'known', 'word', 'onset', 'dementia', 'contrast', 'patient', 'alzheim', 'diseas', 'miss', 'one', 'five', 'real', 'word', 'research', 'look', 'properti', 'word', 'made', 'easier', 'harder', 'patient', 'recognis', 'found', 'common', 'word', 'patient', 'recognis', 'common', 'word', 'better', 'less', 'common', 'word', 'abstract', 'word', 'patient', 'understood', 'word', 'concret', 'mean', 'better', 'word', 'abstract', 'mean', 'childhood', 'word', 'patient', 'grasp', 'word', 'learn', 'earli', 'life', 'better', 'word', 'learn', 'later', 'childhood', 'adulthood', 'long', 'word', 'length', 'word', 'affect', 'perform', 'abil', 'use', 'wordsprofessor', 'elli', 'ad', 'lot', 'work', 'done', 'alzheim', 'patient', 'use', 'task', 'name', 'pictur', 'object', 'studi', 'want', 'look', 'instead', 'whether', 'abil', 'recognis', 'word', 'impair', 'earli', 'stage', 'diseas', 'word', 'recognit', 'impair', 'want', 'know', 'properti', 'word', 'make', 'easier', 'harder', 'alzheim', 'patient', 'recognis', 'specul', 'damag', 'respons', 'problem', 'word', 'recognit', 'product', 'research', 'identifi', 'stem', 'particularli', 'loss', 'cell', 'area', 'front', 'left', 'tempor', 'lobe', 'crucial', 'involv', 'process', 'mean', 'concept', 'word', 'studi', 'fundament', 'rather', 'appli', 'research', 'purpos', 'teach', 'us', 'alzheim', 'diseas', 'affect', 'abil', 'use', 'word', 'also', 'potenti', 'inform', 'clinic', 'assess', 'dementia']",
         "fake"
        ],
        [
         "706810",
         "['long', 'résumé', 'includ', 'charact', 'italian', 'hispan', 'even', 'american', 'particular', 'ethnic', 'one', 'memor', 'role', 'embodi', 'anoth', 'speci', 'altogeth', 'evil', 'klingon', 'leader', 'kang', 'star', 'trek', 'play', 'part', 'complet', 'wing', 'like', 'eyebrow', 'origin', 'televis', 'seri', '<DATE>', 'repris', 'role', 'two', 'tv', 'descend', 'star', 'trek', 'deep', 'space', 'nine', 'star', 'trek', 'voyag', 'one', 'hand', 'actor', 'play', 'part', 'three', 'differ', 'star', 'trek', 'seri', 'photo', 'mr', 'ansara', 'guest', 'star', 'mani', 'well', 'known', 'televis', 'seri', '<DATE>', '<NUM>', '<NUM>', 'includ', 'alfr', 'hitchcock', 'present', 'adventur', 'rin', 'tin', 'tin', 'rifleman', 'untouch', 'perri', 'mason', 'outer', 'limit', 'ben', 'casey', 'man', 'u', 'n', 'c', 'l', 'e', 'lost', 'space', 'bewitch', 'fugit', 'mod', 'squad', 'street', 'san', 'francisco', 'hawaii', 'five', 'kojak', 'last', 'appear', 'screen', 'long', 'road', 'home', 'independ', 'film', 'made', '<DATE>', 'play', 'man', 'unexpectedli', 'becom', 'guardian', 'estrang', 'grandson', 'recent', 'provid', 'voic', 'mr', 'freez', 'anim', 'tv', 'seri', 'batman', 'batman', 'beyond', 'michael', 'ansara', 'born', '<DATE>', 'small', 'town', 'syria', 'famili', 'move', 'massachusett', '<NUM>', 'lo', 'angel', '<NUM>', 'studi', 'lo', 'angel', 'citi', 'colleg', 'origin', 'plan', 'becom', 'doctor', 'chang', 'mind', 'began', 'studi', 'act', 'pasadena', 'playhous', 'effort', 'overcom', 'shyness', 'began', 'career', 'onstag', 'made', 'screen', 'debut', '<DATE>', 'thriller', 'action', 'arabia', 'photo', 'mr', 'ansara', 'marri', 'three', 'time', 'first', 'marriag', 'actress', 'jean', 'byron', 'would', 'go', 'play', 'mother', 'patti', 'duke', 'show', 'last', '<DATE>', '<DATE>', 'divorc', 'public', 'depart', '<NUM>', 'centuri', 'fox', 'set', 'date', 'actress', 'barbara', 'eden', 'best', 'known', 'jeanni', 'dream', 'jeanni', 'marri', '<DATE>', 'advertis', 'continu', 'read', 'main', 'stori', 'later', 'appear', 'episod', 'ms', 'eden', 'show', 'time', 'differ', 'charact', 'two', 'divorc', '<DATE>', 'one', 'son', 'matthew', 'die', 'accident', 'drug', 'overdos', '<DATE>', 'mr', 'ansara', 'survivor', 'includ', 'wife', '<NUM>', 'year', 'actress', 'beverli', 'kushida', 'sister', 'rose', 'brower', 'although', 'cochis', 'broken', 'arrow', 'career', 'defin', 'role', 'mr', 'ansara', 'found', 'frustrat', 'limit', 'cochis', 'could', 'one', 'two', 'thing', 'said', 'stand', 'arm', 'fold', 'look', 'nobl', 'stand', 'arm', 'side', 'look', 'nobl']",
         "reliable"
        ],
        [
         "777821",
         "['safe', 'trade', 'news', 'scott', 'silva', 'editor', 'gold', 'specul', '<DATE>', 'gold', 'show', 'true', 'color', 'ultim', 'safe', 'asset', 'gold', 'trade', 'time', 'high', 'nation', 'economi', 'european', 'monetari', 'union', 'teeter', 'bankruptci', 'threaten', 'legitimaci', 'euro', 'legitim', 'currenc', 'ad', 'global', 'econom', 'uncertainti', 'us', 'debt', 'crisi', 'forc', 'major', 'credit', 'rate', 'agenc', 'place', 'us', 'sovereign', 'debt', 'neg', 'credit', 'watch', 'potenti', 'downgrad', 'seem', 'inconceiv', 'us', 'would', 'lose', 'aaa', 'credit', 'rate', 'us', 'treasuri', 'consid', 'riskless', 'asset', 'compar', 'other', 'probabl', 'unit', 'state', 'would', 'default', 'debt', 'consid', 'zero', 'moodi', 'state', 'chanc', 'us', 'default', 'next', '<NUM>', 'day', '<NUM>', '<NUM>', 'long', 'way', 'riskless', 'us', 'dollar', 'us', 'treasuri', 'tradit', 'safe', 'asset', 'us', 'dollar', 'denomin', 'asset', 'surg', 'price', 'investor', 'sell', 'riski', 'asset', 'stock', 'high', 'yield', 'bond', 'call', 'risk', 'trade', 'saw', 'dollar', 'climb', 'height', 'global', 'financi', 'crisi', 'right', 'lehman', 'brother', 'bankruptci', '<DATE>', 'us', 'treasuri', 'also', 'surg', '<DATE>', 'arab', 'spring', 'follow', 'libyan', 'oil', 'shock', 'februari', 'put', 'pressur', 'dollar', 'commod', 'price', 'led', 'oil', 'spike', 'also', 'januari', 'fear', 'euro', 'zone', 'debt', 'crisi', 'began', 'take', 'hold', 'investor', 'pile', 'gold', 'flight', 'safeti', 'drive', 'price', '<CUR>', '<NUM>', 'oz', 'tradit', 'dollar', 'gold', 'neg', 'correl', 'say', 'gold', 'price', 'tend', 'rise', 'dollar', 'declin', 'vice', 'versa', 'seen', 'gold', 'price', 'measur', 'dollar', 'rise', 'steadili', 'sinc', '<DATE>', 'period', 'us', 'dollar', 'seen', 'overal', 'declin', 'say', 'one', 'caus', 'contrari', 'popular', 'belief', 'correl', 'causat', 'us', 'dollar', 'declin', 'valu', 'primarili', 'due', 'fed', 'increas', 'money', 'suppli', 'gold', 'price', 'increas', 'buyer', 'seller', 'price', 'gold', 'good', 'measur', 'econom', 'uncertainti', 'anoth', 'measur', 'investor', 'sentiment', 'fear', 'uncertainti', 'cboe', 'volatil', 'index', 'vix', 'measur', 'market', 'expect', 'near', 'term', 'market', 'volatil', 'convey', 'p', '<NUM>', 'stock', 'index', 'option', 'price', 'sinc', 'introduct', '<DATE>', 'vix', 'consid', 'mani', 'reliabl', 'baromet', 'investor', 'sentiment', 'stock', 'market', 'volatil', 'see', 'chart', 'vix', 'p', '<NUM>', 'neg', 'correl', 'stock', 'tend', 'fall', 'vix', 'rise', 'make', 'sens', 'investor', 'expect', 'market', 'volatil', 'fear', 'loss', 'drive', 'sell', 'cours', 'investor', 'sell', 'beget', 'sell', 'mani', 'flee', 'us', 'treasuri', 'consid', 'safe', 'trade', 'relationship', 'break', 'today', 'stock', 'sell', 'dow', '<NUM>', 'point', 'p', '<NUM>', '<NUM>', '<NUM>', 'price', 'action', 'vix', 'predict', 'sell', 'move', '<NUM>', '<DATE>', '<NUM>', 'today', 'dollar', 'index', 'howev', 'trade', 'slightli', 'lower', 'last', 'week', 'level', '<NUM>', 'vs', '<NUM>', '<NUM>', 'year', 'treasuri', 'trade', 'level', 'nearli', 'month', 'ago', 'proce', 'stock', 'sell', 'flood', 'us', 'dollar', 'denomin', 'asset', 'instead', 'fund', 'flood', 'gold', 'gold', 'stock', 'comex', 'gold', 'broken', '<CUR>', '<NUM>', 'oz', 'gold', 'mine', 'stock', 'break', 'higher', 'nyse', 'arca', 'gold', 'bug', 'index', 'hui', '<NUM>', 'last', '<NUM>', 'day', 'philadelphia', 'gold', 'silver', 'index', '<NUM>', 'period', 'clearli', 'safe', 'asset', 'gold', 'right', 'flight', 'safeti', 'away', 'stock', 'away', 'dollar', 'treasuri', 'gold', 'gold', 'stock', 'subscrib', 'gold', 'specul', 'own', 'gold', 'silver', 'metal', 'mine', 'stock', 'sinc', 'earli', '<DATE>', 'specif', 'portfolio', 'recommend', 'produc', '<NUM>', 'profit', '<DATE>', 'gain', '<NUM>', 'year', 'date', '<DATE>', 'comparison', 'dow', '<NUM>', 'year', 'date', 'p', '<NUM>', '<NUM>', 'year', 'date', 'investor', 'around', 'world', 'benefit', 'time', 'market', 'analysi', 'gold', 'silver', 'portfolio', 'recommend', 'contain', 'gold', 'specul', 'invest', 'newslett', 'base', 'principl', 'free', 'market', 'privat', 'properti', 'sound', 'money', 'austrian', 'school', 'econom', 'question', 'consid', 'go', 'protect', 'vagari', 'fiat', 'money', 'econom', 'uncertainti', 'publish', 'gold', 'specul', 'help', 'peopl', 'make', 'better', 'decis', 'money', 'model', 'conserv', 'portfolio', 'gain', '<NUM>', '<DATE>', '<NUM>', '<NUM>', 'q', '<DATE>', 'subscrib', 'web', 'site', '<URL>', 'credit', 'card', 'paypal', '<CUR>', '<NUM>', 'yr', 'send', 'check', '<CUR>', '<NUM>', '<CUR>', '<NUM>', 'cash', 'discount', 'gold', 'specul', '<NUM>', 'nashua', 'st', '<NUM>', 'milford', 'nh', '<NUM>']",
         "fake"
        ],
        [
         "113754",
         "['point', 'repeatedli', 'rok', 'much', 'millenni', 'lack', 'abil', 'creat', 'sustain', 'relationship', 'women', 'glu', 'phone', 'men', 'addict', 'video', 'game', 'peopl', 'exploit', 'attent', 'valid', 'money', 'thin', 'relationship', 'quickli', 'wear', 'west', 'today', 'togeth', 'alon', 'vibe', 'even', 'wors', 'mani', 'compens', 'strang', 'share', 'loneli', 'virtu', 'signal', 'tri', 'hard', 'hip', 'mainstream', 'usual', 'impli', 'reinforc', 'blue', 'pill', 'condit', 'contribut', 'evermor', 'poison', 'atmospher', 'west', 'turn', 'like', 'alreadi', 'know', 'caus', 'know', 'huge', 'relat', 'massiv', 'attack', 'famili', 'commit', 'masculin', 'west', 'bash', 'relentless', 'sjwing', 'gener', 'polici', 'deconstruct', 'tradit', 'social', 'structur', 'massiv', 'influenc', 'peddl', 'univers', 'hollywood', 'mainstream', 'media', 'corpor', 'mani', 'other', 'impos', 'us', 'iron', 'fist', 'destruct', 'hate', 'global', 'coerc', 'us', 'velvet', 'glove', 'progress', 'social', 'justic', 'result', 'millenni', 'gener', 'like', 'autist', 'one', 'ever', 'lucien', 'ceris', 'french', 'writer', 'ph', 'philosophi', 'enthral', 'youth', 'elit', 'project', 'especi', 'transhuman', 'eventu', 'saw', 'nightmarish', 'world', 'would', 'becom', 'said', 'elit', 'manag', 'win', 'spent', 'year', 'studi', 'way', 'voic', 'first', 'critic', 'mean', 'globalist', 'accord', 'ceris', 'use', 'decad', 'control', 'cognit', 'process', 'confin', 'us', 'world', 'bias', 'appear', 'remot', 'control', 'judgment', 'invis', 'effici', 'power', 'one', 'notic', 'whether', 'consid', 'trivial', 'pose', 'inoffens', 'clownish', 'protect', 'taboo', 'use', 'hire', 'face', 'best', 'power', 'one', 'manag', 'avoid', 'unwant', 'attent', 'father', 'cybernet', 'norbert', 'wiener', 'theoriz', 'pound', 'social', 'group', 'propaganda', 'previous', 'theoriz', 'edward', 'bernay', 'avoid', 'backlash', 'along', 'arturo', 'rosenblueth', 'other', '<DATE>', 'act', 'other', 'sometim', 'harm', 'decis', 'without', 'face', 'consequ', 'impun', 'age', 'old', 'way', 'face', 'backlash', 'redirect', 'someon', 'els', 'hervé', 'ryssen', 'point', 'mainstream', 'cultur', 'talk', 'without', 'taboo', 'italian', 'mafia', 'irish', 'gangster', 'like', 'repeatedli', 'blame', 'stalin', 'dozen', 'million', 'peopl', 'murder', 'ussr', 'without', 'mention', 'polit', 'commissar', 'mafiosi', 'america', 'scorses', 'movi', 'italian', 'irish', 'mafia', 'contribut', 'put', 'whole', 'blame', 'someon', 'els', 'come', 'although', 'lesser', 'extent', 'blue', 'pill', 'babbl', 'millenni', 'kill', 'relationship', 'nice', 'guy', 'commun', 'enough', 'well', 'perhap', 'condit', 'nay', 'caus', 'millenni', 'behav', 'way', 'come', 'us', 'leftist', 'forget', 'disingenu', 'environmentalist', 'explan', 'noisili', 'invok', 'forgiv', 'black', 'crime', 'suddenli', 'peopl', 'shift', 'pure', 'product', 'environ', 'super', 'be', 'complet', 'agenc', 'everyth', 'power', 'invis', 'achiev', 'subtler', 'way', 'take', 'seemingli', 'innocu', 'trustworthi', 'social', 'role', 'non', 'polit', 'technocrat', 'creativ', 'market', 'artist', 'care', 'worker', 'even', 'nun', 'mean', 'mask', 'push', 'chang', '<NUM>', 'blur', 'differ', 'make', 'believ', 'object', 'truth', 'new', 'agey', 'make', 'believ', 'market', 'narr', 'push', 'movi', 'social', 'construction', 'whatev', 'point', 'finger', 'social', 'construct', 'go', 'girlism', 'philosophi', 'histori', 'marxism', 'push', 'hope', 'chang', 'live', 'current', 'year', 'immigr', 'invas', 'cannot', 'invas', 'anymor', 'contribut', 'blurri', 'differ', 'fiction', 'realiti', 'strongli', 'suspect', 'modern', 'urban', 'life', 'contribut', 'cut', 'us', 'natur', 'make', 'us', 'use', 'life', 'complet', 'artifici', 'world', 'tout', 'mere', 'appear', 'much', 'easier', 'mindless', 'fashion', 'cycl', 'media', 'depend', 'ever', 'grow', 'denial', 'biolog', 'favor', 'want', 'media', 'group', 'tell', 'cool', 'seemingli', 'happen', 'kind', 'histor', 'necess', 'instrument', 'turn', 'even', 'grown', 'adult', 'psycholog', 'social', 'silli', 'putti', '<NUM>', 'inject', 'well', 'craft', 'mind', 'viru', 'impair', 'cognit', 'brain', 'subconsci', 'work', 'distinguish', 'categor', 'classifi', 'object', 'also', 'need', 'imit', 'peopl', 'learn', 'even', 'adult', 'enter', 'new', 'field', 'must', 'observ', 'establish', 'expert', 'learn', 'thing', 'done', 'well', 'prevent', 'let', 'say', 'distinct', 'discrimin', 'categor', 'racist', 'oppress', 'classifi', 'impli', 'hierarch', 'judgment', 'imit', 'reactionari', 'creativ', 'stupid', 'imit', 'other', 'children', 'learn', 'parent', 'repress', 'result', 'children', 'becom', 'petul', 'unruli', 'autist', 'hyperact', 'wherea', 'parent', 'struggl', 'contriv', 'moral', 'dilemma', 'fear', 'choos', 'path', 'associ', 'potenti', 'mate', 'anoth', 'cannot', 'discrimin', '<NUM>', 'foster', 'intoler', 'authoritarian', 'person', 'although', 'horkheim', 'adorno', 'would', 'valu', 'much', 'author', 'among', 'classic', 'authoritarian', 'person', 'mileston', 'leftist', 'onslaught', 'jumbl', 'togeth', 'blame', 'christian', 'patienc', 'normal', 'famili', 'head', 'father', 'purport', 'lack', 'hedon', 'anti', 'semit', 'homophobia', 'identifi', 'fascism', 'tradit', 'pater', 'familia', 'take', 'blame', 'men', 'set', 'frame', 'take', 'famili', 'decis', 'anymor', 'men', 'pursu', 'sex', 'seek', 'mysteri', 'liber', 'cours', 'contribut', 'chang', 'author', 'still', 'exist', 'cours', 'either', 'becom', 'subtler', 'act', 'seduct', 'perceiv', 'charisma', 'revert', 'minor', 'sjw', 'wield', 'hapless', 'mass', 'yet', 'old', 'fashion', 'boss', 'domin', 'father', 'thoroughli', 'demon', 'point', 'want', 'forbid', 'corpor', 'punish', 'foster', 'pseudo', 'friendship', 'parent', 'children', 'lack', 'lesson', 'author', 'boy', 'thrown', 'world', 'without', 'know', 'pick', 'make', 'respect', 'handl', 'threat', 'wherea', 'girl', 'carri', 'narciss', 'around', '<NUM>', 'destroy', 'distinct', 'familiar', 'foreign', 'distinct', 'familiar', 'foreign', 'keyston', 'human', 'relationship', 'peopl', 'thicker', 'trustworthi', 'relationship', 'famili', 'member', 'likewis', 'close', 'friend', 'knew', 'year', 'like', 'tell', 'truth', 'repay', 'owe', 'normal', 'foreign', 'put', 'test', 'reject', 'choos', 'harm', 'us', 'well', 'normal', 'categori', 'destroy', 'antirac', 'toler', 'help', 'refuge', 'say', 'endgam', 'destruct', 'other', 'everyon', 'shall', 'melt', 'brave', 'new', 'world', 'cours', 'lack', 'clear', 'firm', 'refer', 'foster', 'anomi', 'relat', 'peopl', 'start', 'act', 'antagonist', 'toward', 'wherea', 'hostil', 'stranger', 'welcom', 'open', 'arm', 'million', 'white', 'reject', 'brainwash', 'system', 'start', 'other', 'fascist', 'right', 'winger', 'new', 'deem', 'foreign', 'foreign', 'exist', 'deem', 'intoler', 'human', 'noth', 'els', 'ploy', 'de', 'human', 'follow', '<NUM>', 'foster', 'new', 'conflict', 'minor', 'invent', 'wholli', 'creat', 'gang', 'whitey', 'differ', 'peopl', 'went', 'along', 'togeth', 'antagon', 'narr', 'oppress', 'purport', 'past', 'wrong', 'encourag', 'follow', 'newli', 'discov', 'ident', 'thu', 'centrifug', 'movement', 'made', 'contradictori', 'desir', 'reveng', 'seek', 'lead', 'everyon', 'farer', 'control', 'dialect', 'strang', 'promot', 'creativ', 'self', 'express', 'e', 'smaller', 'tribal', 'individu', 'time', 'one', 'world', 'dream', 'trend', 'clearli', 'contradictori', 'unless', 'first', 'mean', 'toward', 'second', 'destroy', 'rebuild', '<NUM>', 'exacerb', 'differ', 'split', 'gangsta', 'cultur', 'lgbtism', 'shine', 'exampl', 'freer', 'cooler', 'individu', 'muslim', 'spiritu', 'oppress', 'exot', 'white', 'cuck', 'doubl', 'attack', 'kin', 'virtu', 'signal', 'implod', 'wide', 'differ', 'potenti', 'antagonist', 'subcultur', 'societi', 'let', 'room', 'commun', 'common', 'sens', 'common', 'understand', 'share', 'sens', 'norm', 'belong', 'well', 'erod', 'civil', 'explod', 'infrastructur', 'remain', 'left', 'bound', 'hatr', 'us', 'depend', 'system', 'hive', 'would', 'implod', 'long', 'ago', '<NUM>', 'constru', 'new', 'norm', 'ruin', 'normal', 'among', 'hippi', 'like', 'student', 'insid', 'famili', 'lack', 'norm', 'lead', 'string', 'problem', 'substanc', 'abus', 'immedi', 'gratif', 'seek', 'lack', 'toler', 'frustrat', 'autism', 'hyperact', 'inabl', 'focu', 'manipul', 'behavior', 'psychopatholog', 'lead', 'new', 'phase', 'conform', 'cowardic', 'greek', 'alreadi', 'knew', 'destroy', 'norm', 'limit', 'phase', 'process', 'next', 'phase', 'consist', 'make', 'norm', 'reliev', 'mind', 'contriv', 'intern', 'conflict', 'differ', 'peopl', 'allow', 'strongli', 'encourag', 'discrimin', 'polit', 'ground', 'establish', 'hierarchi', 'differ', 'commun', 'purport', 'past', 'suffer', 'imit', 'media', 'academ', 'system', 'institut', 'girl', 'discrimin', 'absolut', 'want', 'talk', 'wherea', 'men', 'accept', 'give', 'fat', 'entitl', 'disgrac', 'slob', 'demiurg', 'social', 'engin', 'want', 'way', '<NUM>', 'maintain', 'invis', 'step', 'true', 'member', 'elit', 'rememb', 'maintain', 'invis', 'inde', 'someon', 'feel', 'like', 'attack', 'tri', 'defend', 'target', 'individu', 'manag', 'spot', 'attack', 'may', 'attract', 'attent', 'other', 'would', 'limit', 'attack', 'possibl', 'move', 'thu', 'everyth', 'made', 'attack', 'either', 'perceiv', 'taken', 'serious', 'dumbest', 'believ', 'leftism', 'love', 'whatev', 'come', 'next', 'next', 'step', 'onslaught', 'degeneraci', 'cool', 'gay', 'marriag', 'forc', 'suprem', 'court', 'awesom', 'refuge', 'enrich', 'commonsens', 'peopl', 'trick', 'believ', 'threat', 'come', 'terror', 'far', 'right', 'islam', 'oppos', 'western', 'degeneraci', 'strip', 'racial', 'implic', 'whatev', 'bogu', 'caus', 'summon', 'fake', 'opposit', 'call', 'radic', 'left', 'attack', 'banker', 'without', 'ever', 'mention', 'actor', 'crisi', 'exactli', 'banker', 'reinforc', 'anti', 'right', 'anti', 'white', 'anti', 'trump', 'condit', 'also', 'make', 'good', 'job', 'conclus', 'neuro', 'linguist', 'program', 'filter', 'version', 'techniqu', 'use', 'elit', 'lucien', 'ceris', 'say', 'cognit', 'scienc', 'start', 'assumpt', 'mind', 'work', 'like', 'comput', 'use', 'consid', 'averag', 'peopl', 'reprogram', 'rewritten', 'disconnect', 'reconnect', 'think', 'suppress', 'peopl', 'agenc', 'human', 'becom', 'mere', 'matter', 'hand', 'know', 'better', 'social', 'engin', 'like', 'world', 'live', 'increasingli', 'reshap', 'remold', 'mad', 'power', 'cultist', 'fortun', 'know', 'trick', 'spot', 'much', 'easier', 'read', 'next', 'dysfunct', 'modern', 'societi', 'proof', 'cultur', 'marxism', 'work']",
         "fake"
        ],
        [
         "856368",
         "['teacher', 'strike', 'northeastern', 'pennsylvania', 'school', 'district', 'updat', '<NUM>', '<NUM>', 'monday', '<DATE>', 'dalla', 'pa', 'ap', 'school', 'student', 'one', 'northeastern', 'pennsylvania', 'school', 'district', 'due', 'teacher', 'strike', 'dalla', 'school', 'district', 'teacher', 'hit', 'picket', 'line', 'monday', 'last', 'contract', 'expir', '<NUM>', 'month', 'ago', 'superintend', 'thoma', 'duffi', 'plan', 'meet', 'state', 'educ', 'offici', 'monday', 'determin', 'long', 'strike', 'last', 'law', 'student', 'must', 'receiv', '<NUM>', 'class', 'day', 'instruct', 'teacher', 'union', 'agre', 'let', 'coach', 'teacher', 'continu', 'perform', 'extracurricular', 'role', 'sport', 'continu', 'club', 'activ', 'may', 'case', 'case', 'basi', 'depend', 'wish', 'faculti', 'advis', 'latest', 'sfgate', 'homepag', 'click', 'top', 'news', 'around', 'bay', 'area', 'beyond', 'sign', 'newslett', 'first', 'learn', 'break', 'news', 'go', 'sign', 'manag', 'profil', 'top', 'page', 'anti', 'trump', 'protest', 'bay', 'area']",
         "reliable"
        ],
        [
         "836684",
         "['camilo', 'villega', 'made', 'eagl', 'putt', 'par', '<NUM>', '<NUM>', 'hole', 'honda', 'classic', 'palm', 'beach', 'garden', 'fla', 'six', '<NUM>', 'one', 'shot', 'lead', 'ricki', 'fowler', 'branden', 'grace', 'graham', 'delaet', 'robert', 'streb', 'first', 'round', 'tiger', 'wood', 'defend', 'champion', 'rori', 'mcilroy', '<NUM>']",
         "reliable"
        ],
        [
         "394007",
         "['life', 'extens', 'fast', 'act', 'joint', 'formula', '<NUM>', 'capsul', 'reader', 'think', 'stori', 'fact', 'add', 'two', 'cent', 'news', 'n', 'help', 'maintain', 'healthi', 'function', 'articular', 'cartilag', 'price', '<CUR>', '<NUM>', 'learn', 'life', 'extens', 'fast', 'act', 'joint', 'formula', '<NUM>', 'capsul', 'simpli', 'right', 'click', 'ebook', 'titl', 'choos', 'save', 'save', 'desktop', 'find', 'free', 'natur', 'health', 'well', 'pet', 'ebook', '<URL>', 'mani', 'vital', 'compon', 'regain', 'maintain', 'health', 'natur', 'therapi', 'crucial', 'part', 'heal', 'journey', 'learn', 'help', 'other', 'achiev', 'whole', 'bodi', 'well', 'holist', 'heal', 'would', 'like', 'learn', 'reflexolog', 'color', 'therapi', 'reiki', 'holist', 'beauti', 'therapi', 'anatomi', 'physiolog', 'crystal', 'therapi', 'crystal', 'reflexolog', 'aromatherapi', 'pace', 'home', 'check', 'altern', 'heal', 'academi', 'home', 'studi', 'cours', 'offer', 'wide', 'rang', 'comprehens', 'holist', 'health', 'cours', 'afford', 'price', 'even', 'offer', 'payment', 'plan', '<URL>']",
         "fake"
        ],
        [
         "61413",
         "['new', 'jersey', 'libertarian', 'parti', '<DATE>', 'convent', 'reader', 'think', 'stori', 'fact', 'add', 'two', 'cent', 'headlin', 'bitcoin', 'blockchain', 'search', 'exceed', 'trump', 'blockchain', 'stock', 'next', 'new', 'jersey', 'libertarian', 'parti', 'po', 'box', '<NUM>', 'tennent', 'nj', '<NUM>', '<NUM>', '<URL>', 'press', 'releas', 'immedi', 'releas', '<DATE>', 'new', 'jersey', 'libertarian', 'parti', 'extrem', 'pleas', 'announc', 'detail', 'year', 'state', 'convent', 'parti', 'hold', 'event', 'univers', 'inn', 'campu', 'rutger', 'univers', 'new', 'brunswick', 'read', 'sourc', '<URL>']",
         "fake"
        ],
        [
         "737795",
         "['photo', 'offici', 'cours', 'urban', 'fire', 'escap', 'primarili', 'emerg', 'exit', 'new', 'york', 'prosaic', 'adorn', 'countless', 'five', 'six', 'stori', 'apart', 'hous', 'assum', 'myriad', 'function', 'faux', 'backyard', 'platform', 'crimin', 'getaway', 'oas', 'margin', 'smoker', 'makeshift', 'bedroom', 'popular', 'age', 'air', 'condit', 'often', 'visual', 'knockout', 'strikingli', 'design', 'fire', 'escap', 'complement', 'citi', 'grandest', 'structur', 'like', 'puck', 'build', 'lafayett', 'street', 'enhanc', 'even', 'dreariest', 'structur', 'first', 'built', 'new', 'york', 'well', 'centuri', 'ago', 'mandat', '<NUM>', 'tenement', 'law', 'fire', 'escap', 'soon', 'becam', 'canva', 'virtuos', 'local', 'foundri', 'worker', 'includ', 'recent', 'arriv', 'european', 'immigr', 'throughout', 'citi', 'artisan', 'creat', 'ornat', 'objet', 'art', 'construct', 'mold', 'wrought', 'cast', 'iron', 'design', 'result', 'present', 'decor', 'smorgasbord', 'includ', 'rich', 'detail', 'arabesqu', 'filigre', 'lacework', 'rosett', 'aesthet', 'though', 'skin', 'deep', 'case', 'lower', 'east', 'side', 'late', '<NUM>', 'earli', '<NUM>', 'centuri', 'fire', 'escap', 'ornament', 'score', 'tenement', 'block', 'hardli', 'mask', 'poverti', 'within', 'notabl', 'photograph', 'like', 'weege', 'took', 'pictur', 'fire', 'escap', 'help', 'demonstr', 'hurli', 'burli', 'inhuman', 'immigr', 'life', 'even', 'film', 'version', 'music', 'west', 'side', 'stori', 'retel', 'romeo', 'juliet', 'hell', 'kitchen', 'substitut', 'fire', 'escap', 'cheerless', 'tenement', 'shakespearean', 'balconi', 'famou', 'love', 'scene', 'although', 'mani', 'fire', 'escap', 'built', 'new', 'york', 'second', 'wave', 'immigr', 'still', 'exist', 'well', 'worn', 'structur', 'lament', 'overlook', 'even', 'vener', 'encyclopedia', 'new', 'york', 'citi', 'neglect', 'give', 'separ', 'entri', 'perhap', 'time', 'new', 'yorker', 'give', 'old', 'cultur', 'symbol', 'second', 'look']",
         "reliable"
        ],
        [
         "829593",
         "['amsterdam', 'immigr', 'integr', 'minist', 'rita', 'verdonk', 'bow', 'pressur', 'parliament', 'agre', 'deport', 'iranian', 'gay', 'peopl', 'christian', 'convert', 'time', 'minist', 'told', 'mp', 'wednesday', 'afternoon', 'would', 'extend', 'previou', 'moratorium', 'expuls', 'took', 'decis', 'becam', 'clear', 'major', 'mp', 'doubt', 'whether', 'reject', 'asylum', 'seeker', 'would', 'safe', 'iran', 'moratorium', 'remain', 'forc', 'new', 'foreign', 'ministri', 'assess', 'situat', 'iran', 'gay', 'muslim', 'convert', 'christian', 'complet', 'like', 'take', 'august', 'septemb', 'verdonk', 'announc', 'late', 'februari', 'intend', 'begin', 'deport', 'peopl', 'categori', 'refus', 'asylum', 'netherland', 'cite', 'previou', 'assess', 'dutch', 'offici', 'maintain', 'gay', 'peopl', 'christian', 'face', 'signific', 'risk', 'persecut', 'iran', 'long', 'open', 'mp', 'nation', 'gay', 'feder', 'coc', 'voic', 'seriou', 'critic', 'decis', 'light', 'fact', 'expuls', 'gay', 'peopl', 'iran', 'suspend', 'last', 'summer', 'follow', 'report', 'execut', 'two', 'gay', 'men', 'peopl', 'convict', 'gay', 'sex', 'face', 'death', 'penalti', 'strict', 'islam', 'law', 'iran', 'iranian', 'author', 'said', 'men', 'execut', 'rape', 'man', 'robberi', 'gay', 'expuls', 'muslim', 'iranian', 'convert', 'christian', 'also', 'halt', 'recent', 'follow', 'request', 'christian', 'parti', 'christenuni', 'verdonk', 'foreign', 'minist', 'ben', 'bot', 'defend', 'februari', 'assess', 'meticul', 'object', 'wednesday', 'mp', 'continu', 'express', 'doubt', 'speak', 'media', 'afterward', 'verdonk', 'said', 'common', 'knowledg', 'situat', 'gay', 'peopl', 'convert', 'often', 'good', 'netherland', 'mani', 'gay', 'peopl', 'convert', 'islam', 'could', 'appli', 'live', 'netherland', 'ground', 'allow', 'asylum', 'said', 'coc', 'chairman', 'frank', 'van', 'dalen', 'said', 'pleas', 'fail', 'gay', 'asylum', 'seeker', 'expel', 'time', 'go', 'happen', 'six', 'month', 'face', 'death', 'sentenc', 'left', 'great', 'uncertainti', 'future\\x94', 'said', 'van', 'dalen', 'said', 'want', 'put', 'verdonk', 'contact', 'gay', 'iranian', 'live', 'netherland', 'hear', 'like', 'islam', 'republ', 'origin', 'articl', 'share']",
         "fake"
        ],
        [
         "593310",
         "['ongo', 'swine', 'flu', 'epidem', 'may', 'wish', 'taken', 'flu', 'shot', 'season', 'doctor', 'say', 'may', 'better', 'without', 'sinc', '<NUM>', 'centuri', 'commonli', 'use', 'treatment', 'cold', 'flu', 'chicken', 'soup', 'said', 'dr', 'mayer', 'eisenstein', 'one', 'guest', 'speaker', 'u', 'autism', 'asperg', 'associ', 'region', 'confer', 'saturday', 'crown', 'plaza', 'hotel', 'cherri', 'hill', 'think', 'anyth', 'sophist', 'think', 'relat', 'articl', 'swine', 'flu', 'pandem', 'feel', 'like', 'phoney', 'war', 'guardian', 'eisenstein', 'address', 'confer', 'attende', 'illinoi', 'video', 'conferenc', 'discuss', 'effect', 'vaccin', 'theoriz', 'connect', 'autism', 'peopl', 'receiv', 'flu', 'vaccin', 'death', 'said', 'eisenstein', 'cite', 'variou', 'scientif', 'studi', 'mean', 'two', 'relat', 'walk', 'like', 'duck', 'quack', 'like', 'duck', 'probabl', 'duck', 'eisenstein', 'limit', 'critic', 'flu', 'shot', 'perpetu', 'myth', 'vaccin', 'answer', 'eisenstein', 'said', 'although', 'vaccin', 'credit', 'virtual', 'elimin', 'variou', 'diseas', 'eisenstein', 'said', 'evid', 'support', 'vaccin', 'caus', 'among', 'diseas', 'virtual', 'disappear', 'measl', 'scarlet', 'fever', 'tuberculosi', 'whoop', 'cough', 'vaccin', 'avail', 'prevent', 'eisenstein', 'said', 'impact', 'said', 'vitamin', 'probiot', 'start', 'use', 'practic', 'year', 'got', 'amaz', 'result', 'eisenstein', 'said', 'met', 'doctor', 'doctor', 'result', 'eisenstein', 'said', 'patient', 'got', 'high', 'dose', 'vitamin', 'three', 'day', 'onset', 'cold', 'recov', 'much', 'faster', 'patient', 'cite', 'studi', 'vitamin', 'administ', '<NUM>', 'particip', '<NUM>', 'particip', 'group', 'receiv', 'vitamin', 'report', 'cold', 'winter', 'month', 'eisenstein', 'said', 'two', 'three', 'particip', 'receiv', 'lower', 'dose', 'vitamin', 'report', 'cold', 'none', 'particip', 'given', 'higher', 'dose', 'vitamin', 'becam', 'ill', 'said', 'unlik', 'vitamin', 'readili', 'obtain', 'varieti', 'food', 'vitamin', 'harder', 'come', 'eisenstein', 'said', 'recommend', 'children', 'get', 'vitamin', 'supplement', 'exposur', 'sun', '<NUM>', '<NUM>', 'minut', 'everi', 'day', 'without', 'sunblock', 'give', 'bodi', 'much', 'need', 'vitamin', 'boost', 'eisenstein', 'said', 'vitamin', 'clearli', 'part', 'answer', 'tell', 'complet', 'answer', 'vaccin', 'eisenstein', 'said', 'nanci', 'gualario', 'colt', 'neck', 'run', 'advisori', 'group', 'parent', 'special', 'need', 'children', 'like', 'come', 'thing', 'bring', 'inform', 'back', 'parent', 'gualario', 'said', 'one', 'gualario', 'triplet', 'diagnos', 'autism', 'age', '<NUM>', 'said', 'therapi', 'tremend', 'success', 'said', 'lisa', 'mclaughlin', 'also', 'son', 'autism', 'came', 'virginia', 'attend', 'confer', 'conclud', 'today', 'read', 'intervent', 'onlin', 'want', 'find', 'mclaughlin', 'said', 'reach', 'lavinia', 'decastro', '<NUM>', '<NUM>', '<NUM>', 'ldecastro', '<URL>', 'lavinia', 'decastro', 'courier', 'post', 'staff', '<DATE>', 'sourc', 'courier', 'post', 'onlin']",
         "fake"
        ],
        [
         "390961",
         "['boston', 'partner', 'healthcar', 'includ', 'massachusett', 'gener', 'hospit', 'brigham', 'women', 'hospit', 'signific', 'increas', 'tuft', 'health', 'plan', 'joust', 'harvard', 'pilgrim', 'health', 'care', 'big', 'boston', 'h', 'propos', '<NUM>', 'percent', 'increas', 'overal', 'payment', 'four', 'year', 'stanford', 'univers', 'medic', 'center', 'told', 'six', 'major', 'california', 'h', 'month', 'would', 'longer', 'accept', 'flat', 'payment', 'call', 'capit', 'health', 'plan', 'member', 'chicago', 'portland', 'ore', 'orang', 'counti', 'calif', 'hospit', 'broken', 'relat', 'health', 'plan', 'refus', 'agre', 'higher', 'payment', 'hospit', 'demand', 'hospit', 'waukegan', 'evanston', 'ill', 'ask', 'increas', '<NUM>', 'percent', '<NUM>', 'percent', 'servic', 'blame', '<NUM>', 'year', 'freez', 'state', 'medicaid', 'payment', 'rate', 'low', 'payment', 'manag', 'care', 'compani', 'time', 'insur', 'compani', 'drop', 'mani', 'restraint', 'care', 'infuri', 'consum', 'doctor', 'kept', 'cost', 'check', 'addit', 'drug', 'cost', 'continu', 'rise', 'precipit', 'prescript', 'drug', 'cost', 'increas', 'nearli', '<NUM>', 'percent', 'last', 'year', 'analyst', 'expect', 'hefti', 'increas', 'year', '<DATE>', 'new', 'wide', 'use', 'form', 'sophist', 'diagnost', 'treatment', 'equip', 'also', 'rais', 'cost', 'insur', 'compani', 'ask', 'higher', 'payment', 'corpor', 'profit', 'slide', 'mani', 'execut', 'increasingli', 'say', 'fed', 'manag', 'care', 'suppos', 'control', 'cost', 'employ', 'gener', 'lost', 'faith', 'manag', 'care', 'five', 'year', 'ago', 'said', 'peter', 'lee', 'presid', 'pacif', 'busi', 'group', 'health', 'employ', 'group', 'negoti', 'rate', 'health', 'plan', 'press', 'improv', 'qualiti', 'care', 'manag', 'care', 'longer', 'ring', 'true', 'larg', 'employ', 'said', 'advertis', 'continu', 'read', 'main', 'stori', 'rise', 'cost', 'pervad', 'health', 'care', 'system', 'even', 'advertis', 'fuel', 'demand', 'prescript', 'drug', 'increas', 'spend', 'health', 'care', 'advanc', 'surgeri', 'medic', 'devic', 'diagnost', 'techniqu', 'like', 'bone', 'scan', 'rais', 'cost', 'hospit', 'health', 'plan', 'cost', 'explos', 'go', 'get', 'wors', 'said', 'helen', 'darl', 'health', 'care', 'expert', 'watson', 'wyatt', 'benefit', 'consult', 'firm', 'seen', 'full', 'impact', 'new', 'technolog', 'across', 'board', 'exampl', 'medic', 'devic', 'maker', 'like', 'medtron', 'inc', 'guidant', 'corpor', 'race', 'regulatori', 'approv', 'implant', 'devic', 'prolong', 'live', 'patient', 'congest', 'heart', 'failur', 'devic', 'expect', 'cost', '<CUR>', '<NUM>', 'mani', 'peopl', 'get', 'sophist', 'thing', 'said', 'david', 'cutler', 'harvard', 'univers', 'professor', 'econom', '<NUM>', 'percent', 'medicar', 'beneficiari', 'angiogram', 'examin', 'arteri', 'heart', 'attack', 'compar', '<NUM>', 'percent', 'earli', '<DATE>', 'technolog', 'help', 'extend', 'live', 'costli', 'angiogram', 'cost', '<CUR>', '<NUM>', '<CUR>', '<NUM>', 'big', 'metropolitan', 'teach', 'hospit', 'newslett', 'sign', 'continu', 'read', 'main', 'stori', 'pleas', 'verifi', 'robot', 'click', 'box', 'invalid', 'email', 'address', 'pleas', 'enter', 'must', 'select', 'newslett', 'subscrib', 'sign', 'agre', 'receiv', 'occasion', 'updat', 'special', 'offer', 'new', 'york', 'time', 'product', 'servic', 'thank', 'subscrib', 'error', 'occur', 'pleas', 'tri', 'later', 'view', 'new', 'york', 'time', 'newslett', 'largest', 'insur', 'compani', 'meanwhil', 'drop', 'review', 'doctor', 'order', 'call', 'gatekeep', 'measur', 'kept', 'medic', 'cost', 'check', 'plan', 'even', 'move', 'away', 'charg', 'monthli', 'capit', 'fee', 'member', 'said', 'kenneth', 'l', 'sperl', 'consult', 'hewitt', 'associ', 'capit', 'enrag', 'doctor', 'keep', 'cost', 'check', 'doctor', 'stake', 'keep', 'cost', 'get', 'away', 'capit', 'good', 'keep', 'cost', 'control', 'said', 'paul', 'b', 'ginsburg', 'presid', 'center', 'studi', 'health', 'system', 'chang', 'nonprofit', 'research', 'center', 'washington', 'instead', 'insur', 'go', 'back', 'pay', 'fee', 'servic', 'health', 'plan', 'requir', 'patient', 'pay', '<NUM>', 'percent', 'fee', 'manag', 'care', 'instead', 'cover', 'dollar', 'acceler', 'medic', 'cost', 'caught', 'sever', 'larg', 'insur', 'compani', 'guard', 'month', 'aetna', 'inc', 'nation', 'largest', 'health', 'insur', 'report', 'quarterli', 'loss', 'medic', 'cost', 'rose', '<NUM>', 'percent', 'cigna', 'corpor', 'third', 'largest', 'manag', 'care', 'compani', 'said', 'cost', 'rose', '<NUM>', 'percent', 'first', 'quarter', 'cigna', 'expect', 'increas', '<NUM>', '<NUM>', 'percent', 'dr', 'john', 'p', 'row', 'chairman', 'chief', 'execut', 'aetna', 'parri', 'question', 'whether', 'polici', 'loosen', 'restraint', 'doctor', 'creat', 'kinder', 'gentler', 'aetna', 'open', 'way', 'rise', 'cost', 'secur', 'analyst', 'said', 'connect', 'plain', 'aetna', 'insur', 'advertis', 'continu', 'read', 'main', 'stori', 'manag', 'care', 'go', 'ms', 'darl', 'watson', 'wyatt', 'said', 'discount', 'insur', 'negoti', 'group', 'lot', 'employe', 'ad', 'would', 'look', 'like', 'old', 'indemn', 'world', 'employ', 'patient', 'paid', 'servic', 'attempt', 'hold', 'cost', 'sure', 'insur', 'usual', 'receiv', 'smaller', 'increas', 'request', 'hewitt', 'associ', 'estim', 'premium', 'increas', '<NUM>', 'percent', 'last', 'year', 'earlier', 'forecast', 'doubl', 'digit', 'increas', 'insur', 'ask', 'bigger', 'increas', 'year', 'past', 'tiaa', 'cref', 'teacher', 'pension', 'fund', 'manag', 'expect', 'h', 'premium', '<NUM>', 'employe', 'rise', '<NUM>', '<NUM>', 'percent', 'next', 'year', 'across', 'countri', '<NUM>', 'percent', '<DATE>', 'tom', 'hartnett', 'benefit', 'manag', 'fund', 'said', 'will', 'give', 'manag', 'care', 'time', 'ad', 'great', 'save', 'alreadi', 'smaller', 'employ', 'less', 'leverag', 'insur', 'compani', 'often', 'face', 'higher', 'increas', 'grin', 'bear', 'said', 'cliff', 'goodman', 'human', 'resourc', 'director', 'west', 'mill', 'cloth', 'inc', 'woodsid', 'queen', 'make', 'lord', 'west', 'tuxedo', 'provid', 'health', 'insur', '<NUM>', 'employe', 'unless', 'realli', 'good', 'claim', 'histori', 'young', 'group', 'said', 'compani', 'cannot', 'shop', 'around', 'better', 'deal', 'mr', 'goodman', 'expect', 'increas', '<NUM>', 'percent', 'premium', 'yet', 'hear', 'two', 'major', 'insur', 'employe', 'also', 'feel', 'financi', 'squeez', 'hewitt', 'associ', 'said', 'employe', 'compani', 'health', 'plan', 'would', 'pay', '<CUR>', '<NUM>', 'averag', 'year', '<CUR>', '<NUM>', '<DATE>', '<CUR>', '<NUM>', 'five', 'year', 'ago', 'employ', 'still', 'pay', 'three', 'quarter', 'grow', 'total', 'year', 'health', 'plan', 'still', 'reflect', 'last', 'year', 'percept', 'tight', 'labor', 'market', 'said', 'jon', 'r', 'gabel', 'track', 'health', 'cost', 'health', 'research', 'educ', 'trust', 'washington', 'percept', 'may', 'chang', 'grow', 'concern', 'economi', 'california', 'public', 'employe', 'retir', 'system', 'requir', 'peopl', 'cover', 'pay', 'doctor', 'visit', 'prescript', 'first', 'time', 'h', 'member', 'pay', '<CUR>', '<NUM>', 'gener', 'drug', '<CUR>', '<NUM>', 'approv', 'brand', '<CUR>', '<NUM>', 'drug', '<NUM>', 'day', 'suppli', 'chang', 'bring', 'averag', 'premium', 'increas', 'organ', '<NUM>', 'percent', 'instead', '<NUM>', '<NUM>', 'percent', '<NUM>', 'h', 'member', '<DATE>', 'offset', 'rise', 'cost', 'plan', 'includ', 'fewer', 'manag', 'care', 'strictur', 'organ', 'adopt', 'premium', 'increas', '<NUM>', 'percent', '<NUM>', 'percent', 'late', 'last', 'week', '<NUM>', 'member', 'two', 'prefer', 'provid', 'organ', 'cost', 'rise', 'economist', 'said', 'grow', 'unhappi', 'could', 'stoke', 'popular', 'demand', 'polit', 'solut', 'even', 'reviv', 'interest', 'nation', 'singl', 'payer', 'health', 'system', 'like', 'canada', 'advertis', 'continu', 'read', 'main', 'stori', '<DATE>', '<DATE>', 'last', 'time', 'busi', 'slowdown', 'coincid', 'doubl', 'digit', 'inflat', 'health', 'cost', 'peopl', 'start', 'talk', 'univers', 'health', 'coverag', 'recal', 'uwe', 'reinhardt', 'princeton', 'univers', 'economist', 'instead', 'employ', 'place', 'faith', 'manag', 'care']",
         "reliable"
        ],
        [
         "648178",
         "['surpris', 'paradox', 'even', 'iron', 'much', 'media', 'compar', 'labour', 'veteran', 'jeremi', 'corbyn', 'podemo', 'new', 'leader', 'old', 'polit', 'parti', 'found', 'british', 'trade', 'union', 'common', 'movement', 'born', 'bare', '<NUM>', 'month', 'ago', 'spain', 'basic', 'one', 'thing', 'failur', 'social', 'liber', 'third', 'way', 'often', 'said', 'parti', 'repres', 'indignado', 'outrag', 'wrong', 'half', 'explan', 'movement', 'spain', 'express', 'failur', 'neoliber', 'polit', 'ideolog', 'destroy', 'social', 'protect', 'industri', 'trade', 'union', 'produc', 'specul', 'bubbl', 'consumpt', 'base', 'credit', 'prove', 'unabl', 'deliv', 'accept', 'solut', 'financi', 'crisi', 'acceler', 'destruct', 'public', 'servic', 'impoverish', 'worker', 'middl', 'class', 'crisi', 'hit', 'spain', 'socialist', 'parti', 'psoe', 'tradit', 'identifi', 'welfar', 'state', 'govern', 'fail', 'provid', 'altern', 'spanish', 'socialist', 'parti', 'react', 'socialist', 'even', 'dare', 'reject', 'polici', 'auster', 'slash', 'public', 'spend', 'offer', 'minim', 'keynesian', 'rescu', 'programm', 'prime', 'minist', 'josé', 'lui', 'rodriguez', 'zapatero', 'simpli', 'surrend', 'crisi', 'embrac', 'measur', 'conserv', 'govern', 'would', 'done', 'acknowledg', 'memoir', 'knew', 'measur', 'took', 'would', 'cost', 'elect', 'leadership', 'parti', 'failur', 'contribut', 'public', 'percept', 'two', 'major', 'spanish', 'parti', 'almost', 'ident', 'embodi', 'privileg', 'polit', 'elit', 'welfar', 'cut', 'impos', 'impoverish', 'major', 'popul', 'biggest', 'social', 'express', 'result', 'public', 'disaffect', '<NUM>', 'movement', 'whose', 'main', 'messag', 'reject', 'polit', 'econom', 'elit', 'podemo', 'becam', 'polit', 'elector', 'express', 'movement', 'spanish', 'socialist', 'parti', 'seem', 'mani', 'voter', 'like', 'conserv', 'peopl', 'parti', 'stori', 'uk', 'differ', 'success', 'neoliber', 'britain', 'meant', 'defeat', 'labour', 'british', 'work', 'class', 'process', 'play', 'mani', 'symbol', 'way', 'move', 'defeat', 'thatcher', 'inflict', 'miner', 'stage', 'heroic', 'resist', 'affront', 'toni', 'blair', 'third', 'way', 'direct', 'successor', 'thatcher', 'turn', 'social', 'democraci', 'sort', 'new', 'social', 'liber', 'would', 'eventu', 'becom', 'refer', 'point', 'european', 'socialist', 'parti', 'particularli', 'spanish', 'podemo', 'best', 'express', 'ident', 'crisi', 'spanish', 'social', 'jeremi', 'corbyn', 'best', 'express', 'ident', 'crisi', 'british', 'labour', 'parti', 'challeng', 'could', 'come', 'outsid', 'parti', 'scotland', 'tradit', 'labour', 'voter', 'understood', 'snp', 'would', 'better', 'defend', 'social', 'right', 'instead', 'arisen', 'within', 'whether', 'come', 'insid', 'outsid', 'import', 'last', 'alli', 'uk', 'share', 'diagnosi', 'current', 'polit', 'crisi', 'plan', 'fight', 'defenc', 'social', 'right', 'polici', 'tackl', 'inequ', 'role', 'simpli', 'repres', 'social', 'major', 'mass', 'hit', 'financi', 'govern', 'model', 'design', 'favour', 'financi', 'elit', 'clientel', 'increasingli', 'socialist', 'join', 'us', 'defend', 'democraci', 'fight', 'auster', 'inequ', 'say', 'welcom', 'comrad', 'let', 'walk', 'togeth', 'smear', 'campaign', 'corbyn', 'alreadi', 'begun', 'hear', 'kind', 'insult', 'greek', 'govern', 'receiv', 'podemo', 'receiv', 'hear', 'kind', 'condescens', 'warn', 'ever', 'voic', 'opposit', 'never', 'govern', 'yet', 'across', 'europ', 'becom', 'stronger', 'stronger']",
         "reliable"
        ],
        [
         "636949",
         "['ученые', 'выяснили', 'как', 'офисная', 'работа', 'влияет', 'на', 'мозг', 'исследование', 'показало', 'что', 'качество', 'воздуха', 'в', 'офисе', 'существенно', 'влияет', 'на', 'работоспособность', 'и', 'интеллектуальные', 'возможности', 'сотрудников', 'фото', 'rex', 'ученые', 'из', 'гарварда', 'изучили', 'взаимосвязь', 'между', 'составом', 'воздуха', 'в', 'рабочем', 'помещении', 'и', 'работоспособностью', 'сотрудников', 'как', 'выяснилось', 'в', 'хорошо', 'проветриваемых', 'комнатах', 'с', 'пониженным', 'содержанием', 'углекислого', 'воздуха', 'и', 'загрязнений', 'люди', 'демонстрируют', 'заметно', 'лучшую', 'способность', 'к', 'обучению', 'и', 'анализу', 'информации', 'эти', 'показатели', 'возрастают', 'примерно', 'на', '<NUM>', 'по', 'сравнению', 'с', 'показателями', 'этих', 'же', 'людей', 'во', 'время', 'работы', 'в', 'помещениях', 'с', 'затхлой', 'и', 'загрязненной', 'атмосферой', 'в', 'исследовании', 'приняли', 'участие', '<NUM>', 'добровольца', 'опыты', 'продолжались', 'на', 'протяжении', 'недели', 'пишет', '<URL>', 'в', 'офисе', 'снижался', 'также', 'уровень', 'углекислого', 'газа', 'то', 'продуктивность', 'интеллектуального', 'труда', 'возрастала', 'уже', 'на', '<NUM>', 'сообщает', 'издание', 'как', 'сообщала', 'ранее', 'правдару', 'негативное', 'воздействие', 'на', 'память', 'человека', 'оказывает', 'также', 'интернет', 'выучивать', 'информацию', 'уже', 'нет', 'необходимости', 'так', 'как', 'в', 'любой', 'момент', 'можно', 'найти', 'ее', 'в', 'сети', 'это', 'ослабляет', 'память', 'и', 'мыслительные', 'способности', 'отмечают', 'ученые', 'читайте', 'последние', 'новости', '<URL>', 'на', 'сегодня']",
         "fake"
        ],
        [
         "62014",
         "['imag', 'via', 'twitter', 'littl', 'beirut', 'fire', 'may', 'day', 'one', 'hot', 'minut', 'least', 'portland', 'annual', 'organ', 'labor', 'march', 'also', 'becom', 'recur', 'excus', 'confront', 'heavili', 'gear', 'polic', 'bureau', 'mask', 'anarchist', 'known', 'black', 'bloc', 'year', 'drag', 'newspap', 'box', 'onto', 'light', 'rail', 'track', 'make', 'bonfir', 'trade', 'projectil', 'riot', 'polic', 'pepsi', 'can', 'smoke', 'bomb', 'go', 'one', 'direct', 'nois', 'grenad', 'polic', 'issu', 'permit', 'today', 'march', 'began', 'lunchtim', 'ralli', 'shemanski', 'park', 'coupl', 'thousand', 'peopl', 'gather', 'support', 'spectrum', 'leftist', 'group', 'includ', 'labor', 'union', 'socialist', 'communist', 'organ', 'anarchist', 'collect', 'feminist', 'bookstor', 'racial', 'justic', 'group', 'immigr', 'advoc', 'evangel', 'christian', 'quaker', 'cascadian', 'separatist', 'cours', 'black', 'bloc', 'inevit', 'seiz', 'headlin', 'understand', 'today', 'addit', 'gener', 'camera', 'friendli', 'smoke', 'flame', 'brought', 'three', 'giant', 'spider', 'puppet', 'construct', 'top', 'shop', 'cart', 'continu', 'read', '→']",
         "fake"
        ],
        [
         "809050",
         "['set', 'raini', 'saturday', 'night', 'krain', 'theater', 'east', 'fourth', 'street', 'sidewalk', 'crowd', 'wait', 'see', 'cannib', 'music', 'base', 'film', 'name', 'trey', 'parker', 'creator', 'south', 'park', 'cartoon', 'show', 'chronicl', '<NUM>', 'misadventur', 'alferd', 'packer', 'produc', 'say', 'american', 'convict', 'cannib', 'music', 'open', 'march', 'extend', 'four', 'time', 'set', 'colorado', 'gold', 'rush', 'follow', 'band', 'hapless', 'prospector', 'river', 'snowi', 'mountain', 'sing', 'danc', 'synchron', 'swim', 'way', 'anthropophag', 'doom', 'danc', 'number', 'includ', 'takeoff', 'michael', 'jackson', 'video', 'west', 'side', 'stori', 'swan', 'lake', 'charact', 'includ', 'incur', 'optimist', 'incur', 'pessimist', 'preacher', 'incur', 'leg', 'infect', 'buzz', 'crush', 'bodi', 'wait', 'get', 'man', 'spars', 'goate', 'boast', 'third', 'time', 'see', 'show', 'woman', 'hold', 'sheaf', 'long', 'stem', 'rose', 'sheepishli', 'confess', 'fifth', 'ian', 'mcgullam', '<NUM>', 'came', 'dress', 'charact', 'show', 'fur', 'hat', 'tacki', 'thing', 'earflap', 'said', 'friend', 'ami', 'schoenwald', '<NUM>', 'reach', 'stroke', 'pointi', 'brown', 'cloth', 'ear', 'wire', 'head', 'final', 'woman', 'wear', 'tight', 'corset', 'maroon', 'feather', 'head', 'yell', 'k', 'everi', 'man', 'mob', 'stream', 'kind', 'obsess', 'said', 'ms', 'schoenwald', 'whose', 'hors', 'ear', 'pay', 'homag', 'lian', 'equin', 'love', 'interest', 'play', 'main', 'man', 'eater', 'seen', 'show', 'seen', 'movi', 'million', 'time', 'advertis', 'continu', 'read', 'main', 'stori', 'one', 'miner', 'eat', 'said', 'mr', 'mcgullam', 'commut', 'ms', 'schoenwald', 'friend', 'long', 'island', 'attend', 'huntington', 'high', 'school']",
         "reliable"
        ],
        [
         "378183",
         "['actual', 'shock', 'niall', 'ferguson', 'harvard', 'professor', 'use', 'tolstoy', 'open', 'line', 'anna', 'karenina', 'happi', 'famili', 'alik', 'everi', 'unhappi', 'famili', 'unhappi', 'way', 'lead', 'review', 'book', 'busi', 'dynasti', 'latest', 'new', 'republ', 'shock', 'ferguson', 'would', 'display', 'lazi', 'lead', 'magazin', 'shock', 'seem', 'regard', 'use', 'thought', 'origin', 'provid', 'taglin', 'cours', 'shock', 'new', 'republ', 'let', 'get', 'away', 'suppos', 'ought', 'known', 'still', 'sore', 'ferguson', 'lazi', 'lectur', 'gave', 'yivo', 'week', 'back', 'hot', 'topic', 'jew', 'money', 'turn', 'clich', 'chestnut', 'threadbar', 'scottish', 'homespun']",
         "reliable"
        ],
        [
         "62128",
         "['russian', 'fm', 'call', 'syrian', 'kurd', 'particip', 'geneva', '<NUM>', 'talk', 'accord', 'offici', 'statement', 'publish', 'ministri', 'websit', 'today', 'syrian', 'kurd', 'desir', 'take', 'part', 'geneva', '<NUM>', 'confer', 'separ', 'separat', 'willing', 'live', 'unit', 'countri', 'russian', 'foreign', 'ministri', 'moscow', 'understand', 'syrian', 'kurd', 'posit', 'confirm', 'willing', 'live', 'unit', 'sovereign', 'democrat', 'countri', 'place', 'racial', 'split', 'ethnic', 'religi', 'languag', 'discrimin', 'rather', 'separatist', 'intent', 'meanwhil', 'syria', 'take', 'part', 'geneva', '<NUM>', 'confer', 'without', 'preliminari', 'condit', 'ahmad', 'asi', 'al', 'jarba', 'presid', 'nation', 'coalit', 'syrian', 'revolutionari', 'opposit', 'forc', 'said', 'new', 'opposit', 'leader', 'also', 'ad', 'necessari', 'set', 'time', 'limit', 'negoti', 'assad', 'regim', 'repres', 'order', 'avoid', 'protract', 'lebanes', 'al', 'akhbar', 'newspap', 'report', 'al', 'jarba', 'also', 'call', 'syrian', 'govern', 'releas', 'detaine', 'step', 'necessari', 'convinc', 'syrian', 'peopl', 'use', 'talk', 'readi', 'negoti', 'without', 'preliminari', 'condit', 'syrian', 'leader', 'whose', 'hand', 'blood', 'stain', 'al', 'jarba', 'reiter', 'syrian', 'nation', 'coalit', 'demand', 'west', 'arab', 'sponsor', 'provid', 'weapon', 'protect', 'civilian', 'popul', 'talk', 'geneva', 'end', 'creation', 'transit', 'govern', 'larg', 'power', 'take', 'control', 'secur', 'forc', 'syrian', 'armi', 'al', 'jarba', 'underscor', 'syrian', 'crisi', 'still', 'long', 'way', 'geneva', '<NUM>', 'despit', 'diplomat', 'effort', 'hyperact', 'observ', 'line', 'syrian', 'crisi', 'militari', 'diplomat', 'week', 'russian', 'foreign', 'minist', 'sergey', 'lavrov', 'us', 'secretari', 'state', 'john', 'kerri', 'sever', 'phone', 'convers', 'discuss', 'prepar', 'expect', 'geneva', 'confer', 'syria', 'bustl', 'reach', 'peak', '<DATE>', 'new', 'york', 'becam', 'site', 'inform', 'meet', '<NUM>', 'un', 'secur', 'council', 'member', 'state', 'syrian', 'opposit', 'repres', 'ahm', 'jarba', 'chairman', 'syrian', 'nation', 'coalit', 'vitali', 'churkin', 'perman', 'repres', 'russian', 'feder', 'unit', 'nation', 'cautious', 'report', 'meet', 'deleg', 'opposit', 'prepar', 'take', 'part', 'second', 'confer', 'geneva', 'aim', 'settlement', 'situat', 'syria', 'mean', 'problem', 'conven', 'geneva', '<NUM>', 'confer', 'solv', 'howev', 'consid', 'main', 'obstacl', 'confer', 'opposit', 'preliminari', 'condit', 'new', 'york', 'opposit', 'demand', 'countri', 'current', 'presid', 'bashar', 'al', 'assad', 'expel', 'interim', 'govern', 'plan', 'set', 'syria', 'nation', 'coalit', 'syrian', 'revolutionari', 'opposit', 'forc', 'prepar', 'particip', 'geneva', '<NUM>', 'confer', 'soon', 'al', 'assad', 'step', 'howev', 'syrian', 'nation', 'coalit', 'consent', 'start', 'talk', 'formal', 'confirm', 'yet', 'russian', 'foreign', 'minist', 'sergey', 'lavrov', 'said', 'subject', 'press', 'confer', 'moscow', 'day', 'new', 'leadership', 'nation', 'coalit', 'declar', 'would', 'go', 'geneva', 'reinforc', 'foot', 'syrian', 'territori', 'syrian', 'govern', 'announc', 'go', 'geneva', 'sign', 'act', 'capitul', 'seriou', 'preliminari', 'condit', 'run', 'counter', 'geneva', 'communiqu', 'agreement', 'john', 'kerri', 'framework', 'joint', 'russian', 'us', 'initi', 'last', 'week', 'pentagon', 'first', 'time', 'publish', 'detail', 'sever', 'version', 'militari', 'interfer', 'civil', 'war', 'syria', 'detail', 'outlin', 'open', 'letter', 'senat', 'sent', 'chairman', 'joint', 'chief', 'staff', 'gener', 'martin', 'dempsey', 'declar', 'militari', 'option', 'alreadi', 'submit', 'presid', 'among', 'arm', 'deliveri', 'syrian', 'milit', 'air', 'attack', 'govern', 'troop', 'introduct', 'fli', 'zone', 'syria', 'set', 'buffer', 'strip', 'along', 'syrian', 'border', 'turkey', 'jordan', 'final', 'send', 'us', 'special', 'oper', 'forc', 'captur', 'chemic', 'weapon', 'meanwhil', 'syria', 'anti', 'govern', 'forc', 'tri', 'draw', 'kurdish', 'popul', 'conflict', 'syrian', 'kurd', 'maintain', 'neutral', 'last', 'week', 'extremist', 'began', 'fight', 'kurdish', 'home', 'guard', 'north', 'east', 'countri', 'group', 'associ', 'al', 'qaeda', 'captur', '<NUM>', 'kurdish', 'women', 'children', 'old', 'peopl', 'hostag', 'use', 'live', 'shield', 'kurdish', 'citi', 'loot', 'set', 'fire', 'bashar', 'al', 'assad', 'govern', 'grant', 'kurd', 'larg', 'scale', 'autonomi', 'fight', 'anyon', 'presid', 'russian', 'institut', 'religion', 'polit', 'alexand', 'ignatenko', 'say', 'quit', 'possibl', 'hostil', 'move', 'turkish', 'territori', 'turkey', 'provid', 'foreign', 'non', 'syrian', 'milit', 'hide', 'out', 'ground', 'combat', 'train', 'arm', 'deliveri', 'also', 'carri', 'via', 'turkey', 'turkey', 'start', 'riski', 'game', 'involv', 'syrian', 'conflict', 'like', 'peopl', 'live', 'glass', 'hous', 'throw', 'stone', 'russian', 'foreign', 'ministri', 'characteris', 'syrian', 'milit', 'action', 'peac', 'popul', 'bloodi', 'provoc', 'moscow', 'convinc', 'intern', 'terror', 'stand', 'behind', 'atroc', 'kurdish', 'district', 'syria', 'main', 'aim', 'aggrav', 'interethn', 'relat', 'ruin', 'countri', 'make', 'breed', 'ground', 'intern', 'terror', 'moscow', 'urg', 'partner', 'give', 'principl', 'assess', 'terrorist', 'crime', 'syria', 'russian', 'fm', 'moscow', 'urg', 'partner', 'intern', 'arena', 'give', 'principl', 'assess', 'terrorist', 'crime', 'syria', 'voic', 'russia', 'correspond', 'report', 'call', 'partner', 'intern', 'arena', 'well', 'group', 'syrian', 'opposit', 'give', 'principl', 'assess', 'crime', 'terrorist', 'syria', 'prevent', 'manifest', 'doubl', 'standard', 'polici', 'would', 'allow', 'terrorist', 'intern', 'realiz', 'crimin', 'aim', 'countri', 'accrod', 'russian', 'foreign', 'ministri', 'statement', 'connect', 'terrorist', 'act', 'suburb', 'damascu', '<DATE>', 'russia', 'hope', 'un', 'secur', 'council', 'meet', 'syria', 'advanc', 'prepar', 'geneva', '<NUM>', 'inform', 'meet', 'member', 'un', 'secur', 'council', 'repres', 'syrian', 'opposit', 'may', 'consid', 'offici', 'recognit', 'voci', 'russia', 'correspond', 'igor', 'siletski', 'quot', 'russian', 'perman', 'repres', 'unit', 'nation', 'vitali', 'churkin', 'say', 'absolut', 'inform', 'event', 'even', 'un', 'secur', 'council', 'fact', 'meet', 'take', 'place', 'may', 'consid', 'step', 'toward', 'recognis', 'nation', 'coalit', 'syrian', 'revolutionari', 'opposit', 'forc', 'offici', 'capac', 'churkin', 'said', 'un', 'headquart', 'thursday', '<DATE>', 'purpos', 'meet', 'set', 'nation', 'coalit', 'leadership', 'prepar', 'geneva', '<NUM>', 'churkin', 'ad', 'russia', 'agre', 'take', 'part', 'meet', 'order', 'advanc', 'prepar', 'confer', 'geneva', 'inform', 'discuss', 'meet', 'call', 'great', 'britain', 'come', 'friday', '<DATE>', 'tuesday', '<DATE>', 'uk', 'perman', 'repres', 'un', 'lyall', 'grant', 'announc', 'secur', 'council', 'member', 'would', 'hold', 'inform', 'meet', 'deleg', 'nation', 'coalit', 'syrian', 'revolutionari', 'opposit', 'forc', 'led', 'new', 'presid', 'ahmad', 'jarba', 'said', 'one', 'purpos', 'meet', 'would', 'prepar', 'second', 'intern', 'confer', 'geneva', 'commonli', 'refer', 'geneva', '<NUM>', 'grant', 'also', 'express', 'hope', 'russia', 'particip', 'un', 'secur', 'council', 'meet', 'russian', 'foreign', 'ministri', 'said', 'earlier', 'howev', 'first', 'statement', 'syrian', 'nation', 'coalit', 'new', 'leader', 'show', 'sign', 'commit', 'polit', 'settlement', 'countri', 'nevertheless', 'moscow', 'readi', 'establish', 'contact', 'new', 'leadership', 'coalit', 'interest', 'facilit', 'end', 'devast', 'conflict', 'syria', 'suffer', 'friendli', 'syrian', 'peopl', 'broad', 'inter', 'syrian', 'dialogu', 'full', 'respect', 'nation', 'sovereignti', 'uniti', 'territori', 'integr', 'syria', 'without', 'foreign', 'interfer', 'russian', 'foreign', 'ministri', 'spokesman', 'alexand', 'lukashevich', 'said', 'point', 'opinion', 'far', 'know', 'share', 'american', 'partner', 'prioriti', 'task', 'facilit', 'peac', 'polit', 'settlement', 'syria', 'consolid', 'differ', 'group', 'syrian', 'opposit', 'basi', 'geneva', 'communiqu', '<DATE>', 'spokesperson', 'said', 'respect', 'new', 'leadership', 'nation', 'coalit', 'expect', 'state', 'clearli', 'unambigu', 'readi', 'send', 'repres', 'peac', 'confer', 'geneva', 'order', 'join', 'influenti', 'opposit', 'group', 'negoti', 'syrian', 'govern', 'without', 'precondit', 'start', 'joint', 'search', 'concret', 'paramet', 'polit', 'settlement', 'syria', 'accord', 'geneva', 'commun', 'lukashevich', 'said', 'moscow', 'expect', 'syrian', 'opposit', 'agre', 'attend', 'intern', 'confer', 'syria', 'without', 'precondit', 'russian', 'presid', 'special', 'repres', 'middl', 'east', 'deputi', 'foreign', 'minist', 'mikhail', 'bogdanov', 'said', 'talk', 'moscow', '<DATE>', 'russian', 'foreign', 'minist', 'sergei', 'lavrov', 'us', 'secretari', 'state', 'john', 'kerri', 'agre', 'hold', 'intern', 'confer', 'basi', 'geneva', 'communiqu', '<DATE>', 'order', 'tri', 'overcom', 'crisi', 'syria', 'lavrov', 'kerri', 'said', 'countri', 'would', 'encourag', 'syrian', 'govern', 'opposit', 'group', 'look', 'polit', 'solut', 'howev', 'syrian', 'opposit', 'far', 'confirm', 'particip', 'confer', 'remain', 'main', 'obstacl', 'hold']",
         "fake"
        ],
        [
         "687638",
         "['depart', 'defens', 'identifi', '<NUM>', 'american', 'servic', 'member', 'die', 'sinc', 'start', 'iraq', 'war', '<NUM>', 'die', 'part', 'afghan', 'war', 'relat', 'oper', 'confirm', 'death', 'follow', 'american', 'thursday', 'friday', 'afghanistan', 'hager', 'roger', 'g', '<NUM>', 'lanc', 'cpl', 'marin', 'gibsonvil', 'n', 'c', 'second', 'marin', 'expeditionari', 'forc', 'hay', 'john', 'e', '<NUM>', 'master', 'sgt', 'marin', 'middleburg', 'fla', 'second', 'marin', 'expeditionari', 'forc', 'missman', 'gregori', 'j', '<NUM>', 'specialist', 'armi', 'batavia', 'ohio', 'fourth', 'infantri', 'divis', 'iraq', 'bregg', 'luca', '<NUM>', 'pvt', 'armi', 'wright', 'citi', 'mo', 'first', 'cavalri', 'divis']",
         "reliable"
        ],
        [
         "789310",
         "['point', 'known', 'ask', 'arnold', 'scaasi', 'busi', 'get', 'readi', 'fit', 'laura', 'bush', 'week', 'call', 'peopl', 'ask', 'want', 'never', 'mind', 'punch', 'judi', 'show', 'graci', 'mansion', 'summer', 'madonna', 'marionett', 'everyon', 'seem', 'puppet', 'everyon', 'els', 'harpist', 'would', 'adept', 'pull', 'string', 'susan', 'blond', 'music', 'industri', 'publicist', 'said', 'everi', 'intern', 'offic', 'includ', 'lacey', 'tisch', 'granddaught', 'laurenc', 'tisch', 'got', 'internship', 'connect', 'found', 'way', 'get', 'ticket', 'one', 'madonna', 'five', 'new', 'york', 'perform', 'without', 'wait', 'hour', 'phone', 'seat', 'first', 'went', 'sale', 'public', 'may', 'immedi', 'sold', 'guy', 'met', 'beach', 'pull', 'mani', 'string', 'madonna', 'brother', 'madonna', 'stylist', 'end', 'seat', 'open', 'close', 'night', 'assist', 'famou', 'design', 'call', 'behalf', 'boss', 'four', 'ticket', 'instead', 'two', 'land', 'pair', 'english', 'nanni', 'screenwrit', 'distraught', 'hear', 'ticket', 'broke', 'cri', 'boss', 'call', 'ron', 'delsen', 'famou', 'concert', 'promot', 'expans', 'mood', 'got', 'seat', 'springsteen', 'stone', 'concert', 'alway', 'get', 'call', 'mr', 'delsen', 'told', 'usual', 'return', 'concert', 'late', 'ask', 'peopl', 'call', 'embarrass', 'tell', 'bad', 'seat', 'give', 'away', 'request', 'constant', 'awhil', 'wife', 'put', 'record', 'answer', 'machin', 'east', 'hampton', 'advis', 'peopl', 'rude', 'enough', 'phone', 'hous', 'busi', 'call', 'ticket', 'home', 'madison', 'squar', 'garden', 'festiv', 'sold', 'mess', 'wednesday', 'night', 'hot', 'ticket', 'hand', 'made', 'way', 'grate', 'friend', 'throng', 'toward', 'first', 'section', 'floor', 'show', 'start', 'walk', 'past', 'mr', 'delsen', 'linda', 'well', 'editor', 'chief', 'allur', 'madonna', 'ashtanga', 'yoga', 'teacher', 'new', 'york', 'found', 'place', 'could', 'see', 'everyth', 'seat', 'even', 'worn', 'look', 'madonna', 'face', 'hand', 'made', 'carri', 'fli', 'wire', 'play', 'cowgirl', 'mechan', 'bull', 'shoot', 'fog', 'hose', 'leg', 'seem', 'somewhat', 'poignant', 'newslett', 'sign', 'continu', 'read', 'main', 'stori', 'pleas', 'verifi', 'robot', 'click', 'box', 'invalid', 'email', 'address', 'pleas', 'enter', 'must', 'select', 'newslett', 'subscrib', 'sign', 'agre', 'receiv', 'occasion', 'updat', 'special', 'offer', 'new', 'york', 'time', 'product', 'servic', 'thank', 'subscrib', 'error', 'occur', 'pleas', 'tri', 'later', 'view', 'new', 'york', 'time', 'newslett', 'love', 'concert', 'love', 'seat', 'least', 'got', 'bore', 'start', 'look', 'around', 'celebr', 'among', 'us', 'well', 'kelli', 'klein', 'coupl', 'row', 'back', 'count', 'behind', 'jimmi', 'fallon', 'saturday', 'night', 'live', 'beyond', 'recogn', 'soul', 'thousand', 'v', 'p', 'front', 'friend', 'show', 'dancer', 'friend', 'guy', 'light', 'video', 'employe', 'rosi', 'donnel', 'show', 'without', 'boss', 'first', 'row', 'seat', 'victor', 'pablo', 'alfaro', 'design', 'brother', 'friend', 'star', 'bold', 'face', 'beauti', 'truth', 'dare', 'documentari', 'madonna', '<DATE>', 'blond', 'ambit', 'tour', 'scene', 'rail', 'one', 'point', 'bore', 'look', 'industri', 'peopl', 'pack', 'front', 'row', 'concert', 'mayb', 'make', 'sure', 'face', 'would', 'see', 'look', 'open', 'night', 'garden', 'ador', 'fan', 'friend', 'entitl', 'celebr', 'suit', 'trade', 'fame', 'love', 'madonna', 'sing', 'well', 'good', 'jerri', 'seinfeld', 'side', 'turn', 'inferior', 'seat', 'famou', 'string', 'puller', 'paid', 'like', 'everyon', 'els', 'sinc', 'madonna', 'decre', 'nobodi', 'would', 'get', 'freebi', 'chri', 'rock', 'david', 'bowi', 'ron', 'perelman', 'barri', 'diller', 'dian', 'von', 'furstenberg', 'joe', 'jackson', 'beck', 'advertis', 'continu', 'read', 'main', 'stori', 'better', 'seat', 'better', 'live', 'told', 'friend', 'jennif', 'kindergarten', 'teacher', 'grew', 'big', 'sur', 'calif', 'elat', 'feel', 'great', 'front', 'madonna', 'friend', 'famili', 'ask', 'frankli', 'prefer', 'sit', 'beck', 'k', 'felt', 'littl', 'embarrass', 'sour', 'mean', 'happi', 'peopl', 'flood', 'arena', 'around', 'us', 'wait', 'phone', 'hour', 'ticket', 'paid', 'hundr', 'hard', 'earn', 'dollar', 'broker', 'sit', 'back', 'dress', 'lace', 'cone', 'bra', 'lurex', 'show', 'respect', 'two', 'girl', 'cover', 'glitter', 'look', 'pleas', 'hard', 'pleas', 'madonna', 'idol', 'said', 'one', 'told', 'name', 'amanda', 'scarsdal', 'wait', 'night', '<NUM>', 'year', 'said', '<NUM>', 'heart', 'went', 'true', 'fan', 'tri', 'outfit', 'night', 'sure', 'could', 'danc', 'long', 'wait', 'phone', 'ticket', 'ask', 'dad', 'hook', 'said', 'know', 'lot', 'peopl', 'never', 'young', 'start', 'pull', 'string']",
         "reliable"
        ],
        [
         "655342",
         "['mani', 'idea', 'share', 'hundr', 'email', 'pari', 'citi', 'hall', 'well', 'interview', 'along', 'sein', 'stick', 'lock', 'theme', 'place', 'larg', 'instal', 'along', 'river', 'sell', 'panel', 'collector', 'gener', 'sentiment', 'seem', 'cannot', 'affix', 'lock', 'rail', 'overlook', 'sein', 'throw', 'away', 'key', 'express', 'feel', 'pari', 'spokesman', 'bruno', 'julliard', 'deputi', 'mayor', 'charg', 'cultur', 'eager', 'assur', 'love', 'pilgrim', 'would', 'altern', 'remov', 'love', 'lock', 'part', 'bigger', 'plan', 'give', 'peopl', 'new', 'way', 'express', 'love', 'said', 'look', 'suggest', 'lock', 'ad', 'spokesman', 'could', 'give', 'name', 'accord', 'citi', 'polici', 'probabl', 'mayor', 'make', 'statement', 'say', 'top', '<NUM>', 'idea', 'find', 'solut', 'end', 'year', 'emphas', 'citi', 'decis', 'antilov', 'polici', 'react', 'one', 'panel', 'fell', 'weight', 'lock', 'said', 'one', 'hurt', 'could', 'dramat', 'want', 'let', 'tourist', 'want', 'express', 'love', 'tourist', 'stroll', 'pont', 'de', 'art', 'week', 'paus', 'examin', 'panel', 'cover', 'street', 'art', 'temporarili', 'instal', 'bridg', 'place', 'grill', 'one', 'artist', 'brusk', 'cover', 'panel', 'melt', 'brightli', 'hu', 'lock', 'need', 'go', 'far', 'find', 'hardwar', 'still', 'sparkl', 'sunlight', 'includ', 'tini', 'pont', 'de', 'l', 'archevêché', 'link', 'île', 'de', 'la', 'cité', 'fifth', 'arrondiss', 'passerel', 'léopold', 'sédar', 'senghor', 'wide', 'pedestrian', 'bridg', 'lead', 'tuileri', 'garden', 'toward', 'musé', 'orsay', 'photo', 'even', 'sprinkl', 'lock', 'rail', 'picturesqu', 'arch', 'footbridg', 'canal', 'st', 'martin', 'less', 'touristi', '<NUM>', 'arrondiss', 'although', 'yet', 'none', 'surround', 'mini', 'industri', 'lock', 'seller', 'shout', 'luvlah', 'engrav', 'readi', 'evid', 'heart', 'citi', 'advertis', 'continu', 'read', 'main', 'stori', 'philosoph', 'novelist', 'pascal', 'bruckner', 'desir', 'demonstr', 'love', 'lock', 'key', 'metaphor', 'time', 'mani', 'chain', 'heart', 'bridg', 'risk', 'collaps', 'said', 'peopl', 'could', 'die', 'much', 'love', 'love', 'love', 'readi', 'kill', 'one', 'anoth', 'ad', 'email', 'later', 'think', 'lock', 'conclud', 'bridg', 'crumbl', 'weight', 'lock', 'metaphor', 'modern', 'love', 'overload', 'high', 'expect', 'expect', 'spous', 'perfect', 'perfect', 'father', 'mother', 'lover', 'worker', 'social', 'valor', 'also', 'explain', 'mani', 'coupl', 'divorc', 'want', 'accept', 'imperfect', 'valu', 'love', 'much', 'love', 'love', 'instead', 'person', 'newslett', 'sign', 'continu', 'read', 'main', 'stori', 'pleas', 'verifi', 'robot', 'click', 'box', 'invalid', 'email', 'address', 'pleas', 'enter', 'must', 'select', 'newslett', 'subscrib', 'sign', 'agre', 'receiv', 'occasion', 'updat', 'special', 'offer', 'new', 'york', 'time', 'product', 'servic', 'thank', 'subscrib', 'error', 'occur', 'pleas', 'tri', 'later', 'view', 'new', 'york', 'time', 'newslett', 'candac', 'hilldrup', 'psychoanalyst', 'work', 'marai', 'district', 'said', 'place', 'love', 'lock', 'magic', 'think', 'like', 'peopl', 'carv', 'initi', 'tree', 'said', 'tree', 'live', 'longer', 'project', 'futur', 'action', 'make', 'love', 'exist', 'forev', 'protect', 'relationship', 'time', 'ms', 'hilldrup', 'ad', 'wherea', 'carv', 'initi', 'belov', 'tree', 'rel', 'privat', 'act', 'smartphon', 'internet', 'global', 'modern', 'day', 'equival', 'peopl', 'might', 'feel', 'come', 'pari', 'perhap', 'play', 'fire', 'said', 'custom', 'various', 'attribut', 'serbian', 'love', 'stori', 'date', 'world', 'war', '<DATE>', 'novel', 'want', 'italian', 'author', 'federico', 'moccia', 'charact', 'invent', 'ritual', 'preval', 'citi', 'world', 'pari', 'doubtless', 'imag', 'citi', 'romanc', 'seem', 'popular', 'pont', 'de', 'art', 'said', 'andrew', 'hussey', 'author', 'pari', 'secret', 'histori', 'alway', 'star', 'cross', 'lover', 'cite', 'mediev', 'cleric', 'héloïs', 'abélard', 'well', 'jane', 'birkin', 'serg', 'gainsbourg', 'british', 'actress', 'french', 'singer', 'songwrit', 'whose', '<DATE>', 'duo', 'je', 'aim', 'moi', 'non', 'plu', 'caus', 'sensat', 'lover', 'long', 'leav', 'lock', 'display', 'accord', 'citi', 'everi', 'lock', 'destin', 'remov', 'rumor', 'circul', 'melt', 'sold', 'scrap', 'metal', 'citi', 'hall', 'spokesman', 'said', 'moment', 'suggest', 'consid', 'advertis', 'continu', 'read', 'main', 'stori', 'includ', 'three', 'mile', 'hollow', 'glass', 'wall', 'along', 'bank', 'sein', 'fill', 'discard', 'lock', 'peopl', 'could', 'add', 'new', 'one', 'iron', 'tree', 'tower', 'hang', 'lock', 'like', 'alreadi', 'exist', 'moscow', 'seoul', 'south', 'korea', 'parisian', 'said', 'eric', 'carlson', 'architect', 'pari', 'could', 'giant', 'instal', 'pedestrian', 'lower', 'highway', 'next', 'river', 'suggest', 'ariela', 'katz', 'pari', 'base', 'architectur', 'professor', 'tom', 'mile', 'british', 'tourist', 'take', 'selfi', 'girlfriend', 'love', 'lock', 'littl', 'squar', 'around', 'statu', 'henri', 'iv', 'pont', 'neuf', 'said', 'melt', 'metal', 'make', 'giant', 'lock', 'symbol', 'everyon', 'love', 'strang', 'contrast', 'sentiment', 'constraint', 'symbol', 'lock', 'said', 'franck', 'rezzak', 'parisian', 'artist', 'live', 'near', 'canal', 'st', 'martin', 'note', 'alarm', 'recent', 'appear', 'lock', 'peopl', 'still', 'think', 'love', 'kind', 'contract', 'vocabulari', 'faith', 'betray', 'possess', 'said', 'probabl', 'melt', 'symbol', 'contract', 'part', 'capitalist', 'cycl', 'lock', 'becom', 'someth', 'els', 'sort', 'perfect']",
         "reliable"
        ],
        [
         "362470",
         "['one', 'mani', 'turkey', 'sandwich', 'christma', 'polish', 'mani', 'qualiti', 'street', 'tin', 'kickstart', '<DATE>', 'healthi', 'cleans', 'detox', 'health', 'fit', 'travel', 'put', 'togeth', 'best', 'detox', 'retreat', 'around', 'world', 'reduc', 'stress', 'enhanc', 'well', 'help', 'lose', 'weight', 'advertis', 'ti', 'sana', 'liver', 'detox', 'itali', 'combin', 'organ', 'vegan', 'nutrit', 'healthi', 'probiot', 'detoxifi', 'spa', 'therapi', 'signatur', 'programm', 'aim', 'improv', 'health', 'vital', 'put', 'daili', 'strain', 'liver', 'diet', 'rich', 'satur', 'fat', 'sugar', 'alcohol', 'health', 'fit', 'ti', 'sana', 'itali', 'follow', 'recommend', 'initi', '<NUM>', '<NUM>', 'consult', 'choos', 'one', 'three', 'pathway', 'slim', 'relax', 'energis', 'recov', 'safe', 'hand', 'italian', 'hospit', 'learn', 'healthi', 'vegetarian', 'approach', 'raw', 'cook', 'nutrit', 'educ', 'cook', 'session', 'health', 'fit', 'travel', '<NUM>', '<NUM>', '<NUM>', '<URL>', 'offer', '<NUM>', 'night', 'ti', 'sana', '<CUR>', '<NUM>', 'pp', '<CUR>', '<NUM>', 'singl', 'occup', 'price', 'includ', 'full', 'board', 'detox', 'programm', 'return', 'flight', 'transfer', 'advertis', 'ayurveda', 'pura', 'luxuri', 'neem', 'cream', '<CUR>', '<NUM>', '<URL>', 'mega', 'moisturis', 'face', 'cream', 'use', 'oil', 'indian', 'neem', 'fruit', 'fight', 'blemish', 'keep', 'skin', 'suppl', 'badger', 'yoga', 'medit', 'balm', '<CUR>', '<NUM>', '<URL>', 'gentli', 'massag', 'templ', 'stress', 'level', 'start', 'soar', 'organ', 'oil', 'restor', 'inner', 'peac', 'concentr', 'uhma', 'nagri', 'yoga', 'bodi', 'massag', 'oil', '<CUR>', '<NUM>', '<URL>', 'indian', 'yogi', 'use', 'oil', 'superior', 'heal', 'properti', 'rich', 'vitamin', 'e', 'ylang', 'ylang', 'appli', 'wet', 'dri', 'skin', 'margaret', 'dabb', 'intens', 'hydrat', 'foot', 'lotion', '<CUR>', '<NUM>', '<URL>', 'keep', 'feet', 'good', 'condit', 'yoga', 'class', 'anti', 'bacteri', 'lotion', 'non', 'greasi', 'contain', 'long', 'last', 'moisturis', 'aveda', 'chakra', 'balanc', 'bodi', 'mist', '<CUR>', '<NUM>', '<URL>', 'harmonis', 'mind', 'aromat', 'bodi', 'mist', 'design', 'cleans', 'bodi', 'energi', 'centr', 'essenc', 'olibanum', 'organ', 'patchouli', 'vetiv', 'opi', 'yoga', 'ta', 'get', 'blue', 'nail', 'lacquer', '<CUR>', '<NUM>', '<URL>', 'inspir', 'energet', 'colour', 'india', 'bold', 'blue', 'give', 'glossi', 'finish', 'perfect', 'barefoot', 'yoga', 'opi', 'yoga', 'ta', 'get', 'blue', 'nail', 'lacquer', '<CUR>', '<NUM>', '<URL>', 'inspir', 'energet', 'colour', 'india', 'bold', 'blue', 'give', 'glossi', 'finish', 'perfect', 'barefoot', 'yoga', 'ananda', 'detox', 'india', 'give', 'boost', 'well', 'detox', 'retreat', 'himalaya', 'learn', 'make', 'healthi', 'chang', 'easi', 'transfer', 'everyday', 'lifestyl', 'personalis', 'detox', 'holiday', 'includ', 'stimul', 'purifi', 'ayurved', 'therapi', 'yoga', 'medit', 'dosha', 'specif', 'ayurved', 'diet', 'help', 'detox', 'reduc', 'stress', 'improv', 'health', 'cleans', 'diet', 'help', 'clean', 'bodi', 'toxin', 'day', 'digest', 'feel', 'lighter', 'increas', 'energi', 'level', 'improv', 'mental', 'attent', 'ongo', 'progress', 'check', 'doctor', 'spa', 'consult', 'tailor', 'detox', 'bodi', 'need', 'throughout', 'healthi', 'detox', 'break', 'health', 'fit', 'travel', '<NUM>', '<NUM>', '<NUM>', '<URL>', 'offer', '<NUM>', 'night', 'ananda', '<CUR>', '<NUM>', 'pp', '<CUR>', '<NUM>', 'singl', 'occup', 'price', 'includ', 'full', 'board', 'detox', 'programm', 'return', 'flight', 'transfer', 'health', 'fit', 'ananda', 'detox', 'india', 'phucket', 'cleans', 'detox', 'thailand', 'escap', 'thailand', 'cleans', 'detox', 'combin', 'fit', 'activ', 'encourag', 'bodi', 'sweat', 'toxin', 'supplement', 'detoxifi', 'raw', 'vegan', 'diet', 'cleans', 'juic', 'smoothi', 'elimin', 'toxin', 'twice', 'daili', 'clay', 'detox', 'drink', 'enhanc', 'cleans', 'process', 'daili', 'workout', 'includ', 'beach', 'bootcamp', 'hike', 'privat', 'yoga', 'togeth', 'post', 'workout', 'raw', 'vegan', 'protein', 'shake', 'repair', 'muscl', 'learn', 'prepar', 'delici', 'raw', 'food', 'cook', 'class', 'rejuven', 'luxuri', 'spa', 'treatment', 'includ', 'full', 'bodi', 'massag', 'health', 'fit', 'travel', '<NUM>', '<NUM>', '<NUM>', '<URL>', 'offer', '<NUM>', 'night', 'phuket', 'cleans', '<CUR>', '<NUM>', 'pp', '<CUR>', '<NUM>', 'singl', 'occup', 'price', 'includ', 'full', 'board', 'detox', 'fit', 'programm', 'return', 'flight', 'transfer', 'health', 'fit', 'phucket', 'cleans', 'detox', 'sianji', 'master', 'detox', 'turkey', 'revitalis', 'system', 'whilst', 'overlook', 'aegean', 'sea', 'master', 'detox', 'retreat', 'turkey', 'begin', 'cleans', 'process', 'full', 'bodi', 'analysi', 'consult', 'detox', 'specialist', 'enjoy', 'nourish', 'effect', 'detoxifi', 'juic', 'soup', 'food', 'option', 'purg', 'bodi', 'excess', 'toxin', 'thalasso', 'treatment', 'daili', 'angel', 'water', 'colon', 'cleans', 'treatment', 'complement', 'replenish', 'process', 'group', 'class', 'tai', 'chi', 'combat', 'fit', 'learn', 'maintain', 'healthier', 'lifestyl', 'healthi', 'live', 'seminar', 'enhanc', 'knowledg', 'health', 'fit', 'travel', '<NUM>', '<NUM>', '<NUM>', '<URL>', 'offer', '<NUM>', 'night', 'sianji', '<CUR>', '<NUM>', 'pp', '<CUR>', '<NUM>', 'singl', 'occup', 'price', 'includ', 'full', 'board', 'detox', 'programm', 'return', 'flight', 'transfer', 'health', 'fit', 'sianji', 'retreat', 'turkey', 'farm', 'detox', 'cleans', 'phillippin', 'revitalis', 'mind', 'bodi', 'healthi', 'detox', 'cleans', 'farm', 'set', 'amongst', 'coconut', 'plantat', 'seren', 'waterfal', 'philippin', 'specialis', 'raw', 'vegan', 'cuisin', 'restor', 'balanc', 'life', 'personalis', 'nutrient', 'rich', 'detox', 'diet', 'elimin', 'feel', 'lethargi', 'provid', 'revitalis', 'boost', 'well', 'sweat', 'toxin', 'person', 'train', 'session', 'daili', 'well', 'activ', 'cleans', 'system', 'colon', 'hydrotherapi', 'session', 'choic', 'natur', 'holist', 'spa', 'therapi', 'receiv', 'expert', 'health', 'advic', 'daili', 'consult', 'medic', 'doctor', 'prepar', 'return', 'home', 'renew', 'readi', 'pursu', 'healthier', 'lifestyl', 'health', 'fit', 'travel', '<NUM>', '<NUM>', '<NUM>', '<URL>', 'offer', '<NUM>', 'night', 'farm', '<CUR>', '<NUM>', 'pp', '<CUR>', '<NUM>', 'singl', 'occup', 'price', 'includ', 'full', 'board', 'detox', 'programm', 'return', 'flight', 'transfer', 'health', 'fit', 'farm', 'detox', 'phillippin', 'como', 'shambhala', 'detox', 'bali', 'purifi', 'system', 'personalis', 'detox', 'holiday', 'set', 'amongst', 'lush', 'jungl', 'canopi', 'bali', 'perfect', 'place', 'cleans', 'mind', 'bodi', 'spirit', 'escap', 'pollut', 'environ', 'unhealthi', 'diet', 'citi', 'life', 'contribut', 'accumul', 'toxin', 'follow', 'premis', 'lymphat', 'system', 'liver', 'bowel', 'kidney', 'skin', 'must', 'work', 'optim', 'effect', 'natur', 'detoxif', 'well', 'consult', 'prescrib', 'programm', 'nutrient', 'rich', 'meal', 'regular', 'exercis', 'cleans', 'spa', 'treatment', 'keep', 'activ', 'connect', 'natur', 'daili', 'estat', 'walk', 'focu', 'bodi', 'awar', 'group', 'yoga', 'pilat', 'class', 'enhanc', 'well', 'health', 'fit', 'travel', '<NUM>', '<NUM>', '<NUM>', '<URL>', 'offer', '<NUM>', 'night', 'como', 'shambhala', '<CUR>', '<NUM>', 'pp', '<CUR>', '<NUM>', 'singl', 'occup', 'price', 'includ', 'full', 'board', 'detox', 'programm', 'return', 'flight', 'transfer', 'health', 'fit', 'como', 'shambhala', 'detox', 'bali', 'sha', 'detox', 'spain', 'world', 'first', 'macrobiot', 'well', 'resort', 'sha', 'well', 'clinic', 'spain', 'purifi', 'bodi', 'tailor', 'detox', 'programm', 'macrobiot', 'detox', 'specif', 'food', 'juic', 'fast', 'consult', 'doctor', 'nutritionist', 'ascertain', 'specif', 'need', 'combin', 'tailor', 'made', 'nutrit', 'plan', 'cleans', 'spa', 'treatment', 'includ', 'acupunctur', 'lymphat', 'drainag', 'revitalis', 'sens', 'well', 'learn', 'maintain', 'new', 'healthi', 'habit', 'educ', 'well', 'lectur', 'receiv', 'post', 'stay', 'support', 'return', 'home', 'person', 'post', 'treatment', 'health', 'plan', 'follow', 'email', 'consult', 'two', 'month', 'health', 'fit', 'travel', '<NUM>', '<NUM>', '<NUM>', '<URL>', 'offer', '<NUM>', 'night', 'sha', '<CUR>', '<NUM>', 'pp', '<CUR>', '<NUM>', 'singl', 'occup', 'price', 'includ', 'full', 'board', 'detox', 'programm', 'return', 'flight', 'transfer', 'health', 'fit', 'sha', 'detox', 'spain', 'swaswara', 'detox', 'india', 'unwind', 'recuper', 'strain', 'daili', 'life', 'seclud', 'detox', 'holiday', 'set', 'amongst', 'india', 'unspoilt', 'countrysid', 'short', 'walk', 'spiritu', 'om', 'beach', 'kick', 'start', 'detox', 'process', 'cleans', 'juic', 'diet', 'discov', 'benefit', 'day', 'antar', 'mauna', 'inner', 'silenc', 'reflect', 'goal', 'enhanc', 'relax', 'daili', 'ayurveda', 'heal', 'treatment', 'music', 'medit', 'guidanc', 'yogic', 'cleans', 'method', 'clear', 'mind', 'explor', 'surround', 'scenic', 'boat', 'cruis', 'take', 'part', 'daili', 'group', 'well', 'activ', 'rang', 'healthi', 'cookeri', 'session', 'art', 'class', 'guid', 'natur', 'walk', 'health', 'fit', 'travel', '<NUM>', '<NUM>', '<NUM>', '<URL>', 'offer', '<NUM>', 'night', 'swaswara', '<CUR>', '<NUM>', 'pp', '<CUR>', '<NUM>', 'singl', 'occup', 'price', 'includ', 'full', 'board', 'detox', 'programm', 'return', 'flight', 'transfer', 'health', 'fit', 'swaswara', 'detox', 'india', 'grand', 'park', 'detox', 'austria', 'set', 'stun', 'gastein', 'valley', 'austria', 'immers', 'tranquil', 'natur', 'beauti', 'cleans', 'detox', 'break', 'energis', 'bodi', 'healthi', 'calori', 'control', 'meal', 'allow', 'bodi', 'use', 'energi', 'regener', 'cleans', 'elimin', 'toxin', 'caus', 'stress', 'luxuri', 'spa', 'treatment', 'make', 'complimentari', 'group', 'class', 'enhanc', 'well', 'activ', 'rang', 'yoga', 'nordic', 'walk', 'assess', 'progress', 'medic', 'consult', 'begin', 'end', 'stay', 'profession', 'insight', 'detox', 'retreat', 'improv', 'overal', 'well', 'health', 'fit', 'travel', '<NUM>', '<NUM>', '<NUM>', '<URL>', 'offer', '<NUM>', 'night', 'grand', 'park', '<CUR>', '<NUM>', 'pp', '<CUR>', '<NUM>', 'singl', 'occup', 'price', 'includ', 'full', 'board', 'detox', 'programm', 'return', 'flight', 'transfer', 'health', 'fit', 'grand', 'park', 'detox', 'austria', 'kamalaya', 'introduct', 'detox', 'thailand', 'cleans', 'bodi', 'toxin', 'award', 'win', 'spa', 'thailand', 'set', 'upon', 'pristin', 'island', 'beach', 'koh', 'samui', 'ideal', 'new', 'detoxif', 'begin', 'understand', 'bodi', 'detox', 'need', 'privat', 'consult', 'bodi', 'analysi', 'promis', 'increas', 'energi', 'vital', 'improv', 'health', 'well', 'three', 'healthi', 'detox', 'meal', 'day', 'combin', 'cleans', 'spa', 'therapi', 'lymphat', 'drainag', 'therapi', 'tradit', 'asian', 'foot', 'massag', 'complement', 'stay', 'holist', 'activ', 'includ', 'yoga', 'medit', 'experi', 'improv', 'health', 'level', 'cleans', 'bodi', 'mind', 'spirit', 'health', 'fit', 'travel', '<NUM>', '<NUM>', '<NUM>', '<URL>', 'offer', '<NUM>', 'night', 'kamalaya', '<CUR>', '<NUM>', 'pp', '<CUR>', '<NUM>', 'singl', 'occup', 'price', 'includ', 'full', 'board', 'detox', 'programm', 'return', 'flight', 'transfer']",
         "fake"
        ],
        [
         "806744",
         "['patriot', 'post', '®', 'afghanistan', 'pivot', 'toward', 'russia', 'afghani', 'govern', 'gave', 'kremlin', 'perfect', 'opportun', 'block', 'u', 'middl', 'east', 'govern', 'struggl', 'resurg', 'taliban', 'rise', 'islam', 'state', 'ask', 'russia', 'militari', 'assist', 'rang', 'small', 'arm', 'attack', 'helicopt', 'wall', 'street', 'journal', 'note', 'afghanistan', 'histori', 'great', 'bear', '<DATE>', 'last', 'red', 'armi', 'left', 'countri', 'defeat', 'also', 'caus', 'communist', 'govern', 'afghanistan', 'collaps', 'recent', 'afghanistan', 'accus', 'russia', 'fund', 'warlord', 'countri', 'north', 'instead', 'deal', 'countri', 'govern', 'russia', 'made', 'clear', 'afghanistan', 'unit', 'state', 'problem', 'russian', 'ambassador', 'afghanistan', 'alexand', 'mantytskiy', 'said', 'provid', 'assist', 'mean', 'soldier', 'russian', 'feder', 'afghan', 'soil', 'carri', 'burden', 'problem', 'solv', 'american', 'nato', 'countri', 'like', 'iraq', 'turn', 'coalit', 'form', 'russia', 'syrian', 'govern', 'afghanistan', 'turn', 'russia', 'found', 'obama', 'administr', 'unhelp', 'matter', 'nation', 'secur', 'obama', 'boast', '<DATE>', 'al', 'qaida', 'run', 'legaci', 'howev', 'hand', 'influenc', 'middl', 'east', 'russia']",
         "fake"
        ],
        [
         "646130",
         "['watch', 'final', 'french', 'presidenti', 'debat', 'last', 'thursday', 'night', 'fascin', 'even', 'measur', 'admir', 'franc', 'intellig', 'well', 'educ', 'politician', 'fine', 'get', 'offic', 'must', 'begin', 'pleas', 'franc', 'fractiou', 'voter', 'must', 'deal', 'rise', 'tide', 'jihadist', 'violenc', 'franc', 'wit', 'shoot', 'polic', 'offic', 'champ', 'elysé', 'thursday', 'could', 'help', 'far', 'right', 'candid', 'marin', 'le', 'pen', 'one', 'remind', 'charl', 'de', 'gaull', 'ask', 'anyon', 'could', 'run', 'nation', '<NUM>', 'differ', 'varieti', 'chees', 'franc', 'outgo', 'presid', 'poor', 'francoi', 'holland', 'could', 'even', 'deal', 'singl', 'camembert', 'leav', 'offic', 'less', '<NUM>', 'approv', 'rate', 'eleven', 'aspir', 'presidenti', 'race', 'though', 'four', 'consid', 'seriou', 'candid', 'former', 'prime', 'minist', 'francoi', 'fillon', 'newcom', 'emanuel', 'macron', 'firebrand', 'leftist', 'jean', 'luc', 'mélenchon', 'far', 'right', 'nation', 'front', 'leader', 'marin', 'le', 'pen', 'advertis', 'gold', 'silver', 'coin', 'best', 'way', 'invest', 'contrast', 'rough', 'hewn', 'lasal', 'lead', 'candid', 'emmanuel', 'macron', 'macron', 'realli', 'remain', 'puzzl', 'came', 'academ', 'background', 'work', 'mighti', 'rothschild', 'bank', 'empir', 'econom', 'advisor', 'minist', 'presid', 'holland', '<NUM>', 'year', 'old', 'macron', 'blandli', 'attract', 'youth', 'far', 'untaint', 'scandal', 'except', 'odditi', 'marri', 'former', 'schoolteach', 'two', 'decad', 'senior', 'macron', 'claim', 'middl', 'way', 'old', 'antagonist', 'left', 'right', 'call', 'gentl', 'reform', 'revit', 'european', 'union', 'women', 'like', 'stand', 'unclear', 'deep', 'link', 'rothschild', 'make', 'mani', 'uncomfort', 'other', 'smooth', 'full', 'bromid', 'still', 'poll', 'say', 'macron', 'win', 'sunday', 'vote', 'second', 'round', '<NUM>', 'may', 'former', 'prime', 'minist', 'francoi', 'fillon', 'front', 'runner', 'sever', 'damag', 'accus', 'line', 'pocket', 'govern', 'money', 'put', 'wife', 'penelop', 'children', 'govern', 'payrol', 'sad', 'inde', 'see', 'straight', 'arrow', 'conserv', 'candid', 'undon', 'look', 'like', 'sleaz', 'fillon', 'would', 'made', 'capabl', 'prime', 'minist', 'marin', 'le', 'pen', 'charmer', 'sure', 'rough', 'tough', 'often', 'nasti', 'want', 'muslim', 'franc', 'pullout', 'eu', 'nato', 'return', 'old', 'french', 'franc', 'like', 'presid', 'trump', 'popular', 'work', 'class', 'high', 'unemploy', 'low', 'educ', 'area', 'le', 'pen', 'becom', 'champion', 'downcast', 'french', 'suffer', 'call', 'la', 'morosité', 'moros', 'final', 'last', 'lead', 'candid', 'jean', 'luc', 'mélenchon', 'old', 'time', 'leftist', 'full', 'loopi', 'marxist', 'scheme', 'actual', 'reduc', 'franc', 'alreadi', 'short', 'work', 'week', 'reduc', 'retir', 'age', 'tax', 'pant', 'peopl', 'make', '<NUM>', 'euro', 'year', 'mélenchon', 'want', 'nato', 'revis', 'relat', 'eu', 'reject', 'order', 'around', 'unit', 'state', 'want', 'ditch', 'euro', 'mélenchon', 'may', 'old', 'style', 'firebrand', 'popular', 'youth', 'cours', 'left', 'complet', 'upstag', 'lacklust', 'socialist', 'candid', 'benoit', 'hamon', 'soar', 'poll', 'french', 'like', 'mélenchon', 'wit', 'sens', 'humor', 'sharp', 'debat', 'skill', 'appear', 'authent', 'platitud', 'free', 'burst', 'french', 'call', 'élan', 'mélenchon', 'alway', 'fun', 'watch', 'poll', 'say', 'marin', 'le', 'pen', 'macron', 'win', 'weekend', 'first', 'round', 'macron', 'favor', 'crush', 'le', 'pen', '<NUM>', 'may', 'vote', 'franc', 'dither', 'possibl', 'win', 'mélenchon', 'sunday', 'would', 'leav', 'face', 'le', 'pen', 'far', 'right', 'versu', 'far', 'left', 'interest', 'bien', 'sûre', 'prospect', 'give', 'franc', 'stock', 'market', 'bank', 'investor', 'big', 'scare', 'either', 'win', '<NUM>', 'may', 'franc', 'might', 'quit', 'euro', 'european', 'union', 'much', 'graver', 'event', 'britain', 'brexit', 'fate', 'eu', 'hang', 'balanc', 'banker', 'pray', 'silki', 'smooth', 'monsieur', 'macron', 'save', 'veng', 'heir', 'karl', 'marx', 'marshal', 'pétain', 'best', 'eric', 'margoli']",
         "fake"
        ],
        [
         "798667",
         "['billion', 'billion', 'season', '<NUM>', 'episod', '<NUM>', 'part', 'firmament', 'imag', 'left', 'tobi', 'leonard', 'moor', 'paul', 'giamatti', 'condola', 'rashad', 'billion', 'credit', 'jeff', 'neumann', 'showtim', 'season', '<NUM>', 'episod', '<NUM>', 'name', 'right', 'axelrod', 'hall', 'name', 'axelrod', 'hall', 'forev', 'even', 'bobbi', 'axelrod', 'understand', 'name', 'say', 'guy', 'richer', 'want', 'come', 'bobbi', 'wrong', 'name', 'stay', 'build', 'think', 'tomorrow', 'hedg', 'fund', 'hotshot', 'muscl', 'show', 'door', 'idl', 'heir', 'dwindl', 'fortun', 'good', 'old', 'fashion', 'hubri', 'undo', 'axelrod', 'hall', 'like', 'becom', 'next', 'enron', 'field', 'short', 'live', 'vaniti', 'plate', 'empir', 'built', 'get', 'rich', 'quick', 'chicaneri', 'name', 'right', 'enron', 'field', 'shift', 'terra', 'firma', 'establish', 'orang', 'juic', 'giant', 'minut', 'maid', 'two', 'short', 'year', 'bobbi', 'arrog', 'realiz', 'axe', 'capit', 'astound', 'gain', '<NUM>', 'percent', 'year', 'date', 'inevit', 'sink', 'quicksand', 'though', 'triumph', 'absolut', 'blast', 'wit', 'akin', 'scrappi', 'band', 'misfit', 'prank', 'rich', 'kid', 'across', 'lake', '<NUM>', 'summer', 'camp', 'comedi', 'first', 'see', 'pontif', 'hall', 'snooti', 'administr', 'blather', 'philanthrop', 'purpos', 'wealth', 'give', 'gettysburg', 'address', 'axelrod', 'sneer', 'later', 'delici', 'written', 'scene', 'bobbi', 'stroll', 'boardroom', 'metallica', 'shirt', 'pictur', 'bridg', 'tunnel', 'vulgar', 'proce', 'tell', 'hall', 'former', 'benefactor', 'get', '<CUR>', '<NUM>', 'million', 'less', 'forfeit', 'famili', 'name', 'previous', 'agre', 'upon', '<CUR>', '<NUM>', 'million', 'turn', 'get', 'name', 'right', 'perform', 'art', 'center', 'way', 'etch', 'axelrod', 'name', 'firmament', 'also', 'act', 'reveng', 'scene', 'like', 'thrive', 'bobbi', 'brash', 'intox', 'self', 'confid', 'name', 'right', 'slyli', 'undermin', 'impress', 'way', 'cannot', 'see', 'bobbi', 'assum', 'buy', 'legitimaci', 'price', 'right', 'axelrod', 'hall', 'certainli', 'proof', 'hyperaggress', 'alway', 'wisest', 'play', 'long', 'term', 'nobodi', 'go', 'tell', 'spend', '<CUR>', '<NUM>', 'million', 'seasid', 'properti', 'fallout', 'feder', 'investig', 'affair', 'loss', 'busi', 'skittish', 'pension', 'fund', 'investor', 'will', 'sacrific', 'big', 'gain', 'stabil', 'bore', 'old', 'kenneth', 'vista', 'verd', '<NUM>', 'percent', 'year', 'protect', 'downsid', 'assur', 'bobbi', 'client', 'come', 'see', 'part', 'firmament', 'bobbi', 'want', 'becom', 'part', 'firmament', 'answer', 'chisel', 'name', 'onto', 'promin', 'manhattan', 'perform', 'hall', 'buy', 'elit', 'statu', 'bronx', 'rais', 'white', 'castl', 'eat', 'barbarian', 'would', 'forev', 'deni', 'undeni', 'rous', 'wit', 'appear', 'legitimaci', 'extend', 'axe', 'capit', 'unit', 'state', 'attorney', 'offic', 'secur', 'exchang', 'commiss', 'set', 'investig', 'firm', 'bobbi', 'stage', 'unschedul', 'fire', 'drill', 'team', 'complianc', 'offic', 'disrupt', 'meet', 'question', 'broker', 'suspici', 'trade', 'bobbi', 'employe', 'repli', 'mix', 'hostil', 'braggadocio', 'may', 'serv', 'well', 'day', 'day', 'dogfight', 'wall', 'street', 'look', 'good', 'real', 'complianc', 'offic', 'everi', 'shadi', 'deal', 'written', 'unsolicit', 'tip', 'cavali', 'attitud', 'prompt', 'bobbi', 'make', 'exampl', 'victor', 'top', 'broker', 'mere', 'unrepentantli', 'obnoxi', 'bunch', 'e', 'c', 'fake', 'prime', 'exampl', 'show', 'eas', 'mini', 'twist', 'know', 'realli', 'happen', 'bobbi', 'final', 'pull', 'back', 'curtain', 'also', 'neatli', 'establish', 'paranoia', 'creep', 'play', 'axe', 'capit', 'bobbi', 'let', 'wendi', 'know', 'raid', 'advanc', 'lead', 'mistak', 'fire', 'victor', 'impuls', 'publicli', 'psycholog', 'profil', 'would', 'flag', 'accord', 'wendi', 'make', 'plain', 'question', 'loyalti', 'trust', 'advis', 'meanwhil', 'nefari', 'fixer', 'hall', 'use', 'salaci', 'lesbian', 'cocain', 'parti', 'footag', 'coerc', 'one', 'chuck', 'underl', 'snoop', 'unit', 'state', 'attorney', 'offic', 'bobbi', 'may', 'make', 'smartest', 'choic', 'name', 'right', 'decis', 'leav', 'wendi', 'dark', 'immedi', 'consequ', 'show', 'state', 'mind', 'want', 'appear', 'aboveboard', 'work', 'cultur', 'larg', 'make', 'nastier', 'aggress', 'play', 'shadow', 'part', 'chuck', 'also', 'move', 'piec', 'around', 'three', 'dimension', 'chessboard', 'recogn', 'slam', 'dunk', 'case', 'steven', 'birch', 'bobbi', 'rival', 'ploy', 'divert', 'attent', 'resourc', 'away', 'case', 'axe', 'capit', 'follow', 'riderless', 'hors', 'say', 'chuck', 'excel', 'allus', 'butch', 'cassidi', 'sundanc', 'kid', 'also', 'struggl', 'moral', 'compon', 'job', 'mix', 'virtu', 'choos', 'prosecut', 'case', 'encount', 'singl', 'father', 'due', 'serv', 'four', 'year', 'mail', 'fraud', 'chuck', 'feel', 'duti', 'asham', 'choos', 'prosecut', 'even', 'though', 'man', 'guilti', 'sever', 'sentenc', 'unjust', 'wish', 'could', 'human', 'chuck', 'tell', 'wife', 'figur', 'job', 'time', 'sliver', 'vulner', 'shame', 'separ', 'bobbi', 'seem', 'capabl', 'grace', 'conflict', 'stand', 'snuff', 'bull', 'bear', 'billion', 'premier', 'record', 'number', 'showtim', 'given', 'toxic', 'last', 'week', 'comment', 'interest', 'see', 'billion', 'fare', 'long', 'haul', 'mani', 'comment', 'keep', 'convers', 'go', 'feel', 'accept', 'billion', 'twisti', 'pungent', 'wall', 'street', 'soap', 'opera', 'better', 'show', 'inner', 'bobbi', 'axelrod', 'mani', 'line', 'week', 'choic', 'though', 'fit', 'print', 'axe', 'capit', 'confer', 'room', 'meet', 'definit', 'rate', 'nc', '<NUM>', 'perhap', 'favorit', 'button', 'wendi', 'attempt', 'talk', 'victor', 'edg', 'tell', 'cautionari', 'tale', 'warren', 'former', 'axe', 'employe', 'made', 'mistak', 'talk', 'smack', 'bobbi', 'job', 'interview', 'know', 'warren', 'wendi', 'ask', 'got', 'blog', 'ouch', 'wendi', 'job', 'continu', 'vagu', 'ridicul', 'despit', 'writer', 'strenuou', 'effort', 'make', 'essenti', 'part', 'oper', 'mani', 'axe', 'trader', 'stream', 'offic', 'pump', 'sesh', 'everi', 'day', 'like', 'week', 'get', 'stealth', 'pump', 'sesh', 'way', 'reject', 'request', 'pump', 'sesh', 'love', 'idea', 'broker', 'bereft', 'new', 'idea', 'turn', 'appl', 'stock', 'tip', 'see', 'matrix', 'right', 'lesbian', 'cocain', 'subplot', 'pure', 'irredeem', 'pay', 'cabl', 'sleaz', 'though', 'fixer', 'make', 'formid', 'princ', 'dark', 'footag', 'may', 'turn', 'vanilla', 'man', 'get', 'would', 'disturb', 'deep', 'level', 'honey', 'best', 'serv', 'never', 'think', 'great', 'line', 'follow', 'spa', 'later', 'unnecessari', 'thing', 'better', 'left', 'imagin', 'sign', 'watch', 'newslett', 'get', 'recommend', 'best', 'tv', 'show', 'film', 'stream', 'watch', 'deliv', 'inbox', 'see', 'sampl', 'pleas', 'verifi', 'robot', 'click', 'box', 'invalid', 'email', 'address', 'pleas', 'enter', 'must', 'select', 'newslett', 'subscrib', 'requir', 'field', 'agre', 'receiv', 'occasion', 'updat', 'special', 'offer', 'new', 'york', 'time', 'product', 'servic', 'requir', 'field', 'thank', 'subscrib', 'view', 'new', 'york', 'time', 'newslett', 'error', 'occur', 'pleas', 'tri', 'later', 'alreadi', 'subscrib', 'email', 'view', 'new', 'york', 'time', 'newslett', 'sign']",
         "reliable"
        ],
        [
         "404332",
         "['melania', 'get', 'last', 'laugh', 'liber', 'design', 'refus', 'dress']",
         "fake"
        ],
        [
         "449001",
         "['earthquak', 'ms', 'livni', 'said', 'one', 'seri', 'interview', 'reason', 'palestinian', 'vote', 'hama', 'less', 'import', 'result', 'result', 'terrorist', 'organ', 'lead', 'palestinian', 'author', 'elect', 'laundri', 'terror', 'legitim', 'ms', 'livni', 'made', 'first', 'visit', 'foreign', 'minist', 'cairo', 'week', 'joint', 'news', 'confer', 'egyptian', 'foreign', 'minist', 'ahm', 'aboul', 'gheit', 'compar', 'hama', 'likud', 'right', 'wing', 'parti', 'left', 'along', 'ariel', 'sharon', 'form', 'kadima', 'quick', 'point', 'likud', 'parliamentari', 'parti', 'militari', 'wing', 'commit', 'democraci', 'support', 'govern', 'decis', 'parent', 'friend', 'menachem', 'begin', 'likud', 'first', 'prime', 'minist', 'took', 'tzipi', 'short', 'biblic', 'name', 'tziporah', 'visit', 'everi', 'saturday', 'grew', 'part', 'likud', 'royalti', 'child', 'known', 'fight', 'famili', 'seri', 'interview', 'quick', 'defend', 'likud', 'mentor', 'zeev', 'jabotinski', 'dream', 'jewish', 'state', 'equal', 'right', 'non', 'jewish', 'citizen', 'spoke', 'learn', 'child', 'five', 'new', 'state', 'translat', 'hous', 'food', 'cloth', 'educ', 'health', 'make', 'ms', 'livni', 'extraordinari', 'mani', 'made', 'alli', 'mr', 'sharon', 'fought', 'likud', 'final', 'broke', 'abil', 'honor', 'dream', 'shape', 'realiti', 'also', 'believ', 'like', 'parent', 'right', 'jewish', 'peopl', 'entir', 'land', 'israel', 'said', 'also', 'rais', 'valu', 'need', 'preserv', 'israel', 'homeland', 'jewish', 'peopl', 'democrat', 'valu', 'less', 'import', 'israel', 'democraci', 'must', 'jewish', 'major', 'choos', 'dream', 'need', 'live', 'democraci', 'prefer', 'give', 'land', 'live', 'sovereign', 'jewish', 'democrat', 'state', 'said', 'import', 'wise', 'commit', 'two', 'state', 'solut', 'predat', 'late', 'entri', 'polit', 'serv', 'armi', 'becom', 'lieuten', 'age', '<NUM>', 'began', 'work', 'mossad', 'intellig', 'servic', 'stay', 'four', 'year', 'discuss', 'duti', 'wonder', 'said', 'laugh', 'taught', 'skill', 'cannot', 'use', 'newslett', 'sign', 'continu', 'read', 'main', 'stori', 'pleas', 'verifi', 'robot', 'click', 'box', 'invalid', 'email', 'address', 'pleas', 'enter', 'must', 'select', 'newslett', 'subscrib', 'sign', 'agre', 'receiv', 'occasion', 'updat', 'special', 'offer', 'new', 'york', 'time', 'product', 'servic', 'thank', 'subscrib', 'error', 'occur', 'pleas', 'tri', 'later', 'view', 'new', 'york', 'time', 'newslett', 'mossad', 'suggest', 'shlomo', 'avineri', 'polit', 'scientist', 'hebrew', 'univers', 'brought', 'contact', 'world', 'alway', 'conform', 'ideolog', 'driven', 'childhood', 'allow', 'intellectu', 'journey', 'much', 'like', 'act', 'prime', 'minist', 'ehud', 'olmert', 'cosmopolitan', 'lawyer', 'son', 'anoth', 'likud', 'famili', 'advertis', 'continu', 'read', 'main', 'stori', 'mossad', 'mr', 'avineri', 'said', 'get', 'realiti', 'check', 'realiti', 'shock', 'parent', 'gener', 'ostrac', 'ideolog', 'likud', 'come', 'power', 'late', '<DATE>', 'children', 'like', 'ms', 'livni', 'becom', 'integr', 'journey', 'pariah', 'establish', 'mr', 'avineri', 'said', 'less', 'anger', 'bitter', 'respons', 'marri', 'naftali', 'shpitzer', 'work', 'real', 'estat', 'lawyer', 'first', 'ran', 'parliament', '<DATE>', 'eight', 'year', 'father', 'die', '<NUM>', 'despit', 'late', 'start', 'risen', 'fast', 'serv', 'five', 'ministri', 'earn', 'deep', 'trust', 'mr', 'sharon', 'made', 'justic', 'minist', 'allow', 'inner', 'circl', 'secur', 'cabinet', 'plan', 'carri', 'pain', 'pullout', 'gaza', 'last', 'summer', 'mr', 'sharon', 'stroke', 'shock', 'countri', 'also', 'kadima', 'ms', 'livni', 'rememb', 'go', 'cabinet', 'meet', 'next', 'day', 'hear', 'comment', 'radio', 'describ', 'kadima', 'parti', 'two', 'head', 'olmert', 'livni', 'understood', 'moment', 'one', 'head', 'would', 'cut', 'would', 'mine', 'said', 'laugh', 'better', 'volunt', 'said', 'grace', 'step', 'back', '<NUM>', 'kadima', 'candid', 'list', 'ensur', 'entri', 'proud', 'former', 'labor', 'parti', 'leader', 'shimon', 'pere', '<NUM>', 'stroke', 'understood', 'afford', 'fight', 'among', 'ms', 'livni', 'said', 'mr', 'sharon', 'enorm', 'support', 'among', 'isra', 'would', 'easili', 'elect', 'question', 'whether', 'isra', 'public', 'give', 'us', 'vote', 'futur', 'depend', 'us', 'feel', 'respons', 'enough', 'adult', 'enough', 'could', 'say', 'conclus', 'likud', 'ideolog', 'outdat', 'pain', 'issu', 'mother', 'time', 'want', 'watch', 'televis', 'say', 'two', 'state', 'two', 'peopl', 'ms', 'livni', 'said', 'told', 'listen', 'hear', 'hurt', 'understand', 'mayb', 'fought', 'establish', 'state', 'israel', 'duti', 'right', 'gener', 'come', 'choic', 'accept', 'stori', 'ms', 'livni', 'told', 'still', 'deliv', 'hesitantli', 'eye', 'becom', 'moist', 'teenag', 'son', 'omri', 'yuval', 'burden', 'may', 'less', 'connect', 'tradit', 'said', 'ambival', 'ad', 'son', 'quot', 'seinfeld', 'heart', 'parent', 'came', 'israel', '<DATE>', 'holocaust', 'say', 'still', 'part', 'live', 'israel', 'say', 'know', 'establish', 'ash', 'fear', 'someth', 'happen', 'look', 'children', 'think', 'grown', 'enough', 'surviv', 'world', 'said', 'think', 'us', 'neighborhood', 'bulli', 'think', 'term', 'surviv', 'exist', 'state', 'ms', 'livni', 'lawyerlik', 'kept', 'press', 'mr', 'sharon', 'fix', 'one', 'biggest', 'problem', 'saw', 'variou', 'plan', 'peac', 'palestinian', 'demand', 'return', 'refuge', 'fled', 'push', 'israel', '<DATE>', '<NUM>', 'war', 'would', 'destroy', 'chanc', 'final', 'settlement', 'contend', 'unless', 'refuge', 'issu', 'made', 'compon', 'foundat', 'palestinian', 'state', 'jewish', 'question', 'resolv', 'establish', 'israel', 'said', 'jew', 'includ', 'refuge', 'holocaust', 'could', 'find', 'home', 'similarli', 'said', 'palestinian', 'state', 'homeland', 'palestinian', 'refuge', 'advertis', 'continu', 'read', 'main', 'stori', 'say', 'finest', 'moment', 'far', 'day', 'presid', 'bush', 'announc', 'palestinian', 'rightof', 'return', 'limit', 'independ', 'palestinian', 'state', 'israel', '<DATE>', 'boundari', 'final', 'day', 'bush', 'said', 'day', 'felt', 'worth', 'get', 'polit', 'said']",
         "reliable"
        ],
        [
         "304557",
         "['britain', 'possibl', 'withdraw', 'eu', 'may', 'strengthen', 'posit', 'eu', 'member', 'support', 'abolit', 'anti', 'russian', 'sanction', 'accord', 'bertelsmann', 'foundat', 'expert', 'stefani', 'weiss', 'british', 'vote', 'abandon', 'eu', 'could', 'boost', 'clout', 'member', 'countri', 'call', 'end', 'econom', 'sanction', 'brussel', 'previous', 'slap', 'russia', 'bertelsmann', 'foundat', 'expert', 'stefani', 'weiss', 'told', 'belgian', 'news', 'network', 'rtbf', 'interview', 'came', 'uk', 'citizen', 'prepar', 'decid', 'whether', 'countri', 'stay', 'european', 'union', '<DATE>', 'bertelsmann', 'foundat', 'germani', 'largest', 'privat', 'fund', 'deal', 'press', 'public', 'problem', 'risk', 'enthusiast', 'support', 'sanction', 'becom', 'stronger', 'without', 'britain', 'weiss', 'said', 'accord', 'diplomat', 'sourc', 'uk', 'baltic', 'state', 'sweden', 'staunchli', 'advoc', 'maintain', 'econom', 'sanction', 'russia', 'seem', 'even', 'apt', 'brexit', 'support', 'unleas', 'furi', 'even', 'cannot', 'control', 'pollytoynbe', 'guardian', 'jonathan', 'taylor', 'crystalclearjt', '<NUM>', 'июня', '<DATE>', 'г', 'contrast', 'hungari', 'cypru', 'greec', 'itali', 'slovakia', 'franc', 'call', 'partial', 'total', 'abolit', 'call', 'restrict', 'measur', 'addit', 'trade', 'lobbi', 'germani', 'elsewher', 'austria', 'turn', 'stand', 'normal', 'relat', 'russia', '©', 'reuter', 'neil', 'hall', 'brexit', 'support', 'hold', 'union', 'flag', 'vote', 'leav', 'ralli', 'london', 'britain', '<DATE>', 'earlier', 'russian', 'central', 'bank', 'head', 'elvira', 'nabiullina', 'told', 'cnbc', 'see', 'risk', 'russian', 'economi', 'result', 'possibl', 'brexit', 'direct', 'consequ', 'russian', 'economi', 'fairli', 'low', 'level', 'mutual', 'trade', 'uk', 'maintain', 'significantli', 'high', 'level', 'cooper', 'financi', 'sphere', 'said', 'relat', 'russia', 'west', 'deterior', 'situat', 'ukrain', '<DATE>', 'eu', 'impos', 'increasingli', 'sever', 'seri', 'anti', 'russian', 'sanction', 'year', 'russia', 'respond', 'restrict', 'import', 'food', 'product', 'countri', 'impos', 'sanction', 'moscow', 'anti', 'russian', 'sanction', 'target', 'certain', 'individu', 'remain', 'forc', '<DATE>', 'restrict', 'measur', 'target', 'entir', 'sector', 'russian', 'economi', 'due', 'expir', '<DATE>', 'sanction', 'russia', 'crimean', 'peninsula', 'remain', 'forc', '<DATE>', '<DATE>', 'russia', 'prolong', 'food', 'embargo', '<DATE>', 'move', 'preced', 'step', 'eu', '<DATE>', 'uk', 'nation', 'set', 'vote', 'referendum', 'countri', 'eu', 'membership', 'prime', 'minist', 'david', 'cameron', 'leader', '<NUM>', 'eu', 'member', 'state', 'agre', '<DATE>', 'grant', 'unit', 'kingdom', 'special', 'statu', 'within', 'bloc']",
         "fake"
        ],
        [
         "843861",
         "['youtub', 'channel', '<NUM>', 'sam', 'pepper', 'right', 'big', 'brother', '<DATE>', 'blue', 'hair', '<NUM>', 'year', 'old', 'compet', 'alongsid', 'josi', 'gibson', 'realiti', 'seri', 'final', 'outing', 'channel', '<NUM>', 'film', 'clip', 'alongsid', 'vine', 'star', 'sam', 'golbach', 'colbi', 'brock', 'pepper', 'brock', 'pull', 'cruel', 'stunt', 'golbach', 'leav', 'poor', 'teenag', 'hyster', 'tear', 'golbach', 'bundl', 'back', 'car', 'bag', 'head', 'believ', 'also', 'happen', 'brock', 'eventu', 'let', 'unknown', 'area', 'forc', 'watch', 'mask', 'gunman', 'appear', 'shoot', 'brock', 'point', 'blank', 'head', 'youtub', 'poor', 'sam', 'golbach', 'thought', 'watch', 'colbi', 'brock', 'murder', 'youtub', 'understand', 'visibl', 'shell', 'shock', 'anyth', 'made', 'colbi', 'friendship', 'much', 'stronger', 'sam', 'golbach', 'scream', 'breakdown', 'brock', 'came', 'back', 'life', 'reveal', 'prank', 'video', '<NUM>', 'view', 'youtub', 'accru', 'four', 'time', 'dislik', 'like', 'time', 'write', 'seen', 'lash', 'pepper', 'clip', 'top', 'rate', 'comment', 'video', 'share', 'network', 'say', 'simpli', 'disgrac', 'anoth', 'wrote', 'dude', 'got', 'prank', 'sue', 'f', 'k', 'sam', 'pepper', 'unlucki', 'walk', 'away', 'seriou', 'ptsd', 'kid', 'never', 'gonna', 'walk', 'dark', 'street', 'without', 'feel', 'uneasi', 'rest', 'life', 'also', 'kind', 'best', 'friend', 'willingli', 'partak', 'someth', 'like', 'know', 'much', 'could', 'hurt', 'mate', 'f', 'k', 'kind', 'person', 'agre', 'youtub', 'colbi', 'brock', 'eventu', 'reveal', 'prank', 'twitter', 'sam', 'pepper', '<NUM>', 'million', 'youtub', 'subscrib', 'golbach', 'sinc', 'tweet', 'honestli', 'mad', 'anyth', 'made', 'colbi', 'friendship', 'much', 'stronger', 'show', 'much', 'actual', 'care', 'one', 'anoth', 'sam', 'pepper', 'recent', 'becom', 'one', 'good', 'friend', 'start', 'crazi', 'experi', 'pepper', 'previous', 'came', 'massiv', 'fire', '<DATE>', 'video', 'show', 'men', 'pinch', 'women', 'backsid', 'street', 'follow', 'clip', 'woman', 'men', 'anoth', 'claim', 'whole', 'thing', 'social', 'experi', 'explan', 'wash', 'fellow', 'onlin', 'person', 'joe', 'santago', 'say', 'let', 'get', 'straight', 'sam', 'pepper', 'made', 'video', 'sexual', 'harass', 'peopl', 'tri', 'teach', 'us', 'sexual', 'harass', 'bad', 'oh', 'okay', 'tyler', 'oakley', 'tweet', 'know', 'horribl', 'person', 'claim', 'social', 'experi', 'everyon', 'els', 'problem', 'offend']",
         "fake"
        ],
        [
         "865401",
         "['direct', 'interest', 'piec', 'obama', 'destroy', 'republican', 'parti', 'martin', 'longman', '<URL>', 'cours', 'gop', 'destroy', 'obama', 'fault', 'intrigu', 'obama', 'call', '<DATE>', 'say', 'got', 'close', 'gap', 'littl', 'bit', 'rhetor', 'realiti', 'suggest', 'go', 'agre', 'everyth', 'whether', 'health', 'care', 'energi', 'way', 'issu', 'present', 'republican', 'wild', 'eye', 'plot', 'impos', 'huge', 'govern', 'everi', 'aspect', 'live', 'happen', 'guy', 'lot', 'room', 'negoti', 'watch', 'ever', 'gop', 'spiral', 'higher', 'faster', 'everi', 'day', 'start', 'remind', 'stock', 'bubbl', 'bust']",
         "reliable"
        ]
       ],
       "shape": {
        "columns": 2,
        "rows": 520009
       }
      },
      "text/html": [
       "<div>\n",
       "<style scoped>\n",
       "    .dataframe tbody tr th:only-of-type {\n",
       "        vertical-align: middle;\n",
       "    }\n",
       "\n",
       "    .dataframe tbody tr th {\n",
       "        vertical-align: top;\n",
       "    }\n",
       "\n",
       "    .dataframe thead th {\n",
       "        text-align: right;\n",
       "    }\n",
       "</style>\n",
       "<table border=\"1\" class=\"dataframe\">\n",
       "  <thead>\n",
       "    <tr style=\"text-align: right;\">\n",
       "      <th></th>\n",
       "      <th>X</th>\n",
       "      <th>Y</th>\n",
       "    </tr>\n",
       "  </thead>\n",
       "  <tbody>\n",
       "    <tr>\n",
       "      <th>31836</th>\n",
       "      <td>['us', 'reward', 'inform', 'daesh', 'leader', ...</td>\n",
       "      <td>fake</td>\n",
       "    </tr>\n",
       "    <tr>\n",
       "      <th>300735</th>\n",
       "      <td>['wrote', 'coupl', 'week', 'back', 'see', 'inc...</td>\n",
       "      <td>fake</td>\n",
       "    </tr>\n",
       "    <tr>\n",
       "      <th>333657</th>\n",
       "      <td>['decis', 'far', 'reach', 'effect', 'across', ...</td>\n",
       "      <td>reliable</td>\n",
       "    </tr>\n",
       "    <tr>\n",
       "      <th>116099</th>\n",
       "      <td>['via|', 'clinton', 'foundat', 'tie', 'extrem'...</td>\n",
       "      <td>fake</td>\n",
       "    </tr>\n",
       "    <tr>\n",
       "      <th>474742</th>\n",
       "      <td>['last', 'week', 'professor', 'michael', 'mcco...</td>\n",
       "      <td>reliable</td>\n",
       "    </tr>\n",
       "    <tr>\n",
       "      <th>...</th>\n",
       "      <td>...</td>\n",
       "      <td>...</td>\n",
       "    </tr>\n",
       "    <tr>\n",
       "      <th>454940</th>\n",
       "      <td>['recent', 'yellowston', 'experienc', 'number'...</td>\n",
       "      <td>fake</td>\n",
       "    </tr>\n",
       "    <tr>\n",
       "      <th>393285</th>\n",
       "      <td>['follow', 'equiti', 'convert', 'debt', 'offer...</td>\n",
       "      <td>reliable</td>\n",
       "    </tr>\n",
       "    <tr>\n",
       "      <th>539987</th>\n",
       "      <td>['editor', 'peopl', 'america', 'cannot', 'crea...</td>\n",
       "      <td>reliable</td>\n",
       "    </tr>\n",
       "    <tr>\n",
       "      <th>589483</th>\n",
       "      <td>['us', 'share', 'end', 'oil', 'bank', 'resili'...</td>\n",
       "      <td>fake</td>\n",
       "    </tr>\n",
       "    <tr>\n",
       "      <th>852997</th>\n",
       "      <td>['whodunit', 'ruse', 'start', 'center', 'legal...</td>\n",
       "      <td>reliable</td>\n",
       "    </tr>\n",
       "  </tbody>\n",
       "</table>\n",
       "<p>520009 rows × 2 columns</p>\n",
       "</div>"
      ],
      "text/plain": [
       "                                                        X         Y\n",
       "31836   ['us', 'reward', 'inform', 'daesh', 'leader', ...      fake\n",
       "300735  ['wrote', 'coupl', 'week', 'back', 'see', 'inc...      fake\n",
       "333657  ['decis', 'far', 'reach', 'effect', 'across', ...  reliable\n",
       "116099  ['via|', 'clinton', 'foundat', 'tie', 'extrem'...      fake\n",
       "474742  ['last', 'week', 'professor', 'michael', 'mcco...  reliable\n",
       "...                                                   ...       ...\n",
       "454940  ['recent', 'yellowston', 'experienc', 'number'...      fake\n",
       "393285  ['follow', 'equiti', 'convert', 'debt', 'offer...  reliable\n",
       "539987  ['editor', 'peopl', 'america', 'cannot', 'crea...  reliable\n",
       "589483  ['us', 'share', 'end', 'oil', 'bank', 'resili'...      fake\n",
       "852997  ['whodunit', 'ruse', 'start', 'center', 'legal...  reliable\n",
       "\n",
       "[520009 rows x 2 columns]"
      ]
     },
     "execution_count": 2,
     "metadata": {},
     "output_type": "execute_result"
    }
   ],
   "source": [
    "from sklearn.model_selection import train_test_split\n",
    "\n",
    "# Opdel i trænings- og testdatasæt\n",
    "temp = train_test_split(dataset['cleaned content'], dataset['type'], test_size=0.2, random_state=50, stratify=dataset['type'])\n",
    "\n",
    "Training_Data = pd.DataFrame({'X':temp[0], 'Y':temp[2]})\n",
    "Test_Data = pd.DataFrame({'X':temp[1], 'Y':temp[3]})\n",
    "\n",
    "Training_Data"
   ]
  },
  {
   "cell_type": "markdown",
   "metadata": {},
   "source": [
    "## Input Repræsentationer"
   ]
  },
  {
   "cell_type": "markdown",
   "metadata": {},
   "source": [
    "Importere ``CountVectorizer``, til at omdanne tokens til numerisk data, som kan trænes på."
   ]
  },
  {
   "cell_type": "code",
   "execution_count": 59,
   "metadata": {},
   "outputs": [],
   "source": [
    "from sklearn.feature_extraction.text import CountVectorizer"
   ]
  },
  {
   "cell_type": "markdown",
   "metadata": {},
   "source": [
    "### Count Vector"
   ]
  },
  {
   "cell_type": "code",
   "execution_count": 60,
   "metadata": {},
   "outputs": [],
   "source": [
    "CountVector = CountVectorizer(\n",
    "    binary=True, \n",
    "    max_features=None).fit(Training_Data['X'])\n",
    "\n",
    "CountVector_matrix = CountVector.transform(Training_Data['X'])"
   ]
  },
  {
   "cell_type": "code",
   "execution_count": 61,
   "metadata": {},
   "outputs": [],
   "source": [
    "Bigram_CountVector = CountVectorizer(\n",
    "    binary=True,\n",
    "    ngram_range=(2, 2), \n",
    "    max_features=None).fit(Training_Data['X'])\n",
    "\n",
    "Bigram_CountVector_matrix = Bigram_CountVector.transform(Training_Data['X'])"
   ]
  },
  {
   "cell_type": "code",
   "execution_count": 62,
   "metadata": {},
   "outputs": [],
   "source": [
    "Multigram_CountVector = CountVectorizer(\n",
    "    binary=True, \n",
    "    ngram_range=(1, 2), \n",
    "    max_features=None).fit(Training_Data['X'])\n",
    "\n",
    "Multigram_CountVector_matrix = Multigram_CountVector.transform(Training_Data['X'])"
   ]
  },
  {
   "cell_type": "markdown",
   "metadata": {},
   "source": [
    "### Bag Of Words"
   ]
  },
  {
   "cell_type": "code",
   "execution_count": null,
   "metadata": {},
   "outputs": [],
   "source": [
    "BagOfWords = CountVectorizer(\n",
    "    binary=False, \n",
    "    max_features=None).fit(Training_Data['X'])\n",
    "\n",
    "BagOfWords_matrix = BagOfWords.transform(Training_Data['X'])"
   ]
  },
  {
   "cell_type": "code",
   "execution_count": null,
   "metadata": {},
   "outputs": [],
   "source": [
    "Bigram_BagOfWords = CountVectorizer(\n",
    "    binary=False, \n",
    "    ngram_range=(2, 2), \n",
    "    max_features=None).fit(Training_Data['X'])\n",
    "\n",
    "Bigram_BagOfWords_matrix = Bigram_BagOfWords.transform(Training_Data['X'])"
   ]
  },
  {
   "cell_type": "code",
   "execution_count": null,
   "metadata": {},
   "outputs": [],
   "source": [
    "Multigram_BagOfWords = CountVectorizer(\n",
    "    binary=False, \n",
    "    ngram_range=(1, 2), \n",
    "    max_features=None).fit(Training_Data['X'])\n",
    "\n",
    "Multigram_BagOfWords_matrix = Multigram_BagOfWords.transform(Training_Data['X'])"
   ]
  },
  {
   "cell_type": "markdown",
   "metadata": {},
   "source": [
    "### TF-IDF transformation"
   ]
  },
  {
   "cell_type": "code",
   "execution_count": 64,
   "metadata": {},
   "outputs": [],
   "source": [
    "from sklearn.feature_extraction.text import TfidfTransformer"
   ]
  },
  {
   "cell_type": "code",
   "execution_count": 65,
   "metadata": {},
   "outputs": [],
   "source": [
    "TFIDF_CountVector = TfidfTransformer().fit(CountVector_matrix)\n",
    "\n",
    "TFIDF_Bigram_CountVector = TfidfTransformer().fit(Bigram_CountVector_matrix)\n",
    "\n",
    "TFIDF_Multigram_CountVector = TfidfTransformer().fit(Multigram_CountVector_matrix)"
   ]
  },
  {
   "cell_type": "code",
   "execution_count": null,
   "metadata": {},
   "outputs": [],
   "source": [
    "TFIDF_BagOfWords = TfidfTransformer().fit(BagOfWords_matrix)\n",
    "\n",
    "TFIDF_Bigram_BagOfWords = TfidfTransformer().fit(Bigram_BagOfWords_matrix)\n",
    "\n",
    "TFIDF_Multigram_BagOfWords = TfidfTransformer().fit(Multigram_BagOfWords_matrix)"
   ]
  },
  {
   "cell_type": "markdown",
   "metadata": {},
   "source": [
    "### Chi feature selection"
   ]
  },
  {
   "cell_type": "code",
   "execution_count": null,
   "metadata": {},
   "outputs": [],
   "source": [
    "from sklearn.feature_selection import SelectFpr, chi2"
   ]
  },
  {
   "cell_type": "code",
   "execution_count": 97,
   "metadata": {},
   "outputs": [],
   "source": [
    "Chi_CountVector = SelectFpr(chi2, alpha=0.42).fit(CountVector_matrix, Training_Data['Y'])\n",
    "\n",
    "Chi_Bigram_CountVector = SelectFpr(chi2, alpha=0.42).fit(Bigram_CountVector_matrix, Training_Data['Y'])\n",
    "\n",
    "Chi_Multigram_CountVector = SelectFpr(chi2, alpha=0.42).fit(Multigram_CountVector_matrix, Training_Data['Y'])"
   ]
  },
  {
   "cell_type": "code",
   "execution_count": null,
   "metadata": {},
   "outputs": [],
   "source": [
    "Chi_BagOfWords = SelectFpr(chi2, alpha=0.42).fit(BagOfWords_matrix, Training_Data['Y'])\n",
    "\n",
    "Chi_Bigram_BagOfWords = SelectFpr(chi2, alpha=0.42).fit(Bigram_BagOfWords_matrix, Training_Data['Y'])\n",
    "\n",
    "Chi_Multigram_BagOfWords = SelectFpr(chi2, alpha=0.42).fit(Multigram_BagOfWords_matrix, Training_Data['Y'])"
   ]
  },
  {
   "cell_type": "code",
   "execution_count": null,
   "metadata": {},
   "outputs": [
    {
     "name": "stdout",
     "output_type": "stream",
     "text": [
      "Fake     : 0.8456939836633383\n",
      "Reliable : 0.8608667032364234\n"
     ]
    }
   ],
   "source": [
    "# Initializing and training the model\n",
    "LogReg_model = LogisticRegression(max_iter=10000)\n",
    "LogReg_model.fit(selector.transform(CountVector_matrix), Training_Data['Y'])\n",
    "\n",
    "# Testing the model\n",
    "predictions = LogReg_model.predict(selector.transform(CountVector.transform(Test_Data['X'])))\n",
    "result = classification_report(Test_Data['Y'], predictions, digits=5, output_dict=True)\n",
    "print(f'Fake     : {result['fake']['f1-score']}')\n",
    "print(f'Reliable : {result['reliable']['f1-score']}')"
   ]
  },
  {
   "cell_type": "code",
   "execution_count": 96,
   "metadata": {},
   "outputs": [
    {
     "name": "stdout",
     "output_type": "stream",
     "text": [
      "Fake     : 0.8871499573756253\n",
      "Reliable : 0.8965679915084326\n"
     ]
    }
   ],
   "source": [
    "from sklearn.feature_selection import SelectFpr, chi2\n",
    "\n",
    "selector = SelectFpr(chi2, alpha=0.005).fit(Multigram_CountVector_matrix, Training_Data['Y'])\n",
    "\n",
    "# Initializing and training the model\n",
    "LogReg_model = LogisticRegression(max_iter=10000)\n",
    "LogReg_model.fit(selector.transform(Multigram_CountVector_matrix), Training_Data['Y'])\n",
    "\n",
    "# Testing the model\n",
    "predictions = LogReg_model.predict(selector.transform(Multigram_CountVector.transform(Test_Data['X'])))\n",
    "result = classification_report(Test_Data['Y'], predictions, digits=5, output_dict=True)\n",
    "print(f'Fake     : {result['fake']['f1-score']}')\n",
    "print(f'Reliable : {result['reliable']['f1-score']}')"
   ]
  },
  {
   "cell_type": "code",
   "execution_count": 95,
   "metadata": {},
   "outputs": [
    {
     "name": "stdout",
     "output_type": "stream",
     "text": [
      "Fake     : 0.8877378673572796\n",
      "Reliable : 0.8971195235568135\n"
     ]
    }
   ],
   "source": [
    "from sklearn.feature_selection import SelectFpr, chi2\n",
    "\n",
    "selector = SelectFpr(chi2, alpha=0.01).fit(Multigram_CountVector_matrix, Training_Data['Y'])\n",
    "\n",
    "# Initializing and training the model\n",
    "LogReg_model = LogisticRegression(max_iter=10000)\n",
    "LogReg_model.fit(selector.transform(Multigram_CountVector_matrix), Training_Data['Y'])\n",
    "\n",
    "# Testing the model\n",
    "predictions = LogReg_model.predict(selector.transform(Multigram_CountVector.transform(Test_Data['X'])))\n",
    "result = classification_report(Test_Data['Y'], predictions, digits=5, output_dict=True)\n",
    "print(f'Fake     : {result['fake']['f1-score']}')\n",
    "print(f'Reliable : {result['reliable']['f1-score']}')"
   ]
  },
  {
   "cell_type": "code",
   "execution_count": 94,
   "metadata": {},
   "outputs": [
    {
     "name": "stdout",
     "output_type": "stream",
     "text": [
      "Fake     : 0.8900496591466998\n",
      "Reliable : 0.8993731538977158\n"
     ]
    }
   ],
   "source": [
    "from sklearn.feature_selection import SelectFpr, chi2\n",
    "\n",
    "selector = SelectFpr(chi2, alpha=0.05).fit(Multigram_CountVector_matrix, Training_Data['Y'])\n",
    "\n",
    "# Initializing and training the model\n",
    "LogReg_model = LogisticRegression(max_iter=10000)\n",
    "LogReg_model.fit(selector.transform(Multigram_CountVector_matrix), Training_Data['Y'])\n",
    "\n",
    "# Testing the model\n",
    "predictions = LogReg_model.predict(selector.transform(Multigram_CountVector.transform(Test_Data['X'])))\n",
    "result = classification_report(Test_Data['Y'], predictions, digits=5, output_dict=True)\n",
    "print(f'Fake     : {result['fake']['f1-score']}')\n",
    "print(f'Reliable : {result['reliable']['f1-score']}')"
   ]
  },
  {
   "cell_type": "code",
   "execution_count": 93,
   "metadata": {},
   "outputs": [
    {
     "name": "stdout",
     "output_type": "stream",
     "text": [
      "Fake     : 0.8907518446477084\n",
      "Reliable : 0.8997580978228804\n"
     ]
    }
   ],
   "source": [
    "from sklearn.feature_selection import SelectFpr, chi2\n",
    "\n",
    "selector = SelectFpr(chi2, alpha=0.1).fit(Multigram_CountVector_matrix, Training_Data['Y'])\n",
    "\n",
    "# Initializing and training the model\n",
    "LogReg_model = LogisticRegression(max_iter=10000)\n",
    "LogReg_model.fit(selector.transform(Multigram_CountVector_matrix), Training_Data['Y'])\n",
    "\n",
    "# Testing the model\n",
    "predictions = LogReg_model.predict(selector.transform(Multigram_CountVector.transform(Test_Data['X'])))\n",
    "result = classification_report(Test_Data['Y'], predictions, digits=5, output_dict=True)\n",
    "print(f'Fake     : {result['fake']['f1-score']}')\n",
    "print(f'Reliable : {result['reliable']['f1-score']}')"
   ]
  },
  {
   "cell_type": "code",
   "execution_count": 90,
   "metadata": {},
   "outputs": [
    {
     "name": "stdout",
     "output_type": "stream",
     "text": [
      "Fake     : 0.8937267949274315\n",
      "Reliable : 0.9024577346354704\n"
     ]
    }
   ],
   "source": [
    "from sklearn.feature_selection import SelectFpr, chi2\n",
    "\n",
    "selector = SelectFpr(chi2, alpha=0.42).fit(Multigram_CountVector_matrix, Training_Data['Y'])\n",
    "\n",
    "# Initializing and training the model\n",
    "LogReg_model = LogisticRegression(max_iter=10000)\n",
    "LogReg_model.fit(selector.transform(Multigram_CountVector_matrix), Training_Data['Y'])\n",
    "\n",
    "# Testing the model\n",
    "predictions = LogReg_model.predict(selector.transform(Multigram_CountVector.transform(Test_Data['X'])))\n",
    "result = classification_report(Test_Data['Y'], predictions, digits=5, output_dict=True)\n",
    "print(f'Fake     : {result['fake']['f1-score']}')\n",
    "print(f'Reliable : {result['reliable']['f1-score']}')"
   ]
  },
  {
   "cell_type": "code",
   "execution_count": 92,
   "metadata": {},
   "outputs": [
    {
     "name": "stdout",
     "output_type": "stream",
     "text": [
      "Fake     : 0.8932183917280608\n",
      "Reliable : 0.9019382161328641\n"
     ]
    }
   ],
   "source": [
    "from sklearn.feature_selection import SelectFpr, chi2\n",
    "\n",
    "selector = SelectFpr(chi2, alpha=0.5).fit(Multigram_CountVector_matrix, Training_Data['Y'])\n",
    "\n",
    "# Initializing and training the model\n",
    "LogReg_model = LogisticRegression(max_iter=10000)\n",
    "LogReg_model.fit(selector.transform(Multigram_CountVector_matrix), Training_Data['Y'])\n",
    "\n",
    "# Testing the model\n",
    "predictions = LogReg_model.predict(selector.transform(Multigram_CountVector.transform(Test_Data['X'])))\n",
    "result = classification_report(Test_Data['Y'], predictions, digits=5, output_dict=True)\n",
    "print(f'Fake     : {result['fake']['f1-score']}')\n",
    "print(f'Reliable : {result['reliable']['f1-score']}')"
   ]
  },
  {
   "cell_type": "code",
   "execution_count": 91,
   "metadata": {},
   "outputs": [
    {
     "name": "stdout",
     "output_type": "stream",
     "text": [
      "Fake     : 0.8930016327646808\n",
      "Reliable : 0.9019509570524112\n"
     ]
    }
   ],
   "source": [
    "from sklearn.feature_selection import SelectFpr, chi2\n",
    "\n",
    "selector = SelectFpr(chi2, alpha=0.75).fit(Multigram_CountVector_matrix, Training_Data['Y'])\n",
    "\n",
    "# Initializing and training the model\n",
    "LogReg_model = LogisticRegression(max_iter=10000)\n",
    "LogReg_model.fit(selector.transform(Multigram_CountVector_matrix), Training_Data['Y'])\n",
    "\n",
    "# Testing the model\n",
    "predictions = LogReg_model.predict(selector.transform(Multigram_CountVector.transform(Test_Data['X'])))\n",
    "result = classification_report(Test_Data['Y'], predictions, digits=5, output_dict=True)\n",
    "print(f'Fake     : {result['fake']['f1-score']}')\n",
    "print(f'Reliable : {result['reliable']['f1-score']}')"
   ]
  },
  {
   "cell_type": "markdown",
   "metadata": {},
   "source": [
    "## Base Model"
   ]
  },
  {
   "cell_type": "markdown",
   "metadata": {},
   "source": [
    "### Count Vector"
   ]
  },
  {
   "cell_type": "code",
   "execution_count": 78,
   "metadata": {},
   "outputs": [
    {
     "name": "stdout",
     "output_type": "stream",
     "text": [
      "Fake     : 0.8432551224872342\n",
      "Reliable : 0.8576021374359577\n"
     ]
    }
   ],
   "source": [
    "from sklearn.linear_model import LogisticRegression\n",
    "from sklearn.metrics import classification_report\n",
    "\n",
    "Base_CountVector = CountVectorizer(\n",
    "    binary=True, \n",
    "    max_features=10000).fit(Training_Data['X'])\n",
    "\n",
    "# Initializing and training the model\n",
    "Base_model = LogisticRegression(max_iter=10000)\n",
    "Base_model.fit(Base_CountVector.transform(Training_Data['X']), Training_Data['Y'])\n",
    "\n",
    "# Testing the model\n",
    "predictions = Base_model.predict(Base_CountVector.transform(Test_Data['X']))\n",
    "result = classification_report(Test_Data['Y'], predictions, output_dict=True)\n",
    "print(f'Fake     : {result['fake']['f1-score']}')\n",
    "print(f'Reliable : {result['reliable']['f1-score']}')"
   ]
  },
  {
   "cell_type": "markdown",
   "metadata": {},
   "source": [
    "### Bag Of Words"
   ]
  },
  {
   "cell_type": "code",
   "execution_count": 79,
   "metadata": {},
   "outputs": [
    {
     "name": "stdout",
     "output_type": "stream",
     "text": [
      "Fake     : 0.8289200224944375\n",
      "Reliable : 0.8471258256924163\n"
     ]
    }
   ],
   "source": [
    "from sklearn.linear_model import LogisticRegression\n",
    "from sklearn.metrics import classification_report\n",
    "\n",
    "Base_BagOfWords = CountVectorizer(\n",
    "    binary=False, \n",
    "    max_features=10000).fit(Training_Data['X'])\n",
    "\n",
    "# Initializing and training the model\n",
    "Base_model = LogisticRegression(max_iter=10000)\n",
    "Base_model.fit(Base_BagOfWords.transform(Training_Data['X']), Training_Data['Y'])\n",
    "\n",
    "# Testing the model\n",
    "predictions = Base_model.predict(Base_BagOfWords.transform(Test_Data['X']))\n",
    "result = classification_report(Test_Data['Y'], predictions, output_dict=True)\n",
    "print(f'Fake     : {result['fake']['f1-score']}')\n",
    "print(f'Reliable : {result['reliable']['f1-score']}')"
   ]
  },
  {
   "cell_type": "markdown",
   "metadata": {},
   "source": [
    "## Logistisk Regression"
   ]
  },
  {
   "cell_type": "markdown",
   "metadata": {},
   "source": [
    "Initialisere bibliotekerne brugt til den logistiske regression"
   ]
  },
  {
   "cell_type": "code",
   "execution_count": 68,
   "metadata": {},
   "outputs": [],
   "source": [
    "from sklearn.linear_model import LogisticRegression\n",
    "from sklearn.metrics import classification_report"
   ]
  },
  {
   "cell_type": "markdown",
   "metadata": {},
   "source": [
    "### Count Vector"
   ]
  },
  {
   "cell_type": "markdown",
   "metadata": {},
   "source": [
    "#### Raw vector"
   ]
  },
  {
   "cell_type": "code",
   "execution_count": 75,
   "metadata": {},
   "outputs": [
    {
     "name": "stdout",
     "output_type": "stream",
     "text": [
      "Fake     : 0.8596057521408952\n",
      "Reliable : 0.8724325752793153\n"
     ]
    }
   ],
   "source": [
    "# Initializing and training the model\n",
    "LogReg_model = LogisticRegression(max_iter=10000)\n",
    "LogReg_model.fit(CountVector_matrix, Training_Data['Y'])\n",
    "\n",
    "# Testing the model\n",
    "predictions = LogReg_model.predict(CountVector.transform(Test_Data['X']))\n",
    "result = classification_report(Test_Data['Y'], predictions, digits=5, output_dict=True)\n",
    "print(f'Fake     : {result['fake']['f1-score']}')\n",
    "print(f'Reliable : {result['reliable']['f1-score']}')"
   ]
  },
  {
   "cell_type": "code",
   "execution_count": 76,
   "metadata": {},
   "outputs": [
    {
     "name": "stdout",
     "output_type": "stream",
     "text": [
      "Fake     : 0.8777289084366253\n",
      "Reliable : 0.8867038145766027\n"
     ]
    }
   ],
   "source": [
    "# Initializing and training the model\n",
    "LogReg_model = LogisticRegression(max_iter=10000)\n",
    "LogReg_model.fit(Bigram_CountVector_matrix, Training_Data['Y'])\n",
    "\n",
    "# Testing the model\n",
    "predictions = LogReg_model.predict(Bigram_CountVector.transform(Test_Data['X']))\n",
    "result = classification_report(Test_Data['Y'], predictions, digits=5, output_dict=True)\n",
    "print(f'Fake     : {result['fake']['f1-score']}')\n",
    "print(f'Reliable : {result['reliable']['f1-score']}')"
   ]
  },
  {
   "cell_type": "code",
   "execution_count": 77,
   "metadata": {},
   "outputs": [
    {
     "name": "stdout",
     "output_type": "stream",
     "text": [
      "Fake     : 0.8929983174063907\n",
      "Reliable : 0.9021230844005214\n"
     ]
    }
   ],
   "source": [
    "# Initializing and training the model\n",
    "LogReg_model = LogisticRegression(max_iter=10000)\n",
    "LogReg_model.fit(Multigram_CountVector_matrix, Training_Data['Y'])\n",
    "\n",
    "# Testing the model\n",
    "predictions = LogReg_model.predict(Multigram_CountVector.transform(Test_Data['X']))\n",
    "result = classification_report(Test_Data['Y'], predictions, digits=5, output_dict=True)\n",
    "print(f'Fake     : {result['fake']['f1-score']}')\n",
    "print(f'Reliable : {result['reliable']['f1-score']}')"
   ]
  },
  {
   "cell_type": "markdown",
   "metadata": {},
   "source": [
    "#### TF-IDF transformation"
   ]
  },
  {
   "cell_type": "code",
   "execution_count": 69,
   "metadata": {},
   "outputs": [
    {
     "name": "stdout",
     "output_type": "stream",
     "text": [
      "Fake     : 0.8557202670589567\n",
      "Reliable : 0.8690273538389294\n"
     ]
    }
   ],
   "source": [
    "# Initializing and training the model\n",
    "LogReg_model = LogisticRegression(max_iter=10000)\n",
    "LogReg_model.fit(TFIDF_CountVector.transform(CountVector_matrix), Training_Data['Y'])\n",
    "\n",
    "# Testing the model\n",
    "predictions = LogReg_model.predict(TFIDF_CountVector.transform(CountVector.transform(Test_Data['X'])))\n",
    "result = classification_report(Test_Data['Y'], predictions, digits=5, output_dict=True)\n",
    "print(f'Fake     : {result['fake']['f1-score']}')\n",
    "print(f'Reliable : {result['reliable']['f1-score']}')"
   ]
  },
  {
   "cell_type": "code",
   "execution_count": 70,
   "metadata": {},
   "outputs": [
    {
     "name": "stdout",
     "output_type": "stream",
     "text": [
      "Fake     : 0.8670702858746642\n",
      "Reliable : 0.877480580335696\n"
     ]
    }
   ],
   "source": [
    "# Initializing and training the model\n",
    "LogReg_model = LogisticRegression(max_iter=10000)\n",
    "LogReg_model.fit(TFIDF_Bigram_CountVector.transform(Bigram_CountVector_matrix), Training_Data['Y'])\n",
    "\n",
    "# Testing the model\n",
    "predictions = LogReg_model.predict(TFIDF_Bigram_CountVector.transform(Bigram_CountVector.transform(Test_Data['X'])))\n",
    "result = classification_report(Test_Data['Y'], predictions, digits=5, output_dict=True)\n",
    "print(f'Fake     : {result['fake']['f1-score']}')\n",
    "print(f'Reliable : {result['reliable']['f1-score']}')"
   ]
  },
  {
   "cell_type": "code",
   "execution_count": 71,
   "metadata": {},
   "outputs": [
    {
     "name": "stdout",
     "output_type": "stream",
     "text": [
      "Fake     : 0.8741060738439633\n",
      "Reliable : 0.8859040720266287\n"
     ]
    }
   ],
   "source": [
    "# Initializing and training the model\n",
    "LogReg_model = LogisticRegression(max_iter=10000)\n",
    "LogReg_model.fit(TFIDF_Multigram_CountVector.transform(Multigram_CountVector_matrix), Training_Data['Y'])\n",
    "\n",
    "# Testing the model\n",
    "predictions = LogReg_model.predict(TFIDF_Multigram_CountVector.transform(Multigram_CountVector.transform(Test_Data['X'])))\n",
    "result = classification_report(Test_Data['Y'], predictions, digits=5, output_dict=True)\n",
    "print(f'Fake     : {result['fake']['f1-score']}')\n",
    "print(f'Reliable : {result['reliable']['f1-score']}')"
   ]
  },
  {
   "cell_type": "markdown",
   "metadata": {},
   "source": [
    "#### Chi feature selection"
   ]
  },
  {
   "cell_type": "code",
   "execution_count": 98,
   "metadata": {},
   "outputs": [
    {
     "name": "stdout",
     "output_type": "stream",
     "text": [
      "Fake     : 0.859503197881\n",
      "Reliable : 0.8722369909086903\n"
     ]
    }
   ],
   "source": [
    "# Initializing and training the model\n",
    "LogReg_model = LogisticRegression(max_iter=10000)\n",
    "LogReg_model.fit(Chi_CountVector.transform(CountVector_matrix), Training_Data['Y'])\n",
    "\n",
    "# Testing the model\n",
    "predictions = LogReg_model.predict(Chi_CountVector.transform(CountVector.transform(Test_Data['X'])))\n",
    "result = classification_report(Test_Data['Y'], predictions, digits=5, output_dict=True)\n",
    "print(f'Fake     : {result['fake']['f1-score']}')\n",
    "print(f'Reliable : {result['reliable']['f1-score']}')"
   ]
  },
  {
   "cell_type": "code",
   "execution_count": 99,
   "metadata": {},
   "outputs": [
    {
     "name": "stdout",
     "output_type": "stream",
     "text": [
      "Fake     : 0.879103833176083\n",
      "Reliable : 0.8879502000889284\n"
     ]
    }
   ],
   "source": [
    "# Initializing and training the model\n",
    "LogReg_model = LogisticRegression(max_iter=10000)\n",
    "LogReg_model.fit(Chi_Bigram_CountVector.transform(Bigram_CountVector_matrix), Training_Data['Y'])\n",
    "\n",
    "# Testing the model\n",
    "predictions = LogReg_model.predict(Chi_Bigram_CountVector.transform(Bigram_CountVector.transform(Test_Data['X'])))\n",
    "result = classification_report(Test_Data['Y'], predictions, digits=5, output_dict=True)\n",
    "print(f'Fake     : {result['fake']['f1-score']}')\n",
    "print(f'Reliable : {result['reliable']['f1-score']}')"
   ]
  },
  {
   "cell_type": "code",
   "execution_count": 100,
   "metadata": {},
   "outputs": [
    {
     "name": "stdout",
     "output_type": "stream",
     "text": [
      "Fake     : 0.8937267949274315\n",
      "Reliable : 0.9024577346354704\n"
     ]
    }
   ],
   "source": [
    "# Initializing and training the model\n",
    "LogReg_model = LogisticRegression(max_iter=10000)\n",
    "LogReg_model.fit(Chi_Multigram_CountVector.transform(Multigram_CountVector_matrix), Training_Data['Y'])\n",
    "\n",
    "# Testing the model\n",
    "predictions = LogReg_model.predict(Chi_Multigram_CountVector.transform(Multigram_CountVector.transform(Test_Data['X'])))\n",
    "result = classification_report(Test_Data['Y'], predictions, digits=5, output_dict=True)\n",
    "print(f'Fake     : {result['fake']['f1-score']}')\n",
    "print(f'Reliable : {result['reliable']['f1-score']}')"
   ]
  },
  {
   "cell_type": "markdown",
   "metadata": {},
   "source": []
  },
  {
   "cell_type": "markdown",
   "metadata": {},
   "source": []
  },
  {
   "cell_type": "markdown",
   "metadata": {},
   "source": []
  },
  {
   "cell_type": "code",
   "execution_count": 52,
   "metadata": {},
   "outputs": [
    {
     "name": "stdout",
     "output_type": "stream",
     "text": [
      "              precision    recall  f1-score   support\n",
      "\n",
      "        fake       0.89      0.89      0.89     62165\n",
      "    reliable       0.90      0.90      0.90     67838\n",
      "\n",
      "    accuracy                           0.90    130003\n",
      "   macro avg       0.90      0.90      0.90    130003\n",
      "weighted avg       0.90      0.90      0.90    130003\n",
      "\n"
     ]
    }
   ],
   "source": [
    "# Opret og træn modellen\n",
    "log_reg_model = LogisticRegression(max_iter=10000)\n",
    "log_reg_model.fit(CountVector_matrix, Training_Data['Y'])\n",
    "\n",
    "# Evaluer modellen\n",
    "y_pred = log_reg_model.predict(CountVector.transform(Test_Data['X']))\n",
    "print(classification_report(Test_Data['Y'], y_pred))"
   ]
  },
  {
   "cell_type": "code",
   "execution_count": 46,
   "metadata": {},
   "outputs": [
    {
     "name": "stdout",
     "output_type": "stream",
     "text": [
      "              precision    recall  f1-score   support\n",
      "\n",
      "        fake       0.86      0.86      0.86     62165\n",
      "    reliable       0.87      0.88      0.87     67838\n",
      "\n",
      "    accuracy                           0.87    130003\n",
      "   macro avg       0.87      0.87      0.87    130003\n",
      "weighted avg       0.87      0.87      0.87    130003\n",
      "\n"
     ]
    }
   ],
   "source": [
    "# Opret og træn modellen\n",
    "log_reg_model = LogisticRegression(max_iter=10000)\n",
    "log_reg_model.fit(CountVector_matrix, Training_Data['Y'])\n",
    "\n",
    "# Evaluer modellen\n",
    "y_pred = log_reg_model.predict(CountVector.transform(Test_Data['X']))\n",
    "print(classification_report(Test_Data['Y'], y_pred))"
   ]
  },
  {
   "cell_type": "code",
   "execution_count": null,
   "metadata": {},
   "outputs": [
    {
     "name": "stdout",
     "output_type": "stream",
     "text": [
      "              precision    recall  f1-score   support\n",
      "\n",
      "        fake       0.84      0.84      0.84     62165\n",
      "    reliable       0.85      0.86      0.86     67838\n",
      "\n",
      "    accuracy                           0.85    130003\n",
      "   macro avg       0.85      0.85      0.85    130003\n",
      "weighted avg       0.85      0.85      0.85    130003\n",
      "\n"
     ]
    }
   ],
   "source": [
    "# Opret og træn modellen\n",
    "log_reg_model = LogisticRegression(max_iter=10000)\n",
    "log_reg_model.fit(BagOfWords_matrix, Training_Data['Y'])\n",
    "\n",
    "# Evaluer modellen\n",
    "y_pred = log_reg_model.predict(BagOfWords.transform(Test_Data['X']))\n",
    "print(classification_report(Test_Data['Y'], y_pred))"
   ]
  },
  {
   "cell_type": "code",
   "execution_count": null,
   "metadata": {},
   "outputs": [
    {
     "name": "stdout",
     "output_type": "stream",
     "text": [
      "              precision    recall  f1-score   support\n",
      "\n",
      "        fake       0.86      0.85      0.86     62165\n",
      "    reliable       0.87      0.87      0.87     67838\n",
      "\n",
      "    accuracy                           0.86    130003\n",
      "   macro avg       0.86      0.86      0.86    130003\n",
      "weighted avg       0.86      0.86      0.86    130003\n",
      "\n"
     ]
    }
   ],
   "source": [
    "# Opret og træn modellen\n",
    "log_reg_model = LogisticRegression(max_iter=10000)\n",
    "log_reg_model.fit(TFIDF_CountVector.transform(CountVector_matrix), Training_Data['Y'])\n",
    "\n",
    "# Evaluer modellen\n",
    "y_pred = log_reg_model.predict(TFIDF_CountVector.transform(CountVector.transform(Test_Data['X'])))\n",
    "print(classification_report(Test_Data['Y'], y_pred))"
   ]
  },
  {
   "cell_type": "code",
   "execution_count": null,
   "metadata": {},
   "outputs": [
    {
     "name": "stdout",
     "output_type": "stream",
     "text": [
      "              precision    recall  f1-score   support\n",
      "\n",
      "        fake       0.85      0.85      0.85     62165\n",
      "    reliable       0.86      0.86      0.86     67838\n",
      "\n",
      "    accuracy                           0.86    130003\n",
      "   macro avg       0.86      0.86      0.86    130003\n",
      "weighted avg       0.86      0.86      0.86    130003\n",
      "\n"
     ]
    }
   ],
   "source": [
    "# Opret og træn modellen\n",
    "log_reg_model = LogisticRegression(max_iter=10000)\n",
    "log_reg_model.fit(TFIDF_BagOfWords.transform(BagOfWords_matrix), Training_Data['Y'])\n",
    "\n",
    "# Evaluer modellen\n",
    "y_pred = log_reg_model.predict(TFIDF_BagOfWords.transform(BagOfWords.transform(Test_Data['X'])))\n",
    "print(classification_report(Test_Data['Y'], y_pred))"
   ]
  },
  {
   "cell_type": "code",
   "execution_count": null,
   "metadata": {},
   "outputs": [
    {
     "name": "stdout",
     "output_type": "stream",
     "text": [
      "              precision    recall  f1-score   support\n",
      "\n",
      "        fake       0.85      0.84      0.85     62165\n",
      "    reliable       0.85      0.87      0.86     67838\n",
      "\n",
      "    accuracy                           0.85    130003\n",
      "   macro avg       0.85      0.85      0.85    130003\n",
      "weighted avg       0.85      0.85      0.85    130003\n",
      "\n"
     ]
    }
   ],
   "source": [
    "# Opret og træn modellen\n",
    "log_reg_model = LogisticRegression(max_iter=10000)\n",
    "log_reg_model.fit(Chi_CountVector.transform(CountVector_matrix), Training_Data['Y'])\n",
    "\n",
    "# Evaluer modellen\n",
    "y_pred = log_reg_model.predict(Chi_CountVector.transform(CountVector.transform(Test_Data['X'])))\n",
    "print(classification_report(Test_Data['Y'], y_pred))"
   ]
  },
  {
   "cell_type": "code",
   "execution_count": null,
   "metadata": {},
   "outputs": [
    {
     "name": "stdout",
     "output_type": "stream",
     "text": [
      "              precision    recall  f1-score   support\n",
      "\n",
      "        fake       0.86      0.87      0.87     62165\n",
      "    reliable       0.88      0.88      0.88     67838\n",
      "\n",
      "    accuracy                           0.87    130003\n",
      "   macro avg       0.87      0.87      0.87    130003\n",
      "weighted avg       0.87      0.87      0.87    130003\n",
      "\n"
     ]
    }
   ],
   "source": [
    "# Opret og træn modellen\n",
    "log_reg_model = LogisticRegression(max_iter=10000)\n",
    "log_reg_model.fit(TFIDF_Bigram_CountVector.transform(Bigram_CountVector_matrix), Training_Data['Y'])\n",
    "\n",
    "# Evaluer modellen\n",
    "y_pred = log_reg_model.predict(TFIDF_Bigram_CountVector.transform(Bigram_CountVector.transform(Test_Data['X'])))\n",
    "print(classification_report(Test_Data['Y'], y_pred))"
   ]
  },
  {
   "cell_type": "markdown",
   "metadata": {},
   "source": [
    "## Other"
   ]
  },
  {
   "cell_type": "code",
   "execution_count": 35,
   "metadata": {},
   "outputs": [
    {
     "data": {
      "text/html": [
       "<style>#sk-container-id-5 {\n",
       "  /* Definition of color scheme common for light and dark mode */\n",
       "  --sklearn-color-text: #000;\n",
       "  --sklearn-color-text-muted: #666;\n",
       "  --sklearn-color-line: gray;\n",
       "  /* Definition of color scheme for unfitted estimators */\n",
       "  --sklearn-color-unfitted-level-0: #fff5e6;\n",
       "  --sklearn-color-unfitted-level-1: #f6e4d2;\n",
       "  --sklearn-color-unfitted-level-2: #ffe0b3;\n",
       "  --sklearn-color-unfitted-level-3: chocolate;\n",
       "  /* Definition of color scheme for fitted estimators */\n",
       "  --sklearn-color-fitted-level-0: #f0f8ff;\n",
       "  --sklearn-color-fitted-level-1: #d4ebff;\n",
       "  --sklearn-color-fitted-level-2: #b3dbfd;\n",
       "  --sklearn-color-fitted-level-3: cornflowerblue;\n",
       "\n",
       "  /* Specific color for light theme */\n",
       "  --sklearn-color-text-on-default-background: var(--sg-text-color, var(--theme-code-foreground, var(--jp-content-font-color1, black)));\n",
       "  --sklearn-color-background: var(--sg-background-color, var(--theme-background, var(--jp-layout-color0, white)));\n",
       "  --sklearn-color-border-box: var(--sg-text-color, var(--theme-code-foreground, var(--jp-content-font-color1, black)));\n",
       "  --sklearn-color-icon: #696969;\n",
       "\n",
       "  @media (prefers-color-scheme: dark) {\n",
       "    /* Redefinition of color scheme for dark theme */\n",
       "    --sklearn-color-text-on-default-background: var(--sg-text-color, var(--theme-code-foreground, var(--jp-content-font-color1, white)));\n",
       "    --sklearn-color-background: var(--sg-background-color, var(--theme-background, var(--jp-layout-color0, #111)));\n",
       "    --sklearn-color-border-box: var(--sg-text-color, var(--theme-code-foreground, var(--jp-content-font-color1, white)));\n",
       "    --sklearn-color-icon: #878787;\n",
       "  }\n",
       "}\n",
       "\n",
       "#sk-container-id-5 {\n",
       "  color: var(--sklearn-color-text);\n",
       "}\n",
       "\n",
       "#sk-container-id-5 pre {\n",
       "  padding: 0;\n",
       "}\n",
       "\n",
       "#sk-container-id-5 input.sk-hidden--visually {\n",
       "  border: 0;\n",
       "  clip: rect(1px 1px 1px 1px);\n",
       "  clip: rect(1px, 1px, 1px, 1px);\n",
       "  height: 1px;\n",
       "  margin: -1px;\n",
       "  overflow: hidden;\n",
       "  padding: 0;\n",
       "  position: absolute;\n",
       "  width: 1px;\n",
       "}\n",
       "\n",
       "#sk-container-id-5 div.sk-dashed-wrapped {\n",
       "  border: 1px dashed var(--sklearn-color-line);\n",
       "  margin: 0 0.4em 0.5em 0.4em;\n",
       "  box-sizing: border-box;\n",
       "  padding-bottom: 0.4em;\n",
       "  background-color: var(--sklearn-color-background);\n",
       "}\n",
       "\n",
       "#sk-container-id-5 div.sk-container {\n",
       "  /* jupyter's `normalize.less` sets `[hidden] { display: none; }`\n",
       "     but bootstrap.min.css set `[hidden] { display: none !important; }`\n",
       "     so we also need the `!important` here to be able to override the\n",
       "     default hidden behavior on the sphinx rendered scikit-learn.org.\n",
       "     See: https://github.com/scikit-learn/scikit-learn/issues/21755 */\n",
       "  display: inline-block !important;\n",
       "  position: relative;\n",
       "}\n",
       "\n",
       "#sk-container-id-5 div.sk-text-repr-fallback {\n",
       "  display: none;\n",
       "}\n",
       "\n",
       "div.sk-parallel-item,\n",
       "div.sk-serial,\n",
       "div.sk-item {\n",
       "  /* draw centered vertical line to link estimators */\n",
       "  background-image: linear-gradient(var(--sklearn-color-text-on-default-background), var(--sklearn-color-text-on-default-background));\n",
       "  background-size: 2px 100%;\n",
       "  background-repeat: no-repeat;\n",
       "  background-position: center center;\n",
       "}\n",
       "\n",
       "/* Parallel-specific style estimator block */\n",
       "\n",
       "#sk-container-id-5 div.sk-parallel-item::after {\n",
       "  content: \"\";\n",
       "  width: 100%;\n",
       "  border-bottom: 2px solid var(--sklearn-color-text-on-default-background);\n",
       "  flex-grow: 1;\n",
       "}\n",
       "\n",
       "#sk-container-id-5 div.sk-parallel {\n",
       "  display: flex;\n",
       "  align-items: stretch;\n",
       "  justify-content: center;\n",
       "  background-color: var(--sklearn-color-background);\n",
       "  position: relative;\n",
       "}\n",
       "\n",
       "#sk-container-id-5 div.sk-parallel-item {\n",
       "  display: flex;\n",
       "  flex-direction: column;\n",
       "}\n",
       "\n",
       "#sk-container-id-5 div.sk-parallel-item:first-child::after {\n",
       "  align-self: flex-end;\n",
       "  width: 50%;\n",
       "}\n",
       "\n",
       "#sk-container-id-5 div.sk-parallel-item:last-child::after {\n",
       "  align-self: flex-start;\n",
       "  width: 50%;\n",
       "}\n",
       "\n",
       "#sk-container-id-5 div.sk-parallel-item:only-child::after {\n",
       "  width: 0;\n",
       "}\n",
       "\n",
       "/* Serial-specific style estimator block */\n",
       "\n",
       "#sk-container-id-5 div.sk-serial {\n",
       "  display: flex;\n",
       "  flex-direction: column;\n",
       "  align-items: center;\n",
       "  background-color: var(--sklearn-color-background);\n",
       "  padding-right: 1em;\n",
       "  padding-left: 1em;\n",
       "}\n",
       "\n",
       "\n",
       "/* Toggleable style: style used for estimator/Pipeline/ColumnTransformer box that is\n",
       "clickable and can be expanded/collapsed.\n",
       "- Pipeline and ColumnTransformer use this feature and define the default style\n",
       "- Estimators will overwrite some part of the style using the `sk-estimator` class\n",
       "*/\n",
       "\n",
       "/* Pipeline and ColumnTransformer style (default) */\n",
       "\n",
       "#sk-container-id-5 div.sk-toggleable {\n",
       "  /* Default theme specific background. It is overwritten whether we have a\n",
       "  specific estimator or a Pipeline/ColumnTransformer */\n",
       "  background-color: var(--sklearn-color-background);\n",
       "}\n",
       "\n",
       "/* Toggleable label */\n",
       "#sk-container-id-5 label.sk-toggleable__label {\n",
       "  cursor: pointer;\n",
       "  display: flex;\n",
       "  width: 100%;\n",
       "  margin-bottom: 0;\n",
       "  padding: 0.5em;\n",
       "  box-sizing: border-box;\n",
       "  text-align: center;\n",
       "  align-items: start;\n",
       "  justify-content: space-between;\n",
       "  gap: 0.5em;\n",
       "}\n",
       "\n",
       "#sk-container-id-5 label.sk-toggleable__label .caption {\n",
       "  font-size: 0.6rem;\n",
       "  font-weight: lighter;\n",
       "  color: var(--sklearn-color-text-muted);\n",
       "}\n",
       "\n",
       "#sk-container-id-5 label.sk-toggleable__label-arrow:before {\n",
       "  /* Arrow on the left of the label */\n",
       "  content: \"▸\";\n",
       "  float: left;\n",
       "  margin-right: 0.25em;\n",
       "  color: var(--sklearn-color-icon);\n",
       "}\n",
       "\n",
       "#sk-container-id-5 label.sk-toggleable__label-arrow:hover:before {\n",
       "  color: var(--sklearn-color-text);\n",
       "}\n",
       "\n",
       "/* Toggleable content - dropdown */\n",
       "\n",
       "#sk-container-id-5 div.sk-toggleable__content {\n",
       "  max-height: 0;\n",
       "  max-width: 0;\n",
       "  overflow: hidden;\n",
       "  text-align: left;\n",
       "  /* unfitted */\n",
       "  background-color: var(--sklearn-color-unfitted-level-0);\n",
       "}\n",
       "\n",
       "#sk-container-id-5 div.sk-toggleable__content.fitted {\n",
       "  /* fitted */\n",
       "  background-color: var(--sklearn-color-fitted-level-0);\n",
       "}\n",
       "\n",
       "#sk-container-id-5 div.sk-toggleable__content pre {\n",
       "  margin: 0.2em;\n",
       "  border-radius: 0.25em;\n",
       "  color: var(--sklearn-color-text);\n",
       "  /* unfitted */\n",
       "  background-color: var(--sklearn-color-unfitted-level-0);\n",
       "}\n",
       "\n",
       "#sk-container-id-5 div.sk-toggleable__content.fitted pre {\n",
       "  /* unfitted */\n",
       "  background-color: var(--sklearn-color-fitted-level-0);\n",
       "}\n",
       "\n",
       "#sk-container-id-5 input.sk-toggleable__control:checked~div.sk-toggleable__content {\n",
       "  /* Expand drop-down */\n",
       "  max-height: 200px;\n",
       "  max-width: 100%;\n",
       "  overflow: auto;\n",
       "}\n",
       "\n",
       "#sk-container-id-5 input.sk-toggleable__control:checked~label.sk-toggleable__label-arrow:before {\n",
       "  content: \"▾\";\n",
       "}\n",
       "\n",
       "/* Pipeline/ColumnTransformer-specific style */\n",
       "\n",
       "#sk-container-id-5 div.sk-label input.sk-toggleable__control:checked~label.sk-toggleable__label {\n",
       "  color: var(--sklearn-color-text);\n",
       "  background-color: var(--sklearn-color-unfitted-level-2);\n",
       "}\n",
       "\n",
       "#sk-container-id-5 div.sk-label.fitted input.sk-toggleable__control:checked~label.sk-toggleable__label {\n",
       "  background-color: var(--sklearn-color-fitted-level-2);\n",
       "}\n",
       "\n",
       "/* Estimator-specific style */\n",
       "\n",
       "/* Colorize estimator box */\n",
       "#sk-container-id-5 div.sk-estimator input.sk-toggleable__control:checked~label.sk-toggleable__label {\n",
       "  /* unfitted */\n",
       "  background-color: var(--sklearn-color-unfitted-level-2);\n",
       "}\n",
       "\n",
       "#sk-container-id-5 div.sk-estimator.fitted input.sk-toggleable__control:checked~label.sk-toggleable__label {\n",
       "  /* fitted */\n",
       "  background-color: var(--sklearn-color-fitted-level-2);\n",
       "}\n",
       "\n",
       "#sk-container-id-5 div.sk-label label.sk-toggleable__label,\n",
       "#sk-container-id-5 div.sk-label label {\n",
       "  /* The background is the default theme color */\n",
       "  color: var(--sklearn-color-text-on-default-background);\n",
       "}\n",
       "\n",
       "/* On hover, darken the color of the background */\n",
       "#sk-container-id-5 div.sk-label:hover label.sk-toggleable__label {\n",
       "  color: var(--sklearn-color-text);\n",
       "  background-color: var(--sklearn-color-unfitted-level-2);\n",
       "}\n",
       "\n",
       "/* Label box, darken color on hover, fitted */\n",
       "#sk-container-id-5 div.sk-label.fitted:hover label.sk-toggleable__label.fitted {\n",
       "  color: var(--sklearn-color-text);\n",
       "  background-color: var(--sklearn-color-fitted-level-2);\n",
       "}\n",
       "\n",
       "/* Estimator label */\n",
       "\n",
       "#sk-container-id-5 div.sk-label label {\n",
       "  font-family: monospace;\n",
       "  font-weight: bold;\n",
       "  display: inline-block;\n",
       "  line-height: 1.2em;\n",
       "}\n",
       "\n",
       "#sk-container-id-5 div.sk-label-container {\n",
       "  text-align: center;\n",
       "}\n",
       "\n",
       "/* Estimator-specific */\n",
       "#sk-container-id-5 div.sk-estimator {\n",
       "  font-family: monospace;\n",
       "  border: 1px dotted var(--sklearn-color-border-box);\n",
       "  border-radius: 0.25em;\n",
       "  box-sizing: border-box;\n",
       "  margin-bottom: 0.5em;\n",
       "  /* unfitted */\n",
       "  background-color: var(--sklearn-color-unfitted-level-0);\n",
       "}\n",
       "\n",
       "#sk-container-id-5 div.sk-estimator.fitted {\n",
       "  /* fitted */\n",
       "  background-color: var(--sklearn-color-fitted-level-0);\n",
       "}\n",
       "\n",
       "/* on hover */\n",
       "#sk-container-id-5 div.sk-estimator:hover {\n",
       "  /* unfitted */\n",
       "  background-color: var(--sklearn-color-unfitted-level-2);\n",
       "}\n",
       "\n",
       "#sk-container-id-5 div.sk-estimator.fitted:hover {\n",
       "  /* fitted */\n",
       "  background-color: var(--sklearn-color-fitted-level-2);\n",
       "}\n",
       "\n",
       "/* Specification for estimator info (e.g. \"i\" and \"?\") */\n",
       "\n",
       "/* Common style for \"i\" and \"?\" */\n",
       "\n",
       ".sk-estimator-doc-link,\n",
       "a:link.sk-estimator-doc-link,\n",
       "a:visited.sk-estimator-doc-link {\n",
       "  float: right;\n",
       "  font-size: smaller;\n",
       "  line-height: 1em;\n",
       "  font-family: monospace;\n",
       "  background-color: var(--sklearn-color-background);\n",
       "  border-radius: 1em;\n",
       "  height: 1em;\n",
       "  width: 1em;\n",
       "  text-decoration: none !important;\n",
       "  margin-left: 0.5em;\n",
       "  text-align: center;\n",
       "  /* unfitted */\n",
       "  border: var(--sklearn-color-unfitted-level-1) 1pt solid;\n",
       "  color: var(--sklearn-color-unfitted-level-1);\n",
       "}\n",
       "\n",
       ".sk-estimator-doc-link.fitted,\n",
       "a:link.sk-estimator-doc-link.fitted,\n",
       "a:visited.sk-estimator-doc-link.fitted {\n",
       "  /* fitted */\n",
       "  border: var(--sklearn-color-fitted-level-1) 1pt solid;\n",
       "  color: var(--sklearn-color-fitted-level-1);\n",
       "}\n",
       "\n",
       "/* On hover */\n",
       "div.sk-estimator:hover .sk-estimator-doc-link:hover,\n",
       ".sk-estimator-doc-link:hover,\n",
       "div.sk-label-container:hover .sk-estimator-doc-link:hover,\n",
       ".sk-estimator-doc-link:hover {\n",
       "  /* unfitted */\n",
       "  background-color: var(--sklearn-color-unfitted-level-3);\n",
       "  color: var(--sklearn-color-background);\n",
       "  text-decoration: none;\n",
       "}\n",
       "\n",
       "div.sk-estimator.fitted:hover .sk-estimator-doc-link.fitted:hover,\n",
       ".sk-estimator-doc-link.fitted:hover,\n",
       "div.sk-label-container:hover .sk-estimator-doc-link.fitted:hover,\n",
       ".sk-estimator-doc-link.fitted:hover {\n",
       "  /* fitted */\n",
       "  background-color: var(--sklearn-color-fitted-level-3);\n",
       "  color: var(--sklearn-color-background);\n",
       "  text-decoration: none;\n",
       "}\n",
       "\n",
       "/* Span, style for the box shown on hovering the info icon */\n",
       ".sk-estimator-doc-link span {\n",
       "  display: none;\n",
       "  z-index: 9999;\n",
       "  position: relative;\n",
       "  font-weight: normal;\n",
       "  right: .2ex;\n",
       "  padding: .5ex;\n",
       "  margin: .5ex;\n",
       "  width: min-content;\n",
       "  min-width: 20ex;\n",
       "  max-width: 50ex;\n",
       "  color: var(--sklearn-color-text);\n",
       "  box-shadow: 2pt 2pt 4pt #999;\n",
       "  /* unfitted */\n",
       "  background: var(--sklearn-color-unfitted-level-0);\n",
       "  border: .5pt solid var(--sklearn-color-unfitted-level-3);\n",
       "}\n",
       "\n",
       ".sk-estimator-doc-link.fitted span {\n",
       "  /* fitted */\n",
       "  background: var(--sklearn-color-fitted-level-0);\n",
       "  border: var(--sklearn-color-fitted-level-3);\n",
       "}\n",
       "\n",
       ".sk-estimator-doc-link:hover span {\n",
       "  display: block;\n",
       "}\n",
       "\n",
       "/* \"?\"-specific style due to the `<a>` HTML tag */\n",
       "\n",
       "#sk-container-id-5 a.estimator_doc_link {\n",
       "  float: right;\n",
       "  font-size: 1rem;\n",
       "  line-height: 1em;\n",
       "  font-family: monospace;\n",
       "  background-color: var(--sklearn-color-background);\n",
       "  border-radius: 1rem;\n",
       "  height: 1rem;\n",
       "  width: 1rem;\n",
       "  text-decoration: none;\n",
       "  /* unfitted */\n",
       "  color: var(--sklearn-color-unfitted-level-1);\n",
       "  border: var(--sklearn-color-unfitted-level-1) 1pt solid;\n",
       "}\n",
       "\n",
       "#sk-container-id-5 a.estimator_doc_link.fitted {\n",
       "  /* fitted */\n",
       "  border: var(--sklearn-color-fitted-level-1) 1pt solid;\n",
       "  color: var(--sklearn-color-fitted-level-1);\n",
       "}\n",
       "\n",
       "/* On hover */\n",
       "#sk-container-id-5 a.estimator_doc_link:hover {\n",
       "  /* unfitted */\n",
       "  background-color: var(--sklearn-color-unfitted-level-3);\n",
       "  color: var(--sklearn-color-background);\n",
       "  text-decoration: none;\n",
       "}\n",
       "\n",
       "#sk-container-id-5 a.estimator_doc_link.fitted:hover {\n",
       "  /* fitted */\n",
       "  background-color: var(--sklearn-color-fitted-level-3);\n",
       "}\n",
       "</style><div id=\"sk-container-id-5\" class=\"sk-top-container\"><div class=\"sk-text-repr-fallback\"><pre>GradientBoostingClassifier(n_estimators=600, random_state=50)</pre><b>In a Jupyter environment, please rerun this cell to show the HTML representation or trust the notebook. <br />On GitHub, the HTML representation is unable to render, please try loading this page with nbviewer.org.</b></div><div class=\"sk-container\" hidden><div class=\"sk-item\"><div class=\"sk-estimator fitted sk-toggleable\"><input class=\"sk-toggleable__control sk-hidden--visually\" id=\"sk-estimator-id-5\" type=\"checkbox\" checked><label for=\"sk-estimator-id-5\" class=\"sk-toggleable__label fitted sk-toggleable__label-arrow\"><div><div>GradientBoostingClassifier</div></div><div><a class=\"sk-estimator-doc-link fitted\" rel=\"noreferrer\" target=\"_blank\" href=\"https://scikit-learn.org/1.6/modules/generated/sklearn.ensemble.GradientBoostingClassifier.html\">?<span>Documentation for GradientBoostingClassifier</span></a><span class=\"sk-estimator-doc-link fitted\">i<span>Fitted</span></span></div></label><div class=\"sk-toggleable__content fitted\"><pre>GradientBoostingClassifier(n_estimators=600, random_state=50)</pre></div> </div></div></div></div>"
      ],
      "text/plain": [
       "GradientBoostingClassifier(n_estimators=600, random_state=50)"
      ]
     },
     "execution_count": 35,
     "metadata": {},
     "output_type": "execute_result"
    }
   ],
   "source": [
    "from sklearn.ensemble import GradientBoostingClassifier\n",
    "from sklearn.metrics import classification_report\n",
    "\n",
    "# Træn modellen direkte\n",
    "model = GradientBoostingClassifier(n_estimators=600,random_state=50)\n",
    "model.fit(CountVector.transform(Training_Data['X'][:10000]), Training_Data['Y'][:10000])"
   ]
  },
  {
   "cell_type": "code",
   "execution_count": 39,
   "metadata": {},
   "outputs": [
    {
     "name": "stdout",
     "output_type": "stream",
     "text": [
      "              precision    recall  f1-score   support\n",
      "\n",
      "        fake       0.80      0.83      0.81     62165\n",
      "    reliable       0.84      0.81      0.82     67838\n",
      "\n",
      "    accuracy                           0.82    130003\n",
      "   macro avg       0.82      0.82      0.82    130003\n",
      "weighted avg       0.82      0.82      0.82    130003\n",
      "\n"
     ]
    }
   ],
   "source": [
    "# Forudsig og evaluer\n",
    "y_pred = model.predict(CountVector.transform(Test_Data['X']))\n",
    "print(classification_report(Test_Data['Y'], y_pred))"
   ]
  },
  {
   "cell_type": "code",
   "execution_count": 20,
   "metadata": {},
   "outputs": [
    {
     "name": "stdout",
     "output_type": "stream",
     "text": [
      "              precision    recall  f1-score   support\n",
      "\n",
      "        fake       0.78      0.80      0.79      1962\n",
      "    reliable       0.81      0.78      0.79      2038\n",
      "\n",
      "    accuracy                           0.79      4000\n",
      "   macro avg       0.79      0.79      0.79      4000\n",
      "weighted avg       0.79      0.79      0.79      4000\n",
      "\n"
     ]
    }
   ],
   "source": [
    "# Split data i træning og test\n",
    "X_train, X_test, y_train, y_test = train_test_split(CountVector.transform(Training_Data['X'][:20000]), Training_Data['Y'][:20000], test_size=0.2, random_state=42)\n",
    "\n",
    "# Træn Gradient Boosting-model\n",
    "model = GradientBoostingClassifier(random_state=42)\n",
    "model.fit(X_train, y_train)\n",
    "\n",
    "# Forudsig og evaluer på testdata\n",
    "y_pred = model.predict(X_test)\n",
    "print(classification_report(y_test, y_pred))"
   ]
  },
  {
   "cell_type": "code",
   "execution_count": null,
   "metadata": {},
   "outputs": [
    {
     "name": "stdout",
     "output_type": "stream",
     "text": [
      "Antal udvalgte features: 283\n",
      "Antal udvalgte features: 283\n"
     ]
    }
   ],
   "source": [
    "from sklearn.ensemble import GradientBoostingClassifier\n",
    "from sklearn.feature_selection import SelectFromModel\n",
    "from sklearn.model_selection import train_test_split\n",
    "\n",
    "# Træn en Gradient Boosting model\n",
    "gb_model = GradientBoostingClassifier(random_state=42)\n",
    "gb_model.fit(CountVector.transform(Training_Data['X'][:10000]), Training_Data['Y'][:10000])\n",
    "\n",
    "# Brug SelectFromModel til at vælge features baseret på importance\n",
    "selector = SelectFromModel(gb_model, prefit=True, threshold=\"mean\")\n",
    "X_train_selected = selector.transform(X_train)\n",
    "X_test_selected = selector.transform(X_test)\n",
    "\n",
    "print(f\"Antal udvalgte features: {X_train_selected.shape[1]}\")\n",
    "print(f\"Antal udvalgte features: {X_test_selected.shape[1]}\")"
   ]
  },
  {
   "cell_type": "code",
   "execution_count": null,
   "metadata": {},
   "outputs": [
    {
     "name": "stdout",
     "output_type": "stream",
     "text": [
      "Antal udvalgte features: 287\n",
      "Antal udvalgte features: 287\n"
     ]
    }
   ],
   "source": [
    "from sklearn.ensemble import GradientBoostingClassifier\n",
    "from sklearn.feature_selection import SelectFromModel\n",
    "from sklearn.model_selection import train_test_split\n",
    "\n",
    "# Eksempeldata\n",
    "X_train, X_test, y_train, y_test = train_test_split(CountVector.transform(Training_Data['X'][:10000]), Training_Data['Y'][:10000], test_size=0.2, random_state=42)\n",
    "\n",
    "# Træn en Gradient Boosting model\n",
    "gb_model = GradientBoostingClassifier(random_state=42)\n",
    "gb_model.fit(X_train, y_train)\n",
    "\n",
    "# Brug SelectFromModel til at vælge features baseret på importance\n",
    "selector = SelectFromModel(gb_model, prefit=True, threshold=\"mean\")\n",
    "X_train_selected = selector.transform(X_train)\n",
    "X_test_selected = selector.transform(X_test)\n",
    "\n",
    "print(f\"Antal udvalgte features: {X_train_selected.shape[1]}\")\n",
    "print(f\"Antal udvalgte features: {X_test_selected.shape[1]}\")\n"
   ]
  },
  {
   "cell_type": "code",
   "execution_count": 9,
   "metadata": {},
   "outputs": [
    {
     "ename": "ValueError",
     "evalue": "could not convert string to float: \"['us', 'reward', 'inform', 'daesh', 'leader', 'ibrahim', 'ali', 'abu', 'bakr', 'al', 'baghdadi', 'increas', '<CUR>', '<NUM>', 'million', '<CUR>', '<NUM>', 'million', 'depart', 'state', 'said', 'releas', 'friday', 'washington', 'sputnik', 'releas', 'note', 'daesh', 'terrorist', 'group', 'name', 'al', 'baghdadi', 'caliph', 'declar', 'call', 'islam', 'caliph', '<DATE>', 'take', 'part', 'iraq', 'syria', 'today', 'u', 'depart', 'state', 'reward', 'justic', 'program', 'increas', '<CUR>', '<NUM>', 'million', 'reward', 'offer', 'inform', 'lead', 'locat', 'arrest', 'convict', 'islam', 'state', 'iraq', 'levant', 'isil', 'daesh', 'leader', 'abu', 'bakr', 'al', 'baghdadi', 'also', 'known', 'ibrahim', 'awwad', 'ibrahim', 'ali', 'al', 'badri', 'also', 'known', 'abu', 'du', 'releas', 'state', 'al', 'baghdadi', 'daesh', 'respons', 'thousand', 'civilian', 'death', 'middl', 'east', 'includ', 'death', 'civilian', 'hostag', 'unit', 'state', 'unit', 'kingdom', 'japan', 'releas', 'ad']\"",
     "output_type": "error",
     "traceback": [
      "\u001b[1;31m---------------------------------------------------------------------------\u001b[0m",
      "\u001b[1;31mValueError\u001b[0m                                Traceback (most recent call last)",
      "Cell \u001b[1;32mIn[9], line 6\u001b[0m\n\u001b[0;32m      4\u001b[0m \u001b[38;5;66;03m# Træn en Gradient Boosting model\u001b[39;00m\n\u001b[0;32m      5\u001b[0m gb_model \u001b[38;5;241m=\u001b[39m GradientBoostingClassifier(random_state\u001b[38;5;241m=\u001b[39m\u001b[38;5;241m50\u001b[39m)\n\u001b[1;32m----> 6\u001b[0m \u001b[43mgb_model\u001b[49m\u001b[38;5;241;43m.\u001b[39;49m\u001b[43mfit\u001b[49m\u001b[43m(\u001b[49m\u001b[43mTraining_Data\u001b[49m\u001b[43m[\u001b[49m\u001b[38;5;124;43m'\u001b[39;49m\u001b[38;5;124;43mX\u001b[39;49m\u001b[38;5;124;43m'\u001b[39;49m\u001b[43m]\u001b[49m\u001b[43m[\u001b[49m\u001b[43m:\u001b[49m\u001b[38;5;241;43m1000\u001b[39;49m\u001b[43m]\u001b[49m\u001b[43m,\u001b[49m\u001b[43m \u001b[49m\u001b[43mTraining_Data\u001b[49m\u001b[43m[\u001b[49m\u001b[38;5;124;43m'\u001b[39;49m\u001b[38;5;124;43mY\u001b[39;49m\u001b[38;5;124;43m'\u001b[39;49m\u001b[43m]\u001b[49m\u001b[43m[\u001b[49m\u001b[43m:\u001b[49m\u001b[38;5;241;43m1000\u001b[39;49m\u001b[43m]\u001b[49m\u001b[43m)\u001b[49m\n\u001b[0;32m      8\u001b[0m \u001b[38;5;66;03m# Brug SelectFromModel til at vælge features baseret på importance\u001b[39;00m\n\u001b[0;32m      9\u001b[0m selector \u001b[38;5;241m=\u001b[39m SelectFromModel(gb_model, prefit\u001b[38;5;241m=\u001b[39m\u001b[38;5;28;01mTrue\u001b[39;00m, threshold\u001b[38;5;241m=\u001b[39m\u001b[38;5;124m\"\u001b[39m\u001b[38;5;124mmean\u001b[39m\u001b[38;5;124m\"\u001b[39m)\n",
      "File \u001b[1;32m~\\AppData\\Roaming\\Python\\Python312\\site-packages\\sklearn\\base.py:1389\u001b[0m, in \u001b[0;36m_fit_context.<locals>.decorator.<locals>.wrapper\u001b[1;34m(estimator, *args, **kwargs)\u001b[0m\n\u001b[0;32m   1382\u001b[0m     estimator\u001b[38;5;241m.\u001b[39m_validate_params()\n\u001b[0;32m   1384\u001b[0m \u001b[38;5;28;01mwith\u001b[39;00m config_context(\n\u001b[0;32m   1385\u001b[0m     skip_parameter_validation\u001b[38;5;241m=\u001b[39m(\n\u001b[0;32m   1386\u001b[0m         prefer_skip_nested_validation \u001b[38;5;129;01mor\u001b[39;00m global_skip_validation\n\u001b[0;32m   1387\u001b[0m     )\n\u001b[0;32m   1388\u001b[0m ):\n\u001b[1;32m-> 1389\u001b[0m     \u001b[38;5;28;01mreturn\u001b[39;00m \u001b[43mfit_method\u001b[49m\u001b[43m(\u001b[49m\u001b[43mestimator\u001b[49m\u001b[43m,\u001b[49m\u001b[43m \u001b[49m\u001b[38;5;241;43m*\u001b[39;49m\u001b[43margs\u001b[49m\u001b[43m,\u001b[49m\u001b[43m \u001b[49m\u001b[38;5;241;43m*\u001b[39;49m\u001b[38;5;241;43m*\u001b[39;49m\u001b[43mkwargs\u001b[49m\u001b[43m)\u001b[49m\n",
      "File \u001b[1;32m~\\AppData\\Roaming\\Python\\Python312\\site-packages\\sklearn\\ensemble\\_gb.py:658\u001b[0m, in \u001b[0;36mBaseGradientBoosting.fit\u001b[1;34m(self, X, y, sample_weight, monitor)\u001b[0m\n\u001b[0;32m    652\u001b[0m     \u001b[38;5;28mself\u001b[39m\u001b[38;5;241m.\u001b[39m_clear_state()\n\u001b[0;32m    654\u001b[0m \u001b[38;5;66;03m# Check input\u001b[39;00m\n\u001b[0;32m    655\u001b[0m \u001b[38;5;66;03m# Since check_array converts both X and y to the same dtype, but the\u001b[39;00m\n\u001b[0;32m    656\u001b[0m \u001b[38;5;66;03m# trees use different types for X and y, checking them separately.\u001b[39;00m\n\u001b[1;32m--> 658\u001b[0m X, y \u001b[38;5;241m=\u001b[39m \u001b[43mvalidate_data\u001b[49m\u001b[43m(\u001b[49m\n\u001b[0;32m    659\u001b[0m \u001b[43m    \u001b[49m\u001b[38;5;28;43mself\u001b[39;49m\u001b[43m,\u001b[49m\n\u001b[0;32m    660\u001b[0m \u001b[43m    \u001b[49m\u001b[43mX\u001b[49m\u001b[43m,\u001b[49m\n\u001b[0;32m    661\u001b[0m \u001b[43m    \u001b[49m\u001b[43my\u001b[49m\u001b[43m,\u001b[49m\n\u001b[0;32m    662\u001b[0m \u001b[43m    \u001b[49m\u001b[43maccept_sparse\u001b[49m\u001b[38;5;241;43m=\u001b[39;49m\u001b[43m[\u001b[49m\u001b[38;5;124;43m\"\u001b[39;49m\u001b[38;5;124;43mcsr\u001b[39;49m\u001b[38;5;124;43m\"\u001b[39;49m\u001b[43m,\u001b[49m\u001b[43m \u001b[49m\u001b[38;5;124;43m\"\u001b[39;49m\u001b[38;5;124;43mcsc\u001b[39;49m\u001b[38;5;124;43m\"\u001b[39;49m\u001b[43m,\u001b[49m\u001b[43m \u001b[49m\u001b[38;5;124;43m\"\u001b[39;49m\u001b[38;5;124;43mcoo\u001b[39;49m\u001b[38;5;124;43m\"\u001b[39;49m\u001b[43m]\u001b[49m\u001b[43m,\u001b[49m\n\u001b[0;32m    663\u001b[0m \u001b[43m    \u001b[49m\u001b[43mdtype\u001b[49m\u001b[38;5;241;43m=\u001b[39;49m\u001b[43mDTYPE\u001b[49m\u001b[43m,\u001b[49m\n\u001b[0;32m    664\u001b[0m \u001b[43m    \u001b[49m\u001b[43mmulti_output\u001b[49m\u001b[38;5;241;43m=\u001b[39;49m\u001b[38;5;28;43;01mTrue\u001b[39;49;00m\u001b[43m,\u001b[49m\n\u001b[0;32m    665\u001b[0m \u001b[43m\u001b[49m\u001b[43m)\u001b[49m\n\u001b[0;32m    666\u001b[0m sample_weight_is_none \u001b[38;5;241m=\u001b[39m sample_weight \u001b[38;5;129;01mis\u001b[39;00m \u001b[38;5;28;01mNone\u001b[39;00m\n\u001b[0;32m    667\u001b[0m sample_weight \u001b[38;5;241m=\u001b[39m _check_sample_weight(sample_weight, X)\n",
      "File \u001b[1;32m~\\AppData\\Roaming\\Python\\Python312\\site-packages\\sklearn\\utils\\validation.py:2961\u001b[0m, in \u001b[0;36mvalidate_data\u001b[1;34m(_estimator, X, y, reset, validate_separately, skip_check_array, **check_params)\u001b[0m\n\u001b[0;32m   2959\u001b[0m         y \u001b[38;5;241m=\u001b[39m check_array(y, input_name\u001b[38;5;241m=\u001b[39m\u001b[38;5;124m\"\u001b[39m\u001b[38;5;124my\u001b[39m\u001b[38;5;124m\"\u001b[39m, \u001b[38;5;241m*\u001b[39m\u001b[38;5;241m*\u001b[39mcheck_y_params)\n\u001b[0;32m   2960\u001b[0m     \u001b[38;5;28;01melse\u001b[39;00m:\n\u001b[1;32m-> 2961\u001b[0m         X, y \u001b[38;5;241m=\u001b[39m \u001b[43mcheck_X_y\u001b[49m\u001b[43m(\u001b[49m\u001b[43mX\u001b[49m\u001b[43m,\u001b[49m\u001b[43m \u001b[49m\u001b[43my\u001b[49m\u001b[43m,\u001b[49m\u001b[43m \u001b[49m\u001b[38;5;241;43m*\u001b[39;49m\u001b[38;5;241;43m*\u001b[39;49m\u001b[43mcheck_params\u001b[49m\u001b[43m)\u001b[49m\n\u001b[0;32m   2962\u001b[0m     out \u001b[38;5;241m=\u001b[39m X, y\n\u001b[0;32m   2964\u001b[0m \u001b[38;5;28;01mif\u001b[39;00m \u001b[38;5;129;01mnot\u001b[39;00m no_val_X \u001b[38;5;129;01mand\u001b[39;00m check_params\u001b[38;5;241m.\u001b[39mget(\u001b[38;5;124m\"\u001b[39m\u001b[38;5;124mensure_2d\u001b[39m\u001b[38;5;124m\"\u001b[39m, \u001b[38;5;28;01mTrue\u001b[39;00m):\n",
      "File \u001b[1;32m~\\AppData\\Roaming\\Python\\Python312\\site-packages\\sklearn\\utils\\validation.py:1370\u001b[0m, in \u001b[0;36mcheck_X_y\u001b[1;34m(X, y, accept_sparse, accept_large_sparse, dtype, order, copy, force_writeable, force_all_finite, ensure_all_finite, ensure_2d, allow_nd, multi_output, ensure_min_samples, ensure_min_features, y_numeric, estimator)\u001b[0m\n\u001b[0;32m   1364\u001b[0m     \u001b[38;5;28;01mraise\u001b[39;00m \u001b[38;5;167;01mValueError\u001b[39;00m(\n\u001b[0;32m   1365\u001b[0m         \u001b[38;5;124mf\u001b[39m\u001b[38;5;124m\"\u001b[39m\u001b[38;5;132;01m{\u001b[39;00mestimator_name\u001b[38;5;132;01m}\u001b[39;00m\u001b[38;5;124m requires y to be passed, but the target y is None\u001b[39m\u001b[38;5;124m\"\u001b[39m\n\u001b[0;32m   1366\u001b[0m     )\n\u001b[0;32m   1368\u001b[0m ensure_all_finite \u001b[38;5;241m=\u001b[39m _deprecate_force_all_finite(force_all_finite, ensure_all_finite)\n\u001b[1;32m-> 1370\u001b[0m X \u001b[38;5;241m=\u001b[39m \u001b[43mcheck_array\u001b[49m\u001b[43m(\u001b[49m\n\u001b[0;32m   1371\u001b[0m \u001b[43m    \u001b[49m\u001b[43mX\u001b[49m\u001b[43m,\u001b[49m\n\u001b[0;32m   1372\u001b[0m \u001b[43m    \u001b[49m\u001b[43maccept_sparse\u001b[49m\u001b[38;5;241;43m=\u001b[39;49m\u001b[43maccept_sparse\u001b[49m\u001b[43m,\u001b[49m\n\u001b[0;32m   1373\u001b[0m \u001b[43m    \u001b[49m\u001b[43maccept_large_sparse\u001b[49m\u001b[38;5;241;43m=\u001b[39;49m\u001b[43maccept_large_sparse\u001b[49m\u001b[43m,\u001b[49m\n\u001b[0;32m   1374\u001b[0m \u001b[43m    \u001b[49m\u001b[43mdtype\u001b[49m\u001b[38;5;241;43m=\u001b[39;49m\u001b[43mdtype\u001b[49m\u001b[43m,\u001b[49m\n\u001b[0;32m   1375\u001b[0m \u001b[43m    \u001b[49m\u001b[43morder\u001b[49m\u001b[38;5;241;43m=\u001b[39;49m\u001b[43morder\u001b[49m\u001b[43m,\u001b[49m\n\u001b[0;32m   1376\u001b[0m \u001b[43m    \u001b[49m\u001b[43mcopy\u001b[49m\u001b[38;5;241;43m=\u001b[39;49m\u001b[43mcopy\u001b[49m\u001b[43m,\u001b[49m\n\u001b[0;32m   1377\u001b[0m \u001b[43m    \u001b[49m\u001b[43mforce_writeable\u001b[49m\u001b[38;5;241;43m=\u001b[39;49m\u001b[43mforce_writeable\u001b[49m\u001b[43m,\u001b[49m\n\u001b[0;32m   1378\u001b[0m \u001b[43m    \u001b[49m\u001b[43mensure_all_finite\u001b[49m\u001b[38;5;241;43m=\u001b[39;49m\u001b[43mensure_all_finite\u001b[49m\u001b[43m,\u001b[49m\n\u001b[0;32m   1379\u001b[0m \u001b[43m    \u001b[49m\u001b[43mensure_2d\u001b[49m\u001b[38;5;241;43m=\u001b[39;49m\u001b[43mensure_2d\u001b[49m\u001b[43m,\u001b[49m\n\u001b[0;32m   1380\u001b[0m \u001b[43m    \u001b[49m\u001b[43mallow_nd\u001b[49m\u001b[38;5;241;43m=\u001b[39;49m\u001b[43mallow_nd\u001b[49m\u001b[43m,\u001b[49m\n\u001b[0;32m   1381\u001b[0m \u001b[43m    \u001b[49m\u001b[43mensure_min_samples\u001b[49m\u001b[38;5;241;43m=\u001b[39;49m\u001b[43mensure_min_samples\u001b[49m\u001b[43m,\u001b[49m\n\u001b[0;32m   1382\u001b[0m \u001b[43m    \u001b[49m\u001b[43mensure_min_features\u001b[49m\u001b[38;5;241;43m=\u001b[39;49m\u001b[43mensure_min_features\u001b[49m\u001b[43m,\u001b[49m\n\u001b[0;32m   1383\u001b[0m \u001b[43m    \u001b[49m\u001b[43mestimator\u001b[49m\u001b[38;5;241;43m=\u001b[39;49m\u001b[43mestimator\u001b[49m\u001b[43m,\u001b[49m\n\u001b[0;32m   1384\u001b[0m \u001b[43m    \u001b[49m\u001b[43minput_name\u001b[49m\u001b[38;5;241;43m=\u001b[39;49m\u001b[38;5;124;43m\"\u001b[39;49m\u001b[38;5;124;43mX\u001b[39;49m\u001b[38;5;124;43m\"\u001b[39;49m\u001b[43m,\u001b[49m\n\u001b[0;32m   1385\u001b[0m \u001b[43m\u001b[49m\u001b[43m)\u001b[49m\n\u001b[0;32m   1387\u001b[0m y \u001b[38;5;241m=\u001b[39m _check_y(y, multi_output\u001b[38;5;241m=\u001b[39mmulti_output, y_numeric\u001b[38;5;241m=\u001b[39my_numeric, estimator\u001b[38;5;241m=\u001b[39mestimator)\n\u001b[0;32m   1389\u001b[0m check_consistent_length(X, y)\n",
      "File \u001b[1;32m~\\AppData\\Roaming\\Python\\Python312\\site-packages\\sklearn\\utils\\validation.py:1055\u001b[0m, in \u001b[0;36mcheck_array\u001b[1;34m(array, accept_sparse, accept_large_sparse, dtype, order, copy, force_writeable, force_all_finite, ensure_all_finite, ensure_non_negative, ensure_2d, allow_nd, ensure_min_samples, ensure_min_features, estimator, input_name)\u001b[0m\n\u001b[0;32m   1053\u001b[0m         array \u001b[38;5;241m=\u001b[39m xp\u001b[38;5;241m.\u001b[39mastype(array, dtype, copy\u001b[38;5;241m=\u001b[39m\u001b[38;5;28;01mFalse\u001b[39;00m)\n\u001b[0;32m   1054\u001b[0m     \u001b[38;5;28;01melse\u001b[39;00m:\n\u001b[1;32m-> 1055\u001b[0m         array \u001b[38;5;241m=\u001b[39m \u001b[43m_asarray_with_order\u001b[49m\u001b[43m(\u001b[49m\u001b[43marray\u001b[49m\u001b[43m,\u001b[49m\u001b[43m \u001b[49m\u001b[43morder\u001b[49m\u001b[38;5;241;43m=\u001b[39;49m\u001b[43morder\u001b[49m\u001b[43m,\u001b[49m\u001b[43m \u001b[49m\u001b[43mdtype\u001b[49m\u001b[38;5;241;43m=\u001b[39;49m\u001b[43mdtype\u001b[49m\u001b[43m,\u001b[49m\u001b[43m \u001b[49m\u001b[43mxp\u001b[49m\u001b[38;5;241;43m=\u001b[39;49m\u001b[43mxp\u001b[49m\u001b[43m)\u001b[49m\n\u001b[0;32m   1056\u001b[0m \u001b[38;5;28;01mexcept\u001b[39;00m ComplexWarning \u001b[38;5;28;01mas\u001b[39;00m complex_warning:\n\u001b[0;32m   1057\u001b[0m     \u001b[38;5;28;01mraise\u001b[39;00m \u001b[38;5;167;01mValueError\u001b[39;00m(\n\u001b[0;32m   1058\u001b[0m         \u001b[38;5;124m\"\u001b[39m\u001b[38;5;124mComplex data not supported\u001b[39m\u001b[38;5;130;01m\\n\u001b[39;00m\u001b[38;5;132;01m{}\u001b[39;00m\u001b[38;5;130;01m\\n\u001b[39;00m\u001b[38;5;124m\"\u001b[39m\u001b[38;5;241m.\u001b[39mformat(array)\n\u001b[0;32m   1059\u001b[0m     ) \u001b[38;5;28;01mfrom\u001b[39;00m\u001b[38;5;250m \u001b[39m\u001b[38;5;21;01mcomplex_warning\u001b[39;00m\n",
      "File \u001b[1;32m~\\AppData\\Roaming\\Python\\Python312\\site-packages\\sklearn\\utils\\_array_api.py:839\u001b[0m, in \u001b[0;36m_asarray_with_order\u001b[1;34m(array, dtype, order, copy, xp, device)\u001b[0m\n\u001b[0;32m    837\u001b[0m     array \u001b[38;5;241m=\u001b[39m numpy\u001b[38;5;241m.\u001b[39marray(array, order\u001b[38;5;241m=\u001b[39morder, dtype\u001b[38;5;241m=\u001b[39mdtype)\n\u001b[0;32m    838\u001b[0m \u001b[38;5;28;01melse\u001b[39;00m:\n\u001b[1;32m--> 839\u001b[0m     array \u001b[38;5;241m=\u001b[39m \u001b[43mnumpy\u001b[49m\u001b[38;5;241;43m.\u001b[39;49m\u001b[43masarray\u001b[49m\u001b[43m(\u001b[49m\u001b[43marray\u001b[49m\u001b[43m,\u001b[49m\u001b[43m \u001b[49m\u001b[43morder\u001b[49m\u001b[38;5;241;43m=\u001b[39;49m\u001b[43morder\u001b[49m\u001b[43m,\u001b[49m\u001b[43m \u001b[49m\u001b[43mdtype\u001b[49m\u001b[38;5;241;43m=\u001b[39;49m\u001b[43mdtype\u001b[49m\u001b[43m)\u001b[49m\n\u001b[0;32m    841\u001b[0m \u001b[38;5;66;03m# At this point array is a NumPy ndarray. We convert it to an array\u001b[39;00m\n\u001b[0;32m    842\u001b[0m \u001b[38;5;66;03m# container that is consistent with the input's namespace.\u001b[39;00m\n\u001b[0;32m    843\u001b[0m \u001b[38;5;28;01mreturn\u001b[39;00m xp\u001b[38;5;241m.\u001b[39masarray(array)\n",
      "File \u001b[1;32m~\\AppData\\Roaming\\Python\\Python312\\site-packages\\pandas\\core\\series.py:1031\u001b[0m, in \u001b[0;36mSeries.__array__\u001b[1;34m(self, dtype, copy)\u001b[0m\n\u001b[0;32m    981\u001b[0m \u001b[38;5;250m\u001b[39m\u001b[38;5;124;03m\"\"\"\u001b[39;00m\n\u001b[0;32m    982\u001b[0m \u001b[38;5;124;03mReturn the values as a NumPy array.\u001b[39;00m\n\u001b[0;32m    983\u001b[0m \n\u001b[1;32m   (...)\u001b[0m\n\u001b[0;32m   1028\u001b[0m \u001b[38;5;124;03m      dtype='datetime64[ns]')\u001b[39;00m\n\u001b[0;32m   1029\u001b[0m \u001b[38;5;124;03m\"\"\"\u001b[39;00m\n\u001b[0;32m   1030\u001b[0m values \u001b[38;5;241m=\u001b[39m \u001b[38;5;28mself\u001b[39m\u001b[38;5;241m.\u001b[39m_values\n\u001b[1;32m-> 1031\u001b[0m arr \u001b[38;5;241m=\u001b[39m \u001b[43mnp\u001b[49m\u001b[38;5;241;43m.\u001b[39;49m\u001b[43masarray\u001b[49m\u001b[43m(\u001b[49m\u001b[43mvalues\u001b[49m\u001b[43m,\u001b[49m\u001b[43m \u001b[49m\u001b[43mdtype\u001b[49m\u001b[38;5;241;43m=\u001b[39;49m\u001b[43mdtype\u001b[49m\u001b[43m)\u001b[49m\n\u001b[0;32m   1032\u001b[0m \u001b[38;5;28;01mif\u001b[39;00m using_copy_on_write() \u001b[38;5;129;01mand\u001b[39;00m astype_is_view(values\u001b[38;5;241m.\u001b[39mdtype, arr\u001b[38;5;241m.\u001b[39mdtype):\n\u001b[0;32m   1033\u001b[0m     arr \u001b[38;5;241m=\u001b[39m arr\u001b[38;5;241m.\u001b[39mview()\n",
      "\u001b[1;31mValueError\u001b[0m: could not convert string to float: \"['us', 'reward', 'inform', 'daesh', 'leader', 'ibrahim', 'ali', 'abu', 'bakr', 'al', 'baghdadi', 'increas', '<CUR>', '<NUM>', 'million', '<CUR>', '<NUM>', 'million', 'depart', 'state', 'said', 'releas', 'friday', 'washington', 'sputnik', 'releas', 'note', 'daesh', 'terrorist', 'group', 'name', 'al', 'baghdadi', 'caliph', 'declar', 'call', 'islam', 'caliph', '<DATE>', 'take', 'part', 'iraq', 'syria', 'today', 'u', 'depart', 'state', 'reward', 'justic', 'program', 'increas', '<CUR>', '<NUM>', 'million', 'reward', 'offer', 'inform', 'lead', 'locat', 'arrest', 'convict', 'islam', 'state', 'iraq', 'levant', 'isil', 'daesh', 'leader', 'abu', 'bakr', 'al', 'baghdadi', 'also', 'known', 'ibrahim', 'awwad', 'ibrahim', 'ali', 'al', 'badri', 'also', 'known', 'abu', 'du', 'releas', 'state', 'al', 'baghdadi', 'daesh', 'respons', 'thousand', 'civilian', 'death', 'middl', 'east', 'includ', 'death', 'civilian', 'hostag', 'unit', 'state', 'unit', 'kingdom', 'japan', 'releas', 'ad']\""
     ]
    }
   ],
   "source": [
    "from sklearn.ensemble import GradientBoostingClassifier\n",
    "from sklearn.feature_selection import SelectFromModel\n",
    "\n",
    "# Træn en Gradient Boosting model\n",
    "gb_model = GradientBoostingClassifier(random_state=50)\n",
    "gb_model.fit(Training_Data['X'][:1000], Training_Data['Y'][:1000])\n",
    "\n",
    "# Brug SelectFromModel til at vælge features baseret på importance\n",
    "selector = SelectFromModel(gb_model, prefit=True, threshold=\"mean\")\n",
    "X_train_selected = selector.transform(Training_Data['X'][:1000])\n",
    "X_test_selected = selector.transform(Test_Data['X'][:1000])\n",
    "\n",
    "print(f\"Antal udvalgte features: {X_train_selected.shape[1]}\")\n"
   ]
  },
  {
   "cell_type": "markdown",
   "metadata": {},
   "source": [
    "## SVM Model"
   ]
  },
  {
   "cell_type": "code",
   "execution_count": 49,
   "metadata": {},
   "outputs": [],
   "source": [
    "vectorizer = CountVectorizer(\n",
    "    analyzer='word', \n",
    "    ngram_range=(1, 1), \n",
    "    binary=True, \n",
    "    max_features=10_000).fit(Training_Data['X'])"
   ]
  },
  {
   "cell_type": "code",
   "execution_count": 86,
   "metadata": {},
   "outputs": [
    {
     "name": "stdout",
     "output_type": "stream",
     "text": [
      "              precision    recall  f1-score   support\n",
      "\n",
      "        fake       0.76      0.78      0.77      2277\n",
      "    reliable       0.82      0.80      0.81      2723\n",
      "\n",
      "    accuracy                           0.79      5000\n",
      "   macro avg       0.79      0.79      0.79      5000\n",
      "weighted avg       0.79      0.79      0.79      5000\n",
      "\n"
     ]
    }
   ],
   "source": [
    "from sklearn.svm import SVC\n",
    "from sklearn.metrics import classification_report\n",
    "\n",
    "# Opret og træn SVM-modellen\n",
    "svm_model = SVC(kernel='linear')  # 'linear' eller 'rbf' afhængigt af dine data\n",
    "svm_model.fit(\n",
    "    vectorizer.transform(Training_Data['X'][:5000]), \n",
    "    Training_Data['Y'][:5000])\n",
    "\n",
    "# Evaluer modellen\n",
    "y_pred = svm_model.predict(vectorizer.transform(Test_Data['X'][:5000]))\n",
    "print(classification_report(Test_Data['Y'][:5000], y_pred))"
   ]
  },
  {
   "cell_type": "code",
   "execution_count": 88,
   "metadata": {},
   "outputs": [
    {
     "ename": "",
     "evalue": "",
     "output_type": "error",
     "traceback": [
      "\u001b[1;31mCannot execute code, session has been disposed. Please try restarting the Kernel."
     ]
    },
    {
     "ename": "",
     "evalue": "",
     "output_type": "error",
     "traceback": [
      "\u001b[1;31mCannot execute code, session has been disposed. Please try restarting the Kernel. \n",
      "\u001b[1;31mView Jupyter <a href='command:jupyter.viewOutput'>log</a> for further details."
     ]
    }
   ],
   "source": [
    "from sklearn.svm import SVC\n",
    "from sklearn.metrics import classification_report\n",
    "\n",
    "# Opret og træn SVM-modellen\n",
    "svm_model = SVC(kernel='linear')  # 'linear' eller 'rbf' afhængigt af dine data\n",
    "svm_model.fit(\n",
    "    vectorizer.transform(Training_Data['X']), \n",
    "    Training_Data['Y'])\n",
    "\n",
    "# Evaluer modellen\n",
    "y_pred = svm_model.predict(vectorizer.transform(Test_Data['X']))\n",
    "print(classification_report(Test_Data['Y'], y_pred))"
   ]
  },
  {
   "cell_type": "code",
   "execution_count": 66,
   "metadata": {},
   "outputs": [
    {
     "name": "stdout",
     "output_type": "stream",
     "text": [
      "              precision    recall  f1-score   support\n",
      "\n",
      "        fake       0.75      0.77      0.76      2277\n",
      "    reliable       0.81      0.79      0.80      2723\n",
      "\n",
      "    accuracy                           0.78      5000\n",
      "   macro avg       0.78      0.78      0.78      5000\n",
      "weighted avg       0.78      0.78      0.78      5000\n",
      "\n"
     ]
    }
   ],
   "source": [
    "from sklearn.svm import SVC\n",
    "from sklearn.metrics import classification_report\n",
    "\n",
    "# Opret og træn SVM-modellen\n",
    "svm_model = SVC(kernel='rbf',C=2)  # 'linear' eller 'rbf' afhængigt af dine data\n",
    "svm_model.fit(\n",
    "    vectorizer.transform(Training_Data['X'][:5000]), \n",
    "    Training_Data['Y'][:5000])\n",
    "\n",
    "# Evaluer modellen\n",
    "y_pred = svm_model.predict(vectorizer.transform(Test_Data['X'][:5000]))\n",
    "print(classification_report(Test_Data['Y'][:5000], y_pred))"
   ]
  },
  {
   "cell_type": "code",
   "execution_count": null,
   "metadata": {},
   "outputs": [],
   "source": [
    "from sklearn.svm import SVC\n",
    "from sklearn.metrics import classification_report\n",
    "\n",
    "# Opret og træn SVM-modellen\n",
    "svm_model = SVC(kernel='rbf',C=2)  # 'linear' eller 'rbf' afhængigt af dine data\n",
    "svm_model.fit(\n",
    "    vectorizer.transform(Training_Data['X']), \n",
    "    Training_Data['Y'])\n",
    "\n",
    "# Evaluer modellen\n",
    "y_pred = svm_model.predict(vectorizer.transform(Test_Data['X']))\n",
    "print(classification_report(Test_Data['Y'], y_pred))"
   ]
  },
  {
   "cell_type": "code",
   "execution_count": 79,
   "metadata": {},
   "outputs": [
    {
     "name": "stdout",
     "output_type": "stream",
     "text": [
      "              precision    recall  f1-score   support\n",
      "\n",
      "        fake       0.77      0.79      0.78      2277\n",
      "    reliable       0.82      0.81      0.81      2723\n",
      "\n",
      "    accuracy                           0.80      5000\n",
      "   macro avg       0.80      0.80      0.80      5000\n",
      "weighted avg       0.80      0.80      0.80      5000\n",
      "\n"
     ]
    }
   ],
   "source": [
    "vectorizer = TfidfVectorizer(\n",
    "    analyzer='word', \n",
    "    ngram_range=(1, 1), \n",
    "    binary=True, \n",
    "    max_features=10000).fit(Training_Data['X'])\n",
    "\n",
    "# Opret og træn SVM-modellen\n",
    "svm_model = SVC(kernel='rbf',C=2)  # 'linear' eller 'rbf' afhængigt af dine data\n",
    "svm_model.fit(\n",
    "    vectorizer.transform(Training_Data['X'][:5000]), \n",
    "    Training_Data['Y'][:5000])\n",
    "\n",
    "# Evaluer modellen\n",
    "y_pred = svm_model.predict(vectorizer.transform(Test_Data['X'][:5000]))\n",
    "print(classification_report(Test_Data['Y'][:5000], y_pred))"
   ]
  },
  {
   "cell_type": "code",
   "execution_count": null,
   "metadata": {},
   "outputs": [],
   "source": [
    "vectorizer = TfidfVectorizer(\n",
    "    analyzer='word', \n",
    "    ngram_range=(1, 1), \n",
    "    binary=True, \n",
    "    max_features=10000).fit(Training_Data['X'])\n",
    "\n",
    "# Opret og træn SVM-modellen\n",
    "svm_model = SVC(kernel='rbf',C=2)  # 'linear' eller 'rbf' afhængigt af dine data\n",
    "svm_model.fit(\n",
    "    vectorizer.transform(Training_Data['X']), \n",
    "    Training_Data['Y'])\n",
    "\n",
    "# Evaluer modellen\n",
    "y_pred = svm_model.predict(vectorizer.transform(Test_Data['X']))\n",
    "print(classification_report(Test_Data['Y'], y_pred))"
   ]
  },
  {
   "cell_type": "markdown",
   "metadata": {},
   "source": [
    "## Logistisk Regressions Model"
   ]
  },
  {
   "cell_type": "code",
   "execution_count": 28,
   "metadata": {},
   "outputs": [
    {
     "name": "stdout",
     "output_type": "stream",
     "text": [
      "[[-0.00332602  0.0097078  -0.06030206 ... -0.01712788 -0.03528295\n",
      "  -0.03188948]]\n",
      "              precision    recall  f1-score   support\n",
      "\n",
      "        fake       0.75      0.78      0.77      4736\n",
      "    reliable       0.80      0.77      0.78      5264\n",
      "\n",
      "    accuracy                           0.78     10000\n",
      "   macro avg       0.78      0.78      0.78     10000\n",
      "weighted avg       0.78      0.78      0.78     10000\n",
      "\n"
     ]
    }
   ],
   "source": [
    "from sklearn.linear_model import LogisticRegression\n",
    "\n",
    "model = LogisticRegression()\n",
    "model.fit(vectorizer.transform(Training_Data['X'][:5000]), Training_Data['Y'][:5000])\n",
    "feature_importances = model.coef_\n",
    "print(feature_importances)\n",
    "\n",
    "# Evaluer modellen\n",
    "y_pred = model.predict(vectorizer.transform(Test_Data['X'][:10000]))\n",
    "print(classification_report(Test_Data['Y'][:10000], y_pred))"
   ]
  },
  {
   "cell_type": "code",
   "execution_count": 31,
   "metadata": {},
   "outputs": [
    {
     "name": "stdout",
     "output_type": "stream",
     "text": [
      "              precision    recall  f1-score   support\n",
      "\n",
      "        fake       0.76      0.79      0.77      4736\n",
      "    reliable       0.80      0.77      0.79      5264\n",
      "\n",
      "    accuracy                           0.78     10000\n",
      "   macro avg       0.78      0.78      0.78     10000\n",
      "weighted avg       0.78      0.78      0.78     10000\n",
      "\n"
     ]
    }
   ],
   "source": [
    "from sklearn.linear_model import LogisticRegression\n",
    "\n",
    "# Opret og træn modellen\n",
    "log_reg_model = LogisticRegression(max_iter=10000)\n",
    "log_reg_model.fit(vectorizer.transform(Training_Data['X'][:5000]), Training_Data['Y'][:5000])\n",
    "\n",
    "# Evaluer modellen\n",
    "y_pred = log_reg_model.predict(vectorizer.transform(Test_Data['X'][:10000]))\n",
    "print(classification_report(Test_Data['Y'][:10000], y_pred))"
   ]
  },
  {
   "cell_type": "code",
   "execution_count": 71,
   "metadata": {},
   "outputs": [
    {
     "name": "stdout",
     "output_type": "stream",
     "text": [
      "              precision    recall  f1-score   support\n",
      "\n",
      "        fake       0.85      0.84      0.84      4728\n",
      "    reliable       0.85      0.86      0.86      5272\n",
      "\n",
      "    accuracy                           0.85     10000\n",
      "   macro avg       0.85      0.85      0.85     10000\n",
      "weighted avg       0.85      0.85      0.85     10000\n",
      "\n"
     ]
    }
   ],
   "source": [
    "from sklearn.linear_model import LogisticRegression\n",
    "\n",
    "# Opret og træn modellen\n",
    "log_reg_model = LogisticRegression(max_iter=10000)\n",
    "log_reg_model.fit(vectorizer.transform(Training_Data['X']), Training_Data['Y'])\n",
    "\n",
    "# Evaluer modellen\n",
    "y_pred = log_reg_model.predict(vectorizer.transform(Test_Data['X'][:10000]))\n",
    "print(classification_report(Test_Data['Y'][:10000], y_pred))"
   ]
  },
  {
   "cell_type": "code",
   "execution_count": 73,
   "metadata": {},
   "outputs": [
    {
     "name": "stdout",
     "output_type": "stream",
     "text": [
      "              precision    recall  f1-score   support\n",
      "\n",
      "        fake       0.84      0.84      0.84      4728\n",
      "    reliable       0.85      0.86      0.86      5272\n",
      "\n",
      "    accuracy                           0.85     10000\n",
      "   macro avg       0.85      0.85      0.85     10000\n",
      "weighted avg       0.85      0.85      0.85     10000\n",
      "\n"
     ]
    }
   ],
   "source": [
    "from sklearn.feature_extraction.text import TfidfVectorizer\n",
    "\n",
    "vectorizer = TfidfVectorizer(\n",
    "    analyzer='word', \n",
    "    ngram_range=(1, 1), \n",
    "    binary=True, \n",
    "    max_features=10000).fit(Training_Data['X'])\n",
    "\n",
    "\n",
    "# Opret og træn modellen\n",
    "log_reg_model = LogisticRegression(max_iter=10000)\n",
    "log_reg_model.fit(vectorizer.transform(Training_Data['X']), Training_Data['Y'])\n",
    "\n",
    "# Evaluer modellen\n",
    "y_pred = log_reg_model.predict(vectorizer.transform(Test_Data['X'][:10000]))\n",
    "print(classification_report(Test_Data['Y'][:10000], y_pred))"
   ]
  },
  {
   "cell_type": "code",
   "execution_count": 23,
   "metadata": {},
   "outputs": [
    {
     "data": {
      "text/plain": [
       "array(['aa', 'aaa', 'aap', ..., 'эту', 'является', 'яндекса'],\n",
       "      shape=(10000,), dtype=object)"
      ]
     },
     "execution_count": 23,
     "metadata": {},
     "output_type": "execute_result"
    }
   ],
   "source": [
    "from sklearn.feature_extraction.text import CountVectorizer\n",
    "from sklearn.model_selection import train_test_split\n",
    "\n",
    "# Eksempeldata\n",
    "tokens = dataset['cleaned content'][:5000]\n",
    "labels = dataset['type'][:5000]\n",
    "\n",
    "# Konverter tokens til numeriske features\n",
    "vectorizer = CountVectorizer(analyzer='word', ngram_range=(1, 1), binary=True, max_features=10000)\n",
    "X = vectorizer.fit_transform(tokens)\n",
    "\n",
    "# Opdel i trænings- og testdatasæt\n",
    "X_train, X_test, y_train, y_test = train_test_split(X, labels, test_size=0.2, random_state=50, stratify=labels)\n",
    "\n",
    "vectorizer.get_feature_names_out()"
   ]
  },
  {
   "cell_type": "code",
   "execution_count": null,
   "metadata": {},
   "outputs": [
    {
     "name": "stdout",
     "output_type": "stream",
     "text": [
      "              precision    recall  f1-score   support\n",
      "\n",
      "        fake       0.78      0.90      0.84      1045\n",
      "    reliable       0.87      0.73      0.79       955\n",
      "\n",
      "    accuracy                           0.82      2000\n",
      "   macro avg       0.83      0.81      0.81      2000\n",
      "weighted avg       0.82      0.82      0.82      2000\n",
      "\n"
     ]
    }
   ],
   "source": [
    "from sklearn.svm import SVC\n",
    "from sklearn.metrics import classification_report\n",
    "\n",
    "# Opret og træn SVM-modellen\n",
    "svm_model = SVC(kernel='rbf',C=2)  # 'linear' eller 'rbf' afhængigt af dine data\n",
    "svm_model.fit(X_train, y_train)\n",
    "\n",
    "# Evaluer modellen\n",
    "y_pred = svm_model.predict(X_test)\n",
    "print(classification_report(y_test, y_pred))\n"
   ]
  },
  {
   "cell_type": "code",
   "execution_count": 316,
   "metadata": {},
   "outputs": [
    {
     "name": "stdout",
     "output_type": "stream",
     "text": [
      "              precision    recall  f1-score   support\n",
      "\n",
      "        fake       0.79      0.85      0.82      1049\n",
      "    reliable       0.82      0.74      0.78       951\n",
      "\n",
      "    accuracy                           0.80      2000\n",
      "   macro avg       0.80      0.80      0.80      2000\n",
      "weighted avg       0.80      0.80      0.80      2000\n",
      "\n"
     ]
    }
   ],
   "source": [
    "from sklearn.neural_network import MLPClassifier\n",
    "mlp_model = MLPClassifier(hidden_layer_sizes=(500,100,50,50,50,50,50,50,50,50), max_iter=100)\n",
    "mlp_model.fit(X_train, y_train)\n",
    "\n",
    "# Evaluer modelens performance\n",
    "y_pred = mlp_model.predict(X_test)\n",
    "print(classification_report(y_test, y_pred))"
   ]
  },
  {
   "cell_type": "code",
   "execution_count": 317,
   "metadata": {},
   "outputs": [
    {
     "name": "stdout",
     "output_type": "stream",
     "text": [
      "              precision    recall  f1-score   support\n",
      "\n",
      "        fake       0.72      0.74      0.73      1049\n",
      "    reliable       0.71      0.68      0.70       951\n",
      "\n",
      "    accuracy                           0.72      2000\n",
      "   macro avg       0.71      0.71      0.71      2000\n",
      "weighted avg       0.72      0.72      0.72      2000\n",
      "\n"
     ]
    }
   ],
   "source": [
    "# Opret og træn SVM-modellen\n",
    "svm_model = SVC(kernel='sigmoid',C=0.5)  # 'linear' eller 'rbf' afhængigt af dine data\n",
    "svm_model.fit(X_train, y_train)\n",
    "\n",
    "# Evaluer modellen\n",
    "y_pred = svm_model.predict(X_test)\n",
    "print(classification_report(y_test, y_pred))\n"
   ]
  },
  {
   "cell_type": "code",
   "execution_count": 318,
   "metadata": {},
   "outputs": [
    {
     "name": "stdout",
     "output_type": "stream",
     "text": [
      "              precision    recall  f1-score   support\n",
      "\n",
      "        fake       0.76      0.88      0.82      1049\n",
      "    reliable       0.84      0.69      0.76       951\n",
      "\n",
      "    accuracy                           0.79      2000\n",
      "   macro avg       0.80      0.79      0.79      2000\n",
      "weighted avg       0.80      0.79      0.79      2000\n",
      "\n"
     ]
    }
   ],
   "source": [
    "# Opret og træn SVM-modellen\n",
    "svm_model = SVC(kernel='linear',C=0.01)  # 'linear' eller 'rbf' afhængigt af dine data\n",
    "svm_model.fit(X_train, y_train)\n",
    "\n",
    "# Evaluer modellen\n",
    "y_pred = svm_model.predict(X_test)\n",
    "print(classification_report(y_test, y_pred))"
   ]
  },
  {
   "cell_type": "code",
   "execution_count": 320,
   "metadata": {},
   "outputs": [
    {
     "name": "stdout",
     "output_type": "stream",
     "text": [
      "              precision    recall  f1-score   support\n",
      "\n",
      "        fake       0.76      0.80      0.78      1049\n",
      "    reliable       0.77      0.72      0.74       951\n",
      "\n",
      "    accuracy                           0.76      2000\n",
      "   macro avg       0.76      0.76      0.76      2000\n",
      "weighted avg       0.76      0.76      0.76      2000\n",
      "\n"
     ]
    }
   ],
   "source": [
    "from sklearn.linear_model import LogisticRegression\n",
    "\n",
    "# Opret og træn modellen\n",
    "log_reg_model = LogisticRegression(max_iter=1000)\n",
    "log_reg_model.fit(X_train, y_train)\n",
    "\n",
    "# Evaluer modellen\n",
    "y_pred = log_reg_model.predict(X_test)\n",
    "print(classification_report(y_test, y_pred))"
   ]
  },
  {
   "cell_type": "code",
   "execution_count": 321,
   "metadata": {},
   "outputs": [
    {
     "name": "stdout",
     "output_type": "stream",
     "text": [
      "              precision    recall  f1-score   support\n",
      "\n",
      "        fake       0.76      0.83      0.79      1049\n",
      "    reliable       0.79      0.71      0.75       951\n",
      "\n",
      "    accuracy                           0.77      2000\n",
      "   macro avg       0.78      0.77      0.77      2000\n",
      "weighted avg       0.78      0.77      0.77      2000\n",
      "\n"
     ]
    }
   ],
   "source": [
    "from sklearn.naive_bayes import MultinomialNB\n",
    "\n",
    "# 3. Opret og træn en MultinomialNB-model\n",
    "model = MultinomialNB()\n",
    "model.fit(X_train, y_train)\n",
    "\n",
    "# 4. Lav forudsigelser på testdatasættet\n",
    "y_pred = model.predict(X_test)\n",
    "\n",
    "# 5. Evaluer modelens performance\n",
    "print(classification_report(y_test, y_pred))"
   ]
  },
  {
   "cell_type": "code",
   "execution_count": 131,
   "metadata": {},
   "outputs": [
    {
     "name": "stdout",
     "output_type": "stream",
     "text": [
      "{'C': 0.01, 'kernel': 'linear'}\n"
     ]
    }
   ],
   "source": [
    "from sklearn.model_selection import GridSearchCV\n",
    "\n",
    "param_grid = {\n",
    "    'C': [0.1,0.01,0.001],\n",
    "    'kernel': ['linear']\n",
    "}\n",
    "grid = GridSearchCV(SVC(), param_grid, refit=True)\n",
    "grid.fit(X_train, y_train)\n",
    "print(grid.best_params_)\n"
   ]
  },
  {
   "cell_type": "code",
   "execution_count": 17,
   "metadata": {},
   "outputs": [
    {
     "data": {
      "text/plain": [
       "array(['aa', 'aaa', 'aap', ..., 'эту', 'является', 'яндекса'],\n",
       "      shape=(10000,), dtype=object)"
      ]
     },
     "execution_count": 17,
     "metadata": {},
     "output_type": "execute_result"
    }
   ],
   "source": [
    "from sklearn.feature_extraction.text import TfidfVectorizer\n",
    "from sklearn.model_selection import train_test_split\n",
    "\n",
    "# Eksempeldata\n",
    "tokens = dataset['cleaned content'][:5000]\n",
    "labels = dataset['type'][:5000]\n",
    "\n",
    "# Konverter tokens til numeriske features\n",
    "vectorizer = TfidfVectorizer(analyzer='word', ngram_range=(1, 1), binary=True, max_features=10000)\n",
    "X = vectorizer.fit_transform(tokens)\n",
    "\n",
    "# Opdel i trænings- og testdatasæt\n",
    "X_train, X_test, y_train, y_test = train_test_split(X, labels, test_size=0.2, random_state=42)\n",
    "\n",
    "vectorizer.get_feature_names_out()"
   ]
  },
  {
   "cell_type": "code",
   "execution_count": 18,
   "metadata": {},
   "outputs": [
    {
     "name": "stdout",
     "output_type": "stream",
     "text": [
      "              precision    recall  f1-score   support\n",
      "\n",
      "        fake       0.82      0.84      0.83       536\n",
      "    reliable       0.81      0.79      0.80       464\n",
      "\n",
      "    accuracy                           0.82      1000\n",
      "   macro avg       0.82      0.81      0.82      1000\n",
      "weighted avg       0.82      0.82      0.82      1000\n",
      "\n"
     ]
    }
   ],
   "source": [
    "from sklearn.svm import SVC\n",
    "from sklearn.metrics import classification_report\n",
    "\n",
    "# Opret og træn SVM-modellen\n",
    "svm_model = SVC(kernel='rbf',C=2)  # 'linear' eller 'rbf' afhængigt af dine data\n",
    "svm_model.fit(X_train, y_train)\n",
    "\n",
    "# Evaluer modellen\n",
    "y_pred = svm_model.predict(X_test)\n",
    "print(classification_report(y_test, y_pred))\n"
   ]
  },
  {
   "cell_type": "code",
   "execution_count": 261,
   "metadata": {},
   "outputs": [
    {
     "name": "stdout",
     "output_type": "stream",
     "text": [
      "[ 0.0033901 -0.34614    0.28144    0.48382    0.59469    0.012965\n",
      "  0.53982    0.48233    0.21463   -1.0249    -0.34788   -0.79001\n",
      " -0.15084    0.61374    0.042811   0.19323    0.25462    0.32528\n",
      "  0.05698    0.063253  -0.49439    0.47337   -0.16761    0.045594\n",
      "  0.30451   -0.35416   -0.34583   -0.20118    0.25511    0.091111\n",
      "  0.014651  -0.017541  -0.23854    0.48215   -0.9145    -0.36235\n",
      "  0.34736    0.028639  -0.027065  -0.036481  -0.067391  -0.23452\n",
      " -0.13772    0.33951    0.13415   -0.1342     0.47856   -0.1842\n",
      "  0.10705   -0.45834   -0.36085   -0.22595    0.32881   -0.13643\n",
      "  0.23128    0.34269    0.42344    0.47057    0.479      0.074639\n",
      "  0.3344     0.10714   -0.13289    0.58734    0.38616   -0.52238\n",
      " -0.22028   -0.072322   0.32269    0.44226   -0.037382   0.18324\n",
      "  0.058082   0.26938    0.36202    0.13983    0.016815  -0.34426\n",
      "  0.4827     0.2108     0.75618   -0.13092   -0.025741   0.43391\n",
      "  0.33893   -0.16438    0.26817    0.68774    0.311     -0.2509\n",
      "  0.0027749 -0.39809   -0.43399    0.049531  -0.42686   -0.094679\n",
      "  0.56925    0.28742   -0.015721  -0.059162   0.1912    -0.59814\n",
      "  0.65486   -0.31363    0.16881    0.10862    0.075316   0.34093\n",
      " -0.14706    0.8359     0.39697    0.52358   -0.0096367 -0.14406\n",
      "  0.37783   -0.596     -0.063192  -0.85297   -0.3098    -1.0587\n",
      " -1.025      0.4508    -0.73324   -1.2461    -0.028488   0.20299\n",
      "  0.00259    0.31995    0.35744    0.28533    0.228      0.50956\n",
      " -0.35942    0.32683    0.046264  -0.86896   -0.2707    -0.15454\n",
      " -0.32152    0.31121    0.44134    0.85189    0.21065   -0.13741\n",
      " -0.15359   -0.059722   0.027375   0.23724   -0.39197   -0.66065\n",
      "  0.23587    0.032384  -0.64043    0.55004    0.29597    0.14989\n",
      "  0.46079   -0.26561   -0.1607    -0.36328    1.0782     0.31375\n",
      "  0.1149     0.20248    0.032748   0.41082   -0.082536   0.36606\n",
      "  0.18771    0.75415    0.079648   0.24181   -0.60319   -0.37296\n",
      " -0.047767   0.45008   -0.21135    0.022251  -0.084325   0.18644\n",
      " -0.14682    0.56571   -0.30995    0.17423   -0.41122   -0.84772\n",
      " -0.71114    0.69895   -0.13008   -0.34195   -0.30501   -0.12646\n",
      "  0.29957   -0.43488    0.31935    0.2817    -0.20631   -0.48877\n",
      "  0.34477    0.03907    1.6198    -0.6352    -0.0037675 -0.41271\n",
      "  0.30704   -0.50486    0.036385  -0.046386  -0.12004    0.010029\n",
      " -0.49116    0.041486   0.002979  -0.57694   -0.42088   -0.063218\n",
      "  0.0034244 -0.25093   -0.39689   -0.36984    0.32689    0.01385\n",
      "  0.23634   -0.055199  -0.58453    0.13211    0.50943    0.25198\n",
      " -0.0088309 -0.21273   -0.48423    0.5234    -0.32832   -0.013821\n",
      "  0.15812    0.46696    0.036822  -0.090878   0.18854    0.20794\n",
      " -0.42682    0.59705    0.53109    0.19185   -0.16392    0.064956\n",
      " -0.36009   -0.59882   -0.28134    0.1017     0.02601    0.44298\n",
      " -0.31922   -0.22432    0.7828     0.041307   0.1742     0.27777\n",
      "  0.43792   -0.84324    0.27012   -0.21547    0.52408   -0.19426\n",
      " -0.21878   -0.20713    0.092994  -0.15804    0.28716   -0.11911\n",
      " -0.20688   -0.36482    0.68548   -0.10394   -0.49974   -0.47038\n",
      " -1.2953    -0.46236    0.44467    0.13337    0.88762   -0.26494\n",
      "  0.080676  -0.20625   -0.51232    0.31112    0.062035   0.30302\n",
      " -0.33344   -0.20924   -0.17348   -0.43434   -0.45743   -0.077803\n",
      " -0.33248   -0.078633   0.82182    0.082088  -0.68795    0.30266  ]\n"
     ]
    }
   ],
   "source": [
    "import numpy as np\n",
    "\n",
    "# Indlæs GloVe-filen\n",
    "def load_glove_embeddings(file_path):\n",
    "    embeddings_index = {}\n",
    "    with open(file_path, 'r', encoding='utf-8') as f:\n",
    "        for line in f:\n",
    "            values = line.split()\n",
    "            word = values[0]  # Ordet (token)\n",
    "            vector = np.asarray(values[1:], dtype='float32')  # Vektorens værdier\n",
    "            embeddings_index[word] = vector\n",
    "    return embeddings_index\n",
    "\n",
    "# Brug en sti til den hentede fil (f.eks. \"glove.6B.100d.txt\")\n",
    "file_path = \"glove.6B.300d.txt\"  # Udskift med din sti\n",
    "embeddings_index = load_glove_embeddings(file_path)\n",
    "\n",
    "# Eksempel: Hent vektoren for et ord\n",
    "print(embeddings_index.get(\"king\"))  # Giver f.eks. en vektor for ordet \"king\"\n"
   ]
  },
  {
   "cell_type": "code",
   "execution_count": 268,
   "metadata": {},
   "outputs": [
    {
     "name": "stdout",
     "output_type": "stream",
     "text": [
      "(10000, 300)\n"
     ]
    }
   ],
   "source": [
    "# Opret en matrix til sætningernes embeddings\n",
    "def create_embedding_matrix(tokens, embeddings_index, embedding_dim):\n",
    "    embedding_matrix = []\n",
    "    for sentence in tokens:\n",
    "        sentence_embedding = []\n",
    "        for word in sentence:\n",
    "            if word in embeddings_index:\n",
    "                sentence_embedding.append(embeddings_index[word])\n",
    "            else:\n",
    "                sentence_embedding.append(np.zeros(embedding_dim))  # Nulvektor til ukendte ord\n",
    "        embedding_matrix.append(np.mean(sentence_embedding, axis=0))  # Gennemsnit af embeddings i sætningen\n",
    "    return np.array(embedding_matrix)\n",
    "\n",
    "tokens = dataset['cleaned content'][:10000]\n",
    "labels = dataset['type'][:10000]\n",
    "\n",
    "embedding_dim = 300  # Dimensionen på den GloVe-fil, du bruger (f.eks. 100d)\n",
    "X = create_embedding_matrix(tokens, embeddings_index, embedding_dim)\n",
    "print(X.shape)  # Antallet af sætninger og dimensionen af embeddings\n"
   ]
  },
  {
   "cell_type": "code",
   "execution_count": 269,
   "metadata": {},
   "outputs": [
    {
     "name": "stdout",
     "output_type": "stream",
     "text": [
      "              precision    recall  f1-score   support\n",
      "\n",
      "        fake       0.59      0.62      0.60      1049\n",
      "    reliable       0.56      0.53      0.54       951\n",
      "\n",
      "    accuracy                           0.58      2000\n",
      "   macro avg       0.57      0.57      0.57      2000\n",
      "weighted avg       0.58      0.58      0.58      2000\n",
      "\n"
     ]
    }
   ],
   "source": [
    "# Opdel i trænings- og testdatasæt\n",
    "X_train, X_test, y_train, y_test = train_test_split(X, labels, test_size=0.2, random_state=42)\n",
    "\n",
    "# Opret og træn en logistisk regressionsmodel\n",
    "model = LogisticRegression(C=5)\n",
    "model.fit(X_train, y_train)\n",
    "\n",
    "# Evaluer modelens performance\n",
    "y_pred = model.predict(X_test)\n",
    "print(classification_report(y_test, y_pred))\n"
   ]
  },
  {
   "cell_type": "code",
   "execution_count": 273,
   "metadata": {},
   "outputs": [
    {
     "name": "stdout",
     "output_type": "stream",
     "text": [
      "              precision    recall  f1-score   support\n",
      "\n",
      "        fake       0.63      0.48      0.55      1049\n",
      "    reliable       0.55      0.68      0.61       951\n",
      "\n",
      "    accuracy                           0.58      2000\n",
      "   macro avg       0.59      0.58      0.58      2000\n",
      "weighted avg       0.59      0.58      0.57      2000\n",
      "\n"
     ]
    }
   ],
   "source": [
    "from sklearn.neural_network import MLPClassifier\n",
    "mlp_model = MLPClassifier(hidden_layer_sizes=(512,256,128,64,32,16,8,4,2), max_iter=10000)\n",
    "mlp_model.fit(X_train, y_train)\n",
    "\n",
    "# Evaluer modelens performance\n",
    "y_pred = mlp_model.predict(X_test)\n",
    "print(classification_report(y_test, y_pred))"
   ]
  },
  {
   "cell_type": "code",
   "execution_count": null,
   "metadata": {},
   "outputs": [],
   "source": []
  }
 ],
 "metadata": {
  "kernelspec": {
   "display_name": "Python 3",
   "language": "python",
   "name": "python3"
  },
  "language_info": {
   "codemirror_mode": {
    "name": "ipython",
    "version": 3
   },
   "file_extension": ".py",
   "mimetype": "text/x-python",
   "name": "python",
   "nbconvert_exporter": "python",
   "pygments_lexer": "ipython3",
   "version": "3.12.4"
  }
 },
 "nbformat": 4,
 "nbformat_minor": 2
}

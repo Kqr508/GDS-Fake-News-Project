{
 "cells": [
  {
   "cell_type": "markdown",
   "metadata": {},
   "source": [
    "# Det kræver at have følgende filer :\n",
    "\"cleaned_dataset_FULL\" ,\"train_data.csv\" og\n",
    "\"vocabulary_10000.csv\"\n"
   ]
  },
  {
   "cell_type": "markdown",
   "metadata": {},
   "source": [
    "Læser \"cleaned_dataset_FULL.csv\""
   ]
  },
  {
   "cell_type": "code",
   "execution_count": 1,
   "metadata": {},
   "outputs": [
    {
     "data": {
      "text/html": [
       "<div>\n",
       "<style scoped>\n",
       "    .dataframe tbody tr th:only-of-type {\n",
       "        vertical-align: middle;\n",
       "    }\n",
       "\n",
       "    .dataframe tbody tr th {\n",
       "        vertical-align: top;\n",
       "    }\n",
       "\n",
       "    .dataframe thead th {\n",
       "        text-align: right;\n",
       "    }\n",
       "</style>\n",
       "<table border=\"1\" class=\"dataframe\">\n",
       "  <thead>\n",
       "    <tr style=\"text-align: right;\">\n",
       "      <th></th>\n",
       "      <th>id</th>\n",
       "      <th>domain</th>\n",
       "      <th>type</th>\n",
       "      <th>url</th>\n",
       "      <th>content</th>\n",
       "      <th>scraped_at</th>\n",
       "      <th>inserted_at</th>\n",
       "      <th>updated_at</th>\n",
       "      <th>title</th>\n",
       "      <th>authors</th>\n",
       "      <th>keywords</th>\n",
       "      <th>meta_keywords</th>\n",
       "      <th>meta_description</th>\n",
       "      <th>tags</th>\n",
       "      <th>summary</th>\n",
       "      <th>source</th>\n",
       "      <th>cleaned content</th>\n",
       "    </tr>\n",
       "  </thead>\n",
       "  <tbody>\n",
       "    <tr>\n",
       "      <th>0</th>\n",
       "      <td>7444726.0</td>\n",
       "      <td>nationalreview.com</td>\n",
       "      <td>political</td>\n",
       "      <td>http://www.nationalreview.com/node/152734/%E2%...</td>\n",
       "      <td>Plus one article on Google Plus\\n\\n(Thanks to ...</td>\n",
       "      <td>2017-11-27T01:14:42.983556</td>\n",
       "      <td>2018-02-08 19:18:34.468038</td>\n",
       "      <td>2018-02-08 19:18:34.468066</td>\n",
       "      <td>Iran News Round Up</td>\n",
       "      <td>NaN</td>\n",
       "      <td>NaN</td>\n",
       "      <td>['National Review', 'National Review Online', ...</td>\n",
       "      <td>NaN</td>\n",
       "      <td>NaN</td>\n",
       "      <td>NaN</td>\n",
       "      <td>NaN</td>\n",
       "      <td>['plu', 'one', 'articl', 'googl', 'plu', 'than...</td>\n",
       "    </tr>\n",
       "    <tr>\n",
       "      <th>1</th>\n",
       "      <td>6213642.0</td>\n",
       "      <td>beforeitsnews.com</td>\n",
       "      <td>fake</td>\n",
       "      <td>http://beforeitsnews.com/economy/2012/06/the-c...</td>\n",
       "      <td>The Cost Of The Best Senate Banking Committee ...</td>\n",
       "      <td>2017-11-27T01:14:08.7454</td>\n",
       "      <td>2018-02-08 19:18:34.468038</td>\n",
       "      <td>2018-02-08 19:18:34.468066</td>\n",
       "      <td>The Cost Of The Best Senate Banking Committee ...</td>\n",
       "      <td>NaN</td>\n",
       "      <td>NaN</td>\n",
       "      <td>['']</td>\n",
       "      <td>NaN</td>\n",
       "      <td>NaN</td>\n",
       "      <td>NaN</td>\n",
       "      <td>NaN</td>\n",
       "      <td>['cost', 'best', 'senat', 'bank', 'committe', ...</td>\n",
       "    </tr>\n",
       "    <tr>\n",
       "      <th>2</th>\n",
       "      <td>3867639.0</td>\n",
       "      <td>dailycurrant.com</td>\n",
       "      <td>satire</td>\n",
       "      <td>http://dailycurrant.com/2016/01/18/man-awoken-...</td>\n",
       "      <td>Man Awoken From 27-Year Coma Commits Suicide A...</td>\n",
       "      <td>2017-11-27T01:14:21.395055</td>\n",
       "      <td>2018-02-07 23:39:33.852671</td>\n",
       "      <td>2018-02-07 23:39:33.852696</td>\n",
       "      <td>Man Awoken From 27-Year Coma Commits Suicide A...</td>\n",
       "      <td>NaN</td>\n",
       "      <td>NaN</td>\n",
       "      <td>['']</td>\n",
       "      <td>NaN</td>\n",
       "      <td>NaN</td>\n",
       "      <td>NaN</td>\n",
       "      <td>NaN</td>\n",
       "      <td>['man', 'awoken', '&lt;NUM&gt;', 'year', 'coma', 'co...</td>\n",
       "    </tr>\n",
       "    <tr>\n",
       "      <th>3</th>\n",
       "      <td>9560791.0</td>\n",
       "      <td>nytimes.com</td>\n",
       "      <td>reliable</td>\n",
       "      <td>https://query.nytimes.com/gst/fullpage.html?re...</td>\n",
       "      <td>WHEN Julia Geist was asked to draw a picture o...</td>\n",
       "      <td>2018-02-11 00:46:42.632962</td>\n",
       "      <td>2018-02-11 00:14:20.346838</td>\n",
       "      <td>2018-02-11 00:14:20.346871</td>\n",
       "      <td>Opening a Gateway for Girls to Enter the Compu...</td>\n",
       "      <td>NaN</td>\n",
       "      <td>NaN</td>\n",
       "      <td>['Computers and the Internet', 'Women and Girl...</td>\n",
       "      <td>WHEN Julia Geist was asked to draw a picture o...</td>\n",
       "      <td>NaN</td>\n",
       "      <td>NaN</td>\n",
       "      <td>nytimes</td>\n",
       "      <td>['julia', 'geist', 'ask', 'draw', 'pictur', 'c...</td>\n",
       "    </tr>\n",
       "    <tr>\n",
       "      <th>4</th>\n",
       "      <td>2059625.0</td>\n",
       "      <td>infiniteunknown.net</td>\n",
       "      <td>conspiracy</td>\n",
       "      <td>http://www.infiniteunknown.net/2011/09/14/100-...</td>\n",
       "      <td>– 100 Compiled Studies on Vaccine Dangers (Act...</td>\n",
       "      <td>2017-11-10T11:18:44.524042</td>\n",
       "      <td>2018-02-07 23:39:33.852671</td>\n",
       "      <td>2018-02-07 23:39:33.852696</td>\n",
       "      <td>100 Compiled Studies on Vaccine Dangers – Infi...</td>\n",
       "      <td>NaN</td>\n",
       "      <td>NaN</td>\n",
       "      <td>['']</td>\n",
       "      <td>NaN</td>\n",
       "      <td>Lymphoma, Hepatitis B, Immune System, Health, ...</td>\n",
       "      <td>NaN</td>\n",
       "      <td>NaN</td>\n",
       "      <td>['&lt;NUM&gt;', 'compil', 'studi', 'vaccin', 'danger...</td>\n",
       "    </tr>\n",
       "  </tbody>\n",
       "</table>\n",
       "</div>"
      ],
      "text/plain": [
       "          id               domain        type  \\\n",
       "0  7444726.0   nationalreview.com   political   \n",
       "1  6213642.0    beforeitsnews.com        fake   \n",
       "2  3867639.0     dailycurrant.com      satire   \n",
       "3  9560791.0          nytimes.com    reliable   \n",
       "4  2059625.0  infiniteunknown.net  conspiracy   \n",
       "\n",
       "                                                 url  \\\n",
       "0  http://www.nationalreview.com/node/152734/%E2%...   \n",
       "1  http://beforeitsnews.com/economy/2012/06/the-c...   \n",
       "2  http://dailycurrant.com/2016/01/18/man-awoken-...   \n",
       "3  https://query.nytimes.com/gst/fullpage.html?re...   \n",
       "4  http://www.infiniteunknown.net/2011/09/14/100-...   \n",
       "\n",
       "                                             content  \\\n",
       "0  Plus one article on Google Plus\\n\\n(Thanks to ...   \n",
       "1  The Cost Of The Best Senate Banking Committee ...   \n",
       "2  Man Awoken From 27-Year Coma Commits Suicide A...   \n",
       "3  WHEN Julia Geist was asked to draw a picture o...   \n",
       "4  – 100 Compiled Studies on Vaccine Dangers (Act...   \n",
       "\n",
       "                   scraped_at                 inserted_at  \\\n",
       "0  2017-11-27T01:14:42.983556  2018-02-08 19:18:34.468038   \n",
       "1    2017-11-27T01:14:08.7454  2018-02-08 19:18:34.468038   \n",
       "2  2017-11-27T01:14:21.395055  2018-02-07 23:39:33.852671   \n",
       "3  2018-02-11 00:46:42.632962  2018-02-11 00:14:20.346838   \n",
       "4  2017-11-10T11:18:44.524042  2018-02-07 23:39:33.852671   \n",
       "\n",
       "                   updated_at  \\\n",
       "0  2018-02-08 19:18:34.468066   \n",
       "1  2018-02-08 19:18:34.468066   \n",
       "2  2018-02-07 23:39:33.852696   \n",
       "3  2018-02-11 00:14:20.346871   \n",
       "4  2018-02-07 23:39:33.852696   \n",
       "\n",
       "                                               title authors  keywords  \\\n",
       "0                                 Iran News Round Up     NaN       NaN   \n",
       "1  The Cost Of The Best Senate Banking Committee ...     NaN       NaN   \n",
       "2  Man Awoken From 27-Year Coma Commits Suicide A...     NaN       NaN   \n",
       "3  Opening a Gateway for Girls to Enter the Compu...     NaN       NaN   \n",
       "4  100 Compiled Studies on Vaccine Dangers – Infi...     NaN       NaN   \n",
       "\n",
       "                                       meta_keywords  \\\n",
       "0  ['National Review', 'National Review Online', ...   \n",
       "1                                               ['']   \n",
       "2                                               ['']   \n",
       "3  ['Computers and the Internet', 'Women and Girl...   \n",
       "4                                               ['']   \n",
       "\n",
       "                                    meta_description  \\\n",
       "0                                                NaN   \n",
       "1                                                NaN   \n",
       "2                                                NaN   \n",
       "3  WHEN Julia Geist was asked to draw a picture o...   \n",
       "4                                                NaN   \n",
       "\n",
       "                                                tags  summary   source  \\\n",
       "0                                                NaN      NaN      NaN   \n",
       "1                                                NaN      NaN      NaN   \n",
       "2                                                NaN      NaN      NaN   \n",
       "3                                                NaN      NaN  nytimes   \n",
       "4  Lymphoma, Hepatitis B, Immune System, Health, ...      NaN      NaN   \n",
       "\n",
       "                                     cleaned content  \n",
       "0  ['plu', 'one', 'articl', 'googl', 'plu', 'than...  \n",
       "1  ['cost', 'best', 'senat', 'bank', 'committe', ...  \n",
       "2  ['man', 'awoken', '<NUM>', 'year', 'coma', 'co...  \n",
       "3  ['julia', 'geist', 'ask', 'draw', 'pictur', 'c...  \n",
       "4  ['<NUM>', 'compil', 'studi', 'vaccin', 'danger...  "
      ]
     },
     "execution_count": 1,
     "metadata": {},
     "output_type": "execute_result"
    }
   ],
   "source": [
    "import pandas as pd\n",
    "DATA_FILE =\"cleaned_dataset_FULL.csv\"\n",
    "df = pd.read_csv(DATA_FILE, low_memory=False)\n",
    "df.head()"
   ]
  },
  {
   "cell_type": "markdown",
   "metadata": {},
   "source": [
    "Task 4: Split the resulting dataset into a training, validation, and test splits. A common strategy is to uniformly at random split the data 80% / 10% /\n",
    "10%. You will use the training data to train your baseline and advanced models, the validation data can be used for model selection and\n",
    "hyperparameter tuning, while the test data should only be used in Part 4.\n",
    "\n",
    "\n",
    "Dette program opdeler et renset nyhedsdata-sæt i 80% træning, 10% validering og 10% test ved hjælp af StratifiedShuffleSplit. Det sikrer, at fordelingen af nyhedstyper bevares i alle datasæt, hvilket forbedrer modelens præcision."
   ]
  },
  {
   "cell_type": "markdown",
   "metadata": {},
   "source": [
    "# Vi tejkker om der kolonner i dataset."
   ]
  },
  {
   "cell_type": "code",
   "execution_count": 2,
   "metadata": {},
   "outputs": [
    {
     "name": "stdout",
     "output_type": "stream",
     "text": [
      "Index(['id', 'domain', 'type', 'url', 'content', 'scraped_at', 'inserted_at',\n",
      "       'updated_at', 'title', 'authors', 'keywords', 'meta_keywords',\n",
      "       'meta_description', 'tags', 'summary', 'source', 'cleaned content'],\n",
      "      dtype='object')\n",
      "\n",
      " ['political' 'fake' 'satire' 'reliable' 'conspiracy' 'unreliable' 'bias'\n",
      " 'rumor' 'unknown' nan 'clickbait' 'hate' 'junksci'\n",
      " '2018-02-10 13:43:39.521661']\n"
     ]
    }
   ],
   "source": [
    "print(df.columns)\n",
    "print(\"\\n\", df['type'].unique())\n"
   ]
  },
  {
   "cell_type": "markdown",
   "metadata": {},
   "source": [
    "# Fjern mellemrum i kolonnenavne \n",
    "# Fjern rækker med NaN i 'cleaned content' og 'type'"
   ]
  },
  {
   "cell_type": "code",
   "execution_count": 3,
   "metadata": {},
   "outputs": [],
   "source": [
    "\n",
    "#vi fejner NaNa \n",
    "df.columns =df.columns.str.strip()\n",
    "df = df.dropna(subset=['cleaned content', 'type'])\n"
   ]
  },
  {
   "cell_type": "markdown",
   "metadata": {},
   "source": [
    "# Vi vill gerne kigge, hviklet kalsser eller kategorier vi har i vorses dat: "
   ]
  },
  {
   "cell_type": "code",
   "execution_count": 4,
   "metadata": {},
   "outputs": [
    {
     "name": "stdout",
     "output_type": "stream",
     "text": [
      "type\n",
      "reliable      218563\n",
      "political     194518\n",
      "bias          133232\n",
      "fake          104883\n",
      "conspiracy     97314\n",
      "rumor          56445\n",
      "unknown        43534\n",
      "unreliable     35332\n",
      "clickbait      27412\n",
      "junksci        14040\n",
      "satire         13160\n",
      "hate            8779\n",
      "Name: count, dtype: int64\n"
     ]
    }
   ],
   "source": [
    "X = df[\"cleaned content\"]  # Features (tekst)\n",
    "y = df[\"type\"]  # Labels (kategori af nyheder)\n",
    "# Find klasser med færre end 2 observationer\n",
    "counts = y.value_counts()\n",
    "classes_to_remove = counts[counts < 2].index\n",
    "mask = ~y.isin(classes_to_remove)\n",
    "\n",
    "X = X[mask]\n",
    "y = y[mask]\n",
    "\n",
    "print(y.value_counts())"
   ]
  },
  {
   "cell_type": "code",
   "execution_count": 5,
   "metadata": {},
   "outputs": [
    {
     "name": "stdout",
     "output_type": "stream",
     "text": [
      "Antal rækker i X: 947213\n",
      "Antal labels i y: 947213\n",
      "Antal rækker i X: 947213\n",
      "Antal labels i y: 947213\n",
      "type\n",
      "reliable                      218563\n",
      "political                     194518\n",
      "bias                          133232\n",
      "fake                          104883\n",
      "conspiracy                     97314\n",
      "rumor                          56445\n",
      "unknown                        43534\n",
      "unreliable                     35332\n",
      "clickbait                      27412\n",
      "junksci                        14040\n",
      "satire                         13160\n",
      "hate                            8779\n",
      "2018-02-10 13:43:39.521661         1\n",
      "Name: count, dtype: int64\n"
     ]
    }
   ],
   "source": [
    "\n",
    "# Definer `X` og `y`\n",
    "X = df[\"cleaned content\"]  # Features (tekst)\n",
    "y =df[\"type\"]  # Labels (kategori af nyheder)\n",
    "\n",
    "print(f\"Antal rækker i X: {len(X)}\")\n",
    "print(f\"Antal labels i y: {len(y)}\")\n",
    "\n",
    "print(f\"Antal rækker i X: {len(X)}\")\n",
    "print(f\"Antal labels i y: {len(y)}\")\n",
    "\n",
    "print(y.value_counts())  \n",
    "\n"
   ]
  },
  {
   "cell_type": "markdown",
   "metadata": {},
   "source": [
    "Definer `X` og `y`"
   ]
  },
  {
   "cell_type": "code",
   "execution_count": null,
   "metadata": {},
   "outputs": [],
   "source": [
    "X = df[\"cleaned content\"]  # Features (tekst)\n",
    "y = df[\"type\"]  # Labels (kategori af nyheder)\n",
    "# Find klasser med færre end 2 observationer\n",
    "counts = y.value_counts()\n",
    "classes_to_remove = counts[counts < 2].index\n",
    "mask = ~y.isin(classes_to_remove)\n",
    "\n",
    "X = X[mask]\n",
    "y = y[mask]\n"
   ]
  },
  {
   "cell_type": "markdown",
   "metadata": {},
   "source": [
    "# Vi havede en problem med en ekstrer dater, nu har fiejnt"
   ]
  },
  {
   "cell_type": "code",
   "execution_count": 7,
   "metadata": {},
   "outputs": [
    {
     "name": "stdout",
     "output_type": "stream",
     "text": [
      "type\n",
      "reliable      218563\n",
      "political     194518\n",
      "bias          133232\n",
      "fake          104883\n",
      "conspiracy     97314\n",
      "rumor          56445\n",
      "unknown        43534\n",
      "unreliable     35332\n",
      "clickbait      27412\n",
      "junksci        14040\n",
      "satire         13160\n",
      "hate            8779\n",
      "Name: count, dtype: int64\n"
     ]
    }
   ],
   "source": [
    "print(y.value_counts())  # Tæl hvor mange gange hver klasse optræder\n"
   ]
  },
  {
   "cell_type": "markdown",
   "metadata": {},
   "source": [
    "# OPdeling af database"
   ]
  },
  {
   "cell_type": "code",
   "execution_count": 8,
   "metadata": {},
   "outputs": [
    {
     "name": "stdout",
     "output_type": "stream",
     "text": [
      "Dataerne der brugt for triaaning, som svar til 80: 757769\n",
      "Dataerne der blive brugt for (validering+ test): 189443 rækker\n",
      "Dataerne der brugt for validering (10%): 94721 rækker\n",
      "Dataerne der blive brugt for test (10%): 94722 rækker\n"
     ]
    }
   ],
   "source": [
    "from sklearn.model_selection import StratifiedShuffleSplit\n",
    "\n",
    "# Opret StratifiedShuffleSplit objekt\n",
    "split= StratifiedShuffleSplit(n_splits=1, test_size=0.2, random_state=42)\n",
    "for train_index, temp_index in split.split(X, y):\n",
    "    X_train, X_temp = X.iloc[train_index], X.iloc[temp_index]\n",
    "    y_train, y_temp = y.iloc[train_index], y.iloc[temp_index]\n",
    "    \n",
    "\n",
    "# Størrelsen på splits\n",
    "print(f\"Dataerne der brugt for triaaning, som svar til 80: {len(X_train)}\")\n",
    "print(f\"Dataerne der blive brugt for (validering+ test): {len(X_temp)} rækker\")\n",
    "\n",
    "\n",
    "\n",
    "# Opret StratifiedShuffleSplit objekt\n",
    "split= StratifiedShuffleSplit(n_splits=1, test_size=0.5, random_state=42)\n",
    "for val_index, test_index in split.split(X_temp, y_temp):\n",
    "    X_val, X_test = X_temp.iloc[val_index], X_temp.iloc[test_index]\n",
    "    y_val, y_test = y_temp.iloc[val_index], y_temp.iloc[test_index]\n",
    "\n",
    "# Størrelsen på splits\n",
    "print(f\"Dataerne der brugt for validering (10%): {len(X_val)} rækker\")\n",
    "print(f\"Dataerne der blive brugt for test (10%): {len(X_test)} rækker\")"
   ]
  },
  {
   "cell_type": "markdown",
   "metadata": {},
   "source": [
    "# Hvorfor har vi køret det? fordi vi kunne ikke tæller op de orderne. Dvs at rækkerne var strang og vi kunne ikke kunveret den till metrix."
   ]
  },
  {
   "cell_type": "code",
   "execution_count": 9,
   "metadata": {},
   "outputs": [
    {
     "name": "stdout",
     "output_type": "stream",
     "text": [
      " Fil gemt: vocabulary_10000.csv\n"
     ]
    }
   ],
   "source": [
    "import pandas as pd\n",
    "from collections import Counter\n",
    "\n",
    "df = pd.read_csv(\"train_data.csv\")\n",
    "df[\"text\"] = df[\"text\"].fillna(\"\").astype(str)\n",
    "\n",
    "# Saml al tekst og split til en liste af ord\n",
    "all_words = \" \".join(df[\"text\"]).split()\n",
    "\n",
    "# Tæl alle ord\n",
    "word_counts = Counter(all_words)\n",
    "word_freq_df = pd.DataFrame(word_counts.items(), columns=[\"word\", \"count\"])\n",
    "\n",
    "# Sortér efter de mest hyppige ord\n",
    "word_freq_df = word_freq_df.sort_values(by=\"count\", ascending=False)\n",
    "word_freq_df = word_freq_df.head(10000)\n",
    "word_freq_df.to_csv(\"vocabulary_10000.csv\", index=False, encoding=\"utf-8\")\n",
    "\n",
    "print(\" Fil gemt: vocabulary_10000.csv\")\n"
   ]
  },
  {
   "cell_type": "markdown",
   "metadata": {},
   "source": [
    "# De mest 20 mest almindelige ord i trning set"
   ]
  },
  {
   "cell_type": "code",
   "execution_count": 45,
   "metadata": {},
   "outputs": [
    {
     "data": {
      "image/png": "[encoded data removed]",
      "text/plain": [
       "<Figure size 1200x600 with 1 Axes>"
      ]
     },
     "metadata": {},
     "output_type": "display_data"
    }
   ],
   "source": [
    "import matplotlib.pyplot as plt\n",
    "\n",
    "# Indlæs den filtrerede version\n",
    "df_vocab = pd.read_csv(\"vocabulary_10000.csv\")\n",
    "\n",
    "# Vælg de 20 mest hyppige ord\n",
    "top_words = df_vocab.head(20)\n",
    "\n",
    "# Plot en bar-chart\n",
    "plt.figure(figsize=(12, 6))\n",
    "plt.bar(top_words[\"word\"], top_words[\"count\"], color=\"navy\")\n",
    "plt.xlabel(\"Ord\")\n",
    "plt.ylabel(\"Antal forekomster\")\n",
    "plt.title(\"Top 20 mest hyppige ord efter filtrering\")\n",
    "plt.xticks(rotation=45)\n",
    "plt.show()\n"
   ]
  },
  {
   "cell_type": "markdown",
   "metadata": {},
   "source": [
    "# Start by implementing and training a simple logistic regression classifier using a fixed vocabulary of the 10,000 most frequent words extracted from the content field, as the input features.\n"
   ]
  },
  {
   "cell_type": "code",
   "execution_count": null,
   "metadata": {},
   "outputs": [
    {
     "name": "stdout",
     "output_type": "stream",
     "text": [
      " Antal ord med store bogstaver: 0\n",
      "Empty DataFrame\n",
      "Columns: [word, count]\n",
      "Index: []\n"
     ]
    }
   ],
   "source": [
    "import pandas as pd\n",
    "\n",
    "# Indlæs ordforrådet\n",
    "fixed_vocab_df = pd.read_csv(\"vocabulary_10000.csv\")\n",
    "\n",
    "# Fjern NaN værdier\n",
    "fixed_vocab_df = fixed_vocab_df.dropna(subset=[\"word\"])\n",
    "\n",
    "# Tjek igen, om der er store bogstaver\n",
    "upper_case_words = fixed_vocab_df[fixed_vocab_df[\"word\"].str.contains(r'[A-Z]')]\n",
    "\n",
    "print(\" Antal ord med store bogstaver:\", len(upper_case_words))\n",
    "print(upper_case_words.head(10))  # Se de første 10 ord\n"
   ]
  },
  {
   "cell_type": "markdown",
   "metadata": {},
   "source": [
    "# Task 1:\n",
    "Task 1: Start by implementing and training a simple logistic regression classifier using a fixed vocabulary of the 10,000 most frequent words extracted from the content field, as the input features. You do not need to apply TF-IDF weighting to the features. It should take no more than five minutes to fit this model on a modern laptop, and, as guidance, it should be possible to achieve an F1 score of ~94% on your test split. However, this F1 score is based on certain assumptions about how you have split your data and will not apply to every group. Do not worry too much if the F1 score with your logistic regression model is substantially below 94%. Write in your report the performance that you achieve with your implementation of this model, and remember to report any hyper-parameters used for the training process."
   ]
  },
  {
   "cell_type": "markdown",
   "metadata": {},
   "source": [
    "# Indlæs datasæt"
   ]
  },
  {
   "cell_type": "code",
   "execution_count": 12,
   "metadata": {},
   "outputs": [],
   "source": [
    "import pandas as pd\n",
    "from sklearn.model_selection import train_test_split\n",
    "from sklearn.feature_extraction.text import CountVectorizer\n",
    "import joblib\n",
    "\n",
    "df = pd.read_csv(\"cleaned_dataset_FULL.csv\", usecols=[\"cleaned content\", \"type\"])\n",
    "\n",
    "# Fjern NaN-værdier i 'cleaned content' og 'type'-kolonnen\n",
    "df = df.dropna(subset=[\"cleaned content\", \"type\"])\n"
   ]
  },
  {
   "cell_type": "markdown",
   "metadata": {},
   "source": [
    "# Konverter til string og lav alt lowercase"
   ]
  },
  {
   "cell_type": "code",
   "execution_count": 13,
   "metadata": {},
   "outputs": [
    {
     "name": "stdout",
     "output_type": "stream",
     "text": [
      "\n",
      "Unikke labels efter mapping: ['reliable' 'fake']\n"
     ]
    }
   ],
   "source": [
    "df[\"cleaned content\"] = df[\"cleaned content\"].astype(str).str.lower()\n",
    "\n",
    "# Fjern ukendte og ubrugelige labels\n",
    "df = df[df[\"type\"] != \"unknown\"] \n",
    "df = df[df[\"type\"] != \"unreliable\"]\n",
    "\n",
    "# Korrekt mapping af labels\n",
    "class_mapping = {\n",
    "    \"fake\": \"fake\", \"satire\": \"fake\", \"conspiracy\": \"fake\", \"junksci\": \"fake\",\n",
    "    \"bias\": \"fake\", \"rumor\": \"fake\", \"state\": \"fake\", \"hate\": \"fake\",  \n",
    "\n",
    "    \"reliable\": \"reliable\",\n",
    "    \"clickbait\": \"reliable\",  \n",
    "    \"political\": \"reliable\"\n",
    "}\n",
    "\n",
    "df[\"type\"] = df[\"type\"].map(class_mapping)\n",
    "df = df.dropna(subset=[\"type\"])\n",
    "\n",
    "print(\"\\nUnikke labels efter mapping:\", df[\"type\"].unique())"
   ]
  },
  {
   "cell_type": "markdown",
   "metadata": {},
   "source": [
    "# Indlæs de 10.000 mest hyppige ord og gør dem lowercase"
   ]
  },
  {
   "cell_type": "code",
   "execution_count": 14,
   "metadata": {},
   "outputs": [],
   "source": [
    "fixed_vocab = pd.read_csv(\"vocabulary_10000.csv\")[\"word\"].str.lower().tolist()\n",
    "\n",
    "# Konverter tekst til numeriske features med CountVectorizer\n",
    "vectorizer = CountVectorizer(vocabulary=fixed_vocab, lowercase=False)\n",
    "X = vectorizer.fit_transform(df[\"cleaned content\"])\n",
    "y = df[\"type\"]"
   ]
  },
  {
   "cell_type": "markdown",
   "metadata": {},
   "source": [
    "# Opdel data i træning (80%), validering (10%) og test (10%)"
   ]
  },
  {
   "cell_type": "code",
   "execution_count": 15,
   "metadata": {},
   "outputs": [
    {
     "name": "stdout",
     "output_type": "stream",
     "text": [
      "\n",
      " Datasæt gemt og klar til modellering!\n"
     ]
    }
   ],
   "source": [
    "\n",
    "X_train, X_temp, y_train, y_temp = train_test_split(X, y, test_size=0.2, random_state=42, stratify=y)\n",
    "X_val, X_test, y_val, y_test = train_test_split(X_temp, y_temp, test_size=0.5, random_state=42, stratify=y_temp)\n",
    "\n",
    "# Gem data til brug i modellen\n",
    "dataset = {\n",
    "    \"X_train\": X_train, \"y_train\": y_train,\n",
    "    \"X_val\": X_val, \"y_val\": y_val,\n",
    "    \"X_test\": X_test, \"y_test\": y_test,\n",
    "    \"vectorizer\": vectorizer\n",
    "}\n",
    "\n",
    "joblib.dump(dataset, \"dataset.pkl\")\n",
    "print(\"\\n Datasæt gemt og klar til modellering!\")"
   ]
  },
  {
   "cell_type": "markdown",
   "metadata": {},
   "source": [
    "# Træning data task 1"
   ]
  },
  {
   "cell_type": "code",
   "execution_count": 16,
   "metadata": {},
   "outputs": [],
   "source": [
    "import joblib\n",
    "from sklearn.linear_model import LogisticRegression\n",
    "from sklearn.metrics import f1_score, accuracy_score, classification_report\n",
    "\n",
    "# Indlæs det gemte datasæt\n",
    "dataset = joblib.load(\"dataset.pkl\")\n",
    "X_train, y_train = dataset[\"X_train\"], dataset[\"y_train\"]\n",
    "X_val, y_val = dataset[\"X_val\"], dataset[\"y_val\"]\n",
    "X_test, y_test = dataset[\"X_test\"], dataset[\"y_test\"]\n",
    "vectorizer = dataset[\"vectorizer\"]"
   ]
  },
  {
   "cell_type": "markdown",
   "metadata": {},
   "source": [
    "# 8. Træn logistisk regressionsmodel"
   ]
  },
  {
   "cell_type": "code",
   "execution_count": null,
   "metadata": {},
   "outputs": [
    {
     "name": "stdout",
     "output_type": "stream",
     "text": [
      "Træner modellen...\n",
      "Modellen er trænet!\n",
      "Modellen er gemt.\n"
     ]
    }
   ],
   "source": [
    "\n",
    "model = LogisticRegression(max_iter=5000, solver=\"saga\", n_jobs=-1, random_state=42)\n",
    "print(\"Træner modellen...\")\n",
    "model.fit(X_train, y_train)\n",
    "print(\"Modellen er trænet!\")\n",
    "\n",
    "joblib.dump(model, \"logistic_regression_model.pkl\")\n",
    "print(\"Modellen er gemt.\")\n"
   ]
  },
  {
   "cell_type": "markdown",
   "metadata": {},
   "source": [
    "# 10. Evaluer på valideringssættet"
   ]
  },
  {
   "cell_type": "code",
   "execution_count": 74,
   "metadata": {},
   "outputs": [
    {
     "name": "stdout",
     "output_type": "stream",
     "text": [
      "F1-score på valideringssættet: 0.8517\n",
      "Nøjagtighed på valideringssættet: 0.8517\n",
      "\n",
      "Klassifikationsrapport for valideringssættet:\n",
      "               precision    recall  f1-score   support\n",
      "\n",
      "        fake       0.84      0.86      0.85     42785\n",
      "    reliable       0.86      0.84      0.85     44050\n",
      "\n",
      "    accuracy                           0.85     86835\n",
      "   macro avg       0.85      0.85      0.85     86835\n",
      "weighted avg       0.85      0.85      0.85     86835\n",
      "\n",
      "F1-score på test-sættet: 0.8527\n",
      "Nøjagtighed på test-sættet: 0.8527\n",
      "\n",
      "Klassifikationsrapport for test-sættet:\n",
      "               precision    recall  f1-score   support\n",
      "\n",
      "        fake       0.84      0.86      0.85     42786\n",
      "    reliable       0.86      0.84      0.85     44049\n",
      "\n",
      "    accuracy                           0.85     86835\n",
      "   macro avg       0.85      0.85      0.85     86835\n",
      "weighted avg       0.85      0.85      0.85     86835\n",
      "\n"
     ]
    }
   ],
   "source": [
    "\n",
    "y_val_pred = model.predict(X_val)\n",
    "f1_val = f1_score(y_val, y_val_pred, average=\"weighted\")\n",
    "accuracy_val = accuracy_score(y_val, y_val_pred)\n",
    "print(f\"F1-score på valideringssættet: {f1_val:.4f}\")\n",
    "print(f\"Nøjagtighed på valideringssættet: {accuracy_val:.4f}\")\n",
    "print(\"\\nKlassifikationsrapport for valideringssættet:\\n\", classification_report(y_val, y_val_pred))\n",
    "\n",
    "# 11. Evaluer på test-sættet\n",
    "y_test_pred = model.predict(X_test)\n",
    "f1_test = f1_score(y_test, y_test_pred, average=\"weighted\")\n",
    "accuracy_test = accuracy_score(y_test, y_test_pred)\n",
    "print(f\"F1-score på test-sættet: {f1_test:.4f}\")\n",
    "print(f\"Nøjagtighed på test-sættet: {accuracy_test:.4f}\")\n",
    "print(\"\\nKlassifikationsrapport for test-sættet:\\n\", classification_report(y_test, y_test_pred))\n"
   ]
  },
  {
   "cell_type": "markdown",
   "metadata": {},
   "source": [
    "# Task 2\n",
    "Task 2: Consider whether it would make sense to include meta-data features as well. If so, which ones, and why? If relevant, report the performance when including these additional features and compare it to the first baselines. Discuss whether these results match your expectations."
   ]
  },
  {
   "cell_type": "markdown",
   "metadata": {},
   "source": [
    "# Indlæser vi kun de nødvendige kolonner fra dataset"
   ]
  },
  {
   "cell_type": "code",
   "execution_count": null,
   "metadata": {},
   "outputs": [],
   "source": [
    "# Indlæs data med nødvendige kolonner\n",
    "df = pd.read_csv(\"cleaned_dataset_FULL.csv\", usecols=[\"cleaned content\", \"type\", \"title\", \"authors\", \"domain\"])\n",
    "df = df.dropna(subset=[\"cleaned content\", \"type\", \"title\", \"domain\"])"
   ]
  },
  {
   "cell_type": "markdown",
   "metadata": {},
   "source": [
    "\n",
    "# Korrekt mapping af labels til kun to klasser"
   ]
  },
  {
   "cell_type": "code",
   "execution_count": 30,
   "metadata": {},
   "outputs": [
    {
     "name": "stdout",
     "output_type": "stream",
     "text": [
      "\n",
      "Unikke labels efter mapping: ['reliable' 'fake']\n",
      "\n",
      "Antal rækker efter rensning: 751147\n"
     ]
    }
   ],
   "source": [
    "# Fjern ukendte og ubrugelige labels\n",
    "df = df[df[\"type\"] != \"unknown\"] \n",
    "df = df[df[\"type\"] != \"unreliable\"]\n",
    "\n",
    "# Fjern duplikate titler\n",
    "df = df.drop_duplicates(subset=[\"title\"], keep=\"first\")\n",
    "\n",
    "text_cols = [\"cleaned content\", \"title\", \"domain\", \"authors\"]\n",
    "for col in text_cols:\n",
    "    df[col] = df[col].astype(str).str.lower()\n",
    "\n",
    "df[\"author_present\"] = df[\"authors\"].notnull().astype(int)\n",
    "df[\"authors\"] = df[\"authors\"].fillna(\"unknown\")\n",
    "\n",
    "df[\"title_length\"] = df[\"title\"].apply(lambda x: len(x.split()))\n",
    "\n",
    "class_mapping = {\n",
    "    \"fake\": \"fake\", \"satire\": \"fake\", \"conspiracy\": \"fake\", \"junksci\": \"fake\",\n",
    "    \"bias\": \"fake\", \"rumor\": \"fake\", \"state\": \"fake\", \"hate\": \"fake\",  \n",
    "    \"reliable\": \"reliable\",\n",
    "    \"clickbait\": \"reliable\",  \n",
    "    \"political\": \"reliable\"\n",
    "}\n",
    "\n",
    "df = df[df[\"type\"].isin(class_mapping.keys())] \n",
    "df[\"type\"] = df[\"type\"].map(class_mapping)\n",
    "\n",
    "# Tjek at kun \"fake\" og \"reliable\" findes nu\n",
    "print(\"\\nUnikke labels efter mapping:\", df[\"type\"].unique())\n",
    "print(\"\\nAntal rækker efter rensning:\", len(df))"
   ]
  },
  {
   "cell_type": "markdown",
   "metadata": {},
   "source": [
    "# Vectorize artikeltekst med 10000 konstant ord"
   ]
  },
  {
   "cell_type": "code",
   "execution_count": null,
   "metadata": {},
   "outputs": [],
   "source": [
    "fixed_vocab = pd.read_csv(\"vocabulary_10000.csv\")[\"word\"].str.lower().tolist()\n",
    "vectorizer = CountVectorizer(vocabulary=fixed_vocab, lowercase=False, ngram_range=(1, 2))\n",
    "X_content = vectorizer.fit_transform(df[\"cleaned content\"])\n",
    "y = df[\"type\"]"
   ]
  },
  {
   "cell_type": "markdown",
   "metadata": {},
   "source": [
    "# Vectorizer af daterne og kombiner alle features "
   ]
  },
  {
   "cell_type": "code",
   "execution_count": null,
   "metadata": {},
   "outputs": [],
   "source": [
    "from sklearn.feature_extraction.text import CountVectorizer\n",
    "from scipy.sparse import hstack, csr_matrix\n",
    "\n",
    "domain_vectorizer = CountVectorizer(lowercase=True)\n",
    "X_domain = domain_vectorizer.fit_transform(df[\"domain\"])\n",
    "\n",
    "author_vectorizer = CountVectorizer(lowercase=True)\n",
    "X_author = author_vectorizer.fit_transform(df[\"authors\"])\n",
    "\n",
    "X_title_length = csr_matrix(df[[\"title_length\"]].values)\n",
    "\n",
    "X_full = hstack([X_content, X_domain, X_author, X_title_length])\n"
   ]
  },
  {
   "cell_type": "markdown",
   "metadata": {},
   "source": [
    "# Spliterr date"
   ]
  },
  {
   "cell_type": "code",
   "execution_count": null,
   "metadata": {},
   "outputs": [],
   "source": [
    "from sklearn.model_selection import StratifiedShuffleSplit\n",
    "from sklearn.linear_model import LogisticRegression\n",
    "from sklearn.metrics import classification_report, accuracy_score, f1_score\n",
    "\n",
    "sss1 = StratifiedShuffleSplit(n_splits=1, test_size=0.2, random_state=42)\n",
    "\n",
    "for train_index, temp_index in sss1.split(X_full, y):\n",
    "    X_train, X_temp = X_full[train_index], X_full[temp_index]\n",
    "    y_train, y_temp = y.iloc[train_index], y.iloc[temp_index]\n",
    "\n",
    "sss2 = StratifiedShuffleSplit(n_splits=1, test_size=0.5, random_state=42)\n",
    "\n",
    "for val_index, test_index in sss2.split(X_temp, y_temp):\n",
    "    X_val, X_test = X_temp[val_index], X_temp[test_index]\n",
    "    y_val, y_test = y_temp.iloc[val_index], y_temp.iloc[test_index]\n",
    "\n",
    "\n"
   ]
  },
  {
   "cell_type": "markdown",
   "metadata": {},
   "source": [
    "# Vectorizer til domain, domain titl"
   ]
  },
  {
   "cell_type": "code",
   "execution_count": null,
   "metadata": {},
   "outputs": [],
   "source": [
    "from scipy.sparse import hstack, csr_matrix\n",
    "from sklearn.feature_extraction.text import CountVectorizer\n",
    "\n",
    "\n",
    "domain_vectorizer = CountVectorizer(lowercase=True)\n",
    "X_domain = domain_vectorizer.fit_transform(df[\"domain\"])\n",
    "\n",
    "author_vectorizer = CountVectorizer(lowercase=True)\n",
    "XX_author = author_vectorizer.fit_transform(df[\"authors\"]) \n",
    "X_author_present = csr_matrix(df[\"author_present\"].values.reshape(-1, 1))\n",
    "\n",
    "X_title_length = csr_matrix(df[[\"title_length\"]].values)\n",
    "\n",
    "# Kombiner alle features i én samlet sparse matrix\n",
    "X_full = hstack([X_content, X_domain, X_author, X_title_length])\n",
    "\n"
   ]
  },
  {
   "cell_type": "markdown",
   "metadata": {},
   "source": [
    "# Træning model"
   ]
  },
  {
   "cell_type": "code",
   "execution_count": 53,
   "metadata": {},
   "outputs": [
    {
     "name": "stdout",
     "output_type": "stream",
     "text": [
      "Træner modellen med metadata...\n",
      "Modellen er trænet!\n"
     ]
    }
   ],
   "source": [
    "from sklearn.linear_model import LogisticRegression\n",
    "from sklearn.metrics import classification_report, accuracy_score, f1_score\n",
    "import joblib\n",
    "\n",
    "# Træn Logistic Regression-modellen\n",
    "model_meta = LogisticRegression(max_iter=5000, solver=\"saga\", n_jobs=-1, random_state=42)\n",
    "print(\"Træner modellen med metadata...\")\n",
    "model_meta.fit(X_train, y_train)\n",
    "print(\"Modellen er trænet!\")"
   ]
  },
  {
   "cell_type": "code",
   "execution_count": 54,
   "metadata": {},
   "outputs": [
    {
     "name": "stdout",
     "output_type": "stream",
     "text": [
      "\n",
      "F1-score (validering): 0.9649\n",
      "Nøjagtighed (validering): 0.9649\n",
      "              precision    recall  f1-score   support\n",
      "\n",
      "        fake       0.96      0.98      0.97     38299\n",
      "    reliable       0.97      0.95      0.96     36816\n",
      "\n",
      "    accuracy                           0.96     75115\n",
      "   macro avg       0.97      0.96      0.96     75115\n",
      "weighted avg       0.97      0.96      0.96     75115\n",
      "\n",
      "\n",
      "F1-score (test): 0.9640\n",
      "Nøjagtighed (test): 0.9640\n",
      "              precision    recall  f1-score   support\n",
      "\n",
      "        fake       0.95      0.98      0.97     38299\n",
      "    reliable       0.97      0.95      0.96     36816\n",
      "\n",
      "    accuracy                           0.96     75115\n",
      "   macro avg       0.96      0.96      0.96     75115\n",
      "weighted avg       0.96      0.96      0.96     75115\n",
      "\n"
     ]
    },
    {
     "data": {
      "text/plain": [
       "['logistic_regression_model_metadata.pkl']"
      ]
     },
     "execution_count": 54,
     "metadata": {},
     "output_type": "execute_result"
    }
   ],
   "source": [
    "y_val_pred = model_meta.predict(X_val)\n",
    "f1_val = f1_score(y_val, y_val_pred, average=\"weighted\")\n",
    "accuracy_val = accuracy_score(y_val, y_val_pred)\n",
    "print(f\"\\nF1-score (validering): {f1_val:.4f}\")\n",
    "print(f\"Nøjagtighed (validering): {accuracy_val:.4f}\")\n",
    "print(classification_report(y_val, y_val_pred))\n",
    "# Evaluér på testsættet\n",
    "y_test_pred = model_meta.predict(X_test)\n",
    "f1_test = f1_score(y_test, y_test_pred, average=\"weighted\")\n",
    "accuracy_test = accuracy_score(y_test, y_test_pred)\n",
    "print(f\"\\nF1-score (test): {f1_test:.4f}\")\n",
    "print(f\"Nøjagtighed (test): {accuracy_test:.4f}\")\n",
    "print(classification_report(y_test, y_test_pred))\n",
    "\n",
    "# Gem evt. modellen\n",
    "joblib.dump(model_meta, \"logistic_regression_model_metadata.pkl\")"
   ]
  },
  {
   "cell_type": "markdown",
   "metadata": {},
   "source": [
    "# Task 3"
   ]
  },
  {
   "cell_type": "markdown",
   "metadata": {},
   "source": [
    "# Vi læser ny tata"
   ]
  },
  {
   "cell_type": "markdown",
   "metadata": {},
   "source": [
    "Læser data fra \"cleaned_bbc_articles_FULL.csv\""
   ]
  },
  {
   "cell_type": "code",
   "execution_count": null,
   "metadata": {},
   "outputs": [],
   "source": [
    "import pandas as pd\n",
    "from scipy.sparse import vstack, csr_matrix\n",
    "from sklearn.utils import resample\n",
    "\n",
    "\n",
    "df_bbc = pd.read_csv(\"cleaned_bbc_articles_FULL.csv\")\n",
    "df_bbc[\"title\"] = df_bbc[\"headline\"].fillna(\"\")\n",
    "df_bbc[\"authors\"] = df_bbc[\"author\"].fillna(\"unknown\")  \n",
    "df_bbc[\"type\"] = \"reliable\""
   ]
  },
  {
   "cell_type": "markdown",
   "metadata": {},
   "source": [
    "Tilføje metadata"
   ]
  },
  {
   "cell_type": "code",
   "execution_count": null,
   "metadata": {},
   "outputs": [],
   "source": [
    "df_bbc[\"title\"] = df_bbc[\"title\"].astype(str).str.lower()\n",
    "df_bbc[\"authors\"] = df_bbc[\"authors\"].astype(str).str.lower()\n",
    "\n",
    "df_bbc[\"title_length\"] = df_bbc[\"title\"].apply(lambda x: len(x.split()))\n",
    "df_bbc[\"author_present\"] = df_bbc[\"authors\"].ne(\"unknown\").astype(int)\n",
    "\n",
    "#Brug Task 2's vectorizers direkte\n",
    "X_bbc_text = vectorizer.transform(df_bbc[\"title\"] + \" \" + df_bbc[\"content\"])  # Titel + indhold\n",
    "X_bbc_domain = domain_vectorizer.transform(df_bbc[\"domain\"])\n",
    "X_bbc_author = author_vectorizer.transform(df_bbc[\"authors\"])\n",
    "X_bbc_title_len = csr_matrix(df_bbc[[\"title_length\"]].values)\n"
   ]
  },
  {
   "cell_type": "markdown",
   "metadata": {},
   "source": [
    "Kombiner features i samme rækkefølge"
   ]
  },
  {
   "cell_type": "code",
   "execution_count": null,
   "metadata": {},
   "outputs": [],
   "source": [
    "X_bbc = hstack([X_bbc_text, X_bbc_domain, X_bbc_author, X_bbc_title_len])\n",
    "\n",
    "\n",
    "n_fake = sum(y_train == \"fake\")\n",
    "X_bbc_balanced, y_bbc_balanced = resample(\n",
    "    X_bbc,\n",
    "    df_bbc[\"type\"],\n",
    "    n_samples=min(n_fake, len(df_bbc)),  \n",
    "    random_state=42\n",
    ")\n",
    "\n",
    "# Kombiner med Task 2-data\n",
    "X_train_final = vstack([X_train, X_bbc_balanced])\n",
    "y_train_final = pd.concat([y_train, y_bbc_balanced])"
   ]
  },
  {
   "cell_type": "markdown",
   "metadata": {},
   "source": [
    "Træne data"
   ]
  },
  {
   "cell_type": "code",
   "execution_count": 43,
   "metadata": {},
   "outputs": [
    {
     "name": "stdout",
     "output_type": "stream",
     "text": [
      "Træner den endelige model...\n"
     ]
    },
    {
     "name": "stderr",
     "output_type": "stream",
     "text": [
      "python(80364) MallocStackLogging: can't turn off malloc stack logging because it was not enabled.\n",
      "python(80365) MallocStackLogging: can't turn off malloc stack logging because it was not enabled.\n",
      "python(80366) MallocStackLogging: can't turn off malloc stack logging because it was not enabled.\n",
      "python(80367) MallocStackLogging: can't turn off malloc stack logging because it was not enabled.\n",
      "python(80369) MallocStackLogging: can't turn off malloc stack logging because it was not enabled.\n",
      "python(80370) MallocStackLogging: can't turn off malloc stack logging because it was not enabled.\n"
     ]
    },
    {
     "name": "stdout",
     "output_type": "stream",
     "text": [
      "Træning fuldført!\n"
     ]
    }
   ],
   "source": [
    "from sklearn.linear_model import LogisticRegression\n",
    "from sklearn.metrics import classification_report\n",
    "\n",
    "model = LogisticRegression(\n",
    "    max_iter=1000,        \n",
    "    solver='lbfgs',       \n",
    "    C=0.8,              \n",
    "    random_state=42,     \n",
    "    n_jobs=-1            \n",
    ")\n",
    "\n",
    "\n",
    "print(\"Træner den endelige model...\")\n",
    "model.fit(X_train_final, y_train_final)\n",
    "print(\"Træning fuldført!\")"
   ]
  },
  {
   "cell_type": "markdown",
   "metadata": {},
   "source": [
    "Evaluér på testdata"
   ]
  },
  {
   "cell_type": "code",
   "execution_count": 44,
   "metadata": {},
   "outputs": [
    {
     "name": "stdout",
     "output_type": "stream",
     "text": [
      "\n",
      "Evaluering på test-sæt:\n",
      "              precision    recall  f1-score   support\n",
      "\n",
      "        fake       1.00      1.00      1.00     38299\n",
      "    reliable       1.00      1.00      1.00     36816\n",
      "\n",
      "    accuracy                           1.00     75115\n",
      "   macro avg       1.00      1.00      1.00     75115\n",
      "weighted avg       1.00      1.00      1.00     75115\n",
      "\n",
      "\n",
      "Model-detaljer:\n",
      "Antal træningseksempler: 601774\n",
      "Klassefordeling (fake/reliable): [306388 295386]\n",
      "Antal features: 56853\n"
     ]
    }
   ],
   "source": [
    "import numpy as np\n",
    "print(\"\\nEvaluering på test-sæt:\")\n",
    "y_pred = model.predict(X_test)\n",
    "print(classification_report(y_test, y_pred))\n",
    "\n",
    "\n",
    "print(\"\\nModel-detaljer:\")\n",
    "print(f\"Antal træningseksempler: {X_train_final.shape[0]}\")\n",
    "print(f\"Klassefordeling (fake/reliable): {np.unique(y_train_final, return_counts=True)[1]}\")\n",
    "print(f\"Antal features: {X_train_final.shape[1]}\")"
   ]
  },
  {
   "cell_type": "code",
   "execution_count": null,
   "metadata": {},
   "outputs": [],
   "source": []
  }
 ],
 "metadata": {
  "kernelspec": {
   "display_name": "myenv",
   "language": "python",
   "name": "python3"
  },
  "language_info": {
   "codemirror_mode": {
    "name": "ipython",
    "version": 3
   },
   "file_extension": ".py",
   "mimetype": "text/x-python",
   "name": "python",
   "nbconvert_exporter": "python",
   "pygments_lexer": "ipython3",
   "version": "3.12.8"
  }
 },
 "nbformat": 4,
 "nbformat_minor": 2
}

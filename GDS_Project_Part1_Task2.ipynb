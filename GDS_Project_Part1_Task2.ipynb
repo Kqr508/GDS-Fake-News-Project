{
 "cells": [
  {
   "cell_type": "markdown",
   "id": "53d8d3fa-5633-41a6-9d15-562242b1f3af",
   "metadata": {},
   "source": [
    "## **Task 2:** Now try to explore the 995K FakeNewsCorpus subset. \n",
    "## Make at least three non-trivial observations/discoveries about the data. \n",
    "## These observations could be related to outliers, artefacts, or even better: genuinely interesting patterns in the data that could potentially be used for fake-news detection. \n",
    "## Examples of simple observations could be how many missing values there are in particular columns - or what the distribution over domains is. Be creative!"
   ]
  },
  {
   "cell_type": "markdown",
   "id": "3f4c08c9-7d80-4f26-97af-f18ef0348891",
   "metadata": {
    "jp-MarkdownHeadingCollapsed": true
   },
   "source": [
    "### Describe how you ended up representing the FakeNewsCorpus dataset (for instance with a Pandas dataframe). Argue for why you chose this design.\n",
    "#### - Did you discover any inherent problems with the data while working with it?\n",
    "#### - Report key properties of the data set - for instance through statistics or visualization.\n",
    "### The exploration can include (but need not be limited to):\n",
    "\n",
    "#### - Counting the number of URLs in the content\n",
    "#### - Counting the number of dates in the content\n",
    "#### - Counting the number of numeric values in the content\n",
    "#### - Determining the 100 more frequent words that appear in the content\n",
    "#### - Plot the frequency of the 10000 most frequent words (any interesting patterns?)\n",
    "#### - Run the analysis in point 4 and 5 both before and after removing stopwords and applying stemming: do you see any difference?"
   ]
  },
  {
   "cell_type": "markdown",
   "id": "adde21e4-7b55-449f-a679-fedab6bbe46e",
   "metadata": {},
   "source": [
    "## Data representation"
   ]
  },
  {
   "cell_type": "markdown",
   "id": "8af65a32-98b0-4115-b4bd-bdf17a0c026b",
   "metadata": {},
   "source": [
    "[Reasoning for choice of dataframe]"
   ]
  },
  {
   "cell_type": "code",
   "execution_count": 1,
   "id": "804eb75a-ff98-4b26-af77-cc11327afcd5",
   "metadata": {},
   "outputs": [],
   "source": [
    "import pandas as pd\n",
    "import re\n",
    "\n",
    "file = \"995,000_rows.csv\"\n",
    "# I've not put the read function to avoid exploding my laptop"
   ]
  },
  {
   "cell_type": "markdown",
   "id": "0df4b965-bf28-4092-97a7-d13efa336fc4",
   "metadata": {},
   "source": [
    "### Brainstorm for possible interesting non-trivial observations/discoveries to analyse."
   ]
  },
  {
   "cell_type": "markdown",
   "id": "75586d7c-a175-4825-b84e-5761c85a4eb2",
   "metadata": {},
   "source": [
    "##### 1. Similarities of the fake news in their word frequency and noting which words are most prevalent.\n",
    "##### 2. Charachter length of the fake news.\n",
    "##### 3. POS (Parts of Speech).\n",
    "###### 3.1 Frequency of nouns, verbs, etc.\n",
    "##### 4. Frequency of  names (i.e. frequency of 'Trump' or 'Hillary').\n",
    "##### 5. Frequency of links (urls).\n",
    "##### 6. Frequency of quotes (citater). \n",
    "##### 7. Frequency of dates (dato).\n",
    "##### 8. The positivity/negativity.\n",
    "##### 9. Averge of length of words used in titles. (i.e. supercalifragilistic or alert)\n",
    "##### 10. Use of capital letters in titles. (BREAKING NEWS! or Breaking News!)\n",
    "##### 11. Readability index (lixtal).\n",
    "##### 12. Use of complex words.\n",
    "##### 13. Use of emotional words\n",
    "##### 13. Frequency of numbers\n",
    "##### 14. Length of numbers\n",
    "##### 15. Frequency of Author names.\n",
    "##### 16. Use of exclamation/question mark."
   ]
  },
  {
   "cell_type": "code",
   "execution_count": null,
   "id": "9cbbf8f3-1692-4c10-bda5-3d82d9e755a8",
   "metadata": {},
   "outputs": [],
   "source": []
  }
 ],
 "metadata": {
  "kernelspec": {
   "display_name": "Python [conda env:base] *",
   "language": "python",
   "name": "conda-base-py"
  },
  "language_info": {
   "codemirror_mode": {
    "name": "ipython",
    "version": 3
   },
   "file_extension": ".py",
   "mimetype": "text/x-python",
   "name": "python",
   "nbconvert_exporter": "python",
   "pygments_lexer": "ipython3",
   "version": "3.12.7"
  }
 },
 "nbformat": 4,
 "nbformat_minor": 5
}

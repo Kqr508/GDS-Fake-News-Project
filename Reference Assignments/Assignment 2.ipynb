{
 "cells": [
  {
   "cell_type": "markdown",
   "metadata": {},
   "source": [
    "<div style=\"text-align: center;\">\n",
    "  <h1>Assignment 2</h1>\n",
    "  Andy Kaarup Harboe - kqr508\n",
    "</div>"
   ]
  },
  {
   "cell_type": "markdown",
   "metadata": {},
   "source": [
    "## Opgave 1\n",
    "I denne opgave vil jeg importere den cleanede version af ``news_sample.csv`` fra *Assignment 1*, hvorefter jeg udforske datasættet for at se om der er nogle artikler der burde fjernes. Når dette er gjort vil jeg gruppere det resterende data i 2 grupper: *'fake'* og *'reliable'*. Slutteligt vil jeg analysere fordelingen af *fake* artikler versus *reliable* artikler, for at se om datasættet er balanceret.\n",
    "\n",
    "Nedenfor bruger jeg ``read_csv`` funktionen fra ``pandas`` til at indlæse en filen ``cleaned_news_sample.csv``, som indeholder det samme som ``news_sample.csv``, bortset fra at alt indholdet i ``content`` kolonnen er blevet udskiften med en cleaned version. Filen ``cleaned_news_sample.csv`` er lavet på baggrund af cleaning processen fra *Assignment 1* og er blevet lavet til en csv-fil med ``to_csv`` funktionen fra ``pandas``."
   ]
  },
  {
   "cell_type": "code",
   "execution_count": 1,
   "metadata": {},
   "outputs": [
    {
     "data": {
      "application/vnd.microsoft.datawrangler.viewer.v0+json": {
       "columns": [
        {
         "name": "index",
         "rawType": "int64",
         "type": "integer"
        },
        {
         "name": "id",
         "rawType": "int64",
         "type": "integer"
        },
        {
         "name": "domain",
         "rawType": "object",
         "type": "string"
        },
        {
         "name": "type",
         "rawType": "object",
         "type": "string"
        },
        {
         "name": "url",
         "rawType": "object",
         "type": "string"
        },
        {
         "name": "content",
         "rawType": "object",
         "type": "string"
        },
        {
         "name": "scraped_at",
         "rawType": "object",
         "type": "string"
        },
        {
         "name": "inserted_at",
         "rawType": "object",
         "type": "string"
        },
        {
         "name": "updated_at",
         "rawType": "object",
         "type": "string"
        },
        {
         "name": "title",
         "rawType": "object",
         "type": "string"
        },
        {
         "name": "authors",
         "rawType": "object",
         "type": "unknown"
        },
        {
         "name": "keywords",
         "rawType": "float64",
         "type": "float"
        },
        {
         "name": "meta_keywords",
         "rawType": "object",
         "type": "string"
        },
        {
         "name": "meta_description",
         "rawType": "object",
         "type": "unknown"
        },
        {
         "name": "tags",
         "rawType": "object",
         "type": "unknown"
        },
        {
         "name": "summary",
         "rawType": "float64",
         "type": "float"
        }
       ],
       "conversionMethod": "pd.DataFrame",
       "ref": "44330a1c-7fbb-4797-9bea-4dd4325be11a",
       "rows": [
        [
         "0",
         "141",
         "awm.com",
         "unreliable",
         "http://awm.com/church-congregation-brings-gift-to-waitresses-working-on-christmas-eve-has-them-crying-video/",
         "sometimes the power of christmas will make you do wild and wonderful things you do not need to believe in the holy trinity to believe in the positive power of doing good for others the simple act of giving without receiving is lost on many of us these days as worries about money and success hold us back from giving to others who are in need one congregation in ohio was moved to action by the power of a sermon given at their church on christmas eve the pastor at grand lake united methodist church in celina ohio gave an emotional sermon about the importance of understanding the message of jesus\nfor many religious people the message of jesus is to help others before yourself to make sure the people who are suffering get the help they need to enjoy life a little bit the sermon was really about generosity and what that can look like in our lives jesus lived a long time ago and he acted generously in the fashion of his time but what would a generous act look like in our times that was the focus of the sermon\nthe potency of the sermon was not lost on the congregation who were so moved they had to take action after the sermon ended the congregation decided to take an offering a bowl was passed around the room and everyone pitched in what they could on this christmas eve with the words of the sermon still ringing in their ears\nwhat did they do with this offering members of the congregation drove down to the local waffle house to visit the ladies working the night shift what a great choice on this most holy of days when everyone should be with their families\nthe ladies working at waffle house clearly were not with their families they had no choice but to work on this holy day because it paid the bills the congregation understood the sacrifice being made by these ladies and wanted to help them out they donated the entire offering to be split amongst the ladies at waffle house\nin total that amounted to <CUR> <NUM> being split amongst the staff what a beautiful moment what a perfect example of what the preacher was talking about in his sermon doing a good deed like this on christmas really helped ease the burden felt by the ladies working at waffle house sure they could not see their families but at least they got a little gift from the good people of their community\nperhaps the best part about this whole event was that the congregation did not ask anything in return it was a simple act of generosity from people who understood the pain being felt by another group and sought to alleviate some of that pain it speaks volumes about the merits of the church in our daily lives this simple act brought the entire community together because it showed empathy and compassion on the most special day of the year",
         "2018-01-25 16:17:44.789555",
         "2018-02-02 01:19:41.756632",
         "2018-02-02 01:19:41.756664",
         "Church Congregation Brings Gift to Waitresses Working on Christmas Eve, Has Them Crying (video)",
         "Ruth Harris",
         null,
         "['']",
         null,
         null,
         null
        ],
        [
         "1",
         "256",
         "beforeitsnews.com",
         "fake",
         "http://beforeitsnews.com/awakening-start-here/2018/01/awakening-of-12-strands-of-dna-reconnecting-with-you-movie-10623.html",
         "awakening of <NUM> strands of dna reconnecting with you movie\nof readers think this story is fact add your two cents\nheadline bitcoin blockchain searches exceed trump blockchain stocks are next\n<DATE> <URL>\nas miles johnston was giving update it was another case of strange synchronicities of goodness hidden inside of tests and trials like a follow the whiterabbit down the rabbit hole type of exercise\nin researching the <NUM> strands of dna we came across some articles one in particular was as a strange synchronicity written exactly <NUM> year ago on the same topic\n<URL>\n<URL>\nwhat are the <NUM> strands of our dna and why is a war against our dna\ntrailer for awakening of <NUM> strands\nthe full video is only available as a paid video on vimeo\nawakening of <NUM> strands reconnecting with you\n<URL>\nawakening of <NUM> strands reconnecting with you from sandra daroy on vimeo\nwe have not watched the full video but based on the strange synchronicities present within we suggest you use your discernment as always necessary in these end times\n<URL>",
         "2018-01-25 16:17:44.789555",
         "2018-02-02 01:19:41.756632",
         "2018-02-02 01:19:41.756664",
         "AWAKENING OF 12 STRANDS of DNA – “Reconnecting with You” Movie",
         "Zurich Times",
         null,
         "['']",
         null,
         null,
         null
        ],
        [
         "2",
         "700",
         "cnnnext.com",
         "unreliable",
         "http://www.cnnnext.com/video/18526/never-hike-alone-a-friday-the-13th-fan-film-full-movie-/",
         "never hike alone a <DATE> fan film usa | <DATE> | <NUM> min a fan tribute to <DATE> never hike alone follows an adventure\nnever hike alone a <DATE> fan film usa | <DATE> | <NUM> min\na fan tribute to <DATE> never hike alone follows an adventure blogger kyle mcleod andrew leighty who uncovers the long lost remains of camp crystal lake while on a solo backpacking trip\nignoring the campfire tales from his childhood kyle s search turns deadly when he makes the grave mistake of crossing the path of camp blood s legendary mass murderer jason voorhees\nstranded in the forest with jason on his heels kyle must push his survival skills to their limits if he hopes to survive the night\notherwise he ll wind up as another lost victim of the cursed camp\ndirected by\nvincente disanti\nscreenplay by\nvincente disanti and nathan mcleod\nbased on characters created by\nsean cunningham\nvictor miller\nron kurtz\nstarring\nandrew leighty as kyle mcleod\nvincente disanti as jason voorhees\nexecutive producers\nbarry jay stitch\ncarolyn gair\nsarah disanti\nproducers\nkyle klein\ndaniel evans\nmatthew barrett\nco producers\nsteven squillante\nchristopher thellas\nalexander thellas\nassociate producers\ncody cameron\nchristian ascencio\nlydia ascencio\nlynn hobson\nrene rivas\nmike whelan\ndirectors of photography\nchristopher thellas\nj d\nmartz\nproduction designer\nbrittany porter\nspecial make up effects\nkelsey berk\nwardrobe\nstephen boyd morales\nstunts\njessica bennett\nbryan forrest as jason voorhees\ndonny nichols as kyle mcleod\nfilm editing by\nlawrence gan\nsarah disanti\nunit stills photography\nashly covington\nmusic by\nryan perez daple\nrun like hell\nwritten by vincente disanti jake gonsalves lenny machado\nperformed by gonsalves machado\nrecorded at elm street studios new bedford ma <DATE>\nappears courtesy of damn enchiladas\nanother soul\nwritten and performed by trevor vaughan\nappears on finally salao mix tape\nrecorded at the colosseum new bedford ma <DATE>\nappears courtesy of trevor vaughan mass glory records\nfor additional cast and crew visit <URL>\n<URL>\ndisclaimer\nthis production is the effort of womp stomp films llc and its volunteer associates\nnever hike alone is a product of fan fiction and in no way affiliated with or a representative of the viacom paramount film company warner brothers new line cinema horror inc the <DATE> film property or its characters\nthis project was created by fans for fans to show appreciation for the <DATE> franchise\nas of <DATE> <DATE> this project will be made free and available to all who care to watch it\nno profit shall be made off its viewing\nthank you to any and all who assisted in bringing the project to life\nwomp stomp films is forever grateful for your time and dedication to the project\nthank you for watching",
         "2018-01-25 16:17:44.789555",
         "2018-02-02 01:19:41.756632",
         "2018-02-02 01:19:41.756664",
         "Never Hike Alone - A Friday the 13th Fan Film (Full Movie)",
         null,
         null,
         "['']",
         "Never Hike Alone: A Friday the 13th Fan Film     USA | 2017 | 54 minA fan tribute to Friday the 13th, Never Hike Alone follows an adventure blogger, Kyle McLeod",
         null,
         null
        ],
        [
         "3",
         "768",
         "awm.com",
         "unreliable",
         "http://awm.com/elusive-alien-of-the-sea-caught-by-scientist-for-one-of-the-first-times-ever-video/",
         "when a rare shark was caught scientists were left blundering for answers this shark has a unique feature and it s not that it can survive at extreme depths or live for an extended period of time this shark s unique trait is that it can extend its jaw in a telescoping fashion beyond its mouth if you ve ever seen the hit science fiction movie alien this shark is that monster made manifest on earth this shark stalks its prey and then lashes out with its telescoping teeth to snatch large fish and swallow them in one bite it s a deadly predator of the deep sea\nbesides its telescoping teeth this shark can glow in the dark and was only recently discovered back in <DATE> in the three decades since it was first found just a select few of this exotic shark species have been found\nbut during a routine survey in the donghe township in taiwan the country s fisheries research institute found five of these horrifying deep sea sharks\nthe team was notably horrified and described the most obvious feature are the needle shaped teeth like snake like fangs this is also the origin of viper shark name\nthat s right this beast is called the viper shark and as you can tell by its name it is ferocious with its prey\nalthough researchers have gotten their hands on a few of these animals little is known about them but researchers think these creatures swim between <NUM> <NUM> meters under the surface of the ocean during the day to <NUM> meters below at night could this be because of temperature changes or is it something to do with light\nthe last five specimens were trawled up from a depth of <NUM> meters below the surface of the sea four were already dead but a living specimen was immediately immersed in cool seawater but it could not handle the sudden change in its habitat it perished just a day later\nwhile viper sharks look like the alien monster from the movie they do not feed on humans their main food sources are crustaceans and bony fishes one of their favorite lunch items is the lanternfish these creatures might be attracted toward the shark because of their glow in the dark bodies and when they swim close enough the shark lashes out with its extendable jaw and snatches the fish up and devours it whole\nthe first specimens of viper shark were found off the coast of shikoku island in japan in <DATE> bottom trawler vessel seiryo maru was the first to haul these creatures up to the surface of the sea\nbecause the fish was a new discovery at the time it s scientific name honors the seiryo maru captain hiromichi kabeya the shark s scientific name was trigonognathus kabeyai\nalthough not much about these fish are known scientists classify them in as a dogfish shark they have only been found in the deep parts of the pacific ocean\nhow would you react if this shark came up on the other end of your fishing line would you think you were having a nightmare",
         "2018-01-25 16:17:44.789555",
         "2018-02-02 01:19:41.756632",
         "2018-02-02 01:19:41.756664",
         "Elusive ‘Alien Of The Sea ‘ Caught By Scientist For One Of The First Times Ever (video)",
         "Alexander Smith",
         null,
         "['']",
         null,
         null,
         null
        ],
        [
         "4",
         "791",
         "bipartisanreport.com",
         "clickbait",
         "http://bipartisanreport.com/2018/01/21/trumps-genius-poll-is-complete-the-results-have-americans-bursting-with-laughter/",
         "donald trump has the unnerving ability to ability to create his own reality and convince millions of americans that what he says it is true the problem with the president lying is that he then believes his own lies a new poll shows how that can get the country into deep trouble\nthe new abc news washington post poll came out after the president s physician gave him a physical and mental exam the doctor gave trump a clean bill of health added an inch to his height and claimed he was fit to serve for seven more years\nthis poll was able to capture americans opinions after a new book came out indicating that people around trump questioned his emotional stability and ability to hold office in addition the new poll gave the respondents the time to hear trump tell the public that he was a very stable genius before they were interviewed he said\nactually throughout my life my two greatest assets have been mental stability and being like really smart\nthe abc washington post poll discovered that <NUM> percent of the people it interviewed believed that the president was a genius that left a full <NUM> percent who saw through that lie\nthen there was the question of trump s mental stability the poll found that there was a nearly even divide throughout the nation when asked if the president was stable <NUM> percent of those interviewed said he was not but <NUM> percent believed he is stable\nthe abc news washington post poll was taken from <DATE> through <NUM> <DATE> the random sample consisted of <NUM> adults interviewed by landline and cell phone in both english and spanish the margin of error was + <NUM> percentage points\nfeatured image via getty images drew angerer",
         "2018-01-25 16:17:44.789555",
         "2018-02-02 01:19:41.756632",
         "2018-02-02 01:19:41.756664",
         "Trump’s Genius Poll Is Complete & The Results Have Americans Bursting With Laughter",
         "Gloria Christie",
         null,
         "['']",
         null,
         null,
         null
        ]
       ],
       "shape": {
        "columns": 15,
        "rows": 5
       }
      },
      "text/html": [
       "<div>\n",
       "<style scoped>\n",
       "    .dataframe tbody tr th:only-of-type {\n",
       "        vertical-align: middle;\n",
       "    }\n",
       "\n",
       "    .dataframe tbody tr th {\n",
       "        vertical-align: top;\n",
       "    }\n",
       "\n",
       "    .dataframe thead th {\n",
       "        text-align: right;\n",
       "    }\n",
       "</style>\n",
       "<table border=\"1\" class=\"dataframe\">\n",
       "  <thead>\n",
       "    <tr style=\"text-align: right;\">\n",
       "      <th></th>\n",
       "      <th>id</th>\n",
       "      <th>domain</th>\n",
       "      <th>type</th>\n",
       "      <th>url</th>\n",
       "      <th>content</th>\n",
       "      <th>scraped_at</th>\n",
       "      <th>inserted_at</th>\n",
       "      <th>updated_at</th>\n",
       "      <th>title</th>\n",
       "      <th>authors</th>\n",
       "      <th>keywords</th>\n",
       "      <th>meta_keywords</th>\n",
       "      <th>meta_description</th>\n",
       "      <th>tags</th>\n",
       "      <th>summary</th>\n",
       "    </tr>\n",
       "  </thead>\n",
       "  <tbody>\n",
       "    <tr>\n",
       "      <th>0</th>\n",
       "      <td>141</td>\n",
       "      <td>awm.com</td>\n",
       "      <td>unreliable</td>\n",
       "      <td>http://awm.com/church-congregation-brings-gift...</td>\n",
       "      <td>sometimes the power of christmas will make you...</td>\n",
       "      <td>2018-01-25 16:17:44.789555</td>\n",
       "      <td>2018-02-02 01:19:41.756632</td>\n",
       "      <td>2018-02-02 01:19:41.756664</td>\n",
       "      <td>Church Congregation Brings Gift to Waitresses ...</td>\n",
       "      <td>Ruth Harris</td>\n",
       "      <td>NaN</td>\n",
       "      <td>['']</td>\n",
       "      <td>NaN</td>\n",
       "      <td>NaN</td>\n",
       "      <td>NaN</td>\n",
       "    </tr>\n",
       "    <tr>\n",
       "      <th>1</th>\n",
       "      <td>256</td>\n",
       "      <td>beforeitsnews.com</td>\n",
       "      <td>fake</td>\n",
       "      <td>http://beforeitsnews.com/awakening-start-here/...</td>\n",
       "      <td>awakening of &lt;NUM&gt; strands of dna reconnecting...</td>\n",
       "      <td>2018-01-25 16:17:44.789555</td>\n",
       "      <td>2018-02-02 01:19:41.756632</td>\n",
       "      <td>2018-02-02 01:19:41.756664</td>\n",
       "      <td>AWAKENING OF 12 STRANDS of DNA – “Reconnecting...</td>\n",
       "      <td>Zurich Times</td>\n",
       "      <td>NaN</td>\n",
       "      <td>['']</td>\n",
       "      <td>NaN</td>\n",
       "      <td>NaN</td>\n",
       "      <td>NaN</td>\n",
       "    </tr>\n",
       "    <tr>\n",
       "      <th>2</th>\n",
       "      <td>700</td>\n",
       "      <td>cnnnext.com</td>\n",
       "      <td>unreliable</td>\n",
       "      <td>http://www.cnnnext.com/video/18526/never-hike-...</td>\n",
       "      <td>never hike alone a &lt;DATE&gt; fan film usa | &lt;DATE...</td>\n",
       "      <td>2018-01-25 16:17:44.789555</td>\n",
       "      <td>2018-02-02 01:19:41.756632</td>\n",
       "      <td>2018-02-02 01:19:41.756664</td>\n",
       "      <td>Never Hike Alone - A Friday the 13th Fan Film ...</td>\n",
       "      <td>NaN</td>\n",
       "      <td>NaN</td>\n",
       "      <td>['']</td>\n",
       "      <td>Never Hike Alone: A Friday the 13th Fan Film  ...</td>\n",
       "      <td>NaN</td>\n",
       "      <td>NaN</td>\n",
       "    </tr>\n",
       "    <tr>\n",
       "      <th>3</th>\n",
       "      <td>768</td>\n",
       "      <td>awm.com</td>\n",
       "      <td>unreliable</td>\n",
       "      <td>http://awm.com/elusive-alien-of-the-sea-caught...</td>\n",
       "      <td>when a rare shark was caught scientists were l...</td>\n",
       "      <td>2018-01-25 16:17:44.789555</td>\n",
       "      <td>2018-02-02 01:19:41.756632</td>\n",
       "      <td>2018-02-02 01:19:41.756664</td>\n",
       "      <td>Elusive ‘Alien Of The Sea ‘ Caught By Scientis...</td>\n",
       "      <td>Alexander Smith</td>\n",
       "      <td>NaN</td>\n",
       "      <td>['']</td>\n",
       "      <td>NaN</td>\n",
       "      <td>NaN</td>\n",
       "      <td>NaN</td>\n",
       "    </tr>\n",
       "    <tr>\n",
       "      <th>4</th>\n",
       "      <td>791</td>\n",
       "      <td>bipartisanreport.com</td>\n",
       "      <td>clickbait</td>\n",
       "      <td>http://bipartisanreport.com/2018/01/21/trumps-...</td>\n",
       "      <td>donald trump has the unnerving ability to abil...</td>\n",
       "      <td>2018-01-25 16:17:44.789555</td>\n",
       "      <td>2018-02-02 01:19:41.756632</td>\n",
       "      <td>2018-02-02 01:19:41.756664</td>\n",
       "      <td>Trump’s Genius Poll Is Complete &amp; The Results ...</td>\n",
       "      <td>Gloria Christie</td>\n",
       "      <td>NaN</td>\n",
       "      <td>['']</td>\n",
       "      <td>NaN</td>\n",
       "      <td>NaN</td>\n",
       "      <td>NaN</td>\n",
       "    </tr>\n",
       "  </tbody>\n",
       "</table>\n",
       "</div>"
      ],
      "text/plain": [
       "    id                domain        type  \\\n",
       "0  141               awm.com  unreliable   \n",
       "1  256     beforeitsnews.com        fake   \n",
       "2  700           cnnnext.com  unreliable   \n",
       "3  768               awm.com  unreliable   \n",
       "4  791  bipartisanreport.com   clickbait   \n",
       "\n",
       "                                                 url  \\\n",
       "0  http://awm.com/church-congregation-brings-gift...   \n",
       "1  http://beforeitsnews.com/awakening-start-here/...   \n",
       "2  http://www.cnnnext.com/video/18526/never-hike-...   \n",
       "3  http://awm.com/elusive-alien-of-the-sea-caught...   \n",
       "4  http://bipartisanreport.com/2018/01/21/trumps-...   \n",
       "\n",
       "                                             content  \\\n",
       "0  sometimes the power of christmas will make you...   \n",
       "1  awakening of <NUM> strands of dna reconnecting...   \n",
       "2  never hike alone a <DATE> fan film usa | <DATE...   \n",
       "3  when a rare shark was caught scientists were l...   \n",
       "4  donald trump has the unnerving ability to abil...   \n",
       "\n",
       "                   scraped_at                 inserted_at  \\\n",
       "0  2018-01-25 16:17:44.789555  2018-02-02 01:19:41.756632   \n",
       "1  2018-01-25 16:17:44.789555  2018-02-02 01:19:41.756632   \n",
       "2  2018-01-25 16:17:44.789555  2018-02-02 01:19:41.756632   \n",
       "3  2018-01-25 16:17:44.789555  2018-02-02 01:19:41.756632   \n",
       "4  2018-01-25 16:17:44.789555  2018-02-02 01:19:41.756632   \n",
       "\n",
       "                   updated_at  \\\n",
       "0  2018-02-02 01:19:41.756664   \n",
       "1  2018-02-02 01:19:41.756664   \n",
       "2  2018-02-02 01:19:41.756664   \n",
       "3  2018-02-02 01:19:41.756664   \n",
       "4  2018-02-02 01:19:41.756664   \n",
       "\n",
       "                                               title          authors  \\\n",
       "0  Church Congregation Brings Gift to Waitresses ...      Ruth Harris   \n",
       "1  AWAKENING OF 12 STRANDS of DNA – “Reconnecting...     Zurich Times   \n",
       "2  Never Hike Alone - A Friday the 13th Fan Film ...              NaN   \n",
       "3  Elusive ‘Alien Of The Sea ‘ Caught By Scientis...  Alexander Smith   \n",
       "4  Trump’s Genius Poll Is Complete & The Results ...  Gloria Christie   \n",
       "\n",
       "   keywords meta_keywords                                   meta_description  \\\n",
       "0       NaN          ['']                                                NaN   \n",
       "1       NaN          ['']                                                NaN   \n",
       "2       NaN          ['']  Never Hike Alone: A Friday the 13th Fan Film  ...   \n",
       "3       NaN          ['']                                                NaN   \n",
       "4       NaN          ['']                                                NaN   \n",
       "\n",
       "  tags  summary  \n",
       "0  NaN      NaN  \n",
       "1  NaN      NaN  \n",
       "2  NaN      NaN  \n",
       "3  NaN      NaN  \n",
       "4  NaN      NaN  "
      ]
     },
     "execution_count": 1,
     "metadata": {},
     "output_type": "execute_result"
    }
   ],
   "source": [
    "import pandas as pd\n",
    "\n",
    "cleaned_news_sample = pd.read_csv('cleaned_news_sample.csv')\n",
    "cleaned_news_sample.head()\n"
   ]
  },
  {
   "cell_type": "markdown",
   "metadata": {},
   "source": [
    "For at bestemme hvorvidt der er nogle og hvilke artikler der skal fjernes fra datasættet, forsøger jeg at finde artikler, som ville være problematiske eller ubrugelige i en fake-news detection model. Dette inkludere artikler som ikke har noget indhold, altså at ``content`` kolonnen er tom for denne artikel, og artikler som hverken høre under gruppen ``fake`` eller ``reliable``.\n",
    "\n",
    "Først undersøger jeg om der nogle artikler, som har ``NaN`` som artiklens indhold."
   ]
  },
  {
   "cell_type": "code",
   "execution_count": 2,
   "metadata": {},
   "outputs": [
    {
     "data": {
      "text/plain": [
       "250"
      ]
     },
     "execution_count": 2,
     "metadata": {},
     "output_type": "execute_result"
    }
   ],
   "source": [
    "cleaned_news_sample = cleaned_news_sample.dropna(subset=['content'])\n",
    "cleaned_news_sample['content'].__len__()"
   ]
  },
  {
   "cell_type": "markdown",
   "metadata": {},
   "source": [
    "Da længden af kolonnen er uændret betyder det at der ikke har været nogle artikler med ``NaN`` i ``content`` kolonnen. Desuden har jeg også overvejet at fjerne særligt korte artikler (kort længde eller lille ordforråd), da jeg tænkte at disse sandsynligvis var fejl eller artifakter og ville have lille eller såfrem negativ værdi for en fake-news detection model: Jeg valgte derimod at lade disse blive, da måske endda findes hyppigst i sådan kortform, som eksempel på Twitter (X) eller Facebook, som et opslag, som typisk ikke er særligt lange, og som en sådan fake-news detection model ville mange træning på hvis jeg fjernede alle artikler med en længde under en hvis grænseværdi.\n",
    "\n",
    "Nedenfor har jeg lavet 2 serier, sorteret efter artiklernes længde og størrelsen af ordforrådet."
   ]
  },
  {
   "cell_type": "code",
   "execution_count": 3,
   "metadata": {},
   "outputs": [
    {
     "data": {
      "text/plain": [
       "62      61\n",
       "227     90\n",
       "197     90\n",
       "41      96\n",
       "130    102\n",
       "131    102\n",
       "123    102\n",
       "126    102\n",
       "136    102\n",
       "140    102\n",
       "172    102\n",
       "150    102\n",
       "187    102\n",
       "23     111\n",
       "235    115\n",
       "Name: content, dtype: int64"
      ]
     },
     "execution_count": 3,
     "metadata": {},
     "output_type": "execute_result"
    }
   ],
   "source": [
    "# Calculating article lengths\n",
    "cleaned_news_sample['content'].apply(str.__len__).sort_values(ascending=1)[:15]"
   ]
  },
  {
   "cell_type": "code",
   "execution_count": 4,
   "metadata": {},
   "outputs": [
    {
     "data": {
      "text/plain": [
       "62      9\n",
       "41     15\n",
       "123    15\n",
       "126    15\n",
       "136    15\n",
       "140    15\n",
       "130    15\n",
       "131    15\n",
       "172    15\n",
       "187    15\n",
       "150    15\n",
       "197    17\n",
       "227    17\n",
       "235    18\n",
       "234    18\n",
       "Name: content, dtype: int64"
      ]
     },
     "execution_count": 4,
     "metadata": {},
     "output_type": "execute_result"
    }
   ],
   "source": [
    "# Calculating vocab size\n",
    "cleaned_news_sample['content'].apply(lambda x: set(x.split()).__len__()).sort_values(ascending=1)[:15]"
   ]
  },
  {
   "cell_type": "markdown",
   "metadata": {},
   "source": [
    "Det ses ovenfor at artikel længde og ordforråds størrelse i høj grad går hånd i hånd, hvilket giver mening. Selvom jeg valgte ikke at fjerne de mindste artikler, opdagede jeg at der kan findes dubletter, hvilket er noget jeg vil forsøget at fjerne, da jeg forestiller mig at dubletterne kan være problematiske. Eksempler på sådanne dubletter er artiklerne med længde 102 eller 90."
   ]
  },
  {
   "cell_type": "code",
   "execution_count": 5,
   "metadata": {},
   "outputs": [
    {
     "data": {
      "text/plain": [
       "239"
      ]
     },
     "execution_count": 5,
     "metadata": {},
     "output_type": "execute_result"
    }
   ],
   "source": [
    "cleaned_news_sample = cleaned_news_sample.drop_duplicates(subset='content', keep='first')\n",
    "cleaned_news_sample.__len__()"
   ]
  },
  {
   "cell_type": "markdown",
   "metadata": {},
   "source": [
    "Her ses det at der faktisk var dubletter, som jeg før konstaterede da der er blevet fjernet 11 artikler. Nedenfor har jeg tjækket at den faktisk har beholdt én af hver artikkel, altså at den har efterladt én artikkel tilbage, fra mængden af dubletter. Det ses at den umiddelbart har fjernet dubletterne korrekt."
   ]
  },
  {
   "cell_type": "code",
   "execution_count": 6,
   "metadata": {},
   "outputs": [
    {
     "data": {
      "text/plain": [
       "62      61\n",
       "197     90\n",
       "41      96\n",
       "123    102\n",
       "23     111\n",
       "234    115\n",
       "5      135\n",
       "16     146\n",
       "6      201\n",
       "11     253\n",
       "7      310\n",
       "100    313\n",
       "14     322\n",
       "27     340\n",
       "158    399\n",
       "Name: content, dtype: int64"
      ]
     },
     "execution_count": 6,
     "metadata": {},
     "output_type": "execute_result"
    }
   ],
   "source": [
    "cleaned_news_sample['content'].apply(str.__len__).sort_values(ascending=1)[:15]"
   ]
  },
  {
   "cell_type": "markdown",
   "metadata": {},
   "source": [
    "Det næste jeg nu vil gøre er at bruge tabellen nedenfor, fra [GitHub]('https://github.com/several27/FakeNewsCorpus'), hvor der står en forklaring på alle de forskellige ``tag``'s, som findes i kolonnen ``type`` i datasættet, til at finde ud af hvilke artikler jeg ellers burde fjerne, baseret på hvilket tag de har fået, og hvordan jeg selv kan organisere dem i grupperne *fake* og *reliable*, ud fra definationerne i tabellen."
   ]
  },
  {
   "cell_type": "markdown",
   "metadata": {},
   "source": [
    "| Type | Tag | Description|\n",
    "| ------------- |:-------------:|:-------------:|\n",
    "| **Fake News** | fake | Sources that entirely fabricate information, disseminate deceptive content, or grossly distort actual news reports |\n",
    "| **Satire** | satire | Sources that use humor, irony, exaggeration, ridicule, and false information to comment on current events. |\n",
    "| **Extreme Bias** | bias | Sources that come from a particular point of view and may rely on propaganda, decontextualized information, and opinions distorted as facts. |\n",
    "| **Conspiracy Theory** | conspiracy | Sources that are well-known promoters of kooky conspiracy theories. |\n",
    "| **State News** | state | Sources in repressive states operating under government sanction. |\n",
    "| **Junk Science** | junksci | Sources that promote pseudoscience, metaphysics, naturalistic fallacies, and other scientifically dubious claims. |\n",
    "| **Hate News** | hate | Sources that actively promote racism, misogyny, homophobia, and other forms of discrimination. |\n",
    "| **Clickbait** | clickbait | Sources that provide generally credible content, but use exaggerated, misleading, or questionable headlines, social media descriptions, and/or images. |\n",
    "| **Proceed With Caution** | unreliable | Sources that may be reliable but whose contents require further verification. |\n",
    "| **Political** | political | Sources that provide generally verifiable information in support of certain points of view or political orientations. |\n",
    "| **Credible** | reliable | Sources that circulate news and information in a manner consistent with traditional and ethical practices in journalism (Remember: even credible sources sometimes rely on clickbait-style headlines or occasionally make mistakes. No news organization is perfect, which is why a healthy news diet consists of multiple sources of information). |\n"
   ]
  },
  {
   "cell_type": "markdown",
   "metadata": {},
   "source": [
    "Nedenfor undersøger jeg hvilke type der optræder i dette datasæt. Her ses det at ``NaN`` også optræder, altså er der nogle artikler der helt mangler en type defination, ud fra tabellen ovenfor."
   ]
  },
  {
   "cell_type": "code",
   "execution_count": 7,
   "metadata": {},
   "outputs": [
    {
     "data": {
      "text/plain": [
       "type\n",
       "fake          146\n",
       "conspiracy     31\n",
       "political      22\n",
       "NaN            12\n",
       "unreliable      6\n",
       "unknown         6\n",
       "bias            6\n",
       "junksci         5\n",
       "reliable        3\n",
       "clickbait       1\n",
       "hate            1\n",
       "Name: count, dtype: int64"
      ]
     },
     "execution_count": 7,
     "metadata": {},
     "output_type": "execute_result"
    }
   ],
   "source": [
    "cleaned_news_sample['type'].value_counts(dropna=0)"
   ]
  },
  {
   "cell_type": "markdown",
   "metadata": {},
   "source": [
    "Ud fra tabellen og typerne tilstede i datasættet har jeg lavet følgende grupper:\n",
    "- Fjernes:\n",
    "    - NaN\n",
    "    - unknown\n",
    "    - unreliable\n",
    "- Falsk:\n",
    "    - fake\n",
    "    - conspiracy\n",
    "    - junksci\n",
    "    - satire\n",
    "- Utroværdig:\n",
    "    - bias\n",
    "    - state\n",
    "    - hate\n",
    "- Troværdig:\n",
    "    - reliable\n",
    "    - clickbait\n",
    "    - political\n",
    "\n",
    "Gruppen *Fjernes* består af de tags og tilhørende artikler, som skal fjernes fra datasættet, da de har lille eller ingen værdi til at træne en model, da det ikke vides hvilket kategori de høre ind under, og derfor kunne gøre mere skade end gavn.\n",
    "\n",
    "Gruppen *Falsk* (*Fake*) er de tags, som ud fra ovenstående tabel definationer, må kunne defineres som opdigtede eller fordrejede i så høj grad at de ikke længere at tæt på en akkurat repræsentation af virkeligheden eller sandheden. Her har jeg valgt at *conspiracy* og *junksci* skal høre ind under *Falsk*, da disse omhandler emner, som er svagt eller helt mangler faktuelle belæg, og i nogle tilfælde er blevet modbevist. \n",
    "\n",
    "Gruppen *Troværdig* (*Reliable*) er de tags, som ovenstående tabel definere, som indeholdene faktuelt indhold, hvis sandhed kan verificeres. Jeg har valgt at *clickbait* og *political* høre ind under denne katogori, da disse selvom de kan være misvisende eller er biased i større eller mindre (men ikke ekstrem) grad, så er det stadig faktuelt indhold og verificerbart indhold.\n",
    "\n",
    "Gruppen *Utroværdig* er de tags som ud fra ovenstående definationer, er i en sådan gråzone mellem sand og falsk, da *hate* overvejende er meningstekster, som ikke nødvendigvis indeholder løgne, da *state* som fordræjer sandheden, men i større eller mindre grad kan basere sig på sandheden, og *bias* som kan gøre brug af propaganda eller misbruge information, på en måde der fordrejer sandheden. Derfor mener jeg egentlig at de er en gruppe for sig selv, men da jeg skal klassificere alle artikler jeg beholder, som enten *Fake* eller *Reliable* mener jeg at da de i hvert fald ikke høre under *Reliable* grundet deres svage grundlag i sandheden og fordrejning af virkeligheden, må de høre under *Fake*.\n",
    "\n",
    "Dermed fås grupperne:\n",
    "- **Fake**:\n",
    "    - fake\n",
    "    - conspiracy\n",
    "    - junksci\n",
    "    - satire\n",
    "    - bias\n",
    "    - state\n",
    "    - hate\n",
    "- **Reliable**:\n",
    "    - realiable\n",
    "    - clickbait\n",
    "    - political"
   ]
  },
  {
   "cell_type": "markdown",
   "metadata": {},
   "source": [
    "Remove = {nan, unknown, unrealiable}\n",
    "Fake = {fake, conspiracy, junksci, satire}\n",
    "Unrealiable = {bias, state, hate}\n",
    "Realiable = {realiable, clickbait, political}"
   ]
  },
  {
   "cell_type": "code",
   "execution_count": 8,
   "metadata": {},
   "outputs": [
    {
     "data": {
      "text/plain": [
       "215"
      ]
     },
     "execution_count": 8,
     "metadata": {},
     "output_type": "execute_result"
    }
   ],
   "source": [
    "cleaned_news_sample = cleaned_news_sample[~cleaned_news_sample['type'].isin(['unknown', 'unreliable'])].dropna(subset=['type'])\n",
    "cleaned_news_sample.__len__()"
   ]
  },
  {
   "cell_type": "markdown",
   "metadata": {},
   "source": [
    "Det ses at størrelsen af datasættet er faldet med yderligere 24 værdier.\n",
    "\n",
    "Nu vil jeg så gruppere de resterende artikler under *fake* eller *reliable*, så disse er de eneste 2 tags tilbage i datasættet."
   ]
  },
  {
   "cell_type": "code",
   "execution_count": 9,
   "metadata": {},
   "outputs": [
    {
     "data": {
      "application/vnd.microsoft.datawrangler.viewer.v0+json": {
       "columns": [
        {
         "name": "index",
         "rawType": "int64",
         "type": "integer"
        },
        {
         "name": "type",
         "rawType": "object",
         "type": "string"
        },
        {
         "name": "content",
         "rawType": "object",
         "type": "string"
        }
       ],
       "conversionMethod": "pd.DataFrame",
       "ref": "99f7e2dc-df2c-41ac-95ad-b888d83a9c41",
       "rows": [
        [
         "1",
         "fake",
         "awakening of <NUM> strands of dna reconnecting with you movie\nof readers think this story is fact add your two cents\nheadline bitcoin blockchain searches exceed trump blockchain stocks are next\n<DATE> <URL>\nas miles johnston was giving update it was another case of strange synchronicities of goodness hidden inside of tests and trials like a follow the whiterabbit down the rabbit hole type of exercise\nin researching the <NUM> strands of dna we came across some articles one in particular was as a strange synchronicity written exactly <NUM> year ago on the same topic\n<URL>\n<URL>\nwhat are the <NUM> strands of our dna and why is a war against our dna\ntrailer for awakening of <NUM> strands\nthe full video is only available as a paid video on vimeo\nawakening of <NUM> strands reconnecting with you\n<URL>\nawakening of <NUM> strands reconnecting with you from sandra daroy on vimeo\nwe have not watched the full video but based on the strange synchronicities present within we suggest you use your discernment as always necessary in these end times\n<URL>"
        ],
        [
         "4",
         "reliable",
         "donald trump has the unnerving ability to ability to create his own reality and convince millions of americans that what he says it is true the problem with the president lying is that he then believes his own lies a new poll shows how that can get the country into deep trouble\nthe new abc news washington post poll came out after the president s physician gave him a physical and mental exam the doctor gave trump a clean bill of health added an inch to his height and claimed he was fit to serve for seven more years\nthis poll was able to capture americans opinions after a new book came out indicating that people around trump questioned his emotional stability and ability to hold office in addition the new poll gave the respondents the time to hear trump tell the public that he was a very stable genius before they were interviewed he said\nactually throughout my life my two greatest assets have been mental stability and being like really smart\nthe abc washington post poll discovered that <NUM> percent of the people it interviewed believed that the president was a genius that left a full <NUM> percent who saw through that lie\nthen there was the question of trump s mental stability the poll found that there was a nearly even divide throughout the nation when asked if the president was stable <NUM> percent of those interviewed said he was not but <NUM> percent believed he is stable\nthe abc news washington post poll was taken from <DATE> through <NUM> <DATE> the random sample consisted of <NUM> adults interviewed by landline and cell phone in both english and spanish the margin of error was + <NUM> percentage points\nfeatured image via getty images drew angerer"
        ],
        [
         "6",
         "fake",
         "could you imagine waking up in the morgue i for one would be traumatized for life a <NUM> year old prisoner by the name of gonzalo montoya jimenez was found unresponsive in his cell during a morning ro"
        ],
        [
         "7",
         "fake",
         "citizen journalist\nby <URL> q has released several new posts over the last <NUM> hours which are again hitting the bulls eye according to q these explosive info releases could be the start of the second american revolution q will begin releasing information about the elite s involvement in child sex abuse and"
        ],
        [
         "8",
         "fake",
         "usa dollar tanks on mnuchin statement that he wants a lower dollar value\nheadline bitcoin blockchain searches exceed trump blockchain stocks are next\nby harvey organ harvey organ blog\nusa index breaks <NUM> and ends at <NUM> usa <NUM> yr bond note at <NUM> gold rises <CUR> <NUM> to <CUR> <NUM> silver rises <NUM> cents to <CUR> <NUM> and breaks the huge <CUR> <NUM> resistance monstrous issue in gold efps <NUM> huge silver efp issuance of <NUM> contracts huge <NUM> tonnes of gold added into the gld nothing added into the slv huge number of swamp stories for you tonight\ngold <CUR> <NUM> up <CUR> <NUM>\nsilver <CUR> <NUM> up <NUM> cents\nclosing access prices\ngold <CUR> <NUM>\nsilver <CUR> <NUM>\nshanghai gold fix first fix <NUM> <NUM> pm est <NUM> <NUM> shanghai local time\nsecond fix <NUM> <NUM> am est <NUM> <NUM> shanghai local time\nshanghai first gold fix <CUR> <NUM> dollars per oz\nny price of gold at exact same time <CUR> <NUM>\npremium first fix <CUR> <NUM>\nxxxxxxxxxxxxxxxxxxxxxxxxxxxxxxxxxxxxxxxxxxxxxx\nsecond shanghai gold fix <CUR> <NUM>\nny gold price at the exact same time <CUR> <NUM>\npremium of shanghai <NUM> fix ny<CUR> <NUM>\nshanghai rejects ny london pricing of gold\nxxxxxxxxxxxxxxxxxxxxxxxxxxxxxxxxxxxxxxxxxxxxxxxxxxx\nlondon first gold fix <NUM> <NUM> am est <CUR> <NUM>\nny pricing at the exact same time <CUR> <NUM>\nlondon second gold fix <NUM> am <CUR> <NUM>\nny pricing at the exact same time <CUR> <NUM>\nfor comex gold\njanuary\nnumber of notices filed today for january contract <NUM> notice s for <NUM> oz\ntotal notices so far <NUM> for <NUM> oz <NUM> tonnes\nfor silver\njanuary\n<NUM> notice s filed today for <NUM> oz\ntotal number of notices filed so far this month <NUM> for <NUM> oz\nxxxxxxxxxxxxxxxxxxxxxxxxxxxxxx\nbitcoin bid <CUR> <NUM> offer <CUR> <NUM> down <CUR> <NUM> morning bitcoin bid <CUR> <NUM> offer <CUR> <NUM> up <CUR> <NUM> closing <NUM> pm\nend\nlet us have a look at the data for today\nxxxxxxxxxxxxxxxxxxxxxxxxxxxxxxxxxxxxxxxxxxxxxxxxxxxxxxxxxxxxxxxxxxxxxxxxxx\nin silver the total open interest fell by a tiny <NUM> contracts from <NUM> falling to <NUM> with yesterday s <NUM> cent loss in silver pricing we thus minimal comex liquidation however we were again notified that we had another huge sized number of comex longs transferring their contracts to london through the efp route <NUM> efp s for march and zero for other months and thus total issuance of <NUM> contracts however the movement across to london is not as severe as in gold as there seems to be major players willing to take on the banks at the comex still with the transfer of <NUM> contracts what the cme is stating is that there is no silver or gold to be delivered upon at the comex as they must export their obligation to london also keep in mind that there can be a delay of <NUM> hrs in the issuing of efp s\naccumulation for efp s silver starting from first day notice for month of january\n<NUM> contracts for <NUM> trading days total <NUM> contracts or <NUM> million oz average per day <NUM> contracts or <NUM> million oz day\nto give you an idea as to the huge supply this month in silver so far this month <NUM> million paper oz have morphed over to london this represents around <NUM> of annual global production\nresult a tiny sized loss in oi comex despite the <NUM> cent loss in silver price which usually indicates another failed banker short covering we also had a huge sized efp issuance of <NUM> contracts which exited out of the silver comex and transferred their oi to london as forwards speculators continued their interest in attacking the silver comex for physical silver from the cme data <NUM> efp s were issued for today for a deliverable forward contract over in london with a fiat bonus we really gained <NUM> oi contracts i e <NUM> open interest contracts headed for london efp s together with a decrease of <NUM> oi comex contracts and all of this happened with the fall in price of silver of <NUM> cents and a closing price of <CUR> <NUM> with respect to yesterday s trading yet we still have a good amount of silver standing at the comex\nin ounces at the comex the oi is still represented by just under <NUM> billion oz i e <NUM> billion to be exact or <NUM> of annual global silver production ex russia ex china\nfor the new front january month they filed <NUM> notice s for <NUM> oz of silver\nin gold the open interest surprisingly rose by a considerable <NUM> contracts up to <NUM> with the good sized rise in price of gold with yesterday s trading <CUR> <NUM> in another huge development we received the total number of gold efp s issued for wednesday and it totaled a humongous sized <NUM> contracts of which february saw <NUM> contracts issued and april saw the issuance of <NUM> contracts the new oi for the gold complex rests at <NUM> also remember that there can be a delay in the issuance of efp s the bankers remove long positions of comex gold immediately then they orchestrate their private efp deal with the longs and that could take an additional <NUM> hrs so we generally do not get a match with respect to departing comex longs and new efp long transfers demand for gold intensifies greatly as we continue to witness a huge number of efp transfers together with the massive increase in gold comex oi together with the total amount of gold ounces standing for january comex even though the bankers issued these monstrous efps the obligation still rests with the bankers to supply metal but it transfers the risk to a london banker obligation and not a new york comex obligation longs receive a fiat bonus together with a long london forward thus by these actions the bankers at the comex have just stated that they have no appreciable metal this is a massive fraud they cannot supply any metal to our comex longs but they are quite willing to supply massive non backed gold and silver paper knowing that they have no metal to satisfy our longs london is now severely backward in both gold and silver big rise in both gofo and sifo and we are witnessing delays in actual deliveries in essence today we have a huge gain of <NUM> contracts <NUM> oi contracts increased at the comex and a good sized <NUM> oi contracts which navigated over to london expect huge numbers of efp s to be issued as we approach first day notice in the gold feb comex contract wednesday <DATE> <DATE>\nyesterday we had <NUM> efp s issued\naccumulation of efp s gold exchange for physical for the month of january starting with first day notice <NUM> contracts or <NUM> million oz or <NUM> tonnes <NUM> trading days and thus averaging <NUM> efp contracts per trading day or <NUM> oz day\nto give you an idea as to the huge size of these efp transfers so far this month in <NUM> trading days in tonnes <NUM> tonnes\ntotal annual gold production <DATE> throughout the world ex china ex russia <NUM> tonnes\nthus efp transfers represents <NUM> <NUM> tonnes = <NUM> of global annual production so far in january alone\nresult a shockingly strong sized increase in oi at the comex with the fair sized rise in price in gold trading on yesterday <CUR> <NUM> we had another gigantic sized number of comex long transferring to london through the efp route <NUM> there obviously does not seem to be much physical gold at the comex and yet we also observed a huge delivery month for the month of december i guess it explains the huge issuance of efp s there is hardly any gold present at the gold comex for delivery purposes if you take into account the <NUM> efp contracts issued we had a net gain in open interest of <NUM> contracts on the two exchanges\n<NUM> contracts move to london and <NUM> contracts increased at the comex in tonnes the gain in total oi equates to <NUM> tonnes\nwe had <NUM> notice s filed upon for <NUM> oz of gold\nxxxxxxxxxxxxxxxxxxxxxxxxxxxxxxxxxxxxxxxxxxxxxxxxxxxxxxxxxxx\nwith respect to our two criminal funds the gld and the slv\ngld\nwith gold up <CUR> <NUM> we had a huge change in gold inventory at the gld a deposit of <NUM> tonnes\ninventory rests tonight <NUM> tonnes\nslv\na big changes in silver inventory at the slv a huge withdrawal of <NUM> million oz from the slv inventory\ninventory rests at <NUM> million oz\nend\nfirst here is an outline of what will be discussed tonight\n<NUM> today we had the open interest in silver fell by a tiny <NUM> contracts from <NUM> down to <NUM> and now a little further to the new comex record set on friday <DATE> <DATE> at <NUM> with the fall in price of silver to the tune of <NUM> cents with respect to yesterday s trading our bankers used their emergency procedure to issue another good <NUM> private efp s for march we do not get a look at these contracts as it is private but the cftc does audit them and <NUM> efp s for all other months efp s give our comex longs a fiat bonus plus a deliverable product over in london we had zero comex silver comex liquidation if we take the oi loss at the comex of <NUM> contractsto the <NUM> oi transferred to london through efp s we obtain a big gain of <NUM> open interest contracts we still have a good amount of silver ounces that are standing for metal in january see below the net gain today in oz on the two exchanges <NUM> million oz\nresult a small sized decrease in silver oi at the comex despite the tiny fall of <NUM> cents in price with respect to yesterday s trading but we also had another strong <NUM> efp s issued transferring comex longs over to london together with the good sized amount of silver ounces standing for january demand for physical silver intensifies as we witness major bank short covering accompanied by increases in gofo and sifo rates indicating scarcity\nreport harvey\n<NUM> a the shanghai and london gold fix report\nharvey\n<NUM> b gold silver trading overnight europe goldcore\nmark o byrne zerohedge\nand in ny bloomberg\n<NUM> asian affairs\ni late tuesday night wednesday morning shanghai closed up <NUM> points or <NUM> hang sang closed up <NUM> pts or <NUM> the nikkei closed down <NUM> points or <NUM> australia s all ordinaires closed up <NUM> chinese yuan onshore closed well up at <NUM> oil up to <NUM> dollars per barrel for wti and <NUM> for brent stocks in europe opened all red onshore yuan closed up against the dollar at <NUM> offshore yuan closed up against the onshore yuan at <NUM> onshore yuan much stronger against the dollar off shore much stronger to the dollar the dollar index is much weaker against all major currencies china is very happy today good markets weaker usa dollar\nread more <URL>\nsource <URL>"
        ],
        [
         "9",
         "fake",
         "subscribe to canada free press for free\nneither rev rodriguez nor pope francis will be there but president trump will be addressing the crowd by satellite\nit s not really president trump who needs his mouth washed out with soap\nthrowing the spotlight on so called men of the cloth it s not president donald trump who needs to have his mouth washed out with soap for having allegedly made use of the vulgar s word at a white house meeting on immigration there s just no getting around it that some words are more painful than cuss words particularly when they heap praise on abortion advocates members of president trump s evangelical advisory council decided to jump ship for the day and publicly sided with nancy pelosi on daca redstate <DATE>\nyou have always taken the lead your commitment to the immigrant community to the dreamers is second to none so america is in a better place because of your prophetic leadership on this matter the <URL> rodriguez who spoke at trump s inauguration last year told pelosi at a press conference on thursday prophetic really pelosi of course is one of the loudest advocates of abortion ever elected coming second only to former president barack obama champion of partial birth abortion how sincere was rev rodriguez when he raised the name of president donald trump in prayer at his inauguration discomfited by the president s use of an expression he has denied using rev rodriguez a member of the unofficial evangelical advisory board and the president of the national hispanic christian leadership conference noted that every single person is created in the image of god and spoke of welcoming people equally from nigeria and norway albeit after a rigorous vetting process later in the day he said more in addition and with great due deference i believe that the comments attributed to our president can best be described as wrong inappropriate and hurtful why because when god looks at these nations he sees his children yahoo <DATE>\nit should go without saying that our creator sees among his children millions of babies killed in their mother s wombs sadly the pastor is not the only one who hypocritically regards the president s alleged use of the s word as more preach worthy than the open advocation of abortion isn t it more than a tad hypocritical if not downright sanctimonious that the vatican newspaper l osservatore romano would try a wash his mouth with soap stance on the latest alleged expletive of president donald trump we all know by now that president trump s alleged use of the s word was tattle taled to the internet world by catholic u s senator dick durbin who went straight to the media to report the vulgarity had been repeatedly used at a white house meeting on immigration tattletale dicky durbin\ncontinued below the newspaper l osservatore romano the vatican s flagship gave trump s comments about the immigration debate in the united states front page attention noting the comments had immediately sparked controversy and indignation never mind that trump denies using the term mercifully the newspaper did not print the vulgar word that automatically spiralled the democrats into a full on faux rage no none of that over here but it s not just vulgar expletives that rile people up some words indiscriminately used to honor abortion advocates are just as if not more offensive to the faithful some some pro life catholics must have thought of the s word when reading on twitter that abortion advocate lilianne ploumen former minister for foreign trade and development cooperation in the netherlands was recently honored by pope francis with the title of commander in the pontifical equestrian order of st gregory the great this was one tweet that turned out to be as troubling as it was true the lepanto institute was able to confirm from a <DATE> dutch radio broadcast that ploumen indeed received the honor in a brief video clip promoting the broadcast ploumen displays the medal while saying that she received it from the pope lepanto institute jan <NUM> <DATE>\nto say that lilianne ploumen is pro abortion is an extreme understatement and doesn t even come close to the scandalous reality of her activism in january of last year after us president donald trump reinstated the mexico city policy ploumen launched a new ngo called she decides to provide mass amounts of funds to organizations that would no longer receive funds from the us government the mexico city policy automatically denies us funding for international organizations which perform or promote abortion referring to the mexico city policy as a global gag rule ploumen stated that the intention of she decides was to continue support for existing programs being run by organizations such as the united nations population fund unpfa the international planned parenthood federation and marie stopes international she said these are successful and effective programs direct support distributing condoms making sure women are accompanied at the birth and making sure abortion is safe if they have no other choice the lepanto institute continues their ploumen profile but ploumen s anti catholic activity isn t restricted to abortion in september of <DATE> ploumen participated in the united nations lgbti core group as the first speaker at the event ploumen noted that lgbti rights are human rights in her opening remarks she said we cannot be complacent today in more than <NUM> countries homosexuality is still criminalized stigma against lgbt people continue all over the world in <DATE> ploumen ended foreign aid to the country of uganda for passing a bill banning sodomy and same sex marriage in february of <DATE> ploumen called on lgbt activists to descend upon and disrupt mass at st john the baptist cathedral wearing pink triangles with the words jesus excludes no one the reason she and other pro lgbt activists were protesting the church s moral teaching regarding homosexuality\ncontinued below we already know how pope francis profiles president donald trump in <DATE> in response to a question about then candidate trump s views on immigration and his intention to build a wall along the u s border with mexico francis said a man with such views was not christian reuters <DATE> trump who grew up in a presbyterian family shot back saying it was disgraceful for the pope to question his faith actions speak so much louder than cuss words thousands will be taking part in the <DATE> march for life today neither rev rodriguez nor pope francis will be there but president trump will be addressing the crowd by satellite\ncopyright © canada free press\nrss feed for judi mcleod\njudi mcleod is an award winning journalist with <NUM> years experience in the print media a former toronto sun columnist she also worked for the kingston whig standard her work has appeared on rush limbaugh <URL> drudge report <URL>\nolder articles by judi mcleod\nplease adhere to our commenting policy to avoid being banned as a privately owned website we reserve the right to remove any comment and ban any user at any <URL> that contain spam advertising vulgarity threats of violence racism anti semitism or personal or abusive attacks on other users may be removed and result in a ban follow these instructions on registering"
        ],
        [
         "10",
         "fake",
         "clinton obama emails key to understanding why hillary wasn t indicted andrew mccarthy\nheadline bitcoin blockchain searches exceed trump blockchain stocks are next\nby andrew c mccarthy family security matters\nnew fbi texts highlight a motive to conceal the president s involvement\nfrom the first these columns have argued that the whitewash of the hillary clinton emails caper was president barack obama s call not the fbi s and not the justice department s see e g here here and here the decision was inevitable obama using a pseudonymous email account had repeatedly communicated with secretary clinton over her private non secure email account\nthese emails must have involved some classified information given the nature of consultations between presidents and secretaries of state the broad outlines of obama s own executive order defining classified intelligence see eo <NUM> section <NUM> and the fact that the obama administration adamantly refused to disclose the clinton obama emails if classified information was mishandled it was necessarily mishandled on both ends of these email exchanges\nif clinton had been charged obama s culpable involvement would have been patent in any prosecution of clinton the clinton obama emails would have been in the spotlight for the prosecution they would be more proof of willful or if you prefer grossly negligent mishandling of intelligence more significantly for clinton s defense they would show that obama was complicit in clinton s conduct yet faced no criminal charges\nthat is why such an indictment of hillary clinton was never going to happen the latest jaw dropping disclosures of text messages between fbi agent peter strzok and his paramour fbi lawyer lisa page illustrate this point\nfor the moment i want to put aside the latest controversy the fbi s failure to retain five months of text messages between strzok and page those chattiest of star crossed lovers yes this glitch closes our window on a critical time in the trump russia investigation mid <DATE> through mid <DATE> that is when the bureau and justice department were reportedly conducting and renewing in <NUM> day intervals court approved fisa surveillance that may well have focused on the newly sworn in president of the united states remember the bureau s then director james comey testified at a <DATE> house intelligence committee hearing that the investigation was probing possible coordination with trump s campaign and kremlin interference in the election\nthe retention default has been chalked up to a technological mishap assuming that this truly was an indiscriminate bureau wide problem that lost texts are not limited to phones involved in the trump russia investigation it is hard to imagine its going undetected for five months in an agency whose business is information retention but it is not inconceivable attorney general jeff sessions maintains that an aggressive inquiry is underway so let s assume for argument s sake at least that either the texts will be recovered or a satisfactory explanation for their non retention will be forthcoming\nfor now let s stick with the clinton obama emails\nonly <DATE> comey held the press conference at which he delivered a statement describing mrs clinton s criminal conduct but nevertheless recommending against an indictment we now know that comey s remarks had been in the works for two months and were revised several times by the director and his advisers\nthis past weekend in a letter to the fbi regarding the missing texts senate homeland security committee chairman ron johnson r wis addressed some of these revisions according to senator johnson a draft dated <DATE> i e five days before comey delivered the final version contained a passage expressly referring to a troublesome email exchange between clinton and obama i note that the fbi s report of its eventual interview of clinton contains a cryptic reference to a <DATE> email that clinton sent from russia to obama s email address see report page <NUM> the passage in the <DATE> draft stated\nwe also assess that secretary clinton s use of a personal email domain was both known by a large number of people and readily apparent she also used her personal email extensively while outside the united states including from the territory of sophisticated adversaries that use included an email exchange with the president while secretary clinton was on the territory of such an adversary emphasis added given that combination of factors we assess it is possible that hostile actors gained access to secretary clinton s personal email account\non the same day according to a strzok page text a revised draft of comey s remarks was circulated by his chief of staff jim rybicki it replaced the president with another senior government official\nthis effort to obscure obama s involvement had an obvious flaw it would practically have begged congressional investigators and enterprising journalists to press for the identification of the senior government official with whom clinton had exchanged emails that was not going to work\nconsequently by the time comey delivered his remarks on <DATE> the decision had been made to avoid even a veiled allusion to obama instead all the stress was placed on clinton who was not going to be charged anyway for irresponsibly sending and receiving sensitive emails that were likely to have been penetrated by hostile intelligence services comey made no reference to clinton s correspondent\nwe also assess that secretary clinton s use of a personal e mail domain was both known by a large number of people and readily apparent she also used her personal e mail extensively while outside the united states including sending and receiving work related e mails in the territory of sophisticated adversaries emphasis added given that combination of factors we assess it is possible that hostile actors gained access to secretary clinton s personal e mail account\nthe decision to purge any reference to obama is consistent with the panic that seized his administration from the moment clinton s use of a private non secure server system was revealed in early <DATE> i detailed this reaction in a series of <DATE> columns see e g here and here what most alarmed obama and clinton advisers those groups overlap was not only that there were several clinton obama email exchanges but also that obama dissembled about his knowledge of clinton s private email use in a nationally televised interview\non <DATE> just after the new york times broke the news about clinton s email practices at the state department john podesta a top obama adviser and clinton s campaign chairman emailed cheryl mills clinton s confidant and top aide in the obama state department to suggest that clinton s emails to and from potus should be held i e not disclosed because that s the heart of his exec privilege at the time the house committee investigating the benghazi jihadist attack was pressing for production of clinton s emails\nas his counselors grappled with how to address his own involvement in clinton s misconduct obama deceptively told cbs news in a <DATE> interview that he had found out about clinton s use of personal email to conduct state department business the same time everybody else learned it through news reports perhaps he was confident that because he had used an alias in communicating with clinton his emails to and from her estimated to number around <NUM> would remain undiscovered\nhis and clinton s advisers were not so confident right after the interview aired clinton campaign secretary josh scherwin emailed jennifer palmieri and other senior campaign staffers stating jen you probably have more on this but it looks like potus just said he found out hrc was using her personal email when he saw it on the news\nscherwin s alert was forwarded to mills shortly afterwards an agitated mills emailed podesta we need to clean this up he has emails from her they do not say <URL> that is obama had emails from clinton which he had to know were from a private account since her address did not end in <URL> as state department emails do\nso how did obama and his helpers clean this up\nobama had his email communications with clinton sealed he did this by invoking a dubious presidential records privilege the white house insisted that the matter had nothing to do with the contents of the emails of course rather it was intended to vindicate the principle of confidentiality in presidential communications with close advisers with the media content to play along this had a twofold benefit obama was able <NUM> to sidestep disclosure without acknowledging that the emails contained classified information and <NUM> to avoid using the term executive privilege with all its dark watergate connotations even though that was precisely what he was invoking\nnote that claims of executive privilege must yield to demands for disclosure of relevant evidence in criminal prosecutions but of course that s not a problem if there will be no prosecution\nthe white house purported to repair the president s disingenuous statement in the cbs interview by rationalizing that he had meant that he learned of clinton s homebrew server system through news reports he hadn t meant to claim unawareness that she occasionally used private email this was sheer misdirection from obama s standpoint the problem was that he discussed government intelligence matters with the secretary of state through a private email account the fact that in addition clinton s private email account was connected to her own private server system rather than some other private email service was beside the point but again the media was not interested in such distinctions and contentedly accepted the white house s non explanation\nmeanwhile attorney general loretta lynch ordered comey to use the word matter rather than investigation to describe the fbi s probe of clinton s email practices this ensured that the democratic administration s law enforcement agencies were aligning their story with the democratic candidate s campaign rhetoric if there was no investigation there would be no prosecution\nin <DATE> in another nationally televised interview obama made clear that he did not want clinton to be indicted his rationale was a legally frivolous straw man clinton had not intended to harm national security this was not an element of the felony offenses she had committed nor was it in dispute no matter obama s analysis was the stated view of the chief executive if as was sure to happen his subordinates in the executive law enforcement agencies conformed their decisions to his stated view there would be no prosecution\nwithin a few weeks even though the investigation was ostensibly still underway and over a dozen key witnesses including clinton herself had not yet been interviewed the fbi began drafting comey s remarks that would close the investigation there would be no prosecution\non <DATE> lynch met with clinton s husband former president bill clinton on an out of the way arizona tarmac where their security details arranged for both their planes to be parked\nover the next few days the fbi took pains to strike any reference to obama s emails with mrs clinton from the statement in which comey would effectively end the matter with no prosecution\non <DATE> amid intense public criticism of her meeting with bill clinton attorney general lynch piously announced that she would accept whatever recommendation the fbi director and career prosecutors made about charging clinton as page told strzok in a text that day this is a purposeful leak following the airplane snafu it was also playacting page elaborated that the attorney general already knows no charges will be brought of course she did it was understood by all involved that there would be no prosecution\nknowing that lynch had given the fbi notice on <DATE> that she d be announcing her intention to accept comey s recommendation fearing this just might look a bit choreographed the fbi promptly amended comey s planned remarks to include this assertion which he in fact made on <DATE> i have not coordinated or reviewed this statement in any way with the department of justice or any other part of the government they do not know what i am about to say\nbut they did not need to participate in drafting the statement and they did not need to know the precise words he was going to use it was not comey s decision anyway all they needed to know was that there would be no prosecution\non <DATE> with the decision that she would not be indicted long since made mrs clinton sat for an interview with the fbi something she d never have done if there were a chance she might be charged the farce was complete with the justice department and fbi permitting two subjects of the investigation mills and clinton aide heather samuelson to sit in on the interview as lawyers representing clinton that is not something law enforcement abides when it is serious about making a case here however it was clear there would be no prosecution\nall cleaned up no indictment meaning no prosecution meaning no disclosure of clinton obama emails it all worked like a charm except the part where mrs clinton wins the presidency and the problem is never spoken of again\na version of this piece also appeared on national review online\n<URL>\nread more great articles here <URL>"
        ],
        [
         "11",
         "reliable",
         "i wish i had done so when our now adult daughters were teens two of our girls experienced sexual harassment at school neither were physically assaulted but both experienced verbal sexual harassment one by male student and one by a male college professor"
        ],
        [
         "12",
         "fake",
         "president trump right with rep robert lighthizer reuters jonathan ernst reuters\nfake news is now part of the american vernacular and wordsmiths have donald trump to thank\npresident trump recently handed out the <DATE> fake news awards for the <NUM> most irresponsible examples of reporting and the headlines ranging from ice cream to pecan pie bordered on if not crossed the ridiculous trump s favorite media outlet cnn garnered four of the awards\nbut long before last week s awards donald trump was calling out those who just plain didn t get the story straight even on the campaign trail and his boldness resonated with voters says stephen e strang author of the best selling book god and donald trump\nstrang who was a guest on fox friends this past sunday said that when then candidate trump began responding to his critics at all hours of the day and night on twitter he surprised and embarrassed a lot of his detractors tweeting strongly worded comments no one had expected\nhe had already waged highly publicized verbal battles with meryl streep and other celebrities such as rosie o donnell and oprah winfrey but this would be an altogether different kind of war strang wrote with a level of technical savvy uncommon for a man of his generation trump was able to counterattack within minutes whenever his opponents made scurrilous charges against him this was something new and it delighted his fans and the public at large even as it infuriated the increasingly volatile resistance\nbefore long trump was a serial tweeter and he provided the media with some riveting sound bites he continued not everyone of course was thrilled by this new development liberal news organizations compiled exhaustive catalogs of trump s tweets to show how insensitive ignorant and wrong headed he could be but they couldn t ignore them and they followed his tweets faithfully hoping to catch him in some word or deed that would be his undoing\nadvertisement\nstrang fully acknowledges that some of trump s comments were tactless and crude often attacking his detractors with salty schoolyard taunts\nbut trump s use of twitter gave him a way around the mainstream media and his political opponents who had been getting free access to the media and were able to insult and demean him with impunity strang wrote suddenly those same people were being held accountable in real time and news hawks on both sides didn t want to miss a word of it\ntrump hasn t slowed his twitter storm since moving into the white house the author added at one point he had said there would have been zero chance of winning wh if he had relied on the fake news being churned out by the mainstream media but his candid and unfiltered twitter feeds helped turn the tables on his foes\nstrang is an award winning journalist and successful businessman who began his career as a newspaper reporter at the orlando sentinel he later founded a christian publishing house and media company while interviewing and writing about nearly every christian leader in the country over the past four decades\nfor more information on god and donald trump visit <URL> and view the book s video visitors to the site can also download a free chapter and order the book\ngod and donald trump is published by frontline an imprint of charisma house which has published books that challenge encourage teach and equip christians including <NUM> new york times best sellers\nconnect with god in a deeper way as you read his word select bibles are now <NUM> off plus free shipping and a free gift show me the bibles\nencounter the holy spirit and develop a relationship that saturates you in his peace love and joy explore the life in the spirit series\nfree gift download pastor bill johnson s <NUM> page mini ebook the war in your head and unlock your supernatural lifestyle click here\nsee an error in this article send us a correction"
        ],
        [
         "13",
         "fake",
         "mission must be at the heart of journalism pope says\nheadline bitcoin blockchain searches exceed trump blockchain stocks are next\nvatican city <DATE> <NUM> <NUM> am cna ewtn news in his message for the world day of social communications published wednesday pope francis said that in a world of lightning fast communication there is a responsibility to combat falsehood and misinformation with truth treating journalism as a people oriented mission\nin today s world the work of journalists is in every sense not just a job it is a mission the pope wrote in his message released <DATE>\namid feeding frenzies and the mad rush for a scoop they must remember that the heart of information is not the speed with which it is reported or its audience impact but persons\ninforming others means forming others it means being in touch with people s lives he continued that is why ensuring the accuracy of sources and protecting communication are real means of promoting goodness generating trust and opening the way to communion and peace\nfrancis message for the next world day of social communications was released <DATE> the feast day of st francis de sales the patron saint of journalists\nthe <NUM> annual celebration will take place <DATE> on the theme the truth will set you free jn <NUM> <NUM> fake news and journalism for peace\nin today s fast changing world of communications and digital systems we are witnessing the spread of what has come to be known as fake news the pope said\nin this way i would like to contribute to our shared commitment to stemming the spread of fake news and to rediscovering the dignity of journalism and the personal responsibility of journalists to communicate the truth\nthe best antidote to the spread of falsehoods in fake news aren t strategies he stated but people\npeople who are not greedy but ready to listen people who make the effort to engage in sincere dialogue so that the truth can emerge people who are attracted by goodness and take responsibility for how they use language\neveryone has the duty to counter the lies found in fake news he said but an even weightier responsibility falls upon those whose job it is to provide the world with information namely journalists the protectors of news\nfrancis went on to encourage everyone to promote a journalism of peace which he said doesn t mean some saccharine or sentimental reporting that refuses to acknowledge the existence of real and serious problems\nrather he emphasized a journalism of peace is journalism that is truthful and opposed to falsehoods rhetorical slogans and sensational headlines a journalism created by people for people one that is at the service of all especially those and they are the majority in our world who have no voice\na journalism he continued that is less focused on breaking news and more on exploring the underlying causes of conflicts so that it can promote a deeper understanding and contribute to resolutions by setting in place virtuous processes and offering alternatives to shouting matches\nthe first fake news francis said was that created by the crafty serpent in the book of genesis who used falsehood to tempt eve into disobeying god\nthe strategy of this skilled father of lies jn <NUM> <NUM> is precisely mimicry that sly and dangerous form of seduction that worms its way into the heart with false and alluring arguments he said\neve s temptation by the serpent brings to light an essential element for our reflection there is no such thing as harmless disinformation\nhe pointed out how constant exposure to deceptive language can also have harmful consequences on our interior life as illustrated by a quote from fyodor dostoevsky s the brothers karamazov\npeople who lie to themselves and listen to their own lie come to such a pass that they cannot distinguish the truth within them or around them and so lose all respect for themselves and for others and having no respect they cease to love and in order to occupy and distract themselves without love they give way to passions and to coarse pleasures and sink to bestiality in their vices all from continual lying to others and to themselves\nso how do we defend ourselves from this evil francis asked the most radical antidote to the virus of falsehood is purification by the truth which in christianity is more than just a judgment of things as true or false he said\nit s also more than just revealing things that are concealed he continued truth involves our whole life\ntruth is something you can lean on so as not to fall he said in this relational sense the only truly reliable and trustworthy one the one on whom we can count is the living god hence jesus can say i am the truth\nto this end drawing inspiration from a franciscan prayer we might turn to the truth in person he concluded offering the following prayer\nlord make us instruments of your peace\nhelp us to recognize the evil latent in a communication that does not build communion\nhelp us to remove the venom from our judgements\nhelp us to speak about others as our brothers and sisters\nyou are faithful and trustworthy may our words be seeds of goodness for the world\nwhere there is shouting let us practice listening\nwhere there is confusion let us inspire harmony\nwhere there is ambiguity let us bring clarity\nwhere there is exclusion let us offer solidarity\nwhere there is sensationalism let us use sobriety\nwhere there is superficiality let us raise real questions\nwhere there is prejudice let us awaken trust\nwhere there is hostility let us bring respect\nwhere there is falsehood let us bring truth\namen\nsource <URL>"
        ],
        [
         "14",
         "fake",
         "full disclosure we have no way of knowing if any of these allegations by this teacher maimona afzal berta right are true since similar muslim complaints often turn out to be hate hoaxes perpetrated to get sympathy from the media and community the fact that the school has done nothing about her allegations makes one think"
        ],
        [
         "15",
         "reliable",
         "screenshot youtube andrew luis and kevin palau give a health update <DATE>\nkevin andrew and luis palau all stood together on thursday to make the shocking announcement that beloved world renowned evangelist luis palau was diagnosed with stage <NUM> lung cancer\nwe wanted to tape this video to tell the whole world that love dad and the work that we do what s been going on in dad s life kevin president of luis palau ministries said in the social media video posted thursday\nhe then proceeded to share that his father fell ill after a busy fall season as he returned from an overseas trip to the u k they believed he only had a chest cold but when it didn t go away the family convinced luis to go to the doctor\nto our surprise the early report that we got just before christmas said that there was some cancer inside one of dad s lungs kevin explained\nthey got extra testing done and went to an oncologist who revealed the terminal diagnosis\njust a few days ago we got the word that it s stage <NUM> lung cancer that s a shock especially with someone who s always been as healthy as dad he continued\nthe son said they made the video so that people can join them in prayer luis then shared his heart concerning everything\ni haven t been in a hospital one night except for when i broke a bone back in <DATE> after missions from london the esteemed argentinian evangelist shared\nto me the first thing you do is cry i think oh wow i can be gone in a few months and one silly thought that came to mind is that i won t be able to pick up the phone and talk to the boys and hear their voice and talk to my wife luis emotionally shared\nthis is sad i don t feel panic or horror if i m healed hallelujah and many people are praying that the lord will do a miracle it would take literally a miracle medically speaking stage <NUM> is big time\nhe went on to say that the peace he felt immediately was that at least <NUM> years ago he elected his son kevin to be president of the ministry and andrew is an anointed evangelist\nso everything is ready and if the lord wants to take me home in the next two months or two years then i m ready the loving father maintained as his sons looked at him with heartbroken smiles\nluis said he s going to continue living one day at a time and despite the sad prognosis he still feels good\nhe shared the scripture that has been keeping him encouraged isaiah <NUM> <NUM> which says fear not for i am with you be not dismayed for i am your god i will strengthen you and help you i will uphold you with my victorious righteous right arm\ni know the lord is with me by the holy spirit indwelling he is with us we go through it we go into the presence of the lord luis testified\nhe also shared <NUM> timothy <NUM> where the apostle paul says the time for my departure is here\nthe <NUM> year old began to cry as he thought about leaving his family but he did say he still intends to complete the mission trips they have planned throughout the world for this year as god gives him the strength\nthank you for your prayers thank you for loving us thank you for your support luis said as he ended his portion\nandrew concluded the video by saying that he s had many restless nights the past couple of days\ni got up and read my proverbs early and couldn t wait to come up and see your face he told his dad\nhe then quoted proverbs <NUM> which says the evidence of a happy heart is a cheerful face\nto think that you re facing what you re facing and day by day we see your happy face it s proof that you re at peace andrew stated\nwe beg you to pray for dad and mom he asked viewers\nluis has been in ministry for more than <NUM> years the palau association has collaborated with thousands of churches in hundreds of cities around the world in his life to this point he s made an impact in top global cities london hong kong singapore chicago moscow madrid mexico city buenos aires washington d c and more\nthis reporter was in attendance in <DATE> as he rallied <NUM> new york city churches together to make history in the big apple it was one of the biggest evangelical moves in new york city as approximately <NUM> people gathered to hear the gospel and worship the palau association has coordinated hundreds of citywide campaigns just like it in dozens of nations including major evangelistic festivals on all five continents\nto stay up to date on luis condition go to <URL> watch the full family announcement above or in spanish on facebook here"
        ],
        [
         "17",
         "reliable",
         "expand | collapse photo reuters peter macdiarmid ampoules containing a medium for stem cell storage in a file photo\na team of scientists in california have found a new way to create stem cells that doesn t require the destruction of human embryos\nresearchers at the san francisco based gladstone institute have announced that they were able to create stem cells by using skin cells from mice through a genome editing tool called crispr\nsheng ding phd a senior investigator at the gladstone institute said in a statement released monday that this was an innovative means of creating stem cells for research\nthis is a new way to make induced pluripotent stem cells that is fundamentally different from how they ve been created before said ding\nat the beginning of the study we didn t think this would work but we wanted to at least try to answer the question can you reprogram a cell just by unlocking a specific location of the genome and the answer is yes\nin a statement the gladstone institute noted that they were building upon the findings of senior investigator shinya yamanaka md phd who in <DATE> found that he could make stem cells dubbed induced pluripotent stem cells ipscs by treating ordinary skin cells with four key proteins\nding and others previously created ipscs not with transcription factors but by adding a cocktail of chemicals to the cells noted the institute\nthe latest study published in cell stem cell offers a third way to turn skin cells into stem cells by directly manipulating the cells genome using crispr gene regulation techniques\nshort for clusters of regularly interspaced short palindromic repeats crisprs are a type of dna sequences found in bacteria\ncrispr technology was adapted from the natural defense mechanisms of bacteria and archaea the domain of single celled microorganisms these organisms use crispr derived rna and various cas proteins including cas <NUM> to foil attacks by viruses and other foreign bodies explained live science\nthey do so primarily by chopping up and destroying the dna of a foreign invader when these components are transferred into other more complex organisms it allows for the manipulation of genes or editing\nthe gladstone institute s breakthrough on stem cell creation comes months after an israeli based firm developed a new als treatment that uses cells extracted from bone marrow rather than embryos\nbrainstorm announced in october that it was beginning clinical treatments in the united states with the new treatment which could help restore motor abilities for those with als\nduring the maturation process the cells from the bone marrow are manipulated into behaving like brain cells in that they produce materials that are the building blocks of the brain reported the jerusalem post\nwhen these modified cells are put back in patients the building blocks circulate in the spinal fluid and help repair the damaged brain"
        ],
        [
         "18",
         "fake",
         "subscribe to canada free press for free\nno totalitarian system is ready to tolerate heretics within its realm it hates president trump strives to undermine israel defames victor orban seeks to bring poland to its knees because of its striving for striving for sovereignty\nneo stalinism and the polish challenge\ncourts have been turned into leverage for destruction of national democracies by the totalitarian system in late december the european commission announced punitive measures against poland using the so called nuclear option article <NUM> of the lisbon treaty the reason was the decision of warsaw to limit the power of judges the eu considered this an infringement on freedom democracy and the rule of law in fact the nuclear option of the eu has no relation to freedom democracy or the rule of law its goal is to establish a totalitarian supranational system in poland the leading country of the visegrad fronde in order to supersede democratic national institutions of power\nthe judicial system in a democratic state should guard rights of citizens together with the executive and legislative powers it must guarantee the enjoyment of life and liberty of free citizens the virginia declaration of rights of <NUM> or according to jeremy bentham the founder of british utilitarianism ensure the greatest happiness of the greatest number the problem is that judges have real and huge power however unlike heads of states governments and parliamentarians they are not elected by anyone which provides a solid ground for manipulation today the judicial system has turned into a disgusting parody of itself supported by politicians academia media and ngos it is now a powerful lever used by prominent people to promote the ideology of political correctness and multiculturalism the goal of this ideology is ethnic and cultural substitution and as a consequence islamization it is not actively displayed although it is not concealed in <DATE> the former french interior minister jean pierre chevenement called for integration of <NUM> million migrants from africa and asia within <NUM> years in <DATE> the chief justice of england and wales lord phillips declared that it was inevitable to recognize sharia courts in great britain in <DATE> at the peak of the crisis with migrants the journalist ralf schuler bild reported the eu was planning to receive an additional <NUM> million refugees from asia and africa\nin <DATE> the eu financed the exhibition in brussels called islam it s also our history according to isabelle benoit a historian from the tempora organization we want to make it clear to europeans that islam is a part of our civilization on <DATE> president of france emmanuel macron said french culture does not exist there is a culture in france and it is diverse french art i have never seen it according to finance minister of germany wolfgang sch√ uble germans need to learn humanistic values of islam and islam is a constituent part of germany this aim is realized in three stages stage one corruption of society imposition of barbarous archaic customs destruction of the national culture eradication of judeo christian values stage two support of islamic occupation and migrant violence legalization of the sharia stage three suppression of dissent at all levels it is obvious that a healthy and cohesive society would resist turning it into slavery therefore it is necessary to undermine its foundations to swap values virtue should be presented as evil barbarity as cultural originality abnormality as the norm courts are the main leverage in this game below are some of the examples of this phenomenon in <DATE> a british court decided to grant political asylum to <NUM> year old kenyan john thuo thuo the leader of the murderous mungiki sect personally butchered <NUM> of his compatriots with a machete and took part in a disgusting female genital mutilation ritual in <DATE> a party called charity freedom and diversity which advocates legalization of pedophilia all kinds of drugs bestiality and child pornography was registered in netherlands\ncontinued below in <DATE> the swedish court set free sture bergwall the sadist and cannibal who confessed that he had raped tortured and eaten his victims in <DATE> a german court released the former member of the red army faction raf brigitte mohnhaupt who had murdered <NUM> people in the <DATE> she didn t express any regret about her crimes in <DATE> the national health service nhs reported <NUM> cases of female genital mutilations although this disgusting procedure was banned in the uk in <DATE> not a single person was convicted this is only a marginal part of thousands of similar verdicts which under the guise of humanism and human rights impose chaos and all kinds of perversions on the other hand christian values are also being consistently destroyed the french court ordered the removal of the cross from the statue of pope saint john paul ii in plo√ rmel because it violated the law imposing a strict separation of church and state in <DATE> dutch prosecutors found nothing illegal in filming a porn movie in a church confessional in <DATE> the british high court decided that the right of homosexuals to equality should take precedence over the right of christians to manifest their beliefs and moral values the telegraph when the foundation of the society is undermined the second stage of destruction begins in the rule of law laws should be applied to all citizens otherwise the very idea of democracy and justice loses its meaning today parallel sharia law legally operates in western europe the so called laws of the jungle reign in black holes of no go zones and courts condone lawlessness and savagery\nduring the period of <DATE> to <DATE> two teenage girls from fontenay sous bois outside paris were gang raped by <NUM> muslim teenagers ten of them were acquitted two persons were sentenced to only one year in prison one person was sentenced to six months in prison and the last one out of <NUM> was given a suspended sentence in <DATE> a french jew ilan halimi was kidnapped by a gang calling themselves barbarians headed by yusuf fofana they tortured him doused him with gasoline and burned him alive <NUM> members of the gang were sentenced to terms between <NUM> months to <NUM> years only two barbarians were freed in <DATE> at the school of lund sweden a muslim migrant teen raped a <NUM> year old girl the girl was transferred but the rapist remained at the same school he was only punished with <NUM> hours of detention in <DATE> the gothenburg district court sentenced a migrant abdul to <NUM> months of youth care only for raping of a <NUM> year old girl but the supreme court of western sweden abrogated abdul because he suffered from adhd syndrome and didn t understand no in <DATE> malm√∂ district court sentenced a <NUM> year old afghan muslim migrant to one month in prison for raping a <NUM> year old boy and so on according to official statistics only every fifth migrant rapist in sweden and only <NUM> percent of migrant pedophiles are deported to their home countries afghanistan pakistan somalia or iraq this is not characteristic of sweden in particular in <DATE> in vienna <NUM> year old amir from iraq raped a <NUM> year old boy in a toilet of a swimming pool the district court sentenced him to six years but the austrian supreme court overturned it for lack of evidence in <DATE> the british high court concluded that abdul hakim belhaj the ex leader of an islamist group that fought the gaddafi regime had a well founded claim against the former head of counter terrorism at mi <NUM> mark allen\ncontinued below pakistani members of the rochdale child sex abuse ring with the exception of their leader shabir ahmed were sentenced to ridiculous terms from <NUM> to <NUM> years in <DATE> a <NUM> year old preacher suleman maknojioa was accused of harassing an <NUM> year old girl he was sentenced to <NUM> weeks imprisonment only but did not stay in prison a single day as he was his family s only breadwinner in germany in <DATE> a <NUM> year old syrian migrant was sentenced to one year and <NUM> months of imprisonment only for raping a mentally disabled woman because when he is drunk he is unpredictable by that time he committed <NUM> various offenses including assault robbery and fare evasion in march a migrant with a machete attacked an <NUM> year old man in d√ºsseldorf and remained free in hamburg <NUM> people were injured when two migrants used tear gas on a train they remained free too at dresden zschachwitz station two asylum seekers from morocco and libya pushed a <NUM> year old man onto the tracks of an oncoming train he miraculously survived the chief prosecutor dropped charges against them there are hundreds of similar examples in june this year three underage muslim migrants severely raped a <NUM> year old girl in idaho in the court room their lawyers advocated that the so called boys were decent and trustworthy and they suffered from post traumatic stress ptsd in <DATE> for the sake of freedom of expression the spanish supreme court freed <NUM> islamists who were planning terrorist attacks in the name of the liberation of spain the western legal system openly sabotages decisions of the executive and legislative branches of power the best evidence of this is courts blocking trump s ban on the reception of migrants from the middle east this has nothing to do with humanism since those who need help most of all are deprived of it it s not only about christians and yezidis in <DATE> britain denied refuge to <NUM> year old nneka obazee a nigerian lesbian woman and her stepchild although she was doomed to a death penalty in her home country after this happened the poor woman tried to commit a suicide in israel the high court of justice deliberately replaces the executive branch it prevents destruction of houses of terrorists and deportation of terrorists cooperates with leftist ngos to demolish jewish houses and blocks the deportation of illegal african migrants to third world countries eu laws literally ensure safety for terrorists imam abdelbaki es satty who organized a terrorist attack in barcelona was brought to trial on drug related charges in <DATE> but judge pablo de la rubia dismissed his deportation as it was deemed a violation of eu laws in <DATE> two al qaeda terrorists one of whom plotted to kill thousands of people in a bomb attack in a british shopping center applied to the european court of human rights against mi <NUM> officials at the european court allowed their application to go ahead the european court of human rights and the british court of appeal didn t deport abu qatad palestinian al qaeda activist to the hashemite kingdom for <NUM> years because of humanitarian considerations the third stage is the elimination of dissenters of any age and social status stalin asserted that repression should be based on laws and indeed stalin s terror was based on the progressive stalinist constitution of <DATE> the legislation of western countries which is quite liberal opens limitless possibilities for justice the french pioneered the path to muslim colonization the starting point on the way to ethnic and cultural substitution according to eric zemmur was the pleven law on racism <DATE> which was then supplemented with even more radical laws germany went even further by deciding to set censorship fines of up to <CUR> <NUM> for hate speech in order to protect freedom of speech according to ex justice minister heiko maas the last major and successful case was the deprivation of the parliamentary immunity of marin le pen by the french prosecutor s office after she published images of isis atrocities on twitter the swedish prosecutor s office accused peter springare a police officer from orebro of spreading hatred and racism all he did was list police reports compiled in one week and naming criminals and countries of their origin aboriginals are defenseless in the face of their colonial barbarians because the judicial system sides with the latter always and everywhere a mere suspicion of islamophobia can cause fatal consequences in <DATE> a <NUM> year old man from stockholm was hit with a <NUM> kroner fine for eating a bacon sandwich in front of three muslim women wearing headscarves in <DATE> a <NUM> year old swedish woman from dalarna was prosecuted for inciting hatred she did not like that muslim teenagers set fire to cars urinated and defecated on the streets in <DATE> <NUM> year old kevin crehan made a joke by leaving a half eaten sandwich with bacon on the doorstep of a mosque in bristol he was accused of racist attack sentenced to one year in prison and died there under strange circumstances any doubt on the purity of islam is ruthlessly punished in <DATE> the german journalist michael st√ºrzenberger was sentenced to a half year in prison after posting a photo on facebook where a ranking nazi was shaking hands with amin al husseini the grand mufti of jerusalem no totalitarian system is ready to tolerate heretics within its realm that s why it hates president trump so much that s why it strives to undermine israel defames victor orban and seeks to bring poland to its knees because of its striving for sovereignty and national democracy alexander maistrovoy is the author of agony of hercules or a farewell to democracy notes of a stranger published recently by xlibris available at amazon and barnes noble\nalexander maistrovoy is a graduate of moscow univ in journalism worked there in his field and made aliyah in <DATE> he works at the russian language newspaper novosty nedely has had articles posted on many internet sites and authored ways of god about different religious and ethnic groups in the holy land and with mark kotliarsky the russian book jewish atlántida\nplease adhere to our commenting policy to avoid being banned as a privately owned website we reserve the right to remove any comment and ban any user at any <URL> that contain spam advertising vulgarity threats of violence racism anti semitism or personal or abusive attacks on other users may be removed and result in a ban follow these instructions on registering"
        ],
        [
         "19",
         "fake",
         "subscribe to canada free press for free\nhow do hand sanitizers work\nwashington alcohol based hand sanitizers are the ubiquitous little squeeze bottle heroes of airports and hospitals our allies during cold and flu season and supposedly effective against a huge variety of disease causing viruses and bacteria but what s really in hand sanitizers and is it true that they kill <NUM> of germs as popular brands claim\namerican chemical society acs is a congressionally chartered independent membership organization which represents professionals at all degree levels and in all fields of chemistry and sciences that involve chemistry\nplease adhere to our commenting policy to avoid being banned as a privately owned website we reserve the right to remove any comment and ban any user at any <URL> that contain spam advertising vulgarity threats of violence racism anti semitism or personal or abusive attacks on other users may be removed and result in a ban follow these instructions on registering"
        ],
        [
         "20",
         "fake",
         "subscribe to canada free press for free\nthe supply of physicians in canada projections and assessment\ncanada has almost <NUM> per cent fewer doctors per capita than oecd average\nvancouver the number of doctors in canada per person lags far behind other developed countries and if current trends continue canada likely won t close the gap in the coming years finds a new study released today by the fraser institute an independent non partisan canadian public policy think tank physicians play a crucial role in canada s health care system but compared to other developed countries canada has a low ratio of physicians to people said steven globerman international business professor at western washington university fraser institute senior fellow and co author of the supply of physicians in canada projections and assessment\nthe study finds that in <DATE> canada had just <NUM> doctors per <NUM> people that s almost <NUM> per cent lower than the <NUM> per <NUM> person average for the other developed countries in the organization for economic co operation and development oecd a group of developed high income countries like canada crucially projecting the number of doctors in canada into future years assuming current medical school enrolment and foreign trained doctor trends continue canada will have <NUM> doctors per <NUM> people by <DATE> still well below the <DATE> oecd average unless current trends are reversed an increasing scarcity of doctors looms large in canada s future globerman said policymakers should think now about how having relatively few doctors will affect canadian patients and the health care system more broadly media contact bryn weese media relations specialist fraser institute javascript must be enabled to view this email address\nthe fraser institute is an independent canadian public policy research and educational organization with offices in vancouver calgary toronto and montreal and ties to a global network of <NUM> think tanks its mission is to measure study and communicate the impact of competitive markets and government intervention on the welfare of individuals to protect the institute s independence it does not accept grants from governments or contracts for research visit <URL>\nfollow the fraser institute on twitter | like us on facebook\nplease adhere to our commenting policy to avoid being banned as a privately owned website we reserve the right to remove any comment and ban any user at any <URL> that contain spam advertising vulgarity threats of violence racism anti semitism or personal or abusive attacks on other users may be removed and result in a ban follow these instructions on registering"
        ],
        [
         "21",
         "fake",
         "have you ever felt out of place for no apparent reason or as if nothing seemed to be going right this could mean you are being psychically attacked and you need to know how to combat these things\nif you think negative thoughts or psychic attacks are being pushed onto you then you need to do something about them while you cannot stop them from happening you can keep them from controlling your life these things come from others and are often unintentional you see when someone is jealous of you or even doesn t like you the things they put out into this world have more power than they realize below you will find a list of things that can and will help you when these situations arise\n<NUM> things to do when you feel psychic attacks heading your way\nthis is a pretty popular practice during meditation imagine a white light at your solar plexus chakra point and allow it to expand ever so gently with each breath it will grow brighter once it expands beyond the borders of your body you will begin to notice a difference think of this as a means of clearing away the negative feelings attacking your body\nthis is known as smudging i suggest using white sage as it is the most easily accessible and will do the job cleanse your person and your home this will rid you of any negativity that may have been lingering\nyou can do your own research and figure out which crystals work best for you specifically but for me black tourmaline works wonders i carry this in my pocket every single day once you get into the swing of carrying crystals you will notice a big change\n<NUM> enforce healthy boundaries\nif you find these attacks are coming from a specific person limit their presence in your life no one should be able to hold power over your being if they are bringing you down cutting them out is essential\n<NUM> make it clear you will no longer be affected\ntell yourself verbally that you will no longer let these attacks bother you or affect your life this is setting your intentions and making it clear that you will not be broken as mentioned above the things we put out in the world hold more power than we realize\n<NUM> meditate more often to strengthen your aura\nmeditate as much as you can clear your mind and really work to bring a deeper sense of strength to your aura this is much easier than it sounds"
        ],
        [
         "22",
         "fake",
         "subscribe to canada free press for free\na new type of computer hardware could improve cyber security in harsh environmental conditions\nimproving cyber security in harsh environments\nmany people don t worry about the security of their personal information until it s too late and protecting data is even more important for military personnel whose lives could be in danger if some types of information were to get into the wrong hands now one group reports in acs nano a new way to protect data especially when it is subjected to extreme environmental conditions\naccording to the u s federal bureau of investigation the financial loss from cybercrime in the u s was over <CUR> <NUM> billion in <DATE> as this number is only expected to rise in the upcoming years the military businesses and individuals are seeking new ways to guard their information traditional methods involve installing software but that can require frequent updates and large amounts of power as a result experts have proposed alternative security methods based on hardware physical unclonable function puf devices hold promise random physical variations occur as this type of hardware is fabricated which creates a unique structure that is impossible to copy or clone but current pufs are sensitive to harsh environments making them a bad choice for military or outside use so yang kyu choi and colleagues wanted to make new puf hardware that would overcome this challenge\nthe researchers designed a puf based on nano electro mechanical switches nems which are often used in circuits and are known for their low power consumption a nanowire in the contraption floats between two gates as the liquid used in the fabrication process naturally evaporates the wire bends and adheres to one of the gates depending on which gate the nanowire is touching a <NUM> or a <NUM> is generated an array of several gates and nanowires can create an unpredictable unique code the nem puf withstood exposure to high temperatures microwaves and high dose radiation in the case of a data breach it can self destruct providing an additional layer of security nano electromechanical switch based on a physical unclonable function for highly robust and stable performance in harsh environments\namerican chemical society acs is a congressionally chartered independent membership organization which represents professionals at all degree levels and in all fields of chemistry and sciences that involve chemistry\nplease adhere to our commenting policy to avoid being banned as a privately owned website we reserve the right to remove any comment and ban any user at any <URL> that contain spam advertising vulgarity threats of violence racism anti semitism or personal or abusive attacks on other users may be removed and result in a ban follow these instructions on registering"
        ],
        [
         "23",
         "fake",
         "obama s the greatest criminal in history say trump and joe arpaio because he forged his birth certificate video"
        ],
        [
         "24",
         "fake",
         "subscribe to canada free press for free\nsenate confirms pro life hhs secretary nominee alex azar after defeating democrat filibuster\na former clerk for pro life supreme court justice antonin scalia will become the next hhs secretary as senate republicans approved alex azar today after successfully turning back a democrat filibuster yesterday azar is president donald trump s latest pro life nominee to a key administrative position with influence over abortion policy he was confirmed <NUM> <NUM> now azar a former top executive at eli lilly and company will become the new health and human services secretary and replace tom price the pro life former congressman who left his post in september more\n<URL> is an independent news agency devoted to reporting news that affects the pro life community with a team of experienced journalists and bloggers <URL> reaches more than <NUM> pro life advocates each week via our web site email news reports social networking outreach and weekday radio program\nplease adhere to our commenting policy to avoid being banned as a privately owned website we reserve the right to remove any comment and ban any user at any <URL> that contain spam advertising vulgarity threats of violence racism anti semitism or personal or abusive attacks on other users may be removed and result in a ban follow these instructions on registering"
        ],
        [
         "25",
         "fake",
         "canada a canadian government representative repeatedly refused to say whether the requirement that employers sign a pro abortion attestation in order to receive summer job grants may be expanded to other government programs\nprime minister justin trudeau and his liberal government require that employers affirm they support abortion and transgender rights in order to receive government grants to hire students during the summer it is facing backlash around the world even from liberal media outlets more"
        ],
        [
         "26",
         "fake",
         "a black hole is pushing the stars around in this globular cluster\nheadline bitcoin blockchain searches exceed trump blockchain stocks are next\nastronomers have been fascinated with globular clusters ever since they were first observed in <NUM> century these spherical collections of stars are among the oldest known stellar systems in the universe dating back to the early universe when galaxies were just beginning to grow and evolve such clusters orbit the centers of most galaxies with over <NUM> known to belong to the milky way alone\none of these clusters is known as ngc <NUM> a cluster located about <NUM> light years away in the southern constellation of vela using the eso s very large telescope vlt at the paranal observatory in chile a team of astronomers recently studied this cluster and noticed something very interesting according to the study they released this cluster appears to have a black hole embedded in it\nthe study appeared in the monthly notices of the royal astronomical society under the title a detached stellar mass black hole candidate in the globular cluster ngc <NUM> the study was led by benjamin giesers of the georg august university of göttingen and included members from liverpool john moores university queen mary university of london the leiden observatory the institute of astrophysics and space sciences eth zurich and the leibniz institute for astrophysics potsdam aip\nfor the sake of their study the team relied on the multi unit spectroscopic explorer muse instrument on the vlt to observe ngc <NUM> this instrument is unique because of the way it allows astronomers to measure the motions of thousands of far away stars simultaneously in the course of their observations the team found that one of the cluster s stars was being flung around at speeds of several hundred kilometers an hour and with a period of <NUM> days\nas giesers explained in an eso press release\nit was orbiting something that was completely invisible which had a mass more than four times the sun this could only be a black hole the first one found in a globular cluster by directly observing its gravitational pull\nthis finding was rather unexpected and constitutes the first time that astronomers have been able to detect an inactive black hole at the heart of a globular cluster meaning that it is not currently accreting matter or surrounded by a glowing disc of gas they were also able to estimate the black hole s mass by measuring the movements of the star around it and thus extrapolating its enormous gravitational pull\nfrom its observed properties the team determined that the rapidly moving star is about <NUM> times the mass of our sun and the mass of its black hole counterpart to be around <NUM> times the sun s mass this put s it in the stellar mass black hole category which are stars that exceeds the maximum mass allowance of a neutron star but are smaller than supermassive black holes smbhs which exist at the centers of most galaxies\nthis finding is highly significant and not just because it was the first time that astronomers have observed a stellar mass black hole in a globular cluster in addition it confirms what scientists have been suspecting for a few years now thanks to recent radio and x ray studies of globular clusters and the detection of gravity wave signals basically it indicates that black holes are more common in globular clusters than previously thought\nuntil recently it was assumed that almost all black holes would disappear from globular clusters after a short time and that systems like this should not even exist said giesers but clearly this is not the case our discovery is the first direct detection of the gravitational effects of a stellar mass black hole in a globular cluster this finding helps in understanding the formation of globular clusters and the evolution of black holes and binary systems vital in the context of understanding gravitational wave sources\nthis find was also significant given that the relationship between black holes and globular clusters remains a mysterious but highly important one due to their high masses compact volumes and great ages astronomers believe that clusters have produced a large number of stellar mass black holes over the course of the universe s history this discovery could therefore tell us much about the formation of globular clusters black holes and the origins of gravitational wave events\nand be sure to enjoy this eso podcast explaining the recent discovery\nfurther reading eso mnras\nthe post a black hole is pushing the stars around in this globular cluster appeared first on universe today\nsource <URL>"
        ],
        [
         "27",
         "fake",
         "before it s news ©\npeople powered news ®\nvalid <NUM> years unless revoked\ncongress shall make no law respecting an establishment of religion or prohibiting the free exercise thereof or abridging the freedom of speech or of the press or the right of the people peaceably to assemble and to petition the government for a redress of grievances"
        ],
        [
         "28",
         "fake",
         "mark smyth\na former member of the s a e society of automotive engineers mark smyth has had a lifelong love for machinery driving a tractor on his family farm at age <NUM> he raced boats and cars during the <DATE> and <DATE> both powered by gasoline and alcohol fuels having even used hydrazine rocket fuel as a fuel additive in drag racing mark learned all about synthetic lubes from a chemist who developed the very first synthetic lube oils to be certified for u s military specs back in <DATE>\nmost recent articles by mark smyth\n<DATE> mark smyth\ndata is the new oil your personal information is now the world s most valuable commodity\ni noticed a few weeks ago when i tried to post a comment under a youtube video while on my laptop after i pointed the icon onto the comment section it showed my full first and last name and that if i posted a comment that i would be agreeing to setup a youtube channel what\nfirstly why would i want to use my full legal real name if i have never posted a video to youtube and why is google trying to sucker me into exposing my full legal name\n<DATE> mark smyth\nthe new ontario home tax for offshore buyers will raise about <CUR> <NUM> million for the first <NUM> homes sold that guesstimate will be mostly one bedroom condos selling for <CUR> <NUM> and another huge percentage of those <NUM> homes selling in the middle half million dollar range\nthat s at a tax rate of <NUM> percent based on the selling price for a two bedroom condo selling for <CUR> <NUM> that rate will give <CUR> <NUM> to the government of ontario and canada\n<DATE> mark smyth\ni watched the late rebroadcast version of nbc news monday night with host lester holt at an american air base in south korea\noldies are goodies as both the a <NUM> warthog and the cold war spy u <NUM> plane are both used there and holt gave us a close report of both\ngreat footage from inside the chase car that follows all the takeoffs of the u <NUM> extreme high altitude jet it has been flying since the <DATE> and flies at an altitude of <NUM> feet over north korea so that the midget dictator cannot shoot it down that <NUM> feet is <NUM> miles high\n<DATE> mark smyth\npolls favorable to donald trump may be overestimating his support state polls suggest\none point that this article fails to mention is that the la times poll takes a cross country read every day from <NUM> people making it more accurate than most other national polls that are only one third the sample size\nand that same la times poll mentions that clinton is ahead by one point but failed to be honest by reporting a lead for just one day for clinton in over <NUM> weeks in the exact same poll\n<DATE> mark smyth\nfor <NUM> years the anc a commie based political party that has ruled in south africa for <NUM> years is running into some very stiff opposition in the upcoming election\n<DATE> mark smyth\nfor those who were not aware of the joint statement from the <NUM> annual u s conference of mayors in miami this past week to boycott canadian gasoline made from oil sands heavy crude pay very close attention"
        ],
        [
         "29",
         "fake",
         "the time factor active shooter incidents\nheadline bitcoin blockchain searches exceed trump blockchain stocks are next\nby stephen bryen american thinker\nterrorists whether domestic or foreign organization based or truly lone wolf and unconnected all have important advantages favoring the success of their attacks they can exploit the multiple vulnerabilities that exist in civil society notwithstanding whether the terrorists operate in democratic or authoritarian states and time is on their side\nterrorists exploit shock and time\nthere is not much that can be done to remove shock from the equation a terrorist with a gun a bomb a knife or a truck can wreak a lot of havoc shock can paralyze potential victims and make it hard for law enforcement to go after the perpetrator\nin israel practically every adult has military training and many israelis are armed while successful attacks have occurred bombings shootings vehicle attacks and knifings to name some the advantage israel generally has is rapid reaction based on the simple fact that armed citizens know what to do when a terrorist attacks\nmost of the rest of the world is different a police presence can help but even then in certain scenarios terrorists can be effective security guards can also help but very often they are the first target of an intruder in a building or facility in <DATE> a white supremacist <NUM> year old james wenneker von brunn entered the holocaust museum in washington dc with a rifle and killed museum special police officer stephen tyrone johns other guards shot at von brunn who was wounded and apprehended\na very important component in terrorist incidents is how long it takes for law enforcement to react and to neutralize the attacker in las vegas from the time <NUM> was sounded to the swat team destroyed the hotel room door where the shooter was took <NUM> minutes this gave the shooter ample time to use his ten guns even reloading some of them while killing <NUM> people and wounding some <NUM> others\nlas vegas has well trained swat teams why then did it take <NUM> minutes\nthe same question can be asked in countless other examples whether the bataclan night club in paris the <DATE> nord ost siege in the dubrovka theater in moscow the virginia tech massacre in <DATE> the washington navy yard attack in the navsea building in <DATE> the <DATE> san bernardino shooting or the pulse nightclub shooting in june <DATE>\nin almost every case the problem amounted to a time problem\nthe time problem consists of the following issues a trying to locate a shooter and b attempting to reach the shooter and neutralize him or her\neven with current security systems it is not easy to locate a shooter the reasons for this are the lack of proper coverage by cameras and sensors leading to many blind spots the inability to interpret surveillance images when they are available the fact that a shooter may be moving around although it would seem in the las vegas case from what we know now that the shooter operated from a hotel room and smashed out windows so he could fire on the country music festival\nmost security systems in the united states and elsewhere in the world were designed <NUM> or more years ago while some improvements have been made wifi digital cameras replacing old analog cameras overall the nature of these systems has not changed much what they offer are pictures from different cameras that are flashed across a computer screen or a tv monitor someone in a command center is supposed to watch these pictures and sound an alarm if something happens and if they see it this type of security system primarily is valuable for collecting forensic information after an incident or suspect intrusion there the video feed can be examined even in london one of the most wired up cities in the world it takes police anywhere from hours to days to make use of surveillance camera video footage as an aid to apprehending a terrorist obviously that is helpful but it would be better if the camera feed could be accessed in a more direct fashion\nan israeli inventor who was the lead manager for installing security systems in <NUM> sensitive israeli villages and who also built a security system for a prison along the egyptian border to keep terrorists out not just to keep prisoners in saw this weakness in current security systems and set out to fix the problem his name is eran jedwab and his product is called jedeye it is the first system to bolt onto traditional security systems and provide security guards and police with real time situational awareness of a threat including full visualization of a facility or campus the system is now being installed at locations in the united states\nother technologies also could be very useful but promoting them has been a hard sell in the united states one of them is gunshot detectors gunshot detectors can actually locate a shooter in a millisecond can aim cameras in the shooter s location and can even be slaved to sniper rifles in the hands of law enforcement while gunshot detectors in the past are fixed in place today mobile gunshot detectors can be mounted on police vehicles there are a few companies that offer such products including shotspotter in newark california and safety dynamics in tucson arizona had a mobile gunshot detector been in las vegas the shooter would have been accurately located immediately\nit would help a great deal if the department of homeland security dhs was more proactive in sponsoring and testing new technology aimed at reducing the time it takes to neutralize an active shooter or an intruder while dhs through the tsa has spent heavily on airport passenger and baggage security systems much of the rest has been underfunded or neglected now is the time for dhs supported by the congress to go into high gear in sponsoring solutions that reduce the time it takes to stop a terrorist\n<URL>\nread more great articles here <URL>"
        ],
        [
         "30",
         "fake",
         "you ll be enraged when you find out what the fbi just did <NUM> cities targeted\nof readers think this story is fact add your two cents\nheadline bitcoin blockchain searches exceed trump blockchain stocks are next\nby lisa haven\nsometimes i just want to scream from the top of my lungs about the atrocities that surround us on a daily basis well today is one of those days this morning as i rolled out of bed i awake to the blare of the christian radio station buzzing in the background don t be alarmed at the fbi aircrafts in your skies they are only there to collect video and cell phone data the voice then happily stammered while playing the next tune\nsince when did it become acceptable to promote our government breaking the law on open airwaves in such a satisfactory manner as if what they were doing was legal no court approved the fbi s usage of these aircrafts yet they did as they pleased and monitored anyone and everyone they deemed necessary\nin fact according to the associated press <NUM> states were identified in the surveillance flights conducted by the fbi\narizona glendale maricopa mesa phoenix scottsdale tempe\ncalifornia anaheim rancho cordova richmond sacramento san diego spring valley\nflorida cape coral\nillinois chicago\nmaryland baltimore columbia\nmassachusetts boston brockton\nminnesota minneapolis\nrhode island providence\ntexas arlington dallas houston plano\nvirginia arlington fairfax garrisonville springfield\nwashington seattle tacoma\nwashington d c\nbut wait it gets worse here is the breaking report\nsome flight patterns were also noted by independent journalist sam richards here are some of those\nmore critical reads you need to hear by lisa haven click here\nsubscribe to my website at <URL>\nfor more information see\n<URL>\n<URL>\n<URL>"
        ],
        [
         "31",
         "fake",
         "subscribe to canada free press for free\ncfp poetry online\nmigraine nightmare\ni walk silently through the lonely corridors of my mind\nmy brain resonates to howling echoes\ni seem to enter and exit endless doors and hallways but\nnone that seem to lead in any direction or final destination\nin stutter steps i traverse slowly and carefully along a\ndarkened path littered with broken fragments of cobblestone\nmy chest cavity feels cavernous as an empty canyon on a\nblistering summer s heat\nmy heart beats as rapid as an old railroad clock my head feels as heavy as an anvil and throbs with pain\nmy tongue as dry and as sandy as a cactus\na maddening howling wind at my back pushes me forward\nin an aimless direction without purpose or direction as\nif a tumble weed i feel as if i m cascading into a turbulent sea of insanity\ndrenched in perfuse sweat i suddenly bolt upright from\nmy pillow realizing i have awoke from this purgatorial nightmare\nsuch an illusion devilish delusion a state of total confusion\nso now i begin another day of drudgery\nanother day s journey into life s great unknown copyright by joseph p martino\njoseph p martino has authored over <NUM> quotes and poems he was born <DATE> in staten island ny spent his army tour in korea and then served as a new york state peace officer for <NUM> years he has developed many innovations which include safety and fire prevention devices suggestions on how to reduce teen violence and medical and prescription reform etc\njohnny carson played with his patented practice baseball bat on the show two pro baseball teams experimented with his practice bats and a pro football team used his ankle exerciser athletic teams use his motivational quotations\nmartino played army and semi pro baseball along with other sports he and his inventions have been featured in associated press and sports illustrated he has traveled to over <NUM> countries his quotes and poems are published worldwide\nplease adhere to our commenting policy to avoid being banned as a privately owned website we reserve the right to remove any comment and ban any user at any <URL> that contain spam advertising vulgarity threats of violence racism anti semitism or personal or abusive attacks on other users may be removed and result in a ban follow these instructions on registering"
        ],
        [
         "32",
         "fake",
         "prepare for war as trump tours asia all eyes on north korea\nof readers think this story is fact add your two cents\nheadline bitcoin blockchain searches exceed trump blockchain stocks are next\nintelligence and pentagon officials are on high alert amid fears that north korea is planning it s biggest ever missile test to coincide with president donald trump s visit to south korea tuesday foreign policy analysts say if north korea goes through with a launch during the president s visit u s military retaliation is assured\nreports of likely provocation from north korea come after an extended period of relative silence from north korean dictator kim jong un following a <DATE> launch but a launch test while trump is visiting the korean peninsula which is currently surrounded by u s battleships and soldiers would be the hermit kingdom s biggest show of belligerence yet\nto the dismay of some diplomacy experts the president has made no secret that he views north korea as an international menace which he wants to deal with militarily should the opportunity present trump has in recent months ratcheted up rhetoric against north korea calling jong un rocket man earlier this year and classifying the country s quest to become a world nuclear power a suicide mission in august the president vowed that any north korean actions which endanger american lives will be met with fire and fury\non monday trump met with japanese prime minister shinzo abe to discuss the sale of u s military equipment the president said will help bolster international protection agains north korean aggression abe trump said after the meeting has agreed to purchase massive amounts of military equipment that could be used to shoot down long range missiles fired in the region\nalso on monday south korean officials announced new economic sanctions against <NUM> north koreans with ties to the country s nuclear program\nas reuters reported\nall <NUM> individuals on which the south korean sanctions were imposed were directly affiliated to north korean banks according to an official government announcement by the finance minister uploaded on the interior ministry s website they are all people at north korean financial institutions that have already been sanctioned by the united nations a government official directly involved in the sanction development process told reuters the official asked for anonymity as he was not authorized to speak to media they re high ranking employees who have been linked to north korea s nuclear and missile development program as well as the north s foreign exchange procurement efforts\nthe move is seen by many international watchers as likely to bolster north korea s desire to send a message with a missile launch during trump s visit\nif such a launch does occur while trump is in south korea the president s proximity to the danger could play a huge mental role in any future decisions he makes about u s military maneuvers in the region during recent north korean missile experiments the sound of air raid sirens blaring in nations throughout the pacific has become a frequent reminder of the growing nuclear threat\nshould trump decide u s military intervention is warranted in the region the u s military industrial complex is certainly ready to react last week the pentagon briefed lawmakers on the military s most likely course of action including a note that u s ground forces would be needed in the country to secure north korean nuclear sites following an attack\nthe post prepare for war as trump tours asia all eyes on north korea appeared first on personal liberty®\nsource <URL>"
        ],
        [
         "33",
         "fake",
         "subscribe to canada free press for free\ni am tired of being told i am the bad guy and america is the problem\nillegal means illegal close the border\nnotice the emphasis on one word used twice in the title of this commentary illegal there is a current real problem and threat to america s financial well being and cultural stability this invasion from mexico has reached epidemic proportions and no one in power seems to even notice there is a problem\ndon t be fooled by all the media hype border crashers are illegal and they are aliens to this country a few years back political correctness tried to tone down the harshness and began calling them illegal immigrants now they even resent this label well either they are illegal or they are not the next step is to call them unauthorized immigrants which eventually will be followed by the title unauthorized americans or americans without citizenship they are already referred to as undocumented workers i for one am sick and tired of mexico sending troops in to take over notice i did not say i was sick of mexicans i am tired of the illegal there s that word again ones i am tired of them breaking the law and bypassing the legal steps to become citizens i am tired of them demanding amnesty or immediate citizenship as if it is their right by virtue of their presence in this country it is a slap in the face to those who obey the law and earn legitimate citizenship people who become americans are supposed to learn the language pass tests and have a knowledge of our history and political system so they can appreciate and respect this country and be assimilated into american culture in years past during the time of real immigration at ellis island america was known as the melting pot if immigrants do not melt into the pot then the pot ceases to be one pot of unity creating many pots of individual cultures of division america has ceased to be unique and is losing her identity\ni am tired of real genuine bona fide americans being called racist when they speak the truth on this issue more and more illegals are attending the jackson sharpton race card playing school and learning the lingo i wish they would spend as much time learning english and abiding by the law i am tired of the law not being enforced call me crazy but shouldn t illegals be arrested and deported i am tired of republicans and democrats selling us down the river as they flip and flop around with spines of jelly it has always amazed me how most politicians can stand erect on two legs without falling it takes a spine so how do they even walk upright i m tired of the accusation of not acting like a christian about the situation being christian means following the law why is it christians are always supposed to do the right thing but lawbreakers are exempt i am tired of being told by computers when making a phone call to press one to continue in english everything should automatically be in english with an option to press one if spanish is needed i am tired of illegals having access to government services funded by americans basically i am tired of being told i am the bad guy and america is the problem as i read somewhere recently america is a private country with borders and laws not a public park with open access\njoseph harris has been a college professor and pastor since <DATE> and his writings have appeared on worldnetdaily sword of the lord intellectual conservative conservative daily news and land of the free\nplease adhere to our commenting policy to avoid being banned as a privately owned website we reserve the right to remove any comment and ban any user at any <URL> that contain spam advertising vulgarity threats of violence racism anti semitism or personal or abusive attacks on other users may be removed and result in a ban follow these instructions on registering"
        ],
        [
         "34",
         "fake",
         "the integrated non usd platforms\nheadline bitcoin blockchain searches exceed trump blockchain stocks are next\n<URL> by jim willie cb <URL> <DATE>\nthe many new integrated non usd platforms devised and constructed by china finally have critical mass they threaten the king dollar as global currency reserve clearly the usdollar cannot be displaced in trade and banking without a viable replacement for widespread daily usage two years ago critics could not point to a viable integrated system outside the usd realm now they can the integration of commercial construction financial transaction investment and even security systems can finally be described as having critical mass in displacing the usdollar the king dollar faces competition of a very real nature the jackass has promoted a major theme in the last several months that of the dual universe at first the usgovt will admit that it cannot fight the non usd movement globally to do so with forceful means would involve sanctions against multiple nations and a war with both russia china their value together is formidable in halting the financial battles from becoming a global war the united states prefers to invade and destroy indefensible nations like libya iraq ukraine syria and by proxy yemen the usmilitary appears formidable against undeveloped nations seeking to destroy their infra structure and their entire economies in pursuit of the common langley theme of destabilization in the process the usmilitary since the korean war has killed <NUM> million civilians a figure receiving increased publicity the eastern nations and the opponents to us financial hegemony will not tolerate the abuse any longer they have been organizing on a massive scale in the last several years ironically the absent stability can be seen in the united states after coming full circle the deep division of good versus evil of honest versus corrupt of renewed development versus endless war has come to light front and center within numerous important usgovt offices and agencies\nthe shape of the us nation will change with the loss of the usdollar s status as global currency reserve the starting point for the global resistance against the king dollar was <NUM> <NUM> and the onset of the war on terror it has been more aptly described as a war of terror waged by the usgovt as a smokescreen for global narcotics monopoly and tighter control of usd movements then later following the lehman failure killjob by jpmorgan and goldman sachs and the installation of the zero interest rate policy and quantitative easing as fixed monetary policies the community of nations has been objecting fiercely the zero bound on rates greatly distorted all asset valuations and financial markets the hyper monetary inflation works to destroy capital in recognized steps these zirp qe are last ditch desperation policies designed to enable much larger liquidity for the insolvent banking structures without them the big us banks would suffer failure they also provide cover for the amplified relief efforts directed at the multi trillion derivative mountain in no way can the global tolerate unbridled monetary inflation which undermines the global banking reserves\nread more\nthe post the integrated non usd platforms appeared first on silver for the people\nsource <URL>"
        ],
        [
         "35",
         "fake",
         "voice or no voice the people can always be brought to the bidding of the leaders all you have to do is tell them they are being attacked and denounce the pacifists for lack of patriotism and exposing the country to danger it works the same in any country hermann goering german military commander and hitler s designated successor\nhere are some of the lessons we in the united states learned too late about allowing our freedoms to be eviscerated in exchange for the phantom promise of security\nwhat remains to be seen is whether france standing where the united states did <NUM> years ago will follow in america s footsteps as she grapples with the best way to shore up her defenses where to draw the delicate line in balancing security with liberty and what it means to secure justice for those whose lives were taken\nonce again there is that same sense of shock the same shocking images of carnage and grief dominating the news the same disbelief that anyone could be so hateful so monstrous so evil as to do this to another human being the same outpourings of support and unity from around the world the same shared fear that this could easily have happened to us or our loved ones\nbeware of mammoth legislation that expands the government s powers at the citizenry s expense rushed through congress a mere <NUM> days after the <NUM> <NUM> attacks the usa patriot act drove a stake through the heart of the bill of rights undermined civil liberties expanded the government s powers and opened the door to far reaching surveillance by the government on american citizens\npre emptive strikes will only lead to further blowback not content to wage war against afghanistan which served as the base for osama bin laden the u s embarked on a pre emptive war against iraq in order to stop any adversary challenging america s military superiority and adopt a strike first policy against terrorist threats before they re fully formed we are still suffering the consequences of this failed policy which has resulted in lives lost taxpayer dollars wasted the fomenting of hatred against the u s and the further radicalization of terrorist cells\nwar is costly there are many reasons to go to war but those who have advocated that the u s remain at war year after year are the very entities that have profited most from these endless military occupations and exercises thus far the u s taxpayer has been made to shell out more than <CUR> <NUM> trillion on military operations the training of security forces in afghanistan and iraq weapons maintenance base support reconstruction embassy maintenance foreign aid and veterans medical care as well as war related intelligence operations not tracked by the pentagon since <DATE> other estimates that account for war related spending veterans benefits and various promissory notes place that figure closer to <CUR> <NUM> trillion that also does not include the more than <NUM> civilians killed so far or the <NUM> million refugees displaced from their homes as a result of the endless drone strikes and violence\nadvocating torture makes you no better than terrorists the horrors that took place at abu ghraib the american run prison in iraq continue to shock those with any decency photographs leaked to the media depicted us military personnel humiliating hurting and abusing iraqi prisoners in a myriad of perverse ways while american servicemen and women smiled and gave thumbs up naked men were threatened by dogs or were hooded forced into sexual positions placed standing with wires attached to their bodies or left bleeding on prison floors adding to the descent into moral depravity the united states government legalized the use of torture including waterboarding in violation of international law and continues to sanction human rights violations in the pursuit of national security the ramifications have been far reaching with local police now employing similar torture tactics at secret locations such as homan square in chicago\nallowing the government to spy on the citizenry will not reduce acts of terrorism but it will result in a watched submissive surveillance society a byproduct of this post <NUM> <NUM> age in which we live whether you re walking through a store driving your car checking email or talking to friends and family on the phone you can be sure that some government agency whether the nsa or some other entity is listening in and tracking your behavior this doesn t even begin to touch on the corporate trackers such as google that monitor your purchases web browsing facebook posts and other activities taking place in the cyber sphere we are all becoming data collected in government files the chilling effect of this endless surveillance is a more anxious and submissive citizenry\ndon t become so distracted by the news cycle that you lose sight of what the government is doing the average american has a hard time keeping up with and remembering all of the events manufactured or otherwise which occur like clockwork and keep us distracted deluded amused and insulated from the reality of the american police state whether these events are critical or unimportant when we re being bombarded with wall to wall news coverage and news cycles that change every few days it s difficult to stay focused on one thing namely holding the government accountable to abiding by the rule of law and the powers that be understand this in this way regularly scheduled trivia and or distractions that keep the citizenry tuned into the various breaking news headlines and entertainment spectacles also keep them tuned out to the government s steady encroachments on their freedoms\nif you stop holding the government accountable to the rule of law the only laws it abides by will be the ones used to clamp down on the citizenry having failed to hold government officials accountable to abiding by the rule of law the american people have found themselves saddled with a government that skirts flouts and violates the constitution with little consequence overcriminalization asset forfeiture schemes police brutality profit driven prisons warrantless surveillance swat team raids indefinite detentions covert agencies and secret courts are just a few of the egregious practices carried out by a government that operates beyond the reach of the law\ndo not turn your country into a battlefield your citizens into enemy combatants and your law enforcement officers into extensions of the military a standing army something that propelled the early colonists into revolution strips the citizenry of any vestige of freedom how can there be any semblance of freedom when there are tanks in the streets military encampments in cities blackhawk helicopters and armed drones patrolling overhead it was for this reason that those who established america vested control of the military in a civilian government with a civilian commander in chief they did not want a military government ruled by force rather they opted for a republic bound by the rule of law the u s constitution unfortunately we in america now find ourselves struggling to retain some semblance of freedom in the face of police and law enforcement agencies that look and act like the military and have just as little regard for the fourth amendment laws such as the ndaa that allow the military to arrest and indefinitely detain american citizens and military drills that acclimate the american people to the sight of armored tanks in the streets military encampments in cities and combat aircraft patrolling overhead\nas long as you remain fearful and distrustful of each other you will be incapable of standing united against any threats posed by a power hungry government early on u s officials solved the problem of how to implement their authoritarian policies without incurring a citizen uprising fear the powers that be want us to feel threatened by forces beyond our control terrorists shooters bombers they want us afraid and dependent on the government and its militarized armies for our safety and well being most of all they want us distrustful of each other divided by our prejudices and at each other s throats\nif you trade your freedom for security the terrorists win we ve walked a strange and harrowing road since <DATE> littered with the debris of our once vaunted liberties we have gone from a nation that took great pride in being a model of a representative democracy to being a model of how to persuade a freedom loving people to march in lockstep with a police state and in so doing we have proven osama bin laden right he warned that freedom and human rights in america are doomed the u s government will lead the american people in and the west in general into an unbearable hell and a choking life\nto sum things up the destruction that began with the <NUM> <NUM> terror attacks has expanded into an all out campaign of terror trauma acclimation and indoctrination aimed at getting americans used to life in the american police state the bogeyman s names and faces change over time but the end result remains the same our unquestioning acquiescence to anything the government wants to do in exchange for the phantom promise of safety and security has transitioned us to life in a society where government agents routinely practice violence on the citizens while in conjunction with the corporate state spying on the most intimate details of our personal lives\nthe lesson learned as i document in my book battlefield america the war on the american people is simply this once you start down the road towards a police state it will be very difficult to turn back"
        ],
        [
         "36",
         "fake",
         "it is one thing to research collate and articulate a coherent message in print but it is the acid test of knowledge to orate and debate those thoughts in front of an informed and skeptical audience highlight of this author s week was being honored as guest speaker at my local rotary club service above self is the motto of this oldest of all service organizations and they have the record of good deeds to support their claim\nmy luncheon oratory included information on the global warming issue and the difficulty in presenting information to the public the latter made far worse by a news media that has ceased to be free i stated the problem was scientifically illiterate news directors and high school educated talk radio hosts with over developed thumbs on the caller dump button this statement requires clarification\njust one generation ago the term high school education would not have been considered demeaning one generation ago american primary and secondary education tested and ranked number one in the world what had been the gold standard in knowledge has been quickly substituted with a federal certificate of decline in excellence\nevery child left behind\nthe typical result of every government involvement in the last generation is the outcome based goal which raises none it merely lowers the common denominator poorly educated students go on to become poor quality workers who make poor life choices this spiral of stupidity quickly leads to consumption over productivity speculation over thrift we may soon have empirical data on how long a nation can endure imposed ignorance\nin the global warming discussion i displayed two graphs available at ice age chart in any search engine i neglected to mention that there are many conflicting charts at that website with no disclaimers on display were two charts showing earth temperatures and atmospheric carbon dioxide levels across one half billion and one half million year time scales readily apparent regardless of education level is that there is no correlation between temperature and co <NUM>\nformal education should only be beginning and never a limit on personal knowledge we live in an age when the world s greatest library is a website away the world s greatest librarian just a search engine click away but this great resource comes with the caveat emptor or buyer beware lurking in the internet shadows are those who would beat you senseless with a senseless mann hockey stick graph\nin researching the obvious climate fraud the heavy hand of government interventions is everywhere what the department of education had begun in dumb down primary education the national science foundation and the national academy of science have completed at the collegiate level\nmanipulation of climate science is readily apparent also apparent is the geo nuclear heat and mineral flow thru the oceans as a factor in climate it is disturbing to find every web listing on ocean currents temperatures and chemistry has the odious goreian climate statement that human produced co <NUM> is destroying the ocean balance\nthe same day as the rotary presentation the october issue of my favorite punching bag the rolling stone arrived in the spirit of service above self here s a quick review so you don t have to suffer on your own cover articles obama fights back interview and the matt taibbi article the truth about the tea party are the most relevant\nthe oval office interview by jann wenner appears highly scripted no doubt pre submitted questions and if not a pre printed reply then wenner must have missed the teleprompter hanging behind his back the chief executive did mention we several times by necessity but quickly reverted to the i did everything position of a true narcissist\nthe standard talking points were that tea party rubes are under unwitting control of dick armey and freedom works tea party members are anti immigrant and opposed by what i represent as president they re racist and opposed to green energy and work place safety regulations\nobama continues look as president i swore to uphold the constitution and part of that constitution is a free press although the fox news viewpoint is destructive for the country rather than admit truth has a bearing on media success viewpoints are just a marketing tool meanwhile our fearless leader had to prevent a great depression restore the financial system manage two wars liberate health care from doctors and student loans and health insurance from the private sector\nhe s achieved <NUM> of his goals in <NUM> of his first term and public option additional taxes and greater control of everything is enabled and awaiting regulatory enforcement another barack goal was a white house basketball goal now erected on the existing tennis court a half page photo shows our leader shooting hoops with the washington monument in the background\nwhile not busy slam dunking domestic issues this savant has reset our relations with russia brought peace to the middle east ended the iraq war and restored america s leadership on issues like human rights and torture world wide he can do all this while listening to the <DATE> songs he has loaded into his ipod\nmr pres agrees with nasa wack job james hanson that climate change is comparable to slavery faced by lincoln and nazism faced by churchill his nut case energy secretary steven chu has claimed painting all roofs and highways white would provide a temporary solution to global warming surprising chu was the unsung hero of the gulf oil spill this guy went down and helped design the way to plug that hole with bp engineers finally credit for everything is given to this administration\nthe subject of command performances came up with bob dylan skipping all of the expected idolatry singing the times they are a changing dissing the photo ops and leaving the opposite occurred at the sir paul mccartney concert discussing this beatle singing michelle to barack s michelle sends a sobbing president from the room\nthe matt taibbi article tea crackers had some surprising areas of agreement this is america and we have an entrenched oligarchical system in place that insulates us from the any meaningful political change matt goes on to detail the compromising of tea party issues and candidates by the gop insiders a very real problem for all true patriots\nmatt mentions kentucky senate candidate rand paul and possible emerging conflicts and then mentions rand s dad rep ron paul and <DATE> fringe candidate for president matt confesses that while covering the paul campaign he liked ron because he s honest anti war and pro legalization it is shocking to see a liberal reporter agree with so many libertarian positions maybe matt is a patriot in the closet\nthe four way test\nevery rotary meeting begins with a prayer the pledge of allegiance reciting the four way test and singing a song our song that day was god bless america there were sixty members from a wide range of ages backgrounds and ethnicities though none of that mattered to me they were neighbors i d never met principled and dedicated to doing the right thing\nfounded in <DATE> the rotary club has been doing the right thing for a long time they have <NUM> million members in <NUM> chapters on six continents their mission statement is to combat hunger improve health and sanitation provide education and job training promote peace and eradicate polio their ambassadorial scholarship program has enabled <NUM> students from <NUM> countries to live for one year with a foreign family\nwhile promoting a functional mass transit system in the early nineties i was guest speaker for fifty rotary meetings at thirty different chapters if there is a better path to truth and understanding than the rotarians then i m not aware of it it is certainly not articulated or practiced by either political party or the government bureaucracy rotary international is not a political organization and i am neither a member nor a spokesman as just a speaker and honored guest i can state you have no finer neighbors than these dedicated volunteer servants\nthere is urgent need for political reform to save america and that reform cannot be modeled on either of the existing corrupt parties the rotary lions optimist kiwanis and other service clubs are connected to the unpoisoned roots of america i look forward to the day when all of america can embrace their spirit of service that day when former democrats former republicans and former libertarians can stand shoulder to shoulder and sing god bless america"
        ],
        [
         "37",
         "fake",
         "greg hunter big banks in big trouble syria north korea update trump tax cuts update video\nheadline bitcoin blockchain searches exceed trump blockchain stocks are next\nby greg hunter s <URL>\nthe international monetary fund imf says there are nine big global banks in big financial trouble these nine banks represent <CUR> <NUM> trillion in assets gregory mannarino of <URL> says these nine banks could all be the equivalent to lehman brothers that imploded the financial markets in <DATE> the imf agrees and warns it will only take one of the nine named banks to cause global systemic stress citigroup is the only u s bank named by the imf as a struggling global bank\nturkey a nato ally is siding with russia and iran in syria that is going to be a big problem for the trump administration as the u s is backing the kurds which are an enemy of turkey meanwhile in north korea the signs are that a new ballistic missile test is coming how will the trump administration respond\nthe trump tax cuts are facing big headwinds in congress some want more cuts and some want less conservatives do not want the deficit to explode and some democrats agree the potential trump tax cuts are one of the big reasons the stock market is hitting new highs some predict if the tax cuts fail to pass the markets will crash\njoin greg hunter as he talks about these stories and more in the weekly news wrap up\nto donate to <URL> click here\nafter the wrap up\npat muth author of the new book a title in the making will be the guest for the early sunday release she documents that ever since the ross perot movement america has been slowly waking up to the fact the country is run by crooks it s now reaching critical mass to provoke real change for the good of the citizens and not the donors muth contends the two parties today consist of we the people vs the swamp creatures it s an eye opening and inspiring interview\nrelated posts\n<URL>"
        ],
        [
         "38",
         "fake",
         "look south to florence eleven miles distant and watch the wide empty beach recede into a misty horizon look north two miles and there perched high on a bluff is the beautiful heceta head lighthouse the most photographed and arguably most beautiful lighthouse on the oregon coast though i m not sure how that s measured then step in the elevator and plunge <NUM> feet down into the bowels of mother earth for the experience of a lifetime really for a reasonable price of admission you ll be treated to the world s largest sea cave it s not a gimmick or a circus trick just nature hard at work carving out basalt rock one salty wave at a time and yes those are sea lions down there lounging about rubbing blubber yelping and multiplying and stinking up the place\non a clear day the view from the headlands at the sea lions cave visitors center is outstanding but step too close to the edge and you ll get the woozies maybe the wobblies as you gaze down at fields of wavy green grass that plunge <NUM> feet to the blue pacific churning and sloshing back and forth in a perpetual rolling ballet\nalthough my photos are long gone i remember my first encounter with the mother of all sea caves like it was <DATE> back then the underground observation platform was small and a chain linked fence separated us from <NUM> stellar sea lions in repose fifty feet below us on the rocks it was a crowded mass of pinniped mayhem that autumn a reddish brown herd of eumetopias jubatuses young males that can weigh a literal ton each and paunchy cows in their respective harems looking coy and for some action and the little ones yearlings just hanging out and lounging about causing a ruckus if you ve got binoculars bring them\ncome to think of it maybe that was sweaty teddy from toledo i smelled standing just a wee bit too close that afternoon elbowing his way to the front of the pack for a closer look it s been a while since i made that memorable trip down the hole imagine the superdome on a reduced scale as long as a football field and twelve stories tall with the green ocean pouring through the cave s entrance sea lions echoes ricochet off cavern walls decorated with algae and lichen stained in random mosaics of green red and shades of purple outside the cave perched on rocky ledges are guillemots and black cormorants and over there gulls galore swirl and twirl and nest and screech and paint the surrounding cliffs guano white and not far from shore often within sight and always a delight are spouting gray whales plowing north or south to alaska or mexico depending on the season\ngorgeous and <NUM> feet high heceta head lighthouse was built in <NUM> sits on a <NUM> foot high bluff and has been lauded as the most visited and beloved lighthouse in america that very well might be despite the lighthouse undergoing significant renovations through <DATE> which might make a lighthouse tour problematic it shines a long sweeping beam of light visible <NUM> miles out to sea and is regarded as the strongest light on the oregon coast according to old black and white photos from the turn of the century the surrounding headlands were devoid of the dense evergreen forest one finds today because a fire leveled the hillside back then rendering it a barren charcoal wasteland recovered now it s rich and lush green which is understandable given the drenching the oregon coast suffers during winter and spring\nblessed with a spectacular setting and romantic ambiance the refurbished assistant lighthouse keeper s house big white and two stories tall is now a classy bed and breakfast and extremely popular so plan ahead if its on your to do list as there can be a long waiting list to contend with it can handle <NUM> guests at a time has six queen beds and six bathrooms plus a fully equipped guest kitchen a bit pricey for some the cost is mitigated by a renowned seven course gourmet breakfast the accompanying <NUM> page cookbook packed with colorful photographs and delicious recipes must be purchased separately\ncape perpetua another immense forested headland that juts out into the pacific and rises to a respectable <NUM> feet above sea level paved road access and parking available up top is another must stop on your drive up the coast from strategically placed viewpoints you can see many miles out to sea and up and down the coast southward are cascading mountain shoulders in silhouette plunging through fog into the burly ocean below looking north through breaks in the spruce are miles of flat beach and the tiny delightful ocean side village of yachats yah hots situated near the mouth of a river of the same name and pronunciation\nthough dominating the landscape the cape isn t the only attraction in the u s forest service s cape perpetua scenic area which includes <NUM> acres of old growth douglas fir spruce and western hemlock the scenic area also claims bragging rights to a giant <NUM> year old sitka spruce that towers <NUM> feet high and boasts a <NUM> foot circumference near its base do not cut this tree down for firewood it s protected by law and in <DATE> was recognized as an official heritage tree a guilt offering no doubt on account of the rabid clear cutting that s pretty much decimated the vast majority of oregon s coastal mountains\nlooking sadly up at the silent sentinel of the siuslaw sniff it s hard to imagine what the coast range must have looked like <NUM> years ago before it was gifted away to the powers and mowed to the nub it was all i could do to keep from wrapping my arms around that big beautiful chunk of wood but that would give me away wouldn t it\nback in the <NUM> s the forest service constructed a visitors center vibrant now and chock full of information and activities cultural and natural history exhibits a theater showcasing nature themed films and an interactive children s science area it s not your average visitors center those yearning for a hike will love the <NUM> miles of trails that wend through old growth and out onto biologically rich other worldly tidepools near the ocean s edge\nbut be careful occasionally copious amounts of salt water squirt through the air water trapped in geologic anomalies like the devil s churn a big crack that fills up and explodes like old faithful when competing waves collide and don t forget to visit cook s chasm and the spouting horn\nmeaning to fear monger i m here to remind you that the ocean is not to be trifled with plenty of dead people would testify if they could to the potential dangers here and elsewhere along the coast like the state parks at yachats up the road a short way the danger is especially acute during winter storms and at high tide turn your back at the wrong time while you re engaged with the pretty starfish and you risk being overrun by a sneaky two story wave that will crush you against the rocks pulverize your skull to mush and drag your limp body out to sea it happens\ni ve said it before and i ll say it again the most scenic stretch of the coast begin at yachats two miles north of cape perpetua and ends near brookings on the california border the southern oregon coast and of all the quaint little villages along the way unpretentious yachats definitely makes my a list with a population of around <NUM> its diminutive size doesn t accurately reflect the rich lifestyle beauty and restful nature this gem serves up retirees and second home owners aren t the only ones drawn to yachats the young have been lured here as well artists and romantics inspired by basaltic headlands towering green mountains miles of empty sand beaches and tidepools waiting to be explored crashing white surf on the ragged edge of town and a beautiful meandering river full of life\ncasual visitors in the know take the time to stop and explore this laid back little secret this outdoor lover s delight its popularity is attested to by <NUM> plus lodges cottages inns motels hotels and cabins not to mention numerous vacation rentals many with spectacular ocean views clean orderly and quaint are understatements the small town provides fine dining on a modest scale art galleries bistros and specialty shops there are miles of public beach to explore walking and bike paths to amble along three state parks within the village proper and an expensive supermarket for those who don t have the time to run to the big city of newport another attraction to the area twenty five miles up the coast\nwe always swing through coastal themed yachats on our many drives down the <NUM> a mandatory stop it s some of the best oregon has to offer due in part to its relative isolation tucked at the foot of the coastal mountains yachats is special for those longing for peace and quiet invigorating scenery a friendly atmosphere and a welcoming community all within a vibrant natural setting that will have you coming back year after year"
        ],
        [
         "39",
         "fake",
         "hair raising revelation why the tribulation will begin soon the greatest mystery unfolds when you see what s really going on\nof readers think this story is fact add your two cents\nheadline bitcoin blockchain searches exceed trump blockchain stocks are next\nby lisa haven\nevents are about to unfold and crisis of unprecedented proportions are coming things will happen suddenly and without warning it will strike fear into the hearts of american citizens and sadly many are ignoring the numerous warning signals\nif you are one of those who don t believe the end of this age is near then you are in for a real wake up call we are the generation that will witness the times described by john the revelator in the book of revelation a time of unheard chaos and turmoil that causes men s hearts to fail them for fear of things that are to coming upon the earth\nyou can t afford to miss this powerful message about whats ahead prophetically it provides clear concise evidence of biblical end time prophecies and mysteries that god has prepared for such a time as this\nthis know also that in the last days perilous times shall come for men shall be lovers of their own selves covetous boasters proud blasphemers disobedient to parents unthankful unholy without natural affection truce breakers false accusers incontinent fierce despisers of those that are good <NUM> timothy <NUM> <NUM> <NUM>\nhere is the shocking legislation referenced in the video that will rattle you to the core\nh r <NUM> countering violent extremism act that is the name of an unethical freedom ripping bill that has been introduced to congress by representative michael mccaul from texas this piece of legislation would literally grant the department of homeland security more power to round up american citizens who they deem as a threat and who are in their opinion becoming extremists according to the rightwing extremism document that would include christians constitutionalists new world order believers preppers veterans tea party members and gun owners\nhere is the verbiage\nh r <NUM>\nto amend the homeland security act of <DATE> to authorize the office for countering violent extremism\nin the house of representatives\n<DATE>\nmr mccaul introduced the following bill which was referred to the committee on homeland security\na bill\nto amend the homeland security act of <DATE> to authorize the office for countering violent extremism\nbe it enacted by the senate and house of representatives of the united states of america in congress assembled section <NUM> short title this act may be cited as the countering violent extremism act of <DATE> or the cve act sec <NUM> authorization of the office for countering violent extremism of the department of homeland security a in general title i of the homeland security act of <DATE> <NUM> u s c <NUM> et seq is amended by adding at the end the following new section sec <NUM> office for countering violent extremism a establishment there is in the department an office for countering violent extremism the head of the office shall be the assistant secretary for countering violent extremism who shall be appointed by the secretary the secretary shall also appoint a career deputy assistant secretary for countering violent extremism b assignment of personnel the secretary shall assign or hire as appropriate permanent staff to the office for countering violent extremism in carrying out this subsection the secretary shall to the maximum extent practicable seek to assign to or hire for the office an individual who has a demonstrated background in technical matters on and offline media or marketing c support the secretary shall appoint within each appropriate component and office of the department including at a minimum u s customs and border protection u s immigration and customs enforcement united states citizenship and immigration services the office of privacy the national protection and programs directorate the office of civil rights and civil liberties and the science and technology directorate an individual to serve as liaison to the office for countering violent extremism d responsibilities the assistant secretary for countering violent extremism shall be responsible for the following <NUM> coordinating the department s efforts to counter violent extremism across all the components and offices of the department that conduct strategic and supportive efforts to counter violent extremism such efforts shall include the following a identifying risk factors that contribute to violent extremism in communities in the united states and potential remedies for government and non government institutions b identifying populations targeted by violent extremist propaganda messaging or recruitment c managing the outreach and engagement efforts of the department directed toward communities at risk for radicalization and recruitment for violent extremist activities d ensuring relevant information research and products inform efforts to counter violent extremism e developing and maintaining a department wide strategy guiding policies and programs to counter violent extremism such strategy shall at a minimum address each of the following i the department s counter messaging program pursuant to paragraph <NUM> including a plan to leverage new and existing internet and other technologies and social media platforms to counter violent extremism as well as the best practices and lessons learned of other federal state local tribal territorial and foreign partners engaged in similar counter messaging efforts ii the department s countering violent extremism related engagement efforts iii the use of cooperative agreements with state local tribal territorial and other federal departments and agencies responsible for efforts relating to countering violent extremism iv ensuring all activities related to countering violent extremism fully respect the privacy civil rights and civil liberties of all americans f identifying and recommending new research and analysis requirements in coordination with the under secretary for science and technology and the under secretary for intelligence and analysis and ensure the dissemination of information and methods for federal state local tribal and territorial countering violent extremism practitioners officials law enforcement and non governmental partners to utilize such research and analysis g assessing the methods used by violent extremists to disseminate propaganda and messaging to communities at risk for radicalization and recruitment <NUM> establishing a counter messaging program to craft strategic counter messages to the propaganda and messaging referred to in subparagraph g of paragraph <NUM> which shall a explore ways to utilize relevant internet and other technologies and social media platforms and b maximize other resources available to the department <NUM> serving as the primary representative of the department in coordinating countering violent extremism efforts with other federal departments and agencies and non governmental organizations <NUM> serving as the primary department level representative in coordinating with the department of state on international countering violent extremism issues <NUM> in coordination with the administrator of the federal emergency management agency providing guidance regarding the use of grants made to state local and tribal governments under sections <DATE> and <DATE> under the allowable uses guidelines related to countering violent extremism e memorandum of understanding the assistant secretary for countering violent extremism shall enter into a memorandum of understanding with the administrator of the federal emergency management agency outlining the roles of the assistant secretary and the administrator with respect to the administration of grants under sections <DATE> and <DATE> related to countering violent extremism f annual report the assistant secretary for countering violent extremism shall submit to congress an annual report for each of the next five fiscal years beginning in the fiscal year that begins after the date of the enactment of this section on the office for countering violent extremism each such report shall include the following <NUM> a description of the status of the programs and policies of the department for countering violent extremism in the united states including the budget of the department for countering violent extremism and the number of full time employees dedicated to countering violent extremism programs as well as the number of part time employees supporting countering violent extremism programs each such budget shall include an accounting of all funding amounts for all departmental programs initiatives and personnel related to countering violent extremism <NUM> a description of the efforts of the office to cooperate with and provide assistance to other departments and agencies <NUM> qualitative and quantitative metrics for evaluating the success of such programs and policies and the steps taken to evaluate the success of such programs and policies <NUM> a detailed summary of the organizations with which the department conducted outreach to discuss countering violent extremism an accounting of grants awarded by the department to counter violent extremism and an accounting of all training specifically aimed at countering violent extremism sponsored by the department <NUM> details of the optimal level of personnel and funding for the office g violent extremism defined in this section the term violent extremism means ideologically motivated terrorist activities h authorization of funding out of funds made available to the office of the secretary <CUR> <NUM> is authorized for the office for countering violent extremism for each of fiscal years <DATE> through <DATE> b clerical amendment the table of contents in section <NUM> b of such act is amended by inserting after the item relating to section <NUM> the following new item\nmore critical reads you need to hear by lisa haven click here\nsubscribe to my website at <URL>\nfor more information see\nhr <NUM> <URL>\nvideo <URL>\nsatanic statue in detroit <URL>\ncoloring book <URL>\nrighwing extremism <URL>\nobama iran deal <URL>\n<URL>\nproject megiddo <URL>\nshoebat persecution of christians <URL>\ncovenant <URL>\ntemple institute <URL>\ncascadian fault overdue <URL>"
        ],
        [
         "40",
         "fake",
         "offers are getting into the six figure range in pre bidding for the namescon live auction\nheadline bitcoin blockchain searches exceed trump blockchain stocks are next\nin a few weeks domain name investors from around the world will converge in las vegas for namescon the largest event in the domain industry one of the highlights of the conference is the live domain auction hosted by rotd and pre bidding has already started on namejet and like the title says there are already six figure bids\nif you ve never been to a live domain auction i can tell you it s a rush that s hard to explain at least for a domain geek like me monte cahn one of the most respected domain industry veterans will be running the auction again this year and from what i ve seen over the years when monte s involved a lot of the truly premium domains come out\nso i m not incredibly surprised that we re already starting to see six figure bids come out in pre bidding more than two weeks before the auction the two domains with six figure bids are\nother notable domains with strong interest in the pre bidding phase are <URL> <URL> <URL> <URL> <URL> <URL> and the list goes on i think it s safe to say that some of the best one word coms out there are going to hit the open market during the live auction at namescon this year\ngiven that last year even two word coms like <URL> broke the <CUR> <NUM> m mark i think it s safe to say this is likely going to be one of the most exciting live auctions yet as usual i ve submitted a handful of names to the auction and i ll be interested to see which ones make the cut\none strange thing i ve learned about myself is that for some reason when i m in a live auction i end up with a rum and coke in my hand honestly i pretty much never drink rum and coke it s one of my least favorite drinks but years ago i started drinking them during live auctions and now it s become a bit of a tradition if any of my readers are going to be at namescon feel free to join me for one maybe you can start a new tradition yourself\nyou can see the full list of domains in pre bidding for the namescon auction here\nsource <URL>"
        ],
        [
         "41",
         "fake",
         "excerpts from carl sagan s cosmos more specifically from the episode titled who speaks for earth"
        ],
        [
         "42",
         "fake",
         "listen to the podcast audio click here\nmike gleason it is my privilege now to welcome in greg weldon ceo and president of weldon financial greg has over three decades of market research and trading experience specializing in metals and commodity markets and even authored a book in <DATE> titled gold trading bootcamp where he accurately predicted the implosion of the u s credit market and urged people to buy gold when it was only <CUR> <NUM> an ounce\nhe is a highly sought after presenter at financial conferences throughout the country and is a regular guest on financial shows throughout the world and it s good to have him back here on the money metals podcast\ngreg thanks for joining us today and it s nice to talk to you again how are you\ngreg weldon i m great thanks my pleasure micheal\nmike gleason well when we had you on back in mid august you were optimistic about gold at the time we had a pretty good move higher shortly thereafter that ended up with gold hitting a one year high but it stalled out around <CUR> <NUM> in early september and we re currently back below <CUR> <NUM> as we re talking here on wednesday afternoon gold hit resistance at about the same level in the summer of last year so give us your update as to your current outlook what drivers if any do you see that can push gold through that <CUR> <NUM> resistance level in the months ahead greg\ngreg weldon yeah well exactly as you said you had the move that we were anticipating when we last spoke and it kind of had already started from the <NUM> ish level all of this fitting into the kind of bigger picture technical structure that still leads to a bullish resolution but as you accurately mentioned you got up to what have been close to not quite even towards last summer s highs around <CUR> <NUM> <CUR> <NUM> in this case around <CUR> <NUM> and ran out of steam\nthe dollar kind of changed some of the picture and the thought process linked to the fed changed some of the picture so you embarked on a downside correction <CUR> <NUM> was the low you have a nice little correction from that level that was the level that equated to <NUM> day exponential moving average it s a level that was just below the <NUM> fibonnaci retracement of the move up from <CUR> <NUM> actually the move up from <CUR> <NUM> back at the end of <DATE> so you had real critical support there so to me everything s kind of mapped out the way you might expect it to structurally in this market\nfrom here one of two things happens i think well one of three things anyway you could be cut if you have a bit of low rally backed up to <CUR> <NUM> you back below it a little bit to dollars still looks kind of strong it s an interest rate differential dynamic as a more hawkish view for the fed is priced into the fed funds that gets transferred into the two year and five year treasury notes the two year treasury notes at a record high yield relative to the german two year schatzi so that lifting the dollar it s kind of gravitational pull to the upside and that is some of the downside risk here that the rally we just saw is kind of you b wave and maybe you have a c wave down towards <CUR> <NUM> that s kind of an ultimate low whether or not it plays out that way longer term we still like it\nmike gleason precious metals have had a pretty respectable year all in all gold is up about <NUM> year to date silver is up about half as much there isn t exactly a lot of excitement it seems like it s always two steps forward one step back sentiment in the physical bullion markets where we operate is muted there are multiple factors to consider as to why metals markets are stuck in a bit of a rut it seems to us that one of the big ones is the equities market stock prices just keep marching relentlessly higher either investors have become totally desensitized to risk or maybe there just isn t as much risk as well think there is in any event barring some sort of spike in inflation expectations which pushes metals and stocks both higher we don t see gold and silver breaking out unless investors start getting nervous about stock market valuations and thinking about safe havens so what are your thoughts about equity markets and how they relate to precious metals greg and where do you see stock prices headed in the near term\ngreg weldon yeah i mean it s a perfect question because the reality is and we in our daily research we focused on this in fact yesterday we haven t spoken it sounds like we arranged this question focusing on the fact that gold relative to s p is at a low you really are kind of lows that we ve seen before but at a level where if you get much lower you re breaking down to multi year lows and this whole thing gets called into question from a technical perspective but my problem with looking at it from a technical perspective is that i think the stock market is living in borrowed times basically the fed has done exactly what they wanted to do they have flushed people out of safe havens and into risk assets that s the whole idea of qe it worked you reflated the stock market that has facilitated a huge unprecedented rise in consumer credit\ninstead of the housing market being the collateral like it was in <DATE> and <DATE> now it s the stock market that s the collateral the googles and amazons of the world and the facebooks of the world and you have this demand that is being driven or really being fed by credit now you see the credit numbers start to slow they re unsustainable you start to see the consumer roll over a little bit so that s the number one risk to the stock market it s actually the consumer\nif you look at the retail sales numbers outside of automobiles and gasoline which is price based you don t have much of anything and you have eating and drinking growth slowing that s a key component a key layer to the discretionary spending that s an important tell to the bigger picture the consumer discretionary sector is breaking down against the s p so that s a warning sign to me\nyou have in terms of the dynamics around what the expectation is for gdp growth predicated upon policies that have not yet been even agreed upon let alone voted upon let alone implemented let alone starting to work so i worry about that kind of fracture between the expectations the patience level of stock investors diminished returns diminished volumes i think there s a stock market risk that s one of the reasons we like gold because what would go hand in hand with that was some kind of maybe statement or a pull back on the dot plot from the fed that would then cause the dollar to come off its little rally here\nmike gleason let s play the devil s advocate maybe a little here we look at these record stock prices and wonder about what is beyond this extraordinarily high valuations in the past when pe ratios hit these levels it was a signal that markets were nearing a top but there s one big difference between the past and today the advent of high frequency and machine driven trading huge amounts of daily volume is generated by trading algorithms that is a game changer these programs don t sense risk on an emotional level like human traders do they respond very differently to geopolitical events so if today s markets seem disconnected from reality perhaps because it s because they are\nnow you have been on the front lines trading in these markets for decades you were a witness for how markets have transformed in recent years what is your take on high frequency and algorithmic trading and what does it say about the possibility that current equity market valuations can be sustained or maybe even pushed higher what are your thoughts there greg\ngreg weldon that s phenomenal question and it s very well timed given that we did a big special in september called shrinkage which is a shift in the fed policy here but if you take now your question which is pertinent now and you look at experience in my experience over decades it brings back <DATE> right off the bat we re not saying the market s going to crash there clearly there are a lot of differences but when you ask about high frequency trading it sounds to me the first thing i think of is portfolio insurance on steroids times a thousand times ten thousand so the risk in terms of just what is the catalyst that then causes kind of that cascading downside\none of the things we ve been pointing out to our customers and by the way i m working out a gigantic special that shows just how intriguing some of the similarities are around movements in the dollar movements in bonds movements in gold and movements in stocks and some of the ratios and even down to crude oil fed policy and cpi now as there was basically from <DATE> to <NUM> once they kicked in the plaza accord which depreciated the dollar a lot of intriguing connections there and the special report that i m writing on this it s called what me worry which we d love to make available to any of your listeners first of all if they want to email me\nbut in terms of the catalyst setting it up again i think the landmines are laying in wait out there i think if you take an example one of the things like i said we ve been telling our customers if you take amazon or google stock are trading at <CUR> <NUM> a share you need <CUR> <NUM> to buy one share so the volume of trading has diminished dramatically over the last couple of years as the stock prices has gone up the ownership is huge and it s passive and it s managed investments it doesn t matter it doesn t discriminate in terms of what type of investor the people who want to own these stocks own them the dynamic between the price level being so high nominally speaking to buy up block shares the amount of money needed pure and simple against the volume to me sets up something like you re talking about that would be exacerbated by a flash crash so it becomes very scary in terms of what kind of meltdown could you see if you get the ball rolling to the downside\ni still think that this is something that will play out over some time i think the fed is there i don t think this is there are a lot of differences i m not trying to make a direct <NUM> comparison but i ll tell you what the risk is there no doubt about it the risk is rising\nmike gleason in terms of the fed here greg what is your thinking on who it might be that talks over for janet yellen as the next fed chair and then also tell us what you think they re going to do here in terms of getting inflation to where they want basically what are your general thoughts on the fed and fed monetary policy clearly everyone s favorite subject\ngreg weldon really it s two totally separate questions right now because who is donald trump going to pick versus how inflation going to play out i think if you look at what the fed is saying the fed has been very clear this is where jerome powell becomes what seems to be and i m not saying i believe this i m just saying it seems that powell s a logical choice if if your goal is to maintain policy thinking about bringing in a guy like john taylor and the taylor rule and where the natural level of fed funds should be here he would obviously be a much more hawkish choice while him and trump might have really gotten along and maybe there s a lot trump can learn from him i don t think that s the guy trump wants in terms of policy for trying to get his growth agenda going\nin that context how you maintain continuity which really isn t that bad they re certainly not tight and they re not tightening to any nth degree it s almost goldilocks material here inflation aside powell is a logical choice because you make a headline splash which of course he loves you basically make a change but you kind of keep the status quo\nthe other one would be kevin warsh he was more away from qe and towards just using interest rates he s an interesting kind of dark horse yellen is certainly a dark horse what mattes really is how does the fed decide they re going to deal with this inflation issue when they can t even decide what s causing it because you keep hearing transitory idiosyncratic these are the words that being used repeatedly over and over and over again to describe and you ve had one fed official go so far as and even yellen herself has made comments to the effect of we don t understand why it s not materializing\nagain kind of back to the taylor model the basic rule of thumb that the fed is counting on i e hoping for is that as the labor market continues to tighten wages inflation will go up and that will support of a general rise in prices the question now becomes is the natural rate of unemployment lower than we thought it was or are there structural differences now technologically based dynamics in the labor market that has hollowed out the labor market the reason you still have participation rate while finally up a little is still so low historically therein lies the question what is it kind of keeping inflation back and how does this play out\ni think the employment numbers from this month for september were huge in the sense it was the biggest wage number and you know how i break the number down to the nth degree this was the real deal only one month but still the real deal and the best wage number we ve seen since <DATE> so will that continue we know anecdotal evidence is there will this continue over the next couple of months\nif you look at cpi and ppi the pipeline the year over year dynamics around some of the commodities god forbid grains oil seeds and tropical commodities started to rally because then you d have a real problem look at what the base models are doing look at what energy potentially you re going to break out here so i think there is some inflation coming and it s apt to push the fed to have to raise to meet their dot plots and i think that s going to be problematic for the equity markets they re walking the high wire act with no safety net it s a very difficult job\nmike gleason getting back to metals here for a bit we would like to give our listeners an update on the silver and gold price rigging scandal that erupted a year and a half ago when deutsche bank was forced to acknowledge cheating and turned over mountains of evidence which may prove damning for a number of other banks but the courts and regulators have a record of moving slowly if they do anything at all now you re much closer to the futures markets than we are are you aware of any developments on that front and what do you see as the implications of the civil action against the bullion banks do you sense that the deutsche bank revelations here led to more honest markets perhaps because of all that evidence struck fear into banker s hearts or is it more business as usual for these bullion banks who seem to have so much influence in these markets greg\ngreg weldon i have the sense it s business as usual i get the sense that it s a kind of laissez faire attitude about that because the problem is so big if we were to actually kind of get unearthed the impact would be much much larger and we would know it based on the price section very quickly it s a powder keg it ll blow at some point this is something gosh i ve been in the business how long and we ve been talking about this how long really this goes way way back the degree to which it has gotten worse is i mean the thing you debate not whether it exists or not is it going to be somehow uncovered to the extent that it causes that kind of disruption i think again this is probably fodder for a great movie a spy movie or whatever\nsure there s probably a lot of that kind of thing going on in background but in terms of the day to day operation of the trading of these metals i don t see any tangible impact in the dealings i have here no\nmike gleason well greg as we begin to close give us a sense of what you re focusing on here maybe some of the things that we haven t touched on and then give us a sense of how you re evaluating these markets for your clients do you think it s time to get defensive go to cash favor metals and commodities here as an inflation hedge or does the wave of exuberance in stocks still have a ways to go any final comments or anything else that you want to leave us with today\ngreg weldon well i think some of that depends on whether they can actually get some kind of job done in washington where the republicans finally realize their own necks are on the chopping block here so let s finally ban together and get a tax reform package done we ll see whether that happens i think that might be one of those last gas type of moves for the stock market it could be a buy the rumor sell the fact but i think lot has been priced in and i think there s still going to be disappointment down the road for that\ni m watching the consumer specifically the retail sales numbers have been really poor all year it s minuscule gains in discretionary items since january and the debt numbers are interesting you re starting to see a roll over starting to see rise in delinquency rates the debt obligations for consumers and for the federal government by the way are high despite the fact that rates are still low can you imagine if the feds actually did push rates a hundred basis points higher over the next however many <NUM> <NUM> months i think that would have a real reverberating effect on the consumer and on the government where deficits are still increasing and they re at high levels again no one talks about it you have <CUR> <NUM> trillion dollars in sovereign debt and you re about to push the five year note above <NUM> which is your trigger to increase cost on funding the debt man the land mines are out there\ni m watching all of it that s what we do for our clients every single day because never before have you had to be more plugged in look at the way things happen so much more quickly now you asked about what s the difference from <NUM> years so much more availability of news quickly but the fact of the matter is the basic thing that we do hasn t changed at all which is dissecting all of it connecting all the dots and kind of trying to make it all make sense in terms of what the markets are doing and how you might profit from that\nmike gleason well greg thank you so much for joining us again we enjoyed it very much and love getting your very studied and experienced outlook on the state of today s financial world now before we let you go please tell folks about weldon financial how they can find you and any other information they should know about you and your firm\ngreg weldon sure thanks appreciate that we re found <URL> we do weldon live one product one price it s kind of a multi layered product although it s just again one price we do daily and we cover daily global macro fixed income foreign exchange stock indexes and etfs precious and industrial metals energy and agricultural commodities and we tie them all together and we have what we call our trade lab which is part of weldon live these as specific trading recommendations in all of those sectors we re old school futures guys so that s kind of the way we approach it what we find is a lot of family offices or independent brokers or even individuals out there and there s no reason with the way your see etfs now being utilized that the average investor can t operate more like a hedge fund manager or cta\nwe try and provide rhyme and reason to what s going on and then specific strategies to take advantage of it weldon live found at <URL>\nmike gleason well great stuff thanks so much for your time today greg i hope we can talk again down the road take care and we appreciate you coming on\ngreg weldon thanks no problem mike any time\nmike gleason well that will do it for this week thanks again to greg weldon of weldon financial and weldonlive for more information simply go to <URL> and we urge everyone to sign up for a free trial there again you can find all of that information at <URL> be sure to check that out\nmike gleason is a director with money metals exchange a national precious metals dealer with over <NUM> customers gleason is a hard money advocate and a strong proponent of personal liberty limited government and the austrian school of economics a graduate of the university of florida gleason has extensive experience in management sales and logistics as well as precious metals investing he also puts his longtime broadcasting background to good use hosting a weekly precious metals podcast since <DATE> a program listened to by tens of thousands each week\n<URL>"
        ],
        [
         "43",
         "fake",
         "opinions vary on the topic between those of religion and those without they vary between the politically motivated those who believe in morality based self governance versus those who seek mans dominion over men through man made man interpreted and man enforced laws they even vary among believers some of whom believe in an unwritten separation of church and state versus others who believe only in that which was actually written into our constitution by the founders\nif you are looking for a debate few topics will so readily attract opposition is it a question of faith or historical fact it s hard to get folks to even agree on that then you will have to somehow separate fact from fiction as the reporting of these facts is often more hysterical than historical\nthose who wish america a godless society have developed a plethora of arguments to support their agenda but arguments are not facts we watch as lawyers make arguments every day seldom concerned with any facts or even any sense of real justice but they can make an argument sometimes a very successful argument if their argument is not true has justice been served is the argument right if it was made on a premise that was all wrong even though the argument is effective\namerica is and has always been one nation under god though the founders used generic terms like creator to describe that god the god they meant was their god of the christian faith atheists and agnostics have long argued that many of the founders were deists using washington jefferson franklin paine hamilton and madison as proof however in each of these cases a study of their personal writings will debunk the myth\nhow did america become one nation under god in dictionaries the terms deist agnostic and atheist appear as synonyms on this basis the term deists would include those who believe there is no god those who believe in a distant impersonal creator of the universe and those who believe there is no way to know if god exists\na brief study of the founders own writings prove beyond any reasonable doubt that none of the notable founders fit this description thomas paine talked about the error of schools to teach sciences without reference to the being who is author of them for all the principles of science are of divine origin he stated that the evil that has resulted from the error of the schools in teaching science without god has been that of generating in the pupils a species of atheism\nbenjamin franklin s <NUM> plan of education for public schools in pennsylvania insisted that schools teach the necessity of a public religion and the excellency of the christian religion above all others ancient or modern franklin proposed a biblical inscription for the seal of the united states he chose a new testament verse for the motto of the philadelphia hospital he was one of the chief proponents of a paid chaplain in congress and when franklin helped found the college which bore his name in <NUM> it was dedicated as a nursery of religion and learning built on christ the corner stone\non <DATE> <NUM> george washington charged his soldiers at valley forge that to the distinguished character of patriot it should be our highest glory to add the more distinguished character of christian in a speech on <DATE> <NUM> he claimed that what children needed to learn above all was the religion of jesus christ and that to learn this would make them greater and happier than they already are on <DATE> <NUM> he reminded the nation that without a humble imitation of the divine author of our blessed religion we can never hope to be a happy nation as he resigned his post as commander in chief washington s own adopted daughter declared of washington that you might as well question his patriotism as to question his christianity\nhamilton began work with the rev james bayard to form the christian constitutional society to help spread over the world the two things which hamilton said made america great <NUM> christianity and <NUM> a constitution formed under christianity only hamilton s death two months later thwarted his plan of starting a missionary society to promote christian government\nthomas jefferson himself declared i am a real christian that is to say a disciple of the doctrines of jesus as president of the united states jefferson signed a treaty with the kaskaskia tribe wherein he provided at the government s expense christian missionaries\njames madison trained for ministry with the rev dr john witherspoon and madison s writings are replete with declarations of his faith in god and in christ in his letter to attorney general bradford madison laments that public officials are not bold enough about their christian faith in public and that public officials should be fervent advocates in the cause of christ madison did allude to a wall of separation but contemporary writers frequently omit madison s own definition of that wall which according to madison was only to prevent congress from passing a national law to establish a national religion\nthere you have it do any of these men sound like deists to you it is not hard to demonstrate that america was indeed born one nation under god or that the god or creator they were referring to was in fact jesus christ this alone should lay to rest any honest debate over how america became a nation built upon judeo christian principles and values we can go on and on founder after founder if you want but these are the men named by most who argue that the founders were at best deists\nwhy was america formed as one nation under god the answer is simple yet of vital importance to every american regardless of their religious beliefs the answer begins with these two words self governance\npatrick henry put it this way it cannot be emphasized too strongly or too often that this great nation was founded not by religionists but by christians not on religions but on the gospel of jesus christ\njohn adams said it this way we recognize no sovereign but god and no king but jesus <DATE> <NUM> and he later explained we have no government armed with power capable of contending with human passions unbridled by morality and religion avarice ambition revenge or gallantry would break the strongest cords of our constitution as a whale goes through a net our constitution was made only for a moral and religious people it is wholly inadequate to the government of any other <DATE> <NUM>\nthe point is this it is historically indisputable that america was born one nation under god it does not require faith but instead common logic to understand why men without a moral compass are incapable of long term self governance the founders knew it because they had seen it few modern americans have experienced what life would be like in a godless society void of morality so they question it many americans place their trust in man over god so they pursue it\nbut there is no question what america was is should be or must be in order to retain its position of strength as the freest nation of self governed individuals on earth we will either be free as one nation under god or we will be a nation of fools unaware of our common heritage and on the road to ruin under men in search of power one does not have to be a christian to understand this one must only understand man and his insatiable hunger for power\nthose in search of that power must remove god from society in order to gain access to that power those who allow them do so at their own peril you are of course free to not like this simple truth but this truth will never change it is as it has always been and shall always be\nspecial thanks to david barton at wallbuilders for some of the reference material used herein"
        ],
        [
         "44",
         "fake",
         "california s pension fund looks to shift blame and avoid responsibility\nsteven greenhut writes\nthe california public employees retirement system s union defenders feign shock whenever pension reformers accuse it of kicking the can down the road in dealing with the state s mounting pension debt it s like the scene from casablanca when captain louis renault is absolutely shocked to find gambling going on in a gambling house\ncalpers is never going to state the obvious we know these massive underfunded pensions are not sustainable but we re going to do everything possible to push the problem into the future and blame everyone else for the problem but the pension fund s board might as well have said as much after two actions it took at last week s sacramento meeting"
        ],
        [
         "45",
         "fake",
         "reckless putin just made a bold threat you wont believe what he said and who it s directed towards\nof readers think this story is fact add your two cents\nheadline bitcoin blockchain searches exceed trump blockchain stocks are next\nan exclusive you have to see the last frontier of free press is here no more censorship unlike youtube and others\nby lisa haven\nwe are inching towards world war iii and i believe we are but moments away in a recent turn of events russia s president vladimir putin has escalated his conflict with turkish president erdogan over the downing of the russian bomber by declaring syria a no fly zone for turkish aircraft\naccording to putin turkey used to violate syrian airspace all the time let them try and fly there now\ngary franchi s next news network brings us more on this breaking report\nfurthermore amid the turkey and russia tensions putin has been stepping up his rhetoric in what just might be a step towards war with the west putin also told a session of the defense ministry s collegium in which he stated that any targets that threaten russian forces or our infrastructure on the group should be immediately destroyed\nhere is that breaking report brought to you by gary franchi s the next news network\nfor more information see\n<URL>\n<URL>"
        ],
        [
         "46",
         "fake",
         "subscribe to canada free press for free\npolitical correctness and socialist marxist revisionism are attacking everything southern and confederate on national state and local levels all across america\nprinciples and values represented by the confederate flag\nin the southern states of the u s a georgia and several other states that were a part of the confederate states of america <NUM> <NUM> celebrate april as confederate history and heritage month the south and the confederate states of america have been harshly discriminated against and positive historical facts and figures have intentionally been suppressed dishonest northern historians have unfairly caused southern and confederate history and its heroes monuments memorials and flags to be regulated to a role of less importance than deserved in american history and to be viewed in a negative perspective by much of the american public\nu s president woodrow wilson is quoted as saying the role of slavery became the proclaimed cause of the civil war because it was necessary to put the south at a moral disadvantage by transforming the contest from a war for independence into a war waged for the maintenance and extension of slavery if slavery was all the southern states wanted they could have kept it without a war or firing a shot the north offered the south the corwin amendment to the u s constitution in <DATE> that would have made slavery permanently legal in america if they would rejoin the union the south refused and the constitution of the confederate states of america banned the international slave trade most educated southerners were in favor of gradual orderly emancipation which would have prevented segregation and jim crow laws which were based on northern black codes the words of confederate general patrick r cleburne who was killed at the battle of franklin tennessee on <DATE> <NUM> are becoming true every man should endeavor to understand the meaning of subjugation before it is too late it means the history of this heroic struggle will be written by the enemy that our youth will be trained by northern school teachers will learn from northern school books their version of the war will be impressed by the influences of history and education to regard our gallant dead as traitors and our maimed veterans as fit objects for derision political correctness and socialist marxist revisionism are attacking everything southern and confederate on national state and local levels all across america\npolitical correctness and socialist marxist revisionism are attacking everything southern and confederate on national state and local levels all across america the confederate flag represents honor faith courage dignity integrity chivalry christian values respect for womanhood strong family ties patriotism self reliance limited constitutional federal government states rights and belief in the free enterprise system it symbolizes the noble spirit of the southern people the rich heritage the traditions of the south and the dynamic and vigorous southern culture no other symbol so proudly says dixie as the cross of st andrew confederate battle flag waving in the breeze liberals have falsely indoctrinated many black americans to believe it represents racism bigotry and a painful reminder of slavery but white christian southerners who fly the confederate battle flag are not the enemy of responsible black americans who are working to better themselves the confederate flag is the last flag to represent the concept of local control of ones life in america in a larger sense it represents the same values and principles as the original u s betsy ross flag limited constitutional federal government states rights resistance to tyranny and christian principles and values thus it represents government of the people by the people and for the people with the consent of the governed the confederate flag is an internationally recognized symbol of resistance to tyranny that is why it was flying over the berlin wall when it was being torn down in <DATE> and has been flown by numerous countries or provinces seeking independence it reminds knowledgeable americans that government is to be held accountable for its actions and if those actions are viewed as not being in the best interest of the people there is a price to be paid for it this fact has not been lost upon the socialist communist liberal left and that is why they have spent inordinate amounts of money and energy trying to suppress this powerful symbol of freedom the confederate battle flag is a christian symbol and that is why proponents of secular humanism the belief that there is no god and man science and government can solve all problems oppose it the flag also represents the valor and sacrifice of our southern ancestors in their quest to gain independence and recognition as a sovereign nation confederate soldiers displayed tremendous bravery in the face of overwhelming odds and blatant tyranny and aggression on behalf of the yankee government that invaded the southern homeland it was is and will continue to be the flag of the region southerners call home the southland we are americans true but we are also proud southerners\njames w king is commander of the albany georgia usa camp of the sons of the confederate veterans organization and assists the americus georgia camp in promoting the wirz memorial service\nplease adhere to our commenting policy to avoid being banned as a privately owned website we reserve the right to remove any comment and ban any user at any <URL> that contain spam advertising vulgarity threats of violence racism anti semitism or personal or abusive attacks on other users may be removed and result in a ban follow these instructions on registering"
        ],
        [
         "47",
         "fake",
         "draining the swamp doesn t matter as long as groupthink persists\nheadline bitcoin blockchain searches exceed trump blockchain stocks are next\ndespite the ideological and social divides currently plaguing our culture one common theme seems to hold across all the differences americans do not like congress even the relatively apolitical seem to be roused against them with many speaking out against recent bills and congressional initiatives and phrases like drain the swamp abounding on social media\nshouldn t more people lead to better decisions at least when it comes to government the answer would seem to be no the assumption seems to be that if we could only get the right people in office things would improve however it would not seem that the problem is the people in the system but an inherent flaw in the system itself\nsocial psychology is not a discipline which tends to address issues of political organization however many current political issues including the recent wave of hatred for congress can be analyzed in the light of social psychological principles such as the classic theory of groupthink\nwhat is groupthink\nfirst studied by yale psychologist irving janis in the <DATE> groupthink refers to the tendency of groups to make bad or even disastrous decisions groupthink was first studied by social psychologists after the bay of pigs when the question was how could president kennedy with a cabinet of experts have made a decision so flawed he himself would later call it stupid shouldn t more people lead to better decisions at least when it comes to government the answer would seem to be no\nin his <DATE> book victims of groupthink a psychological study of foreign policy decisions and fiascos dr janis identifies three risks for groupthink s occurrence which are still taught in psychology classrooms today desire for cohesiveness structural faults and the power of the situation looking at how congress operates today it is not hard to see how it is inherently at risk of groupthink and to understand the slew of bad unpopular decisions which seem to have become commonplace\nthe three risks for groupthink occurrence\ncongressmen like justin amash or senators like bernie sanders are often touted as rabble rousers cohesion\nthe first risk for groupthink is an overwhelming desire for cohesiveness groups run the risk of groupthink when they value unity over making the best ethical decision very often when groups value unity too highly they fall prey to the phenomenon of deindividuation the foregoing of individual beliefs and principles in favor of those of the group it no longer matters what the individual believes or wants in such circumstances it s a matter of yielding to group influence symptoms of this desire for cohesion can include the derogation of dissenters trying to limit the questioning of group decisions and the existence of mindguards individuals who ensure that dissent is kept to a minimum\nit s not hard to find examples of these phenomena in the current political atmosphere congressmen like justin amash or senators like bernie sanders are often touted as rabble rousers who don t tow the party line the idea is often expressed that principles should take a backseat to party unity and party accomplishment which so often takes the form of voting the right way there are also tests for party purity such as the democrats recent pro choice test the idea that a real democrat cannot be pro life\nstructural faults\nwhen congressmen like rand paul have filibustered in opposition to their party s agenda leaders like john mccain attack them implying they need to fall in line the second risk for groupthink is structural faults specifically insulation and closed leadership by being insulated from outside voices or dissenting opinions all while being subjected to leadership which discourages dissent and dictates how it is a group is likely to doom itself to making a poor decision\ncongress seems to be inherently insulated when it comes to its decision making in theory congresspeople represent their constituency s interests at the federal level however most congress people are not particularly in touch with their constituency such insulation is not congress s fault but rather a fault in design washington is geographically isolated from most of the united states getting in touch with one s congressperson can be nigh on impossible especially if one is far from washington the best case scenario tends to be leaving messages with congressional aides but chances for actual direct contact are low the only exception seems to be on the campaign trail the goal of which is not governance but re election\nfor senators such insulation can be doubly strong with the passage of the <NUM> amendment senators became essentially unaccountable to any form of local governance for a majority of their term of office in theory the direct election of senators gives locals a chance to vote them out but it can be hard to remember senators specific legislative actions when election season rolls around afterward which can take several years\nthe second structural fault which increases the risk of groupthink is that of closed leadership leaders who say this is how it is such leaders often play the role of mindguards quashing dissent and trying to ensure that congresspeople behave according to the party line rather than their own beliefs again it s not hard to find instances of this in recent politics when congressmen like ted cruz or rand paul have filibustered in opposition to their own party s agenda republican leaders like john mccain came out to attack them as essentially traitors the implication being that they need to fall in line their own principles be damned\nthe power of the situation\ntime pressures pose a similar risk for groupthink the third and final risk for groupthink is the power of the situation very often our behavior is as much a function of our circumstances as our own individuality two situational features increase the likelihood of groupthink perceived threats and time pressure\nthe idea of responding strongly and quickly to a threat is powerful even evolutionarily advantageous however quick and strong responses are not often if ever the best decisions both parties often frame their agendas in opposition to an enemy often the opposite party it s a matter of defeating the other party via unanimous support with no room for individual principles or beliefs this is how <NUM> + page long legislation gets voted on immediately with no chance for discussion action is required else they are going to win\ntime pressures pose a similar risk for groupthink the idea of having to get something anything done before they can enact their sinister agenda seems to define modern political rhetoric we have to pass healthcare tax plans net neutrality immediately meanwhile little chance for elaboration or discussion of these bills merits is given and shockingly the results are rarely beneficial\nuntil this occurs the swamp is going to remain no matter who inhabits what office reducing groupthink s influence\nmany strategies exist for combating groupthink however two commonalities have emerged across most strategies the importance of dissent and providing time to examine alternatives in the current political climate it is highly doubtful that either of these strategies is feasible at the federal level congress as it currently functions rife with partisan strife and both socially and geographically insulated does not seem able to resist groupthink so what might be the solution\neven at america s birth our founders stressed the danger of a centralized government gaining too much power and ceasing to truly represent their constituents whatever solution is found it is of the utmost importance that they are kept in touch with those they represent and that partisan politics do not encourage legislation for the sake of unity but rather for the sake of principle until this occurs the swamp is going to remain no matter who inhabits what office\nsource <URL>"
        ],
        [
         "48",
         "fake",
         "all three are vying for power and money rahmbo and the school board are dealing with an unpleasant reality a reality that none of them understand but that is a reality nonetheless there simply is not enough money to keep funneling into the black hole that is the failed chicago school system nevertheless the teacher s union and their members are clamoring for more and more money for themselves\nlook at this past week for an example of why chicago is a perfect case study in how liberalism consumes itself you have rahm emanuel mayor and far leftist who used to be president obama s left hand man you have the chicago school board all liberals then you have finally the teacher s union whose leadership and membership act like perfect little soldiers of karl marx and all three are in conflict\nif you want to see liberalism devouring itself chicago is a great petri dish to observe there liberals are always pitted against other liberals as they vie for an ever shrinking piece of the pie those insisting on a bigger slice do not realize the fact that the pie keeps getting smaller because of liberalism in the first place\npoint of note number one chicago s teachers are already among the highest paid in the nation at <CUR> <NUM> average salary\npoint of note number two chicago schools are some of the worst performing in the state of illinois with <NUM> of the bottom <NUM> schools residing in the city\nconclusion simply dumping money into the system paying teachers a boatload of cash and keeping teachers who do not perform does not solve the problem\nyet there are the teachers who are failing to educate our children striking and demanding more for not educating our children they have turned down a <NUM> raise something only government workers get these days over <NUM> years they are demanding raises job security and benefit guarantees at the same time they are fighting tooth and nail against an evaluation process designed to weed out teachers not earning their already hefty salaries only in a liberal haven like chicago\nwhat is worse is that the teachers who are striking are mindless zombies jumping because they are being told to jump some of the signs the useful idiots are carrying are very illustrative of this point\nfor example one of the signs carried by the communist red clad strikers said schools for people not for profit\nquestion for that useful idiot how much profit did she make last year did she pocket anything oh you know she did you can be certain she did not donate her time but then again she s a liberal so don t expect her to understand her own hypocrisy it s ok for her to profit just not anyone else\none sign i have seen a lot reads i am a teacher\nyes but the question is are you a good teacher and did you earn your paycheck see that s the point of the testing program the school s wants to institute but the bad teachers and the union leaders are so frightened that they might be found that they will not allow such things\nanother sign by the afl cio local <NUM> reads on strike for better schools\nwell they certainly can t get much worse i say stay on strike then the school district can hire new teachers to replace the incompetent lazy teachers with a sense of entitlement who are currently teaching our children that way schools might actually get better not what the unionistas mean but the truth none the less\nthen there is the crazy woman hanging out of a school bus window with a sign students before bankers\nhuh that s just nonsensical but ok let s go with it\nthe teacher s union i am sure has this moron s pension invested with a banker somewhere let s take that money away from the banker and her and write every student a check instead let them do with it as they please if they opt to go and get an education great if they choose to sit around and smoke crack so be it but make them sign a waiver saying they understanding that there will be no future benefits if they adopt the later approach\nthen when this yummy brain decides she wants to retire she ll no doubt rant and scream about where her money is we will just point back to the photographic evidence of her philosophy and remind her that her money once held by bankers went to the students instead\noh and by the way considering that the strike she supports left <NUM> students out of school the sign should actually read if it were honest myself before students\nseriously i have never seen as big a bunch of whiners or idiots for that matter there is something seriously wrong with the mentality engrained in many of our teachers these days note i said many i did not say all or even most but there are many who feel they are entitled to be teachers if they simply want to be teachers yet the rest of us actually have to prove ourselves competent at our profession in order to keep our jobs and we don t get guaranteed raises every year because of a contract no we have to prove ourselves worthy every year when evaluation time rolls around\ni feel sorry for those teachers who are actually good teachers there are many of them but the display in chicagoland gives even those good teachers a bad reputation\npersonally i would let them keep striking and hire replacement teachers we need people teaching our children who actually want to teach we don t need people who look at the profession as a scheme to make nearly twice as much as the average chicago resident paying their salary does"
        ],
        [
         "49",
         "reliable",
         "<NUM> scandalous reasons big finance is trying hard to keep a low profile\nphoto credit songquan deng <URL>\nfew news outlets are more sympathetic to the financial services industry than the wall street journal so it s interesting when the paper reports from london that antibanking sentiment here is still off the charts leaving the industry gun shy about flaunting wealth that was also true at the olympics even though the games are typically one of the biggest corporate schmoozefests on the calendar this is part of what the journal calls a wave of banker austerity with executives skipping the usual hired black sedan and champagne and even resorting to putting up important clients in mere three or four star hotels overall the city of london s high rolling banking industry is rolling as low as possible in order to avoid displays of wealth that will further inflame an already angry public\nso why is the public so inflamed with antibanking sentiment recent events here and in the uk make it easy to see\n<NUM> fool me <NUM> times shame on you\nfor britons at the top of the list stands the libor rate fixing scandal in which the uk s most prominent banks conspired to fix a baseline interest rate that s used to calculate rates on thousands of financial products like mortgages the scandal continues to unfold with giants citigroup and chase still awaiting charges among others\nbut as is common in episodes where major banks have committed large scale fraud in this case involving hundreds of billions of dollars in financial instruments the most heavily implicated bank barclay s is not facing legal prosecution merely a large fine the new york times dealbook described the settlement as a multimillion dollar financial penalty and modest admission of wrongdoing but no criminal conviction to affect its operation pretty gentle treatment for a firm whose traders while working to manipulate the key rate said in emails while executing the collusion always happy to help for you anything done for you big boy and from a more conscientious employee i will reluctantly gradually and artificially get my libors in line\nespecially notable in this connection is the conspicuous absence of bob diamond the disgraced ex ceo of barclay s from the london games since diamond had been a fixture for years at uk events and had been planning to attend several olympic events as a guest but after the furor surrounding his resignation he is expected to stay away the banks are politically smart enough to keep their heads down when they look bad\nof course the libor affair pales in its human impact when compared with other recent banking scandals like the robo signing scandal in the us in that scam thousands of homes mortgaged during the housing bubbles were foreclosed upon without the required legal standing or paperwork the implicated banks including the four us megabanks bank of america chase citigroup and wells fargo settled the charges with the justice department and the states for <CUR> <NUM> billion an impressive figure however the settlement does little for the real human families evicted fraudulently including three quarters of a million evictees who were foreclosed upon from the finance crisis through the end of <DATE> most of whom received a check for <CUR> <DATE> each\n<NUM> sanctions busters\nin the fast moving world of banking scandals standard chartered of london impressively secured a spot for itself when it was accused by a new york regulator of laundering a quarter trillion dollars in iranian money in violation of us economic sanctions on the country you don t have to support the efforts of the us government to economically strangle iran to appreciate the disregard for law in company emails cited in the criminal charge including an executive confiding that the iranian trading had the potential to cause very serious or even catastrophic reputational damage to the group standard chartered settled the charges for <CUR> <NUM> million in hopes it can avoid admitting wrongdoing\nindeed this type of fraud is increasingly prevalent among the financial sector with banking giant hsbc accused of laundering mexican drug cartel money along with cash from saudi banks with terrorism ties ing bank recently spent millions settling a charge that it also bucked international sanctions to move cuban and iranian money these above the law moves while possibly helping the peoples of these countries against the suffocation of their economies by the us no doubt add to the inflamed feelings of the general public\n<NUM> one nation under fraud\nthe power of the financial sector is such that the sec whose job is to examine financial firms and prevent or punish fraud has become notorious for avoiding punishing firms for lying even when dealing with repeat offenders while financial law allows serious penalties for fraud including large fines and restrictions on business practices the sec allows waivers for these offenses and has granted them quite liberally to the largest us banks chase has settled six fraud cases since <DATE> with settlements that run into the hundreds of millions of dollars but has argued before the sec that it has a strong record of compliance with securities laws notably the sec justifies settling these cases and issuing waivers by referring to promises from the firms not to violate the law in the future yet when the firms are taken back to court for their next act of fraud their recidivism rarely brings a stiffer penalty as any mere human would likely receive\nin fact of these waivers issued by the regulator nearly half go to repeat offenders wall street firms that had settled previous fraud charges by agreeing never again to violate the very laws that the sec was now saying that they had broken this includes other industry giants like bank of america and also citigroup which racked up so much fraud it finally did get sanctioned the ability of the megabanks to weasel out of sanctions for widespread fraud are a third reason industry s keen to stay below the radar\n<NUM> high speed glitches\nfurther undermining confidence in our financial cornerstones are the recurrent glitches in large computerized stock trading systems that have lead to horrifying market swings <DATE> saw the stock exchange lose literally trillions of dollars of value in just several minutes only to recover again within another <NUM> minutes august of this year began with a similar out of control development on the market as retail trading company knight capital group had a technology issue with its brand new automated stock trading system while it was supposed to react to trading by others the computer system instead placed giant orders to the point that millions of erroneous trades were made often at inflated prices such that knight ended up having to seek new equity partners to stay afloat\ncomputer algorithm based trading strategieslike those used by knight are another product of regulatory loosening over the last two decades to the point that half of stock trading is now handled by such high speed firms to compensate for the increased instability such deregulation has brought about the securities and exchange commission maintains circuit breakers to cut off trading if the price of a particular stock behaves erratically unfortunately these countermeasures are not activated until <NUM> minutes after the beginning of trading whereas knight s algorithm began runaway trading immediately\nthe upshot of course is to make finance in general and equity trading in particular more suspiciously viewed by the public as the times put it the chaotic computer trading was the latest black eye for the financial markets drawing renewed attention to the fragility and instability of the nation s stock markets\n<NUM> fed by the fed\nnotably the banks are increasingly dependent on government action for their profits in recent years the central bank of the eu and the us federal reserve have engaged in a somewhat desperate mode of economic stimulus quantitative easing where the fed buys bonds from major banks in order to inject more cash into the banking system with the goal of lowering interest rates and hopefully increasing economic growth this bond buying has become a significant profit center for the banking majors with bond trading income exploding shortly after each round of mostly ineffective monetary stimulus the business press notes that big trading banks are particularly well positioned to profit when central banks act aggressively the firms help make markets in bonds and derivatives when the banks clients see the fed take bold steps they feel encouraged and come off the sidelines to buy more bonds this increases the amount of business that flows through wall street but it also lifts the prices of the bonds that banks hold creating profits for the traders\nthe ability of the banking industry to sustain its profitability and power despite scandal after scandal and after crisis after technological disaster speaks to its unparalleled power in the modern economy but beside the social power of the firms to dominate markets and shape perceptions with ad spending and their obvious political muscle the banks also make use of their power in a more everyday fashion in maintaining relatively high retail interest rates in the us the mortgage handling banks are benefiting in historically large terms from the growing spread between the low rates they pay to investors they sell mortgages to and the higher rates they charge the actual homeowner the times business section notes that if the market were functioning properly the recent drop in the bond rates should have led to a larger decline in mortgage rates for consumers than has actually occurred instead the difference between the two rates is increasing one suggested reason mortgage lenders may also be benefiting from less competition the upheaval of the financial crisis of <DATE> has led to the concentration of mortgage lending in the hands of a few big banks primarily wells fargo jpmorgan chase bank of america and us bancorp\nthis long record suggests why the finance industry is trying to keep a low profile these days with banks like these who needs enemies"
        ],
        [
         "50",
         "fake",
         "unbearable slowness of <NUM> turnings part <NUM> and part <NUM>\nheadline bitcoin blockchain searches exceed trump blockchain stocks are next\nby jim quinn the burning platform\npart <NUM>\nthe next fourth turning is due to begin shortly after the new millennium midway through the oh oh decade around the year <DATE> a sudden spark will catalyze a crisis mood remnants of the old social order will disintegrate political and economic trust will implode real hardship will beset the land with severe distress that could involve questions of class race nation and empire the very survival of the nation will feel at stake sometime before the year <DATE> america will pass through a great gate in history commensurate with the american revolution civil war and twin emergencies of the great depression and world war ii strauss howe the fourth turning\nthis fourth turning was ignited suddenly in <DATE> as the housing bubble created by the federal reserve and their criminal puppeteer owners on wall street collapsed revealing the greatest control fraud in world history a crisis mood was catalyzed as the stock market dropped <NUM> unemployment surged to highs not seen since <DATE> foreclosures exploded and captured politicians bailed out the criminal bankers with the tax dollars of the victims\nthe mood of the country darkened immediately as average americans flooded their congressmen s websites and phone lines with a demand not to bailout the felonious wall street banks with <CUR> <NUM> billion of tarp but they ignored their supposed constituents and revealed who they are truly beholden to\ntrust in the political and financial system disintegrated and has further deteriorated as the ruling elite continue to loot and pillage as if the <DATE> <DATE> global financial meltdown never happened from the perspective of the archaic social order there is no longer a crisis the recovery narrative flogged ceaselessly by the crooked establishment and their propaganda fake news corporate media mouthpieces has convinced millions of willfully ignorant americans progress is occurring\ncould they be right is the crisis over has this fourth turning been managed to a successful conclusion by central bankers issuing tens of trillions in debt politicians spending tens of trillions supplied by taxpayers bankers rigging financial markets and consumers leveraging up to maintain their lifestyles has the exiting corrupt social order successfully retained their power control and influence over the masses by manipulating the levers of society and fending off their demise have they already won\nthis fourth turning just passed its ninth anniversary the civil war fourth turning lasted only five years but that was because it was accelerated with an enormous amount of bloodshed crammed into a short time frame the american revolution crisis lasted twenty one years the great depression world war ii crisis lasted seventeen years all three prior american fourth turnings ended with an all out decisive war with clear victors and vanquished\nbased on historical precedent this fourth turning shouldn t reach its resolution until the mid <DATE> s with a major global conflict on the near term horizon those who understand that something wicked this way comes are frustrated by the apparent slowness of the progression they shouldn t be too anxious for an acceleration\nsince strauss howe didn t formulate their generational theory until <DATE> this is the first fourth turning in which some people understand the dynamics driving the crisis does knowledge about a cycle change the underlying forces propelling history has the establishment oligarchy co opted the crisis mood of the country to avoid its own demise or is this fourth turning just proceeding according to the standard morphology along its two decade long test of survival\ni honestly don t know this is my first and only fourth turning what i do know is the crisis began in the time frame predicted by strauss howe the catalyst was the <DATE> financial meltdown created by wall street and the federal reserve just as they had done in <DATE> to catalyze the previous fourth turning strauss and howe documented the four stages of a fourth turning\na crisis era begins with a catalyst a startling event or sequence of events that produces a sudden shift in mood\nonce catalyzed a society achieves a regeneracy a new counterentropy that reunifies and reenergizes civic life\nthe regenerated society propels toward a climax a crucial moment that confirms the death of the old order and birth of the new\nthe climax culminates in a resolution a triumphant or tragic conclusion that separates the winners from losers resolves the big public questions and establishes the new order\nthe <DATE> global financial meltdown most certainly produced a sudden shift in mood average working class americans saw their retirement savings obliterated for the second time in the space of eight years millions lost their jobs and got thrown out of their homes by the wall street bankers who perpetrated the greatest financial fraud in world history the american citizens who overwhelmingly disapproved of tarp were disregarded as captured corrupt congressmen handed <CUR> <NUM> billion of taxpayer funds to the wall street criminals\nthe darker shift in mood produced the tea party movement and the occupy wall street movement both movements were co opted by the establishment and effectively extinguished as change agents over the next seven years a massive debt produced bubble has been blown in stock bond and real estate markets to benefit only those in the upper echelon of wealth wall street is winning in a blowout over main street\nas <DATE> morphed into the historic year of vitriol hate fake news russians pussy grabbing and an all out establishment effort to discredit and defeat donald trump <DATE> saw battle lines drawn and combatants armed the oligarchs used every propaganda trick in their bag they used their vast limitless wealth to insure the election of their hand picked candidate hillary clinton black lives matter terrorists slaughtered policemen in cold blood social justice warriors were triggered on campuses across the land retreating to safe spaces with crayons and coloring books\nantifa fascists rioted beat trump supporters and attempted to shutdown free speech at every opportunity violent clashes provoked by leftists roiled the country and hardened the resolve of normal people in flyover america the fake news corporate media produced fake polls showing an overwhelming victory for clinton the ruling elite underestimated the anger among the silent majority trump won an unlikely victory\nthe basket of deplorables and millions of other disillusioned regular people chose the grey champion of this fourth turning on <DATE> it was possibly the biggest upset in presidential history the long awaited regeneracy had arrived just as the election of fdr marked the regeneracy of the last fourth turning the election of donald trump marks the regeneracy moment of this crisis\nhis election has energized the country in positive and negative ways he has unified factions for and against his agenda his election has revealed an ingrained establishment aka swamp creatures inhabited by politicians of both parties who are intent on sabotaging his presidency the first ten months of his presidency has been a tumultuous clash between an entrenched establishment and a tweeting insulting volatile unpredictable rude outsider real estate mogul from nyc\nthe mood of the country has clearly darkened as <DATE> has progressed there is no middle ground or compromise the tension between the two americas rises with each mass shooting russian collusion revelation exposure of media bias proof of hollywood degradation judicial overreach soros funded staged protests donna brazile tell all book and censorship actions by twitter facebook and other left wing slanted media outlets\nonly <NUM> of americans think the country is headed in the right direction and they are right with a <CUR> <NUM> trillion national debt <CUR> <NUM> trillion of unfunded welfare liabilities pension plans underfunded by hundreds of billions rampant governmental corruption blatant wall street criminality undeclared wars being waged across the globe and a feeble minded corporate propaganda media spewing fake news the nation has already hit the iceberg and the ship is going down\nthe level of divisiveness and anger in this country grows exponentially with the flames being fanned by the corporate media intent on creating a civil war battle lines are being drawn between republicans and democrats the establishment gop and the steve bannon alt right disciples far left sanders democrats and clinton partisans blm terrorists and police soros funded antifa scum and free speech conservatives sjw s and normal people elites and deplorables whites and blacks liberals and conservatives wall street and main street hollywood deviants and people with morals muslims and infidels those who are awake and those who are ignorant gun owners and gun confiscators surveillance state and citizens being surveilled young and old haves and have nots workers and parasites government union workers and taxpayers left wing academia and those with common sense arrogant hubristic oligarchs and humble hard working americans\nif you can t comprehend the sense of foreboding engulfing the nation and the globe you aren t paying attention despite a global recovery narrative and record high stock markets supercharged by irresponsible debasing schemes implemented by captured central bankers the world is hurtling relentlessly toward conflict war and bloodshed every previous american fourth turning saw an upwards ratchet in violence death and technological killing devices this fourth turning will see a continuation of this trend fourth turning wars are always decisive with clear winners and losers\nthe revolutionary war erupted two years after the boston tea party catalyst and lasted for eight years the civil war swept the country into conflict shortly after lincoln s election the second world war didn t encroach on the lives of americans until <NUM> years after the <DATE> great crash each crisis will have its own dynamics pace and timing based upon specific events leadership decisions and generational reactions to the incidents and episodes driving the crisis we are in year nine of this fourth turning and a looming bloody conflict is just over the horizon but the vast majority of the american populace is unprepared and unaware for such a trial by fire\nthe <DATE> volcanic eruption has continued to flow along the channels of distress impacting nations across the globe yeoman efforts by the deep state to keep the molten flow within controlled channels are failing with the eruption about to burst free and cause global havoc on a grand scale as predicted by strauss howe\nimagine some national and probably global volcanic eruption initially flowing along channels of distress that were created during the unraveling era and further widened by the catalyst trying to foresee where the eruption will go once it bursts free of the channels is like trying to predict the exact fault line of an earthquake all you know in advance is something about the molten ingredients of the climax which could include the following\neconomic distress with public debt in default entitlement trust funds in bankruptcy mounting poverty and unemployment trade wars collapsing financial markets and hyperinflation or deflation\nsocial distress with violence fueled by class race nativism or religion and abetted by armed gangs underground militias and mercenaries hired by walled communities\npolitical distress with institutional collapse open tax revolts one party hegemony major constitutional change secessionism authoritarianism and altered national borders\nmilitary distress with war against terrorists or foreign regimes equipped with weapons of mass destruction\nthe fourth turning strauss howe\nthe american revolution military conflict was with an external enemy the civil war was an internal conflict between americans world war ii was again an external conflict will the coming conflict be domestic foreign or both every fourth turning has internal and external struggles and skirmishes loyalists battled patriots during the american revolution both sides attempted to seek european support during the civil war\na resolute opposition despised fdr and even sought to organize a military coup to seize power of the government this fourth turning is progressing along a dual path of internal and external clashes destined to define the events which will propel the world towards a climax and resolution of this fourth crisis period in u s history\nthe apparent slowness of this fourth turning is not unusual and the rise in the stock market in the midst of the crisis does not alleviate the dire circumstances of the crisis from its low in <DATE> the stock market rose by over <NUM> by <DATE> in the midst of the great depression before another <NUM> plunge the current fed financed stock market rally has driven stocks up about <NUM> from the <DATE> lows stock markets do not define when a crisis has ended for the majority of americans because so few people own a significant amount of stock\nthe average american suffered economic hardship throughout the <DATE> just as average americans have continued to suffer economic hardship since <DATE> as americans dealt with privation and poverty in the late <DATE> the coming global conflict was brewing animosities prejudices and resentments exacerbated by economic turmoil stirred militaristic ambitions of hubristic rulers in europe and asia the parallels with the current international dynamic are eerie the exact timing of the chaotic dangerous portion of this fourth turning is uncertain but it can t be escaped\ndon t think you can escape the fourth turning the way you might today distance yourself from news national politics or even taxes you don t feel like paying history warns that a crisis will reshape the basic social and economic environment that you now take for granted the fourth turning necessitates the death and rebirth of the social order it is the ultimate rite of passage for an entire people requiring a luminal state of sheer chaos whose nature and duration no one can predict in advance strauss howe the fourth turning\n<URL>\npart <NUM>\nin part <NUM> of this article i provided the background regarding the phases of fourth turnings and where we stand nine years into this period of crisis i will now ponder what could happen during the remainder of this fourth turning\nhistory offers no guarantees obviously things could go horribly wrong the possibilities ranging from a nuclear exchange to incurable plagues from terrorist anarchy to high tech dictatorship we should not assume that providence will always exempt our nation from the irreversible tragedies that have overtaken so many others not just temporary hardship but debasement and total ruin losing in the next fourth turning could mean something incomparably worse it could mean a lasting defeat from which our national innocence perhaps even our nation might never recover strauss howe the fourth turning\nthe most important point to comprehend is the death of the existing social order always occurs during the course of a fourth turning thus far those constituting the deep state hierarchy have fended off their demise they are utilizing every tool at their disposal to retain their wealth power and control as their mass media propaganda machine falters they have redoubled their rigging of financial markets to promote a narrative of economic recovery while further enriching themselves and their cronies\nit is clear they have reached the peak of financial manipulation money printing and artificial interest rate suppression the narrative is faltering their last and final option to retain power is war as their everything bubble stocks bonds real estate inevitably implodes civil and or global military conflict will be utilized to distract the populace from their deep state domestic disasters\nthe time for compromise is long past there are no moderates left in the political spectrum the mood of the country is clearly trending towards conflict trump as the grey champion of this fourth turning has proven to be a lightning rod of hate he infuriates his political opponents the left wing media many in his own party foreign leaders billionaires and most worrisome to his well being the shadowy surveillance state intel operatives\nhis own fbi and cia have been subverting his presidency and attempting to initiate his impeachment or as a last resort coup after running a campaign championing a reduction in foreign military intervention in the middle east reducing commitments to nato and increasing cooperation with russia it appears trump has been taken into a room and told the military industrial complex calls the shots trump has clearly made a self preservation decision to avoid being jfk d\nthe possibility of global catastrophe is not taken seriously by the vast majority of americans it s been over seventy years since the last global conflict and most of the people who experienced the horror are dead we ve forgotten the past and are condemned to relive it just as we do every eighty or so years the lack of volatility in financial markets portends drastic levels of volatility as the perception markets can t fall has lured wall street <NUM> something mbas and the investor class into a sense of invincibility\ngeopolitical tensions have been rising dramatically over the last few years with religious extremism oil petro dollar historical rivalries and nationalism driving the world towards conflict these extreme economic and geopolitical stresses are coinciding along the same timeline and will erupt simultaneously catalyzing the climactic half of this fourth turning\nthe risk of catastrophe will be very high the nation could erupt into insurrection or civil violence crack up geographically or succumb to authoritarian rule if there is a war it is likely to be one of maximum risk and effort in other words a total war every fourth turning has registered an upward ratchet in the technology of destruction and in mankind s willingness to use it strauss howe the fourth turning\nwith the house of saud descending into madness as religious zealots kings princes and foreign infiltrators vie for control of their depleting oil riches and tens of billions in high tech weaponry provided by american arms dealers a middle east conflagration is a certainty iran has been winning the proxy wars in syria iraq and yemen saudi arabia and israel are determined to stop iran s expansion at any cost\nmixing religious extremism oil riches gas pipelines opium egotistical dictators nuclear bombs hatred and territorial ambitions into the deepening militaristic global mood change is destined to spark a chain reaction of unintended consequences and unyielding responses the next middle east war will not be a proxy war it will be a fight to the death\nyou need a scorecard to figure out the alliances opponents and wildcards iran appears to be aligned with iraq qatar syria hezbollah yemen and russia saudi arabia appears to be aligned with israel uae and the united states various factions who include turkey isis al qaeda and the kurds are fighting one or more of these parties in many cases the enemy of my enemy is my friend applies\npeace and compromise are out of the question at this point it s just a matter of who pulls the trigger to kick off the fireworks it looks like saudi arabia is willing to gamble everything on a final showdown with iran once the shooting starts and the u s and russia are sucked in all bets are off on what happens next diplomacy will not be an option\nthis scenario presumes a korean conflict doesn t happen first with reckless actions on the part of kim jung un and reckless rhetoric from both sides the odds of a korean conflict are the highest since the <DATE> with three carrier groups sitting off the korean coastline just one provocative act or mistake could unleash a fusillade from both sides killing hundreds of thousands in a matter of days global treaties alliances and economic realities are pushing global powers in unforeseen directions just as this fourth turning enters its most dangerous phase human failings are the constant throughout history but human failings resulted in <NUM> deaths during the american revolution crisis they could result in hundreds of millions of deaths during this crisis\nthe u s and europe s provocative actions with nato forces surrounding russia the ongoing ukraine civil war the syrian civil war and false accusations of rigging the u s presidential election have pushed russia into a closer alliance with china saudi arabia has also strengthened ties with china as the debt financed shale oil boom has lessened u s purchases of opec oil\nthe eu is falling apart as debt creation has failed to revive economies governments are bankrupt muslim hordes destroy their social fabric and a revolutionary spirit is in the air germany france sweden and most of europe have signed their own death warrant by allowing their countries to be invaded by millions of young muslim men intent on destroying their way of life global disorder is expanding exponentially and is surely leading towards war\nwar will either be the trigger for the forthcoming financial crash or a direct result of the forthcoming financial crash the core elements of this fourth turning debt civic decay global disorder are going to juxtapose and connect accelerating into a chain reaction of chaos civil uprising global war mass casualties the fall of empires and ultimately the destruction of the existing social order aka deep state\nwhen americans see their wealth vaporized for the <NUM> time in less than two decades by the same criminal bankers and corrupt politicians they will not forgive forget and bail them out again they will seek out the guilty and make them pay through street justice the fraudulent deep state controlled scheme is beyond redemption and must be destroyed in order for a constitution based free market system to be reintroduced the result could also be dictatorship or worse the outcomes will be determined by the actions we take as citizens\nwith a debt inundated global economy already slowing panicked central bankers beginning to take their foot off the accelerator massively overvalued stock bond and real estate markets consumers in debt up to their eyeballs stagnant wages rising inflation currency and trade wars heating up deficits rising again and gridlocked legislative bodies the onset of war in the middle east would cause oil prices to skyrocket and trigger the stock market collapse <NUM>\nat this point even the slightest hint of wage inflation causing interest rates to rise even modestly would prompt a market meltdown the perfect storm is headed our way the triple threats of debt civic decay and global disorder cannot be avoided we can t defy the chaos set in motion by the cyclical nature of history the seasons cannot be reversed so we must brace ourselves for the oncoming storms\nthe future s uncertain and the end is always near jim morrison\nno one here gets out alive jim morrison\nthere are no guarantees or certainties regarding what happens over the remaining decade or so of this fourth turning don t believe god will exempt our empire from the tragedies that have befallen past empires debasement and total ruin are not inconsequential possibilities hubris arrogance decadence and debt have devastated previous global empires and are present today in copious quantities as the american empire enters its critical threshold of national survival there are a myriad of internal and external competing forces which threaten both the status quo and very existence of our nation\nthere will be moments of extreme danger and severe threats in the coming years i do not consider the russian people or the chinese people my enemies but my government will attempt to convince us to go to war against them in order to maintain their empire human nature has not changed over the course of history but the technological advancements in warfare have placed the ability to obliterate the planet into the hands of weak minded malevolent men whose egotism and thirst for power know no bounds human flaws and frailties could endanger the world and its inhabitants do you trust the leadership of your country to do what s in your best interest\ni do not trust my government i do not trust the puppet politician front men for the deep state i do not trust the mega corporations who dominate our economy i do not trust central bankers and their wall street owners i do not trust the fake news corporate media i do not trust the military industrial complex i do not trust the leaders of organized religion\ni trust my own instincts reasoning ability and critical thinking skills i trust my immediate family members i trust some of my neighbors i trust more of people i ve met through my blog than i ve met face to face i trust normal people living normal lives across this once great country i trust the people who distrust the people and things i distrust as events spiral out of control we will need to pick and choose our friends carefully\nif or when the government attempts to force my three sons into a war on behalf of the vested interests to retain their wealth and power i will resist with every ounce of strength in my aging body they will not become cannon fodder for the deep state we don t know the events and path which will drive the remainder of this crisis but we do know our choices will matter\nthis is no time for apathy and complacency for those who grasp generational theory and the cycles of history the seemingly unbearable slowness of this fourth turning is actually a blessing the slowness allows more time to prepare if you haven t prepared for the coming saecular winter time is growing short the skies are darkening our rendezvous with destiny awaits\nreflect on what happens when a terrible winter blizzard strikes you hear the weather warning but probably fail to act on it the sky darkens then the storm hits with full fury and the air is a howling whiteness one by one your links to the machine age break down electricity flickers out cutting off the tv batteries fade cutting off the radio phones go dead roads become impossible and cars get stuck food supplies dwindle\nday to day vestiges of modern civilization bank machines mutual funds mass retailers computers satellites airplanes governments all recede into irrelevance picture yourself and your loved ones in the midst of a howling blizzard that lasts several years think about what you would need who could help you and why your fate might matter to anybody other than yourself that is how to plan for a saecular winter\ndon t think you can escape the fourth turning history warns that a crisis will reshape the basic social and economic environment that you now take for granted strauss howe the fourth turning\n<URL>"
        ],
        [
         "51",
         "fake",
         "subscribe to canada free press for free\nfairness is the vehicle obama uses to implement socialism\nobama and redistribution of your wealth\nin a speech earlier this week <DATE> president obama said the following so these investments in things like education and research and health care they haven t been made as some grand scheme to redistribute wealth from one group to another this is not some socialist dream\nyet in <DATE> obama summarized his plan to make the tax code fairer by saying i think when you spread the wealth around it s good for everybody obama may not be cut out of the same cloth as lenin but he is a socialist and socialism is his agenda marxism spawned socialism marxism produced the foundation of european welfare state socialism the european model tried to nationalize socialism as with the bolshevik revolution but with less success after the failure of nationalization through revolution european socialists realized that free enterprise in private hands produced capital money which they could then steal through taxation and then redistribute to all through social programs thereby achieving socialism where european socialism prevails there is a cost according to paul roderick gregory the european welfare state takes one half of national output to provide state health care pensions extended unemployment benefits income grants and free higher education obama feverishly promotes socialism as just described\nfairness is the vehicle obama uses to implement socialism he just wants to be fair and for everyone to have a level playing field fairness is the mantra of socialists fairness in healthcare fair share of tax payments fair prices for all through state controlled markets fairness for the environment through green energy racial fairness through enforced civil rights fairness in gender equality and protection of homosexuality through tough hate crime laws to name a few all of this fairness must be executed and enforced through an all powerful centralized government by controlling everyone to be able to provide all of life s needs from the cradle to the grave this is obama european socialism pure and simple and he is lying when saying he does not want to redistribute wealth redistribution is the cornerstone of socialism and herein lies the reason why obama hates the constitution the constitution of the united states of america is the death blow to socialism the constitution limits government and empowers the individual while protecting individual liberty socialism is not compatible with a limited government and free citizens who govern themselves obama has to go in <DATE> if obama wins america loses"
        ],
        [
         "52",
         "reliable",
         "president trump s plan to continue deploying american military forces in syria goes beyond his authority under federal law according to a top senate democrat\nwe are on the precipice of committing u s forces to another forever war maryland sen ben cardin the ranking member on the foreign relations committee said thursday\nthat was a rebuke of secretary of state rex tillerson who outlined trump s policy for syria following the destruction of the islamic state as a landholding terrorist organization tillerson explained that u s forces and diplomats must work to prevent the resurgence of isis and the domination of syria by iranian backed terrorists but cardin maintained the new policy exceeds anything authorized by congress\ni am extremely disappointed that the trump administration announced a significant change in u s policy the commitment of u s forces for an indefinite period of time in syria without first consulting congress cardin said the trump administration lacks the authority to keep u s military forces in syria after the defeat of isis\ntrump like former president barack obama has traced the legal authority for counter isis operations back to the legislation that authorized military action action against al qaeda in response to the <DATE> terrorist attacks isis formed out of the remnants of al qaeda s affiliate in iraq tillerson tied the new syria policy to that legal basis by noting the potential for isis to rehabilitate itself in the absence of u s forces\nisis presently has one foot in the grave and by maintaining an american military presence in syria until the full and complete defeat of isis is achieved it will soon have two he said\nin tillerson s telling such a complete victory over isis or iranian forces in the country depends on the success of a broader effort to bring peace and stability to syria\nungoverned spaces especially in conflict zones are breeding grounds for isis and other terrorist organizations he said u s disengagement from syria would provide iran the opportunity to further strengthen its position in syria as we have seen from iran s proxy wars and public announcements iran seeks dominance in the middle east and the destruction of our ally israel as a destabilized nation and one bordering israel syria presents an opportunity that iran is all too eager to exploit\nthe unveiling of the plan could renew congressional interest in crafting a new legislation defining the president s legal authority to conduct counter terrorism operations for years lawmakers in both parties have struggled to agree on the details of a new authorization of the use of military force\ncongress has been unable to bridge the gap between those who see a new aumf as primarily an opportunity to limit the president and those who believe constraining the commander in chief in wartime is unwise senate foreign relations chairman bob corker r tenn said during a recent hearing\ntillerson s announcement is sure to spark a new round of debate on the policy though the state and defense departments must immediately consult with the members of the senate foreign relations committee which retains jurisdiction over the use of military force cardin said"
        ],
        [
         "53",
         "reliable",
         "something is wrong at newsweek and whoever is in charge over there needs to get a handle on the situation\nits most recent misstep occurred this week when its social media team tweeted this misleading headline fact check no the clintons were not paid millions by russia\nthe accompanying article proves nothing of the sort\nthe supposed fact check comes in response to a tweet this week from president trump that read russia sent millions to clinton foundation\nfoxandfriends russia sent millions to clinton foundation donald j trump realdonaldtrump <DATE>\nhe is not wrong and the newsweek article acknowledges as much\nit acknowledges that former president bill clinton received a generous <CUR> <NUM> speaking fee in <DATE> from a kremlin linked bank with ties to uranium one a canadian uranium company that had mines in the u s the newsweek article also acknowledges a separate new york times report that showed uranium one s chairman donated approximately <CUR> <NUM> million to the clinton foundation in four separate installments as his company was being acquired by a russian nuclear energy firm called rosatom\nthere s more from the times report and none of it reflects well on the clintons\nas the russians gradually assumed control of uranium one in three separate transactions from <DATE> to <DATE> canadian records show a flow of cash made its way to the clinton foundation uranium one s chairman used his family foundation to make four donations totaling <CUR> <NUM> million those contributions were not publicly disclosed by the clintons despite an agreement mrs clinton had struck with the obama white house to publicly identify all donors other people with ties to the company made donations as well\nthe only thing the newsweek fact check disputes is whether the millions paid had anything to do with rosatom s successful efforts to secure approval from the state department to acquire uranium one the u s committee on foreign investment gave the go ahead in <DATE> handing the russian state owned nuclear agency control of <NUM> percent of the uranium in america\nit s unclear whether the russian cash given to the clinton foundation had anything to do with bill clinton s attempts in <DATE> to facilitate meetings with rosatom executives it s also unclear whether the payments had anything to do with his decision to meet privately with russian president vladimir putin that same year\nbut this is still a long way off from fact check no the clintons were not paid millions by russia\naggravatingly enough the headline that appears on newsweek s website is evenhanded and reasonable it reads simply did russia send money to bill clinton s foundation like trump says fact checking the president s claim it s the social media version of this headline that s atrocious\nthat said like the tweeted headline the body of the fact check also makes claims that it can t quite back including president is stretching the truth about the clinton foundation and money it received\nwell perhaps but the clinton foundation did take in millions from the russians that s what the president tweeted\nhere s how the newsweek fact check concludes yes the foundation received money and bill clinton was paid to give a speech but there s no evidence the clintons were paid by russians to push through the uranium deal\nthis is correct and it d probably be devastating were it a thing the president actually said but he didn t quite say that\nhe implied it sure but what s the use of fact checking things that haven t been said"
        ],
        [
         "54",
         "reliable",
         "american forces made one of their most effective hits against the islamic state on <DATE> when u s planes destroyed <NUM> tanker trucks used by the terrorist organization to transport the stolen oil that is its financial lifeblood\namerican a <NUM> and c <NUM> warplanes targeted a group of about <NUM> trucks near abu kamal in syria given that the islamic state is thought to have just over <NUM> trucks in its entire fleet the group of <NUM> represented a huge target for u s planes\nat a pentagon news conference last wednesday reporters wanted to know why american forces did not take out more than <NUM> trucks why not all <NUM> or something close to that a u s official said the american attackers simply ran out of ammunition\nthere were <NUM> i think to begin with and then you hit <NUM> why didn t you go back a reporter asked operation inherent resolve spokesman col steve warren\nfrankly the aircraft expended <NUM> <NUM> pound bombs and all of their ammunition warren answered so they they shot everything they had and then they had to go home\njournalists had another question if oil is vitally important to the islamic state why didn t the u s hit the tanker trucks long ago given that the american anti isis operation began in <DATE>\nif it s so important to cut off the oil shipments the critical revenue source for isis why did it take so long to take out <NUM> oil tanker trucks a reporter asked\nwarren explained that american officials were deeply worried about harming the truck drivers who were working for the islamic state but might not be isis themselves u s officials settled on a plan to drop leaflets on the trucks about <NUM> minutes before the raid warning the drivers that an attack was coming while u s pilots flew low passes over the area planning all that took time\nthis is our first strike against tanker trucks warren said we have been striking oil infrastructure targets since the very beginning of this operation what we found out was that many of our strikes were only minimally effective we would strike pieces of the oil infrastructure that were easily repaired\nwarren said u s officials conducted a study and decided to focus on the islamic state s oil distribution network trucks but the problem was the drivers\nwe have not struck these trucks before warren said we assessed that these trucks while although they are being used for operations that support isil the truck drivers themselves are probably not members of isil they re probably just civilians so we had to figure out a way around that we re not in this business to kill civilians we re in this business to stop isil to defeat isil\namerican officials decided on the leaflet and buzz plan we spent some time developing the leaflets the low pass warren said we did some some strafe runs as well to kind of shoo people away without harming them so we had to go through that whole process of one determining whether or not we felt it was in our best interest to strike these trucks and then once we determined that yes it is in our interest to strike these trucks how do we go about ensuring that we re able to mitigate the potential of civilian casualties and these things take time\nfinally when all the work had been done <NUM> islamic state trucks were found in one place it was an inviting target\nthese trucks were queued up warren said they were sitting sort of on flat desert there wasn t really anything recognizable as a road around it was just out there on the desert floor in the vicinity of one of these oil fields one of these oil facilities that we ve been striking so they were queued up there waiting to take on their illicit oil so these trucks were they were just sitting there not moving\nit was an extraordinary opportunity to take out somewhere between one quarter and one third of the islamic state s entire truck fleet and after destroying <NUM> the americans ran out of ammunition the remaining <NUM> trucks were not destroyed\nbeyond the out of ammo problem reporters raised the issue of the u s forces extreme care in avoiding civilian casualties if american forces won t hit any target if there is any fear that any non isis person might be harmed might that not prolong the time it takes to destroy the islamic state which is killing civilians right and left\nis there a catch <NUM> about not striking civilians and avoiding civilian casualties when over the past year the <CUR> <NUM> million in oil revenue generated has been going to killing a large number of civilians a reporter asked is there any risk that avoiding civilian casualties is actually prolonging more civilian casualties\nthat was a very thoughtful question warren conceded and an issue american war planners think about constantly but warren didn t have an answer it s something that we wrestle with every day he said"
        ]
       ],
       "shape": {
        "columns": 2,
        "rows": 215
       }
      },
      "text/html": [
       "<div>\n",
       "<style scoped>\n",
       "    .dataframe tbody tr th:only-of-type {\n",
       "        vertical-align: middle;\n",
       "    }\n",
       "\n",
       "    .dataframe tbody tr th {\n",
       "        vertical-align: top;\n",
       "    }\n",
       "\n",
       "    .dataframe thead th {\n",
       "        text-align: right;\n",
       "    }\n",
       "</style>\n",
       "<table border=\"1\" class=\"dataframe\">\n",
       "  <thead>\n",
       "    <tr style=\"text-align: right;\">\n",
       "      <th></th>\n",
       "      <th>type</th>\n",
       "      <th>content</th>\n",
       "    </tr>\n",
       "  </thead>\n",
       "  <tbody>\n",
       "    <tr>\n",
       "      <th>1</th>\n",
       "      <td>fake</td>\n",
       "      <td>awakening of &lt;NUM&gt; strands of dna reconnecting...</td>\n",
       "    </tr>\n",
       "    <tr>\n",
       "      <th>4</th>\n",
       "      <td>reliable</td>\n",
       "      <td>donald trump has the unnerving ability to abil...</td>\n",
       "    </tr>\n",
       "    <tr>\n",
       "      <th>6</th>\n",
       "      <td>fake</td>\n",
       "      <td>could you imagine waking up in the morgue i fo...</td>\n",
       "    </tr>\n",
       "    <tr>\n",
       "      <th>7</th>\n",
       "      <td>fake</td>\n",
       "      <td>citizen journalist\\nby &lt;URL&gt; q has released se...</td>\n",
       "    </tr>\n",
       "    <tr>\n",
       "      <th>8</th>\n",
       "      <td>fake</td>\n",
       "      <td>usa dollar tanks on mnuchin statement that he ...</td>\n",
       "    </tr>\n",
       "    <tr>\n",
       "      <th>...</th>\n",
       "      <td>...</td>\n",
       "      <td>...</td>\n",
       "    </tr>\n",
       "    <tr>\n",
       "      <th>239</th>\n",
       "      <td>fake</td>\n",
       "      <td>the disturbing sugar daddy sugar baby relation...</td>\n",
       "    </tr>\n",
       "    <tr>\n",
       "      <th>243</th>\n",
       "      <td>fake</td>\n",
       "      <td>press\\nbefore it s news ©\\npeople powered news...</td>\n",
       "    </tr>\n",
       "    <tr>\n",
       "      <th>244</th>\n",
       "      <td>reliable</td>\n",
       "      <td>the senate voted late thursday to start work o...</td>\n",
       "    </tr>\n",
       "    <tr>\n",
       "      <th>245</th>\n",
       "      <td>fake</td>\n",
       "      <td>prison for rahm god s work and many others\\nhe...</td>\n",
       "    </tr>\n",
       "    <tr>\n",
       "      <th>246</th>\n",
       "      <td>fake</td>\n",
       "      <td>&lt;NUM&gt; useful items for your tiny home\\nheadlin...</td>\n",
       "    </tr>\n",
       "  </tbody>\n",
       "</table>\n",
       "<p>215 rows × 2 columns</p>\n",
       "</div>"
      ],
      "text/plain": [
       "         type                                            content\n",
       "1        fake  awakening of <NUM> strands of dna reconnecting...\n",
       "4    reliable  donald trump has the unnerving ability to abil...\n",
       "6        fake  could you imagine waking up in the morgue i fo...\n",
       "7        fake  citizen journalist\\nby <URL> q has released se...\n",
       "8        fake  usa dollar tanks on mnuchin statement that he ...\n",
       "..        ...                                                ...\n",
       "239      fake  the disturbing sugar daddy sugar baby relation...\n",
       "243      fake  press\\nbefore it s news ©\\npeople powered news...\n",
       "244  reliable  the senate voted late thursday to start work o...\n",
       "245      fake  prison for rahm god s work and many others\\nhe...\n",
       "246      fake  <NUM> useful items for your tiny home\\nheadlin...\n",
       "\n",
       "[215 rows x 2 columns]"
      ]
     },
     "execution_count": 9,
     "metadata": {},
     "output_type": "execute_result"
    }
   ],
   "source": [
    "cleaned_news_sample = cleaned_news_sample.replace({'conspiracy':'fake', 'junksci':'fake', 'satire':'fake', 'bias':'fake', 'state':'fake', 'hate':'fake'})\n",
    "cleaned_news_sample = cleaned_news_sample.replace({'clickbait':'reliable', 'political':'reliable'})\n",
    "cleaned_news_sample[['type','content']]\n"
   ]
  },
  {
   "cell_type": "code",
   "execution_count": 10,
   "metadata": {},
   "outputs": [
    {
     "data": {
      "image/png": "[encoded data removed]",
      "text/plain": [
       "<Figure size 640x480 with 1 Axes>"
      ]
     },
     "metadata": {},
     "output_type": "display_data"
    }
   ],
   "source": [
    "import matplotlib.pyplot as plot\n",
    "\n",
    "group_procent = cleaned_news_sample['type'].value_counts(dropna=0).apply(lambda x: 100*x/cleaned_news_sample.__len__())\n",
    "group_procent.plot(kind='bar', color=['orange', 'lightgreen'], title='Procentfordeling af Grupper', xlabel='Grupper', ylabel='Procent')\n",
    "for i, v in enumerate(group_procent):\n",
    "    plot.text(i, v + 1, f\"{v:.1f}%\", ha='center', va='bottom')\n",
    "plot.grid(True, axis='y', linestyle=':', linewidth=0.5)\n",
    "plot.xticks(rotation=0)\n",
    "plot.ylim(0, 100)\n",
    "plot.show()"
   ]
  },
  {
   "cell_type": "markdown",
   "metadata": {},
   "source": [
    "Ud fra figuren ovenfor over fordelingen af de forskellige typer artikler, er det tydeligt at se at der er betydeligt flere *fake* artikler end *reliable* artikler. En konsekvens ved et ubalanceret datasæt, altså hvor der er mange flere af den ene klasse end den anden, er at den endelige model kan blive biased mod den største klasse. Dette betyder at modellen i særlig høj grad vil klassificere nyt data til majoritetsklassen, som er er *fake*, da modellen under træningen vil opleve at minoritetsklassen har en relativ lille påvirkning på den endelige score. Dette kunne eksempelvis ske, hvis modellen klassificere flere *fake* forkeret, ved at klassificere en smule *reliable* rigtigt. Grundet dette bias, fås at baseline modellen **Sharp**, som gætter konstant *fake* eller *reliable*, får en høj præcision, hvis den konstant *fake* hvilket her ville blive en score på ca. 86,9%.\n",
    "\n",
    "En anden konsekvens af en ubalanceret datasæt, kunne være at modellen ville have svære ved at lære at generelisere, da den kunne risikere i højere grad at memorere forskellene mellem *fake* og *reliable* fra træningsættet, istedet for at generelisere og finde et mønster i forskellene mellem *fake* g *reliable* Denne manglende generelisering kunne også betyde at modellen ikke er i stand til at forstå hvordan minoritetsklassen, som her er reliable, generelt ser ud, hvilket igen ville kunne betyde at når modellen møder noget der er helt anderledes fra træningssættet, så vil modellen være biased til at være majoritetsklassen."
   ]
  },
  {
   "cell_type": "markdown",
   "metadata": {},
   "source": [
    "## Opgave 2\n",
    "\n",
    "I denne opgave vil jeg bruge ``selenium`` biblioteket til at skrabe noget af nyhedshjemmesiden BBC for dens artikler. Jeg vil starte med at skrabe en enkelt subsection for artikler, derefter flere sider under samme subsection, hvorefter jeg vil skrabe artiklerne fra flere subsections.\n",
    "\n",
    "Nedenfor importere jeg ``webdriver`` fra ``selenium`` som jeg skal bruge til at interagere med hjemmesiden, og starter med at teste om det virker som det skal, ved at skalle HTML koden for hjemmesiden, hvorefter jeg manuelt checker om den skrapede HTML passer med den reelle HTML kode."
   ]
  },
  {
   "cell_type": "code",
   "execution_count": 11,
   "metadata": {},
   "outputs": [
    {
     "name": "stdout",
     "output_type": "stream",
     "text": [
      "<html lang=\"en-GB\"><head><meta charset=\"utf-8\"><meta name=\"viewport\" content=\"width=device-width\"><title>Europe | Latest News &amp; Updates | BBC News</title><meta property=\"og:title\" content=\"Europe | Latest News &amp; Updates | BBC News\"><meta name=\"twitter:title\" content=\"Europe | Latest News &amp; Updates | BBC News\"><meta name=\"description\" content=\"Get all the latest news, live updates and content about Europe from across the BBC.\"><meta property=\"og:description\" content=\"Get all the latest news, live updates and content about Europe from across the BBC.\"><meta name=\"twitter:description\" content=\"Get all the latest news, live updates and content about Europe from across the BBC.\"><meta name=\"msapplication-TileColor\" content=\"#da532c\"><meta name=\"theme-color\" content=\"#ffffff\"><meta name=\"robots\" content=\"NOODP, NOYDIR\"><meta name=\"apple-itunes-app\" content=\"app-id=364147881, app-argument=https://www.bbc.com/news/world/europe\"><link rel=\"apple-touch-icon\" sizes=\"180x180\" href=\"/bb\n"
     ]
    }
   ],
   "source": [
    "from selenium import webdriver\n",
    "\n",
    "browser = webdriver.Firefox()\n",
    "browser.get('https://www.bbc.com/news/world/europe')\n",
    "html_content = browser.page_source\n",
    "browser.quit()\n",
    "print(html_content[:1000])"
   ]
  },
  {
   "cell_type": "markdown",
   "metadata": {},
   "source": [
    "Både linket 'https://www.bbc.com/news/world/europe' optræder i HTML'en, men derudover optræder orden 'BBC' også mange gange, og ved stikprøve kontrol er HTML'en også ens med hjemmesidens HTML. Jeg vurdere derfor at koden virker som den skal, og er i stand til at skaffe informationer fra hjemmesiden.\n",
    "\n",
    "Nu da jeg ved at koden er i stand til korrekt at skaffe informationer fra hjemmesiden, vil jeg lave en funktion der finder alle artiklerne på siden, hvorefter jeg ud fra de fundne artikler, vil ekstrahere deres link, overskrift og beskrivelse."
   ]
  },
  {
   "cell_type": "code",
   "execution_count": 20,
   "metadata": {},
   "outputs": [
    {
     "data": {
      "application/vnd.microsoft.datawrangler.viewer.v0+json": {
       "columns": [
        {
         "name": "index",
         "rawType": "int64",
         "type": "integer"
        },
        {
         "name": "link",
         "rawType": "object",
         "type": "string"
        },
        {
         "name": "headline",
         "rawType": "object",
         "type": "string"
        },
        {
         "name": "summary",
         "rawType": "object",
         "type": "string"
        }
       ],
       "conversionMethod": "pd.DataFrame",
       "ref": "57b8d568-ec1b-43b8-82bf-48cfed2d7069",
       "rows": [
        [
         "0",
         "https://www.bbc.com/news/articles/c70wnjvj1x0o",
         "UK and France to present Ukraine peace plan to Trump, PM says",
         "Sir Keir Starmer also says he believes the US president wants peace, despite last week's Oval Office row with Ukraine's leader."
        ],
        [
         "1",
         "https://www.bbc.com/news/articles/ce34v17dw53o",
         "His name was in a child abuse diary - now his family listen to 'vile' testimony",
         "Former surgeon Joël Le Scouarnec is accused of abusing hundreds of patients, most of them children, including Mauricette Vinet's grandson"
        ],
        [
         "2",
         "https://www.bbc.com/news/articles/cgkmg3kmmero",
         "Kurdish group PKK declares ceasefire with Turkey",
         "The PKK calls for the release of its jailed leader Abdullah Ocalan to lead a process of disarmament."
        ],
        [
         "3",
         "https://www.bbc.com/news/articles/c8x4qn74z2vo",
         "'Our son died in Benidorm - we still don't know what happened'",
         "Nathan Osman's family say attempts to use his bank cards were made the day after he died."
        ],
        [
         "4",
         "https://www.bbc.com/news/articles/cgr2g4n4wvdo",
         "'Trump and Vance were so rude': Ukrainians react to disastrous White House meeting",
         "The more the country is attacked, the more unity there is, people in Kyiv tell the BBC."
        ]
       ],
       "shape": {
        "columns": 3,
        "rows": 5
       }
      },
      "text/html": [
       "<div>\n",
       "<style scoped>\n",
       "    .dataframe tbody tr th:only-of-type {\n",
       "        vertical-align: middle;\n",
       "    }\n",
       "\n",
       "    .dataframe tbody tr th {\n",
       "        vertical-align: top;\n",
       "    }\n",
       "\n",
       "    .dataframe thead th {\n",
       "        text-align: right;\n",
       "    }\n",
       "</style>\n",
       "<table border=\"1\" class=\"dataframe\">\n",
       "  <thead>\n",
       "    <tr style=\"text-align: right;\">\n",
       "      <th></th>\n",
       "      <th>link</th>\n",
       "      <th>headline</th>\n",
       "      <th>summary</th>\n",
       "    </tr>\n",
       "  </thead>\n",
       "  <tbody>\n",
       "    <tr>\n",
       "      <th>0</th>\n",
       "      <td>https://www.bbc.com/news/articles/c70wnjvj1x0o</td>\n",
       "      <td>UK and France to present Ukraine peace plan to...</td>\n",
       "      <td>Sir Keir Starmer also says he believes the US ...</td>\n",
       "    </tr>\n",
       "    <tr>\n",
       "      <th>1</th>\n",
       "      <td>https://www.bbc.com/news/articles/ce34v17dw53o</td>\n",
       "      <td>His name was in a child abuse diary - now his ...</td>\n",
       "      <td>Former surgeon Joël Le Scouarnec is accused of...</td>\n",
       "    </tr>\n",
       "    <tr>\n",
       "      <th>2</th>\n",
       "      <td>https://www.bbc.com/news/articles/cgkmg3kmmero</td>\n",
       "      <td>Kurdish group PKK declares ceasefire with Turkey</td>\n",
       "      <td>The PKK calls for the release of its jailed le...</td>\n",
       "    </tr>\n",
       "    <tr>\n",
       "      <th>3</th>\n",
       "      <td>https://www.bbc.com/news/articles/c8x4qn74z2vo</td>\n",
       "      <td>'Our son died in Benidorm - we still don't kno...</td>\n",
       "      <td>Nathan Osman's family say attempts to use his ...</td>\n",
       "    </tr>\n",
       "    <tr>\n",
       "      <th>4</th>\n",
       "      <td>https://www.bbc.com/news/articles/cgr2g4n4wvdo</td>\n",
       "      <td>'Trump and Vance were so rude': Ukrainians rea...</td>\n",
       "      <td>The more the country is attacked, the more uni...</td>\n",
       "    </tr>\n",
       "  </tbody>\n",
       "</table>\n",
       "</div>"
      ],
      "text/plain": [
       "                                             link  \\\n",
       "0  https://www.bbc.com/news/articles/c70wnjvj1x0o   \n",
       "1  https://www.bbc.com/news/articles/ce34v17dw53o   \n",
       "2  https://www.bbc.com/news/articles/cgkmg3kmmero   \n",
       "3  https://www.bbc.com/news/articles/c8x4qn74z2vo   \n",
       "4  https://www.bbc.com/news/articles/cgr2g4n4wvdo   \n",
       "\n",
       "                                            headline  \\\n",
       "0  UK and France to present Ukraine peace plan to...   \n",
       "1  His name was in a child abuse diary - now his ...   \n",
       "2   Kurdish group PKK declares ceasefire with Turkey   \n",
       "3  'Our son died in Benidorm - we still don't kno...   \n",
       "4  'Trump and Vance were so rude': Ukrainians rea...   \n",
       "\n",
       "                                             summary  \n",
       "0  Sir Keir Starmer also says he believes the US ...  \n",
       "1  Former surgeon Joël Le Scouarnec is accused of...  \n",
       "2  The PKK calls for the release of its jailed le...  \n",
       "3  Nathan Osman's family say attempts to use his ...  \n",
       "4  The more the country is attacked, the more uni...  "
      ]
     },
     "execution_count": 20,
     "metadata": {},
     "output_type": "execute_result"
    }
   ],
   "source": [
    "from selenium.webdriver.common.by import By\n",
    "import pandas as pd\n",
    "\n",
    "# starts browser and goes the website\n",
    "browser = webdriver.Firefox()\n",
    "browser.get('https://www.bbc.com/news/world/europe')\n",
    "\n",
    "def get_page_articles(browser:webdriver.Firefox):\n",
    "    # finds the news elements with: class=\"sc-c6f6255e-0 eGcloy\"\n",
    "    elements = browser.find_elements(By.CLASS_NAME, 'sc-c6f6255e-0.eGcloy') + browser.find_elements(By.CLASS_NAME, 'sc-23e03ea-0.ghfAIj')\n",
    "\n",
    "    # extracts the article link, header, description\n",
    "    page_articles = []\n",
    "    for element in elements:\n",
    "        try:\n",
    "            page_articles.append({\n",
    "                'link':element.find_element(By.CSS_SELECTOR, '[data-testid=\"internal-link\"]').get_attribute('href'),\n",
    "                'headline':element.find_element(By.CSS_SELECTOR, '[data-testid=\"card-headline\"]').get_attribute('textContent'),\n",
    "                'summary':element.find_element(By.CSS_SELECTOR, '[data-testid=\"card-description\"]').get_attribute('textContent') if element.find_elements(By.CSS_SELECTOR, '[data-testid=\"card-description\"]') else None\n",
    "                })\n",
    "        except:\n",
    "            continue\n",
    "    \n",
    "    return pd.DataFrame(page_articles)\n",
    "\n",
    "articles = get_page_articles(browser).drop_duplicates(subset='link').reset_index(drop=True)\n",
    "\n",
    "# closes Firefox when done\n",
    "browser.quit()\n",
    "\n",
    "articles.head()"
   ]
  },
  {
   "cell_type": "markdown",
   "metadata": {},
   "source": [
    "Ovenfor ses en dataframe med alle de unikke artikler fandtes på linket: [https://www.bbc.com/news/world/europe](https://www.bbc.com/news/world/europe), på tidspunktet for kørslen af funktionen. For at finde artiklerne har jeg ledt efter elementer af nogle bestemte klasser, og for at finde link, overskrift og beskrivelse har jeg ledt efter nogle underklasser med nogle bestemte attributes.\n",
    "\n",
    "Med funktionen ``get_page_articles`` til at ekstrahere artikler fra den aktuelle side, laver jeg nedenfor en ny funktion ``get_section_articles``, som gør brug af den anden funktion til at skaffe artiklerne fra den aktuelle side, hvorefter den går til næste side og gør det igen, indtil den har skrabet alle artikler under den givne subsection."
   ]
  },
  {
   "cell_type": "code",
   "execution_count": 13,
   "metadata": {},
   "outputs": [
    {
     "data": {
      "application/vnd.microsoft.datawrangler.viewer.v0+json": {
       "columns": [
        {
         "name": "index",
         "rawType": "int64",
         "type": "integer"
        },
        {
         "name": "link",
         "rawType": "object",
         "type": "string"
        },
        {
         "name": "headline",
         "rawType": "object",
         "type": "string"
        },
        {
         "name": "summary",
         "rawType": "object",
         "type": "unknown"
        }
       ],
       "conversionMethod": "pd.DataFrame",
       "ref": "0e9fe024-e10a-4dd4-bd3a-55adfdaef81b",
       "rows": [
        [
         "0",
         "https://www.bbc.com/news/articles/c70wnjvj1x0o",
         "UK and France to present Ukraine peace plan to Trump, PM says",
         "Sir Keir Starmer also says he believes the US president wants peace, despite last week's Oval Office row with Ukraine's leader."
        ],
        [
         "1",
         "https://www.bbc.com/news/articles/ce34v17dw53o",
         "His name was in a child abuse diary - now his family listen to 'vile' testimony",
         "Former surgeon Joël Le Scouarnec is accused of abusing hundreds of patients, most of them children, including Mauricette Vinet's grandson"
        ],
        [
         "2",
         "https://www.bbc.com/news/articles/cgkmg3kmmero",
         "Kurdish group PKK declares ceasefire with Turkey",
         "The PKK calls for the release of its jailed leader Abdullah Ocalan to lead a process of disarmament."
        ],
        [
         "3",
         "https://www.bbc.com/news/articles/c8x4qn74z2vo",
         "'Our son died in Benidorm - we still don't know what happened'",
         "Nathan Osman's family say attempts to use his bank cards were made the day after he died."
        ],
        [
         "4",
         "https://www.bbc.com/news/articles/cgr2g4n4wvdo",
         "'Trump and Vance were so rude': Ukrainians react to disastrous White House meeting",
         "The more the country is attacked, the more unity there is, people in Kyiv tell the BBC."
        ],
        [
         "5",
         "https://www.bbc.com/news/articles/c2kgqdkx9jxo",
         "Pope absent from St Peter's Square for third week",
         "Pope Francis is unable to deliver his traditional Angelus prayer in person, with the Vatican publishing a text."
        ],
        [
         "6",
         "https://www.bbc.com/news/articles/c99np092vk1o",
         "Were Tate brothers released in secret deal - or is the truth far more chaotic?",
         "The abrupt departure of the Tate brothers by private jet has left a fresh trail of confusion and unanswered questions in its wake."
        ],
        [
         "7",
         "https://www.bbc.com/news/articles/cx2gg8le1kpo",
         "Greeks hold mass protests demanding justice after train tragedy",
         "Fifty-seven people died in the disaster and protests are being held across Greece and beyond."
        ],
        [
         "8",
         "https://www.bbc.com/news/articles/czxnnzz558eo",
         "Dozens arrested in global hit against AI-generated child abuse",
         "At least 25 people were detained during a worldwide operation, Europol says."
        ],
        [
         "9",
         "https://www.bbc.com/news/articles/ce982zpz1k3o",
         "Czech firefighters tackle large toxic train fire",
         "A train transporting benzene, a carcinogen, derailed and caught fire on Friday, prompting a large emergency response."
        ],
        [
         "10",
         "https://www.bbc.com/news/articles/c3e44qev1dvo",
         "Minister questions why Tate brothers were allowed to leave Romania",
         "The brothers face rape and human trafficking charges, which they deny."
        ],
        [
         "11",
         "https://www.bbc.com/news/articles/c2d4e395jxeo",
         "Jeremy Bowen: Trump-Zelensky row signals looming crisis between Europe and US",
         "Doubts are growing about the US commitment to European security outside Ukraine."
        ],
        [
         "12",
         "https://www.bbc.com/news/articles/c1d4r9yvqzpo",
         "How criticism of Zelensky's clothing made it to the Oval Office",
         "The Ukrainian president's military-style attire was questioned by a Maga media star before he was upbraided by President Trump and JD Vance."
        ],
        [
         "13",
         "https://www.bbc.com/news/articles/ceqjrnjvrv4o",
         "'They don't belong in the Med': Fate of mother orca and son still uncertain",
         "Animal rights campaigners and marine zoo official say Mediterranean is 'too warm' for killer whales."
        ],
        [
         "14",
         "https://www.bbc.com/news/articles/czjenv29jgdo",
         "Steve Rosenberg: Vladimir Putin can afford to sit back and watch events unfold",
         "A breakdown in relations between Ukraine and the US is potentially very serious for Kyiv, but very positive for Moscow.\n"
        ],
        [
         "15",
         "https://www.bbc.com/news/articles/czjeejw9z4zo",
         "Can Europe deter Russia in Ukraine without US military?",
         "Donald Trump will not get involved in security guarantees for Ukraine, but can Europe fill the gap?"
        ],
        [
         "16",
         "https://www.bbc.com/news/videos/c5y2pdz5wwyo",
         "Watch: Firefighters seen tackling Czech train fire in drone video",
         "Firefighters in the Czech Republic have been tackling a huge fire after a train derailed.\n"
        ],
        [
         "17",
         "https://www.bbc.com/news/videos/cm2n9j9pg93o",
         "Why does the US want access to Ukraine's minerals?",
         null
        ],
        [
         "18",
         "https://www.bbc.com/news/videos/cz9nxx82xvqo",
         "Zelensky can change Trump's mind on support, says Ukraine official",
         "Ihor Brusylo told the BBC's Jeremy Bowen that US President Donald Trump's stance on the war was \"alarming\"."
        ],
        [
         "19",
         "https://www.bbc.com/news/videos/c201nnjq9zro",
         "Ros Atkins on... why this week matters for Europe and the US",
         "The BBC's Analysis editor takes a look back at this week - and what it tells us about how the US sees Europe."
        ],
        [
         "20",
         "https://www.bbc.com/news/articles/cd655917g6qo",
         "Pope is 'stable' after breathing crisis, Vatican says",
         "The Pope has been battling pneumonia for two weeks and suffered an \"isolated\" breathing crisis on Friday."
        ],
        [
         "21",
         "https://www.bbc.com/news/articles/cy05yqz1kq2o",
         "Two dead after vehicle crashes into house in Donegal",
         "The crash happened in the townland of Baltoney, Gortahork, on Friday night at about 21:30 local time. "
        ],
        [
         "22",
         "https://www.bbc.com/news/articles/c3vw9p5lw5xo",
         "Starmer speaks to Trump and Zelensky after White House row",
         "A statement from No 10 confirms he spoke with both and \"retains unwavering support for Ukraine\"."
        ],
        [
         "23",
         "https://www.bbc.com/news/world-europe-59667938",
         "Zelensky: The comedian who became a wartime leader",
         "Zelensky had no experience of politics when he was elected but is now a symbol of Ukrainian defiance."
        ],
        [
         "24",
         "https://www.bbc.com/news/articles/cj6787zzg79o",
         "Colossal stakes for Starmer's summit on Ukraine",
         "Sunday's summit of European leaders in London, to be attended by Ukraine's leader, is shaping up to be crucial, the BBC's political editor writes. "
        ],
        [
         "25",
         "https://www.bbc.com/news/articles/c39vjnpxy1wo",
         "Can the tide turn on the Channel migrant boat crossings?",
         "Yvette Cooper visits the French coast to see how authorities are tackling people smuggling gangs."
        ],
        [
         "26",
         "https://www.bbc.com/news/articles/cm2yyrl0dj5o",
         "Irish PM 'delighted' by Trump's White House invite",
         "Micheál Martin's spokesperson said he was delighted by the invitation to celebrate St Patrick's Day."
        ],
        [
         "27",
         "https://www.bbc.com/news/articles/cy7x0d210e2o",
         "Search for missing six-year-old at Drogheda house ends",
         "It is part of the investigation into the murder of Kyran Durnin who disappeared more than two years ago."
        ],
        [
         "28",
         "https://www.bbc.com/news/articles/c8j0e7ye4m4o",
         "Thousands of speeding fines quashed over camera error",
         "Almost 2,000 motorists caught speeding on an uncertified camera have had fines overturned."
        ],
        [
         "29",
         "https://www.bbc.com/news/articles/cq5zzn81229o",
         "Thirty-two people deported to Georgia on Irish chartered flight",
         "All of those taken to Tbilisi were Georgian nationals who had been subject to deportation orders."
        ],
        [
         "30",
         "https://www.bbc.com/news/articles/cge11q4xwr3o",
         "Brutally beaten man 'cannot walk, talk or breathe for himself'",
         "Charles Dooher was at home when a masked gang beat him with iron bars and other weapons on 20 January."
        ],
        [
         "31",
         "https://www.bbc.com/news/articles/cly7yxm3py5o",
         "Can AI help modernise Ireland's healthcare system?",
         "Ireland is investing billions of euros to revamp its healthcare service - will AI help?"
        ],
        [
         "32",
         "https://www.bbc.com/news/articles/cpq222rqv4po",
         "Tate brothers arrive in US after Romania prosecutors lift travel ban",
         "The pair, facing trial for human trafficking, had been banned from leaving Romania in recent years."
        ],
        [
         "33",
         "https://www.bbc.com/news/articles/cy833v895e1o",
         "Man found guilty of murder of woman in Dublin ",
         "A 40-year-old man has been found guilty of the murder of a mother-of-two in her home in Dublin in May 2022."
        ],
        [
         "34",
         "https://www.bbc.com/news/articles/c0kggxm6gevo",
         "Dáil speaking rights protest branded 'childish'",
         "Opposition parties unite against new bid to give government-supporting politicians extra Dáil time."
        ],
        [
         "35",
         "https://www.bbc.com/news/articles/clyjj9lv5qvo",
         "Murder trial judge tells jury to 'proceed with caution'",
         "Alan Vial and Nikita Burns both deny the murder of County Tyrone man Robert Wilkin on 25 June 2023."
        ],
        [
         "36",
         "https://www.bbc.com/news/articles/c8e774zkeg6o",
         "Taoiseach 'committed' to helping Ukraine financially",
         "A brief meeting between the two leaders took place at Shannon Airport in County Clare."
        ],
        [
         "37",
         "https://www.bbc.com/news/articles/c0q1188p1n2o",
         "Austrian centrists agree government deal sidelining far right",
         "Three parties reach an agreement to form a coalition, 151 days after elections were held in September."
        ],
        [
         "38",
         "https://www.bbc.com/news/articles/c23444ddzjyo",
         "Search for missing six-year-old continues",
         "Kyran Durnin was reported missing at the end of last summer but police believe he may have been killed more than two years earlier."
        ],
        [
         "39",
         "https://www.bbc.com/news/articles/c0l11gr35gwo",
         "'In a scary world, he gives us hope': Faithful gather to support the Pope",
         "The latest statement suggests that the 88-year-old is able to sit in his chair, eat normally and do what the Vatican calls \"light work\". "
        ],
        [
         "40",
         "https://www.bbc.com/news/articles/c17qe11wy52o",
         "Leaked recordings challenge Greek account of deadly shipwreck",
         "Hundreds are thought to have died when the Adriana sank in international waters two years ago.  "
        ],
        [
         "41",
         "https://www.bbc.com/news/articles/c9de53y43lvo",
         "New search for missing six-year-old Kyran Durnin",
         "A property in Drogheda, County Louth, is searched for a boy who is missing, presumed murdered."
        ],
        [
         "42",
         "https://www.bbc.com/news/articles/cdrxy1zp8mxo",
         "Bosnian-Serb leader sentenced to jail in landmark trial",
         "Dodik's trial had been widely seen as a test for the Balkan nation's weak central government."
        ],
        [
         "43",
         "https://www.bbc.com/news/articles/cwygwzd4wggo",
         "British man dies and one injured while climbing in Norway",
         "Local media reported an avalanche fell while the men scaled a frozen waterfall on Friday."
        ],
        [
         "44",
         "https://www.bbc.com/news/articles/c70eky7l6pxo",
         "Romanian far-right presidential hopeful detained on street and indicted",
         "Prosecutors are investigating a series of alleged offences, after Georgescu came from nowhere to win the first round."
        ],
        [
         "45",
         "https://www.bbc.com/news/articles/cdel95e0j9ko",
         "Man released without charge after woman found dead on ferry",
         "Police have released without charge a man in connection with the death of a woman on board a ferry."
        ],
        [
         "46",
         "https://www.bbc.com/news/articles/cx2g51lpzvko",
         "How Many Miles to Babylon? author Jennifer Johnston dies ",
         "The President of Ireland has led tributes to the award-winning novelist and playwright Jennifer Johnston. "
        ],
        [
         "47",
         "https://www.bbc.com/news/articles/c4g03yxdx3ro",
         "In pictures: Prayers for the Pope around the world",
         "Around the world, prayers and services are being held in support of the pontiff."
        ],
        [
         "48",
         "https://www.bbc.com/news/world-europe-18023383",
         "What is Nato and how much do members spend on defence?",
         "The UK says it will boost defence spending, as arguments continue about whether Ukraine could join Nato."
        ],
        [
         "49",
         "https://www.bbc.com/news/articles/ckgdy6750w1o",
         "Man arrested after woman found dead on board ferry in RoI",
         "A man has been arrested in connection with the investigation and is currently detained."
        ]
       ],
       "shape": {
        "columns": 3,
        "rows": 109
       }
      },
      "text/html": [
       "<div>\n",
       "<style scoped>\n",
       "    .dataframe tbody tr th:only-of-type {\n",
       "        vertical-align: middle;\n",
       "    }\n",
       "\n",
       "    .dataframe tbody tr th {\n",
       "        vertical-align: top;\n",
       "    }\n",
       "\n",
       "    .dataframe thead th {\n",
       "        text-align: right;\n",
       "    }\n",
       "</style>\n",
       "<table border=\"1\" class=\"dataframe\">\n",
       "  <thead>\n",
       "    <tr style=\"text-align: right;\">\n",
       "      <th></th>\n",
       "      <th>link</th>\n",
       "      <th>headline</th>\n",
       "      <th>summary</th>\n",
       "    </tr>\n",
       "  </thead>\n",
       "  <tbody>\n",
       "    <tr>\n",
       "      <th>0</th>\n",
       "      <td>https://www.bbc.com/news/articles/c70wnjvj1x0o</td>\n",
       "      <td>UK and France to present Ukraine peace plan to...</td>\n",
       "      <td>Sir Keir Starmer also says he believes the US ...</td>\n",
       "    </tr>\n",
       "    <tr>\n",
       "      <th>1</th>\n",
       "      <td>https://www.bbc.com/news/articles/ce34v17dw53o</td>\n",
       "      <td>His name was in a child abuse diary - now his ...</td>\n",
       "      <td>Former surgeon Joël Le Scouarnec is accused of...</td>\n",
       "    </tr>\n",
       "    <tr>\n",
       "      <th>2</th>\n",
       "      <td>https://www.bbc.com/news/articles/cgkmg3kmmero</td>\n",
       "      <td>Kurdish group PKK declares ceasefire with Turkey</td>\n",
       "      <td>The PKK calls for the release of its jailed le...</td>\n",
       "    </tr>\n",
       "    <tr>\n",
       "      <th>3</th>\n",
       "      <td>https://www.bbc.com/news/articles/c8x4qn74z2vo</td>\n",
       "      <td>'Our son died in Benidorm - we still don't kno...</td>\n",
       "      <td>Nathan Osman's family say attempts to use his ...</td>\n",
       "    </tr>\n",
       "    <tr>\n",
       "      <th>4</th>\n",
       "      <td>https://www.bbc.com/news/articles/cgr2g4n4wvdo</td>\n",
       "      <td>'Trump and Vance were so rude': Ukrainians rea...</td>\n",
       "      <td>The more the country is attacked, the more uni...</td>\n",
       "    </tr>\n",
       "    <tr>\n",
       "      <th>...</th>\n",
       "      <td>...</td>\n",
       "      <td>...</td>\n",
       "      <td>...</td>\n",
       "    </tr>\n",
       "    <tr>\n",
       "      <th>104</th>\n",
       "      <td>https://www.bbc.com/news/articles/cjev2j70v19o</td>\n",
       "      <td>Trump calls Zelensky a 'dictator' as rift betw...</td>\n",
       "      <td>The comments come as the latest salvo in a pub...</td>\n",
       "    </tr>\n",
       "    <tr>\n",
       "      <th>105</th>\n",
       "      <td>https://www.bbc.com/news/articles/cvgwddmjyvzo</td>\n",
       "      <td>Trump says Russia 'has the cards' in Ukraine p...</td>\n",
       "      <td>Trump told the BBC that he trusted that Moscow...</td>\n",
       "    </tr>\n",
       "    <tr>\n",
       "      <th>106</th>\n",
       "      <td>https://www.bbc.com/news/articles/cj91xgylkwlo</td>\n",
       "      <td>Georgia's richest man said to be moving funds ...</td>\n",
       "      <td>The pro-Russian businessman is reported to be ...</td>\n",
       "    </tr>\n",
       "    <tr>\n",
       "      <th>107</th>\n",
       "      <td>https://www.bbc.com/news/articles/cx2e9w0n3pxo</td>\n",
       "      <td>Pope's health slightly better, says Vatican</td>\n",
       "      <td>The 88-year-old pontiff was admitted to hospit...</td>\n",
       "    </tr>\n",
       "    <tr>\n",
       "      <th>108</th>\n",
       "      <td>https://www.bbc.com/news/articles/c62z3vxjplpo</td>\n",
       "      <td>SpaceX rocket debris crashes into Poland</td>\n",
       "      <td>Debris from a Space X Falcon 9 rocket lit up s...</td>\n",
       "    </tr>\n",
       "  </tbody>\n",
       "</table>\n",
       "<p>109 rows × 3 columns</p>\n",
       "</div>"
      ],
      "text/plain": [
       "                                               link  \\\n",
       "0    https://www.bbc.com/news/articles/c70wnjvj1x0o   \n",
       "1    https://www.bbc.com/news/articles/ce34v17dw53o   \n",
       "2    https://www.bbc.com/news/articles/cgkmg3kmmero   \n",
       "3    https://www.bbc.com/news/articles/c8x4qn74z2vo   \n",
       "4    https://www.bbc.com/news/articles/cgr2g4n4wvdo   \n",
       "..                                              ...   \n",
       "104  https://www.bbc.com/news/articles/cjev2j70v19o   \n",
       "105  https://www.bbc.com/news/articles/cvgwddmjyvzo   \n",
       "106  https://www.bbc.com/news/articles/cj91xgylkwlo   \n",
       "107  https://www.bbc.com/news/articles/cx2e9w0n3pxo   \n",
       "108  https://www.bbc.com/news/articles/c62z3vxjplpo   \n",
       "\n",
       "                                              headline  \\\n",
       "0    UK and France to present Ukraine peace plan to...   \n",
       "1    His name was in a child abuse diary - now his ...   \n",
       "2     Kurdish group PKK declares ceasefire with Turkey   \n",
       "3    'Our son died in Benidorm - we still don't kno...   \n",
       "4    'Trump and Vance were so rude': Ukrainians rea...   \n",
       "..                                                 ...   \n",
       "104  Trump calls Zelensky a 'dictator' as rift betw...   \n",
       "105  Trump says Russia 'has the cards' in Ukraine p...   \n",
       "106  Georgia's richest man said to be moving funds ...   \n",
       "107        Pope's health slightly better, says Vatican   \n",
       "108          SpaceX rocket debris crashes into Poland    \n",
       "\n",
       "                                               summary  \n",
       "0    Sir Keir Starmer also says he believes the US ...  \n",
       "1    Former surgeon Joël Le Scouarnec is accused of...  \n",
       "2    The PKK calls for the release of its jailed le...  \n",
       "3    Nathan Osman's family say attempts to use his ...  \n",
       "4    The more the country is attacked, the more uni...  \n",
       "..                                                 ...  \n",
       "104  The comments come as the latest salvo in a pub...  \n",
       "105  Trump told the BBC that he trusted that Moscow...  \n",
       "106  The pro-Russian businessman is reported to be ...  \n",
       "107  The 88-year-old pontiff was admitted to hospit...  \n",
       "108  Debris from a Space X Falcon 9 rocket lit up s...  \n",
       "\n",
       "[109 rows x 3 columns]"
      ]
     },
     "execution_count": 13,
     "metadata": {},
     "output_type": "execute_result"
    }
   ],
   "source": [
    "import time\n",
    "\n",
    "def get_section_articles(browser:webdriver.Firefox, article_acc:pd.DataFrame):\n",
    "    # next page button is not disabled\n",
    "    next_page = True\n",
    "\n",
    "    while next_page:\n",
    "        # waits for content to load\n",
    "        time.sleep(0.01)\n",
    "\n",
    "        # excrats current page articles\n",
    "        article_acc = pd.concat([article_acc, get_page_articles(browser)])\n",
    "\n",
    "        # gets next page button element\n",
    "        next_button = browser.find_element(By.CSS_SELECTOR, '[data-testid=\"pagination-next-button\"]')\n",
    "\n",
    "        # clicks on the button, if not possible then makes it possible\n",
    "        if next_button.get_attribute('disabled') != None:\n",
    "            next_page = False\n",
    "        else:\n",
    "            try:\n",
    "                next_button.click()\n",
    "            except:\n",
    "                browser.execute_script(\"document.getElementById('sp_message_container_1192447').style.display = 'none';\")\n",
    "                browser.execute_script(\"var element = document.getElementById('cookiePrompt'); if (element) { element.remove(); }\")\n",
    "                next_button.click()\n",
    "\n",
    "    return article_acc\n",
    "\n",
    "# starts browser and goes the website\n",
    "browser = webdriver.Firefox()\n",
    "browser.get('https://www.bbc.com/news/world/europe')\n",
    "\n",
    "articles = get_section_articles(browser, pd.DataFrame()).drop_duplicates(subset='link').reset_index(drop=True)\n",
    "\n",
    "# closes Firefox when done\n",
    "browser.quit()\n",
    "\n",
    "articles"
   ]
  },
  {
   "cell_type": "markdown",
   "metadata": {},
   "source": [
    "De skrabede artikler fra [https://www.bbc.com/news/world/europe](https://www.bbc.com/news/world/europe) kan ses i dataframen ovenfor.\n",
    "\n",
    "Med en funktion til at skrabe alle artiklerne fra en given subsection, bruger jeg nu ``ray`` biblioteket til at parallelisere denne funktion, så jeg hurtigere kan skrabe flere subsections. Nedenfor skraber jeg yderligere artikler fra subsectionerne: US & Canada, UK, Australia, Asia, Africa, Latin America og Middle East."
   ]
  },
  {
   "cell_type": "code",
   "execution_count": 14,
   "metadata": {},
   "outputs": [
    {
     "name": "stderr",
     "output_type": "stream",
     "text": [
      "2025-03-02 18:43:35,584\tINFO worker.py:1841 -- Started a local Ray instance.\n"
     ]
    },
    {
     "data": {
      "application/vnd.microsoft.datawrangler.viewer.v0+json": {
       "columns": [
        {
         "name": "index",
         "rawType": "int64",
         "type": "integer"
        },
        {
         "name": "link",
         "rawType": "object",
         "type": "string"
        },
        {
         "name": "headline",
         "rawType": "object",
         "type": "string"
        },
        {
         "name": "summary",
         "rawType": "object",
         "type": "unknown"
        }
       ],
       "conversionMethod": "pd.DataFrame",
       "ref": "621c0daf-2693-4760-9179-1c5de4507fa8",
       "rows": [
        [
         "0",
         "https://www.bbc.com/news/articles/cdxqnxw6z73o",
         "Protesters target JD Vance in Vermont after clash with Zelensky",
         "They held up pro-Ukraine signs on the route that the vice-president and his family were expected to take to go skiing. "
        ],
        [
         "1",
         "https://www.bbc.com/news/articles/cnvz566n523o",
         "Most Republicans laud Trump after Zelensky showdown, but some express dismay",
         "The majority of Republicans say Zelensky was at fault for the spat, but one accused the president of \"embracing Putin\"."
        ],
        [
         "2",
         "https://www.bbc.com/news/articles/cvgwwyrnpzdo",
         "Gene Hackman loved acting but 'hated everything that went with it'",
         "Those who knew him discuss his brilliance, as well as his disdain for the trappings of Hollywood."
        ],
        [
         "3",
         "https://www.bbc.com/news/articles/cd9208qv1kzo",
         "Private spacecraft Blue Ghost lands on Moon",
         "It was launched by Firefly Aerospace in January with the mission of exploring the Sea of Crises."
        ],
        [
         "4",
         "https://www.bbc.com/news/articles/c1d4r2nk4yyo",
         "R&B hitmaker Angie Stone dead in car crash",
         "The Wish I Didn't Miss You singer was involved in a collision in Alabama following a performance."
        ],
        [
         "5",
         "https://www.bbc.com/news/articles/c1d4r9yvqzpo",
         "How criticism of Zelensky's clothing made it to the Oval Office",
         "The Ukrainian president's military-style attire was questioned by a Maga media star before he was upbraided by President Trump and JD Vance."
        ],
        [
         "6",
         "https://www.bbc.com/news/articles/c93kq2kldrqo",
         "How to watch the Oscars and who is nominated",
         "Who will win, what can we expect and what has caused the most controversy this awards season?"
        ],
        [
         "7",
         "https://www.bbc.com/news/articles/c0egl7l40z7o",
         "Former Governor Andrew Cuomo announces run for New York City mayor",
         "It marks a potential political comeback after Cuomo resigned amid a barrage of sexual assault claims."
        ],
        [
         "8",
         "https://www.bbc.com/news/articles/czx7kez4vx2o",
         "Cuts to national parks and forests met with backlash",
         "Employees who maintained America's most wild places say they are concerned for public safety and for wildlife.  "
        ],
        [
         "9",
         "https://www.bbc.com/news/articles/c36w7e4kglzo",
         "Pilates, painting and bike rides: Gene Hackman's life in Santa Fe",
         "After leaving Hollywood, Gene Hackman retired in Santa Fe, New Mexico, where he became a fixture in the community."
        ],
        [
         "10",
         "https://www.bbc.com/news/videos/cdel2npwe50o",
         "Watch: Angry exchanges between Trump and Zelensky at White House",
         "The US president accused the Ukrainian leader of being disrespectful in a tense meeting in the Oval Office."
        ],
        [
         "11",
         "https://www.bbc.com/news/articles/cn9v1l80350o",
         "Trump to order English as official US language",
         "The United States has never had an official language since it was founded nearly 250 years ago."
        ],
        [
         "12",
         "https://www.bbc.com/news/videos/c2ljkny0j00o",
         "Watch: Protesters target JD Vance in Vermont",
         "The vice-president and his family reportedly moved to an undisclosed location from their planned ski resort as a result."
        ],
        [
         "13",
         "https://www.bbc.com/news/videos/crewqz93yzqo",
         "Moment Zelensky walks out of White House as press conference is cancelled",
         "The president ignored the questions that were shouted as he was leaving the White House."
        ],
        [
         "14",
         "https://www.bbc.com/news/videos/c0rzzjq4vpvo",
         "Watch: Decoding the PM's meeting with Donald Trump",
         "The handshake, the jokes and diplomacy by flattery - analysing Starmer's first visit to the White House."
        ],
        [
         "15",
         "https://www.bbc.com/news/videos/c36wwzpj1w7o",
         "BBC Verify: Viral Donald Trump Jr audio highly likely AI fake",
         "A clip of Donald Trump Jr allegedly saying on his podcast that the US should have sent arms to Russia rather than Ukraine was very likely generated with AI, experts say."
        ],
        [
         "16",
         "https://www.bbc.com/news/videos/c0mwwpwrw14o",
         "Watch: Trump welcomes Starmer to the White House",
         "The highly anticipated meeting between the two leaders began with a question and answer with the press. "
        ],
        [
         "17",
         "https://www.bbc.com/news/articles/c24110m30ddo",
         "In the US, DEI is under attack. But under a different name, it might live on",
         "Donald Trump has promised to \"terminate\" diversity programmes. But a rebrand might yet save them."
        ],
        [
         "18",
         "https://www.bbc.com/news/articles/cewkg71d8rlo",
         "Vance took the lead attacking Zelensky. Why?",
         "Is the US vice-president doing Trump's bidding or looking to the future?"
        ],
        [
         "19",
         "https://www.bbc.com/news/articles/c2019j0w9glo",
         "What it was like in the room during Oval Office shouting match",
         "BBC reporters witnessed the extraordinary exchange between Donald Trump and  Volodymyr Zelensky firsthand."
        ],
        [
         "20",
         "https://www.bbc.com/news/articles/cvgee7rl24ro",
         "Key takeaways from Starmer's talks with Trump",
         "A surprise letter from King Charles III to a possible trade deal - the key moments from Starmer's visit to the White House."
        ],
        [
         "21",
         "https://www.bbc.com/news/articles/cvgeq3y1825o",
         "RFK's measles response under scrutiny as deadly outbreak frightens Texas parents",
         "Local health experts wish US Health Secretary Robert Kennedy would emphasize the importance of vaccines. "
        ],
        [
         "22",
         "https://www.bbc.com/news/articles/c9dejydynngo",
         "Trump accuses Zelensky of 'gambling with World War Three'",
         "The US president clashes with Ukraine's leader in a fiery Oval Office exchange over ending the war with Russia."
        ],
        [
         "23",
         "https://www.bbc.com/news/videos/cqly6ydypzro",
         "'Unpleasant to see': Ukrainians react to Trump and Zelensky's spat",
         "The meeting, which was meant to end with a minerals deal signing, instead descended into an argument over the Ukraine war."
        ],
        [
         "24",
         "https://www.bbc.com/news/articles/cqlyy1rld0ko",
         "Hackman and wife likely died 10 days before bodies found, sheriff says",
         "US investigators are still trying to establish how Oscar-winning actor Gene Hackman and his wife Betsy died."
        ],
        [
         "25",
         "https://www.bbc.com/news/articles/cyveq30lmdlo",
         "Illinois man convicted for hate crime murder of Palestinian boy ",
         "Prosecutors said the man targeted the six-year-old and his mother over their Muslim faith following the Israel-Hamas war."
        ],
        [
         "26",
         "https://www.bbc.com/news/articles/cy7xxlr2pggo",
         "Eleven things Trump and his team did this week",
         "President Trump continues to play global disruptor while the world does its best to engage with him."
        ],
        [
         "27",
         "https://www.bbc.com/news/videos/cx2g7yedg74o",
         "'Complete, utter disaster': Lindsey Graham reacts to Zelensky meeting",
         "The US senator, a formerly staunch supporter of Ukraine, suggested President Volodymyr Zelensky should resign."
        ],
        [
         "28",
         "https://www.bbc.com/news/articles/cd7ev3wygl4o",
         "Francis Ford Coppola named worst director at Razzies",
         "The filmmaker said he chose to not follow \"the gutless rules\" laid down by the industry in Megalopolis."
        ],
        [
         "29",
         "https://www.bbc.com/news/articles/ce9882yv2nyo",
         "Lil Baby criticises 'nonsense' link between music video and killings",
         "US police say a rapper's \"cowardly\" actions in a \"rival gang stronghold\" led to a spate of violence."
        ],
        [
         "30",
         "https://www.bbc.com/news/articles/clydd7zeye7o",
         "US judge says mass firings of some federal workers likely illegal",
         "Thousands of workers have been fired by the Trump administration as part of its effort to slash the federal workforce."
        ],
        [
         "31",
         "https://www.bbc.com/news/videos/c204400nq16o",
         "Demolition takes down record-breaking rollercoaster",
         "Once the world's tallest rollercoaster at 456ft (139m), Kingda Ka was demolished at Six Flags in New Jersey."
        ],
        [
         "32",
         "https://www.bbc.com/news/articles/c62zzd3zp50o",
         "'Trump thinks he can break us' - Ontario's Doug Ford makes bullish victory speech",
         "The leader of the Canadian province campaigned on the need to fight US President Donald Trump's threatened tariffs."
        ],
        [
         "33",
         "https://www.bbc.com/news/articles/cdell8n14x2o",
         "Hundreds in US climate agency fired in latest cuts",
         "Around 880 workers - including weather forecasters - are reported to have lost their jobs."
        ],
        [
         "34",
         "https://www.bbc.com/news/articles/cr52399eqgqo",
         "UK looks at Texas supermax prison for ideas to cut overcrowding",
         "The government wants to adopt a scheme which encourages inmates to gain qualifications and take jobs."
        ],
        [
         "35",
         "https://www.bbc.com/news/articles/clyderx4v8go",
         "US measles outbreak kills child for first time in a decade",
         "The child who died was unvaccinated during an outbreak that has infected more than 120 people."
        ],
        [
         "36",
         "https://www.bbc.com/news/videos/cge11x14py4o",
         "Marvellous views of Moon captured by private lunar lander",
         "Firefly Aerospace's Blue Ghost shuttle will attempt to make a descent on the lunar surface on 2 March."
        ],
        [
         "37",
         "https://www.bbc.com/news/articles/cx2gg4x4w14o",
         "Katy Perry to head to space on Blue Origin all-women flight",
         "The American singer will be joined by Lauren Sanchez, whose fiancee Jeff Bezos owns Blue Origin."
        ],
        [
         "38",
         "https://www.bbc.com/news/videos/ckgyyd304reo",
         "Drone lights up night rescue of teen trapped in a crevasse",
         "The 15-year-old was stuck between rocks for six hours after falling while climbing with his family."
        ],
        [
         "39",
         "https://www.bbc.com/news/articles/cq6yy9e368vo",
         "Trump administration unveils bird flu plan as egg prices soar",
         "A US bird flu epidemic has resulted in the deaths of tens-of-millions of poultry and strained the country's egg supply."
        ],
        [
         "40",
         "https://www.bbc.com/news/videos/c0kgg787erdo",
         "Watch: Tough guy to eccentric grandad - a look back at Hackman's greatest roles",
         "The much-celebrated actor's filmography includes Oscar-nominated dramas to comedic roles."
        ],
        [
         "41",
         "https://www.bbc.com/news/articles/cvgwwp2gd3jo",
         "Trump foreign aid freeze to stay for now, US Supreme Court chief rules",
         "The decision goes against a lower court judge's ruling that the government had to pay aid contractors."
        ],
        [
         "42",
         "https://www.bbc.com/news/articles/c778rp2je47o",
         "Michelle Trachtenberg, Gossip Girl and Buffy actress, dies aged 39",
         "Trachtenberg, 39, found fame in television series Buffy the Vampire Slayer, and later Gossip Girl."
        ],
        [
         "43",
         "https://www.bbc.com/news/articles/c170l0n8j54o",
         "Three possible paths to freedom: What's next for the Menendez brothers?",
         "The pair, who murdered their wealthy parents in 1989, are pursuing three possible routes that could see them leave prison. "
        ],
        [
         "44",
         "https://www.bbc.com/news/articles/c5y44gw5gpro",
         "Bezos focuses Washington Post opinion section on free markets and liberties",
         "The move marks a major shift and prompted the outlet's opinion editor David Shipley to resign."
        ],
        [
         "45",
         "https://www.bbc.com/news/videos/cy4vvdmxv1do",
         "Watch: Behind the scenes at the Oscars red carpet rollout",
         "The Academy Awards will take place on 2 March, with Conan O'Brien expected to host."
        ],
        [
         "46",
         "https://www.bbc.com/news/videos/cd655ynw91do",
         "Watch: Michelle Trachtenberg on the red carpet over the years",
         "The actress, best known for her roles in the TV series Buffy the Vampire Slayer and Gossip Girl, has died aged 39."
        ],
        [
         "47",
         "https://www.bbc.com/news/articles/c5yxvywr015o",
         "US Supreme Court hears arguments in 'straight discrimination' case",
         "Justices appeared sympathetic to a woman who claims she was denied jobs because she is heterosexual. "
        ],
        [
         "48",
         "https://www.bbc.com/news/articles/cq5zgvdz2z0o",
         "Trump says $5m 'gold card' immigration visas will 'sell like crazy'",
         "Trump say wealthy investors will buy the visas and create jobs in the US, while helping pay off US debt. "
        ],
        [
         "49",
         "https://www.bbc.com/news/articles/cn48z5q28vyo",
         "US congresswoman votes with baby in arms after proxy vote ban",
         "Unable to vote remotely due to congressional rules, the Colorado lawmaker now leads a bipartisan push for more flexibility for members."
        ]
       ],
       "shape": {
        "columns": 3,
        "rows": 859
       }
      },
      "text/html": [
       "<div>\n",
       "<style scoped>\n",
       "    .dataframe tbody tr th:only-of-type {\n",
       "        vertical-align: middle;\n",
       "    }\n",
       "\n",
       "    .dataframe tbody tr th {\n",
       "        vertical-align: top;\n",
       "    }\n",
       "\n",
       "    .dataframe thead th {\n",
       "        text-align: right;\n",
       "    }\n",
       "</style>\n",
       "<table border=\"1\" class=\"dataframe\">\n",
       "  <thead>\n",
       "    <tr style=\"text-align: right;\">\n",
       "      <th></th>\n",
       "      <th>link</th>\n",
       "      <th>headline</th>\n",
       "      <th>summary</th>\n",
       "    </tr>\n",
       "  </thead>\n",
       "  <tbody>\n",
       "    <tr>\n",
       "      <th>0</th>\n",
       "      <td>https://www.bbc.com/news/articles/cdxqnxw6z73o</td>\n",
       "      <td>Protesters target JD Vance in Vermont after cl...</td>\n",
       "      <td>They held up pro-Ukraine signs on the route th...</td>\n",
       "    </tr>\n",
       "    <tr>\n",
       "      <th>1</th>\n",
       "      <td>https://www.bbc.com/news/articles/cnvz566n523o</td>\n",
       "      <td>Most Republicans laud Trump after Zelensky sho...</td>\n",
       "      <td>The majority of Republicans say Zelensky was a...</td>\n",
       "    </tr>\n",
       "    <tr>\n",
       "      <th>2</th>\n",
       "      <td>https://www.bbc.com/news/articles/cvgwwyrnpzdo</td>\n",
       "      <td>Gene Hackman loved acting but 'hated everythin...</td>\n",
       "      <td>Those who knew him discuss his brilliance, as ...</td>\n",
       "    </tr>\n",
       "    <tr>\n",
       "      <th>3</th>\n",
       "      <td>https://www.bbc.com/news/articles/cd9208qv1kzo</td>\n",
       "      <td>Private spacecraft Blue Ghost lands on Moon</td>\n",
       "      <td>It was launched by Firefly Aerospace in Januar...</td>\n",
       "    </tr>\n",
       "    <tr>\n",
       "      <th>4</th>\n",
       "      <td>https://www.bbc.com/news/articles/c1d4r2nk4yyo</td>\n",
       "      <td>R&amp;B hitmaker Angie Stone dead in car crash</td>\n",
       "      <td>The Wish I Didn't Miss You singer was involved...</td>\n",
       "    </tr>\n",
       "    <tr>\n",
       "      <th>...</th>\n",
       "      <td>...</td>\n",
       "      <td>...</td>\n",
       "      <td>...</td>\n",
       "    </tr>\n",
       "    <tr>\n",
       "      <th>854</th>\n",
       "      <td>https://www.bbc.com/news/articles/cx25x2lvk7ro</td>\n",
       "      <td>Lebanon ceasefire deal extended as initial dea...</td>\n",
       "      <td>Lebanon and the US said the agreement will rem...</td>\n",
       "    </tr>\n",
       "    <tr>\n",
       "      <th>855</th>\n",
       "      <td>https://www.bbc.com/news/articles/czeprnw4repo</td>\n",
       "      <td>Lebanon says 22 killed by Israeli forces after...</td>\n",
       "      <td>It comes as the deadline passes for Israeli fo...</td>\n",
       "    </tr>\n",
       "    <tr>\n",
       "      <th>856</th>\n",
       "      <td>https://www.bbc.com/news/articles/c6267kyp0eko</td>\n",
       "      <td>'My beauty, you're home': Israeli women soldie...</td>\n",
       "      <td>The four women were taken hostage on 7 October...</td>\n",
       "    </tr>\n",
       "    <tr>\n",
       "      <th>857</th>\n",
       "      <td>https://www.bbc.com/news/articles/c8xqv5rqpyjo</td>\n",
       "      <td>Hamas names next Israeli hostages set to be re...</td>\n",
       "      <td>Four are due to be freed in a second exchange ...</td>\n",
       "    </tr>\n",
       "    <tr>\n",
       "      <th>858</th>\n",
       "      <td>https://www.bbc.com/news/articles/cqx92yzew88o</td>\n",
       "      <td>UN suspends movement in Houthi-held areas afte...</td>\n",
       "      <td>Talks with senior Houthi officials are underwa...</td>\n",
       "    </tr>\n",
       "  </tbody>\n",
       "</table>\n",
       "<p>859 rows × 3 columns</p>\n",
       "</div>"
      ],
      "text/plain": [
       "                                               link  \\\n",
       "0    https://www.bbc.com/news/articles/cdxqnxw6z73o   \n",
       "1    https://www.bbc.com/news/articles/cnvz566n523o   \n",
       "2    https://www.bbc.com/news/articles/cvgwwyrnpzdo   \n",
       "3    https://www.bbc.com/news/articles/cd9208qv1kzo   \n",
       "4    https://www.bbc.com/news/articles/c1d4r2nk4yyo   \n",
       "..                                              ...   \n",
       "854  https://www.bbc.com/news/articles/cx25x2lvk7ro   \n",
       "855  https://www.bbc.com/news/articles/czeprnw4repo   \n",
       "856  https://www.bbc.com/news/articles/c6267kyp0eko   \n",
       "857  https://www.bbc.com/news/articles/c8xqv5rqpyjo   \n",
       "858  https://www.bbc.com/news/articles/cqx92yzew88o   \n",
       "\n",
       "                                              headline  \\\n",
       "0    Protesters target JD Vance in Vermont after cl...   \n",
       "1    Most Republicans laud Trump after Zelensky sho...   \n",
       "2    Gene Hackman loved acting but 'hated everythin...   \n",
       "3          Private spacecraft Blue Ghost lands on Moon   \n",
       "4           R&B hitmaker Angie Stone dead in car crash   \n",
       "..                                                 ...   \n",
       "854  Lebanon ceasefire deal extended as initial dea...   \n",
       "855  Lebanon says 22 killed by Israeli forces after...   \n",
       "856  'My beauty, you're home': Israeli women soldie...   \n",
       "857  Hamas names next Israeli hostages set to be re...   \n",
       "858  UN suspends movement in Houthi-held areas afte...   \n",
       "\n",
       "                                               summary  \n",
       "0    They held up pro-Ukraine signs on the route th...  \n",
       "1    The majority of Republicans say Zelensky was a...  \n",
       "2    Those who knew him discuss his brilliance, as ...  \n",
       "3    It was launched by Firefly Aerospace in Januar...  \n",
       "4    The Wish I Didn't Miss You singer was involved...  \n",
       "..                                                 ...  \n",
       "854  Lebanon and the US said the agreement will rem...  \n",
       "855  It comes as the deadline passes for Israeli fo...  \n",
       "856  The four women were taken hostage on 7 October...  \n",
       "857  Four are due to be freed in a second exchange ...  \n",
       "858  Talks with senior Houthi officials are underwa...  \n",
       "\n",
       "[859 rows x 3 columns]"
      ]
     },
     "execution_count": 14,
     "metadata": {},
     "output_type": "execute_result"
    }
   ],
   "source": [
    "import ray\n",
    "\n",
    "# starts ray\n",
    "ray.shutdown()\n",
    "ray.init()\n",
    "\n",
    "# defines parallization funktion\n",
    "@ray.remote\n",
    "def get_section_articles_remote(section):\n",
    "    # Start browser\n",
    "    browser = webdriver.Firefox()\n",
    "    browser.get(section)\n",
    "\n",
    "    articles = get_section_articles(browser, pd.DataFrame())\n",
    "\n",
    "    # closes Firefox when done\n",
    "    browser.quit()\n",
    "\n",
    "    return articles\n",
    "\n",
    "sections = [\n",
    "    'https://www.bbc.com/news/us-canada',\n",
    "    'https://www.bbc.com/news/uk',\n",
    "    'https://www.bbc.com/news/world/africa',\n",
    "    'https://www.bbc.com/news/world/asia',\n",
    "    'https://www.bbc.com/news/world/australia',\n",
    "    'https://www.bbc.com/news/world/europe',\n",
    "    'https://www.bbc.com/news/world/latin_america',\n",
    "    'https://www.bbc.com/news/world/middle_east'\n",
    "]\n",
    "\n",
    "# start parallelization\n",
    "results = ray.get([get_section_articles_remote.remote(section) for section in sections])\n",
    "\n",
    "# combine the parallel results and remove duplicates\n",
    "articles = pd.concat(results).drop_duplicates(subset='link').reset_index(drop=True)\n",
    "articles\n"
   ]
  },
  {
   "cell_type": "markdown",
   "metadata": {},
   "source": [
    "Da jeg er endt op med en 800ish artikler, som var meningen ud fra opgavebeskrivelsen, vurdere jeg at det ser ud til at min funktion og paralleliseringen virker korrekt.\n",
    "\n",
    "Nu vil jeg så gemme dataen fra de skrabede artikler som en csv-fil."
   ]
  },
  {
   "cell_type": "code",
   "execution_count": 15,
   "metadata": {},
   "outputs": [],
   "source": [
    "articles.to_csv('bbc_articles.csv', index=False)"
   ]
  },
  {
   "cell_type": "markdown",
   "metadata": {},
   "source": [
    "## Opgave 3\n",
    "\n",
    "I denne opgave vil jeg undersøge de skrabede artikler fra forrige opgave, for at finde nogle attributes, som jeg kan bruge til at ekstrahere overskriften, forfatter, udgivelsestidpunkt og indhold fra en givent artikkel. Dette vil jeg bruge til at lave en funktion der tager linket til en artikel og returnere et dictionary med fornævnte informationer, for til sidst at køre denne funktion på alle de artikler jeg skrabede i forrige opgave.\n",
    "\n",
    "Nedenfor har jeg lavet funktion ``get_content`` som tager en Firefox browser og en URL, og returnere en dictionary med informationerne: overskrift, forfatter, udgivelsestidspunkt og indhold, fra artiklen. I funktionen har jeg impementeret error handling, så den er i stand til at lede efter informationer i forskellige formater, samt så den er i stand til at sætte den givne information til ``None`` hvis den ikke kan findes."
   ]
  },
  {
   "cell_type": "code",
   "execution_count": 21,
   "metadata": {},
   "outputs": [
    {
     "data": {
      "application/vnd.microsoft.datawrangler.viewer.v0+json": {
       "columns": [
        {
         "name": "index",
         "rawType": "int64",
         "type": "integer"
        },
        {
         "name": "headline",
         "rawType": "object",
         "type": "string"
        },
        {
         "name": "author",
         "rawType": "object",
         "type": "string"
        },
        {
         "name": "time",
         "rawType": "object",
         "type": "string"
        },
        {
         "name": "content",
         "rawType": "object",
         "type": "string"
        }
       ],
       "conversionMethod": "pd.DataFrame",
       "ref": "fad49632-406c-4274-b954-743c926ab927",
       "rows": [
        [
         "0",
         "UK and France to present Ukraine peace plan to Trump, PM says",
         "Jennifer McKiernan",
         "2025-03-02T15:27:11.903Z",
         "Prime Minister Sir Keir Starmer has said the UK and France will work with Ukraine \"on a plan to stop the fighting\" with Russia - and will then \"discuss that plan with the United States\".Ukrainian President Volodymyr Zelensky is attending a summit of European leaders, two days after a fiery exchange with US President Donald Trump in the White House.  Sir Keir told BBC One's Sunday with Laura Kuenssberg that his \"driving purpose\" right now was to act as a \"bridge\" between the two men.Asked about how he felt watching the spat in the White House, Sir Keir sought to play down the incident, saying \"nobody wants to see that\" and admitted he felt \"uncomfortable\". The PM's response was to pick up the phone to his counterparts Trump and Zelensky that same night, in an effort to \"get us back to the central focus\", he said.\"There are a number of different routes people can go down. One is to ramp up the rhetoric as to how outraged we all are or not.\"He said the other option was to \"roll up my sleeves\" and quickly phone both men - and then also to speak to French President Emmanuel Macron about the role that the leading nations of Europe would play.\"Because my reaction was we have to bridge this, we have to find a way that we can all work together because in the end we've had three years of bloody conflict now, we need to get to that lasting peace\". He also dismissed calls by SNP first minister John Swinney to cancel the invite for a second state visit to the UK by Trump.Sir Keir said: \"I'm not going to be diverted by the SNP or others trying to ramp up the rhetoric without really appreciating what is the single most important thing at stake here - we're talking about peace in Europe.\"The prime minister received support from Liberal Democrat leader Sir Ed Davey, who said the state visit should be used to secure guarantees for Ukraine. He said: \"I think we should use every single card that we have, and I think it should be made clear to the White House that the state visit would be a genuine one, we would welcome him here, but on condition that he steps up – that the US steps up to work with the UK and Europe to support and defend Ukraine.\"In his interview, Sir Keir was careful to avoid laying any blame for the row and insisted he was \"clear in my mind\" that Trump \"wants a lasting peace\", answering \"yes\" when asked directly if he believed Trump could be trusted.Zelensky could also be trusted, he added, but not Russian President Vladimir Putin - which is the reason the US needs to provide a security guarantee for any peace deal.The prime minister acknowledged that a European security guarantee would have to be led by a \"coalition of the willing\". Sir Keir said that \"Europeans have stood up in the last three years\" but that \"generally Europe needs to do more in its own defence and security\".Conservative leader Kemi Badenoch, also speaking on the Kuenssberg show, gave her backing to the PM over Ukraine, but said it was important to keep the US engaged.\"We need to make sure that America does not disengage, it is in their interest for peace now, if we all get dragged into an escalation, America will get dragged into it eventually,\" she told the BBC.Badenoch also repeated her call for the UK to raise defence spending further, saying it should reach 3% of national income by the end of this Parliament.Earlier this week, the PM announced he would cut the foreign aid budget to raise defence funding from 2.3% to 2.5% of national income by 2027, which led to the resignation of his International Development Minister Anneliese Dodds.The move came after Trump had called on Nato allies to increase defence spending to 5% of their respective national incomes.France spends 2.1% on defence and has pledged to double this by 2030.Sir Keir urged all European nations to review their defence budgets, saying: \"We've got to increase capability and we've got to co-ordinate more because in the Ukraine conflict we've seen that the co-ordination isn't there.\"Asked to explain what a European \"coalition of the willing\" was, he said: \"We need to be clear what a European security guarantee [in Ukraine] would look like.\"We've got to find those countries in Europe that are prepared to be a bit more forward-leaning.\"He said the UK and France were leading the thinking on it, but added: \"The more the better in this.\"Italian Prime Minister Giorgia Meloni was welcomed to Downing Street by the PM shortly befotre the summit, which Sir Keir said they were approaching \"with a very similar mindset\".Meloni spoke to reporters in Downing Street, saying: \"We are all very committed about a goal that we all want to achieve, which is a just and lasting peace in Ukraine. \"I think it is very, very important that we avoid the risk that the West divides and I think on this UK and Italy can play an important role in bridge-building.\"Sign up for our Politics Essential newsletter to read top political analysis, gain insight from across the UK and stay up to speed with the big moments. It'll be delivered straight to your inbox every weekday."
        ],
        [
         "1",
         "His name was in a child abuse diary - now his family listen to 'vile' testimony",
         "Laura Gozzi",
         "2025-03-02T00:16:19.424Z",
         "This story contains distressing details from the start When Mauricette Vinet speaks of her grandson, her voice grows warm with affection.\"He was a lovely little boy. He had a strong personality, for sure! But he always thought of others, always asked if he could help,\" says the French retiree, in her 80s.\"He loved to be out in the garden with his grandfather, picking green beans. He was a charming boy, Mathis,\" she adds.\"But, as you know, there was a 'before' - and there was an 'after'.\"Mauricette and her husband Roland are among the 267 plaintiffs who have pressed charges against Joël Le Scouarnec, the French former surgeon who is accused of abusing almost 300 people - mostly children, and almost all his patients - over the course of several decades. The trial started in Vannes, Brittany, on Monday. Le Scouarnec and Mathis only crossed paths once, when Mathis, aged 10, was hospitalised overnight at the clinic in the small French north-western town of Quimperlé. Le Scouarnec - a mild-mannered, respected gastroenterologist - told Mathis' parents the boy had to be kept overnight for checks.It turned out Mathis only had a stomach ache, and he was sent home the next day. But Mauricette is convinced the brief hospital stay changed Mathis forever.\"The unease set in, little by little. It happened gradually in the first year; then he stopped being happy and became aggressive with everyone,\" she tells the BBC.There is no way to establish conclusively whether Mathis' troubles were linked to the surgeon. What is certain is that in his teenage years Mathis distanced himself from his family and started using increasingly hard drugs; later, he spent time in detox and rehab centres.Then, in 2018, police knocked on his door. They told him a man named Joël Le Scouarnec had been arrested the year before for raping his six-year-old neighbour. During a search of the surgeon's home, police uncovered stacks of diaries and hard disks in which Le Scouarnec appeared to list hundreds more victims. Mathis' name was among them.Mauricette said Mathis told her police then read out an excerpt of the diary to him, which seemed to detail abuse Le Scouarnec's inflicted on him during his hospital stay.\"Then they left. Mathis shut the door and was left on his own, with no help. And that was the beginning of a descent into hell,\" Mauricette says.The police visit helped Mathis make sense of flashbacks that had long plagued him, Mauricette says: \"His malaise finally made sense; he traced it to the source.\"Mathis pressed charges against Le Scouarnec, but the revelations sent him down a spiral which came to an abrupt end on 14 April 2021, when Mathis overdosed and died. He was 24.Mauricette and her husband pressed charges the very next day, and they are now listed as \"indirect victims\" of Le Scouarnec. They have attended court in Vannes, north-western France, every day since the trial opened on Monday.It has not been an easy listen. The testimony of witnesses - mostly close relatives of Le Scouarnec, now 74 – painted a picture of an apparently ordinary middle-class family which, behind the scenes, has been ravaged by child abuse, incest and sexual violence.Annie, Le Scouarnec's sister, said she had been \"taught to keep quiet\". This week, it was all brought out in the open. All three sons of Le Scouarnec struck an almost apologetic tone as they told the court about their happy childhoods with a cultured, intellectual father who may not have been particularly present but who was kind, patient and supportive. \"We had holidays, nice houses - everything that constitutes a normal family,\" said one.The youngest son – who said he stopped contact with Le Scouarnec in 2017 \"to preserve the image of him I have from my childhood\" – said he now \"looked upon everyone with distrust\" and never left his own toddler alone with anybody. \"I am always worried that if my father could do this then my neighbour could, my partner, anyone,\" the 37-year-old said.Later the middle son – a tall man in his early 40s who admitted he was a \"not totally abstinent alcoholic\" – shared his memories of being abused at the hands of his paternal grandfather, Le Scouarnec's father.He was shocked as he was told for the first time in court that among his father's alleged victims were some of his childhood friends.And, on Friday, a stunned silence descended upon the courtroom as Le Scouarnec admitted he had abused his granddaughter - his eldest son's daughter when she was under five years old. Moments after the revelation, the 44-year-old and his partner left the room to be assisted by a psychologist.Other witnesses sparked consternation in the plaintiffs. Due to their sheer number, they sit in a separate room – a former university lecture hall – and follow proceedings via video link.Christian D., a friend of Le Scouarnec now aged 80, often answered questions from the court sarcastically and repeatedly minimised the events at the centre of the trial, declaring that he could not \"afford to cry over everything that happened in the world\".Later, he insisted that he \"never saw anything, therefore had nothing to say\" about the devastating allegations against his friend. When he stated that he would take in Le Scouarnec if he was ever to leave jail, many alleged victims in the lecture hall got up and left their seats.But most difficult for Mauricette and Roland was the much-awaited testimony of Marie-France L., Le Scouarnec's ex-wife.It has been alleged that she was at the centre of the omerta that reigned in the Le Scouarnec family, as she was repeatedly made aware of her husband's obsession with children but did nothing to stop it.Many lawyers and plaintiffs now believe she could have spared hundreds of children from being abused. Le Scouarnec's brother - who was also heard this week - openly wondered whether she had been too enamoured by the lifestyle provided by her husband's salary to speak out.Marie-France has always denied this and, at the stand, was frequently defiant in the face of the accusations levelled at her.\"Catastrophe has struck: she knows I am a paedophile,\" Le Scouarnec wrote as early as the mid-1990s in his diary. \"Perhaps he was talking about his conscience,\" Marie-France told the court.She also suggested her five-year-old niece – who Le Scouarnec has been convicted of raping – had most likely \"manipulated\" her husband. \"She's devious, that one. She loves the attention,\" she said. Later, she complained that she was being \"blamed\" for everything. Only when she was shown an indecent photo montage Le Scouarnec made of their son as a child did she look visibly shocked.\"That was absolute theatre,\" Mauricette told the BBC, adding that Christian D.'s testimony had been \"vile\" and that she thought Marie-France was living in \"pure denial\".As the gut-wrenching events played out, Le Scouarnec sat in his box – mostly reactionless, but at times noticeably agitated, his voice cracking as he asked his sons for forgiveness. He flinched when excerpts of his diary were read out, and averted his eyes as indecent photographs he took of his nieces were shown.His lawyers have said he admits to the \"majority\" of the charges against him, and that he will explain himself over the course of the trial, which is due to last until June. The alleged victims will take the stand from next week; Mauricette and Roland will do so in April. \"I will look at Le Scouarnec and tell him what is deep in my heart - he killed my grandson,\" Mauricette says.\"Not with a gun, but he killed him,\" she adds. \"He's going to get 20 years, but his victims... will have to live with this their whole lives.\"Their sentences will be longer than his.\"Throughout the week, over in the victims' hall, people came and went, but the majority stayed for hours on end each day.As descriptions of trauma and abuse poured in, one middle-aged woman covered her face with her hand and kept it there a long time. Next to her, a young man rubbed his eyes repeatedly, then stood up and left."
        ],
        [
         "2",
         "Kurdish group PKK declares ceasefire with Turkey",
         "David Mercer",
         "2025-03-02T00:33:45.194Z",
         "Outlawed Kurdish group the PKK has declared a ceasefire with Turkey after its jailed leader Abdullah Ocalan called on the movement to lay down its arms and dissolve.In Saturday's statement, the PKK said it hoped Turkey would release Ocalan, who has been imprisoned in solitary confinement since 1999, so he could lead a process of disarmament.It follows his call this week aimed at ending four decades of armed struggle in south-eastern Turkey in which tens of thousands of people have been killed.His announcement came months after Devlet Bahceli, the leader of Turkey's ultra-nationalist MHP party and an ally of the Turkish government, launched an initiative to bring an end to the conflict.The PKK - which stands for the Kurdistan Workers' Party - has waged an insurgency since 1984, with the initial aim of carving out an independent homeland for Kurds, who account for about 20% of Turkey's 85 million people. The group has since moved away from its separatist goals, and is now pushing for more autonomy and greater Kurdish rights.It is banned as a terrorist group in Turkey, the EU, UK and US.Who are the Kurds?Ocalan - affectionately referred to as Apo by Kurdish nationalists - met MPs from a pro-Kurdish party this week on Imrali, an island in the Sea of Marmara, south-west of Istanbul, where he is imprisoned.\"In order to pave the way for the implementation of leader Apo's call for peace and democratic society, we are declaring a ceasefire effective from today,\" the PKK executive committee said in a statement on Saturday, quoted by the pro-PKK ANF news agency.\"None of our forces will take armed action unless attacked,\" it added.Turkey's President Recep Tayyip Erdogan said later on Saturday that military operations would resume against the PKK if \"promises given [by the group] are not kept\" and the disarmament process stalled.The PKK said Ocalan's prison conditions must be eased, adding he \"must be able to live and work in physical freedom and be able to establish unhindered relationships with anyone he wants, including his friends\".Calling for disarmament, Ocalan had appealed to members of the PKK in a letter read out by Dem party members Ahmet Turk and Pervin Buldan in both Kurdish and Turkish.He said \"all groups must lay down their arms and the PKK must dissolve itself\", adding that his movement was formed primarily because \"the channels of democratic politics were closed\".However, Bahceli, backed by positive signals from Erdogan and other political parties, had created the right environment for the PKK to lay down its arms, Ocalan added.Kurdish leaders largely welcomed the development. Local reports said thousands of people gathered to watch the statement on big screens in the cities of Diyarbakir and Van in the predominantly Kurdish south-east.However, significant questions remain among both the Kurdish and Turkish public over what the next steps might be - and not everyone was convinced things would change.Last week, senior PKK commander Duran Kalkan said Turkey's ruling party, the AKP, was not looking for a solution but to \"take over, destroy and annihilate\".Turkish-backed forces in north-eastern Syria have intensified their campaign against Kurdish forces and last month called on Syria's new leaders to eliminate the Kurdish-led Syrian Democratic Forces.Pro-Kurdish politicians have been targeted by a wave of arrests and jail sentences in recent years in Turkey.Some 40,000 people have died since the PKK's insurgency began.There was a spike in violence in south-eastern Turkey from 2015 to 2017 when a two-and-a-half year ceasefire broke down.More recently, in October the PKK claimed an attack on the Turkish Aerospace Industries (TAI) headquarters near Ankara which left five people dead."
        ],
        [
         "3",
         "'Our son died in Benidorm - we still don't know what happened'",
         "Stephen Fairclough",
         "2025-03-02T07:02:54.302Z",
         "The family of a father-of-four who died while on holiday in Benidorm are flying to Spain to try and get answers about what happened in the hours before his death.The body of Nathan Osman, 30, was found at the foot of a remote cliff on the outskirts of Benidorm less than 24 hours after he arrived on holiday with friends in September.His family said attempts to use his bank cards were made the day after he died and fear others were involved before his death.The Spanish authorities have agreed to meet with Nathan's family, who do not believe there has been an adequate investigation into what happened to him.Nathan's brother Lee Evans and his sister Alannah are flying to Benidorm on Sunday, to try and speak directly with police about the investigation.\"We've been totally abandoned,\" Lee said. \"There's been zero investigation and we are fighting for answers.\"Police in Benidorm have not responded to a request to comment. Nathan, from Pontypridd, Rhondda Cynon Taf, had made a last minute decision to join his friends on a trip to Benidorm in September 2024.The devoted dad had arrived on 27 September and after spending time with his friends, said he would walk back to his hotel on his own to sleep, because he was tired.The following morning, his bed had not been slept in. Later that day, his body was found at the foot of a cliff by an off-duty policeman on a waterbike.Lee does not believe Nathan made the journey to the remote location in the opposite direction to his hotel on his own, and said it would take an hour to walk up there. He added Nathan had \"no reason to be up there\". \"We strongly believe he was taken up there, whether it was by taxi or against his own will,\" Lee said. \"And something has happened for him to be found where he was found.\"The family said the day after his death attempts were made to use Nathan's bank cards, but this was not followed up by the authorities.Alannah and Lee have also been tracing Nathan's known movements on the night. They said he had been on a video call with one of his friends until his phone battery ran out.Carrying out their own investigations, the family discovered Nathan on public CCTV on the promenade, where they said he did not appear significantly intoxicated. They have found other premises with CCTV, but said the owners would not pass on any recordings without a request from the Spanish authorities. The family said they had repeatedly tried to find out how the investigation into Nathan's death was progressing, but have been met with silence.They recently received a police file which Alannah said was \"empty\", with the case described as closed.Nathan's mother Elizabeth said there was \"no empathy\" from the Spanish police immediately after his death and claimed they were \"treated like dogs\". Elizabeth said she had to identify her son by being shown a photo of a tattoo on his torso.She said not knowing how he ended up at the remote location is torturous.\"Our boy deserves answers and we as a family deserve answers. Nathan wasn't a drunkard who'd go out and forget about everything. Nathan was really with it,\" she said.\"Not knowing about that last hour or two before his death, it's eating us away, day in day out, from the time we get up to the time we go to bed. We live this nightmare.\"Nathan's father Jonathan said: \"They've done nothing, nothing at all. It's just a total disregard for his life in every kind of way.\"The family said they needed to travel to Benidorm because of their frustration and to hand police the information they have gathered about the time between Nathan leaving his friends and the discovery of his body.The Spanish authorities have agreed to meet them and discuss their concerns.Lee said the family will not give up in its quest to find out what happened.\"We'll keep going and going until we find out why - and how he got up there,\" he said.A spokesperson for the UK Foreign, Commonwealth and Development office said: \"We are supporting the family of a British man who has died in Spain and are in contact with the local authorities.\""
        ],
        [
         "4",
         "'Trump and Vance were so rude': Ukrainians react to disastrous White House meeting",
         "James Waterhouse",
         "2025-03-01T12:03:47.610Z",
         "Whether or not President Volodymyr Zelensky was ambushed or should have been more diplomatic in the Oval Office, it was a disastrous visit for Ukraine.For those watching in Kyiv, the future of their country hung in the balance.\"It was an emotional conversation, but I understand our president,\" Yulia tells me next to Kyiv's golden-domed St Sofia's cathedral.\"Maybe it wasn't diplomatic, but it was sincere. It's about life, we want to live.\"Yulia reflects a political pattern in Ukraine: the more the country is attacked, the more unity there is.Before the full-scale invasion in 2022, President Zelensky's trust rating was 37%. Afterwards, it rocketed to 90%.Before Donald Trump returned to office at the start of 2025, it was 52%. After he blamed Ukraine for starting the war, it hit 65%.\"They [Donald Trump and JD Vance] were so rude,\" says 30-year-old Andriy. \"They don't respect the people of Ukraine.\"\"It looks like Washington supports Russia!\" observes Dmytro, 26.You wonder what the last 24 hours has done to President Zelensky's popularity.\"When the situation becomes worse, we have another rallying around the flag,\" explains Volodymyr Paniotto, director of the Kyiv International Institute of Sociology which conducted some of the polling.World leaders' popularity often wanes over time, and Mr Paniotto says President Zelensky has not been immune.His ratings especially took a hit with Ukraine's failed counteroffensive of 2023, and his sacking a year later of the popular commander in chief of his armed forces, Valeriy Zaluzhnyi.But Donald Trump's new, transactional, often-hostile approach to Ukraine has forced the country to unite and brace for further uncertainty.Not least with his warming to Russia.The initial reaction was that of shock,\" says opposition MP Inna Sovsun.\"It was difficult to watch a president who's been a victim of Russian aggression being attacked by the leader of the free world,\" she adds. \"It's painful.\"Ukrainian TV channels reported yesterday's scenes in a more measured way: that a minerals deal between Ukraine and the US was simply not signed.Perhaps, given it didn't include the American security guarantees that Kyiv and Europe desperately want, it wasn't as tantalising for Zelensky as had been suggested.\"We need to find stronger allies in Europe and Canada, Australia and Japan, who've all been supporting us,\" argues Sovsun.There are clearly deep feelings of resentment between Washington and Kyiv. However, Sovsun doesn't think Ukraine should give up on negotiations, but should instead reframe the debate.\"It's important to find the right mediator,\" she says. \"Someone Trump can recognise, but someone we trust too. Someone like Georgia Meloni of Italy.\"Under no circumstances should we agree to calls for the president to resign, and I'm saying that as an opposition MP. That defies the very idea of democracy.\"Follow live coverage and analysisSteve Rosenberg: Vladimir Putin can afford to sit back and watch events unfoldJeremy Bowen: Trump-Zelensky row signals looming crisis between Europe and USAfter White House clash, Starmer faces decision about who he can trustHow the Trump-Zelensky talks collapsed in 10 fiery minutesPresident Zelensky hoped his Washington visit would lead to a deeper co-operation with the US which could, in turn, bring a lasting peace. Something Sovsun thinks nobody wants more than Ukrainians.\"We are the ones who are suffering, it's extremely difficult to live under this stress,\" she adds. \"Just this morning, I read that my friend's son was killed, his second son in this war.\"What the MP and countless Ukrainians don't want is a rushed settlement. Attempted ceasefires with Russia in 2014 and 2015 only allowed Moscow to prepare for its full scale-invasion years later.Ukrainian MP Ivanna Klympush-Tsyntsadze anticipated a second Trump presidency being less sympathetic to her country's cause, but not to this extent.\"This mineral agreement does not oblige America to help us militarily, or to upscale or continue the support it's currently giving,\" she says.While there is still parliamentary unity behind President Zelensky and suspended elections, MPs like Klympush-Tsyntsadze have been calling for more involvement in negotiations.Her European Solidarity Party's chairman is former President Petro Poroshenko, a fierce rival to Zelensky.He was even recently sanctioned by Ukraine's leader over what Ukraine's security service labelled as \"threats to national security\" and \"creating obstacles to economic development\". Mr Poroshenko said it was \"politically motivated\".Despite this, the former president said he recognised Zelensky's legitimacy as leader, to combat both American and Russian claims to the contrary.As sirens wail and missiles slam into cities, this is a war still raging, despite all of the talk of ending it.Russia is not backing down on its demands for Ukraine's political capitulation and the complete control of four regions.\"This war is not for some area, town or treeline in the east,\" says Taras Chmut, head of the Come Back Alive foundation.After Russia invaded Crimea in 2014, the organisation was set up to crowdsource military equipment for fighting Ukrainian troops.\"This is the war that will define the world order for future decades. Whether this world will still exist depends on how this war goes,\" he says.As he ruthlessly pursues his \"America First\" policy, Trump wants Europe to provide security on a continent where he is less willing to do so. But Europe is divided on this, and where there is agreement it is that peace is not possible without the US as a safety net.\"Europe and the world once again want to close their eyes and believe in a miracle, but miracles do not happen,\" says Mr Chmut.\"Countries must accept the reality of the situation and do something about it. Otherwise, you will be the one to disappear next - after Ukraine.\"Additional reporting by Hanna Chornous and Svitlana Libet."
        ],
        [
         "5",
         "Pope absent from St Peter's Square for third week",
         "Sarah Rainsford",
         "2025-03-02T12:12:56.742Z",
         "For the third week in a row, Pope Francis has been unable to deliver his traditional Angelus prayer in person, with the Vatican publishing his written comments instead.The Vatican said the text, sent from his hospital room in Rome, had been written \"in the past few days\". In it, the Pope thanked people for their prayers and thanked his medical team for their care.\"I feel in my heart the 'blessing' that is hidden within frailty, because it is precisely in these moments that we learn even more to trust in the Lord,\" he wrote.\"At the same time, I thank God for giving me the opportunity to share in body and spirit the condition of so many sick and suffering people.\"The Pope told Catholics around the world that he felt their \"affection and closeness\". \"I feel as if I am 'carried' and supported by all God's people. Thank you all!\" the text reads.In the latest update from the Vatican, Pope Francis was said to be resting after a \"peaceful\" night. On Sunday morning, according to the Vatican, \"the Pope woke, had breakfast with coffee, continued his therapy and read the newspapers as he usually does\".The Pope received two visitors in Gemelli hospital on Sunday – the first outside visitors the Vatican has mentioned since last Monday.Once again, it was Vatican Secretary of State Cardinal Parolin and his deputy, Monsignor Pena Parra, who saw Pope Francis in his 10th-floor hospital room. There are no details about the length of time they spent with him or what was discussed.The Roman hospital caring for Pope FrancisIn pictures: Prayers for the Pope around the worldOn Friday, the Pope suffered a second breathing \"crisis\", after which he was receiving extra oxygen support - but was not intubated. By Saturday evening, the Vatican described his condition as stable, with no fever and no further \"crises\" with his breathing. He was said to be \"alert\" and eating normally.In his Sunday Angelus, the Pope also prayed for peace, including in \"tormented Ukraine, Palestine, Israel\", adding: \"From here, war appears even more absurd.\"On Sundays, visitors to the Vatican usually gather on St Peter's Square to see the Pope appear at a window high up in the Apostolic Palace in the official Papal apartment.However, Francis does not live there, opting for the simpler setting of the Vatican's Santa Marta guest house."
        ],
        [
         "6",
         "Were Tate brothers released in secret deal - or is the truth far more chaotic?",
         "Andrew Harding",
         "2025-03-01T00:34:57.863Z",
         "These were already turbulent times in Romania.But as people here navigate the late winter ice and slush on Bucharest's elegant streets, the abrupt departure of the Tate brothers by private jet has left a fresh trail of confusion and unanswered questions in its wake.A country grappling with a cancelled presidential election, its future in Europe, its support for neighbouring Ukraine, widespread corruption, and collapsing faith in public institutions, is now left pondering why two controversial foreigners, facing a raft of complex but serious criminal charges, have been treated with such apparent lenience; their confiscated assets and their passports suddenly returned to them.Was a secret deal done between Romania's government and the Trump administration? If so, in these increasingly transactional times, what does Romania get in return? Or was this more like a pre-emptive gesture of good will towards the American president, a gift to lay at Donald Trump's imperious feet?Or are we searching for conspiracies when the truth is probably far more chaotic?As foreign leaders – from Volodymyr Zelensky to Sir Keir Starmer – travel to Washington DC bearing deals and other apparent peace offerings, one might ask who could blame Romania, a staunch NATO ally navigating a host of internal and external challenges, for trying to keep an increasingly unpredictable US administration on side?\"It's a matter of life (or death) for Romania,\" said security analyst George Scutaru, describing his country's need to shore up Western support in the face of growing pressure from the Kremlin. Declining to comment on the Tate issue specifically, Scutaru said it was clear Moscow was seeking to undermine Romania's democracy and that the government had good reason to seek ways to remind the Trump administration of the many advantages – commercial, diplomatic, and military – of continuing to back it.But if the Tate brothers are part of that equation, it is already clear that many Romanians are not impressed.This is a country already facing a strong populist backlash against an elite ruling class that is widely seen as corrupt and out of touch with the struggles of ordinary people who feel treated as second-class citizens – a mere source of cheap labour - within the European Union.So, the sight of the Tates appearing to receive special treatment plays into the notion that Romania's institutions are hollow and cater only to those with money.\"For me, what has happened is unacceptable. We cannot allow Romania's image to be tarnished by impunity and defiance,\" fumed Elena Lasconi, a prominent presidential candidate here, expressing deep concern that Romanian prosecutors' sudden decision to relax the Tates' travel restrictions was the result of \"external influence.\"\"It's my personal perception that probably there is… pressure on the Romanian political system, as logically the prosecutor would have applied very strict rules to control (the Tates) and probably the United States would have been a place where they would be allowed to travel (due to concerns they would not be extradited if they failed to return),\" said  international human rights lawyer, Silvia Tabusca.It is beyond doubt that Andrew Tate's lucrative brand of assertive masculinity has earned him allies in President Trump's administration. One of his former lawyers, Paul Ingrassia, now works in the White House. Many in the so-called \"manosphere\" see Tate as a persecuted hero who has just been rescued from Romania's corrupt clutches.There is also a more nebulous far-right alignment between some pro-Trump and pro-Tate figures in the US, far-right and allegedly pro-Russian forces in Romania, and the Kremlin itself, which stands accused of plotting to weaken Bucharest's pro-western stance.But the picture is not clear cut.President Trump distanced himself from the brothers' case on Thursday and there are signs of a broader push-back in the US, with the governor of Florida Ron DeSantis making it clear the Tates are \"not welcome\" in his state, amid plans to open a \"preliminary inquiry\" into allegations against them of human trafficking and violence against women.Meanwhile in Bucharest, the theory that Romania's government cut a deal with the US to release the brothers is treated with caution by some analysts.\"I think the chances (of such a deal) are fifty-fifty,\" said Sorin Ionita, a political commentator, questioning the ability of Romania's various institutions and ministries to arrange a \"coherent\" policy concerning the Tates.\"I'm not sure they coordinate. Did they manage to demand something in exchange (from the US)? I'm not sure,\" said Ionita, bemoaning a situation almost designed to persuade Romania's public to lose faith in state institutions, and speculating that lower level \"satellite\" figures in an equally chaotic Trump administration were probably behind any deal in order \"to extract money from the Tate brothers.\" The BBC has seen no evidence of this.\"It's very depressing to see,\" he added.As for the question of whether the Tates will return to Romania, as their lawyer has promised, to continue their legal battles, a degree of uncertainty endures.The fact that most of their assets have been unfrozen could be seen as weakening the Romanian authorities' ability to compel them to come back. The Tates themselves have also questioned whether they can receive a fair trial in Romania, complaining of a \"conspiracy\" against them.And while Andrew Tate pointed out on Thursday that he and his brother currently face \"no active indictment\" in Romania, a more accurate way of describing their situation might be to say there is currently a lull in a long and complex legal process. An initial case has been returned to prosecutors for amendments, while a second and more substantial prosecution case against them is now pending.\"In the second case, we have 34 victims that cooperate and have been identified as victims. Among them are two minors, one a 17-year-old girl that has been recruited in order to be exploited by the criminal group. And the second girl is 15-years-old, and there is a crime for sexual acts with a minor in which they are also involved,\" said the lawyer, Silvia Tabusca, outlining the allegations in the second case. The brothers also face arrest on separate and unrelated criminal charges in the UK. The Tates deny any wrongdoing in all these cases.In the coming months, Romania faces far more pressing challenges than the fate of two foreign celebrities. Presidential elections have been rescheduled for May and a leading candidate – often accused of being a Kremlin puppet - has just been detained and is facing six criminal charges including fascism and undermining the constitutional order.With their self-declared misogyny, extreme views, and online personas, Andrew and Tristan Tate do chime with some of the themes preoccupying and dividing society in America and far beyond. Clearly, they remain influential figures, particularly among boys and young men. But the brothers face years of legal battles which may well push them, and their still lucrative brand, further to the periphery of the far larger dramas now reshaping our world."
        ],
        [
         "7",
         "Greeks hold mass protests demanding justice after train tragedy",
         "Kostas Koukoumakas",
         "2025-02-28T18:12:54.712Z",
         "Greeks have held their largest protests in years and took part in a general strike to mark the second anniversary of a rail disaster that left 57 dead and dozens more injured.In the centre of Athens alone the crowd was put at hundreds of thousands, and big numbers were seen in Thessaloniki, Larissa and Ioannina, as well as many other cities.\"For those of us who had children on that train, a part of our soul remained there and will never return,\" said Maria Karystianou, the head of the Tempi victims' association, whose daughter Marthi was among those killed in the tragedy.An inquiry concluded on Thursday that the accident was caused by human error, poor maintenance, and inadequate staffing.By early afternoon, a group of hooded men began to throw rocks and petrol bombs at police, marring the emotional atmosphere close to parliament. Police in riot gear responded with tear gas and water cannon as clashes went on for some time around the centre of the capital, in Ermou, Omonia and Propylaia.Dozens of people were arrested and the trouble flared up again as evening fell.The violence cast a shadow over the enormous scale of protests in virtually every city in Greece.\"I am here in memory of the people who were killed in the train crash. We demand justice,\" said 13-year-old Dimitris who had come with his father Petros Polyzos to the largest rally in Greece, in Syntagma Square in downtown Athens.It was during the night of 28 February 2023 that a passenger train packed with students collided head-on with a goods train near the Tempi gorge in central Greece.The report by Greece's Air and Rail Accident Investigation Authority warned that the safety failings exposed by the crash had not yet been addressed. \"Those children were killed because the train was not safe,\" said the authority's chief Christos Papadimitriou.The Tempi rail disaster shocked Greeks with many accusing their conservative government of doing too little to shed light on the causes of the tragedy. There is a widely held belief that the government has sought to cover up the role of high-ranking officials.The entire centre of Athens was crowded with people of all ages and all walks of life, with many saying they were attending a demonstration for the first time in their lives.Dmitris and his father were among many protesters in Athens, wearing t-shirts that read \"I have no oxygen - justice to the end\", referring to the 57 who died.Rallies were being organised in 346 cities, across Greece in Thessaloniki, Ioannina, Patras and Larissa, as well as in cities across Europe, including Brussels, Rome and several cities in the UK.The passenger service from Athens to Thessaloniki was crowded with students returning to university after a holiday for Greek Orthodox Lent when the train collided with a goods train on the same track outside Larisa. Seconds afterwards a fireball almost completely destroyed the first two carriages of the train.In Athens, protesters held placards reading \"My child, call me when you arrive\" and \"No cover-up\". What happened at the Tempi rail disaster?Dina Gazi, 62, held white balloons with the names of those who died in the accident. \"I firmly believe that the government is covering up those responsible for the accident\", she told BBC. \"We demand that all the evidence come to light.\"Shops in the centre had their shutters down, many with messages of sympathy and support in their windows, and ordinary people did not go to work.Schools were closed, flights and trains cancelled, and the only public transport still operating was taking people to and from Syntagma Square.Taxi drivers promised to take people to the protest without charge.In a post on Facebook, Prime Minister Kyriakos Mitsotakis said that everyone's thoughts were with the families of the 57 victims who died, as well as with the wounded and those who survived but carried the memory of that night.\"Nothing will ever be the same any more,\" he added, speaking of \"fatal human errors coupled with chronic shortcomings of the state\".In office for almost six years, this is the first time since Mitsotakis was elected that he has been in such a difficult political position. He promised to move \"more dynamically and quickly\" to bring about modern and safe trains.For Greeks this mass protest was unusual in that it was unrelated to the economy and their personal finances.Thursday's inquiry found that millions of euros had been paid out to cover the installation of safety systems along the railway, but that the project remained incomplete due to corruption and bureaucracy.Relatives of those killed in the crash believe the goods train may have been carrying contraband fuel on behalf of a smuggling ring. \"It is impossible to determine what exactly caused [the fireball], but simulations and expert reports indicate the possible presence of a hitherto unknown fuel,\" the report found.\"Serious information went missing because the site of the accident was not sealed,\" experts say, increasing public anger and heightening speculation of a cover-up.Government spokesperson Pavlos Marinakis denied there was a cover-up and said the allegation was not backed up by the report.Further allegations have surfaced suggesting orders were given to clear the crash site and \"landfill\" it days after the disaster, which meant that evidence disappeared. But Marinakis said the inquiry report concluded that no political directive was give to alter the scene.As he stood in the midst of Friday's protest in Syntagma Square, Pavlos Aslanidis spoke about the death of his 26-year-old son Dimitris in the Tempi accident.\"I don't know how I find the strength to stand,\" he told BBC. \"My son gives me the strength. Otherwise, I wouldn't be here today demanding justice.\""
        ],
        [
         "8",
         "Dozens arrested in global hit against AI-generated child abuse",
         "Jack Burgess",
         "2025-02-28T11:59:58.404Z",
         "At least 25 arrests have been made during a worldwide operation against child abuse images generated by artificial intelligence (AI), the European Union's law enforcement organisation Europol has said.The suspects were part of a criminal group whose members engaged in distributing fully AI-generated images of minors, according to the agency.The operation is one of the first involving such child sexual abuse material (CSAM), Europol said. The lack of national legislation against these crimes made it \"exceptionally challenging for investigators\", it added.Arrests were made simultaneously on Wednesday 26 February during Operation Cumberland, led by Danish law enforcement, a statement said.Authorities from at least 18 other countries have been involved and the operation is still continuing, with more arrests expected in the next few weeks, Europol said.In addition to the arrests, so far 272 suspects have been identified, 33 house searches have been conducted and 173 electronic devices have been seized, according to the agency. It also said the main suspect was a Danish national who was arrested in November 2024.The statement said he \"ran an online platform where he distributed the AI-generated material he produced\". After making a \"symbolic online payment\", users from around the world were able to get a password that allowed them to \"access the platform and watch children being abused\". The agency said online child sexual exploitation was one of the top priorities for the European Union's law enforcement organisations, which were dealing with \"an ever-growing volume of illegal content\".Europol added that even in cases when the content was fully artificial and there was no real victim depicted, such as with Operation Cumberland, \"AI-generated CSAM still contributes to the objectification and sexualisation of children\".Europol's executive director Catherine De Bolle said: \"These artificially generated images are so easily created that they can be produced by individuals with criminal intent, even without substantial technical knowledge.\"She warned law enforcement would need to develop \"new investigative methods and tools\" to address the emerging challenges.The Internet Watch Foundation (IWF) warns that more sexual abuse AI images of children are being produced and becoming more prevalent on the open web.In research last year the charity found that over a one-month period, 3,512 AI child sexual abuse and exploitation images were discovered on one dark website. Compared with a month in the previous year, the number of the most severe category images (Category A) had risen by 10%.Experts say AI child sexual abuse material can often look incredibly realistic, making it difficult to tell the real from the fake."
        ],
        [
         "9",
         "Czech firefighters tackle large toxic train fire",
         "Tom McArthur",
         "2025-02-28T18:50:47.759Z",
         "A freight train carrying the highly toxic chemical benzene has derailed in the Czech Republic, sparking a huge fire.Several tankers and a locomotive were ablaze, with firefighters from several regions and a mobile chemical laboratory deployed to the area, according to local media. A massive cloud of dense black smoke was visible for several kilometres.Railway officials say nobody was injured in the incident, which occurred near Hustopeče nad Bečvou, 50km (31 miles) south-west of the Polish border, on Friday.Benzene, which is a cancer-causing substance for humans, is an element present in aircraft fuel.The train \"split apart\" and subsequently derailed, according to initial reports. A nearby electric substation also caught fire, killing power to the nearby town of Hustopeče.Flames up to 20m high were visible when the fire broke out, one eyewitness told the Lidove Noviny newspaper.Dramatic drone footage from the scene, released by the Czech fire service, shows several badly charred and destroyed tankers - some still burning as thick black smoke spews into the sky.Firefighters used heavy foam to prevent the fire spreading further, while other tankers were hosed down to prevent more explosions. A helicopter was also deployed, as well as a special chemical monitoring mobile lab. It took several hours to bring the fire under control, officials said.The fire affected around 15 of the 17 benzene tanks the train had been transporting, a fire department spokesperson told local media.\"The substance should be the same in all tankers, the amount will be specified, but it is approximately 60 tonnes in one tanker. However, this does not mean that everything will burn out or leak,\" Lucie Balážová said.The fire service later said the estimated cost of the damage the fire had caused was 125 million Czech koruna (£4.1m).Locals have been told to stay indoors and not open windows or doors. Officials say air quality \"has not yet exceeded\" any pollution limits, according to Czech news website iDNES.Police say they will investigate the cause of the derailment.Benzene is a colourless or light-yellow liquid with a sweet smell that can evaporate very quickly. It is used in common substances like plastic, resin, nylon and some forms of dyes, pesticides or detergents. It is very flammable.Exposure to benzene through breathing or ingestion can cause symptoms like drowsiness, dizziness, tremors, vomiting or sleeplessness.Very high levels of exposure can lead to unconsciousness or death, according to the CDC. Long-term exposure of a year or more could cause issues with blood, bone marrow or the immune system."
        ]
       ],
       "shape": {
        "columns": 4,
        "rows": 10
       }
      },
      "text/html": [
       "<div>\n",
       "<style scoped>\n",
       "    .dataframe tbody tr th:only-of-type {\n",
       "        vertical-align: middle;\n",
       "    }\n",
       "\n",
       "    .dataframe tbody tr th {\n",
       "        vertical-align: top;\n",
       "    }\n",
       "\n",
       "    .dataframe thead th {\n",
       "        text-align: right;\n",
       "    }\n",
       "</style>\n",
       "<table border=\"1\" class=\"dataframe\">\n",
       "  <thead>\n",
       "    <tr style=\"text-align: right;\">\n",
       "      <th></th>\n",
       "      <th>headline</th>\n",
       "      <th>author</th>\n",
       "      <th>time</th>\n",
       "      <th>content</th>\n",
       "    </tr>\n",
       "  </thead>\n",
       "  <tbody>\n",
       "    <tr>\n",
       "      <th>0</th>\n",
       "      <td>UK and France to present Ukraine peace plan to...</td>\n",
       "      <td>Jennifer McKiernan</td>\n",
       "      <td>2025-03-02T15:27:11.903Z</td>\n",
       "      <td>Prime Minister Sir Keir Starmer has said the U...</td>\n",
       "    </tr>\n",
       "    <tr>\n",
       "      <th>1</th>\n",
       "      <td>His name was in a child abuse diary - now his ...</td>\n",
       "      <td>Laura Gozzi</td>\n",
       "      <td>2025-03-02T00:16:19.424Z</td>\n",
       "      <td>This story contains distressing details from t...</td>\n",
       "    </tr>\n",
       "    <tr>\n",
       "      <th>2</th>\n",
       "      <td>Kurdish group PKK declares ceasefire with Turkey</td>\n",
       "      <td>David Mercer</td>\n",
       "      <td>2025-03-02T00:33:45.194Z</td>\n",
       "      <td>Outlawed Kurdish group the PKK has declared a ...</td>\n",
       "    </tr>\n",
       "    <tr>\n",
       "      <th>3</th>\n",
       "      <td>'Our son died in Benidorm - we still don't kno...</td>\n",
       "      <td>Stephen Fairclough</td>\n",
       "      <td>2025-03-02T07:02:54.302Z</td>\n",
       "      <td>The family of a father-of-four who died while ...</td>\n",
       "    </tr>\n",
       "    <tr>\n",
       "      <th>4</th>\n",
       "      <td>'Trump and Vance were so rude': Ukrainians rea...</td>\n",
       "      <td>James Waterhouse</td>\n",
       "      <td>2025-03-01T12:03:47.610Z</td>\n",
       "      <td>Whether or not President Volodymyr Zelensky wa...</td>\n",
       "    </tr>\n",
       "    <tr>\n",
       "      <th>5</th>\n",
       "      <td>Pope absent from St Peter's Square for third week</td>\n",
       "      <td>Sarah Rainsford</td>\n",
       "      <td>2025-03-02T12:12:56.742Z</td>\n",
       "      <td>For the third week in a row, Pope Francis has ...</td>\n",
       "    </tr>\n",
       "    <tr>\n",
       "      <th>6</th>\n",
       "      <td>Were Tate brothers released in secret deal - o...</td>\n",
       "      <td>Andrew Harding</td>\n",
       "      <td>2025-03-01T00:34:57.863Z</td>\n",
       "      <td>These were already turbulent times in Romania....</td>\n",
       "    </tr>\n",
       "    <tr>\n",
       "      <th>7</th>\n",
       "      <td>Greeks hold mass protests demanding justice af...</td>\n",
       "      <td>Kostas Koukoumakas</td>\n",
       "      <td>2025-02-28T18:12:54.712Z</td>\n",
       "      <td>Greeks have held their largest protests in yea...</td>\n",
       "    </tr>\n",
       "    <tr>\n",
       "      <th>8</th>\n",
       "      <td>Dozens arrested in global hit against AI-gener...</td>\n",
       "      <td>Jack Burgess</td>\n",
       "      <td>2025-02-28T11:59:58.404Z</td>\n",
       "      <td>At least 25 arrests have been made during a wo...</td>\n",
       "    </tr>\n",
       "    <tr>\n",
       "      <th>9</th>\n",
       "      <td>Czech firefighters tackle large toxic train fire</td>\n",
       "      <td>Tom McArthur</td>\n",
       "      <td>2025-02-28T18:50:47.759Z</td>\n",
       "      <td>A freight train carrying the highly toxic chem...</td>\n",
       "    </tr>\n",
       "  </tbody>\n",
       "</table>\n",
       "</div>"
      ],
      "text/plain": [
       "                                            headline              author  \\\n",
       "0  UK and France to present Ukraine peace plan to...  Jennifer McKiernan   \n",
       "1  His name was in a child abuse diary - now his ...         Laura Gozzi   \n",
       "2   Kurdish group PKK declares ceasefire with Turkey        David Mercer   \n",
       "3  'Our son died in Benidorm - we still don't kno...  Stephen Fairclough   \n",
       "4  'Trump and Vance were so rude': Ukrainians rea...    James Waterhouse   \n",
       "5  Pope absent from St Peter's Square for third week     Sarah Rainsford   \n",
       "6  Were Tate brothers released in secret deal - o...      Andrew Harding   \n",
       "7  Greeks hold mass protests demanding justice af...  Kostas Koukoumakas   \n",
       "8  Dozens arrested in global hit against AI-gener...        Jack Burgess   \n",
       "9   Czech firefighters tackle large toxic train fire        Tom McArthur   \n",
       "\n",
       "                       time                                            content  \n",
       "0  2025-03-02T15:27:11.903Z  Prime Minister Sir Keir Starmer has said the U...  \n",
       "1  2025-03-02T00:16:19.424Z  This story contains distressing details from t...  \n",
       "2  2025-03-02T00:33:45.194Z  Outlawed Kurdish group the PKK has declared a ...  \n",
       "3  2025-03-02T07:02:54.302Z  The family of a father-of-four who died while ...  \n",
       "4  2025-03-01T12:03:47.610Z  Whether or not President Volodymyr Zelensky wa...  \n",
       "5  2025-03-02T12:12:56.742Z  For the third week in a row, Pope Francis has ...  \n",
       "6  2025-03-01T00:34:57.863Z  These were already turbulent times in Romania....  \n",
       "7  2025-02-28T18:12:54.712Z  Greeks have held their largest protests in yea...  \n",
       "8  2025-02-28T11:59:58.404Z  At least 25 arrests have been made during a wo...  \n",
       "9  2025-02-28T18:50:47.759Z  A freight train carrying the highly toxic chem...  "
      ]
     },
     "execution_count": 21,
     "metadata": {},
     "output_type": "execute_result"
    }
   ],
   "source": [
    "def get_content(browser:webdriver.Firefox, url:str):\n",
    "    content = dict()\n",
    "\n",
    "    browser.get(url)\n",
    "\n",
    "    # get headline\n",
    "    try:\n",
    "        content['headline'] = browser.find_element(By.CSS_SELECTOR, '[data-component=\"headline-block\"]').get_attribute('textContent')\n",
    "    except:\n",
    "        try:\n",
    "            content['headline'] = browser.find_element(By.CLASS_NAME, 'sc-b7984e68-2.bAlPUK').get_attribute('textContent')\n",
    "        except:\n",
    "            content['headline'] = None\n",
    "    \n",
    "    # get author\n",
    "    try:\n",
    "        author = browser.find_element(By.CLASS_NAME, 'sc-b42e7a8f-7.kItaYD').get_attribute('textContent')\n",
    "    except:\n",
    "        try:\n",
    "            author = browser.find_element(By.CSS_SELECTOR, '[data-testid=\"byline-new-contributors\"]').get_attribute('textContent')\n",
    "        except:\n",
    "            try:\n",
    "                author = browser.find_element(By.CSS_SELECTOR, '[data-component=\"byline-block\"]').get_attribute('textContent')\n",
    "            except:\n",
    "                author = None\n",
    "    content['author'] = author\n",
    "\n",
    "    # get time\n",
    "    try:\n",
    "        content['time'] = browser.find_element(By.CSS_SELECTOR, '[datetime]').get_attribute('datetime')\n",
    "    except:\n",
    "        content['time'] = None\n",
    "    \n",
    "    # get content\n",
    "    try:\n",
    "        content['content'] = ''\n",
    "        text_list = browser.find_elements(By.CSS_SELECTOR, '[data-component=\"text-block\"]')\n",
    "        if text_list:\n",
    "            for text in text_list:\n",
    "                content['content'] += text.get_attribute('textContent')\n",
    "        else:\n",
    "            content['content'] = browser.find_element(By.CLASS_NAME, 'sc-b7984e68-3.fxFApb').get_attribute('textContent')\n",
    "    except:\n",
    "        content['content'] = None\n",
    "    \n",
    "    return content\n",
    "\n",
    "# showing that the function works and converting result to DataFrame for better visualization\n",
    "browser = webdriver.Firefox()\n",
    "df = pd.DataFrame()\n",
    "for i in articles['link'][:10]:\n",
    "    df = pd.concat([df, pd.DataFrame(get_content(browser, i), index=[0])]).reset_index(drop=True)\n",
    "browser.quit()\n",
    "df"
   ]
  },
  {
   "cell_type": "markdown",
   "metadata": {},
   "source": [
    "Ovenfor har jeg kørt funktionen på 10 af de links jeg skrabede i forrige opgave, og resultatet har jeg koverteret til en dataframe for bedre visualisering.\n",
    "\n",
    "For at køre funktionen ``get_content`` på alle de skrabede artikler, har jeg igen valgt at parallelisere opgaven med ``ray``, for at få det til at gå hurtigere. Måden hvorpå jeg gør dette er at jeg deler alle links'ne op i grupper af 80, og laver så en funktion, ``get_content_remote``, til at køre ``get_content`` på alle links'ne i en given gruppe."
   ]
  },
  {
   "cell_type": "code",
   "execution_count": 17,
   "metadata": {},
   "outputs": [
    {
     "name": "stderr",
     "output_type": "stream",
     "text": [
      "2025-03-02 18:45:41,299\tINFO worker.py:1841 -- Started a local Ray instance.\n"
     ]
    }
   ],
   "source": [
    "# starts ray\n",
    "ray.shutdown()\n",
    "ray.init()\n",
    "\n",
    "# defines parallization funktion\n",
    "@ray.remote\n",
    "def get_content_remote(urls:list[str]):\n",
    "    # Start browser\n",
    "    browser = webdriver.Firefox()\n",
    "\n",
    "    # makes a list of dictionarys with 'headline','author','time','content' and 'link' (to combine with prevously scraped data)\n",
    "    content_list = [get_content(browser, url)|{'link':url} for url in urls]\n",
    "\n",
    "    # closes Firefox when done\n",
    "    browser.quit()\n",
    "\n",
    "    return content_list\n",
    "\n",
    "# breaks the 850ish links up into chuncks\n",
    "urls = articles['link']\n",
    "chuncks = [urls[i:i + 80] for i in range(0, len(urls), 80)]\n",
    "\n",
    "# start parallelization\n",
    "results = ray.get([get_content_remote.remote(chunck) for chunck in chuncks])\n"
   ]
  },
  {
   "cell_type": "markdown",
   "metadata": {},
   "source": [
    "Nedenfor konverter jeg alle resultaterne til dataframes for at kunne samle det i én dataframe. Herefter vælger jeg at kombinere det skrabede indhold fra artiklerne, med det skrabede indhold om artiklerne, fra Opgave 2. Slutteligt gemmer jeg denne samlede dataframe som en ny csv-fil."
   ]
  },
  {
   "cell_type": "code",
   "execution_count": 18,
   "metadata": {},
   "outputs": [
    {
     "data": {
      "application/vnd.microsoft.datawrangler.viewer.v0+json": {
       "columns": [
        {
         "name": "index",
         "rawType": "int64",
         "type": "integer"
        },
        {
         "name": "link",
         "rawType": "object",
         "type": "string"
        },
        {
         "name": "headline",
         "rawType": "object",
         "type": "string"
        },
        {
         "name": "summary",
         "rawType": "object",
         "type": "unknown"
        },
        {
         "name": "time",
         "rawType": "object",
         "type": "string"
        },
        {
         "name": "author",
         "rawType": "object",
         "type": "unknown"
        },
        {
         "name": "content",
         "rawType": "object",
         "type": "unknown"
        }
       ],
       "conversionMethod": "pd.DataFrame",
       "ref": "13a2ee6b-bf75-4807-a6f6-e69a56b07a60",
       "rows": [
        [
         "0",
         "https://www.bbc.com/news/articles/cdxqnxw6z73o",
         "Protesters target JD Vance in Vermont after clash with Zelensky",
         "They held up pro-Ukraine signs on the route that the vice-president and his family were expected to take to go skiing. ",
         "2025-03-02T15:29:55.905Z",
         "David Mercer",
         "Protesters in the US have lined a road in Vermont that Vice-President JD Vance was due to drive down following his and President Trump's angry exchange with Volodymyr Zelensky at the White House. They held up pro-Ukraine signs on the route in Waitsfield that Vance and his family were expected to take on their way to go skiing. US media reported the family moved to an undisclosed location from their planned ski resort because of the demonstrations.Hundreds of people also gathered in New York, Los Angeles and Boston on Saturday to express their support for Ukraine - a day after the furious row in the Oval Office.The extraordinary scenes in the Oval Office saw Vance accuse the Ukrainian president of being disrespectful to the US.Trump also clashed with Zelensky, telling him to make a deal with Russia \"or we are out\" and accusing him of \"gambling with World War Three\".A protest in Waitsfield against the Trump-Vance administration had been organised earlier in the week - before the US president and vice-president's clash with Zelensky - but many signs referenced the row and Russia's war with Ukraine.\"I think [Friday's] performance at the White House has probably galvanised even more people to come out today,\" Judy Daly, from Indivisible Mad River Valley, the group which organised the protest, told Vermont Public Radio.\"[Vance] crossed the line,\" protester Cori Giroux added.Ahead of the Vance family's trip, Vermont's governor Phil Scott had urged people to \"be respectful\" to them.Scott, the Republican governor who refused to vote for Trump, said: \"I welcome the vice-president and his family to Vermont and hope they enjoy their weekend here. \"It's no surprise they chose Vermont, we've had a lot of snow this winter, which has been good for our economy.\"He added: \"I hope Vermonters remember the vice-president is here on a family trip with his young children and, while we may not always agree, we should be respectful.\"Please join me in welcoming them to Vermont, and hoping they have an opportunity to experience what makes our state, and Vermonters, so special.\"Vance, who has three young children with his wife Usha, has not publicly commented on the protests. Counter-protesters supporting Trump and Vance were also reportedly in Waitsfield.Live coverage and analysisVance took the lead attacking Zelensky. Why?Republicans laud Trump after Zelensky showdown but some express dismayUkrainians back Zelensky after disastrous Oval Office encounterHow the Trump-Zelensky talks collapsed in 10 fiery minutesSteve Rosenberg: Putin can afford to sit back and watch events unfoldSeparately, demonstrators also gathered outside Tesla stores in the US on Saturday to protest against Elon Musk's push to slash government spending.Musk, the billionaire chief executive of Tesla, has been tasked by Trump to oversee the Department of Government Efficiency, more popularly known as Doge.After the meeting at the White House, Zelensky flew to the UK where he was welcomed by Prime Minister Keir Starmer and on Sunday he joined European leaders and Canada's Justin Trudeau in London for a summit to discuss ways of ending the war in Ukraine and ensuring Europe's security.Ahead of the summit, Starmer said the UK and France would work with Ukraine \"on a plan to stop the fighting\" with Russia and would then \"discuss that plan with the United States\".He told the BBC that his \"driving purpose\" right now was to act as a \"bridge\" between the two men.Asked about how he felt watching the spat in the White House, Starmer sought to play down the incident, saying \"nobody wants to see that\" and admitted he felt \"uncomfortable\"."
        ],
        [
         "1",
         "https://www.bbc.com/news/articles/cnvz566n523o",
         "Most Republicans laud Trump after Zelensky showdown, but some express dismay",
         "The majority of Republicans say Zelensky was at fault for the spat, but one accused the president of \"embracing Putin\".",
         "2025-03-01T22:44:15.435Z",
         "Max Matza",
         "Most Republicans have backed US President Donald Trump and Vice-President JD Vance following their public row in the Oval Office with Ukrainian President Volodymyr Zelensky.Senator Lindsey Graham suggested Zelensky should resign, adding that Friday's altercation had imperilled future US military support for Kyiv, but another Republican senator accused Trump of \"embracing Putin\".Zelensky was asked to leave the White House without signing a deal with the US that would have jointly developed Ukraine's valuable minerals.On Saturday, Zelensky enjoyed a much warmer reception from UK Prime Minister Keir Starmer in Downing Street, a day ahead of a meeting with King Charles.The Ukrainian leader also made a plea on Saturday to the US to \"stand more firmly\" with Kyiv, adding that he was ready to sign the minerals deal with Trump, but wished for defined security guarantees.Trump has suggested that Ukraine should concede territory to Russia to end its invasion and has opened peace talks between Washington and Moscow.The American president has also warned Russia that he will impose high tariffs and further sanctions if President Vladimir Putin fails to end the \"ridiculous\" war.Before leaving for Florida after the Oval Office clash with Zelensky, Trump told reporters that the Ukrainian leader had \"overplayed his hand\".\"Either we're going to end it or let him fight it out, and if he fights it out, it's not going to be pretty,\" Trump said. \"Because without us, he doesn't win.\"National Security Adviser Mike Waltz, who was in the Oval Office during the meeting, told Breitbart News on Saturday that Zelensky was too focused on fact checking and compared the Ukrainian leader to an \"ex-girlfriend\". \"It's like an ex-girlfriend that wants to argue everything that you said nine years ago, rather than moving the relationship forward,\" Waltz said. While Democrats said they were horrified by the showdown with a US ally, the majority of Republicans in Washington backed Trump.Live coverage and analysisPutin can afford to sit back and watch events unfold\"What I saw in the Oval Office was disrespectful, and I don't know if we can ever do business with Zelensky again,\" said Senator Graham, a longtime advocate for Ukraine aid and a foreign policy hawk, as he left the White House on Friday.\"The question for me is, 'is he redeemable in the eyes of Americans?' Most Americans witnessing what they saw today would not want Zelensky to be their business partner, including me, and I've been to Ukraine nine times since the war started.\"Alabama Senator Tommy Tuberville posted on X on Saturday: \"The best thing President Trump has done so far is kick that Ukrainian weasel out of the WH.\"Trump-Zelensky row signals looming crisis between Europe and USHow the Trump-Zelensky talks collapsed in 10 fiery minutesTennessee Senator Bill Hagerty posted on X: \"The United States of America will no longer be taken for granted.\"But other Republican members of Congress were not so enthused.Alaska Senator Lisa Murkowski, a moderate Republican who is something of a political thorn in Trump's side, posted on X on Saturday: \"I am sick to my stomach as the administration appears to be walking away from our allies and embracing Putin.\"Republican Rep Mike Lawler of New York called the meeting \"a missed opportunity for both the United States and Ukraine\".Fellow Rep Don Bacon of Nebraska said it was \"a bad day for America's foreign policy\". \"Ukraine wants independence, free markets and rule of law. It wants to be part of the West. Russia hates us and our Western values. We should be clear that we stand for freedom,\" he said in a statement.Neither Republican directly criticised Trump or Vance, who first quarrelled with Zelensky during the meeting. Democrats, meanwhile, lambasted the White House.\"Trump and Vance are doing Putin's dirty work,\" Senate Minority Leader Chuck Schumer said.Senator Chris Coons said Zelensky deserved better.\"We owe him our thanks for leading a nation fighting on the front lines of democracy - not the public berating he received at the White House,\" he posted on X."
        ],
        [
         "2",
         "https://www.bbc.com/news/articles/cvgwwyrnpzdo",
         "Gene Hackman loved acting but 'hated everything that went with it'",
         "Those who knew him discuss his brilliance, as well as his disdain for the trappings of Hollywood.",
         "2025-03-02T00:04:06.288Z",
         "Noor Nanji",
         "\"He loved being an actor, and hated all the stuff that surrounds being an actor.\"That, for film director Barry Sonnenfeld, is how he'll remember Gene Hackman, who has died at the age of 95.The endless hours in hair and makeup, repeated takes, and studio notes all frustrated Hackman, Sonnenfeld told BBC News.So too did actors who showed up not knowing their lines - notably John Travolta, who Hackman clashed with on the set of 1995 film Get Shorty, which Sonnenfeld directed.In the days since the news of Hackman's death, I've been speaking to people here in Los Angeles and beyond, who, like Sonnenfeld, knew and worked with him.What's immediately clear is how seriously Hackman took acting, and how meticulously he dealt with scripts.But what's also clear is that he was wary of the trappings of Hollywood.What we know about the death of Gene HackmanHackman, a two-time Oscar winner, died alongside his wife Betsy Arakawa, 65, and their dog at his home in New Mexico. No cause of death was given, but police said the situation was \"suspicious enough\" to merit investigation.Officials said on Friday that evidence points to Hackman having been dead since 17 February, 10 days before the couples' bodies were found.In LA, Hackman's face is everywhere on television bulletins and on newspapers.His death was all anyone was talking about as stars gathered for pre-Oscars parties. I was at one of those events on Thursday night, where the American actor John C Reilly told me that he expected the Academy to commemorate Hackman on Sunday. \"I don't see how you could have the Oscars without mentioning a great like him who's passed.\"For Sonnenfeld and for the Irish director John Moore – who directed Hackman in 2001's Behind Enemy Lines – it was Hackman's way of dealing with scripts that demonstrated his brilliance. He would remove all of the scriptwriter's notes about how his character should deliver his lines.\"Because he didn't want any screenwriter to tell him how he was supposed to feel at that moment,\" Sonnenfeld said.\"So he had unique cut and pasted scripts that had no information from the writer about anything, because he wanted to make those choices, not the writer.\"Moore recalls a similar incident from the very first time he filmed with Hackman. \"He was just quietly sitting there, taking script pages out, cutting them up, removing extraneous stuff like scene descriptions, and then sticking them back onto blank pages,\" he said.He said Hackman told him: \"Acting is my job, you do the rest.\"\"It put the fear of God into me,\" Moore said, laughing.\"It was essentially him saying: 'I don't need anything, as I'm that good. You better bring your A-game, as I'm bringing mine.'\"It wasn't just superfluous studio notes that bothered Hackman.\"He had this conflict in that he was this brilliant actor but he hated the tropes of what it took to act in movies,\" said Sonnenfeld.\"[He] hated putting on makeup. The putting on of wardrobe. The wardrobe person after takes, taking their lip brush and rubbing down their wardrobe. The makeup person recombing his hair while he's talking to me,\" he said.\"All that sort of fussy hair and makeup and all that stuff, I think that drove him crazy.\"Nor did he often want to socialise after filming, said Moore.\"I'd try and have a drink with him after we'd shoot, and go up to the minibar,\" he said.\"He'd have one, that was it. [Betsy] would give him that look, and off it would be to bed. And he was in great shape in the morning as a result.\"\"For Gene, it was all about the acting,\" added Sonnenfeld. \"End of story. Get me out of here as fast as possible.\"Hackman could be \"a hard actor\" to work with, said Sonnenfeld. \"He suffered no fools.\"In Get Shorty, Hackman starred alongside Travolta, who plays a Miami mobster sent to collect a debt.\"Gene was a consummate actor, both technically and artistically. So he came to set every day knowing his lines,\" Sonnenfeld said.\"John came to set not knowing his lines, probably not having read the script the night before.\"Obituary: One of Hollywood's greatest 'tough guys'Pilates, painting and bike rides: Gene Hackman's life in Santa FeThat resulted in a showdown on the first day of filming.Sonnenfeld recalls Travolta – who he describes as \"charming but not self aware\" – asking Hackman what he had done on the weekend.Hackman responded: \"Nothing except learn the lines,\" to which Travolta replied, \"Well that's a waste of a weekend,\" according to Sonnenfeld.As filming went on, Hackman grew \"angrier and angrier\" at his co-star not knowing his lines.Sonnenfeld said he let Hackman take out his rage on him.\"For the next 12 weeks, he would yell at me whenever John didn't know his lines,\" he said.\"But he's great in a movie. And I knew he was never really mad at me.\"Travolta reportedly wasn't the only one to rub Hackman the wrong way.He reportedly clashed with others, including The Royal Tenenbaums' director Wes Anderson.Later, and possibly coincidentally, Hackman named one of his novels Escape from Andersonville.\"Gene was really rough on Wes,\" recalled Bill Murray, who co-starred with Hackman in the hit 2001 film, in an interview with the Associated Press.\"He was a tough nut, Gene Hackman. But he was really good.\"Moore, for his part, said he didn't ever feel Hackman was difficult to work with.\"He was patient and relentlessly, flawlessly professional,\" he said.\"My memories are of him laughing and smiling, and telling very funny jokes.\"Moore admitted Hackman might have become irritated with anyone on set who made their role bigger than it was.\"So I could see how he might be funny about actors who were peacocking themselves,\" he said.\"But again it goes back to the point - he just really wanted to make the films exceptional.\"Hackman retired from acting in 2004 and from then on lived a quiet life in New Mexico with his wife.\"I suspect that one of the reasons he moved to Santa Fe, again, great outdoors and as far away from Hollywood as you can get,\" said Sonnenfeld.In 2008, Hackman gave a rare interview with Reuters, in which he was asked if he missed acting.He responded by saying the business was, for him, \"very stressful\".\"The compromises that you have to make in films are just part of the beast, and it had gotten to a point where I just didn't feel like I wanted to do it anymore.\"But, he added: \"I miss the actual acting part of it, as it's what I did for almost 60 years.\"And I really loved that.\""
        ],
        [
         "3",
         "https://www.bbc.com/news/articles/cd9208qv1kzo",
         "Private spacecraft Blue Ghost lands on Moon",
         "It was launched by Firefly Aerospace in January with the mission of exploring the Sea of Crises.",
         "2025-03-02T10:43:47.369Z",
         "George Sandeman",
         "A private spacecraft has landed on the Moon, becoming only the second commercial vehicle to reach the lunar surface.Blue Ghost left Earth on January 15, after being launched by US firm Firefly Aerospace with the intention of exploring the Sea of Crises, a huge crater visible from Earth.The project is the latest collaboration by US space agency Nasa and private companies.Intuitive Machines, another firm, is hoping to land its Athena spacecraft near the Moon's south pole in the next few days.Intuitive was the first private company to achieve a lunar landing. Its spacecraft Odysseus reached the Moon on 22 February last year.However, the mission was short-lived as the spacecraft landed on the slope of a crater, broke some landing gear and toppled over.Blue Ghost touched down smoothly, having been orbiting the Moon for the last two weeks.Staff at Firefly's headquarters in Texas broke out into cheering and applause when they were told their landing was successful.Dr Simeon Barber, a planetary science researcher from the Open University, said Blue Ghost was essentially the first successful private venture to the Moon, as the vehicle was intact and responsive.He told BBC Breakfast: \"[They've] demonstrated a technology for landing on the surface of the Moon, the kind that had been forgotten after the Apollo era when we had astronauts on the [lunar] surface.\"The importance of the Moon to many private firms, said Dr Barber, was to use it as a launch pad for exploring the rest of space.\"By going to the Moon, we can learn how to run robotic instruments in space [and] in the really harsh environment of the Moon, which is at times hot and at times cold. It's very dusty, there's lots of radiation.\"He said at some point it was likely humans would return to the lunar surface and explained it had been so long because of a lack of funding.The last time humans set foot on the Moon was 19 December 1972, during the Apollo 17 mission.\"The Apollo missions were hugely successful,\" explained Dr Barber. \"But they were 'touch and go' missions.\"Back then, astronauts would be there for three days before having to leave again, as costs were running into the billions of dollars. \"That's not sustainable,\" he said.Dr Barber said the belief now was that bringing private companies into the fold would help reduce costs as a result of commercial competition.It could lead to cheaper landers and innovations that might extract resources from the moon, such as water for the astronauts to drink.The first private company to attempt to reach the moon was another US firm, Astrobotic Technology.They tried reaching the moon in January 2024, but their lander never made it to the moon, because of a suspected fuel leak, and crashed back to Earth.The fiery descent meant the spacecraft broke apart in its final moments before plunging into the southern Pacific Ocean."
        ],
        [
         "4",
         "https://www.bbc.com/news/articles/c1d4r2nk4yyo",
         "R&B hitmaker Angie Stone dead in car crash",
         "The Wish I Didn't Miss You singer was involved in a collision in Alabama following a performance.",
         "2025-03-01T21:56:09.925Z",
         "Christal Hayes",
         "Grammy-nominated R&B artist Angie Stone has died after a car crash, aged 63, her daughter says. \"My mommy is gone,\" her daughter, Diamond Stone, wrote in a Facebook post. Stone was fatally injured when a van she was travelling in overturned in Alabama early on Saturday following a performance, according to media reports. The artist, who was behind songs like No More Rain (In This Cloud) and Wish I Didn't Miss You, was nominated for three Grammys over her career. She started out in the 1970s as a member of the female hip-hop trio The Sequence. The group's most popular song, Funk You Up, peaked at 15 on Billboard's Hot Soul Singles. Her daughter, who is also a musician and goes by the nickname Ladi Diamond, said on Facebook that she was \"numb\". Hours earlier, she had asked for prayers for her family and said she was on the road. A spokesperson for the artist told the BBC that her family had travelled to Montgomery, Alabama, and planned to release more information soon. Guy Todd Williams, known as Rahiem in the hip-hop group Grandmaster Flash and the Furious Five, said about nine other passengers were in a van with Stone at the time of the crash. \"She left her indelible mark on the music industry initially as a member of the legendary rap group Sequence,\" Williams said.He said she was the sole fatality in the crash. The BBC has contacted police in Montgomery for details. Along with her music career, Stone also had some success in film. She made her movie debut with a role in The Hot Chick, a 2002 hit starring Rob Schneider, Rachel McAdams and Anna Faris. She also starred in The Fighting Temptations in 2003 with Cuba Gooding Jr and Beyonce. "
        ],
        [
         "5",
         "https://www.bbc.com/news/articles/c1d4r9yvqzpo",
         "How criticism of Zelensky's clothing made it to the Oval Office",
         "The Ukrainian president's military-style attire was questioned by a Maga media star before he was upbraided by President Trump and JD Vance.",
         "2025-03-01T23:37:03.699Z",
         "Mike Wendling",
         "It was the first thing President Donald Trump said when Ukraine President Volodymyr Zelensky stepped out of his car at the White House on Friday.\"You're all dressed up today,\" Trump said as he greeted him, referring to Zelensky's military-style black sweatshirt, adorned with the Ukrainian trident.Zelensky has eschewed suits, button-down shirts and ties - even during important meetings with world leaders and an address to the US Congress - since the start of the full-scale Russian invasion of his country began in 2022.The Ukrainian leader has said his choice of clothing is a show of solidarity with soldiers fighting the Russian army on the war's frontlines.But it has long been an irritant for some critics of US aid to Ukraine, and after years as a talking point in right-wing media circles, the issue came to global attention in a spectacular way during Friday's now infamous Oval Office meeting with Trump and US Vice-President JD Vance. A question to Zelensky from a reporter accused him of disrespecting the occasion by not wearing a suit and this immediately changed the atmosphere in the room, according to BBC reporters present.And a short time later, larger issues of respect and gratitude fuelled the extraordinary argument that saw the US president and vice-president upbraid their European ally in front of the world's TV cameras.European leaders back Zelensky after Trump clashHow the Trump-Zelensky talks collapsed in 10 fiery minutesZelensky wants US to 'stand more firmly' on Ukraine's sideWhen the meeting was opened up to questions from reporters, one came from Brian Glenn, chief White House correspondent for conservative cable network Real America's Voice.\"Why don't you wear a suit?\" Glenn asked. \"You're at the highest level in this country's office, and you refuse to wear a suit.\"Do you own a suit?\" he continued. \"A lot of Americans have problems with you not respecting the dignity of this office.\"The aggressive questioning marked the moment when the Ukrainian president – who until then seemed to be having a diplomatic, even friendly, conversation with Trump – first appeared tired and irritated.\"I will wear costume after this war will finish,\" Zelensky replied. (The word \"suit\" can be translated into Ukrainian as \"kostyum\".)The Ukrainian president then made a verbal jab at the reporter.\"Maybe something like yours, yes. Maybe something better, I don't know,\" he said, to laughter in the room. \"Maybe something cheaper.\"'Trump and Vance were so rude': Ukrainians react to disastrous White House meetingMost Republicans laud Trump after Zelensky showdown, but some express dismayGlenn's question gave voice to a longstanding gripe in the world of Make America Great Again (Maga) politics, where some - like JD Vance - argue that the Ukrainian leader does not seem to be showing enough gratitude or respect to the US for three years of military aid.A former local TV reporter in Dallas who became better known in conservative circles for his work at another pro-Trump channel, Right Side Broadcasting Network, Glenn is an unabashed Trump fan. Last year he told Politico that he was \"100 percent behind President Trump and the America First agenda.\"He is also reportedly dating Marjorie Taylor Greene, the Georgia congresswoman who is one of Trump's most outspoken supporters.Glenn was in the room as part of the White House press pool, a group of reporters which covers the president at official events on behalf of the wider media.The Trump administration took control of the pool this week from an association of journalists, saying it would give more access to \"new voices\". It has continued to bar the Associated Press from the pool.Real America's Voice, which was founded in 2020, is a relatively obscure right-wing cable news outlet, one of several pro-Trump channels that have cropped up in recent years. Its guests and hosts have spread conspiracy theories about a variety of subjects, including the 2020 presidential election, the 2021 Capitol riot and QAnon.Its show line-up includes some big names from the Maga world, including Trump's former chief advisor Steve Bannon, classic rocker turned political activist Ted Nugent and Charlie Kirk, the founder of the conservative Turning Point group. The BBC contacted the network for comment.After the Oval Office spat, Glenn posted online that he had \"extreme empathy for the people of Ukraine\" but said that Zelensky's lack of a suit demonstrated \"his inner disrespect\" for the US.Zelensky's defenders online posted pictures of Winston Churchill wearing casual clothes during World War Two.Pictures from the period show the British leader wearing jumpsuit-like clothes to a meeting with then-US President Franklin Roosevelt, and he also wore military uniforms and suits during conflabs with world leaders. After Glenn's question, the news conference swiftly moved on, to a query about whether the US would send more arms to Ukraine. At the end of an answer Trump referred back to the suit question.\"I do like your clothing,\" he quipped, and pointing to Zelensky he said, \"I think he's dressed beautifully.\"Behind the scenes, Trump's attitude may have been slightly different, according to reports. US news outlet Axios reported that before the meeting, White House staffers had requested that Zelensky wear a suit and were offended when he did not. However, the two world leaders continued taking questions, more or less cordially, for nearly another 20 minutes before the extraordinary argument broke out, after an interruption by the US vice-president, JD Vance.Vance repeatedly brought up \"respect\" – referring to Zelensky as \"Mr President\" as the Ukrainian leader called him \"JD\" – and said: \"I think it's disrespectful for you to come into the Oval Office and try to litigate this in front of the American media right now\".The discussion went downhill from there. A suit-less Zelensky was soon ejected from the White House, as relations between the two countries reached a new wartime low.With reporting by Shayan Sardarizadeh, BBC Verify, and Bernd Debusmann and Myroslava Petsa at the White House"
        ],
        [
         "6",
         "https://www.bbc.com/news/articles/c93kq2kldrqo",
         "How to watch the Oscars and who is nominated",
         "Who will win, what can we expect and what has caused the most controversy this awards season?",
         "2025-03-02T00:22:48.026Z",
         "Noor Nanji",
         "Stars, film fans and fashionistas rejoice as the biggest night in the showbiz calendar is here at last - the 97th Oscars.Spanish-language musical Emilia Pérez leads the way with 13 nominations, but recently saw its awards chances damaged after offensive historic tweets from its star resurfaced.Wicked, The Brutalist, Conclave and Anora are also among the top contenders, with the race for best picture too close to call.US comedian Conan O'Brien is presenting the awards from Los Angeles, with the show starting at 16:00 (PT), 19:00 (ET) and midnight (GMT).You can also expect plenty of references during the night to the wildfires which devastated LA and left thousands of homes destroyed.Here are all the major talking points and things to look out for at the ceremony, as an eventful awards season draws to an end.Emilia Pérez, about a Mexican drug lord who changes gender, has 13 nominations in total – including best picture, best actress (Karla Sofía Gascón) and best supporting actress (Zoe Saldaña).It is the most-nominated non-English language film of all time. It's actually a French production, largely set in Mexico, with Spanish as the main language spoken. Karla Sofía Gascón's nomination made her the first trans person to be nominated in an acting category (although Elliot Page was nominated for Juno in 2008, before the actor transitioned).However, the film – which had already caused controversy in Mexico – has been beset by controversy following a social media row involving Gascón.Emilia Pérez remains strong in a couple of categories, but it's unlikely to sweep the board in the way Oppenheimer – which also had 13 nominations – did last year.Chasing down Emilia Pérez with 10 nods is three-and-a-half epic The Brutalist, starring Adrien Brody.Wicked also has 10 nominations, including for British actress Cynthia Erivo and her co-star Ariana Grande, while Demi Moore has the first Oscar nomination of her career for her role in The Substance.Meanwhile, pope selection drama Conclave has eight nominations, including best actor for its British star Ralph Fiennes.All the films above are up for the coveted best picture prize, and are joined by Anora, about a New York stripper who falls for the son of a wealthy Russian.The film, which has six nominations, leapt ahead in the race after a string of precursor wins at the Critics Choice Awards as well as two major guild ceremonies - the Directors Guild of America and Producers Guild of America Awards.But there remains no consensus on what will ultimately win the top prize – with the other contenders for best picture including A Complete Unknown, Dune: Part Two, I'm Still Here and Nickel Boys.This has been an unpredictable awards season, and there could still be plenty of surprises in store.In the best actress category, Moore, 62, is nominated for playing a fading star who swaps her body for a younger and more beautiful version of herself in The Substance.But it's a tight race.There were gasps backstage at the Baftas (where I was) when Anora star Mikey Madison scooped up the best actress prize.Baftas 2025: The winners list in fullIt was a big blow to the assumed Oscar momentum for Moore, and an incredible moment for Madison, who was relatively unknown before her role in Anora.This is exactly the type of rags-to-riches story that awards ceremonies love – and the film itself celebrates.Best actor may also be up in the air. Adrien Brody is the frontrunner, with his nod for The Brutalist – but Timothée Chalamet is his toughest competition, thanks to his acclaimed portrayal of Bob Dylan in A Complete Unknown.Last week, Chalamet's surprise SAG win shook up the race, after his somewhat eccentric awards campaign.If he won, not only would Chalamet halt Brody's winning streak, he would also take Brody's record as the youngest-ever winner of best actor.In the best supporting actor category, Kieran Culkin is the frontrunner for A Real Pain, while Zoe Saldaña is almost certain to win best supporting actress for Emilia Pérez, having taken the trophy at a string of precursor events including the Baftas, SAG Awards and Golden Globes.It's worth noting it's been a decade since the hashtag #OscarsSoWhite started trending, due to the lack of diversity at the 2015 Academy Awards.This year, there are people of colour in both the best actress and best actor categories.In fact, Sing Sing's Colman Domingo is nominated for best leading actor for the second year in a row.Elsewhere, however, progress remains slow.Coralie Fargeat is the only woman to be nominated for best director, for The Substance, out of a field of five.\"Has there been progress, yes. Has there been enough? Absolutely not,\" April Reign, LA-based founder of the #OscarsSoWhite movement, told me.\"It was never just about the Oscars not being black enough. It was also about gender, age, class, sexuality and geography too.\"\"If we're still able to count them on one hand, then we're not there yet.\"Most of the nominees will be gracing the red carpet – I'm already betting we'll see more tears and hand holding from Cynthia Erivo and Ariana Grande.There had been a big question mark over whether Karla Sofía Gascón will show up after the row over her past tweets.However, it's been confirmed she will attend the Oscars ceremony itself – although it remains to be seen if she will walk the red carpet and sit with her co-stars.Presenters include Halle Berry, Whoopi Goldberg, Robert Downey Jr, Cillian Murphy, Da'Vine Joy Randolph and Emma Stone.This year's Oscars race has played out against the grim backdrop of devastating wildfires in Los Angeles.The nominations themselves were postponed twice due to the fires.There's no doubt it's going to be hard for the awards to strike the right tone when so many people are suffering. It doesn't sit well with celebrities flaunting their wealth on the red carpet.Cancelling the whole event, however, was \"never on the table,\" according to Lynette Howell Taylor, an LA-based British film producer and member of the Academy's board of governors, who lost her own house in the fires.She told me there would \"definitely be recognition of what the city has gone through\" during the ceremony, with clear signposting of support mechanisms and ways to donate.\"But ultimately the show will be about the celebration of the movies of the year, like it is every year,\" she said.This year, the Academy has done away with having the original song nominees perform during the ceremony.Instead, Wicked stars Erivo and Grande will perform a medley of songs from the film during the Oscars ceremony, which will last a reported 10 minutes long.I can already see social media going into a meltdown over Defying Gravity, but it remains to be seen if the duo can recreate the energy of Ryan Gosling's viral performance of I'm Just Ken last year.Doja Cat, Lisa from Blackpink, Queen Latifah and Raye will be among the other performers during the ceremony.The Academy Awards ceremony is hosted this year for the first time by comedian and podcaster Conan O'Brien.He replaces US late night presenter Jimmy Kimmel, who has presented the show four times including last year.The 2025 Oscars will air live on Sunday 2 March from the Dolby Theatre in Hollywood, where the ceremony has been held since 2002.The show can be watched in the US on ABC and can be streamed on Hulu. It is also being broadcast around the world in more than 200 territories.UK viewers can watch on ITV and ITVX from 22:30 GMT.Cynthia Erivo is the first black British woman to receive two Oscar nominations for acting, after also being nominated for Harriet in 2020.If she wins best actress this time, for playing Elphaba in Wicked, she'll become an EGOT - having completed the set of Emmy, Grammy, Oscar and Tony awards.Ralph Fiennes is flying the flag in the best actor category with his first nomination for 28 years. He's recognised for playing a cardinal who oversees the selection of a new Pope in Conclave.Elsewhere, Felicity Jones is nominated for best supporting actress for The Brutalist - a decade after her first Oscar nomination - while Sir Elton John is in the best original song race.The country will also be rooting for two more screen legends - Wallace and Gromit (and their makers Aardman Animations), who are hoping for their fourth Oscar. They are shortlisted for best animated feature for their latest outing, Vengeance Most Fowl.Read more about this year's awards season films:A Complete Unknown: Critics praise Chalamet's portrayal of Bob DylanA Real Pain: Succession star praised for emotional film roleAll We Imagine As Light:  An Indian tale of love and sisterhood unfoldsAnora: Mikey Madison praised for breakout role as New York stripperThe Apprentice: Sebastian Stan says Trump 'should be grateful' for controversial filmBird: Saltburn star plays chaotic young dad in Bafta-tipped filmBlitz: Saoirse Ronan says WW2 film is 'incredibly relevant'The Brutalist: Film honours my family's hardships and loss, says actor Adrien BrodyConclave: Critics praise 'skin-prickling suspense'Emilia Pérez: Selena Gomez 'shines' in Oscar-tipped musicalGladiator II: Mescal was cast in Gladiator II after '30-minute Zoom call'Hard Truths: Marianne Jean-Baptiste on Oscars buzz for playing 'difficult' womanI'm Still Here: Film brings Brazil's dictatorship past to the surfaceLee: Kate Winslet says women should celebrate 'being a real shape'Maria: Angelina Jolie 'spellbinding' as opera star CallasNickel Boys: Film adaptation 'breaks the rules of cinema'Nightbitch: Amy Adams turns into a dog in 'bizarre and brilliant' filmNosferatu: 'We're all considering death all the time': Willem Dafoe on new vampire filmThe Piano Lesson: Denzel Washington's children join forces in 'fearless' filmQueer: Critics divided over Daniel Craig filmThe Room Next Door: Tilda Swinton film sparks euthanasia debateSing Sing: Colman Domingo wins Gotham prize as Oscars race heats upThe Substance: Demi Moore is over being perfect in new 'risky and juicy' horror roleWicked: Ariana Grande channelled her loss into Wicked role"
        ],
        [
         "7",
         "https://www.bbc.com/news/articles/c0egl7l40z7o",
         "Former Governor Andrew Cuomo announces run for New York City mayor",
         "It marks a potential political comeback after Cuomo resigned amid a barrage of sexual assault claims.",
         "2025-03-01T19:47:49.941Z",
         "Max Matza and Christal Hayes",
         "Andrew Cuomo, who resigned four years ago as New York governor under a cloud of scandal, has declared he is running for mayor of New York City. \"Our city is in crisis,\" Cuomo posted in a 17-minute video on X, adding: \"We need government to work. We need effective leadership.\"It heralds a potential political comeback in this year's election for the Democrat, who quit in 2021 amid sexual misconduct allegations and scrutiny of his handling of the Covid pandemic. America's most populous city is in a state of political turmoil as current Mayor Eric Adams denies claims he struck a deal to help the Trump administration with migrant raids in exchange for dropping a federal corruption case against him. The former governor joins an already crowded contest, which includes lawmakers, young newcomers and Mayor Adams himself, though it is Cuomo who has the most name recognition. The three-term governor resigned after an investigation found he had sexually harassed 11 women, including state employees.The state-led inquiry determined he had made sexual comments, inappropriately touched or groped the women and kissed them without consent.At the time, President Joe Biden led calls from Democrats for the embattled Cuomo to step down, and state lawmakers raised the prospect of impeachment.When the governor left office, he denied harassing anyone, but said he wanted to \"deeply, deeply\" apologise to any women who might have been offended by his actions.Cuomo's stunning downfall happened a year after he basked in the adulation of millions of Americans who had tuned in daily to his no-nonsense televised briefings on the coronavirus pandemic.But a report in 2022 found that under his administration, the state hid at least 4,100 Covid-related nursing home deaths from the public.Cuomo admitted to a \"delay\" in reporting, but denied allegations that his administration purposely misled New Yorkers.New York Governor Andrew Cuomo resigns in wake of harassment reportChris Cuomo: CNN fires presenter over help he gave politician brotherAndrew Cuomo accuser: New York governor 'groped me'Opinion polling by New York media in recent weeks has projected that Cuomo would become frontrunner if he entered the mayoral race.Days before the campaign was launched, Cuomo received the surprise backing of congressman Ritchie Torres, who represents the Bronx.\"Andrew Cuomo has the competence to govern the city. He has the courage to stand up to extremist politics - both from the far left and far right,\" he told the New York Post.\"We don't need a Mr Nice Guy. We need a Mr Tough Guy.\"Cuomo's supporters have also launched a political action committee called Fix the City, which states it aims to raise $15m (£12m) for his campaign war chest.One of Cuomo's former aides who accused him of sexual harassment told the New York Post on Saturday that she fears women's rights will suffer if he wins election.\"New York City may elect a mayor who has been rightfully accused of sexual misconduct by several young women who worked for him in up-close positions,\" said Karen Hinton.\"As a movement, we women haven't done enough to toughen laws to protect women from such immoral, unethical, and what should be illegal behaviour by men in positions of power, such as Cuomo.\"The Democratic primary vote will take place in June. The eventual winner is expected to defeat any Republican challenger during November's election and become the city's next mayor.The latest: Judge pauses NYC mayor Eric Adams trial in corruption caseGovernor Hochul will not remove NYC Mayor Adams from officeForeign bribes, cheap flights: What is Eric Adams accused of?Adams has chosen to remain in the race, even while facing federal fraud, bribery and other charges. The Trump administration is seeking to dismiss the charges, arguing that the charges have damaged the mayor's ability to aid the president's agenda and were politically motivated. The attempt caused Manhattan's lead prosecutor and six other high-level federal prosecutors in New York to resign in protest, saying there was no legal justification for the White House directive to end the prosecution.Meanwhile, the judge in the case has cancelled the upcoming trial in April as he works to decide whether the case should be dropped or not. New York Governor Kathy Hochul, who took over for Cuomo after he resigned, said last month that she was declining to use her authority to replace Adams, at least for now, and would instead move to limit his authority.Adams has denied making a \"quid pro quo\" with Trump's office to help in the removal of illegal migrants, last month calling the assertion \"silly\".Adams was indicted last year for allegedly accepting gifts totalling more than $100,000 from Turkish citizens in exchange for favours. He denies the charges.His office has been plagued by staff departures and scandals, even before charges were pressed against him. A number of figures in his orbit have also been indicted as part of the investigation."
        ],
        [
         "8",
         "https://www.bbc.com/news/articles/czx7kez4vx2o",
         "Cuts to national parks and forests met with backlash",
         "Employees who maintained America's most wild places say they are concerned for public safety and for wildlife.  ",
         "2025-03-01T05:14:00.310Z",
         "Max Matza",
         "The Trump administration's steep cuts to staff at national parks, forests and wildlife habitats have triggered a growing backlash, as public access and conservation efforts in these remote wild landscapes fade away.The impacts have already been felt by visitors - who are seeing longer park entrance lines, reduced hours at visitor centres, trails closed and dirty public facilities - and workers who not only are worried about their futures as their jobs vanish, but also the state of these outdoor marvels eroding. Each season, Kate White and her team typically carry 600lbs (270kg) of litter on their backs out of the Enchantments, a sensitive alpine wilderness located in Washington state that welcomes over 100,000 visitors a year.Remote and often covered in snow and ice, staff are needed to maintain backcountry toilets that must be serviced with helicopters, which Ms White says may overflow without proper maintenance.  \"I'm not totally sure what the plan is to get that done,\" she says.\"That's probably gonna be very damaging to the ecosystem in that area, and maybe to the visitor experience.\"But one of the most important parts of her job was to keep people safe - and be there if the worst happened.As a National Forest wilderness ranger for over nine years, she has seen her share of tragedy when hikers or campers are confronted with severe weather and remote and tricky terrain. She has comforted people who have faced life-threatening injuries and even recovered bodies of hikers who died while out in the steep and often icy mountain region.\"We were kind of usually first on scene if something were to happen,\" she says.On any typical Saturday in the summer months, she'd speak to an average of 1,000 visitors. She and her team published reports on trail conditions and helped hikers who appeared unprepared - wearing sandals or not carrying enough water - and guided them to easier and safer routes. Now, those jobs are gone.She worries what the cuts will mean for the future of public safety and how people experience US parks and forests, especially ahead of the busy spring and summer months when millions travel to visit. Mass terminations, first announced on 14 February, have led to 5% of the National Park Service staff – around 1,000 workers - being forced out.The cuts have hit the US Forest Service, which maintains thousands of miles of popular hiking trails, even harder. Around 10% of the Forest Service's staff - about 3,400 people, including Ms White and her team - have been fired.The cuts have upended the management of national parks, which get around 325 million visitors annually, as well as national forests, which see about 159 million visitors each year.Long queues of cars were stuck outside Grand Canyon National Park over President's Day weekend, one day after the mass firing, due to a lack of toll operators to check people in at the gate. Similar lines of cars have been growing at other parks as well.A popular trail outside Seattle was closed indefinitely only hours after the cuts were announced, with a sign at the trailhead explaining that the closure is \"due to the large scale termination of Forest Service employees\" and \"will reopen when we return to appropriate staffing levels\".At Yosemite National Park, the annual \"firefall\" spectacle led to a different kind of display this year when a group, which reportedly included employees, hung an upside-down American flag at the park in protest of the Trump administration's recent deep cuts to staff.Andria Townsend, a carnivore biologist who supervised a team of eight people at Yosemite National Park before she was fired in an email, told the BBC she \"100%\" supports the protest.\"It's bringing lots of good attention to the issue,\" she says.She says she is especially worried for the future of the endangered species that she had been working to protect.Ms Townsend studied and attached GPS collars to the Sierra Nevada red fox and the Pacific fisher, which is related to a badger, in attempts to track and preserve the species.\"They both are in dire straits,\" she says, with only about 50 fishers and 500 red fox left in the wild.Staff at a sister site conducting similar research were also cut.\"I don't want to be doom and gloom, but it's really hard to say what the future is now,\" she says.\"The future of conservation just feels very uncertain.\"Long-time couple Claire Thompson, 35, and Xander Demetrios, 36, have worked for the Forest Service for about a decade, most recently maintaining trails in central Washington state so that hikers could explore the snow-capped Cascade mountains.The email firing them and thousands of other staff cited \"performance\" issues – something they took issue with.\"Especially with the amount we've gone above and beyond,\" says Mr Demetrios, explaining that his work in the backcountry had carried significant risk to his safety, and sometimes involved rescuing people from dangerous situations, including one person who had fallen in a river and become hypothermic.He and Ms Thompson have carried heavy equipment through rugged terrain, through foul weather at times, to clear trails and repair bridges and outhouses – and never being paid more than $22 (£17.40) an hour.\"It's been hurtful - insulting - to just feel like your work is so devalued, and by people who I'm quite certain have like zero concept of what we do at all,\" Ms Thompson added. Following a backlash, dozens of national park staff were reportedly rehired since the mass terminations on Valentine's Day. Interior Secretary Doug Burgum, whose department oversees the National Park Service (NPS), has also committed to hiring over 5,000 seasonal workers during the coming warm months.\"On a personal level, of course, I've got great empathy for anybody that loses a job,\" Burgum told Fox News last Friday.\"But I think we have to realise that every American is better off if we actually stop having a $2 trillion a year deficit.\"The Department of Government Efficiency (Doge) being spearheaded by Elon Musk claims to have saved over $65bn from the widespread cuts which have hit dozens of federal agencies across government. However, it has produced no evidence to back that figure, which would represent around 0.9% of the entire 2024 federal budget.Outdoor advocates say that travellers currently planning their outdoor vacations to national parks should expect numerous issues, including increased litter, a shortage of lodging and the unavailability of many services they have come to expect.\"If the administration doesn't reverse these policies, visitors are going to need to lower their expectations,\" says John Garder of the National Parks Conservation Association (NPCA) in Washington DC.Some of these cuts are already being felt: Yosemite has fired their only locksmith, Gettysburg fired the staff who handle cabin reservations for visitors, and hurricane damage to the Appalachian Trail won't get repaired in time for through-hikers trying to complete the 2,200-mile (3,540km) trail.Meanwhile, private businesses that operate in and around parks stand to lose out on billions of dollars if visitors drop off, according to the NPCA.Concerns are also growing about the absence of park and forest service personnel who assist in wildfire fighting during the dry season.Wildland firefighters, like Dan Hilden, have so far been exempted from forest service cuts. He says the roles of the people who were terminated are \"completely crucial\" to fire safety. Many directly fight fires, while others are responsible for \"sweeping\" backcountry trails - telling people to leave and ensuring that no one is in danger from expanding fires.\"I don't know how we'll be doing that this summer, because we're heavily dependent on them,\" says Hilden, explaining that it takes several days to travel into the wilderness for these sweeps.\"Every year things have been getting worse as the staffing issues go. This year is going to be a lot worse.\""
        ],
        [
         "9",
         "https://www.bbc.com/news/articles/c36w7e4kglzo",
         "Pilates, painting and bike rides: Gene Hackman's life in Santa Fe",
         "After leaving Hollywood, Gene Hackman retired in Santa Fe, New Mexico, where he became a fixture in the community.",
         "2025-03-01T11:16:44.140Z",
         "Samantha Granville",
         "Gene Hackman was a normal person in Santa Fe. And he really loved that.Residents in the New Mexico city say they were excited to welcome such a massive celebrity to the community when he and his wife Betsy Arakawa arrived more than 20 years ago, but they treated him like anyone else.\"He wasn't famous here\" was the phrase I heard when asking residents about why the movie star chose to call New Mexico's capital home. They describe a down-to-earth, chatty man who supported local businesses and enjoyed its flourishing arts scene.Everyone here has a story to tell about Hackman, who was found dead alongside his wife and their dog at their home in the quiet desert city earlier this week. Hackman was a lover of the arts and a painter himself, so he fit in well: Santa Fe is known for its iconic adobe architecture and is home to more than 250 galleries.Everything in Santa Fe is colourful, from the woven tapestry hanging on shop walls to the clothes people wear and even their personalities.There are murals in almost every alley and metal street art lining the roads. Hackman immediately got involved with local art museums, most notably sitting on the board of directors at the Georgia O'Keeffe museum, while Arakawa had a luxury home-goods store, and collaborated with artists on various projects.Hackman's paintings are displayed prominently at local restaurants, and there are a few lucky residents who have them hanging in their home.One of those people is Stuart Ashman, the executive director of the Artes de Cuba gallery.Mr Ashman first met Hackman at a community arts meeting. He was running late and there was one seat left when he arrived: next to the Hollywood star.They shook hands and that started two decades of friendship.\"He was so down to earth that you didn't realize that you were talking to a celebrity. He was more interested in you than in telling you about himself,\" Mr Ashman said.While both men supported the arts community, their real bond came through Pilates workouts when they took back-to-back private lessons.When asked who was better, Mr Ashman laughed. \"I think we're both pretty bad,\" he said. \"Our teacher said I was lazy and he was older and stiffer.\"Mr Ashman said Hackman often got in trouble for being too much of a chatterbox.\"Gene, are you going to workout or do you just want to talk to Stuart today?\" Mr Ashman recalls their Pilates teacher asking.Every week, Mr Ashman, who raised chickens, would bring a dozen eggs to Hackman. Then one day, he showed up with a huge landscape painting as repayment to Mr Ashman, who didn't want to accept it. But Hackman insisted and said a painting for eggs is \"a very fair deal\". When Hackman wasn't at Pilates or riding his bike through the beautiful landscape, he loved to spend time at his home  in the hills above the city, his friends said.Perched on a 12-acre plot, the property has panoramic views of the surrounding mountains, with vistas stretching as far as Colorado.Hackman purchased the home in the 1980s before starting expansive renovations. He wanted this home to have meaning, so he worked with an architect to blend  Pueblo, Colonial, and Spanish Baroque architectural styles to pay homage to Santa Fe's rich cultural history.Arakawa also enjoyed her secluded life in Santa Fe. People I spoke to said she was a talented pianist and smart business woman. The only person who liked working out more than Hackman was Betsy. They said she was in incredible shape, always attending exercise classes.  Though Hackman was an active member of the community for most of his post-Hollywood years, he became much more isolated after Covid-19 lockdowns, locals said.Those who knew him speculate his health and age made mobility too difficult to wander down the hill into town.But everyone still had a story about Hackman.James Roybal, a native of Santa Fe, once signed up for a pastel painting class in the 1980s and when he arrived Hackman was also there.They painted next to each other for a bit, making small talk.Mr Roybal couldn't believe the celebrity would want to be there. He took a picture from a ways back because he didn't think anyone would believe him. He still boasts about the image.Victoria Murphy, a real estate agent and actress, saw him around town on several occasions.\"I was in the middle of the street as I was crossing in the crosswalk, and he started to go through the stop sign at that time, and then suddenly saw me stopped, waved, smiled, held up both hands, you know, like in a surrender,\" she recalled.  \"And I just smiled and kept going.\"At a local restaurant in town, customers told me they'd see him at the grocery store, or shopping on the high street. David, the general manager of a shop in downtown Santa Fe where Hackman was a long-time patron, was holding back tears, remembering his friend and client.\"Since he lived here, he wanted to use his money towards the local people. He always bought Seiko watches from my store for his friends and family. \"He invested in local restaurants and grocery stores, and showed up to openings for art museums. It obviously wasn't because he needed the money, but because he loved the local flare,\" he said.\"We lost a great Santa Fein.\""
        ],
        [
         "10",
         "https://www.bbc.com/news/videos/cdel2npwe50o",
         "Watch: Angry exchanges between Trump and Zelensky at White House",
         "The US president accused the Ukrainian leader of being disrespectful in a tense meeting in the Oval Office.",
         "2025-02-28T18:15:09.150Z",
         null,
         "US President Donald Trump and Ukraine's President Volodymyr Zelensky clashed during an angry meeting at the White House on Friday.Trump rebuked his Ukrainian counterpart, telling him to be more \"thankful\" for US support and accusing him of \"gambling with World War Three\" by not going along with ceasefire plans led by Washington.It came a week after Zelensky said Trump was \"living in a disinformation space\" created by Russia, with the US leader accusing Zelensky of being a \"dictator\".Follow live reaction and analysis"
        ],
        [
         "11",
         "https://www.bbc.com/news/articles/cn9v1l80350o",
         "Trump to order English as official US language",
         "The United States has never had an official language since it was founded nearly 250 years ago.",
         "2025-02-28T16:40:24.021Z",
         "Caitlin Wilson",
         "Donald Trump will sign an executive order on Friday making English the official language of the United States, according to White House officials.The US president is also expected to scrap requirements that federal agencies provide language services to non-English speakers. The US has never had an official language in the nearly 250 years since the country was founded.The order is intended to improve government efficiency and promote national unity, according to White House officials.Nearly 68 million of the country's 340 million residents speak a language other than English, according to the US Census Bureau, which includes more than 160 Native American tongues.Friday's executive order will roll back a policy from 2000 signed by former President Bill Clinton requiring government agencies and federal funding recipients to \"ensure that their programs and activities normally provided in English are accessible to LEP (low-English proficiency) persons\".Agencies will still be allowed to provide that language access to non-English speakers, according to White House officials.Republicans have led efforts in the past to label English as the country's official language, with members of the House as recently as 2021 introducing legislation on it that failed. Those who opposed those efforts say that the country does not need an official language, pointing to the high numbers of people who speak it and to the country never having one, while also saying establishing one could promote discrimination against non-English speakers.During his presidential campaign last year, Trump included non-English languages in his statements calling for stricter immigration policies.\"We have languages coming into our country. We don't have one instructor in our entire nation that can speak that language,\" he told a crowd of supporters in February 2024.\"It's the craziest thing - they have languages that nobody in this country has ever heard of. It's a very horrible thing,\" he said.And during the 2016 campaign he said, \"This is a country where we speak English. It's English. You have to speak English!\"When the US was founded, most residents spoke English and those writing the country's constitution did not feel it was necessary to enshrine it as the official language and also did not want to alienate fellow new citizens who spoke German or other languages, according to most scholars.  The languages currently spoken the most in the US after English are Spanish, various Chinese languages, Tagolog, Vietnamese and Arabic, according to the Census Bureau. A further approximately one million people use American Sign Language, according to experts.Approximately 180 countries around the world designate official national languages, and most countries recognise multiple official languages. However, several countries besides the US do not have an official language, including the United Kingdom.There are more than 30 US states which have designated English as the official language, while Alaska and Hawaii have also bestowed official status on several native languages."
        ],
        [
         "12",
         "https://www.bbc.com/news/videos/c2ljkny0j00o",
         "Watch: Protesters target JD Vance in Vermont",
         "The vice-president and his family reportedly moved to an undisclosed location from their planned ski resort as a result.",
         "2025-03-02T11:01:40.856Z",
         null,
         "Protesters holding pro-Ukraine signs lined a road in Waitsfield, Vermont, where Vice-President Vance and his family were visiting for a ski holiday.US media reported the family moved to an undisclosed location from their planned ski resort because of the demonstrations.A protest in Waitsfield against the Trump-Vance administration had been organised earlier in the week - before the US president and vice-president's clash with Zelensky - but many signs referenced the row and Russia's war with Ukraine.Read more - Pro-Ukraine protests across US after Trump-Zelensky clash"
        ],
        [
         "13",
         "https://www.bbc.com/news/videos/crewqz93yzqo",
         "Moment Zelensky walks out of White House as press conference is cancelled",
         "The president ignored the questions that were shouted as he was leaving the White House.",
         "2025-02-28T19:01:37.383Z",
         null,
         "After a tense Oval Office meeting, President Zelensky rushed into a black SUV. The scheduled press conference between Zelensky and Trump was cancelled after an angry exchange in the Oval Office."
        ],
        [
         "14",
         "https://www.bbc.com/news/videos/c0rzzjq4vpvo",
         "Watch: Decoding the PM's meeting with Donald Trump",
         "The handshake, the jokes and diplomacy by flattery - analysing Starmer's first visit to the White House.",
         "2025-02-27T23:16:23.507Z",
         null,
         "UK Prime Minister Sir Keir Starmer has made his first visit to the White House to meet US President Donald Trump. The BBC's Damian Grammaticas decodes their meeting."
        ],
        [
         "15",
         "https://www.bbc.com/news/videos/c36wwzpj1w7o",
         "BBC Verify: Viral Donald Trump Jr audio highly likely AI fake",
         "A clip of Donald Trump Jr allegedly saying on his podcast that the US should have sent arms to Russia rather than Ukraine was very likely generated with AI, experts say.",
         "2025-02-27T19:41:26.617Z",
         null,
         "A widely shared clip of Donald Trump Jr allegedly saying on his podcast that the US should have sent arms to Russia rather than Ukraine has been very likely generated using AI, audio forensics experts have told BBC Verify. Olga Robinson explains why the audio is suspect.Produced by Jemimah Herd. Graphics by Jacqueline Galvin. Additional reporting by Shayan Sardarizadeh."
        ],
        [
         "16",
         "https://www.bbc.com/news/videos/c0mwwpwrw14o",
         "Watch: Trump welcomes Starmer to the White House",
         "The highly anticipated meeting between the two leaders began with a question and answer with the press. ",
         "2025-02-27T19:39:08.775Z",
         null,
         "US President Donald Trump has welcomed UK Prime Minister Sir Keir Starmer to the White House, commencing a highly anticipated meeting between the two leaders. Sir Keir's visit comes days after France's Emmanuel Macron visited the US, for talks on Ukraine and defence. On Friday, Ukraine's President Zelensky will arrive in Washington DC to sign what Trump calls a \"very big agreement\" on minerals."
        ],
        [
         "17",
         "https://www.bbc.com/news/articles/c24110m30ddo",
         "In the US, DEI is under attack. But under a different name, it might live on",
         "Donald Trump has promised to \"terminate\" diversity programmes. But a rebrand might yet save them.",
         "2025-03-02T01:13:19.769Z",
         "Brandon Drenon",
         "In Union County, South Carolina, the sprawling cotton mills that once put bread on the table for many are long gone. Union is also what is termed a \"food desert\", where many residents live far from the nearest supermarket. So in 2016, local non-profit director Elise Ashby began working with farmers to deliver discounted boxes of farm-fresh produce across the county, where 30% of the population is black and roughly 25% live in poverty.To fund this, Ms Ashby first relied on her own savings and then some small-scale grants. But in 2023, the Walmart Foundation - the philanthropic arm of one of America's largest corporations - awarded her over $100,000 (£80,000), as part of a $1.5m programme to fund \"community-based non-profits led by people of colour\".\"I cried a little bit,\" she says. \"It was just one of those times where, like, somebody actually sees what you're doing.\"Two years ago, this was the kind of programme that attracted sponsorship from major companies across America, as the country grappled with racism past and present following the murder of George Floyd, a black man suffocated under the knee of a Minneapolis police officer during an arrest in 2020.But now, those same companies are pulling back. Walmart announced in November that it was ending some of its diversity initiatives, including plans to close its Center for Racial Equity, which supported Ms Ashby's grant.Corporations from Meta and Google to Goldman Sachs and McDonald's have all announced similar changes as part of a larger retreat from diversity, equity and inclusion programmes (DEI) across the corporate landscape.The moment represents a stark cultural shift, fuelled in part by fears of lawsuits, investigations, and social media backlash, as well as relentless pressure from the new president of the United States.Since assuming office in January, Donald Trump has aggressively sought to \"terminate DEI\" and \"restore merit-based opportunity\" in the US. He has directed the federal government to end its DEI programmes and investigate private companies and academic institutions thought to be engaged in \"illegal DEI\".In the early days of his second term, the Veterans Affairs department has closed its DEI offices, the Environmental Protection Agency has placed nearly 200 employees who worked in its civil rights office on paid leave and Trump has fired the top military general, a black man whom his defence secretary had previously said should be fired because of his involvement in \"woke\" DEI.At first sight, it may appear that the US's experiment with policies designed to improve outcomes for specific racial and identity-based groups is finished. But some experts suggest there's another possibility, that some such efforts will continue - but in a different guise, one more suited to the political mood of a country that has just elected a president who has pledged a war on \"woke\".Programmes resembling DEI first emerged in earnest in the US in the 1960s, in the wake of the civil rights movement that fought to protect and expand the rights of black Americans.Under names like \"affirmative action\" and \"equal opportunity\", initially their aim was to reverse the damaging effects of centuries of enslavement of African Americans and decades of discrimination under \"Jim Crow\" laws that enforced racial segregation.As the movement evolved, promoting the rights of women, the LGBT community, and other racial and ethnic groups, use of the terms \"diversity\", \"equity\" and \"inclusion\" became more widespread.DEI programmes in the corporate world and government agencies have often focused on hiring practices and policies emphasising diversity as a commercial benefit. Their supporters say they aim to address disparities affecting people from a range of backgrounds, though a significant emphasis tends to be on race.The programmes saw a huge upswing in 2020 during the social unrest of the Black Lives Matter movement. For example, Walmart committed $100m over five years to its racial equity centre. Wells Fargo appointed its first chief diversity officer; Google and Nike already had theirs in place. After adjusting their hiring practices, companies listed on the S&P 100 added more than 300,000 jobs – 94% of which went to people of colour, according to Bloomberg.But almost as quickly as the pendulum swung left, a conservative backlash began. For Stefan Padfield, executive director of conservative think-tank the National Center for Public Policy Research, DEI programmes are based on a premise that \"divides people on the basis of race and sex\".More recently, these arguments that programmes intended to combat discrimination were themselves discriminatory, particularly against white Americans, have been made with increasing force. Training sessions emphasising concepts like \"white privilege\" and racial bias have drawn particular scrutiny.The roots of this opposition took hold in conservative opposition to critical race theory (CRT), an academic concept which argues racism is endemic to American society. Over time, the campaign to remove books from classrooms that allegedly indoctrinated students into CRT thinking evolved into one focused on \"punishing woke corporations\".Social media accounts like End Wokeness and conservative activists such as Robby Starbuck seized the moment to target companies accused of being \"woke\". Mr Starbuck has taken credit for changes in policy at the likes of Ford, John Deere and Harley-Davidson after he publicised details of their DEI initiatives to his social media followers.One of the clearest signs of this movement's strength came in spring 2023, after a Bud Light partnership with transgender influencer Dylan Mulvaney sparked right-wing outrage and calls for a boycott of the beer and its parent company Anheuser-Busch. In the aftermath of the campaign, Bud Light sales were 28% lower than usual, a Harvard Business Review analysis found.Another major victory for conservatives arrived in June 2023, when the Supreme Court ruled that race could no longer be considered as a factor in university admissions, reversing decades of affirmative action-based policy.The ruling also cast the legal standing of corporate DEI policies into uncertainty. When Meta made the internal announcement it was cancelling DEI programmes, the company told staff \"the legal and policy landscape\" surrounding DEI had changed.The speed at which some large corporations have shed their DEI policies raises the question of how genuine their commitment to diversifying their workforces was in the first place.Martin Whittaker, chief executive at JUST Capital, a non-profit that surveys Americans on workplace issues, says much of the backtracking comes from companies who were \"rushing to kind of look good\" at the height of the Black Lives Matter movement.But not all are yielding to political and legal pressure. Conservative think-tank the Heritage Foundation noted in a November report that although DEI programmes appear to be trending downwards, \"nearly all\" Fortune 500 companies still list DEI commitments somewhere on their websites. Apple shareholders recently voted to continue diversity programmes at the company.Surveys that measure Americans' support for DEI offer mixed results. JUST Capital's survey suggests support for DEI has declined, but support for issues closely linked to it - such as fair pay - have not. A 2023 survey from the Pew Research Center suggested most employed adults (56%) believed \"focusing on increasing DEI at work is a good thing\".Much rests on the question of whether DEI is actually effective in the first place.Some research has suggested that DEI programmes like diversity training can in fact be harmful. According to one study by researchers from Harvard University and the University of Tel Aviv, trainers commonly report hostility and resistance from employees who feel forced to do the training and threatened by what they see as reverse discrimination; it also says the programmes can often leave trainees feeling more hostility towards other groups.This research has been seized on by DEI's opponents as part of the evidence that \"the best way to improve the lives of all our citizens, and all our neighbours, is to allow the free market to lift all the boats\", as Mr Padfield puts it.Google joins firms dropping diversity recruitment goalsMeta and Amazon scale back diversity initiativesApple boss says its DEI programmes may changeThe problem with this kind of thinking, according to Siri Chilazi, a researcher focused on gender equity at Harvard University, is that there is no historical precedent to suggest that racial and gender imbalances will correct themselves. Mrs Chilazi says racial and gender barriers still exist and believes DEI solutions focused on \"levelling the playing field for all\" are needed.She cites multiple experiments that show white men disproportionately receive more responses after applying for jobs than women or people of colour. A recent study by the National Bureau of Economic Research sent identical CVs to roughly 100 of the largest US companies and found that applicants presumed to be white were contacted by employers 9.5% more often than applicants presumed to be black - with one company contacting presumed white applicants 43% more often.But Mrs Chilazi also says there are genuine issues with many DEI programmes, adding that the most common programmes - including diversity and unconscious bias training and employee resource or affinity groups - are often the least effective. A recent study highlighting the ineffectiveness of some DEI practices said a common issue was treating them as an end goal in themselves, without measurable outcomes.And when it comes to large corporations donating money towards DEI initiatives – like Walmart's equity centre – Mrs Chilazi says the problem is that there is not much data to show how effective this is. \"This is an area where we actually don't have good research,\" she says.Where studies have shown DEI to be effective is when it comes to making \"small systemic changes\", she says. There is evidence to suggest replacing open-ended questions in performance evaluations with more specific ones, such as \"what's the one biggest accomplishment of this person last year?\", has shown significant reductions in gender and racial evaluation gaps that can affect pay, according to Mrs Chilazi.Supporters of DEI say the real-world impact of the shift from it can be seen at Harvard University, which was targeted in the landmark Supreme Court case.Last autumn, Harvard Law School reported having only 19 first-year black students among more than 500 students that enrolled, according to the American Bar Association. That was less than half the number from the previous year – 43 – and the lowest since the 1960s. The law school also saw a significant decline in Hispanic student enrolment, which dropped from 63 to 39 between 2023 and 2024.Colleges and schools have already begun making adjustments in response to the new climate. At one university, a lunar new year celebration was cancelled; another ended a decades-long forum on race. Elsewhere, social clubs for black and Asian students have been disbanded.But the ruling's impact does not appear straightforward. Enrolment numbers for black and Hispanic students at some other top US colleges have actually increased since the Supreme Court's decision.For the freshman class that arrived in the autumn, Northwestern University saw an 11% rise in enrolment for black students and a 13% increase for Hispanic students.Because of results like these, some DEI opponents have accused universities of flouting the court's ruling.But another explanation offered for the increase in diversity at some universities is a shift towards \"socio-economic inclusion\" instead of race and ethnicity - which nonetheless appears to have achieved the same objective.Dartmouth University's Hispanic student enrolment jumped from 9.7% to 12.7% last year, after adjusting to make the school \"more accessible for low- and middle-income families\", it said in a press release.It's clear that the anti-DEI campaigns are having a significant real-world impact. \"I think we are in the midst of a big shift,\" says Mrs Chilazi.Michelle Jolivet, author of Is DEI Dead?: The Rebranding of Inclusive Organizations, says she is worried that the anti-DEI movement will lead to progress stalling for historically disadvantaged groups.\"Things that matter are measured, and when you stop measuring them, they stop happening,\" she says. \"Then you do stop making progress.\"But as to the question at the centre of her book – is DEI dead? – Jolivet says the answer is no.The companies that appear to have cancelled their DEI programmes are not really eliminating them, she says. Instead, they are just rebranding and reorganising to escape potential lawsuits.She gave the example of Walmart renaming its chief diversity officer to chief belonging officer. Similarly, McDonald's gave one of its programmes a facelift, changing the name of its Global DEI Center of Excellence to the Global Inclusion Team.\"DEI has become more of a controversial word,\" she says. \"If I just take that word out, I can still do the same thing.\"But not everyone is reassured.Back in the fields of Union County, Elise Ashby looks towards the future with uncertainty. The grant from Walmart gave her access to capital that she argues black-owned businesses often struggle to obtain.She fears a return to when she \"stayed up nights\" wondering where the next cheque would come from and facing the kind of obstacles \"white men don't have\".She says: \"Am I concerned about the future? Absolutely.\"Additional reporting by Natalie ShermanTop image credit: Getty ImagesBBC InDepth is the home on the website and app for the best analysis, with fresh perspectives that challenge assumptions and deep reporting on the biggest issues of the day. And we showcase thought-provoking content from across BBC Sounds and iPlayer too. You can send us your feedback on the InDepth section by clicking on the button below."
        ],
        [
         "18",
         "https://www.bbc.com/news/articles/cewkg71d8rlo",
         "Vance took the lead attacking Zelensky. Why?",
         "Is the US vice-president doing Trump's bidding or looking to the future?",
         "2025-03-01T18:30:48.840Z",
         "James Landale",
         "JD Vance's remarkable dressing down of Volodymyr Zelensky in the Oval Office on Friday showed the US vice-president unafraid to take centre stage as an attack dog, rather than serve like some of his predecessors as a self-effacing political understudy.It was Vance who led the attack on Zelensky before Donald Trump joined the fray at the White House in a meeting that had been cordial until the vice-president spoke up to laud the president for seeking what he described as a diplomatic solution to the Ukraine-Russia war.\"What kind of diplomacy, JD, you are speaking about?\" said Zelensky, who has been critical of direct talks between Washington and Moscow. \"What do you mean?\"\"I'm talking about the kind of diplomacy that's going to end the destruction of your country,\" Vance responded, tearing into the stunned Ukrainian leader.\"Mr President, with respect, I think it's disrespectful for you to come into the Oval Office to try to litigate this in front of the American media.\"He also accused Zelensky of having campaigned on behalf of Democrats during the 2024 presidential election. The Ukrainian leader visited a munitions factory in the critical swing state of Pennsylvania last September and met Trump's rival, Kamala Harris, at the White House.Vance's upbraiding of Zelensky drew broad support among Republicans.\"I was very proud of JD Vance standing up for our country,\" said South Carolina Senator Lindsey Graham, a longtime advocate for Ukraine and a foreign policy hawk. He suggested Zelensky should resign.Alabama Senator Tommy Tuberville referred to Zelensky as \"that Ukrainian weasel\".Congressman Mike Lawler of New York was more measured, saying the meeting was \"a missed opportunity for both the United States and Ukraine\".LIVE: Zelensky embraced by Starmer in LondonHow Trump-Zelensky talks collapsed in 10 minutesBowen: Trump-Zelensky row signals looming crisisUkranians support ZelenskyRosenberg: Putin can stand back and enjoyVance's remarkable attack on a visiting head of state is not typical for a US vice-president.Their job is often - but not always - to help get the president elected and then sit quietly at their boss's side. To be a loyal lieutenant representing the president on foreign trips - standing by, one heartbeat, so they say, from the presidency.The contrast with Trump's first VP, the much more mild-mannered Mike Pence, could not be greater.But Vance - who is widely seen as serving to articulate the rationale behind Trump's foreign policy gut instincts - has long been outspokenly sceptical of US aid to Ukraine.When he was running for the Ohio Senate in 2022, Vance told a podcast: \"I've got to be honest with you. I don't really care what happens to Ukraine one way or the other.\"The vice-president derided Trump as an idiot eight years ago, before a political evolution that culminated in him becoming heir apparent to the president's Make America Great Again movement.Despite Vance's popularity among conservative voters, Trump recently said in a Fox News interview that it was \"too early\" to tell whether the vice-president would be next-in-line to run for president in 2028.Undeterred, Vance seems to be developing a role as a political brawler for Trump, going even further than the president in his outspoken criticism of the administration's foes.One common thread is that many victims of Vance's tongue-lashing are America's allies.It began at the Munich Security Conference last month, a regular port of call for a US vice-president. Kamala Harris would frequently make unmemorable speeches there.But Vance used the occasion to launch a blistering assault on the state of European democracy, accusing continental leaders of censoring free speech and failing to control immigration.\"If you're running in fear of your own voters, there is nothing America can do for you,\" he said.The audience of politicians, generals and diplomats was horrified.This was not the usual - and now widely accepted - argument that Europe should do more to pay for its own defence and security.This was a full-blown ideological assault - a sign that the US under Mr Trump is not just pivoting away from Europe, shifting its security focus to China, but is also seeking to promote its own Trump-style populism on the European continent.Not for nothing did Vance have dinner after his speech with the leadership of Germany's far-right AfD party.His speech provoked a backlash from European leaders, writers and academics.Yet Vance chose to take them on online, engaging in detailed exchanges on X with several, including the historian, Niall Ferguson.Vance accused him of \"moralistic garbage\", \"historical illiteracy\" and - worst of all - of being a \"globalist\".And if that was not enough, Vance even chose to have a go at the UK prime minister in the Oval Office himself earlier this week.Out of nowhere, he told Sir Keir Starmer that \"there have been infringements on free speech that actually affect not just the British - of course what the British do in their own country is up to them - but also affect American technology companies and, by extension, American citizens\".The prime minister pushed back firmly, saying \"in relation to free speech in the UK, I'm very proud of our history there… We've had free speech for a very, very long time in the United Kingdom and it will last for a very, very long time\".This was an echo of the criticism Vance made in Munich, railing against European regulations on artificial intelligence and social media platforms.The aim is to tackle disinformation and hate speech that can foment unrest and radicalise people. Vance sees it as a threat to political fellow travellers and US commercial interests, especially in big tech.Several questions present themselves. Was Vance's attack on Zelensky premeditated, as some diplomats believe?White House sources have told US papers it was not.Is Vance's new role emerging at Trump's behest, sharing the load with Elon Musk to dish out punishment to the president's opponents?Or is Vance freelancing, already sketching out a role that will form the basis of an election campaign in three years' time when Trump will not be able to stand again?Whatever the answers to those questions, Vance is emerging as more than just Trump's number two."
        ],
        [
         "19",
         "https://www.bbc.com/news/articles/c2019j0w9glo",
         "What it was like in the room during Oval Office shouting match",
         "BBC reporters witnessed the extraordinary exchange between Donald Trump and  Volodymyr Zelensky firsthand.",
         "2025-02-28T22:21:23.483Z",
         "Myroslava Petsa and Daniel Wittenberg",
         "The day began with the same cordial routine the White House reserves for visiting foreign dignitaries.Ukrainian President Volodymyr Zelensky was welcomed by US President Donald Trump at the door of the West Wing with an honour guard, and the leaders shook hands politely.We were in the Oval Office as part of Ukrainian media pool, witnessing the well-rehearsed formalities and about half an hour of polite talk.Zelensky presented Trump with the championship belt of Ukrainian boxer Oleksandr Usyk.Trump complimented Zelensky's clothing.So far, so diplomatic.But minutes later, what erupted was unprecedented to say the least. The genial tone devolved into acrimony and chaos. Voices were raised, eyes rolled, aspersions cast - and all in front of the world's TV cameras.The US president and vice-president berated the visiting leader, accusing Zelensky of not being grateful enough for US support that has sustained Ukraine's war effort.Tensions flared when Vice-President JD Vance told Zelensky that the war had to be ended through diplomacy.What kind of diplomacy, Zelensky replied.Talking over the Ukrainian president, Vance told the visiting leader it was \"disrespectful\" for him to come to the Oval Office and make his case in front of the American media and demanded that he thank Trump for his leadership.Journalists in the room watched with gaping mouths as an extraordinary exchange followed.\"You've done enough talking. You're not winning this,\" Trump told him at one point. \"You gotta be thankful. You don't have the cards.\"\"I'm not playing cards,\" Zelensky replied. \"I'm very serious, Mr President. I'm the president in a war.\"\"You're gambling with World War Three,\" Trump responded. \"And what you're doing is very disrespectful to the country, this country, that's backed you far more than a lot of people said they should have.\"Vance retorted: \"Have you said 'thank you' once this entire meeting? No.\"Ukraine's ambassador to the US watched with her head in her hands.The atmosphere had shifted entirely - and all out in the open.Our American colleagues remarked that they had never seen anything like it. \"A scene like this was simply unimaginable in the White House,\" one told me.As reporters exited the Oval Office, many stood still in a state of shock. In the White House briefing room, where the exchange was replayed shortly afterwards, the rest of the media who hadn't been in the room watched in disbelief.Confusion ensued. There were immediate questions about whether the planned news conference would go ahead – or if the much-anticipated deal between the US and Ukraine over mineral resources would even be signed. Minutes later, Trump wrote on Truth Social that Zelensky could \"come back when he is ready for peace\".The news conference and deal-signing ceremony - set to take place in the East Room of the White House - was officially cancelled.Soon after Zelensky strode out and into a waiting SUV, as his ambassador trailed behind him.They pulled away as the world was only beginning to digest an extraordinary moment. Despite the full-blown argument, there may still be a minerals deal sooner or later. But one thing is certain: this visit by Zelensky will be remembered for entirely different reasons.The world saw first-hand how negotiations between the US and Ukraine are unfolding: they are difficult, emotional, and tense.It was clear that this was a tough negotiation for both parties.The gift of Ukrainian boxer Oleksandr Usyk's belt certainly didn't save the situation. And after this bout at the White House, the real question now is what this means for the war in Ukraine - and Zelensky's own future.Follow the twists and turns of Trump's second presidential term with North America correspondent Anthony Zurcher's weekly US Politics Unspun newsletter. Readers in the UK can sign up here. Those outside the UK can sign up here."
        ],
        [
         "20",
         "https://www.bbc.com/news/articles/cvgee7rl24ro",
         "Key takeaways from Starmer's talks with Trump",
         "A surprise letter from King Charles III to a possible trade deal - the key moments from Starmer's visit to the White House.",
         "2025-02-27T22:22:26.531Z",
         "Sam Francis and Becky Morton",
         "UK Prime Minister Sir Keir Starmer has met US President Donald Trump during his first visit to the White House. Here are some of the key moments as the pair took questions from reporters before and after the talks. Sir Keir did not turn up to the meeting empty-handed. Part-way through their opening remarks, the prime minister reached inside his jacket pocket and pulled out an official letter from King Charles III - an invitation for a second state visit.Trump appeared to be genuinely taken back for a few seconds, asking: \"Am I supposed to read it right now?\"After taking a minute to read the letter, Trump said he accepted the invitation and that it would be an \"honour\" to visit the \"fantastic\" country.He added that King Charles was a \"beautiful man, a wonderful man\".Follow updates on the Starmer-Trump meetingTrump's letter from the King: What does it say and what does it mean?During Trump's first term as president, he met King Charles's mother, the late Queen Elizabeth II, during a three-day state visit in 2019.Sir Keir said Thursday's invitation to host Trump once more for a second full state visit was \"unprecedented\".While cordial, the initial meeting in the Oval Office between Sir Keir and Trump left no doubt that the US president hoped to be firmly in charge.The meeting was a pattern we've now seen six times with foreign leaders at the Trump White House, including with French President Emmanuel Macron earlier this week: Trump taking control of the room and using the opportunity to get his own messages, both domestic and international, across to the reporters there.Analysis: Starmer charms Trump, but any deals will have to waitDuring their half-hour session, Trump leaned forward and slightly towards Sir Keir - wearing a nearly identical, but slightly different coloured tie to Trump's -  dominating the conversation and taking charge of calling on reporters.A joint afternoon news conference later began with a slightly more diplomatic and matter-of-fact tone, with both Trump and Sir Keir standing at their respective lecterns and going to considerable lengths to lavish praise on the other. Trump joked he would have been president 20 years ago with Sir Keir's \"beautiful\" accent. At one point, Sir Keir was asked about Trump's controversial call to make Canada – a member of the Commonwealth – the 51st state of the US.\"I think you're trying to find a divide that doesn't exist,\" Sir Keir replied.Trump interjected quickly with the words \"that's enough\" before moving on – again taking control of the room as he stood next to a visibly surprised Sir Keir.To put it gently, Sir Keir and Trump are from different schools of politics - both in their style and substance.But asked to name their similarities Trump said: \"He loves his country, and so do I.\"What else do they share? Trump said: \"We like each other, frankly, and we like each other's country.\"But the \"common thread\" between the two men was that \"we love our country\", Trump said.Sir Keir had a number of tricky topics to raise with Trump - from trade to US security guarantees for Ukraine - and at the beginning of their news conference the president called his counterpart \"a very tough negotiator\". Asked if the prime minister had convinced him not to impose trade tariffs on the UK, Trump said \"he tried\", adding: \"He was working hard, I'll tell you that. He earned whatever the hell they pay him over there.\"But he has said there was \"a very good chance\" of a trade deal \"where tariffs wouldn't be necessary\". Such a deal, Trump said, could be made \"pretty quickly\". Sir Keir spoke of a \"new economic deal with advanced technology at its core\". Trump said he was \"inclined to go along with\" the UK's Chagos Islands deal.The UK is in talks with Mauritius about handing over the territory but continuing to lease one of the islands, Diego Garcia, which contains a UK-US military airbase.The agreement has been mired in uncertainty after Trump's re-election as US president, given several US Republicans have argued it could deliver a potential security boost to China.But during the meeting, Trump said he had a \"feeling\" the deal was going to \"work out very well\".Last week, Trump made headlines by calling Ukrainian President Volodymyr Zelensky a \"dictator\" in a social media post, echoing Russian claims about Kyiv's cancelled elections.An election was scheduled for May 2024, but it was suspended because Ukraine has been under martial law since Russia began its full-scale invasion.Asked by the BBC's Chris Mason about his use of the word \"dictator\", Trump replied: \"Did I say that? I can't believe I would say that.\"In the news conference later, Trump also appeared to have softened his attitude to Zelensky, praising him as \"very brave\" and saying the pair got on \"really well\". Talking about the potential for a peace deal between Ukraine and Russia, Trump said \"progress towards peace\" would continue when Zelensky visits the White House on Friday. The two are expected to sign a major minerals deal.At the Munich Security Conference last week, US Vice President JD Vance attacked the UK and other European democracies, warning that \"free speech is in retreat.\"Asked about the comments, Trump called on his deputy to defend himself. Vance argued \"there have been infringements on free speech that actually affect not just the British\" but also \"American technology companies and by extension, American citizens\".That led to Sir Keir cutting in, saying \"we've had free speech for a very, very long time in the United Kingdom - and it will last for a very, very long time\".He rejected Vance's claim, saying \"in relation to free speech in the UK, I'm very proud of our history there\".Sign up for our Politics Essential newsletter to read top political analysis, gain insight from across the UK and stay up to speed with the big moments. It'll be delivered straight to your inbox every weekday."
        ],
        [
         "21",
         "https://www.bbc.com/news/articles/cvgeq3y1825o",
         "RFK's measles response under scrutiny as deadly outbreak frightens Texas parents",
         "Local health experts wish US Health Secretary Robert Kennedy would emphasize the importance of vaccines. ",
         "2025-03-01T08:33:30.051Z",
         "Madeline Halpert",
         "In her hometown of Lubbock, Texas, Leah, a pregnant mother, has been avoiding stores and other public spaces for the last two weeks.On Wednesday, the city saw a six-year-old child who was not vaccinated against the virus die – the first US death from the measles in nearly a decade.With a baby on the way, Leah could be putting her foetus at risk of health complications if she contracted the virus, despite her own vaccination. Her paediatrician also advised her to move up her older son's second shot of the vaccine - the full course for the immunisation - as the risk to his health grows.\"Mentally, it's taking a toll on me, thinking about not just myself and my child, but also about the people that I have to be around,\" said Leah, who declined to share her last name for privacy reasons.The US declared measles \"eliminated\" from the country in 2000, but in recent years, as anti-vaccine sentiments rose, the country has seen several outbreaks of the virus.US measles outbreak kills child in TexasThe Texas outbreak began in a small Mennonite community near Lubbock, home to 260,000, and has since spread. To date, there have been over 130 cases across Texas and New Mexico, with 18 patients hospitalised, local health officials said.On Wednesday, Robert F Kennedy Jr, the nation's newly confirmed top health official, called the Texas outbreak \"not unusual\", a claim disputed by doctors and local residents.Public health experts and Lubbock residents said the health secretary's past remarks about childhood vaccines - as well as actions he's taken related to them since entering office - could fuel an outbreak that is worrying parents across Texas and nearby states.\"We just want people to be healthy, and it's definitely hard to do that when we have voices in our ears from leadership who don't share those same factual opinions,\" Leah said.The Department of Health and Human Services did not respond to a request for comment from the BBC.Since the beginning of the outbreak, Katherine Wells, the director of the Lubbock Public Health Department, has not had a day off.She has hosted vaccine clinics to encourage people to get shots, contacted those whose children may have been exposed, and worked to educate the community about the virus.\"It's as stressful, if not more stressful, than it was at the beginning of the COVID pandemic,\" she told the BBC.Ms Wells worries most about those who are not able to get vaccinated against the highly contagious disease, which spreads easily in the air and on surfaces, and when an infected person breathes, coughs or sneezes. The virus - which can cause a fever, red rash, cough and other symptoms - also is associated with a host of complications, including pneumonia, brain swelling and death.People who are immunocompromised, children under the age of one and pregnant people cannot be inoculated against the measles.That includes the new baby Lubbock resident Kyle Rable is expecting. His wife is nine months pregnant and plans to deliver in the same hospital where the patient died of the measles.Mr Rable is terrified for his son's first year of life.\"With it spreading essentially like wildfire out here, do we just not leave our house for a year? We can't do that,\" he said.To achieve herd immunity - when enough of a group is immune to a disease, limiting its spread and protecting the unvaccinated - around 95% of the population must have the shots, said Alefiyah Malbari, the chief of ambulatory pediatrics at University of Texas Dell Medical School in Austin.But several western Texas communities are well below that figure, including Gaines County where the outbreak began and where only 82% of kindergartners are vaccinated.\"When you have that many children that are unvaccinated, measles will spread very, very easily within the community,\" said Jill Weatherhead, a professor of infectious diseases at Baylor College of Medicine.Now, doctors say, parents far from western Texas are starting to worry too. Dr Malbari is getting more calls from parents anxious about protecting their children when not everyone will get the vaccine.\"I share that concern with them,\" said Dr Malbari.Before Kennedy's confirmation as the top US health official, public health experts sounded alarms about the vaccine sceptic's ability to manage outbreaks, like the one the US is seeing now.He has repeated widely debunked claims about vaccines, including unsubstantiated theories that the shots can cause autism.During his Senate confirmation hearing, Kennedy said he supported the measles vaccination. He pledged not to discourage people from vaccinations and to \"do nothing as HHS secretary that makes it difficult\" to get vaccines.But since taking office just weeks ago, he has announced a number of plans related to vaccines, including an investigation into whether the childhood vaccination schedule - including measles vaccinations - has contributed to a rise in chronic illnesses.He also delayed the first meeting of a CDC advisory panel that helps the agency make recommendations on what vaccines - including childhood immunisations - insurers should cover.Kennedy told the CDC to halt promotions of several immunisations, including a seasonal flu vaccine campaign, instead promoting the idea of \"informed consent\" in vaccine decision-making, Stat News reported last week.The moves have the potential to disrupt how the federal government ensures  Americans have access to safe vaccines, including childhood immunisations, said Dr Peter Lurie, a former US Food and Drug Administration official.But, Dr Lurie added, most troubling about Kennedy's response to the measles outbreak, is \"what he didn't say, which is that the way to contain this outbreak is with vaccination\".On Wednesday, during his first public appearance as health secretary, Kennedy made claims about the measles outbreak that local health officials have since disputed.In addition to calling the Texas outbreak \"not unusual\", he claimed children with measles went to hospitals only to be quarantined. Hospital officials said they were taken there because of the severity of their illnesses.Ron Cook, a family physician and Lubbock health official who is helping doctors respond to the outbreak, said the community has not seen measles cases like this in decades.\"It's a devastating disease,\" he said. \"And it's completely preventable.\"For some expectant parents in Lubbock, Kennedy's minimisation of the outbreak has been difficult to watch.Leah said she knows many local parents who won't vaccinate their children because of misinformation about safety. She said news of the death has not changed their minds.\"If anything, it's just made them double down on their beliefs,\" she said.But Ms Wells has seen at least a few encouraging signs. After the death was announced on Wednesday, around 18 people came to a vaccination clinic following many slow days.Still, she said, when she tells parents their children may have been exposed, some still do not want to vaccinate, including doses of the shot that can protect them after potential exposure.\"In Texas, vaccines are very much a choice,\" she said.Local health officials are working overtime to build trust and show that the vaccine is safe and effective, Dr Cook said.\"We're seeing some success, but we would like to see significantly more,\" he said.  \"It would be nice to have some confidence coming out of the powers that be - at the national level - to show that this is a good vaccine.\""
        ],
        [
         "22",
         "https://www.bbc.com/news/articles/c9dejydynngo",
         "Trump accuses Zelensky of 'gambling with World War Three'",
         "The US president clashes with Ukraine's leader in a fiery Oval Office exchange over ending the war with Russia.",
         "2025-03-01T00:39:57.383Z",
         "Tom McArthur & Jaroslav Lukiv",
         "Donald Trump has clashed with Volodymyr Zelensky in a furious exchange at the White House, with the US president telling his Ukrainian counterpart to make a deal with Russia \"or we are out\".The pair interrupted each other repeatedly in front of the media during what was supposed to be a prelude to the two leaders signing a minerals deal. After relations first became strained over Trump's handling of Ukraine peace talks with Russia, the minerals agreement was supposed to be a stepping stone towards further security ties between the countries.But Zelensky was told by the Americans to leave before the deal could be signed. At one point, Trump told Zelensky he was not thankful enough for US military and political support, and that he was \"gambling with World War Three\".Zelensky had earlier argued there should be \"no compromises\" with Russian President Vladimir Putin - but Trump said Kyiv would have to make concessions to reach a peace deal with Russia.Russia launched a full-scale invasion of Ukraine in February 2022, and currently controls around 20% of Ukrainian territory.Follow updates as Zelensky leaves White House earlyAnalysis: Trump-Zelensky row signals major crisis for NatoTimeline of Trump and Zelensky's fraying relationshipCan Europe deter Russia in Ukraine without US military?Watch in full: Angry exchange between Trump and ZelenskyThe meeting to discuss the US-Ukraine deal, which involved access to Ukrainian oil, gas and rare minerals, came after the new US president appeared to blame Zelensky for the war and chided him for not starting peace talks with Russia earlier.His tone had softened in recent days, with Trump saying he had \"a lot of respect\" for the Ukrainian leader.But Friday's conversation soured after the US Vice-President JD Vance - who was sat alongside other politicians in the room - told Zelensky that the war had to be ended through diplomacy.Zelensky responded by asking \"what kind of diplomacy?\", referencing a previous ceasefire deal in 2019, agreed three years before Russia's full-scale invasion when Moscow was supporting and arming separatist fighters in Ukraine's east.The vice-president then accused Zelensky of being disrespectful and \"litigating\" the situation in front of the media.From there, the discussion escalated quickly, as Trump and Vance accused Ukraine's president of being ungrateful for three years of US support during the war with Russia, with Trump saying Zelensky was in no position to tell the US how it should feel.Not long after the meeting - and well ahead of the pre-planned schedule - Zelensky was seen leaving the White House in his official vehicle.Trump took to Truth Social, the social media platform he owns, to say \"Zelensky disrespected the US in its cherished Oval Office\".\"I have determined that President Zelensky is not ready for Peace if America is involved, because he feels our involvement gives him a big advantage in negotiations,\" the Republican president continued. \"I don't want advantage, I want PEACE.\"Zelensky also posted on social media, thanking the president and the US four times.In a later interview with Fox News, Zelensky said the public spat \"was not good\" - but the relationship between him and Trump could be salvaged.\"Because the relations are more than just two presidents,\" he said, adding that it was also about \"strong relations between our two people.\"Reaction to the White House meeting among US politicians appeared to fall along partisan lines, with Republicans praising Trump and Democrats criticising him.Republican Senator Lindsey Graham - once a staunch supporter of Ukraine - told reporters: \"What I saw in the Oval Office was disrespectful and I don't know if we can ever do business with Zelensky again.\"He said Zelensky \"either needs to resign and send somebody over that we can do business with, or he needs to change\".Democratic House minority leader Hakeem Jeffries described Zelensky's treatment as \"appalling\", adding that it \"will only serve to further embolden Vladimir Putin\".In Ukraine, there was broadly appreciation for Zelensky holding his ground over what is, for them, an existential war.\"Trump's administration was so arrogant,\" one man in Kyiv told the BBC. \"When you look at Zelensky's face, you understand that the discussion behind the closed doors was not so polite. \"They are so rude, they don't respect the people of Ukraine. They even don't hide it.\"The Oval Office spat also prompted words of support for Zelensky from key European allies, including France.A spokeswoman for UK Prime Minister Sir Keir Starmer - who has cast himself as a mediator between the US and Europe as the Trump administration adopts a more isolationist approach to the continent - said he had spoken to both leaders.She said Sir Keir \"retains unwavering support for Ukraine, and is doing all he can to find a path forward to a lasting peace\".Friedrich Merz, who is expected to become Germany's next chancellor, wrote that he stood with Ukraine \"in good and testing times\", adding: \"We must never confuse aggressor and victim in this terrible war.\"EU foreign policy chief Kaja Kallas said that \"today, it became clear that the free world needs a new leader. It's up to us, Europeans, to take this challenge\".Russia, meanwhile, said Trump and Vance had acted with restraint. A foreign ministry spokeswoman said it was a miracle the pair hadn't hit Zelensky."
        ],
        [
         "23",
         "https://www.bbc.com/news/videos/cqly6ydypzro",
         "'Unpleasant to see': Ukrainians react to Trump and Zelensky's spat",
         "The meeting, which was meant to end with a minerals deal signing, instead descended into an argument over the Ukraine war.",
         "2025-03-01T00:18:39.029Z",
         null,
         "Ukrainians have reacted to a clash between President Volodymyr Zelensky, US President Donald Trump and Vice-president JD Vance in the Oval Office.During the fiery exchange, the US president accused Zelensky of \"gambling with World War Three\" and told him that he should be \"thankful\" to the US.Zelensky was told to leave the White House and a planned news conference was abruptly cancelled."
        ],
        [
         "24",
         "https://www.bbc.com/news/articles/cqlyy1rld0ko",
         "Hackman and wife likely died 10 days before bodies found, sheriff says",
         "US investigators are still trying to establish how Oscar-winning actor Gene Hackman and his wife Betsy died.",
         "2025-02-28T22:55:31.879Z",
         "Patrick Jackson",
         "US investigators are trying to establish how Oscar-winning actor Gene Hackman and his wife, classical pianist Betsy Arakawa, died after the discovery of their bodies at their home in the US state of New Mexico.Officials said on Friday that evidence points to Hackman having been dead since 17 February - 10 days before the couples' bodies were found. Here is what we know so far about the death of a Hollywood legend known for such films as The French Connection and The Conversation.Warning: this article contains details some readers may find upsetting         The bodies of the couple and one of their dogs were found by police on Wednesday at their home in Santa Fe, New Mexico, after a maintenance worker called emergency services.In a recording of the 911 call obtained by the BBC, the emotional caller can be heard telling a dispatcher how he found the two bodies.Hackman, 95, was discovered in a side room near the kitchen while Arakawa, 65, was found in a bathroom, at the property on Old Sunset Trail in Hyde Park.The couple appeared to have been \"dead for quite a while\", said Sheriff Adan Mendoza.Arakawa's body showed signs of \"decomposition\", and \"mummification\" in the hands and feet, a sheriff's detective said.Hackman's remains \"showed obvious signs of death, similar and consistent\" with those on his spouse.A German Shepherd dog owned by the couple was found dead in a bathroom closet near to Arakawa.No cause was given in police statements immediately after the announcement of the deaths.The authorities reported no signs of injury but deemed the deaths \"suspicious enough\" to investigate and did not rule out foul play.A carbon monoxide poisoning test came out negative for both Arakawa and Hackman, the Santa Fe Sheriff's office said on Friday.Near Arakawa's head was a portable heater, which the detective determined could have been brought down in the event that she had abruptly fallen to the ground.An autopsy and toxicology tests have been requested for both Hackman and Arakawa. Authorities said it could be a few months before the results of those are released.The local utility company found no sign of a gas leak in the area and the fire department detected no indication of a carbon monoxide leak or poisoning, according to the search warrant.A prescription bottle and scattered pills lay on the bathroom countertop close to Arakawa's body. Prescription pills found in the home were common medications for thyroid and high blood pressure, according to a search warrant.Hackman was discovered wearing grey tracksuit bottoms, a blue long-sleeve T-shirt and brown slippers. Sunglasses and a walking cane lay next to his body.The detective suspected that the actor had suffered a sudden fall.The circumstances of their death were deemed \"suspicious enough in nature to require a thorough search and investigation\", the search warrant says, because the worker who called emergency services had found the front door of the property open.However, the detective observed no sign of forced entry into the home. Nothing appeared out of place inside. \"There was no indication of a struggle,\" said Sheriff Mendoza. \"There was no indication of anything that was missing from the home or disturbed, you know, that would be indication that there was a crime that had occurred.\"Two other, healthy dogs were discovered roaming the property - one inside and one out.Authorities said Hackman's pacemaker last registered activity on 17 February, adding that this gives them a good assumption that was his last day of life.But police said it is unclear who died first - Hackman or Arakawa.The two maintenance workers who found the couple, one of whom called the emergency services, say they last had contact with the couple two weeks earlier.The two said they had sometimes conducted routine work at the property, but rarely ever saw Hackman and Arakawa.They had communicated with them by phone and text, primarily with Arakawa.Hackman's daughter Leslie Anne Hackman told the Mail Online that her father had been in \"very good physical condition\" despite his age, and had not undergone \"any major surgeries\" in recent months.\"He liked to do Pilates and yoga, and he was continuing to do that several times a week,\" she said. \"So he was in good health.\"The couple, married in 1991, had had a \"wonderful marriage\", she added.\"I give credit to his wife, Betsy, for keeping him alive,' she said. '[Betsy] took very, very good care of him and was always looking out for his health.\"   "
        ],
        [
         "25",
         "https://www.bbc.com/news/articles/cyveq30lmdlo",
         "Illinois man convicted for hate crime murder of Palestinian boy ",
         "Prosecutors said the man targeted the six-year-old and his mother over their Muslim faith following the Israel-Hamas war.",
         "2025-02-28T22:42:18.176Z",
         "Nadine Yousif",
         "An Illinois landlord has been found guilty of murder and hate crime charges for fatally stabbing a Palestinian-American child in 2023 and severely wounding his mother.Prosecutors said Joseph Czuba, 73, targeted the family over their Muslim faith following the Israel-Hamas war. Police found six-year-old Wadea Al-Fayoume and his mother, Hanan Shaheen, with severe stab wounds inside a house she rented from Czuba in a Chicago suburb on 14 October, 2023. The boy later died in the hospital.Czuba had pleaded not guilty, but jurors convicted him after deliberating for less than 90 minutes.Warning: This story contains details some readers may find upsettingAfter the verdict, the boy's father, Odai,told reporters in Arabic: \"I don't know if I should be pleased or upset, if I should be crying or laughing.\" \"I feel like this decision came a little too late,\" he said.Jurors heard testimony from a number of witnesses, including Al-Fayoume's mother. Ms Shaheen testified that she rented rooms from Czuba in suburban Chicago, and had no problems with him at first.But tensions escalated after Hamas attacked Israel on 7 October, 2023, with Czuba expressing anti-Muslim views and asking her to move out of the home, where he also lived.A few days after that conversation, Czuba forced his way into her room and stabbed her with a knife more than a dozen times, Ms Shaheen testified.\"He told me 'You, as a Muslim, must die,'\" she said.After she retreated to call for help, Ms Shaheen said Czuba attacked her son. Prosecutors said the child had been stabbed 26 times. He died from the injuries shortly after the attack.Police testified that they found Czuba outside the house after the attack, with blood on his body and hands.Lawyers for Czuba defended him by arguing that pieces of evidence linking him to the crimes were missing. His ex-wife testified in the trial, and said he rarely had violent outbursts in their 30-year marriage.But jurors found him guilty of the crimes after a short deliberation. Czuba faces life in prison without parole. Sentencing is scheduled for May.The young boy had celebrated his sixth birthday just a few weeks before he was killed.\"He loved his family, his friends. He loved soccer, he loved basketball,\" the executive director of the Chicago office of the Council on American-Islamic Relations (CAIR), Ahmed Rehab, said at the time."
        ],
        [
         "26",
         "https://www.bbc.com/news/articles/cy7xxlr2pggo",
         "Eleven things Trump and his team did this week",
         "President Trump continues to play global disruptor while the world does its best to engage with him.",
         "2025-02-28T21:30:04.821Z",
         "Robert Plummer and Nadine Yousif",
         "President Donald Trump continued to play the global disruptor this week, while the rest of the world did its best to engage with him.His sixth week in office saw developments at home and abroad, as the US president hosted foreign leaders at the White House, including the UK's Prime Minister Sir Keir Starmer.The wars in Ukraine and Gaza also loomed large, in sometimes surprising ways.A tense exchange between Trump and Ukrainian President Volodmyr Zelensky capped the week off on Friday, resulting in their White House meeting being cut abruptly short. If you are after a catch-up, here is a reminder of 11 major moves from the Trump administration this week.One of the most remarkable moments of the week was an angry exchange between Zelensky and Trump at the Oval Office that unfolded in front of the world's news cameras. During what was supposed to be a prelude to the two leaders signing a minerals deal, the conversation between the two soured, and culminated with the US president telling his Ukrainian counterpart to make a deal with Russia \"or we are out\".The exchange first became heated after US Vice-President JD Vance told Zelensky that the war had to be ended through diplomacy. Zelensky then asked what kind of diplomacy, to which Vance accused him of being disrespectful and of \"litigating\" the situation in front of the media.It escalated quickly from there. Trump told Zelensky that he should be \"thankful\" for the US support his country has received in its fight against Russia, and that he was \"gambling with World War Three.\" The Ukrainian president was then told to leave the White House by National Security Adviser Mike Waltz and Secretary of State Marco Rubio, and a joint news conference with Trump and Zelensky was cancelled.In a Truth Social post afterwards, Trump said \"Zelensky disrespected the US in its cherished Oval Office.\" \"He can come back when he is ready for peace,\" Trump said.Ahead of that meeting, Ukraine and the US had drafted a deal that would give the US access to Ukraine's deposits of rare earth minerals. Zelensky had said he hoped the \"preliminary\" agreement with the US would \"lead to further deals\", but confirmed no American security guarantees had been agreed yet. Notably, Trump on Thursday appeared to walk back his harsh criticism of Zelensky, whom he called a \"dictator\" last week. Asked about it on Thursday, Trump replied: \"Did I say that? I can't believe I would say that.\"But Friday's meeting, which ended up being cut short even before the two parties had begun negotiations, ended with no deal signed.What we know about US-Ukraine minerals dealWhat minerals does Ukraine have?Trump held his first cabinet meeting on Wednesday. Among those present was the president's billionaire adviser Elon Musk, who is not actually a cabinet member. A big topic was the plan by Doge - the so-called Department of Government Efficiency, which Musk runs - to cut the size of the federal bureaucracy. On the same day of the meeting, a memo was sent to federal agencies asking them to submit plans for \"a significant reduction\" in their staff by 13 March.Musk, tariffs and tensions - takeaways from Trump's first cabinet meetingFrench President Emmanuel Macron was the first foreign visitor to come to the White House this week.Trump hosted Macron on Monday, the third anniversary of Russia's full-scale invasion of Ukraine.After the meeting, Macron said Trump had \"good reason\" to re-establish communication with Russia's President Vladimir Putin - a notable departure from France's previous policy of isolating him. But he did not get a commitment from Trump that the US would help Europe with its security needs.Macron walks tightrope with Trump as he makes Europe's case on UkraineWatch: Macron interrupts Trump over Ukraine fundingUK Prime Minister Sir Keir Starmer also met the US president this week. The two discussed trade and US security guarantees for Ukraine. Trump said there was a \"very good chance\" of a trade deal between the US and the UK where \"tariffs wouldn't be necessary\". Such a deal, Trump said, could be made \"pretty quickly\".Key takeaways from Starmer's talks with TrumpPart way through their opening remarks, Sir Keir reached inside his jacket pocket and pulled out an official letter from King Charles - an invitation for a second state visit.Trump appeared to be genuinely taken aback for a few seconds, asking: \"Am I supposed to read it right now?\"After taking a minute to read the letter, Trump said he accepted the invite and that it would be an \"honour\" to visit the \"fantastic\" country.Starmer charms Trump, but any deals will have to waitTrump shared a controversial AI-generated video of Gaza, appearing to depict the besieged enclave as a Mediterranean resort run and operated by the US president.The clip, which sparked a social media frenzy, came after Trump had stated his administration's controversial plan to take over Gaza and rebuild it into the \"riviera\" of the Middle East.What an AI-generated video of Gaza reveals about Trump tacticsWhy does Trump want to take over Gaza and could he do it?The US Department of Agriculture (USDA) announced a $1bn (£792m) plan to help US farmers combat a raging bird flu epidemic that has required them to kill millions of chickens and pushed the cost of eggs to an all-time high. Officials say they will budget $500m for biosecurity measures, roughly $100m for vaccine research and development, and $400m for farmer financial relief programmes.Trump administration unveils bird flu plan as egg prices soarTrump unveiled plans for selling a \"gold card\" visa for $5m (£3.9m) that will offer wealthy buyers permanent residency in the US and a path to citizenship.The president told reporters that the visas would function similarly to green cards, which allow immigrants of varying incomes to live and work permanently in the US, but would go to \"high-level people\".\"The people that can pay $5m, they're going to create jobs,\" Trump said. \"It's going to sell like crazy. It's a bargain.\"Trump says $5m 'gold card' immigration visas will 'sell like crazy'Republicans in the US House of Representatives narrowly passed a multi-trillion dollar government spending bill on Tuesday, a major boost for Trump that advances his agenda. It includes $4.5 trillion (£3.6tn) in tax cuts, funded partially by spending reductions but also by potentially increasing the US government's substantial debt pile.However, there are still a number of steps the spending plan must go through in order to become law.US House narrowly passes Trump-backed spending billTrump said he would invite the Philadelphia Eagles to the White House to celebrate their recent Super Bowl win, despite rumours that the champions might decline the invitation.\"Absolutely, they'll be extended an invitation,\" Trump said in the Oval Office on Tuesday. \"They deserve to be down here, and we hope to see them.\"The Eagles skipped a visit to the White House when they won in 2018, but the team plans to attend the event this year, US media reported.Trump to invite Philadelphia Eagles to White House after Super Bowl win"
        ],
        [
         "27",
         "https://www.bbc.com/news/videos/cx2g7yedg74o",
         "'Complete, utter disaster': Lindsey Graham reacts to Zelensky meeting",
         "The US senator, a formerly staunch supporter of Ukraine, suggested President Volodymyr Zelensky should resign.",
         "2025-02-28T21:02:32.995Z",
         null,
         "Senator Lindsey Graham, a formerly staunch supporter of Ukraine, spoke to press outside the White House after an angry exchange between US President Donald Trump, Ukrainian President Volodymyr Zelensky and US Vice-president JD Vance in the Oval Office. Graham told reporters that it's uncertain whether the United States can ever do business with Zelensky and suggested he should resign."
        ],
        [
         "28",
         "https://www.bbc.com/news/articles/cd7ev3wygl4o",
         "Francis Ford Coppola named worst director at Razzies",
         "The filmmaker said he chose to not follow \"the gutless rules\" laid down by the industry in Megalopolis.",
         "2025-02-28T17:33:16.176Z",
         "Noor Nanji",
         "Francis Ford Coppola, one of Hollywood's greatest filmmakers, has been named worst director for his self-financed project Megalopolis in this year's Razzies.Announced two days before the Oscars reward Hollywood's finest, the Razzie Awards name and shame the year's worst films.In an Instagram post, Coppola said he was \"thrilled\" to accept the award, \"at a time when so few have the courage to go against the prevailing trends of contemporary movie-making\".Madame Web picked up the award for worst picture, screenplay and actress for its star Dakota Johnson, while Joker: Folie à Deux also collected two awards.The organisers have described their awards as the \"ugly cousin to the Oscars\".Megalopolis, an epic fantasy starring Adam Driver, Shia LaBeouf, Aubrey Plaza and Nathalie Emmanuel, cost Coppola a reported $120m (£95m).It also faced controversy after the trailer was withdrawn by studio Lionsgate, because the clip included fabricated quotes from real film critics about the filmmaker's previous works.List of nominations in full for Oscars 2025\"Even a cinematic maestro occasionally musters up a misfire,\" the Razzies said, in a press release announcing Coppola's win.It comes almost exactly 50 years after Coppola won a best director Oscar for The Godfather part II.In his Instagram post, Coppola said: \"In this wreck of a world today, where art is given scores as if it were professional wrestling, I chose to not follow the gutless rules laid down by an industry so terrified of risk that despite the enormous pool of young talent at its disposal, may not create pictures that will be relevant and alive 50 years from now.\"He concluded his post by thanking everyone who worked on the film, adding: \"Box office is only about money, and like war, stupidity and politics has no true place in our future.\"Elsewhere, Madame Web, the fourth film in Sony's Spider-Man Universe, picked up three awards after being branded a \"tangled mess\" by critics.Starring Johnson and Sydney Sweeney, both the film premise and the acting came under fire in a string of one-star reviews.Based on Marvel Comics, the film centres around a paramedic with arachnid-based psychic powers.The trailer went viral in 2023 for its \"laughably unsure tone\".Worst Prequel, Remake, Rip-off or Sequel and Worst Screen Combo were both \"won\" by Joker: Folie à Deux.The film, starring Joaquin Phoenix, was a much-anticipated sequel to its predecessor, 2019's Joker, but it largely disappointed critics.There was better news, however, for Pamela Anderson, who earned this year's Razzie halo for her role as a fading dancer in The Last Showgirl.Other winners include Jon Voight as Worst Supporting Actor for Megalopolis, Reagan, Shadow Land and Strangers, as well as Jerry Seinfeld (Worst Actor) and Amy Schumer (Supporting Actress) both for Unfrosted."
        ],
        [
         "29",
         "https://www.bbc.com/news/articles/ce9882yv2nyo",
         "Lil Baby criticises 'nonsense' link between music video and killings",
         "US police say a rapper's \"cowardly\" actions in a \"rival gang stronghold\" led to a spate of violence.",
         "2025-02-28T17:32:04.791Z",
         "Riyah Collins",
         "Rapper Lil Baby has described a link made between one of his music videos and the killing of two teenagers in the US as \"nonsense\".Jakody Davis and Lamon Freeman died following a gang-related shootout at Lamon's 13th birthday party in Atlanta, Georgia, last summer.And while city detectives did not name Lil Baby, real name Dominique Armani Jones, they said the boys had been innocent victims of a flare up of gang violence sparked by a \"cowardly rapper\" filming a video in rival territory. In a statement via lawyers, Lil Baby, who spent weeks in the UK charts for Band4Band with Central Cee, said he had \"absolutely no involvement\" and branded the comments from police \"shameful\".During a press conference on Wednesday, detectives from City of Atlanta Police said how Jakody and Lamon weren't the intended targets of the shooting at the Sparks Street apartment complex in the city on 2 July 2024.They detailed how the attack had been \"orchestrated\" from prison and involved members of \"one of the most hyperviolent gangs in the city of Atlanta\".Addressing reporters, Maj Ralph Woolfolk said \"the overall theme of this case is grown men playing gangster that left two of our children in graves and our communities in fear\".\"Lamon Freeman was allowed to be a teenager for 27 minutes before gang violence ultimately took his life, gang violence that was orchestrated by adults and cowardly acts of an Atlanta-based rapper.\"The rapper, he said, \"decided to go over into a rival gang stronghold and shoot a music video in a place that he knew he should not have been.\"And in the subsequent days, we saw homicides and shootings and ultimately the deaths of two children as a result of his cowardly actions.\"In the months before Lamon and Jakody were shot, Atlanta police said they responded to several people being shot during a video shoot.Nobody was killed but three men in their 20s were injured in the attack in the north west of the city on 14 May which was widely reported to have taken place on set for one of Lil Baby's videos. Lil Baby's statement said it was \"disgraceful\" for the officer \"to say that he couldn't shoot a music video in his home town\".\"The location for a major music video shoot is a decision made by a professional team and is not a decision made by any individual.\"Maj Woolfolk told reporters the attack which killed Lamon and Jakody was a \"hit called by a high-ranking gang member on the opposite side of that opposing rapper's gang\".He did not name Lil Baby but said \"you know who you are\" which Lil Baby's lawyer called an \"obvious reference\" that was \"complete and total nonsense\". \"Bringing his name into a conversation regarding a terrible crime for which he had absolutely no involvement is unprofessional, unethical and shameful,\" his legal team said.\"Dominique is devastated about the situation because those children came from the same neighbourhood he did and he will continue to build up his community in any way he can.\"The 30-year-old won a Grammy in 2022 for best melodic rap act after featuring on Kanye West's track Hurricane with The Weeknd. Last year he featured on Central Cee's track Band4Band - it was nominated for a Mobo Award and is in the running to win a Brit for song of the year on Saturday. BBC Newsbeat has contacted Lil Baby's team and Atlanta Police for further comment.Listen to Newsbeat live at 12:45 and 17:45 weekdays - or listen back here."
        ],
        [
         "30",
         "https://www.bbc.com/news/articles/clydd7zeye7o",
         "US judge says mass firings of some federal workers likely illegal",
         "Thousands of workers have been fired by the Trump administration as part of its effort to slash the federal workforce.",
         "2025-02-28T15:01:53.807Z",
         "Ana Faguy",
         "A California judge has said the mass firings of probationary employees by the Trump administration were likely unlawful. The ruling said the Office of Personnel Management (OPM) had told thousands of employees across a handful of federal agencies they were fired using authority the agency does not have, US District Judge William Alsup ruled.\"[OPM] does not have any authority whatsoever, under any statute in the history of the universe, to hire and fire employees at another agency,\" he said. \"They can hire and fire their own employees.\"In court the government argued OPM asked, not ordered, the agencies to fire these employees. They also argued that probationary employees are not guaranteed employment and that only the highest performing and mission-critical employees should be hired.Government workers have been the target of the Trump administration's efforts to reduce the federal workforce in the name of cutting costs. Many employees affected by the firings are probationary employees - usually those in their first or second year in a job - though they can sometimes be long-time employees who were recently promoted.There are some 200,000 probationary employees in the federal workforce.Judge Alsup ordered OPM to revoke its directives to multiples agencies - including the Department of Veterans Affairs, the National Park Service, and the Defence Department - to terminate employees. He issued a temporary restraining order which puts a momentary pause on the government's actions until a judge revisits the matter in the coming weeks. The case began after a coalition of labour unions and non-profit organisations sued the government, arguing OPM unlawfully fired individuals by falsely claiming workers were performing poorly.  Everett Kelley, the National President of the American Federation of Government Employees, called the ruling a victory for Americans were were \"illegally fired\" from their jobs by an agency with \"no authority to do so\". \"These are rank-and-file workers who joined the federal government to make a difference in their communities, only to be suddenly terminated due to this administration's disdain for federal employees and desire to privatize their work,\" he said. OPM declined the BBC's request for comment."
        ],
        [
         "31",
         "https://www.bbc.com/news/videos/c204400nq16o",
         "Demolition takes down record-breaking rollercoaster",
         "Once the world's tallest rollercoaster at 456ft (139m), Kingda Ka was demolished at Six Flags in New Jersey.",
         "2025-02-28T14:50:59.717Z",
         null,
         "Named the world's tallest rollercoaster at 456ft (139m) when it opened in 2005, Kingda Ka was demolished at the Six Flags theme park in New Jersey. Local officials warned that surrounding areas may hear a \"series of rapid explosions\" coming from the theme park as the implosion took place. The ride is one of several being retired at the park, making way for new attractions."
        ],
        [
         "32",
         "https://www.bbc.com/news/articles/c62zzd3zp50o",
         "'Trump thinks he can break us' - Ontario's Doug Ford makes bullish victory speech",
         "The leader of the Canadian province campaigned on the need to fight US President Donald Trump's threatened tariffs.",
         "2025-02-28T11:54:38.680Z",
         "Nadine Yousif",
         "The leader of Ontario, Doug Ford, has vowed to push back at US President Donald Trump after securing a third term in office as premier of Canada's most populous province.\"Donald Trump thinks he can break us,\" he told the cheering crowds in Toronto, but the US president was mistaken, he added. \"Canada is not for sale.\"Ford, who has led Ontario since 2018, called the snap election to get a clear mandate to fight US President Donald Trump over tariffs he threatens to impose on Canadian goods.The indications on Friday morning were that his Progressive Conservatives had won more than 80 seats out of 124 in the legislature.The left-wing New Democratic Party came second, forming the official opposition, while the Liberals were in third place.Ford pushed back in his election campaign against Trump's persistent references to Canada as the 51st US state, sporting a cap saying \"Canada is not for sale.\"In his victory speech at a convention centre in Toronto, he said:  \"Donald Trump thinks he can break us. He thinks he can divide and conquer, pit region against region. \"Donald Trump doesn't know what we know. He is underestimating us. He is underestimating the resilience of the Canadian people, the Canadian spirit.\"The election was called by the Canadian Broadcasting Corporation (CBC) 10 minutes after polls closed on Thursday evening.Voter turnout appears to be near historic lows. As of 23:00 local time (04:00 GMT) with 97% of polls reporting, just over 44% of Ontarians had cast ballots in the election.  That is essentially tied with the lowest ever turnout of 44% in 2022. Ford ran his campaign under the slogan \"Protect Canada\", reflecting his view that Canada needs to stand firm against US tariff threats. Trump says US will impose additional 10% tariff on ChinaFord has appeared regularly on US television news networks in recent months as a de-facto spokesman for Canada's position in its fight against the tariffs.President Trump said on Thursday that the tariffs he planned to impose on Canada and Mexico would go ahead next week, after he delayed them a month in exchange for security assurances at the shared borders.Around 75% of Canadian exports go to the US, and economists have warned that the tariffs would be devastating for Canada's economy while raising costs for Americans.Ontario is home to a large automotive sector that is deeply intertwined with the US - car parts often make several trips back and forth across the US-Canada border before a vehicle is fully assembled and sold.Ford has suggested that 500,000 of Ontario's 16 million people could lose their jobs if the US follows through on the blanket 25% tariffs.He has called for strong retaliation, suggesting Canada cut its energy supply to the US and calling for provincial liquor stores to pull American booze from their shelves.He has also proposed the idea of \"Fortress Am-Can\" - a slogan to sell Trump on a stronger energy alliance between the two countries in a bid to avoid tariffs altogether. Opposition parties have criticised Ford for calling the snap election, accusing him of taking advantage of the rift in US-Canada relations to boost his own popularity. They also questioned the decision to push for a costly election amid economic uncertainty.Ford has also been the subject of numerous  controversies, including an ongoing criminal investigation into a deal to sell a piece of environmentally protected land for real estate development.At a speech to supporters on Thursday, Bonnie Crombie, leader of the Ontario Liberals, said that while the party fell short of forming a government it should be \"very proud\" of the seats it gained.\"People counted us out. Tonight, you proved them wrong,\" said Crombie, who failed to win her own seat. She vowed to continue on as leader.The last time a government in Ontario formed three consecutive majorities was under Leslie Frost, a Progressive Conservative leader who won his third and final term in 1959."
        ],
        [
         "33",
         "https://www.bbc.com/news/articles/cdell8n14x2o",
         "Hundreds in US climate agency fired in latest cuts",
         "Around 880 workers - including weather forecasters - are reported to have lost their jobs.",
         "2025-02-28T11:27:09.108Z",
         "Thomas Mackintosh",
         "Hundreds of National Oceanic and Atmospheric Administration (NOAA) staff have been laid off in the latest development in the Trump's administration's efforts to slash the federal workforce.Around 880 workers - including weather forecasters - have had their jobs terminated on Thursday, the BBC's US partner CBS News reported.The cuts come as Elon Musk, as the head of the so-called Department of Government Efficiency (Doge), continues a push to reduce spending through funding cuts and firings.An NOAA spokesman said the agency would not comment on internal personnel matters.Prior to Thursday's cuts, the NOAA had about 12,000 staffers across the world, including 6,773 who are scientists and engineers, according to the agency's website.\"We continue to provide weather information, forecasts and warnings pursuant to our public safety mission,\" the NOAA spokesman added.NOAA staffers took to social media to announce they had been swept up by the cuts.\"I was fired from my dream of working at NOAA. I'm so sorry to everyone also affected,\" climate scientist Zack Labe wrote on X. He said that he had worked on strengthening the agency's machine learning and AI tools.Californian Democratic Congressman Jared Huffman said people across the US \"depend on NOAA for free, accurate forecasts, severe weather alerts, and emergency information\". NOAA weather data is used by meteorologists, media organisations, commerical forecasting services and other companies to inform the US public about the weather. The agency produces the latest information on temperature, precipitation, air quality, UV index, humidity and more. This data is used extensively in the private sector to fuel popular weather services and websites.\"Most or all private weather companies in US (including forecasts that you see on TV or your favorite app) are built directly atop backbone of taxpayer-funded instrumentation, data, predictive modeling, & forecasts provided by NOAA,\" Daniel Swain, a climate scientist at the University of California, Los Angeles wrote on X.The agency has proved essential during periods of extreme weather conditions as well. The National Hurricane Center and the National Weather Service - housed under NOAA - create models and notify millions of Americans when and how to respond to severe weather events, such as hurricanes and tornadoes. Huffman lamented the loss of \"hundreds of scientists and experts at NOAA\" who helped collect infromation that kept the public safe during dangerous weather events. \"Musk's sham mission is bringing vital programs to a screeching halt. Purging the government of scientists, experts, and career civil servants and slashing fundamental programs will cost lives,\" the congressman said.Who is Doge's official leader? White House says it's not Elon MuskMusk wields his Doge chainsaw - but is a backlash brewing?What is Doge and why is Musk cutting so many jobs?Miyoko Sakashita, the Center for Biological Diversity's oceans director, said gutting NOAA will \"hamstring essential lifesaving\" programmes.The latest developments come days after US government workers faced widespread confusion following conflicting advice over compliance with a Musk-backed order to list their last week's work in an email or face termination.The message sent to millions of federal employees last Saturday evening came after Musk posted on his social media platform X that government staff would \"shortly receive an email requesting to understand what they got done last week\".On Sunday, Musk said in some cases \"we believe non-existent people or the identities of dead people are being used to collect paychecks\". In a copy of the email obtained by the BBC, employees were asked to respond explaining their accomplishments from the past week in five bullet points - without disclosing classified information.But, key agencies, including the Departments of Defense (DoD), Health and Human Services (HHS), Justice, the Pentagon and the FBI - now led by Trump appointees -instructed employees to ignore the directive.Agencies such as the Department of Transportation, the Secret Service and the Cybersecurity and Infrastructure Agency encouraged their staff to comply, according to reports.On Wednesday, Musk reiterated the suggestion that a number of federal employees who did not respond to an email requesting a summary of their achievements from the previous week could be \"dead\" or \"not real people\", but offered no facts to back it up.Speaking at Trump's first cabinet meeting, Musk told reporters: \"I think that email perhaps was best interpreted as a performance review, but actually it was a pulse check review. \"Do you have a pulse? Do you have a pulse? And two neurons. So if you have a pulse and two neurons, you can reply to an email.\"Elsewhere on Thursday, a federal judge in San Francisco found that the mass firings of probationary employees were likely unlawful.District Judge William Alsup ordered the Office of Personnel Management to inform certain federal agencies that it had no authority to order the firings of probationary employees, including at the defence department."
        ],
        [
         "34",
         "https://www.bbc.com/news/articles/cr52399eqgqo",
         "UK looks at Texas supermax prison for ideas to cut overcrowding",
         "The government wants to adopt a scheme which encourages inmates to gain qualifications and take jobs.",
         "2025-02-28T00:00:23.406Z",
         "Sima Kotecha",
         "A pungent smell of detergent and rotten food hits me as we walk through this enormous high-security prison. Inmates press themselves up against the bars to look at us. There are no smiles, only expressionless stares.A man with a tattoo that swirls across his face shouts, \"Where you from, ma'am?\"\"England.\"\"Hope you enjoy Estelle,\" he says.\"Do you?\" I ask.\"A lot better than where I was before.\"Welcome to the Estelle Supermax Penitentiary in Huntsville, Texas.Concrete watchtowers punctuate the perimeter of this vast space - equivalent in size to almost 3,000 football pitches - and a sign with an image of a red-maned lion and the words Stay Hungry - Feast on Success greets staff and visitors as they enter.The UK government is looking to Estelle prison for ideas - for ways to reduce reoffending and to bring down prisoner numbers in our already overcrowded jails. There's a scheme here they'd like to emulate, which gives inmates the chance to shorten their sentences by having a job while they're inside.Looking to this prison for inspiration might seem a curious choice to many, given Texas executes more people than any other US state. But ministers say by implementing schemes similar to ones used here, UK prisoners will be incentivised to gain qualifications - giving them more chance of employment once released.Just one in five offenders in England and Wales has a job six weeks after being released from custody, the latest stats show. According to the Ministry of Justice, people who are still unemployed six weeks after being released are twice as likely to reoffend as those in employment.No prison in the UK has as many inmates as they do at Estelle. More than 3,000 men in white jail-suits are currently locked up here - from murderers and rapists, to those doing time for lesser crimes like shoplifting and fraud. Two inmates are on death row.Jimmy Delgado is 52 and serving three life sentences for first-degree murder. He's already been inside for 25 years - 13 spent in solitary confinement. He's a large man with muscular shoulders and smiles broadly when we meet in the prison chapel, softly shaking my hand. He tells me he first ended up in prison aged just 16, after carrying out a robbery.He's remorseful for his crimes and says this prison - together with his faith in Jesus - has helped turn his life around by giving him purpose. He now works as a counsellor, supporting offenders who are struggling to cope with life in prison.\"I'm here for taking a life - and I'm here to save multiple lives,\" he says. \"If I can change the dynamic of family life for all these guys that are here then I've done my job - even if I never get out of prison.\"Delgado may never be released, but inmates having jobs in prison is one of the reasons why Estelle Supermax Penitentiary is appealing to the UK government.The \"good time credit\" scheme used here gives inmates the opportunity to reduce their time behind bars by participating in courses and studying for qualifications, taking up jobs, and behaving well.Credits earned are then added to the number of days the prisoner has already spent in jail, allowing them to reach their parole eligibility date sooner - when a panel decides if they're suitable for early release. This process depends on the classification of their crime and an assessment by the parole board on their overall rehabilitation.Off the long corridor that runs through the main prison building, inmates are quietly working in a small barbers. Kevin Smith is inside for minor offences. He is meticulously cutting a member of staff's hair with a pair of clippers, and says the good time credit scheme has made him feel positive about his time in prison.\"They helped me see that if I do the right thing and make the right decisions, I can do better in life,\" he says. \"I receive good time by working here, and I can get out earlier with the good time that I received - it works.\"The rates of those returning to prison within three years of release have fallen to 20.3% in Texas - a fraction of those in the rest of the United States (68%).The BBC came to Estelle to see their credit scheme in action with UK justice secretary Shabana Mahmood.\"The Texans had a system similar to ours - on the point of collapse, running out of prison places in 2007,\" Ms Mahmood says. \"They've now got a sustainable prison population - but most importantly, they've been able to massively cut the rates of reoffending here. They've got a rate of crime now that they haven't seen since the 1960s.\"She believes the Texan credit system is effective - helping prisoners get out of prison early - and stay out. \"It does help prisoners turn their backs on a life of crime.\"The Texas prison population is the highest of any state in the US, with 134,668 people in custody in the autumn of 2024 - although over the last couple of decades, since reforms were implemented, that number has reduced by nearly 20%. However, some experts say the good time credit programme is not a magic bullet.\"The incentivisation scheme has little to do with the reforms that helped bring Texas's prison population down in 2007,\" says Michele Deitch, a criminal justice policy lecturer at the University of Texas. \"And by itself it will do little to address the UK's very serious overcrowding problem.\"What would make a real difference, she says, would be diverting more people from incarceration in the first place: \"To shorten sentences, to reduce the use of recalls to prison, and to invest more heavily in rehabilitative programs in prison and in programs and services in the community.\"As well as incentivisation, the UK government is also considering the use of \"diversion programmes\" - where offenders are sent on rehabilitation courses rather than to jail. This can apply to people with addiction issues or mental health problems. It's what they do here in Texas to reduce the burden on the courts and attempt to sort the root cause of the offence.More people have been put to death in Texas than anywhere else in the US. Since the Supreme Court reinstated capital punishment in 1976, 593 prisoners have been executed. There are 176 people currently on death row - so it might seem strange the UK government could take a leaf out of their book.Even so, the justice secretary believes there is still much the UK can learn from what happens at Estelle.\"I don't think that the fact that they have the death penalty here means that we shouldn't be learning lessons from strategies that they've introduced that really work,\" Ms Mahmood says.It's a plan with \"huge potential in the UK\" according to Nick Hardwick, a former chief inspector of prisons, who believes it will make prisons safer and more productive.\"It will help ensure prisoners are doing what is necessary to reduce the risk they will reoffend and create more victims,\" he says.But not everyone agrees with incentivising convicted criminals to work towards an early release from prison.Samantha Nicholls' son was murdered in 2018. Twenty-two year old Joe Pooley was thrown into a river in Ipswich and held under the water. Three people were jailed for his murder in 2021. Joe's mother believes inmates should never be released before their sentence is complete.\"Prison is a punishment - you should do your time,\" she says. \"It needs to be a deterrent - you're there because you did something wrong.\"It's clear the UK needs to find solutions to cut prison overcrowding – and find them fast. Even the recent prisoner early release scheme will barely keep pace with more offenders being jailed. New prison buildings will take years to come on stream. But does this Texan prison have the answers?The challenge for ministers and the criminal justice system is how to stop the revolving doors on the UK's prisons - the reoffending and lack of prospects facing those who are released which draws them back into crime.Sign up for our Politics Essential newsletter to read top political analysis, gain insight from across the UK and stay up to speed with the big moments. It'll be delivered straight to your inbox every weekday."
        ],
        [
         "35",
         "https://www.bbc.com/news/articles/clyderx4v8go",
         "US measles outbreak kills child for first time in a decade",
         "The child who died was unvaccinated during an outbreak that has infected more than 120 people.",
         "2025-02-27T20:46:25.522Z",
         "3 days agoShareSaveShareSave",
         "A rapidly spreading outbreak of measles in Texas has killed one person, health officials said on Wednesday.It marks the first mortality from measles in the US in nearly a decade.The victim was an unvaccinated child who died in a Texas hospital after testing positive for measles, according to the state's health department. The Texas Department of State Health Services reported on Tuesday that it was aware of 124 cases diagnosed since the outbreak began last month, up from 90 on Friday. Almost all cases - 101 - were in patients 17 and younger.Speaking at the first cabinet meeting of US President Donald Trump's current term on Wednesday, Health Secretary Robert F Kennedy Jr claimed that there had been two deaths. However, Katherine Wells, the director of the public health department in Lubbock, Texas, where the death occurred, clarified later that there has only been one.The US Department of Health and Human Services did not respond to a request for comment from the BBC clarifying the number of deaths. The US declared that measles had been \"eliminated\" in 2000, but the country has seen outbreaks in recent years amid a rise in anti-vaccine sentiment. The last US measles death was in 2015, according to the Infectious Diseases Society of America.The current outbreak is centred in north-west Texas, with measles also recently found across the state's border in New Mexico, as well as Alaska, California, Georgia, New Jersey, New York City and Rhode Island, according to the Centers for Disease Control (CDC).Currently, there are nine cases reported in New Mexico, four of whom are children.Kennedy, a vaccine sceptic in the past, said that measles outbreaks were common and there have been four measles outbreaks so far in the US this year. The CDC defines an outbreak as three or more related cases.He also said his department was monitoring the current outbreak closely.A measles infection can have particularly devastating complications for pregnant women and young children, including pneumonia, neurological impairment, hearing loss and death.Survivors are at risk of developing a degenerative brain and nervous system disease known as subacute sclerosing panencephalitis (SSPE).There were 285 cases of measles reported in the US for all of last year, the highest number since 1,274 in 2019.So far, 18 people in the current outbreak have had to go to hospital, according to the Texas health department. Kennedy said altogether 20 people were in hospital to quarantine.Five people in Texas who were infected had been vaccinated, the department also said. New Mexico's congressional delegation pushed Kennedy to urgently address the current outbreak, urging him to \"launch a vaccination promotion campaign\" and rehire recently fired federal health workers, among other measures,  in a letter on Monday.\"Just last Friday, two dozen employees at the CDC charged with training public laboratory staffers and supporting outbreak response efforts were fired,\" the state's two senators and three House members, all Democrats, wrote. \"Those firings will worsen outbreaks and ultimately threaten the health of all Americans in the face of the next public health emergency.\" Meanwhile, areas affected by the outbreak are hosting free vaccination clinics, with the city of Lubbock, where the child victim died, holding hours-long clinics each day this week.The Texas outbreak is believed to have started in a rural Mennonite community with low vaccination rates, according to CBS News, the BBC's US partner, and local media.Most US children receive two immunisation shots to protect against the illness, which together are 97% effective in protecting against measles, according to the CDC.Vaccination rates in Texas are 94.3%, according to the CDC, which is below the 95% level that the Infectious Diseases Society of America says is needed to also protect those who are not immunized, commonly called \"herd immunity\".\"Measles was rare in the United States, but outbreaks are occurring in areas where vaccination rates have fallen,\" the American Academy of Pediatrics said in a statement. \"Most children who get measles are not up to date on recommended vaccines or are not old enough to get measles vaccine.\""
        ],
        [
         "36",
         "https://www.bbc.com/news/videos/cge11x14py4o",
         "Marvellous views of Moon captured by private lunar lander",
         "Firefly Aerospace's Blue Ghost shuttle will attempt to make a descent on the lunar surface on 2 March.",
         "2025-02-27T19:56:33.632Z",
         null,
         "Firefly Aerospace, a Texas-based private aerospace company, has released video from its Blue Ghost spacecraft orbiting the Moon.Since entering the Moon's orbit on 13 February, the lunar lander has been preparing for its landing.It will attempt to descent to the lunar surface on 2 March. If it succeeds, Blue Ghost would become the second private spacecraft to successfully soft-land on the Moon."
        ],
        [
         "37",
         "https://www.bbc.com/news/articles/cx2gg4x4w14o",
         "Katy Perry to head to space on Blue Origin all-women flight",
         "The American singer will be joined by Lauren Sanchez, whose fiancee Jeff Bezos owns Blue Origin.",
         "2025-02-27T19:36:34.341Z",
         "Ali Abbas Ahmadi",
         "Pop star Katy Perry will blast off into space as part of an upcoming all-women flight on Blue Origin's New Shepard rocket.The Firework singer will be joined by Blue Origin owner Jeff Bezos's fiancee Lauren Sanchez, CBS presenter Gayle King, former Nasa rocket scientist Aisha Bowe, civil rights activist Amanda Nguyen, and film producer Kerianne Flynn.Blue Origin said this is the first all-women space flight to take place since the Soviet Union's Valentina Tereshkova's solo mission in 1963.There is no specific date for the launch, but Blue Origin said it would take place this spring.Katy Perry is scheduled to be on her Lifetimes Tour from 23 April until 11 November, so this trip is expected to take place before that.\"If you had told me I'd be part of the first all-female crew in space, I would have believed you. Nothing was beyond my imagination as a child,\" Perry said in a statement cited by Newsweek.Why Katy Perry's comeback has gone so wrongThe NS-31 mission will be the 11th human spaceflight for the New Shepard rocket and the 31st in its history. So far, the programme has launched 52 people into space.A trip on the New Shepard typically lasts about 11 minutes, according to Blue Origin. It is fully autonomous - which means there are no pilots - and takes the passengers past the Karman line, internationally recognised as the edge of space.Blue Origin credited Lauren Sanchez for bringing the mission together, saying in its press release that she is \"honored to lead a team of explorers on a mission that will challenge their perspectives of Earth, empower them to share their own stories, and create lasting impact that will inspire generations to come\".Sanchez first announced her plan to fly with an all-women crew on a Blue Origin rocket in 2023 in an interview with Vogue, saying they were \"paving the way for women\".This is the latest group of celebrities to embark on a flight to space.Bezos himself flew on the company's first manned mission in 2021. Good Morning America's co-host Michael Strahan and Star Trek actor William Shatner have also been blasted into space on one of Bezos's rockets.Richard Branson, the founder of Virgin Galactic, made a trip aboard his company's VSS Unity spacecraft in July 2021. SpaceX founder Elon Musk, however, is yet to make a trip."
        ],
        [
         "38",
         "https://www.bbc.com/news/videos/ckgyyd304reo",
         "Drone lights up night rescue of teen trapped in a crevasse",
         "The 15-year-old was stuck between rocks for six hours after falling while climbing with his family.",
         "2025-02-27T16:01:57.169Z",
         null,
         "San Bernadino County Fire crews rescued a 15-year-old boy trapped between rocks for six hours in Rimrock, California using the light from a drone. The boy had fallen 30 feet (9.1m) while climbing with his family who had tried to reach him several times unsuccessfully before calling emergency services. Live video feeds from the drone also \"helped ensure a safer and more efficient rescue effort\", San Bernadino County Fire said in a statement on X, adding that the boy went to hospital suffering with hypoxia, hypothermia and dehydration."
        ],
        [
         "39",
         "https://www.bbc.com/news/articles/cq6yy9e368vo",
         "Trump administration unveils bird flu plan as egg prices soar",
         "A US bird flu epidemic has resulted in the deaths of tens-of-millions of poultry and strained the country's egg supply.",
         "2025-02-27T15:01:32.739Z",
         "Brandon Drenon",
         "The US Department of Agriculture (USDA) has announced a $1bn (£792m) plan to help US farmers combat a raging bird flu epidemic that has required them to kill millions of chickens and pushed the cost of eggs to an all-time high.Officials said they will budget $500m for biosecurity measures, roughly $100m for vaccine research and development, and $400m for farmer financial relief programs.More than 35 million birds have been killed in response to bird flu outbreaks in commercial flocks this year, according to USDA data.The bird culling has caused the average price for a dozen eggs in the US to hit $5 in January, a 53% increase from 2024 - and the USDA said prices could rise an additional 41%.The Trump administration said it will provide commercial egg farms with best practices and consulting services for free, and pay up to 75% of the costs to address vulnerabilities to help prevent the spread of bird flu.To address the threat of an egg shortage for US consumers, the government said it was willing to  consider temporarily importing eggs that meet US safety standards. The USDA also said it will eliminate regulations that they say raise the cost of eggs.The policy changes are not expected to have an immediate effect on egg prices, USDA secretary Brooke Rollins told the BBC's media partner CBS News. \"This is more of a long-term solution, but what I can say is that those prices should start coming down maybe this spring, this summer as we work to implement some of those bigger-picture solutions,\" Rollins said.Soaring egg prices in the US have had some surprising knock-on effects.In New York City, where a dozen eggs can fetch $14, some stores have reportedly started successfully selling single eggs - called \"loosies\" - to those unwilling to shell out for a full dozen.In February, thieves in Pennsylvania stole over 100,000 eggs worth $40,000 from the back of a lorry. "
        ],
        [
         "40",
         "https://www.bbc.com/news/videos/c0kgg787erdo",
         "Watch: Tough guy to eccentric grandad - a look back at Hackman's greatest roles",
         "The much-celebrated actor's filmography includes Oscar-nominated dramas to comedic roles.",
         "2025-02-27T12:18:42.664Z",
         null,
         "This video has been removed for rights reasons. The much-celebrated Hollywood actor Gene Hackman had a filmography that included Oscar-nominated dramas to comedic roles. He had a wide-ranging career spanning more than six decades, winning two Academy Awards - for his work on The French Connection and Unforgiven - two Baftas, four Golden Globes and a Screen Actors Guild Award. Hackman, his wife Betsy Arakawa and their dog were found dead at their home in Santa Fe, New Mexico.Gene Hackman and his wife found dead at their home"
        ],
        [
         "41",
         "https://www.bbc.com/news/articles/cvgwwp2gd3jo",
         "Trump foreign aid freeze to stay for now, US Supreme Court chief rules",
         "The decision goes against a lower court judge's ruling that the government had to pay aid contractors.",
         "2025-02-27T11:19:39.938Z",
         "Paulin Kola",
         "The top judge in the United States has given temporary backing to the Trump administration's freeze on foreign aid payments.Supreme Court Chief Justice John Roberts' intervention came as the administration faced a midnight deadline (05:00 GMT on Thursday) to pay contractors.Officials had argued that they could not process the payments within the timeframe set by a lower court judge.Since coming to power in January, US President Donald Trump has taken quick action to end many aid programmes, largely run by the US Agency for International Development, USAID, and placed most of its staff on administrative leave or sacked them.The Trump administration is seeking to shrink the federal workforce and cut costs in a drive led by Elon Musk.The billionaire Trump adviser asked millions of bureaucrats over the weekend to list their accomplishments from the past week - sparking fury amongst the workforce and disagreement with officials leading the departments.Most USAID staff laid off or placed on leaveWhat is USAID and why does Trump want to close it down?US District Judge Amir Ali had ordered the US State Department and USAID to pay about $2bn-worth of bills (£1.6bn) to contractors by midnight on Wednesday.It is one of many interventions by judges trying to stop or pause a wave of Trump administration orders.As the deadline approached, the Trump administration went to the Supreme Court, arguing it was impossible to process claims in an orderly fashion in such a short period of time.The US federal government freeze comes as the administration carries out a review of foreign aid funding.Acting Solicitor General Sarah Harris said Judge Ali's order \"has thrown what should be an orderly review by the government into chaos\". The cutbacks to USAID have already upended the global aid system. Hundreds of programmes have been frozen in countries around the world since the president announced his intentions in January.The US is by far the biggest single provider of humanitarian aid around the world.It has bases in more than 60 countries and works in dozens of others, with much of its work carried out by its contractors.According to the Associated Press news agency, the Trump administration wants to eliminate more than 90% of the USAID's foreign aid contracts - and $60bn of US  overseas aid. "
        ],
        [
         "42",
         "https://www.bbc.com/news/articles/c778rp2je47o",
         "Michelle Trachtenberg, Gossip Girl and Buffy actress, dies aged 39",
         "Trachtenberg, 39, found fame in television series Buffy the Vampire Slayer, and later Gossip Girl.",
         "2025-02-27T10:18:45.104Z",
         "Yasmin Rufo",
         "Actress Michelle Trachtenberg, who rose to fame as a child star in the 1990s and 2000s, has died aged 39.Police in Manhattan said they responded to an emergency call on Wednesday morning and found Trachtenberg \"unconscious and unresponsive\". She was pronounced dead at the scene.The US actress was best known for playing Buffy the Vampire Slayer's younger sister Dawn Summers, and later took on the role of manipulative socialite Georgina Sparks in Gossip Girl as an adult.Trachtenberg made her film debut in Harriet the Spy in 1996, and also appeared in several Nickelodeon productions. Co-stars paid tribute to her, describing her as a \"fiercely intelligent\" person who \"cared deeply\" about her work. Her family's representatives confirmed her death in a statement.\"It is with great sadness to confirm that Michelle Trachtenberg has passed away. The family requests privacy for their loss,\" it said. Authorities said her death was not being treated as suspicious. \"Criminality is not suspected. The medical examiner will determine the cause of death. The investigation remains ongoing,\" the NYPD said in a statement. Trachtenberg got her start in acting at age nine on the Nickelodeon television series The Adventures of Pete & Pete. In the early 2000s, she was nominated for several acting awards - including a Daytime Emmy Award - for her role in Buffy the Vampire Slayer. She also starred in films including EuroTrip, Ice Princess, Killing Kennedy, and Sister Cities.Blake Lively, a Gossip Girl co-star, said everything Trachtenberg did \"she did 200%\".\"She laughed the fullest at someone's joke... she cared deeply about her work, she was fiercely loyal to her friends and brave for those she loved, she was big and bold and distinctly herself,\" she wrote on social media.\"The real tragedies in life are the ones that blindside you on an idle Tuesday. Hold those you love and have loved dear.\"US comedian Rosie O'Donnell, who starred alongside Trachtenberg in her Harriet the Spy debut, said her death was \"heartbreaking\".\"I loved her very much. She struggled the last few years. I wish I could have helped.\"Josh Safran, a writer and producer on Gossip Girl, said it was \"an honour and joy to write for Michelle for so many years\", as she had a \"clear voice\" as an actor. \"You heard her as you typed,\" he wrote. \"You knew she'd make each line rougher, more real, much funnier - and that made the writing better.Former castmates also paid tribute.Buffy cast member James Marsters said on social media that the actress was \"fiercely intelligent, howlingly funny, and a very talented person\".\"She died much too young, and leaves behind scores of people who knew and loved her,\" Marsters said.How I Met Your Mother actress Alyson Hannigan, who played Willow Rosenberg in Buffy, shared a series of photos on social media, including images of the two sharing scenes, and said Trachtenberg \"brought a loving energy to the set of Buffy\".Trachtenberg first appeared in Gossip Girl - which ran from 2007 to 2012 - in 2008. She returned to the role for two episodes of the second season of HBO Max's reboot in 2023. Her last major acting role was in 2021 as the host of a true-crime docuseries Meet, Marry, Murder, which appeared on digital streamer Tubi. In 2021, Trachtenberg accused Buffy the Vampire Slayer creator Joss Whedon of inappropriate behaviour on set, after her co-star Charisma Carpenter said she had been left traumatised due to the treatment she received from Whedon. "
        ],
        [
         "43",
         "https://www.bbc.com/news/articles/c170l0n8j54o",
         "Three possible paths to freedom: What's next for the Menendez brothers?",
         "The pair, who murdered their wealthy parents in 1989, are pursuing three possible routes that could see them leave prison. ",
         "2025-02-27T09:07:33.049Z",
         "Sam Granville and Christal Hayes",
         "After 35 years behind bars, Lyle and Erik Menendez are closer than ever to a potential second chance at freedom.The brothers, who were convicted of killing their parents, José and Kitty Menendez, in 1989, have long maintained that the murders in their Beverly Hills mansion were driven by years of sexual and physical abuse, rather than hopes of inheriting their fortune.They are currently serving life in prison without the possibility of parole in California.A mix of new evidence and public interest has thrown the case, one that has both gripped and divided the nation for decades, upside down. It's all reached a pivotal moment. A resentencing hearing is set in March, which could lead to their sentences being reduced - or even their freedom. Separately, California Gov Gavin Newsom has ordered the state's parole board to conduct a risk assessment, a key step toward possible clemency, which could take form in a reduced sentence or a pardon. The movement in the historic criminal case is significant, but not everyone is happy at the prospect of them potentially walking free. There are three possible routes the brothers have been trekking in hopes of gaining their freedom. 1. Clemency from the Governor of CaliforniaClemency could mean a reduced sentence or even a pardon, but it would not overturn the brother's convictions.California Gov. Gavin Newsom has ordered the parole board to conduct a risk assessment to determine if the brothers pose a danger to society. Depending on the results, the governor could grant clemency, commuting their sentences to make them eligible for parole or even releasing them outright.The probe will examine the factors behind their crimes and their rehabilitation while in prison. It marks the first step in a broader process that could lead to clemency.2. A new trialThe brothers' defence attorneys have also asked for a new trial. They pointed to new evidence about the alleged sexual abuse by their father and argued jurors should be able to consider a lesser sentence, such as manslaughter.But newly elected Los Angeles County District Attorney Nathan Hochman said his office will oppose the request. 3. ResentencingThe last avenue is likely the most significant. The brothers are being vetted for resentencing, a legal process that could reduce their life sentences and grant them eligibility for parole. A hearing is scheduled for 20 March and 21 March to discuss this possibility. This effort centres on whether the brothers have rehabilitated after 35 years in prison and whether recent changes in California law apply to their case.In October 2024, then-LA County District Attorney George Gascón recommended resentencing for the brothers, citing California's evolving approach to juvenile offenders and abuse survivors.Shortly after the announcement, he lost a re-election campaign. The decision now rests with current DA Nathan Hochman, who was elected in November, and is examining the case before making a decision on whether to back the effort in court. One key argument for resentencing stems from a change in California law that allows offenders who were under the age of 26 at the time of their crime to be sentenced as minors rather than adults.Since Lyle was 21 and Erik was 18 when they killed their parents, their defence attorneys argue that this law should apply to them. If they had been sentenced under today's legal framework, they might have received lighter sentences or had the possibility of parole from the beginning, their attorneys argue. Neama Rahmani, a criminal defence attorney and former federal prosecutor, told the BBC that a \"perfect storm of PR and politics\" has led to the Menendez brothers having a real shot at freedom.He noted the recent attention the case has gotten from celebrities, a Netflix drama and docuseries on the case, and an \"embattled\" district attorney who was vying to remain in office.\"You're never going to see another case like this. It's a unicorn.\"The Menendez brothers filed a motion in May 2023 detailing new evidence in their case they claim shows they were victims of childhood sexual abuse by their father, Jose Menendez, and requested their convictions be vacated. Top LA prosecutor backs Menendez brothers being released on paroleNotorious Menendez brothers murder case to be reviewedThis includes an allegation of rape from a former member of Menudo, Roy Rosselló, and a letter Erik Menendez wrote to a cousin eight months before the murders, which detailed the alleged abuse.Gascón, who was the top prosecutor in LA at the time, announced just 12 days before a tough re-election in November 2024 that he would back the resentencing request. He has denied the announcement was political and argued it was a long-time coming. Gascón lost his re-election bid and was replaced by voters with the more moderate Hochman, whose view of the case remains unclear. The decision also came amid renewed attention in the case spurred by a new Netflix drama, Monsters: The Lyle and Erik Menendez Story as well as the release of docudrama, The Menendez Brothers.The series introduced the case to a new generation and garnered attention from celebrities - including Kim Kardashian and Rosie O'Donnell - who called for the brothers to be released. What is the controversy around Netflix's Menendez drama?Prosecutors claim retaliation by new LA DA over Menendez brothers supportMore than two dozen members of the Menendez family have issued public pleas for Erik and Lyle to be released. Those family members alleged the boys endured horrific sexual abuse at the hands of their father and are not a threat to society.Kitty Menendez's sister, Joan Anderson VanderMolen, argued “the whole world wasn’t ready to believe that the boys could be raped, or that young men could be victims of sexual violence\".She said that now “we know better\" and \"a jury today would never deliver such a harsh sentence\".But the family isn't in total agreement. A lawyer for Kitty Menendez’s brother, Milton Andersen, has called the brothers \"cold-blooded\" and said their \"actions shattered their family and left a trail of grief that has persisted for decades.\"\"Jose was shot six times, and Kitty was shot ten times, including a shot to her face after Erik reloaded.\" Mr Andersen believes his nephews should stay in prison for their \"heinous act\",  according to his lawyer, Kathy Cady.Family of Menendez brothers call for their release in killing of parentsMotive has long been at the heart of this case. During their trials, prosecutors painted the brothers as spoiled rich kids who killed their wealthy parents in their Beverly Hills mansion so they could access a $14m (£10.7m) fortune.They argued the duo methodically bought shotguns and fatally shot their parents a total of 13 times as the couple watched TV. They then went gambling, to parties and on shopping sprees, buying things like Rolex watches.Who is the Menendez family, at centre of US murder case?It was ultimately a confession to a psychologist that helped lead to their arrest when the girlfriend of their doctor reported it to authorities.The brothers ultimately admitted to the killings - but argued they acted out of self-defence after years of emotional, physical and sexual abuse.They told the court they feared their parents would kill them if they didn’t act first. Lyle and Erik testified they confronted their parents about the sexual abuse and things had become combative in their household and they believed their parents were planning to kill them.Family members testified about the abuse they witnessed - but none said they saw sexual abuse first-hand.Both brothers married while serving life sentences without the possibility of parole.Lyle Menendez has been married twice. In 1996, he wed Anna Eriksson, a former model, after they developed a relationship through letters. Their marriage ended in divorce in 2001.Two years later, in 2003, he married Rebecca Sneed, a magazine editor. Sneed has remained out of the public eye but has maintained her commitment despite the challenges of prison life.Erik Menendez also found love behind bars. In 1999, he married Tammi Saccoman after a pen-pal romance developed into a deeper connection. In 2005, she published a memoir, They Said We'd Never Make It, chronicling their unconventional marriage and the difficulties of loving someone serving a life sentence. She has described their relationship as \"fulfilling and deeply emotional,\" despite never being able to share a traditional life together.Court records also detail more about their lives behind bars. A motion filed in support of their resentencing bid details they both received educational degrees. It also details various programmes they launched behind bars that aimed to help other inmates, including those who were victims of childhood trauma and disabled or elderly inmates.All of this was done, the report notes, \"without any expectation or hope of ever being released\"."
        ],
        [
         "44",
         "https://www.bbc.com/news/articles/c5y44gw5gpro",
         "Bezos focuses Washington Post opinion section on free markets and liberties",
         "The move marks a major shift and prompted the outlet's opinion editor David Shipley to resign.",
         "2025-02-27T03:25:46.204Z",
         "Nadine Yousif and Madeline Halpert",
         "Washington Post owner Jeff Bezos has announced that the newspaper's opinion section will focus on supporting “personal liberties and free markets\", and pieces opposing those views will not be published.The move, which marks a major shift away from the section's broad opinion coverage, prompted the outlet's opinion editor David Shipley to resign. Bezos, the billionaire founder of Amazon, sent a memo to staff on Wednesday which he also posted to X.“We are going to be writing every day in support and defence of two pillars: personal liberties and free markets,“ Bezos said. He added the opinion section would cover other topics, but “viewpoints opposing those pillars will be left to be published by others”.“There was a time when a newspaper, especially one that was a local monopoly, might have seen it as a service to bring to the reader's doorstep every morning a broad-based opinion section that sought to cover all views,” Bezos wrote. “Today, the internet does that job.”Bezos added that he had asked Mr Shipley if he wanted to stay at the outlet after the changes, but he said no. \"This is a significant shift, it won't be easy, and it will require 100% commitment - I respect his decision,\" Bezos said.The billionaire businessman's move is a significant intervention in the editorial side of the newspaper, which he acquired in 2013.It follows a decision last year not to run an endorsement of Democratic presidential candidate Kamala Harris, and to stop making presidential endorsements in general, which led to resignations and the loss of thousands of subscribers.According to the Washington Post, Will Lewis, the outlet’s chief executive, said in a memo to staff that the changes to the opinion section were \"not about siding with any political party”.\"This is about being crystal clear about what we stand for as a newspaper,\" he said.The decision was praised by several of President Donald Trump‘s allies, including billionaire Elon Musk, who wrote on social media: “Bravo, @JeffBezos!\" But on a Washington Post article announcing the change, some subscribers wrote in the comment section criticising the decision, and others said they would be cancelling their subscription."
        ],
        [
         "45",
         "https://www.bbc.com/news/videos/cy4vvdmxv1do",
         "Watch: Behind the scenes at the Oscars red carpet rollout",
         "The Academy Awards will take place on 2 March, with Conan O'Brien expected to host.",
         "2025-02-27T00:00:42.026Z",
         null,
         "Preparations are underway at the Dolby Theater for the 97th Academy Awards taking place on Sunday. The BBC's Emma Vardy attended the red carpet rollout ahead of Hollywood's big night."
        ],
        [
         "46",
         "https://www.bbc.com/news/videos/cd655ynw91do",
         "Watch: Michelle Trachtenberg on the red carpet over the years",
         "The actress, best known for her roles in the TV series Buffy the Vampire Slayer and Gossip Girl, has died aged 39.",
         "2025-02-26T22:30:56.470Z",
         null,
         "Michelle Trachtenberg, who rose to fame as a child star in the 1990s and 2000s, has died aged 39. The actress was best known for her roles in the TV series Buffy the Vampire Slayer and Gossip Girl. Her family's representatives confirmed her death in a statement. Her death is not being treated as suspicious, police said."
        ],
        [
         "47",
         "https://www.bbc.com/news/articles/c5yxvywr015o",
         "US Supreme Court hears arguments in 'straight discrimination' case",
         "Justices appeared sympathetic to a woman who claims she was denied jobs because she is heterosexual. ",
         "2025-02-26T22:05:04.164Z",
         "Mike Wendling",
         "US Supreme Court justices indicated during a hearing on Wednesday that they would side with a woman who alleged she was discriminated against at her job because she is heterosexual.Marlean Ames worked for the Ohio Department of Youth Services for more than 20 years. She claims she was passed over for a promotion, then demoted, because she is straight. The job she hoped to get and the one she held when demoted, were both given to gay colleagues, according to the lawsuit.Ohio state officials have denied the discrimination, and Ms Ames has so far been unsuccessful in court.In oral arguments in front of the Supreme Court - split 6-3 in favour of conservative judges - justices on both sides ideologically appeared sympathetic to Ms Ames's case.A 1964 US law forbids discrimination in the workplace, and in 2020, the Supreme Court ruled that protection extends to sexual orientation, however lower courts have dismissed Ms Ames's case.US court precedent covering some states, including Ohio, requires that members of majority groups - such as white people or heterosexuals - show a higher level of evidence when making discrimination claims.Plaintiffs in those cases – sometimes called \"reverse discrimination\" – are required to show additional \"background circumstances\" to prove their case, for instance evidence that LGBTQ people made decisions affecting the person discriminated against, or evidence showing a pattern of discrimination.According to the lawsuit, Ms Ames had positive performance evaluations, but in 2019 she and two other heterosexual employees were passed over for a promotion that was eventually given to a lesbian.She was later demoted, according to the lawsuit, and her job was given to a gay man.In addition to ruling that Ms Ames did not show a pattern of discrimination or \"background circumstances\", a lower court also previously found that managers at the youth services department had \"legitimate, nondiscriminatory business reasons\" for their decisions.During arguments on Wednesday, Supreme Court Justice Brett Kavanaugh, one of the court's conservative members, said: \"Discrimination on the basis of sexual orientation, whether you are gay or straight, is prohibited. The rules are the same whichever way it goes.\"According to the transcript of the hearing, another conservative justice, Amy Coney Barrett, said that \"it doesn't matter if she was gay or whether she was straight\", the legal burden should be the same.And several of the court's liberal justices seemed to agree. Neil Gorsuch indicated that he thought allowing Ms Ames' lawsuit to proceed would be a \"wise course\". While talking about the facts of the case, Justice Sonia Sotomayor said \"something's suspicious\" which \"certainly can give rise to an inference of discrimination.\"Ohio officials were represented in court by the state Solicitor General T Elliot Gaiser, a former lawyer for Trump.Gaiser told the justices \"everyone here agrees that everyone should be treated equally\", but argued that the officials who made the job decisions did not know Ames' sexual orientation and thus could not have used it to discriminate against her.Lawyers for the state also argue that those making the employment decisions were heterosexual and had legitimate concerns about Ms Ames's vision for the youth services department.The Supreme Court could order lower courts to re-examine the case and allow the lawsuit to go ahead."
        ],
        [
         "48",
         "https://www.bbc.com/news/articles/cq5zgvdz2z0o",
         "Trump says $5m 'gold card' immigration visas will 'sell like crazy'",
         "Trump say wealthy investors will buy the visas and create jobs in the US, while helping pay off US debt. ",
         "2025-02-26T20:13:24.874Z",
         "Madeline Halpert",
         "President Donald Trump has unveiled plans for selling a \"gold card\" visa for $5m (£3.9m) that will offer wealthy buyers permanent residency in the US and a path to citizenship. At the first cabinet meeting of his current term, Trump told reporters that the visas would function similarly to green cards, which allow immigrants of varying incomes to live and work permanently in the US, but would go to  \"high-level people\". \"The people that can pay $5m, they're going to create jobs,\" Trump said. \"It's going to sell like crazy. It's a bargain.\"Commerce Secretary Howard Lutnick, also at the meeting, said the gold visas would replace the current visa programme for foreign investors, but offered few details.Dozens of countries around the world offer some sort of citizenship by investment programme, including several in Europe, like Portugal, which gives \"golden visas\", or permanent residency for foreigners who invest €500,000 ($524,000) into a qualifying fund. Trump said companies would use the golden visa programme to hire non-citizens to work for them in the US. \"We have to be able to get people in the country, and we want people that are productive people,\" Trump said.  Typically, green card holders in the US can apply for citizenship after five years. Trump suggested revenue from the high-priced visas could be used to pay off US debt. Lutnick said that the initiative will replace the EB-5 visa, which gives permanent residency to some foreigners who invest around $1m and create at least 10 full-time jobs in the US.Saying the EB-5 programme was \"poorly overseen and poorly executed\",  Lutnick said the golden visas would be an improvement.\"We're going to make sure they're wonderful world-class global citizens,\" Lutnick said of future gold card applicants. It was not immediately clear how the government would select recipients, if there were exclusions, or if there would be any cap on how many are issued.During the fiscal year of 2024, the State Department issued over 12,000 EB-5 visas, a record high for the programme."
        ],
        [
         "49",
         "https://www.bbc.com/news/articles/cn48z5q28vyo",
         "US congresswoman votes with baby in arms after proxy vote ban",
         "Unable to vote remotely due to congressional rules, the Colorado lawmaker now leads a bipartisan push for more flexibility for members.",
         "2025-02-26T20:06:03.760Z",
         "Ana Faguy",
         "Four weeks after giving birth to her second child, Congresswoman Brittany Pettersen cradled her baby son in her arms as she cast a crucial vote on the House floor.Unable to vote remotely due to congressional rules, the Colorado Democrat flew across the country to oppose a multi-trillion-dollar budget deal, which narrowly passed in the House of Representatives.\"Unfortunately, I wasn't given the opportunity to vote remotely after giving birth, but I wasn't going to let that stop me from representing my constituents,\" Pettersen said on Tuesday.The congresswoman - the 14th lawmaker to give birth while in office - now leads a bipartisan push for more flexibility for members with growing families.  In January, she introduced legislation allowing proxy voting for up to 12 weeks for members  who have \"given birth or whose spouse have given birth and pregnant members who are unable to travel safely or have a serious medical condition\". The bill has 137 bipartisan co-sponsors.Proxy voting - where a lawmaker designates another to vote on their behalf - was temporarily allowed during the pandemic, but current House rules prohibit it. The restriction allowed some to see the unintended benefits of proxy voting for those recovering from childbirth or illness, but critics argued the policy was being abused.  More than 100 Republican members of the House of Representatives, including current Speaker Mike Johnson, filed lawsuit to end the practice, arguing it was unconstitutional.The legal argument failed, but when Republicans regained control of the House in 2023, former Speaker of the House Kevin McCarthy ended proxy voting. Pettersen and another Republican congresswoman who gave birth in 2023 continue to push for flexibility for new parents on Capitol Hill. Congresswoman Anna Paulina Luna, a Florida Republican who gave birth in 2023, missed 137 votes in the weeks after she gave birth. Doctors had advised her not to travel while recovering from a difficult birth.Luna called the inability to proxy vote a \"slap in the face to every constituent\" who elected her. \"How is it not discriminatory to tell a duly elected member of Congress that she can't vote because she gave birth to a child?\" she said in a video statement  last month. \"New mothers in Congress should not be forced to choose their careers over children or choose children over careers.\"But Republican leadership has yet to budge.\"I have great sympathy, empathy for all of our young women legislators who are of birthing age. It's a real quandary,\" Johnson said in a statement last month. \"But I'm afraid it doesn't fit with the language of the Constitution, and that's the inescapable truth that we have.\"Jean Sinzdak, associate director at the Center for American Women and Politics, said the pushback, in part, is cultural: many of the leaders of institutions like congress are older men who are not concerned about the trials of young parents and families.\"It doesn't behove the leaders of these institutions to change this process because it's not affecting them directly,\"  Ms Sinzdak told the BBC.The UK parliament now  allows proxy voting for members of parliament who are new parents, experiencing childbirth complications or need fertility treatment. The European parliament currently has no provisions to allow heavily pregnant members to vote if they can't physically make it to Strasbourg, the formal seat of the office.Pettersen and Luna are now trying to bypass Johnson and put the legislation  to a floor vote - it is a tough road but it may be their best shot unless the thinking surrounding proxy voting changes. "
        ]
       ],
       "shape": {
        "columns": 6,
        "rows": 859
       }
      },
      "text/html": [
       "<div>\n",
       "<style scoped>\n",
       "    .dataframe tbody tr th:only-of-type {\n",
       "        vertical-align: middle;\n",
       "    }\n",
       "\n",
       "    .dataframe tbody tr th {\n",
       "        vertical-align: top;\n",
       "    }\n",
       "\n",
       "    .dataframe thead th {\n",
       "        text-align: right;\n",
       "    }\n",
       "</style>\n",
       "<table border=\"1\" class=\"dataframe\">\n",
       "  <thead>\n",
       "    <tr style=\"text-align: right;\">\n",
       "      <th></th>\n",
       "      <th>link</th>\n",
       "      <th>headline</th>\n",
       "      <th>summary</th>\n",
       "      <th>time</th>\n",
       "      <th>author</th>\n",
       "      <th>content</th>\n",
       "    </tr>\n",
       "  </thead>\n",
       "  <tbody>\n",
       "    <tr>\n",
       "      <th>0</th>\n",
       "      <td>https://www.bbc.com/news/articles/cdxqnxw6z73o</td>\n",
       "      <td>Protesters target JD Vance in Vermont after cl...</td>\n",
       "      <td>They held up pro-Ukraine signs on the route th...</td>\n",
       "      <td>2025-03-02T15:29:55.905Z</td>\n",
       "      <td>David Mercer</td>\n",
       "      <td>Protesters in the US have lined a road in Verm...</td>\n",
       "    </tr>\n",
       "    <tr>\n",
       "      <th>1</th>\n",
       "      <td>https://www.bbc.com/news/articles/cnvz566n523o</td>\n",
       "      <td>Most Republicans laud Trump after Zelensky sho...</td>\n",
       "      <td>The majority of Republicans say Zelensky was a...</td>\n",
       "      <td>2025-03-01T22:44:15.435Z</td>\n",
       "      <td>Max Matza</td>\n",
       "      <td>Most Republicans have backed US President Dona...</td>\n",
       "    </tr>\n",
       "    <tr>\n",
       "      <th>2</th>\n",
       "      <td>https://www.bbc.com/news/articles/cvgwwyrnpzdo</td>\n",
       "      <td>Gene Hackman loved acting but 'hated everythin...</td>\n",
       "      <td>Those who knew him discuss his brilliance, as ...</td>\n",
       "      <td>2025-03-02T00:04:06.288Z</td>\n",
       "      <td>Noor Nanji</td>\n",
       "      <td>\"He loved being an actor, and hated all the st...</td>\n",
       "    </tr>\n",
       "    <tr>\n",
       "      <th>3</th>\n",
       "      <td>https://www.bbc.com/news/articles/cd9208qv1kzo</td>\n",
       "      <td>Private spacecraft Blue Ghost lands on Moon</td>\n",
       "      <td>It was launched by Firefly Aerospace in Januar...</td>\n",
       "      <td>2025-03-02T10:43:47.369Z</td>\n",
       "      <td>George Sandeman</td>\n",
       "      <td>A private spacecraft has landed on the Moon, b...</td>\n",
       "    </tr>\n",
       "    <tr>\n",
       "      <th>4</th>\n",
       "      <td>https://www.bbc.com/news/articles/c1d4r2nk4yyo</td>\n",
       "      <td>R&amp;B hitmaker Angie Stone dead in car crash</td>\n",
       "      <td>The Wish I Didn't Miss You singer was involved...</td>\n",
       "      <td>2025-03-01T21:56:09.925Z</td>\n",
       "      <td>Christal Hayes</td>\n",
       "      <td>Grammy-nominated R&amp;B artist Angie Stone has di...</td>\n",
       "    </tr>\n",
       "    <tr>\n",
       "      <th>...</th>\n",
       "      <td>...</td>\n",
       "      <td>...</td>\n",
       "      <td>...</td>\n",
       "      <td>...</td>\n",
       "      <td>...</td>\n",
       "      <td>...</td>\n",
       "    </tr>\n",
       "    <tr>\n",
       "      <th>854</th>\n",
       "      <td>https://www.bbc.com/news/articles/cx25x2lvk7ro</td>\n",
       "      <td>Lebanon ceasefire deal extended as initial dea...</td>\n",
       "      <td>Lebanon and the US said the agreement will rem...</td>\n",
       "      <td>2025-01-27T01:55:22.278Z</td>\n",
       "      <td>Ian Aikman</td>\n",
       "      <td>The US and Lebanon say the ceasefire deal with...</td>\n",
       "    </tr>\n",
       "    <tr>\n",
       "      <th>855</th>\n",
       "      <td>https://www.bbc.com/news/articles/czeprnw4repo</td>\n",
       "      <td>Lebanon says 22 killed by Israeli forces after...</td>\n",
       "      <td>It comes as the deadline passes for Israeli fo...</td>\n",
       "      <td>2025-01-26T19:45:37.890Z</td>\n",
       "      <td>Hugo Bachega</td>\n",
       "      <td>Israeli soldiers have killed 22 people and wou...</td>\n",
       "    </tr>\n",
       "    <tr>\n",
       "      <th>856</th>\n",
       "      <td>https://www.bbc.com/news/articles/c6267kyp0eko</td>\n",
       "      <td>'My beauty, you're home': Israeli women soldie...</td>\n",
       "      <td>The four women were taken hostage on 7 October...</td>\n",
       "      <td>2025-01-25T19:51:36.211Z</td>\n",
       "      <td>Alice Cuddy</td>\n",
       "      <td>Nineteen-year-old Liri Albag rushes into her p...</td>\n",
       "    </tr>\n",
       "    <tr>\n",
       "      <th>857</th>\n",
       "      <td>https://www.bbc.com/news/articles/c8xqv5rqpyjo</td>\n",
       "      <td>Hamas names next Israeli hostages set to be re...</td>\n",
       "      <td>Four are due to be freed in a second exchange ...</td>\n",
       "      <td>2025-01-24T17:24:02.096Z</td>\n",
       "      <td>Raffi Berg</td>\n",
       "      <td>Hamas has named four hostages to be released o...</td>\n",
       "    </tr>\n",
       "    <tr>\n",
       "      <th>858</th>\n",
       "      <td>https://www.bbc.com/news/articles/cqx92yzew88o</td>\n",
       "      <td>UN suspends movement in Houthi-held areas afte...</td>\n",
       "      <td>Talks with senior Houthi officials are underwa...</td>\n",
       "      <td>2025-01-24T16:09:31.782Z</td>\n",
       "      <td>Sebastian Usher</td>\n",
       "      <td>The United Nations (UN) says it has suspended ...</td>\n",
       "    </tr>\n",
       "  </tbody>\n",
       "</table>\n",
       "<p>859 rows × 6 columns</p>\n",
       "</div>"
      ],
      "text/plain": [
       "                                               link  \\\n",
       "0    https://www.bbc.com/news/articles/cdxqnxw6z73o   \n",
       "1    https://www.bbc.com/news/articles/cnvz566n523o   \n",
       "2    https://www.bbc.com/news/articles/cvgwwyrnpzdo   \n",
       "3    https://www.bbc.com/news/articles/cd9208qv1kzo   \n",
       "4    https://www.bbc.com/news/articles/c1d4r2nk4yyo   \n",
       "..                                              ...   \n",
       "854  https://www.bbc.com/news/articles/cx25x2lvk7ro   \n",
       "855  https://www.bbc.com/news/articles/czeprnw4repo   \n",
       "856  https://www.bbc.com/news/articles/c6267kyp0eko   \n",
       "857  https://www.bbc.com/news/articles/c8xqv5rqpyjo   \n",
       "858  https://www.bbc.com/news/articles/cqx92yzew88o   \n",
       "\n",
       "                                              headline  \\\n",
       "0    Protesters target JD Vance in Vermont after cl...   \n",
       "1    Most Republicans laud Trump after Zelensky sho...   \n",
       "2    Gene Hackman loved acting but 'hated everythin...   \n",
       "3          Private spacecraft Blue Ghost lands on Moon   \n",
       "4           R&B hitmaker Angie Stone dead in car crash   \n",
       "..                                                 ...   \n",
       "854  Lebanon ceasefire deal extended as initial dea...   \n",
       "855  Lebanon says 22 killed by Israeli forces after...   \n",
       "856  'My beauty, you're home': Israeli women soldie...   \n",
       "857  Hamas names next Israeli hostages set to be re...   \n",
       "858  UN suspends movement in Houthi-held areas afte...   \n",
       "\n",
       "                                               summary  \\\n",
       "0    They held up pro-Ukraine signs on the route th...   \n",
       "1    The majority of Republicans say Zelensky was a...   \n",
       "2    Those who knew him discuss his brilliance, as ...   \n",
       "3    It was launched by Firefly Aerospace in Januar...   \n",
       "4    The Wish I Didn't Miss You singer was involved...   \n",
       "..                                                 ...   \n",
       "854  Lebanon and the US said the agreement will rem...   \n",
       "855  It comes as the deadline passes for Israeli fo...   \n",
       "856  The four women were taken hostage on 7 October...   \n",
       "857  Four are due to be freed in a second exchange ...   \n",
       "858  Talks with senior Houthi officials are underwa...   \n",
       "\n",
       "                         time           author  \\\n",
       "0    2025-03-02T15:29:55.905Z     David Mercer   \n",
       "1    2025-03-01T22:44:15.435Z        Max Matza   \n",
       "2    2025-03-02T00:04:06.288Z       Noor Nanji   \n",
       "3    2025-03-02T10:43:47.369Z  George Sandeman   \n",
       "4    2025-03-01T21:56:09.925Z   Christal Hayes   \n",
       "..                        ...              ...   \n",
       "854  2025-01-27T01:55:22.278Z       Ian Aikman   \n",
       "855  2025-01-26T19:45:37.890Z     Hugo Bachega   \n",
       "856  2025-01-25T19:51:36.211Z      Alice Cuddy   \n",
       "857  2025-01-24T17:24:02.096Z       Raffi Berg   \n",
       "858  2025-01-24T16:09:31.782Z  Sebastian Usher   \n",
       "\n",
       "                                               content  \n",
       "0    Protesters in the US have lined a road in Verm...  \n",
       "1    Most Republicans have backed US President Dona...  \n",
       "2    \"He loved being an actor, and hated all the st...  \n",
       "3    A private spacecraft has landed on the Moon, b...  \n",
       "4    Grammy-nominated R&B artist Angie Stone has di...  \n",
       "..                                                 ...  \n",
       "854  The US and Lebanon say the ceasefire deal with...  \n",
       "855  Israeli soldiers have killed 22 people and wou...  \n",
       "856  Nineteen-year-old Liri Albag rushes into her p...  \n",
       "857  Hamas has named four hostages to be released o...  \n",
       "858  The United Nations (UN) says it has suspended ...  \n",
       "\n",
       "[859 rows x 6 columns]"
      ]
     },
     "execution_count": 18,
     "metadata": {},
     "output_type": "execute_result"
    }
   ],
   "source": [
    "# converts results into a dataframe\n",
    "scraped_articles = pd.concat([pd.DataFrame(result) for result in results]).reset_index(drop=True)\n",
    "# merges the scraped data with the prevously scraped data (merges by link, and drops newly scraped headers, because prevously scraped headers was better)\n",
    "scraped_articles = pd.merge(articles, scraped_articles[['time','author','content','link']], on='link')\n",
    "# saves scraped data to a file\n",
    "scraped_articles.to_csv('bbc_scaped_articles.csv')\n",
    "scraped_articles"
   ]
  },
  {
   "cell_type": "markdown",
   "metadata": {},
   "source": [
    "Ovenfor er den kombinerede tabel præsenteret. Jeg er bevidst om at ikke hele tabellen kan ses, men da det kombinere de samme informationer, som allerede er blevet præsenteret ovenfor, bliver der ikke vist nye informationer i denne tabel, som man ikke kan se i tabellerne ovenfor.\n",
    "\n",
    "### Diskussion\n",
    "\n",
    "Det kunne være en fordel at tilføje de nye artikler til det samlede datasættet, da det ville øge aktuallitetet af datasættet, hvilken kan være relevant taget i betragtning af at ud fra ``news_sample.csv`` ser det ud til at en del af artiklerne er blevet skrabet i 2018, og inde på Githubben, hvor man kan læse om datasættet, er de sidste opdateringer lavet for over 6 år siden, hvilket kunne tyde på at datasættet ikke er helt op to date. Derfor ville det kunne være godt at tilføje ny data til datasættet, da det ikke er helt usandsynligt at noget har ændret sig i mellemtiden. \n",
    "\n",
    "Det kunne også hende at en model, trænet udelukkende på det gamle data, lærte hvilke emner (key-words), som i 2018 var tegn på troværdige eller falske nyheder, grundet den smalle tidsperiode, som det ser ud til at skrabningen af artiklerne har fundet sted i. Med en model der også er trænet på mere aktuel data, ville det sandsynligvis øge variationen af emner og mønstre tilstede i datasættet, da der er sket ret meget siden 2018. Dette ville potentielt kunne forbedre modellens evne til at generellisere, som ville øge dens nøjagtighed i virkelig brug. Tværtimod hvis de nye artikler er meget ensartede, med de gamle artikler, kunne det faktisk sænke variationen i datasættet, hvilke kunne bidrage til en model ville blive overtrænet på et bestemt mønster, som her ville være, hvordan troværdige kilder ser ud, såfrem man vurdere BBC som troværdig. Dette ville kunne medføre at modellen ville blive værre til at generelisere, og kunne gøre det svære for den at klassificere nye troværdige artikler, som troværdige, hvilket ville betyde at de istedet ville blive klasificeret fom falske, altså sænke modellens nøjagtighed. Ud fra egen undersøgelse af ``995,000_rows.csv``, ser det umiddelbart ud til at der ikke er blevet skrabet nogle artikler fra BBC's domæne. Altså ser det ud til at det er mere sandsynligt at det ville øge variationen.\n",
    "\n",
    "Da BBC er en venstre orienteret nyhedskilde, kunne man risikere at tilføje bias i datasættet, da hvis man øger mængden af venstre orienteret troværdige kilder uden også at høje mængden af højre orienteret troværdige kilder, ville man kunne risikere at en model trænet på dette data, ville lære at venstre orienterede idéer er troværdige og højre orienterede idéer er utroværdige, hvilket ikke er ønkset med modellen. Dog hvis datasættet allerede er biased mod højre, ville det istedet hjælpe med at udligne det.\n",
    "\n",
    "Ud fra grafen om fordelingen af *fake* vs. *reliable*, kunne man tænke at det ville være fordelagtigt at tilføje det nye data til datasættet, da det ud fra ``news_sample.csv`` kunne tyde på at datasættet er ret ulige fordelt, med flest fake-news. I realiteten er datasættet meget ligeligt fordelt, som ses på grafen nedenfor, ud fra de klassifikationer jeg brugte i Opgave 1, omkring hvilke der høre under *fake* og hvilke der høre under *reliable*, med 1% mere i reliable artikler end fake. Da kunne det altså tyde på, at ved at tilføje flere *reliable* artikler, så ville datasættet blive mere skævt fordelt, men i praksis er de ca. 800 artikler en sådan lille del, sammenlignet med hele datasættet, at *fake* ville falde med -0,1% og *reliable* ville stige med +0,1%."
   ]
  },
  {
   "cell_type": "code",
   "execution_count": 19,
   "metadata": {},
   "outputs": [
    {
     "data": {
      "image/png": "[encoded data removed]",
      "text/plain": [
       "<Figure size 640x480 with 1 Axes>"
      ]
     },
     "metadata": {},
     "output_type": "display_data"
    }
   ],
   "source": [
    "total = 218564+194518+27412+133232+104883+97314+56445+14040+13160+8779\n",
    "type_distribution = pd.Series({'Fake':(133232+104883+97314+56445+14040+13160+8779)/total*100, 'Reliable':(218564+194518+27412)/total*100})\n",
    "type_distribution.plot(kind='bar', color=['orange', 'lightgreen'], title='Procentfordeling af Fake vs. Reliable i \"995,000_rows.csv\"', xlabel='Grupper', ylabel='Procent')\n",
    "for i, v in enumerate(type_distribution):\n",
    "    plot.text(i, v + 1, f\"{v:.1f}%\", ha='center', va='bottom')\n",
    "plot.grid(True, axis='y', linestyle=':', linewidth=0.5)\n",
    "plot.xticks(rotation=0)\n",
    "plot.ylim(0, 100)\n",
    "plot.show()"
   ]
  },
  {
   "cell_type": "markdown",
   "metadata": {},
   "source": [
    "At grafen ændre sig så lidt, ved tilføjelsen af de nye artikler, betyder det at i teorien kunne det at tilføje de nye artikler, have mange effekter på datasættet, gode såvel som dårlige, men i praksis skal jeg skrabe mange flere artikler før at det at tilføje dem vil have en betydelig effekt på det samlede datasæt."
   ]
  }
 ],
 "metadata": {
  "kernelspec": {
   "display_name": "Python 3",
   "language": "python",
   "name": "python3"
  },
  "language_info": {
   "codemirror_mode": {
    "name": "ipython",
    "version": 3
   },
   "file_extension": ".py",
   "mimetype": "text/x-python",
   "name": "python",
   "nbconvert_exporter": "python",
   "pygments_lexer": "ipython3",
   "version": "3.12.4"
  }
 },
 "nbformat": 4,
 "nbformat_minor": 2
}

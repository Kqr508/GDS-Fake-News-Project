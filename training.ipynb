{
 "cells": [
  {
   "cell_type": "markdown",
   "metadata": {},
   "source": [
    "Huske at vi skal have en clean data på maskinen for at være i stand til at køre denne kode."
   ]
  },
  {
   "cell_type": "code",
   "execution_count": null,
   "metadata": {},
   "outputs": [],
   "source": [
    "import pandas as pd\n",
    "\n",
    "DATA_FILE = \"data.csv\"\n",
    "news_sample = pd.read_csv(DATA_FILE)\n",
    "news_sample.head()"
   ]
  },
  {
   "cell_type": "markdown",
   "metadata": {},
   "source": [
    "Task 4: Split the resulting dataset into a training, validation, and test splits. A common strategy is to uniformly at random split the data 80% / 10% /\n",
    "10%. You will use the training data to train your baseline and advanced models, the validation data can be used for model selection and\n",
    "hyperparameter tuning, while the test data should only be used in Part 4.\n",
    "\n",
    "\n",
    "Dette program opdeler et renset nyhedsdata-sæt i 80% træning, 10% validering og 10% test ved hjælp af StratifiedShuffleSplit. Det sikrer, at fordelingen af nyhedstyper bevares i alle datasæt, hvilket forbedrer modelens præcision."
   ]
  },
  {
   "cell_type": "code",
   "execution_count": 8,
   "metadata": {},
   "outputs": [
    {
     "name": "stdout",
     "output_type": "stream",
     "text": [
      "Antal NaN efter fjernelse: 8580\n",
      "Dataerne der brugt for triaaning, som svar til 80: 757769\n",
      "Dataerne der blive brugt for (validering+ test): 189443 rækker\n",
      "Dataerne der brugt for validering (10%): 94721 rækker\n",
      "Dataerne der blive brugt for test (10%): 94722 rækker\n"
     ]
    }
   ],
   "source": [
    "# Koden køres på rensede data, derfor skal tidligere opgaver være kørt for at denne del kan fungere.\n",
    "# Det kræver, at pakken installeres med: \"pip install scikit-learn\"\n",
    "\n",
    "from sklearn.model_selection import StratifiedShuffleSplit\n",
    "\n",
    "#fejner NaNa i texten, fordi det give fejl, når skulle dele opgave toi træning og test modellen\n",
    "news_sample = news_sample.dropna(subset=['cleaned', 'type'])\n",
    "# Bekræft at NaN er fjernet\n",
    "print(\"Antal NaN efter fjernelse:\", news_sample.isna().sum().sum())\n",
    "\n",
    "\n",
    "# Vi bruge trining modeken på cleand data \n",
    "X= news_sample ['cleaned']\n",
    "y= news_sample ['type'] #Brug nyhedstype som labels\n",
    "#vi er nyskerige om, hvor mange % af hver nyhedstype\n",
    "#print(y.value_counts(normalize=True))\n",
    "\n",
    "# Opret StratifiedShuffleSplit objekt\n",
    "split= StratifiedShuffleSplit(n_splits=1, test_size=0.2, random_state=42)\n",
    "for train_index, temp_index in split.split(X, y):\n",
    "    X_train, X_temp = X.iloc[train_index], X.iloc[temp_index]\n",
    "    y_train, y_temp = y.iloc[train_index], y.iloc[temp_index]\n",
    "    \n",
    "\n",
    "# Størrelsen på splits\n",
    "print(f\"Dataerne der brugt for triaaning, som svar til 80: {len(X_train)}\")\n",
    "print(f\"Dataerne der blive brugt for (validering+ test): {len(X_temp)} rækker\")\n",
    "\n",
    "\n",
    "\n",
    "\n",
    "# Opret StratifiedShuffleSplit objekt\n",
    "split= StratifiedShuffleSplit(n_splits=1, test_size=0.5, random_state=42)\n",
    "for val_index, test_index in split.split(X_temp, y_temp):\n",
    "    X_val, X_test = X_temp.iloc[val_index], X_temp.iloc[test_index]\n",
    "    y_val, y_test = y_temp.iloc[val_index], y_temp.iloc[test_index]\n",
    "\n",
    "# Størrelsen på splits\n",
    "print(f\"Dataerne der brugt for validering (10%): {len(X_val)} rækker\")\n",
    "print(f\"Dataerne der blive brugt for test (10%): {len(X_test)} rækker\")"
   ]
  }
 ],
 "metadata": {
  "kernelspec": {
   "display_name": ".venv",
   "language": "python",
   "name": "python3"
  },
  "language_info": {
   "codemirror_mode": {
    "name": "ipython",
    "version": 3
   },
   "file_extension": ".py",
   "mimetype": "text/x-python",
   "name": "python",
   "nbconvert_exporter": "python",
   "pygments_lexer": "ipython3",
   "version": "3.12.5"
  }
 },
 "nbformat": 4,
 "nbformat_minor": 2
}
